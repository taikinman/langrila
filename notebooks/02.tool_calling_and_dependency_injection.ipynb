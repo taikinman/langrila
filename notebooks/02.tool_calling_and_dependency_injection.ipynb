{
 "cells": [
  {
   "cell_type": "code",
   "execution_count": 1,
   "metadata": {},
   "outputs": [],
   "source": [
    "import os\n",
    "import warnings\n",
    "\n",
    "warnings.simplefilter(action=\"ignore\")\n",
    "os.environ[\"GRPC_VERBOSITY\"] = \"NONE\""
   ]
  },
  {
   "cell_type": "markdown",
   "metadata": {},
   "source": [
    "# Prerequisites"
   ]
  },
  {
   "cell_type": "markdown",
   "metadata": {},
   "source": [
    "Please make sure your environmental variables and dependencies are ready to use LLM services. Name of the environmental variables is arbitraray because langrila modules accepts that name as an argument."
   ]
  },
  {
   "cell_type": "code",
   "execution_count": 2,
   "metadata": {},
   "outputs": [
    {
     "data": {
      "text/plain": [
       "True"
      ]
     },
     "execution_count": 2,
     "metadata": {},
     "output_type": "execute_result"
    }
   ],
   "source": [
    "from dotenv import load_dotenv\n",
    "\n",
    "load_dotenv(\"../../.env_api\")"
   ]
  },
  {
   "cell_type": "markdown",
   "metadata": {},
   "source": [
    "# Import modules"
   ]
  },
  {
   "cell_type": "code",
   "execution_count": 3,
   "metadata": {},
   "outputs": [],
   "source": [
    "from langrila import Agent, Tool\n",
    "from langrila.anthropic import AnthropicClient\n",
    "from langrila.aws import BedrockClient\n",
    "from langrila.google import GoogleClient\n",
    "from langrila.openai import OpenAIClient"
   ]
  },
  {
   "cell_type": "markdown",
   "metadata": {},
   "source": [
    "# Define tools"
   ]
  },
  {
   "cell_type": "markdown",
   "metadata": {},
   "source": [
    "In this example, we use dummy tools as shown below. In langrila, tool's schema is generated from the tool's type hint and docstring in default, so it's important to write in details. Here is an example using dummy tools."
   ]
  },
  {
   "cell_type": "markdown",
   "metadata": {},
   "source": [
    "Tool can have a pydantic model in its arguments. Nested pydantic model is also acceptable."
   ]
  },
  {
   "cell_type": "code",
   "execution_count": 4,
   "metadata": {},
   "outputs": [],
   "source": [
    "import random\n",
    "from enum import Enum\n",
    "\n",
    "from pydantic import BaseModel, Field\n",
    "\n",
    "\n",
    "class MusicGenre(str, Enum):\n",
    "    rock = \"rock\"\n",
    "    pop = \"pop\"\n",
    "    jazz = \"jazz\"\n",
    "    classical = \"classical\"\n",
    "    hip_hop = \"hip-hop\"\n",
    "\n",
    "\n",
    "class EqualizerSettings(BaseModel):\n",
    "    hz_100: int = Field(0, ge=-12, le=12, description=\"The 100 Hz band in dB.\")\n",
    "    hz_200: int = Field(0, ge=-12, le=12, description=\"The 200 Hz band in dB.\")\n",
    "    hz_400: int = Field(0, ge=-12, le=12, description=\"The 400 Hz band in dB.\")\n",
    "    hz_800: int = Field(0, ge=-12, le=12, description=\"The 800 Hz band in dB.\")\n",
    "    hz_1600: int = Field(0, ge=-12, le=12, description=\"The 1600 Hz band in dB.\")\n",
    "    hz_3200: int = Field(0, ge=-12, le=12, description=\"The 3200 Hz band in dB.\")\n",
    "    hz_6400: int = Field(0, ge=-12, le=12, description=\"The 4000 Hz band in dB.\")\n",
    "\n",
    "\n",
    "def start_music(genre: MusicGenre) -> str:\n",
    "    \"\"\"\n",
    "    Start playing a random music with the given the genre.\n",
    "\n",
    "    Parameters\n",
    "    ----------\n",
    "    genre : MusicGenre\n",
    "        The genre of the music to play.\n",
    "\n",
    "    Returns\n",
    "    ----------\n",
    "    str\n",
    "        A message indicating that the music has started.\n",
    "    \"\"\"\n",
    "\n",
    "    bpms = {\n",
    "        MusicGenre.rock: 150,\n",
    "        MusicGenre.pop: 110,\n",
    "        MusicGenre.jazz: 120,\n",
    "        MusicGenre.classical: 76,\n",
    "        MusicGenre.hip_hop: 100,\n",
    "    }\n",
    "\n",
    "    return (\n",
    "        f\"Starting music! Genre: {genre}, \"\n",
    "        f\"Volume: {random.uniform(0.0, 1.0)}, \"\n",
    "        f\"BPM: {bpms[genre]}\"\n",
    "    )\n",
    "\n",
    "\n",
    "def change_music_volume(volume: float) -> str:\n",
    "    \"\"\"\n",
    "    Change the music volume.\n",
    "\n",
    "    Parameters\n",
    "    ----------\n",
    "    volume : float\n",
    "        The new volume to set. It should be between 0.0 and 1.0.\n",
    "\n",
    "    Returns\n",
    "    ----------\n",
    "    str\n",
    "        A message indicating that the volume has been changed.\n",
    "    \"\"\"\n",
    "    return f\"Changing volume to {volume}\"\n",
    "\n",
    "\n",
    "def change_music(genre: MusicGenre) -> str:\n",
    "    \"\"\"\n",
    "    Change the music.\n",
    "\n",
    "    Parameters\n",
    "    ----------\n",
    "    genre : MusicGenre\n",
    "        The genre of the music to change to.\n",
    "\n",
    "    Returns\n",
    "    ----------\n",
    "    str\n",
    "        A message indicating that the music has been changed.\n",
    "    \"\"\"\n",
    "    bpm_ranges = {\n",
    "        MusicGenre.rock: (120, 180),\n",
    "        MusicGenre.pop: (80, 140),\n",
    "        MusicGenre.jazz: (70, 120),\n",
    "        MusicGenre.classical: (70, 100),\n",
    "        MusicGenre.hip_hop: (80, 120),\n",
    "    }\n",
    "\n",
    "    new_bpm = random.randint(bpm_ranges[genre][0], bpm_ranges[genre][1])\n",
    "\n",
    "    return f\"Turning to another music! Genre: {genre}, BPM: {new_bpm}\"\n",
    "\n",
    "\n",
    "def change_equalizer_settings(settings: EqualizerSettings) -> str:\n",
    "    \"\"\"\n",
    "    Change the equalizer settings of the music.\n",
    "\n",
    "    Parameters\n",
    "    ----------\n",
    "    settings : EqualizerSettings\n",
    "        The new equalizer settings to set.\n",
    "\n",
    "    Returns\n",
    "    ----------\n",
    "    str\n",
    "        A message indicating that the equalizer settings have been changed.\n",
    "    \"\"\"\n",
    "    return f\"Changing equalizer settings to {settings.model_dump(exclude_none=True, exclude_unset=True)}\""
   ]
  },
  {
   "cell_type": "markdown",
   "metadata": {},
   "source": [
    "# Instantiating Agent"
   ]
  },
  {
   "cell_type": "markdown",
   "metadata": {},
   "source": [
    "Client modules"
   ]
  },
  {
   "cell_type": "code",
   "execution_count": 5,
   "metadata": {},
   "outputs": [],
   "source": [
    "# For OpenAI\n",
    "openai_client = OpenAIClient(api_key_env_name=\"OPENAI_API_KEY\")\n",
    "\n",
    "# For Azure OpenAI\n",
    "azure_openai_client = OpenAIClient(\n",
    "    api_key_env_name=\"AZURE_API_KEY\",\n",
    "    api_type=\"azure\",\n",
    "    azure_api_version=\"2024-11-01-preview\",\n",
    "    azure_endpoint_env_name=\"AZURE_ENDPOINT\",\n",
    "    azure_deployment_env_name=\"AZURE_DEPLOYMENT_ID\",\n",
    ")\n",
    "\n",
    "# For Gemini on Google AI Studio\n",
    "google_dev_client = GoogleClient(\n",
    "    api_key_env_name=\"GEMINI_API_KEY\",\n",
    ")\n",
    "\n",
    "# For Gemini on Google Cloud VertexAI\n",
    "vertexai_client = GoogleClient(\n",
    "    api_type=\"vertexai\",\n",
    "    project_id_env_name=\"GOOGLE_CLOUD_PROJECT\",\n",
    "    location=\"us-central1\",\n",
    ")\n",
    "\n",
    "# For Claude of Anthropic\n",
    "anthropic_client = AnthropicClient(\n",
    "    api_key_env_name=\"ANTHROPIC_API_KEY\",\n",
    ")\n",
    "\n",
    "# For Claude of Amazon Bedrock\n",
    "claude_bedrock_client = AnthropicClient(\n",
    "    api_type=\"bedrock\",\n",
    "    aws_access_key_env_name=\"AWS_ACCESS_KEY\",\n",
    "    aws_secret_key_env_name=\"AWS_SECRET_KEY\",\n",
    "    aws_region=\"us-east-1\",\n",
    ")\n",
    "\n",
    "bedrock_client = BedrockClient(\n",
    "    region_name=\"us-east-1\",\n",
    "    aws_access_key_env_name=\"AWS_ACCESS_KEY\",\n",
    "    aws_secret_key_env_name=\"AWS_SECRET_KEY\",\n",
    ")"
   ]
  },
  {
   "cell_type": "markdown",
   "metadata": {},
   "source": [
    "Tools must be specified when the agent is initialized."
   ]
  },
  {
   "cell_type": "code",
   "execution_count": 6,
   "metadata": {},
   "outputs": [],
   "source": [
    "tools = [start_music, change_music_volume, change_music, change_equalizer_settings]"
   ]
  },
  {
   "cell_type": "code",
   "execution_count": 7,
   "metadata": {},
   "outputs": [],
   "source": [
    "openai_agent = Agent(\n",
    "    client=openai_client,\n",
    "    model=\"gpt-4o-mini-2024-07-18\",\n",
    "    temperature=0.0,\n",
    "    tools=tools,\n",
    ")"
   ]
  },
  {
   "cell_type": "markdown",
   "metadata": {},
   "source": [
    "# Generating text with tool calling"
   ]
  },
  {
   "cell_type": "code",
   "execution_count": 8,
   "metadata": {},
   "outputs": [],
   "source": [
    "prompt = \"Play some music, well, play jazz music and prefer to low volume.\""
   ]
  },
  {
   "cell_type": "markdown",
   "metadata": {},
   "source": [
    "## Synchronous, non-streaming text generation"
   ]
  },
  {
   "cell_type": "code",
   "execution_count": 9,
   "metadata": {},
   "outputs": [
    {
     "name": "stderr",
     "output_type": "stream",
     "text": [
      "\u001b[32m[2025-01-14 10:01:48]\u001b[0m \u001b[34m\u001b[1mDEBUG | Prompt: [TextPrompt(text='Play some music, well, play jazz music and prefer to low volume.')]\u001b[0m\n",
      "\u001b[32m[2025-01-14 10:01:48]\u001b[0m \u001b[1mINFO | root: Generating text\u001b[0m\n",
      "\u001b[32m[2025-01-14 10:01:50]\u001b[0m \u001b[34m\u001b[1mDEBUG | Response: [ToolCallResponse(name='start_music', args='{\"genre\": \"jazz\"}', call_id='call_TyHpbVnPPbGNZjDBJcAXSkX4'), ToolCallResponse(name='change_music_volume', args='{\"volume\": 0.2}', call_id='call_klWS0vSxbXDK3SprGwRWMWFK')]\u001b[0m\n",
      "\u001b[32m[2025-01-14 10:01:50]\u001b[0m \u001b[1mINFO | Running tool: start_music\u001b[0m\n",
      "\u001b[32m[2025-01-14 10:01:50]\u001b[0m \u001b[1mINFO | Tool: start_music successfully ran.\u001b[0m\n",
      "\u001b[32m[2025-01-14 10:01:50]\u001b[0m \u001b[1mINFO | Running tool: change_music_volume\u001b[0m\n",
      "\u001b[32m[2025-01-14 10:01:50]\u001b[0m \u001b[1mINFO | Tool: change_music_volume successfully ran.\u001b[0m\n",
      "\u001b[32m[2025-01-14 10:01:50]\u001b[0m \u001b[34m\u001b[1mDEBUG | Prompt: [ToolUsePrompt(output='Starting music! Genre: jazz, Volume: 0.04480601438948806, BPM: 120', error=None, call_id='call_TyHpbVnPPbGNZjDBJcAXSkX4', args='{\"genre\": \"jazz\"}', name='start_music'), ToolUsePrompt(output='Changing volume to 0.2', error=None, call_id='call_klWS0vSxbXDK3SprGwRWMWFK', args='{\"volume\": 0.2}', name='change_music_volume')]\u001b[0m\n",
      "\u001b[32m[2025-01-14 10:01:50]\u001b[0m \u001b[1mINFO | root: Generating text\u001b[0m\n",
      "\u001b[32m[2025-01-14 10:01:50]\u001b[0m \u001b[34m\u001b[1mDEBUG | Response: [TextResponse(text=\"I've started playing some jazz music at a low volume. Enjoy the tunes!\")]\u001b[0m\n"
     ]
    },
    {
     "name": "stdout",
     "output_type": "stream",
     "text": [
      "I've started playing some jazz music at a low volume. Enjoy the tunes!\n"
     ]
    }
   ],
   "source": [
    "response = openai_agent.generate_text(prompt)\n",
    "\n",
    "print(response.contents[0].text)"
   ]
  },
  {
   "cell_type": "markdown",
   "metadata": {},
   "source": [
    "Agent finally generates text response. Steps the agent generates final answer is like: \n",
    "\n",
    "1. Feed user's input\n",
    "2. Call tools\n",
    "3. Validate args with the pydantic schema validator\n",
    "4. Actually run called tools\n",
    "5. Generate text response based on the tool calling results"
   ]
  },
  {
   "cell_type": "markdown",
   "metadata": {},
   "source": [
    "You can specify `planning` argument when the agent is instantiated. If `planning` is True, the agent makes a plan to answer the user's input based on the given tools, and then generates answer."
   ]
  },
  {
   "cell_type": "code",
   "execution_count": 10,
   "metadata": {},
   "outputs": [],
   "source": [
    "openai_agent = Agent(\n",
    "    client=openai_client,\n",
    "    model=\"gpt-4o-mini-2024-07-18\",\n",
    "    temperature=0.0,\n",
    "    tools=tools,\n",
    "    planning=True,  # <- Enable planning\n",
    ")"
   ]
  },
  {
   "cell_type": "code",
   "execution_count": 11,
   "metadata": {},
   "outputs": [
    {
     "name": "stderr",
     "output_type": "stream",
     "text": [
      "\u001b[32m[2025-01-14 10:01:51]\u001b[0m \u001b[34m\u001b[1mDEBUG | Prompt: [TextPrompt(text='Please make a concise plan to answer the following question/requirement, considering the conversation history.\\nYou can invoke the sub-agents or tools to answer the questions/requirements shown in the capabilities section.\\nAgent has no description while the tools have a description.\\n\\nQuestion/Requirement:\\nPlay some music, well, play jazz music and prefer to low volume.\\n\\nCapabilities:\\n- start_music: Start playing a random music with the given the genre.\\n- change_music_volume: Change the music volume.\\n- change_music: Change the music.\\n- change_equalizer_settings: Change the equalizer settings of the music.\\n')]\u001b[0m\n",
      "\u001b[32m[2025-01-14 10:01:51]\u001b[0m \u001b[1mINFO | root: Generating text\u001b[0m\n",
      "\u001b[32m[2025-01-14 10:01:53]\u001b[0m \u001b[34m\u001b[1mDEBUG | Response: [TextResponse(text='### Plan to Fulfill the Requirement\\n\\n1. **Start Playing Jazz Music**: Use the `start_music` tool to begin playing jazz music.\\n2. **Set Volume to Low**: Use the `change_music_volume` tool to adjust the volume to a low level.\\n\\n### Execution Steps\\n1. Invoke `start_music` with the genre set to \"jazz\".\\n2. Invoke `change_music_volume` to set the volume to low.')]\u001b[0m\n",
      "\u001b[32m[2025-01-14 10:01:53]\u001b[0m \u001b[34m\u001b[1mDEBUG | Prompt: [TextPrompt(text='Put the plan into action.')]\u001b[0m\n",
      "\u001b[32m[2025-01-14 10:01:53]\u001b[0m \u001b[1mINFO | root: Generating text\u001b[0m\n",
      "\u001b[32m[2025-01-14 10:01:54]\u001b[0m \u001b[34m\u001b[1mDEBUG | Response: [ToolCallResponse(name='start_music', args='{\"genre\": \"jazz\"}', call_id='call_sBFdQby7stqoZXH1p7JLl5zO'), ToolCallResponse(name='change_music_volume', args='{\"volume\": 0.2}', call_id='call_UnNl3d5xcDukIeoH8Hj9XsGh')]\u001b[0m\n",
      "\u001b[32m[2025-01-14 10:01:54]\u001b[0m \u001b[1mINFO | Running tool: start_music\u001b[0m\n",
      "\u001b[32m[2025-01-14 10:01:54]\u001b[0m \u001b[1mINFO | Tool: start_music successfully ran.\u001b[0m\n",
      "\u001b[32m[2025-01-14 10:01:54]\u001b[0m \u001b[1mINFO | Running tool: change_music_volume\u001b[0m\n",
      "\u001b[32m[2025-01-14 10:01:54]\u001b[0m \u001b[1mINFO | Tool: change_music_volume successfully ran.\u001b[0m\n",
      "\u001b[32m[2025-01-14 10:01:54]\u001b[0m \u001b[34m\u001b[1mDEBUG | Prompt: [ToolUsePrompt(output='Starting music! Genre: jazz, Volume: 0.7031482743510598, BPM: 120', error=None, call_id='call_sBFdQby7stqoZXH1p7JLl5zO', args='{\"genre\": \"jazz\"}', name='start_music'), ToolUsePrompt(output='Changing volume to 0.2', error=None, call_id='call_UnNl3d5xcDukIeoH8Hj9XsGh', args='{\"volume\": 0.2}', name='change_music_volume')]\u001b[0m\n",
      "\u001b[32m[2025-01-14 10:01:54]\u001b[0m \u001b[1mINFO | root: Generating text\u001b[0m\n",
      "\u001b[32m[2025-01-14 10:01:55]\u001b[0m \u001b[34m\u001b[1mDEBUG | Response: [TextResponse(text='Jazz music has started playing, and the volume has been set to a low level. Enjoy the music!')]\u001b[0m\n"
     ]
    },
    {
     "name": "stdout",
     "output_type": "stream",
     "text": [
      "Jazz music has started playing, and the volume has been set to a low level. Enjoy the music!\n"
     ]
    }
   ],
   "source": [
    "response = openai_agent.generate_text(prompt)\n",
    "\n",
    "print(response.contents[0].text)"
   ]
  },
  {
   "cell_type": "markdown",
   "metadata": {},
   "source": [
    "By planning, `start_music` tool was called at the first step, then `change_bpm ` tool and `change_music` tool was."
   ]
  },
  {
   "cell_type": "markdown",
   "metadata": {},
   "source": [
    "Here is the default planning prompt."
   ]
  },
  {
   "cell_type": "code",
   "execution_count": 12,
   "metadata": {},
   "outputs": [
    {
     "name": "stdout",
     "output_type": "stream",
     "text": [
      "Please make a concise plan to answer the following question/requirement, considering the conversation history.\n",
      "You can invoke the sub-agents or tools to answer the questions/requirements shown in the capabilities section.\n",
      "Agent has no description while the tools have a description.\n",
      "\n",
      "Question/Requirement:\n",
      "{user_input}\n",
      "\n",
      "Capabilities:\n",
      "{capabilities}\n"
     ]
    }
   ],
   "source": [
    "from langrila import AgentConfig\n",
    "\n",
    "print(AgentConfig().internal_prompt.planning)"
   ]
  },
  {
   "cell_type": "markdown",
   "metadata": {},
   "source": [
    "This AgentConfig is configurable and customized config can be passes to the agent when instantiating as mentioned in [01.introduction.ipynb](./01.introduction.ipynb)."
   ]
  },
  {
   "cell_type": "markdown",
   "metadata": {},
   "source": [
    "## Asynchronous, non-streaming text generation"
   ]
  },
  {
   "cell_type": "code",
   "execution_count": 13,
   "metadata": {},
   "outputs": [
    {
     "name": "stderr",
     "output_type": "stream",
     "text": [
      "\u001b[32m[2025-01-14 10:01:55]\u001b[0m \u001b[34m\u001b[1mDEBUG | Prompt: [TextPrompt(text='Please make a concise plan to answer the following question/requirement, considering the conversation history.\\nYou can invoke the sub-agents or tools to answer the questions/requirements shown in the capabilities section.\\nAgent has no description while the tools have a description.\\n\\nQuestion/Requirement:\\nPlay some music, well, play jazz music and prefer to low volume.\\n\\nCapabilities:\\n- start_music: Start playing a random music with the given the genre.\\n- change_music_volume: Change the music volume.\\n- change_music: Change the music.\\n- change_equalizer_settings: Change the equalizer settings of the music.\\n')]\u001b[0m\n",
      "\u001b[32m[2025-01-14 10:01:55]\u001b[0m \u001b[1mINFO | root: Generating text\u001b[0m\n",
      "\u001b[32m[2025-01-14 10:01:57]\u001b[0m \u001b[34m\u001b[1mDEBUG | Response: [TextResponse(text='### Plan to Fulfill the Requirement\\n\\n1. **Start Playing Jazz Music**: Use the `start_music` tool to begin playing jazz music.\\n2. **Set Volume to Low**: Use the `change_music_volume` tool to adjust the volume to a low level.\\n\\n### Execution Steps\\n- Invoke `start_music` with the genre set to \"jazz\".\\n- Invoke `change_music_volume` to set the volume to low.')]\u001b[0m\n",
      "\u001b[32m[2025-01-14 10:01:57]\u001b[0m \u001b[34m\u001b[1mDEBUG | Prompt: [TextPrompt(text='Put the plan into action.')]\u001b[0m\n",
      "\u001b[32m[2025-01-14 10:01:57]\u001b[0m \u001b[1mINFO | root: Generating text\u001b[0m\n",
      "\u001b[32m[2025-01-14 10:01:59]\u001b[0m \u001b[34m\u001b[1mDEBUG | Response: [ToolCallResponse(name='start_music', args='{\"genre\": \"jazz\"}', call_id='call_5N3yUCLdG5Psydxzf6XnlxeT'), ToolCallResponse(name='change_music_volume', args='{\"volume\": 0.2}', call_id='call_nrnDgxEyFzKNnuMSB8DjDF2s')]\u001b[0m\n",
      "\u001b[32m[2025-01-14 10:01:59]\u001b[0m \u001b[1mINFO | Running tool: start_music\u001b[0m\n",
      "\u001b[32m[2025-01-14 10:01:59]\u001b[0m \u001b[1mINFO | Tool: start_music successfully ran.\u001b[0m\n",
      "\u001b[32m[2025-01-14 10:01:59]\u001b[0m \u001b[1mINFO | Running tool: change_music_volume\u001b[0m\n",
      "\u001b[32m[2025-01-14 10:01:59]\u001b[0m \u001b[1mINFO | Tool: change_music_volume successfully ran.\u001b[0m\n",
      "\u001b[32m[2025-01-14 10:01:59]\u001b[0m \u001b[34m\u001b[1mDEBUG | Prompt: [ToolUsePrompt(output='Starting music! Genre: jazz, Volume: 0.08776849290418431, BPM: 120', error=None, call_id='call_5N3yUCLdG5Psydxzf6XnlxeT', args='{\"genre\": \"jazz\"}', name='start_music'), ToolUsePrompt(output='Changing volume to 0.2', error=None, call_id='call_nrnDgxEyFzKNnuMSB8DjDF2s', args='{\"volume\": 0.2}', name='change_music_volume')]\u001b[0m\n",
      "\u001b[32m[2025-01-14 10:01:59]\u001b[0m \u001b[1mINFO | root: Generating text\u001b[0m\n",
      "\u001b[32m[2025-01-14 10:01:59]\u001b[0m \u001b[34m\u001b[1mDEBUG | Response: [TextResponse(text='Jazz music has started playing, and the volume has been set to a low level. Enjoy the music!')]\u001b[0m\n"
     ]
    },
    {
     "name": "stdout",
     "output_type": "stream",
     "text": [
      "Jazz music has started playing, and the volume has been set to a low level. Enjoy the music!\n"
     ]
    }
   ],
   "source": [
    "response = await openai_agent.generate_text_async(prompt)\n",
    "\n",
    "print(response.contents[0].text)"
   ]
  },
  {
   "cell_type": "markdown",
   "metadata": {},
   "source": [
    "## Synchronous, streaming text generation"
   ]
  },
  {
   "cell_type": "code",
   "execution_count": 14,
   "metadata": {},
   "outputs": [],
   "source": [
    "from langrila import TextResponse, ToolCallResponse"
   ]
  },
  {
   "cell_type": "code",
   "execution_count": 15,
   "metadata": {},
   "outputs": [
    {
     "name": "stderr",
     "output_type": "stream",
     "text": [
      "\u001b[32m[2025-01-14 10:01:59]\u001b[0m \u001b[34m\u001b[1mDEBUG | Prompt: [TextPrompt(text='Please make a concise plan to answer the following question/requirement, considering the conversation history.\\nYou can invoke the sub-agents or tools to answer the questions/requirements shown in the capabilities section.\\nAgent has no description while the tools have a description.\\n\\nQuestion/Requirement:\\nPlay some music, well, play jazz music and prefer to low volume.\\n\\nCapabilities:\\n- start_music: Start playing a random music with the given the genre.\\n- change_music_volume: Change the music volume.\\n- change_music: Change the music.\\n- change_equalizer_settings: Change the equalizer settings of the music.\\n')]\u001b[0m\n",
      "\u001b[32m[2025-01-14 10:01:59]\u001b[0m \u001b[1mINFO | root: Generating text\u001b[0m\n",
      "\u001b[32m[2025-01-14 10:02:01]\u001b[0m \u001b[34m\u001b[1mDEBUG | Response: [TextResponse(text='### Plan to Fulfill the Requirement\\n\\n1. **Start Playing Jazz Music**: Use the `start_music` tool to begin playing jazz music.\\n2. **Set Volume to Low**: Use the `change_music_volume` tool to adjust the volume to a low level.\\n\\n### Execution Steps\\n- Invoke `start_music` with the genre set to \"jazz\".\\n- Invoke `change_music_volume` to set the volume to low.')]\u001b[0m\n",
      "\u001b[32m[2025-01-14 10:02:01]\u001b[0m \u001b[34m\u001b[1mDEBUG | Prompt: [TextPrompt(text='Put the plan into action.')]\u001b[0m\n",
      "\u001b[32m[2025-01-14 10:02:01]\u001b[0m \u001b[1mINFO | root: Generating text\u001b[0m\n"
     ]
    },
    {
     "name": "stdout",
     "output_type": "stream",
     "text": [
      "{\"ge\n",
      "{\"genre\":\n",
      "{\"genre\": \"jazz\n",
      "{\"genre\": \"jazz\"}\n",
      "{\"vo\n",
      "{\"volume\"\n",
      "{\"volume\": 0.2}\n"
     ]
    },
    {
     "name": "stderr",
     "output_type": "stream",
     "text": [
      "\u001b[32m[2025-01-14 10:02:02]\u001b[0m \u001b[34m\u001b[1mDEBUG | Response: [ToolCallResponse(name='start_music', args='{\"genre\": \"jazz\"}', call_id='call_v9ij45yjlQaXvH4Fo7VRa1Fx'), ToolCallResponse(name='change_music_volume', args='{\"volume\": 0.2}', call_id='call_EgypEw1WxRmXTdnANOEEUgpn')]\u001b[0m\n",
      "\u001b[32m[2025-01-14 10:02:02]\u001b[0m \u001b[1mINFO | Running tool: start_music\u001b[0m\n",
      "\u001b[32m[2025-01-14 10:02:02]\u001b[0m \u001b[1mINFO | Tool: start_music successfully ran.\u001b[0m\n",
      "\u001b[32m[2025-01-14 10:02:02]\u001b[0m \u001b[1mINFO | Running tool: change_music_volume\u001b[0m\n",
      "\u001b[32m[2025-01-14 10:02:02]\u001b[0m \u001b[1mINFO | Tool: change_music_volume successfully ran.\u001b[0m\n",
      "\u001b[32m[2025-01-14 10:02:02]\u001b[0m \u001b[34m\u001b[1mDEBUG | Prompt: [ToolUsePrompt(output='Starting music! Genre: jazz, Volume: 0.4757927049110693, BPM: 120', error=None, call_id='call_v9ij45yjlQaXvH4Fo7VRa1Fx', args='{\"genre\": \"jazz\"}', name='start_music'), ToolUsePrompt(output='Changing volume to 0.2', error=None, call_id='call_EgypEw1WxRmXTdnANOEEUgpn', args='{\"volume\": 0.2}', name='change_music_volume')]\u001b[0m\n",
      "\u001b[32m[2025-01-14 10:02:02]\u001b[0m \u001b[1mINFO | root: Generating text\u001b[0m\n"
     ]
    },
    {
     "name": "stdout",
     "output_type": "stream",
     "text": [
      "Jazz\n",
      "Jazz music\n",
      "Jazz music has\n",
      "Jazz music has started\n",
      "Jazz music has started playing\n",
      "Jazz music has started playing,\n",
      "Jazz music has started playing, and\n",
      "Jazz music has started playing, and the\n",
      "Jazz music has started playing, and the volume\n",
      "Jazz music has started playing, and the volume has\n",
      "Jazz music has started playing, and the volume has been\n",
      "Jazz music has started playing, and the volume has been set\n",
      "Jazz music has started playing, and the volume has been set to\n",
      "Jazz music has started playing, and the volume has been set to a\n",
      "Jazz music has started playing, and the volume has been set to a low\n",
      "Jazz music has started playing, and the volume has been set to a low level\n",
      "Jazz music has started playing, and the volume has been set to a low level.\n",
      "Jazz music has started playing, and the volume has been set to a low level. Enjoy\n",
      "Jazz music has started playing, and the volume has been set to a low level. Enjoy the\n",
      "Jazz music has started playing, and the volume has been set to a low level. Enjoy the music\n",
      "Jazz music has started playing, and the volume has been set to a low level. Enjoy the music!\n"
     ]
    },
    {
     "name": "stderr",
     "output_type": "stream",
     "text": [
      "\u001b[32m[2025-01-14 10:02:03]\u001b[0m \u001b[34m\u001b[1mDEBUG | Response: [TextResponse(text='Jazz music has started playing, and the volume has been set to a low level. Enjoy the music!')]\u001b[0m\n"
     ]
    },
    {
     "name": "stdout",
     "output_type": "stream",
     "text": [
      "Jazz music has started playing, and the volume has been set to a low level. Enjoy the music!\n"
     ]
    }
   ],
   "source": [
    "streamed_response = openai_agent.stream_text(prompt)\n",
    "\n",
    "for chunk in streamed_response:\n",
    "    for content in chunk.contents:\n",
    "        if isinstance(content, TextResponse):\n",
    "            print(content.text, flush=True)\n",
    "        elif isinstance(content, ToolCallResponse):\n",
    "            print(content.args, flush=True)"
   ]
  },
  {
   "cell_type": "code",
   "execution_count": 16,
   "metadata": {},
   "outputs": [
    {
     "name": "stderr",
     "output_type": "stream",
     "text": [
      "\u001b[32m[2025-01-14 10:02:03]\u001b[0m \u001b[34m\u001b[1mDEBUG | Prompt: [TextPrompt(text='Please make a concise plan to answer the following question/requirement, considering the conversation history.\\nYou can invoke the sub-agents or tools to answer the questions/requirements shown in the capabilities section.\\nAgent has no description while the tools have a description.\\n\\nQuestion/Requirement:\\nPlay some music, well, play jazz music and prefer to low volume.\\n\\nCapabilities:\\n- start_music: Start playing a random music with the given the genre.\\n- change_music_volume: Change the music volume.\\n- change_music: Change the music.\\n- change_equalizer_settings: Change the equalizer settings of the music.\\n')]\u001b[0m\n",
      "\u001b[32m[2025-01-14 10:02:03]\u001b[0m \u001b[1mINFO | root: Generating text\u001b[0m\n",
      "\u001b[32m[2025-01-14 10:02:05]\u001b[0m \u001b[34m\u001b[1mDEBUG | Response: [TextResponse(text='### Plan to Fulfill the Requirement\\n\\n1. **Start Playing Jazz Music**: Use the `start_music` tool to begin playing jazz music.\\n2. **Set Volume to Low**: Use the `change_music_volume` tool to adjust the volume to a low level.\\n\\n### Execution Steps\\n1. Invoke `start_music` with the genre set to \"jazz\".\\n2. Invoke `change_music_volume` to set the volume to low.')]\u001b[0m\n",
      "\u001b[32m[2025-01-14 10:02:05]\u001b[0m \u001b[34m\u001b[1mDEBUG | Prompt: [TextPrompt(text='Put the plan into action.')]\u001b[0m\n",
      "\u001b[32m[2025-01-14 10:02:05]\u001b[0m \u001b[1mINFO | root: Generating text\u001b[0m\n"
     ]
    },
    {
     "name": "stdout",
     "output_type": "stream",
     "text": [
      "{\"ge\n",
      "{\"genre\":\n",
      "{\"genre\": \"jazz\n",
      "{\"genre\": \"jazz\"}\n",
      "{\"vo\n",
      "{\"volume\"\n",
      "{\"volume\": 0.2}\n"
     ]
    },
    {
     "name": "stderr",
     "output_type": "stream",
     "text": [
      "\u001b[32m[2025-01-14 10:02:06]\u001b[0m \u001b[34m\u001b[1mDEBUG | Response: [ToolCallResponse(name='start_music', args='{\"genre\": \"jazz\"}', call_id='call_BX963mFrJ9J4WtVOipVTv4WZ'), ToolCallResponse(name='change_music_volume', args='{\"volume\": 0.2}', call_id='call_T05O74psYWk3AJNxs9W1RxCB')]\u001b[0m\n",
      "\u001b[32m[2025-01-14 10:02:06]\u001b[0m \u001b[1mINFO | Running tool: start_music\u001b[0m\n",
      "\u001b[32m[2025-01-14 10:02:07]\u001b[0m \u001b[1mINFO | Tool: start_music successfully ran.\u001b[0m\n",
      "\u001b[32m[2025-01-14 10:02:07]\u001b[0m \u001b[1mINFO | Running tool: change_music_volume\u001b[0m\n",
      "\u001b[32m[2025-01-14 10:02:07]\u001b[0m \u001b[1mINFO | Tool: change_music_volume successfully ran.\u001b[0m\n",
      "\u001b[32m[2025-01-14 10:02:07]\u001b[0m \u001b[34m\u001b[1mDEBUG | Prompt: [ToolUsePrompt(output='Starting music! Genre: jazz, Volume: 0.36418591620466745, BPM: 120', error=None, call_id='call_BX963mFrJ9J4WtVOipVTv4WZ', args='{\"genre\": \"jazz\"}', name='start_music'), ToolUsePrompt(output='Changing volume to 0.2', error=None, call_id='call_T05O74psYWk3AJNxs9W1RxCB', args='{\"volume\": 0.2}', name='change_music_volume')]\u001b[0m\n",
      "\u001b[32m[2025-01-14 10:02:07]\u001b[0m \u001b[1mINFO | root: Generating text\u001b[0m\n"
     ]
    },
    {
     "name": "stdout",
     "output_type": "stream",
     "text": [
      "Jazz\n",
      "Jazz music\n",
      "Jazz music has\n",
      "Jazz music has started\n",
      "Jazz music has started playing\n",
      "Jazz music has started playing,\n",
      "Jazz music has started playing, and\n",
      "Jazz music has started playing, and the\n",
      "Jazz music has started playing, and the volume\n",
      "Jazz music has started playing, and the volume has\n",
      "Jazz music has started playing, and the volume has been\n",
      "Jazz music has started playing, and the volume has been set\n",
      "Jazz music has started playing, and the volume has been set to\n",
      "Jazz music has started playing, and the volume has been set to a\n",
      "Jazz music has started playing, and the volume has been set to a low\n",
      "Jazz music has started playing, and the volume has been set to a low level\n",
      "Jazz music has started playing, and the volume has been set to a low level.\n",
      "Jazz music has started playing, and the volume has been set to a low level. Enjoy\n",
      "Jazz music has started playing, and the volume has been set to a low level. Enjoy the\n",
      "Jazz music has started playing, and the volume has been set to a low level. Enjoy the music\n",
      "Jazz music has started playing, and the volume has been set to a low level. Enjoy the music!\n"
     ]
    },
    {
     "name": "stderr",
     "output_type": "stream",
     "text": [
      "\u001b[32m[2025-01-14 10:02:07]\u001b[0m \u001b[34m\u001b[1mDEBUG | Response: [TextResponse(text='Jazz music has started playing, and the volume has been set to a low level. Enjoy the music!')]\u001b[0m\n"
     ]
    },
    {
     "name": "stdout",
     "output_type": "stream",
     "text": [
      "Jazz music has started playing, and the volume has been set to a low level. Enjoy the music!\n"
     ]
    }
   ],
   "source": [
    "streamed_response = openai_agent.stream_text_async(prompt)\n",
    "\n",
    "async for chunk in streamed_response:\n",
    "    for content in chunk.contents:\n",
    "        if isinstance(content, TextResponse):\n",
    "            print(content.text, flush=True)\n",
    "        elif isinstance(content, ToolCallResponse):\n",
    "            print(content.args, flush=True)"
   ]
  },
  {
   "cell_type": "markdown",
   "metadata": {},
   "source": [
    "## Other client"
   ]
  },
  {
   "cell_type": "markdown",
   "metadata": {},
   "source": [
    "Other clients has the same interface."
   ]
  },
  {
   "cell_type": "code",
   "execution_count": 17,
   "metadata": {},
   "outputs": [],
   "source": [
    "# Azure OpenAI\n",
    "azure_openai_agent = Agent(\n",
    "    client=azure_openai_client,\n",
    "    model=\"gpt-4o-mini-2024-07-18\",\n",
    "    temperature=0.0,\n",
    "    tools=tools,\n",
    "    # planning=True, # as needed\n",
    ")\n",
    "\n",
    "# Google AI Studio\n",
    "google_agent = Agent(\n",
    "    client=google_dev_client,\n",
    "    model=\"gemini-2.0-flash-exp\",\n",
    "    temperature=0.0,\n",
    "    tools=tools,\n",
    "    # planning=True, # as needed\n",
    ")\n",
    "\n",
    "# Google Cloud VertexAI\n",
    "vertexai_agent = Agent(\n",
    "    client=vertexai_client,\n",
    "    model=\"gemini-2.0-flash-exp\",\n",
    "    temperature=0.0,\n",
    "    tools=tools,\n",
    "    # planning=True, # as needed\n",
    ")\n",
    "\n",
    "# Anthropic Claude\n",
    "claude_agent = Agent(\n",
    "    client=anthropic_client,\n",
    "    model=\"claude-3-5-sonnet-20240620\",\n",
    "    temperature=0.0,\n",
    "    max_tokens=500,\n",
    "    tools=tools,\n",
    "    # planning=True, # as needed\n",
    ")\n",
    "\n",
    "# Claude on Amazon Bedrock\n",
    "claude_bedrock_agent = Agent(\n",
    "    client=claude_bedrock_client,\n",
    "    model=\"anthropic.claude-3-sonnet-20240229-v1:0\",\n",
    "    temperature=0.0,\n",
    "    max_tokens=500,\n",
    "    tools=tools,\n",
    "    # planning=True, # as needed\n",
    ")\n",
    "\n",
    "bedrock_agent = Agent(\n",
    "    client=bedrock_client,\n",
    "    modelId=\"us.amazon.nova-pro-v1:0\",\n",
    "    tools=tools,\n",
    ")"
   ]
  },
  {
   "cell_type": "markdown",
   "metadata": {},
   "source": [
    "### Azure OpenAI"
   ]
  },
  {
   "cell_type": "code",
   "execution_count": 18,
   "metadata": {},
   "outputs": [
    {
     "name": "stderr",
     "output_type": "stream",
     "text": [
      "\u001b[32m[2025-01-14 10:02:08]\u001b[0m \u001b[34m\u001b[1mDEBUG | Prompt: [TextPrompt(text='Play some music, well, play jazz music and prefer to low volume.')]\u001b[0m\n",
      "\u001b[32m[2025-01-14 10:02:08]\u001b[0m \u001b[1mINFO | root: Generating text\u001b[0m\n",
      "\u001b[32m[2025-01-14 10:02:09]\u001b[0m \u001b[34m\u001b[1mDEBUG | Response: [ToolCallResponse(name='start_music', args='{\"genre\": \"jazz\"}', call_id='call_OmiA1IrFTjv3EOMiHLcKtyaR'), ToolCallResponse(name='change_music_volume', args='{\"volume\": 0.2}', call_id='call_E80ldh1h5CJYkYGQOHRJF8Ty')]\u001b[0m\n",
      "\u001b[32m[2025-01-14 10:02:09]\u001b[0m \u001b[1mINFO | Running tool: start_music\u001b[0m\n",
      "\u001b[32m[2025-01-14 10:02:09]\u001b[0m \u001b[1mINFO | Tool: start_music successfully ran.\u001b[0m\n",
      "\u001b[32m[2025-01-14 10:02:09]\u001b[0m \u001b[1mINFO | Running tool: change_music_volume\u001b[0m\n",
      "\u001b[32m[2025-01-14 10:02:09]\u001b[0m \u001b[1mINFO | Tool: change_music_volume successfully ran.\u001b[0m\n",
      "\u001b[32m[2025-01-14 10:02:10]\u001b[0m \u001b[34m\u001b[1mDEBUG | Prompt: [ToolUsePrompt(output='Starting music! Genre: jazz, Volume: 0.8923318948344966, BPM: 120', error=None, call_id='call_OmiA1IrFTjv3EOMiHLcKtyaR', args='{\"genre\": \"jazz\"}', name='start_music'), ToolUsePrompt(output='Changing volume to 0.2', error=None, call_id='call_E80ldh1h5CJYkYGQOHRJF8Ty', args='{\"volume\": 0.2}', name='change_music_volume')]\u001b[0m\n",
      "\u001b[32m[2025-01-14 10:02:10]\u001b[0m \u001b[1mINFO | root: Generating text\u001b[0m\n",
      "\u001b[32m[2025-01-14 10:02:10]\u001b[0m \u001b[34m\u001b[1mDEBUG | Response: [TextResponse(text=\"I've started playing some jazz music and set the volume to a low level. Enjoy!\")]\u001b[0m\n"
     ]
    },
    {
     "name": "stdout",
     "output_type": "stream",
     "text": [
      "I've started playing some jazz music and set the volume to a low level. Enjoy!\n"
     ]
    }
   ],
   "source": [
    "response = azure_openai_agent.generate_text(prompt)\n",
    "\n",
    "print(response.contents[0].text)"
   ]
  },
  {
   "cell_type": "code",
   "execution_count": 19,
   "metadata": {},
   "outputs": [
    {
     "name": "stderr",
     "output_type": "stream",
     "text": [
      "\u001b[32m[2025-01-14 10:02:10]\u001b[0m \u001b[34m\u001b[1mDEBUG | Prompt: [TextPrompt(text='Play some music, well, play jazz music and prefer to low volume.')]\u001b[0m\n",
      "\u001b[32m[2025-01-14 10:02:10]\u001b[0m \u001b[1mINFO | root: Generating text\u001b[0m\n",
      "\u001b[32m[2025-01-14 10:02:12]\u001b[0m \u001b[34m\u001b[1mDEBUG | Response: [ToolCallResponse(name='start_music', args='{\"genre\": \"jazz\"}', call_id='call_BnsHxNq4DOAqgVYXxda2zzkD'), ToolCallResponse(name='change_music_volume', args='{\"volume\": 0.3}', call_id='call_L9xjTel2uxJHrraCbsX7GDc7')]\u001b[0m\n",
      "\u001b[32m[2025-01-14 10:02:12]\u001b[0m \u001b[1mINFO | Running tool: start_music\u001b[0m\n",
      "\u001b[32m[2025-01-14 10:02:12]\u001b[0m \u001b[1mINFO | Tool: start_music successfully ran.\u001b[0m\n",
      "\u001b[32m[2025-01-14 10:02:12]\u001b[0m \u001b[1mINFO | Running tool: change_music_volume\u001b[0m\n",
      "\u001b[32m[2025-01-14 10:02:12]\u001b[0m \u001b[1mINFO | Tool: change_music_volume successfully ran.\u001b[0m\n",
      "\u001b[32m[2025-01-14 10:02:12]\u001b[0m \u001b[34m\u001b[1mDEBUG | Prompt: [ToolUsePrompt(output='Starting music! Genre: jazz, Volume: 0.43890562180841464, BPM: 120', error=None, call_id='call_BnsHxNq4DOAqgVYXxda2zzkD', args='{\"genre\": \"jazz\"}', name='start_music'), ToolUsePrompt(output='Changing volume to 0.3', error=None, call_id='call_L9xjTel2uxJHrraCbsX7GDc7', args='{\"volume\": 0.3}', name='change_music_volume')]\u001b[0m\n",
      "\u001b[32m[2025-01-14 10:02:12]\u001b[0m \u001b[1mINFO | root: Generating text\u001b[0m\n",
      "\u001b[32m[2025-01-14 10:02:13]\u001b[0m \u001b[34m\u001b[1mDEBUG | Response: [TextResponse(text=\"I've started playing some jazz music and set the volume to a low level. Enjoy!\")]\u001b[0m\n"
     ]
    },
    {
     "name": "stdout",
     "output_type": "stream",
     "text": [
      "I've started playing some jazz music and set the volume to a low level. Enjoy!\n"
     ]
    }
   ],
   "source": [
    "response = await azure_openai_agent.generate_text_async(prompt)\n",
    "\n",
    "print(response.contents[0].text)"
   ]
  },
  {
   "cell_type": "code",
   "execution_count": 20,
   "metadata": {},
   "outputs": [
    {
     "name": "stderr",
     "output_type": "stream",
     "text": [
      "\u001b[32m[2025-01-14 10:02:13]\u001b[0m \u001b[34m\u001b[1mDEBUG | Prompt: [TextPrompt(text='Play some music, well, play jazz music and prefer to low volume.')]\u001b[0m\n",
      "\u001b[32m[2025-01-14 10:02:13]\u001b[0m \u001b[1mINFO | root: Generating text\u001b[0m\n"
     ]
    },
    {
     "name": "stdout",
     "output_type": "stream",
     "text": [
      "{\"ge\n",
      "{\"genre\":\n",
      "{\"genre\": \"jazz\n",
      "{\"genre\": \"jazz\"}\n",
      "{\"vo\n",
      "{\"volume\"\n",
      "{\"volume\": 0.3}\n"
     ]
    },
    {
     "name": "stderr",
     "output_type": "stream",
     "text": [
      "\u001b[32m[2025-01-14 10:02:14]\u001b[0m \u001b[34m\u001b[1mDEBUG | Response: [ToolCallResponse(name='start_music', args='{\"genre\": \"jazz\"}', call_id='call_wusOorp3mOexS2iLB7rUenK3'), ToolCallResponse(name='change_music_volume', args='{\"volume\": 0.3}', call_id='call_hL35BR7Ei0f6yJofmFf2XZbT')]\u001b[0m\n",
      "\u001b[32m[2025-01-14 10:02:14]\u001b[0m \u001b[1mINFO | Running tool: start_music\u001b[0m\n",
      "\u001b[32m[2025-01-14 10:02:14]\u001b[0m \u001b[1mINFO | Tool: start_music successfully ran.\u001b[0m\n",
      "\u001b[32m[2025-01-14 10:02:14]\u001b[0m \u001b[1mINFO | Running tool: change_music_volume\u001b[0m\n",
      "\u001b[32m[2025-01-14 10:02:14]\u001b[0m \u001b[1mINFO | Tool: change_music_volume successfully ran.\u001b[0m\n",
      "\u001b[32m[2025-01-14 10:02:14]\u001b[0m \u001b[34m\u001b[1mDEBUG | Prompt: [ToolUsePrompt(output='Starting music! Genre: jazz, Volume: 0.7098992095096096, BPM: 120', error=None, call_id='call_wusOorp3mOexS2iLB7rUenK3', args='{\"genre\": \"jazz\"}', name='start_music'), ToolUsePrompt(output='Changing volume to 0.3', error=None, call_id='call_hL35BR7Ei0f6yJofmFf2XZbT', args='{\"volume\": 0.3}', name='change_music_volume')]\u001b[0m\n",
      "\u001b[32m[2025-01-14 10:02:14]\u001b[0m \u001b[1mINFO | root: Generating text\u001b[0m\n"
     ]
    },
    {
     "name": "stdout",
     "output_type": "stream",
     "text": [
      "I've\n",
      "I've started\n",
      "I've started playing\n",
      "I've started playing some\n",
      "I've started playing some jazz\n",
      "I've started playing some jazz music\n",
      "I've started playing some jazz music and\n",
      "I've started playing some jazz music and set\n",
      "I've started playing some jazz music and set the\n",
      "I've started playing some jazz music and set the volume\n",
      "I've started playing some jazz music and set the volume to\n",
      "I've started playing some jazz music and set the volume to a\n",
      "I've started playing some jazz music and set the volume to a low\n",
      "I've started playing some jazz music and set the volume to a low level\n",
      "I've started playing some jazz music and set the volume to a low level.\n",
      "I've started playing some jazz music and set the volume to a low level. Enjoy\n",
      "I've started playing some jazz music and set the volume to a low level. Enjoy!\n"
     ]
    },
    {
     "name": "stderr",
     "output_type": "stream",
     "text": [
      "\u001b[32m[2025-01-14 10:02:17]\u001b[0m \u001b[34m\u001b[1mDEBUG | Response: [TextResponse(text=\"I've started playing some jazz music and set the volume to a low level. Enjoy!\")]\u001b[0m\n"
     ]
    },
    {
     "name": "stdout",
     "output_type": "stream",
     "text": [
      "I've started playing some jazz music and set the volume to a low level. Enjoy!\n"
     ]
    }
   ],
   "source": [
    "streamed_response = azure_openai_agent.stream_text(prompt)\n",
    "\n",
    "for chunk in streamed_response:\n",
    "    for content in chunk.contents:\n",
    "        if isinstance(content, TextResponse):\n",
    "            print(content.text, flush=True)\n",
    "        elif isinstance(content, ToolCallResponse):\n",
    "            print(content.args, flush=True)"
   ]
  },
  {
   "cell_type": "code",
   "execution_count": 21,
   "metadata": {},
   "outputs": [
    {
     "name": "stderr",
     "output_type": "stream",
     "text": [
      "\u001b[32m[2025-01-14 10:02:17]\u001b[0m \u001b[34m\u001b[1mDEBUG | Prompt: [TextPrompt(text='Play some music, well, play jazz music and prefer to low volume.')]\u001b[0m\n",
      "\u001b[32m[2025-01-14 10:02:17]\u001b[0m \u001b[1mINFO | root: Generating text\u001b[0m\n"
     ]
    },
    {
     "name": "stdout",
     "output_type": "stream",
     "text": [
      "{\"ge\n",
      "{\"genre\":\n",
      "{\"genre\": \"jazz\n",
      "{\"genre\": \"jazz\"}\n",
      "{\"vo\n",
      "{\"volume\"\n",
      "{\"volume\": 0.2}\n"
     ]
    },
    {
     "name": "stderr",
     "output_type": "stream",
     "text": [
      "\u001b[32m[2025-01-14 10:02:19]\u001b[0m \u001b[34m\u001b[1mDEBUG | Response: [ToolCallResponse(name='start_music', args='{\"genre\": \"jazz\"}', call_id='call_tRd7Umsk1hZ5VqC61FdSfzO6'), ToolCallResponse(name='change_music_volume', args='{\"volume\": 0.2}', call_id='call_XQcvvQ9VWLGFjCpXV6zcmBAr')]\u001b[0m\n",
      "\u001b[32m[2025-01-14 10:02:19]\u001b[0m \u001b[1mINFO | Running tool: start_music\u001b[0m\n",
      "\u001b[32m[2025-01-14 10:02:19]\u001b[0m \u001b[1mINFO | Tool: start_music successfully ran.\u001b[0m\n",
      "\u001b[32m[2025-01-14 10:02:19]\u001b[0m \u001b[1mINFO | Running tool: change_music_volume\u001b[0m\n",
      "\u001b[32m[2025-01-14 10:02:19]\u001b[0m \u001b[1mINFO | Tool: change_music_volume successfully ran.\u001b[0m\n",
      "\u001b[32m[2025-01-14 10:02:19]\u001b[0m \u001b[34m\u001b[1mDEBUG | Prompt: [ToolUsePrompt(output='Starting music! Genre: jazz, Volume: 0.8999064370188223, BPM: 120', error=None, call_id='call_tRd7Umsk1hZ5VqC61FdSfzO6', args='{\"genre\": \"jazz\"}', name='start_music'), ToolUsePrompt(output='Changing volume to 0.2', error=None, call_id='call_XQcvvQ9VWLGFjCpXV6zcmBAr', args='{\"volume\": 0.2}', name='change_music_volume')]\u001b[0m\n",
      "\u001b[32m[2025-01-14 10:02:19]\u001b[0m \u001b[1mINFO | root: Generating text\u001b[0m\n"
     ]
    },
    {
     "name": "stdout",
     "output_type": "stream",
     "text": [
      "I've\n",
      "I've started\n",
      "I've started playing\n",
      "I've started playing some\n",
      "I've started playing some jazz\n",
      "I've started playing some jazz music\n",
      "I've started playing some jazz music and\n",
      "I've started playing some jazz music and set\n",
      "I've started playing some jazz music and set the\n",
      "I've started playing some jazz music and set the volume\n",
      "I've started playing some jazz music and set the volume to\n",
      "I've started playing some jazz music and set the volume to a\n",
      "I've started playing some jazz music and set the volume to a low\n",
      "I've started playing some jazz music and set the volume to a low level\n",
      "I've started playing some jazz music and set the volume to a low level.\n",
      "I've started playing some jazz music and set the volume to a low level. Enjoy\n",
      "I've started playing some jazz music and set the volume to a low level. Enjoy!\n"
     ]
    },
    {
     "name": "stderr",
     "output_type": "stream",
     "text": [
      "\u001b[32m[2025-01-14 10:02:20]\u001b[0m \u001b[34m\u001b[1mDEBUG | Response: [TextResponse(text=\"I've started playing some jazz music and set the volume to a low level. Enjoy!\")]\u001b[0m\n"
     ]
    },
    {
     "name": "stdout",
     "output_type": "stream",
     "text": [
      "I've started playing some jazz music and set the volume to a low level. Enjoy!\n"
     ]
    }
   ],
   "source": [
    "streamed_response = azure_openai_agent.stream_text_async(prompt)\n",
    "\n",
    "async for chunk in streamed_response:\n",
    "    for content in chunk.contents:\n",
    "        if isinstance(content, TextResponse):\n",
    "            print(content.text, flush=True)\n",
    "        elif isinstance(content, ToolCallResponse):\n",
    "            print(content.args, flush=True)"
   ]
  },
  {
   "cell_type": "markdown",
   "metadata": {},
   "source": [
    "### Gemini on Google AI Studio"
   ]
  },
  {
   "cell_type": "code",
   "execution_count": 22,
   "metadata": {},
   "outputs": [
    {
     "name": "stderr",
     "output_type": "stream",
     "text": [
      "\u001b[32m[2025-01-14 10:02:20]\u001b[0m \u001b[34m\u001b[1mDEBUG | Prompt: [TextPrompt(text='Play some music, well, play jazz music and prefer to low volume.')]\u001b[0m\n",
      "\u001b[32m[2025-01-14 10:02:20]\u001b[0m \u001b[1mINFO | root: Generating text\u001b[0m\n",
      "\u001b[32m[2025-01-14 10:02:24]\u001b[0m \u001b[34m\u001b[1mDEBUG | Response: [ToolCallResponse(name='start_music', args='{\"genre\": \"jazz\"}', call_id='sg9zNvzBCayFxkMd6TbkY96c'), ToolCallResponse(name='change_music_volume', args='{\"volume\": 0.2}', call_id='KeYeS2KZjd5xppuogVeoVyZQ')]\u001b[0m\n",
      "\u001b[32m[2025-01-14 10:02:24]\u001b[0m \u001b[1mINFO | Running tool: start_music\u001b[0m\n",
      "\u001b[32m[2025-01-14 10:02:24]\u001b[0m \u001b[1mINFO | Tool: start_music successfully ran.\u001b[0m\n",
      "\u001b[32m[2025-01-14 10:02:24]\u001b[0m \u001b[1mINFO | Running tool: change_music_volume\u001b[0m\n",
      "\u001b[32m[2025-01-14 10:02:24]\u001b[0m \u001b[1mINFO | Tool: change_music_volume successfully ran.\u001b[0m\n",
      "\u001b[32m[2025-01-14 10:02:24]\u001b[0m \u001b[34m\u001b[1mDEBUG | Prompt: [ToolUsePrompt(output='Starting music! Genre: jazz, Volume: 0.843756513071783, BPM: 120', error=None, call_id='sg9zNvzBCayFxkMd6TbkY96c', args='{\"genre\": \"jazz\"}', name='start_music'), ToolUsePrompt(output='Changing volume to 0.2', error=None, call_id='KeYeS2KZjd5xppuogVeoVyZQ', args='{\"volume\": 0.2}', name='change_music_volume')]\u001b[0m\n",
      "\u001b[32m[2025-01-14 10:02:24]\u001b[0m \u001b[1mINFO | root: Generating text\u001b[0m\n",
      "\u001b[32m[2025-01-14 10:02:25]\u001b[0m \u001b[34m\u001b[1mDEBUG | Response: [TextResponse(text=\"Ok, I've started playing jazz music at a low volume.\")]\u001b[0m\n"
     ]
    },
    {
     "name": "stdout",
     "output_type": "stream",
     "text": [
      "Ok, I've started playing jazz music at a low volume.\n"
     ]
    }
   ],
   "source": [
    "response = google_agent.generate_text(prompt)\n",
    "\n",
    "print(response.contents[0].text)"
   ]
  },
  {
   "cell_type": "code",
   "execution_count": 23,
   "metadata": {},
   "outputs": [
    {
     "name": "stderr",
     "output_type": "stream",
     "text": [
      "\u001b[32m[2025-01-14 10:02:25]\u001b[0m \u001b[34m\u001b[1mDEBUG | Prompt: [TextPrompt(text='Play some music, well, play jazz music and prefer to low volume.')]\u001b[0m\n",
      "\u001b[32m[2025-01-14 10:02:25]\u001b[0m \u001b[1mINFO | root: Generating text\u001b[0m\n",
      "\u001b[32m[2025-01-14 10:02:27]\u001b[0m \u001b[34m\u001b[1mDEBUG | Response: [ToolCallResponse(name='start_music', args='{\"genre\": \"jazz\"}', call_id='ZQsh4qz4GLNUnAqyjwl7OCmg'), ToolCallResponse(name='change_music_volume', args='{\"volume\": 0.2}', call_id='3dqQyDX3tqS34WoYaUZEWzmh')]\u001b[0m\n",
      "\u001b[32m[2025-01-14 10:02:27]\u001b[0m \u001b[1mINFO | Running tool: start_music\u001b[0m\n",
      "\u001b[32m[2025-01-14 10:02:27]\u001b[0m \u001b[1mINFO | Tool: start_music successfully ran.\u001b[0m\n",
      "\u001b[32m[2025-01-14 10:02:27]\u001b[0m \u001b[1mINFO | Running tool: change_music_volume\u001b[0m\n",
      "\u001b[32m[2025-01-14 10:02:27]\u001b[0m \u001b[1mINFO | Tool: change_music_volume successfully ran.\u001b[0m\n",
      "\u001b[32m[2025-01-14 10:02:27]\u001b[0m \u001b[34m\u001b[1mDEBUG | Prompt: [ToolUsePrompt(output='Starting music! Genre: jazz, Volume: 0.1860416353482307, BPM: 120', error=None, call_id='ZQsh4qz4GLNUnAqyjwl7OCmg', args='{\"genre\": \"jazz\"}', name='start_music'), ToolUsePrompt(output='Changing volume to 0.2', error=None, call_id='3dqQyDX3tqS34WoYaUZEWzmh', args='{\"volume\": 0.2}', name='change_music_volume')]\u001b[0m\n",
      "\u001b[32m[2025-01-14 10:02:27]\u001b[0m \u001b[1mINFO | root: Generating text\u001b[0m\n",
      "\u001b[32m[2025-01-14 10:02:27]\u001b[0m \u001b[34m\u001b[1mDEBUG | Response: [TextResponse(text=\"Ok, I've started playing jazz music at a low volume.\")]\u001b[0m\n"
     ]
    },
    {
     "name": "stdout",
     "output_type": "stream",
     "text": [
      "Ok, I've started playing jazz music at a low volume.\n"
     ]
    }
   ],
   "source": [
    "response = await google_agent.generate_text_async(prompt)\n",
    "\n",
    "print(response.contents[0].text)"
   ]
  },
  {
   "cell_type": "code",
   "execution_count": 24,
   "metadata": {},
   "outputs": [
    {
     "name": "stderr",
     "output_type": "stream",
     "text": [
      "\u001b[32m[2025-01-14 10:02:27]\u001b[0m \u001b[34m\u001b[1mDEBUG | Prompt: [TextPrompt(text='Play some music, well, play jazz music and prefer to low volume.')]\u001b[0m\n",
      "\u001b[32m[2025-01-14 10:02:27]\u001b[0m \u001b[1mINFO | root: Generating text\u001b[0m\n"
     ]
    },
    {
     "name": "stdout",
     "output_type": "stream",
     "text": [
      "{\"genre\": \"jazz\"}\n",
      "{\"volume\": 0.2}\n"
     ]
    },
    {
     "name": "stderr",
     "output_type": "stream",
     "text": [
      "\u001b[32m[2025-01-14 10:02:28]\u001b[0m \u001b[34m\u001b[1mDEBUG | Response: [ToolCallResponse(name='start_music', args='{\"genre\": \"jazz\"}', call_id='qsxho4juhsw4apK4y2BwuIE9'), ToolCallResponse(name='change_music_volume', args='{\"volume\": 0.2}', call_id='VZogPu6mR5P0UAlZZcoWZ296')]\u001b[0m\n",
      "\u001b[32m[2025-01-14 10:02:28]\u001b[0m \u001b[1mINFO | Running tool: start_music\u001b[0m\n",
      "\u001b[32m[2025-01-14 10:02:28]\u001b[0m \u001b[1mINFO | Tool: start_music successfully ran.\u001b[0m\n",
      "\u001b[32m[2025-01-14 10:02:28]\u001b[0m \u001b[1mINFO | Running tool: change_music_volume\u001b[0m\n",
      "\u001b[32m[2025-01-14 10:02:28]\u001b[0m \u001b[1mINFO | Tool: change_music_volume successfully ran.\u001b[0m\n",
      "\u001b[32m[2025-01-14 10:02:28]\u001b[0m \u001b[34m\u001b[1mDEBUG | Prompt: [ToolUsePrompt(output='Starting music! Genre: jazz, Volume: 0.6776871594604403, BPM: 120', error=None, call_id='qsxho4juhsw4apK4y2BwuIE9', args='{\"genre\": \"jazz\"}', name='start_music'), ToolUsePrompt(output='Changing volume to 0.2', error=None, call_id='VZogPu6mR5P0UAlZZcoWZ296', args='{\"volume\": 0.2}', name='change_music_volume')]\u001b[0m\n",
      "\u001b[32m[2025-01-14 10:02:28]\u001b[0m \u001b[1mINFO | root: Generating text\u001b[0m\n"
     ]
    },
    {
     "name": "stdout",
     "output_type": "stream",
     "text": [
      "Ok\n",
      "Ok, I've started playing jazz music at a low volume.\n",
      "\n"
     ]
    },
    {
     "name": "stderr",
     "output_type": "stream",
     "text": [
      "\u001b[32m[2025-01-14 10:02:29]\u001b[0m \u001b[34m\u001b[1mDEBUG | Response: [TextResponse(text=\"Ok, I've started playing jazz music at a low volume.\\n\")]\u001b[0m\n"
     ]
    },
    {
     "name": "stdout",
     "output_type": "stream",
     "text": [
      "Ok, I've started playing jazz music at a low volume.\n",
      "\n"
     ]
    }
   ],
   "source": [
    "streamed_response = google_agent.stream_text(prompt)\n",
    "\n",
    "for chunk in streamed_response:\n",
    "    for content in chunk.contents:\n",
    "        if isinstance(content, TextResponse):\n",
    "            print(content.text, flush=True)\n",
    "        elif isinstance(content, ToolCallResponse):\n",
    "            print(content.args, flush=True)"
   ]
  },
  {
   "cell_type": "code",
   "execution_count": 25,
   "metadata": {},
   "outputs": [
    {
     "name": "stderr",
     "output_type": "stream",
     "text": [
      "\u001b[32m[2025-01-14 10:02:29]\u001b[0m \u001b[34m\u001b[1mDEBUG | Prompt: [TextPrompt(text='Play some music, well, play jazz music and prefer to low volume.')]\u001b[0m\n",
      "\u001b[32m[2025-01-14 10:02:30]\u001b[0m \u001b[1mINFO | root: Generating text\u001b[0m\n"
     ]
    },
    {
     "name": "stdout",
     "output_type": "stream",
     "text": [
      "{\"genre\": \"jazz\"}\n",
      "{\"volume\": 0.2}\n"
     ]
    },
    {
     "name": "stderr",
     "output_type": "stream",
     "text": [
      "\u001b[32m[2025-01-14 10:02:31]\u001b[0m \u001b[34m\u001b[1mDEBUG | Response: [ToolCallResponse(name='start_music', args='{\"genre\": \"jazz\"}', call_id='WeAq3g8urO9j5F4RJjzHf27i'), ToolCallResponse(name='change_music_volume', args='{\"volume\": 0.2}', call_id='cWwvXFw1PEsHd9ITc9oDMUIJ')]\u001b[0m\n",
      "\u001b[32m[2025-01-14 10:02:31]\u001b[0m \u001b[1mINFO | Running tool: start_music\u001b[0m\n",
      "\u001b[32m[2025-01-14 10:02:31]\u001b[0m \u001b[1mINFO | Tool: start_music successfully ran.\u001b[0m\n",
      "\u001b[32m[2025-01-14 10:02:31]\u001b[0m \u001b[1mINFO | Running tool: change_music_volume\u001b[0m\n",
      "\u001b[32m[2025-01-14 10:02:31]\u001b[0m \u001b[1mINFO | Tool: change_music_volume successfully ran.\u001b[0m\n",
      "\u001b[32m[2025-01-14 10:02:31]\u001b[0m \u001b[34m\u001b[1mDEBUG | Prompt: [ToolUsePrompt(output='Starting music! Genre: jazz, Volume: 0.7812265611321745, BPM: 120', error=None, call_id='WeAq3g8urO9j5F4RJjzHf27i', args='{\"genre\": \"jazz\"}', name='start_music'), ToolUsePrompt(output='Changing volume to 0.2', error=None, call_id='cWwvXFw1PEsHd9ITc9oDMUIJ', args='{\"volume\": 0.2}', name='change_music_volume')]\u001b[0m\n",
      "\u001b[32m[2025-01-14 10:02:31]\u001b[0m \u001b[1mINFO | root: Generating text\u001b[0m\n"
     ]
    },
    {
     "name": "stdout",
     "output_type": "stream",
     "text": [
      "Ok\n",
      "Ok, I've started playing jazz music at a low volume.\n",
      "\n"
     ]
    },
    {
     "name": "stderr",
     "output_type": "stream",
     "text": [
      "\u001b[32m[2025-01-14 10:02:32]\u001b[0m \u001b[34m\u001b[1mDEBUG | Response: [TextResponse(text=\"Ok, I've started playing jazz music at a low volume.\\n\")]\u001b[0m\n"
     ]
    },
    {
     "name": "stdout",
     "output_type": "stream",
     "text": [
      "Ok, I've started playing jazz music at a low volume.\n",
      "\n"
     ]
    }
   ],
   "source": [
    "streamed_response = google_agent.stream_text_async(prompt)\n",
    "\n",
    "async for chunk in streamed_response:\n",
    "    for content in chunk.contents:\n",
    "        if isinstance(content, TextResponse):\n",
    "            print(content.text, flush=True)\n",
    "        elif isinstance(content, ToolCallResponse):\n",
    "            print(content.args, flush=True)"
   ]
  },
  {
   "cell_type": "markdown",
   "metadata": {},
   "source": [
    "### Gemini on VertexAI"
   ]
  },
  {
   "cell_type": "code",
   "execution_count": 26,
   "metadata": {},
   "outputs": [
    {
     "name": "stderr",
     "output_type": "stream",
     "text": [
      "\u001b[32m[2025-01-14 10:02:32]\u001b[0m \u001b[34m\u001b[1mDEBUG | Prompt: [TextPrompt(text='Play some music, well, play jazz music and prefer to low volume.')]\u001b[0m\n",
      "\u001b[32m[2025-01-14 10:02:32]\u001b[0m \u001b[1mINFO | root: Generating text\u001b[0m\n",
      "\u001b[32m[2025-01-14 10:02:34]\u001b[0m \u001b[34m\u001b[1mDEBUG | Response: [ToolCallResponse(name='start_music', args='{\"genre\": \"jazz\"}', call_id='rOn5omMCjITn8x8nzfSHXjJM'), ToolCallResponse(name='change_music_volume', args='{\"volume\": 0.2}', call_id='dgfRpVuLf3davIkOHjQM9zWh')]\u001b[0m\n",
      "\u001b[32m[2025-01-14 10:02:34]\u001b[0m \u001b[1mINFO | Running tool: start_music\u001b[0m\n",
      "\u001b[32m[2025-01-14 10:02:34]\u001b[0m \u001b[1mINFO | Tool: start_music successfully ran.\u001b[0m\n",
      "\u001b[32m[2025-01-14 10:02:34]\u001b[0m \u001b[1mINFO | Running tool: change_music_volume\u001b[0m\n",
      "\u001b[32m[2025-01-14 10:02:34]\u001b[0m \u001b[1mINFO | Tool: change_music_volume successfully ran.\u001b[0m\n",
      "\u001b[32m[2025-01-14 10:02:34]\u001b[0m \u001b[34m\u001b[1mDEBUG | Prompt: [ToolUsePrompt(output='Starting music! Genre: jazz, Volume: 0.7433692415133876, BPM: 120', error=None, call_id='rOn5omMCjITn8x8nzfSHXjJM', args='{\"genre\": \"jazz\"}', name='start_music'), ToolUsePrompt(output='Changing volume to 0.2', error=None, call_id='dgfRpVuLf3davIkOHjQM9zWh', args='{\"volume\": 0.2}', name='change_music_volume')]\u001b[0m\n",
      "\u001b[32m[2025-01-14 10:02:34]\u001b[0m \u001b[1mINFO | root: Generating text\u001b[0m\n",
      "\u001b[32m[2025-01-14 10:02:35]\u001b[0m \u001b[34m\u001b[1mDEBUG | Response: [TextResponse(text=\"Ok, I've started playing jazz music at a low volume.\")]\u001b[0m\n"
     ]
    },
    {
     "name": "stdout",
     "output_type": "stream",
     "text": [
      "Ok, I've started playing jazz music at a low volume.\n"
     ]
    }
   ],
   "source": [
    "response = vertexai_agent.generate_text(prompt)\n",
    "\n",
    "print(response.contents[0].text)"
   ]
  },
  {
   "cell_type": "code",
   "execution_count": 27,
   "metadata": {},
   "outputs": [
    {
     "name": "stderr",
     "output_type": "stream",
     "text": [
      "\u001b[32m[2025-01-14 10:02:35]\u001b[0m \u001b[34m\u001b[1mDEBUG | Prompt: [TextPrompt(text='Play some music, well, play jazz music and prefer to low volume.')]\u001b[0m\n",
      "\u001b[32m[2025-01-14 10:02:35]\u001b[0m \u001b[1mINFO | root: Generating text\u001b[0m\n",
      "\u001b[32m[2025-01-14 10:02:37]\u001b[0m \u001b[34m\u001b[1mDEBUG | Response: [ToolCallResponse(name='start_music', args='{\"genre\": \"jazz\"}', call_id='jqKAJkfEsDHorJlZVTwaQLtE'), ToolCallResponse(name='change_music_volume', args='{\"volume\": 0.2}', call_id='eFr4xlVfgvsyeu2dMaQqs7gI')]\u001b[0m\n",
      "\u001b[32m[2025-01-14 10:02:37]\u001b[0m \u001b[1mINFO | Running tool: start_music\u001b[0m\n",
      "\u001b[32m[2025-01-14 10:02:37]\u001b[0m \u001b[1mINFO | Tool: start_music successfully ran.\u001b[0m\n",
      "\u001b[32m[2025-01-14 10:02:37]\u001b[0m \u001b[1mINFO | Running tool: change_music_volume\u001b[0m\n",
      "\u001b[32m[2025-01-14 10:02:37]\u001b[0m \u001b[1mINFO | Tool: change_music_volume successfully ran.\u001b[0m\n",
      "\u001b[32m[2025-01-14 10:02:37]\u001b[0m \u001b[34m\u001b[1mDEBUG | Prompt: [ToolUsePrompt(output='Starting music! Genre: jazz, Volume: 0.20524225038194654, BPM: 120', error=None, call_id='jqKAJkfEsDHorJlZVTwaQLtE', args='{\"genre\": \"jazz\"}', name='start_music'), ToolUsePrompt(output='Changing volume to 0.2', error=None, call_id='eFr4xlVfgvsyeu2dMaQqs7gI', args='{\"volume\": 0.2}', name='change_music_volume')]\u001b[0m\n",
      "\u001b[32m[2025-01-14 10:02:37]\u001b[0m \u001b[1mINFO | root: Generating text\u001b[0m\n",
      "\u001b[32m[2025-01-14 10:02:37]\u001b[0m \u001b[34m\u001b[1mDEBUG | Response: [TextResponse(text=\"Ok, I've started playing jazz music at a low volume.\")]\u001b[0m\n"
     ]
    },
    {
     "name": "stdout",
     "output_type": "stream",
     "text": [
      "Ok, I've started playing jazz music at a low volume.\n"
     ]
    }
   ],
   "source": [
    "response = await vertexai_agent.generate_text_async(prompt)\n",
    "\n",
    "print(response.contents[0].text)"
   ]
  },
  {
   "cell_type": "code",
   "execution_count": 28,
   "metadata": {},
   "outputs": [
    {
     "name": "stderr",
     "output_type": "stream",
     "text": [
      "\u001b[32m[2025-01-14 10:02:37]\u001b[0m \u001b[34m\u001b[1mDEBUG | Prompt: [TextPrompt(text='Play some music, well, play jazz music and prefer to low volume.')]\u001b[0m\n",
      "\u001b[32m[2025-01-14 10:02:37]\u001b[0m \u001b[1mINFO | root: Generating text\u001b[0m\n"
     ]
    },
    {
     "name": "stdout",
     "output_type": "stream",
     "text": [
      "{\"genre\": \"jazz\"}\n",
      "{\"volume\": 0.2}\n"
     ]
    },
    {
     "name": "stderr",
     "output_type": "stream",
     "text": [
      "\u001b[32m[2025-01-14 10:02:38]\u001b[0m \u001b[34m\u001b[1mDEBUG | Response: [ToolCallResponse(name='start_music', args='{\"genre\": \"jazz\"}', call_id='nGKw0fVvqeVoUZtp1b8VDnVt'), ToolCallResponse(name='change_music_volume', args='{\"volume\": 0.2}', call_id='s4OTZnyfgMWtlsZv6rBj7gTe')]\u001b[0m\n",
      "\u001b[32m[2025-01-14 10:02:38]\u001b[0m \u001b[1mINFO | Running tool: start_music\u001b[0m\n",
      "\u001b[32m[2025-01-14 10:02:38]\u001b[0m \u001b[1mINFO | Tool: start_music successfully ran.\u001b[0m\n",
      "\u001b[32m[2025-01-14 10:02:38]\u001b[0m \u001b[1mINFO | Running tool: change_music_volume\u001b[0m\n",
      "\u001b[32m[2025-01-14 10:02:38]\u001b[0m \u001b[1mINFO | Tool: change_music_volume successfully ran.\u001b[0m\n",
      "\u001b[32m[2025-01-14 10:02:38]\u001b[0m \u001b[34m\u001b[1mDEBUG | Prompt: [ToolUsePrompt(output='Starting music! Genre: jazz, Volume: 0.12904388048472804, BPM: 120', error=None, call_id='nGKw0fVvqeVoUZtp1b8VDnVt', args='{\"genre\": \"jazz\"}', name='start_music'), ToolUsePrompt(output='Changing volume to 0.2', error=None, call_id='s4OTZnyfgMWtlsZv6rBj7gTe', args='{\"volume\": 0.2}', name='change_music_volume')]\u001b[0m\n",
      "\u001b[32m[2025-01-14 10:02:38]\u001b[0m \u001b[1mINFO | root: Generating text\u001b[0m\n"
     ]
    },
    {
     "name": "stdout",
     "output_type": "stream",
     "text": [
      "Ok\n",
      "Ok, I've started playing jazz music at a low volume.\n",
      "\n"
     ]
    },
    {
     "name": "stderr",
     "output_type": "stream",
     "text": [
      "\u001b[32m[2025-01-14 10:02:40]\u001b[0m \u001b[34m\u001b[1mDEBUG | Response: [TextResponse(text=\"Ok, I've started playing jazz music at a low volume.\\n\")]\u001b[0m\n"
     ]
    },
    {
     "name": "stdout",
     "output_type": "stream",
     "text": [
      "Ok, I've started playing jazz music at a low volume.\n",
      "\n"
     ]
    }
   ],
   "source": [
    "streamed_response = vertexai_agent.stream_text(prompt)\n",
    "\n",
    "for chunk in streamed_response:\n",
    "    for content in chunk.contents:\n",
    "        if isinstance(content, TextResponse):\n",
    "            print(content.text, flush=True)\n",
    "        elif isinstance(content, ToolCallResponse):\n",
    "            print(content.args, flush=True)"
   ]
  },
  {
   "cell_type": "code",
   "execution_count": 29,
   "metadata": {},
   "outputs": [
    {
     "name": "stderr",
     "output_type": "stream",
     "text": [
      "\u001b[32m[2025-01-14 10:02:40]\u001b[0m \u001b[34m\u001b[1mDEBUG | Prompt: [TextPrompt(text='Play some music, well, play jazz music and prefer to low volume.')]\u001b[0m\n",
      "\u001b[32m[2025-01-14 10:02:40]\u001b[0m \u001b[1mINFO | root: Generating text\u001b[0m\n"
     ]
    },
    {
     "name": "stdout",
     "output_type": "stream",
     "text": [
      "{\"genre\": \"jazz\"}\n",
      "{\"volume\": 0.2}\n"
     ]
    },
    {
     "name": "stderr",
     "output_type": "stream",
     "text": [
      "\u001b[32m[2025-01-14 10:02:41]\u001b[0m \u001b[34m\u001b[1mDEBUG | Response: [ToolCallResponse(name='start_music', args='{\"genre\": \"jazz\"}', call_id='ArJta18nUWAJdbORG3mHv1PJ'), ToolCallResponse(name='change_music_volume', args='{\"volume\": 0.2}', call_id='CUkghtcwszfjjeLnbtls2Wgy')]\u001b[0m\n",
      "\u001b[32m[2025-01-14 10:02:41]\u001b[0m \u001b[1mINFO | Running tool: start_music\u001b[0m\n",
      "\u001b[32m[2025-01-14 10:02:41]\u001b[0m \u001b[1mINFO | Tool: start_music successfully ran.\u001b[0m\n",
      "\u001b[32m[2025-01-14 10:02:41]\u001b[0m \u001b[1mINFO | Running tool: change_music_volume\u001b[0m\n",
      "\u001b[32m[2025-01-14 10:02:41]\u001b[0m \u001b[1mINFO | Tool: change_music_volume successfully ran.\u001b[0m\n",
      "\u001b[32m[2025-01-14 10:02:41]\u001b[0m \u001b[34m\u001b[1mDEBUG | Prompt: [ToolUsePrompt(output='Starting music! Genre: jazz, Volume: 0.732544960762771, BPM: 120', error=None, call_id='ArJta18nUWAJdbORG3mHv1PJ', args='{\"genre\": \"jazz\"}', name='start_music'), ToolUsePrompt(output='Changing volume to 0.2', error=None, call_id='CUkghtcwszfjjeLnbtls2Wgy', args='{\"volume\": 0.2}', name='change_music_volume')]\u001b[0m\n",
      "\u001b[32m[2025-01-14 10:02:41]\u001b[0m \u001b[1mINFO | root: Generating text\u001b[0m\n"
     ]
    },
    {
     "name": "stdout",
     "output_type": "stream",
     "text": [
      "Ok\n",
      "Ok, I've started playing jazz music at a low volume.\n",
      "\n"
     ]
    },
    {
     "name": "stderr",
     "output_type": "stream",
     "text": [
      "\u001b[32m[2025-01-14 10:02:43]\u001b[0m \u001b[34m\u001b[1mDEBUG | Response: [TextResponse(text=\"Ok, I've started playing jazz music at a low volume.\\n\")]\u001b[0m\n"
     ]
    },
    {
     "name": "stdout",
     "output_type": "stream",
     "text": [
      "Ok, I've started playing jazz music at a low volume.\n",
      "\n"
     ]
    }
   ],
   "source": [
    "streamed_response = vertexai_agent.stream_text_async(prompt)\n",
    "\n",
    "async for chunk in streamed_response:\n",
    "    for content in chunk.contents:\n",
    "        if isinstance(content, TextResponse):\n",
    "            print(content.text, flush=True)\n",
    "        elif isinstance(content, ToolCallResponse):\n",
    "            print(content.args, flush=True)"
   ]
  },
  {
   "cell_type": "markdown",
   "metadata": {},
   "source": [
    "### Claude on Anthropic"
   ]
  },
  {
   "cell_type": "code",
   "execution_count": 30,
   "metadata": {},
   "outputs": [
    {
     "name": "stderr",
     "output_type": "stream",
     "text": [
      "\u001b[32m[2025-01-14 10:02:43]\u001b[0m \u001b[34m\u001b[1mDEBUG | Prompt: [TextPrompt(text='Play some music, well, play jazz music and prefer to low volume.')]\u001b[0m\n",
      "\u001b[32m[2025-01-14 10:02:43]\u001b[0m \u001b[1mINFO | root: Generating text\u001b[0m\n",
      "\u001b[32m[2025-01-14 10:02:46]\u001b[0m \u001b[34m\u001b[1mDEBUG | Response: [TextResponse(text=\"Certainly! I'd be happy to play some jazz music at a low volume for you. To do this, I'll need to use two functions: one to start the music and another to adjust the volume. Let's do that now.\"), ToolCallResponse(name='start_music', args='{\"genre\": \"jazz\"}', call_id='toolu_01EPNpZz4PpMBTbcxWXGgVbk'), ToolCallResponse(name='change_music_volume', args='{\"volume\": 0.2}', call_id='toolu_012RrSPtkSR6gdbSL7a7n6Fd')]\u001b[0m\n",
      "\u001b[32m[2025-01-14 10:02:46]\u001b[0m \u001b[1mINFO | Running tool: start_music\u001b[0m\n",
      "\u001b[32m[2025-01-14 10:02:46]\u001b[0m \u001b[1mINFO | Tool: start_music successfully ran.\u001b[0m\n",
      "\u001b[32m[2025-01-14 10:02:46]\u001b[0m \u001b[1mINFO | Running tool: change_music_volume\u001b[0m\n",
      "\u001b[32m[2025-01-14 10:02:46]\u001b[0m \u001b[1mINFO | Tool: change_music_volume successfully ran.\u001b[0m\n",
      "\u001b[32m[2025-01-14 10:02:46]\u001b[0m \u001b[34m\u001b[1mDEBUG | Prompt: [ToolUsePrompt(output='Starting music! Genre: jazz, Volume: 0.16530679167790874, BPM: 120', error=None, call_id='toolu_01EPNpZz4PpMBTbcxWXGgVbk', args='{\"genre\": \"jazz\"}', name='start_music'), ToolUsePrompt(output='Changing volume to 0.2', error=None, call_id='toolu_012RrSPtkSR6gdbSL7a7n6Fd', args='{\"volume\": 0.2}', name='change_music_volume')]\u001b[0m\n",
      "\u001b[32m[2025-01-14 10:02:46]\u001b[0m \u001b[1mINFO | root: Generating text\u001b[0m\n",
      "\u001b[32m[2025-01-14 10:02:48]\u001b[0m \u001b[34m\u001b[1mDEBUG | Response: [TextResponse(text='Great! I\\'ve started playing some jazz music for you and adjusted the volume to a low level. Here\\'s what I did:\\n\\n1. Started playing jazz music using the \"start_music\" function.\\n2. Lowered the volume to 0.2 (on a scale from 0.0 to 1.0) using the \"change_music_volume\" function. This should give you a nice, soft background ambiance.\\n\\nThe music is now playing at a low volume. Is there anything else you\\'d like me to adjust with the music, such as changing the equalizer settings or switching to a different genre?')]\u001b[0m\n"
     ]
    },
    {
     "name": "stdout",
     "output_type": "stream",
     "text": [
      "Great! I've started playing some jazz music for you and adjusted the volume to a low level. Here's what I did:\n",
      "\n",
      "1. Started playing jazz music using the \"start_music\" function.\n",
      "2. Lowered the volume to 0.2 (on a scale from 0.0 to 1.0) using the \"change_music_volume\" function. This should give you a nice, soft background ambiance.\n",
      "\n",
      "The music is now playing at a low volume. Is there anything else you'd like me to adjust with the music, such as changing the equalizer settings or switching to a different genre?\n"
     ]
    }
   ],
   "source": [
    "response = claude_agent.generate_text(prompt)\n",
    "\n",
    "print(response.contents[0].text)"
   ]
  },
  {
   "cell_type": "code",
   "execution_count": 31,
   "metadata": {},
   "outputs": [
    {
     "name": "stderr",
     "output_type": "stream",
     "text": [
      "\u001b[32m[2025-01-14 10:02:48]\u001b[0m \u001b[34m\u001b[1mDEBUG | Prompt: [TextPrompt(text='Play some music, well, play jazz music and prefer to low volume.')]\u001b[0m\n",
      "\u001b[32m[2025-01-14 10:02:48]\u001b[0m \u001b[1mINFO | root: Generating text\u001b[0m\n",
      "\u001b[32m[2025-01-14 10:02:51]\u001b[0m \u001b[34m\u001b[1mDEBUG | Response: [TextResponse(text=\"Certainly! I'd be happy to play some jazz music at a low volume for you. To do this, I'll need to use two functions: one to start the music and another to adjust the volume. Let's do that now.\"), ToolCallResponse(name='start_music', args='{\"genre\": \"jazz\"}', call_id='toolu_01StZQhx1D4YHSatUAmMo1iH'), ToolCallResponse(name='change_music_volume', args='{\"volume\": 0.2}', call_id='toolu_01DvWJpyr13mNWu69dAuT4b4')]\u001b[0m\n",
      "\u001b[32m[2025-01-14 10:02:51]\u001b[0m \u001b[1mINFO | Running tool: start_music\u001b[0m\n",
      "\u001b[32m[2025-01-14 10:02:51]\u001b[0m \u001b[1mINFO | Tool: start_music successfully ran.\u001b[0m\n",
      "\u001b[32m[2025-01-14 10:02:51]\u001b[0m \u001b[1mINFO | Running tool: change_music_volume\u001b[0m\n",
      "\u001b[32m[2025-01-14 10:02:51]\u001b[0m \u001b[1mINFO | Tool: change_music_volume successfully ran.\u001b[0m\n",
      "\u001b[32m[2025-01-14 10:02:51]\u001b[0m \u001b[34m\u001b[1mDEBUG | Prompt: [ToolUsePrompt(output='Starting music! Genre: jazz, Volume: 0.3074602661242244, BPM: 120', error=None, call_id='toolu_01StZQhx1D4YHSatUAmMo1iH', args='{\"genre\": \"jazz\"}', name='start_music'), ToolUsePrompt(output='Changing volume to 0.2', error=None, call_id='toolu_01DvWJpyr13mNWu69dAuT4b4', args='{\"volume\": 0.2}', name='change_music_volume')]\u001b[0m\n",
      "\u001b[32m[2025-01-14 10:02:51]\u001b[0m \u001b[1mINFO | root: Generating text\u001b[0m\n",
      "\u001b[32m[2025-01-14 10:02:53]\u001b[0m \u001b[34m\u001b[1mDEBUG | Response: [TextResponse(text='Great! I\\'ve started playing some jazz music for you and adjusted the volume to a low level. Here\\'s what I did:\\n\\n1. Started playing jazz music using the \"start_music\" function.\\n2. Lowered the volume to 0.2 (on a scale from 0.0 to 1.0) using the \"change_music_volume\" function. This should give you a nice, soft background ambiance.\\n\\nThe music is now playing at a low volume. Is there anything else you\\'d like me to adjust with the music, such as changing the equalizer settings or switching to a different genre?')]\u001b[0m\n"
     ]
    },
    {
     "name": "stdout",
     "output_type": "stream",
     "text": [
      "Great! I've started playing some jazz music for you and adjusted the volume to a low level. Here's what I did:\n",
      "\n",
      "1. Started playing jazz music using the \"start_music\" function.\n",
      "2. Lowered the volume to 0.2 (on a scale from 0.0 to 1.0) using the \"change_music_volume\" function. This should give you a nice, soft background ambiance.\n",
      "\n",
      "The music is now playing at a low volume. Is there anything else you'd like me to adjust with the music, such as changing the equalizer settings or switching to a different genre?\n"
     ]
    }
   ],
   "source": [
    "response = await claude_agent.generate_text_async(prompt)\n",
    "\n",
    "print(response.contents[0].text)"
   ]
  },
  {
   "cell_type": "code",
   "execution_count": 32,
   "metadata": {},
   "outputs": [
    {
     "name": "stderr",
     "output_type": "stream",
     "text": [
      "\u001b[32m[2025-01-14 10:02:53]\u001b[0m \u001b[34m\u001b[1mDEBUG | Prompt: [TextPrompt(text='Play some music, well, play jazz music and prefer to low volume.')]\u001b[0m\n",
      "\u001b[32m[2025-01-14 10:02:53]\u001b[0m \u001b[1mINFO | root: Generating text\u001b[0m\n"
     ]
    },
    {
     "name": "stdout",
     "output_type": "stream",
     "text": [
      "Certainly! I'\n",
      "Certainly! I'd be happy to play some jazz music at a low volume for you\n",
      "Certainly! I'd be happy to play some jazz music at a low volume for you. To do this, I'll need to use two\n",
      "Certainly! I'd be happy to play some jazz music at a low volume for you. To do this, I'll need to use two functions: one to start the music and another to adjust the volume. Let\n",
      "Certainly! I'd be happy to play some jazz music at a low volume for you. To do this, I'll need to use two functions: one to start the music and another to adjust the volume. Let's do that now.\n",
      "{\"ge\n",
      "{\"genre\": \"\n",
      "{\"genre\": \"jaz\n",
      "{\"genre\": \"jazz\"}\n",
      "{\"\n",
      "{\"volume\n",
      "{\"volume\": 0.2}\n"
     ]
    },
    {
     "name": "stderr",
     "output_type": "stream",
     "text": [
      "\u001b[32m[2025-01-14 10:02:56]\u001b[0m \u001b[34m\u001b[1mDEBUG | Response: [TextResponse(text=\"Certainly! I'd be happy to play some jazz music at a low volume for you. To do this, I'll need to use two functions: one to start the music and another to adjust the volume. Let's do that now.\"), ToolCallResponse(name='start_music', args='{\"genre\": \"jazz\"}', call_id='toolu_017x45Nnoarg9rZ56vLoWGw3'), ToolCallResponse(name='change_music_volume', args='{\"volume\": 0.2}', call_id='toolu_013ghb6NWxGZ7pv7uwefySoZ')]\u001b[0m\n",
      "\u001b[32m[2025-01-14 10:02:56]\u001b[0m \u001b[1mINFO | Running tool: start_music\u001b[0m\n",
      "\u001b[32m[2025-01-14 10:02:56]\u001b[0m \u001b[1mINFO | Tool: start_music successfully ran.\u001b[0m\n",
      "\u001b[32m[2025-01-14 10:02:56]\u001b[0m \u001b[1mINFO | Running tool: change_music_volume\u001b[0m\n",
      "\u001b[32m[2025-01-14 10:02:56]\u001b[0m \u001b[1mINFO | Tool: change_music_volume successfully ran.\u001b[0m\n",
      "\u001b[32m[2025-01-14 10:02:56]\u001b[0m \u001b[34m\u001b[1mDEBUG | Prompt: [ToolUsePrompt(output='Starting music! Genre: jazz, Volume: 0.6361428741878828, BPM: 120', error=None, call_id='toolu_017x45Nnoarg9rZ56vLoWGw3', args='{\"genre\": \"jazz\"}', name='start_music'), ToolUsePrompt(output='Changing volume to 0.2', error=None, call_id='toolu_013ghb6NWxGZ7pv7uwefySoZ', args='{\"volume\": 0.2}', name='change_music_volume')]\u001b[0m\n",
      "\u001b[32m[2025-01-14 10:02:56]\u001b[0m \u001b[1mINFO | root: Generating text\u001b[0m\n"
     ]
    },
    {
     "name": "stdout",
     "output_type": "stream",
     "text": [
      "Great! I've\n",
      "Great! I've started playing some jazz music and adjusted the volume to a low\n",
      "Great! I've started playing some jazz music and adjusted the volume to a low level for you. Here's what I di\n",
      "Great! I've started playing some jazz music and adjusted the volume to a low level for you. Here's what I did:\n",
      "\n",
      "1. Started playing jazz music using\n",
      "Great! I've started playing some jazz music and adjusted the volume to a low level for you. Here's what I did:\n",
      "\n",
      "1. Started playing jazz music using the \"start_music\" function.\n",
      "2\n",
      "Great! I've started playing some jazz music and adjusted the volume to a low level for you. Here's what I did:\n",
      "\n",
      "1. Started playing jazz music using the \"start_music\" function.\n",
      "2. Lowered the volume to\n",
      "Great! I've started playing some jazz music and adjusted the volume to a low level for you. Here's what I did:\n",
      "\n",
      "1. Started playing jazz music using the \"start_music\" function.\n",
      "2. Lowered the volume to 0.2 (on a scale from 0\n",
      "Great! I've started playing some jazz music and adjusted the volume to a low level for you. Here's what I did:\n",
      "\n",
      "1. Started playing jazz music using the \"start_music\" function.\n",
      "2. Lowered the volume to 0.2 (on a scale from 0.0 to 1.0) using the\n",
      "Great! I've started playing some jazz music and adjusted the volume to a low level for you. Here's what I did:\n",
      "\n",
      "1. Started playing jazz music using the \"start_music\" function.\n",
      "2. Lowered the volume to 0.2 (on a scale from 0.0 to 1.0) using the \"change_music_volume\" function.\n",
      "Great! I've started playing some jazz music and adjusted the volume to a low level for you. Here's what I did:\n",
      "\n",
      "1. Started playing jazz music using the \"start_music\" function.\n",
      "2. Lowered the volume to 0.2 (on a scale from 0.0 to 1.0) using the \"change_music_volume\" function. This should be quite low and suitable for background listening\n",
      "Great! I've started playing some jazz music and adjusted the volume to a low level for you. Here's what I did:\n",
      "\n",
      "1. Started playing jazz music using the \"start_music\" function.\n",
      "2. Lowered the volume to 0.2 (on a scale from 0.0 to 1.0) using the \"change_music_volume\" function. This should be quite low and suitable for background listening.\n",
      "\n",
      "The music is now playing at\n",
      "Great! I've started playing some jazz music and adjusted the volume to a low level for you. Here's what I did:\n",
      "\n",
      "1. Started playing jazz music using the \"start_music\" function.\n",
      "2. Lowered the volume to 0.2 (on a scale from 0.0 to 1.0) using the \"change_music_volume\" function. This should be quite low and suitable for background listening.\n",
      "\n",
      "The music is now playing at a low volume. Is there anything else you\n",
      "Great! I've started playing some jazz music and adjusted the volume to a low level for you. Here's what I did:\n",
      "\n",
      "1. Started playing jazz music using the \"start_music\" function.\n",
      "2. Lowered the volume to 0.2 (on a scale from 0.0 to 1.0) using the \"change_music_volume\" function. This should be quite low and suitable for background listening.\n",
      "\n",
      "The music is now playing at a low volume. Is there anything else you'd like me to adjust with the music,\n",
      "Great! I've started playing some jazz music and adjusted the volume to a low level for you. Here's what I did:\n",
      "\n",
      "1. Started playing jazz music using the \"start_music\" function.\n",
      "2. Lowered the volume to 0.2 (on a scale from 0.0 to 1.0) using the \"change_music_volume\" function. This should be quite low and suitable for background listening.\n",
      "\n",
      "The music is now playing at a low volume. Is there anything else you'd like me to adjust with the music, such as changing the equalizer settings or switching to\n",
      "Great! I've started playing some jazz music and adjusted the volume to a low level for you. Here's what I did:\n",
      "\n",
      "1. Started playing jazz music using the \"start_music\" function.\n",
      "2. Lowered the volume to 0.2 (on a scale from 0.0 to 1.0) using the \"change_music_volume\" function. This should be quite low and suitable for background listening.\n",
      "\n",
      "The music is now playing at a low volume. Is there anything else you'd like me to adjust with the music, such as changing the equalizer settings or switching to a different genre?\n"
     ]
    },
    {
     "name": "stderr",
     "output_type": "stream",
     "text": [
      "\u001b[32m[2025-01-14 10:02:59]\u001b[0m \u001b[34m\u001b[1mDEBUG | Response: [TextResponse(text='Great! I\\'ve started playing some jazz music and adjusted the volume to a low level for you. Here\\'s what I did:\\n\\n1. Started playing jazz music using the \"start_music\" function.\\n2. Lowered the volume to 0.2 (on a scale from 0.0 to 1.0) using the \"change_music_volume\" function. This should be quite low and suitable for background listening.\\n\\nThe music is now playing at a low volume. Is there anything else you\\'d like me to adjust with the music, such as changing the equalizer settings or switching to a different genre?')]\u001b[0m\n"
     ]
    },
    {
     "name": "stdout",
     "output_type": "stream",
     "text": [
      "Great! I've started playing some jazz music and adjusted the volume to a low level for you. Here's what I did:\n",
      "\n",
      "1. Started playing jazz music using the \"start_music\" function.\n",
      "2. Lowered the volume to 0.2 (on a scale from 0.0 to 1.0) using the \"change_music_volume\" function. This should be quite low and suitable for background listening.\n",
      "\n",
      "The music is now playing at a low volume. Is there anything else you'd like me to adjust with the music, such as changing the equalizer settings or switching to a different genre?\n"
     ]
    }
   ],
   "source": [
    "streamed_response = claude_agent.stream_text(prompt)\n",
    "\n",
    "for chunk in streamed_response:\n",
    "    for content in chunk.contents:\n",
    "        if isinstance(content, TextResponse):\n",
    "            print(content.text, flush=True)\n",
    "        elif isinstance(content, ToolCallResponse):\n",
    "            print(content.args, flush=True)"
   ]
  },
  {
   "cell_type": "code",
   "execution_count": 33,
   "metadata": {},
   "outputs": [
    {
     "name": "stderr",
     "output_type": "stream",
     "text": [
      "\u001b[32m[2025-01-14 10:02:59]\u001b[0m \u001b[34m\u001b[1mDEBUG | Prompt: [TextPrompt(text='Play some music, well, play jazz music and prefer to low volume.')]\u001b[0m\n",
      "\u001b[32m[2025-01-14 10:02:59]\u001b[0m \u001b[1mINFO | root: Generating text\u001b[0m\n"
     ]
    },
    {
     "name": "stdout",
     "output_type": "stream",
     "text": [
      "Certainly! I'\n",
      "Certainly! I'd be happy to play some jazz music at a low volume for you\n",
      "Certainly! I'd be happy to play some jazz music at a low volume for you. To do this, I'll need to use two\n",
      "Certainly! I'd be happy to play some jazz music at a low volume for you. To do this, I'll need to use two functions: one to start the music and another to\n",
      "Certainly! I'd be happy to play some jazz music at a low volume for you. To do this, I'll need to use two functions: one to start the music and another to adjust the volume. Let's do that now.\n",
      "{\"gen\n",
      "{\"genre\":\n",
      "{\"genre\": \"ja\n",
      "{\"genre\": \"jazz\"}\n",
      "{\"volu\n",
      "{\"volume\n",
      "{\"volume\": 0.2}\n"
     ]
    },
    {
     "name": "stderr",
     "output_type": "stream",
     "text": [
      "\u001b[32m[2025-01-14 10:03:01]\u001b[0m \u001b[34m\u001b[1mDEBUG | Response: [TextResponse(text=\"Certainly! I'd be happy to play some jazz music at a low volume for you. To do this, I'll need to use two functions: one to start the music and another to adjust the volume. Let's do that now.\"), ToolCallResponse(name='start_music', args='{\"genre\": \"jazz\"}', call_id='toolu_01H2DJK38NgUxhjCXGR3ABt4'), ToolCallResponse(name='change_music_volume', args='{\"volume\": 0.2}', call_id='toolu_01Aqt9gorLZsidWB16Y54FNU')]\u001b[0m\n",
      "\u001b[32m[2025-01-14 10:03:01]\u001b[0m \u001b[1mINFO | Running tool: start_music\u001b[0m\n",
      "\u001b[32m[2025-01-14 10:03:01]\u001b[0m \u001b[1mINFO | Tool: start_music successfully ran.\u001b[0m\n",
      "\u001b[32m[2025-01-14 10:03:01]\u001b[0m \u001b[1mINFO | Running tool: change_music_volume\u001b[0m\n",
      "\u001b[32m[2025-01-14 10:03:01]\u001b[0m \u001b[1mINFO | Tool: change_music_volume successfully ran.\u001b[0m\n",
      "\u001b[32m[2025-01-14 10:03:01]\u001b[0m \u001b[34m\u001b[1mDEBUG | Prompt: [ToolUsePrompt(output='Starting music! Genre: jazz, Volume: 0.13495664621554326, BPM: 120', error=None, call_id='toolu_01H2DJK38NgUxhjCXGR3ABt4', args='{\"genre\": \"jazz\"}', name='start_music'), ToolUsePrompt(output='Changing volume to 0.2', error=None, call_id='toolu_01Aqt9gorLZsidWB16Y54FNU', args='{\"volume\": 0.2}', name='change_music_volume')]\u001b[0m\n",
      "\u001b[32m[2025-01-14 10:03:01]\u001b[0m \u001b[1mINFO | root: Generating text\u001b[0m\n"
     ]
    },
    {
     "name": "stdout",
     "output_type": "stream",
     "text": [
      "Great! I've\n",
      "Great! I've started playing some jazz music for you and adjuste\n",
      "Great! I've started playing some jazz music for you and adjusted the volume to a low level. Here's what I di\n",
      "Great! I've started playing some jazz music for you and adjusted the volume to a low level. Here's what I did:\n",
      "\n",
      "1. Started playing jazz music using the \"start_music\n",
      "Great! I've started playing some jazz music for you and adjusted the volume to a low level. Here's what I did:\n",
      "\n",
      "1. Started playing jazz music using the \"start_music\" function.\n",
      "2. Lowered the volume to\n",
      "Great! I've started playing some jazz music for you and adjusted the volume to a low level. Here's what I did:\n",
      "\n",
      "1. Started playing jazz music using the \"start_music\" function.\n",
      "2. Lowered the volume to 0.2 (on a scale from 0\n",
      "Great! I've started playing some jazz music for you and adjusted the volume to a low level. Here's what I did:\n",
      "\n",
      "1. Started playing jazz music using the \"start_music\" function.\n",
      "2. Lowered the volume to 0.2 (on a scale from 0.0 to 1.0) using the\n",
      "Great! I've started playing some jazz music for you and adjusted the volume to a low level. Here's what I did:\n",
      "\n",
      "1. Started playing jazz music using the \"start_music\" function.\n",
      "2. Lowered the volume to 0.2 (on a scale from 0.0 to 1.0) using the \"change_music_volume\" function. This shoul\n",
      "Great! I've started playing some jazz music for you and adjusted the volume to a low level. Here's what I did:\n",
      "\n",
      "1. Started playing jazz music using the \"start_music\" function.\n",
      "2. Lowered the volume to 0.2 (on a scale from 0.0 to 1.0) using the \"change_music_volume\" function. This should give you a nice, soft background ambiance.\n",
      "\n",
      "The music\n",
      "Great! I've started playing some jazz music for you and adjusted the volume to a low level. Here's what I did:\n",
      "\n",
      "1. Started playing jazz music using the \"start_music\" function.\n",
      "2. Lowered the volume to 0.2 (on a scale from 0.0 to 1.0) using the \"change_music_volume\" function. This should give you a nice, soft background ambiance.\n",
      "\n",
      "The music is now playing at a low volume. Is there anything else you'\n",
      "Great! I've started playing some jazz music for you and adjusted the volume to a low level. Here's what I did:\n",
      "\n",
      "1. Started playing jazz music using the \"start_music\" function.\n",
      "2. Lowered the volume to 0.2 (on a scale from 0.0 to 1.0) using the \"change_music_volume\" function. This should give you a nice, soft background ambiance.\n",
      "\n",
      "The music is now playing at a low volume. Is there anything else you'd like me to adjust with the music, such as changing the equal\n",
      "Great! I've started playing some jazz music for you and adjusted the volume to a low level. Here's what I did:\n",
      "\n",
      "1. Started playing jazz music using the \"start_music\" function.\n",
      "2. Lowered the volume to 0.2 (on a scale from 0.0 to 1.0) using the \"change_music_volume\" function. This should give you a nice, soft background ambiance.\n",
      "\n",
      "The music is now playing at a low volume. Is there anything else you'd like me to adjust with the music, such as changing the equalizer settings or switching to a different genre?\n"
     ]
    },
    {
     "name": "stderr",
     "output_type": "stream",
     "text": [
      "\u001b[32m[2025-01-14 10:03:04]\u001b[0m \u001b[34m\u001b[1mDEBUG | Response: [TextResponse(text='Great! I\\'ve started playing some jazz music for you and adjusted the volume to a low level. Here\\'s what I did:\\n\\n1. Started playing jazz music using the \"start_music\" function.\\n2. Lowered the volume to 0.2 (on a scale from 0.0 to 1.0) using the \"change_music_volume\" function. This should give you a nice, soft background ambiance.\\n\\nThe music is now playing at a low volume. Is there anything else you\\'d like me to adjust with the music, such as changing the equalizer settings or switching to a different genre?')]\u001b[0m\n"
     ]
    },
    {
     "name": "stdout",
     "output_type": "stream",
     "text": [
      "Great! I've started playing some jazz music for you and adjusted the volume to a low level. Here's what I did:\n",
      "\n",
      "1. Started playing jazz music using the \"start_music\" function.\n",
      "2. Lowered the volume to 0.2 (on a scale from 0.0 to 1.0) using the \"change_music_volume\" function. This should give you a nice, soft background ambiance.\n",
      "\n",
      "The music is now playing at a low volume. Is there anything else you'd like me to adjust with the music, such as changing the equalizer settings or switching to a different genre?\n"
     ]
    }
   ],
   "source": [
    "streamed_response = claude_agent.stream_text_async(prompt)\n",
    "\n",
    "async for chunk in streamed_response:\n",
    "    for content in chunk.contents:\n",
    "        if isinstance(content, TextResponse):\n",
    "            print(content.text, flush=True)\n",
    "        elif isinstance(content, ToolCallResponse):\n",
    "            print(content.args, flush=True)"
   ]
  },
  {
   "cell_type": "markdown",
   "metadata": {},
   "source": [
    "### Amazon Bedrock Converse API model"
   ]
  },
  {
   "cell_type": "code",
   "execution_count": 34,
   "metadata": {},
   "outputs": [
    {
     "name": "stderr",
     "output_type": "stream",
     "text": [
      "\u001b[32m[2025-01-14 10:03:04]\u001b[0m \u001b[34m\u001b[1mDEBUG | Prompt: [TextPrompt(text='Play some music, well, play jazz music and prefer to low volume.')]\u001b[0m\n",
      "\u001b[32m[2025-01-14 10:03:04]\u001b[0m \u001b[1mINFO | root: Generating text\u001b[0m\n",
      "\u001b[32m[2025-01-14 10:03:06]\u001b[0m \u001b[34m\u001b[1mDEBUG | Response: [TextResponse(text='<thinking> The user has requested to play jazz music at a low volume. I should first start playing jazz music and then adjust the volume to a low setting. </thinking>\\n'), ToolCallResponse(name='start_music', args='{\"genre\": \"jazz\"}', call_id='tooluse__WfTNnt_R9uJAmW5kdzodA'), ToolCallResponse(name='change_music_volume', args='{\"volume\": 0.3}', call_id='tooluse_mz5FNFFpReWrS-wHEKFtsA')]\u001b[0m\n",
      "\u001b[32m[2025-01-14 10:03:06]\u001b[0m \u001b[1mINFO | Running tool: start_music\u001b[0m\n",
      "\u001b[32m[2025-01-14 10:03:06]\u001b[0m \u001b[1mINFO | Tool: start_music successfully ran.\u001b[0m\n",
      "\u001b[32m[2025-01-14 10:03:06]\u001b[0m \u001b[1mINFO | Running tool: change_music_volume\u001b[0m\n",
      "\u001b[32m[2025-01-14 10:03:06]\u001b[0m \u001b[1mINFO | Tool: change_music_volume successfully ran.\u001b[0m\n",
      "\u001b[32m[2025-01-14 10:03:06]\u001b[0m \u001b[34m\u001b[1mDEBUG | Prompt: [ToolUsePrompt(output='Starting music! Genre: jazz, Volume: 0.15753816039112578, BPM: 120', error=None, call_id='tooluse__WfTNnt_R9uJAmW5kdzodA', args='{\"genre\": \"jazz\"}', name='start_music'), ToolUsePrompt(output='Changing volume to 0.3', error=None, call_id='tooluse_mz5FNFFpReWrS-wHEKFtsA', args='{\"volume\": 0.3}', name='change_music_volume')]\u001b[0m\n",
      "\u001b[32m[2025-01-14 10:03:06]\u001b[0m \u001b[1mINFO | root: Generating text\u001b[0m\n",
      "\u001b[32m[2025-01-14 10:03:07]\u001b[0m \u001b[34m\u001b[1mDEBUG | Response: [TextResponse(text='<thinking> The jazz music has started playing and the volume has been adjusted to 0.3, which is a low volume setting. I should inform the user that their request has been completed. </thinking> I have started playing jazz music and adjusted the volume to a low setting as you requested. Enjoy the music!')]\u001b[0m\n"
     ]
    },
    {
     "name": "stdout",
     "output_type": "stream",
     "text": [
      "<thinking> The jazz music has started playing and the volume has been adjusted to 0.3, which is a low volume setting. I should inform the user that their request has been completed. </thinking> I have started playing jazz music and adjusted the volume to a low setting as you requested. Enjoy the music!\n"
     ]
    }
   ],
   "source": [
    "response = bedrock_agent.generate_text(prompt)\n",
    "\n",
    "print(response.contents[0].text)"
   ]
  },
  {
   "cell_type": "code",
   "execution_count": 35,
   "metadata": {},
   "outputs": [
    {
     "name": "stderr",
     "output_type": "stream",
     "text": [
      "\u001b[32m[2025-01-14 10:03:07]\u001b[0m \u001b[34m\u001b[1mDEBUG | Prompt: [TextPrompt(text='Play some music, well, play jazz music and prefer to low volume.')]\u001b[0m\n",
      "\u001b[32m[2025-01-14 10:03:07]\u001b[0m \u001b[1mINFO | root: Generating text\u001b[0m\n"
     ]
    },
    {
     "name": "stdout",
     "output_type": "stream",
     "text": [
      "<thinking\n",
      "<thinking>\n",
      "<thinking> The\n",
      "<thinking> The user\n",
      "<thinking> The user has\n",
      "<thinking> The user has requested\n",
      "<thinking> The user has requested to\n",
      "<thinking> The user has requested to play\n",
      "<thinking> The user has requested to play jazz\n",
      "<thinking> The user has requested to play jazz music\n",
      "<thinking> The user has requested to play jazz music at\n",
      "<thinking> The user has requested to play jazz music at a\n",
      "<thinking> The user has requested to play jazz music at a low\n",
      "<thinking> The user has requested to play jazz music at a low volume\n",
      "<thinking> The user has requested to play jazz music at a low volume.\n",
      "<thinking> The user has requested to play jazz music at a low volume. I\n",
      "<thinking> The user has requested to play jazz music at a low volume. I should\n",
      "<thinking> The user has requested to play jazz music at a low volume. I should first\n",
      "<thinking> The user has requested to play jazz music at a low volume. I should first start\n",
      "<thinking> The user has requested to play jazz music at a low volume. I should first start playing\n",
      "<thinking> The user has requested to play jazz music at a low volume. I should first start playing jazz\n",
      "<thinking> The user has requested to play jazz music at a low volume. I should first start playing jazz music\n",
      "<thinking> The user has requested to play jazz music at a low volume. I should first start playing jazz music and\n",
      "<thinking> The user has requested to play jazz music at a low volume. I should first start playing jazz music and then\n",
      "<thinking> The user has requested to play jazz music at a low volume. I should first start playing jazz music and then adjust\n",
      "<thinking> The user has requested to play jazz music at a low volume. I should first start playing jazz music and then adjust the\n",
      "<thinking> The user has requested to play jazz music at a low volume. I should first start playing jazz music and then adjust the volume\n",
      "<thinking> The user has requested to play jazz music at a low volume. I should first start playing jazz music and then adjust the volume to\n",
      "<thinking> The user has requested to play jazz music at a low volume. I should first start playing jazz music and then adjust the volume to a\n",
      "<thinking> The user has requested to play jazz music at a low volume. I should first start playing jazz music and then adjust the volume to a low\n",
      "<thinking> The user has requested to play jazz music at a low volume. I should first start playing jazz music and then adjust the volume to a low level\n",
      "<thinking> The user has requested to play jazz music at a low volume. I should first start playing jazz music and then adjust the volume to a low level.\n",
      "<thinking> The user has requested to play jazz music at a low volume. I should first start playing jazz music and then adjust the volume to a low level. </\n",
      "<thinking> The user has requested to play jazz music at a low volume. I should first start playing jazz music and then adjust the volume to a low level. </thinking\n",
      "<thinking> The user has requested to play jazz music at a low volume. I should first start playing jazz music and then adjust the volume to a low level. </thinking>\n",
      "<thinking> The user has requested to play jazz music at a low volume. I should first start playing jazz music and then adjust the volume to a low level. </thinking>\n",
      "\n",
      "{\"genre\":\"jazz\"}\n",
      "{\"volume\":0.3}\n"
     ]
    },
    {
     "name": "stderr",
     "output_type": "stream",
     "text": [
      "\u001b[32m[2025-01-14 10:03:09]\u001b[0m \u001b[34m\u001b[1mDEBUG | Response: [TextResponse(text='<thinking> The user has requested to play jazz music at a low volume. I should first start playing jazz music and then adjust the volume to a low level. </thinking>\\n'), ToolCallResponse(name='start_music', args='{\"genre\":\"jazz\"}', call_id='tooluse_p8JtJcSQTBiPGTjX7QByCg'), ToolCallResponse(name='change_music_volume', args='{\"volume\":0.3}', call_id='tooluse_HXeIQTNaSR2WDYtQFhyywA')]\u001b[0m\n",
      "\u001b[32m[2025-01-14 10:03:09]\u001b[0m \u001b[1mINFO | Running tool: start_music\u001b[0m\n",
      "\u001b[32m[2025-01-14 10:03:09]\u001b[0m \u001b[1mINFO | Tool: start_music successfully ran.\u001b[0m\n",
      "\u001b[32m[2025-01-14 10:03:09]\u001b[0m \u001b[1mINFO | Running tool: change_music_volume\u001b[0m\n",
      "\u001b[32m[2025-01-14 10:03:09]\u001b[0m \u001b[1mINFO | Tool: change_music_volume successfully ran.\u001b[0m\n",
      "\u001b[32m[2025-01-14 10:03:09]\u001b[0m \u001b[34m\u001b[1mDEBUG | Prompt: [ToolUsePrompt(output='Starting music! Genre: jazz, Volume: 0.6926396892923625, BPM: 120', error=None, call_id='tooluse_p8JtJcSQTBiPGTjX7QByCg', args='{\"genre\":\"jazz\"}', name='start_music'), ToolUsePrompt(output='Changing volume to 0.3', error=None, call_id='tooluse_HXeIQTNaSR2WDYtQFhyywA', args='{\"volume\":0.3}', name='change_music_volume')]\u001b[0m\n",
      "\u001b[32m[2025-01-14 10:03:09]\u001b[0m \u001b[1mINFO | root: Generating text\u001b[0m\n"
     ]
    },
    {
     "name": "stdout",
     "output_type": "stream",
     "text": [
      "<thinking\n",
      "<thinking>\n",
      "<thinking> The\n",
      "<thinking> The tool\n",
      "<thinking> The tool results\n",
      "<thinking> The tool results indicate\n",
      "<thinking> The tool results indicate that\n",
      "<thinking> The tool results indicate that jazz\n",
      "<thinking> The tool results indicate that jazz music\n",
      "<thinking> The tool results indicate that jazz music has\n",
      "<thinking> The tool results indicate that jazz music has been\n",
      "<thinking> The tool results indicate that jazz music has been started\n",
      "<thinking> The tool results indicate that jazz music has been started and\n",
      "<thinking> The tool results indicate that jazz music has been started and the\n",
      "<thinking> The tool results indicate that jazz music has been started and the volume\n",
      "<thinking> The tool results indicate that jazz music has been started and the volume has\n",
      "<thinking> The tool results indicate that jazz music has been started and the volume has been\n",
      "<thinking> The tool results indicate that jazz music has been started and the volume has been changed\n",
      "<thinking> The tool results indicate that jazz music has been started and the volume has been changed to\n",
      "<thinking> The tool results indicate that jazz music has been started and the volume has been changed to 0\n",
      "<thinking> The tool results indicate that jazz music has been started and the volume has been changed to 0.\n",
      "<thinking> The tool results indicate that jazz music has been started and the volume has been changed to 0.3\n",
      "<thinking> The tool results indicate that jazz music has been started and the volume has been changed to 0.3.\n",
      "<thinking> The tool results indicate that jazz music has been started and the volume has been changed to 0.3. I\n",
      "<thinking> The tool results indicate that jazz music has been started and the volume has been changed to 0.3. I should\n",
      "<thinking> The tool results indicate that jazz music has been started and the volume has been changed to 0.3. I should inform\n",
      "<thinking> The tool results indicate that jazz music has been started and the volume has been changed to 0.3. I should inform the\n",
      "<thinking> The tool results indicate that jazz music has been started and the volume has been changed to 0.3. I should inform the user\n",
      "<thinking> The tool results indicate that jazz music has been started and the volume has been changed to 0.3. I should inform the user that\n",
      "<thinking> The tool results indicate that jazz music has been started and the volume has been changed to 0.3. I should inform the user that their\n",
      "<thinking> The tool results indicate that jazz music has been started and the volume has been changed to 0.3. I should inform the user that their request\n",
      "<thinking> The tool results indicate that jazz music has been started and the volume has been changed to 0.3. I should inform the user that their request has\n",
      "<thinking> The tool results indicate that jazz music has been started and the volume has been changed to 0.3. I should inform the user that their request has been\n",
      "<thinking> The tool results indicate that jazz music has been started and the volume has been changed to 0.3. I should inform the user that their request has been fulfilled\n",
      "<thinking> The tool results indicate that jazz music has been started and the volume has been changed to 0.3. I should inform the user that their request has been fulfilled.\n",
      "<thinking> The tool results indicate that jazz music has been started and the volume has been changed to 0.3. I should inform the user that their request has been fulfilled. </\n",
      "<thinking> The tool results indicate that jazz music has been started and the volume has been changed to 0.3. I should inform the user that their request has been fulfilled. </thinking\n",
      "<thinking> The tool results indicate that jazz music has been started and the volume has been changed to 0.3. I should inform the user that their request has been fulfilled. </thinking>\n",
      "<thinking> The tool results indicate that jazz music has been started and the volume has been changed to 0.3. I should inform the user that their request has been fulfilled. </thinking> The\n",
      "<thinking> The tool results indicate that jazz music has been started and the volume has been changed to 0.3. I should inform the user that their request has been fulfilled. </thinking> The jazz\n",
      "<thinking> The tool results indicate that jazz music has been started and the volume has been changed to 0.3. I should inform the user that their request has been fulfilled. </thinking> The jazz music\n",
      "<thinking> The tool results indicate that jazz music has been started and the volume has been changed to 0.3. I should inform the user that their request has been fulfilled. </thinking> The jazz music has\n",
      "<thinking> The tool results indicate that jazz music has been started and the volume has been changed to 0.3. I should inform the user that their request has been fulfilled. </thinking> The jazz music has been\n",
      "<thinking> The tool results indicate that jazz music has been started and the volume has been changed to 0.3. I should inform the user that their request has been fulfilled. </thinking> The jazz music has been started\n",
      "<thinking> The tool results indicate that jazz music has been started and the volume has been changed to 0.3. I should inform the user that their request has been fulfilled. </thinking> The jazz music has been started and\n",
      "<thinking> The tool results indicate that jazz music has been started and the volume has been changed to 0.3. I should inform the user that their request has been fulfilled. </thinking> The jazz music has been started and the\n",
      "<thinking> The tool results indicate that jazz music has been started and the volume has been changed to 0.3. I should inform the user that their request has been fulfilled. </thinking> The jazz music has been started and the volume\n",
      "<thinking> The tool results indicate that jazz music has been started and the volume has been changed to 0.3. I should inform the user that their request has been fulfilled. </thinking> The jazz music has been started and the volume has\n",
      "<thinking> The tool results indicate that jazz music has been started and the volume has been changed to 0.3. I should inform the user that their request has been fulfilled. </thinking> The jazz music has been started and the volume has been\n",
      "<thinking> The tool results indicate that jazz music has been started and the volume has been changed to 0.3. I should inform the user that their request has been fulfilled. </thinking> The jazz music has been started and the volume has been adjusted\n",
      "<thinking> The tool results indicate that jazz music has been started and the volume has been changed to 0.3. I should inform the user that their request has been fulfilled. </thinking> The jazz music has been started and the volume has been adjusted to\n",
      "<thinking> The tool results indicate that jazz music has been started and the volume has been changed to 0.3. I should inform the user that their request has been fulfilled. </thinking> The jazz music has been started and the volume has been adjusted to a\n",
      "<thinking> The tool results indicate that jazz music has been started and the volume has been changed to 0.3. I should inform the user that their request has been fulfilled. </thinking> The jazz music has been started and the volume has been adjusted to a low\n",
      "<thinking> The tool results indicate that jazz music has been started and the volume has been changed to 0.3. I should inform the user that their request has been fulfilled. </thinking> The jazz music has been started and the volume has been adjusted to a low level\n",
      "<thinking> The tool results indicate that jazz music has been started and the volume has been changed to 0.3. I should inform the user that their request has been fulfilled. </thinking> The jazz music has been started and the volume has been adjusted to a low level as\n",
      "<thinking> The tool results indicate that jazz music has been started and the volume has been changed to 0.3. I should inform the user that their request has been fulfilled. </thinking> The jazz music has been started and the volume has been adjusted to a low level as per\n",
      "<thinking> The tool results indicate that jazz music has been started and the volume has been changed to 0.3. I should inform the user that their request has been fulfilled. </thinking> The jazz music has been started and the volume has been adjusted to a low level as per your\n",
      "<thinking> The tool results indicate that jazz music has been started and the volume has been changed to 0.3. I should inform the user that their request has been fulfilled. </thinking> The jazz music has been started and the volume has been adjusted to a low level as per your request\n",
      "<thinking> The tool results indicate that jazz music has been started and the volume has been changed to 0.3. I should inform the user that their request has been fulfilled. </thinking> The jazz music has been started and the volume has been adjusted to a low level as per your request.\n",
      "<thinking> The tool results indicate that jazz music has been started and the volume has been changed to 0.3. I should inform the user that their request has been fulfilled. </thinking> The jazz music has been started and the volume has been adjusted to a low level as per your request. Enjoy\n",
      "<thinking> The tool results indicate that jazz music has been started and the volume has been changed to 0.3. I should inform the user that their request has been fulfilled. </thinking> The jazz music has been started and the volume has been adjusted to a low level as per your request. Enjoy the\n",
      "<thinking> The tool results indicate that jazz music has been started and the volume has been changed to 0.3. I should inform the user that their request has been fulfilled. </thinking> The jazz music has been started and the volume has been adjusted to a low level as per your request. Enjoy the music\n",
      "<thinking> The tool results indicate that jazz music has been started and the volume has been changed to 0.3. I should inform the user that their request has been fulfilled. </thinking> The jazz music has been started and the volume has been adjusted to a low level as per your request. Enjoy the music!\n"
     ]
    },
    {
     "name": "stderr",
     "output_type": "stream",
     "text": [
      "\u001b[32m[2025-01-14 10:03:10]\u001b[0m \u001b[34m\u001b[1mDEBUG | Response: [TextResponse(text='<thinking> The tool results indicate that jazz music has been started and the volume has been changed to 0.3. I should inform the user that their request has been fulfilled. </thinking> The jazz music has been started and the volume has been adjusted to a low level as per your request. Enjoy the music!')]\u001b[0m\n"
     ]
    },
    {
     "name": "stdout",
     "output_type": "stream",
     "text": [
      "<thinking> The tool results indicate that jazz music has been started and the volume has been changed to 0.3. I should inform the user that their request has been fulfilled. </thinking> The jazz music has been started and the volume has been adjusted to a low level as per your request. Enjoy the music!\n"
     ]
    }
   ],
   "source": [
    "streamed_response = bedrock_agent.stream_text(prompt)\n",
    "\n",
    "for chunk in streamed_response:\n",
    "    for content in chunk.contents:\n",
    "        if isinstance(content, TextResponse):\n",
    "            print(content.text, flush=True)\n",
    "        elif isinstance(content, ToolCallResponse):\n",
    "            print(content.args, flush=True)"
   ]
  },
  {
   "cell_type": "markdown",
   "metadata": {},
   "source": [
    "NOTE : Bedrock client currently doesn't support asynchronous generation."
   ]
  },
  {
   "cell_type": "markdown",
   "metadata": {},
   "source": [
    "# Structured output using tool calling"
   ]
  },
  {
   "cell_type": "markdown",
   "metadata": {},
   "source": [
    "## Response schema as a tool"
   ]
  },
  {
   "cell_type": "markdown",
   "metadata": {},
   "source": [
    "Structured output in langrila is just tool calling (please refer to [01.introduction.ipynb](./01.introduction.ipynb)), so you can get structured response even if you are using tool calling."
   ]
  },
  {
   "cell_type": "code",
   "execution_count": 36,
   "metadata": {},
   "outputs": [],
   "source": [
    "from pydantic import BaseModel, Field\n",
    "\n",
    "\n",
    "class RessponseSchema(BaseModel):\n",
    "    genre: MusicGenre = Field(\n",
    "        ...,\n",
    "        description=\"The genre of music.\",\n",
    "    )\n",
    "    bpm: int = Field(\n",
    "        ...,\n",
    "        description=\"The beats per minute of the music.\",\n",
    "        ge=50,\n",
    "        le=200,\n",
    "    )\n",
    "    volume: float = Field(\n",
    "        ...,\n",
    "        description=\"The volume level of the music.\",\n",
    "        ge=0,\n",
    "        le=1,\n",
    "    )\n",
    "    equalizer_settings: EqualizerSettings = Field(\n",
    "        ...,\n",
    "        description=\"The equalizer settings.\",\n",
    "    )"
   ]
  },
  {
   "cell_type": "code",
   "execution_count": 37,
   "metadata": {},
   "outputs": [],
   "source": [
    "openai_agent = Agent(\n",
    "    client=openai_client,\n",
    "    model=\"gpt-4o-mini-2024-07-18\",\n",
    "    temperature=0.0,\n",
    "    tools=tools,\n",
    "    # planning=True,\n",
    "    response_schema_as_tool=RessponseSchema,\n",
    ")"
   ]
  },
  {
   "cell_type": "code",
   "execution_count": 38,
   "metadata": {},
   "outputs": [
    {
     "name": "stderr",
     "output_type": "stream",
     "text": [
      "\u001b[32m[2025-01-14 10:03:10]\u001b[0m \u001b[34m\u001b[1mDEBUG | Prompt: [TextPrompt(text='Play some music, well, play jazz music and prefer to low volume.')]\u001b[0m\n",
      "\u001b[32m[2025-01-14 10:03:10]\u001b[0m \u001b[1mINFO | root: Generating text\u001b[0m\n",
      "\u001b[32m[2025-01-14 10:03:11]\u001b[0m \u001b[34m\u001b[1mDEBUG | Response: [ToolCallResponse(name='start_music', args='{\"genre\":\"jazz\"}', call_id='call_fo9rIvtcAJhZJZonpwhmpVF1')]\u001b[0m\n",
      "\u001b[32m[2025-01-14 10:03:11]\u001b[0m \u001b[1mINFO | Running tool: start_music\u001b[0m\n",
      "\u001b[32m[2025-01-14 10:03:11]\u001b[0m \u001b[1mINFO | Tool: start_music successfully ran.\u001b[0m\n",
      "\u001b[32m[2025-01-14 10:03:11]\u001b[0m \u001b[34m\u001b[1mDEBUG | Prompt: [ToolUsePrompt(output='Starting music! Genre: jazz, Volume: 0.7396531309585548, BPM: 120', error=None, call_id='call_fo9rIvtcAJhZJZonpwhmpVF1', args='{\"genre\":\"jazz\"}', name='start_music')]\u001b[0m\n",
      "\u001b[32m[2025-01-14 10:03:11]\u001b[0m \u001b[1mINFO | root: Generating text\u001b[0m\n",
      "\u001b[32m[2025-01-14 10:03:12]\u001b[0m \u001b[34m\u001b[1mDEBUG | Response: [ToolCallResponse(name='change_music_volume', args='{\"volume\":0.2}', call_id='call_M1K4ZsRqpAZzUorAwsyvGem9')]\u001b[0m\n",
      "\u001b[32m[2025-01-14 10:03:12]\u001b[0m \u001b[1mINFO | Running tool: change_music_volume\u001b[0m\n",
      "\u001b[32m[2025-01-14 10:03:12]\u001b[0m \u001b[1mINFO | Tool: change_music_volume successfully ran.\u001b[0m\n",
      "\u001b[32m[2025-01-14 10:03:12]\u001b[0m \u001b[34m\u001b[1mDEBUG | Prompt: [ToolUsePrompt(output='Changing volume to 0.2', error=None, call_id='call_M1K4ZsRqpAZzUorAwsyvGem9', args='{\"volume\":0.2}', name='change_music_volume')]\u001b[0m\n",
      "\u001b[32m[2025-01-14 10:03:12]\u001b[0m \u001b[1mINFO | root: Generating text\u001b[0m\n",
      "\u001b[32m[2025-01-14 10:03:13]\u001b[0m \u001b[34m\u001b[1mDEBUG | Response: [TextResponse(text=\"I've started playing jazz music at a low volume. Enjoy!\")]\u001b[0m\n",
      "\u001b[32m[2025-01-14 10:03:13]\u001b[0m \u001b[34m\u001b[1mDEBUG | Prompt: [TextPrompt(text=\"Decide the next action based on the conversation. If you have all information for answering the user, run 'final_result' tool. If you need more information, invoke other tool to get necessary information. \")]\u001b[0m\n",
      "\u001b[32m[2025-01-14 10:03:13]\u001b[0m \u001b[1mINFO | root: Generating text\u001b[0m\n",
      "\u001b[32m[2025-01-14 10:03:13]\u001b[0m \u001b[34m\u001b[1mDEBUG | Response: [ToolCallResponse(name='final_answer', args='{\"genre\":\"jazz\",\"bpm\":120,\"volume\":0.2,\"equalizer_settings\":{}}', call_id='call_hxb9amZBLlkXhsjNvGjpr1QW')]\u001b[0m\n",
      "\u001b[32m[2025-01-14 10:03:13]\u001b[0m \u001b[1mINFO | Running tool: final_answer\u001b[0m\n",
      "\u001b[32m[2025-01-14 10:03:13]\u001b[0m \u001b[1mINFO | Tool: final_answer successfully ran.\u001b[0m\n",
      "\u001b[32m[2025-01-14 10:03:13]\u001b[0m \u001b[34m\u001b[1mDEBUG | Final result: [TextResponse(text='{\"genre\": \"jazz\", \"bpm\": 120, \"volume\": 0.2, \"equalizer_settings\": {}}')]\u001b[0m\n"
     ]
    },
    {
     "data": {
      "text/plain": [
       "RessponseSchema(genre=<MusicGenre.jazz: 'jazz'>, bpm=120, volume=0.2, equalizer_settings=EqualizerSettings(hz_100=0, hz_200=0, hz_400=0, hz_800=0, hz_1600=0, hz_3200=0, hz_6400=0))"
      ]
     },
     "execution_count": 38,
     "metadata": {},
     "output_type": "execute_result"
    }
   ],
   "source": [
    "response = openai_agent.generate_text(prompt)\n",
    "\n",
    "RessponseSchema.model_validate_json(response.contents[0].text)"
   ]
  },
  {
   "cell_type": "markdown",
   "metadata": {},
   "source": [
    "Same for other clients, so examples will be omitted."
   ]
  },
  {
   "cell_type": "markdown",
   "metadata": {},
   "source": [
    "## Native response schema"
   ]
  },
  {
   "cell_type": "markdown",
   "metadata": {},
   "source": [
    "If you want to use native structured output, you can specify the original parameters of LLM provider API. For example, for OpenAI API, you can use `response_format` parameter supported by OpenAI API natively. Please be aware of limitations of the API in this case."
   ]
  },
  {
   "cell_type": "code",
   "execution_count": 39,
   "metadata": {},
   "outputs": [],
   "source": [
    "from pydantic import BaseModel, Field\n",
    "\n",
    "\n",
    "# default value and range limitation are not supported by OpenAI API's response format\n",
    "class NativeEqualizerSettings(BaseModel):\n",
    "    hz_100: int = Field(\n",
    "        ...,\n",
    "        description=\"The 100 Hz band in dB. It should be between -12 and 12. Default is 0.\",\n",
    "    )\n",
    "    hz_200: int = Field(\n",
    "        ...,\n",
    "        description=\"The 200 Hz band in dB. It should be between -12 and 12. Default is 0.\",\n",
    "    )\n",
    "    hz_400: int = Field(\n",
    "        ...,\n",
    "        description=\"The 400 Hz band in dB. It should be between -12 and 12. Default is 0.\",\n",
    "    )\n",
    "    hz_800: int = Field(\n",
    "        ...,\n",
    "        description=\"The 800 Hz band in dB. It should be between -12 and 12. Default is 0.\",\n",
    "    )\n",
    "    hz_1600: int = Field(\n",
    "        ...,\n",
    "        description=\"The 1600 Hz band in dB. It should be between -12 and 12. Default is 0.\",\n",
    "    )\n",
    "    hz_3200: int = Field(\n",
    "        ...,\n",
    "        description=\"The 3200 Hz band in dB. It should be between -12 and 12. Default is 0.\",\n",
    "    )\n",
    "    hz_6400: int = Field(\n",
    "        ...,\n",
    "        description=\"The 4000 Hz band in dB. It should be between -12 and 12. Default is 0.\",\n",
    "    )\n",
    "\n",
    "\n",
    "class NativeResponseSchema(BaseModel):\n",
    "    genre: MusicGenre = Field(..., description=\"The genre of music to play.\")\n",
    "    bpm: int = Field(\n",
    "        ...,\n",
    "        description=\"The BPM of the music.\",\n",
    "    )\n",
    "    volume: float = Field(\n",
    "        ...,\n",
    "        description=\"The volume level to set the music to. It should be between 0.0 and 1.0.\",\n",
    "    )\n",
    "    equalizer_settings: NativeEqualizerSettings = Field(\n",
    "        ..., description=\"The equalizer settings to set.\"\n",
    "    )"
   ]
  },
  {
   "cell_type": "markdown",
   "metadata": {},
   "source": [
    "Re-definition to use native response format."
   ]
  },
  {
   "cell_type": "code",
   "execution_count": 40,
   "metadata": {},
   "outputs": [],
   "source": [
    "def change_equalizer_settings_native(settings: NativeEqualizerSettings) -> str:\n",
    "    \"\"\"\n",
    "    Change the equalizer settings of the music.\n",
    "\n",
    "    Parameters\n",
    "    ----------\n",
    "    settings : NativeEqualizerSettings\n",
    "        The new equalizer settings to set.\n",
    "\n",
    "    Returns\n",
    "    ----------\n",
    "    str\n",
    "        A message indicating that the equalizer settings have been changed.\n",
    "    \"\"\"\n",
    "    return f\"Changing equalizer settings to {settings.model_dump()}\""
   ]
  },
  {
   "cell_type": "code",
   "execution_count": 41,
   "metadata": {},
   "outputs": [],
   "source": [
    "tools_native = [start_music, change_music_volume, change_music, change_equalizer_settings_native]"
   ]
  },
  {
   "cell_type": "code",
   "execution_count": 42,
   "metadata": {},
   "outputs": [],
   "source": [
    "openai_agent_native = Agent(\n",
    "    client=openai_client,\n",
    "    model=\"gpt-4o-mini-2024-07-18\",\n",
    "    tools=tools_native,\n",
    "    response_format=NativeResponseSchema,\n",
    ")"
   ]
  },
  {
   "cell_type": "code",
   "execution_count": 43,
   "metadata": {},
   "outputs": [
    {
     "name": "stderr",
     "output_type": "stream",
     "text": [
      "\u001b[32m[2025-01-14 10:03:14]\u001b[0m \u001b[34m\u001b[1mDEBUG | Prompt: [TextPrompt(text='Play some music, well, play jazz music and prefer to low volume.')]\u001b[0m\n",
      "\u001b[32m[2025-01-14 10:03:14]\u001b[0m \u001b[1mINFO | root: Generating text\u001b[0m\n",
      "\u001b[32m[2025-01-14 10:03:15]\u001b[0m \u001b[34m\u001b[1mDEBUG | Response: [ToolCallResponse(name='start_music', args='{\"genre\": \"jazz\"}', call_id='call_i1CTL37edgAhUeJu1XVq9eIK'), ToolCallResponse(name='change_music_volume', args='{\"volume\": 0.3}', call_id='call_UQqLCxj3YcK6UoeBnZ7ttxfJ')]\u001b[0m\n",
      "\u001b[32m[2025-01-14 10:03:15]\u001b[0m \u001b[1mINFO | Running tool: start_music\u001b[0m\n",
      "\u001b[32m[2025-01-14 10:03:15]\u001b[0m \u001b[1mINFO | Tool: start_music successfully ran.\u001b[0m\n",
      "\u001b[32m[2025-01-14 10:03:15]\u001b[0m \u001b[1mINFO | Running tool: change_music_volume\u001b[0m\n",
      "\u001b[32m[2025-01-14 10:03:15]\u001b[0m \u001b[1mINFO | Tool: change_music_volume successfully ran.\u001b[0m\n",
      "\u001b[32m[2025-01-14 10:03:15]\u001b[0m \u001b[34m\u001b[1mDEBUG | Prompt: [ToolUsePrompt(output='Starting music! Genre: jazz, Volume: 0.9277869537693915, BPM: 120', error=None, call_id='call_i1CTL37edgAhUeJu1XVq9eIK', args='{\"genre\": \"jazz\"}', name='start_music'), ToolUsePrompt(output='Changing volume to 0.3', error=None, call_id='call_UQqLCxj3YcK6UoeBnZ7ttxfJ', args='{\"volume\": 0.3}', name='change_music_volume')]\u001b[0m\n",
      "\u001b[32m[2025-01-14 10:03:15]\u001b[0m \u001b[1mINFO | root: Generating text\u001b[0m\n",
      "\u001b[32m[2025-01-14 10:03:16]\u001b[0m \u001b[34m\u001b[1mDEBUG | Response: [TextResponse(text='{\"genre\":\"jazz\",\"bpm\":120,\"volume\":0.3,\"equalizer_settings\":{\"hz_100\":0,\"hz_200\":0,\"hz_400\":0,\"hz_800\":0,\"hz_1600\":0,\"hz_3200\":0,\"hz_6400\":0}}')]\u001b[0m\n"
     ]
    },
    {
     "data": {
      "text/plain": [
       "NativeResponseSchema(genre=<MusicGenre.jazz: 'jazz'>, bpm=120, volume=0.3, equalizer_settings=NativeEqualizerSettings(hz_100=0, hz_200=0, hz_400=0, hz_800=0, hz_1600=0, hz_3200=0, hz_6400=0))"
      ]
     },
     "execution_count": 43,
     "metadata": {},
     "output_type": "execute_result"
    }
   ],
   "source": [
    "response = openai_agent_native.generate_text(prompt)\n",
    "\n",
    "NativeResponseSchema.model_validate_json(response.contents[0].text)"
   ]
  },
  {
   "cell_type": "markdown",
   "metadata": {},
   "source": [
    "# Dependency injection"
   ]
  },
  {
   "cell_type": "markdown",
   "metadata": {},
   "source": [
    "While tools can be passed to an Agent directly as functions, using the Tool class allows for more flexible control. One example of this flexibility is dependency injection. \n",
    "\n",
    "Standard tool calling requires the LLM to generate all arguments specified as 'required'. For arguments not specified as 'required', either a default value or a value generated by the LLM is used.\n",
    "\n",
    "With the Tool class, you can use a 'context' argument to separate parameters into those generated by the LLM and those injected from an external source. This notebook demonstrates an example of this approach."
   ]
  },
  {
   "cell_type": "markdown",
   "metadata": {},
   "source": [
    "Here is an example of tool invokes an other agent. "
   ]
  },
  {
   "cell_type": "code",
   "execution_count": 44,
   "metadata": {},
   "outputs": [],
   "source": [
    "def run_music_agent(\n",
    "    agent: Agent,  # type: ignore\n",
    "    agent_name: str,\n",
    "    instruction: str,\n",
    ") -> str:\n",
    "    \"\"\"\n",
    "    This function is used to run the agent which has the capabilities to manage the music settings.\n",
    "    Agent can use the following tools:\n",
    "\n",
    "    Tools:\n",
    "    start_music: Turn on the music. The genre, BPM, and volume are randomly selected.\n",
    "    change_bpm: Change the BPM of the music.\n",
    "    change_music: Change the music genre and BPM.\n",
    "\n",
    "    Parameters\n",
    "    ----------\n",
    "    agent : Agent\n",
    "        The agent instance.\n",
    "    agent_name : str\n",
    "        The name of the agent.\n",
    "    instruction : str\n",
    "        The detail and specific instruction to the agent, including the plan to get answer.\n",
    "\n",
    "    Returns\n",
    "    ----------\n",
    "    str\n",
    "        The response from the agent.\n",
    "    \"\"\"\n",
    "    if not isinstance(agent, Agent):\n",
    "        raise ValueError(\n",
    "            \"Subagent must be an instance of Agent class. \"\n",
    "            \"Please provide the correct agent instance.\"\n",
    "        )\n",
    "\n",
    "    return agent.generate_text(instruction, name=agent_name).contents[0].text  # type: ignore"
   ]
  },
  {
   "cell_type": "markdown",
   "metadata": {},
   "source": [
    "To show tha example of dependency injection, two agents are defined; `music_agent` for managing music setting, and another agent calls `music_agent`."
   ]
  },
  {
   "cell_type": "code",
   "execution_count": 45,
   "metadata": {},
   "outputs": [],
   "source": [
    "# The agent for managing music settings\n",
    "music_agent = Agent(\n",
    "    client=openai_client,\n",
    "    model=\"gpt-4o-mini-2024-07-18\",\n",
    "    temperature=0.0,\n",
    "    tools=[start_music, change_music_volume, change_music, change_equalizer_settings],\n",
    ")\n",
    "\n",
    "# The main agent to call the music agent\n",
    "agent = Agent(\n",
    "    client=openai_client,\n",
    "    model=\"gpt-4o-mini-2024-07-18\",\n",
    "    tools=[\n",
    "        Tool(tool=run_music_agent, context={\"agent\": music_agent, \"agent_name\": \"music_agent\"}),\n",
    "    ],\n",
    ")"
   ]
  },
  {
   "cell_type": "markdown",
   "metadata": {},
   "source": [
    "The tool's parameters specified in the context arguments of Tool instance are injected externally. In this case, `agent` argument and `agent_name` argument of the run_music_agent tool are injected."
   ]
  },
  {
   "cell_type": "code",
   "execution_count": 46,
   "metadata": {},
   "outputs": [
    {
     "data": {
      "text/plain": [
       "{'agent': Agent(name=root), 'agent_name': 'music_agent'}"
      ]
     },
     "execution_count": 46,
     "metadata": {},
     "output_type": "execute_result"
    }
   ],
   "source": [
    "agent.tools[0].context"
   ]
  },
  {
   "cell_type": "code",
   "execution_count": 47,
   "metadata": {},
   "outputs": [
    {
     "name": "stderr",
     "output_type": "stream",
     "text": [
      "\u001b[32m[2025-01-14 10:03:16]\u001b[0m \u001b[34m\u001b[1mDEBUG | Prompt: [TextPrompt(text='Play some music, well, play jazz music and prefer to low volume.')]\u001b[0m\n",
      "\u001b[32m[2025-01-14 10:03:16]\u001b[0m \u001b[1mINFO | root: Generating text\u001b[0m\n",
      "\u001b[32m[2025-01-14 10:03:17]\u001b[0m \u001b[34m\u001b[1mDEBUG | Response: [ToolCallResponse(name='run_music_agent', args='{\"instruction\":\"Start playing jazz music at a low volume.\"}', call_id='call_ioySokB23DqRoE6aRQ0xADJP')]\u001b[0m\n",
      "\u001b[32m[2025-01-14 10:03:17]\u001b[0m \u001b[1mINFO | Running tool: run_music_agent\u001b[0m\n",
      "\u001b[32m[2025-01-14 10:03:17]\u001b[0m \u001b[34m\u001b[1mDEBUG | Prompt: [TextPrompt(text='Start playing jazz music at a low volume.')]\u001b[0m\n",
      "\u001b[32m[2025-01-14 10:03:17]\u001b[0m \u001b[1mINFO | music_agent: Generating text\u001b[0m\n",
      "\u001b[32m[2025-01-14 10:03:18]\u001b[0m \u001b[34m\u001b[1mDEBUG | Response: [ToolCallResponse(name='start_music', args='{\"genre\": \"jazz\"}', call_id='call_pxq5aDtoFC73DYTaBk5JceN1'), ToolCallResponse(name='change_music_volume', args='{\"volume\": 0.2}', call_id='call_zyRwdhZMOKBlSmtUjjOucnSR')]\u001b[0m\n",
      "\u001b[32m[2025-01-14 10:03:18]\u001b[0m \u001b[1mINFO | Running tool: start_music\u001b[0m\n",
      "\u001b[32m[2025-01-14 10:03:18]\u001b[0m \u001b[1mINFO | Tool: start_music successfully ran.\u001b[0m\n",
      "\u001b[32m[2025-01-14 10:03:18]\u001b[0m \u001b[1mINFO | Running tool: change_music_volume\u001b[0m\n",
      "\u001b[32m[2025-01-14 10:03:18]\u001b[0m \u001b[1mINFO | Tool: change_music_volume successfully ran.\u001b[0m\n",
      "\u001b[32m[2025-01-14 10:03:18]\u001b[0m \u001b[34m\u001b[1mDEBUG | Prompt: [ToolUsePrompt(output='Starting music! Genre: jazz, Volume: 0.7597212679627023, BPM: 120', error=None, call_id='call_pxq5aDtoFC73DYTaBk5JceN1', args='{\"genre\": \"jazz\"}', name='start_music'), ToolUsePrompt(output='Changing volume to 0.2', error=None, call_id='call_zyRwdhZMOKBlSmtUjjOucnSR', args='{\"volume\": 0.2}', name='change_music_volume')]\u001b[0m\n",
      "\u001b[32m[2025-01-14 10:03:18]\u001b[0m \u001b[1mINFO | music_agent: Generating text\u001b[0m\n",
      "\u001b[32m[2025-01-14 10:03:19]\u001b[0m \u001b[34m\u001b[1mDEBUG | Response: [TextResponse(text='Jazz music has started playing at a low volume. Enjoy the tunes!')]\u001b[0m\n",
      "\u001b[32m[2025-01-14 10:03:19]\u001b[0m \u001b[1mINFO | Tool: run_music_agent successfully ran.\u001b[0m\n",
      "\u001b[32m[2025-01-14 10:03:19]\u001b[0m \u001b[34m\u001b[1mDEBUG | Prompt: [ToolUsePrompt(output='Jazz music has started playing at a low volume. Enjoy the tunes!', error=None, call_id='call_ioySokB23DqRoE6aRQ0xADJP', args='{\"instruction\":\"Start playing jazz music at a low volume.\"}', name='run_music_agent')]\u001b[0m\n",
      "\u001b[32m[2025-01-14 10:03:19]\u001b[0m \u001b[1mINFO | root: Generating text\u001b[0m\n",
      "\u001b[32m[2025-01-14 10:03:19]\u001b[0m \u001b[34m\u001b[1mDEBUG | Response: [TextResponse(text='Jazz music has started playing at a low volume. Enjoy the tunes!')]\u001b[0m\n"
     ]
    }
   ],
   "source": [
    "response = agent.generate_text(prompt)"
   ]
  },
  {
   "cell_type": "markdown",
   "metadata": {},
   "source": [
    "As you can see in the log messages above, the agent instance invoked music_agent, but the parameters created by the agent to call `music_agent` is only `instruction` argument while `agent` argument and `agent_name` are injected. The arguments are also validated when the tool is called. If you passed wrong value for a context parameter, the error will occur when run tool."
   ]
  },
  {
   "cell_type": "code",
   "execution_count": 48,
   "metadata": {},
   "outputs": [],
   "source": [
    "from langrila import AgentConfig\n",
    "\n",
    "# Define not to retry the request even if an error occurs\n",
    "agent_config = AgentConfig(\n",
    "    max_error_retries=1,\n",
    ")\n",
    "\n",
    "# The main agent to call the music agent\n",
    "agent = Agent(\n",
    "    client=openai_client,\n",
    "    model=\"gpt-4o-mini-2024-07-18\",\n",
    "    tools=[\n",
    "        Tool(\n",
    "            tool=run_music_agent,\n",
    "            # wrong for agent argument below\n",
    "            context={\"agent\": \"wrong_value\", \"agent_name\": \"music_agent\"},\n",
    "        ),\n",
    "    ],\n",
    "    agent_config=agent_config,\n",
    ")"
   ]
  },
  {
   "cell_type": "code",
   "execution_count": 49,
   "metadata": {},
   "outputs": [
    {
     "name": "stderr",
     "output_type": "stream",
     "text": [
      "\u001b[32m[2025-01-14 10:03:19]\u001b[0m \u001b[34m\u001b[1mDEBUG | Prompt: [TextPrompt(text='Play some music, well, play jazz music and prefer to low volume.')]\u001b[0m\n",
      "\u001b[32m[2025-01-14 10:03:19]\u001b[0m \u001b[1mINFO | root: Generating text\u001b[0m\n",
      "\u001b[32m[2025-01-14 10:03:20]\u001b[0m \u001b[34m\u001b[1mDEBUG | Response: [ToolCallResponse(name='run_music_agent', args='{\"instruction\":\"Start playing jazz music at a low volume.\"}', call_id='call_FLHzRCpKH7WY6qA4TLTM1mjR')]\u001b[0m\n",
      "\u001b[32m[2025-01-14 10:03:20]\u001b[0m \u001b[1mINFO | Running tool: run_music_agent\u001b[0m\n",
      "\u001b[32m[2025-01-14 10:03:20]\u001b[0m \u001b[31m\u001b[1mERROR | Validation error occurred while running tool. Retrying...\n",
      "Tool: run_music_agent\n",
      "Attribute: agent\n",
      "Input value: wrong_value\n",
      "ValidationError: Input should be an instance of Agent\u001b[0m\n"
     ]
    },
    {
     "ename": "RetryLimitExceededError",
     "evalue": "Retry limit exceeded. Please try again or change the request parameters.",
     "output_type": "error",
     "traceback": [
      "\u001b[0;31m---------------------------------------------------------------------------\u001b[0m",
      "\u001b[0;31mRetryLimitExceededError\u001b[0m                   Traceback (most recent call last)",
      "Cell \u001b[0;32mIn[49], line 1\u001b[0m\n\u001b[0;32m----> 1\u001b[0m response \u001b[38;5;241m=\u001b[39m \u001b[43magent\u001b[49m\u001b[38;5;241;43m.\u001b[39;49m\u001b[43mgenerate_text\u001b[49m\u001b[43m(\u001b[49m\u001b[43mprompt\u001b[49m\u001b[43m)\u001b[49m\n",
      "File \u001b[0;32m~/langrila-dev/experimentation/langrila/src/langrila/core/agent.py:530\u001b[0m, in \u001b[0;36mAgent.generate_text\u001b[0;34m(self, prompt, system_instruction, response_schema_as_tool, **kwargs)\u001b[0m\n\u001b[1;32m    525\u001b[0m                         messages\u001b[38;5;241m.\u001b[39mappend(\n\u001b[1;32m    526\u001b[0m                             Prompt(contents\u001b[38;5;241m=\u001b[39m\u001b[38;5;28mself\u001b[39m\u001b[38;5;241m.\u001b[39m__no_tool_use_retry_prompt, role\u001b[38;5;241m=\u001b[39m\u001b[38;5;124m\"\u001b[39m\u001b[38;5;124muser\u001b[39m\u001b[38;5;124m\"\u001b[39m)\n\u001b[1;32m    527\u001b[0m                         )\n\u001b[1;32m    529\u001b[0m \u001b[38;5;28;01mif\u001b[39;00m \u001b[38;5;129;01mnot\u001b[39;00m ctx:\n\u001b[0;32m--> 530\u001b[0m     \u001b[38;5;28;01mraise\u001b[39;00m RetryLimitExceededError()\n\u001b[1;32m    532\u001b[0m messages_list\u001b[38;5;241m.\u001b[39mappend(messages[init_len_messages:])\n\u001b[1;32m    533\u001b[0m \u001b[38;5;28mself\u001b[39m\u001b[38;5;241m.\u001b[39mstore_history(messages_list)\n",
      "\u001b[0;31mRetryLimitExceededError\u001b[0m: Retry limit exceeded. Please try again or change the request parameters."
     ]
    }
   ],
   "source": [
    "response = agent.generate_text(prompt)"
   ]
  },
  {
   "cell_type": "markdown",
   "metadata": {},
   "source": [
    "Actually the tools calling other agent such as this are dynamically created in the Agent class if you pass the subagents parameter of the agent, but in this notebook, dared to define a tool as an example and passed it to the Agent class as a tool. For multi-agent example, Please refer to [03.multi_agent.ipynb](./03.multi_agent.ipynb)"
   ]
  },
  {
   "cell_type": "markdown",
   "metadata": {},
   "source": [
    "# Tool result serializer"
   ]
  },
  {
   "cell_type": "markdown",
   "metadata": {},
   "source": [
    "Tool class accepts `serializer` parameter that is callable object to convert any value to string. `str` is used in default, but you can also use custom serializer. This capability allows us to reuse the tools implemented in daily development by only implementing serializer. Let's change the example above using custom serializer."
   ]
  },
  {
   "cell_type": "code",
   "execution_count": 50,
   "metadata": {},
   "outputs": [],
   "source": [
    "import json\n",
    "\n",
    "from langrila import Response\n",
    "\n",
    "\n",
    "def run_music_agent(\n",
    "    agent: Agent,  # type: ignore\n",
    "    agent_name: str,\n",
    "    instruction: str,\n",
    ") -> Response:\n",
    "    \"\"\"\n",
    "    This function is used to run the agent which has the capabilities to manage the music settings.\n",
    "    Agent can use the following tools:\n",
    "\n",
    "    Tools:\n",
    "    start_music: Turn on the music. The genre, BPM, and volume are randomly selected.\n",
    "    change_bpm: Change the BPM of the music.\n",
    "    change_music: Change the music genre and BPM.\n",
    "\n",
    "    Parameters\n",
    "    ----------\n",
    "    agent : Agent\n",
    "        The agent instance.\n",
    "    agent_name : str\n",
    "        The name of the agent.\n",
    "    instruction : str\n",
    "        The detail and specific instruction to the agent, including the plan to get answer.\n",
    "\n",
    "    Returns\n",
    "    ----------\n",
    "    Response\n",
    "        The response from the agent.\n",
    "    \"\"\"\n",
    "    if not isinstance(agent, Agent):\n",
    "        raise ValueError(\n",
    "            \"Subagent must be an instance of Agent class. \"\n",
    "            \"Please provide the correct agent instance.\"\n",
    "        )\n",
    "\n",
    "    return agent.generate_text(instruction, name=agent_name)\n",
    "\n",
    "\n",
    "def response_serializer(response: Response) -> str:\n",
    "    \"\"\"\n",
    "    Serialize the response to a string.\n",
    "\n",
    "    Parameters\n",
    "    ----------\n",
    "    response : Response\n",
    "        The response from the agent.\n",
    "\n",
    "    Returns\n",
    "    ----------\n",
    "    str\n",
    "        The serialized response.\n",
    "    \"\"\"\n",
    "    return json.dumps(response.model_dump(include={\"role\", \"contents\", \"name\"}), ensure_ascii=False)"
   ]
  },
  {
   "cell_type": "code",
   "execution_count": 51,
   "metadata": {},
   "outputs": [],
   "source": [
    "from langrila import AgentConfig\n",
    "\n",
    "# Define not to retry the request even if an error occurs\n",
    "agent_config = AgentConfig(\n",
    "    max_error_retries=1,\n",
    ")\n",
    "\n",
    "# The main agent to call the music agent\n",
    "agent = Agent(\n",
    "    client=openai_client,\n",
    "    model=\"gpt-4o-mini-2024-07-18\",\n",
    "    tools=[\n",
    "        Tool(\n",
    "            tool=run_music_agent,\n",
    "            context={\"agent\": music_agent, \"agent_name\": \"music_agent\"},\n",
    "            serializer=response_serializer,  # serializer\n",
    "        ),\n",
    "    ],\n",
    ")"
   ]
  },
  {
   "cell_type": "code",
   "execution_count": 52,
   "metadata": {},
   "outputs": [
    {
     "name": "stderr",
     "output_type": "stream",
     "text": [
      "\u001b[32m[2025-01-14 10:04:09]\u001b[0m \u001b[34m\u001b[1mDEBUG | Prompt: [TextPrompt(text='Play some music, well, play jazz music and prefer to low volume.')]\u001b[0m\n",
      "\u001b[32m[2025-01-14 10:04:09]\u001b[0m \u001b[1mINFO | root: Generating text\u001b[0m\n",
      "\u001b[32m[2025-01-14 10:04:10]\u001b[0m \u001b[34m\u001b[1mDEBUG | Response: [ToolCallResponse(name='run_music_agent', args='{\"instruction\":\"Start playing jazz music at a low volume.\"}', call_id='call_0l2pcXp0JUUZ3QMzy0JL7lpa')]\u001b[0m\n",
      "\u001b[32m[2025-01-14 10:04:10]\u001b[0m \u001b[1mINFO | Running tool: run_music_agent\u001b[0m\n",
      "\u001b[32m[2025-01-14 10:04:10]\u001b[0m \u001b[34m\u001b[1mDEBUG | Prompt: [TextPrompt(text='Start playing jazz music at a low volume.')]\u001b[0m\n",
      "\u001b[32m[2025-01-14 10:04:10]\u001b[0m \u001b[1mINFO | music_agent: Generating text\u001b[0m\n",
      "\u001b[32m[2025-01-14 10:04:11]\u001b[0m \u001b[34m\u001b[1mDEBUG | Response: [ToolCallResponse(name='start_music', args='{\"genre\": \"jazz\"}', call_id='call_R0JG56AonabQPWTszdvi7qXU'), ToolCallResponse(name='change_music_volume', args='{\"volume\": 0.2}', call_id='call_2uuKTaQ547tmfw1sh0AEqG4L')]\u001b[0m\n",
      "\u001b[32m[2025-01-14 10:04:11]\u001b[0m \u001b[1mINFO | Running tool: start_music\u001b[0m\n",
      "\u001b[32m[2025-01-14 10:04:11]\u001b[0m \u001b[1mINFO | Tool: start_music successfully ran.\u001b[0m\n",
      "\u001b[32m[2025-01-14 10:04:11]\u001b[0m \u001b[1mINFO | Running tool: change_music_volume\u001b[0m\n",
      "\u001b[32m[2025-01-14 10:04:11]\u001b[0m \u001b[1mINFO | Tool: change_music_volume successfully ran.\u001b[0m\n",
      "\u001b[32m[2025-01-14 10:04:11]\u001b[0m \u001b[34m\u001b[1mDEBUG | Prompt: [ToolUsePrompt(output='Starting music! Genre: jazz, Volume: 0.9052196687538655, BPM: 120', error=None, call_id='call_R0JG56AonabQPWTszdvi7qXU', args='{\"genre\": \"jazz\"}', name='start_music'), ToolUsePrompt(output='Changing volume to 0.2', error=None, call_id='call_2uuKTaQ547tmfw1sh0AEqG4L', args='{\"volume\": 0.2}', name='change_music_volume')]\u001b[0m\n",
      "\u001b[32m[2025-01-14 10:04:11]\u001b[0m \u001b[1mINFO | music_agent: Generating text\u001b[0m\n",
      "\u001b[32m[2025-01-14 10:04:12]\u001b[0m \u001b[34m\u001b[1mDEBUG | Response: [TextResponse(text='Jazz music has started playing at a low volume. Enjoy the tunes!')]\u001b[0m\n",
      "\u001b[32m[2025-01-14 10:04:12]\u001b[0m \u001b[1mINFO | Tool: run_music_agent successfully ran.\u001b[0m\n",
      "\u001b[32m[2025-01-14 10:04:12]\u001b[0m \u001b[34m\u001b[1mDEBUG | Prompt: [ToolUsePrompt(output='{\"role\": \"assistant\", \"contents\": [{\"text\": \"Jazz music has started playing at a low volume. Enjoy the tunes!\"}], \"name\": \"music_agent\"}', error=None, call_id='call_0l2pcXp0JUUZ3QMzy0JL7lpa', args='{\"instruction\":\"Start playing jazz music at a low volume.\"}', name='run_music_agent')]\u001b[0m\n",
      "\u001b[32m[2025-01-14 10:04:12]\u001b[0m \u001b[1mINFO | root: Generating text\u001b[0m\n",
      "\u001b[32m[2025-01-14 10:04:13]\u001b[0m \u001b[34m\u001b[1mDEBUG | Response: [TextResponse(text='Jazz music has started playing at a low volume. Enjoy the tunes!')]\u001b[0m\n"
     ]
    }
   ],
   "source": [
    "response = agent.generate_text(prompt)"
   ]
  },
  {
   "cell_type": "markdown",
   "metadata": {},
   "source": [
    "ToolUsePrompt of the `run_music_agent` in the log message is changed to json string as expected."
   ]
  },
  {
   "cell_type": "code",
   "execution_count": null,
   "metadata": {},
   "outputs": [],
   "source": []
  },
  {
   "cell_type": "code",
   "execution_count": null,
   "metadata": {},
   "outputs": [],
   "source": []
  }
 ],
 "metadata": {
  "kernelspec": {
   "display_name": ".venv",
   "language": "python",
   "name": "python3"
  },
  "language_info": {
   "codemirror_mode": {
    "name": "ipython",
    "version": 3
   },
   "file_extension": ".py",
   "mimetype": "text/x-python",
   "name": "python",
   "nbconvert_exporter": "python",
   "pygments_lexer": "ipython3",
   "version": "3.10.12"
  }
 },
 "nbformat": 4,
 "nbformat_minor": 4
}
