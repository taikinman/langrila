{
 "cells": [
  {
   "cell_type": "code",
   "execution_count": 1,
   "metadata": {},
   "outputs": [],
   "source": [
    "import os\n",
    "import warnings\n",
    "\n",
    "warnings.simplefilter(action=\"ignore\")\n",
    "os.environ[\"GRPC_VERBOSITY\"] = \"NONE\""
   ]
  },
  {
   "cell_type": "markdown",
   "metadata": {},
   "source": [
    "# Prerequisites"
   ]
  },
  {
   "cell_type": "markdown",
   "metadata": {},
   "source": [
    "Please make sure your environmental variables and dependencies are ready to use LLM services. Name of the environmental variables is arbitraray because langrila modules accepts that name as an argument."
   ]
  },
  {
   "cell_type": "code",
   "execution_count": 2,
   "metadata": {},
   "outputs": [
    {
     "data": {
      "text/plain": [
       "True"
      ]
     },
     "execution_count": 2,
     "metadata": {},
     "output_type": "execute_result"
    }
   ],
   "source": [
    "from dotenv import load_dotenv\n",
    "\n",
    "load_dotenv(\"../../.env_api\")"
   ]
  },
  {
   "cell_type": "markdown",
   "metadata": {},
   "source": [
    "# Import modules"
   ]
  },
  {
   "cell_type": "code",
   "execution_count": 3,
   "metadata": {},
   "outputs": [],
   "source": [
    "from langrila import Agent, Tool\n",
    "from langrila.anthropic import AnthropicClient\n",
    "from langrila.google import GoogleClient\n",
    "from langrila.openai import OpenAIClient"
   ]
  },
  {
   "cell_type": "markdown",
   "metadata": {},
   "source": [
    "# Define tools"
   ]
  },
  {
   "cell_type": "markdown",
   "metadata": {},
   "source": [
    "In this example, we use dummy tools as shown below. In langrila, tool's schema is generated from the tool's type hint and docstring in default, so it's important to write in details. Here is an example using dummy tools."
   ]
  },
  {
   "cell_type": "code",
   "execution_count": 4,
   "metadata": {},
   "outputs": [],
   "source": [
    "import random\n",
    "from typing import Literal\n",
    "\n",
    "\n",
    "def start_music() -> str:\n",
    "    \"\"\"\n",
    "    Turn on the music. The genre, BPM, and volume are randomly selected.\n",
    "\n",
    "    Returns\n",
    "    ----------\n",
    "    str\n",
    "        A message indicating that the music is starting.\n",
    "    \"\"\"\n",
    "    music_genre = random.choice([\"rock\", \"pop\", \"jazz\", \"classical\", \"hip-hop\"])\n",
    "    volume = random.uniform(0.2, 1.0)\n",
    "    bpm = 120\n",
    "    return f\"Starting music! Genre: {music_genre}, BPM: {bpm}, Volume: {volume}\"\n",
    "\n",
    "\n",
    "def change_bpm(new_bpm: int) -> int:\n",
    "    \"\"\"\n",
    "    Change the BPM of the music.\n",
    "\n",
    "    Parameters\n",
    "    ----------\n",
    "    new_bpm : int\n",
    "        The new BPM to set the music.\n",
    "\n",
    "    Returns\n",
    "    ----------\n",
    "    int\n",
    "        The new BPM of the music.\n",
    "    \"\"\"\n",
    "    return f\"Changing BPM to {new_bpm}\"\n",
    "\n",
    "\n",
    "def change_music(\n",
    "    genre: Literal[\"rock\", \"pop\", \"jazz\", \"classical\", \"hip-hop\"],\n",
    "    bpm: int,\n",
    ") -> str:\n",
    "    \"\"\"\n",
    "    Change the music genre and BPM.\n",
    "\n",
    "    Parameters\n",
    "    ----------\n",
    "    genre : str\n",
    "        The genre of music to play. Should be one of \"rock\", \"pop\", \"jazz\", \"classical\", or \"hip-hop\".\n",
    "    bpm : int\n",
    "        The BPM of the music.\n",
    "\n",
    "    Returns\n",
    "    ----------\n",
    "    str\n",
    "        A message indicating that the music has been changed.\n",
    "    \"\"\"\n",
    "    return f\"Changing music to {genre} with BPM {bpm}\""
   ]
  },
  {
   "cell_type": "markdown",
   "metadata": {},
   "source": [
    "# Instantiating Agent"
   ]
  },
  {
   "cell_type": "markdown",
   "metadata": {},
   "source": [
    "Client modules"
   ]
  },
  {
   "cell_type": "code",
   "execution_count": 5,
   "metadata": {},
   "outputs": [],
   "source": [
    "# For OpenAI\n",
    "openai_client = OpenAIClient(api_key_env_name=\"OPENAI_API_KEY\")\n",
    "\n",
    "# For Azure OpenAI\n",
    "azure_openai_client = OpenAIClient(\n",
    "    api_key_env_name=\"AZURE_API_KEY\",\n",
    "    api_type=\"azure\",\n",
    "    azure_api_version=\"2024-11-01-preview\",\n",
    "    azure_endpoint_env_name=\"AZURE_ENDPOINT\",\n",
    "    azure_deployment_id_env_name=\"AZURE_DEPLOYMENT_ID\",\n",
    ")\n",
    "\n",
    "# For Gemini on Google AI Studio\n",
    "google_dev_client = GoogleClient(\n",
    "    api_key_env_name=\"GEMINI_API_KEY\",\n",
    ")\n",
    "\n",
    "# For Gemini on Google Cloud VertexAI\n",
    "vertexai_client = GoogleClient(\n",
    "    api_type=\"vertexai\",\n",
    "    project_id_env_name=\"GOOGLE_CLOUD_PROJECT\",\n",
    "    location=\"us-central1\",\n",
    ")\n",
    "\n",
    "# For Claude of Anthropic\n",
    "anthropic_client = AnthropicClient(\n",
    "    api_key_env_name=\"ANTHROPIC_API_KEY\",\n",
    ")\n",
    "\n",
    "# For Claude of Amazon Bedrock\n",
    "claude_bedrock_client = AnthropicClient(\n",
    "    api_type=\"bedrock\",\n",
    "    aws_access_key_env_name=\"AWS_ACCESS_KEY\",\n",
    "    aws_secret_key_env_name=\"AWS_SECRET_KEY\",\n",
    "    aws_region_env_name=\"AWS_REGION\",\n",
    ")"
   ]
  },
  {
   "cell_type": "markdown",
   "metadata": {},
   "source": [
    "Tools must be specified when the agent is initialized."
   ]
  },
  {
   "cell_type": "code",
   "execution_count": 6,
   "metadata": {},
   "outputs": [],
   "source": [
    "tools = [start_music, change_bpm, change_music]\n",
    "\n",
    "openai_agent = Agent(\n",
    "    client=openai_client,\n",
    "    model=\"gpt-4o-mini-2024-07-18\",\n",
    "    temperature=0.0,\n",
    "    tools=tools,\n",
    ")"
   ]
  },
  {
   "cell_type": "markdown",
   "metadata": {},
   "source": [
    "# Generating text with tool calling"
   ]
  },
  {
   "cell_type": "markdown",
   "metadata": {},
   "source": [
    "## Synchronous, non-streaming text generation"
   ]
  },
  {
   "cell_type": "code",
   "execution_count": 7,
   "metadata": {},
   "outputs": [
    {
     "name": "stderr",
     "output_type": "stream",
     "text": [
      "\u001b[32m[2025-01-02 19:21:15]\u001b[0m \u001b[34m\u001b[1mDEBUG | Prompt: [TextPrompt(text='Play some music, well, prefer to jazz music with 80 BPM.')]\u001b[0m\n",
      "\u001b[32m[2025-01-02 19:21:15]\u001b[0m \u001b[1mINFO | root: Generating text\u001b[0m\n",
      "\u001b[32m[2025-01-02 19:21:16]\u001b[0m \u001b[34m\u001b[1mDEBUG | Response: [ToolCallResponse(name='change_music', args='{\"genre\":\"jazz\",\"bpm\":80}', call_id='call_dnFYQdXHcVMcP5VgvvJf00sE')]\u001b[0m\n",
      "\u001b[32m[2025-01-02 19:21:16]\u001b[0m \u001b[1mINFO | Running tool: change_music\u001b[0m\n",
      "\u001b[32m[2025-01-02 19:21:16]\u001b[0m \u001b[1mINFO | Tool: change_music successfully ran.\u001b[0m\n",
      "\u001b[32m[2025-01-02 19:21:16]\u001b[0m \u001b[34m\u001b[1mDEBUG | Prompt: [ToolUsePrompt(output='Changing music to jazz with BPM 80', error=None, call_id='call_dnFYQdXHcVMcP5VgvvJf00sE', args='{\"genre\":\"jazz\",\"bpm\":80}', name='change_music')]\u001b[0m\n",
      "\u001b[32m[2025-01-02 19:21:16]\u001b[0m \u001b[1mINFO | root: Generating text\u001b[0m\n",
      "\u001b[32m[2025-01-02 19:21:16]\u001b[0m \u001b[34m\u001b[1mDEBUG | Response: [TextResponse(text=\"I've changed the music to jazz with a BPM of 80. Enjoy the tunes!\")]\u001b[0m\n"
     ]
    },
    {
     "name": "stdout",
     "output_type": "stream",
     "text": [
      "I've changed the music to jazz with a BPM of 80. Enjoy the tunes!\n"
     ]
    }
   ],
   "source": [
    "prompt = \"Play some music, well, prefer to jazz music with 80 BPM.\"\n",
    "\n",
    "response = openai_agent.generate_text(prompt)\n",
    "\n",
    "print(response.contents[0].text)"
   ]
  },
  {
   "cell_type": "markdown",
   "metadata": {},
   "source": [
    "Agent finally generates text response. Steps the agent generates final answer is like: \n",
    "\n",
    "1. Feed user's input\n",
    "2. Call tools\n",
    "3. Validate args with the pydantic schema validator\n",
    "4. Actually run called tools\n",
    "5. Generate text response based on the tool calling results"
   ]
  },
  {
   "cell_type": "markdown",
   "metadata": {},
   "source": [
    "BTW, In this case, the `change_music` tool was called before the `start_music` tool. Those are all dummy tools so it can be run in any order, but this is unexpected behaviour. To resolve such invalid tool calling, you can specify `planning` argument when the agent is instantiated. If `planning` is True, the agent makes a plan to answer the user's input based on the given tools, and then generates answer."
   ]
  },
  {
   "cell_type": "code",
   "execution_count": null,
   "metadata": {},
   "outputs": [],
   "source": [
    "openai_agent = Agent(\n",
    "    client=openai_client,\n",
    "    model=\"gpt-4o-mini-2024-07-18\",\n",
    "    temperature=0.0,\n",
    "    tools=tools,\n",
    "    planning=True,  # <- Enable planning\n",
    ")"
   ]
  },
  {
   "cell_type": "code",
   "execution_count": 10,
   "metadata": {},
   "outputs": [
    {
     "name": "stderr",
     "output_type": "stream",
     "text": [
      "\u001b[32m[2025-01-02 19:22:25]\u001b[0m \u001b[34m\u001b[1mDEBUG | Prompt: [TextPrompt(text='Please make a concise plan to answer the following question/requirement, considering the conversation history.\\nYou can invoke the sub-agents or tools to answer the questions/requirements shown in the capabilities section.\\nAgent has no description while the tools have a description.\\n\\nQuestion/Requirement:\\nPlay some music, well, prefer to jazz music with 80 BPM.\\n\\nCapabilities:\\n- start_music: Turn on the music. The genre, BPM, and volume are randomly selected.\\n- change_bpm: Change the BPM of the music.\\n- change_music: Change the music genre and BPM.\\n')]\u001b[0m\n",
      "\u001b[32m[2025-01-02 19:22:25]\u001b[0m \u001b[1mINFO | root: Generating text\u001b[0m\n",
      "\u001b[32m[2025-01-02 19:22:28]\u001b[0m \u001b[34m\u001b[1mDEBUG | Response: [TextResponse(text='### Plan to Fulfill the Requirement\\n\\n1. **Start Music**: Invoke the `start_music` tool to begin playing music. This will randomly select a genre and BPM.\\n2. **Check BPM**: If the BPM is not 80, use the `change_bpm` tool to adjust the BPM to 80.\\n3. **Check Genre**: If the genre is not jazz, use the `change_music` tool to change the genre to jazz and set the BPM to 80.\\n\\n### Execution Steps\\n- Start by invoking `start_music`.\\n- After starting the music, check the current BPM and genre.\\n- If necessary, adjust the BPM and genre accordingly.')]\u001b[0m\n",
      "\u001b[32m[2025-01-02 19:22:28]\u001b[0m \u001b[34m\u001b[1mDEBUG | Prompt: [TextPrompt(text='Put the plan into action.')]\u001b[0m\n",
      "\u001b[32m[2025-01-02 19:22:28]\u001b[0m \u001b[1mINFO | root: Generating text\u001b[0m\n",
      "\u001b[32m[2025-01-02 19:22:28]\u001b[0m \u001b[34m\u001b[1mDEBUG | Response: [ToolCallResponse(name='start_music', args='{}', call_id='call_z0Ou9UyUyCU21toSs0d2ENST')]\u001b[0m\n",
      "\u001b[32m[2025-01-02 19:22:28]\u001b[0m \u001b[1mINFO | Running tool: start_music\u001b[0m\n",
      "\u001b[32m[2025-01-02 19:22:28]\u001b[0m \u001b[1mINFO | Tool: start_music successfully ran.\u001b[0m\n",
      "\u001b[32m[2025-01-02 19:22:28]\u001b[0m \u001b[34m\u001b[1mDEBUG | Prompt: [ToolUsePrompt(output='Starting music! Genre: rock, BPM: 120, Volume: 0.6073316262718589', error=None, call_id='call_z0Ou9UyUyCU21toSs0d2ENST', args='{}', name='start_music')]\u001b[0m\n",
      "\u001b[32m[2025-01-02 19:22:28]\u001b[0m \u001b[1mINFO | root: Generating text\u001b[0m\n",
      "\u001b[32m[2025-01-02 19:22:32]\u001b[0m \u001b[34m\u001b[1mDEBUG | Response: [ToolCallResponse(name='change_bpm', args='{\"new_bpm\": 80}', call_id='call_LHhhx9aBfHLbQL07c0riReZw'), ToolCallResponse(name='change_music', args='{\"genre\": \"jazz\", \"bpm\": 80}', call_id='call_vJoSsCRr6CuCRQVmZkcVWwhx')]\u001b[0m\n",
      "\u001b[32m[2025-01-02 19:22:32]\u001b[0m \u001b[1mINFO | Running tool: change_bpm\u001b[0m\n",
      "\u001b[32m[2025-01-02 19:22:32]\u001b[0m \u001b[1mINFO | Tool: change_bpm successfully ran.\u001b[0m\n",
      "\u001b[32m[2025-01-02 19:22:32]\u001b[0m \u001b[1mINFO | Running tool: change_music\u001b[0m\n",
      "\u001b[32m[2025-01-02 19:22:32]\u001b[0m \u001b[1mINFO | Tool: change_music successfully ran.\u001b[0m\n",
      "\u001b[32m[2025-01-02 19:22:32]\u001b[0m \u001b[34m\u001b[1mDEBUG | Prompt: [ToolUsePrompt(output='Changing BPM to 80', error=None, call_id='call_LHhhx9aBfHLbQL07c0riReZw', args='{\"new_bpm\": 80}', name='change_bpm'), ToolUsePrompt(output='Changing music to jazz with BPM 80', error=None, call_id='call_vJoSsCRr6CuCRQVmZkcVWwhx', args='{\"genre\": \"jazz\", \"bpm\": 80}', name='change_music')]\u001b[0m\n",
      "\u001b[32m[2025-01-02 19:22:32]\u001b[0m \u001b[1mINFO | root: Generating text\u001b[0m\n",
      "\u001b[32m[2025-01-02 19:22:37]\u001b[0m \u001b[34m\u001b[1mDEBUG | Response: [TextResponse(text='The music has been started with the genre set to rock and BPM at 120. I have successfully changed the music to jazz and adjusted the BPM to 80. Enjoy the jazz music!')]\u001b[0m\n"
     ]
    },
    {
     "name": "stdout",
     "output_type": "stream",
     "text": [
      "The music has been started with the genre set to rock and BPM at 120. I have successfully changed the music to jazz and adjusted the BPM to 80. Enjoy the jazz music!\n"
     ]
    }
   ],
   "source": [
    "response = openai_agent.generate_text(prompt)\n",
    "\n",
    "print(response.contents[0].text)"
   ]
  },
  {
   "cell_type": "markdown",
   "metadata": {},
   "source": [
    "By planning, `start_music` tool was called at the first step, then `change_bpm ` tool and `change_music` tool was."
   ]
  },
  {
   "cell_type": "markdown",
   "metadata": {},
   "source": [
    "Here is the default planning prompt."
   ]
  },
  {
   "cell_type": "code",
   "execution_count": 11,
   "metadata": {},
   "outputs": [
    {
     "name": "stdout",
     "output_type": "stream",
     "text": [
      "Please make a concise plan to answer the following question/requirement, considering the conversation history.\n",
      "You can invoke the sub-agents or tools to answer the questions/requirements shown in the capabilities section.\n",
      "Agent has no description while the tools have a description.\n",
      "\n",
      "Question/Requirement:\n",
      "{user_input}\n",
      "\n",
      "Capabilities:\n",
      "{capabilities}\n"
     ]
    }
   ],
   "source": [
    "from langrila import AgentConfig\n",
    "\n",
    "print(AgentConfig().internal_prompt.planning)"
   ]
  },
  {
   "cell_type": "markdown",
   "metadata": {},
   "source": [
    "This AgentConfig is configurable and customized config can be passes to the agent when instantiating as mentioned in [01.introduction.ipynb](./01.introduction.ipynb)."
   ]
  },
  {
   "cell_type": "markdown",
   "metadata": {},
   "source": [
    "## Asynchronous, non-streaming text generation"
   ]
  },
  {
   "cell_type": "code",
   "execution_count": 12,
   "metadata": {},
   "outputs": [
    {
     "name": "stderr",
     "output_type": "stream",
     "text": [
      "\u001b[32m[2025-01-02 19:29:58]\u001b[0m \u001b[34m\u001b[1mDEBUG | Prompt: [TextPrompt(text='Please make a concise plan to answer the following question/requirement, considering the conversation history.\\nYou can invoke the sub-agents or tools to answer the questions/requirements shown in the capabilities section.\\nAgent has no description while the tools have a description.\\n\\nQuestion/Requirement:\\nPlay some music, well, prefer to jazz music with 80 BPM.\\n\\nCapabilities:\\n- start_music: Turn on the music. The genre, BPM, and volume are randomly selected.\\n- change_bpm: Change the BPM of the music.\\n- change_music: Change the music genre and BPM.\\n')]\u001b[0m\n",
      "\u001b[32m[2025-01-02 19:29:58]\u001b[0m \u001b[1mINFO | root: Generating text\u001b[0m\n",
      "\u001b[32m[2025-01-02 19:30:01]\u001b[0m \u001b[34m\u001b[1mDEBUG | Response: [TextResponse(text='### Plan to Answer the Requirement\\n\\n1. **Start Music**: Invoke the `start_music` tool to begin playing music. This will randomly select a genre and BPM.\\n2. **Check BPM**: If the BPM is not 80, use the `change_bpm` tool to adjust the BPM to 80.\\n3. **Check Genre**: If the genre is not jazz, use the `change_music` tool to change the genre to jazz and set the BPM to 80.\\n\\n### Execution Steps\\n- Start by invoking `start_music`.\\n- After starting the music, check the current BPM and genre.\\n- If necessary, adjust the BPM and genre accordingly.')]\u001b[0m\n",
      "\u001b[32m[2025-01-02 19:30:01]\u001b[0m \u001b[34m\u001b[1mDEBUG | Prompt: [TextPrompt(text='Put the plan into action.')]\u001b[0m\n",
      "\u001b[32m[2025-01-02 19:30:01]\u001b[0m \u001b[1mINFO | root: Generating text\u001b[0m\n",
      "\u001b[32m[2025-01-02 19:30:02]\u001b[0m \u001b[34m\u001b[1mDEBUG | Response: [ToolCallResponse(name='start_music', args='{}', call_id='call_0Hz0Qfoi0nkiE6AhgDpu5bK7')]\u001b[0m\n",
      "\u001b[32m[2025-01-02 19:30:02]\u001b[0m \u001b[1mINFO | Running tool: start_music\u001b[0m\n",
      "\u001b[32m[2025-01-02 19:30:02]\u001b[0m \u001b[1mINFO | Tool: start_music successfully ran.\u001b[0m\n",
      "\u001b[32m[2025-01-02 19:30:02]\u001b[0m \u001b[34m\u001b[1mDEBUG | Prompt: [ToolUsePrompt(output='Starting music! Genre: classical, BPM: 120, Volume: 0.5595254953855282', error=None, call_id='call_0Hz0Qfoi0nkiE6AhgDpu5bK7', args='{}', name='start_music')]\u001b[0m\n",
      "\u001b[32m[2025-01-02 19:30:02]\u001b[0m \u001b[1mINFO | root: Generating text\u001b[0m\n",
      "\u001b[32m[2025-01-02 19:30:04]\u001b[0m \u001b[34m\u001b[1mDEBUG | Response: [ToolCallResponse(name='change_bpm', args='{\"new_bpm\": 80}', call_id='call_cKuWMDdeH2dDTVsa1xVi2DTk'), ToolCallResponse(name='change_music', args='{\"genre\": \"jazz\", \"bpm\": 80}', call_id='call_yC3hj4kz4wVo0Eo3y1yelNZR')]\u001b[0m\n",
      "\u001b[32m[2025-01-02 19:30:04]\u001b[0m \u001b[1mINFO | Running tool: change_bpm\u001b[0m\n",
      "\u001b[32m[2025-01-02 19:30:04]\u001b[0m \u001b[1mINFO | Tool: change_bpm successfully ran.\u001b[0m\n",
      "\u001b[32m[2025-01-02 19:30:04]\u001b[0m \u001b[1mINFO | Running tool: change_music\u001b[0m\n",
      "\u001b[32m[2025-01-02 19:30:04]\u001b[0m \u001b[1mINFO | Tool: change_music successfully ran.\u001b[0m\n",
      "\u001b[32m[2025-01-02 19:30:04]\u001b[0m \u001b[34m\u001b[1mDEBUG | Prompt: [ToolUsePrompt(output='Changing BPM to 80', error=None, call_id='call_cKuWMDdeH2dDTVsa1xVi2DTk', args='{\"new_bpm\": 80}', name='change_bpm'), ToolUsePrompt(output='Changing music to jazz with BPM 80', error=None, call_id='call_yC3hj4kz4wVo0Eo3y1yelNZR', args='{\"genre\": \"jazz\", \"bpm\": 80}', name='change_music')]\u001b[0m\n",
      "\u001b[32m[2025-01-02 19:30:04]\u001b[0m \u001b[1mINFO | root: Generating text\u001b[0m\n",
      "\u001b[32m[2025-01-02 19:30:05]\u001b[0m \u001b[34m\u001b[1mDEBUG | Response: [TextResponse(text='The music has been started with a classical genre at 120 BPM. I have successfully changed the music to jazz with a BPM of 80. Enjoy the music!')]\u001b[0m\n"
     ]
    },
    {
     "name": "stdout",
     "output_type": "stream",
     "text": [
      "The music has been started with a classical genre at 120 BPM. I have successfully changed the music to jazz with a BPM of 80. Enjoy the music!\n"
     ]
    }
   ],
   "source": [
    "response = await openai_agent.generate_text_async(prompt)\n",
    "\n",
    "print(response.contents[0].text)"
   ]
  },
  {
   "cell_type": "markdown",
   "metadata": {},
   "source": [
    "## Synchronous, streaming text generation"
   ]
  },
  {
   "cell_type": "code",
   "execution_count": 13,
   "metadata": {},
   "outputs": [],
   "source": [
    "from langrila import TextResponse, ToolCallResponse\n",
    "# from langrila.core.logger import DEFAULT_LOGGER as default_logger"
   ]
  },
  {
   "cell_type": "code",
   "execution_count": 15,
   "metadata": {},
   "outputs": [
    {
     "name": "stderr",
     "output_type": "stream",
     "text": [
      "\u001b[32m[2025-01-02 19:30:33]\u001b[0m \u001b[34m\u001b[1mDEBUG | Prompt: [TextPrompt(text='Please make a concise plan to answer the following question/requirement, considering the conversation history.\\nYou can invoke the sub-agents or tools to answer the questions/requirements shown in the capabilities section.\\nAgent has no description while the tools have a description.\\n\\nQuestion/Requirement:\\nPlay some music, well, prefer to jazz music with 80 BPM.\\n\\nCapabilities:\\n- start_music: Turn on the music. The genre, BPM, and volume are randomly selected.\\n- change_bpm: Change the BPM of the music.\\n- change_music: Change the music genre and BPM.\\n')]\u001b[0m\n",
      "\u001b[32m[2025-01-02 19:30:33]\u001b[0m \u001b[1mINFO | root: Generating text\u001b[0m\n",
      "\u001b[32m[2025-01-02 19:30:36]\u001b[0m \u001b[34m\u001b[1mDEBUG | Response: [TextResponse(text='### Plan to Fulfill the Requirement\\n\\n1. **Start Music**: Invoke the `start_music` tool to begin playing music. This will randomly select a genre and BPM.\\n2. **Check BPM**: If the BPM is not 80, use the `change_bpm` tool to adjust the BPM to 80.\\n3. **Check Genre**: If the genre is not jazz, use the `change_music` tool to change the genre to jazz and set the BPM to 80.\\n\\n### Execution Steps\\n- Start by invoking `start_music`.\\n- After starting the music, check the current BPM and genre.\\n- If necessary, adjust the BPM and genre accordingly.')]\u001b[0m\n",
      "\u001b[32m[2025-01-02 19:30:36]\u001b[0m \u001b[34m\u001b[1mDEBUG | Prompt: [TextPrompt(text='Put the plan into action.')]\u001b[0m\n",
      "\u001b[32m[2025-01-02 19:30:36]\u001b[0m \u001b[1mINFO | root: Generating text\u001b[0m\n"
     ]
    },
    {
     "name": "stdout",
     "output_type": "stream",
     "text": [
      "{}\n"
     ]
    },
    {
     "name": "stderr",
     "output_type": "stream",
     "text": [
      "\u001b[32m[2025-01-02 19:30:37]\u001b[0m \u001b[34m\u001b[1mDEBUG | Response: [ToolCallResponse(name='start_music', args='{}', call_id='call_YC36KgNcWqVG1KZGITTjlKYV')]\u001b[0m\n",
      "\u001b[32m[2025-01-02 19:30:37]\u001b[0m \u001b[1mINFO | Running tool: start_music\u001b[0m\n",
      "\u001b[32m[2025-01-02 19:30:37]\u001b[0m \u001b[1mINFO | Tool: start_music successfully ran.\u001b[0m\n",
      "\u001b[32m[2025-01-02 19:30:37]\u001b[0m \u001b[34m\u001b[1mDEBUG | Prompt: [ToolUsePrompt(output='Starting music! Genre: rock, BPM: 120, Volume: 0.5247184194788775', error=None, call_id='call_YC36KgNcWqVG1KZGITTjlKYV', args='{}', name='start_music')]\u001b[0m\n",
      "\u001b[32m[2025-01-02 19:30:37]\u001b[0m \u001b[1mINFO | root: Generating text\u001b[0m\n"
     ]
    },
    {
     "name": "stdout",
     "output_type": "stream",
     "text": [
      "{\"ne\n",
      "{\"new_bpm\n",
      "{\"new_bpm\": 80}\n",
      "{\"ge\n",
      "{\"genre\":\n",
      "{\"genre\": \"jazz\n",
      "{\"genre\": \"jazz\", \"\n",
      "{\"genre\": \"jazz\", \"bpm\":\n",
      "{\"genre\": \"jazz\", \"bpm\": 80}\n"
     ]
    },
    {
     "name": "stderr",
     "output_type": "stream",
     "text": [
      "\u001b[32m[2025-01-02 19:30:38]\u001b[0m \u001b[34m\u001b[1mDEBUG | Response: [ToolCallResponse(name='change_bpm', args='{\"new_bpm\": 80}', call_id='call_8ZeMt8HKJpY7NxtTLL9JXRV1'), ToolCallResponse(name='change_music', args='{\"genre\": \"jazz\", \"bpm\": 80}', call_id='call_WyIMjtuC4dkuEXahI14WYUdr')]\u001b[0m\n",
      "\u001b[32m[2025-01-02 19:30:38]\u001b[0m \u001b[1mINFO | Running tool: change_bpm\u001b[0m\n",
      "\u001b[32m[2025-01-02 19:30:38]\u001b[0m \u001b[1mINFO | Tool: change_bpm successfully ran.\u001b[0m\n",
      "\u001b[32m[2025-01-02 19:30:38]\u001b[0m \u001b[1mINFO | Running tool: change_music\u001b[0m\n",
      "\u001b[32m[2025-01-02 19:30:38]\u001b[0m \u001b[1mINFO | Tool: change_music successfully ran.\u001b[0m\n",
      "\u001b[32m[2025-01-02 19:30:38]\u001b[0m \u001b[34m\u001b[1mDEBUG | Prompt: [ToolUsePrompt(output='Changing BPM to 80', error=None, call_id='call_8ZeMt8HKJpY7NxtTLL9JXRV1', args='{\"new_bpm\": 80}', name='change_bpm'), ToolUsePrompt(output='Changing music to jazz with BPM 80', error=None, call_id='call_WyIMjtuC4dkuEXahI14WYUdr', args='{\"genre\": \"jazz\", \"bpm\": 80}', name='change_music')]\u001b[0m\n",
      "\u001b[32m[2025-01-02 19:30:38]\u001b[0m \u001b[1mINFO | root: Generating text\u001b[0m\n"
     ]
    },
    {
     "name": "stdout",
     "output_type": "stream",
     "text": [
      "The\n",
      "The music\n",
      "The music has\n",
      "The music has been\n",
      "The music has been started\n",
      "The music has been started with\n",
      "The music has been started with the\n",
      "The music has been started with the genre\n",
      "The music has been started with the genre rock\n",
      "The music has been started with the genre rock and\n",
      "The music has been started with the genre rock and BPM\n",
      "The music has been started with the genre rock and BPM \n",
      "The music has been started with the genre rock and BPM 120\n",
      "The music has been started with the genre rock and BPM 120.\n",
      "The music has been started with the genre rock and BPM 120. I\n",
      "The music has been started with the genre rock and BPM 120. I have\n",
      "The music has been started with the genre rock and BPM 120. I have successfully\n",
      "The music has been started with the genre rock and BPM 120. I have successfully changed\n",
      "The music has been started with the genre rock and BPM 120. I have successfully changed the\n",
      "The music has been started with the genre rock and BPM 120. I have successfully changed the music\n",
      "The music has been started with the genre rock and BPM 120. I have successfully changed the music to\n",
      "The music has been started with the genre rock and BPM 120. I have successfully changed the music to jazz\n",
      "The music has been started with the genre rock and BPM 120. I have successfully changed the music to jazz with\n",
      "The music has been started with the genre rock and BPM 120. I have successfully changed the music to jazz with a\n",
      "The music has been started with the genre rock and BPM 120. I have successfully changed the music to jazz with a BPM\n",
      "The music has been started with the genre rock and BPM 120. I have successfully changed the music to jazz with a BPM of\n",
      "The music has been started with the genre rock and BPM 120. I have successfully changed the music to jazz with a BPM of \n",
      "The music has been started with the genre rock and BPM 120. I have successfully changed the music to jazz with a BPM of 80\n",
      "The music has been started with the genre rock and BPM 120. I have successfully changed the music to jazz with a BPM of 80.\n",
      "The music has been started with the genre rock and BPM 120. I have successfully changed the music to jazz with a BPM of 80. Enjoy\n",
      "The music has been started with the genre rock and BPM 120. I have successfully changed the music to jazz with a BPM of 80. Enjoy the\n",
      "The music has been started with the genre rock and BPM 120. I have successfully changed the music to jazz with a BPM of 80. Enjoy the music\n",
      "The music has been started with the genre rock and BPM 120. I have successfully changed the music to jazz with a BPM of 80. Enjoy the music!\n"
     ]
    },
    {
     "name": "stderr",
     "output_type": "stream",
     "text": [
      "\u001b[32m[2025-01-02 19:30:40]\u001b[0m \u001b[34m\u001b[1mDEBUG | Response: [TextResponse(text='The music has been started with the genre rock and BPM 120. I have successfully changed the music to jazz with a BPM of 80. Enjoy the music!')]\u001b[0m\n"
     ]
    },
    {
     "name": "stdout",
     "output_type": "stream",
     "text": [
      "The music has been started with the genre rock and BPM 120. I have successfully changed the music to jazz with a BPM of 80. Enjoy the music!\n"
     ]
    }
   ],
   "source": [
    "streamed_response = openai_agent.stream_text(prompt)\n",
    "\n",
    "for chunk in streamed_response:\n",
    "    for content in chunk.contents:\n",
    "        if isinstance(content, TextResponse):\n",
    "            print(content.text, flush=True)\n",
    "        elif isinstance(content, ToolCallResponse):\n",
    "            print(content.args, flush=True)"
   ]
  },
  {
   "cell_type": "code",
   "execution_count": 16,
   "metadata": {},
   "outputs": [
    {
     "name": "stderr",
     "output_type": "stream",
     "text": [
      "\u001b[32m[2025-01-02 19:30:49]\u001b[0m \u001b[34m\u001b[1mDEBUG | Prompt: [TextPrompt(text='Please make a concise plan to answer the following question/requirement, considering the conversation history.\\nYou can invoke the sub-agents or tools to answer the questions/requirements shown in the capabilities section.\\nAgent has no description while the tools have a description.\\n\\nQuestion/Requirement:\\nPlay some music, well, prefer to jazz music with 80 BPM.\\n\\nCapabilities:\\n- start_music: Turn on the music. The genre, BPM, and volume are randomly selected.\\n- change_bpm: Change the BPM of the music.\\n- change_music: Change the music genre and BPM.\\n')]\u001b[0m\n",
      "\u001b[32m[2025-01-02 19:30:49]\u001b[0m \u001b[1mINFO | root: Generating text\u001b[0m\n",
      "\u001b[32m[2025-01-02 19:30:52]\u001b[0m \u001b[34m\u001b[1mDEBUG | Response: [TextResponse(text='### Plan to Fulfill the Requirement\\n\\n1. **Start Music**: Invoke the `start_music` tool to begin playing music. This will randomly select a genre and BPM.\\n2. **Check BPM**: If the BPM is not 80, use the `change_bpm` tool to adjust the BPM to 80.\\n3. **Check Genre**: If the genre is not jazz, use the `change_music` tool to change the genre to jazz and set the BPM to 80.\\n\\n### Execution Steps\\n- Start by invoking `start_music`.\\n- After starting the music, check the current BPM and genre.\\n- If necessary, adjust the BPM and genre accordingly.')]\u001b[0m\n",
      "\u001b[32m[2025-01-02 19:30:52]\u001b[0m \u001b[34m\u001b[1mDEBUG | Prompt: [TextPrompt(text='Put the plan into action.')]\u001b[0m\n",
      "\u001b[32m[2025-01-02 19:30:52]\u001b[0m \u001b[1mINFO | root: Generating text\u001b[0m\n"
     ]
    },
    {
     "name": "stdout",
     "output_type": "stream",
     "text": [
      "{}\n"
     ]
    },
    {
     "name": "stderr",
     "output_type": "stream",
     "text": [
      "\u001b[32m[2025-01-02 19:30:52]\u001b[0m \u001b[34m\u001b[1mDEBUG | Response: [ToolCallResponse(name='start_music', args='{}', call_id='call_aC1ym2HICOzQfqiiv0gN4UhW')]\u001b[0m\n",
      "\u001b[32m[2025-01-02 19:30:52]\u001b[0m \u001b[1mINFO | Running tool: start_music\u001b[0m\n",
      "\u001b[32m[2025-01-02 19:30:52]\u001b[0m \u001b[1mINFO | Tool: start_music successfully ran.\u001b[0m\n",
      "\u001b[32m[2025-01-02 19:30:52]\u001b[0m \u001b[34m\u001b[1mDEBUG | Prompt: [ToolUsePrompt(output='Starting music! Genre: pop, BPM: 120, Volume: 0.55989089434875', error=None, call_id='call_aC1ym2HICOzQfqiiv0gN4UhW', args='{}', name='start_music')]\u001b[0m\n",
      "\u001b[32m[2025-01-02 19:30:52]\u001b[0m \u001b[1mINFO | root: Generating text\u001b[0m\n"
     ]
    },
    {
     "name": "stdout",
     "output_type": "stream",
     "text": [
      "{\"ne\n",
      "{\"new_bpm\n",
      "{\"new_bpm\": 80}\n",
      "{\"ge\n",
      "{\"genre\":\n",
      "{\"genre\": \"jazz\n",
      "{\"genre\": \"jazz\", \"\n",
      "{\"genre\": \"jazz\", \"bpm\":\n",
      "{\"genre\": \"jazz\", \"bpm\": 80}\n"
     ]
    },
    {
     "name": "stderr",
     "output_type": "stream",
     "text": [
      "\u001b[32m[2025-01-02 19:30:54]\u001b[0m \u001b[34m\u001b[1mDEBUG | Response: [ToolCallResponse(name='change_bpm', args='{\"new_bpm\": 80}', call_id='call_rKjK2Oi0qGj7IEuQhJq2s8xh'), ToolCallResponse(name='change_music', args='{\"genre\": \"jazz\", \"bpm\": 80}', call_id='call_97YpFvdxmp5ul9PpqDC1ZZCg')]\u001b[0m\n",
      "\u001b[32m[2025-01-02 19:30:54]\u001b[0m \u001b[1mINFO | Running tool: change_bpm\u001b[0m\n",
      "\u001b[32m[2025-01-02 19:30:54]\u001b[0m \u001b[1mINFO | Tool: change_bpm successfully ran.\u001b[0m\n",
      "\u001b[32m[2025-01-02 19:30:54]\u001b[0m \u001b[1mINFO | Running tool: change_music\u001b[0m\n",
      "\u001b[32m[2025-01-02 19:30:54]\u001b[0m \u001b[1mINFO | Tool: change_music successfully ran.\u001b[0m\n",
      "\u001b[32m[2025-01-02 19:30:54]\u001b[0m \u001b[34m\u001b[1mDEBUG | Prompt: [ToolUsePrompt(output='Changing BPM to 80', error=None, call_id='call_rKjK2Oi0qGj7IEuQhJq2s8xh', args='{\"new_bpm\": 80}', name='change_bpm'), ToolUsePrompt(output='Changing music to jazz with BPM 80', error=None, call_id='call_97YpFvdxmp5ul9PpqDC1ZZCg', args='{\"genre\": \"jazz\", \"bpm\": 80}', name='change_music')]\u001b[0m\n",
      "\u001b[32m[2025-01-02 19:30:54]\u001b[0m \u001b[1mINFO | root: Generating text\u001b[0m\n"
     ]
    },
    {
     "name": "stdout",
     "output_type": "stream",
     "text": [
      "The\n",
      "The music\n",
      "The music has\n",
      "The music has been\n",
      "The music has been started\n",
      "The music has been started with\n",
      "The music has been started with a\n",
      "The music has been started with a genre\n",
      "The music has been started with a genre of\n",
      "The music has been started with a genre of pop\n",
      "The music has been started with a genre of pop and\n",
      "The music has been started with a genre of pop and a\n",
      "The music has been started with a genre of pop and a BPM\n",
      "The music has been started with a genre of pop and a BPM of\n",
      "The music has been started with a genre of pop and a BPM of \n",
      "The music has been started with a genre of pop and a BPM of 120\n",
      "The music has been started with a genre of pop and a BPM of 120.\n",
      "The music has been started with a genre of pop and a BPM of 120. I\n",
      "The music has been started with a genre of pop and a BPM of 120. I have\n",
      "The music has been started with a genre of pop and a BPM of 120. I have successfully\n",
      "The music has been started with a genre of pop and a BPM of 120. I have successfully changed\n",
      "The music has been started with a genre of pop and a BPM of 120. I have successfully changed the\n",
      "The music has been started with a genre of pop and a BPM of 120. I have successfully changed the BPM\n",
      "The music has been started with a genre of pop and a BPM of 120. I have successfully changed the BPM to\n",
      "The music has been started with a genre of pop and a BPM of 120. I have successfully changed the BPM to \n",
      "The music has been started with a genre of pop and a BPM of 120. I have successfully changed the BPM to 80\n",
      "The music has been started with a genre of pop and a BPM of 120. I have successfully changed the BPM to 80 and\n",
      "The music has been started with a genre of pop and a BPM of 120. I have successfully changed the BPM to 80 and the\n",
      "The music has been started with a genre of pop and a BPM of 120. I have successfully changed the BPM to 80 and the genre\n",
      "The music has been started with a genre of pop and a BPM of 120. I have successfully changed the BPM to 80 and the genre to\n",
      "The music has been started with a genre of pop and a BPM of 120. I have successfully changed the BPM to 80 and the genre to jazz\n",
      "The music has been started with a genre of pop and a BPM of 120. I have successfully changed the BPM to 80 and the genre to jazz.\n",
      "The music has been started with a genre of pop and a BPM of 120. I have successfully changed the BPM to 80 and the genre to jazz. Enjoy\n",
      "The music has been started with a genre of pop and a BPM of 120. I have successfully changed the BPM to 80 and the genre to jazz. Enjoy the\n",
      "The music has been started with a genre of pop and a BPM of 120. I have successfully changed the BPM to 80 and the genre to jazz. Enjoy the music\n",
      "The music has been started with a genre of pop and a BPM of 120. I have successfully changed the BPM to 80 and the genre to jazz. Enjoy the music!\n"
     ]
    },
    {
     "name": "stderr",
     "output_type": "stream",
     "text": [
      "\u001b[32m[2025-01-02 19:30:55]\u001b[0m \u001b[34m\u001b[1mDEBUG | Response: [TextResponse(text='The music has been started with a genre of pop and a BPM of 120. I have successfully changed the BPM to 80 and the genre to jazz. Enjoy the music!')]\u001b[0m\n"
     ]
    },
    {
     "name": "stdout",
     "output_type": "stream",
     "text": [
      "The music has been started with a genre of pop and a BPM of 120. I have successfully changed the BPM to 80 and the genre to jazz. Enjoy the music!\n"
     ]
    }
   ],
   "source": [
    "streamed_response = openai_agent.stream_text_async(prompt)\n",
    "\n",
    "async for chunk in streamed_response:\n",
    "    for content in chunk.contents:\n",
    "        if isinstance(content, TextResponse):\n",
    "            print(content.text, flush=True)\n",
    "        elif isinstance(content, ToolCallResponse):\n",
    "            print(content.args, flush=True)"
   ]
  },
  {
   "cell_type": "markdown",
   "metadata": {},
   "source": [
    "## Other client"
   ]
  },
  {
   "cell_type": "markdown",
   "metadata": {},
   "source": [
    "Other clients has the same interface."
   ]
  },
  {
   "cell_type": "code",
   "execution_count": 17,
   "metadata": {},
   "outputs": [],
   "source": [
    "# Azure OpenAI\n",
    "azure_openai_agent = Agent(\n",
    "    client=azure_openai_client,\n",
    "    model=\"gpt-4o-mini-2024-07-18\",\n",
    "    temperature=0.0,\n",
    "    tools=tools,\n",
    "    planning=True,\n",
    ")\n",
    "\n",
    "# Google AI Studio\n",
    "google_agent = Agent(\n",
    "    client=google_dev_client,\n",
    "    model=\"gemini-2.0-flash-exp\",\n",
    "    temperature=0.0,\n",
    "    tools=tools,\n",
    "    planning=True,\n",
    ")\n",
    "\n",
    "# Google Cloud VertexAI\n",
    "vertexai_agent = Agent(\n",
    "    client=vertexai_client,\n",
    "    model=\"gemini-2.0-flash-exp\",\n",
    "    temperature=0.0,\n",
    "    tools=tools,\n",
    "    planning=True,\n",
    ")\n",
    "\n",
    "# Anthropic Claude\n",
    "claude_agent = Agent(\n",
    "    client=anthropic_client,\n",
    "    model=\"claude-3-5-sonnet-20240620\",\n",
    "    temperature=0.0,\n",
    "    max_tokens=500,\n",
    "    tools=tools,\n",
    "    planning=True,\n",
    ")\n",
    "\n",
    "# Claude on Amazon Bedrock\n",
    "claude_bedrock_agent = Agent(\n",
    "    client=claude_bedrock_client,\n",
    "    model=\"anthropic.claude-3-sonnet-20240229-v1:0\",\n",
    "    temperature=0.0,\n",
    "    max_tokens=500,\n",
    "    tools=tools,\n",
    "    planning=True,\n",
    ")"
   ]
  },
  {
   "cell_type": "markdown",
   "metadata": {},
   "source": [
    "### Azure OpenAI"
   ]
  },
  {
   "cell_type": "code",
   "execution_count": 18,
   "metadata": {},
   "outputs": [
    {
     "name": "stderr",
     "output_type": "stream",
     "text": [
      "\u001b[32m[2025-01-02 19:31:07]\u001b[0m \u001b[34m\u001b[1mDEBUG | Prompt: [TextPrompt(text='Please make a concise plan to answer the following question/requirement, considering the conversation history.\\nYou can invoke the sub-agents or tools to answer the questions/requirements shown in the capabilities section.\\nAgent has no description while the tools have a description.\\n\\nQuestion/Requirement:\\nPlay some music, well, prefer to jazz music with 80 BPM.\\n\\nCapabilities:\\n- start_music: Turn on the music. The genre, BPM, and volume are randomly selected.\\n- change_bpm: Change the BPM of the music.\\n- change_music: Change the music genre and BPM.\\n')]\u001b[0m\n",
      "\u001b[32m[2025-01-02 19:31:07]\u001b[0m \u001b[1mINFO | root: Generating text\u001b[0m\n",
      "\u001b[32m[2025-01-02 19:31:10]\u001b[0m \u001b[34m\u001b[1mDEBUG | Response: [TextResponse(text='### Plan to Fulfill the Requirement\\n\\n1. **Start Music**: Invoke the `start_music` tool to begin playing music. This will randomly select a genre and BPM.\\n2. **Check BPM**: If the BPM is not 80, use the `change_bpm` tool to adjust the BPM to 80.\\n3. **Check Genre**: If the genre is not jazz, use the `change_music` tool to change the genre to jazz and set the BPM to 80.\\n\\n### Execution Steps\\n- Start by invoking `start_music`.\\n- After starting the music, check the current BPM and genre.\\n- If necessary, adjust the BPM and genre accordingly.')]\u001b[0m\n",
      "\u001b[32m[2025-01-02 19:31:10]\u001b[0m \u001b[34m\u001b[1mDEBUG | Prompt: [TextPrompt(text='Put the plan into action.')]\u001b[0m\n",
      "\u001b[32m[2025-01-02 19:31:10]\u001b[0m \u001b[1mINFO | root: Generating text\u001b[0m\n",
      "\u001b[32m[2025-01-02 19:31:10]\u001b[0m \u001b[34m\u001b[1mDEBUG | Response: [ToolCallResponse(name='start_music', args='{}', call_id='call_anBqRoK0C1WPdTGFHWIk8JUr')]\u001b[0m\n",
      "\u001b[32m[2025-01-02 19:31:10]\u001b[0m \u001b[1mINFO | Running tool: start_music\u001b[0m\n",
      "\u001b[32m[2025-01-02 19:31:10]\u001b[0m \u001b[1mINFO | Tool: start_music successfully ran.\u001b[0m\n",
      "\u001b[32m[2025-01-02 19:31:10]\u001b[0m \u001b[34m\u001b[1mDEBUG | Prompt: [ToolUsePrompt(output='Starting music! Genre: pop, BPM: 120, Volume: 0.8054780070808987', error=None, call_id='call_anBqRoK0C1WPdTGFHWIk8JUr', args='{}', name='start_music')]\u001b[0m\n",
      "\u001b[32m[2025-01-02 19:31:10]\u001b[0m \u001b[1mINFO | root: Generating text\u001b[0m\n",
      "\u001b[32m[2025-01-02 19:31:11]\u001b[0m \u001b[34m\u001b[1mDEBUG | Response: [ToolCallResponse(name='change_bpm', args='{\"new_bpm\": 80}', call_id='call_qzP9wBFxW4l5oy8n4sQzCcyz'), ToolCallResponse(name='change_music', args='{\"genre\": \"jazz\", \"bpm\": 80}', call_id='call_KaA4nWA33qxakUNItvOvnsCG')]\u001b[0m\n",
      "\u001b[32m[2025-01-02 19:31:11]\u001b[0m \u001b[1mINFO | Running tool: change_bpm\u001b[0m\n",
      "\u001b[32m[2025-01-02 19:31:11]\u001b[0m \u001b[1mINFO | Tool: change_bpm successfully ran.\u001b[0m\n",
      "\u001b[32m[2025-01-02 19:31:11]\u001b[0m \u001b[1mINFO | Running tool: change_music\u001b[0m\n",
      "\u001b[32m[2025-01-02 19:31:11]\u001b[0m \u001b[1mINFO | Tool: change_music successfully ran.\u001b[0m\n",
      "\u001b[32m[2025-01-02 19:31:11]\u001b[0m \u001b[34m\u001b[1mDEBUG | Prompt: [ToolUsePrompt(output='Changing BPM to 80', error=None, call_id='call_qzP9wBFxW4l5oy8n4sQzCcyz', args='{\"new_bpm\": 80}', name='change_bpm'), ToolUsePrompt(output='Changing music to jazz with BPM 80', error=None, call_id='call_KaA4nWA33qxakUNItvOvnsCG', args='{\"genre\": \"jazz\", \"bpm\": 80}', name='change_music')]\u001b[0m\n",
      "\u001b[32m[2025-01-02 19:31:11]\u001b[0m \u001b[1mINFO | root: Generating text\u001b[0m\n",
      "\u001b[32m[2025-01-02 19:31:12]\u001b[0m \u001b[34m\u001b[1mDEBUG | Response: [TextResponse(text='The music has been started with a genre of pop and a BPM of 120. I have successfully changed the BPM to 80 and the genre to jazz. Enjoy the music!')]\u001b[0m\n"
     ]
    },
    {
     "name": "stdout",
     "output_type": "stream",
     "text": [
      "The music has been started with a genre of pop and a BPM of 120. I have successfully changed the BPM to 80 and the genre to jazz. Enjoy the music!\n"
     ]
    }
   ],
   "source": [
    "response = azure_openai_agent.generate_text(prompt)\n",
    "\n",
    "print(response.contents[0].text)"
   ]
  },
  {
   "cell_type": "code",
   "execution_count": 19,
   "metadata": {},
   "outputs": [
    {
     "name": "stderr",
     "output_type": "stream",
     "text": [
      "\u001b[32m[2025-01-02 19:31:13]\u001b[0m \u001b[34m\u001b[1mDEBUG | Prompt: [TextPrompt(text='Please make a concise plan to answer the following question/requirement, considering the conversation history.\\nYou can invoke the sub-agents or tools to answer the questions/requirements shown in the capabilities section.\\nAgent has no description while the tools have a description.\\n\\nQuestion/Requirement:\\nPlay some music, well, prefer to jazz music with 80 BPM.\\n\\nCapabilities:\\n- start_music: Turn on the music. The genre, BPM, and volume are randomly selected.\\n- change_bpm: Change the BPM of the music.\\n- change_music: Change the music genre and BPM.\\n')]\u001b[0m\n",
      "\u001b[32m[2025-01-02 19:31:13]\u001b[0m \u001b[1mINFO | root: Generating text\u001b[0m\n",
      "\u001b[32m[2025-01-02 19:31:15]\u001b[0m \u001b[34m\u001b[1mDEBUG | Response: [TextResponse(text='### Plan to Fulfill the Requirement\\n\\n1. **Start Music**: Invoke the `start_music` tool to begin playing music. This will randomly select a genre and BPM.\\n2. **Check BPM**: If the BPM is not 80, use the `change_bpm` tool to adjust the BPM to 80.\\n3. **Check Genre**: If the genre is not jazz, use the `change_music` tool to change the genre to jazz and set the BPM to 80.\\n\\n### Execution Steps\\n- Start by invoking `start_music`.\\n- After starting the music, check the current BPM and genre.\\n- If necessary, adjust the BPM and genre accordingly.')]\u001b[0m\n",
      "\u001b[32m[2025-01-02 19:31:15]\u001b[0m \u001b[34m\u001b[1mDEBUG | Prompt: [TextPrompt(text='Put the plan into action.')]\u001b[0m\n",
      "\u001b[32m[2025-01-02 19:31:15]\u001b[0m \u001b[1mINFO | root: Generating text\u001b[0m\n",
      "\u001b[32m[2025-01-02 19:31:16]\u001b[0m \u001b[34m\u001b[1mDEBUG | Response: [ToolCallResponse(name='start_music', args='{}', call_id='call_ZlbUeTz7HDBLo2aKtU4SUG2o')]\u001b[0m\n",
      "\u001b[32m[2025-01-02 19:31:16]\u001b[0m \u001b[1mINFO | Running tool: start_music\u001b[0m\n",
      "\u001b[32m[2025-01-02 19:31:16]\u001b[0m \u001b[1mINFO | Tool: start_music successfully ran.\u001b[0m\n",
      "\u001b[32m[2025-01-02 19:31:16]\u001b[0m \u001b[34m\u001b[1mDEBUG | Prompt: [ToolUsePrompt(output='Starting music! Genre: jazz, BPM: 120, Volume: 0.6787547090714074', error=None, call_id='call_ZlbUeTz7HDBLo2aKtU4SUG2o', args='{}', name='start_music')]\u001b[0m\n",
      "\u001b[32m[2025-01-02 19:31:16]\u001b[0m \u001b[1mINFO | root: Generating text\u001b[0m\n",
      "\u001b[32m[2025-01-02 19:31:16]\u001b[0m \u001b[34m\u001b[1mDEBUG | Response: [ToolCallResponse(name='change_bpm', args='{\"new_bpm\": 80}', call_id='call_bcFoinFRbEkQd8CvwkACvok7'), ToolCallResponse(name='change_music', args='{\"genre\": \"jazz\", \"bpm\": 80}', call_id='call_paTubJgGGZzrWFWqKo1NDd5B')]\u001b[0m\n",
      "\u001b[32m[2025-01-02 19:31:16]\u001b[0m \u001b[1mINFO | Running tool: change_bpm\u001b[0m\n",
      "\u001b[32m[2025-01-02 19:31:16]\u001b[0m \u001b[1mINFO | Tool: change_bpm successfully ran.\u001b[0m\n",
      "\u001b[32m[2025-01-02 19:31:16]\u001b[0m \u001b[1mINFO | Running tool: change_music\u001b[0m\n",
      "\u001b[32m[2025-01-02 19:31:16]\u001b[0m \u001b[1mINFO | Tool: change_music successfully ran.\u001b[0m\n",
      "\u001b[32m[2025-01-02 19:31:16]\u001b[0m \u001b[34m\u001b[1mDEBUG | Prompt: [ToolUsePrompt(output='Changing BPM to 80', error=None, call_id='call_bcFoinFRbEkQd8CvwkACvok7', args='{\"new_bpm\": 80}', name='change_bpm'), ToolUsePrompt(output='Changing music to jazz with BPM 80', error=None, call_id='call_paTubJgGGZzrWFWqKo1NDd5B', args='{\"genre\": \"jazz\", \"bpm\": 80}', name='change_music')]\u001b[0m\n",
      "\u001b[32m[2025-01-02 19:31:16]\u001b[0m \u001b[1mINFO | root: Generating text\u001b[0m\n",
      "\u001b[32m[2025-01-02 19:31:17]\u001b[0m \u001b[34m\u001b[1mDEBUG | Response: [TextResponse(text='The music has been started with the genre jazz and an initial BPM of 120. I have successfully changed the BPM to 80 while keeping the genre as jazz. Enjoy the music!')]\u001b[0m\n"
     ]
    },
    {
     "name": "stdout",
     "output_type": "stream",
     "text": [
      "The music has been started with the genre jazz and an initial BPM of 120. I have successfully changed the BPM to 80 while keeping the genre as jazz. Enjoy the music!\n"
     ]
    }
   ],
   "source": [
    "response = await azure_openai_agent.generate_text_async(prompt)\n",
    "\n",
    "print(response.contents[0].text)"
   ]
  },
  {
   "cell_type": "code",
   "execution_count": 20,
   "metadata": {},
   "outputs": [
    {
     "name": "stderr",
     "output_type": "stream",
     "text": [
      "\u001b[32m[2025-01-02 19:31:24]\u001b[0m \u001b[34m\u001b[1mDEBUG | Prompt: [TextPrompt(text='Please make a concise plan to answer the following question/requirement, considering the conversation history.\\nYou can invoke the sub-agents or tools to answer the questions/requirements shown in the capabilities section.\\nAgent has no description while the tools have a description.\\n\\nQuestion/Requirement:\\nPlay some music, well, prefer to jazz music with 80 BPM.\\n\\nCapabilities:\\n- start_music: Turn on the music. The genre, BPM, and volume are randomly selected.\\n- change_bpm: Change the BPM of the music.\\n- change_music: Change the music genre and BPM.\\n')]\u001b[0m\n",
      "\u001b[32m[2025-01-02 19:31:24]\u001b[0m \u001b[1mINFO | root: Generating text\u001b[0m\n",
      "\u001b[32m[2025-01-02 19:31:26]\u001b[0m \u001b[34m\u001b[1mDEBUG | Response: [TextResponse(text='### Plan to Fulfill the Requirement\\n\\n1. **Start Music**: Invoke the `start_music` tool to begin playing music. This will randomly select a genre and BPM.\\n2. **Check BPM**: If the BPM is not 80, use the `change_bpm` tool to adjust the BPM to 80.\\n3. **Check Genre**: If the genre is not jazz, use the `change_music` tool to change the genre to jazz and set the BPM to 80.\\n\\n### Execution Steps\\n- Start by invoking `start_music`.\\n- After starting the music, check the current BPM and genre.\\n- If necessary, adjust the BPM and genre accordingly.')]\u001b[0m\n",
      "\u001b[32m[2025-01-02 19:31:26]\u001b[0m \u001b[34m\u001b[1mDEBUG | Prompt: [TextPrompt(text='Put the plan into action.')]\u001b[0m\n",
      "\u001b[32m[2025-01-02 19:31:26]\u001b[0m \u001b[1mINFO | root: Generating text\u001b[0m\n"
     ]
    },
    {
     "name": "stdout",
     "output_type": "stream",
     "text": [
      "{}\n"
     ]
    },
    {
     "name": "stderr",
     "output_type": "stream",
     "text": [
      "\u001b[32m[2025-01-02 19:31:26]\u001b[0m \u001b[34m\u001b[1mDEBUG | Response: [ToolCallResponse(name='start_music', args='{}', call_id='call_XFgbST2W5WsODBSWcaqJMiya')]\u001b[0m\n",
      "\u001b[32m[2025-01-02 19:31:26]\u001b[0m \u001b[1mINFO | Running tool: start_music\u001b[0m\n",
      "\u001b[32m[2025-01-02 19:31:26]\u001b[0m \u001b[1mINFO | Tool: start_music successfully ran.\u001b[0m\n",
      "\u001b[32m[2025-01-02 19:31:26]\u001b[0m \u001b[34m\u001b[1mDEBUG | Prompt: [ToolUsePrompt(output='Starting music! Genre: classical, BPM: 120, Volume: 0.9883905653336957', error=None, call_id='call_XFgbST2W5WsODBSWcaqJMiya', args='{}', name='start_music')]\u001b[0m\n",
      "\u001b[32m[2025-01-02 19:31:26]\u001b[0m \u001b[1mINFO | root: Generating text\u001b[0m\n"
     ]
    },
    {
     "name": "stdout",
     "output_type": "stream",
     "text": [
      "{\"ne\n",
      "{\"new_bpm\n",
      "{\"new_bpm\": 80}\n",
      "{\"ge\n",
      "{\"genre\":\n",
      "{\"genre\": \"jazz\n",
      "{\"genre\": \"jazz\", \"\n",
      "{\"genre\": \"jazz\", \"bpm\":\n",
      "{\"genre\": \"jazz\", \"bpm\": 80}\n"
     ]
    },
    {
     "name": "stderr",
     "output_type": "stream",
     "text": [
      "\u001b[32m[2025-01-02 19:31:27]\u001b[0m \u001b[34m\u001b[1mDEBUG | Response: [ToolCallResponse(name='change_bpm', args='{\"new_bpm\": 80}', call_id='call_k7mFr8Cr5ZuzmCqjJUh49Ly4'), ToolCallResponse(name='change_music', args='{\"genre\": \"jazz\", \"bpm\": 80}', call_id='call_cK81Ih06OdV0VnazT62HozWg')]\u001b[0m\n",
      "\u001b[32m[2025-01-02 19:31:27]\u001b[0m \u001b[1mINFO | Running tool: change_bpm\u001b[0m\n",
      "\u001b[32m[2025-01-02 19:31:27]\u001b[0m \u001b[1mINFO | Tool: change_bpm successfully ran.\u001b[0m\n",
      "\u001b[32m[2025-01-02 19:31:27]\u001b[0m \u001b[1mINFO | Running tool: change_music\u001b[0m\n",
      "\u001b[32m[2025-01-02 19:31:27]\u001b[0m \u001b[1mINFO | Tool: change_music successfully ran.\u001b[0m\n",
      "\u001b[32m[2025-01-02 19:31:27]\u001b[0m \u001b[34m\u001b[1mDEBUG | Prompt: [ToolUsePrompt(output='Changing BPM to 80', error=None, call_id='call_k7mFr8Cr5ZuzmCqjJUh49Ly4', args='{\"new_bpm\": 80}', name='change_bpm'), ToolUsePrompt(output='Changing music to jazz with BPM 80', error=None, call_id='call_cK81Ih06OdV0VnazT62HozWg', args='{\"genre\": \"jazz\", \"bpm\": 80}', name='change_music')]\u001b[0m\n",
      "\u001b[32m[2025-01-02 19:31:27]\u001b[0m \u001b[1mINFO | root: Generating text\u001b[0m\n"
     ]
    },
    {
     "name": "stdout",
     "output_type": "stream",
     "text": [
      "The\n",
      "The music\n",
      "The music has\n",
      "The music has been\n",
      "The music has been started\n",
      "The music has been started with\n",
      "The music has been started with a\n",
      "The music has been started with a genre\n",
      "The music has been started with a genre of\n",
      "The music has been started with a genre of classical\n",
      "The music has been started with a genre of classical and\n",
      "The music has been started with a genre of classical and a\n",
      "The music has been started with a genre of classical and a BPM\n",
      "The music has been started with a genre of classical and a BPM of\n",
      "The music has been started with a genre of classical and a BPM of \n",
      "The music has been started with a genre of classical and a BPM of 120\n",
      "The music has been started with a genre of classical and a BPM of 120.\n",
      "The music has been started with a genre of classical and a BPM of 120. I\n",
      "The music has been started with a genre of classical and a BPM of 120. I have\n",
      "The music has been started with a genre of classical and a BPM of 120. I have successfully\n",
      "The music has been started with a genre of classical and a BPM of 120. I have successfully changed\n",
      "The music has been started with a genre of classical and a BPM of 120. I have successfully changed the\n",
      "The music has been started with a genre of classical and a BPM of 120. I have successfully changed the music\n",
      "The music has been started with a genre of classical and a BPM of 120. I have successfully changed the music to\n",
      "The music has been started with a genre of classical and a BPM of 120. I have successfully changed the music to jazz\n",
      "The music has been started with a genre of classical and a BPM of 120. I have successfully changed the music to jazz and\n",
      "The music has been started with a genre of classical and a BPM of 120. I have successfully changed the music to jazz and adjusted\n",
      "The music has been started with a genre of classical and a BPM of 120. I have successfully changed the music to jazz and adjusted the\n",
      "The music has been started with a genre of classical and a BPM of 120. I have successfully changed the music to jazz and adjusted the BPM\n",
      "The music has been started with a genre of classical and a BPM of 120. I have successfully changed the music to jazz and adjusted the BPM to\n",
      "The music has been started with a genre of classical and a BPM of 120. I have successfully changed the music to jazz and adjusted the BPM to \n",
      "The music has been started with a genre of classical and a BPM of 120. I have successfully changed the music to jazz and adjusted the BPM to 80\n",
      "The music has been started with a genre of classical and a BPM of 120. I have successfully changed the music to jazz and adjusted the BPM to 80.\n",
      "The music has been started with a genre of classical and a BPM of 120. I have successfully changed the music to jazz and adjusted the BPM to 80. Enjoy\n",
      "The music has been started with a genre of classical and a BPM of 120. I have successfully changed the music to jazz and adjusted the BPM to 80. Enjoy the\n",
      "The music has been started with a genre of classical and a BPM of 120. I have successfully changed the music to jazz and adjusted the BPM to 80. Enjoy the jazz\n",
      "The music has been started with a genre of classical and a BPM of 120. I have successfully changed the music to jazz and adjusted the BPM to 80. Enjoy the jazz music\n",
      "The music has been started with a genre of classical and a BPM of 120. I have successfully changed the music to jazz and adjusted the BPM to 80. Enjoy the jazz music!\n"
     ]
    },
    {
     "name": "stderr",
     "output_type": "stream",
     "text": [
      "\u001b[32m[2025-01-02 19:31:29]\u001b[0m \u001b[34m\u001b[1mDEBUG | Response: [TextResponse(text='The music has been started with a genre of classical and a BPM of 120. I have successfully changed the music to jazz and adjusted the BPM to 80. Enjoy the jazz music!')]\u001b[0m\n"
     ]
    },
    {
     "name": "stdout",
     "output_type": "stream",
     "text": [
      "The music has been started with a genre of classical and a BPM of 120. I have successfully changed the music to jazz and adjusted the BPM to 80. Enjoy the jazz music!\n"
     ]
    }
   ],
   "source": [
    "streamed_response = azure_openai_agent.stream_text(prompt)\n",
    "\n",
    "for chunk in streamed_response:\n",
    "    for content in chunk.contents:\n",
    "        if isinstance(content, TextResponse):\n",
    "            print(content.text, flush=True)\n",
    "        elif isinstance(content, ToolCallResponse):\n",
    "            print(content.args, flush=True)"
   ]
  },
  {
   "cell_type": "code",
   "execution_count": 21,
   "metadata": {},
   "outputs": [
    {
     "name": "stderr",
     "output_type": "stream",
     "text": [
      "\u001b[32m[2025-01-02 19:31:31]\u001b[0m \u001b[34m\u001b[1mDEBUG | Prompt: [TextPrompt(text='Please make a concise plan to answer the following question/requirement, considering the conversation history.\\nYou can invoke the sub-agents or tools to answer the questions/requirements shown in the capabilities section.\\nAgent has no description while the tools have a description.\\n\\nQuestion/Requirement:\\nPlay some music, well, prefer to jazz music with 80 BPM.\\n\\nCapabilities:\\n- start_music: Turn on the music. The genre, BPM, and volume are randomly selected.\\n- change_bpm: Change the BPM of the music.\\n- change_music: Change the music genre and BPM.\\n')]\u001b[0m\n",
      "\u001b[32m[2025-01-02 19:31:31]\u001b[0m \u001b[1mINFO | root: Generating text\u001b[0m\n",
      "\u001b[32m[2025-01-02 19:31:34]\u001b[0m \u001b[34m\u001b[1mDEBUG | Response: [TextResponse(text='### Plan to Fulfill the Requirement\\n\\n1. **Start Music**: Invoke the `start_music` tool to begin playing music. This will randomly select a genre and BPM.\\n2. **Check BPM**: If the BPM is not 80, use the `change_bpm` tool to adjust the BPM to 80.\\n3. **Check Genre**: If the genre is not jazz, use the `change_music` tool to change the genre to jazz and set the BPM to 80.\\n\\n### Execution Steps\\n- Start by invoking `start_music`.\\n- After starting the music, check the current BPM and genre.\\n- If necessary, adjust the BPM and genre accordingly.')]\u001b[0m\n",
      "\u001b[32m[2025-01-02 19:31:34]\u001b[0m \u001b[34m\u001b[1mDEBUG | Prompt: [TextPrompt(text='Put the plan into action.')]\u001b[0m\n",
      "\u001b[32m[2025-01-02 19:31:34]\u001b[0m \u001b[1mINFO | root: Generating text\u001b[0m\n"
     ]
    },
    {
     "name": "stdout",
     "output_type": "stream",
     "text": [
      "{}\n"
     ]
    },
    {
     "name": "stderr",
     "output_type": "stream",
     "text": [
      "\u001b[32m[2025-01-02 19:31:35]\u001b[0m \u001b[34m\u001b[1mDEBUG | Response: [ToolCallResponse(name='start_music', args='{}', call_id='call_RuQ53vrYOdN09onAfb9AxiKU')]\u001b[0m\n",
      "\u001b[32m[2025-01-02 19:31:35]\u001b[0m \u001b[1mINFO | Running tool: start_music\u001b[0m\n",
      "\u001b[32m[2025-01-02 19:31:35]\u001b[0m \u001b[1mINFO | Tool: start_music successfully ran.\u001b[0m\n",
      "\u001b[32m[2025-01-02 19:31:35]\u001b[0m \u001b[34m\u001b[1mDEBUG | Prompt: [ToolUsePrompt(output='Starting music! Genre: hip-hop, BPM: 120, Volume: 0.5555724818064931', error=None, call_id='call_RuQ53vrYOdN09onAfb9AxiKU', args='{}', name='start_music')]\u001b[0m\n",
      "\u001b[32m[2025-01-02 19:31:35]\u001b[0m \u001b[1mINFO | root: Generating text\u001b[0m\n"
     ]
    },
    {
     "name": "stdout",
     "output_type": "stream",
     "text": [
      "{\"ne\n",
      "{\"new_bpm\n",
      "{\"new_bpm\": 80}\n",
      "{\"ge\n",
      "{\"genre\":\n",
      "{\"genre\": \"jazz\n",
      "{\"genre\": \"jazz\", \"\n",
      "{\"genre\": \"jazz\", \"bpm\":\n",
      "{\"genre\": \"jazz\", \"bpm\": 80}\n"
     ]
    },
    {
     "name": "stderr",
     "output_type": "stream",
     "text": [
      "\u001b[32m[2025-01-02 19:31:36]\u001b[0m \u001b[34m\u001b[1mDEBUG | Response: [ToolCallResponse(name='change_bpm', args='{\"new_bpm\": 80}', call_id='call_hrtC4hCvptk3tRQ2Do04EEKW'), ToolCallResponse(name='change_music', args='{\"genre\": \"jazz\", \"bpm\": 80}', call_id='call_LWezq0OA8I0cusyTwAzVJyfn')]\u001b[0m\n",
      "\u001b[32m[2025-01-02 19:31:36]\u001b[0m \u001b[1mINFO | Running tool: change_bpm\u001b[0m\n",
      "\u001b[32m[2025-01-02 19:31:36]\u001b[0m \u001b[1mINFO | Tool: change_bpm successfully ran.\u001b[0m\n",
      "\u001b[32m[2025-01-02 19:31:36]\u001b[0m \u001b[1mINFO | Running tool: change_music\u001b[0m\n",
      "\u001b[32m[2025-01-02 19:31:36]\u001b[0m \u001b[1mINFO | Tool: change_music successfully ran.\u001b[0m\n",
      "\u001b[32m[2025-01-02 19:31:36]\u001b[0m \u001b[34m\u001b[1mDEBUG | Prompt: [ToolUsePrompt(output='Changing BPM to 80', error=None, call_id='call_hrtC4hCvptk3tRQ2Do04EEKW', args='{\"new_bpm\": 80}', name='change_bpm'), ToolUsePrompt(output='Changing music to jazz with BPM 80', error=None, call_id='call_LWezq0OA8I0cusyTwAzVJyfn', args='{\"genre\": \"jazz\", \"bpm\": 80}', name='change_music')]\u001b[0m\n",
      "\u001b[32m[2025-01-02 19:31:36]\u001b[0m \u001b[1mINFO | root: Generating text\u001b[0m\n"
     ]
    },
    {
     "name": "stdout",
     "output_type": "stream",
     "text": [
      "The\n",
      "The music\n",
      "The music has\n",
      "The music has been\n",
      "The music has been started\n",
      "The music has been started with\n",
      "The music has been started with a\n",
      "The music has been started with a genre\n",
      "The music has been started with a genre of\n",
      "The music has been started with a genre of hip\n",
      "The music has been started with a genre of hip-hop\n",
      "The music has been started with a genre of hip-hop and\n",
      "The music has been started with a genre of hip-hop and a\n",
      "The music has been started with a genre of hip-hop and a BPM\n",
      "The music has been started with a genre of hip-hop and a BPM of\n",
      "The music has been started with a genre of hip-hop and a BPM of \n",
      "The music has been started with a genre of hip-hop and a BPM of 120\n",
      "The music has been started with a genre of hip-hop and a BPM of 120.\n",
      "The music has been started with a genre of hip-hop and a BPM of 120. I\n",
      "The music has been started with a genre of hip-hop and a BPM of 120. I have\n",
      "The music has been started with a genre of hip-hop and a BPM of 120. I have successfully\n",
      "The music has been started with a genre of hip-hop and a BPM of 120. I have successfully changed\n",
      "The music has been started with a genre of hip-hop and a BPM of 120. I have successfully changed the\n",
      "The music has been started with a genre of hip-hop and a BPM of 120. I have successfully changed the BPM\n",
      "The music has been started with a genre of hip-hop and a BPM of 120. I have successfully changed the BPM to\n",
      "The music has been started with a genre of hip-hop and a BPM of 120. I have successfully changed the BPM to \n",
      "The music has been started with a genre of hip-hop and a BPM of 120. I have successfully changed the BPM to 80\n",
      "The music has been started with a genre of hip-hop and a BPM of 120. I have successfully changed the BPM to 80 and\n",
      "The music has been started with a genre of hip-hop and a BPM of 120. I have successfully changed the BPM to 80 and the\n",
      "The music has been started with a genre of hip-hop and a BPM of 120. I have successfully changed the BPM to 80 and the genre\n",
      "The music has been started with a genre of hip-hop and a BPM of 120. I have successfully changed the BPM to 80 and the genre to\n",
      "The music has been started with a genre of hip-hop and a BPM of 120. I have successfully changed the BPM to 80 and the genre to jazz\n",
      "The music has been started with a genre of hip-hop and a BPM of 120. I have successfully changed the BPM to 80 and the genre to jazz.\n",
      "The music has been started with a genre of hip-hop and a BPM of 120. I have successfully changed the BPM to 80 and the genre to jazz. Enjoy\n",
      "The music has been started with a genre of hip-hop and a BPM of 120. I have successfully changed the BPM to 80 and the genre to jazz. Enjoy the\n",
      "The music has been started with a genre of hip-hop and a BPM of 120. I have successfully changed the BPM to 80 and the genre to jazz. Enjoy the music\n",
      "The music has been started with a genre of hip-hop and a BPM of 120. I have successfully changed the BPM to 80 and the genre to jazz. Enjoy the music!\n"
     ]
    },
    {
     "name": "stderr",
     "output_type": "stream",
     "text": [
      "\u001b[32m[2025-01-02 19:31:38]\u001b[0m \u001b[34m\u001b[1mDEBUG | Response: [TextResponse(text='The music has been started with a genre of hip-hop and a BPM of 120. I have successfully changed the BPM to 80 and the genre to jazz. Enjoy the music!')]\u001b[0m\n"
     ]
    },
    {
     "name": "stdout",
     "output_type": "stream",
     "text": [
      "The music has been started with a genre of hip-hop and a BPM of 120. I have successfully changed the BPM to 80 and the genre to jazz. Enjoy the music!\n"
     ]
    }
   ],
   "source": [
    "streamed_response = openai_agent.stream_text_async(prompt)\n",
    "\n",
    "async for chunk in streamed_response:\n",
    "    for content in chunk.contents:\n",
    "        if isinstance(content, TextResponse):\n",
    "            print(content.text, flush=True)\n",
    "        elif isinstance(content, ToolCallResponse):\n",
    "            print(content.args, flush=True)"
   ]
  },
  {
   "cell_type": "markdown",
   "metadata": {},
   "source": [
    "### Gemini on Google AI Studio"
   ]
  },
  {
   "cell_type": "code",
   "execution_count": 22,
   "metadata": {},
   "outputs": [
    {
     "name": "stderr",
     "output_type": "stream",
     "text": [
      "\u001b[32m[2025-01-02 19:31:41]\u001b[0m \u001b[34m\u001b[1mDEBUG | Prompt: [TextPrompt(text='Please make a concise plan to answer the following question/requirement, considering the conversation history.\\nYou can invoke the sub-agents or tools to answer the questions/requirements shown in the capabilities section.\\nAgent has no description while the tools have a description.\\n\\nQuestion/Requirement:\\nPlay some music, well, prefer to jazz music with 80 BPM.\\n\\nCapabilities:\\n- start_music: Turn on the music. The genre, BPM, and volume are randomly selected.\\n- change_bpm: Change the BPM of the music.\\n- change_music: Change the music genre and BPM.\\n')]\u001b[0m\n",
      "\u001b[32m[2025-01-02 19:31:41]\u001b[0m \u001b[1mINFO | root: Generating text\u001b[0m\n",
      "\u001b[32m[2025-01-02 19:31:42]\u001b[0m \u001b[34m\u001b[1mDEBUG | Response: [TextResponse(text=\"Okay, here's the plan:\\n\\n1. **Initial Music Start:** Use the `start_music` tool to begin playing music. This will give us a baseline to work from.\\n2. **Change Genre and BPM:** Use the `change_music` tool to change the music to jazz and set the BPM to 80.\\n3. **Confirmation:**  Assume the music is playing as requested.\\n\\nThis plan directly addresses the user's request by first starting music and then adjusting it to the desired genre and BPM.\")]\u001b[0m\n",
      "\u001b[32m[2025-01-02 19:31:42]\u001b[0m \u001b[34m\u001b[1mDEBUG | Prompt: [TextPrompt(text='Put the plan into action.')]\u001b[0m\n",
      "\u001b[32m[2025-01-02 19:31:42]\u001b[0m \u001b[1mINFO | root: Generating text\u001b[0m\n",
      "\u001b[32m[2025-01-02 19:31:44]\u001b[0m \u001b[34m\u001b[1mDEBUG | Response: [ToolCallResponse(name='start_music', args='{}', call_id='TcqGzNJ8856w0qiGcIQeZ4el')]\u001b[0m\n",
      "\u001b[32m[2025-01-02 19:31:44]\u001b[0m \u001b[1mINFO | Running tool: start_music\u001b[0m\n",
      "\u001b[32m[2025-01-02 19:31:44]\u001b[0m \u001b[1mINFO | Tool: start_music successfully ran.\u001b[0m\n",
      "\u001b[32m[2025-01-02 19:31:44]\u001b[0m \u001b[34m\u001b[1mDEBUG | Prompt: [ToolUsePrompt(output='Starting music! Genre: jazz, BPM: 120, Volume: 0.34015235760608664', error=None, call_id='TcqGzNJ8856w0qiGcIQeZ4el', args='{}', name='start_music')]\u001b[0m\n",
      "\u001b[32m[2025-01-02 19:31:44]\u001b[0m \u001b[1mINFO | root: Generating text\u001b[0m\n",
      "\u001b[32m[2025-01-02 19:31:45]\u001b[0m \u001b[34m\u001b[1mDEBUG | Response: [ToolCallResponse(name='change_music', args='{\"genre\": \"jazz\", \"bpm\": 80}', call_id='iT9uiwJgTZB1feAOjmTcgwKK')]\u001b[0m\n",
      "\u001b[32m[2025-01-02 19:31:45]\u001b[0m \u001b[1mINFO | Running tool: change_music\u001b[0m\n",
      "\u001b[32m[2025-01-02 19:31:45]\u001b[0m \u001b[1mINFO | Tool: change_music successfully ran.\u001b[0m\n",
      "\u001b[32m[2025-01-02 19:31:45]\u001b[0m \u001b[34m\u001b[1mDEBUG | Prompt: [ToolUsePrompt(output='Changing music to jazz with BPM 80', error=None, call_id='iT9uiwJgTZB1feAOjmTcgwKK', args='{\"genre\": \"jazz\", \"bpm\": 80}', name='change_music')]\u001b[0m\n",
      "\u001b[32m[2025-01-02 19:31:45]\u001b[0m \u001b[1mINFO | root: Generating text\u001b[0m\n",
      "\u001b[32m[2025-01-02 19:31:46]\u001b[0m \u001b[34m\u001b[1mDEBUG | Response: [TextResponse(text=\"Okay, I've started the music and then changed it to jazz with a BPM of 80 as you requested.\")]\u001b[0m\n"
     ]
    },
    {
     "name": "stdout",
     "output_type": "stream",
     "text": [
      "Okay, I've started the music and then changed it to jazz with a BPM of 80 as you requested.\n"
     ]
    }
   ],
   "source": [
    "response = google_agent.generate_text(prompt)\n",
    "\n",
    "print(response.contents[0].text)"
   ]
  },
  {
   "cell_type": "code",
   "execution_count": 23,
   "metadata": {},
   "outputs": [
    {
     "name": "stderr",
     "output_type": "stream",
     "text": [
      "\u001b[32m[2025-01-02 19:31:48]\u001b[0m \u001b[34m\u001b[1mDEBUG | Prompt: [TextPrompt(text='Please make a concise plan to answer the following question/requirement, considering the conversation history.\\nYou can invoke the sub-agents or tools to answer the questions/requirements shown in the capabilities section.\\nAgent has no description while the tools have a description.\\n\\nQuestion/Requirement:\\nPlay some music, well, prefer to jazz music with 80 BPM.\\n\\nCapabilities:\\n- start_music: Turn on the music. The genre, BPM, and volume are randomly selected.\\n- change_bpm: Change the BPM of the music.\\n- change_music: Change the music genre and BPM.\\n')]\u001b[0m\n",
      "\u001b[32m[2025-01-02 19:31:48]\u001b[0m \u001b[1mINFO | root: Generating text\u001b[0m\n",
      "\u001b[32m[2025-01-02 19:31:50]\u001b[0m \u001b[34m\u001b[1mDEBUG | Response: [TextResponse(text=\"Okay, here's the plan:\\n\\n1. **Initial Music Start:** Use the `start_music` tool to begin playing music. This will give us a baseline to work from.\\n2. **Change Genre and BPM:** Use the `change_music` tool to change the music to jazz and set the BPM to 80.\\n3. **Confirmation:**  Assume the music is playing as requested.\\n\\nThis plan directly addresses the user's request by first starting music and then adjusting it to the desired genre and BPM.\")]\u001b[0m\n",
      "\u001b[32m[2025-01-02 19:31:50]\u001b[0m \u001b[34m\u001b[1mDEBUG | Prompt: [TextPrompt(text='Put the plan into action.')]\u001b[0m\n",
      "\u001b[32m[2025-01-02 19:31:50]\u001b[0m \u001b[1mINFO | root: Generating text\u001b[0m\n",
      "\u001b[32m[2025-01-02 19:31:51]\u001b[0m \u001b[34m\u001b[1mDEBUG | Response: [ToolCallResponse(name='start_music', args='{}', call_id='yoD0lLEgiQr5qexxSFmKphuI')]\u001b[0m\n",
      "\u001b[32m[2025-01-02 19:31:51]\u001b[0m \u001b[1mINFO | Running tool: start_music\u001b[0m\n",
      "\u001b[32m[2025-01-02 19:31:51]\u001b[0m \u001b[1mINFO | Tool: start_music successfully ran.\u001b[0m\n",
      "\u001b[32m[2025-01-02 19:31:51]\u001b[0m \u001b[34m\u001b[1mDEBUG | Prompt: [ToolUsePrompt(output='Starting music! Genre: hip-hop, BPM: 120, Volume: 0.332857505364747', error=None, call_id='yoD0lLEgiQr5qexxSFmKphuI', args='{}', name='start_music')]\u001b[0m\n",
      "\u001b[32m[2025-01-02 19:31:51]\u001b[0m \u001b[1mINFO | root: Generating text\u001b[0m\n",
      "\u001b[32m[2025-01-02 19:31:52]\u001b[0m \u001b[34m\u001b[1mDEBUG | Response: [ToolCallResponse(name='change_music', args='{\"genre\": \"jazz\", \"bpm\": 80}', call_id='uRHYM787rr5zUpf0ZlRGSg8s')]\u001b[0m\n",
      "\u001b[32m[2025-01-02 19:31:52]\u001b[0m \u001b[1mINFO | Running tool: change_music\u001b[0m\n",
      "\u001b[32m[2025-01-02 19:31:52]\u001b[0m \u001b[1mINFO | Tool: change_music successfully ran.\u001b[0m\n",
      "\u001b[32m[2025-01-02 19:31:52]\u001b[0m \u001b[34m\u001b[1mDEBUG | Prompt: [ToolUsePrompt(output='Changing music to jazz with BPM 80', error=None, call_id='uRHYM787rr5zUpf0ZlRGSg8s', args='{\"genre\": \"jazz\", \"bpm\": 80}', name='change_music')]\u001b[0m\n",
      "\u001b[32m[2025-01-02 19:31:52]\u001b[0m \u001b[1mINFO | root: Generating text\u001b[0m\n",
      "\u001b[32m[2025-01-02 19:31:53]\u001b[0m \u001b[34m\u001b[1mDEBUG | Response: [TextResponse(text=\"Okay, I've started the music and then changed it to jazz with a BPM of 80. Enjoy!\")]\u001b[0m\n"
     ]
    },
    {
     "name": "stdout",
     "output_type": "stream",
     "text": [
      "Okay, I've started the music and then changed it to jazz with a BPM of 80. Enjoy!\n"
     ]
    }
   ],
   "source": [
    "response = await google_agent.generate_text_async(prompt)\n",
    "\n",
    "print(response.contents[0].text)"
   ]
  },
  {
   "cell_type": "code",
   "execution_count": 26,
   "metadata": {},
   "outputs": [
    {
     "name": "stderr",
     "output_type": "stream",
     "text": [
      "\u001b[32m[2025-01-02 19:33:14]\u001b[0m \u001b[34m\u001b[1mDEBUG | Prompt: [TextPrompt(text='Please make a concise plan to answer the following question/requirement, considering the conversation history.\\nYou can invoke the sub-agents or tools to answer the questions/requirements shown in the capabilities section.\\nAgent has no description while the tools have a description.\\n\\nQuestion/Requirement:\\nPlay some music, well, prefer to jazz music with 80 BPM.\\n\\nCapabilities:\\n- start_music: Turn on the music. The genre, BPM, and volume are randomly selected.\\n- change_bpm: Change the BPM of the music.\\n- change_music: Change the music genre and BPM.\\n')]\u001b[0m\n",
      "\u001b[32m[2025-01-02 19:33:14]\u001b[0m \u001b[1mINFO | root: Generating text\u001b[0m\n",
      "\u001b[32m[2025-01-02 19:33:16]\u001b[0m \u001b[34m\u001b[1mDEBUG | Response: [TextResponse(text=\"Okay, here's the plan:\\n\\n1. **Initial Music Start:** Use the `start_music` tool to begin playing music. This will give us a baseline to work from.\\n2. **Change Genre and BPM:** Use the `change_music` tool to change the music to jazz and set the BPM to 80.\\n3. **Confirmation:**  Assume the music is playing as requested.\\n\\nThis plan directly addresses the user's request by first starting music and then adjusting it to the desired genre and BPM.\")]\u001b[0m\n",
      "\u001b[32m[2025-01-02 19:33:16]\u001b[0m \u001b[34m\u001b[1mDEBUG | Prompt: [TextPrompt(text='Put the plan into action.')]\u001b[0m\n",
      "\u001b[32m[2025-01-02 19:33:16]\u001b[0m \u001b[1mINFO | root: Generating text\u001b[0m\n"
     ]
    },
    {
     "name": "stdout",
     "output_type": "stream",
     "text": [
      "{}\n"
     ]
    },
    {
     "name": "stderr",
     "output_type": "stream",
     "text": [
      "\u001b[32m[2025-01-02 19:33:17]\u001b[0m \u001b[34m\u001b[1mDEBUG | Response: [ToolCallResponse(name='start_music', args='{}', call_id='6D6YTTx8D6WS0c4ZWvs039c7')]\u001b[0m\n",
      "\u001b[32m[2025-01-02 19:33:17]\u001b[0m \u001b[1mINFO | Running tool: start_music\u001b[0m\n",
      "\u001b[32m[2025-01-02 19:33:17]\u001b[0m \u001b[1mINFO | Tool: start_music successfully ran.\u001b[0m\n",
      "\u001b[32m[2025-01-02 19:33:17]\u001b[0m \u001b[34m\u001b[1mDEBUG | Prompt: [ToolUsePrompt(output='Starting music! Genre: pop, BPM: 120, Volume: 0.5813511588061258', error=None, call_id='6D6YTTx8D6WS0c4ZWvs039c7', args='{}', name='start_music')]\u001b[0m\n",
      "\u001b[32m[2025-01-02 19:33:17]\u001b[0m \u001b[1mINFO | root: Generating text\u001b[0m\n"
     ]
    },
    {
     "name": "stdout",
     "output_type": "stream",
     "text": [
      "{\"bpm\": 80, \"genre\": \"jazz\"}\n"
     ]
    },
    {
     "name": "stderr",
     "output_type": "stream",
     "text": [
      "\u001b[32m[2025-01-02 19:33:18]\u001b[0m \u001b[34m\u001b[1mDEBUG | Response: [ToolCallResponse(name='change_music', args='{\"bpm\": 80, \"genre\": \"jazz\"}', call_id='aU1d1dbCKBl9xu1BGixjIYQy')]\u001b[0m\n",
      "\u001b[32m[2025-01-02 19:33:18]\u001b[0m \u001b[1mINFO | Running tool: change_music\u001b[0m\n",
      "\u001b[32m[2025-01-02 19:33:18]\u001b[0m \u001b[1mINFO | Tool: change_music successfully ran.\u001b[0m\n",
      "\u001b[32m[2025-01-02 19:33:18]\u001b[0m \u001b[34m\u001b[1mDEBUG | Prompt: [ToolUsePrompt(output='Changing music to jazz with BPM 80', error=None, call_id='aU1d1dbCKBl9xu1BGixjIYQy', args='{\"bpm\": 80, \"genre\": \"jazz\"}', name='change_music')]\u001b[0m\n",
      "\u001b[32m[2025-01-02 19:33:18]\u001b[0m \u001b[1mINFO | root: Generating text\u001b[0m\n"
     ]
    },
    {
     "name": "stdout",
     "output_type": "stream",
     "text": [
      "Okay\n",
      "Okay, I've started the music and then changed it to jazz with a BPM\n",
      "Okay, I've started the music and then changed it to jazz with a BPM of 80. Enjoy!\n",
      "\n",
      "Okay, I've started the music and then changed it to jazz with a BPM of 80. Enjoy!\n",
      "\n"
     ]
    }
   ],
   "source": [
    "streamed_response = google_agent.stream_text(prompt)\n",
    "\n",
    "for chunk in streamed_response:\n",
    "    for content in chunk.contents:\n",
    "        if isinstance(content, TextResponse):\n",
    "            print(content.text, flush=True)\n",
    "        elif isinstance(content, ToolCallResponse):\n",
    "            print(content.args, flush=True)"
   ]
  },
  {
   "cell_type": "code",
   "execution_count": 27,
   "metadata": {},
   "outputs": [
    {
     "name": "stderr",
     "output_type": "stream",
     "text": [
      "\u001b[32m[2025-01-02 19:33:24]\u001b[0m \u001b[34m\u001b[1mDEBUG | Prompt: [TextPrompt(text='Please make a concise plan to answer the following question/requirement, considering the conversation history.\\nYou can invoke the sub-agents or tools to answer the questions/requirements shown in the capabilities section.\\nAgent has no description while the tools have a description.\\n\\nQuestion/Requirement:\\nPlay some music, well, prefer to jazz music with 80 BPM.\\n\\nCapabilities:\\n- start_music: Turn on the music. The genre, BPM, and volume are randomly selected.\\n- change_bpm: Change the BPM of the music.\\n- change_music: Change the music genre and BPM.\\n')]\u001b[0m\n",
      "\u001b[32m[2025-01-02 19:33:24]\u001b[0m \u001b[1mINFO | root: Generating text\u001b[0m\n",
      "\u001b[32m[2025-01-02 19:33:26]\u001b[0m \u001b[34m\u001b[1mDEBUG | Response: [TextResponse(text=\"Okay, here's the plan:\\n\\n1. **Initial Music Start:** Use the `start_music` tool to begin playing music. This will give us a baseline to work from.\\n2. **Change Genre and BPM:** Use the `change_music` tool to change the music to jazz and set the BPM to 80.\\n3. **Confirmation:**  Assume the music is playing as requested.\\n\\nThis plan directly addresses the user's request by first starting music and then adjusting it to the desired genre and BPM.\")]\u001b[0m\n",
      "\u001b[32m[2025-01-02 19:33:26]\u001b[0m \u001b[34m\u001b[1mDEBUG | Prompt: [TextPrompt(text='Put the plan into action.')]\u001b[0m\n",
      "\u001b[32m[2025-01-02 19:33:26]\u001b[0m \u001b[1mINFO | root: Generating text\u001b[0m\n"
     ]
    },
    {
     "name": "stdout",
     "output_type": "stream",
     "text": [
      "{}\n"
     ]
    },
    {
     "name": "stderr",
     "output_type": "stream",
     "text": [
      "\u001b[32m[2025-01-02 19:33:27]\u001b[0m \u001b[34m\u001b[1mDEBUG | Response: [ToolCallResponse(name='start_music', args='{}', call_id='3X0Y7UP9dDAzvlYEH9cpbgRK')]\u001b[0m\n",
      "\u001b[32m[2025-01-02 19:33:27]\u001b[0m \u001b[1mINFO | Running tool: start_music\u001b[0m\n",
      "\u001b[32m[2025-01-02 19:33:27]\u001b[0m \u001b[1mINFO | Tool: start_music successfully ran.\u001b[0m\n",
      "\u001b[32m[2025-01-02 19:33:27]\u001b[0m \u001b[34m\u001b[1mDEBUG | Prompt: [ToolUsePrompt(output='Starting music! Genre: rock, BPM: 120, Volume: 0.9754679890395785', error=None, call_id='3X0Y7UP9dDAzvlYEH9cpbgRK', args='{}', name='start_music')]\u001b[0m\n",
      "\u001b[32m[2025-01-02 19:33:27]\u001b[0m \u001b[1mINFO | root: Generating text\u001b[0m\n"
     ]
    },
    {
     "name": "stdout",
     "output_type": "stream",
     "text": [
      "{\"genre\": \"jazz\", \"bpm\": 80}\n"
     ]
    },
    {
     "name": "stderr",
     "output_type": "stream",
     "text": [
      "\u001b[32m[2025-01-02 19:33:28]\u001b[0m \u001b[34m\u001b[1mDEBUG | Response: [ToolCallResponse(name='change_music', args='{\"genre\": \"jazz\", \"bpm\": 80}', call_id='FQNNaYt7ZWusCcbn89KLzx8S')]\u001b[0m\n",
      "\u001b[32m[2025-01-02 19:33:28]\u001b[0m \u001b[1mINFO | Running tool: change_music\u001b[0m\n",
      "\u001b[32m[2025-01-02 19:33:28]\u001b[0m \u001b[1mINFO | Tool: change_music successfully ran.\u001b[0m\n",
      "\u001b[32m[2025-01-02 19:33:28]\u001b[0m \u001b[34m\u001b[1mDEBUG | Prompt: [ToolUsePrompt(output='Changing music to jazz with BPM 80', error=None, call_id='FQNNaYt7ZWusCcbn89KLzx8S', args='{\"genre\": \"jazz\", \"bpm\": 80}', name='change_music')]\u001b[0m\n",
      "\u001b[32m[2025-01-02 19:33:28]\u001b[0m \u001b[1mINFO | root: Generating text\u001b[0m\n"
     ]
    },
    {
     "name": "stdout",
     "output_type": "stream",
     "text": [
      "Okay\n",
      "Okay, I've started the music and then changed it to jazz with a BPM\n",
      "Okay, I've started the music and then changed it to jazz with a BPM of 80. Enjoy!\n",
      "\n",
      "Okay, I've started the music and then changed it to jazz with a BPM of 80. Enjoy!\n",
      "\n"
     ]
    }
   ],
   "source": [
    "streamed_response = google_agent.stream_text_async(prompt)\n",
    "\n",
    "async for chunk in streamed_response:\n",
    "    for content in chunk.contents:\n",
    "        if isinstance(content, TextResponse):\n",
    "            print(content.text, flush=True)\n",
    "        elif isinstance(content, ToolCallResponse):\n",
    "            print(content.args, flush=True)"
   ]
  },
  {
   "cell_type": "markdown",
   "metadata": {},
   "source": [
    "### Gemini on VertexAI"
   ]
  },
  {
   "cell_type": "code",
   "execution_count": 28,
   "metadata": {},
   "outputs": [
    {
     "name": "stderr",
     "output_type": "stream",
     "text": [
      "\u001b[32m[2025-01-02 19:33:50]\u001b[0m \u001b[34m\u001b[1mDEBUG | Prompt: [TextPrompt(text='Please make a concise plan to answer the following question/requirement, considering the conversation history.\\nYou can invoke the sub-agents or tools to answer the questions/requirements shown in the capabilities section.\\nAgent has no description while the tools have a description.\\n\\nQuestion/Requirement:\\nPlay some music, well, prefer to jazz music with 80 BPM.\\n\\nCapabilities:\\n- start_music: Turn on the music. The genre, BPM, and volume are randomly selected.\\n- change_bpm: Change the BPM of the music.\\n- change_music: Change the music genre and BPM.\\n')]\u001b[0m\n",
      "\u001b[32m[2025-01-02 19:33:50]\u001b[0m \u001b[1mINFO | root: Generating text\u001b[0m\n",
      "\u001b[32m[2025-01-02 19:33:53]\u001b[0m \u001b[34m\u001b[1mDEBUG | Response: [TextResponse(text=\"Okay, here's the plan:\\n\\n1. **Initial Music Start:** Use the `start_music` tool to begin playing music. This will give us a baseline to work from.\\n2. **Change Genre and BPM:** Use the `change_music` tool to change the music to jazz and set the BPM to 80.\\n3. **Confirmation:**  Assume the music is playing as requested.\\n\\nThis plan directly addresses the user's request by first starting music and then adjusting it to the desired genre and BPM.\")]\u001b[0m\n",
      "\u001b[32m[2025-01-02 19:33:53]\u001b[0m \u001b[34m\u001b[1mDEBUG | Prompt: [TextPrompt(text='Put the plan into action.')]\u001b[0m\n",
      "\u001b[32m[2025-01-02 19:33:53]\u001b[0m \u001b[1mINFO | root: Generating text\u001b[0m\n",
      "\u001b[32m[2025-01-02 19:33:54]\u001b[0m \u001b[34m\u001b[1mDEBUG | Response: [ToolCallResponse(name='start_music', args='{}', call_id='zPp9yI4M8R56HKq5AM219qLm')]\u001b[0m\n",
      "\u001b[32m[2025-01-02 19:33:54]\u001b[0m \u001b[1mINFO | Running tool: start_music\u001b[0m\n",
      "\u001b[32m[2025-01-02 19:33:54]\u001b[0m \u001b[1mINFO | Tool: start_music successfully ran.\u001b[0m\n",
      "\u001b[32m[2025-01-02 19:33:54]\u001b[0m \u001b[34m\u001b[1mDEBUG | Prompt: [ToolUsePrompt(output='Starting music! Genre: classical, BPM: 120, Volume: 0.9716325564401043', error=None, call_id='zPp9yI4M8R56HKq5AM219qLm', args='{}', name='start_music')]\u001b[0m\n",
      "\u001b[32m[2025-01-02 19:33:54]\u001b[0m \u001b[1mINFO | root: Generating text\u001b[0m\n",
      "\u001b[32m[2025-01-02 19:33:55]\u001b[0m \u001b[34m\u001b[1mDEBUG | Response: [ToolCallResponse(name='change_music', args='{\"genre\": \"jazz\", \"bpm\": 80}', call_id='ZY7vExhJIPevy8farVSmmVaG')]\u001b[0m\n",
      "\u001b[32m[2025-01-02 19:33:55]\u001b[0m \u001b[1mINFO | Running tool: change_music\u001b[0m\n",
      "\u001b[32m[2025-01-02 19:33:55]\u001b[0m \u001b[1mINFO | Tool: change_music successfully ran.\u001b[0m\n",
      "\u001b[32m[2025-01-02 19:33:55]\u001b[0m \u001b[34m\u001b[1mDEBUG | Prompt: [ToolUsePrompt(output='Changing music to jazz with BPM 80', error=None, call_id='ZY7vExhJIPevy8farVSmmVaG', args='{\"genre\": \"jazz\", \"bpm\": 80}', name='change_music')]\u001b[0m\n",
      "\u001b[32m[2025-01-02 19:33:55]\u001b[0m \u001b[1mINFO | root: Generating text\u001b[0m\n",
      "\u001b[32m[2025-01-02 19:33:57]\u001b[0m \u001b[34m\u001b[1mDEBUG | Response: [TextResponse(text=\"Okay, I've started the music and then changed it to jazz with a BPM of 80. Enjoy!\")]\u001b[0m\n"
     ]
    },
    {
     "name": "stdout",
     "output_type": "stream",
     "text": [
      "Okay, I've started the music and then changed it to jazz with a BPM of 80. Enjoy!\n"
     ]
    }
   ],
   "source": [
    "response = vertexai_agent.generate_text(prompt)\n",
    "\n",
    "print(response.contents[0].text)"
   ]
  },
  {
   "cell_type": "code",
   "execution_count": 29,
   "metadata": {},
   "outputs": [
    {
     "name": "stderr",
     "output_type": "stream",
     "text": [
      "\u001b[32m[2025-01-02 19:33:58]\u001b[0m \u001b[34m\u001b[1mDEBUG | Prompt: [TextPrompt(text='Please make a concise plan to answer the following question/requirement, considering the conversation history.\\nYou can invoke the sub-agents or tools to answer the questions/requirements shown in the capabilities section.\\nAgent has no description while the tools have a description.\\n\\nQuestion/Requirement:\\nPlay some music, well, prefer to jazz music with 80 BPM.\\n\\nCapabilities:\\n- start_music: Turn on the music. The genre, BPM, and volume are randomly selected.\\n- change_bpm: Change the BPM of the music.\\n- change_music: Change the music genre and BPM.\\n')]\u001b[0m\n",
      "\u001b[32m[2025-01-02 19:33:58]\u001b[0m \u001b[1mINFO | root: Generating text\u001b[0m\n",
      "\u001b[32m[2025-01-02 19:34:00]\u001b[0m \u001b[34m\u001b[1mDEBUG | Response: [TextResponse(text=\"Okay, here's the plan:\\n\\n1. **Initial Music Start:** Use the `start_music` tool to begin playing music. This will give us a baseline to work from.\\n2. **Change Genre and BPM:** Use the `change_music` tool to change the music to jazz and set the BPM to 80.\\n3. **Confirmation:**  Assume the music is playing as requested.\\n\\nThis plan directly addresses the user's request by first starting music and then adjusting it to the desired genre and BPM.\")]\u001b[0m\n",
      "\u001b[32m[2025-01-02 19:34:00]\u001b[0m \u001b[34m\u001b[1mDEBUG | Prompt: [TextPrompt(text='Put the plan into action.')]\u001b[0m\n",
      "\u001b[32m[2025-01-02 19:34:00]\u001b[0m \u001b[1mINFO | root: Generating text\u001b[0m\n",
      "\u001b[32m[2025-01-02 19:34:02]\u001b[0m \u001b[34m\u001b[1mDEBUG | Response: [ToolCallResponse(name='start_music', args='{}', call_id='iSjdosn0rcWspd0GNNs0lx4M')]\u001b[0m\n",
      "\u001b[32m[2025-01-02 19:34:02]\u001b[0m \u001b[1mINFO | Running tool: start_music\u001b[0m\n",
      "\u001b[32m[2025-01-02 19:34:02]\u001b[0m \u001b[1mINFO | Tool: start_music successfully ran.\u001b[0m\n",
      "\u001b[32m[2025-01-02 19:34:02]\u001b[0m \u001b[34m\u001b[1mDEBUG | Prompt: [ToolUsePrompt(output='Starting music! Genre: pop, BPM: 120, Volume: 0.4491702518960756', error=None, call_id='iSjdosn0rcWspd0GNNs0lx4M', args='{}', name='start_music')]\u001b[0m\n",
      "\u001b[32m[2025-01-02 19:34:02]\u001b[0m \u001b[1mINFO | root: Generating text\u001b[0m\n",
      "\u001b[32m[2025-01-02 19:34:03]\u001b[0m \u001b[34m\u001b[1mDEBUG | Response: [ToolCallResponse(name='change_music', args='{\"genre\": \"jazz\", \"bpm\": 80}', call_id='EZ2agxhf6gAI6x87PSAn0GQb')]\u001b[0m\n",
      "\u001b[32m[2025-01-02 19:34:03]\u001b[0m \u001b[1mINFO | Running tool: change_music\u001b[0m\n",
      "\u001b[32m[2025-01-02 19:34:03]\u001b[0m \u001b[1mINFO | Tool: change_music successfully ran.\u001b[0m\n",
      "\u001b[32m[2025-01-02 19:34:03]\u001b[0m \u001b[34m\u001b[1mDEBUG | Prompt: [ToolUsePrompt(output='Changing music to jazz with BPM 80', error=None, call_id='EZ2agxhf6gAI6x87PSAn0GQb', args='{\"genre\": \"jazz\", \"bpm\": 80}', name='change_music')]\u001b[0m\n",
      "\u001b[32m[2025-01-02 19:34:03]\u001b[0m \u001b[1mINFO | root: Generating text\u001b[0m\n",
      "\u001b[32m[2025-01-02 19:34:05]\u001b[0m \u001b[34m\u001b[1mDEBUG | Response: [TextResponse(text=\"Okay, I've started the music and then changed it to jazz with a BPM of 80. Enjoy!\")]\u001b[0m\n"
     ]
    },
    {
     "name": "stdout",
     "output_type": "stream",
     "text": [
      "Okay, I've started the music and then changed it to jazz with a BPM of 80. Enjoy!\n"
     ]
    }
   ],
   "source": [
    "response = await vertexai_agent.generate_text_async(prompt)\n",
    "\n",
    "print(response.contents[0].text)"
   ]
  },
  {
   "cell_type": "code",
   "execution_count": 31,
   "metadata": {},
   "outputs": [
    {
     "name": "stderr",
     "output_type": "stream",
     "text": [
      "\u001b[32m[2025-01-02 19:35:04]\u001b[0m \u001b[34m\u001b[1mDEBUG | Prompt: [TextPrompt(text='Please make a concise plan to answer the following question/requirement, considering the conversation history.\\nYou can invoke the sub-agents or tools to answer the questions/requirements shown in the capabilities section.\\nAgent has no description while the tools have a description.\\n\\nQuestion/Requirement:\\nPlay some music, well, prefer to jazz music with 80 BPM.\\n\\nCapabilities:\\n- start_music: Turn on the music. The genre, BPM, and volume are randomly selected.\\n- change_bpm: Change the BPM of the music.\\n- change_music: Change the music genre and BPM.\\n')]\u001b[0m\n",
      "\u001b[32m[2025-01-02 19:35:04]\u001b[0m \u001b[1mINFO | root: Generating text\u001b[0m\n",
      "\u001b[32m[2025-01-02 19:35:06]\u001b[0m \u001b[34m\u001b[1mDEBUG | Response: [TextResponse(text=\"Okay, here's the plan:\\n\\n1. **Initial Music Start:** Use the `start_music` tool to begin playing music. This will give us a baseline to work from.\\n2. **Change Genre and BPM:** Use the `change_music` tool to change the music to jazz and set the BPM to 80.\\n3. **Confirmation:**  Assume the music is playing as requested.\\n\\nThis plan directly addresses the user's request by first starting music and then adjusting it to the desired genre and BPM.\")]\u001b[0m\n",
      "\u001b[32m[2025-01-02 19:35:06]\u001b[0m \u001b[34m\u001b[1mDEBUG | Prompt: [TextPrompt(text='Put the plan into action.')]\u001b[0m\n",
      "\u001b[32m[2025-01-02 19:35:06]\u001b[0m \u001b[1mINFO | root: Generating text\u001b[0m\n"
     ]
    },
    {
     "name": "stdout",
     "output_type": "stream",
     "text": [
      "{}\n"
     ]
    },
    {
     "name": "stderr",
     "output_type": "stream",
     "text": [
      "\u001b[32m[2025-01-02 19:35:07]\u001b[0m \u001b[34m\u001b[1mDEBUG | Response: [ToolCallResponse(name='start_music', args='{}', call_id='wYlRWgtqsyQB3rNVfiEr0Zj4')]\u001b[0m\n",
      "\u001b[32m[2025-01-02 19:35:07]\u001b[0m \u001b[1mINFO | Running tool: start_music\u001b[0m\n",
      "\u001b[32m[2025-01-02 19:35:07]\u001b[0m \u001b[1mINFO | Tool: start_music successfully ran.\u001b[0m\n",
      "\u001b[32m[2025-01-02 19:35:07]\u001b[0m \u001b[34m\u001b[1mDEBUG | Prompt: [ToolUsePrompt(output='Starting music! Genre: hip-hop, BPM: 120, Volume: 0.6704972252283417', error=None, call_id='wYlRWgtqsyQB3rNVfiEr0Zj4', args='{}', name='start_music')]\u001b[0m\n",
      "\u001b[32m[2025-01-02 19:35:07]\u001b[0m \u001b[1mINFO | root: Generating text\u001b[0m\n"
     ]
    },
    {
     "name": "stdout",
     "output_type": "stream",
     "text": [
      "{\"genre\": \"jazz\", \"bpm\": 80}\n"
     ]
    },
    {
     "name": "stderr",
     "output_type": "stream",
     "text": [
      "\u001b[32m[2025-01-02 19:35:09]\u001b[0m \u001b[34m\u001b[1mDEBUG | Response: [ToolCallResponse(name='change_music', args='{\"genre\": \"jazz\", \"bpm\": 80}', call_id='glmihc4QJaDRtroUvoLR2NBF')]\u001b[0m\n",
      "\u001b[32m[2025-01-02 19:35:09]\u001b[0m \u001b[1mINFO | Running tool: change_music\u001b[0m\n",
      "\u001b[32m[2025-01-02 19:35:09]\u001b[0m \u001b[1mINFO | Tool: change_music successfully ran.\u001b[0m\n",
      "\u001b[32m[2025-01-02 19:35:09]\u001b[0m \u001b[34m\u001b[1mDEBUG | Prompt: [ToolUsePrompt(output='Changing music to jazz with BPM 80', error=None, call_id='glmihc4QJaDRtroUvoLR2NBF', args='{\"genre\": \"jazz\", \"bpm\": 80}', name='change_music')]\u001b[0m\n",
      "\u001b[32m[2025-01-02 19:35:09]\u001b[0m \u001b[1mINFO | root: Generating text\u001b[0m\n"
     ]
    },
    {
     "name": "stdout",
     "output_type": "stream",
     "text": [
      "Okay\n",
      "Okay, I've started the music and then changed it to jazz with a BPM\n",
      "Okay, I've started the music and then changed it to jazz with a BPM of 80. Enjoy!\n",
      "\n",
      "Okay, I've started the music and then changed it to jazz with a BPM of 80. Enjoy!\n",
      "\n"
     ]
    }
   ],
   "source": [
    "streamed_response = vertexai_agent.stream_text(prompt)\n",
    "\n",
    "for chunk in streamed_response:\n",
    "    for content in chunk.contents:\n",
    "        if isinstance(content, TextResponse):\n",
    "            print(content.text, flush=True)\n",
    "        elif isinstance(content, ToolCallResponse):\n",
    "            print(content.args, flush=True)"
   ]
  },
  {
   "cell_type": "code",
   "execution_count": 32,
   "metadata": {},
   "outputs": [
    {
     "name": "stderr",
     "output_type": "stream",
     "text": [
      "\u001b[32m[2025-01-02 19:35:13]\u001b[0m \u001b[34m\u001b[1mDEBUG | Prompt: [TextPrompt(text='Please make a concise plan to answer the following question/requirement, considering the conversation history.\\nYou can invoke the sub-agents or tools to answer the questions/requirements shown in the capabilities section.\\nAgent has no description while the tools have a description.\\n\\nQuestion/Requirement:\\nPlay some music, well, prefer to jazz music with 80 BPM.\\n\\nCapabilities:\\n- start_music: Turn on the music. The genre, BPM, and volume are randomly selected.\\n- change_bpm: Change the BPM of the music.\\n- change_music: Change the music genre and BPM.\\n')]\u001b[0m\n",
      "\u001b[32m[2025-01-02 19:35:13]\u001b[0m \u001b[1mINFO | root: Generating text\u001b[0m\n",
      "\u001b[32m[2025-01-02 19:35:15]\u001b[0m \u001b[34m\u001b[1mDEBUG | Response: [TextResponse(text=\"Okay, here's the plan:\\n\\n1. **Initial Music Start:** Use the `start_music` tool to begin playing music. This will give us a baseline to work from.\\n2. **Change Genre and BPM:** Use the `change_music` tool to change the music to jazz and set the BPM to 80.\\n3. **Confirmation:**  Assume the music is playing as requested.\\n\\nThis plan directly addresses the user's request by first starting music and then adjusting it to the desired genre and BPM.\")]\u001b[0m\n",
      "\u001b[32m[2025-01-02 19:35:15]\u001b[0m \u001b[34m\u001b[1mDEBUG | Prompt: [TextPrompt(text='Put the plan into action.')]\u001b[0m\n",
      "\u001b[32m[2025-01-02 19:35:15]\u001b[0m \u001b[1mINFO | root: Generating text\u001b[0m\n"
     ]
    },
    {
     "name": "stdout",
     "output_type": "stream",
     "text": [
      "{}\n"
     ]
    },
    {
     "name": "stderr",
     "output_type": "stream",
     "text": [
      "\u001b[32m[2025-01-02 19:35:17]\u001b[0m \u001b[34m\u001b[1mDEBUG | Response: [ToolCallResponse(name='start_music', args='{}', call_id='B9Mcrbpqm5bix7EUWmKwaPrc')]\u001b[0m\n",
      "\u001b[32m[2025-01-02 19:35:17]\u001b[0m \u001b[1mINFO | Running tool: start_music\u001b[0m\n",
      "\u001b[32m[2025-01-02 19:35:17]\u001b[0m \u001b[1mINFO | Tool: start_music successfully ran.\u001b[0m\n",
      "\u001b[32m[2025-01-02 19:35:17]\u001b[0m \u001b[34m\u001b[1mDEBUG | Prompt: [ToolUsePrompt(output='Starting music! Genre: hip-hop, BPM: 120, Volume: 0.6564488142194529', error=None, call_id='B9Mcrbpqm5bix7EUWmKwaPrc', args='{}', name='start_music')]\u001b[0m\n",
      "\u001b[32m[2025-01-02 19:35:17]\u001b[0m \u001b[1mINFO | root: Generating text\u001b[0m\n"
     ]
    },
    {
     "name": "stdout",
     "output_type": "stream",
     "text": [
      "{\"genre\": \"jazz\", \"bpm\": 80}\n"
     ]
    },
    {
     "name": "stderr",
     "output_type": "stream",
     "text": [
      "\u001b[32m[2025-01-02 19:35:18]\u001b[0m \u001b[34m\u001b[1mDEBUG | Response: [ToolCallResponse(name='change_music', args='{\"genre\": \"jazz\", \"bpm\": 80}', call_id='GSL4LI156jdRVYKtxfT2G4vj')]\u001b[0m\n",
      "\u001b[32m[2025-01-02 19:35:18]\u001b[0m \u001b[1mINFO | Running tool: change_music\u001b[0m\n",
      "\u001b[32m[2025-01-02 19:35:18]\u001b[0m \u001b[1mINFO | Tool: change_music successfully ran.\u001b[0m\n",
      "\u001b[32m[2025-01-02 19:35:18]\u001b[0m \u001b[34m\u001b[1mDEBUG | Prompt: [ToolUsePrompt(output='Changing music to jazz with BPM 80', error=None, call_id='GSL4LI156jdRVYKtxfT2G4vj', args='{\"genre\": \"jazz\", \"bpm\": 80}', name='change_music')]\u001b[0m\n",
      "\u001b[32m[2025-01-02 19:35:18]\u001b[0m \u001b[1mINFO | root: Generating text\u001b[0m\n"
     ]
    },
    {
     "name": "stdout",
     "output_type": "stream",
     "text": [
      "Okay\n",
      "Okay, I've started the music and then changed it to jazz with a BPM\n",
      "Okay, I've started the music and then changed it to jazz with a BPM of 80. Enjoy!\n",
      "\n",
      "Okay, I've started the music and then changed it to jazz with a BPM of 80. Enjoy!\n",
      "\n"
     ]
    }
   ],
   "source": [
    "streamed_response = vertexai_agent.stream_text_async(prompt)\n",
    "\n",
    "async for chunk in streamed_response:\n",
    "    for content in chunk.contents:\n",
    "        if isinstance(content, TextResponse):\n",
    "            print(content.text, flush=True)\n",
    "        elif isinstance(content, ToolCallResponse):\n",
    "            print(content.args, flush=True)"
   ]
  },
  {
   "cell_type": "markdown",
   "metadata": {},
   "source": [
    "### Claude on Anthropic"
   ]
  },
  {
   "cell_type": "code",
   "execution_count": 33,
   "metadata": {},
   "outputs": [
    {
     "name": "stderr",
     "output_type": "stream",
     "text": [
      "\u001b[32m[2025-01-02 19:35:22]\u001b[0m \u001b[34m\u001b[1mDEBUG | Prompt: [TextPrompt(text='Please make a concise plan to answer the following question/requirement, considering the conversation history.\\nYou can invoke the sub-agents or tools to answer the questions/requirements shown in the capabilities section.\\nAgent has no description while the tools have a description.\\n\\nQuestion/Requirement:\\nPlay some music, well, prefer to jazz music with 80 BPM.\\n\\nCapabilities:\\n- start_music: Turn on the music. The genre, BPM, and volume are randomly selected.\\n- change_bpm: Change the BPM of the music.\\n- change_music: Change the music genre and BPM.\\n')]\u001b[0m\n",
      "\u001b[32m[2025-01-02 19:35:22]\u001b[0m \u001b[1mINFO | root: Generating text\u001b[0m\n",
      "\u001b[32m[2025-01-02 19:35:25]\u001b[0m \u001b[34m\u001b[1mDEBUG | Response: [TextResponse(text=\"Here's a concise plan to fulfill the requirement:\\n\\n1. Use the change_music tool to set the genre to jazz and BPM to 80.\\n2. If change_music doesn't allow specifying both genre and BPM simultaneously:\\n   a. Use start_music to begin playing music.\\n   b. Use change_music to switch to jazz genre.\\n   c. Use change_bpm to adjust the tempo to 80 BPM.\\n3. Confirm that jazz music at 80 BPM is now playing.\\n\\nLet's start with step 1:\\n\\nchange_music: jazz, 80 BPM\")]\u001b[0m\n",
      "\u001b[32m[2025-01-02 19:35:25]\u001b[0m \u001b[34m\u001b[1mDEBUG | Prompt: [TextPrompt(text='Put the plan into action.')]\u001b[0m\n",
      "\u001b[32m[2025-01-02 19:35:25]\u001b[0m \u001b[1mINFO | root: Generating text\u001b[0m\n",
      "\u001b[32m[2025-01-02 19:35:28]\u001b[0m \u001b[34m\u001b[1mDEBUG | Response: [TextResponse(text=\"Certainly! I'll put the plan into action by using the change_music function, which allows us to set both the genre and BPM simultaneously. This will fulfill the requirement of playing jazz music at 80 BPM.\"), ToolCallResponse(name='change_music', args='{\"genre\": \"jazz\", \"bpm\": 80}', call_id='toolu_014dLsXhdYWWgvEwcoT61S65')]\u001b[0m\n",
      "\u001b[32m[2025-01-02 19:35:28]\u001b[0m \u001b[1mINFO | Running tool: change_music\u001b[0m\n",
      "\u001b[32m[2025-01-02 19:35:28]\u001b[0m \u001b[1mINFO | Tool: change_music successfully ran.\u001b[0m\n",
      "\u001b[32m[2025-01-02 19:35:28]\u001b[0m \u001b[34m\u001b[1mDEBUG | Prompt: [ToolUsePrompt(output='Changing music to jazz with BPM 80', error=None, call_id='toolu_014dLsXhdYWWgvEwcoT61S65', args='{\"genre\": \"jazz\", \"bpm\": 80}', name='change_music')]\u001b[0m\n",
      "\u001b[32m[2025-01-02 19:35:28]\u001b[0m \u001b[1mINFO | root: Generating text\u001b[0m\n",
      "\u001b[32m[2025-01-02 19:35:32]\u001b[0m \u001b[34m\u001b[1mDEBUG | Response: [TextResponse(text='Great! The music has been changed to jazz with a BPM of 80, exactly as requested. The system has confirmed that it\\'s changing the music to jazz with a BPM of 80. \\n\\nTo summarize:\\n1. Jazz music is now playing.\\n2. The tempo is set to 80 beats per minute (BPM).\\n\\nThis fulfills the requirement to \"Play some music, well, prefer to jazz music with 80 BPM.\" Is there anything else you\\'d like to adjust with the music, or do you have any other requests?')]\u001b[0m\n"
     ]
    },
    {
     "name": "stdout",
     "output_type": "stream",
     "text": [
      "Great! The music has been changed to jazz with a BPM of 80, exactly as requested. The system has confirmed that it's changing the music to jazz with a BPM of 80. \n",
      "\n",
      "To summarize:\n",
      "1. Jazz music is now playing.\n",
      "2. The tempo is set to 80 beats per minute (BPM).\n",
      "\n",
      "This fulfills the requirement to \"Play some music, well, prefer to jazz music with 80 BPM.\" Is there anything else you'd like to adjust with the music, or do you have any other requests?\n"
     ]
    }
   ],
   "source": [
    "response = claude_agent.generate_text(prompt)\n",
    "\n",
    "print(response.contents[0].text)"
   ]
  },
  {
   "cell_type": "code",
   "execution_count": 34,
   "metadata": {},
   "outputs": [
    {
     "name": "stderr",
     "output_type": "stream",
     "text": [
      "\u001b[32m[2025-01-02 19:35:33]\u001b[0m \u001b[34m\u001b[1mDEBUG | Prompt: [TextPrompt(text='Please make a concise plan to answer the following question/requirement, considering the conversation history.\\nYou can invoke the sub-agents or tools to answer the questions/requirements shown in the capabilities section.\\nAgent has no description while the tools have a description.\\n\\nQuestion/Requirement:\\nPlay some music, well, prefer to jazz music with 80 BPM.\\n\\nCapabilities:\\n- start_music: Turn on the music. The genre, BPM, and volume are randomly selected.\\n- change_bpm: Change the BPM of the music.\\n- change_music: Change the music genre and BPM.\\n')]\u001b[0m\n",
      "\u001b[32m[2025-01-02 19:35:33]\u001b[0m \u001b[1mINFO | root: Generating text\u001b[0m\n",
      "\u001b[32m[2025-01-02 19:35:36]\u001b[0m \u001b[34m\u001b[1mDEBUG | Response: [TextResponse(text=\"Here's a concise plan to fulfill the requirement:\\n\\n1. Use the change_music tool to set the genre to jazz and BPM to 80.\\n2. If change_music doesn't allow specifying both genre and BPM simultaneously:\\n   a. Use start_music to begin playing music.\\n   b. Use change_music to switch to jazz genre.\\n   c. Use change_bpm to adjust the tempo to 80 BPM.\\n3. Confirm that jazz music at 80 BPM is now playing.\\n\\nLet's start with step 1:\\n\\nchange_music: jazz, 80 BPM\")]\u001b[0m\n",
      "\u001b[32m[2025-01-02 19:35:36]\u001b[0m \u001b[34m\u001b[1mDEBUG | Prompt: [TextPrompt(text='Put the plan into action.')]\u001b[0m\n",
      "\u001b[32m[2025-01-02 19:35:36]\u001b[0m \u001b[1mINFO | root: Generating text\u001b[0m\n",
      "\u001b[32m[2025-01-02 19:35:42]\u001b[0m \u001b[34m\u001b[1mDEBUG | Response: [TextResponse(text=\"Certainly! I'll put the plan into action by using the change_music function, which allows us to set both the genre and BPM simultaneously. This will fulfill the requirement of playing jazz music at 80 BPM.\"), ToolCallResponse(name='change_music', args='{\"genre\": \"jazz\", \"bpm\": 80}', call_id='toolu_01A7aiwHkQ9Q2zLVp9er8Wjh')]\u001b[0m\n",
      "\u001b[32m[2025-01-02 19:35:42]\u001b[0m \u001b[1mINFO | Running tool: change_music\u001b[0m\n",
      "\u001b[32m[2025-01-02 19:35:42]\u001b[0m \u001b[1mINFO | Tool: change_music successfully ran.\u001b[0m\n",
      "\u001b[32m[2025-01-02 19:35:42]\u001b[0m \u001b[34m\u001b[1mDEBUG | Prompt: [ToolUsePrompt(output='Changing music to jazz with BPM 80', error=None, call_id='toolu_01A7aiwHkQ9Q2zLVp9er8Wjh', args='{\"genre\": \"jazz\", \"bpm\": 80}', name='change_music')]\u001b[0m\n",
      "\u001b[32m[2025-01-02 19:35:42]\u001b[0m \u001b[1mINFO | root: Generating text\u001b[0m\n",
      "\u001b[32m[2025-01-02 19:35:45]\u001b[0m \u001b[34m\u001b[1mDEBUG | Response: [TextResponse(text='Great! The music has been changed to jazz with a BPM of 80, exactly as requested. The system has confirmed that it\\'s changing the music to jazz with a BPM of 80. \\n\\nTo summarize:\\n1. Jazz music is now playing.\\n2. The tempo is set to 80 beats per minute (BPM).\\n\\nThis fulfills the requirement to \"Play some music, well, prefer to jazz music with 80 BPM.\" Is there anything else you\\'d like to adjust with the music, or do you have any other requests?')]\u001b[0m\n"
     ]
    },
    {
     "name": "stdout",
     "output_type": "stream",
     "text": [
      "Great! The music has been changed to jazz with a BPM of 80, exactly as requested. The system has confirmed that it's changing the music to jazz with a BPM of 80. \n",
      "\n",
      "To summarize:\n",
      "1. Jazz music is now playing.\n",
      "2. The tempo is set to 80 beats per minute (BPM).\n",
      "\n",
      "This fulfills the requirement to \"Play some music, well, prefer to jazz music with 80 BPM.\" Is there anything else you'd like to adjust with the music, or do you have any other requests?\n"
     ]
    }
   ],
   "source": [
    "response = await claude_agent.generate_text_async(prompt)\n",
    "\n",
    "print(response.contents[0].text)"
   ]
  },
  {
   "cell_type": "code",
   "execution_count": 35,
   "metadata": {},
   "outputs": [
    {
     "name": "stderr",
     "output_type": "stream",
     "text": [
      "\u001b[32m[2025-01-02 19:35:48]\u001b[0m \u001b[34m\u001b[1mDEBUG | Prompt: [TextPrompt(text='Please make a concise plan to answer the following question/requirement, considering the conversation history.\\nYou can invoke the sub-agents or tools to answer the questions/requirements shown in the capabilities section.\\nAgent has no description while the tools have a description.\\n\\nQuestion/Requirement:\\nPlay some music, well, prefer to jazz music with 80 BPM.\\n\\nCapabilities:\\n- start_music: Turn on the music. The genre, BPM, and volume are randomly selected.\\n- change_bpm: Change the BPM of the music.\\n- change_music: Change the music genre and BPM.\\n')]\u001b[0m\n",
      "\u001b[32m[2025-01-02 19:35:48]\u001b[0m \u001b[1mINFO | root: Generating text\u001b[0m\n",
      "\u001b[32m[2025-01-02 19:35:50]\u001b[0m \u001b[34m\u001b[1mDEBUG | Response: [TextResponse(text=\"Here's a concise plan to fulfill the requirement:\\n\\n1. Use the change_music tool to set the genre to jazz and BPM to 80.\\n2. If change_music is successful, we're done.\\n3. If change_music fails or is not available:\\n   a. Use start_music to turn on music.\\n   b. Use change_music to switch to jazz genre.\\n   c. Use change_bpm to adjust to 80 BPM.\\n\\nLet's start with step 1:\\n\\nchange_music: jazz, 80\")]\u001b[0m\n",
      "\u001b[32m[2025-01-02 19:35:50]\u001b[0m \u001b[34m\u001b[1mDEBUG | Prompt: [TextPrompt(text='Put the plan into action.')]\u001b[0m\n",
      "\u001b[32m[2025-01-02 19:35:50]\u001b[0m \u001b[1mINFO | root: Generating text\u001b[0m\n"
     ]
    },
    {
     "name": "stdout",
     "output_type": "stream",
     "text": [
      "Certainly! I'll\n",
      "Certainly! I'll put the plan into action by\n",
      "Certainly! I'll put the plan into action by using the change_music tool to set the genre to\n",
      "Certainly! I'll put the plan into action by using the change_music tool to set the genre to jazz and the BPM to\n",
      "Certainly! I'll put the plan into action by using the change_music tool to set the genre to jazz and the BPM to 80. Here's the function call:\n",
      "{\"genre\n",
      "{\"genre\": \"jazz\"\n",
      "{\"genre\": \"jazz\", \"bpm\":\n",
      "{\"genre\": \"jazz\", \"bpm\": 80}\n"
     ]
    },
    {
     "name": "stderr",
     "output_type": "stream",
     "text": [
      "\u001b[32m[2025-01-02 19:35:54]\u001b[0m \u001b[34m\u001b[1mDEBUG | Response: [TextResponse(text=\"Certainly! I'll put the plan into action by using the change_music tool to set the genre to jazz and the BPM to 80. Here's the function call:\"), ToolCallResponse(name='change_music', args='{\"genre\": \"jazz\", \"bpm\": 80}', call_id='toolu_012ydYqekqf5CM2mhqvdU2w6')]\u001b[0m\n",
      "\u001b[32m[2025-01-02 19:35:54]\u001b[0m \u001b[1mINFO | Running tool: change_music\u001b[0m\n",
      "\u001b[32m[2025-01-02 19:35:54]\u001b[0m \u001b[1mINFO | Tool: change_music successfully ran.\u001b[0m\n",
      "\u001b[32m[2025-01-02 19:35:54]\u001b[0m \u001b[34m\u001b[1mDEBUG | Prompt: [ToolUsePrompt(output='Changing music to jazz with BPM 80', error=None, call_id='toolu_012ydYqekqf5CM2mhqvdU2w6', args='{\"genre\": \"jazz\", \"bpm\": 80}', name='change_music')]\u001b[0m\n",
      "\u001b[32m[2025-01-02 19:35:54]\u001b[0m \u001b[1mINFO | root: Generating text\u001b[0m\n"
     ]
    },
    {
     "name": "stdout",
     "output_type": "stream",
     "text": [
      "Great! The change\n",
      "Great! The change_music function has been successfully calle\n",
      "Great! The change_music function has been successfully called, and the music has been changed to jazz\n",
      "Great! The change_music function has been successfully called, and the music has been changed to jazz with a BPM of 80, exactly\n",
      "Great! The change_music function has been successfully called, and the music has been changed to jazz with a BPM of 80, exactly as requested. This fulfills the user\n",
      "Great! The change_music function has been successfully called, and the music has been changed to jazz with a BPM of 80, exactly as requested. This fulfills the user's requirement to \"Play some music, well\n",
      "Great! The change_music function has been successfully called, and the music has been changed to jazz with a BPM of 80, exactly as requested. This fulfills the user's requirement to \"Play some music, well, prefer to jazz music with 80 B\n",
      "Great! The change_music function has been successfully called, and the music has been changed to jazz with a BPM of 80, exactly as requested. This fulfills the user's requirement to \"Play some music, well, prefer to jazz music with 80 BPM.\"\n",
      "\n",
      "To summarize:\n",
      "1. The\n",
      "Great! The change_music function has been successfully called, and the music has been changed to jazz with a BPM of 80, exactly as requested. This fulfills the user's requirement to \"Play some music, well, prefer to jazz music with 80 BPM.\"\n",
      "\n",
      "To summarize:\n",
      "1. The music genre has been set to jazz.\n",
      "2\n",
      "Great! The change_music function has been successfully called, and the music has been changed to jazz with a BPM of 80, exactly as requested. This fulfills the user's requirement to \"Play some music, well, prefer to jazz music with 80 BPM.\"\n",
      "\n",
      "To summarize:\n",
      "1. The music genre has been set to jazz.\n",
      "2. The tempo (BPM) has been set to\n",
      "Great! The change_music function has been successfully called, and the music has been changed to jazz with a BPM of 80, exactly as requested. This fulfills the user's requirement to \"Play some music, well, prefer to jazz music with 80 BPM.\"\n",
      "\n",
      "To summarize:\n",
      "1. The music genre has been set to jazz.\n",
      "2. The tempo (BPM) has been set to 80.\n",
      "\n",
      "Is there anything else you'\n",
      "Great! The change_music function has been successfully called, and the music has been changed to jazz with a BPM of 80, exactly as requested. This fulfills the user's requirement to \"Play some music, well, prefer to jazz music with 80 BPM.\"\n",
      "\n",
      "To summarize:\n",
      "1. The music genre has been set to jazz.\n",
      "2. The tempo (BPM) has been set to 80.\n",
      "\n",
      "Is there anything else you'd like to do with the music or\n",
      "Great! The change_music function has been successfully called, and the music has been changed to jazz with a BPM of 80, exactly as requested. This fulfills the user's requirement to \"Play some music, well, prefer to jazz music with 80 BPM.\"\n",
      "\n",
      "To summarize:\n",
      "1. The music genre has been set to jazz.\n",
      "2. The tempo (BPM) has been set to 80.\n",
      "\n",
      "Is there anything else you'd like to do with the music or any other requests?\n"
     ]
    },
    {
     "name": "stderr",
     "output_type": "stream",
     "text": [
      "\u001b[32m[2025-01-02 19:35:57]\u001b[0m \u001b[34m\u001b[1mDEBUG | Response: [TextResponse(text='Great! The change_music function has been successfully called, and the music has been changed to jazz with a BPM of 80, exactly as requested. This fulfills the user\\'s requirement to \"Play some music, well, prefer to jazz music with 80 BPM.\"\\n\\nTo summarize:\\n1. The music genre has been set to jazz.\\n2. The tempo (BPM) has been set to 80.\\n\\nIs there anything else you\\'d like to do with the music or any other requests?')]\u001b[0m\n"
     ]
    },
    {
     "name": "stdout",
     "output_type": "stream",
     "text": [
      "Great! The change_music function has been successfully called, and the music has been changed to jazz with a BPM of 80, exactly as requested. This fulfills the user's requirement to \"Play some music, well, prefer to jazz music with 80 BPM.\"\n",
      "\n",
      "To summarize:\n",
      "1. The music genre has been set to jazz.\n",
      "2. The tempo (BPM) has been set to 80.\n",
      "\n",
      "Is there anything else you'd like to do with the music or any other requests?\n"
     ]
    }
   ],
   "source": [
    "streamed_response = claude_agent.stream_text(prompt)\n",
    "\n",
    "for chunk in streamed_response:\n",
    "    for content in chunk.contents:\n",
    "        if isinstance(content, TextResponse):\n",
    "            print(content.text, flush=True)\n",
    "        elif isinstance(content, ToolCallResponse):\n",
    "            print(content.args, flush=True)"
   ]
  },
  {
   "cell_type": "code",
   "execution_count": 36,
   "metadata": {},
   "outputs": [
    {
     "name": "stderr",
     "output_type": "stream",
     "text": [
      "\u001b[32m[2025-01-02 19:36:00]\u001b[0m \u001b[34m\u001b[1mDEBUG | Prompt: [TextPrompt(text='Please make a concise plan to answer the following question/requirement, considering the conversation history.\\nYou can invoke the sub-agents or tools to answer the questions/requirements shown in the capabilities section.\\nAgent has no description while the tools have a description.\\n\\nQuestion/Requirement:\\nPlay some music, well, prefer to jazz music with 80 BPM.\\n\\nCapabilities:\\n- start_music: Turn on the music. The genre, BPM, and volume are randomly selected.\\n- change_bpm: Change the BPM of the music.\\n- change_music: Change the music genre and BPM.\\n')]\u001b[0m\n",
      "\u001b[32m[2025-01-02 19:36:00]\u001b[0m \u001b[1mINFO | root: Generating text\u001b[0m\n",
      "\u001b[32m[2025-01-02 19:36:03]\u001b[0m \u001b[34m\u001b[1mDEBUG | Response: [TextResponse(text=\"Here's a concise plan to fulfill the requirement:\\n\\n1. Use the change_music tool to set the genre to jazz and BPM to 80.\\n2. If change_music is successful, we're done.\\n3. If change_music fails or is not available:\\n   a. Use start_music to turn on music.\\n   b. Use change_music to switch to jazz genre.\\n   c. Use change_bpm to adjust to 80 BPM.\\n\\nLet's start with step 1:\\n\\nchange_music: jazz, 80\")]\u001b[0m\n",
      "\u001b[32m[2025-01-02 19:36:03]\u001b[0m \u001b[34m\u001b[1mDEBUG | Prompt: [TextPrompt(text='Put the plan into action.')]\u001b[0m\n",
      "\u001b[32m[2025-01-02 19:36:03]\u001b[0m \u001b[1mINFO | root: Generating text\u001b[0m\n"
     ]
    },
    {
     "name": "stdout",
     "output_type": "stream",
     "text": [
      "Certainly! I'll\n",
      "Certainly! I'll put the plan into action by using the change\n",
      "Certainly! I'll put the plan into action by using the change_music tool to set the genre to\n",
      "Certainly! I'll put the plan into action by using the change_music tool to set the genre to jazz and the BPM to\n",
      "Certainly! I'll put the plan into action by using the change_music tool to set the genre to jazz and the BPM to 80. Here's the function call:\n",
      "{\"genre\"\n",
      "{\"genre\": \"jazz\n",
      "{\"genre\": \"jazz\"\n",
      "{\"genre\": \"jazz\", \"bpm\"\n",
      "{\"genre\": \"jazz\", \"bpm\": 80}\n"
     ]
    },
    {
     "name": "stderr",
     "output_type": "stream",
     "text": [
      "\u001b[32m[2025-01-02 19:36:07]\u001b[0m \u001b[34m\u001b[1mDEBUG | Response: [TextResponse(text=\"Certainly! I'll put the plan into action by using the change_music tool to set the genre to jazz and the BPM to 80. Here's the function call:\"), ToolCallResponse(name='change_music', args='{\"genre\": \"jazz\", \"bpm\": 80}', call_id='toolu_018WGPMh1XdZ7rV41onSV2gQ')]\u001b[0m\n",
      "\u001b[32m[2025-01-02 19:36:07]\u001b[0m \u001b[1mINFO | Running tool: change_music\u001b[0m\n",
      "\u001b[32m[2025-01-02 19:36:07]\u001b[0m \u001b[1mINFO | Tool: change_music successfully ran.\u001b[0m\n",
      "\u001b[32m[2025-01-02 19:36:07]\u001b[0m \u001b[34m\u001b[1mDEBUG | Prompt: [ToolUsePrompt(output='Changing music to jazz with BPM 80', error=None, call_id='toolu_018WGPMh1XdZ7rV41onSV2gQ', args='{\"genre\": \"jazz\", \"bpm\": 80}', name='change_music')]\u001b[0m\n",
      "\u001b[32m[2025-01-02 19:36:07]\u001b[0m \u001b[1mINFO | root: Generating text\u001b[0m\n"
     ]
    },
    {
     "name": "stdout",
     "output_type": "stream",
     "text": [
      "Great! The change\n",
      "Great! The change_music function has been successfully called, and the music\n",
      "Great! The change_music function has been successfully called, and the music has been changed to jazz with a BPM\n",
      "Great! The change_music function has been successfully called, and the music has been changed to jazz with a BPM of 80, exactly as requested.\n",
      "Great! The change_music function has been successfully called, and the music has been changed to jazz with a BPM of 80, exactly as requested. This fulfills the user's requirement to\n",
      "Great! The change_music function has been successfully called, and the music has been changed to jazz with a BPM of 80, exactly as requested. This fulfills the user's requirement to \"Play some music, well\n",
      "Great! The change_music function has been successfully called, and the music has been changed to jazz with a BPM of 80, exactly as requested. This fulfills the user's requirement to \"Play some music, well, prefer to jazz music with 80 B\n",
      "Great! The change_music function has been successfully called, and the music has been changed to jazz with a BPM of 80, exactly as requested. This fulfills the user's requirement to \"Play some music, well, prefer to jazz music with 80 BPM.\"\n",
      "\n",
      "To summarize what\n",
      "Great! The change_music function has been successfully called, and the music has been changed to jazz with a BPM of 80, exactly as requested. This fulfills the user's requirement to \"Play some music, well, prefer to jazz music with 80 BPM.\"\n",
      "\n",
      "To summarize what has been done:\n",
      "1. We used the change\n",
      "Great! The change_music function has been successfully called, and the music has been changed to jazz with a BPM of 80, exactly as requested. This fulfills the user's requirement to \"Play some music, well, prefer to jazz music with 80 BPM.\"\n",
      "\n",
      "To summarize what has been done:\n",
      "1. We used the change_music tool to set the genre to jazz an\n",
      "Great! The change_music function has been successfully called, and the music has been changed to jazz with a BPM of 80, exactly as requested. This fulfills the user's requirement to \"Play some music, well, prefer to jazz music with 80 BPM.\"\n",
      "\n",
      "To summarize what has been done:\n",
      "1. We used the change_music tool to set the genre to jazz and the BPM to 80.\n",
      "2\n",
      "Great! The change_music function has been successfully called, and the music has been changed to jazz with a BPM of 80, exactly as requested. This fulfills the user's requirement to \"Play some music, well, prefer to jazz music with 80 BPM.\"\n",
      "\n",
      "To summarize what has been done:\n",
      "1. We used the change_music tool to set the genre to jazz and the BPM to 80.\n",
      "2. The function was successful, so no\n",
      "Great! The change_music function has been successfully called, and the music has been changed to jazz with a BPM of 80, exactly as requested. This fulfills the user's requirement to \"Play some music, well, prefer to jazz music with 80 BPM.\"\n",
      "\n",
      "To summarize what has been done:\n",
      "1. We used the change_music tool to set the genre to jazz and the BPM to 80.\n",
      "2. The function was successful, so no further actions were needed.\n",
      "\n",
      "The music is\n",
      "Great! The change_music function has been successfully called, and the music has been changed to jazz with a BPM of 80, exactly as requested. This fulfills the user's requirement to \"Play some music, well, prefer to jazz music with 80 BPM.\"\n",
      "\n",
      "To summarize what has been done:\n",
      "1. We used the change_music tool to set the genre to jazz and the BPM to 80.\n",
      "2. The function was successful, so no further actions were needed.\n",
      "\n",
      "The music is now playing jazz at 80 B\n",
      "Great! The change_music function has been successfully called, and the music has been changed to jazz with a BPM of 80, exactly as requested. This fulfills the user's requirement to \"Play some music, well, prefer to jazz music with 80 BPM.\"\n",
      "\n",
      "To summarize what has been done:\n",
      "1. We used the change_music tool to set the genre to jazz and the BPM to 80.\n",
      "2. The function was successful, so no further actions were needed.\n",
      "\n",
      "The music is now playing jazz at 80 BPM, which should create a nice\n",
      "Great! The change_music function has been successfully called, and the music has been changed to jazz with a BPM of 80, exactly as requested. This fulfills the user's requirement to \"Play some music, well, prefer to jazz music with 80 BPM.\"\n",
      "\n",
      "To summarize what has been done:\n",
      "1. We used the change_music tool to set the genre to jazz and the BPM to 80.\n",
      "2. The function was successful, so no further actions were needed.\n",
      "\n",
      "The music is now playing jazz at 80 BPM, which should create a nice, relaxed atmosphere. Is there anything else you\n",
      "Great! The change_music function has been successfully called, and the music has been changed to jazz with a BPM of 80, exactly as requested. This fulfills the user's requirement to \"Play some music, well, prefer to jazz music with 80 BPM.\"\n",
      "\n",
      "To summarize what has been done:\n",
      "1. We used the change_music tool to set the genre to jazz and the BPM to 80.\n",
      "2. The function was successful, so no further actions were needed.\n",
      "\n",
      "The music is now playing jazz at 80 BPM, which should create a nice, relaxed atmosphere. Is there anything else you'd like to adjust with the music?\n"
     ]
    },
    {
     "name": "stderr",
     "output_type": "stream",
     "text": [
      "\u001b[32m[2025-01-02 19:36:10]\u001b[0m \u001b[34m\u001b[1mDEBUG | Response: [TextResponse(text='Great! The change_music function has been successfully called, and the music has been changed to jazz with a BPM of 80, exactly as requested. This fulfills the user\\'s requirement to \"Play some music, well, prefer to jazz music with 80 BPM.\"\\n\\nTo summarize what has been done:\\n1. We used the change_music tool to set the genre to jazz and the BPM to 80.\\n2. The function was successful, so no further actions were needed.\\n\\nThe music is now playing jazz at 80 BPM, which should create a nice, relaxed atmosphere. Is there anything else you\\'d like to adjust with the music?')]\u001b[0m\n"
     ]
    },
    {
     "name": "stdout",
     "output_type": "stream",
     "text": [
      "Great! The change_music function has been successfully called, and the music has been changed to jazz with a BPM of 80, exactly as requested. This fulfills the user's requirement to \"Play some music, well, prefer to jazz music with 80 BPM.\"\n",
      "\n",
      "To summarize what has been done:\n",
      "1. We used the change_music tool to set the genre to jazz and the BPM to 80.\n",
      "2. The function was successful, so no further actions were needed.\n",
      "\n",
      "The music is now playing jazz at 80 BPM, which should create a nice, relaxed atmosphere. Is there anything else you'd like to adjust with the music?\n"
     ]
    }
   ],
   "source": [
    "streamed_response = claude_agent.stream_text_async(prompt)\n",
    "\n",
    "async for chunk in streamed_response:\n",
    "    for content in chunk.contents:\n",
    "        if isinstance(content, TextResponse):\n",
    "            print(content.text, flush=True)\n",
    "        elif isinstance(content, ToolCallResponse):\n",
    "            print(content.args, flush=True)"
   ]
  },
  {
   "cell_type": "markdown",
   "metadata": {},
   "source": [
    "# Structured output using tool calling"
   ]
  },
  {
   "cell_type": "markdown",
   "metadata": {},
   "source": [
    "## Response schema as a tool"
   ]
  },
  {
   "cell_type": "markdown",
   "metadata": {},
   "source": [
    "Structured output in langrila is just tool calling (please refer to [01.introduction.ipynb](./01.introduction.ipynb)), so you can get structured response even if you are using tool calling."
   ]
  },
  {
   "cell_type": "code",
   "execution_count": 37,
   "metadata": {},
   "outputs": [],
   "source": [
    "from enum import Enum\n",
    "\n",
    "from pydantic import BaseModel, Field\n",
    "\n",
    "\n",
    "class DiscoBallSchema(BaseModel):\n",
    "    power: bool = Field(..., description=\"Whether to power the disco ball.\")\n",
    "    spinning: bool = Field(..., description=\"Whether the disco ball is spinning.\")\n",
    "\n",
    "\n",
    "class MusicGenre(str, Enum):\n",
    "    rock = \"rock\"\n",
    "    pop = \"pop\"\n",
    "    jazz = \"jazz\"\n",
    "    classical = \"classical\"\n",
    "    hip_hop = \"hip-hop\"\n",
    "\n",
    "\n",
    "class MusicSchema(BaseModel):\n",
    "    genre: MusicGenre = Field(\n",
    "        ...,\n",
    "        description=\"The genre of music to play.\",\n",
    "    )\n",
    "    bpm: int = Field(\n",
    "        ...,\n",
    "        description=\"The BPM of the music.\",\n",
    "        ge=60,\n",
    "        le=180,\n",
    "    )\n",
    "    volume: float = Field(\n",
    "        ...,\n",
    "        description=\"The volume level to set the music to.\",\n",
    "        ge=0,\n",
    "        le=1,\n",
    "    )"
   ]
  },
  {
   "cell_type": "code",
   "execution_count": 38,
   "metadata": {},
   "outputs": [],
   "source": [
    "openai_agent = Agent(\n",
    "    client=openai_client,\n",
    "    model=\"gpt-4o-mini-2024-07-18\",\n",
    "    temperature=0.0,\n",
    "    tools=tools,\n",
    "    planning=True,\n",
    "    response_schema_as_tool=MusicSchema,\n",
    ")"
   ]
  },
  {
   "cell_type": "code",
   "execution_count": 39,
   "metadata": {},
   "outputs": [
    {
     "name": "stderr",
     "output_type": "stream",
     "text": [
      "\u001b[32m[2025-01-02 19:36:29]\u001b[0m \u001b[34m\u001b[1mDEBUG | Prompt: [TextPrompt(text='Please make a concise plan to answer the following question/requirement, considering the conversation history.\\nYou can invoke the sub-agents or tools to answer the questions/requirements shown in the capabilities section.\\nAgent has no description while the tools have a description.\\n\\nQuestion/Requirement:\\nPlay some music, well, prefer to jazz music with 80 BPM.\\n\\nCapabilities:\\n- start_music: Turn on the music. The genre, BPM, and volume are randomly selected.\\n- change_bpm: Change the BPM of the music.\\n- change_music: Change the music genre and BPM.\\n')]\u001b[0m\n",
      "\u001b[32m[2025-01-02 19:36:29]\u001b[0m \u001b[1mINFO | root: Generating text\u001b[0m\n",
      "\u001b[32m[2025-01-02 19:36:32]\u001b[0m \u001b[34m\u001b[1mDEBUG | Response: [TextResponse(text='### Plan to Address the Requirement\\n\\n1. **Start Music**: Invoke the `start_music` tool to begin playing music. This will randomly select a genre and BPM.\\n2. **Check BPM**: If the BPM is not 80, use the `change_bpm` tool to adjust the BPM to 80.\\n3. **Check Genre**: If the genre is not jazz, use the `change_music` tool to change the genre to jazz and set the BPM to 80.\\n\\n### Execution Steps\\n- Start with `start_music`.\\n- If the BPM is not 80, invoke `change_bpm` to set it to 80.\\n- If the genre is not jazz, invoke `change_music` to set the genre to jazz and BPM to 80.')]\u001b[0m\n",
      "\u001b[32m[2025-01-02 19:36:32]\u001b[0m \u001b[34m\u001b[1mDEBUG | Prompt: [TextPrompt(text='Put the plan into action.')]\u001b[0m\n",
      "\u001b[32m[2025-01-02 19:36:32]\u001b[0m \u001b[1mINFO | root: Generating text\u001b[0m\n",
      "\u001b[32m[2025-01-02 19:36:33]\u001b[0m \u001b[34m\u001b[1mDEBUG | Response: [ToolCallResponse(name='start_music', args='{}', call_id='call_v0vmcrT76Y5rIGH24UCuFZoY')]\u001b[0m\n",
      "\u001b[32m[2025-01-02 19:36:33]\u001b[0m \u001b[1mINFO | Running tool: start_music\u001b[0m\n",
      "\u001b[32m[2025-01-02 19:36:33]\u001b[0m \u001b[1mINFO | Tool: start_music successfully ran.\u001b[0m\n",
      "\u001b[32m[2025-01-02 19:36:33]\u001b[0m \u001b[34m\u001b[1mDEBUG | Prompt: [ToolUsePrompt(output='Starting music! Genre: jazz, BPM: 120, Volume: 0.7410422055578767', error=None, call_id='call_v0vmcrT76Y5rIGH24UCuFZoY', args='{}', name='start_music')]\u001b[0m\n",
      "\u001b[32m[2025-01-02 19:36:33]\u001b[0m \u001b[1mINFO | root: Generating text\u001b[0m\n",
      "\u001b[32m[2025-01-02 19:36:34]\u001b[0m \u001b[34m\u001b[1mDEBUG | Response: [ToolCallResponse(name='change_bpm', args='{\"new_bpm\": 80}', call_id='call_6TISH5fBWDtkJ5mKRBPbhYdQ'), ToolCallResponse(name='change_music', args='{\"genre\": \"jazz\", \"bpm\": 80}', call_id='call_ArQ3xpRYeK7cjssZTguEgbCH')]\u001b[0m\n",
      "\u001b[32m[2025-01-02 19:36:34]\u001b[0m \u001b[1mINFO | Running tool: change_bpm\u001b[0m\n",
      "\u001b[32m[2025-01-02 19:36:34]\u001b[0m \u001b[1mINFO | Tool: change_bpm successfully ran.\u001b[0m\n",
      "\u001b[32m[2025-01-02 19:36:34]\u001b[0m \u001b[1mINFO | Running tool: change_music\u001b[0m\n",
      "\u001b[32m[2025-01-02 19:36:34]\u001b[0m \u001b[1mINFO | Tool: change_music successfully ran.\u001b[0m\n",
      "\u001b[32m[2025-01-02 19:36:34]\u001b[0m \u001b[34m\u001b[1mDEBUG | Prompt: [ToolUsePrompt(output='Changing BPM to 80', error=None, call_id='call_6TISH5fBWDtkJ5mKRBPbhYdQ', args='{\"new_bpm\": 80}', name='change_bpm'), ToolUsePrompt(output='Changing music to jazz with BPM 80', error=None, call_id='call_ArQ3xpRYeK7cjssZTguEgbCH', args='{\"genre\": \"jazz\", \"bpm\": 80}', name='change_music')]\u001b[0m\n",
      "\u001b[32m[2025-01-02 19:36:34]\u001b[0m \u001b[1mINFO | root: Generating text\u001b[0m\n",
      "\u001b[32m[2025-01-02 19:36:35]\u001b[0m \u001b[34m\u001b[1mDEBUG | Response: [TextResponse(text='The music has been started with the genre jazz and an initial BPM of 120. I have successfully changed the BPM to 80 while keeping the genre as jazz. Enjoy the music!')]\u001b[0m\n",
      "\u001b[32m[2025-01-02 19:36:35]\u001b[0m \u001b[34m\u001b[1mDEBUG | Prompt: [TextPrompt(text=\"Decide the next action based on the conversation. If you have all information for answering the user, run 'final_result' tool. If you need more information, invoke other tool to get necessary information. \")]\u001b[0m\n",
      "\u001b[32m[2025-01-02 19:36:35]\u001b[0m \u001b[1mINFO | root: Generating text\u001b[0m\n",
      "\u001b[32m[2025-01-02 19:36:36]\u001b[0m \u001b[34m\u001b[1mDEBUG | Response: [ToolCallResponse(name='final_answer', args='{\"genre\":\"jazz\",\"bpm\":80,\"volume\":0.7410422055578767}', call_id='call_gQXERPEDfd5YfmArf8bhg4Pz')]\u001b[0m\n",
      "\u001b[32m[2025-01-02 19:36:36]\u001b[0m \u001b[1mINFO | Running tool: final_answer\u001b[0m\n",
      "\u001b[32m[2025-01-02 19:36:36]\u001b[0m \u001b[1mINFO | Tool: final_answer successfully ran.\u001b[0m\n",
      "\u001b[32m[2025-01-02 19:36:36]\u001b[0m \u001b[34m\u001b[1mDEBUG | Final result: [TextResponse(text='{\"genre\": \"jazz\", \"bpm\": 80, \"volume\": 0.7410422055578767}')]\u001b[0m\n"
     ]
    },
    {
     "data": {
      "text/plain": [
       "MusicSchema(genre=<MusicGenre.jazz: 'jazz'>, bpm=80, volume=0.7410422055578767)"
      ]
     },
     "execution_count": 39,
     "metadata": {},
     "output_type": "execute_result"
    }
   ],
   "source": [
    "prompt = \"Play some music, well, prefer to jazz music with 80 BPM.\"\n",
    "\n",
    "response = openai_agent.generate_text(prompt)\n",
    "\n",
    "MusicSchema.model_validate_json(response.contents[0].text)"
   ]
  },
  {
   "cell_type": "markdown",
   "metadata": {},
   "source": [
    "Same for other clients, so examples will be omitted."
   ]
  },
  {
   "cell_type": "markdown",
   "metadata": {},
   "source": [
    "## Native response schema"
   ]
  },
  {
   "cell_type": "markdown",
   "metadata": {},
   "source": [
    "If you want to use native structured output, you can specify the original parameters of LLM provider API. For example, for OpenAI API, you can use `response_format` parameter supported by OpenAI API natively."
   ]
  },
  {
   "cell_type": "code",
   "execution_count": 40,
   "metadata": {},
   "outputs": [],
   "source": [
    "from enum import Enum\n",
    "\n",
    "from pydantic import BaseModel, Field\n",
    "\n",
    "\n",
    "class NativeMusicGenre(str, Enum):\n",
    "    rock = \"rock\"\n",
    "    pop = \"pop\"\n",
    "    jazz = \"jazz\"\n",
    "    classical = \"classical\"\n",
    "    hip_hop = \"hip-hop\"\n",
    "\n",
    "\n",
    "class NativeMusicSchema(BaseModel):\n",
    "    genre: NativeMusicGenre = Field(\n",
    "        ...,\n",
    "        description=\"The genre of music to play.\",\n",
    "    )\n",
    "    bpm: int = Field(\n",
    "        ...,\n",
    "        description=\"The BPM of the music.\",\n",
    "        # Not supported below\n",
    "        # ge=60,\n",
    "        # le=180,\n",
    "    )\n",
    "    volume: float = Field(\n",
    "        ...,\n",
    "        description=\"The volume level to set the music to.\",\n",
    "        # Not supported below\n",
    "        # ge=0,\n",
    "        # le=1,\n",
    "    )"
   ]
  },
  {
   "cell_type": "code",
   "execution_count": 41,
   "metadata": {},
   "outputs": [],
   "source": [
    "openai_agent = Agent(\n",
    "    client=openai_client,\n",
    "    model=\"gpt-4o-mini-2024-07-18\",\n",
    "    tools=tools,\n",
    "    planning=True,\n",
    "    response_format=NativeMusicSchema,\n",
    ")"
   ]
  },
  {
   "cell_type": "code",
   "execution_count": 42,
   "metadata": {},
   "outputs": [
    {
     "name": "stderr",
     "output_type": "stream",
     "text": [
      "\u001b[32m[2025-01-02 19:37:04]\u001b[0m \u001b[34m\u001b[1mDEBUG | Prompt: [TextPrompt(text='Please make a concise plan to answer the following question/requirement, considering the conversation history.\\nYou can invoke the sub-agents or tools to answer the questions/requirements shown in the capabilities section.\\nAgent has no description while the tools have a description.\\n\\nQuestion/Requirement:\\nPlay some music, well, prefer to jazz music with 80 BPM.\\n\\nCapabilities:\\n- start_music: Turn on the music. The genre, BPM, and volume are randomly selected.\\n- change_bpm: Change the BPM of the music.\\n- change_music: Change the music genre and BPM.\\n')]\u001b[0m\n",
      "\u001b[32m[2025-01-02 19:37:04]\u001b[0m \u001b[1mINFO | root: Generating text\u001b[0m\n",
      "\u001b[32m[2025-01-02 19:37:06]\u001b[0m \u001b[34m\u001b[1mDEBUG | Response: [TextResponse(text=\"### Plan to Fulfill the Requirement:\\n\\n1. **Start Music**: Invoke the `start_music` tool to initiate playing some music.\\n2. **Change Music Genre**: If the genre is not jazz, use the `change_music` tool to set the genre to jazz and BPM to 80. If the BPM is not 80, also change it to 80.\\n  \\nThis plan allows us to play jazz music at the desired BPM efficiently. Let's execute the first step.\")]\u001b[0m\n",
      "\u001b[32m[2025-01-02 19:37:06]\u001b[0m \u001b[34m\u001b[1mDEBUG | Prompt: [TextPrompt(text='Put the plan into action.')]\u001b[0m\n",
      "\u001b[32m[2025-01-02 19:37:06]\u001b[0m \u001b[1mINFO | root: Generating text\u001b[0m\n",
      "\u001b[32m[2025-01-02 19:37:07]\u001b[0m \u001b[34m\u001b[1mDEBUG | Response: [ToolCallResponse(name='start_music', args='{}', call_id='call_gYqXGckdKBFSXO4AViSjxv4p')]\u001b[0m\n",
      "\u001b[32m[2025-01-02 19:37:07]\u001b[0m \u001b[1mINFO | Running tool: start_music\u001b[0m\n",
      "\u001b[32m[2025-01-02 19:37:07]\u001b[0m \u001b[1mINFO | Tool: start_music successfully ran.\u001b[0m\n",
      "\u001b[32m[2025-01-02 19:37:07]\u001b[0m \u001b[34m\u001b[1mDEBUG | Prompt: [ToolUsePrompt(output='Starting music! Genre: jazz, BPM: 120, Volume: 0.2042542640891518', error=None, call_id='call_gYqXGckdKBFSXO4AViSjxv4p', args='{}', name='start_music')]\u001b[0m\n",
      "\u001b[32m[2025-01-02 19:37:07]\u001b[0m \u001b[1mINFO | root: Generating text\u001b[0m\n",
      "\u001b[32m[2025-01-02 19:37:08]\u001b[0m \u001b[34m\u001b[1mDEBUG | Response: [ToolCallResponse(name='change_music', args='{\"genre\":\"jazz\",\"bpm\":80}', call_id='call_jdiOtsWYN4bryEQrt6dYgHeX')]\u001b[0m\n",
      "\u001b[32m[2025-01-02 19:37:08]\u001b[0m \u001b[1mINFO | Running tool: change_music\u001b[0m\n",
      "\u001b[32m[2025-01-02 19:37:08]\u001b[0m \u001b[1mINFO | Tool: change_music successfully ran.\u001b[0m\n",
      "\u001b[32m[2025-01-02 19:37:08]\u001b[0m \u001b[34m\u001b[1mDEBUG | Prompt: [ToolUsePrompt(output='Changing music to jazz with BPM 80', error=None, call_id='call_jdiOtsWYN4bryEQrt6dYgHeX', args='{\"genre\":\"jazz\",\"bpm\":80}', name='change_music')]\u001b[0m\n",
      "\u001b[32m[2025-01-02 19:37:08]\u001b[0m \u001b[1mINFO | root: Generating text\u001b[0m\n",
      "\u001b[32m[2025-01-02 19:37:09]\u001b[0m \u001b[34m\u001b[1mDEBUG | Response: [TextResponse(text='{\"genre\":\"jazz\",\"bpm\":80,\"volume\":0.2042542640891518}')]\u001b[0m\n"
     ]
    },
    {
     "data": {
      "text/plain": [
       "NativeMusicSchema(genre=<NativeMusicGenre.jazz: 'jazz'>, bpm=80, volume=0.2042542640891518)"
      ]
     },
     "execution_count": 42,
     "metadata": {},
     "output_type": "execute_result"
    }
   ],
   "source": [
    "prompt = \"Play some music, well, prefer to jazz music with 80 BPM.\"\n",
    "\n",
    "response = openai_agent.generate_text(prompt)\n",
    "\n",
    "NativeMusicSchema.model_validate_json(response.contents[0].text)"
   ]
  },
  {
   "cell_type": "code",
   "execution_count": 43,
   "metadata": {},
   "outputs": [
    {
     "data": {
      "text/plain": [
       "Response(type='Response', role='assistant', contents=[TextResponse(text='{\"genre\":\"jazz\",\"bpm\":80,\"volume\":0.2042542640891518}')], usage=<langrila.core.usage.NamedUsage object at 0x7f766e6f9720>, raw=ParsedChatCompletion[NativeMusicSchema](id='chatcmpl-AlCrbjrMU2oPjOR3UxpAHLdwH8Xz6', choices=[ParsedChoice[NativeMusicSchema](finish_reason='stop', index=0, logprobs=None, message=ParsedChatCompletionMessage[NativeMusicSchema](content='{\"genre\":\"jazz\",\"bpm\":80,\"volume\":0.2042542640891518}', refusal=None, role='assistant', audio=None, function_call=None, tool_calls=[], parsed=NativeMusicSchema(genre=<NativeMusicGenre.jazz: 'jazz'>, bpm=80, volume=0.2042542640891518)))], created=1735814227, model='gpt-4o-mini-2024-07-18', object='chat.completion', service_tier=None, system_fingerprint='fp_0aa8d3e20b', usage=CompletionUsage(completion_tokens=29, prompt_tokens=628, total_tokens=657, completion_tokens_details=CompletionTokensDetails(accepted_prediction_tokens=0, audio_tokens=0, reasoning_tokens=0, rejected_prediction_tokens=0), prompt_tokens_details=PromptTokensDetails(audio_tokens=0, cached_tokens=0))), name=None, is_last_chunk=None, prompt=[{'role': 'user', 'content': [{'text': 'Please make a concise plan to answer the following question/requirement, considering the conversation history.\\nYou can invoke the sub-agents or tools to answer the questions/requirements shown in the capabilities section.\\nAgent has no description while the tools have a description.\\n\\nQuestion/Requirement:\\nPlay some music, well, prefer to jazz music with 80 BPM.\\n\\nCapabilities:\\n- start_music: Turn on the music. The genre, BPM, and volume are randomly selected.\\n- change_bpm: Change the BPM of the music.\\n- change_music: Change the music genre and BPM.\\n', 'type': 'text'}], 'name': None}, {'role': 'assistant', 'content': [{'text': \"### Plan to Fulfill the Requirement:\\n\\n1. **Start Music**: Invoke the `start_music` tool to initiate playing some music.\\n2. **Change Music Genre**: If the genre is not jazz, use the `change_music` tool to set the genre to jazz and BPM to 80. If the BPM is not 80, also change it to 80.\\n  \\nThis plan allows us to play jazz music at the desired BPM efficiently. Let's execute the first step.\", 'type': 'text'}], 'name': None}, {'role': 'user', 'content': [{'text': 'Put the plan into action.', 'type': 'text'}], 'name': None}, ChatCompletionMessage(content=None, refusal=None, role='assistant', audio=None, function_call=None, tool_calls=[ChatCompletionMessageToolCall(id='call_gYqXGckdKBFSXO4AViSjxv4p', function=Function(arguments='\"{}\"', name='start_music'), type='function')]), {'role': 'tool', 'content': 'Starting music! Genre: jazz, BPM: 120, Volume: 0.2042542640891518', 'tool_call_id': 'call_gYqXGckdKBFSXO4AViSjxv4p'}, ChatCompletionMessage(content=None, refusal=None, role='assistant', audio=None, function_call=None, tool_calls=[ChatCompletionMessageToolCall(id='call_jdiOtsWYN4bryEQrt6dYgHeX', function=Function(arguments='\"{\\\\\"genre\\\\\":\\\\\"jazz\\\\\",\\\\\"bpm\\\\\":80}\"', name='change_music'), type='function')]), {'role': 'tool', 'content': 'Changing music to jazz with BPM 80', 'tool_call_id': 'call_jdiOtsWYN4bryEQrt6dYgHeX'}])"
      ]
     },
     "execution_count": 43,
     "metadata": {},
     "output_type": "execute_result"
    }
   ],
   "source": [
    "response"
   ]
  },
  {
   "cell_type": "markdown",
   "metadata": {},
   "source": [
    "# Dependency injection"
   ]
  },
  {
   "cell_type": "markdown",
   "metadata": {},
   "source": [
    "While tools can be passed to an Agent directly as functions, using the Tool class allows for more flexible control. One example of this flexibility is dependency injection. \n",
    "\n",
    "Standard tool calling requires the LLM to generate all arguments specified as 'required'. For arguments not specified as 'required', either a default value or a value generated by the LLM is used.\n",
    "\n",
    "With the Tool class, you can use a 'context' argument to separate parameters into those generated by the LLM and those injected from an external source. This notebook demonstrates an example of this approach."
   ]
  },
  {
   "cell_type": "markdown",
   "metadata": {},
   "source": [
    "Here is an example of tool invokes an other agent. "
   ]
  },
  {
   "cell_type": "code",
   "execution_count": 44,
   "metadata": {},
   "outputs": [],
   "source": [
    "def run_music_agent(\n",
    "    agent: Agent,  # type: ignore\n",
    "    agent_name: str,\n",
    "    instruction: str,\n",
    ") -> str:\n",
    "    \"\"\"\n",
    "    This function is used to run the agent which has the capabilities to manage the music settings.\n",
    "    Agent can use the following tools:\n",
    "\n",
    "    Tools:\n",
    "    start_music: Turn on the music. The genre, BPM, and volume are randomly selected.\n",
    "    change_bpm: Change the BPM of the music.\n",
    "    change_music: Change the music genre and BPM.\n",
    "\n",
    "    Parameters\n",
    "    ----------\n",
    "    agent : Agent\n",
    "        The agent instance.\n",
    "    agent_name : str\n",
    "        The name of the agent.\n",
    "    instruction : str\n",
    "        The detail and specific instruction to the agent, including the plan to get answer.\n",
    "\n",
    "    Returns\n",
    "    ----------\n",
    "    str\n",
    "        The response from the agent.\n",
    "    \"\"\"\n",
    "    if not isinstance(agent, Agent):\n",
    "        raise ValueError(\n",
    "            \"Subagent must be an instance of Agent class. \"\n",
    "            \"Please provide the correct agent instance.\"\n",
    "        )\n",
    "\n",
    "    return agent.generate_text(instruction, name=agent_name).contents[0].text  # type: ignore"
   ]
  },
  {
   "cell_type": "markdown",
   "metadata": {},
   "source": [
    "To show tha example of dependency injection, two agents are defined; `music_agent` for managing music setting, and another agent calls `music_agent`."
   ]
  },
  {
   "cell_type": "code",
   "execution_count": 45,
   "metadata": {},
   "outputs": [],
   "source": [
    "# The agent for managing music settings\n",
    "music_agent = Agent(\n",
    "    client=openai_client,\n",
    "    model=\"gpt-4o-mini-2024-07-18\",\n",
    "    temperature=0.0,\n",
    "    tools=[start_music, change_bpm, change_music],\n",
    ")\n",
    "\n",
    "# The main agent to call the music agent\n",
    "agent = Agent(\n",
    "    client=openai_client,\n",
    "    model=\"gpt-4o-mini-2024-07-18\",\n",
    "    tools=[\n",
    "        Tool(tool=run_music_agent, context={\"agent\": music_agent, \"agent_name\": \"music_agent\"}),\n",
    "    ],\n",
    ")"
   ]
  },
  {
   "cell_type": "markdown",
   "metadata": {},
   "source": [
    "The tool's parameters specified in the context arguments of Tool instance are injected externally. In this case, `agent` argument and `agent_name` argument of the run_music_agent tool are injected."
   ]
  },
  {
   "cell_type": "code",
   "execution_count": 46,
   "metadata": {},
   "outputs": [
    {
     "name": "stderr",
     "output_type": "stream",
     "text": [
      "\u001b[32m[2025-01-02 19:45:41]\u001b[0m \u001b[34m\u001b[1mDEBUG | Prompt: [TextPrompt(text='Play some music, well, prefer to jazz music with 120 BPM.')]\u001b[0m\n",
      "\u001b[32m[2025-01-02 19:45:41]\u001b[0m \u001b[1mINFO | root: Generating text\u001b[0m\n",
      "\u001b[32m[2025-01-02 19:45:42]\u001b[0m \u001b[34m\u001b[1mDEBUG | Response: [ToolCallResponse(name='run_music_agent', args='{\"instruction\":\"Start playing jazz music with a BPM of 120.\"}', call_id='call_lU0SSUm8nGfeOcwHbUTxuGXP')]\u001b[0m\n",
      "\u001b[32m[2025-01-02 19:45:42]\u001b[0m \u001b[1mINFO | Running tool: run_music_agent\u001b[0m\n",
      "\u001b[32m[2025-01-02 19:45:42]\u001b[0m \u001b[34m\u001b[1mDEBUG | Prompt: [TextPrompt(text='Start playing jazz music with a BPM of 120.')]\u001b[0m\n",
      "\u001b[32m[2025-01-02 19:45:42]\u001b[0m \u001b[1mINFO | music_agent: Generating text\u001b[0m\n",
      "\u001b[32m[2025-01-02 19:45:43]\u001b[0m \u001b[34m\u001b[1mDEBUG | Response: [ToolCallResponse(name='change_music', args='{\"genre\":\"jazz\",\"bpm\":120}', call_id='call_irwPJIZM6sLAMnfILpQ8dCzz')]\u001b[0m\n",
      "\u001b[32m[2025-01-02 19:45:43]\u001b[0m \u001b[1mINFO | Running tool: change_music\u001b[0m\n",
      "\u001b[32m[2025-01-02 19:45:43]\u001b[0m \u001b[1mINFO | Tool: change_music successfully ran.\u001b[0m\n",
      "\u001b[32m[2025-01-02 19:45:43]\u001b[0m \u001b[34m\u001b[1mDEBUG | Prompt: [ToolUsePrompt(output='Changing music to jazz with BPM 120', error=None, call_id='call_irwPJIZM6sLAMnfILpQ8dCzz', args='{\"genre\":\"jazz\",\"bpm\":120}', name='change_music')]\u001b[0m\n",
      "\u001b[32m[2025-01-02 19:45:43]\u001b[0m \u001b[1mINFO | music_agent: Generating text\u001b[0m\n",
      "\u001b[32m[2025-01-02 19:45:44]\u001b[0m \u001b[34m\u001b[1mDEBUG | Response: [TextResponse(text='Jazz music is now playing with a BPM of 120. Enjoy!')]\u001b[0m\n",
      "\u001b[32m[2025-01-02 19:45:44]\u001b[0m \u001b[1mINFO | Tool: run_music_agent successfully ran.\u001b[0m\n",
      "\u001b[32m[2025-01-02 19:45:44]\u001b[0m \u001b[34m\u001b[1mDEBUG | Prompt: [ToolUsePrompt(output='Jazz music is now playing with a BPM of 120. Enjoy!', error=None, call_id='call_lU0SSUm8nGfeOcwHbUTxuGXP', args='{\"instruction\":\"Start playing jazz music with a BPM of 120.\"}', name='run_music_agent')]\u001b[0m\n",
      "\u001b[32m[2025-01-02 19:45:44]\u001b[0m \u001b[1mINFO | root: Generating text\u001b[0m\n",
      "\u001b[32m[2025-01-02 19:45:45]\u001b[0m \u001b[34m\u001b[1mDEBUG | Response: [TextResponse(text='Jazz music is now playing at a BPM of 120. Enjoy the tunes!')]\u001b[0m\n"
     ]
    }
   ],
   "source": [
    "prompt = \"Play some music, well, prefer to jazz music with 120 BPM.\"\n",
    "\n",
    "response = agent.generate_text(prompt)"
   ]
  },
  {
   "cell_type": "markdown",
   "metadata": {},
   "source": [
    "As you can see in the log messages above, the agent instance invoked music_agent, but the parameters created by the agent to call `music_agent` is only `instruction` argument while `agent` argument and `agent_name` are injected. The arguments are also validated when the tool is called. If you passed wrong value for a context parameter, the error will occur when run tool."
   ]
  },
  {
   "cell_type": "code",
   "execution_count": 48,
   "metadata": {},
   "outputs": [],
   "source": [
    "from langrila import AgentConfig\n",
    "\n",
    "# Define not to retry the request even if an error occurs\n",
    "agent_config = AgentConfig(\n",
    "    max_error_retries=1,\n",
    ")\n",
    "\n",
    "# The main agent to call the music agent\n",
    "agent = Agent(\n",
    "    client=openai_client,\n",
    "    model=\"gpt-4o-mini-2024-07-18\",\n",
    "    tools=[\n",
    "        Tool(\n",
    "            tool=run_music_agent,\n",
    "            # wrong for agent argument below\n",
    "            context={\"agent\": \"wrong_value\", \"agent_name\": \"music_agent\"},\n",
    "        ),\n",
    "    ],\n",
    "    agent_config=agent_config,\n",
    ")"
   ]
  },
  {
   "cell_type": "code",
   "execution_count": 49,
   "metadata": {},
   "outputs": [
    {
     "name": "stderr",
     "output_type": "stream",
     "text": [
      "\u001b[32m[2025-01-02 19:49:12]\u001b[0m \u001b[34m\u001b[1mDEBUG | Prompt: [TextPrompt(text='Play some music, well, prefer to jazz music with 120 BPM.')]\u001b[0m\n",
      "\u001b[32m[2025-01-02 19:49:12]\u001b[0m \u001b[1mINFO | root: Generating text\u001b[0m\n",
      "\u001b[32m[2025-01-02 19:49:13]\u001b[0m \u001b[34m\u001b[1mDEBUG | Response: [ToolCallResponse(name='run_music_agent', args='{\"instruction\":\"Start playing jazz music with a tempo of 120 BPM.\"}', call_id='call_h3PtCGoDTGxau2k9yATBMiv9')]\u001b[0m\n",
      "\u001b[32m[2025-01-02 19:49:13]\u001b[0m \u001b[1mINFO | Running tool: run_music_agent\u001b[0m\n",
      "\u001b[32m[2025-01-02 19:49:13]\u001b[0m \u001b[31m\u001b[1mERROR | Validation error occurred while running tool. Retrying...\n",
      "Tool: run_music_agent\n",
      "Attribute: agent\n",
      "Input value: wrong_value\n",
      "ValidationError: Input should be a dictionary or an instance of Agent\u001b[0m\n"
     ]
    },
    {
     "ename": "RetryLimitExceededError",
     "evalue": "Retry limit exceeded. Please try again or change the request parameters.",
     "output_type": "error",
     "traceback": [
      "\u001b[0;31m---------------------------------------------------------------------------\u001b[0m",
      "\u001b[0;31mRetryLimitExceededError\u001b[0m                   Traceback (most recent call last)",
      "Cell \u001b[0;32mIn[49], line 3\u001b[0m\n\u001b[1;32m      1\u001b[0m prompt \u001b[38;5;241m=\u001b[39m \u001b[38;5;124m\"\u001b[39m\u001b[38;5;124mPlay some music, well, prefer to jazz music with 120 BPM.\u001b[39m\u001b[38;5;124m\"\u001b[39m\n\u001b[0;32m----> 3\u001b[0m response \u001b[38;5;241m=\u001b[39m \u001b[43magent\u001b[49m\u001b[38;5;241;43m.\u001b[39;49m\u001b[43mgenerate_text\u001b[49m\u001b[43m(\u001b[49m\u001b[43mprompt\u001b[49m\u001b[43m)\u001b[49m\n",
      "File \u001b[0;32m~/langrila-dev/experimentation/langrila/src/langrila/core/agent.py:492\u001b[0m, in \u001b[0;36mAgent.generate_text\u001b[0;34m(self, prompt, system_instruction, response_schema_as_tool, **kwargs)\u001b[0m\n\u001b[1;32m    487\u001b[0m                         messages\u001b[38;5;241m.\u001b[39mappend(\n\u001b[1;32m    488\u001b[0m                             Prompt(contents\u001b[38;5;241m=\u001b[39m\u001b[38;5;28mself\u001b[39m\u001b[38;5;241m.\u001b[39m__no_tool_use_retry_prompt, role\u001b[38;5;241m=\u001b[39m\u001b[38;5;124m\"\u001b[39m\u001b[38;5;124muser\u001b[39m\u001b[38;5;124m\"\u001b[39m)\n\u001b[1;32m    489\u001b[0m                         )\n\u001b[1;32m    491\u001b[0m \u001b[38;5;28;01mif\u001b[39;00m \u001b[38;5;129;01mnot\u001b[39;00m ctx:\n\u001b[0;32m--> 492\u001b[0m     \u001b[38;5;28;01mraise\u001b[39;00m RetryLimitExceededError()\n\u001b[1;32m    494\u001b[0m \u001b[38;5;28mself\u001b[39m\u001b[38;5;241m.\u001b[39mstore_history(messages)\n\u001b[1;32m    496\u001b[0m \u001b[38;5;28;01mif\u001b[39;00m final_result:\n",
      "\u001b[0;31mRetryLimitExceededError\u001b[0m: Retry limit exceeded. Please try again or change the request parameters."
     ]
    }
   ],
   "source": [
    "prompt = \"Play some music, well, prefer to jazz music with 120 BPM.\"\n",
    "\n",
    "response = agent.generate_text(prompt)"
   ]
  },
  {
   "cell_type": "markdown",
   "metadata": {},
   "source": [
    "Actually the tools calling other agent such as this are dynamically created in the Agent class if you pass the subagents parameter of the agent, but in this notebook, dared to define a tool as an example and passed it to the Agent class as a tool. For multi-agent example, Please refer to [03.multi_agent.ipynb](./03.multi_agent.ipynb)"
   ]
  },
  {
   "cell_type": "markdown",
   "metadata": {},
   "source": [
    "# Tool result serializer"
   ]
  },
  {
   "cell_type": "markdown",
   "metadata": {},
   "source": [
    "Tool class accepts `serializer` parameter that is callable object to convert any value to string. `str` is used in default, but you can also use custom serializer. This capability allows us to reuse the tools implemented in daily development by only implementing serializer. Let's change the example above using custom serializer."
   ]
  },
  {
   "cell_type": "code",
   "execution_count": 50,
   "metadata": {},
   "outputs": [],
   "source": [
    "import json\n",
    "\n",
    "from langrila import Response\n",
    "\n",
    "\n",
    "def run_music_agent(\n",
    "    agent: Agent,  # type: ignore\n",
    "    agent_name: str,\n",
    "    instruction: str,\n",
    ") -> Response:\n",
    "    \"\"\"\n",
    "    This function is used to run the agent which has the capabilities to manage the music settings.\n",
    "    Agent can use the following tools:\n",
    "\n",
    "    Tools:\n",
    "    start_music: Turn on the music. The genre, BPM, and volume are randomly selected.\n",
    "    change_bpm: Change the BPM of the music.\n",
    "    change_music: Change the music genre and BPM.\n",
    "\n",
    "    Parameters\n",
    "    ----------\n",
    "    agent : Agent\n",
    "        The agent instance.\n",
    "    agent_name : str\n",
    "        The name of the agent.\n",
    "    instruction : str\n",
    "        The detail and specific instruction to the agent, including the plan to get answer.\n",
    "\n",
    "    Returns\n",
    "    ----------\n",
    "    Response\n",
    "        The response from the agent.\n",
    "    \"\"\"\n",
    "    if not isinstance(agent, Agent):\n",
    "        raise ValueError(\n",
    "            \"Subagent must be an instance of Agent class. \"\n",
    "            \"Please provide the correct agent instance.\"\n",
    "        )\n",
    "\n",
    "    return agent.generate_text(instruction, name=agent_name)\n",
    "\n",
    "\n",
    "def response_serializer(response: Response) -> str:\n",
    "    \"\"\"\n",
    "    Serialize the response to a string.\n",
    "\n",
    "    Parameters\n",
    "    ----------\n",
    "    response : Response\n",
    "        The response from the agent.\n",
    "\n",
    "    Returns\n",
    "    ----------\n",
    "    str\n",
    "        The serialized response.\n",
    "    \"\"\"\n",
    "    return json.dumps(response.model_dump(include={\"role\", \"contents\", \"name\"}), ensure_ascii=False)"
   ]
  },
  {
   "cell_type": "code",
   "execution_count": null,
   "metadata": {},
   "outputs": [],
   "source": [
    "from langrila import AgentConfig\n",
    "\n",
    "# Define not to retry the request even if an error occurs\n",
    "agent_config = AgentConfig(\n",
    "    max_error_retries=1,\n",
    ")\n",
    "\n",
    "# The main agent to call the music agent\n",
    "agent = Agent(\n",
    "    client=openai_client,\n",
    "    model=\"gpt-4o-mini-2024-07-18\",\n",
    "    tools=[\n",
    "        Tool(\n",
    "            tool=run_music_agent,\n",
    "            context={\"agent\": music_agent, \"agent_name\": \"music_agent\"},\n",
    "            serializer=response_serializer,  # serializer\n",
    "        ),\n",
    "    ],\n",
    ")"
   ]
  },
  {
   "cell_type": "code",
   "execution_count": 52,
   "metadata": {},
   "outputs": [
    {
     "name": "stderr",
     "output_type": "stream",
     "text": [
      "\u001b[32m[2025-01-02 19:55:14]\u001b[0m \u001b[34m\u001b[1mDEBUG | Prompt: [TextPrompt(text='Play some music, well, prefer to jazz music with 120 BPM.')]\u001b[0m\n",
      "\u001b[32m[2025-01-02 19:55:14]\u001b[0m \u001b[1mINFO | root: Generating text\u001b[0m\n",
      "\u001b[32m[2025-01-02 19:55:15]\u001b[0m \u001b[34m\u001b[1mDEBUG | Response: [ToolCallResponse(name='run_music_agent', args='{\"instruction\":\"Start playing jazz music at 120 BPM.\"}', call_id='call_lp73gPDEWAJxg2614QHWXNGH')]\u001b[0m\n",
      "\u001b[32m[2025-01-02 19:55:15]\u001b[0m \u001b[1mINFO | Running tool: run_music_agent\u001b[0m\n",
      "\u001b[32m[2025-01-02 19:55:15]\u001b[0m \u001b[34m\u001b[1mDEBUG | Prompt: [TextPrompt(text='Start playing jazz music at 120 BPM.')]\u001b[0m\n",
      "\u001b[32m[2025-01-02 19:55:15]\u001b[0m \u001b[1mINFO | music_agent: Generating text\u001b[0m\n",
      "\u001b[32m[2025-01-02 19:55:16]\u001b[0m \u001b[34m\u001b[1mDEBUG | Response: [ToolCallResponse(name='change_music', args='{\"genre\":\"jazz\",\"bpm\":120}', call_id='call_ZZJw9ENglIK6w7r1uY82bIiu')]\u001b[0m\n",
      "\u001b[32m[2025-01-02 19:55:16]\u001b[0m \u001b[1mINFO | Running tool: change_music\u001b[0m\n",
      "\u001b[32m[2025-01-02 19:55:16]\u001b[0m \u001b[1mINFO | Tool: change_music successfully ran.\u001b[0m\n",
      "\u001b[32m[2025-01-02 19:55:16]\u001b[0m \u001b[34m\u001b[1mDEBUG | Prompt: [ToolUsePrompt(output='Changing music to jazz with BPM 120', error=None, call_id='call_ZZJw9ENglIK6w7r1uY82bIiu', args='{\"genre\":\"jazz\",\"bpm\":120}', name='change_music')]\u001b[0m\n",
      "\u001b[32m[2025-01-02 19:55:16]\u001b[0m \u001b[1mINFO | music_agent: Generating text\u001b[0m\n",
      "\u001b[32m[2025-01-02 19:55:17]\u001b[0m \u001b[34m\u001b[1mDEBUG | Response: [TextResponse(text='Jazz music is now playing at 120 BPM. Enjoy!')]\u001b[0m\n",
      "\u001b[32m[2025-01-02 19:55:17]\u001b[0m \u001b[1mINFO | Tool: run_music_agent successfully ran.\u001b[0m\n",
      "\u001b[32m[2025-01-02 19:55:17]\u001b[0m \u001b[34m\u001b[1mDEBUG | Prompt: [ToolUsePrompt(output='{\"role\": \"assistant\", \"contents\": [{\"text\": \"Jazz music is now playing at 120 BPM. Enjoy!\"}], \"name\": \"music_agent\"}', error=None, call_id='call_lp73gPDEWAJxg2614QHWXNGH', args='{\"instruction\":\"Start playing jazz music at 120 BPM.\"}', name='run_music_agent')]\u001b[0m\n",
      "\u001b[32m[2025-01-02 19:55:17]\u001b[0m \u001b[1mINFO | root: Generating text\u001b[0m\n",
      "\u001b[32m[2025-01-02 19:55:17]\u001b[0m \u001b[34m\u001b[1mDEBUG | Response: [TextResponse(text='Jazz music is now playing at 120 BPM. Enjoy the vibes! 🎷🎶')]\u001b[0m\n"
     ]
    }
   ],
   "source": [
    "prompt = \"Play some music, well, prefer to jazz music with 120 BPM.\"\n",
    "\n",
    "response = agent.generate_text(prompt)"
   ]
  },
  {
   "cell_type": "markdown",
   "metadata": {},
   "source": [
    "ToolUsePrompt of the `run_music_agent` in the log message is changed to json string as expected."
   ]
  },
  {
   "cell_type": "code",
   "execution_count": null,
   "metadata": {},
   "outputs": [],
   "source": []
  },
  {
   "cell_type": "code",
   "execution_count": null,
   "metadata": {},
   "outputs": [],
   "source": []
  }
 ],
 "metadata": {
  "kernelspec": {
   "display_name": ".venv",
   "language": "python",
   "name": "python3"
  },
  "language_info": {
   "codemirror_mode": {
    "name": "ipython",
    "version": 3
   },
   "file_extension": ".py",
   "mimetype": "text/x-python",
   "name": "python",
   "nbconvert_exporter": "python",
   "pygments_lexer": "ipython3",
   "version": "3.10.12"
  }
 },
 "nbformat": 4,
 "nbformat_minor": 4
}
