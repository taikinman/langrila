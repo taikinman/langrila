{
 "cells": [
  {
   "cell_type": "code",
   "execution_count": 1,
   "metadata": {},
   "outputs": [],
   "source": [
    "import os\n",
    "import warnings\n",
    "\n",
    "warnings.simplefilter(action=\"ignore\")\n",
    "os.environ[\"GRPC_VERBOSITY\"] = \"NONE\""
   ]
  },
  {
   "cell_type": "markdown",
   "metadata": {},
   "source": [
    "# Prerequisites"
   ]
  },
  {
   "cell_type": "markdown",
   "metadata": {},
   "source": [
    "Please make sure your environmental variables and dependencies are ready to use LLM services. Name of the environmental variables is arbitraray because langrila modules accepts that name as an argument."
   ]
  },
  {
   "cell_type": "code",
   "execution_count": 2,
   "metadata": {},
   "outputs": [
    {
     "data": {
      "text/plain": [
       "True"
      ]
     },
     "execution_count": 2,
     "metadata": {},
     "output_type": "execute_result"
    }
   ],
   "source": [
    "from dotenv import load_dotenv\n",
    "\n",
    "load_dotenv(\"../../.env_api\")"
   ]
  },
  {
   "cell_type": "markdown",
   "metadata": {},
   "source": [
    "# Import modules"
   ]
  },
  {
   "cell_type": "code",
   "execution_count": 3,
   "metadata": {},
   "outputs": [],
   "source": [
    "from langrila import Agent, Tool\n",
    "from langrila.anthropic import AnthropicClient\n",
    "from langrila.google import GoogleClient\n",
    "from langrila.openai import OpenAIClient"
   ]
  },
  {
   "cell_type": "markdown",
   "metadata": {},
   "source": [
    "# Define tools"
   ]
  },
  {
   "cell_type": "markdown",
   "metadata": {},
   "source": [
    "In this example, we use dummy tools as shown below. In langrila, tool's schema is generated from the tool's type hint and docstring in default, so it's important to write in details. Here is an example using dummy tools."
   ]
  },
  {
   "cell_type": "markdown",
   "metadata": {},
   "source": [
    "Tool can have a pydantic model in its arguments. Nested pydantic model is also acceptable."
   ]
  },
  {
   "cell_type": "code",
   "execution_count": 4,
   "metadata": {},
   "outputs": [],
   "source": [
    "import random\n",
    "from enum import Enum\n",
    "\n",
    "from pydantic import BaseModel, Field\n",
    "\n",
    "\n",
    "class MusicGenre(str, Enum):\n",
    "    rock = \"rock\"\n",
    "    pop = \"pop\"\n",
    "    jazz = \"jazz\"\n",
    "    classical = \"classical\"\n",
    "    hip_hop = \"hip-hop\"\n",
    "\n",
    "\n",
    "class EqualizerSettings(BaseModel):\n",
    "    hz_100: int = Field(0, ge=-12, le=12, description=\"The 100 Hz band in dB.\")\n",
    "    hz_200: int = Field(0, ge=-12, le=12, description=\"The 200 Hz band in dB.\")\n",
    "    hz_400: int = Field(0, ge=-12, le=12, description=\"The 400 Hz band in dB.\")\n",
    "    hz_800: int = Field(0, ge=-12, le=12, description=\"The 800 Hz band in dB.\")\n",
    "    hz_1600: int = Field(0, ge=-12, le=12, description=\"The 1600 Hz band in dB.\")\n",
    "    hz_3200: int = Field(0, ge=-12, le=12, description=\"The 3200 Hz band in dB.\")\n",
    "    hz_6400: int = Field(0, ge=-12, le=12, description=\"The 4000 Hz band in dB.\")\n",
    "\n",
    "\n",
    "def start_music(genre: MusicGenre) -> str:\n",
    "    \"\"\"\n",
    "    Start playing a random music with the given the genre.\n",
    "\n",
    "    Parameters\n",
    "    ----------\n",
    "    genre : MusicGenre\n",
    "        The genre of the music to play.\n",
    "\n",
    "    Returns\n",
    "    ----------\n",
    "    str\n",
    "        A message indicating that the music has started.\n",
    "    \"\"\"\n",
    "\n",
    "    bpms = {\n",
    "        MusicGenre.rock: 150,\n",
    "        MusicGenre.pop: 110,\n",
    "        MusicGenre.jazz: 120,\n",
    "        MusicGenre.classical: 76,\n",
    "        MusicGenre.hip_hop: 100,\n",
    "    }\n",
    "\n",
    "    return (\n",
    "        f\"Starting music! Genre: {genre}, \"\n",
    "        f\"Volume: {random.uniform(0.0, 1.0)}, \"\n",
    "        f\"BPM: {bpms[genre]}\"\n",
    "    )\n",
    "\n",
    "\n",
    "def change_music_volume(volume: float) -> str:\n",
    "    \"\"\"\n",
    "    Change the music volume.\n",
    "\n",
    "    Parameters\n",
    "    ----------\n",
    "    volume : float\n",
    "        The new volume to set. It should be between 0.0 and 1.0.\n",
    "\n",
    "    Returns\n",
    "    ----------\n",
    "    str\n",
    "        A message indicating that the volume has been changed.\n",
    "    \"\"\"\n",
    "    return f\"Changing volume to {volume}\"\n",
    "\n",
    "\n",
    "def change_music(genre: MusicGenre) -> str:\n",
    "    \"\"\"\n",
    "    Change the music.\n",
    "\n",
    "    Parameters\n",
    "    ----------\n",
    "    genre : MusicGenre\n",
    "        The genre of the music to change to.\n",
    "\n",
    "    Returns\n",
    "    ----------\n",
    "    str\n",
    "        A message indicating that the music has been changed.\n",
    "    \"\"\"\n",
    "    bpm_ranges = {\n",
    "        MusicGenre.rock: (120, 180),\n",
    "        MusicGenre.pop: (80, 140),\n",
    "        MusicGenre.jazz: (70, 120),\n",
    "        MusicGenre.classical: (70, 100),\n",
    "        MusicGenre.hip_hop: (80, 120),\n",
    "    }\n",
    "\n",
    "    new_bpm = random.randint(bpm_ranges[genre][0], bpm_ranges[genre][1])\n",
    "\n",
    "    return f\"Turning to another music! Genre: {genre}, BPM: {new_bpm}\"\n",
    "\n",
    "\n",
    "def change_equalizer_settings(settings: EqualizerSettings) -> str:\n",
    "    \"\"\"\n",
    "    Change the equalizer settings of the music.\n",
    "\n",
    "    Parameters\n",
    "    ----------\n",
    "    settings : EqualizerSettings\n",
    "        The new equalizer settings to set.\n",
    "\n",
    "    Returns\n",
    "    ----------\n",
    "    str\n",
    "        A message indicating that the equalizer settings have been changed.\n",
    "    \"\"\"\n",
    "    return f\"Changing equalizer settings to {settings.model_dump(exclude_none=True, exclude_unset=True)}\""
   ]
  },
  {
   "cell_type": "markdown",
   "metadata": {},
   "source": [
    "# Instantiating Agent"
   ]
  },
  {
   "cell_type": "markdown",
   "metadata": {},
   "source": [
    "Client modules"
   ]
  },
  {
   "cell_type": "code",
   "execution_count": 5,
   "metadata": {},
   "outputs": [],
   "source": [
    "# For OpenAI\n",
    "openai_client = OpenAIClient(api_key_env_name=\"OPENAI_API_KEY\")\n",
    "\n",
    "# For Azure OpenAI\n",
    "azure_openai_client = OpenAIClient(\n",
    "    api_key_env_name=\"AZURE_API_KEY\",\n",
    "    api_type=\"azure\",\n",
    "    azure_api_version=\"2024-11-01-preview\",\n",
    "    azure_endpoint_env_name=\"AZURE_ENDPOINT\",\n",
    "    azure_deployment_id_env_name=\"AZURE_DEPLOYMENT_ID\",\n",
    ")\n",
    "\n",
    "# For Gemini on Google AI Studio\n",
    "google_dev_client = GoogleClient(\n",
    "    api_key_env_name=\"GEMINI_API_KEY\",\n",
    ")\n",
    "\n",
    "# For Gemini on Google Cloud VertexAI\n",
    "vertexai_client = GoogleClient(\n",
    "    api_type=\"vertexai\",\n",
    "    project_id_env_name=\"GOOGLE_CLOUD_PROJECT\",\n",
    "    location=\"us-central1\",\n",
    ")\n",
    "\n",
    "# For Claude of Anthropic\n",
    "anthropic_client = AnthropicClient(\n",
    "    api_key_env_name=\"ANTHROPIC_API_KEY\",\n",
    ")\n",
    "\n",
    "# For Claude of Amazon Bedrock\n",
    "claude_bedrock_client = AnthropicClient(\n",
    "    api_type=\"bedrock\",\n",
    "    aws_access_key_env_name=\"AWS_ACCESS_KEY\",\n",
    "    aws_secret_key_env_name=\"AWS_SECRET_KEY\",\n",
    "    aws_region_env_name=\"AWS_REGION\",\n",
    ")"
   ]
  },
  {
   "cell_type": "markdown",
   "metadata": {},
   "source": [
    "Tools must be specified when the agent is initialized."
   ]
  },
  {
   "cell_type": "code",
   "execution_count": 6,
   "metadata": {},
   "outputs": [],
   "source": [
    "tools = [start_music, change_music_volume, change_music, change_equalizer_settings]"
   ]
  },
  {
   "cell_type": "code",
   "execution_count": 7,
   "metadata": {},
   "outputs": [],
   "source": [
    "openai_agent = Agent(\n",
    "    client=openai_client,\n",
    "    model=\"gpt-4o-mini-2024-07-18\",\n",
    "    temperature=0.0,\n",
    "    tools=tools,\n",
    ")"
   ]
  },
  {
   "cell_type": "markdown",
   "metadata": {},
   "source": [
    "# Generating text with tool calling"
   ]
  },
  {
   "cell_type": "code",
   "execution_count": 8,
   "metadata": {},
   "outputs": [],
   "source": [
    "prompt = (\n",
    "    \"Play some music, well, play jazz music and prefer to low volume. Also, I want to know the BPM.\"\n",
    ")"
   ]
  },
  {
   "cell_type": "markdown",
   "metadata": {},
   "source": [
    "## Synchronous, non-streaming text generation"
   ]
  },
  {
   "cell_type": "code",
   "execution_count": 9,
   "metadata": {},
   "outputs": [
    {
     "name": "stderr",
     "output_type": "stream",
     "text": [
      "\u001b[32m[2025-01-09 23:41:15]\u001b[0m \u001b[34m\u001b[1mDEBUG | Prompt: [TextPrompt(text='Play some music, well, play jazz music and prefer to low volume. Also, I want to know the BPM.')]\u001b[0m\n",
      "\u001b[32m[2025-01-09 23:41:15]\u001b[0m \u001b[1mINFO | root: Generating text\u001b[0m\n",
      "\u001b[32m[2025-01-09 23:41:16]\u001b[0m \u001b[34m\u001b[1mDEBUG | Response: [ToolCallResponse(name='start_music', args='{\"genre\":\"jazz\"}', call_id='call_trYO0Umbb3LOJlVjrMK6K17g')]\u001b[0m\n",
      "\u001b[32m[2025-01-09 23:41:16]\u001b[0m \u001b[1mINFO | Running tool: start_music\u001b[0m\n",
      "\u001b[32m[2025-01-09 23:41:16]\u001b[0m \u001b[1mINFO | Tool: start_music successfully ran.\u001b[0m\n",
      "\u001b[32m[2025-01-09 23:41:16]\u001b[0m \u001b[34m\u001b[1mDEBUG | Prompt: [ToolUsePrompt(output='Starting music! Genre: jazz, Volume: 0.8590609162851207, BPM: 120', error=None, call_id='call_trYO0Umbb3LOJlVjrMK6K17g', args='{\"genre\":\"jazz\"}', name='start_music')]\u001b[0m\n",
      "\u001b[32m[2025-01-09 23:41:16]\u001b[0m \u001b[1mINFO | root: Generating text\u001b[0m\n",
      "\u001b[32m[2025-01-09 23:41:16]\u001b[0m \u001b[34m\u001b[1mDEBUG | Response: [ToolCallResponse(name='change_music_volume', args='{\"volume\":0.2}', call_id='call_76oEjk02khr5UIsJe7qU87hk')]\u001b[0m\n",
      "\u001b[32m[2025-01-09 23:41:16]\u001b[0m \u001b[1mINFO | Running tool: change_music_volume\u001b[0m\n",
      "\u001b[32m[2025-01-09 23:41:16]\u001b[0m \u001b[1mINFO | Tool: change_music_volume successfully ran.\u001b[0m\n",
      "\u001b[32m[2025-01-09 23:41:16]\u001b[0m \u001b[34m\u001b[1mDEBUG | Prompt: [ToolUsePrompt(output='Changing volume to 0.2', error=None, call_id='call_76oEjk02khr5UIsJe7qU87hk', args='{\"volume\":0.2}', name='change_music_volume')]\u001b[0m\n",
      "\u001b[32m[2025-01-09 23:41:16]\u001b[0m \u001b[1mINFO | root: Generating text\u001b[0m\n",
      "\u001b[32m[2025-01-09 23:41:17]\u001b[0m \u001b[34m\u001b[1mDEBUG | Response: [TextResponse(text=\"I've started playing jazz music at a low volume. The current BPM (Beats Per Minute) is 120. Enjoy the music!\")]\u001b[0m\n"
     ]
    },
    {
     "name": "stdout",
     "output_type": "stream",
     "text": [
      "I've started playing jazz music at a low volume. The current BPM (Beats Per Minute) is 120. Enjoy the music!\n"
     ]
    }
   ],
   "source": [
    "response = openai_agent.generate_text(prompt)\n",
    "\n",
    "print(response.contents[0].text)"
   ]
  },
  {
   "cell_type": "markdown",
   "metadata": {},
   "source": [
    "Agent finally generates text response. Steps the agent generates final answer is like: \n",
    "\n",
    "1. Feed user's input\n",
    "2. Call tools\n",
    "3. Validate args with the pydantic schema validator\n",
    "4. Actually run called tools\n",
    "5. Generate text response based on the tool calling results"
   ]
  },
  {
   "cell_type": "markdown",
   "metadata": {},
   "source": [
    "You can specify `planning` argument when the agent is instantiated. If `planning` is True, the agent makes a plan to answer the user's input based on the given tools, and then generates answer."
   ]
  },
  {
   "cell_type": "code",
   "execution_count": 10,
   "metadata": {},
   "outputs": [],
   "source": [
    "openai_agent = Agent(\n",
    "    client=openai_client,\n",
    "    model=\"gpt-4o-mini-2024-07-18\",\n",
    "    temperature=0.0,\n",
    "    tools=tools,\n",
    "    planning=True,  # <- Enable planning\n",
    ")"
   ]
  },
  {
   "cell_type": "code",
   "execution_count": 11,
   "metadata": {},
   "outputs": [
    {
     "name": "stderr",
     "output_type": "stream",
     "text": [
      "\u001b[32m[2025-01-09 23:41:17]\u001b[0m \u001b[34m\u001b[1mDEBUG | Prompt: [TextPrompt(text='Please make a concise plan to answer the following question/requirement, considering the conversation history.\\nYou can invoke the sub-agents or tools to answer the questions/requirements shown in the capabilities section.\\nAgent has no description while the tools have a description.\\n\\nQuestion/Requirement:\\nPlay some music, well, play jazz music and prefer to low volume. Also, I want to know the BPM.\\n\\nCapabilities:\\n- start_music: Start playing a random music with the given the genre.\\n- change_music_volume: Change the music volume.\\n- change_music: Change the music.\\n- change_equalizer_settings: Change the equalizer settings of the music.\\n')]\u001b[0m\n",
      "\u001b[32m[2025-01-09 23:41:17]\u001b[0m \u001b[1mINFO | root: Generating text\u001b[0m\n",
      "\u001b[32m[2025-01-09 23:41:22]\u001b[0m \u001b[34m\u001b[1mDEBUG | Response: [TextResponse(text='### Plan to Address the Requirement\\n\\n1. **Start Playing Jazz Music**: Use the `start_music` tool to begin playing jazz music.\\n2. **Adjust Volume**: Use the `change_music_volume` tool to set the volume to a low level.\\n3. **Determine BPM**: Since the BPM (Beats Per Minute) is not directly obtainable from the current capabilities, I will provide a general estimate for jazz music, which typically ranges from 120 to 180 BPM, depending on the style.\\n\\n### Execution Steps\\n\\n1. Invoke `start_music` with the genre set to \"jazz.\"\\n2. Invoke `change_music_volume` to set the volume to low.\\n3. Provide a general estimate of the BPM for jazz music. \\n\\n### Note\\nIf specific BPM data is required for the currently playing track, additional capabilities would be needed to retrieve that information.')]\u001b[0m\n",
      "\u001b[32m[2025-01-09 23:41:22]\u001b[0m \u001b[34m\u001b[1mDEBUG | Prompt: [TextPrompt(text='Put the plan into action.')]\u001b[0m\n",
      "\u001b[32m[2025-01-09 23:41:22]\u001b[0m \u001b[1mINFO | root: Generating text\u001b[0m\n",
      "\u001b[32m[2025-01-09 23:41:23]\u001b[0m \u001b[34m\u001b[1mDEBUG | Response: [ToolCallResponse(name='start_music', args='{\"genre\": \"jazz\"}', call_id='call_ROaC6lxJofKkuFTgx5v719KY'), ToolCallResponse(name='change_music_volume', args='{\"volume\": 0.2}', call_id='call_TIpZNtXuUO5UJjlnHEi2Phye')]\u001b[0m\n",
      "\u001b[32m[2025-01-09 23:41:23]\u001b[0m \u001b[1mINFO | Running tool: start_music\u001b[0m\n",
      "\u001b[32m[2025-01-09 23:41:23]\u001b[0m \u001b[1mINFO | Tool: start_music successfully ran.\u001b[0m\n",
      "\u001b[32m[2025-01-09 23:41:23]\u001b[0m \u001b[1mINFO | Running tool: change_music_volume\u001b[0m\n",
      "\u001b[32m[2025-01-09 23:41:23]\u001b[0m \u001b[1mINFO | Tool: change_music_volume successfully ran.\u001b[0m\n",
      "\u001b[32m[2025-01-09 23:41:23]\u001b[0m \u001b[34m\u001b[1mDEBUG | Prompt: [ToolUsePrompt(output='Starting music! Genre: jazz, Volume: 0.032681563361819044, BPM: 120', error=None, call_id='call_ROaC6lxJofKkuFTgx5v719KY', args='{\"genre\": \"jazz\"}', name='start_music'), ToolUsePrompt(output='Changing volume to 0.2', error=None, call_id='call_TIpZNtXuUO5UJjlnHEi2Phye', args='{\"volume\": 0.2}', name='change_music_volume')]\u001b[0m\n",
      "\u001b[32m[2025-01-09 23:41:23]\u001b[0m \u001b[1mINFO | root: Generating text\u001b[0m\n",
      "\u001b[32m[2025-01-09 23:41:24]\u001b[0m \u001b[34m\u001b[1mDEBUG | Response: [TextResponse(text='The jazz music has started playing at a low volume, and the estimated BPM for the track is around 120. Enjoy the music!')]\u001b[0m\n"
     ]
    },
    {
     "name": "stdout",
     "output_type": "stream",
     "text": [
      "The jazz music has started playing at a low volume, and the estimated BPM for the track is around 120. Enjoy the music!\n"
     ]
    }
   ],
   "source": [
    "response = openai_agent.generate_text(prompt)\n",
    "\n",
    "print(response.contents[0].text)"
   ]
  },
  {
   "cell_type": "markdown",
   "metadata": {},
   "source": [
    "By planning, `start_music` tool was called at the first step, then `change_bpm ` tool and `change_music` tool was."
   ]
  },
  {
   "cell_type": "markdown",
   "metadata": {},
   "source": [
    "Here is the default planning prompt."
   ]
  },
  {
   "cell_type": "code",
   "execution_count": 12,
   "metadata": {},
   "outputs": [
    {
     "name": "stdout",
     "output_type": "stream",
     "text": [
      "Please make a concise plan to answer the following question/requirement, considering the conversation history.\n",
      "You can invoke the sub-agents or tools to answer the questions/requirements shown in the capabilities section.\n",
      "Agent has no description while the tools have a description.\n",
      "\n",
      "Question/Requirement:\n",
      "{user_input}\n",
      "\n",
      "Capabilities:\n",
      "{capabilities}\n"
     ]
    }
   ],
   "source": [
    "from langrila import AgentConfig\n",
    "\n",
    "print(AgentConfig().internal_prompt.planning)"
   ]
  },
  {
   "cell_type": "markdown",
   "metadata": {},
   "source": [
    "This AgentConfig is configurable and customized config can be passes to the agent when instantiating as mentioned in [01.introduction.ipynb](./01.introduction.ipynb)."
   ]
  },
  {
   "cell_type": "markdown",
   "metadata": {},
   "source": [
    "## Asynchronous, non-streaming text generation"
   ]
  },
  {
   "cell_type": "code",
   "execution_count": 13,
   "metadata": {},
   "outputs": [
    {
     "name": "stderr",
     "output_type": "stream",
     "text": [
      "\u001b[32m[2025-01-09 23:41:24]\u001b[0m \u001b[34m\u001b[1mDEBUG | Prompt: [TextPrompt(text='Please make a concise plan to answer the following question/requirement, considering the conversation history.\\nYou can invoke the sub-agents or tools to answer the questions/requirements shown in the capabilities section.\\nAgent has no description while the tools have a description.\\n\\nQuestion/Requirement:\\nPlay some music, well, play jazz music and prefer to low volume. Also, I want to know the BPM.\\n\\nCapabilities:\\n- start_music: Start playing a random music with the given the genre.\\n- change_music_volume: Change the music volume.\\n- change_music: Change the music.\\n- change_equalizer_settings: Change the equalizer settings of the music.\\n')]\u001b[0m\n",
      "\u001b[32m[2025-01-09 23:41:24]\u001b[0m \u001b[1mINFO | root: Generating text\u001b[0m\n",
      "\u001b[32m[2025-01-09 23:41:28]\u001b[0m \u001b[34m\u001b[1mDEBUG | Response: [TextResponse(text='### Plan to Address the Requirement\\n\\n1. **Start Playing Jazz Music**: Use the `start_music` tool to begin playing jazz music.\\n2. **Set Volume to Low**: Use the `change_music_volume` tool to adjust the volume to a low level.\\n3. **Determine BPM**: Since the BPM (Beats Per Minute) is not directly obtainable from the current capabilities, I will provide a general estimate for jazz music, which typically ranges from 120 to 180 BPM, depending on the specific style.\\n\\n### Execution Steps\\n\\n1. Invoke `start_music` with the genre set to jazz.\\n2. Invoke `change_music_volume` to set the volume to low.\\n3. Provide a general estimate of the BPM for jazz music. \\n\\n### Note\\nIf specific BPM data is required for the exact track being played, additional capabilities would be needed to retrieve that information.')]\u001b[0m\n",
      "\u001b[32m[2025-01-09 23:41:28]\u001b[0m \u001b[34m\u001b[1mDEBUG | Prompt: [TextPrompt(text='Put the plan into action.')]\u001b[0m\n",
      "\u001b[32m[2025-01-09 23:41:28]\u001b[0m \u001b[1mINFO | root: Generating text\u001b[0m\n",
      "\u001b[32m[2025-01-09 23:41:29]\u001b[0m \u001b[34m\u001b[1mDEBUG | Response: [ToolCallResponse(name='start_music', args='{\"genre\": \"jazz\"}', call_id='call_d8qhJGSuXhMlgbBI233GgPpZ'), ToolCallResponse(name='change_music_volume', args='{\"volume\": 0.2}', call_id='call_S05PBlumVo2MrwuJdnmCp8f8')]\u001b[0m\n",
      "\u001b[32m[2025-01-09 23:41:29]\u001b[0m \u001b[1mINFO | Running tool: start_music\u001b[0m\n",
      "\u001b[32m[2025-01-09 23:41:29]\u001b[0m \u001b[1mINFO | Tool: start_music successfully ran.\u001b[0m\n",
      "\u001b[32m[2025-01-09 23:41:29]\u001b[0m \u001b[1mINFO | Running tool: change_music_volume\u001b[0m\n",
      "\u001b[32m[2025-01-09 23:41:29]\u001b[0m \u001b[1mINFO | Tool: change_music_volume successfully ran.\u001b[0m\n",
      "\u001b[32m[2025-01-09 23:41:29]\u001b[0m \u001b[34m\u001b[1mDEBUG | Prompt: [ToolUsePrompt(output='Starting music! Genre: jazz, Volume: 0.8688714399160113, BPM: 120', error=None, call_id='call_d8qhJGSuXhMlgbBI233GgPpZ', args='{\"genre\": \"jazz\"}', name='start_music'), ToolUsePrompt(output='Changing volume to 0.2', error=None, call_id='call_S05PBlumVo2MrwuJdnmCp8f8', args='{\"volume\": 0.2}', name='change_music_volume')]\u001b[0m\n",
      "\u001b[32m[2025-01-09 23:41:29]\u001b[0m \u001b[1mINFO | root: Generating text\u001b[0m\n",
      "\u001b[32m[2025-01-09 23:41:30]\u001b[0m \u001b[34m\u001b[1mDEBUG | Response: [TextResponse(text='The jazz music has started playing at a low volume. The estimated BPM for the jazz music is around 120. Enjoy the music!')]\u001b[0m\n"
     ]
    },
    {
     "name": "stdout",
     "output_type": "stream",
     "text": [
      "The jazz music has started playing at a low volume. The estimated BPM for the jazz music is around 120. Enjoy the music!\n"
     ]
    }
   ],
   "source": [
    "response = await openai_agent.generate_text_async(prompt)\n",
    "\n",
    "print(response.contents[0].text)"
   ]
  },
  {
   "cell_type": "markdown",
   "metadata": {},
   "source": [
    "## Synchronous, streaming text generation"
   ]
  },
  {
   "cell_type": "code",
   "execution_count": 14,
   "metadata": {},
   "outputs": [],
   "source": [
    "from langrila import TextResponse, ToolCallResponse\n",
    "# from langrila.core.logger import DEFAULT_LOGGER as default_logger"
   ]
  },
  {
   "cell_type": "code",
   "execution_count": 15,
   "metadata": {},
   "outputs": [
    {
     "name": "stderr",
     "output_type": "stream",
     "text": [
      "\u001b[32m[2025-01-09 23:41:30]\u001b[0m \u001b[34m\u001b[1mDEBUG | Prompt: [TextPrompt(text='Please make a concise plan to answer the following question/requirement, considering the conversation history.\\nYou can invoke the sub-agents or tools to answer the questions/requirements shown in the capabilities section.\\nAgent has no description while the tools have a description.\\n\\nQuestion/Requirement:\\nPlay some music, well, play jazz music and prefer to low volume. Also, I want to know the BPM.\\n\\nCapabilities:\\n- start_music: Start playing a random music with the given the genre.\\n- change_music_volume: Change the music volume.\\n- change_music: Change the music.\\n- change_equalizer_settings: Change the equalizer settings of the music.\\n')]\u001b[0m\n",
      "\u001b[32m[2025-01-09 23:41:30]\u001b[0m \u001b[1mINFO | root: Generating text\u001b[0m\n",
      "\u001b[32m[2025-01-09 23:41:34]\u001b[0m \u001b[34m\u001b[1mDEBUG | Response: [TextResponse(text='### Plan to Address the Requirement\\n\\n1. **Start Playing Jazz Music**: Use the `start_music` tool to begin playing jazz music.\\n2. **Adjust Volume**: Use the `change_music_volume` tool to set the volume to a low level.\\n3. **Determine BPM**: Since the BPM (Beats Per Minute) is not directly obtainable from the current capabilities, I will provide a general estimate for jazz music, which typically ranges from 120 to 180 BPM, depending on the style.\\n\\n### Execution Steps\\n\\n1. Invoke `start_music` with the genre set to \"jazz.\"\\n2. Invoke `change_music_volume` to set the volume to low.\\n3. Provide a general estimate of the BPM for jazz music. \\n\\n### Note\\nIf specific BPM data is required for the currently playing track, additional capabilities would be needed to retrieve that information.')]\u001b[0m\n",
      "\u001b[32m[2025-01-09 23:41:34]\u001b[0m \u001b[34m\u001b[1mDEBUG | Prompt: [TextPrompt(text='Put the plan into action.')]\u001b[0m\n",
      "\u001b[32m[2025-01-09 23:41:34]\u001b[0m \u001b[1mINFO | root: Generating text\u001b[0m\n"
     ]
    },
    {
     "name": "stdout",
     "output_type": "stream",
     "text": [
      "{\"ge\n",
      "{\"genre\":\n",
      "{\"genre\": \"jazz\n",
      "{\"genre\": \"jazz\"}\n",
      "{\"vo\n",
      "{\"volume\"\n",
      "{\"volume\": 0.2}\n"
     ]
    },
    {
     "name": "stderr",
     "output_type": "stream",
     "text": [
      "\u001b[32m[2025-01-09 23:41:35]\u001b[0m \u001b[34m\u001b[1mDEBUG | Response: [ToolCallResponse(name='start_music', args='{\"genre\": \"jazz\"}', call_id='call_LJKjbpgM80Xtnjh32cNWJoUb'), ToolCallResponse(name='change_music_volume', args='{\"volume\": 0.2}', call_id='call_Yh0n9Jjalh9XIRFqNpt4YEPh')]\u001b[0m\n",
      "\u001b[32m[2025-01-09 23:41:35]\u001b[0m \u001b[1mINFO | Running tool: start_music\u001b[0m\n",
      "\u001b[32m[2025-01-09 23:41:35]\u001b[0m \u001b[1mINFO | Tool: start_music successfully ran.\u001b[0m\n",
      "\u001b[32m[2025-01-09 23:41:35]\u001b[0m \u001b[1mINFO | Running tool: change_music_volume\u001b[0m\n",
      "\u001b[32m[2025-01-09 23:41:35]\u001b[0m \u001b[1mINFO | Tool: change_music_volume successfully ran.\u001b[0m\n",
      "\u001b[32m[2025-01-09 23:41:35]\u001b[0m \u001b[34m\u001b[1mDEBUG | Prompt: [ToolUsePrompt(output='Starting music! Genre: jazz, Volume: 0.576134095409512, BPM: 120', error=None, call_id='call_LJKjbpgM80Xtnjh32cNWJoUb', args='{\"genre\": \"jazz\"}', name='start_music'), ToolUsePrompt(output='Changing volume to 0.2', error=None, call_id='call_Yh0n9Jjalh9XIRFqNpt4YEPh', args='{\"volume\": 0.2}', name='change_music_volume')]\u001b[0m\n",
      "\u001b[32m[2025-01-09 23:41:35]\u001b[0m \u001b[1mINFO | root: Generating text\u001b[0m\n"
     ]
    },
    {
     "name": "stdout",
     "output_type": "stream",
     "text": [
      "The\n",
      "The jazz\n",
      "The jazz music\n",
      "The jazz music has\n",
      "The jazz music has started\n",
      "The jazz music has started playing\n",
      "The jazz music has started playing at\n",
      "The jazz music has started playing at a\n",
      "The jazz music has started playing at a low\n",
      "The jazz music has started playing at a low volume\n",
      "The jazz music has started playing at a low volume,\n",
      "The jazz music has started playing at a low volume, and\n",
      "The jazz music has started playing at a low volume, and the\n",
      "The jazz music has started playing at a low volume, and the estimated\n",
      "The jazz music has started playing at a low volume, and the estimated BPM\n",
      "The jazz music has started playing at a low volume, and the estimated BPM for\n",
      "The jazz music has started playing at a low volume, and the estimated BPM for the\n",
      "The jazz music has started playing at a low volume, and the estimated BPM for the track\n",
      "The jazz music has started playing at a low volume, and the estimated BPM for the track is\n",
      "The jazz music has started playing at a low volume, and the estimated BPM for the track is \n",
      "The jazz music has started playing at a low volume, and the estimated BPM for the track is 120\n",
      "The jazz music has started playing at a low volume, and the estimated BPM for the track is 120.\n",
      "The jazz music has started playing at a low volume, and the estimated BPM for the track is 120. Enjoy\n",
      "The jazz music has started playing at a low volume, and the estimated BPM for the track is 120. Enjoy the\n",
      "The jazz music has started playing at a low volume, and the estimated BPM for the track is 120. Enjoy the music\n",
      "The jazz music has started playing at a low volume, and the estimated BPM for the track is 120. Enjoy the music!\n"
     ]
    },
    {
     "name": "stderr",
     "output_type": "stream",
     "text": [
      "\u001b[32m[2025-01-09 23:41:37]\u001b[0m \u001b[34m\u001b[1mDEBUG | Response: [TextResponse(text='The jazz music has started playing at a low volume, and the estimated BPM for the track is 120. Enjoy the music!')]\u001b[0m\n"
     ]
    },
    {
     "name": "stdout",
     "output_type": "stream",
     "text": [
      "The jazz music has started playing at a low volume, and the estimated BPM for the track is 120. Enjoy the music!\n"
     ]
    }
   ],
   "source": [
    "streamed_response = openai_agent.stream_text(prompt)\n",
    "\n",
    "for chunk in streamed_response:\n",
    "    for content in chunk.contents:\n",
    "        if isinstance(content, TextResponse):\n",
    "            print(content.text, flush=True)\n",
    "        elif isinstance(content, ToolCallResponse):\n",
    "            print(content.args, flush=True)"
   ]
  },
  {
   "cell_type": "code",
   "execution_count": 16,
   "metadata": {},
   "outputs": [
    {
     "name": "stderr",
     "output_type": "stream",
     "text": [
      "\u001b[32m[2025-01-09 23:41:37]\u001b[0m \u001b[34m\u001b[1mDEBUG | Prompt: [TextPrompt(text='Please make a concise plan to answer the following question/requirement, considering the conversation history.\\nYou can invoke the sub-agents or tools to answer the questions/requirements shown in the capabilities section.\\nAgent has no description while the tools have a description.\\n\\nQuestion/Requirement:\\nPlay some music, well, play jazz music and prefer to low volume. Also, I want to know the BPM.\\n\\nCapabilities:\\n- start_music: Start playing a random music with the given the genre.\\n- change_music_volume: Change the music volume.\\n- change_music: Change the music.\\n- change_equalizer_settings: Change the equalizer settings of the music.\\n')]\u001b[0m\n",
      "\u001b[32m[2025-01-09 23:41:37]\u001b[0m \u001b[1mINFO | root: Generating text\u001b[0m\n",
      "\u001b[32m[2025-01-09 23:41:41]\u001b[0m \u001b[34m\u001b[1mDEBUG | Response: [TextResponse(text='### Plan to Address the Requirement\\n\\n1. **Start Playing Jazz Music**: Use the `start_music` tool to begin playing jazz music.\\n2. **Set Volume to Low**: Use the `change_music_volume` tool to adjust the volume to a low level.\\n3. **Determine BPM**: Since the BPM (Beats Per Minute) is not directly obtainable from the current capabilities, I will note that this information is not available through the tools provided.\\n\\n### Execution Steps\\n\\n1. Invoke `start_music` with the genre set to jazz.\\n2. Invoke `change_music_volume` to set the volume to low.\\n3. Inform the user that BPM information is not available.\\n\\n### Final Note\\nProceed with the execution of the above steps to fulfill the requirement.')]\u001b[0m\n",
      "\u001b[32m[2025-01-09 23:41:41]\u001b[0m \u001b[34m\u001b[1mDEBUG | Prompt: [TextPrompt(text='Put the plan into action.')]\u001b[0m\n",
      "\u001b[32m[2025-01-09 23:41:41]\u001b[0m \u001b[1mINFO | root: Generating text\u001b[0m\n"
     ]
    },
    {
     "name": "stdout",
     "output_type": "stream",
     "text": [
      "{\"ge\n",
      "{\"genre\":\n",
      "{\"genre\": \"jazz\n",
      "{\"genre\": \"jazz\"}\n",
      "{\"vo\n",
      "{\"volume\"\n",
      "{\"volume\": 0.2}\n"
     ]
    },
    {
     "name": "stderr",
     "output_type": "stream",
     "text": [
      "\u001b[32m[2025-01-09 23:41:42]\u001b[0m \u001b[34m\u001b[1mDEBUG | Response: [ToolCallResponse(name='start_music', args='{\"genre\": \"jazz\"}', call_id='call_T6CrG8S9XDgJMdX1Iu9ygeP4'), ToolCallResponse(name='change_music_volume', args='{\"volume\": 0.2}', call_id='call_ffT70cX6wX7naOz9WhsnmUCj')]\u001b[0m\n",
      "\u001b[32m[2025-01-09 23:41:42]\u001b[0m \u001b[1mINFO | Running tool: start_music\u001b[0m\n",
      "\u001b[32m[2025-01-09 23:41:42]\u001b[0m \u001b[1mINFO | Tool: start_music successfully ran.\u001b[0m\n",
      "\u001b[32m[2025-01-09 23:41:42]\u001b[0m \u001b[1mINFO | Running tool: change_music_volume\u001b[0m\n",
      "\u001b[32m[2025-01-09 23:41:42]\u001b[0m \u001b[1mINFO | Tool: change_music_volume successfully ran.\u001b[0m\n",
      "\u001b[32m[2025-01-09 23:41:42]\u001b[0m \u001b[34m\u001b[1mDEBUG | Prompt: [ToolUsePrompt(output='Starting music! Genre: jazz, Volume: 0.4182263010115296, BPM: 120', error=None, call_id='call_T6CrG8S9XDgJMdX1Iu9ygeP4', args='{\"genre\": \"jazz\"}', name='start_music'), ToolUsePrompt(output='Changing volume to 0.2', error=None, call_id='call_ffT70cX6wX7naOz9WhsnmUCj', args='{\"volume\": 0.2}', name='change_music_volume')]\u001b[0m\n",
      "\u001b[32m[2025-01-09 23:41:42]\u001b[0m \u001b[1mINFO | root: Generating text\u001b[0m\n"
     ]
    },
    {
     "name": "stdout",
     "output_type": "stream",
     "text": [
      "The\n",
      "The jazz\n",
      "The jazz music\n",
      "The jazz music has\n",
      "The jazz music has started\n",
      "The jazz music has started playing\n",
      "The jazz music has started playing at\n",
      "The jazz music has started playing at a\n",
      "The jazz music has started playing at a low\n",
      "The jazz music has started playing at a low volume\n",
      "The jazz music has started playing at a low volume.\n",
      "The jazz music has started playing at a low volume. The\n",
      "The jazz music has started playing at a low volume. The current\n",
      "The jazz music has started playing at a low volume. The current BPM\n",
      "The jazz music has started playing at a low volume. The current BPM of\n",
      "The jazz music has started playing at a low volume. The current BPM of the\n",
      "The jazz music has started playing at a low volume. The current BPM of the music\n",
      "The jazz music has started playing at a low volume. The current BPM of the music is\n",
      "The jazz music has started playing at a low volume. The current BPM of the music is \n",
      "The jazz music has started playing at a low volume. The current BPM of the music is 120\n",
      "The jazz music has started playing at a low volume. The current BPM of the music is 120.\n",
      "The jazz music has started playing at a low volume. The current BPM of the music is 120. Enjoy\n",
      "The jazz music has started playing at a low volume. The current BPM of the music is 120. Enjoy!\n"
     ]
    },
    {
     "name": "stderr",
     "output_type": "stream",
     "text": [
      "\u001b[32m[2025-01-09 23:41:43]\u001b[0m \u001b[34m\u001b[1mDEBUG | Response: [TextResponse(text='The jazz music has started playing at a low volume. The current BPM of the music is 120. Enjoy!')]\u001b[0m\n"
     ]
    },
    {
     "name": "stdout",
     "output_type": "stream",
     "text": [
      "The jazz music has started playing at a low volume. The current BPM of the music is 120. Enjoy!\n"
     ]
    }
   ],
   "source": [
    "streamed_response = openai_agent.stream_text_async(prompt)\n",
    "\n",
    "async for chunk in streamed_response:\n",
    "    for content in chunk.contents:\n",
    "        if isinstance(content, TextResponse):\n",
    "            print(content.text, flush=True)\n",
    "        elif isinstance(content, ToolCallResponse):\n",
    "            print(content.args, flush=True)"
   ]
  },
  {
   "cell_type": "markdown",
   "metadata": {},
   "source": [
    "## Other client"
   ]
  },
  {
   "cell_type": "markdown",
   "metadata": {},
   "source": [
    "Other clients has the same interface."
   ]
  },
  {
   "cell_type": "code",
   "execution_count": 17,
   "metadata": {},
   "outputs": [],
   "source": [
    "# Azure OpenAI\n",
    "azure_openai_agent = Agent(\n",
    "    client=azure_openai_client,\n",
    "    model=\"gpt-4o-mini-2024-07-18\",\n",
    "    temperature=0.0,\n",
    "    tools=tools,\n",
    "    # planning=True, # as needed\n",
    ")\n",
    "\n",
    "# Google AI Studio\n",
    "google_agent = Agent(\n",
    "    client=google_dev_client,\n",
    "    model=\"gemini-2.0-flash-exp\",\n",
    "    temperature=0.0,\n",
    "    tools=tools,\n",
    "    # planning=True, # as needed\n",
    ")\n",
    "\n",
    "# Google Cloud VertexAI\n",
    "vertexai_agent = Agent(\n",
    "    client=vertexai_client,\n",
    "    model=\"gemini-2.0-flash-exp\",\n",
    "    temperature=0.0,\n",
    "    tools=tools,\n",
    "    # planning=True, # as needed\n",
    ")\n",
    "\n",
    "# Anthropic Claude\n",
    "claude_agent = Agent(\n",
    "    client=anthropic_client,\n",
    "    model=\"claude-3-5-sonnet-20240620\",\n",
    "    temperature=0.0,\n",
    "    max_tokens=500,\n",
    "    tools=tools,\n",
    "    # planning=True, # as needed\n",
    ")\n",
    "\n",
    "# Claude on Amazon Bedrock\n",
    "claude_bedrock_agent = Agent(\n",
    "    client=claude_bedrock_client,\n",
    "    model=\"anthropic.claude-3-sonnet-20240229-v1:0\",\n",
    "    temperature=0.0,\n",
    "    max_tokens=500,\n",
    "    tools=tools,\n",
    "    # planning=True, # as needed\n",
    ")"
   ]
  },
  {
   "cell_type": "markdown",
   "metadata": {},
   "source": [
    "### Azure OpenAI"
   ]
  },
  {
   "cell_type": "code",
   "execution_count": 18,
   "metadata": {},
   "outputs": [
    {
     "name": "stderr",
     "output_type": "stream",
     "text": [
      "\u001b[32m[2025-01-09 23:41:43]\u001b[0m \u001b[34m\u001b[1mDEBUG | Prompt: [TextPrompt(text='Play some music, well, play jazz music and prefer to low volume. Also, I want to know the BPM.')]\u001b[0m\n",
      "\u001b[32m[2025-01-09 23:41:43]\u001b[0m \u001b[1mINFO | root: Generating text\u001b[0m\n",
      "\u001b[32m[2025-01-09 23:41:44]\u001b[0m \u001b[34m\u001b[1mDEBUG | Response: [ToolCallResponse(name='start_music', args='{\"genre\":\"jazz\"}', call_id='call_PULYZxypbU5GB0vjkLCZdOlO')]\u001b[0m\n",
      "\u001b[32m[2025-01-09 23:41:44]\u001b[0m \u001b[1mINFO | Running tool: start_music\u001b[0m\n",
      "\u001b[32m[2025-01-09 23:41:44]\u001b[0m \u001b[1mINFO | Tool: start_music successfully ran.\u001b[0m\n",
      "\u001b[32m[2025-01-09 23:41:44]\u001b[0m \u001b[34m\u001b[1mDEBUG | Prompt: [ToolUsePrompt(output='Starting music! Genre: jazz, Volume: 0.6541270261036778, BPM: 120', error=None, call_id='call_PULYZxypbU5GB0vjkLCZdOlO', args='{\"genre\":\"jazz\"}', name='start_music')]\u001b[0m\n",
      "\u001b[32m[2025-01-09 23:41:44]\u001b[0m \u001b[1mINFO | root: Generating text\u001b[0m\n",
      "\u001b[32m[2025-01-09 23:41:45]\u001b[0m \u001b[34m\u001b[1mDEBUG | Response: [ToolCallResponse(name='change_music_volume', args='{\"volume\":0.2}', call_id='call_oPeMfwWzWY3iX2Q1Y7tB8OFF')]\u001b[0m\n",
      "\u001b[32m[2025-01-09 23:41:45]\u001b[0m \u001b[1mINFO | Running tool: change_music_volume\u001b[0m\n",
      "\u001b[32m[2025-01-09 23:41:45]\u001b[0m \u001b[1mINFO | Tool: change_music_volume successfully ran.\u001b[0m\n",
      "\u001b[32m[2025-01-09 23:41:45]\u001b[0m \u001b[34m\u001b[1mDEBUG | Prompt: [ToolUsePrompt(output='Changing volume to 0.2', error=None, call_id='call_oPeMfwWzWY3iX2Q1Y7tB8OFF', args='{\"volume\":0.2}', name='change_music_volume')]\u001b[0m\n",
      "\u001b[32m[2025-01-09 23:41:45]\u001b[0m \u001b[1mINFO | root: Generating text\u001b[0m\n",
      "\u001b[32m[2025-01-09 23:41:46]\u001b[0m \u001b[34m\u001b[1mDEBUG | Response: [TextResponse(text=\"I've started playing jazz music at a low volume. The current BPM (Beats Per Minute) is 120. Enjoy the music!\")]\u001b[0m\n"
     ]
    },
    {
     "name": "stdout",
     "output_type": "stream",
     "text": [
      "I've started playing jazz music at a low volume. The current BPM (Beats Per Minute) is 120. Enjoy the music!\n"
     ]
    }
   ],
   "source": [
    "response = azure_openai_agent.generate_text(prompt)\n",
    "\n",
    "print(response.contents[0].text)"
   ]
  },
  {
   "cell_type": "code",
   "execution_count": 19,
   "metadata": {},
   "outputs": [
    {
     "name": "stderr",
     "output_type": "stream",
     "text": [
      "\u001b[32m[2025-01-09 23:41:46]\u001b[0m \u001b[34m\u001b[1mDEBUG | Prompt: [TextPrompt(text='Play some music, well, play jazz music and prefer to low volume. Also, I want to know the BPM.')]\u001b[0m\n",
      "\u001b[32m[2025-01-09 23:41:46]\u001b[0m \u001b[1mINFO | root: Generating text\u001b[0m\n",
      "\u001b[32m[2025-01-09 23:41:47]\u001b[0m \u001b[34m\u001b[1mDEBUG | Response: [ToolCallResponse(name='start_music', args='{\"genre\":\"jazz\"}', call_id='call_jG5gJz0wuCXYW9i0SwkwZeys')]\u001b[0m\n",
      "\u001b[32m[2025-01-09 23:41:47]\u001b[0m \u001b[1mINFO | Running tool: start_music\u001b[0m\n",
      "\u001b[32m[2025-01-09 23:41:47]\u001b[0m \u001b[1mINFO | Tool: start_music successfully ran.\u001b[0m\n",
      "\u001b[32m[2025-01-09 23:41:47]\u001b[0m \u001b[34m\u001b[1mDEBUG | Prompt: [ToolUsePrompt(output='Starting music! Genre: jazz, Volume: 0.8506669430178333, BPM: 120', error=None, call_id='call_jG5gJz0wuCXYW9i0SwkwZeys', args='{\"genre\":\"jazz\"}', name='start_music')]\u001b[0m\n",
      "\u001b[32m[2025-01-09 23:41:47]\u001b[0m \u001b[1mINFO | root: Generating text\u001b[0m\n",
      "\u001b[32m[2025-01-09 23:41:47]\u001b[0m \u001b[34m\u001b[1mDEBUG | Response: [ToolCallResponse(name='change_music_volume', args='{\"volume\":0.2}', call_id='call_lUzwGTlBYpApFjsedAEQnXck')]\u001b[0m\n",
      "\u001b[32m[2025-01-09 23:41:47]\u001b[0m \u001b[1mINFO | Running tool: change_music_volume\u001b[0m\n",
      "\u001b[32m[2025-01-09 23:41:47]\u001b[0m \u001b[1mINFO | Tool: change_music_volume successfully ran.\u001b[0m\n",
      "\u001b[32m[2025-01-09 23:41:47]\u001b[0m \u001b[34m\u001b[1mDEBUG | Prompt: [ToolUsePrompt(output='Changing volume to 0.2', error=None, call_id='call_lUzwGTlBYpApFjsedAEQnXck', args='{\"volume\":0.2}', name='change_music_volume')]\u001b[0m\n",
      "\u001b[32m[2025-01-09 23:41:47]\u001b[0m \u001b[1mINFO | root: Generating text\u001b[0m\n",
      "\u001b[32m[2025-01-09 23:41:48]\u001b[0m \u001b[34m\u001b[1mDEBUG | Response: [TextResponse(text=\"I've started playing jazz music at a low volume. The BPM of the music is 120. Enjoy!\")]\u001b[0m\n"
     ]
    },
    {
     "name": "stdout",
     "output_type": "stream",
     "text": [
      "I've started playing jazz music at a low volume. The BPM of the music is 120. Enjoy!\n"
     ]
    }
   ],
   "source": [
    "response = await azure_openai_agent.generate_text_async(prompt)\n",
    "\n",
    "print(response.contents[0].text)"
   ]
  },
  {
   "cell_type": "code",
   "execution_count": 20,
   "metadata": {},
   "outputs": [
    {
     "name": "stderr",
     "output_type": "stream",
     "text": [
      "\u001b[32m[2025-01-09 23:41:48]\u001b[0m \u001b[34m\u001b[1mDEBUG | Prompt: [TextPrompt(text='Play some music, well, play jazz music and prefer to low volume. Also, I want to know the BPM.')]\u001b[0m\n",
      "\u001b[32m[2025-01-09 23:41:48]\u001b[0m \u001b[1mINFO | root: Generating text\u001b[0m\n"
     ]
    },
    {
     "name": "stdout",
     "output_type": "stream",
     "text": [
      "{\"\n",
      "{\"genre\n",
      "{\"genre\":\"\n",
      "{\"genre\":\"j\n",
      "{\"genre\":\"jazz\n",
      "{\"genre\":\"jazz\"}\n"
     ]
    },
    {
     "name": "stderr",
     "output_type": "stream",
     "text": [
      "\u001b[32m[2025-01-09 23:41:49]\u001b[0m \u001b[34m\u001b[1mDEBUG | Response: [ToolCallResponse(name='start_music', args='{\"genre\":\"jazz\"}', call_id='call_YLosu260L7Xtk3InR0qbg9Le')]\u001b[0m\n",
      "\u001b[32m[2025-01-09 23:41:49]\u001b[0m \u001b[1mINFO | Running tool: start_music\u001b[0m\n",
      "\u001b[32m[2025-01-09 23:41:49]\u001b[0m \u001b[1mINFO | Tool: start_music successfully ran.\u001b[0m\n",
      "\u001b[32m[2025-01-09 23:41:49]\u001b[0m \u001b[34m\u001b[1mDEBUG | Prompt: [ToolUsePrompt(output='Starting music! Genre: jazz, Volume: 0.10836535452234974, BPM: 120', error=None, call_id='call_YLosu260L7Xtk3InR0qbg9Le', args='{\"genre\":\"jazz\"}', name='start_music')]\u001b[0m\n",
      "\u001b[32m[2025-01-09 23:41:49]\u001b[0m \u001b[1mINFO | root: Generating text\u001b[0m\n"
     ]
    },
    {
     "name": "stdout",
     "output_type": "stream",
     "text": [
      "{\"\n",
      "{\"volume\n",
      "{\"volume\":\n",
      "{\"volume\":0\n",
      "{\"volume\":0.\n",
      "{\"volume\":0.2\n",
      "{\"volume\":0.2}\n"
     ]
    },
    {
     "name": "stderr",
     "output_type": "stream",
     "text": [
      "\u001b[32m[2025-01-09 23:41:50]\u001b[0m \u001b[34m\u001b[1mDEBUG | Response: [ToolCallResponse(name='change_music_volume', args='{\"volume\":0.2}', call_id='call_Ff64AHSIfydqSHLpiJJG9fl4')]\u001b[0m\n",
      "\u001b[32m[2025-01-09 23:41:50]\u001b[0m \u001b[1mINFO | Running tool: change_music_volume\u001b[0m\n",
      "\u001b[32m[2025-01-09 23:41:50]\u001b[0m \u001b[1mINFO | Tool: change_music_volume successfully ran.\u001b[0m\n",
      "\u001b[32m[2025-01-09 23:41:50]\u001b[0m \u001b[34m\u001b[1mDEBUG | Prompt: [ToolUsePrompt(output='Changing volume to 0.2', error=None, call_id='call_Ff64AHSIfydqSHLpiJJG9fl4', args='{\"volume\":0.2}', name='change_music_volume')]\u001b[0m\n",
      "\u001b[32m[2025-01-09 23:41:50]\u001b[0m \u001b[1mINFO | root: Generating text\u001b[0m\n"
     ]
    },
    {
     "name": "stdout",
     "output_type": "stream",
     "text": [
      "I've\n",
      "I've started\n",
      "I've started playing\n",
      "I've started playing jazz\n",
      "I've started playing jazz music\n",
      "I've started playing jazz music at\n",
      "I've started playing jazz music at a\n",
      "I've started playing jazz music at a low\n",
      "I've started playing jazz music at a low volume\n",
      "I've started playing jazz music at a low volume.\n",
      "I've started playing jazz music at a low volume. The\n",
      "I've started playing jazz music at a low volume. The current\n",
      "I've started playing jazz music at a low volume. The current BPM\n",
      "I've started playing jazz music at a low volume. The current BPM (\n",
      "I've started playing jazz music at a low volume. The current BPM (Be\n",
      "I've started playing jazz music at a low volume. The current BPM (Beats\n",
      "I've started playing jazz music at a low volume. The current BPM (Beats Per\n",
      "I've started playing jazz music at a low volume. The current BPM (Beats Per Minute\n",
      "I've started playing jazz music at a low volume. The current BPM (Beats Per Minute)\n",
      "I've started playing jazz music at a low volume. The current BPM (Beats Per Minute) is\n",
      "I've started playing jazz music at a low volume. The current BPM (Beats Per Minute) is \n",
      "I've started playing jazz music at a low volume. The current BPM (Beats Per Minute) is 120\n",
      "I've started playing jazz music at a low volume. The current BPM (Beats Per Minute) is 120.\n",
      "I've started playing jazz music at a low volume. The current BPM (Beats Per Minute) is 120. Enjoy\n",
      "I've started playing jazz music at a low volume. The current BPM (Beats Per Minute) is 120. Enjoy the\n",
      "I've started playing jazz music at a low volume. The current BPM (Beats Per Minute) is 120. Enjoy the music\n",
      "I've started playing jazz music at a low volume. The current BPM (Beats Per Minute) is 120. Enjoy the music!\n"
     ]
    },
    {
     "name": "stderr",
     "output_type": "stream",
     "text": [
      "\u001b[32m[2025-01-09 23:41:50]\u001b[0m \u001b[34m\u001b[1mDEBUG | Response: [TextResponse(text=\"I've started playing jazz music at a low volume. The current BPM (Beats Per Minute) is 120. Enjoy the music!\")]\u001b[0m\n"
     ]
    },
    {
     "name": "stdout",
     "output_type": "stream",
     "text": [
      "I've started playing jazz music at a low volume. The current BPM (Beats Per Minute) is 120. Enjoy the music!\n"
     ]
    }
   ],
   "source": [
    "streamed_response = azure_openai_agent.stream_text(prompt)\n",
    "\n",
    "for chunk in streamed_response:\n",
    "    for content in chunk.contents:\n",
    "        if isinstance(content, TextResponse):\n",
    "            print(content.text, flush=True)\n",
    "        elif isinstance(content, ToolCallResponse):\n",
    "            print(content.args, flush=True)"
   ]
  },
  {
   "cell_type": "code",
   "execution_count": 21,
   "metadata": {},
   "outputs": [
    {
     "name": "stderr",
     "output_type": "stream",
     "text": [
      "\u001b[32m[2025-01-09 23:41:50]\u001b[0m \u001b[34m\u001b[1mDEBUG | Prompt: [TextPrompt(text='Play some music, well, play jazz music and prefer to low volume. Also, I want to know the BPM.')]\u001b[0m\n",
      "\u001b[32m[2025-01-09 23:41:50]\u001b[0m \u001b[1mINFO | root: Generating text\u001b[0m\n"
     ]
    },
    {
     "name": "stdout",
     "output_type": "stream",
     "text": [
      "{\"\n",
      "{\"genre\n",
      "{\"genre\":\"\n",
      "{\"genre\":\"j\n",
      "{\"genre\":\"jazz\n",
      "{\"genre\":\"jazz\"}\n"
     ]
    },
    {
     "name": "stderr",
     "output_type": "stream",
     "text": [
      "\u001b[32m[2025-01-09 23:41:51]\u001b[0m \u001b[34m\u001b[1mDEBUG | Response: [ToolCallResponse(name='start_music', args='{\"genre\":\"jazz\"}', call_id='call_MXQGqJv0L0kMoNvim63NxlqP')]\u001b[0m\n",
      "\u001b[32m[2025-01-09 23:41:51]\u001b[0m \u001b[1mINFO | Running tool: start_music\u001b[0m\n",
      "\u001b[32m[2025-01-09 23:41:51]\u001b[0m \u001b[1mINFO | Tool: start_music successfully ran.\u001b[0m\n",
      "\u001b[32m[2025-01-09 23:41:51]\u001b[0m \u001b[34m\u001b[1mDEBUG | Prompt: [ToolUsePrompt(output='Starting music! Genre: jazz, Volume: 0.3140125409895157, BPM: 120', error=None, call_id='call_MXQGqJv0L0kMoNvim63NxlqP', args='{\"genre\":\"jazz\"}', name='start_music')]\u001b[0m\n",
      "\u001b[32m[2025-01-09 23:41:51]\u001b[0m \u001b[1mINFO | root: Generating text\u001b[0m\n"
     ]
    },
    {
     "name": "stdout",
     "output_type": "stream",
     "text": [
      "{\"\n",
      "{\"volume\n",
      "{\"volume\":\n",
      "{\"volume\":0\n",
      "{\"volume\":0.\n",
      "{\"volume\":0.2\n",
      "{\"volume\":0.2}\n"
     ]
    },
    {
     "name": "stderr",
     "output_type": "stream",
     "text": [
      "\u001b[32m[2025-01-09 23:41:51]\u001b[0m \u001b[34m\u001b[1mDEBUG | Response: [ToolCallResponse(name='change_music_volume', args='{\"volume\":0.2}', call_id='call_I5mRk788n7VurJJrZ1A1VJ4e')]\u001b[0m\n",
      "\u001b[32m[2025-01-09 23:41:51]\u001b[0m \u001b[1mINFO | Running tool: change_music_volume\u001b[0m\n",
      "\u001b[32m[2025-01-09 23:41:51]\u001b[0m \u001b[1mINFO | Tool: change_music_volume successfully ran.\u001b[0m\n",
      "\u001b[32m[2025-01-09 23:41:51]\u001b[0m \u001b[34m\u001b[1mDEBUG | Prompt: [ToolUsePrompt(output='Changing volume to 0.2', error=None, call_id='call_I5mRk788n7VurJJrZ1A1VJ4e', args='{\"volume\":0.2}', name='change_music_volume')]\u001b[0m\n",
      "\u001b[32m[2025-01-09 23:41:51]\u001b[0m \u001b[1mINFO | root: Generating text\u001b[0m\n"
     ]
    },
    {
     "name": "stdout",
     "output_type": "stream",
     "text": [
      "I've\n",
      "I've started\n",
      "I've started playing\n",
      "I've started playing jazz\n",
      "I've started playing jazz music\n",
      "I've started playing jazz music at\n",
      "I've started playing jazz music at a\n",
      "I've started playing jazz music at a low\n",
      "I've started playing jazz music at a low volume\n",
      "I've started playing jazz music at a low volume.\n",
      "I've started playing jazz music at a low volume. The\n",
      "I've started playing jazz music at a low volume. The current\n",
      "I've started playing jazz music at a low volume. The current BPM\n",
      "I've started playing jazz music at a low volume. The current BPM (\n",
      "I've started playing jazz music at a low volume. The current BPM (Be\n",
      "I've started playing jazz music at a low volume. The current BPM (Beats\n",
      "I've started playing jazz music at a low volume. The current BPM (Beats Per\n",
      "I've started playing jazz music at a low volume. The current BPM (Beats Per Minute\n",
      "I've started playing jazz music at a low volume. The current BPM (Beats Per Minute)\n",
      "I've started playing jazz music at a low volume. The current BPM (Beats Per Minute) is\n",
      "I've started playing jazz music at a low volume. The current BPM (Beats Per Minute) is \n",
      "I've started playing jazz music at a low volume. The current BPM (Beats Per Minute) is 120\n",
      "I've started playing jazz music at a low volume. The current BPM (Beats Per Minute) is 120.\n",
      "I've started playing jazz music at a low volume. The current BPM (Beats Per Minute) is 120. Enjoy\n",
      "I've started playing jazz music at a low volume. The current BPM (Beats Per Minute) is 120. Enjoy the\n",
      "I've started playing jazz music at a low volume. The current BPM (Beats Per Minute) is 120. Enjoy the music\n",
      "I've started playing jazz music at a low volume. The current BPM (Beats Per Minute) is 120. Enjoy the music!\n"
     ]
    },
    {
     "name": "stderr",
     "output_type": "stream",
     "text": [
      "\u001b[32m[2025-01-09 23:41:52]\u001b[0m \u001b[34m\u001b[1mDEBUG | Response: [TextResponse(text=\"I've started playing jazz music at a low volume. The current BPM (Beats Per Minute) is 120. Enjoy the music!\")]\u001b[0m\n"
     ]
    },
    {
     "name": "stdout",
     "output_type": "stream",
     "text": [
      "I've started playing jazz music at a low volume. The current BPM (Beats Per Minute) is 120. Enjoy the music!\n"
     ]
    }
   ],
   "source": [
    "streamed_response = azure_openai_agent.stream_text_async(prompt)\n",
    "\n",
    "async for chunk in streamed_response:\n",
    "    for content in chunk.contents:\n",
    "        if isinstance(content, TextResponse):\n",
    "            print(content.text, flush=True)\n",
    "        elif isinstance(content, ToolCallResponse):\n",
    "            print(content.args, flush=True)"
   ]
  },
  {
   "cell_type": "markdown",
   "metadata": {},
   "source": [
    "### Gemini on Google AI Studio"
   ]
  },
  {
   "cell_type": "code",
   "execution_count": 22,
   "metadata": {},
   "outputs": [
    {
     "name": "stderr",
     "output_type": "stream",
     "text": [
      "\u001b[32m[2025-01-09 23:41:53]\u001b[0m \u001b[34m\u001b[1mDEBUG | Prompt: [TextPrompt(text='Play some music, well, play jazz music and prefer to low volume. Also, I want to know the BPM.')]\u001b[0m\n",
      "\u001b[32m[2025-01-09 23:41:53]\u001b[0m \u001b[1mINFO | root: Generating text\u001b[0m\n",
      "\u001b[32m[2025-01-09 23:41:53]\u001b[0m \u001b[34m\u001b[1mDEBUG | Response: [TextResponse(text='I can play jazz music for you and set the volume to low. However, I cannot detect the BPM of the music. Would you like to proceed with playing jazz music at a low volume?')]\u001b[0m\n"
     ]
    },
    {
     "name": "stdout",
     "output_type": "stream",
     "text": [
      "I can play jazz music for you and set the volume to low. However, I cannot detect the BPM of the music. Would you like to proceed with playing jazz music at a low volume?\n"
     ]
    }
   ],
   "source": [
    "response = google_agent.generate_text(prompt)\n",
    "\n",
    "print(response.contents[0].text)"
   ]
  },
  {
   "cell_type": "code",
   "execution_count": 23,
   "metadata": {},
   "outputs": [
    {
     "name": "stderr",
     "output_type": "stream",
     "text": [
      "\u001b[32m[2025-01-09 23:41:53]\u001b[0m \u001b[34m\u001b[1mDEBUG | Prompt: [TextPrompt(text='Play some music, well, play jazz music and prefer to low volume. Also, I want to know the BPM.')]\u001b[0m\n",
      "\u001b[32m[2025-01-09 23:41:53]\u001b[0m \u001b[1mINFO | root: Generating text\u001b[0m\n",
      "\u001b[32m[2025-01-09 23:41:54]\u001b[0m \u001b[34m\u001b[1mDEBUG | Response: [TextResponse(text='I can play jazz music for you and set the volume to low. However, I cannot detect the BPM of the music. Would you like to proceed with playing jazz music at a low volume?')]\u001b[0m\n"
     ]
    },
    {
     "name": "stdout",
     "output_type": "stream",
     "text": [
      "I can play jazz music for you and set the volume to low. However, I cannot detect the BPM of the music. Would you like to proceed with playing jazz music at a low volume?\n"
     ]
    }
   ],
   "source": [
    "response = await google_agent.generate_text_async(prompt)\n",
    "\n",
    "print(response.contents[0].text)"
   ]
  },
  {
   "cell_type": "code",
   "execution_count": 24,
   "metadata": {},
   "outputs": [
    {
     "name": "stderr",
     "output_type": "stream",
     "text": [
      "\u001b[32m[2025-01-09 23:41:54]\u001b[0m \u001b[34m\u001b[1mDEBUG | Prompt: [TextPrompt(text='Play some music, well, play jazz music and prefer to low volume. Also, I want to know the BPM.')]\u001b[0m\n",
      "\u001b[32m[2025-01-09 23:41:54]\u001b[0m \u001b[1mINFO | root: Generating text\u001b[0m\n"
     ]
    },
    {
     "name": "stdout",
     "output_type": "stream",
     "text": [
      "I\n",
      "I can play jazz music for you and set the volume to low. However, I\n",
      "I can play jazz music for you and set the volume to low. However, I cannot detect the BPM of the music. Would you like to proceed with playing jazz\n",
      "I can play jazz music for you and set the volume to low. However, I cannot detect the BPM of the music. Would you like to proceed with playing jazz music at a low volume?\n",
      "\n",
      "I can play jazz music for you and set the volume to low. However, I cannot detect the BPM of the music. Would you like to proceed with playing jazz music at a low volume?\n",
      "\n"
     ]
    }
   ],
   "source": [
    "streamed_response = google_agent.stream_text(prompt)\n",
    "\n",
    "for chunk in streamed_response:\n",
    "    for content in chunk.contents:\n",
    "        if isinstance(content, TextResponse):\n",
    "            print(content.text, flush=True)\n",
    "        elif isinstance(content, ToolCallResponse):\n",
    "            print(content.args, flush=True)"
   ]
  },
  {
   "cell_type": "code",
   "execution_count": 25,
   "metadata": {},
   "outputs": [
    {
     "name": "stderr",
     "output_type": "stream",
     "text": [
      "\u001b[32m[2025-01-09 23:41:55]\u001b[0m \u001b[34m\u001b[1mDEBUG | Prompt: [TextPrompt(text='Play some music, well, play jazz music and prefer to low volume. Also, I want to know the BPM.')]\u001b[0m\n",
      "\u001b[32m[2025-01-09 23:41:55]\u001b[0m \u001b[1mINFO | root: Generating text\u001b[0m\n"
     ]
    },
    {
     "name": "stdout",
     "output_type": "stream",
     "text": [
      "I\n",
      "I can play jazz music for you and set the volume to low. However, I\n",
      "I can play jazz music for you and set the volume to low. However, I cannot detect the BPM of the music. Would you like to proceed with playing jazz\n",
      "I can play jazz music for you and set the volume to low. However, I cannot detect the BPM of the music. Would you like to proceed with playing jazz music at a low volume?\n",
      "\n",
      "I can play jazz music for you and set the volume to low. However, I cannot detect the BPM of the music. Would you like to proceed with playing jazz music at a low volume?\n",
      "\n"
     ]
    }
   ],
   "source": [
    "streamed_response = google_agent.stream_text_async(prompt)\n",
    "\n",
    "async for chunk in streamed_response:\n",
    "    for content in chunk.contents:\n",
    "        if isinstance(content, TextResponse):\n",
    "            print(content.text, flush=True)\n",
    "        elif isinstance(content, ToolCallResponse):\n",
    "            print(content.args, flush=True)"
   ]
  },
  {
   "cell_type": "markdown",
   "metadata": {},
   "source": [
    "### Gemini on VertexAI"
   ]
  },
  {
   "cell_type": "code",
   "execution_count": 26,
   "metadata": {},
   "outputs": [
    {
     "name": "stderr",
     "output_type": "stream",
     "text": [
      "\u001b[32m[2025-01-09 23:41:57]\u001b[0m \u001b[34m\u001b[1mDEBUG | Prompt: [TextPrompt(text='Play some music, well, play jazz music and prefer to low volume. Also, I want to know the BPM.')]\u001b[0m\n",
      "\u001b[32m[2025-01-09 23:41:57]\u001b[0m \u001b[1mINFO | root: Generating text\u001b[0m\n",
      "\u001b[32m[2025-01-09 23:41:59]\u001b[0m \u001b[34m\u001b[1mDEBUG | Response: [TextResponse(text='I can play jazz music for you and set the volume to low. However, I cannot detect the BPM of the music. Would you like to proceed with playing jazz music at a low volume?')]\u001b[0m\n"
     ]
    },
    {
     "name": "stdout",
     "output_type": "stream",
     "text": [
      "I can play jazz music for you and set the volume to low. However, I cannot detect the BPM of the music. Would you like to proceed with playing jazz music at a low volume?\n"
     ]
    }
   ],
   "source": [
    "response = vertexai_agent.generate_text(prompt)\n",
    "\n",
    "print(response.contents[0].text)"
   ]
  },
  {
   "cell_type": "code",
   "execution_count": 27,
   "metadata": {},
   "outputs": [
    {
     "name": "stderr",
     "output_type": "stream",
     "text": [
      "\u001b[32m[2025-01-09 23:41:59]\u001b[0m \u001b[34m\u001b[1mDEBUG | Prompt: [TextPrompt(text='Play some music, well, play jazz music and prefer to low volume. Also, I want to know the BPM.')]\u001b[0m\n",
      "\u001b[32m[2025-01-09 23:41:59]\u001b[0m \u001b[1mINFO | root: Generating text\u001b[0m\n",
      "\u001b[32m[2025-01-09 23:42:00]\u001b[0m \u001b[34m\u001b[1mDEBUG | Response: [TextResponse(text='I can play jazz music for you and set the volume to low. However, I cannot detect the BPM of the music. Would you like to proceed with playing jazz music at a low volume?')]\u001b[0m\n"
     ]
    },
    {
     "name": "stdout",
     "output_type": "stream",
     "text": [
      "I can play jazz music for you and set the volume to low. However, I cannot detect the BPM of the music. Would you like to proceed with playing jazz music at a low volume?\n"
     ]
    }
   ],
   "source": [
    "response = await vertexai_agent.generate_text_async(prompt)\n",
    "\n",
    "print(response.contents[0].text)"
   ]
  },
  {
   "cell_type": "code",
   "execution_count": 28,
   "metadata": {},
   "outputs": [
    {
     "name": "stderr",
     "output_type": "stream",
     "text": [
      "\u001b[32m[2025-01-09 23:42:00]\u001b[0m \u001b[34m\u001b[1mDEBUG | Prompt: [TextPrompt(text='Play some music, well, play jazz music and prefer to low volume. Also, I want to know the BPM.')]\u001b[0m\n",
      "\u001b[32m[2025-01-09 23:42:00]\u001b[0m \u001b[1mINFO | root: Generating text\u001b[0m\n"
     ]
    },
    {
     "name": "stdout",
     "output_type": "stream",
     "text": [
      "I\n",
      "I can play jazz music for you and set the volume to low. However, I\n",
      "I can play jazz music for you and set the volume to low. However, I cannot detect the BPM of the music. Would you like to proceed with playing jazz\n",
      "I can play jazz music for you and set the volume to low. However, I cannot detect the BPM of the music. Would you like to proceed with playing jazz music at a low volume?\n",
      "\n",
      "I can play jazz music for you and set the volume to low. However, I cannot detect the BPM of the music. Would you like to proceed with playing jazz music at a low volume?\n",
      "\n"
     ]
    }
   ],
   "source": [
    "streamed_response = vertexai_agent.stream_text(prompt)\n",
    "\n",
    "for chunk in streamed_response:\n",
    "    for content in chunk.contents:\n",
    "        if isinstance(content, TextResponse):\n",
    "            print(content.text, flush=True)\n",
    "        elif isinstance(content, ToolCallResponse):\n",
    "            print(content.args, flush=True)"
   ]
  },
  {
   "cell_type": "code",
   "execution_count": 29,
   "metadata": {},
   "outputs": [
    {
     "name": "stderr",
     "output_type": "stream",
     "text": [
      "\u001b[32m[2025-01-09 23:42:02]\u001b[0m \u001b[34m\u001b[1mDEBUG | Prompt: [TextPrompt(text='Play some music, well, play jazz music and prefer to low volume. Also, I want to know the BPM.')]\u001b[0m\n",
      "\u001b[32m[2025-01-09 23:42:02]\u001b[0m \u001b[1mINFO | root: Generating text\u001b[0m\n"
     ]
    },
    {
     "name": "stdout",
     "output_type": "stream",
     "text": [
      "I\n",
      "I can play jazz music for you and set the volume to low. However, I\n",
      "I can play jazz music for you and set the volume to low. However, I cannot detect the BPM of the music. Would you like to proceed with playing jazz\n",
      "I can play jazz music for you and set the volume to low. However, I cannot detect the BPM of the music. Would you like to proceed with playing jazz music at a low volume?\n",
      "\n",
      "I can play jazz music for you and set the volume to low. However, I cannot detect the BPM of the music. Would you like to proceed with playing jazz music at a low volume?\n",
      "\n"
     ]
    }
   ],
   "source": [
    "streamed_response = vertexai_agent.stream_text_async(prompt)\n",
    "\n",
    "async for chunk in streamed_response:\n",
    "    for content in chunk.contents:\n",
    "        if isinstance(content, TextResponse):\n",
    "            print(content.text, flush=True)\n",
    "        elif isinstance(content, ToolCallResponse):\n",
    "            print(content.args, flush=True)"
   ]
  },
  {
   "cell_type": "markdown",
   "metadata": {},
   "source": [
    "### Claude on Anthropic"
   ]
  },
  {
   "cell_type": "code",
   "execution_count": 30,
   "metadata": {},
   "outputs": [
    {
     "name": "stderr",
     "output_type": "stream",
     "text": [
      "\u001b[32m[2025-01-09 23:42:03]\u001b[0m \u001b[34m\u001b[1mDEBUG | Prompt: [TextPrompt(text='Play some music, well, play jazz music and prefer to low volume. Also, I want to know the BPM.')]\u001b[0m\n",
      "\u001b[32m[2025-01-09 23:42:03]\u001b[0m \u001b[1mINFO | root: Generating text\u001b[0m\n",
      "\u001b[32m[2025-01-09 23:42:06]\u001b[0m \u001b[34m\u001b[1mDEBUG | Response: [TextResponse(text=\"Certainly! I'd be happy to help you play some jazz music at a low volume. Let's break this down into steps:\\n\\n1. Start playing jazz music\\n2. Lower the volume\\n\\nUnfortunately, I don't have a tool available to determine the BPM (Beats Per Minute) of the music. However, I can certainly help with playing the music and adjusting the volume.\\n\\nLet's start by playing jazz music and then adjusting the volume:\"), ToolCallResponse(name='start_music', args='{\"genre\": \"jazz\"}', call_id='toolu_01XD9kXeMkoFMbZusVxXsh5A')]\u001b[0m\n",
      "\u001b[32m[2025-01-09 23:42:06]\u001b[0m \u001b[1mINFO | Running tool: start_music\u001b[0m\n",
      "\u001b[32m[2025-01-09 23:42:06]\u001b[0m \u001b[1mINFO | Tool: start_music successfully ran.\u001b[0m\n",
      "\u001b[32m[2025-01-09 23:42:06]\u001b[0m \u001b[34m\u001b[1mDEBUG | Prompt: [ToolUsePrompt(output='Starting music! Genre: jazz, Volume: 0.8082159396215031, BPM: 120', error=None, call_id='toolu_01XD9kXeMkoFMbZusVxXsh5A', args='{\"genre\": \"jazz\"}', name='start_music')]\u001b[0m\n",
      "\u001b[32m[2025-01-09 23:42:06]\u001b[0m \u001b[1mINFO | root: Generating text\u001b[0m\n",
      "\u001b[32m[2025-01-09 23:42:08]\u001b[0m \u001b[34m\u001b[1mDEBUG | Response: [TextResponse(text=\"Great! The jazz music has started playing. Now, let's lower the volume. Since you mentioned you prefer a low volume, I'll set it to 0.3 (on a scale of 0.0 to 1.0, where 0.0 is silent and 1.0 is the maximum volume):\"), ToolCallResponse(name='change_music_volume', args='{\"volume\": 0.3}', call_id='toolu_01826oghjbaZpAQCt2MPDMCe')]\u001b[0m\n",
      "\u001b[32m[2025-01-09 23:42:08]\u001b[0m \u001b[1mINFO | Running tool: change_music_volume\u001b[0m\n",
      "\u001b[32m[2025-01-09 23:42:08]\u001b[0m \u001b[1mINFO | Tool: change_music_volume successfully ran.\u001b[0m\n",
      "\u001b[32m[2025-01-09 23:42:08]\u001b[0m \u001b[34m\u001b[1mDEBUG | Prompt: [ToolUsePrompt(output='Changing volume to 0.3', error=None, call_id='toolu_01826oghjbaZpAQCt2MPDMCe', args='{\"volume\": 0.3}', name='change_music_volume')]\u001b[0m\n",
      "\u001b[32m[2025-01-09 23:42:08]\u001b[0m \u001b[1mINFO | root: Generating text\u001b[0m\n",
      "\u001b[32m[2025-01-09 23:42:11]\u001b[0m \u001b[34m\u001b[1mDEBUG | Response: [TextResponse(text=\"Excellent! The jazz music is now playing at a lower volume of 0.3.\\n\\nRegarding your question about the BPM, I apologize that I don't have a tool to directly measure or report the BPM of the currently playing music. However, from the initial function result, we can see that the BPM of the jazz track that started playing is 120 BPM. Please note that this might change if the music changes to a different track.\\n\\nIs there anything else you'd like me to adjust with the music, such as changing the equalizer settings or switching to a different genre?\")]\u001b[0m\n"
     ]
    },
    {
     "name": "stdout",
     "output_type": "stream",
     "text": [
      "Excellent! The jazz music is now playing at a lower volume of 0.3.\n",
      "\n",
      "Regarding your question about the BPM, I apologize that I don't have a tool to directly measure or report the BPM of the currently playing music. However, from the initial function result, we can see that the BPM of the jazz track that started playing is 120 BPM. Please note that this might change if the music changes to a different track.\n",
      "\n",
      "Is there anything else you'd like me to adjust with the music, such as changing the equalizer settings or switching to a different genre?\n"
     ]
    }
   ],
   "source": [
    "response = claude_agent.generate_text(prompt)\n",
    "\n",
    "print(response.contents[0].text)"
   ]
  },
  {
   "cell_type": "code",
   "execution_count": 31,
   "metadata": {},
   "outputs": [
    {
     "name": "stderr",
     "output_type": "stream",
     "text": [
      "\u001b[32m[2025-01-09 23:42:11]\u001b[0m \u001b[34m\u001b[1mDEBUG | Prompt: [TextPrompt(text='Play some music, well, play jazz music and prefer to low volume. Also, I want to know the BPM.')]\u001b[0m\n",
      "\u001b[32m[2025-01-09 23:42:11]\u001b[0m \u001b[1mINFO | root: Generating text\u001b[0m\n",
      "\u001b[32m[2025-01-09 23:42:14]\u001b[0m \u001b[34m\u001b[1mDEBUG | Response: [TextResponse(text=\"Certainly! I'd be happy to help you play some jazz music at a low volume. Let's break this down into steps:\\n\\n1. Start playing jazz music\\n2. Lower the volume\\n\\nUnfortunately, I don't have a tool available to determine the BPM (Beats Per Minute) of the music. However, I can certainly help with playing the music and adjusting the volume.\\n\\nLet's start by playing jazz music and then adjusting the volume:\"), ToolCallResponse(name='start_music', args='{\"genre\": \"jazz\"}', call_id='toolu_014XsFDQqakvi3xesGcqnSwL')]\u001b[0m\n",
      "\u001b[32m[2025-01-09 23:42:14]\u001b[0m \u001b[1mINFO | Running tool: start_music\u001b[0m\n",
      "\u001b[32m[2025-01-09 23:42:14]\u001b[0m \u001b[1mINFO | Tool: start_music successfully ran.\u001b[0m\n",
      "\u001b[32m[2025-01-09 23:42:14]\u001b[0m \u001b[34m\u001b[1mDEBUG | Prompt: [ToolUsePrompt(output='Starting music! Genre: jazz, Volume: 0.16390952564113026, BPM: 120', error=None, call_id='toolu_014XsFDQqakvi3xesGcqnSwL', args='{\"genre\": \"jazz\"}', name='start_music')]\u001b[0m\n",
      "\u001b[32m[2025-01-09 23:42:14]\u001b[0m \u001b[1mINFO | root: Generating text\u001b[0m\n",
      "\u001b[32m[2025-01-09 23:42:16]\u001b[0m \u001b[34m\u001b[1mDEBUG | Response: [TextResponse(text=\"Great! The jazz music has started playing. Now, let's lower the volume. Since you mentioned you prefer a low volume, I'll set it to 0.3 (on a scale of 0.0 to 1.0, where 0.0 is muted and 1.0 is maximum volume):\"), ToolCallResponse(name='change_music_volume', args='{\"volume\": 0.3}', call_id='toolu_01MgEZBBeKjZCvDWfbqPH1Bt')]\u001b[0m\n",
      "\u001b[32m[2025-01-09 23:42:16]\u001b[0m \u001b[1mINFO | Running tool: change_music_volume\u001b[0m\n",
      "\u001b[32m[2025-01-09 23:42:16]\u001b[0m \u001b[1mINFO | Tool: change_music_volume successfully ran.\u001b[0m\n",
      "\u001b[32m[2025-01-09 23:42:16]\u001b[0m \u001b[34m\u001b[1mDEBUG | Prompt: [ToolUsePrompt(output='Changing volume to 0.3', error=None, call_id='toolu_01MgEZBBeKjZCvDWfbqPH1Bt', args='{\"volume\": 0.3}', name='change_music_volume')]\u001b[0m\n",
      "\u001b[32m[2025-01-09 23:42:16]\u001b[0m \u001b[1mINFO | root: Generating text\u001b[0m\n",
      "\u001b[32m[2025-01-09 23:42:19]\u001b[0m \u001b[34m\u001b[1mDEBUG | Response: [TextResponse(text=\"Excellent! The jazz music is now playing at a lower volume of 0.3.\\n\\nRegarding your question about the BPM, I apologize that I don't have a tool to determine that information. However, the system did provide some information when we started the music. According to the function results, the BPM of the current jazz track is 120.\\n\\nIs there anything else you'd like me to adjust with the music, such as changing the equalizer settings or switching to a different genre?\")]\u001b[0m\n"
     ]
    },
    {
     "name": "stdout",
     "output_type": "stream",
     "text": [
      "Excellent! The jazz music is now playing at a lower volume of 0.3.\n",
      "\n",
      "Regarding your question about the BPM, I apologize that I don't have a tool to determine that information. However, the system did provide some information when we started the music. According to the function results, the BPM of the current jazz track is 120.\n",
      "\n",
      "Is there anything else you'd like me to adjust with the music, such as changing the equalizer settings or switching to a different genre?\n"
     ]
    }
   ],
   "source": [
    "response = await claude_agent.generate_text_async(prompt)\n",
    "\n",
    "print(response.contents[0].text)"
   ]
  },
  {
   "cell_type": "code",
   "execution_count": 32,
   "metadata": {},
   "outputs": [
    {
     "name": "stderr",
     "output_type": "stream",
     "text": [
      "\u001b[32m[2025-01-09 23:42:19]\u001b[0m \u001b[34m\u001b[1mDEBUG | Prompt: [TextPrompt(text='Play some music, well, play jazz music and prefer to low volume. Also, I want to know the BPM.')]\u001b[0m\n",
      "\u001b[32m[2025-01-09 23:42:19]\u001b[0m \u001b[1mINFO | root: Generating text\u001b[0m\n"
     ]
    },
    {
     "name": "stdout",
     "output_type": "stream",
     "text": [
      "Certainly! I'\n",
      "Certainly! I'd be happy to help you play some\n",
      "Certainly! I'd be happy to help you play some jazz music at a low volume.\n",
      "Certainly! I'd be happy to help you play some jazz music at a low volume. Let's break this down into steps:\n",
      "\n",
      "1. Start\n",
      "Certainly! I'd be happy to help you play some jazz music at a low volume. Let's break this down into steps:\n",
      "\n",
      "1. Start playing jazz music\n",
      "2. Lower\n",
      "Certainly! I'd be happy to help you play some jazz music at a low volume. Let's break this down into steps:\n",
      "\n",
      "1. Start playing jazz music\n",
      "2. Lower the volume\n",
      "\n",
      "Unfortunately, I don't have a tool\n",
      "Certainly! I'd be happy to help you play some jazz music at a low volume. Let's break this down into steps:\n",
      "\n",
      "1. Start playing jazz music\n",
      "2. Lower the volume\n",
      "\n",
      "Unfortunately, I don't have a tool available to determine the BPM (\n",
      "Certainly! I'd be happy to help you play some jazz music at a low volume. Let's break this down into steps:\n",
      "\n",
      "1. Start playing jazz music\n",
      "2. Lower the volume\n",
      "\n",
      "Unfortunately, I don't have a tool available to determine the BPM (Beats Per Minute) of the music.\n",
      "Certainly! I'd be happy to help you play some jazz music at a low volume. Let's break this down into steps:\n",
      "\n",
      "1. Start playing jazz music\n",
      "2. Lower the volume\n",
      "\n",
      "Unfortunately, I don't have a tool available to determine the BPM (Beats Per Minute) of the music. However, I can certainly help with playing the\n",
      "Certainly! I'd be happy to help you play some jazz music at a low volume. Let's break this down into steps:\n",
      "\n",
      "1. Start playing jazz music\n",
      "2. Lower the volume\n",
      "\n",
      "Unfortunately, I don't have a tool available to determine the BPM (Beats Per Minute) of the music. However, I can certainly help with playing the music and adjusting the volume\n",
      "Certainly! I'd be happy to help you play some jazz music at a low volume. Let's break this down into steps:\n",
      "\n",
      "1. Start playing jazz music\n",
      "2. Lower the volume\n",
      "\n",
      "Unfortunately, I don't have a tool available to determine the BPM (Beats Per Minute) of the music. However, I can certainly help with playing the music and adjusting the volume.\n",
      "\n",
      "Let's start by\n",
      "Certainly! I'd be happy to help you play some jazz music at a low volume. Let's break this down into steps:\n",
      "\n",
      "1. Start playing jazz music\n",
      "2. Lower the volume\n",
      "\n",
      "Unfortunately, I don't have a tool available to determine the BPM (Beats Per Minute) of the music. However, I can certainly help with playing the music and adjusting the volume.\n",
      "\n",
      "Let's start by playing jazz music and then adjust\n",
      "Certainly! I'd be happy to help you play some jazz music at a low volume. Let's break this down into steps:\n",
      "\n",
      "1. Start playing jazz music\n",
      "2. Lower the volume\n",
      "\n",
      "Unfortunately, I don't have a tool available to determine the BPM (Beats Per Minute) of the music. However, I can certainly help with playing the music and adjusting the volume.\n",
      "\n",
      "Let's start by playing jazz music and then adjusting the volume:\n",
      "{\"genre\":\n",
      "{\"genre\": \"jazz\"}\n"
     ]
    },
    {
     "name": "stderr",
     "output_type": "stream",
     "text": [
      "\u001b[32m[2025-01-09 23:42:23]\u001b[0m \u001b[34m\u001b[1mDEBUG | Response: [TextResponse(text=\"Certainly! I'd be happy to help you play some jazz music at a low volume. Let's break this down into steps:\\n\\n1. Start playing jazz music\\n2. Lower the volume\\n\\nUnfortunately, I don't have a tool available to determine the BPM (Beats Per Minute) of the music. However, I can certainly help with playing the music and adjusting the volume.\\n\\nLet's start by playing jazz music and then adjusting the volume:\"), ToolCallResponse(name='start_music', args='{\"genre\": \"jazz\"}', call_id='toolu_013mMXMxzJ6wgFNW2ebqDgx1')]\u001b[0m\n",
      "\u001b[32m[2025-01-09 23:42:23]\u001b[0m \u001b[1mINFO | Running tool: start_music\u001b[0m\n",
      "\u001b[32m[2025-01-09 23:42:23]\u001b[0m \u001b[1mINFO | Tool: start_music successfully ran.\u001b[0m\n",
      "\u001b[32m[2025-01-09 23:42:23]\u001b[0m \u001b[34m\u001b[1mDEBUG | Prompt: [ToolUsePrompt(output='Starting music! Genre: jazz, Volume: 0.1599102332895712, BPM: 120', error=None, call_id='toolu_013mMXMxzJ6wgFNW2ebqDgx1', args='{\"genre\": \"jazz\"}', name='start_music')]\u001b[0m\n",
      "\u001b[32m[2025-01-09 23:42:23]\u001b[0m \u001b[1mINFO | root: Generating text\u001b[0m\n"
     ]
    },
    {
     "name": "stdout",
     "output_type": "stream",
     "text": [
      "Great! The jazz\n",
      "Great! The jazz music has started playing. Now\n",
      "Great! The jazz music has started playing. Now, let's lower the volume.\n",
      "Great! The jazz music has started playing. Now, let's lower the volume. Since you mentioned you prefer a low volume,\n",
      "Great! The jazz music has started playing. Now, let's lower the volume. Since you mentioned you prefer a low volume, I'll set it to 0.2\n",
      "Great! The jazz music has started playing. Now, let's lower the volume. Since you mentioned you prefer a low volume, I'll set it to 0.2 (on a scale of 0.\n",
      "Great! The jazz music has started playing. Now, let's lower the volume. Since you mentioned you prefer a low volume, I'll set it to 0.2 (on a scale of 0.0 to 1.0,\n",
      "Great! The jazz music has started playing. Now, let's lower the volume. Since you mentioned you prefer a low volume, I'll set it to 0.2 (on a scale of 0.0 to 1.0, where 0.0 is m\n",
      "Great! The jazz music has started playing. Now, let's lower the volume. Since you mentioned you prefer a low volume, I'll set it to 0.2 (on a scale of 0.0 to 1.0, where 0.0 is muted and 1.0 is maximum\n",
      "Great! The jazz music has started playing. Now, let's lower the volume. Since you mentioned you prefer a low volume, I'll set it to 0.2 (on a scale of 0.0 to 1.0, where 0.0 is muted and 1.0 is maximum volume):\n",
      "{\"volume\":\n",
      "{\"volume\": 0.2}\n"
     ]
    },
    {
     "name": "stderr",
     "output_type": "stream",
     "text": [
      "\u001b[32m[2025-01-09 23:42:26]\u001b[0m \u001b[34m\u001b[1mDEBUG | Response: [TextResponse(text=\"Great! The jazz music has started playing. Now, let's lower the volume. Since you mentioned you prefer a low volume, I'll set it to 0.2 (on a scale of 0.0 to 1.0, where 0.0 is muted and 1.0 is maximum volume):\"), ToolCallResponse(name='change_music_volume', args='{\"volume\": 0.2}', call_id='toolu_01JgJPF2dKbrMxdZ3p1CA43j')]\u001b[0m\n",
      "\u001b[32m[2025-01-09 23:42:26]\u001b[0m \u001b[1mINFO | Running tool: change_music_volume\u001b[0m\n",
      "\u001b[32m[2025-01-09 23:42:26]\u001b[0m \u001b[1mINFO | Tool: change_music_volume successfully ran.\u001b[0m\n",
      "\u001b[32m[2025-01-09 23:42:26]\u001b[0m \u001b[34m\u001b[1mDEBUG | Prompt: [ToolUsePrompt(output='Changing volume to 0.2', error=None, call_id='toolu_01JgJPF2dKbrMxdZ3p1CA43j', args='{\"volume\": 0.2}', name='change_music_volume')]\u001b[0m\n",
      "\u001b[32m[2025-01-09 23:42:26]\u001b[0m \u001b[1mINFO | root: Generating text\u001b[0m\n"
     ]
    },
    {
     "name": "stdout",
     "output_type": "stream",
     "text": [
      "Excellent! The jazz music is now playing at\n",
      "Excellent! The jazz music is now playing at a lower volume of 0.2.\n",
      "Excellent! The jazz music is now playing at a lower volume of 0.2.\n",
      "\n",
      "Regarding your question about the BPM, I\n",
      "Excellent! The jazz music is now playing at a lower volume of 0.2.\n",
      "\n",
      "Regarding your question about the BPM, I apologize that I don't have a tool to\n",
      "Excellent! The jazz music is now playing at a lower volume of 0.2.\n",
      "\n",
      "Regarding your question about the BPM, I apologize that I don't have a tool to directly measure or report the BPM of the currently\n",
      "Excellent! The jazz music is now playing at a lower volume of 0.2.\n",
      "\n",
      "Regarding your question about the BPM, I apologize that I don't have a tool to directly measure or report the BPM of the currently playing music. However, from the initial\n",
      "Excellent! The jazz music is now playing at a lower volume of 0.2.\n",
      "\n",
      "Regarding your question about the BPM, I apologize that I don't have a tool to directly measure or report the BPM of the currently playing music. However, from the initial function result, we can see that\n",
      "Excellent! The jazz music is now playing at a lower volume of 0.2.\n",
      "\n",
      "Regarding your question about the BPM, I apologize that I don't have a tool to directly measure or report the BPM of the currently playing music. However, from the initial function result, we can see that the BPM of the jazz track\n",
      "Excellent! The jazz music is now playing at a lower volume of 0.2.\n",
      "\n",
      "Regarding your question about the BPM, I apologize that I don't have a tool to directly measure or report the BPM of the currently playing music. However, from the initial function result, we can see that the BPM of the jazz track that started playing is 120\n",
      "Excellent! The jazz music is now playing at a lower volume of 0.2.\n",
      "\n",
      "Regarding your question about the BPM, I apologize that I don't have a tool to directly measure or report the BPM of the currently playing music. However, from the initial function result, we can see that the BPM of the jazz track that started playing is 120 BPM. Please note that this may\n",
      "Excellent! The jazz music is now playing at a lower volume of 0.2.\n",
      "\n",
      "Regarding your question about the BPM, I apologize that I don't have a tool to directly measure or report the BPM of the currently playing music. However, from the initial function result, we can see that the BPM of the jazz track that started playing is 120 BPM. Please note that this may vary if the music changes to\n",
      "Excellent! The jazz music is now playing at a lower volume of 0.2.\n",
      "\n",
      "Regarding your question about the BPM, I apologize that I don't have a tool to directly measure or report the BPM of the currently playing music. However, from the initial function result, we can see that the BPM of the jazz track that started playing is 120 BPM. Please note that this may vary if the music changes to a different track.\n",
      "\n",
      "Is there anything else\n",
      "Excellent! The jazz music is now playing at a lower volume of 0.2.\n",
      "\n",
      "Regarding your question about the BPM, I apologize that I don't have a tool to directly measure or report the BPM of the currently playing music. However, from the initial function result, we can see that the BPM of the jazz track that started playing is 120 BPM. Please note that this may vary if the music changes to a different track.\n",
      "\n",
      "Is there anything else you'd like me to adjust with the music,\n",
      "Excellent! The jazz music is now playing at a lower volume of 0.2.\n",
      "\n",
      "Regarding your question about the BPM, I apologize that I don't have a tool to directly measure or report the BPM of the currently playing music. However, from the initial function result, we can see that the BPM of the jazz track that started playing is 120 BPM. Please note that this may vary if the music changes to a different track.\n",
      "\n",
      "Is there anything else you'd like me to adjust with the music, such as changing the equalizer settings or switching to\n",
      "Excellent! The jazz music is now playing at a lower volume of 0.2.\n",
      "\n",
      "Regarding your question about the BPM, I apologize that I don't have a tool to directly measure or report the BPM of the currently playing music. However, from the initial function result, we can see that the BPM of the jazz track that started playing is 120 BPM. Please note that this may vary if the music changes to a different track.\n",
      "\n",
      "Is there anything else you'd like me to adjust with the music, such as changing the equalizer settings or switching to a different genre?\n"
     ]
    },
    {
     "name": "stderr",
     "output_type": "stream",
     "text": [
      "\u001b[32m[2025-01-09 23:42:28]\u001b[0m \u001b[34m\u001b[1mDEBUG | Response: [TextResponse(text=\"Excellent! The jazz music is now playing at a lower volume of 0.2.\\n\\nRegarding your question about the BPM, I apologize that I don't have a tool to directly measure or report the BPM of the currently playing music. However, from the initial function result, we can see that the BPM of the jazz track that started playing is 120 BPM. Please note that this may vary if the music changes to a different track.\\n\\nIs there anything else you'd like me to adjust with the music, such as changing the equalizer settings or switching to a different genre?\")]\u001b[0m\n"
     ]
    },
    {
     "name": "stdout",
     "output_type": "stream",
     "text": [
      "Excellent! The jazz music is now playing at a lower volume of 0.2.\n",
      "\n",
      "Regarding your question about the BPM, I apologize that I don't have a tool to directly measure or report the BPM of the currently playing music. However, from the initial function result, we can see that the BPM of the jazz track that started playing is 120 BPM. Please note that this may vary if the music changes to a different track.\n",
      "\n",
      "Is there anything else you'd like me to adjust with the music, such as changing the equalizer settings or switching to a different genre?\n"
     ]
    }
   ],
   "source": [
    "streamed_response = claude_agent.stream_text(prompt)\n",
    "\n",
    "for chunk in streamed_response:\n",
    "    for content in chunk.contents:\n",
    "        if isinstance(content, TextResponse):\n",
    "            print(content.text, flush=True)\n",
    "        elif isinstance(content, ToolCallResponse):\n",
    "            print(content.args, flush=True)"
   ]
  },
  {
   "cell_type": "code",
   "execution_count": 33,
   "metadata": {},
   "outputs": [
    {
     "name": "stderr",
     "output_type": "stream",
     "text": [
      "\u001b[32m[2025-01-09 23:42:28]\u001b[0m \u001b[34m\u001b[1mDEBUG | Prompt: [TextPrompt(text='Play some music, well, play jazz music and prefer to low volume. Also, I want to know the BPM.')]\u001b[0m\n",
      "\u001b[32m[2025-01-09 23:42:28]\u001b[0m \u001b[1mINFO | root: Generating text\u001b[0m\n"
     ]
    },
    {
     "name": "stdout",
     "output_type": "stream",
     "text": [
      "Certainly! I'\n",
      "Certainly! I'd be happy to help you play some jazz music at a low\n",
      "Certainly! I'd be happy to help you play some jazz music at a low volume. Let's break this down into steps\n",
      "Certainly! I'd be happy to help you play some jazz music at a low volume. Let's break this down into steps:\n",
      "\n",
      "1. Start playing jazz music\n",
      "2\n",
      "Certainly! I'd be happy to help you play some jazz music at a low volume. Let's break this down into steps:\n",
      "\n",
      "1. Start playing jazz music\n",
      "2. Lower the volume\n",
      "\n",
      "Unfortunately, I don't have a tool\n",
      "Certainly! I'd be happy to help you play some jazz music at a low volume. Let's break this down into steps:\n",
      "\n",
      "1. Start playing jazz music\n",
      "2. Lower the volume\n",
      "\n",
      "Unfortunately, I don't have a tool available to determine the BPM (\n",
      "Certainly! I'd be happy to help you play some jazz music at a low volume. Let's break this down into steps:\n",
      "\n",
      "1. Start playing jazz music\n",
      "2. Lower the volume\n",
      "\n",
      "Unfortunately, I don't have a tool available to determine the BPM (Beats Per Minute) of the music.\n",
      "Certainly! I'd be happy to help you play some jazz music at a low volume. Let's break this down into steps:\n",
      "\n",
      "1. Start playing jazz music\n",
      "2. Lower the volume\n",
      "\n",
      "Unfortunately, I don't have a tool available to determine the BPM (Beats Per Minute) of the music. However, I can certainly help with playing\n",
      "Certainly! I'd be happy to help you play some jazz music at a low volume. Let's break this down into steps:\n",
      "\n",
      "1. Start playing jazz music\n",
      "2. Lower the volume\n",
      "\n",
      "Unfortunately, I don't have a tool available to determine the BPM (Beats Per Minute) of the music. However, I can certainly help with playing the music and adjusting the volume.\n",
      "Certainly! I'd be happy to help you play some jazz music at a low volume. Let's break this down into steps:\n",
      "\n",
      "1. Start playing jazz music\n",
      "2. Lower the volume\n",
      "\n",
      "Unfortunately, I don't have a tool available to determine the BPM (Beats Per Minute) of the music. However, I can certainly help with playing the music and adjusting the volume.\n",
      "\n",
      "Let's start by playing jazz\n",
      "Certainly! I'd be happy to help you play some jazz music at a low volume. Let's break this down into steps:\n",
      "\n",
      "1. Start playing jazz music\n",
      "2. Lower the volume\n",
      "\n",
      "Unfortunately, I don't have a tool available to determine the BPM (Beats Per Minute) of the music. However, I can certainly help with playing the music and adjusting the volume.\n",
      "\n",
      "Let's start by playing jazz music and then adjusting the volume:\n",
      "{\"genre\": \"\n",
      "{\"genre\": \"jazz\"}\n"
     ]
    },
    {
     "name": "stderr",
     "output_type": "stream",
     "text": [
      "\u001b[32m[2025-01-09 23:42:31]\u001b[0m \u001b[34m\u001b[1mDEBUG | Response: [TextResponse(text=\"Certainly! I'd be happy to help you play some jazz music at a low volume. Let's break this down into steps:\\n\\n1. Start playing jazz music\\n2. Lower the volume\\n\\nUnfortunately, I don't have a tool available to determine the BPM (Beats Per Minute) of the music. However, I can certainly help with playing the music and adjusting the volume.\\n\\nLet's start by playing jazz music and then adjusting the volume:\"), ToolCallResponse(name='start_music', args='{\"genre\": \"jazz\"}', call_id='toolu_019HjTSPH8b8Av9zSWMvrn9K')]\u001b[0m\n",
      "\u001b[32m[2025-01-09 23:42:31]\u001b[0m \u001b[1mINFO | Running tool: start_music\u001b[0m\n",
      "\u001b[32m[2025-01-09 23:42:31]\u001b[0m \u001b[1mINFO | Tool: start_music successfully ran.\u001b[0m\n",
      "\u001b[32m[2025-01-09 23:42:31]\u001b[0m \u001b[34m\u001b[1mDEBUG | Prompt: [ToolUsePrompt(output='Starting music! Genre: jazz, Volume: 0.24923915231653593, BPM: 120', error=None, call_id='toolu_019HjTSPH8b8Av9zSWMvrn9K', args='{\"genre\": \"jazz\"}', name='start_music')]\u001b[0m\n",
      "\u001b[32m[2025-01-09 23:42:31]\u001b[0m \u001b[1mINFO | root: Generating text\u001b[0m\n"
     ]
    },
    {
     "name": "stdout",
     "output_type": "stream",
     "text": [
      "Great! The jazz\n",
      "Great! The jazz music has started playing. Now, let's lower the\n",
      "Great! The jazz music has started playing. Now, let's lower the volume. Since you mentioned you\n",
      "Great! The jazz music has started playing. Now, let's lower the volume. Since you mentioned you prefer a low volume, I'll set it to\n",
      "Great! The jazz music has started playing. Now, let's lower the volume. Since you mentioned you prefer a low volume, I'll set it to 0.2 (\n",
      "Great! The jazz music has started playing. Now, let's lower the volume. Since you mentioned you prefer a low volume, I'll set it to 0.2 (on a scale of 0.\n",
      "Great! The jazz music has started playing. Now, let's lower the volume. Since you mentioned you prefer a low volume, I'll set it to 0.2 (on a scale of 0.0 to 1.0,\n",
      "Great! The jazz music has started playing. Now, let's lower the volume. Since you mentioned you prefer a low volume, I'll set it to 0.2 (on a scale of 0.0 to 1.0, where 0.0 is m\n",
      "Great! The jazz music has started playing. Now, let's lower the volume. Since you mentioned you prefer a low volume, I'll set it to 0.2 (on a scale of 0.0 to 1.0, where 0.0 is muted and 1.\n",
      "Great! The jazz music has started playing. Now, let's lower the volume. Since you mentioned you prefer a low volume, I'll set it to 0.2 (on a scale of 0.0 to 1.0, where 0.0 is muted and 1.0 is maximum volume):\n",
      "{\"volum\n",
      "{\"volume\": 0.2}\n"
     ]
    },
    {
     "name": "stderr",
     "output_type": "stream",
     "text": [
      "\u001b[32m[2025-01-09 23:42:34]\u001b[0m \u001b[34m\u001b[1mDEBUG | Response: [TextResponse(text=\"Great! The jazz music has started playing. Now, let's lower the volume. Since you mentioned you prefer a low volume, I'll set it to 0.2 (on a scale of 0.0 to 1.0, where 0.0 is muted and 1.0 is maximum volume):\"), ToolCallResponse(name='change_music_volume', args='{\"volume\": 0.2}', call_id='toolu_014doCQwofvx5rnbNoVSLxTp')]\u001b[0m\n",
      "\u001b[32m[2025-01-09 23:42:34]\u001b[0m \u001b[1mINFO | Running tool: change_music_volume\u001b[0m\n",
      "\u001b[32m[2025-01-09 23:42:34]\u001b[0m \u001b[1mINFO | Tool: change_music_volume successfully ran.\u001b[0m\n",
      "\u001b[32m[2025-01-09 23:42:34]\u001b[0m \u001b[34m\u001b[1mDEBUG | Prompt: [ToolUsePrompt(output='Changing volume to 0.2', error=None, call_id='toolu_014doCQwofvx5rnbNoVSLxTp', args='{\"volume\": 0.2}', name='change_music_volume')]\u001b[0m\n",
      "\u001b[32m[2025-01-09 23:42:34]\u001b[0m \u001b[1mINFO | root: Generating text\u001b[0m\n"
     ]
    },
    {
     "name": "stdout",
     "output_type": "stream",
     "text": [
      "Excellent! The jazz music is now playing at\n",
      "Excellent! The jazz music is now playing at a lower volume of 0.2.\n",
      "Excellent! The jazz music is now playing at a lower volume of 0.2.\n",
      "\n",
      "Regarding the BPM, while\n",
      "Excellent! The jazz music is now playing at a lower volume of 0.2.\n",
      "\n",
      "Regarding the BPM, while I don't have a tool to measure\n",
      "Excellent! The jazz music is now playing at a lower volume of 0.2.\n",
      "\n",
      "Regarding the BPM, while I don't have a tool to measure it directly, the system provide\n",
      "Excellent! The jazz music is now playing at a lower volume of 0.2.\n",
      "\n",
      "Regarding the BPM, while I don't have a tool to measure it directly, the system provided some information when we started the music. According\n",
      "Excellent! The jazz music is now playing at a lower volume of 0.2.\n",
      "\n",
      "Regarding the BPM, while I don't have a tool to measure it directly, the system provided some information when we started the music. According to that information, the current\n",
      "Excellent! The jazz music is now playing at a lower volume of 0.2.\n",
      "\n",
      "Regarding the BPM, while I don't have a tool to measure it directly, the system provided some information when we started the music. According to that information, the current jazz track has a BPM of 120.\n",
      "Excellent! The jazz music is now playing at a lower volume of 0.2.\n",
      "\n",
      "Regarding the BPM, while I don't have a tool to measure it directly, the system provided some information when we started the music. According to that information, the current jazz track has a BPM of 120.\n",
      "\n",
      "To summarize:\n",
      "1. Jazz music is now\n",
      "Excellent! The jazz music is now playing at a lower volume of 0.2.\n",
      "\n",
      "Regarding the BPM, while I don't have a tool to measure it directly, the system provided some information when we started the music. According to that information, the current jazz track has a BPM of 120.\n",
      "\n",
      "To summarize:\n",
      "1. Jazz music is now playing\n",
      "2. The volume has\n",
      "Excellent! The jazz music is now playing at a lower volume of 0.2.\n",
      "\n",
      "Regarding the BPM, while I don't have a tool to measure it directly, the system provided some information when we started the music. According to that information, the current jazz track has a BPM of 120.\n",
      "\n",
      "To summarize:\n",
      "1. Jazz music is now playing\n",
      "2. The volume has been set to a low level (\n",
      "Excellent! The jazz music is now playing at a lower volume of 0.2.\n",
      "\n",
      "Regarding the BPM, while I don't have a tool to measure it directly, the system provided some information when we started the music. According to that information, the current jazz track has a BPM of 120.\n",
      "\n",
      "To summarize:\n",
      "1. Jazz music is now playing\n",
      "2. The volume has been set to a low level (0.2 out of 1.0\n",
      "Excellent! The jazz music is now playing at a lower volume of 0.2.\n",
      "\n",
      "Regarding the BPM, while I don't have a tool to measure it directly, the system provided some information when we started the music. According to that information, the current jazz track has a BPM of 120.\n",
      "\n",
      "To summarize:\n",
      "1. Jazz music is now playing\n",
      "2. The volume has been set to a low level (0.2 out of 1.0)\n",
      "3. The current\n",
      "Excellent! The jazz music is now playing at a lower volume of 0.2.\n",
      "\n",
      "Regarding the BPM, while I don't have a tool to measure it directly, the system provided some information when we started the music. According to that information, the current jazz track has a BPM of 120.\n",
      "\n",
      "To summarize:\n",
      "1. Jazz music is now playing\n",
      "2. The volume has been set to a low level (0.2 out of 1.0)\n",
      "3. The current track has a BPM\n",
      "Excellent! The jazz music is now playing at a lower volume of 0.2.\n",
      "\n",
      "Regarding the BPM, while I don't have a tool to measure it directly, the system provided some information when we started the music. According to that information, the current jazz track has a BPM of 120.\n",
      "\n",
      "To summarize:\n",
      "1. Jazz music is now playing\n",
      "2. The volume has been set to a low level (0.2 out of 1.0)\n",
      "3. The current track has a BPM of 120\n",
      "\n",
      "Is there anything else you'\n",
      "Excellent! The jazz music is now playing at a lower volume of 0.2.\n",
      "\n",
      "Regarding the BPM, while I don't have a tool to measure it directly, the system provided some information when we started the music. According to that information, the current jazz track has a BPM of 120.\n",
      "\n",
      "To summarize:\n",
      "1. Jazz music is now playing\n",
      "2. The volume has been set to a low level (0.2 out of 1.0)\n",
      "3. The current track has a BPM of 120\n",
      "\n",
      "Is there anything else you'd like me to adjust with the music,\n",
      "Excellent! The jazz music is now playing at a lower volume of 0.2.\n",
      "\n",
      "Regarding the BPM, while I don't have a tool to measure it directly, the system provided some information when we started the music. According to that information, the current jazz track has a BPM of 120.\n",
      "\n",
      "To summarize:\n",
      "1. Jazz music is now playing\n",
      "2. The volume has been set to a low level (0.2 out of 1.0)\n",
      "3. The current track has a BPM of 120\n",
      "\n",
      "Is there anything else you'd like me to adjust with the music, or do you have any other questions?\n"
     ]
    },
    {
     "name": "stderr",
     "output_type": "stream",
     "text": [
      "\u001b[32m[2025-01-09 23:42:37]\u001b[0m \u001b[34m\u001b[1mDEBUG | Response: [TextResponse(text=\"Excellent! The jazz music is now playing at a lower volume of 0.2.\\n\\nRegarding the BPM, while I don't have a tool to measure it directly, the system provided some information when we started the music. According to that information, the current jazz track has a BPM of 120.\\n\\nTo summarize:\\n1. Jazz music is now playing\\n2. The volume has been set to a low level (0.2 out of 1.0)\\n3. The current track has a BPM of 120\\n\\nIs there anything else you'd like me to adjust with the music, or do you have any other questions?\")]\u001b[0m\n"
     ]
    },
    {
     "name": "stdout",
     "output_type": "stream",
     "text": [
      "Excellent! The jazz music is now playing at a lower volume of 0.2.\n",
      "\n",
      "Regarding the BPM, while I don't have a tool to measure it directly, the system provided some information when we started the music. According to that information, the current jazz track has a BPM of 120.\n",
      "\n",
      "To summarize:\n",
      "1. Jazz music is now playing\n",
      "2. The volume has been set to a low level (0.2 out of 1.0)\n",
      "3. The current track has a BPM of 120\n",
      "\n",
      "Is there anything else you'd like me to adjust with the music, or do you have any other questions?\n"
     ]
    }
   ],
   "source": [
    "streamed_response = claude_agent.stream_text_async(prompt)\n",
    "\n",
    "async for chunk in streamed_response:\n",
    "    for content in chunk.contents:\n",
    "        if isinstance(content, TextResponse):\n",
    "            print(content.text, flush=True)\n",
    "        elif isinstance(content, ToolCallResponse):\n",
    "            print(content.args, flush=True)"
   ]
  },
  {
   "cell_type": "markdown",
   "metadata": {},
   "source": [
    "# Structured output using tool calling"
   ]
  },
  {
   "cell_type": "markdown",
   "metadata": {},
   "source": [
    "## Response schema as a tool"
   ]
  },
  {
   "cell_type": "markdown",
   "metadata": {},
   "source": [
    "Structured output in langrila is just tool calling (please refer to [01.introduction.ipynb](./01.introduction.ipynb)), so you can get structured response even if you are using tool calling."
   ]
  },
  {
   "cell_type": "code",
   "execution_count": 34,
   "metadata": {},
   "outputs": [],
   "source": [
    "from pydantic import BaseModel, Field\n",
    "\n",
    "\n",
    "class RessponseSchema(BaseModel):\n",
    "    genre: MusicGenre = Field(\n",
    "        ...,\n",
    "        description=\"The genre of music.\",\n",
    "    )\n",
    "    bpm: int = Field(\n",
    "        ...,\n",
    "        description=\"The beats per minute of the music.\",\n",
    "        ge=50,\n",
    "        le=200,\n",
    "    )\n",
    "    volume: float = Field(\n",
    "        ...,\n",
    "        description=\"The volume level of the music.\",\n",
    "        ge=0,\n",
    "        le=1,\n",
    "    )\n",
    "    equalizer_settings: EqualizerSettings = Field(\n",
    "        ...,\n",
    "        description=\"The equalizer settings.\",\n",
    "    )"
   ]
  },
  {
   "cell_type": "code",
   "execution_count": 35,
   "metadata": {},
   "outputs": [],
   "source": [
    "openai_agent = Agent(\n",
    "    client=openai_client,\n",
    "    model=\"gpt-4o-mini-2024-07-18\",\n",
    "    temperature=0.0,\n",
    "    tools=tools,\n",
    "    # planning=True,\n",
    "    response_schema_as_tool=RessponseSchema,\n",
    ")"
   ]
  },
  {
   "cell_type": "code",
   "execution_count": 36,
   "metadata": {},
   "outputs": [
    {
     "name": "stderr",
     "output_type": "stream",
     "text": [
      "\u001b[32m[2025-01-09 23:42:37]\u001b[0m \u001b[34m\u001b[1mDEBUG | Prompt: [TextPrompt(text='Play some music, well, play jazz music and prefer to low volume. Also, I want to know the BPM.')]\u001b[0m\n",
      "\u001b[32m[2025-01-09 23:42:37]\u001b[0m \u001b[1mINFO | root: Generating text\u001b[0m\n",
      "\u001b[32m[2025-01-09 23:42:38]\u001b[0m \u001b[34m\u001b[1mDEBUG | Response: [ToolCallResponse(name='start_music', args='{\"genre\":\"jazz\"}', call_id='call_QgLHEKuNhBOt4ZO9KV4Tdv9b')]\u001b[0m\n",
      "\u001b[32m[2025-01-09 23:42:38]\u001b[0m \u001b[1mINFO | Running tool: start_music\u001b[0m\n",
      "\u001b[32m[2025-01-09 23:42:38]\u001b[0m \u001b[1mINFO | Tool: start_music successfully ran.\u001b[0m\n",
      "\u001b[32m[2025-01-09 23:42:38]\u001b[0m \u001b[34m\u001b[1mDEBUG | Prompt: [ToolUsePrompt(output='Starting music! Genre: jazz, Volume: 0.6994507065665946, BPM: 120', error=None, call_id='call_QgLHEKuNhBOt4ZO9KV4Tdv9b', args='{\"genre\":\"jazz\"}', name='start_music')]\u001b[0m\n",
      "\u001b[32m[2025-01-09 23:42:38]\u001b[0m \u001b[1mINFO | root: Generating text\u001b[0m\n",
      "\u001b[32m[2025-01-09 23:42:39]\u001b[0m \u001b[34m\u001b[1mDEBUG | Response: [ToolCallResponse(name='change_music_volume', args='{\"volume\":0.2}', call_id='call_tp81IJcd4eeR9ZWkqmWiRvB9')]\u001b[0m\n",
      "\u001b[32m[2025-01-09 23:42:39]\u001b[0m \u001b[1mINFO | Running tool: change_music_volume\u001b[0m\n",
      "\u001b[32m[2025-01-09 23:42:39]\u001b[0m \u001b[1mINFO | Tool: change_music_volume successfully ran.\u001b[0m\n",
      "\u001b[32m[2025-01-09 23:42:39]\u001b[0m \u001b[34m\u001b[1mDEBUG | Prompt: [ToolUsePrompt(output='Changing volume to 0.2', error=None, call_id='call_tp81IJcd4eeR9ZWkqmWiRvB9', args='{\"volume\":0.2}', name='change_music_volume')]\u001b[0m\n",
      "\u001b[32m[2025-01-09 23:42:39]\u001b[0m \u001b[1mINFO | root: Generating text\u001b[0m\n",
      "\u001b[32m[2025-01-09 23:42:41]\u001b[0m \u001b[34m\u001b[1mDEBUG | Response: [TextResponse(text=\"I've started playing jazz music at a BPM of 120. The volume has been set to a low level of 0.2. Enjoy the music!\")]\u001b[0m\n",
      "\u001b[32m[2025-01-09 23:42:41]\u001b[0m \u001b[34m\u001b[1mDEBUG | Prompt: [TextPrompt(text=\"Decide the next action based on the conversation. If you have all information for answering the user, run 'final_result' tool. If you need more information, invoke other tool to get necessary information. \")]\u001b[0m\n",
      "\u001b[32m[2025-01-09 23:42:41]\u001b[0m \u001b[1mINFO | root: Generating text\u001b[0m\n",
      "\u001b[32m[2025-01-09 23:42:42]\u001b[0m \u001b[34m\u001b[1mDEBUG | Response: [ToolCallResponse(name='final_answer', args='{\"genre\":\"jazz\",\"bpm\":120,\"volume\":0.2,\"equalizer_settings\":{}}', call_id='call_2mHVSkzrxnf6fau3aKJpSyar')]\u001b[0m\n",
      "\u001b[32m[2025-01-09 23:42:42]\u001b[0m \u001b[1mINFO | Running tool: final_answer\u001b[0m\n",
      "\u001b[32m[2025-01-09 23:42:42]\u001b[0m \u001b[1mINFO | Tool: final_answer successfully ran.\u001b[0m\n",
      "\u001b[32m[2025-01-09 23:42:42]\u001b[0m \u001b[34m\u001b[1mDEBUG | Final result: [TextResponse(text='{\"genre\": \"jazz\", \"bpm\": 120, \"volume\": 0.2, \"equalizer_settings\": {}}')]\u001b[0m\n"
     ]
    },
    {
     "data": {
      "text/plain": [
       "RessponseSchema(genre=<MusicGenre.jazz: 'jazz'>, bpm=120, volume=0.2, equalizer_settings=EqualizerSettings(hz_100=0, hz_200=0, hz_400=0, hz_800=0, hz_1600=0, hz_3200=0, hz_6400=0))"
      ]
     },
     "execution_count": 36,
     "metadata": {},
     "output_type": "execute_result"
    }
   ],
   "source": [
    "response = openai_agent.generate_text(prompt)\n",
    "\n",
    "RessponseSchema.model_validate_json(response.contents[0].text)"
   ]
  },
  {
   "cell_type": "markdown",
   "metadata": {},
   "source": [
    "Same for other clients, so examples will be omitted."
   ]
  },
  {
   "cell_type": "markdown",
   "metadata": {},
   "source": [
    "## Native response schema"
   ]
  },
  {
   "cell_type": "markdown",
   "metadata": {},
   "source": [
    "If you want to use native structured output, you can specify the original parameters of LLM provider API. For example, for OpenAI API, you can use `response_format` parameter supported by OpenAI API natively. Please be aware of limitations of the API in this case."
   ]
  },
  {
   "cell_type": "code",
   "execution_count": 37,
   "metadata": {},
   "outputs": [],
   "source": [
    "from pydantic import BaseModel, Field\n",
    "\n",
    "\n",
    "# default value and range limitation are not supported by OpenAI API's response format\n",
    "class NativeEqualizerSettings(BaseModel):\n",
    "    hz_100: int = Field(\n",
    "        ...,\n",
    "        description=\"The 100 Hz band in dB. It should be between -12 and 12. Default is 0.\",\n",
    "    )\n",
    "    hz_200: int = Field(\n",
    "        ...,\n",
    "        description=\"The 200 Hz band in dB. It should be between -12 and 12. Default is 0.\",\n",
    "    )\n",
    "    hz_400: int = Field(\n",
    "        ...,\n",
    "        description=\"The 400 Hz band in dB. It should be between -12 and 12. Default is 0.\",\n",
    "    )\n",
    "    hz_800: int = Field(\n",
    "        ...,\n",
    "        description=\"The 800 Hz band in dB. It should be between -12 and 12. Default is 0.\",\n",
    "    )\n",
    "    hz_1600: int = Field(\n",
    "        ...,\n",
    "        description=\"The 1600 Hz band in dB. It should be between -12 and 12. Default is 0.\",\n",
    "    )\n",
    "    hz_3200: int = Field(\n",
    "        ...,\n",
    "        description=\"The 3200 Hz band in dB. It should be between -12 and 12. Default is 0.\",\n",
    "    )\n",
    "    hz_6400: int = Field(\n",
    "        ...,\n",
    "        description=\"The 4000 Hz band in dB. It should be between -12 and 12. Default is 0.\",\n",
    "    )\n",
    "\n",
    "\n",
    "class NativeResponseSchema(BaseModel):\n",
    "    genre: MusicGenre = Field(..., description=\"The genre of music to play.\")\n",
    "    bpm: int = Field(\n",
    "        ...,\n",
    "        description=\"The BPM of the music.\",\n",
    "    )\n",
    "    volume: float = Field(\n",
    "        ...,\n",
    "        description=\"The volume level to set the music to. It should be between 0.0 and 1.0.\",\n",
    "    )\n",
    "    equalizer_settings: NativeEqualizerSettings = Field(\n",
    "        ..., description=\"The equalizer settings to set.\"\n",
    "    )"
   ]
  },
  {
   "cell_type": "markdown",
   "metadata": {},
   "source": [
    "Re-definition to use native response format."
   ]
  },
  {
   "cell_type": "code",
   "execution_count": 44,
   "metadata": {},
   "outputs": [],
   "source": [
    "def change_equalizer_settings_native(settings: NativeEqualizerSettings) -> str:\n",
    "    \"\"\"\n",
    "    Change the equalizer settings of the music.\n",
    "\n",
    "    Parameters\n",
    "    ----------\n",
    "    settings : NativeEqualizerSettings\n",
    "        The new equalizer settings to set.\n",
    "\n",
    "    Returns\n",
    "    ----------\n",
    "    str\n",
    "        A message indicating that the equalizer settings have been changed.\n",
    "    \"\"\"\n",
    "    return f\"Changing equalizer settings to {settings.model_dump()}\""
   ]
  },
  {
   "cell_type": "code",
   "execution_count": 45,
   "metadata": {},
   "outputs": [],
   "source": [
    "tools_native = [start_music, change_music_volume, change_music, change_equalizer_settings_native]"
   ]
  },
  {
   "cell_type": "code",
   "execution_count": 46,
   "metadata": {},
   "outputs": [],
   "source": [
    "openai_agent_native = Agent(\n",
    "    client=openai_client,\n",
    "    model=\"gpt-4o-mini-2024-07-18\",\n",
    "    tools=tools_native,\n",
    "    response_format=NativeResponseSchema,\n",
    ")"
   ]
  },
  {
   "cell_type": "code",
   "execution_count": 47,
   "metadata": {},
   "outputs": [
    {
     "name": "stderr",
     "output_type": "stream",
     "text": [
      "\u001b[32m[2025-01-09 23:43:24]\u001b[0m \u001b[34m\u001b[1mDEBUG | Prompt: [TextPrompt(text='Play some music, well, play jazz music and prefer to low volume. Also, I want to know the BPM.')]\u001b[0m\n",
      "\u001b[32m[2025-01-09 23:43:24]\u001b[0m \u001b[1mINFO | root: Generating text\u001b[0m\n",
      "\u001b[32m[2025-01-09 23:43:24]\u001b[0m \u001b[34m\u001b[1mDEBUG | Response: [ToolCallResponse(name='start_music', args='{\"genre\":\"jazz\"}', call_id='call_N4xJHbwJaT7702QWqHsbmP2e')]\u001b[0m\n",
      "\u001b[32m[2025-01-09 23:43:24]\u001b[0m \u001b[1mINFO | Running tool: start_music\u001b[0m\n",
      "\u001b[32m[2025-01-09 23:43:24]\u001b[0m \u001b[1mINFO | Tool: start_music successfully ran.\u001b[0m\n",
      "\u001b[32m[2025-01-09 23:43:24]\u001b[0m \u001b[34m\u001b[1mDEBUG | Prompt: [ToolUsePrompt(output='Starting music! Genre: jazz, Volume: 0.3360032960245172, BPM: 120', error=None, call_id='call_N4xJHbwJaT7702QWqHsbmP2e', args='{\"genre\":\"jazz\"}', name='start_music')]\u001b[0m\n",
      "\u001b[32m[2025-01-09 23:43:25]\u001b[0m \u001b[1mINFO | root: Generating text\u001b[0m\n",
      "\u001b[32m[2025-01-09 23:43:25]\u001b[0m \u001b[34m\u001b[1mDEBUG | Response: [ToolCallResponse(name='change_music_volume', args='{\"volume\":0.1}', call_id='call_UxUbY7H4DASLShw3NSyJRz1T')]\u001b[0m\n",
      "\u001b[32m[2025-01-09 23:43:25]\u001b[0m \u001b[1mINFO | Running tool: change_music_volume\u001b[0m\n",
      "\u001b[32m[2025-01-09 23:43:25]\u001b[0m \u001b[1mINFO | Tool: change_music_volume successfully ran.\u001b[0m\n",
      "\u001b[32m[2025-01-09 23:43:25]\u001b[0m \u001b[34m\u001b[1mDEBUG | Prompt: [ToolUsePrompt(output='Changing volume to 0.1', error=None, call_id='call_UxUbY7H4DASLShw3NSyJRz1T', args='{\"volume\":0.1}', name='change_music_volume')]\u001b[0m\n",
      "\u001b[32m[2025-01-09 23:43:25]\u001b[0m \u001b[1mINFO | root: Generating text\u001b[0m\n",
      "\u001b[32m[2025-01-09 23:43:26]\u001b[0m \u001b[34m\u001b[1mDEBUG | Response: [ToolCallResponse(name='change_music_volume', args='{\"volume\": 0.1}', call_id='call_TxIELfgjrIHdDscCqLm410d7'), ToolCallResponse(name='change_music', args='{\"genre\": \"jazz\"}', call_id='call_iFiW3uiyFYdzkVaHW9ZiVgqB')]\u001b[0m\n",
      "\u001b[32m[2025-01-09 23:43:26]\u001b[0m \u001b[1mINFO | Running tool: change_music_volume\u001b[0m\n",
      "\u001b[32m[2025-01-09 23:43:26]\u001b[0m \u001b[1mINFO | Tool: change_music_volume successfully ran.\u001b[0m\n",
      "\u001b[32m[2025-01-09 23:43:26]\u001b[0m \u001b[1mINFO | Running tool: change_music\u001b[0m\n",
      "\u001b[32m[2025-01-09 23:43:26]\u001b[0m \u001b[1mINFO | Tool: change_music successfully ran.\u001b[0m\n",
      "\u001b[32m[2025-01-09 23:43:26]\u001b[0m \u001b[34m\u001b[1mDEBUG | Prompt: [ToolUsePrompt(output='Changing volume to 0.1', error=None, call_id='call_TxIELfgjrIHdDscCqLm410d7', args='{\"volume\": 0.1}', name='change_music_volume'), ToolUsePrompt(output='Turning to another music! Genre: jazz, BPM: 79', error=None, call_id='call_iFiW3uiyFYdzkVaHW9ZiVgqB', args='{\"genre\": \"jazz\"}', name='change_music')]\u001b[0m\n",
      "\u001b[32m[2025-01-09 23:43:26]\u001b[0m \u001b[1mINFO | root: Generating text\u001b[0m\n",
      "\u001b[32m[2025-01-09 23:43:28]\u001b[0m \u001b[34m\u001b[1mDEBUG | Response: [TextResponse(text='{\"genre\":\"jazz\",\"bpm\":79,\"volume\":0.1,\"equalizer_settings\":{\"hz_100\":0,\"hz_200\":0,\"hz_400\":0,\"hz_800\":0,\"hz_1600\":0,\"hz_3200\":0,\"hz_6400\":0}}')]\u001b[0m\n"
     ]
    },
    {
     "data": {
      "text/plain": [
       "NativeResponseSchema(genre=<MusicGenre.jazz: 'jazz'>, bpm=79, volume=0.1, equalizer_settings=NativeEqualizerSettings(hz_100=0, hz_200=0, hz_400=0, hz_800=0, hz_1600=0, hz_3200=0, hz_6400=0))"
      ]
     },
     "execution_count": 47,
     "metadata": {},
     "output_type": "execute_result"
    }
   ],
   "source": [
    "response = openai_agent_native.generate_text(prompt)\n",
    "\n",
    "NativeResponseSchema.model_validate_json(response.contents[0].text)"
   ]
  },
  {
   "cell_type": "code",
   "execution_count": 48,
   "metadata": {},
   "outputs": [
    {
     "data": {
      "text/plain": [
       "Response(type='Response', role='assistant', contents=[TextResponse(text='{\"genre\":\"jazz\",\"bpm\":79,\"volume\":0.1,\"equalizer_settings\":{\"hz_100\":0,\"hz_200\":0,\"hz_400\":0,\"hz_800\":0,\"hz_1600\":0,\"hz_3200\":0,\"hz_6400\":0}}')], usage=<langrila.core.usage.NamedUsage object at 0x7f0ca8606890>, raw=ParsedChatCompletion[NativeResponseSchema](id='chatcmpl-Ano2p7Vw9flxgB2deUkeXQhrucIIj', choices=[ParsedChoice[NativeResponseSchema](finish_reason='stop', index=0, logprobs=None, message=ParsedChatCompletionMessage[NativeResponseSchema](content='{\"genre\":\"jazz\",\"bpm\":79,\"volume\":0.1,\"equalizer_settings\":{\"hz_100\":0,\"hz_200\":0,\"hz_400\":0,\"hz_800\":0,\"hz_1600\":0,\"hz_3200\":0,\"hz_6400\":0}}', refusal=None, role='assistant', audio=None, function_call=None, tool_calls=[], parsed=NativeResponseSchema(genre=<MusicGenre.jazz: 'jazz'>, bpm=79, volume=0.1, equalizer_settings=NativeEqualizerSettings(hz_100=0, hz_200=0, hz_400=0, hz_800=0, hz_1600=0, hz_3200=0, hz_6400=0))))], created=1736433807, model='gpt-4o-mini-2024-07-18', object='chat.completion', service_tier=None, system_fingerprint='fp_f2cd28694a', usage=CompletionUsage(completion_tokens=73, prompt_tokens=1430, total_tokens=1503, completion_tokens_details=CompletionTokensDetails(accepted_prediction_tokens=0, audio_tokens=0, reasoning_tokens=0, rejected_prediction_tokens=0), prompt_tokens_details=PromptTokensDetails(audio_tokens=0, cached_tokens=1280))), name=None, is_last_chunk=None, prompt=[{'role': 'user', 'content': [{'text': 'Play some music, well, play jazz music and prefer to low volume. Also, I want to know the BPM.', 'type': 'text'}], 'name': None}, ChatCompletionMessage(content=None, refusal=None, role='assistant', audio=None, function_call=None, tool_calls=[ChatCompletionMessageToolCall(id='call_N4xJHbwJaT7702QWqHsbmP2e', function=Function(arguments='\"{\\\\\"genre\\\\\":\\\\\"jazz\\\\\"}\"', name='start_music'), type='function')]), {'role': 'tool', 'content': 'Starting music! Genre: jazz, Volume: 0.3360032960245172, BPM: 120', 'tool_call_id': 'call_N4xJHbwJaT7702QWqHsbmP2e'}, ChatCompletionMessage(content=None, refusal=None, role='assistant', audio=None, function_call=None, tool_calls=[ChatCompletionMessageToolCall(id='call_UxUbY7H4DASLShw3NSyJRz1T', function=Function(arguments='\"{\\\\\"volume\\\\\":0.1}\"', name='change_music_volume'), type='function')]), {'role': 'tool', 'content': 'Changing volume to 0.1', 'tool_call_id': 'call_UxUbY7H4DASLShw3NSyJRz1T'}, ChatCompletionMessage(content=None, refusal=None, role='assistant', audio=None, function_call=None, tool_calls=[ChatCompletionMessageToolCall(id='call_TxIELfgjrIHdDscCqLm410d7', function=Function(arguments='\"{\\\\\"volume\\\\\": 0.1}\"', name='change_music_volume'), type='function'), ChatCompletionMessageToolCall(id='call_iFiW3uiyFYdzkVaHW9ZiVgqB', function=Function(arguments='\"{\\\\\"genre\\\\\": \\\\\"jazz\\\\\"}\"', name='change_music'), type='function')]), {'role': 'tool', 'content': 'Changing volume to 0.1', 'tool_call_id': 'call_TxIELfgjrIHdDscCqLm410d7'}, {'role': 'tool', 'content': 'Turning to another music! Genre: jazz, BPM: 79', 'tool_call_id': 'call_iFiW3uiyFYdzkVaHW9ZiVgqB'}])"
      ]
     },
     "execution_count": 48,
     "metadata": {},
     "output_type": "execute_result"
    }
   ],
   "source": [
    "response"
   ]
  },
  {
   "cell_type": "markdown",
   "metadata": {},
   "source": [
    "# Dependency injection"
   ]
  },
  {
   "cell_type": "markdown",
   "metadata": {},
   "source": [
    "While tools can be passed to an Agent directly as functions, using the Tool class allows for more flexible control. One example of this flexibility is dependency injection. \n",
    "\n",
    "Standard tool calling requires the LLM to generate all arguments specified as 'required'. For arguments not specified as 'required', either a default value or a value generated by the LLM is used.\n",
    "\n",
    "With the Tool class, you can use a 'context' argument to separate parameters into those generated by the LLM and those injected from an external source. This notebook demonstrates an example of this approach."
   ]
  },
  {
   "cell_type": "markdown",
   "metadata": {},
   "source": [
    "Here is an example of tool invokes an other agent. "
   ]
  },
  {
   "cell_type": "code",
   "execution_count": 49,
   "metadata": {},
   "outputs": [],
   "source": [
    "def run_music_agent(\n",
    "    agent: Agent,  # type: ignore\n",
    "    agent_name: str,\n",
    "    instruction: str,\n",
    ") -> str:\n",
    "    \"\"\"\n",
    "    This function is used to run the agent which has the capabilities to manage the music settings.\n",
    "    Agent can use the following tools:\n",
    "\n",
    "    Tools:\n",
    "    start_music: Turn on the music. The genre, BPM, and volume are randomly selected.\n",
    "    change_bpm: Change the BPM of the music.\n",
    "    change_music: Change the music genre and BPM.\n",
    "\n",
    "    Parameters\n",
    "    ----------\n",
    "    agent : Agent\n",
    "        The agent instance.\n",
    "    agent_name : str\n",
    "        The name of the agent.\n",
    "    instruction : str\n",
    "        The detail and specific instruction to the agent, including the plan to get answer.\n",
    "\n",
    "    Returns\n",
    "    ----------\n",
    "    str\n",
    "        The response from the agent.\n",
    "    \"\"\"\n",
    "    if not isinstance(agent, Agent):\n",
    "        raise ValueError(\n",
    "            \"Subagent must be an instance of Agent class. \"\n",
    "            \"Please provide the correct agent instance.\"\n",
    "        )\n",
    "\n",
    "    return agent.generate_text(instruction, name=agent_name).contents[0].text  # type: ignore"
   ]
  },
  {
   "cell_type": "markdown",
   "metadata": {},
   "source": [
    "To show tha example of dependency injection, two agents are defined; `music_agent` for managing music setting, and another agent calls `music_agent`."
   ]
  },
  {
   "cell_type": "code",
   "execution_count": 50,
   "metadata": {},
   "outputs": [],
   "source": [
    "# The agent for managing music settings\n",
    "music_agent = Agent(\n",
    "    client=openai_client,\n",
    "    model=\"gpt-4o-mini-2024-07-18\",\n",
    "    temperature=0.0,\n",
    "    tools=[start_music, change_music_volume, change_music, change_equalizer_settings],\n",
    ")\n",
    "\n",
    "# The main agent to call the music agent\n",
    "agent = Agent(\n",
    "    client=openai_client,\n",
    "    model=\"gpt-4o-mini-2024-07-18\",\n",
    "    tools=[\n",
    "        Tool(tool=run_music_agent, context={\"agent\": music_agent, \"agent_name\": \"music_agent\"}),\n",
    "    ],\n",
    ")"
   ]
  },
  {
   "cell_type": "markdown",
   "metadata": {},
   "source": [
    "The tool's parameters specified in the context arguments of Tool instance are injected externally. In this case, `agent` argument and `agent_name` argument of the run_music_agent tool are injected."
   ]
  },
  {
   "cell_type": "code",
   "execution_count": 51,
   "metadata": {},
   "outputs": [
    {
     "data": {
      "text/plain": [
       "{'agent': Agent(name=root), 'agent_name': 'music_agent'}"
      ]
     },
     "execution_count": 51,
     "metadata": {},
     "output_type": "execute_result"
    }
   ],
   "source": [
    "agent.tools[0].context"
   ]
  },
  {
   "cell_type": "code",
   "execution_count": 52,
   "metadata": {},
   "outputs": [
    {
     "name": "stderr",
     "output_type": "stream",
     "text": [
      "\u001b[32m[2025-01-09 23:43:35]\u001b[0m \u001b[34m\u001b[1mDEBUG | Prompt: [TextPrompt(text='Play some music, well, play jazz music and prefer to low volume. Also, I want to know the BPM.')]\u001b[0m\n",
      "\u001b[32m[2025-01-09 23:43:35]\u001b[0m \u001b[1mINFO | root: Generating text\u001b[0m\n",
      "\u001b[32m[2025-01-09 23:43:36]\u001b[0m \u001b[34m\u001b[1mDEBUG | Response: [ToolCallResponse(name='run_music_agent', args='{\"instruction\":\"Start playing jazz music at low volume and provide the BPM.\"}', call_id='call_r8ZN1kh2VYamFBbu0HqzLGJi')]\u001b[0m\n",
      "\u001b[32m[2025-01-09 23:43:36]\u001b[0m \u001b[1mINFO | Running tool: run_music_agent\u001b[0m\n",
      "\u001b[32m[2025-01-09 23:43:36]\u001b[0m \u001b[34m\u001b[1mDEBUG | Prompt: [TextPrompt(text='Start playing jazz music at low volume and provide the BPM.')]\u001b[0m\n",
      "\u001b[32m[2025-01-09 23:43:36]\u001b[0m \u001b[1mINFO | music_agent: Generating text\u001b[0m\n",
      "\u001b[32m[2025-01-09 23:43:37]\u001b[0m \u001b[34m\u001b[1mDEBUG | Response: [ToolCallResponse(name='start_music', args='{\"genre\": \"jazz\"}', call_id='call_I63XQZ857VmwZ7gW3sHKXzJM'), ToolCallResponse(name='change_music_volume', args='{\"volume\": 0.2}', call_id='call_EI8al0eehamvFE9oUetTLKk4')]\u001b[0m\n",
      "\u001b[32m[2025-01-09 23:43:37]\u001b[0m \u001b[1mINFO | Running tool: start_music\u001b[0m\n",
      "\u001b[32m[2025-01-09 23:43:37]\u001b[0m \u001b[1mINFO | Tool: start_music successfully ran.\u001b[0m\n",
      "\u001b[32m[2025-01-09 23:43:37]\u001b[0m \u001b[1mINFO | Running tool: change_music_volume\u001b[0m\n",
      "\u001b[32m[2025-01-09 23:43:37]\u001b[0m \u001b[1mINFO | Tool: change_music_volume successfully ran.\u001b[0m\n",
      "\u001b[32m[2025-01-09 23:43:37]\u001b[0m \u001b[34m\u001b[1mDEBUG | Prompt: [ToolUsePrompt(output='Starting music! Genre: jazz, Volume: 0.21300337349512177, BPM: 120', error=None, call_id='call_I63XQZ857VmwZ7gW3sHKXzJM', args='{\"genre\": \"jazz\"}', name='start_music'), ToolUsePrompt(output='Changing volume to 0.2', error=None, call_id='call_EI8al0eehamvFE9oUetTLKk4', args='{\"volume\": 0.2}', name='change_music_volume')]\u001b[0m\n",
      "\u001b[32m[2025-01-09 23:43:37]\u001b[0m \u001b[1mINFO | music_agent: Generating text\u001b[0m\n",
      "\u001b[32m[2025-01-09 23:43:38]\u001b[0m \u001b[34m\u001b[1mDEBUG | Response: [TextResponse(text='Jazz music has started playing at a low volume of 0.2. The BPM (Beats Per Minute) of the music is 120. Enjoy!')]\u001b[0m\n",
      "\u001b[32m[2025-01-09 23:43:38]\u001b[0m \u001b[1mINFO | Tool: run_music_agent successfully ran.\u001b[0m\n",
      "\u001b[32m[2025-01-09 23:43:38]\u001b[0m \u001b[34m\u001b[1mDEBUG | Prompt: [ToolUsePrompt(output='Jazz music has started playing at a low volume of 0.2. The BPM (Beats Per Minute) of the music is 120. Enjoy!', error=None, call_id='call_r8ZN1kh2VYamFBbu0HqzLGJi', args='{\"instruction\":\"Start playing jazz music at low volume and provide the BPM.\"}', name='run_music_agent')]\u001b[0m\n",
      "\u001b[32m[2025-01-09 23:43:38]\u001b[0m \u001b[1mINFO | root: Generating text\u001b[0m\n",
      "\u001b[32m[2025-01-09 23:43:39]\u001b[0m \u001b[34m\u001b[1mDEBUG | Response: [TextResponse(text='Jazz music is now playing at a low volume of 0.2. The BPM (Beats Per Minute) of the music is 120. Enjoy the vibes!')]\u001b[0m\n"
     ]
    }
   ],
   "source": [
    "response = agent.generate_text(prompt)"
   ]
  },
  {
   "cell_type": "markdown",
   "metadata": {},
   "source": [
    "As you can see in the log messages above, the agent instance invoked music_agent, but the parameters created by the agent to call `music_agent` is only `instruction` argument while `agent` argument and `agent_name` are injected. The arguments are also validated when the tool is called. If you passed wrong value for a context parameter, the error will occur when run tool."
   ]
  },
  {
   "cell_type": "code",
   "execution_count": 53,
   "metadata": {},
   "outputs": [],
   "source": [
    "from langrila import AgentConfig\n",
    "\n",
    "# Define not to retry the request even if an error occurs\n",
    "agent_config = AgentConfig(\n",
    "    max_error_retries=1,\n",
    ")\n",
    "\n",
    "# The main agent to call the music agent\n",
    "agent = Agent(\n",
    "    client=openai_client,\n",
    "    model=\"gpt-4o-mini-2024-07-18\",\n",
    "    tools=[\n",
    "        Tool(\n",
    "            tool=run_music_agent,\n",
    "            # wrong for agent argument below\n",
    "            context={\"agent\": \"wrong_value\", \"agent_name\": \"music_agent\"},\n",
    "        ),\n",
    "    ],\n",
    "    agent_config=agent_config,\n",
    ")"
   ]
  },
  {
   "cell_type": "code",
   "execution_count": 54,
   "metadata": {},
   "outputs": [
    {
     "name": "stderr",
     "output_type": "stream",
     "text": [
      "\u001b[32m[2025-01-09 23:43:39]\u001b[0m \u001b[34m\u001b[1mDEBUG | Prompt: [TextPrompt(text='Play some music, well, play jazz music and prefer to low volume. Also, I want to know the BPM.')]\u001b[0m\n",
      "\u001b[32m[2025-01-09 23:43:39]\u001b[0m \u001b[1mINFO | root: Generating text\u001b[0m\n",
      "\u001b[32m[2025-01-09 23:43:40]\u001b[0m \u001b[34m\u001b[1mDEBUG | Response: [ToolCallResponse(name='run_music_agent', args='{\"instruction\":\"Start playing jazz music at a low volume and provide the BPM.\"}', call_id='call_VydLOjWCC8FDIym2Gd4XT1H3')]\u001b[0m\n",
      "\u001b[32m[2025-01-09 23:43:40]\u001b[0m \u001b[1mINFO | Running tool: run_music_agent\u001b[0m\n",
      "\u001b[32m[2025-01-09 23:43:40]\u001b[0m \u001b[31m\u001b[1mERROR | Validation error occurred while running tool. Retrying...\n",
      "Tool: run_music_agent\n",
      "Attribute: agent\n",
      "Input value: wrong_value\n",
      "ValidationError: Input should be an instance of Agent\u001b[0m\n"
     ]
    },
    {
     "ename": "RetryLimitExceededError",
     "evalue": "Retry limit exceeded. Please try again or change the request parameters.",
     "output_type": "error",
     "traceback": [
      "\u001b[0;31m---------------------------------------------------------------------------\u001b[0m",
      "\u001b[0;31mRetryLimitExceededError\u001b[0m                   Traceback (most recent call last)",
      "Cell \u001b[0;32mIn[54], line 1\u001b[0m\n\u001b[0;32m----> 1\u001b[0m response \u001b[38;5;241m=\u001b[39m \u001b[43magent\u001b[49m\u001b[38;5;241;43m.\u001b[39;49m\u001b[43mgenerate_text\u001b[49m\u001b[43m(\u001b[49m\u001b[43mprompt\u001b[49m\u001b[43m)\u001b[49m\n",
      "File \u001b[0;32m~/langrila-dev/experimentation/langrila/src/langrila/core/agent.py:530\u001b[0m, in \u001b[0;36mAgent.generate_text\u001b[0;34m(self, prompt, system_instruction, response_schema_as_tool, **kwargs)\u001b[0m\n\u001b[1;32m    525\u001b[0m                         messages\u001b[38;5;241m.\u001b[39mappend(\n\u001b[1;32m    526\u001b[0m                             Prompt(contents\u001b[38;5;241m=\u001b[39m\u001b[38;5;28mself\u001b[39m\u001b[38;5;241m.\u001b[39m__no_tool_use_retry_prompt, role\u001b[38;5;241m=\u001b[39m\u001b[38;5;124m\"\u001b[39m\u001b[38;5;124muser\u001b[39m\u001b[38;5;124m\"\u001b[39m)\n\u001b[1;32m    527\u001b[0m                         )\n\u001b[1;32m    529\u001b[0m \u001b[38;5;28;01mif\u001b[39;00m \u001b[38;5;129;01mnot\u001b[39;00m ctx:\n\u001b[0;32m--> 530\u001b[0m     \u001b[38;5;28;01mraise\u001b[39;00m RetryLimitExceededError()\n\u001b[1;32m    532\u001b[0m messages_list\u001b[38;5;241m.\u001b[39mappend(messages[init_len_messages:])\n\u001b[1;32m    533\u001b[0m \u001b[38;5;28mself\u001b[39m\u001b[38;5;241m.\u001b[39mstore_history(messages_list)\n",
      "\u001b[0;31mRetryLimitExceededError\u001b[0m: Retry limit exceeded. Please try again or change the request parameters."
     ]
    }
   ],
   "source": [
    "response = agent.generate_text(prompt)"
   ]
  },
  {
   "cell_type": "markdown",
   "metadata": {},
   "source": [
    "Actually the tools calling other agent such as this are dynamically created in the Agent class if you pass the subagents parameter of the agent, but in this notebook, dared to define a tool as an example and passed it to the Agent class as a tool. For multi-agent example, Please refer to [03.multi_agent.ipynb](./03.multi_agent.ipynb)"
   ]
  },
  {
   "cell_type": "markdown",
   "metadata": {},
   "source": [
    "# Tool result serializer"
   ]
  },
  {
   "cell_type": "markdown",
   "metadata": {},
   "source": [
    "Tool class accepts `serializer` parameter that is callable object to convert any value to string. `str` is used in default, but you can also use custom serializer. This capability allows us to reuse the tools implemented in daily development by only implementing serializer. Let's change the example above using custom serializer."
   ]
  },
  {
   "cell_type": "code",
   "execution_count": 55,
   "metadata": {},
   "outputs": [],
   "source": [
    "import json\n",
    "\n",
    "from langrila import Response\n",
    "\n",
    "\n",
    "def run_music_agent(\n",
    "    agent: Agent,  # type: ignore\n",
    "    agent_name: str,\n",
    "    instruction: str,\n",
    ") -> Response:\n",
    "    \"\"\"\n",
    "    This function is used to run the agent which has the capabilities to manage the music settings.\n",
    "    Agent can use the following tools:\n",
    "\n",
    "    Tools:\n",
    "    start_music: Turn on the music. The genre, BPM, and volume are randomly selected.\n",
    "    change_bpm: Change the BPM of the music.\n",
    "    change_music: Change the music genre and BPM.\n",
    "\n",
    "    Parameters\n",
    "    ----------\n",
    "    agent : Agent\n",
    "        The agent instance.\n",
    "    agent_name : str\n",
    "        The name of the agent.\n",
    "    instruction : str\n",
    "        The detail and specific instruction to the agent, including the plan to get answer.\n",
    "\n",
    "    Returns\n",
    "    ----------\n",
    "    Response\n",
    "        The response from the agent.\n",
    "    \"\"\"\n",
    "    if not isinstance(agent, Agent):\n",
    "        raise ValueError(\n",
    "            \"Subagent must be an instance of Agent class. \"\n",
    "            \"Please provide the correct agent instance.\"\n",
    "        )\n",
    "\n",
    "    return agent.generate_text(instruction, name=agent_name)\n",
    "\n",
    "\n",
    "def response_serializer(response: Response) -> str:\n",
    "    \"\"\"\n",
    "    Serialize the response to a string.\n",
    "\n",
    "    Parameters\n",
    "    ----------\n",
    "    response : Response\n",
    "        The response from the agent.\n",
    "\n",
    "    Returns\n",
    "    ----------\n",
    "    str\n",
    "        The serialized response.\n",
    "    \"\"\"\n",
    "    return json.dumps(response.model_dump(include={\"role\", \"contents\", \"name\"}), ensure_ascii=False)"
   ]
  },
  {
   "cell_type": "code",
   "execution_count": 56,
   "metadata": {},
   "outputs": [],
   "source": [
    "from langrila import AgentConfig\n",
    "\n",
    "# Define not to retry the request even if an error occurs\n",
    "agent_config = AgentConfig(\n",
    "    max_error_retries=1,\n",
    ")\n",
    "\n",
    "# The main agent to call the music agent\n",
    "agent = Agent(\n",
    "    client=openai_client,\n",
    "    model=\"gpt-4o-mini-2024-07-18\",\n",
    "    tools=[\n",
    "        Tool(\n",
    "            tool=run_music_agent,\n",
    "            context={\"agent\": music_agent, \"agent_name\": \"music_agent\"},\n",
    "            serializer=response_serializer,  # serializer\n",
    "        ),\n",
    "    ],\n",
    ")"
   ]
  },
  {
   "cell_type": "code",
   "execution_count": 57,
   "metadata": {},
   "outputs": [
    {
     "name": "stderr",
     "output_type": "stream",
     "text": [
      "\u001b[32m[2025-01-09 23:43:54]\u001b[0m \u001b[34m\u001b[1mDEBUG | Prompt: [TextPrompt(text='Play some music, well, play jazz music and prefer to low volume. Also, I want to know the BPM.')]\u001b[0m\n",
      "\u001b[32m[2025-01-09 23:43:54]\u001b[0m \u001b[1mINFO | root: Generating text\u001b[0m\n",
      "\u001b[32m[2025-01-09 23:43:55]\u001b[0m \u001b[34m\u001b[1mDEBUG | Response: [ToolCallResponse(name='run_music_agent', args='{\"instruction\":\"Start playing jazz music at a low volume and provide the BPM.\"}', call_id='call_YDXxR8AgF5E2g93AWbgbn7v4')]\u001b[0m\n",
      "\u001b[32m[2025-01-09 23:43:55]\u001b[0m \u001b[1mINFO | Running tool: run_music_agent\u001b[0m\n",
      "\u001b[32m[2025-01-09 23:43:55]\u001b[0m \u001b[34m\u001b[1mDEBUG | Prompt: [TextPrompt(text='Start playing jazz music at a low volume and provide the BPM.')]\u001b[0m\n",
      "\u001b[32m[2025-01-09 23:43:55]\u001b[0m \u001b[1mINFO | music_agent: Generating text\u001b[0m\n",
      "\u001b[32m[2025-01-09 23:43:56]\u001b[0m \u001b[34m\u001b[1mDEBUG | Response: [ToolCallResponse(name='start_music', args='{\"genre\": \"jazz\"}', call_id='call_ABAomrBBFaNSEqyTHyR61vgE'), ToolCallResponse(name='change_music_volume', args='{\"volume\": 0.3}', call_id='call_oF5g0FM4KP0B6IfhpOyyVcyv')]\u001b[0m\n",
      "\u001b[32m[2025-01-09 23:43:56]\u001b[0m \u001b[1mINFO | Running tool: start_music\u001b[0m\n",
      "\u001b[32m[2025-01-09 23:43:56]\u001b[0m \u001b[1mINFO | Tool: start_music successfully ran.\u001b[0m\n",
      "\u001b[32m[2025-01-09 23:43:56]\u001b[0m \u001b[1mINFO | Running tool: change_music_volume\u001b[0m\n",
      "\u001b[32m[2025-01-09 23:43:56]\u001b[0m \u001b[1mINFO | Tool: change_music_volume successfully ran.\u001b[0m\n",
      "\u001b[32m[2025-01-09 23:43:56]\u001b[0m \u001b[34m\u001b[1mDEBUG | Prompt: [ToolUsePrompt(output='Starting music! Genre: jazz, Volume: 0.13829891191498123, BPM: 120', error=None, call_id='call_ABAomrBBFaNSEqyTHyR61vgE', args='{\"genre\": \"jazz\"}', name='start_music'), ToolUsePrompt(output='Changing volume to 0.3', error=None, call_id='call_oF5g0FM4KP0B6IfhpOyyVcyv', args='{\"volume\": 0.3}', name='change_music_volume')]\u001b[0m\n",
      "\u001b[32m[2025-01-09 23:43:56]\u001b[0m \u001b[1mINFO | music_agent: Generating text\u001b[0m\n",
      "\u001b[32m[2025-01-09 23:43:57]\u001b[0m \u001b[34m\u001b[1mDEBUG | Response: [TextResponse(text='Jazz music has started playing at a low volume. The BPM (Beats Per Minute) is 120. Enjoy the music!')]\u001b[0m\n",
      "\u001b[32m[2025-01-09 23:43:57]\u001b[0m \u001b[1mINFO | Tool: run_music_agent successfully ran.\u001b[0m\n",
      "\u001b[32m[2025-01-09 23:43:57]\u001b[0m \u001b[34m\u001b[1mDEBUG | Prompt: [ToolUsePrompt(output='{\"role\": \"assistant\", \"contents\": [{\"text\": \"Jazz music has started playing at a low volume. The BPM (Beats Per Minute) is 120. Enjoy the music!\"}], \"name\": \"music_agent\"}', error=None, call_id='call_YDXxR8AgF5E2g93AWbgbn7v4', args='{\"instruction\":\"Start playing jazz music at a low volume and provide the BPM.\"}', name='run_music_agent')]\u001b[0m\n",
      "\u001b[32m[2025-01-09 23:43:57]\u001b[0m \u001b[1mINFO | root: Generating text\u001b[0m\n",
      "\u001b[32m[2025-01-09 23:43:58]\u001b[0m \u001b[34m\u001b[1mDEBUG | Response: [TextResponse(text='Jazz music has started playing at a low volume. The BPM (Beats Per Minute) is 120. Enjoy the music!')]\u001b[0m\n"
     ]
    }
   ],
   "source": [
    "response = agent.generate_text(prompt)"
   ]
  },
  {
   "cell_type": "markdown",
   "metadata": {},
   "source": [
    "ToolUsePrompt of the `run_music_agent` in the log message is changed to json string as expected."
   ]
  },
  {
   "cell_type": "code",
   "execution_count": null,
   "metadata": {},
   "outputs": [],
   "source": []
  },
  {
   "cell_type": "code",
   "execution_count": null,
   "metadata": {},
   "outputs": [],
   "source": []
  }
 ],
 "metadata": {
  "kernelspec": {
   "display_name": ".venv",
   "language": "python",
   "name": "python3"
  },
  "language_info": {
   "codemirror_mode": {
    "name": "ipython",
    "version": 3
   },
   "file_extension": ".py",
   "mimetype": "text/x-python",
   "name": "python",
   "nbconvert_exporter": "python",
   "pygments_lexer": "ipython3",
   "version": "3.10.12"
  }
 },
 "nbformat": 4,
 "nbformat_minor": 4
}
