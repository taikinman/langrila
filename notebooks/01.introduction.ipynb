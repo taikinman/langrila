{
 "cells": [
  {
   "cell_type": "code",
   "execution_count": 1,
   "metadata": {},
   "outputs": [],
   "source": [
    "import os\n",
    "import warnings\n",
    "\n",
    "warnings.simplefilter(action=\"ignore\")\n",
    "os.environ[\"GRPC_VERBOSITY\"] = \"NONE\""
   ]
  },
  {
   "cell_type": "markdown",
   "metadata": {},
   "source": [
    "# Prerequisites"
   ]
  },
  {
   "cell_type": "markdown",
   "metadata": {},
   "source": [
    "Please make sure your environmental variables and dependencies are ready to use LLM services."
   ]
  },
  {
   "cell_type": "code",
   "execution_count": 2,
   "metadata": {},
   "outputs": [
    {
     "data": {
      "text/plain": [
       "True"
      ]
     },
     "execution_count": 2,
     "metadata": {},
     "output_type": "execute_result"
    }
   ],
   "source": [
    "from dotenv import load_dotenv\n",
    "\n",
    "load_dotenv(\"../../.env_api\")"
   ]
  },
  {
   "cell_type": "markdown",
   "metadata": {},
   "source": [
    "# Import modules"
   ]
  },
  {
   "cell_type": "markdown",
   "metadata": {},
   "source": [
    "In langrila, the module to chat with LLM and the module to call tools are completely separated. FunctionalChat class is the combination of those two.\n",
    "\n",
    "- `XXXChatModule`: Only focuses on doing conversation with LLM\n",
    "- `XXXFunctionCallingModule`: Only focuses on calling tools\n",
    "- `XXXFunctionalChat`: The combination of the two. FunctionCallingModule works at first and then ChatModule performs. If any tool is not provided, this module behaves as just ChatModule."
   ]
  },
  {
   "cell_type": "code",
   "execution_count": 3,
   "metadata": {},
   "outputs": [],
   "source": [
    "from langrila import (\n",
    "    InMemoryConversationMemory,\n",
    "    Message,\n",
    "    PromptTemplate,\n",
    "    Usage,\n",
    ")\n",
    "from langrila.claude import ClaudeFunctionalChat\n",
    "from langrila.gemini import GeminiFunctionalChat\n",
    "from langrila.openai import OpenAIFunctionalChat"
   ]
  },
  {
   "cell_type": "markdown",
   "metadata": {},
   "source": [
    "# Simple text prompt"
   ]
  },
  {
   "cell_type": "markdown",
   "metadata": {},
   "source": [
    "### For OpenAI Chat Completion"
   ]
  },
  {
   "cell_type": "code",
   "execution_count": 4,
   "metadata": {},
   "outputs": [],
   "source": [
    "chat_openai = OpenAIFunctionalChat(\n",
    "    api_key_env_name=\"API_KEY\",\n",
    "    model_name=\"gpt-4o-2024-05-13\",\n",
    "    api_type=\"openai\",\n",
    "    # organization_id_env_name=\"ORGANIZATION_ID\",  # as needed\n",
    ")"
   ]
  },
  {
   "cell_type": "code",
   "execution_count": 5,
   "metadata": {},
   "outputs": [],
   "source": [
    "prompt = \"Hello. How are you today?\""
   ]
  },
  {
   "cell_type": "markdown",
   "metadata": {},
   "source": [
    "Generate synchronously"
   ]
  },
  {
   "cell_type": "code",
   "execution_count": 6,
   "metadata": {},
   "outputs": [],
   "source": [
    "response = chat_openai.run(prompt)"
   ]
  },
  {
   "cell_type": "markdown",
   "metadata": {},
   "source": [
    "response is a pydantic model"
   ]
  },
  {
   "cell_type": "code",
   "execution_count": 7,
   "metadata": {},
   "outputs": [
    {
     "data": {
      "text/plain": [
       "{'message': {'role': 'assistant',\n",
       "  'content': [{'text': \"Hello! I'm just a computer program, so I don't have feelings, but thanks for asking. How can I assist you today?\"}],\n",
       "  'name': None},\n",
       " 'usage': {'model_name': 'gpt-4o-2024-05-13',\n",
       "  'prompt_tokens': 16,\n",
       "  'completion_tokens': 26},\n",
       " 'prompt': [{'role': 'user',\n",
       "   'content': [{'type': 'text', 'text': 'Hello. How are you today?'}],\n",
       "   'name': 'User'}]}"
      ]
     },
     "execution_count": 7,
     "metadata": {},
     "output_type": "execute_result"
    }
   ],
   "source": [
    "response.model_dump()"
   ]
  },
  {
   "cell_type": "markdown",
   "metadata": {},
   "source": [
    "You can pick response text like this"
   ]
  },
  {
   "cell_type": "code",
   "execution_count": 8,
   "metadata": {},
   "outputs": [
    {
     "name": "stdout",
     "output_type": "stream",
     "text": [
      "Hello! I'm just a computer program, so I don't have feelings, but thanks for asking. How can I assist you today?\n"
     ]
    }
   ],
   "source": [
    "print(response.message.content[0].text)"
   ]
  },
  {
   "cell_type": "markdown",
   "metadata": {},
   "source": [
    "You can see usage to generate"
   ]
  },
  {
   "cell_type": "code",
   "execution_count": 9,
   "metadata": {},
   "outputs": [
    {
     "data": {
      "text/plain": [
       "Usage(prompt_tokens=16, completion_tokens=26, total_tokens=42)"
      ]
     },
     "execution_count": 9,
     "metadata": {},
     "output_type": "execute_result"
    }
   ],
   "source": [
    "response.usage"
   ]
  },
  {
   "cell_type": "markdown",
   "metadata": {},
   "source": [
    "You can access prompt"
   ]
  },
  {
   "cell_type": "code",
   "execution_count": 10,
   "metadata": {},
   "outputs": [
    {
     "data": {
      "text/plain": [
       "[{'role': 'user',\n",
       "  'content': [{'type': 'text', 'text': 'Hello. How are you today?'}],\n",
       "  'name': 'User'}]"
      ]
     },
     "execution_count": 10,
     "metadata": {},
     "output_type": "execute_result"
    }
   ],
   "source": [
    "response.prompt"
   ]
  },
  {
   "cell_type": "markdown",
   "metadata": {},
   "source": [
    "Asynchronous call is available."
   ]
  },
  {
   "cell_type": "code",
   "execution_count": 11,
   "metadata": {},
   "outputs": [
    {
     "name": "stdout",
     "output_type": "stream",
     "text": [
      "Hello! I'm here and ready to assist you. How can I help you today?\n"
     ]
    }
   ],
   "source": [
    "response = await chat_openai.arun(prompt)\n",
    "print(response.message.content[0].text)"
   ]
  },
  {
   "cell_type": "markdown",
   "metadata": {},
   "source": [
    "Streaming completion"
   ]
  },
  {
   "cell_type": "code",
   "execution_count": 12,
   "metadata": {},
   "outputs": [
    {
     "data": {
      "text/plain": [
       "[CompletionResults(message=Message(role='assistant', content=[TextContent(text='')], name=None), usage=Usage(prompt_tokens=0, completion_tokens=0, total_tokens=0), prompt=[{}]),\n",
       " CompletionResults(message=Message(role='assistant', content=[TextContent(text='Hello')], name=None), usage=Usage(prompt_tokens=0, completion_tokens=0, total_tokens=0), prompt=[{}]),\n",
       " CompletionResults(message=Message(role='assistant', content=[TextContent(text='Hello!')], name=None), usage=Usage(prompt_tokens=0, completion_tokens=0, total_tokens=0), prompt=[{}]),\n",
       " CompletionResults(message=Message(role='assistant', content=[TextContent(text=\"Hello! I'm\")], name=None), usage=Usage(prompt_tokens=0, completion_tokens=0, total_tokens=0), prompt=[{}]),\n",
       " CompletionResults(message=Message(role='assistant', content=[TextContent(text=\"Hello! I'm just\")], name=None), usage=Usage(prompt_tokens=0, completion_tokens=0, total_tokens=0), prompt=[{}]),\n",
       " CompletionResults(message=Message(role='assistant', content=[TextContent(text=\"Hello! I'm just a\")], name=None), usage=Usage(prompt_tokens=0, completion_tokens=0, total_tokens=0), prompt=[{}]),\n",
       " CompletionResults(message=Message(role='assistant', content=[TextContent(text=\"Hello! I'm just a computer\")], name=None), usage=Usage(prompt_tokens=0, completion_tokens=0, total_tokens=0), prompt=[{}]),\n",
       " CompletionResults(message=Message(role='assistant', content=[TextContent(text=\"Hello! I'm just a computer program\")], name=None), usage=Usage(prompt_tokens=0, completion_tokens=0, total_tokens=0), prompt=[{}]),\n",
       " CompletionResults(message=Message(role='assistant', content=[TextContent(text=\"Hello! I'm just a computer program,\")], name=None), usage=Usage(prompt_tokens=0, completion_tokens=0, total_tokens=0), prompt=[{}]),\n",
       " CompletionResults(message=Message(role='assistant', content=[TextContent(text=\"Hello! I'm just a computer program, so\")], name=None), usage=Usage(prompt_tokens=0, completion_tokens=0, total_tokens=0), prompt=[{}]),\n",
       " CompletionResults(message=Message(role='assistant', content=[TextContent(text=\"Hello! I'm just a computer program, so I\")], name=None), usage=Usage(prompt_tokens=0, completion_tokens=0, total_tokens=0), prompt=[{}]),\n",
       " CompletionResults(message=Message(role='assistant', content=[TextContent(text=\"Hello! I'm just a computer program, so I don't\")], name=None), usage=Usage(prompt_tokens=0, completion_tokens=0, total_tokens=0), prompt=[{}]),\n",
       " CompletionResults(message=Message(role='assistant', content=[TextContent(text=\"Hello! I'm just a computer program, so I don't have\")], name=None), usage=Usage(prompt_tokens=0, completion_tokens=0, total_tokens=0), prompt=[{}]),\n",
       " CompletionResults(message=Message(role='assistant', content=[TextContent(text=\"Hello! I'm just a computer program, so I don't have feelings\")], name=None), usage=Usage(prompt_tokens=0, completion_tokens=0, total_tokens=0), prompt=[{}]),\n",
       " CompletionResults(message=Message(role='assistant', content=[TextContent(text=\"Hello! I'm just a computer program, so I don't have feelings,\")], name=None), usage=Usage(prompt_tokens=0, completion_tokens=0, total_tokens=0), prompt=[{}]),\n",
       " CompletionResults(message=Message(role='assistant', content=[TextContent(text=\"Hello! I'm just a computer program, so I don't have feelings, but\")], name=None), usage=Usage(prompt_tokens=0, completion_tokens=0, total_tokens=0), prompt=[{}]),\n",
       " CompletionResults(message=Message(role='assistant', content=[TextContent(text=\"Hello! I'm just a computer program, so I don't have feelings, but I'm\")], name=None), usage=Usage(prompt_tokens=0, completion_tokens=0, total_tokens=0), prompt=[{}]),\n",
       " CompletionResults(message=Message(role='assistant', content=[TextContent(text=\"Hello! I'm just a computer program, so I don't have feelings, but I'm here\")], name=None), usage=Usage(prompt_tokens=0, completion_tokens=0, total_tokens=0), prompt=[{}]),\n",
       " CompletionResults(message=Message(role='assistant', content=[TextContent(text=\"Hello! I'm just a computer program, so I don't have feelings, but I'm here and\")], name=None), usage=Usage(prompt_tokens=0, completion_tokens=0, total_tokens=0), prompt=[{}]),\n",
       " CompletionResults(message=Message(role='assistant', content=[TextContent(text=\"Hello! I'm just a computer program, so I don't have feelings, but I'm here and ready\")], name=None), usage=Usage(prompt_tokens=0, completion_tokens=0, total_tokens=0), prompt=[{}]),\n",
       " CompletionResults(message=Message(role='assistant', content=[TextContent(text=\"Hello! I'm just a computer program, so I don't have feelings, but I'm here and ready to\")], name=None), usage=Usage(prompt_tokens=0, completion_tokens=0, total_tokens=0), prompt=[{}]),\n",
       " CompletionResults(message=Message(role='assistant', content=[TextContent(text=\"Hello! I'm just a computer program, so I don't have feelings, but I'm here and ready to help\")], name=None), usage=Usage(prompt_tokens=0, completion_tokens=0, total_tokens=0), prompt=[{}]),\n",
       " CompletionResults(message=Message(role='assistant', content=[TextContent(text=\"Hello! I'm just a computer program, so I don't have feelings, but I'm here and ready to help you\")], name=None), usage=Usage(prompt_tokens=0, completion_tokens=0, total_tokens=0), prompt=[{}]),\n",
       " CompletionResults(message=Message(role='assistant', content=[TextContent(text=\"Hello! I'm just a computer program, so I don't have feelings, but I'm here and ready to help you with\")], name=None), usage=Usage(prompt_tokens=0, completion_tokens=0, total_tokens=0), prompt=[{}]),\n",
       " CompletionResults(message=Message(role='assistant', content=[TextContent(text=\"Hello! I'm just a computer program, so I don't have feelings, but I'm here and ready to help you with anything\")], name=None), usage=Usage(prompt_tokens=0, completion_tokens=0, total_tokens=0), prompt=[{}]),\n",
       " CompletionResults(message=Message(role='assistant', content=[TextContent(text=\"Hello! I'm just a computer program, so I don't have feelings, but I'm here and ready to help you with anything you\")], name=None), usage=Usage(prompt_tokens=0, completion_tokens=0, total_tokens=0), prompt=[{}]),\n",
       " CompletionResults(message=Message(role='assistant', content=[TextContent(text=\"Hello! I'm just a computer program, so I don't have feelings, but I'm here and ready to help you with anything you need\")], name=None), usage=Usage(prompt_tokens=0, completion_tokens=0, total_tokens=0), prompt=[{}]),\n",
       " CompletionResults(message=Message(role='assistant', content=[TextContent(text=\"Hello! I'm just a computer program, so I don't have feelings, but I'm here and ready to help you with anything you need.\")], name=None), usage=Usage(prompt_tokens=0, completion_tokens=0, total_tokens=0), prompt=[{}]),\n",
       " CompletionResults(message=Message(role='assistant', content=[TextContent(text=\"Hello! I'm just a computer program, so I don't have feelings, but I'm here and ready to help you with anything you need. How\")], name=None), usage=Usage(prompt_tokens=0, completion_tokens=0, total_tokens=0), prompt=[{}]),\n",
       " CompletionResults(message=Message(role='assistant', content=[TextContent(text=\"Hello! I'm just a computer program, so I don't have feelings, but I'm here and ready to help you with anything you need. How can\")], name=None), usage=Usage(prompt_tokens=0, completion_tokens=0, total_tokens=0), prompt=[{}]),\n",
       " CompletionResults(message=Message(role='assistant', content=[TextContent(text=\"Hello! I'm just a computer program, so I don't have feelings, but I'm here and ready to help you with anything you need. How can I\")], name=None), usage=Usage(prompt_tokens=0, completion_tokens=0, total_tokens=0), prompt=[{}]),\n",
       " CompletionResults(message=Message(role='assistant', content=[TextContent(text=\"Hello! I'm just a computer program, so I don't have feelings, but I'm here and ready to help you with anything you need. How can I assist\")], name=None), usage=Usage(prompt_tokens=0, completion_tokens=0, total_tokens=0), prompt=[{}]),\n",
       " CompletionResults(message=Message(role='assistant', content=[TextContent(text=\"Hello! I'm just a computer program, so I don't have feelings, but I'm here and ready to help you with anything you need. How can I assist you\")], name=None), usage=Usage(prompt_tokens=0, completion_tokens=0, total_tokens=0), prompt=[{}]),\n",
       " CompletionResults(message=Message(role='assistant', content=[TextContent(text=\"Hello! I'm just a computer program, so I don't have feelings, but I'm here and ready to help you with anything you need. How can I assist you today\")], name=None), usage=Usage(prompt_tokens=0, completion_tokens=0, total_tokens=0), prompt=[{}]),\n",
       " CompletionResults(message=Message(role='assistant', content=[TextContent(text=\"Hello! I'm just a computer program, so I don't have feelings, but I'm here and ready to help you with anything you need. How can I assist you today?\")], name=None), usage=Usage(prompt_tokens=0, completion_tokens=0, total_tokens=0), prompt=[{}]),\n",
       " CompletionResults(message=Message(role='assistant', content=[TextContent(text=\"Hello! I'm just a computer program, so I don't have feelings, but I'm here and ready to help you with anything you need. How can I assist you today?\")], name=None), usage=Usage(prompt_tokens=16, completion_tokens=34, total_tokens=50), prompt=[{'role': 'user', 'content': [{'type': 'text', 'text': 'Hello. How are you today?'}], 'name': 'User'}])]"
      ]
     },
     "execution_count": 12,
     "metadata": {},
     "output_type": "execute_result"
    }
   ],
   "source": [
    "stream = chat_openai.stream(prompt)\n",
    "responses = [r for r in stream]\n",
    "responses"
   ]
  },
  {
   "cell_type": "markdown",
   "metadata": {},
   "source": [
    "Last response includes usage"
   ]
  },
  {
   "cell_type": "code",
   "execution_count": 13,
   "metadata": {},
   "outputs": [
    {
     "data": {
      "text/plain": [
       "Usage(prompt_tokens=16, completion_tokens=34, total_tokens=50)"
      ]
     },
     "execution_count": 13,
     "metadata": {},
     "output_type": "execute_result"
    }
   ],
   "source": [
    "responses[-1].usage"
   ]
  },
  {
   "cell_type": "markdown",
   "metadata": {},
   "source": [
    "Asynchronous streaming"
   ]
  },
  {
   "cell_type": "code",
   "execution_count": 14,
   "metadata": {},
   "outputs": [
    {
     "data": {
      "text/plain": [
       "[CompletionResults(message=Message(role='assistant', content=[TextContent(text='')], name=None), usage=Usage(prompt_tokens=0, completion_tokens=0, total_tokens=0), prompt=[{}]),\n",
       " CompletionResults(message=Message(role='assistant', content=[TextContent(text='Hello')], name=None), usage=Usage(prompt_tokens=0, completion_tokens=0, total_tokens=0), prompt=[{}]),\n",
       " CompletionResults(message=Message(role='assistant', content=[TextContent(text='Hello!')], name=None), usage=Usage(prompt_tokens=0, completion_tokens=0, total_tokens=0), prompt=[{}]),\n",
       " CompletionResults(message=Message(role='assistant', content=[TextContent(text=\"Hello! I'm\")], name=None), usage=Usage(prompt_tokens=0, completion_tokens=0, total_tokens=0), prompt=[{}]),\n",
       " CompletionResults(message=Message(role='assistant', content=[TextContent(text=\"Hello! I'm just\")], name=None), usage=Usage(prompt_tokens=0, completion_tokens=0, total_tokens=0), prompt=[{}]),\n",
       " CompletionResults(message=Message(role='assistant', content=[TextContent(text=\"Hello! I'm just a\")], name=None), usage=Usage(prompt_tokens=0, completion_tokens=0, total_tokens=0), prompt=[{}]),\n",
       " CompletionResults(message=Message(role='assistant', content=[TextContent(text=\"Hello! I'm just a computer\")], name=None), usage=Usage(prompt_tokens=0, completion_tokens=0, total_tokens=0), prompt=[{}]),\n",
       " CompletionResults(message=Message(role='assistant', content=[TextContent(text=\"Hello! I'm just a computer program\")], name=None), usage=Usage(prompt_tokens=0, completion_tokens=0, total_tokens=0), prompt=[{}]),\n",
       " CompletionResults(message=Message(role='assistant', content=[TextContent(text=\"Hello! I'm just a computer program,\")], name=None), usage=Usage(prompt_tokens=0, completion_tokens=0, total_tokens=0), prompt=[{}]),\n",
       " CompletionResults(message=Message(role='assistant', content=[TextContent(text=\"Hello! I'm just a computer program, so\")], name=None), usage=Usage(prompt_tokens=0, completion_tokens=0, total_tokens=0), prompt=[{}]),\n",
       " CompletionResults(message=Message(role='assistant', content=[TextContent(text=\"Hello! I'm just a computer program, so I\")], name=None), usage=Usage(prompt_tokens=0, completion_tokens=0, total_tokens=0), prompt=[{}]),\n",
       " CompletionResults(message=Message(role='assistant', content=[TextContent(text=\"Hello! I'm just a computer program, so I don't\")], name=None), usage=Usage(prompt_tokens=0, completion_tokens=0, total_tokens=0), prompt=[{}]),\n",
       " CompletionResults(message=Message(role='assistant', content=[TextContent(text=\"Hello! I'm just a computer program, so I don't have\")], name=None), usage=Usage(prompt_tokens=0, completion_tokens=0, total_tokens=0), prompt=[{}]),\n",
       " CompletionResults(message=Message(role='assistant', content=[TextContent(text=\"Hello! I'm just a computer program, so I don't have feelings\")], name=None), usage=Usage(prompt_tokens=0, completion_tokens=0, total_tokens=0), prompt=[{}]),\n",
       " CompletionResults(message=Message(role='assistant', content=[TextContent(text=\"Hello! I'm just a computer program, so I don't have feelings,\")], name=None), usage=Usage(prompt_tokens=0, completion_tokens=0, total_tokens=0), prompt=[{}]),\n",
       " CompletionResults(message=Message(role='assistant', content=[TextContent(text=\"Hello! I'm just a computer program, so I don't have feelings, but\")], name=None), usage=Usage(prompt_tokens=0, completion_tokens=0, total_tokens=0), prompt=[{}]),\n",
       " CompletionResults(message=Message(role='assistant', content=[TextContent(text=\"Hello! I'm just a computer program, so I don't have feelings, but I'm\")], name=None), usage=Usage(prompt_tokens=0, completion_tokens=0, total_tokens=0), prompt=[{}]),\n",
       " CompletionResults(message=Message(role='assistant', content=[TextContent(text=\"Hello! I'm just a computer program, so I don't have feelings, but I'm here\")], name=None), usage=Usage(prompt_tokens=0, completion_tokens=0, total_tokens=0), prompt=[{}]),\n",
       " CompletionResults(message=Message(role='assistant', content=[TextContent(text=\"Hello! I'm just a computer program, so I don't have feelings, but I'm here and\")], name=None), usage=Usage(prompt_tokens=0, completion_tokens=0, total_tokens=0), prompt=[{}]),\n",
       " CompletionResults(message=Message(role='assistant', content=[TextContent(text=\"Hello! I'm just a computer program, so I don't have feelings, but I'm here and ready\")], name=None), usage=Usage(prompt_tokens=0, completion_tokens=0, total_tokens=0), prompt=[{}]),\n",
       " CompletionResults(message=Message(role='assistant', content=[TextContent(text=\"Hello! I'm just a computer program, so I don't have feelings, but I'm here and ready to\")], name=None), usage=Usage(prompt_tokens=0, completion_tokens=0, total_tokens=0), prompt=[{}]),\n",
       " CompletionResults(message=Message(role='assistant', content=[TextContent(text=\"Hello! I'm just a computer program, so I don't have feelings, but I'm here and ready to help\")], name=None), usage=Usage(prompt_tokens=0, completion_tokens=0, total_tokens=0), prompt=[{}]),\n",
       " CompletionResults(message=Message(role='assistant', content=[TextContent(text=\"Hello! I'm just a computer program, so I don't have feelings, but I'm here and ready to help you\")], name=None), usage=Usage(prompt_tokens=0, completion_tokens=0, total_tokens=0), prompt=[{}]),\n",
       " CompletionResults(message=Message(role='assistant', content=[TextContent(text=\"Hello! I'm just a computer program, so I don't have feelings, but I'm here and ready to help you.\")], name=None), usage=Usage(prompt_tokens=0, completion_tokens=0, total_tokens=0), prompt=[{}]),\n",
       " CompletionResults(message=Message(role='assistant', content=[TextContent(text=\"Hello! I'm just a computer program, so I don't have feelings, but I'm here and ready to help you. How\")], name=None), usage=Usage(prompt_tokens=0, completion_tokens=0, total_tokens=0), prompt=[{}]),\n",
       " CompletionResults(message=Message(role='assistant', content=[TextContent(text=\"Hello! I'm just a computer program, so I don't have feelings, but I'm here and ready to help you. How can\")], name=None), usage=Usage(prompt_tokens=0, completion_tokens=0, total_tokens=0), prompt=[{}]),\n",
       " CompletionResults(message=Message(role='assistant', content=[TextContent(text=\"Hello! I'm just a computer program, so I don't have feelings, but I'm here and ready to help you. How can I\")], name=None), usage=Usage(prompt_tokens=0, completion_tokens=0, total_tokens=0), prompt=[{}]),\n",
       " CompletionResults(message=Message(role='assistant', content=[TextContent(text=\"Hello! I'm just a computer program, so I don't have feelings, but I'm here and ready to help you. How can I assist\")], name=None), usage=Usage(prompt_tokens=0, completion_tokens=0, total_tokens=0), prompt=[{}]),\n",
       " CompletionResults(message=Message(role='assistant', content=[TextContent(text=\"Hello! I'm just a computer program, so I don't have feelings, but I'm here and ready to help you. How can I assist you\")], name=None), usage=Usage(prompt_tokens=0, completion_tokens=0, total_tokens=0), prompt=[{}]),\n",
       " CompletionResults(message=Message(role='assistant', content=[TextContent(text=\"Hello! I'm just a computer program, so I don't have feelings, but I'm here and ready to help you. How can I assist you today\")], name=None), usage=Usage(prompt_tokens=0, completion_tokens=0, total_tokens=0), prompt=[{}]),\n",
       " CompletionResults(message=Message(role='assistant', content=[TextContent(text=\"Hello! I'm just a computer program, so I don't have feelings, but I'm here and ready to help you. How can I assist you today?\")], name=None), usage=Usage(prompt_tokens=0, completion_tokens=0, total_tokens=0), prompt=[{}]),\n",
       " CompletionResults(message=Message(role='assistant', content=[TextContent(text=\"Hello! I'm just a computer program, so I don't have feelings, but I'm here and ready to help you. How can I assist you today?\")], name=None), usage=Usage(prompt_tokens=16, completion_tokens=30, total_tokens=46), prompt=[{'role': 'user', 'content': [{'type': 'text', 'text': 'Hello. How are you today?'}], 'name': 'User'}])]"
      ]
     },
     "execution_count": 14,
     "metadata": {},
     "output_type": "execute_result"
    }
   ],
   "source": [
    "stream = chat_openai.astream(prompt)\n",
    "responses = [r async for r in stream]\n",
    "responses"
   ]
  },
  {
   "cell_type": "markdown",
   "metadata": {},
   "source": [
    "multiple response generation"
   ]
  },
  {
   "cell_type": "code",
   "execution_count": 15,
   "metadata": {},
   "outputs": [],
   "source": [
    "response = chat_openai.run(prompt, n_results=2)"
   ]
  },
  {
   "cell_type": "code",
   "execution_count": 16,
   "metadata": {},
   "outputs": [
    {
     "data": {
      "text/plain": [
       "{'role': 'assistant',\n",
       " 'content': [{'text': \"Hello! I don't have feelings, but I'm here and ready to help you. How can I assist you today?\"},\n",
       "  {'text': \"Hello! I'm just a machine, so I don't have feelings, but thanks for asking. How can I assist you today?\"}],\n",
       " 'name': None}"
      ]
     },
     "execution_count": 16,
     "metadata": {},
     "output_type": "execute_result"
    }
   ],
   "source": [
    "response.message.model_dump()"
   ]
  },
  {
   "cell_type": "code",
   "execution_count": 17,
   "metadata": {},
   "outputs": [
    {
     "data": {
      "text/plain": [
       "{'role': 'assistant',\n",
       " 'content': [{'text': \"Hello! I'm just a computer program, so I don't have feelings, but I'm here and ready to help you. How can I assist you today?\"},\n",
       "  {'text': \"Hello! I'm just a computer program, so I don't have feelings, but thanks for asking. How can I assist you today?\"}],\n",
       " 'name': None}"
      ]
     },
     "execution_count": 17,
     "metadata": {},
     "output_type": "execute_result"
    }
   ],
   "source": [
    "# async\n",
    "\n",
    "response = await chat_openai.arun(prompt, n_results=2)\n",
    "response.message.model_dump()"
   ]
  },
  {
   "cell_type": "markdown",
   "metadata": {},
   "source": [
    "### For Azure OpenAI"
   ]
  },
  {
   "cell_type": "code",
   "execution_count": 18,
   "metadata": {},
   "outputs": [],
   "source": [
    "chat_openai_azure = OpenAIFunctionalChat(\n",
    "    api_key_env_name=\"AZURE_API_KEY\",\n",
    "    model_name=\"gpt-4o-2024-05-13\",\n",
    "    api_type=\"azure\",\n",
    "    api_version=\"2024-05-01-preview\",\n",
    "    endpoint_env_name=\"AZURE_ENDPOINT\",\n",
    "    deployment_id_env_name=\"AZURE_DEPLOYMENT_ID\",\n",
    ")"
   ]
  },
  {
   "cell_type": "code",
   "execution_count": 19,
   "metadata": {},
   "outputs": [
    {
     "name": "stdout",
     "output_type": "stream",
     "text": [
      "Hello! I'm just a computer program, so I don't have feelings, but I'm here and ready to help you with anything you need. How can I assist you today?\n"
     ]
    }
   ],
   "source": [
    "response = chat_openai_azure.run(prompt)\n",
    "print(response.message.content[0].text)"
   ]
  },
  {
   "cell_type": "code",
   "execution_count": 20,
   "metadata": {},
   "outputs": [
    {
     "name": "stdout",
     "output_type": "stream",
     "text": [
      "Hello! I'm just a computer program, so I don't have feelings, but I'm here and ready to help you. How can I assist you today?\n"
     ]
    }
   ],
   "source": [
    "# async\n",
    "response = await chat_openai_azure.arun(prompt)\n",
    "print(response.message.content[0].text)"
   ]
  },
  {
   "cell_type": "code",
   "execution_count": 21,
   "metadata": {},
   "outputs": [
    {
     "data": {
      "text/plain": [
       "[CompletionResults(message=Message(role='assistant', content=[TextContent(text='')], name=None), usage=Usage(prompt_tokens=0, completion_tokens=0, total_tokens=0), prompt=[{}]),\n",
       " CompletionResults(message=Message(role='assistant', content=[TextContent(text='Hello')], name=None), usage=Usage(prompt_tokens=0, completion_tokens=0, total_tokens=0), prompt=[{}]),\n",
       " CompletionResults(message=Message(role='assistant', content=[TextContent(text='Hello!')], name=None), usage=Usage(prompt_tokens=0, completion_tokens=0, total_tokens=0), prompt=[{}]),\n",
       " CompletionResults(message=Message(role='assistant', content=[TextContent(text=\"Hello! I'm\")], name=None), usage=Usage(prompt_tokens=0, completion_tokens=0, total_tokens=0), prompt=[{}]),\n",
       " CompletionResults(message=Message(role='assistant', content=[TextContent(text=\"Hello! I'm just\")], name=None), usage=Usage(prompt_tokens=0, completion_tokens=0, total_tokens=0), prompt=[{}]),\n",
       " CompletionResults(message=Message(role='assistant', content=[TextContent(text=\"Hello! I'm just a\")], name=None), usage=Usage(prompt_tokens=0, completion_tokens=0, total_tokens=0), prompt=[{}]),\n",
       " CompletionResults(message=Message(role='assistant', content=[TextContent(text=\"Hello! I'm just a computer\")], name=None), usage=Usage(prompt_tokens=0, completion_tokens=0, total_tokens=0), prompt=[{}]),\n",
       " CompletionResults(message=Message(role='assistant', content=[TextContent(text=\"Hello! I'm just a computer program\")], name=None), usage=Usage(prompt_tokens=0, completion_tokens=0, total_tokens=0), prompt=[{}]),\n",
       " CompletionResults(message=Message(role='assistant', content=[TextContent(text=\"Hello! I'm just a computer program,\")], name=None), usage=Usage(prompt_tokens=0, completion_tokens=0, total_tokens=0), prompt=[{}]),\n",
       " CompletionResults(message=Message(role='assistant', content=[TextContent(text=\"Hello! I'm just a computer program, so\")], name=None), usage=Usage(prompt_tokens=0, completion_tokens=0, total_tokens=0), prompt=[{}]),\n",
       " CompletionResults(message=Message(role='assistant', content=[TextContent(text=\"Hello! I'm just a computer program, so I\")], name=None), usage=Usage(prompt_tokens=0, completion_tokens=0, total_tokens=0), prompt=[{}]),\n",
       " CompletionResults(message=Message(role='assistant', content=[TextContent(text=\"Hello! I'm just a computer program, so I don't\")], name=None), usage=Usage(prompt_tokens=0, completion_tokens=0, total_tokens=0), prompt=[{}]),\n",
       " CompletionResults(message=Message(role='assistant', content=[TextContent(text=\"Hello! I'm just a computer program, so I don't have\")], name=None), usage=Usage(prompt_tokens=0, completion_tokens=0, total_tokens=0), prompt=[{}]),\n",
       " CompletionResults(message=Message(role='assistant', content=[TextContent(text=\"Hello! I'm just a computer program, so I don't have feelings\")], name=None), usage=Usage(prompt_tokens=0, completion_tokens=0, total_tokens=0), prompt=[{}]),\n",
       " CompletionResults(message=Message(role='assistant', content=[TextContent(text=\"Hello! I'm just a computer program, so I don't have feelings,\")], name=None), usage=Usage(prompt_tokens=0, completion_tokens=0, total_tokens=0), prompt=[{}]),\n",
       " CompletionResults(message=Message(role='assistant', content=[TextContent(text=\"Hello! I'm just a computer program, so I don't have feelings, but\")], name=None), usage=Usage(prompt_tokens=0, completion_tokens=0, total_tokens=0), prompt=[{}]),\n",
       " CompletionResults(message=Message(role='assistant', content=[TextContent(text=\"Hello! I'm just a computer program, so I don't have feelings, but I'm\")], name=None), usage=Usage(prompt_tokens=0, completion_tokens=0, total_tokens=0), prompt=[{}]),\n",
       " CompletionResults(message=Message(role='assistant', content=[TextContent(text=\"Hello! I'm just a computer program, so I don't have feelings, but I'm here\")], name=None), usage=Usage(prompt_tokens=0, completion_tokens=0, total_tokens=0), prompt=[{}]),\n",
       " CompletionResults(message=Message(role='assistant', content=[TextContent(text=\"Hello! I'm just a computer program, so I don't have feelings, but I'm here and\")], name=None), usage=Usage(prompt_tokens=0, completion_tokens=0, total_tokens=0), prompt=[{}]),\n",
       " CompletionResults(message=Message(role='assistant', content=[TextContent(text=\"Hello! I'm just a computer program, so I don't have feelings, but I'm here and ready\")], name=None), usage=Usage(prompt_tokens=0, completion_tokens=0, total_tokens=0), prompt=[{}]),\n",
       " CompletionResults(message=Message(role='assistant', content=[TextContent(text=\"Hello! I'm just a computer program, so I don't have feelings, but I'm here and ready to\")], name=None), usage=Usage(prompt_tokens=0, completion_tokens=0, total_tokens=0), prompt=[{}]),\n",
       " CompletionResults(message=Message(role='assistant', content=[TextContent(text=\"Hello! I'm just a computer program, so I don't have feelings, but I'm here and ready to assist\")], name=None), usage=Usage(prompt_tokens=0, completion_tokens=0, total_tokens=0), prompt=[{}]),\n",
       " CompletionResults(message=Message(role='assistant', content=[TextContent(text=\"Hello! I'm just a computer program, so I don't have feelings, but I'm here and ready to assist you\")], name=None), usage=Usage(prompt_tokens=0, completion_tokens=0, total_tokens=0), prompt=[{}]),\n",
       " CompletionResults(message=Message(role='assistant', content=[TextContent(text=\"Hello! I'm just a computer program, so I don't have feelings, but I'm here and ready to assist you.\")], name=None), usage=Usage(prompt_tokens=0, completion_tokens=0, total_tokens=0), prompt=[{}]),\n",
       " CompletionResults(message=Message(role='assistant', content=[TextContent(text=\"Hello! I'm just a computer program, so I don't have feelings, but I'm here and ready to assist you. How\")], name=None), usage=Usage(prompt_tokens=0, completion_tokens=0, total_tokens=0), prompt=[{}]),\n",
       " CompletionResults(message=Message(role='assistant', content=[TextContent(text=\"Hello! I'm just a computer program, so I don't have feelings, but I'm here and ready to assist you. How can\")], name=None), usage=Usage(prompt_tokens=0, completion_tokens=0, total_tokens=0), prompt=[{}]),\n",
       " CompletionResults(message=Message(role='assistant', content=[TextContent(text=\"Hello! I'm just a computer program, so I don't have feelings, but I'm here and ready to assist you. How can I\")], name=None), usage=Usage(prompt_tokens=0, completion_tokens=0, total_tokens=0), prompt=[{}]),\n",
       " CompletionResults(message=Message(role='assistant', content=[TextContent(text=\"Hello! I'm just a computer program, so I don't have feelings, but I'm here and ready to assist you. How can I help\")], name=None), usage=Usage(prompt_tokens=0, completion_tokens=0, total_tokens=0), prompt=[{}]),\n",
       " CompletionResults(message=Message(role='assistant', content=[TextContent(text=\"Hello! I'm just a computer program, so I don't have feelings, but I'm here and ready to assist you. How can I help you\")], name=None), usage=Usage(prompt_tokens=0, completion_tokens=0, total_tokens=0), prompt=[{}]),\n",
       " CompletionResults(message=Message(role='assistant', content=[TextContent(text=\"Hello! I'm just a computer program, so I don't have feelings, but I'm here and ready to assist you. How can I help you today\")], name=None), usage=Usage(prompt_tokens=0, completion_tokens=0, total_tokens=0), prompt=[{}]),\n",
       " CompletionResults(message=Message(role='assistant', content=[TextContent(text=\"Hello! I'm just a computer program, so I don't have feelings, but I'm here and ready to assist you. How can I help you today?\")], name=None), usage=Usage(prompt_tokens=0, completion_tokens=0, total_tokens=0), prompt=[{}]),\n",
       " CompletionResults(message=Message(role='assistant', content=[TextContent(text=\"Hello! I'm just a computer program, so I don't have feelings, but I'm here and ready to assist you. How can I help you today?\")], name=None), usage=Usage(prompt_tokens=16, completion_tokens=38, total_tokens=54), prompt=[{'role': 'user', 'content': [{'type': 'text', 'text': 'Hello. How are you today?'}], 'name': 'User'}])]"
      ]
     },
     "execution_count": 21,
     "metadata": {},
     "output_type": "execute_result"
    }
   ],
   "source": [
    "# stream\n",
    "response = chat_openai_azure.stream(prompt)\n",
    "[r for r in response]"
   ]
  },
  {
   "cell_type": "code",
   "execution_count": 22,
   "metadata": {},
   "outputs": [
    {
     "data": {
      "text/plain": [
       "[CompletionResults(message=Message(role='assistant', content=[TextContent(text='')], name=None), usage=Usage(prompt_tokens=0, completion_tokens=0, total_tokens=0), prompt=[{}]),\n",
       " CompletionResults(message=Message(role='assistant', content=[TextContent(text='Hello')], name=None), usage=Usage(prompt_tokens=0, completion_tokens=0, total_tokens=0), prompt=[{}]),\n",
       " CompletionResults(message=Message(role='assistant', content=[TextContent(text='Hello!')], name=None), usage=Usage(prompt_tokens=0, completion_tokens=0, total_tokens=0), prompt=[{}]),\n",
       " CompletionResults(message=Message(role='assistant', content=[TextContent(text=\"Hello! I'm\")], name=None), usage=Usage(prompt_tokens=0, completion_tokens=0, total_tokens=0), prompt=[{}]),\n",
       " CompletionResults(message=Message(role='assistant', content=[TextContent(text=\"Hello! I'm just\")], name=None), usage=Usage(prompt_tokens=0, completion_tokens=0, total_tokens=0), prompt=[{}]),\n",
       " CompletionResults(message=Message(role='assistant', content=[TextContent(text=\"Hello! I'm just a\")], name=None), usage=Usage(prompt_tokens=0, completion_tokens=0, total_tokens=0), prompt=[{}]),\n",
       " CompletionResults(message=Message(role='assistant', content=[TextContent(text=\"Hello! I'm just a computer\")], name=None), usage=Usage(prompt_tokens=0, completion_tokens=0, total_tokens=0), prompt=[{}]),\n",
       " CompletionResults(message=Message(role='assistant', content=[TextContent(text=\"Hello! I'm just a computer program\")], name=None), usage=Usage(prompt_tokens=0, completion_tokens=0, total_tokens=0), prompt=[{}]),\n",
       " CompletionResults(message=Message(role='assistant', content=[TextContent(text=\"Hello! I'm just a computer program,\")], name=None), usage=Usage(prompt_tokens=0, completion_tokens=0, total_tokens=0), prompt=[{}]),\n",
       " CompletionResults(message=Message(role='assistant', content=[TextContent(text=\"Hello! I'm just a computer program, so\")], name=None), usage=Usage(prompt_tokens=0, completion_tokens=0, total_tokens=0), prompt=[{}]),\n",
       " CompletionResults(message=Message(role='assistant', content=[TextContent(text=\"Hello! I'm just a computer program, so I\")], name=None), usage=Usage(prompt_tokens=0, completion_tokens=0, total_tokens=0), prompt=[{}]),\n",
       " CompletionResults(message=Message(role='assistant', content=[TextContent(text=\"Hello! I'm just a computer program, so I don't\")], name=None), usage=Usage(prompt_tokens=0, completion_tokens=0, total_tokens=0), prompt=[{}]),\n",
       " CompletionResults(message=Message(role='assistant', content=[TextContent(text=\"Hello! I'm just a computer program, so I don't have\")], name=None), usage=Usage(prompt_tokens=0, completion_tokens=0, total_tokens=0), prompt=[{}]),\n",
       " CompletionResults(message=Message(role='assistant', content=[TextContent(text=\"Hello! I'm just a computer program, so I don't have feelings\")], name=None), usage=Usage(prompt_tokens=0, completion_tokens=0, total_tokens=0), prompt=[{}]),\n",
       " CompletionResults(message=Message(role='assistant', content=[TextContent(text=\"Hello! I'm just a computer program, so I don't have feelings,\")], name=None), usage=Usage(prompt_tokens=0, completion_tokens=0, total_tokens=0), prompt=[{}]),\n",
       " CompletionResults(message=Message(role='assistant', content=[TextContent(text=\"Hello! I'm just a computer program, so I don't have feelings, but\")], name=None), usage=Usage(prompt_tokens=0, completion_tokens=0, total_tokens=0), prompt=[{}]),\n",
       " CompletionResults(message=Message(role='assistant', content=[TextContent(text=\"Hello! I'm just a computer program, so I don't have feelings, but thanks\")], name=None), usage=Usage(prompt_tokens=0, completion_tokens=0, total_tokens=0), prompt=[{}]),\n",
       " CompletionResults(message=Message(role='assistant', content=[TextContent(text=\"Hello! I'm just a computer program, so I don't have feelings, but thanks for\")], name=None), usage=Usage(prompt_tokens=0, completion_tokens=0, total_tokens=0), prompt=[{}]),\n",
       " CompletionResults(message=Message(role='assistant', content=[TextContent(text=\"Hello! I'm just a computer program, so I don't have feelings, but thanks for asking\")], name=None), usage=Usage(prompt_tokens=0, completion_tokens=0, total_tokens=0), prompt=[{}]),\n",
       " CompletionResults(message=Message(role='assistant', content=[TextContent(text=\"Hello! I'm just a computer program, so I don't have feelings, but thanks for asking.\")], name=None), usage=Usage(prompt_tokens=0, completion_tokens=0, total_tokens=0), prompt=[{}]),\n",
       " CompletionResults(message=Message(role='assistant', content=[TextContent(text=\"Hello! I'm just a computer program, so I don't have feelings, but thanks for asking. How\")], name=None), usage=Usage(prompt_tokens=0, completion_tokens=0, total_tokens=0), prompt=[{}]),\n",
       " CompletionResults(message=Message(role='assistant', content=[TextContent(text=\"Hello! I'm just a computer program, so I don't have feelings, but thanks for asking. How can\")], name=None), usage=Usage(prompt_tokens=0, completion_tokens=0, total_tokens=0), prompt=[{}]),\n",
       " CompletionResults(message=Message(role='assistant', content=[TextContent(text=\"Hello! I'm just a computer program, so I don't have feelings, but thanks for asking. How can I\")], name=None), usage=Usage(prompt_tokens=0, completion_tokens=0, total_tokens=0), prompt=[{}]),\n",
       " CompletionResults(message=Message(role='assistant', content=[TextContent(text=\"Hello! I'm just a computer program, so I don't have feelings, but thanks for asking. How can I assist\")], name=None), usage=Usage(prompt_tokens=0, completion_tokens=0, total_tokens=0), prompt=[{}]),\n",
       " CompletionResults(message=Message(role='assistant', content=[TextContent(text=\"Hello! I'm just a computer program, so I don't have feelings, but thanks for asking. How can I assist you\")], name=None), usage=Usage(prompt_tokens=0, completion_tokens=0, total_tokens=0), prompt=[{}]),\n",
       " CompletionResults(message=Message(role='assistant', content=[TextContent(text=\"Hello! I'm just a computer program, so I don't have feelings, but thanks for asking. How can I assist you today\")], name=None), usage=Usage(prompt_tokens=0, completion_tokens=0, total_tokens=0), prompt=[{}]),\n",
       " CompletionResults(message=Message(role='assistant', content=[TextContent(text=\"Hello! I'm just a computer program, so I don't have feelings, but thanks for asking. How can I assist you today?\")], name=None), usage=Usage(prompt_tokens=0, completion_tokens=0, total_tokens=0), prompt=[{}]),\n",
       " CompletionResults(message=Message(role='assistant', content=[TextContent(text=\"Hello! I'm just a computer program, so I don't have feelings, but thanks for asking. How can I assist you today?\")], name=None), usage=Usage(prompt_tokens=16, completion_tokens=34, total_tokens=50), prompt=[{'role': 'user', 'content': [{'type': 'text', 'text': 'Hello. How are you today?'}], 'name': 'User'}])]"
      ]
     },
     "execution_count": 22,
     "metadata": {},
     "output_type": "execute_result"
    }
   ],
   "source": [
    "# async stream\n",
    "response = chat_openai_azure.astream(prompt)\n",
    "[r async for r in response]"
   ]
  },
  {
   "cell_type": "markdown",
   "metadata": {},
   "source": [
    "multiple generation"
   ]
  },
  {
   "cell_type": "code",
   "execution_count": 23,
   "metadata": {},
   "outputs": [
    {
     "data": {
      "text/plain": [
       "{'role': 'assistant',\n",
       " 'content': [{'text': \"Hello! I'm here and ready to assist you. How can I help you today?\"},\n",
       "  {'text': \"Hello! I'm just a computer program, so I don't have feelings, but thanks for asking. How can I assist you today?\"}],\n",
       " 'name': None}"
      ]
     },
     "execution_count": 23,
     "metadata": {},
     "output_type": "execute_result"
    }
   ],
   "source": [
    "response = chat_openai_azure.run(prompt, n_results=2)\n",
    "response.message.model_dump()"
   ]
  },
  {
   "cell_type": "code",
   "execution_count": 24,
   "metadata": {},
   "outputs": [
    {
     "data": {
      "text/plain": [
       "{'role': 'assistant',\n",
       " 'content': [{'text': \"Hello! I'm just a computer program, so I don't have feelings, but I'm here and ready to help you with whatever you need. How can I assist you today?\"},\n",
       "  {'text': \"Hello! I'm here and ready to help you with any questions or tasks you have. How can I assist you today?\"}],\n",
       " 'name': None}"
      ]
     },
     "execution_count": 24,
     "metadata": {},
     "output_type": "execute_result"
    }
   ],
   "source": [
    "# async\n",
    "response = await chat_openai_azure.arun(prompt, n_results=2)\n",
    "response.message.model_dump()"
   ]
  },
  {
   "cell_type": "markdown",
   "metadata": {},
   "source": [
    "### Gemini on Google Generative AI"
   ]
  },
  {
   "cell_type": "code",
   "execution_count": 25,
   "metadata": {},
   "outputs": [],
   "source": [
    "gemini = GeminiFunctionalChat(\n",
    "    api_key_env_name=\"GEMINI_API_KEY\",\n",
    "    model_name=\"gemini-1.5-flash\",\n",
    ")"
   ]
  },
  {
   "cell_type": "code",
   "execution_count": 26,
   "metadata": {},
   "outputs": [
    {
     "name": "stdout",
     "output_type": "stream",
     "text": [
      "As an AI, I don't have feelings or experiences like humans do. But I'm here and ready to assist you!  How can I help you today? 😊 \n",
      "\n"
     ]
    }
   ],
   "source": [
    "response = gemini.run(prompt)\n",
    "print(response.message.content[0].text)"
   ]
  },
  {
   "cell_type": "code",
   "execution_count": 27,
   "metadata": {},
   "outputs": [
    {
     "data": {
      "text/plain": [
       "{'role': 'assistant',\n",
       " 'content': [{'text': \"As an AI, I don't have feelings or experiences like humans do. But I'm here and ready to assist you!  How can I help you today? 😊 \\n\"}],\n",
       " 'name': None}"
      ]
     },
     "execution_count": 27,
     "metadata": {},
     "output_type": "execute_result"
    }
   ],
   "source": [
    "response.message.model_dump()"
   ]
  },
  {
   "cell_type": "code",
   "execution_count": 28,
   "metadata": {},
   "outputs": [
    {
     "name": "stdout",
     "output_type": "stream",
     "text": [
      "I am an AI language model, so I don't have feelings or experiences like humans do. However, I am here to assist you with any questions or tasks you may have. How can I help you today? 😊 \n",
      "\n"
     ]
    }
   ],
   "source": [
    "# async\n",
    "response = await gemini.arun(prompt)\n",
    "print(response.message.content[0].text)"
   ]
  },
  {
   "cell_type": "code",
   "execution_count": 29,
   "metadata": {},
   "outputs": [
    {
     "data": {
      "text/plain": [
       "[CompletionResults(message=Message(role='assistant', content=[TextContent(text='As')], name=None), usage=Usage(prompt_tokens=0, completion_tokens=0, total_tokens=0), prompt=''),\n",
       " CompletionResults(message=Message(role='assistant', content=[TextContent(text=\"As an AI, I don't have feelings or experiences like humans do. So\")], name=None), usage=Usage(prompt_tokens=0, completion_tokens=0, total_tokens=0), prompt=''),\n",
       " CompletionResults(message=Message(role='assistant', content=[TextContent(text='As an AI, I don\\'t have feelings or experiences like humans do. So, I don\\'t have a \"good\" or \"bad\" day.')], name=None), usage=Usage(prompt_tokens=0, completion_tokens=0, total_tokens=0), prompt=''),\n",
       " CompletionResults(message=Message(role='assistant', content=[TextContent(text='As an AI, I don\\'t have feelings or experiences like humans do. So, I don\\'t have a \"good\" or \"bad\" day.  However, I\\'m here and ready to help you with any questions or tasks you have! 😄 How are you doing today? \\n')], name=None), usage=Usage(prompt_tokens=0, completion_tokens=0, total_tokens=0), prompt=''),\n",
       " CompletionResults(message=Message(role='assistant', content=[TextContent(text='As an AI, I don\\'t have feelings or experiences like humans do. So, I don\\'t have a \"good\" or \"bad\" day.  However, I\\'m here and ready to help you with any questions or tasks you have! 😄 How are you doing today? \\n')], name=None), usage=Usage(prompt_tokens=8, completion_tokens=62, total_tokens=70), prompt=[parts {\n",
       "   text: \"Hello. How are you today?\"\n",
       " }\n",
       " role: \"user\"\n",
       " ])]"
      ]
     },
     "execution_count": 29,
     "metadata": {},
     "output_type": "execute_result"
    }
   ],
   "source": [
    "# stream\n",
    "response = gemini.stream(prompt)\n",
    "[r for r in response]"
   ]
  },
  {
   "cell_type": "code",
   "execution_count": 30,
   "metadata": {},
   "outputs": [
    {
     "data": {
      "text/plain": [
       "[CompletionResults(message=Message(role='assistant', content=[TextContent(text='I')], name=None), usage=Usage(prompt_tokens=0, completion_tokens=0, total_tokens=0), prompt=''),\n",
       " CompletionResults(message=Message(role='assistant', content=[TextContent(text=\"I am an AI language model, so I don't have feelings or experiences like\")], name=None), usage=Usage(prompt_tokens=0, completion_tokens=0, total_tokens=0), prompt=''),\n",
       " CompletionResults(message=Message(role='assistant', content=[TextContent(text=\"I am an AI language model, so I don't have feelings or experiences like humans do. However, I'm here and ready to assist you with any\")], name=None), usage=Usage(prompt_tokens=0, completion_tokens=0, total_tokens=0), prompt=''),\n",
       " CompletionResults(message=Message(role='assistant', content=[TextContent(text=\"I am an AI language model, so I don't have feelings or experiences like humans do. However, I'm here and ready to assist you with any questions or tasks you may have! 😊 How can I help you today? \\n\")], name=None), usage=Usage(prompt_tokens=0, completion_tokens=0, total_tokens=0), prompt=''),\n",
       " CompletionResults(message=Message(role='assistant', content=[TextContent(text=\"I am an AI language model, so I don't have feelings or experiences like humans do. However, I'm here and ready to assist you with any questions or tasks you may have! 😊 How can I help you today? \\n\")], name=None), usage=Usage(prompt_tokens=8, completion_tokens=50, total_tokens=58), prompt=[parts {\n",
       "   text: \"Hello. How are you today?\"\n",
       " }\n",
       " role: \"user\"\n",
       " ])]"
      ]
     },
     "execution_count": 30,
     "metadata": {},
     "output_type": "execute_result"
    }
   ],
   "source": [
    "# async stream\n",
    "response = gemini.astream(prompt)\n",
    "[r async for r in response]"
   ]
  },
  {
   "cell_type": "markdown",
   "metadata": {},
   "source": [
    "### Gemini on VertexAI"
   ]
  },
  {
   "cell_type": "code",
   "execution_count": 31,
   "metadata": {},
   "outputs": [],
   "source": [
    "gemini_vertexai = GeminiFunctionalChat(\n",
    "    model_name=\"gemini-1.5-flash\",\n",
    "    api_type=\"vertexai\",\n",
    "    project_id_env_name=\"PROJECT_ID\",\n",
    "    location_env_name=\"LOCATION\",\n",
    ")"
   ]
  },
  {
   "cell_type": "code",
   "execution_count": 32,
   "metadata": {},
   "outputs": [
    {
     "name": "stdout",
     "output_type": "stream",
     "text": [
      "As an AI, I don't have feelings or experiences like humans do, so I don't \"feel\" anything. However, I'm here and ready to assist you with any questions or tasks you may have! 😊 How can I help you today? \n",
      "\n"
     ]
    }
   ],
   "source": [
    "response = gemini_vertexai.run(prompt)\n",
    "print(response.message.content[0].text)"
   ]
  },
  {
   "cell_type": "code",
   "execution_count": 33,
   "metadata": {},
   "outputs": [
    {
     "name": "stdout",
     "output_type": "stream",
     "text": [
      "As an AI, I don't have feelings or experiences like humans do. So, I'm not \"feeling\" anything today. But I'm here and ready to assist you with any questions or tasks you may have! 😊 How can I help you today? \n",
      "\n"
     ]
    }
   ],
   "source": [
    "# async\n",
    "response = await gemini_vertexai.arun(prompt)\n",
    "print(response.message.content[0].text)"
   ]
  },
  {
   "cell_type": "code",
   "execution_count": 34,
   "metadata": {},
   "outputs": [
    {
     "data": {
      "text/plain": [
       "[CompletionResults(message=Message(role='assistant', content=[TextContent(text='As')], name=None), usage=Usage(prompt_tokens=0, completion_tokens=0, total_tokens=0), prompt=''),\n",
       " CompletionResults(message=Message(role='assistant', content=[TextContent(text=\"As an AI, I don't have feelings or experiences like humans do, so\")], name=None), usage=Usage(prompt_tokens=0, completion_tokens=0, total_tokens=0), prompt=''),\n",
       " CompletionResults(message=Message(role='assistant', content=[TextContent(text='As an AI, I don\\'t have feelings or experiences like humans do, so I don\\'t have a \"good\" or \"bad\" day. 😊')], name=None), usage=Usage(prompt_tokens=0, completion_tokens=0, total_tokens=0), prompt=''),\n",
       " CompletionResults(message=Message(role='assistant', content=[TextContent(text='As an AI, I don\\'t have feelings or experiences like humans do, so I don\\'t have a \"good\" or \"bad\" day. 😊  However, I\\'m here and ready to assist you with anything you need! How can I help you today? \\n')], name=None), usage=Usage(prompt_tokens=0, completion_tokens=0, total_tokens=0), prompt=''),\n",
       " CompletionResults(message=Message(role='assistant', content=[TextContent(text='As an AI, I don\\'t have feelings or experiences like humans do, so I don\\'t have a \"good\" or \"bad\" day. 😊  However, I\\'m here and ready to assist you with anything you need! How can I help you today? \\n')], name=None), usage=Usage(prompt_tokens=7, completion_tokens=59, total_tokens=66), prompt=[role: \"user\"\n",
       " parts {\n",
       "   text: \"Hello. How are you today?\"\n",
       " }\n",
       " ])]"
      ]
     },
     "execution_count": 34,
     "metadata": {},
     "output_type": "execute_result"
    }
   ],
   "source": [
    "# stream\n",
    "response = gemini_vertexai.stream(prompt)\n",
    "[r for r in response]"
   ]
  },
  {
   "cell_type": "code",
   "execution_count": 35,
   "metadata": {},
   "outputs": [
    {
     "data": {
      "text/plain": [
       "[CompletionResults(message=Message(role='assistant', content=[TextContent(text='As')], name=None), usage=Usage(prompt_tokens=0, completion_tokens=0, total_tokens=0), prompt=''),\n",
       " CompletionResults(message=Message(role='assistant', content=[TextContent(text=\"As an AI, I don't have feelings or experiences like humans do. So\")], name=None), usage=Usage(prompt_tokens=0, completion_tokens=0, total_tokens=0), prompt=''),\n",
       " CompletionResults(message=Message(role='assistant', content=[TextContent(text='As an AI, I don\\'t have feelings or experiences like humans do. So, I\\'m not \"feeling\" anything in the way you might be asking')], name=None), usage=Usage(prompt_tokens=0, completion_tokens=0, total_tokens=0), prompt=''),\n",
       " CompletionResults(message=Message(role='assistant', content=[TextContent(text='As an AI, I don\\'t have feelings or experiences like humans do. So, I\\'m not \"feeling\" anything in the way you might be asking. 😊 \\n\\nHowever, I\\'m here and ready to assist you with any questions or tasks you may have! How can I help you today? ')], name=None), usage=Usage(prompt_tokens=0, completion_tokens=0, total_tokens=0), prompt=''),\n",
       " CompletionResults(message=Message(role='assistant', content=[TextContent(text='As an AI, I don\\'t have feelings or experiences like humans do. So, I\\'m not \"feeling\" anything in the way you might be asking. 😊 \\n\\nHowever, I\\'m here and ready to assist you with any questions or tasks you may have! How can I help you today? \\n')], name=None), usage=Usage(prompt_tokens=0, completion_tokens=0, total_tokens=0), prompt=''),\n",
       " CompletionResults(message=Message(role='assistant', content=[TextContent(text='As an AI, I don\\'t have feelings or experiences like humans do. So, I\\'m not \"feeling\" anything in the way you might be asking. 😊 \\n\\nHowever, I\\'m here and ready to assist you with any questions or tasks you may have! How can I help you today? \\n')], name=None), usage=Usage(prompt_tokens=7, completion_tokens=66, total_tokens=73), prompt=[role: \"user\"\n",
       " parts {\n",
       "   text: \"Hello. How are you today?\"\n",
       " }\n",
       " ])]"
      ]
     },
     "execution_count": 35,
     "metadata": {},
     "output_type": "execute_result"
    }
   ],
   "source": [
    "# async stream\n",
    "response = gemini_vertexai.astream(prompt)\n",
    "[r async for r in response]"
   ]
  },
  {
   "cell_type": "markdown",
   "metadata": {},
   "source": [
    "multiple resposne generation"
   ]
  },
  {
   "cell_type": "code",
   "execution_count": 36,
   "metadata": {},
   "outputs": [],
   "source": [
    "response = gemini_vertexai.run(prompt, n_results=2)"
   ]
  },
  {
   "cell_type": "code",
   "execution_count": 37,
   "metadata": {},
   "outputs": [
    {
     "data": {
      "text/plain": [
       "{'role': 'assistant',\n",
       " 'content': [{'text': \"As an AI, I don't have feelings or experiences like humans do. But I'm here and ready to assist you with any questions or tasks you have! 😊 What can I do for you today? \\n\"},\n",
       "  {'text': \"As an AI, I don't have feelings or experiences like humans do. But I'm here and ready to assist you with any questions or tasks you have! 😊 What can I do for you today? \\n\"}],\n",
       " 'name': None}"
      ]
     },
     "execution_count": 37,
     "metadata": {},
     "output_type": "execute_result"
    }
   ],
   "source": [
    "response.message.model_dump()"
   ]
  },
  {
   "cell_type": "code",
   "execution_count": 38,
   "metadata": {},
   "outputs": [
    {
     "data": {
      "text/plain": [
       "{'role': 'assistant',\n",
       " 'content': [{'text': 'As an AI, I don\\'t have feelings or experiences like humans do. So, I\\'m not \"feeling\" anything. But I\\'m here and ready to assist you with any questions or tasks you may have! 😊 How can I help you today? \\n'},\n",
       "  {'text': 'As an AI, I don\\'t have feelings or experiences like humans do. So, I\\'m not \"feeling\" anything in the way you might be. \\n\\nHowever, I\\'m here and ready to assist you with any questions or tasks you have! How can I help you today? 😊 \\n'}],\n",
       " 'name': None}"
      ]
     },
     "execution_count": 38,
     "metadata": {},
     "output_type": "execute_result"
    }
   ],
   "source": [
    "# async multiple generation\n",
    "response = await gemini_vertexai.arun(prompt, n_results=2)\n",
    "response.message.model_dump()"
   ]
  },
  {
   "cell_type": "markdown",
   "metadata": {},
   "source": [
    "### For Claude on Anthropic"
   ]
  },
  {
   "cell_type": "code",
   "execution_count": 39,
   "metadata": {},
   "outputs": [],
   "source": [
    "claude = ClaudeFunctionalChat(\n",
    "    model_name=\"claude-3-5-sonnet-20240620\",\n",
    "    api_key_env_name=\"ANTHROPIC_API_KEY\",\n",
    ")"
   ]
  },
  {
   "cell_type": "code",
   "execution_count": 40,
   "metadata": {},
   "outputs": [
    {
     "name": "stdout",
     "output_type": "stream",
     "text": [
      "Hello! As an AI language model, I don't have feelings, but I'm functioning well and ready to assist you with any questions or tasks you may have. How can I help you today?\n"
     ]
    }
   ],
   "source": [
    "response = claude.run(prompt)\n",
    "print(response.message.content[0].text)"
   ]
  },
  {
   "cell_type": "code",
   "execution_count": 41,
   "metadata": {},
   "outputs": [
    {
     "name": "stdout",
     "output_type": "stream",
     "text": [
      "Hello! As an AI language model, I don't have feelings, but I'm functioning well and ready to assist you with any questions or tasks you may have. How can I help you today?\n"
     ]
    }
   ],
   "source": [
    "# async\n",
    "response = await claude.arun(prompt)\n",
    "print(response.message.content[0].text)"
   ]
  },
  {
   "cell_type": "markdown",
   "metadata": {},
   "source": [
    "Streaming generation have not been supported yet by `ClaudeFunctionalChat`."
   ]
  },
  {
   "cell_type": "markdown",
   "metadata": {},
   "source": [
    "### For Claude on Amazon Bedrock"
   ]
  },
  {
   "cell_type": "code",
   "execution_count": 42,
   "metadata": {},
   "outputs": [],
   "source": [
    "claude_bedrock = ClaudeFunctionalChat(\n",
    "    model_name=\"anthropic.claude-3-sonnet-20240229-v1:0\",\n",
    "    api_type=\"bedrock\",\n",
    "    aws_access_key_env_name=\"AWS_ACCESS_KEY\",\n",
    "    aws_secret_key_env_name=\"AWS_SECRET_KEY\",\n",
    "    aws_region_env_name=\"AWS_REGION\",\n",
    ")"
   ]
  },
  {
   "cell_type": "code",
   "execution_count": 43,
   "metadata": {},
   "outputs": [
    {
     "name": "stdout",
     "output_type": "stream",
     "text": [
      "Hello! As an AI language model, I don't have feelings, but I'm operating properly and ready to assist you with any questions or tasks you may have. How can I help you today?\n"
     ]
    }
   ],
   "source": [
    "response = claude_bedrock.run(prompt)\n",
    "print(response.message.content[0].text)"
   ]
  },
  {
   "cell_type": "code",
   "execution_count": 44,
   "metadata": {},
   "outputs": [
    {
     "name": "stdout",
     "output_type": "stream",
     "text": [
      "Hello! As an AI language model, I don't have feelings, but I'm functioning properly and ready to assist you with any questions or tasks you may have. How can I help you today?\n"
     ]
    }
   ],
   "source": [
    "response = await claude_bedrock.arun(prompt)\n",
    "print(response.message.content[0].text)"
   ]
  },
  {
   "cell_type": "markdown",
   "metadata": {},
   "source": [
    "# Universal message system"
   ]
  },
  {
   "cell_type": "markdown",
   "metadata": {},
   "source": [
    "Langrila's chat module transforms user prompt and conversation history to universal message object at first, then converts to each client message. Conversation memory has history with universal message format."
   ]
  },
  {
   "cell_type": "code",
   "execution_count": 45,
   "metadata": {},
   "outputs": [],
   "source": [
    "prompt = \"Please describe this picture.\""
   ]
  },
  {
   "cell_type": "markdown",
   "metadata": {},
   "source": [
    "Converting from prompt to universal message"
   ]
  },
  {
   "cell_type": "code",
   "execution_count": 46,
   "metadata": {},
   "outputs": [
    {
     "data": {
      "text/plain": [
       "Message(role='user', content=[TextContent(text='Please describe this picture.')], name=None)"
      ]
     },
     "execution_count": 46,
     "metadata": {},
     "output_type": "execute_result"
    }
   ],
   "source": [
    "from langrila.openai import OpenAIMessage\n",
    "\n",
    "universal_message = OpenAIMessage.to_universal_message(role=\"user\", message=prompt)\n",
    "universal_message"
   ]
  },
  {
   "cell_type": "markdown",
   "metadata": {},
   "source": [
    "Converting from universal message to client message"
   ]
  },
  {
   "cell_type": "code",
   "execution_count": 47,
   "metadata": {},
   "outputs": [
    {
     "data": {
      "text/plain": [
       "{'role': 'user',\n",
       " 'content': [{'type': 'text', 'text': 'Please describe this picture.'}],\n",
       " 'name': 'User'}"
      ]
     },
     "execution_count": 47,
     "metadata": {},
     "output_type": "execute_result"
    }
   ],
   "source": [
    "OpenAIMessage.to_client_message(universal_message)"
   ]
  },
  {
   "cell_type": "markdown",
   "metadata": {},
   "source": [
    "Gemini module has same interface. Also Claude as well."
   ]
  },
  {
   "cell_type": "code",
   "execution_count": 48,
   "metadata": {},
   "outputs": [
    {
     "data": {
      "text/plain": [
       "Message(role='user', content=[TextContent(text='Please describe this picture.')], name=None)"
      ]
     },
     "execution_count": 48,
     "metadata": {},
     "output_type": "execute_result"
    }
   ],
   "source": [
    "from langrila.gemini.genai import GeminiMessage\n",
    "\n",
    "# same method as that of OpenAIMessage\n",
    "universal_message = GeminiMessage.to_universal_message(role=\"user\", message=prompt)\n",
    "universal_message"
   ]
  },
  {
   "cell_type": "code",
   "execution_count": 49,
   "metadata": {},
   "outputs": [
    {
     "data": {
      "text/plain": [
       "parts {\n",
       "  text: \"Please describe this picture.\"\n",
       "}\n",
       "role: \"user\""
      ]
     },
     "execution_count": 49,
     "metadata": {},
     "output_type": "execute_result"
    }
   ],
   "source": [
    "GeminiMessage.to_client_message(universal_message)"
   ]
  },
  {
   "cell_type": "markdown",
   "metadata": {},
   "source": [
    "If you want to set a role and name for your prompt, Message class allows you to do it. Raw text prompt is converted to TextContent object in langrila's chat modules, so TextContent object also can be specified."
   ]
  },
  {
   "cell_type": "code",
   "execution_count": 50,
   "metadata": {},
   "outputs": [
    {
     "data": {
      "text/plain": [
       "Message(role='user', content='Hello.', name='Nsak')"
      ]
     },
     "execution_count": 50,
     "metadata": {},
     "output_type": "execute_result"
    }
   ],
   "source": [
    "prompt = Message(role=\"user\", content=\"Hello.\", name=\"Nsak\")\n",
    "prompt"
   ]
  },
  {
   "cell_type": "markdown",
   "metadata": {},
   "source": [
    "Introducing universal message class, we can use OpenAI Chat Completion, Gemini and Claude in a same way and connect them. "
   ]
  },
  {
   "cell_type": "code",
   "execution_count": 51,
   "metadata": {},
   "outputs": [],
   "source": [
    "# conversation memory allows you to interact with modules for multi-turn conversation.\n",
    "shared_memory = InMemoryConversationMemory()\n",
    "\n",
    "gemini = GeminiFunctionalChat(\n",
    "    api_key_env_name=\"GEMINI_API_KEY\",\n",
    "    model_name=\"gemini-1.5-flash\",\n",
    "    conversation_memory=shared_memory,\n",
    ")\n",
    "\n",
    "chat_openai = OpenAIFunctionalChat(\n",
    "    api_key_env_name=\"API_KEY\",\n",
    "    model_name=\"gpt-4o-2024-05-13\",\n",
    "    api_type=\"openai\",\n",
    "    conversation_memory=shared_memory,\n",
    ")\n",
    "\n",
    "claude = ClaudeFunctionalChat(\n",
    "    model_name=\"claude-3-5-sonnet-20240620\",\n",
    "    api_key_env_name=\"ANTHROPIC_API_KEY\",\n",
    "    conversation_memory=shared_memory,\n",
    ")"
   ]
  },
  {
   "cell_type": "markdown",
   "metadata": {},
   "source": [
    "Call OpenAI Chat Completion at first."
   ]
  },
  {
   "cell_type": "code",
   "execution_count": 52,
   "metadata": {},
   "outputs": [
    {
     "name": "stdout",
     "output_type": "stream",
     "text": [
      "Yes, Rude is a character in Final Fantasy VII, a popular Japanese role-playing game (JRPG) developed by Square Enix. He is a member of the Turks, an elite group within the Shinra Electric Power Company. Rude is known for his stoic demeanor and physical prowess, often serving as the strong, silent type in contrast to his more talkative partner, Reno.\n",
      "\n",
      "Rude has a distinctive appearance, often wearing sunglasses and a black suit, which is the typical attire of the Turks. Throughout the game, he engages in several battles with the main protagonist group, led by Cloud Strife. Despite his allegiance to Shinra, Rude is depicted as having a sense of honor and often shows a degree of respect towards his adversaries.\n",
      "\n",
      "Rude's character also appears in other Final Fantasy VII-related media, including the movie \"Final Fantasy VII: Advent Children\" and the \"Final Fantasy VII Remake,\" where he continues to play his role as a dedicated member of the Turks.\n"
     ]
    }
   ],
   "source": [
    "prompt = \"Do you know Rude in Final Fantasy VII?\"\n",
    "response = chat_openai.run(prompt)\n",
    "print(response.message.content[0].text)"
   ]
  },
  {
   "cell_type": "markdown",
   "metadata": {},
   "source": [
    "After calling OpenAI Chat Completion, conversation history is inherited by Gemini as it is."
   ]
  },
  {
   "cell_type": "code",
   "execution_count": 53,
   "metadata": {},
   "outputs": [
    {
     "name": "stdout",
     "output_type": "stream",
     "text": [
      "While there's no explicit statement from Rude about his opinion on Tifa in the original Final Fantasy VII or its spin-offs, we can glean some insights from his interactions with her and his general character traits:\n",
      "\n",
      "* **Respect for Strength:** Rude is a character who appreciates strength, both physical and mental. He witnesses Tifa's fighting prowess throughout the game and likely respects her abilities. \n",
      "* **Professional Detachment:** As a member of the Turks, Rude is trained to be emotionally detached and prioritize his missions. While he might recognize Tifa's strength, it's unlikely he would let personal opinions interfere with his duty. \n",
      "* **Potential Antagonism:** Rude, like the other Turks, is loyal to Shinra and sees the protagonists as adversaries. While he may respect Tifa's skills, their positions on opposing sides would likely create a sense of antagonism between them.\n",
      "\n",
      "**It's important to note that:**\n",
      "\n",
      "* The original Final Fantasy VII doesn't delve into the Turks' personal opinions on specific characters beyond their professional interactions.\n",
      "* The \"Final Fantasy VII Remake\" might expand on Rude's character and provide more insight into his potential thoughts on Tifa. However, as of the current release, his feelings towards her haven't been explored explicitly.\n",
      "\n",
      "In conclusion, it's safe to assume Rude respects Tifa's abilities as a fighter but likely maintains a professional distance due to their opposing sides in the conflict. His personal opinion on her character remains unclear and open to interpretation. \n",
      "\n"
     ]
    }
   ],
   "source": [
    "prompt = \"What does he think about Tifa?\"\n",
    "response = gemini.run(prompt)\n",
    "print(response.message.content[0].text)"
   ]
  },
  {
   "cell_type": "markdown",
   "metadata": {},
   "source": [
    "You can see assistant role and message object were automatically transformed for Gemini API in the prompt field."
   ]
  },
  {
   "cell_type": "code",
   "execution_count": 54,
   "metadata": {},
   "outputs": [
    {
     "data": {
      "text/plain": [
       "[parts {\n",
       "   text: \"Do you know Rude in Final Fantasy VII?\"\n",
       " }\n",
       " role: \"user\",\n",
       " parts {\n",
       "   text: \"Yes, Rude is a character in Final Fantasy VII, a popular Japanese role-playing game (JRPG) developed by Square Enix. He is a member of the Turks, an elite group within the Shinra Electric Power Company. Rude is known for his stoic demeanor and physical prowess, often serving as the strong, silent type in contrast to his more talkative partner, Reno.\\n\\nRude has a distinctive appearance, often wearing sunglasses and a black suit, which is the typical attire of the Turks. Throughout the game, he engages in several battles with the main protagonist group, led by Cloud Strife. Despite his allegiance to Shinra, Rude is depicted as having a sense of honor and often shows a degree of respect towards his adversaries.\\n\\nRude\\'s character also appears in other Final Fantasy VII-related media, including the movie \\\"Final Fantasy VII: Advent Children\\\" and the \\\"Final Fantasy VII Remake,\\\" where he continues to play his role as a dedicated member of the Turks.\"\n",
       " }\n",
       " role: \"model\",\n",
       " parts {\n",
       "   text: \"What does he think about Tifa?\"\n",
       " }\n",
       " role: \"user\"]"
      ]
     },
     "execution_count": 54,
     "metadata": {},
     "output_type": "execute_result"
    }
   ],
   "source": [
    "response.prompt"
   ]
  },
  {
   "cell_type": "markdown",
   "metadata": {},
   "source": [
    "Claude can follow as well."
   ]
  },
  {
   "cell_type": "code",
   "execution_count": 55,
   "metadata": {},
   "outputs": [
    {
     "name": "stdout",
     "output_type": "stream",
     "text": [
      "Ah, I see where you're going with this question. You're touching on a subtle but interesting aspect of Rude's character that's hinted at in the game. Let me clarify:\n",
      "\n",
      "1. In the original Final Fantasy VII, there's a subtle implication that Rude has a crush on Tifa. This isn't explicitly stated, but it's hinted at through some dialogue and interactions.\n",
      "\n",
      "2. Reno, Rude's partner in the Turks, does seem to be aware of Rude's feelings for Tifa. In one scene, when discussing the AVALANCHE members, Reno teases Rude about liking Tifa.\n",
      "\n",
      "3. When listing the AVALANCHE members they need to take out, Rude notably omits Tifa's name, which Reno points out teasingly.\n",
      "\n",
      "4. This crush is never acted upon or explicitly addressed by Rude himself, maintaining his professional demeanor throughout the game.\n",
      "\n",
      "5. The other Turks' awareness of Rude's feelings isn't clearly established beyond Reno's teasing.\n",
      "\n",
      "So, to directly answer your question: At least one other Turk (Reno) seems to know about Rude's feelings for Tifa, and it's used as a point of light-hearted teasing. However, Rude himself never openly acknowledges these feelings, staying true to his stoic and professional character.\n"
     ]
    }
   ],
   "source": [
    "prompt = \"Does Turks members know his feeling?\"\n",
    "\n",
    "response = claude.run(prompt)\n",
    "\n",
    "print(response.message.content[0].text)"
   ]
  },
  {
   "cell_type": "markdown",
   "metadata": {},
   "source": [
    "# How to specify system instruction"
   ]
  },
  {
   "cell_type": "markdown",
   "metadata": {},
   "source": [
    "Langrila's module accepts system instruction as shown below."
   ]
  },
  {
   "cell_type": "markdown",
   "metadata": {},
   "source": [
    "### For OpenAI Chat Completion"
   ]
  },
  {
   "cell_type": "code",
   "execution_count": 56,
   "metadata": {},
   "outputs": [],
   "source": [
    "system_instruction = \"You must answer any question only with Yes or No.\""
   ]
  },
  {
   "cell_type": "code",
   "execution_count": 57,
   "metadata": {},
   "outputs": [],
   "source": [
    "chat_openai = OpenAIFunctionalChat(\n",
    "    api_key_env_name=\"API_KEY\",\n",
    "    model_name=\"gpt-4o-2024-05-13\",\n",
    "    api_type=\"openai\",\n",
    "    system_instruction=system_instruction,\n",
    "    conversation_memory=InMemoryConversationMemory(),\n",
    ")"
   ]
  },
  {
   "cell_type": "code",
   "execution_count": 58,
   "metadata": {},
   "outputs": [
    {
     "name": "stdout",
     "output_type": "stream",
     "text": [
      "No.\n"
     ]
    }
   ],
   "source": [
    "prompt = \"Please tell me about how to sleep well.\"\n",
    "response = chat_openai.run(prompt=prompt)\n",
    "print(response.message.content[0].text)"
   ]
  },
  {
   "cell_type": "markdown",
   "metadata": {},
   "source": [
    "System prompt is not stored into conversation memory but it exists in prompt attribute in response object. It's bacause we can make system prompt replaceable flexibly. System prompt is inserted as a first message just before API call."
   ]
  },
  {
   "cell_type": "code",
   "execution_count": 59,
   "metadata": {},
   "outputs": [
    {
     "data": {
      "text/plain": [
       "{'message': {'role': 'assistant', 'content': [{'text': 'No.'}], 'name': None},\n",
       " 'usage': {'model_name': 'gpt-4o-2024-05-13',\n",
       "  'prompt_tokens': 34,\n",
       "  'completion_tokens': 2},\n",
       " 'prompt': [{'role': 'system',\n",
       "   'content': [{'type': 'text',\n",
       "     'text': 'You must answer any question only with Yes or No.'}],\n",
       "   'name': 'System'},\n",
       "  {'role': 'user',\n",
       "   'content': [{'type': 'text',\n",
       "     'text': 'Please tell me about how to sleep well.'}],\n",
       "   'name': 'User'}]}"
      ]
     },
     "execution_count": 59,
     "metadata": {},
     "output_type": "execute_result"
    }
   ],
   "source": [
    "# You can see system prompt in the prompt attribute in the response\n",
    "response.model_dump()"
   ]
  },
  {
   "cell_type": "code",
   "execution_count": 60,
   "metadata": {},
   "outputs": [
    {
     "data": {
      "text/plain": [
       "[{'role': 'user',\n",
       "  'content': [{'text': 'Please tell me about how to sleep well.'}],\n",
       "  'name': None},\n",
       " {'role': 'assistant', 'content': [{'text': 'No.'}], 'name': None}]"
      ]
     },
     "execution_count": 60,
     "metadata": {},
     "output_type": "execute_result"
    }
   ],
   "source": [
    "# System prompt is not shown in the conversation memory\n",
    "chat_openai.conversation_memory.load()"
   ]
  },
  {
   "cell_type": "markdown",
   "metadata": {},
   "source": [
    "### For Gemini"
   ]
  },
  {
   "cell_type": "markdown",
   "metadata": {},
   "source": [
    "Gemini and Claude also accept system prompt."
   ]
  },
  {
   "cell_type": "code",
   "execution_count": 61,
   "metadata": {},
   "outputs": [],
   "source": [
    "gemini = GeminiFunctionalChat(\n",
    "    api_key_env_name=\"GEMINI_API_KEY\",\n",
    "    model_name=\"gemini-1.5-flash\",\n",
    "    system_instruction=system_instruction,\n",
    ")"
   ]
  },
  {
   "cell_type": "code",
   "execution_count": 62,
   "metadata": {},
   "outputs": [
    {
     "name": "stdout",
     "output_type": "stream",
     "text": [
      "Yes. \n",
      "\n"
     ]
    }
   ],
   "source": [
    "prompt = \"Please tell me about how to sleep well.\"\n",
    "response = gemini.run(prompt=prompt)\n",
    "print(response.message.content[0].text)"
   ]
  },
  {
   "cell_type": "markdown",
   "metadata": {},
   "source": [
    "### For Claude"
   ]
  },
  {
   "cell_type": "code",
   "execution_count": 63,
   "metadata": {},
   "outputs": [],
   "source": [
    "claude = ClaudeFunctionalChat(\n",
    "    # For Anthropic\n",
    "    model_name=\"claude-3-5-sonnet-20240620\",\n",
    "    api_key_env_name=\"ANTHROPIC_API_KEY\",\n",
    "    system_instruction=system_instruction,\n",
    ")"
   ]
  },
  {
   "cell_type": "code",
   "execution_count": 64,
   "metadata": {},
   "outputs": [
    {
     "name": "stdout",
     "output_type": "stream",
     "text": [
      "Yes.\n"
     ]
    }
   ],
   "source": [
    "prompt = \"Please tell me about how to sleep well.\"\n",
    "response = claude.run(prompt=prompt)\n",
    "print(response.message.content[0].text)"
   ]
  },
  {
   "cell_type": "markdown",
   "metadata": {},
   "source": [
    "# Token management"
   ]
  },
  {
   "cell_type": "markdown",
   "metadata": {},
   "source": [
    "For OpenAI Chat Completion, # of tokens is calculated before API call, and module truncates prompt automatically to make sure # of tokens meets token limitation. In this section, we simulate this truncation."
   ]
  },
  {
   "cell_type": "code",
   "execution_count": 65,
   "metadata": {},
   "outputs": [],
   "source": [
    "chat_openai = OpenAIFunctionalChat(\n",
    "    api_key_env_name=\"API_KEY\",\n",
    "    model_name=\"gpt-4o-2024-05-13\",\n",
    "    api_type=\"openai\",\n",
    "    context_length=300,  # You can control the number of tokens in the prompt\n",
    "    conversation_memory=InMemoryConversationMemory(),\n",
    ")"
   ]
  },
  {
   "cell_type": "code",
   "execution_count": 66,
   "metadata": {},
   "outputs": [
    {
     "name": "stdout",
     "output_type": "stream",
     "text": [
      "Input message is truncated because total length of messages exceeds context length.\n"
     ]
    }
   ],
   "source": [
    "prompts = [\n",
    "    \"What is the pheasant?\",\n",
    "    \"Please tell me about a bird called Kiji in Japan.\",\n",
    "    \"What does Kiji do in the tale of the Momotaro\",\n",
    "]\n",
    "\n",
    "for prompt in prompts:\n",
    "    response = chat_openai.run(prompt)"
   ]
  },
  {
   "cell_type": "markdown",
   "metadata": {},
   "source": [
    "Old conversation was truncated as shown below."
   ]
  },
  {
   "cell_type": "code",
   "execution_count": 67,
   "metadata": {},
   "outputs": [
    {
     "data": {
      "text/plain": [
       "Usage(prompt_tokens=299, completion_tokens=482, total_tokens=781)"
      ]
     },
     "execution_count": 67,
     "metadata": {},
     "output_type": "execute_result"
    }
   ],
   "source": [
    "# NOTE : Usage after truncation might slightly be different from the specified context_length\n",
    "response.usage"
   ]
  },
  {
   "cell_type": "code",
   "execution_count": 68,
   "metadata": {},
   "outputs": [
    {
     "data": {
      "text/plain": [
       "[{'role': 'assistant',\n",
       "  'content': [{'type': 'text',\n",
       "    'text': \" plumage that helps them blend into their surroundings, particularly when nesting.\\n\\n### Habitat\\n- The Kiji is commonly found in various habitats throughout Japan, including farmlands, grasslands, forests, and urban areas. They are well-adapted to the Japanese environment, benefiting from agricultural lands which provide ample food sources.\\n\\n### Behavior\\n- **Diet:** Kiji primarily forage on the ground, eating seeds, grains, insects, and small invertebrates.\\n- **Flight:** They are ground birds but can make short, strong flights if startled.\\n- **Breeding:** During the breeding season, males become quite territorial and display their colorful plumage to attract females. They are polygynous, meaning one male may mate with several females.\\n\\n### Cultural Significance\\n- The Japanese Pheasant holds cultural significance in Japan and appears in various forms of art and folklore. It is often featured in traditional Japanese paintings and woodblock prints.\\n- As the national bird of Japan, the Kiji symbolizes beauty, grace, and the natural bounty of the land.\\n\\n### Conservation\\n- Overall, the Japanese Pheasant is common and not considered endangered. However, habitat loss and changes in agricultural practices could impact their populations locally.\\n\\nThe Kiji is an integral part of Japan's natural and cultural heritage, appreciated for its beauty and its symbolic significance.\"}],\n",
       "  'name': 'Assistant'},\n",
       " {'role': 'user',\n",
       "  'content': [{'type': 'text',\n",
       "    'text': 'What does Kiji do in the tale of the Momotaro'}],\n",
       "  'name': 'User'}]"
      ]
     },
     "execution_count": 68,
     "metadata": {},
     "output_type": "execute_result"
    }
   ],
   "source": [
    "response.prompt"
   ]
  },
  {
   "cell_type": "markdown",
   "metadata": {},
   "source": [
    "But truncation does not affect conversation memory itself. You can see full conversation history in the memory."
   ]
  },
  {
   "cell_type": "code",
   "execution_count": 69,
   "metadata": {},
   "outputs": [
    {
     "data": {
      "text/plain": [
       "[{'role': 'user',\n",
       "  'content': [{'text': 'What is the pheasant?'}],\n",
       "  'name': None},\n",
       " {'role': 'assistant',\n",
       "  'content': [{'text': 'The pheasant is a type of bird belonging to the family Phasianidae, which also includes partridges, chickens, quails, and peafowl. Pheasants are known for their bright plumage and elongated tails. The most well-known species is the Common Pheasant (Phasianus colchicus), native to Asia but widely introduced around the world for hunting and ornamental purposes.\\n\\nMale pheasants, known as roosters or cocks, are typically more colorful than females, featuring iridescent feathers in shades of gold, green, purple, and red. They also often have distinctive markings and long, elegant tails. Female pheasants, or hens, have more subdued, camouflaged plumage, which helps them blend into their environment, especially when nesting.\\n\\nPheasants are typically ground-dwelling birds that prefer a mix of open fields and dense cover, such as hedgerows or woodlands. They forage for a variety of foods, including seeds, insects, and small invertebrates. Pheasants are generally sedentary birds, although they can perform short, explosive flights if disturbed.\\n\\nThese birds are popular in game bird hunting and are often bred and released for this purpose. They also hold cultural significance in various regions and have been depicted in art, literature, and folklore.'}],\n",
       "  'name': None},\n",
       " {'role': 'user',\n",
       "  'content': [{'text': 'Please tell me about a bird called Kiji in Japan.'}],\n",
       "  'name': None},\n",
       " {'role': 'assistant',\n",
       "  'content': [{'text': 'The \"Kiji\" (キジ), also known as the Japanese Pheasant or Green Pheasant (Phasianus versicolor), is a bird native to Japan and a close relative of the Common Pheasant (Phasianus colchicus). The Japanese Pheasant is notable for being the national bird of Japan. Here are some key points about the Kiji:\\n\\n### Appearance\\n- **Males (Roosters):** The males are strikingly beautiful, featuring iridescent green plumage on their bodies, a bluish-purple crest, red facial wattles, and a long, barred tail with brown and copper hues.\\n- **Females (Hens):** The females are more subdued in color, with mottled brown and black plumage that helps them blend into their surroundings, particularly when nesting.\\n\\n### Habitat\\n- The Kiji is commonly found in various habitats throughout Japan, including farmlands, grasslands, forests, and urban areas. They are well-adapted to the Japanese environment, benefiting from agricultural lands which provide ample food sources.\\n\\n### Behavior\\n- **Diet:** Kiji primarily forage on the ground, eating seeds, grains, insects, and small invertebrates.\\n- **Flight:** They are ground birds but can make short, strong flights if startled.\\n- **Breeding:** During the breeding season, males become quite territorial and display their colorful plumage to attract females. They are polygynous, meaning one male may mate with several females.\\n\\n### Cultural Significance\\n- The Japanese Pheasant holds cultural significance in Japan and appears in various forms of art and folklore. It is often featured in traditional Japanese paintings and woodblock prints.\\n- As the national bird of Japan, the Kiji symbolizes beauty, grace, and the natural bounty of the land.\\n\\n### Conservation\\n- Overall, the Japanese Pheasant is common and not considered endangered. However, habitat loss and changes in agricultural practices could impact their populations locally.\\n\\nThe Kiji is an integral part of Japan\\'s natural and cultural heritage, appreciated for its beauty and its symbolic significance.'}],\n",
       "  'name': None},\n",
       " {'role': 'user',\n",
       "  'content': [{'text': 'What does Kiji do in the tale of the Momotaro'}],\n",
       "  'name': None},\n",
       " {'role': 'assistant',\n",
       "  'content': [{'text': 'In the famous Japanese folktale \"Momotaro,\" Kiji, or the pheasant, plays a crucial role as one of Momotaro\\'s loyal animal companions. Here is a brief overview of Kiji\\'s involvement in the story:\\n\\n### The Story of Momotaro\\n\"Momotaro\" (Peach Boy) is a beloved Japanese folktale about a boy who is born from a giant peach. An elderly couple finds the peach floating down a river and upon cutting it open, they discover a boy inside. They name him Momotaro and raise him as their own.\\n\\nWhen Momotaro hears about oni (ogres or demons) that are terrorizing the land, he decides to go on a quest to defeat them. Equipped with his courage and some special provisions, Momotaro sets out on his journey.\\n\\n### Gathering Companions\\nAs he travels, Momotaro encounters three animals who become his loyal companions: a dog (Inu), a monkey (Saru), and a pheasant (Kiji). Each of these animals offers to join Momotaro after he shares his provisions with them.\\n\\n### Role of Kiji\\n- **Scouting and Reconnaissance:** Kiji, with its ability to fly, plays a crucial role in scouting ahead and providing valuable information about the terrain and the enemies they are about to face.\\n- **Aerial Attacks:** During the climactic battle with the oni, Kiji uses its ability to fly to launch attacks from the air, distracting and disorienting the enemies. This makes it easier for Momotaro, Inu, and Saru to fight effectively on the ground.\\n- **Communication:** Kiji also serves as a fast and efficient means of communication between Momotaro and his other companions, coordinating their efforts during the battle.\\n\\n### The Victory\\nWith the combined efforts of Momotaro and his animal companions, including the strategic advantages provided by Kiji, they manage to defeat the oni and bring peace to the land. They return home triumphantly with treasures and spoils taken from the defeated demons.\\n\\n### Conclusion\\nIn the tale of \"Momotaro,\" Kiji plays an essential role by providing aerial support, reconnaissance, and aiding in the defeat of the oni. This tale highlights the importance of teamwork, courage, and the loyalty of friends, symbolized through Momotaro\\'s animal companions.'}],\n",
       "  'name': None}]"
      ]
     },
     "execution_count": 69,
     "metadata": {},
     "output_type": "execute_result"
    }
   ],
   "source": [
    "chat_openai.conversation_memory.load()"
   ]
  },
  {
   "cell_type": "markdown",
   "metadata": {},
   "source": [
    "If prompts contain some images and # of tokens exceeds limitation, image might be truncated entirely."
   ]
  },
  {
   "cell_type": "markdown",
   "metadata": {},
   "source": [
    "# Usage gathering across multiple models"
   ]
  },
  {
   "cell_type": "markdown",
   "metadata": {},
   "source": [
    "Usage object allows you to sum multiple usages."
   ]
  },
  {
   "cell_type": "code",
   "execution_count": 70,
   "metadata": {},
   "outputs": [
    {
     "data": {
      "text/plain": [
       "Usage(prompt_tokens=300, completion_tokens=150, total_tokens=450)"
      ]
     },
     "execution_count": 70,
     "metadata": {},
     "output_type": "execute_result"
    }
   ],
   "source": [
    "usage1 = Usage(model_name=\"gpt-4o-2024-05-13\", prompt_tokens=100, completion_tokens=50)\n",
    "\n",
    "usage2 = Usage(model_name=\"gpt-4o-2024-05-13\", prompt_tokens=200, completion_tokens=100)\n",
    "\n",
    "usage1 + usage2"
   ]
  },
  {
   "cell_type": "markdown",
   "metadata": {},
   "source": [
    "Usage don't have capability to sum usages from different models."
   ]
  },
  {
   "cell_type": "code",
   "execution_count": 71,
   "metadata": {},
   "outputs": [
    {
     "name": "stdout",
     "output_type": "stream",
     "text": [
      "Error!\n"
     ]
    }
   ],
   "source": [
    "usage3 = Usage(model_name=\"gpt-4o-mini-2024-07-18\", prompt_tokens=300, completion_tokens=150)\n",
    "\n",
    "try:\n",
    "    usage1 + usage3  # Error\n",
    "except:\n",
    "    print(\"Error!\")"
   ]
  },
  {
   "cell_type": "markdown",
   "metadata": {},
   "source": [
    "But usage with empty model_name is added to any other usage."
   ]
  },
  {
   "cell_type": "code",
   "execution_count": 72,
   "metadata": {},
   "outputs": [
    {
     "data": {
      "text/plain": [
       "Usage(prompt_tokens=200, completion_tokens=100, total_tokens=300)"
      ]
     },
     "execution_count": 72,
     "metadata": {},
     "output_type": "execute_result"
    }
   ],
   "source": [
    "usage4 = Usage(prompt_tokens=100, completion_tokens=50)\n",
    "\n",
    "usage1 + usage4"
   ]
  },
  {
   "cell_type": "markdown",
   "metadata": {},
   "source": [
    "On the other hand, it's not possible to add usage to usage of empty model_name."
   ]
  },
  {
   "cell_type": "code",
   "execution_count": 73,
   "metadata": {},
   "outputs": [
    {
     "name": "stdout",
     "output_type": "stream",
     "text": [
      "Error!\n"
     ]
    }
   ],
   "source": [
    "try:\n",
    "    usage4 + usage1\n",
    "except:\n",
    "    print(\"Error!\")"
   ]
  },
  {
   "cell_type": "markdown",
   "metadata": {},
   "source": [
    "Using this function, we sometimes want to sum up total #of tokens over each models. In langrila, shared token counter is available to integrate total usage from multiple models."
   ]
  },
  {
   "cell_type": "code",
   "execution_count": 74,
   "metadata": {},
   "outputs": [],
   "source": [
    "from langrila import TokenCounter\n",
    "\n",
    "shared_memory = InMemoryConversationMemory()\n",
    "\n",
    "shared_token_counter = TokenCounter()\n",
    "\n",
    "gemini = GeminiFunctionalChat(\n",
    "    api_key_env_name=\"GEMINI_API_KEY\",\n",
    "    model_name=\"gemini-1.5-flash\",\n",
    "    conversation_memory=shared_memory,\n",
    "    token_counter=shared_token_counter,\n",
    ")\n",
    "\n",
    "chat_openai = OpenAIFunctionalChat(\n",
    "    api_key_env_name=\"API_KEY\",\n",
    "    model_name=\"gpt-4o-2024-05-13\",\n",
    "    api_type=\"openai\",\n",
    "    conversation_memory=shared_memory,\n",
    "    token_counter=shared_token_counter,\n",
    ")\n",
    "\n",
    "claude = ClaudeFunctionalChat(\n",
    "    model_name=\"claude-3-5-sonnet-20240620\",\n",
    "    api_key_env_name=\"ANTHROPIC_API_KEY\",\n",
    "    conversation_memory=shared_memory,\n",
    "    token_counter=shared_token_counter,\n",
    ")"
   ]
  },
  {
   "cell_type": "code",
   "execution_count": 75,
   "metadata": {},
   "outputs": [],
   "source": [
    "prompts = [\n",
    "    \"What is the pheasant?\",\n",
    "    \"Please tell me about a bird called Kiji in Japan.\",\n",
    "    \"What does Kiji do in the tale of the Momotaro\",\n",
    "]\n",
    "\n",
    "clients = [gemini, chat_openai, claude]\n",
    "\n",
    "for i, prompt in enumerate(prompts):\n",
    "    client = clients[i]\n",
    "    response = client.run(prompt)"
   ]
  },
  {
   "cell_type": "code",
   "execution_count": 76,
   "metadata": {},
   "outputs": [
    {
     "data": {
      "text/plain": [
       "{'gemini-1.5-flash': Usage(prompt_tokens=6, completion_tokens=457, total_tokens=463), 'gpt-4o-2024-05-13': Usage(prompt_tokens=506, completion_tokens=477, total_tokens=983), 'claude-3-5-sonnet-20240620': Usage(prompt_tokens=1104, completion_tokens=416, total_tokens=1520)}"
      ]
     },
     "execution_count": 76,
     "metadata": {},
     "output_type": "execute_result"
    }
   ],
   "source": [
    "shared_token_counter"
   ]
  },
  {
   "cell_type": "markdown",
   "metadata": {},
   "source": [
    "# Prompt template"
   ]
  },
  {
   "cell_type": "markdown",
   "metadata": {},
   "source": [
    "We can manage a typical prompt as a template."
   ]
  },
  {
   "cell_type": "code",
   "execution_count": 77,
   "metadata": {},
   "outputs": [
    {
     "name": "stdout",
     "output_type": "stream",
     "text": [
      "# INSTRUCTION\n",
      "{instruction}\n",
      "\n",
      "# TEXT\n",
      "{text}\n"
     ]
    }
   ],
   "source": [
    "template = PromptTemplate.from_text_file(\"../data/sample_prompt_template.txt\")\n",
    "print(template.template)"
   ]
  },
  {
   "cell_type": "code",
   "execution_count": 78,
   "metadata": {},
   "outputs": [
    {
     "data": {
      "text/plain": [
       "PromptTemplate(args={'instruction': 'Hello', 'text': 'world!'}, template='# INSTRUCTION\\n{instruction}\\n\\n# TEXT\\n{text}')"
      ]
     },
     "execution_count": 78,
     "metadata": {},
     "output_type": "execute_result"
    }
   ],
   "source": [
    "template.set_args(instruction=\"Hello\", text=\"world!\")"
   ]
  },
  {
   "cell_type": "code",
   "execution_count": 79,
   "metadata": {},
   "outputs": [
    {
     "name": "stdout",
     "output_type": "stream",
     "text": [
      "# INSTRUCTION\n",
      "Hello\n",
      "\n",
      "# TEXT\n",
      "world!\n"
     ]
    }
   ],
   "source": [
    "print(template.format())"
   ]
  },
  {
   "cell_type": "markdown",
   "metadata": {},
   "source": [
    "We can pass template string to PromptTemplate directly."
   ]
  },
  {
   "cell_type": "code",
   "execution_count": 80,
   "metadata": {},
   "outputs": [
    {
     "data": {
      "text/plain": [
       "PromptTemplate(args={}, template='# INSTRUCTION\\n{instruction}\\n\\n# TEXT\\n{text}')"
      ]
     },
     "execution_count": 80,
     "metadata": {},
     "output_type": "execute_result"
    }
   ],
   "source": [
    "PromptTemplate(template=\"# INSTRUCTION\\n{instruction}\\n\\n# TEXT\\n{text}\")"
   ]
  },
  {
   "cell_type": "code",
   "execution_count": null,
   "metadata": {},
   "outputs": [],
   "source": []
  }
 ],
 "metadata": {
  "kernelspec": {
   "display_name": ".venv",
   "language": "python",
   "name": "python3"
  },
  "language_info": {
   "codemirror_mode": {
    "name": "ipython",
    "version": 3
   },
   "file_extension": ".py",
   "mimetype": "text/x-python",
   "name": "python",
   "nbconvert_exporter": "python",
   "pygments_lexer": "ipython3",
   "version": "3.10.12"
  }
 },
 "nbformat": 4,
 "nbformat_minor": 4
}
