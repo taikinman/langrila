{
 "cells": [
  {
   "cell_type": "code",
   "execution_count": 1,
   "metadata": {},
   "outputs": [],
   "source": [
    "import os\n",
    "import warnings\n",
    "\n",
    "warnings.simplefilter(action=\"ignore\")\n",
    "os.environ[\"GRPC_VERBOSITY\"] = \"NONE\""
   ]
  },
  {
   "cell_type": "markdown",
   "metadata": {},
   "source": [
    "# Multi Agent Building"
   ]
  },
  {
   "cell_type": "markdown",
   "metadata": {},
   "source": [
    "Dependency injection shown in [02.tool_calling_and_dependency_injection.ipynb](./02.tool_calling_and_dependency_injection.ipynb) allow us to build multi agent with intuitive coding. `Agent` class has the argument `subagents` that accepts `list[Agent]` typed variable, and subagents are dynamically converted to tools which invokes agent using dependency injection feature. This notebook shows examples of multi-agent building. "
   ]
  },
  {
   "cell_type": "markdown",
   "metadata": {},
   "source": [
    "# Prerequisites"
   ]
  },
  {
   "cell_type": "markdown",
   "metadata": {},
   "source": [
    "Please make sure your environmental variables and dependencies are ready to use LLM services. Name of the environmental variables is arbitraray because langrila modules accepts that name as an argument."
   ]
  },
  {
   "cell_type": "code",
   "execution_count": 2,
   "metadata": {},
   "outputs": [
    {
     "data": {
      "text/plain": [
       "True"
      ]
     },
     "execution_count": 2,
     "metadata": {},
     "output_type": "execute_result"
    }
   ],
   "source": [
    "from dotenv import load_dotenv\n",
    "\n",
    "load_dotenv(\"../../.env_api\")"
   ]
  },
  {
   "cell_type": "markdown",
   "metadata": {},
   "source": [
    "# Import modules"
   ]
  },
  {
   "cell_type": "code",
   "execution_count": 3,
   "metadata": {},
   "outputs": [],
   "source": [
    "from langrila import Agent, InMemoryConversationMemory\n",
    "from langrila.anthropic import AnthropicClient\n",
    "from langrila.google import GoogleClient\n",
    "from langrila.openai import OpenAIClient"
   ]
  },
  {
   "cell_type": "markdown",
   "metadata": {},
   "source": [
    "# Instantiate client"
   ]
  },
  {
   "cell_type": "code",
   "execution_count": 4,
   "metadata": {},
   "outputs": [],
   "source": [
    "# For OpenAI\n",
    "openai_client = OpenAIClient(api_key_env_name=\"OPENAI_API_KEY\")\n",
    "\n",
    "# For Azure OpenAI\n",
    "azure_openai_client = OpenAIClient(\n",
    "    api_key_env_name=\"AZURE_API_KEY\",\n",
    "    api_type=\"azure\",\n",
    "    azure_api_version=\"2024-11-01-preview\",\n",
    "    azure_endpoint_env_name=\"AZURE_ENDPOINT\",\n",
    "    azure_deployment_id_env_name=\"AZURE_DEPLOYMENT_ID\",\n",
    ")\n",
    "\n",
    "# For Gemini on Google AI Studio\n",
    "google_dev_client = GoogleClient(api_key_env_name=\"GEMINI_API_KEY\")\n",
    "\n",
    "# For Gemini on Google Cloud VertexAI\n",
    "vertexai_client = GoogleClient(\n",
    "    api_type=\"vertexai\",\n",
    "    project_id_env_name=\"GOOGLE_CLOUD_PROJECT\",\n",
    "    location=\"us-central1\",\n",
    ")\n",
    "\n",
    "# For Claude of Anthropic\n",
    "anthropic_client = AnthropicClient(api_key_env_name=\"ANTHROPIC_API_KEY\")\n",
    "\n",
    "# For Claude of Amazon Bedrock\n",
    "claude_bedrock_client = AnthropicClient(\n",
    "    api_type=\"bedrock\",\n",
    "    aws_access_key_env_name=\"AWS_ACCESS_KEY\",\n",
    "    aws_secret_key_env_name=\"AWS_SECRET_KEY\",\n",
    "    aws_region_env_name=\"AWS_REGION\",\n",
    ")"
   ]
  },
  {
   "cell_type": "markdown",
   "metadata": {},
   "source": [
    "# Define tools"
   ]
  },
  {
   "cell_type": "markdown",
   "metadata": {},
   "source": [
    "Using dummy tools."
   ]
  },
  {
   "cell_type": "code",
   "execution_count": 5,
   "metadata": {},
   "outputs": [],
   "source": [
    "import random\n",
    "from typing import Literal\n",
    "\n",
    "\n",
    "def power_disco_ball(power: bool) -> bool:\n",
    "    \"\"\"\n",
    "    Powers the spinning dissco ball.\n",
    "\n",
    "    Parameters\n",
    "    ----------\n",
    "    power : bool\n",
    "        Whether to power the disco ball or not.\n",
    "\n",
    "    Returns\n",
    "    ----------\n",
    "    bool\n",
    "        Whether the disco ball is spinning or not.\n",
    "    \"\"\"\n",
    "    return f\"Disco ball is {'spinning!' if power else 'stopped.'}\"\n",
    "\n",
    "\n",
    "def start_music() -> str:\n",
    "    \"\"\"\n",
    "    Turn on the music. The genre, BPM, and volume are randomly selected.\n",
    "\n",
    "    Returns\n",
    "    ----------\n",
    "    str\n",
    "        A message indicating that the music is starting.\n",
    "    \"\"\"\n",
    "    music_genre = random.choice([\"rock\", \"pop\", \"jazz\", \"classical\", \"hip-hop\"])\n",
    "    volume = random.uniform(0.2, 1.0)\n",
    "    bpm = 120\n",
    "    return f\"Starting music! Genre: {music_genre}, BPM: {bpm}, Volume: {volume}\"\n",
    "\n",
    "\n",
    "def change_bpm(new_bpm: int) -> int:\n",
    "    \"\"\"\n",
    "    Change the BPM of the music.\n",
    "\n",
    "    Parameters\n",
    "    ----------\n",
    "    new_bpm : int\n",
    "        The new BPM to set the music.\n",
    "\n",
    "    Returns\n",
    "    ----------\n",
    "    int\n",
    "        The new BPM of the music.\n",
    "    \"\"\"\n",
    "    return f\"Changing BPM to {new_bpm}\"\n",
    "\n",
    "\n",
    "def change_music(\n",
    "    genre: Literal[\"rock\", \"pop\", \"jazz\", \"classical\", \"hip-hop\"],\n",
    "    bpm: int,\n",
    ") -> str:\n",
    "    \"\"\"\n",
    "    Change the music genre and BPM.\n",
    "\n",
    "    Parameters\n",
    "    ----------\n",
    "    genre : str\n",
    "        The genre of music to play. Should be one of \"rock\", \"pop\", \"jazz\", \"classical\", or \"hip-hop\".\n",
    "    bpm : int\n",
    "        The BPM of the music.\n",
    "\n",
    "    Returns\n",
    "    ----------\n",
    "    str\n",
    "        A message indicating that the music has been changed.\n",
    "    \"\"\"\n",
    "    return f\"Changing music to {genre} with BPM {bpm}\"\n",
    "\n",
    "\n",
    "def turn_light_on() -> str:\n",
    "    \"\"\"\n",
    "    Turn the lights on.\n",
    "\n",
    "    Returns\n",
    "    ----------\n",
    "    str\n",
    "        A message indicating that the lights are turning on.\n",
    "    \"\"\"\n",
    "    brightness = random.uniform(0.5, 1.0)\n",
    "    return \"Lights are now on! Brightness: {:.2f}\".format(brightness)\n",
    "\n",
    "\n",
    "def dim_lights(brightness: float) -> bool:\n",
    "    \"\"\"\n",
    "    Dim the lights.\n",
    "\n",
    "    Parameters\n",
    "    ----------\n",
    "    brightness : float\n",
    "        The brightness level to set the lights. Should be between 0 and 1.\n",
    "\n",
    "    Returns\n",
    "    ----------\n",
    "    bool\n",
    "        Whether the lights were successfully dimmed.\n",
    "    \"\"\"\n",
    "    return f\"Lights are now set to {brightness}\"\n",
    "\n",
    "\n",
    "def adjust_volume(volume: float) -> bool:\n",
    "    \"\"\"\n",
    "    Adjust the volume of the music.\n",
    "\n",
    "    Parameters\n",
    "    ----------\n",
    "    volume : float\n",
    "        The volume level to set the music. Should be between 0 and 1.\n",
    "\n",
    "    Returns\n",
    "    ----------\n",
    "    bool\n",
    "        Whether the volume was successfully adjusted.\n",
    "    \"\"\"\n",
    "    return f\"Volume is now set to {volume}\"\n",
    "\n",
    "\n",
    "def stop_music() -> str:\n",
    "    \"\"\"\n",
    "    Stop the music.\n",
    "\n",
    "    Returns\n",
    "    ----------\n",
    "    str\n",
    "        A message indicating that the music is stopping.\n",
    "    \"\"\"\n",
    "    return \"Stopping music!\"\n",
    "\n",
    "\n",
    "def stop_disco_ball() -> str:\n",
    "    \"\"\"\n",
    "    Stop the disco ball power and spinning.\n",
    "\n",
    "    Returns\n",
    "    ----------\n",
    "    str\n",
    "        A message indicating that the disco ball is stopping.\n",
    "    \"\"\"\n",
    "    return \"Stopping disco ball! Powered off and stopped spinning.\"\n",
    "\n",
    "\n",
    "def adjust_lights(brightness: float) -> bool:\n",
    "    \"\"\"\n",
    "    Adjust the brightness of the lights.\n",
    "\n",
    "    Parameters\n",
    "    ----------\n",
    "    brightness : float\n",
    "        The brightness level to set the lights. Should be between 0 and 1.\n",
    "\n",
    "    Returns\n",
    "    ----------\n",
    "    bool\n",
    "        Whether the lights were successfully brightened.\n",
    "    \"\"\"\n",
    "    return f\"Lights are now set to {brightness}\""
   ]
  },
  {
   "cell_type": "markdown",
   "metadata": {},
   "source": [
    "# Multi-Agent"
   ]
  },
  {
   "cell_type": "markdown",
   "metadata": {},
   "source": [
    "`Agent` class accepts `subagents` argument which generates dynamically tools to run agent. Langrila supports multi agent with multi client. In langrila, we can build orchestrator-typed multi-agent, not graph-based multi-agent. The orchestrator routes the execution of tools to task-specific agents, aggregates the results, and outputs the final answer."
   ]
  },
  {
   "cell_type": "markdown",
   "metadata": {},
   "source": [
    "## Task specific agent. "
   ]
  },
  {
   "cell_type": "code",
   "execution_count": 6,
   "metadata": {},
   "outputs": [],
   "source": [
    "lights_agent = Agent(\n",
    "    client=vertexai_client,\n",
    "    model=\"gemini-2.0-flash-exp\",\n",
    "    temperature=0.0,\n",
    "    tools=[turn_light_on, adjust_lights],\n",
    ")\n",
    "\n",
    "disco_ball_agent = Agent(\n",
    "    client=anthropic_client,\n",
    "    model=\"claude-3-5-sonnet-20240620\",\n",
    "    temperature=0.0,\n",
    "    tools=[power_disco_ball, stop_disco_ball],\n",
    "    max_tokens=500,\n",
    ")\n",
    "\n",
    "music_agent = Agent(\n",
    "    client=openai_client,\n",
    "    model=\"gpt-4o-mini-2024-07-18\",\n",
    "    temperature=0.0,\n",
    "    tools=[start_music, change_music, adjust_volume],\n",
    ")"
   ]
  },
  {
   "cell_type": "markdown",
   "metadata": {},
   "source": [
    "## Orchestrator agent.\n",
    "\n",
    "The thing you have to do for building multi-agent is to pass agents to the orchestrator agent. Planning mode is supported for multi agent."
   ]
  },
  {
   "cell_type": "code",
   "execution_count": 8,
   "metadata": {},
   "outputs": [],
   "source": [
    "orchestrator = Agent(\n",
    "    client=openai_client,\n",
    "    model=\"gpt-4o-mini-2024-07-18\",\n",
    "    temperature=0.0,\n",
    "    subagents=[lights_agent, disco_ball_agent, music_agent],\n",
    "    planning=True,\n",
    ")"
   ]
  },
  {
   "cell_type": "code",
   "execution_count": 9,
   "metadata": {},
   "outputs": [
    {
     "name": "stderr",
     "output_type": "stream",
     "text": [
      "\u001b[32m[2025-01-02 20:10:44]\u001b[0m \u001b[34m\u001b[1mDEBUG | Prompt: [TextPrompt(text='Please make a concise plan to answer the following question/requirement, considering the conversation history.\\nYou can invoke the sub-agents or tools to answer the questions/requirements shown in the capabilities section.\\nAgent has no description while the tools have a description.\\n\\nQuestion/Requirement:\\nTurn this place into a party mood!\\n\\nCapabilities:\\n- lights_agent\\n  - turn_light_on: Turn the lights on.\\n  - adjust_lights: Adjust the brightness of the lights.\\n- disco_ball_agent\\n  - power_disco_ball: Powers the spinning dissco ball.\\n  - stop_disco_ball: Stop the disco ball power and spinning.\\n- music_agent\\n  - start_music: Turn on the music. The genre, BPM, and volume are randomly selected.\\n  - change_music: Change the music genre and BPM.\\n  - adjust_volume: Adjust the volume of the music.\\n')]\u001b[0m\n",
      "\u001b[32m[2025-01-02 20:10:44]\u001b[0m \u001b[1mINFO | root: Generating text\u001b[0m\n",
      "\u001b[32m[2025-01-02 20:10:48]\u001b[0m \u001b[34m\u001b[1mDEBUG | Response: [TextResponse(text='### Plan to Turn the Place into a Party Mood\\n\\n1. **Turn on the Lights**: \\n   - Invoke `lights_agent.turn_light_on` to ensure the lights are on.\\n\\n2. **Adjust Lighting**: \\n   - Invoke `lights_agent.adjust_lights` to set a vibrant brightness level suitable for a party atmosphere.\\n\\n3. **Activate the Disco Ball**: \\n   - Invoke `disco_ball_agent.power_disco_ball` to add a fun visual element to the party.\\n\\n4. **Start the Music**: \\n   - Invoke `music_agent.start_music` to play upbeat music that fits the party vibe.\\n\\n5. **Adjust Music Volume**: \\n   - Optionally, invoke `music_agent.adjust_volume` to ensure the music is at an appropriate level for the party.\\n\\nBy following these steps, the place will be transformed into a lively party environment!')]\u001b[0m\n",
      "\u001b[32m[2025-01-02 20:10:48]\u001b[0m \u001b[34m\u001b[1mDEBUG | Prompt: [TextPrompt(text='Put the plan into action.')]\u001b[0m\n",
      "\u001b[32m[2025-01-02 20:10:48]\u001b[0m \u001b[1mINFO | root: Generating text\u001b[0m\n",
      "\u001b[32m[2025-01-02 20:10:51]\u001b[0m \u001b[34m\u001b[1mDEBUG | Response: [ToolCallResponse(name='route_lights_agent', args='{\"instruction\": \"Turn the lights on.\"}', call_id='call_gWv8qjF0bT7eWehOepEoBKQO'), ToolCallResponse(name='route_lights_agent', args='{\"instruction\": \"Adjust the brightness of the lights to a vibrant level suitable for a party.\"}', call_id='call_TOveSBNz7mPuyAG8a4d0rGPO'), ToolCallResponse(name='route_disco_ball_agent', args='{\"instruction\": \"Power the spinning disco ball.\"}', call_id='call_1vDrg6SaMpUkLKTj1I7eAbCl'), ToolCallResponse(name='route_music_agent', args='{\"instruction\": \"Turn on the music with an upbeat genre, BPM, and volume.\"}', call_id='call_K7k2ZVndhUs1nkp794v26DVj')]\u001b[0m\n",
      "\u001b[32m[2025-01-02 20:10:51]\u001b[0m \u001b[1mINFO | Running tool: route_lights_agent\u001b[0m\n",
      "\u001b[32m[2025-01-02 20:10:51]\u001b[0m \u001b[34m\u001b[1mDEBUG | Prompt: [TextPrompt(text='Turn the lights on.')]\u001b[0m\n",
      "\u001b[32m[2025-01-02 20:10:51]\u001b[0m \u001b[1mINFO | lights_agent: Generating text\u001b[0m\n",
      "\u001b[32m[2025-01-02 20:10:52]\u001b[0m \u001b[34m\u001b[1mDEBUG | Response: [ToolCallResponse(name='turn_light_on', args='{}', call_id='sWnVA5HjR6uGON9fiBuRz29D')]\u001b[0m\n",
      "\u001b[32m[2025-01-02 20:10:52]\u001b[0m \u001b[1mINFO | Running tool: turn_light_on\u001b[0m\n",
      "\u001b[32m[2025-01-02 20:10:52]\u001b[0m \u001b[1mINFO | Tool: turn_light_on successfully ran.\u001b[0m\n",
      "\u001b[32m[2025-01-02 20:10:52]\u001b[0m \u001b[34m\u001b[1mDEBUG | Prompt: [ToolUsePrompt(output='Lights are now on! Brightness: 0.83', error=None, call_id='sWnVA5HjR6uGON9fiBuRz29D', args='{}', name='turn_light_on')]\u001b[0m\n",
      "\u001b[32m[2025-01-02 20:10:52]\u001b[0m \u001b[1mINFO | lights_agent: Generating text\u001b[0m\n",
      "\u001b[32m[2025-01-02 20:10:53]\u001b[0m \u001b[34m\u001b[1mDEBUG | Response: [TextResponse(text='OK. The lights are on.')]\u001b[0m\n",
      "\u001b[32m[2025-01-02 20:10:53]\u001b[0m \u001b[1mINFO | Tool: route_lights_agent successfully ran.\u001b[0m\n",
      "\u001b[32m[2025-01-02 20:10:53]\u001b[0m \u001b[1mINFO | Running tool: route_lights_agent\u001b[0m\n",
      "\u001b[32m[2025-01-02 20:10:53]\u001b[0m \u001b[34m\u001b[1mDEBUG | Prompt: [TextPrompt(text='Adjust the brightness of the lights to a vibrant level suitable for a party.')]\u001b[0m\n",
      "\u001b[32m[2025-01-02 20:10:53]\u001b[0m \u001b[1mINFO | lights_agent: Generating text\u001b[0m\n",
      "\u001b[32m[2025-01-02 20:10:55]\u001b[0m \u001b[34m\u001b[1mDEBUG | Response: [TextResponse(text='Sure, what brightness level would you like to set? Please provide a value between 0 and 1.')]\u001b[0m\n",
      "\u001b[32m[2025-01-02 20:10:55]\u001b[0m \u001b[1mINFO | Tool: route_lights_agent successfully ran.\u001b[0m\n",
      "\u001b[32m[2025-01-02 20:10:55]\u001b[0m \u001b[1mINFO | Running tool: route_disco_ball_agent\u001b[0m\n",
      "\u001b[32m[2025-01-02 20:10:55]\u001b[0m \u001b[34m\u001b[1mDEBUG | Prompt: [TextPrompt(text='Power the spinning disco ball.')]\u001b[0m\n",
      "\u001b[32m[2025-01-02 20:10:55]\u001b[0m \u001b[1mINFO | disco_ball_agent: Generating text\u001b[0m\n",
      "\u001b[32m[2025-01-02 20:10:57]\u001b[0m \u001b[34m\u001b[1mDEBUG | Response: [TextResponse(text='Certainly! I can help you power the spinning disco ball using the available function. Let\\'s use the \"power_disco_ball\" function to turn it on.'), ToolCallResponse(name='power_disco_ball', args='{\"power\": true}', call_id='toolu_016caA8Syn6BFjWsrBpiQQvs')]\u001b[0m\n",
      "\u001b[32m[2025-01-02 20:10:57]\u001b[0m \u001b[1mINFO | Running tool: power_disco_ball\u001b[0m\n",
      "\u001b[32m[2025-01-02 20:10:57]\u001b[0m \u001b[1mINFO | Tool: power_disco_ball successfully ran.\u001b[0m\n",
      "\u001b[32m[2025-01-02 20:10:57]\u001b[0m \u001b[34m\u001b[1mDEBUG | Prompt: [ToolUsePrompt(output='Disco ball is spinning!', error=None, call_id='toolu_016caA8Syn6BFjWsrBpiQQvs', args='{\"power\": true}', name='power_disco_ball')]\u001b[0m\n",
      "\u001b[32m[2025-01-02 20:10:57]\u001b[0m \u001b[1mINFO | disco_ball_agent: Generating text\u001b[0m\n",
      "\u001b[32m[2025-01-02 20:10:59]\u001b[0m \u001b[34m\u001b[1mDEBUG | Response: [TextResponse(text='Great! The disco ball has been powered on and is now spinning. The function returned the message \"Disco ball is spinning!\" which confirms that the action was successful.\\n\\nIs there anything else you\\'d like to do with the disco ball or any other requests you have?')]\u001b[0m\n",
      "\u001b[32m[2025-01-02 20:10:59]\u001b[0m \u001b[1mINFO | Tool: route_disco_ball_agent successfully ran.\u001b[0m\n",
      "\u001b[32m[2025-01-02 20:10:59]\u001b[0m \u001b[1mINFO | Running tool: route_music_agent\u001b[0m\n",
      "\u001b[32m[2025-01-02 20:10:59]\u001b[0m \u001b[34m\u001b[1mDEBUG | Prompt: [TextPrompt(text='Turn on the music with an upbeat genre, BPM, and volume.')]\u001b[0m\n",
      "\u001b[32m[2025-01-02 20:10:59]\u001b[0m \u001b[1mINFO | music_agent: Generating text\u001b[0m\n",
      "\u001b[32m[2025-01-02 20:11:00]\u001b[0m \u001b[34m\u001b[1mDEBUG | Response: [ToolCallResponse(name='start_music', args='{}', call_id='call_QCGXd8O5wJWmVhfC94IEq2Br')]\u001b[0m\n",
      "\u001b[32m[2025-01-02 20:11:00]\u001b[0m \u001b[1mINFO | Running tool: start_music\u001b[0m\n",
      "\u001b[32m[2025-01-02 20:11:00]\u001b[0m \u001b[1mINFO | Tool: start_music successfully ran.\u001b[0m\n",
      "\u001b[32m[2025-01-02 20:11:00]\u001b[0m \u001b[34m\u001b[1mDEBUG | Prompt: [ToolUsePrompt(output='Starting music! Genre: classical, BPM: 120, Volume: 0.5266346818791816', error=None, call_id='call_QCGXd8O5wJWmVhfC94IEq2Br', args='{}', name='start_music')]\u001b[0m\n",
      "\u001b[32m[2025-01-02 20:11:00]\u001b[0m \u001b[1mINFO | music_agent: Generating text\u001b[0m\n",
      "\u001b[32m[2025-01-02 20:11:02]\u001b[0m \u001b[34m\u001b[1mDEBUG | Response: [TextResponse(text=\"The music has been turned on! It's playing classical music at a BPM of 120 with a volume level of approximately 0.53. Enjoy!\")]\u001b[0m\n",
      "\u001b[32m[2025-01-02 20:11:02]\u001b[0m \u001b[1mINFO | Tool: route_music_agent successfully ran.\u001b[0m\n",
      "\u001b[32m[2025-01-02 20:11:02]\u001b[0m \u001b[34m\u001b[1mDEBUG | Prompt: [ToolUsePrompt(output='OK. The lights are on.', error=None, call_id='call_gWv8qjF0bT7eWehOepEoBKQO', args='{\"instruction\": \"Turn the lights on.\"}', name='route_lights_agent'), ToolUsePrompt(output='Sure, what brightness level would you like to set? Please provide a value between 0 and 1.', error=None, call_id='call_TOveSBNz7mPuyAG8a4d0rGPO', args='{\"instruction\": \"Adjust the brightness of the lights to a vibrant level suitable for a party.\"}', name='route_lights_agent'), ToolUsePrompt(output='Great! The disco ball has been powered on and is now spinning. The function returned the message \"Disco ball is spinning!\" which confirms that the action was successful.\\n\\nIs there anything else you\\'d like to do with the disco ball or any other requests you have?', error=None, call_id='call_1vDrg6SaMpUkLKTj1I7eAbCl', args='{\"instruction\": \"Power the spinning disco ball.\"}', name='route_disco_ball_agent'), ToolUsePrompt(output=\"The music has been turned on! It's playing classical music at a BPM of 120 with a volume level of approximately 0.53. Enjoy!\", error=None, call_id='call_K7k2ZVndhUs1nkp794v26DVj', args='{\"instruction\": \"Turn on the music with an upbeat genre, BPM, and volume.\"}', name='route_music_agent')]\u001b[0m\n",
      "\u001b[32m[2025-01-02 20:11:02]\u001b[0m \u001b[1mINFO | root: Generating text\u001b[0m\n",
      "\u001b[32m[2025-01-02 20:11:04]\u001b[0m \u001b[34m\u001b[1mDEBUG | Response: [TextResponse(text=\"The party mood has been successfully set! Here's what has been done:\\n\\n1. **Lights**: The lights are on and ready.\\n2. **Brightness Adjustment**: Please provide a brightness level between 0 and 1 to adjust the lights to a vibrant level.\\n3. **Disco Ball**: The disco ball is spinning, adding a fun visual element to the atmosphere.\\n4. **Music**: Upbeat music is playing at a BPM of 120 with a volume level of approximately 0.53.\\n\\nLet me know the brightness level you'd like to set or if there's anything else you'd like to do!\")]\u001b[0m\n"
     ]
    }
   ],
   "source": [
    "prompt = \"Turn this place into a party mood!\"\n",
    "\n",
    "response = orchestrator.generate_text(prompt=prompt)"
   ]
  },
  {
   "cell_type": "markdown",
   "metadata": {},
   "source": [
    "As you can see in the log message above, the orchestrator agent assigned subdivided task to each subagents and finally generated answer."
   ]
  },
  {
   "cell_type": "code",
   "execution_count": 10,
   "metadata": {},
   "outputs": [
    {
     "name": "stdout",
     "output_type": "stream",
     "text": [
      "The party mood has been successfully set! Here's what has been done:\n",
      "\n",
      "1. **Lights**: The lights are on and ready.\n",
      "2. **Brightness Adjustment**: Please provide a brightness level between 0 and 1 to adjust the lights to a vibrant level.\n",
      "3. **Disco Ball**: The disco ball is spinning, adding a fun visual element to the atmosphere.\n",
      "4. **Music**: Upbeat music is playing at a BPM of 120 with a volume level of approximately 0.53.\n",
      "\n",
      "Let me know the brightness level you'd like to set or if there's anything else you'd like to do!\n"
     ]
    }
   ],
   "source": [
    "print(response.contents[0].text)"
   ]
  },
  {
   "cell_type": "markdown",
   "metadata": {},
   "source": [
    "Usage is collected all over the agent including subagents."
   ]
  },
  {
   "cell_type": "code",
   "execution_count": 11,
   "metadata": {},
   "outputs": [
    {
     "data": {
      "text/plain": [
       "[('music_agent',\n",
       "  Usage(model_name='gpt-4o-mini-2024-07-18', prompt_tokens=441, output_tokens=43)),\n",
       " ('lights_agent',\n",
       "  Usage(model_name='gemini-2.0-flash-exp', prompt_tokens=61, output_tokens=23)),\n",
       " ('disco_ball_agent',\n",
       "  Usage(model_name='claude-3-5-sonnet-20240620', prompt_tokens=990, output_tokens=149)),\n",
       " ('root',\n",
       "  Usage(model_name='gpt-4o-mini-2024-07-18', prompt_tokens=1958, output_tokens=424))]"
      ]
     },
     "execution_count": 11,
     "metadata": {},
     "output_type": "execute_result"
    }
   ],
   "source": [
    "list(response.usage.items())"
   ]
  },
  {
   "cell_type": "markdown",
   "metadata": {},
   "source": [
    "Top-level orchestrator name is `root`."
   ]
  },
  {
   "cell_type": "markdown",
   "metadata": {},
   "source": [
    "# State in the agent"
   ]
  },
  {
   "cell_type": "markdown",
   "metadata": {},
   "source": [
    "Agent state in existing agent frameworks has some issues on readability, special argument, and traceability. Ideally, state should be expressed by both the dependencies between agents and response schema, no special manner should be taken. It means the state is updated by llm based on the conversation history and response schema while its scope is limited by the agent's dependencies.\n",
    "\n",
    "In langrila, the combination of the dependencies between the agents and structured output can take the place of the state in agent. Note that planning mode is supported even if multi agent case."
   ]
  },
  {
   "cell_type": "markdown",
   "metadata": {},
   "source": [
    "## Response schema"
   ]
  },
  {
   "cell_type": "code",
   "execution_count": 12,
   "metadata": {},
   "outputs": [],
   "source": [
    "from enum import Enum\n",
    "\n",
    "from pydantic import BaseModel, Field\n",
    "\n",
    "\n",
    "class DiscoBallSchema(BaseModel):\n",
    "    power: bool = Field(..., description=\"Whether to power the disco ball.\")\n",
    "    spinning: bool = Field(..., description=\"Whether the disco ball is spinning.\")\n",
    "\n",
    "\n",
    "class MusicGenre(str, Enum):\n",
    "    rock = \"rock\"\n",
    "    pop = \"pop\"\n",
    "    jazz = \"jazz\"\n",
    "    classical = \"classical\"\n",
    "    hip_hop = \"hip-hop\"\n",
    "\n",
    "\n",
    "class MusicSchema(BaseModel):\n",
    "    genre: MusicGenre = Field(\n",
    "        ...,\n",
    "        description=\"The genre of music to play.\",\n",
    "    )\n",
    "    bpm: int = Field(\n",
    "        ...,\n",
    "        description=\"The BPM of the music.\",\n",
    "        ge=60,\n",
    "        le=180,\n",
    "    )\n",
    "    volume: float = Field(\n",
    "        ...,\n",
    "        description=\"The volume level to set the music to.\",\n",
    "        ge=0,\n",
    "        le=1,\n",
    "    )\n",
    "\n",
    "\n",
    "class LightsSchema(BaseModel):\n",
    "    brightness: float = Field(\n",
    "        ...,\n",
    "        description=\"The brightness level to set the lights to.\",\n",
    "        ge=0,\n",
    "        le=1,\n",
    "    )\n",
    "\n",
    "\n",
    "class ResponseSchema(BaseModel):\n",
    "    disco_ball: DiscoBallSchema = Field(..., description=\"The disco ball settings.\")\n",
    "    music: MusicSchema = Field(..., description=\"The music settings.\")\n",
    "    lights: LightsSchema = Field(..., description=\"The lights settings.\")"
   ]
  },
  {
   "cell_type": "markdown",
   "metadata": {},
   "source": [
    "## Task specific agent."
   ]
  },
  {
   "cell_type": "code",
   "execution_count": 18,
   "metadata": {},
   "outputs": [],
   "source": [
    "lights_agent = Agent(\n",
    "    client=google_dev_client,\n",
    "    model=\"gemini-2.0-flash-exp\",\n",
    "    temperature=0.0,\n",
    "    tools=[turn_light_on, adjust_lights],\n",
    "    response_schema_as_tool=LightsSchema,  # The state of the lights.\n",
    ")\n",
    "\n",
    "disco_ball_agent = Agent(\n",
    "    client=openai_client,\n",
    "    model=\"gpt-4o-2024-11-20\",\n",
    "    temperature=0.0,\n",
    "    tools=[power_disco_ball, stop_disco_ball],\n",
    "    max_tokens=500,\n",
    "    response_schema_as_tool=DiscoBallSchema,  # The state of the disco ball.\n",
    ")\n",
    "\n",
    "\n",
    "music_power_agent = Agent(\n",
    "    client=openai_client,\n",
    "    model=\"gpt-4o-mini-2024-07-18\",\n",
    "    temperature=0.0,\n",
    "    tools=[start_music],\n",
    ")\n",
    "\n",
    "music_control_agent = Agent(\n",
    "    client=google_dev_client,\n",
    "    model=\"gemini-2.0-flash-exp\",\n",
    "    temperature=0.0,\n",
    "    tools=[change_music, adjust_volume, change_bpm],\n",
    "    planning=True,  # Planning mode is enable for the subagent.\n",
    ")"
   ]
  },
  {
   "cell_type": "markdown",
   "metadata": {},
   "source": [
    "## Orchestrator agent"
   ]
  },
  {
   "cell_type": "code",
   "execution_count": 19,
   "metadata": {},
   "outputs": [],
   "source": [
    "# Orchestrator agent as a subagent\n",
    "music_agent = Agent(\n",
    "    client=anthropic_client,\n",
    "    model=\"claude-3-5-sonnet-20240620\",\n",
    "    temperature=0.0,\n",
    "    subagents=[music_power_agent, music_control_agent],\n",
    "    max_tokens=500,\n",
    "    response_schema_as_tool=MusicSchema,  # The state of the music.\n",
    ")\n",
    "\n",
    "# Orchestrator agent\n",
    "orchestrator = Agent(\n",
    "    client=openai_client,\n",
    "    model=\"gpt-4o-2024-11-20\",\n",
    "    temperature=0.0,\n",
    "    subagents=[lights_agent, disco_ball_agent, music_agent],\n",
    "    conversation_memory=InMemoryConversationMemory(),\n",
    "    response_schema_as_tool=ResponseSchema,  # The state of the party.\n",
    "    planning=True,\n",
    ")"
   ]
  },
  {
   "cell_type": "code",
   "execution_count": 20,
   "metadata": {},
   "outputs": [
    {
     "name": "stderr",
     "output_type": "stream",
     "text": [
      "\u001b[32m[2025-01-02 20:21:49]\u001b[0m \u001b[34m\u001b[1mDEBUG | Prompt: [TextPrompt(text='Please make a concise plan to answer the following question/requirement, considering the conversation history.\\nYou can invoke the sub-agents or tools to answer the questions/requirements shown in the capabilities section.\\nAgent has no description while the tools have a description.\\n\\nQuestion/Requirement:\\nTurn this place into a party mood.\\n\\nCapabilities:\\n- lights_agent\\n  - turn_light_on: Turn the lights on.\\n  - adjust_lights: Adjust the brightness of the lights.\\n- disco_ball_agent\\n  - power_disco_ball: Powers the spinning dissco ball.\\n  - stop_disco_ball: Stop the disco ball power and spinning.\\n- music_agent\\n  - music_power_agent\\n    - start_music: Turn on the music. The genre, BPM, and volume are randomly selected.\\n  - music_control_agent\\n    - change_music: Change the music genre and BPM.\\n    - adjust_volume: Adjust the volume of the music.\\n    - change_bpm: Change the BPM of the music.\\n')]\u001b[0m\n",
      "\u001b[32m[2025-01-02 20:21:49]\u001b[0m \u001b[1mINFO | root: Generating text\u001b[0m\n",
      "\u001b[32m[2025-01-02 20:21:51]\u001b[0m \u001b[34m\u001b[1mDEBUG | Response: [TextResponse(text='### Plan to Turn the Place into a Party Mood:\\n\\n1. **Lights Setup**:\\n   - Use `lights_agent` to turn the lights on.\\n   - Adjust the brightness of the lights to create a vibrant or dimmed party atmosphere using `adjust_lights`.\\n\\n2. **Disco Ball Activation**:\\n   - Use `disco_ball_agent` to power the spinning disco ball for a fun and dynamic visual effect.\\n\\n3. **Music Setup**:\\n   - Use `music_agent.music_power_agent` to start the music.\\n   - If needed, use `music_agent.music_control_agent` to:\\n     - Change the music genre and BPM to match the party vibe.\\n     - Adjust the volume to an appropriate level for the party.\\n\\n4. **Final Adjustments**:\\n   - Fine-tune the lights, disco ball, and music settings as needed to ensure the perfect party mood.\\n\\nWould you like me to execute this plan?')]\u001b[0m\n",
      "\u001b[32m[2025-01-02 20:21:51]\u001b[0m \u001b[34m\u001b[1mDEBUG | Prompt: [TextPrompt(text='Put the plan into action.')]\u001b[0m\n",
      "\u001b[32m[2025-01-02 20:21:51]\u001b[0m \u001b[1mINFO | root: Generating text\u001b[0m\n",
      "\u001b[32m[2025-01-02 20:21:53]\u001b[0m \u001b[34m\u001b[1mDEBUG | Response: [ToolCallResponse(name='route_lights_agent', args='{\"instruction\": \"Turn on the lights and adjust the brightness to a party-friendly level, such as 0.8.\"}', call_id='call_KZZDW9yVR21nhAJaVW8Ft2il'), ToolCallResponse(name='route_disco_ball_agent', args='{\"instruction\": \"Power the disco ball and make it spin for a party atmosphere.\"}', call_id='call_vN5lDDDtkopxPKH9qtFuRKUQ'), ToolCallResponse(name='route_music_agent', args='{\"instruction\": \"Start the music with a random genre, BPM, and volume to initiate the party mood.\"}', call_id='call_rm1IY9aZxQAIQlaPuXey0V3i')]\u001b[0m\n",
      "\u001b[32m[2025-01-02 20:21:53]\u001b[0m \u001b[1mINFO | Running tool: route_lights_agent\u001b[0m\n",
      "\u001b[32m[2025-01-02 20:21:53]\u001b[0m \u001b[34m\u001b[1mDEBUG | Prompt: [TextPrompt(text='Turn on the lights and adjust the brightness to a party-friendly level, such as 0.8.')]\u001b[0m\n",
      "\u001b[32m[2025-01-02 20:21:53]\u001b[0m \u001b[1mINFO | lights_agent: Generating text\u001b[0m\n",
      "\u001b[32m[2025-01-02 20:21:54]\u001b[0m \u001b[34m\u001b[1mDEBUG | Response: [ToolCallResponse(name='turn_light_on', args='{}', call_id='B67QE6XJ8VzcFyh59a8DzpUR'), ToolCallResponse(name='adjust_lights', args='{\"brightness\": 0.8}', call_id='CyzmU7WDqdUpSj13eov7pjpx')]\u001b[0m\n",
      "\u001b[32m[2025-01-02 20:21:54]\u001b[0m \u001b[1mINFO | Running tool: turn_light_on\u001b[0m\n",
      "\u001b[32m[2025-01-02 20:21:54]\u001b[0m \u001b[1mINFO | Tool: turn_light_on successfully ran.\u001b[0m\n",
      "\u001b[32m[2025-01-02 20:21:54]\u001b[0m \u001b[1mINFO | Running tool: adjust_lights\u001b[0m\n",
      "\u001b[32m[2025-01-02 20:21:54]\u001b[0m \u001b[1mINFO | Tool: adjust_lights successfully ran.\u001b[0m\n",
      "\u001b[32m[2025-01-02 20:21:54]\u001b[0m \u001b[34m\u001b[1mDEBUG | Prompt: [ToolUsePrompt(output='Lights are now on! Brightness: 0.89', error=None, call_id='B67QE6XJ8VzcFyh59a8DzpUR', args='{}', name='turn_light_on'), ToolUsePrompt(output='Lights are now set to 0.8', error=None, call_id='CyzmU7WDqdUpSj13eov7pjpx', args='{\"brightness\": 0.8}', name='adjust_lights')]\u001b[0m\n",
      "\u001b[32m[2025-01-02 20:21:54]\u001b[0m \u001b[1mINFO | lights_agent: Generating text\u001b[0m\n",
      "\u001b[32m[2025-01-02 20:21:55]\u001b[0m \u001b[34m\u001b[1mDEBUG | Response: [ToolCallResponse(name='final_answer', args='{\"brightness\": 0.8}', call_id='DGsrAXCFfG63eimapsdg3MEn')]\u001b[0m\n",
      "\u001b[32m[2025-01-02 20:21:55]\u001b[0m \u001b[1mINFO | Running tool: final_answer\u001b[0m\n",
      "\u001b[32m[2025-01-02 20:21:55]\u001b[0m \u001b[1mINFO | Tool: final_answer successfully ran.\u001b[0m\n",
      "\u001b[32m[2025-01-02 20:21:55]\u001b[0m \u001b[34m\u001b[1mDEBUG | Final result: [TextResponse(text='{\"brightness\": 0.8}')]\u001b[0m\n",
      "\u001b[32m[2025-01-02 20:21:56]\u001b[0m \u001b[1mINFO | Tool: route_lights_agent successfully ran.\u001b[0m\n",
      "\u001b[32m[2025-01-02 20:21:56]\u001b[0m \u001b[1mINFO | Running tool: route_disco_ball_agent\u001b[0m\n",
      "\u001b[32m[2025-01-02 20:21:56]\u001b[0m \u001b[34m\u001b[1mDEBUG | Prompt: [TextPrompt(text='Power the disco ball and make it spin for a party atmosphere.')]\u001b[0m\n",
      "\u001b[32m[2025-01-02 20:21:56]\u001b[0m \u001b[1mINFO | disco_ball_agent: Generating text\u001b[0m\n",
      "\u001b[32m[2025-01-02 20:21:56]\u001b[0m \u001b[34m\u001b[1mDEBUG | Response: [ToolCallResponse(name='power_disco_ball', args='{\"power\":true}', call_id='call_w4czLtmqLINetTfMJQh8cTBC')]\u001b[0m\n",
      "\u001b[32m[2025-01-02 20:21:56]\u001b[0m \u001b[1mINFO | Running tool: power_disco_ball\u001b[0m\n",
      "\u001b[32m[2025-01-02 20:21:56]\u001b[0m \u001b[1mINFO | Tool: power_disco_ball successfully ran.\u001b[0m\n",
      "\u001b[32m[2025-01-02 20:21:56]\u001b[0m \u001b[34m\u001b[1mDEBUG | Prompt: [ToolUsePrompt(output='Disco ball is spinning!', error=None, call_id='call_w4czLtmqLINetTfMJQh8cTBC', args='{\"power\":true}', name='power_disco_ball')]\u001b[0m\n",
      "\u001b[32m[2025-01-02 20:21:56]\u001b[0m \u001b[1mINFO | disco_ball_agent: Generating text\u001b[0m\n",
      "\u001b[32m[2025-01-02 20:21:57]\u001b[0m \u001b[34m\u001b[1mDEBUG | Response: [TextResponse(text='The disco ball is powered and spinning, creating a perfect party atmosphere!')]\u001b[0m\n",
      "\u001b[32m[2025-01-02 20:21:57]\u001b[0m \u001b[34m\u001b[1mDEBUG | Prompt: [TextPrompt(text=\"Decide the next action based on the conversation. If you have all information for answering the user, run 'final_result' tool. If you need more information, invoke other tool to get necessary information. \")]\u001b[0m\n",
      "\u001b[32m[2025-01-02 20:21:57]\u001b[0m \u001b[1mINFO | disco_ball_agent: Generating text\u001b[0m\n",
      "\u001b[32m[2025-01-02 20:21:57]\u001b[0m \u001b[34m\u001b[1mDEBUG | Response: [ToolCallResponse(name='final_answer', args='{\"power\":true,\"spinning\":true}', call_id='call_ezogOn5uDxqgPt9YljDhY0qJ')]\u001b[0m\n",
      "\u001b[32m[2025-01-02 20:21:57]\u001b[0m \u001b[1mINFO | Running tool: final_answer\u001b[0m\n",
      "\u001b[32m[2025-01-02 20:21:57]\u001b[0m \u001b[1mINFO | Tool: final_answer successfully ran.\u001b[0m\n",
      "\u001b[32m[2025-01-02 20:21:57]\u001b[0m \u001b[34m\u001b[1mDEBUG | Final result: [TextResponse(text='{\"power\": true, \"spinning\": true}')]\u001b[0m\n",
      "\u001b[32m[2025-01-02 20:21:57]\u001b[0m \u001b[1mINFO | Tool: route_disco_ball_agent successfully ran.\u001b[0m\n",
      "\u001b[32m[2025-01-02 20:21:57]\u001b[0m \u001b[1mINFO | Running tool: route_music_agent\u001b[0m\n",
      "\u001b[32m[2025-01-02 20:21:57]\u001b[0m \u001b[34m\u001b[1mDEBUG | Prompt: [TextPrompt(text='Start the music with a random genre, BPM, and volume to initiate the party mood.')]\u001b[0m\n",
      "\u001b[32m[2025-01-02 20:21:57]\u001b[0m \u001b[1mINFO | music_agent: Generating text\u001b[0m\n",
      "\u001b[32m[2025-01-02 20:22:00]\u001b[0m \u001b[34m\u001b[1mDEBUG | Response: [TextResponse(text=\"Certainly! I'd be happy to start the music with random settings to get the party mood going. To do this, we'll use the music power agent to turn on the music with randomly selected genre, BPM, and volume. Let's make the function call to start the music.\"), ToolCallResponse(name='route_music_power_agent', args='{\"instruction\": \"Please start the music with a random genre, BPM, and volume to initiate the party mood.\"}', call_id='toolu_01Sh3164xcDTy64uogeAHfd1')]\u001b[0m\n",
      "\u001b[32m[2025-01-02 20:22:00]\u001b[0m \u001b[1mINFO | Running tool: route_music_power_agent\u001b[0m\n",
      "\u001b[32m[2025-01-02 20:22:00]\u001b[0m \u001b[34m\u001b[1mDEBUG | Prompt: [TextPrompt(text='Please start the music with a random genre, BPM, and volume to initiate the party mood.')]\u001b[0m\n",
      "\u001b[32m[2025-01-02 20:22:00]\u001b[0m \u001b[1mINFO | music_power_agent: Generating text\u001b[0m\n",
      "\u001b[32m[2025-01-02 20:22:01]\u001b[0m \u001b[34m\u001b[1mDEBUG | Response: [ToolCallResponse(name='start_music', args='{}', call_id='call_YsuWcoyCVGad0rkfKjeTvXMA')]\u001b[0m\n",
      "\u001b[32m[2025-01-02 20:22:01]\u001b[0m \u001b[1mINFO | Running tool: start_music\u001b[0m\n",
      "\u001b[32m[2025-01-02 20:22:01]\u001b[0m \u001b[1mINFO | Tool: start_music successfully ran.\u001b[0m\n",
      "\u001b[32m[2025-01-02 20:22:01]\u001b[0m \u001b[34m\u001b[1mDEBUG | Prompt: [ToolUsePrompt(output='Starting music! Genre: pop, BPM: 120, Volume: 0.5022160140768197', error=None, call_id='call_YsuWcoyCVGad0rkfKjeTvXMA', args='{}', name='start_music')]\u001b[0m\n",
      "\u001b[32m[2025-01-02 20:22:01]\u001b[0m \u001b[1mINFO | music_power_agent: Generating text\u001b[0m\n",
      "\u001b[32m[2025-01-02 20:22:02]\u001b[0m \u001b[34m\u001b[1mDEBUG | Response: [TextResponse(text='The music has started! 🎶 Genre: Pop, BPM: 120, Volume: 50%. Let the party begin!')]\u001b[0m\n",
      "\u001b[32m[2025-01-02 20:22:02]\u001b[0m \u001b[1mINFO | Tool: route_music_power_agent successfully ran.\u001b[0m\n",
      "\u001b[32m[2025-01-02 20:22:02]\u001b[0m \u001b[34m\u001b[1mDEBUG | Prompt: [ToolUsePrompt(output='The music has started! 🎶 Genre: Pop, BPM: 120, Volume: 50%. Let the party begin!', error=None, call_id='toolu_01Sh3164xcDTy64uogeAHfd1', args='{\"instruction\": \"Please start the music with a random genre, BPM, and volume to initiate the party mood.\"}', name='route_music_power_agent')]\u001b[0m\n",
      "\u001b[32m[2025-01-02 20:22:02]\u001b[0m \u001b[1mINFO | music_agent: Generating text\u001b[0m\n",
      "\u001b[32m[2025-01-02 20:22:06]\u001b[0m \u001b[34m\u001b[1mDEBUG | Response: [TextResponse(text=\"Great news! The music has been started successfully. Here's a summary of the randomly selected settings:\\n\\n- Genre: Pop\\n- BPM (Beats Per Minute): 120\\n- Volume: 50%\\n\\nThe party mood is now set with some upbeat pop music playing at a moderate tempo and volume. This should create a nice atmosphere to get things started. \\n\\nIs there anything else you'd like me to do with the music? I can adjust the volume, change the genre, or modify the BPM if you'd like. Just let me know!\")]\u001b[0m\n",
      "\u001b[32m[2025-01-02 20:22:06]\u001b[0m \u001b[34m\u001b[1mDEBUG | Prompt: [TextPrompt(text=\"Decide the next action based on the conversation. If you have all information for answering the user, run 'final_result' tool. If you need more information, invoke other tool to get necessary information. \")]\u001b[0m\n",
      "\u001b[32m[2025-01-02 20:22:06]\u001b[0m \u001b[1mINFO | music_agent: Generating text\u001b[0m\n",
      "\u001b[32m[2025-01-02 20:22:09]\u001b[0m \u001b[34m\u001b[1mDEBUG | Response: [TextResponse(text=\"Based on the conversation so far, we have all the necessary information to provide a final answer to the user's request. The music has been started with random settings as requested, and we have the specific details of those settings. Let's use the 'final_answer' tool to summarize the action taken and provide the current state of the music.\"), ToolCallResponse(name='final_answer', args='{\"genre\": \"pop\", \"bpm\": 120, \"volume\": 0.5}', call_id='toolu_01PZV7cqBGDfWu8jhwHE7tT9')]\u001b[0m\n",
      "\u001b[32m[2025-01-02 20:22:09]\u001b[0m \u001b[1mINFO | Running tool: final_answer\u001b[0m\n",
      "\u001b[32m[2025-01-02 20:22:09]\u001b[0m \u001b[1mINFO | Tool: final_answer successfully ran.\u001b[0m\n",
      "\u001b[32m[2025-01-02 20:22:09]\u001b[0m \u001b[34m\u001b[1mDEBUG | Final result: [TextResponse(text='{\"genre\": \"pop\", \"bpm\": 120, \"volume\": 0.5}')]\u001b[0m\n",
      "\u001b[32m[2025-01-02 20:22:09]\u001b[0m \u001b[1mINFO | Tool: route_music_agent successfully ran.\u001b[0m\n",
      "\u001b[32m[2025-01-02 20:22:09]\u001b[0m \u001b[34m\u001b[1mDEBUG | Prompt: [ToolUsePrompt(output='{\"brightness\": 0.8}', error=None, call_id='call_KZZDW9yVR21nhAJaVW8Ft2il', args='{\"instruction\": \"Turn on the lights and adjust the brightness to a party-friendly level, such as 0.8.\"}', name='route_lights_agent'), ToolUsePrompt(output='{\"power\": true, \"spinning\": true}', error=None, call_id='call_vN5lDDDtkopxPKH9qtFuRKUQ', args='{\"instruction\": \"Power the disco ball and make it spin for a party atmosphere.\"}', name='route_disco_ball_agent'), ToolUsePrompt(output='{\"genre\": \"pop\", \"bpm\": 120, \"volume\": 0.5}', error=None, call_id='call_rm1IY9aZxQAIQlaPuXey0V3i', args='{\"instruction\": \"Start the music with a random genre, BPM, and volume to initiate the party mood.\"}', name='route_music_agent')]\u001b[0m\n",
      "\u001b[32m[2025-01-02 20:22:09]\u001b[0m \u001b[1mINFO | root: Generating text\u001b[0m\n",
      "\u001b[32m[2025-01-02 20:22:10]\u001b[0m \u001b[34m\u001b[1mDEBUG | Response: [ToolCallResponse(name='final_answer', args='{\"disco_ball\":{\"power\":true,\"spinning\":true},\"music\":{\"genre\":\"pop\",\"bpm\":120,\"volume\":0.5},\"lights\":{\"brightness\":0.8}}', call_id='call_UM8CW6rlAlYR7GdZiGWl57Iw')]\u001b[0m\n",
      "\u001b[32m[2025-01-02 20:22:10]\u001b[0m \u001b[1mINFO | Running tool: final_answer\u001b[0m\n",
      "\u001b[32m[2025-01-02 20:22:10]\u001b[0m \u001b[1mINFO | Tool: final_answer successfully ran.\u001b[0m\n",
      "\u001b[32m[2025-01-02 20:22:10]\u001b[0m \u001b[34m\u001b[1mDEBUG | Final result: [TextResponse(text='{\"disco_ball\": {\"power\": true, \"spinning\": true}, \"music\": {\"genre\": \"pop\", \"bpm\": 120, \"volume\": 0.5}, \"lights\": {\"brightness\": 0.8}}')]\u001b[0m\n"
     ]
    }
   ],
   "source": [
    "prompt = \"Turn this place into a party mood.\"\n",
    "\n",
    "response = orchestrator.generate_text(prompt=prompt)"
   ]
  },
  {
   "cell_type": "code",
   "execution_count": 21,
   "metadata": {},
   "outputs": [
    {
     "data": {
      "text/plain": [
       "[('music_power_agent',\n",
       "  Usage(model_name='gpt-4o-mini-2024-07-18', prompt_tokens=175, output_tokens=39)),\n",
       " ('music_agent',\n",
       "  Usage(model_name='claude-3-5-sonnet-20240620', prompt_tokens=3347, output_tokens=424)),\n",
       " ('lights_agent',\n",
       "  Usage(model_name='gemini-2.0-flash-exp', prompt_tokens=466, output_tokens=14)),\n",
       " ('disco_ball_agent',\n",
       "  Usage(model_name='gpt-4o-2024-11-20', prompt_tokens=801, output_tokens=53)),\n",
       " ('root',\n",
       "  Usage(model_name='gpt-4o-2024-11-20', prompt_tokens=2599, output_tokens=354))]"
      ]
     },
     "execution_count": 21,
     "metadata": {},
     "output_type": "execute_result"
    }
   ],
   "source": [
    "list(response.usage.items())"
   ]
  },
  {
   "cell_type": "code",
   "execution_count": 22,
   "metadata": {},
   "outputs": [
    {
     "name": "stdout",
     "output_type": "stream",
     "text": [
      "{\"disco_ball\": {\"power\": true, \"spinning\": true}, \"music\": {\"genre\": \"pop\", \"bpm\": 120, \"volume\": 0.5}, \"lights\": {\"brightness\": 0.8}}\n"
     ]
    }
   ],
   "source": [
    "print(response.contents[0].text)"
   ]
  },
  {
   "cell_type": "markdown",
   "metadata": {},
   "source": [
    "Validation response schema"
   ]
  },
  {
   "cell_type": "code",
   "execution_count": 23,
   "metadata": {},
   "outputs": [
    {
     "data": {
      "text/plain": [
       "{'disco_ball': {'power': True, 'spinning': True},\n",
       " 'music': {'genre': <MusicGenre.pop: 'pop'>, 'bpm': 120, 'volume': 0.5},\n",
       " 'lights': {'brightness': 0.8}}"
      ]
     },
     "execution_count": 23,
     "metadata": {},
     "output_type": "execute_result"
    }
   ],
   "source": [
    "valid_resposne = ResponseSchema.model_validate_json(response.contents[0].text)\n",
    "valid_resposne.model_dump()"
   ]
  },
  {
   "cell_type": "markdown",
   "metadata": {},
   "source": [
    "Conversation memory stores the conversation history in the top-level orchestrator agent."
   ]
  },
  {
   "cell_type": "code",
   "execution_count": 24,
   "metadata": {},
   "outputs": [
    {
     "data": {
      "text/plain": [
       "[Prompt(type='Prompt', role='user', contents=[TextPrompt(text='Please make a concise plan to answer the following question/requirement, considering the conversation history.\\nYou can invoke the sub-agents or tools to answer the questions/requirements shown in the capabilities section.\\nAgent has no description while the tools have a description.\\n\\nQuestion/Requirement:\\nTurn this place into a party mood.\\n\\nCapabilities:\\n- lights_agent\\n  - turn_light_on: Turn the lights on.\\n  - adjust_lights: Adjust the brightness of the lights.\\n- disco_ball_agent\\n  - power_disco_ball: Powers the spinning dissco ball.\\n  - stop_disco_ball: Stop the disco ball power and spinning.\\n- music_agent\\n  - music_power_agent\\n    - start_music: Turn on the music. The genre, BPM, and volume are randomly selected.\\n  - music_control_agent\\n    - change_music: Change the music genre and BPM.\\n    - adjust_volume: Adjust the volume of the music.\\n    - change_bpm: Change the BPM of the music.\\n')], name=None),\n",
       " Response(type='Response', role='assistant', contents=[TextResponse(text='### Plan to Turn the Place into a Party Mood:\\n\\n1. **Lights Setup**:\\n   - Use `lights_agent` to turn the lights on.\\n   - Adjust the brightness of the lights to create a vibrant or dimmed party atmosphere using `adjust_lights`.\\n\\n2. **Disco Ball Activation**:\\n   - Use `disco_ball_agent` to power the spinning disco ball for a fun and dynamic visual effect.\\n\\n3. **Music Setup**:\\n   - Use `music_agent.music_power_agent` to start the music.\\n   - If needed, use `music_agent.music_control_agent` to:\\n     - Change the music genre and BPM to match the party vibe.\\n     - Adjust the volume to an appropriate level for the party.\\n\\n4. **Final Adjustments**:\\n   - Fine-tune the lights, disco ball, and music settings as needed to ensure the perfect party mood.\\n\\nWould you like me to execute this plan?')], usage=Usage(model_name=None, prompt_tokens=0, output_tokens=0), raw=None, name=None, is_last_chunk=None, prompt=None),\n",
       " Prompt(type='Prompt', role='user', contents=[TextPrompt(text='Put the plan into action.')], name=None),\n",
       " Response(type='Response', role='assistant', contents=[ToolCallResponse(name='route_lights_agent', args='{\"instruction\": \"Turn on the lights and adjust the brightness to a party-friendly level, such as 0.8.\"}', call_id='call_KZZDW9yVR21nhAJaVW8Ft2il'), ToolCallResponse(name='route_disco_ball_agent', args='{\"instruction\": \"Power the disco ball and make it spin for a party atmosphere.\"}', call_id='call_vN5lDDDtkopxPKH9qtFuRKUQ'), ToolCallResponse(name='route_music_agent', args='{\"instruction\": \"Start the music with a random genre, BPM, and volume to initiate the party mood.\"}', call_id='call_rm1IY9aZxQAIQlaPuXey0V3i')], usage=Usage(model_name=None, prompt_tokens=0, output_tokens=0), raw=None, name=None, is_last_chunk=None, prompt=None),\n",
       " Prompt(type='Prompt', role='user', contents=[ToolUsePrompt(output='{\"brightness\": 0.8}', error=None, call_id='call_KZZDW9yVR21nhAJaVW8Ft2il', args='{\"instruction\": \"Turn on the lights and adjust the brightness to a party-friendly level, such as 0.8.\"}', name='route_lights_agent'), ToolUsePrompt(output='{\"power\": true, \"spinning\": true}', error=None, call_id='call_vN5lDDDtkopxPKH9qtFuRKUQ', args='{\"instruction\": \"Power the disco ball and make it spin for a party atmosphere.\"}', name='route_disco_ball_agent'), ToolUsePrompt(output='{\"genre\": \"pop\", \"bpm\": 120, \"volume\": 0.5}', error=None, call_id='call_rm1IY9aZxQAIQlaPuXey0V3i', args='{\"instruction\": \"Start the music with a random genre, BPM, and volume to initiate the party mood.\"}', name='route_music_agent')], name=None),\n",
       " Response(type='Response', role='assistant', contents=[ToolCallResponse(name='final_answer', args='{\"disco_ball\":{\"power\":true,\"spinning\":true},\"music\":{\"genre\":\"pop\",\"bpm\":120,\"volume\":0.5},\"lights\":{\"brightness\":0.8}}', call_id='call_UM8CW6rlAlYR7GdZiGWl57Iw')], usage=Usage(model_name=None, prompt_tokens=0, output_tokens=0), raw=None, name=None, is_last_chunk=None, prompt=None),\n",
       " Prompt(type='Prompt', role='user', contents=[ToolUsePrompt(output='{\"disco_ball\": {\"power\": true, \"spinning\": true}, \"music\": {\"genre\": \"pop\", \"bpm\": 120, \"volume\": 0.5}, \"lights\": {\"brightness\": 0.8}}', error=None, call_id='call_UM8CW6rlAlYR7GdZiGWl57Iw', args='{\"disco_ball\":{\"power\":true,\"spinning\":true},\"music\":{\"genre\":\"pop\",\"bpm\":120,\"volume\":0.5},\"lights\":{\"brightness\":0.8}}', name='final_answer')], name=None),\n",
       " Response(type='Response', role='assistant', contents=[TextResponse(text='{\"disco_ball\": {\"power\": true, \"spinning\": true}, \"music\": {\"genre\": \"pop\", \"bpm\": 120, \"volume\": 0.5}, \"lights\": {\"brightness\": 0.8}}')], usage=Usage(model_name=None, prompt_tokens=0, output_tokens=0), raw=None, name=None, is_last_chunk=None, prompt=None)]"
      ]
     },
     "execution_count": 24,
     "metadata": {},
     "output_type": "execute_result"
    }
   ],
   "source": [
    "orchestrator.load_history()"
   ]
  },
  {
   "cell_type": "markdown",
   "metadata": {},
   "source": [
    "Next turn prompt"
   ]
  },
  {
   "cell_type": "code",
   "execution_count": 25,
   "metadata": {},
   "outputs": [
    {
     "name": "stderr",
     "output_type": "stream",
     "text": [
      "\u001b[32m[2025-01-02 20:25:54]\u001b[0m \u001b[34m\u001b[1mDEBUG | Prompt: [TextPrompt(text='Please make a concise plan to answer the following question/requirement, considering the conversation history.\\nYou can invoke the sub-agents or tools to answer the questions/requirements shown in the capabilities section.\\nAgent has no description while the tools have a description.\\n\\nQuestion/Requirement:\\nPrefer to a jazz music with a calm tempo. Please change the music to jazz and stop the disco ball.\\n\\nCapabilities:\\n- lights_agent\\n  - turn_light_on: Turn the lights on.\\n  - adjust_lights: Adjust the brightness of the lights.\\n- disco_ball_agent\\n  - power_disco_ball: Powers the spinning dissco ball.\\n  - stop_disco_ball: Stop the disco ball power and spinning.\\n- music_agent\\n  - music_power_agent\\n    - start_music: Turn on the music. The genre, BPM, and volume are randomly selected.\\n  - music_control_agent\\n    - change_music: Change the music genre and BPM.\\n    - adjust_volume: Adjust the volume of the music.\\n    - change_bpm: Change the BPM of the music.\\n')]\u001b[0m\n",
      "\u001b[32m[2025-01-02 20:25:54]\u001b[0m \u001b[1mINFO | root: Generating text\u001b[0m\n",
      "\u001b[32m[2025-01-02 20:25:55]\u001b[0m \u001b[34m\u001b[1mDEBUG | Response: [TextResponse(text='### Plan to Adjust the Mood:\\n\\n1. **Music Adjustment**:\\n   - Use `music_agent.music_control_agent` to change the music genre to jazz and set a calm tempo (lower BPM).\\n\\n2. **Disco Ball Deactivation**:\\n   - Use `disco_ball_agent` to stop the disco ball power and spinning.\\n\\nWould you like me to execute this plan?')]\u001b[0m\n",
      "\u001b[32m[2025-01-02 20:25:55]\u001b[0m \u001b[34m\u001b[1mDEBUG | Prompt: [TextPrompt(text='Put the plan into action.')]\u001b[0m\n",
      "\u001b[32m[2025-01-02 20:25:55]\u001b[0m \u001b[1mINFO | root: Generating text\u001b[0m\n",
      "\u001b[32m[2025-01-02 20:25:56]\u001b[0m \u001b[34m\u001b[1mDEBUG | Response: [ToolCallResponse(name='route_music_agent', args='{\"instruction\": \"Change the music to jazz with a calm tempo, setting the BPM to 80.\"}', call_id='call_IdRLN2QX1wkxcdFbB1Su1JHU'), ToolCallResponse(name='route_disco_ball_agent', args='{\"instruction\": \"Stop the disco ball power and spinning.\"}', call_id='call_yCzcrfMHh9rvbNY5dByYfeIR')]\u001b[0m\n",
      "\u001b[32m[2025-01-02 20:25:56]\u001b[0m \u001b[1mINFO | Running tool: route_music_agent\u001b[0m\n",
      "\u001b[32m[2025-01-02 20:25:56]\u001b[0m \u001b[34m\u001b[1mDEBUG | Prompt: [TextPrompt(text='Change the music to jazz with a calm tempo, setting the BPM to 80.')]\u001b[0m\n",
      "\u001b[32m[2025-01-02 20:25:56]\u001b[0m \u001b[1mINFO | music_agent: Generating text\u001b[0m\n",
      "\u001b[32m[2025-01-02 20:25:58]\u001b[0m \u001b[34m\u001b[1mDEBUG | Response: [TextResponse(text=\"Certainly! I'll adjust the music settings to jazz with a calmer tempo as you requested. Let me make those changes for you.\"), ToolCallResponse(name='route_music_control_agent', args='{\"instruction\": \"Change the music genre to jazz, set the BPM to 80 for a calm tempo, and keep the current volume.\"}', call_id='toolu_01RMAnkx8pqFASagFwu7M6PC')]\u001b[0m\n",
      "\u001b[32m[2025-01-02 20:25:58]\u001b[0m \u001b[1mINFO | Running tool: route_music_control_agent\u001b[0m\n",
      "\u001b[32m[2025-01-02 20:25:58]\u001b[0m \u001b[34m\u001b[1mDEBUG | Prompt: [TextPrompt(text='Please make a concise plan to answer the following question/requirement, considering the conversation history.\\nYou can invoke the sub-agents or tools to answer the questions/requirements shown in the capabilities section.\\nAgent has no description while the tools have a description.\\n\\nQuestion/Requirement:\\nChange the music genre to jazz, set the BPM to 80 for a calm tempo, and keep the current volume.\\n\\nCapabilities:\\n- change_music: Change the music genre and BPM.\\n- adjust_volume: Adjust the volume of the music.\\n- change_bpm: Change the BPM of the music.\\n')]\u001b[0m\n",
      "\u001b[32m[2025-01-02 20:25:58]\u001b[0m \u001b[1mINFO | music_control_agent: Generating text\u001b[0m\n",
      "\u001b[32m[2025-01-02 20:26:00]\u001b[0m \u001b[34m\u001b[1mDEBUG | Response: [TextResponse(text='### Plan to Adjust Music:\\n\\n1. **Change Music Genre and BPM:**\\n   - Use `change_music` to set the music genre to \"jazz\" and the BPM to 80.\\n2. **Maintain Current Volume:**\\n   - No action needed for volume as the requirement is to keep the current volume.\\n\\nWould you like me to execute this plan?')]\u001b[0m\n",
      "\u001b[32m[2025-01-02 20:26:00]\u001b[0m \u001b[34m\u001b[1mDEBUG | Prompt: [TextPrompt(text='Put the plan into action.')]\u001b[0m\n",
      "\u001b[32m[2025-01-02 20:26:00]\u001b[0m \u001b[1mINFO | music_control_agent: Generating text\u001b[0m\n",
      "\u001b[32m[2025-01-02 20:26:01]\u001b[0m \u001b[34m\u001b[1mDEBUG | Response: [ToolCallResponse(name='change_music', args='{\"bpm\": 80, \"genre\": \"jazz\"}', call_id='d2zXPAPSEYHQQXCEwxQlSfV0')]\u001b[0m\n",
      "\u001b[32m[2025-01-02 20:26:01]\u001b[0m \u001b[1mINFO | Running tool: change_music\u001b[0m\n",
      "\u001b[32m[2025-01-02 20:26:01]\u001b[0m \u001b[1mINFO | Tool: change_music successfully ran.\u001b[0m\n",
      "\u001b[32m[2025-01-02 20:26:01]\u001b[0m \u001b[34m\u001b[1mDEBUG | Prompt: [ToolUsePrompt(output='Changing music to jazz with BPM 80', error=None, call_id='d2zXPAPSEYHQQXCEwxQlSfV0', args='{\"bpm\": 80, \"genre\": \"jazz\"}', name='change_music')]\u001b[0m\n",
      "\u001b[32m[2025-01-02 20:26:01]\u001b[0m \u001b[1mINFO | music_control_agent: Generating text\u001b[0m\n",
      "\u001b[32m[2025-01-02 20:26:02]\u001b[0m \u001b[34m\u001b[1mDEBUG | Response: [TextResponse(text='The music genre has been changed to jazz and the BPM has been set to 80. The volume remains unchanged.')]\u001b[0m\n",
      "\u001b[32m[2025-01-02 20:26:02]\u001b[0m \u001b[1mINFO | Tool: route_music_control_agent successfully ran.\u001b[0m\n",
      "\u001b[32m[2025-01-02 20:26:02]\u001b[0m \u001b[34m\u001b[1mDEBUG | Prompt: [ToolUsePrompt(output='The music genre has been changed to jazz and the BPM has been set to 80. The volume remains unchanged.', error=None, call_id='toolu_01RMAnkx8pqFASagFwu7M6PC', args='{\"instruction\": \"Change the music genre to jazz, set the BPM to 80 for a calm tempo, and keep the current volume.\"}', name='route_music_control_agent')]\u001b[0m\n",
      "\u001b[32m[2025-01-02 20:26:02]\u001b[0m \u001b[1mINFO | music_agent: Generating text\u001b[0m\n",
      "\u001b[32m[2025-01-02 20:26:06]\u001b[0m \u001b[34m\u001b[1mDEBUG | Response: [TextResponse(text='Great! The music has been adjusted according to your preferences. Let me summarize the changes and provide you with the final answer:'), ToolCallResponse(name='final_answer', args='{\"genre\": \"jazz\", \"bpm\": 80, \"volume\": 0.5}', call_id='toolu_01SZseGAP3q613NiR9EFuEAz')]\u001b[0m\n",
      "\u001b[32m[2025-01-02 20:26:06]\u001b[0m \u001b[1mINFO | Running tool: final_answer\u001b[0m\n",
      "\u001b[32m[2025-01-02 20:26:06]\u001b[0m \u001b[1mINFO | Tool: final_answer successfully ran.\u001b[0m\n",
      "\u001b[32m[2025-01-02 20:26:06]\u001b[0m \u001b[34m\u001b[1mDEBUG | Final result: [TextResponse(text='{\"genre\": \"jazz\", \"bpm\": 80, \"volume\": 0.5}')]\u001b[0m\n",
      "\u001b[32m[2025-01-02 20:26:06]\u001b[0m \u001b[1mINFO | Tool: route_music_agent successfully ran.\u001b[0m\n",
      "\u001b[32m[2025-01-02 20:26:06]\u001b[0m \u001b[1mINFO | Running tool: route_disco_ball_agent\u001b[0m\n",
      "\u001b[32m[2025-01-02 20:26:06]\u001b[0m \u001b[34m\u001b[1mDEBUG | Prompt: [TextPrompt(text='Stop the disco ball power and spinning.')]\u001b[0m\n",
      "\u001b[32m[2025-01-02 20:26:06]\u001b[0m \u001b[1mINFO | disco_ball_agent: Generating text\u001b[0m\n",
      "\u001b[32m[2025-01-02 20:26:07]\u001b[0m \u001b[34m\u001b[1mDEBUG | Response: [ToolCallResponse(name='stop_disco_ball', args='{}', call_id='call_fKRbNPrDjaV44e3oTwp5110v')]\u001b[0m\n",
      "\u001b[32m[2025-01-02 20:26:07]\u001b[0m \u001b[1mINFO | Running tool: stop_disco_ball\u001b[0m\n",
      "\u001b[32m[2025-01-02 20:26:07]\u001b[0m \u001b[1mINFO | Tool: stop_disco_ball successfully ran.\u001b[0m\n",
      "\u001b[32m[2025-01-02 20:26:07]\u001b[0m \u001b[34m\u001b[1mDEBUG | Prompt: [ToolUsePrompt(output='Stopping disco ball! Powered off and stopped spinning.', error=None, call_id='call_fKRbNPrDjaV44e3oTwp5110v', args='{}', name='stop_disco_ball')]\u001b[0m\n",
      "\u001b[32m[2025-01-02 20:26:07]\u001b[0m \u001b[1mINFO | disco_ball_agent: Generating text\u001b[0m\n",
      "\u001b[32m[2025-01-02 20:26:08]\u001b[0m \u001b[34m\u001b[1mDEBUG | Response: [ToolCallResponse(name='final_answer', args='{\"power\":false,\"spinning\":false}', call_id='call_ewrB8n8U4XMGdeOifAFLPXc8')]\u001b[0m\n",
      "\u001b[32m[2025-01-02 20:26:08]\u001b[0m \u001b[1mINFO | Running tool: final_answer\u001b[0m\n",
      "\u001b[32m[2025-01-02 20:26:08]\u001b[0m \u001b[1mINFO | Tool: final_answer successfully ran.\u001b[0m\n",
      "\u001b[32m[2025-01-02 20:26:08]\u001b[0m \u001b[34m\u001b[1mDEBUG | Final result: [TextResponse(text='{\"power\": false, \"spinning\": false}')]\u001b[0m\n",
      "\u001b[32m[2025-01-02 20:26:08]\u001b[0m \u001b[1mINFO | Tool: route_disco_ball_agent successfully ran.\u001b[0m\n",
      "\u001b[32m[2025-01-02 20:26:08]\u001b[0m \u001b[34m\u001b[1mDEBUG | Prompt: [ToolUsePrompt(output='{\"genre\": \"jazz\", \"bpm\": 80, \"volume\": 0.5}', error=None, call_id='call_IdRLN2QX1wkxcdFbB1Su1JHU', args='{\"instruction\": \"Change the music to jazz with a calm tempo, setting the BPM to 80.\"}', name='route_music_agent'), ToolUsePrompt(output='{\"power\": false, \"spinning\": false}', error=None, call_id='call_yCzcrfMHh9rvbNY5dByYfeIR', args='{\"instruction\": \"Stop the disco ball power and spinning.\"}', name='route_disco_ball_agent')]\u001b[0m\n",
      "\u001b[32m[2025-01-02 20:26:08]\u001b[0m \u001b[1mINFO | root: Generating text\u001b[0m\n",
      "\u001b[32m[2025-01-02 20:26:09]\u001b[0m \u001b[34m\u001b[1mDEBUG | Response: [ToolCallResponse(name='final_answer', args='{\"disco_ball\":{\"power\":false,\"spinning\":false},\"music\":{\"genre\":\"jazz\",\"bpm\":80,\"volume\":0.5},\"lights\":{\"brightness\":0.8}}', call_id='call_y6gSFYMeiPhOcAAQSKbftkYI')]\u001b[0m\n",
      "\u001b[32m[2025-01-02 20:26:09]\u001b[0m \u001b[1mINFO | Running tool: final_answer\u001b[0m\n",
      "\u001b[32m[2025-01-02 20:26:09]\u001b[0m \u001b[1mINFO | Tool: final_answer successfully ran.\u001b[0m\n",
      "\u001b[32m[2025-01-02 20:26:09]\u001b[0m \u001b[34m\u001b[1mDEBUG | Final result: [TextResponse(text='{\"disco_ball\": {\"power\": false, \"spinning\": false}, \"music\": {\"genre\": \"jazz\", \"bpm\": 80, \"volume\": 0.5}, \"lights\": {\"brightness\": 0.8}}')]\u001b[0m\n"
     ]
    }
   ],
   "source": [
    "prompt = \"Prefer to a jazz music with a calm tempo. Please change the music to jazz and stop the disco ball.\"\n",
    "\n",
    "response = orchestrator.generate_text(prompt=prompt)"
   ]
  },
  {
   "cell_type": "code",
   "execution_count": 26,
   "metadata": {},
   "outputs": [
    {
     "data": {
      "text/plain": [
       "[('music_control_agent',\n",
       "  Usage(model_name='gemini-2.0-flash-exp', prompt_tokens=3452, output_tokens=111)),\n",
       " ('disco_ball_agent',\n",
       "  Usage(model_name='gpt-4o-2024-11-20', prompt_tokens=1958, output_tokens=33)),\n",
       " ('music_agent',\n",
       "  Usage(model_name='claude-3-5-sonnet-20240620', prompt_tokens=4082, output_tokens=229)),\n",
       " ('root',\n",
       "  Usage(model_name='gpt-4o-2024-11-20', prompt_tokens=4599, output_tokens=200))]"
      ]
     },
     "execution_count": 26,
     "metadata": {},
     "output_type": "execute_result"
    }
   ],
   "source": [
    "list(response.usage.items())"
   ]
  },
  {
   "cell_type": "markdown",
   "metadata": {},
   "source": [
    "Validation response schema"
   ]
  },
  {
   "cell_type": "code",
   "execution_count": 27,
   "metadata": {},
   "outputs": [
    {
     "data": {
      "text/plain": [
       "{'disco_ball': {'power': False, 'spinning': False},\n",
       " 'music': {'genre': <MusicGenre.jazz: 'jazz'>, 'bpm': 80, 'volume': 0.5},\n",
       " 'lights': {'brightness': 0.8}}"
      ]
     },
     "execution_count": 27,
     "metadata": {},
     "output_type": "execute_result"
    }
   ],
   "source": [
    "valid_resposne = ResponseSchema.model_validate_json(response.contents[0].text)\n",
    "valid_resposne.model_dump()"
   ]
  },
  {
   "cell_type": "code",
   "execution_count": 28,
   "metadata": {},
   "outputs": [
    {
     "data": {
      "text/plain": [
       "[Prompt(type='Prompt', role='user', contents=[TextPrompt(text='Please make a concise plan to answer the following question/requirement, considering the conversation history.\\nYou can invoke the sub-agents or tools to answer the questions/requirements shown in the capabilities section.\\nAgent has no description while the tools have a description.\\n\\nQuestion/Requirement:\\nTurn this place into a party mood.\\n\\nCapabilities:\\n- lights_agent\\n  - turn_light_on: Turn the lights on.\\n  - adjust_lights: Adjust the brightness of the lights.\\n- disco_ball_agent\\n  - power_disco_ball: Powers the spinning dissco ball.\\n  - stop_disco_ball: Stop the disco ball power and spinning.\\n- music_agent\\n  - music_power_agent\\n    - start_music: Turn on the music. The genre, BPM, and volume are randomly selected.\\n  - music_control_agent\\n    - change_music: Change the music genre and BPM.\\n    - adjust_volume: Adjust the volume of the music.\\n    - change_bpm: Change the BPM of the music.\\n')], name=None),\n",
       " Response(type='Response', role='assistant', contents=[TextResponse(text='### Plan to Turn the Place into a Party Mood:\\n\\n1. **Lights Setup**:\\n   - Use `lights_agent` to turn the lights on.\\n   - Adjust the brightness of the lights to create a vibrant or dimmed party atmosphere using `adjust_lights`.\\n\\n2. **Disco Ball Activation**:\\n   - Use `disco_ball_agent` to power the spinning disco ball for a fun and dynamic visual effect.\\n\\n3. **Music Setup**:\\n   - Use `music_agent.music_power_agent` to start the music.\\n   - If needed, use `music_agent.music_control_agent` to:\\n     - Change the music genre and BPM to match the party vibe.\\n     - Adjust the volume to an appropriate level for the party.\\n\\n4. **Final Adjustments**:\\n   - Fine-tune the lights, disco ball, and music settings as needed to ensure the perfect party mood.\\n\\nWould you like me to execute this plan?')], usage=Usage(model_name=None, prompt_tokens=0, output_tokens=0), raw=None, name=None, is_last_chunk=None, prompt=None),\n",
       " Prompt(type='Prompt', role='user', contents=[TextPrompt(text='Put the plan into action.')], name=None),\n",
       " Response(type='Response', role='assistant', contents=[ToolCallResponse(name='route_lights_agent', args='{\"instruction\": \"Turn on the lights and adjust the brightness to a party-friendly level, such as 0.8.\"}', call_id='call_KZZDW9yVR21nhAJaVW8Ft2il'), ToolCallResponse(name='route_disco_ball_agent', args='{\"instruction\": \"Power the disco ball and make it spin for a party atmosphere.\"}', call_id='call_vN5lDDDtkopxPKH9qtFuRKUQ'), ToolCallResponse(name='route_music_agent', args='{\"instruction\": \"Start the music with a random genre, BPM, and volume to initiate the party mood.\"}', call_id='call_rm1IY9aZxQAIQlaPuXey0V3i')], usage=Usage(model_name=None, prompt_tokens=0, output_tokens=0), raw=None, name=None, is_last_chunk=None, prompt=None),\n",
       " Prompt(type='Prompt', role='user', contents=[ToolUsePrompt(output='{\"brightness\": 0.8}', error=None, call_id='call_KZZDW9yVR21nhAJaVW8Ft2il', args='{\"instruction\": \"Turn on the lights and adjust the brightness to a party-friendly level, such as 0.8.\"}', name='route_lights_agent'), ToolUsePrompt(output='{\"power\": true, \"spinning\": true}', error=None, call_id='call_vN5lDDDtkopxPKH9qtFuRKUQ', args='{\"instruction\": \"Power the disco ball and make it spin for a party atmosphere.\"}', name='route_disco_ball_agent'), ToolUsePrompt(output='{\"genre\": \"pop\", \"bpm\": 120, \"volume\": 0.5}', error=None, call_id='call_rm1IY9aZxQAIQlaPuXey0V3i', args='{\"instruction\": \"Start the music with a random genre, BPM, and volume to initiate the party mood.\"}', name='route_music_agent')], name=None),\n",
       " Response(type='Response', role='assistant', contents=[ToolCallResponse(name='final_answer', args='{\"disco_ball\":{\"power\":true,\"spinning\":true},\"music\":{\"genre\":\"pop\",\"bpm\":120,\"volume\":0.5},\"lights\":{\"brightness\":0.8}}', call_id='call_UM8CW6rlAlYR7GdZiGWl57Iw')], usage=Usage(model_name=None, prompt_tokens=0, output_tokens=0), raw=None, name=None, is_last_chunk=None, prompt=None),\n",
       " Prompt(type='Prompt', role='user', contents=[ToolUsePrompt(output='{\"disco_ball\": {\"power\": true, \"spinning\": true}, \"music\": {\"genre\": \"pop\", \"bpm\": 120, \"volume\": 0.5}, \"lights\": {\"brightness\": 0.8}}', error=None, call_id='call_UM8CW6rlAlYR7GdZiGWl57Iw', args='{\"disco_ball\":{\"power\":true,\"spinning\":true},\"music\":{\"genre\":\"pop\",\"bpm\":120,\"volume\":0.5},\"lights\":{\"brightness\":0.8}}', name='final_answer')], name=None),\n",
       " Response(type='Response', role='assistant', contents=[TextResponse(text='{\"disco_ball\": {\"power\": true, \"spinning\": true}, \"music\": {\"genre\": \"pop\", \"bpm\": 120, \"volume\": 0.5}, \"lights\": {\"brightness\": 0.8}}')], usage=Usage(model_name=None, prompt_tokens=0, output_tokens=0), raw=None, name=None, is_last_chunk=None, prompt=None),\n",
       " Prompt(type='Prompt', role='user', contents=[TextPrompt(text='Please make a concise plan to answer the following question/requirement, considering the conversation history.\\nYou can invoke the sub-agents or tools to answer the questions/requirements shown in the capabilities section.\\nAgent has no description while the tools have a description.\\n\\nQuestion/Requirement:\\nPrefer to a jazz music with a calm tempo. Please change the music to jazz and stop the disco ball.\\n\\nCapabilities:\\n- lights_agent\\n  - turn_light_on: Turn the lights on.\\n  - adjust_lights: Adjust the brightness of the lights.\\n- disco_ball_agent\\n  - power_disco_ball: Powers the spinning dissco ball.\\n  - stop_disco_ball: Stop the disco ball power and spinning.\\n- music_agent\\n  - music_power_agent\\n    - start_music: Turn on the music. The genre, BPM, and volume are randomly selected.\\n  - music_control_agent\\n    - change_music: Change the music genre and BPM.\\n    - adjust_volume: Adjust the volume of the music.\\n    - change_bpm: Change the BPM of the music.\\n')], name=None),\n",
       " Response(type='Response', role='assistant', contents=[TextResponse(text='### Plan to Adjust the Mood:\\n\\n1. **Music Adjustment**:\\n   - Use `music_agent.music_control_agent` to change the music genre to jazz and set a calm tempo (lower BPM).\\n\\n2. **Disco Ball Deactivation**:\\n   - Use `disco_ball_agent` to stop the disco ball power and spinning.\\n\\nWould you like me to execute this plan?')], usage=Usage(model_name=None, prompt_tokens=0, output_tokens=0), raw=None, name=None, is_last_chunk=None, prompt=None),\n",
       " Prompt(type='Prompt', role='user', contents=[TextPrompt(text='Put the plan into action.')], name=None),\n",
       " Response(type='Response', role='assistant', contents=[ToolCallResponse(name='route_music_agent', args='{\"instruction\": \"Change the music to jazz with a calm tempo, setting the BPM to 80.\"}', call_id='call_IdRLN2QX1wkxcdFbB1Su1JHU'), ToolCallResponse(name='route_disco_ball_agent', args='{\"instruction\": \"Stop the disco ball power and spinning.\"}', call_id='call_yCzcrfMHh9rvbNY5dByYfeIR')], usage=Usage(model_name=None, prompt_tokens=0, output_tokens=0), raw=None, name=None, is_last_chunk=None, prompt=None),\n",
       " Prompt(type='Prompt', role='user', contents=[ToolUsePrompt(output='{\"genre\": \"jazz\", \"bpm\": 80, \"volume\": 0.5}', error=None, call_id='call_IdRLN2QX1wkxcdFbB1Su1JHU', args='{\"instruction\": \"Change the music to jazz with a calm tempo, setting the BPM to 80.\"}', name='route_music_agent'), ToolUsePrompt(output='{\"power\": false, \"spinning\": false}', error=None, call_id='call_yCzcrfMHh9rvbNY5dByYfeIR', args='{\"instruction\": \"Stop the disco ball power and spinning.\"}', name='route_disco_ball_agent')], name=None),\n",
       " Response(type='Response', role='assistant', contents=[ToolCallResponse(name='final_answer', args='{\"disco_ball\":{\"power\":false,\"spinning\":false},\"music\":{\"genre\":\"jazz\",\"bpm\":80,\"volume\":0.5},\"lights\":{\"brightness\":0.8}}', call_id='call_y6gSFYMeiPhOcAAQSKbftkYI')], usage=Usage(model_name=None, prompt_tokens=0, output_tokens=0), raw=None, name=None, is_last_chunk=None, prompt=None),\n",
       " Prompt(type='Prompt', role='user', contents=[ToolUsePrompt(output='{\"disco_ball\": {\"power\": false, \"spinning\": false}, \"music\": {\"genre\": \"jazz\", \"bpm\": 80, \"volume\": 0.5}, \"lights\": {\"brightness\": 0.8}}', error=None, call_id='call_y6gSFYMeiPhOcAAQSKbftkYI', args='{\"disco_ball\":{\"power\":false,\"spinning\":false},\"music\":{\"genre\":\"jazz\",\"bpm\":80,\"volume\":0.5},\"lights\":{\"brightness\":0.8}}', name='final_answer')], name=None),\n",
       " Response(type='Response', role='assistant', contents=[TextResponse(text='{\"disco_ball\": {\"power\": false, \"spinning\": false}, \"music\": {\"genre\": \"jazz\", \"bpm\": 80, \"volume\": 0.5}, \"lights\": {\"brightness\": 0.8}}')], usage=Usage(model_name=None, prompt_tokens=0, output_tokens=0), raw=None, name=None, is_last_chunk=None, prompt=None)]"
      ]
     },
     "execution_count": 28,
     "metadata": {},
     "output_type": "execute_result"
    }
   ],
   "source": [
    "orchestrator.load_history()"
   ]
  },
  {
   "cell_type": "code",
   "execution_count": null,
   "metadata": {},
   "outputs": [],
   "source": []
  },
  {
   "cell_type": "code",
   "execution_count": null,
   "metadata": {},
   "outputs": [],
   "source": []
  },
  {
   "cell_type": "code",
   "execution_count": null,
   "metadata": {},
   "outputs": [],
   "source": []
  }
 ],
 "metadata": {
  "kernelspec": {
   "display_name": ".venv",
   "language": "python",
   "name": "python3"
  },
  "language_info": {
   "codemirror_mode": {
    "name": "ipython",
    "version": 3
   },
   "file_extension": ".py",
   "mimetype": "text/x-python",
   "name": "python",
   "nbconvert_exporter": "python",
   "pygments_lexer": "ipython3",
   "version": "3.10.12"
  }
 },
 "nbformat": 4,
 "nbformat_minor": 4
}
