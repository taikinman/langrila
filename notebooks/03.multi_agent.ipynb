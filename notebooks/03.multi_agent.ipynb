{
 "cells": [
  {
   "cell_type": "code",
   "execution_count": 1,
   "metadata": {},
   "outputs": [],
   "source": [
    "import os\n",
    "import warnings\n",
    "\n",
    "warnings.simplefilter(action=\"ignore\")\n",
    "os.environ[\"GRPC_VERBOSITY\"] = \"NONE\""
   ]
  },
  {
   "cell_type": "markdown",
   "metadata": {},
   "source": [
    "# Multi Agent Building"
   ]
  },
  {
   "cell_type": "markdown",
   "metadata": {},
   "source": [
    "Dependency injection shown in [02.tool_calling_and_dependency_injection.ipynb](./02.tool_calling_and_dependency_injection.ipynb) allow us to build multi agent with intuitive coding. `Agent` class has the argument `subagents` that accepts `list[Agent]` typed variable, and subagents are dynamically converted to tools which invokes agent using dependency injection feature. This notebook shows examples of multi-agent building. "
   ]
  },
  {
   "cell_type": "markdown",
   "metadata": {},
   "source": [
    "# Prerequisites"
   ]
  },
  {
   "cell_type": "markdown",
   "metadata": {},
   "source": [
    "Please make sure your environmental variables and dependencies are ready to use LLM services. Name of the environmental variables is arbitraray because langrila modules accepts that name as an argument."
   ]
  },
  {
   "cell_type": "code",
   "execution_count": 2,
   "metadata": {},
   "outputs": [
    {
     "data": {
      "text/plain": [
       "True"
      ]
     },
     "execution_count": 2,
     "metadata": {},
     "output_type": "execute_result"
    }
   ],
   "source": [
    "from dotenv import load_dotenv\n",
    "\n",
    "load_dotenv(\"../../.env_api\")"
   ]
  },
  {
   "cell_type": "markdown",
   "metadata": {},
   "source": [
    "# Import modules"
   ]
  },
  {
   "cell_type": "code",
   "execution_count": 3,
   "metadata": {},
   "outputs": [],
   "source": [
    "import uuid\n",
    "from pathlib import Path\n",
    "\n",
    "from langrila import Agent, InMemoryConversationMemory, JSONConversationMemory\n",
    "from langrila.anthropic import AnthropicClient\n",
    "from langrila.google import GoogleClient\n",
    "from langrila.openai import OpenAIClient"
   ]
  },
  {
   "cell_type": "markdown",
   "metadata": {},
   "source": [
    "# Instantiate client"
   ]
  },
  {
   "cell_type": "code",
   "execution_count": 4,
   "metadata": {},
   "outputs": [],
   "source": [
    "# For OpenAI\n",
    "openai_client = OpenAIClient(api_key_env_name=\"OPENAI_API_KEY\")\n",
    "\n",
    "# For Azure OpenAI\n",
    "azure_openai_client = OpenAIClient(\n",
    "    api_key_env_name=\"AZURE_API_KEY\",\n",
    "    api_type=\"azure\",\n",
    "    azure_api_version=\"2024-11-01-preview\",\n",
    "    azure_endpoint_env_name=\"AZURE_ENDPOINT\",\n",
    "    azure_deployment_id_env_name=\"AZURE_DEPLOYMENT_ID\",\n",
    ")\n",
    "\n",
    "# For Gemini on Google AI Studio\n",
    "google_dev_client = GoogleClient(api_key_env_name=\"GEMINI_API_KEY\")\n",
    "\n",
    "# For Gemini on Google Cloud VertexAI\n",
    "vertexai_client = GoogleClient(\n",
    "    api_type=\"vertexai\",\n",
    "    project_id_env_name=\"GOOGLE_CLOUD_PROJECT\",\n",
    "    location=\"us-central1\",\n",
    ")\n",
    "\n",
    "# For Claude of Anthropic\n",
    "anthropic_client = AnthropicClient(api_key_env_name=\"ANTHROPIC_API_KEY\")\n",
    "\n",
    "# For Claude of Amazon Bedrock\n",
    "claude_bedrock_client = AnthropicClient(\n",
    "    api_type=\"bedrock\",\n",
    "    aws_access_key_env_name=\"AWS_ACCESS_KEY\",\n",
    "    aws_secret_key_env_name=\"AWS_SECRET_KEY\",\n",
    "    aws_region_env_name=\"AWS_REGION\",\n",
    ")"
   ]
  },
  {
   "cell_type": "markdown",
   "metadata": {},
   "source": [
    "# Define tools"
   ]
  },
  {
   "cell_type": "markdown",
   "metadata": {},
   "source": [
    "Using dummy tools."
   ]
  },
  {
   "cell_type": "code",
   "execution_count": 5,
   "metadata": {},
   "outputs": [],
   "source": [
    "import random\n",
    "from typing import Literal\n",
    "\n",
    "\n",
    "def power_disco_ball(power: bool) -> bool:\n",
    "    \"\"\"\n",
    "    Powers the spinning dissco ball.\n",
    "\n",
    "    Parameters\n",
    "    ----------\n",
    "    power : bool\n",
    "        Whether to power the disco ball or not.\n",
    "\n",
    "    Returns\n",
    "    ----------\n",
    "    bool\n",
    "        Whether the disco ball is spinning or not.\n",
    "    \"\"\"\n",
    "    return f\"Disco ball is {'spinning!' if power else 'stopped.'}\"\n",
    "\n",
    "\n",
    "def start_music() -> str:\n",
    "    \"\"\"\n",
    "    Turn on the music. The genre, BPM, and volume are randomly selected.\n",
    "\n",
    "    Returns\n",
    "    ----------\n",
    "    str\n",
    "        A message indicating that the music is starting.\n",
    "    \"\"\"\n",
    "    music_genre = random.choice([\"rock\", \"pop\", \"jazz\", \"classical\", \"hip-hop\"])\n",
    "    volume = random.uniform(0.2, 1.0)\n",
    "    bpm = 120\n",
    "    return f\"Starting music! Genre: {music_genre}, BPM: {bpm}, Volume: {volume}\"\n",
    "\n",
    "\n",
    "def change_bpm(new_bpm: int) -> int:\n",
    "    \"\"\"\n",
    "    Change the BPM of the music.\n",
    "\n",
    "    Parameters\n",
    "    ----------\n",
    "    new_bpm : int\n",
    "        The new BPM to set the music.\n",
    "\n",
    "    Returns\n",
    "    ----------\n",
    "    int\n",
    "        The new BPM of the music.\n",
    "    \"\"\"\n",
    "    return f\"Changing BPM to {new_bpm}\"\n",
    "\n",
    "\n",
    "def change_music(\n",
    "    genre: Literal[\"rock\", \"pop\", \"jazz\", \"classical\", \"hip-hop\"],\n",
    "    bpm: int,\n",
    ") -> str:\n",
    "    \"\"\"\n",
    "    Change the music genre and BPM.\n",
    "\n",
    "    Parameters\n",
    "    ----------\n",
    "    genre : str\n",
    "        The genre of music to play. Should be one of \"rock\", \"pop\", \"jazz\", \"classical\", or \"hip-hop\".\n",
    "    bpm : int\n",
    "        The BPM of the music.\n",
    "\n",
    "    Returns\n",
    "    ----------\n",
    "    str\n",
    "        A message indicating that the music has been changed.\n",
    "    \"\"\"\n",
    "    return f\"Changing music to {genre} with BPM {bpm}\"\n",
    "\n",
    "\n",
    "def turn_light_on() -> str:\n",
    "    \"\"\"\n",
    "    Turn the lights on.\n",
    "\n",
    "    Returns\n",
    "    ----------\n",
    "    str\n",
    "        A message indicating that the lights are turning on.\n",
    "    \"\"\"\n",
    "    brightness = random.uniform(0.5, 1.0)\n",
    "    return \"Lights are now on! Brightness: {:.2f}\".format(brightness)\n",
    "\n",
    "\n",
    "def dim_lights(brightness: float) -> bool:\n",
    "    \"\"\"\n",
    "    Dim the lights.\n",
    "\n",
    "    Parameters\n",
    "    ----------\n",
    "    brightness : float\n",
    "        The brightness level to set the lights. Should be between 0 and 1.\n",
    "\n",
    "    Returns\n",
    "    ----------\n",
    "    bool\n",
    "        Whether the lights were successfully dimmed.\n",
    "    \"\"\"\n",
    "    return f\"Lights are now set to {brightness}\"\n",
    "\n",
    "\n",
    "def adjust_volume(volume: float) -> bool:\n",
    "    \"\"\"\n",
    "    Adjust the volume of the music.\n",
    "\n",
    "    Parameters\n",
    "    ----------\n",
    "    volume : float\n",
    "        The volume level to set the music. Should be between 0 and 1.\n",
    "\n",
    "    Returns\n",
    "    ----------\n",
    "    bool\n",
    "        Whether the volume was successfully adjusted.\n",
    "    \"\"\"\n",
    "    return f\"Volume is now set to {volume}\"\n",
    "\n",
    "\n",
    "def stop_music() -> str:\n",
    "    \"\"\"\n",
    "    Stop the music.\n",
    "\n",
    "    Returns\n",
    "    ----------\n",
    "    str\n",
    "        A message indicating that the music is stopping.\n",
    "    \"\"\"\n",
    "    return \"Stopping music!\"\n",
    "\n",
    "\n",
    "def stop_disco_ball() -> str:\n",
    "    \"\"\"\n",
    "    Stop the disco ball power and spinning.\n",
    "\n",
    "    Returns\n",
    "    ----------\n",
    "    str\n",
    "        A message indicating that the disco ball is stopping.\n",
    "    \"\"\"\n",
    "    return \"Stopping disco ball! Powered off and stopped spinning.\"\n",
    "\n",
    "\n",
    "def adjust_lights(brightness: float) -> bool:\n",
    "    \"\"\"\n",
    "    Adjust the brightness of the lights.\n",
    "\n",
    "    Parameters\n",
    "    ----------\n",
    "    brightness : float\n",
    "        The brightness level to set the lights. Should be between 0 and 1.\n",
    "\n",
    "    Returns\n",
    "    ----------\n",
    "    bool\n",
    "        Whether the lights were successfully brightened.\n",
    "    \"\"\"\n",
    "    return f\"Lights are now set to {brightness}\""
   ]
  },
  {
   "cell_type": "markdown",
   "metadata": {},
   "source": [
    "# Multi-Agent"
   ]
  },
  {
   "cell_type": "markdown",
   "metadata": {},
   "source": [
    "`Agent` class accepts `subagents` argument which generates dynamically tools to run agent. Langrila supports multi agent with multi client. In langrila, we can build orchestrator-typed multi-agent, not graph-based multi-agent. The orchestrator routes the execution of tools to task-specific agents, aggregates the results, and outputs the final answer."
   ]
  },
  {
   "cell_type": "markdown",
   "metadata": {},
   "source": [
    "## Task specific agent. "
   ]
  },
  {
   "cell_type": "code",
   "execution_count": 6,
   "metadata": {},
   "outputs": [],
   "source": [
    "memory_id = str(uuid.uuid4())  # Use your own memory ID\n",
    "memory_path = f\"./{memory_id}\"\n",
    "\n",
    "_memory_path = Path(memory_path)\n",
    "\n",
    "if not _memory_path.exists():\n",
    "    _memory_path.mkdir(parents=True, exist_ok=True)\n",
    "\n",
    "lights_agent = Agent(\n",
    "    client=vertexai_client,\n",
    "    model=\"gemini-2.0-flash-exp\",\n",
    "    temperature=0.0,\n",
    "    tools=[turn_light_on, adjust_lights],\n",
    "    conversation_memory=JSONConversationMemory(f\"{memory_path}/lights_agent.json\", exist_ok=True),\n",
    ")\n",
    "\n",
    "disco_ball_agent = Agent(\n",
    "    client=anthropic_client,\n",
    "    model=\"claude-3-5-sonnet-20240620\",\n",
    "    temperature=0.0,\n",
    "    tools=[power_disco_ball, stop_disco_ball],\n",
    "    max_tokens=500,\n",
    "    conversation_memory=JSONConversationMemory(\n",
    "        f\"{memory_path}/disco_ball_agent.json\", exist_ok=True\n",
    "    ),\n",
    ")\n",
    "\n",
    "music_agent = Agent(\n",
    "    client=openai_client,\n",
    "    model=\"gpt-4o-mini-2024-07-18\",\n",
    "    temperature=0.0,\n",
    "    tools=[start_music, change_music, adjust_volume],\n",
    "    conversation_memory=JSONConversationMemory(f\"{memory_path}/music_agent.json\", exist_ok=True),\n",
    ")"
   ]
  },
  {
   "cell_type": "markdown",
   "metadata": {},
   "source": [
    "## Orchestrator agent.\n",
    "\n",
    "The thing you have to do for building multi-agent is to pass agents to the orchestrator agent. Planning mode is supported for multi agent."
   ]
  },
  {
   "cell_type": "code",
   "execution_count": 7,
   "metadata": {},
   "outputs": [],
   "source": [
    "orchestrator = Agent(\n",
    "    client=openai_client,\n",
    "    model=\"gpt-4o-mini-2024-07-18\",\n",
    "    temperature=0.0,\n",
    "    subagents=[lights_agent, disco_ball_agent, music_agent],\n",
    "    planning=True,\n",
    "    conversation_memory=JSONConversationMemory(f\"{memory_id}/orchestrator.json\", exist_ok=True),\n",
    ")"
   ]
  },
  {
   "cell_type": "code",
   "execution_count": 8,
   "metadata": {},
   "outputs": [
    {
     "name": "stderr",
     "output_type": "stream",
     "text": [
      "\u001b[32m[2025-01-05 21:50:15]\u001b[0m \u001b[34m\u001b[1mDEBUG | Prompt: [TextPrompt(text='Please make a concise plan to answer the following question/requirement, considering the conversation history.\\nYou can invoke the sub-agents or tools to answer the questions/requirements shown in the capabilities section.\\nAgent has no description while the tools have a description.\\n\\nQuestion/Requirement:\\nTurn this place into a party mood!\\n\\nCapabilities:\\n- lights_agent\\n  - turn_light_on: Turn the lights on.\\n  - adjust_lights: Adjust the brightness of the lights.\\n- disco_ball_agent\\n  - power_disco_ball: Powers the spinning dissco ball.\\n  - stop_disco_ball: Stop the disco ball power and spinning.\\n- music_agent\\n  - start_music: Turn on the music. The genre, BPM, and volume are randomly selected.\\n  - change_music: Change the music genre and BPM.\\n  - adjust_volume: Adjust the volume of the music.\\n')]\u001b[0m\n",
      "\u001b[32m[2025-01-05 21:50:15]\u001b[0m \u001b[1mINFO | root: Generating text\u001b[0m\n",
      "\u001b[32m[2025-01-05 21:50:18]\u001b[0m \u001b[34m\u001b[1mDEBUG | Response: [TextResponse(text='### Plan to Turn the Place into a Party Mood\\n\\n1. **Turn on the Lights**: \\n   - Invoke `lights_agent.turn_light_on` to ensure the lights are on.\\n\\n2. **Adjust the Lighting**: \\n   - Invoke `lights_agent.adjust_lights` to set a vibrant brightness level suitable for a party atmosphere.\\n\\n3. **Activate the Disco Ball**: \\n   - Invoke `disco_ball_agent.power_disco_ball` to add a fun visual element to the party.\\n\\n4. **Start the Music**: \\n   - Invoke `music_agent.start_music` to play upbeat music that fits the party vibe.\\n\\n5. **Adjust Music Volume**: \\n   - Optionally, invoke `music_agent.adjust_volume` to ensure the music is at an appropriate level for the party setting.\\n\\nBy following these steps, the place will be transformed into a lively party environment!')]\u001b[0m\n",
      "\u001b[32m[2025-01-05 21:50:18]\u001b[0m \u001b[34m\u001b[1mDEBUG | Prompt: [TextPrompt(text='Put the plan into action.')]\u001b[0m\n",
      "\u001b[32m[2025-01-05 21:50:18]\u001b[0m \u001b[1mINFO | root: Generating text\u001b[0m\n",
      "\u001b[32m[2025-01-05 21:50:20]\u001b[0m \u001b[34m\u001b[1mDEBUG | Response: [ToolCallResponse(name='route_lights_agent', args='{\"instruction\": \"Turn the lights on.\"}', call_id='call_GJObQuM8JlieC1EovB8MKPSJ'), ToolCallResponse(name='route_lights_agent', args='{\"instruction\": \"Adjust the brightness of the lights to a vibrant level suitable for a party.\"}', call_id='call_UMvm8MFAAs1ZIzg0Mu7SWzxI'), ToolCallResponse(name='route_disco_ball_agent', args='{\"instruction\": \"Power the spinning disco ball.\"}', call_id='call_BxYXHlwlexTcFwS0v7ssF3No'), ToolCallResponse(name='route_music_agent', args='{\"instruction\": \"Turn on the music with an upbeat genre, BPM, and volume.\"}', call_id='call_wxkDiVDcSB5ulwo7BtXU7dRB')]\u001b[0m\n",
      "\u001b[32m[2025-01-05 21:50:20]\u001b[0m \u001b[1mINFO | Running tool: route_lights_agent\u001b[0m\n",
      "\u001b[32m[2025-01-05 21:50:20]\u001b[0m \u001b[34m\u001b[1mDEBUG | Prompt: [TextPrompt(text='Turn the lights on.')]\u001b[0m\n",
      "\u001b[32m[2025-01-05 21:50:20]\u001b[0m \u001b[1mINFO | lights_agent: Generating text\u001b[0m\n",
      "\u001b[32m[2025-01-05 21:50:22]\u001b[0m \u001b[34m\u001b[1mDEBUG | Response: [ToolCallResponse(name='turn_light_on', args='{}', call_id='7A3GJqIxeJYyAJLZ1PzZVTfA')]\u001b[0m\n",
      "\u001b[32m[2025-01-05 21:50:22]\u001b[0m \u001b[1mINFO | Running tool: turn_light_on\u001b[0m\n",
      "\u001b[32m[2025-01-05 21:50:22]\u001b[0m \u001b[1mINFO | Tool: turn_light_on successfully ran.\u001b[0m\n",
      "\u001b[32m[2025-01-05 21:50:22]\u001b[0m \u001b[34m\u001b[1mDEBUG | Prompt: [ToolUsePrompt(output='Lights are now on! Brightness: 0.60', error=None, call_id='7A3GJqIxeJYyAJLZ1PzZVTfA', args='{}', name='turn_light_on')]\u001b[0m\n",
      "\u001b[32m[2025-01-05 21:50:22]\u001b[0m \u001b[1mINFO | lights_agent: Generating text\u001b[0m\n",
      "\u001b[32m[2025-01-05 21:50:24]\u001b[0m \u001b[34m\u001b[1mDEBUG | Response: [TextResponse(text='OK. The lights are now on.')]\u001b[0m\n",
      "\u001b[32m[2025-01-05 21:50:24]\u001b[0m \u001b[1mINFO | Tool: route_lights_agent successfully ran.\u001b[0m\n",
      "\u001b[32m[2025-01-05 21:50:24]\u001b[0m \u001b[1mINFO | Running tool: route_lights_agent\u001b[0m\n",
      "\u001b[32m[2025-01-05 21:50:24]\u001b[0m \u001b[34m\u001b[1mDEBUG | Prompt: [TextPrompt(text='Adjust the brightness of the lights to a vibrant level suitable for a party.')]\u001b[0m\n",
      "\u001b[32m[2025-01-05 21:50:24]\u001b[0m \u001b[1mINFO | lights_agent: Generating text\u001b[0m\n",
      "\u001b[32m[2025-01-05 21:50:25]\u001b[0m \u001b[34m\u001b[1mDEBUG | Response: [ToolCallResponse(name='adjust_lights', args='{\"brightness\": 0.9}', call_id='I71Qp0krSBWTOMiq1gwA66sk')]\u001b[0m\n",
      "\u001b[32m[2025-01-05 21:50:25]\u001b[0m \u001b[1mINFO | Running tool: adjust_lights\u001b[0m\n",
      "\u001b[32m[2025-01-05 21:50:25]\u001b[0m \u001b[1mINFO | Tool: adjust_lights successfully ran.\u001b[0m\n",
      "\u001b[32m[2025-01-05 21:50:25]\u001b[0m \u001b[34m\u001b[1mDEBUG | Prompt: [ToolUsePrompt(output='Lights are now set to 0.9', error=None, call_id='I71Qp0krSBWTOMiq1gwA66sk', args='{\"brightness\": 0.9}', name='adjust_lights')]\u001b[0m\n",
      "\u001b[32m[2025-01-05 21:50:25]\u001b[0m \u001b[1mINFO | lights_agent: Generating text\u001b[0m\n",
      "\u001b[32m[2025-01-05 21:50:26]\u001b[0m \u001b[34m\u001b[1mDEBUG | Response: [TextResponse(text=\"OK. I've adjusted the brightness of the lights to 0.9.\")]\u001b[0m\n",
      "\u001b[32m[2025-01-05 21:50:26]\u001b[0m \u001b[1mINFO | Tool: route_lights_agent successfully ran.\u001b[0m\n",
      "\u001b[32m[2025-01-05 21:50:26]\u001b[0m \u001b[1mINFO | Running tool: route_disco_ball_agent\u001b[0m\n",
      "\u001b[32m[2025-01-05 21:50:26]\u001b[0m \u001b[34m\u001b[1mDEBUG | Prompt: [TextPrompt(text='Power the spinning disco ball.')]\u001b[0m\n",
      "\u001b[32m[2025-01-05 21:50:26]\u001b[0m \u001b[1mINFO | disco_ball_agent: Generating text\u001b[0m\n",
      "\u001b[32m[2025-01-05 21:50:28]\u001b[0m \u001b[34m\u001b[1mDEBUG | Response: [TextResponse(text='Certainly! I can help you power the spinning disco ball using the available function. Let\\'s use the \"power_disco_ball\" function to turn it on.'), ToolCallResponse(name='power_disco_ball', args='{\"power\": true}', call_id='toolu_01TpsQXCRfcyrQFmFLnhHoeS')]\u001b[0m\n",
      "\u001b[32m[2025-01-05 21:50:28]\u001b[0m \u001b[1mINFO | Running tool: power_disco_ball\u001b[0m\n",
      "\u001b[32m[2025-01-05 21:50:28]\u001b[0m \u001b[1mINFO | Tool: power_disco_ball successfully ran.\u001b[0m\n",
      "\u001b[32m[2025-01-05 21:50:28]\u001b[0m \u001b[34m\u001b[1mDEBUG | Prompt: [ToolUsePrompt(output='Disco ball is spinning!', error=None, call_id='toolu_01TpsQXCRfcyrQFmFLnhHoeS', args='{\"power\": true}', name='power_disco_ball')]\u001b[0m\n",
      "\u001b[32m[2025-01-05 21:50:28]\u001b[0m \u001b[1mINFO | disco_ball_agent: Generating text\u001b[0m\n",
      "\u001b[32m[2025-01-05 21:50:30]\u001b[0m \u001b[34m\u001b[1mDEBUG | Response: [TextResponse(text='Great! The disco ball has been powered on and is now spinning. The function returned the message \"Disco ball is spinning!\" which confirms that the action was successful.\\n\\nIs there anything else you\\'d like to do with the disco ball or any other requests you have?')]\u001b[0m\n",
      "\u001b[32m[2025-01-05 21:50:30]\u001b[0m \u001b[1mINFO | Tool: route_disco_ball_agent successfully ran.\u001b[0m\n",
      "\u001b[32m[2025-01-05 21:50:30]\u001b[0m \u001b[1mINFO | Running tool: route_music_agent\u001b[0m\n",
      "\u001b[32m[2025-01-05 21:50:30]\u001b[0m \u001b[34m\u001b[1mDEBUG | Prompt: [TextPrompt(text='Turn on the music with an upbeat genre, BPM, and volume.')]\u001b[0m\n",
      "\u001b[32m[2025-01-05 21:50:30]\u001b[0m \u001b[1mINFO | music_agent: Generating text\u001b[0m\n",
      "\u001b[32m[2025-01-05 21:50:31]\u001b[0m \u001b[34m\u001b[1mDEBUG | Response: [ToolCallResponse(name='start_music', args='{}', call_id='call_S0CJOkr6WxFcyhT595nIlGWb')]\u001b[0m\n",
      "\u001b[32m[2025-01-05 21:50:31]\u001b[0m \u001b[1mINFO | Running tool: start_music\u001b[0m\n",
      "\u001b[32m[2025-01-05 21:50:31]\u001b[0m \u001b[1mINFO | Tool: start_music successfully ran.\u001b[0m\n",
      "\u001b[32m[2025-01-05 21:50:31]\u001b[0m \u001b[34m\u001b[1mDEBUG | Prompt: [ToolUsePrompt(output='Starting music! Genre: hip-hop, BPM: 120, Volume: 0.9105972755969132', error=None, call_id='call_S0CJOkr6WxFcyhT595nIlGWb', args='{}', name='start_music')]\u001b[0m\n",
      "\u001b[32m[2025-01-05 21:50:31]\u001b[0m \u001b[1mINFO | music_agent: Generating text\u001b[0m\n",
      "\u001b[32m[2025-01-05 21:50:32]\u001b[0m \u001b[34m\u001b[1mDEBUG | Response: [TextResponse(text='The music is now playing! Genre: Hip-hop, BPM: 120, Volume: 0.91. Enjoy the upbeat vibes!')]\u001b[0m\n",
      "\u001b[32m[2025-01-05 21:50:32]\u001b[0m \u001b[1mINFO | Tool: route_music_agent successfully ran.\u001b[0m\n",
      "\u001b[32m[2025-01-05 21:50:32]\u001b[0m \u001b[34m\u001b[1mDEBUG | Prompt: [ToolUsePrompt(output='OK. The lights are now on.', error=None, call_id='call_GJObQuM8JlieC1EovB8MKPSJ', args='{\"instruction\": \"Turn the lights on.\"}', name='route_lights_agent'), ToolUsePrompt(output=\"OK. I've adjusted the brightness of the lights to 0.9.\", error=None, call_id='call_UMvm8MFAAs1ZIzg0Mu7SWzxI', args='{\"instruction\": \"Adjust the brightness of the lights to a vibrant level suitable for a party.\"}', name='route_lights_agent'), ToolUsePrompt(output='Great! The disco ball has been powered on and is now spinning. The function returned the message \"Disco ball is spinning!\" which confirms that the action was successful.\\n\\nIs there anything else you\\'d like to do with the disco ball or any other requests you have?', error=None, call_id='call_BxYXHlwlexTcFwS0v7ssF3No', args='{\"instruction\": \"Power the spinning disco ball.\"}', name='route_disco_ball_agent'), ToolUsePrompt(output='The music is now playing! Genre: Hip-hop, BPM: 120, Volume: 0.91. Enjoy the upbeat vibes!', error=None, call_id='call_wxkDiVDcSB5ulwo7BtXU7dRB', args='{\"instruction\": \"Turn on the music with an upbeat genre, BPM, and volume.\"}', name='route_music_agent')]\u001b[0m\n",
      "\u001b[32m[2025-01-05 21:50:32]\u001b[0m \u001b[1mINFO | root: Generating text\u001b[0m\n",
      "\u001b[32m[2025-01-05 21:50:35]\u001b[0m \u001b[34m\u001b[1mDEBUG | Response: [TextResponse(text=\"The party mood has been successfully set! Here's what has been done:\\n\\n1. **Lights**: The lights are now on and the brightness has been adjusted to a vibrant level (0.9).\\n2. **Disco Ball**: The disco ball is powered on and spinning, adding a fun visual element to the atmosphere.\\n3. **Music**: Upbeat music is playing with the genre set to Hip-hop, BPM at 120, and volume at 0.91.\\n\\nEnjoy the party vibes! If you have any other requests or adjustments, feel free to let me know!\")]\u001b[0m\n"
     ]
    }
   ],
   "source": [
    "prompt = \"Turn this place into a party mood!\"\n",
    "\n",
    "response = orchestrator.generate_text(prompt=prompt)"
   ]
  },
  {
   "cell_type": "markdown",
   "metadata": {},
   "source": [
    "As you can see in the log message above, the orchestrator agent assigned subdivided task to each subagents and finally generated answer."
   ]
  },
  {
   "cell_type": "code",
   "execution_count": 9,
   "metadata": {},
   "outputs": [
    {
     "name": "stdout",
     "output_type": "stream",
     "text": [
      "The party mood has been successfully set! Here's what has been done:\n",
      "\n",
      "1. **Lights**: The lights are now on and the brightness has been adjusted to a vibrant level (0.9).\n",
      "2. **Disco Ball**: The disco ball is powered on and spinning, adding a fun visual element to the atmosphere.\n",
      "3. **Music**: Upbeat music is playing with the genre set to Hip-hop, BPM at 120, and volume at 0.91.\n",
      "\n",
      "Enjoy the party vibes! If you have any other requests or adjustments, feel free to let me know!\n"
     ]
    }
   ],
   "source": [
    "print(response.contents[0].text)"
   ]
  },
  {
   "cell_type": "markdown",
   "metadata": {},
   "source": [
    "Usage is collected all over the agent including subagents."
   ]
  },
  {
   "cell_type": "code",
   "execution_count": 10,
   "metadata": {},
   "outputs": [
    {
     "data": {
      "text/plain": [
       "[('disco_ball_agent',\n",
       "  Usage(model_name='claude-3-5-sonnet-20240620', prompt_tokens=990, output_tokens=149)),\n",
       " ('lights_agent',\n",
       "  Usage(model_name='gemini-2.0-flash-exp', prompt_tokens=211, output_tokens=22)),\n",
       " ('root',\n",
       "  Usage(model_name='gpt-4o-mini-2024-07-18', prompt_tokens=1954, output_tokens=420)),\n",
       " ('music_agent',\n",
       "  Usage(model_name='gpt-4o-mini-2024-07-18', prompt_tokens=442, output_tokens=41))]"
      ]
     },
     "execution_count": 10,
     "metadata": {},
     "output_type": "execute_result"
    }
   ],
   "source": [
    "list(response.usage.items())"
   ]
  },
  {
   "cell_type": "markdown",
   "metadata": {},
   "source": [
    "Top-level orchestrator name is `root`."
   ]
  },
  {
   "cell_type": "markdown",
   "metadata": {},
   "source": [
    "Individual subagents store their own inputs and outputs. You can access those conversation histories by calling `load_history()` of focused agent. Here is an example to access to the history of music_agent."
   ]
  },
  {
   "cell_type": "code",
   "execution_count": 11,
   "metadata": {},
   "outputs": [
    {
     "data": {
      "text/plain": [
       "Agent(name=music_agent)"
      ]
     },
     "execution_count": 11,
     "metadata": {},
     "output_type": "execute_result"
    }
   ],
   "source": [
    "orchestrator.subagents[2]"
   ]
  },
  {
   "cell_type": "code",
   "execution_count": 12,
   "metadata": {},
   "outputs": [
    {
     "data": {
      "text/plain": [
       "[Prompt(type='Prompt', role='user', contents=[TextPrompt(text='Turn on the music with an upbeat genre, BPM, and volume.')], name=None),\n",
       " Response(type='Response', role='assistant', contents=[ToolCallResponse(name='start_music', args='{}', call_id='call_S0CJOkr6WxFcyhT595nIlGWb')], usage=Usage(model_name=None, prompt_tokens=0, output_tokens=0), raw=None, name='music_agent', is_last_chunk=None, prompt=None),\n",
       " Prompt(type='Prompt', role='user', contents=[ToolUsePrompt(output='Starting music! Genre: hip-hop, BPM: 120, Volume: 0.9105972755969132', error=None, call_id='call_S0CJOkr6WxFcyhT595nIlGWb', args='{}', name='start_music')], name=None),\n",
       " Response(type='Response', role='assistant', contents=[TextResponse(text='The music is now playing! Genre: Hip-hop, BPM: 120, Volume: 0.91. Enjoy the upbeat vibes!')], usage=Usage(model_name=None, prompt_tokens=0, output_tokens=0), raw=None, name='music_agent', is_last_chunk=None, prompt=None)]"
      ]
     },
     "execution_count": 12,
     "metadata": {},
     "output_type": "execute_result"
    }
   ],
   "source": [
    "orchestrator.subagents[2].load_history()"
   ]
  },
  {
   "cell_type": "markdown",
   "metadata": {},
   "source": [
    "# State in the agent"
   ]
  },
  {
   "cell_type": "markdown",
   "metadata": {},
   "source": [
    "Agent state in existing agent frameworks has some issues on readability, special argument, and traceability. Ideally, state should be expressed by both the dependencies between agents and response schema, no special manner should be taken. It means the state is updated by llm based on the conversation history and response schema while its scope is limited by the agent's dependencies.\n",
    "\n",
    "In langrila, the combination of the dependencies between the agents and structured output can take the place of the state in agent. Note that planning mode is supported even if multi agent case."
   ]
  },
  {
   "cell_type": "markdown",
   "metadata": {},
   "source": [
    "## Response schema"
   ]
  },
  {
   "cell_type": "code",
   "execution_count": 13,
   "metadata": {},
   "outputs": [],
   "source": [
    "from enum import Enum\n",
    "\n",
    "from pydantic import BaseModel, Field\n",
    "\n",
    "\n",
    "class DiscoBallSchema(BaseModel):\n",
    "    power: bool = Field(..., description=\"Whether to power the disco ball.\")\n",
    "    spinning: bool = Field(..., description=\"Whether the disco ball is spinning.\")\n",
    "\n",
    "\n",
    "class MusicGenre(str, Enum):\n",
    "    rock = \"rock\"\n",
    "    pop = \"pop\"\n",
    "    jazz = \"jazz\"\n",
    "    classical = \"classical\"\n",
    "    hip_hop = \"hip-hop\"\n",
    "\n",
    "\n",
    "class MusicSchema(BaseModel):\n",
    "    genre: MusicGenre = Field(\n",
    "        ...,\n",
    "        description=\"The genre of music to play.\",\n",
    "    )\n",
    "    bpm: int = Field(\n",
    "        ...,\n",
    "        description=\"The BPM of the music.\",\n",
    "        ge=60,\n",
    "        le=180,\n",
    "    )\n",
    "    volume: float = Field(\n",
    "        ...,\n",
    "        description=\"The volume level to set the music to.\",\n",
    "        ge=0,\n",
    "        le=1,\n",
    "    )\n",
    "\n",
    "\n",
    "class LightsSchema(BaseModel):\n",
    "    brightness: float = Field(\n",
    "        ...,\n",
    "        description=\"The brightness level to set the lights to.\",\n",
    "        ge=0,\n",
    "        le=1,\n",
    "    )\n",
    "\n",
    "\n",
    "class ResponseSchema(BaseModel):\n",
    "    disco_ball: DiscoBallSchema = Field(..., description=\"The disco ball settings.\")\n",
    "    music: MusicSchema = Field(..., description=\"The music settings.\")\n",
    "    lights: LightsSchema = Field(..., description=\"The lights settings.\")"
   ]
  },
  {
   "cell_type": "markdown",
   "metadata": {},
   "source": [
    "## Task specific agent."
   ]
  },
  {
   "cell_type": "markdown",
   "metadata": {},
   "source": [
    "If you don't specify the conversation memory for subagent, `InMemoryConversationMemory` is internally used in default, which is not persisted automatically. Each subagent always need own conversation memory because the state within the multi-agent is kept or updated based on the conversation history and response schema if specified. Please be aware of using internal memory even if you don't specify the conversation memory for the subagent."
   ]
  },
  {
   "cell_type": "code",
   "execution_count": 14,
   "metadata": {},
   "outputs": [],
   "source": [
    "lights_agent = Agent(\n",
    "    client=google_dev_client,\n",
    "    model=\"gemini-2.0-flash-exp\",\n",
    "    temperature=0.0,\n",
    "    tools=[turn_light_on, adjust_lights],\n",
    "    response_schema_as_tool=LightsSchema,  # The state of the lights.\n",
    ")\n",
    "\n",
    "disco_ball_agent = Agent(\n",
    "    client=openai_client,\n",
    "    model=\"gpt-4o-2024-11-20\",\n",
    "    temperature=0.0,\n",
    "    tools=[power_disco_ball, stop_disco_ball],\n",
    "    max_tokens=500,\n",
    "    response_schema_as_tool=DiscoBallSchema,  # The state of the disco ball.\n",
    ")\n",
    "\n",
    "music_power_agent = Agent(\n",
    "    client=openai_client,\n",
    "    model=\"gpt-4o-mini-2024-07-18\",\n",
    "    temperature=0.0,\n",
    "    tools=[start_music],\n",
    ")\n",
    "\n",
    "music_control_agent = Agent(\n",
    "    client=google_dev_client,\n",
    "    model=\"gemini-2.0-flash-exp\",\n",
    "    temperature=0.0,\n",
    "    tools=[change_music, adjust_volume, change_bpm],\n",
    "    planning=True,  # Planning mode is enable for the subagent.\n",
    ")"
   ]
  },
  {
   "cell_type": "markdown",
   "metadata": {},
   "source": [
    "## Orchestrator agent"
   ]
  },
  {
   "cell_type": "code",
   "execution_count": 15,
   "metadata": {},
   "outputs": [],
   "source": [
    "# Orchestrator agent as a subagent\n",
    "music_agent = Agent(\n",
    "    client=anthropic_client,\n",
    "    model=\"claude-3-5-sonnet-20240620\",\n",
    "    temperature=0.0,\n",
    "    subagents=[music_power_agent, music_control_agent],\n",
    "    max_tokens=500,\n",
    "    response_schema_as_tool=MusicSchema,  # The state of the music.\n",
    ")\n",
    "\n",
    "# Orchestrator agent\n",
    "orchestrator = Agent(\n",
    "    client=openai_client,\n",
    "    model=\"gpt-4o-2024-11-20\",\n",
    "    temperature=0.0,\n",
    "    subagents=[lights_agent, disco_ball_agent, music_agent],\n",
    "    conversation_memory=InMemoryConversationMemory(),\n",
    "    response_schema_as_tool=ResponseSchema,  # The state of the party.\n",
    "    planning=True,\n",
    ")"
   ]
  },
  {
   "cell_type": "code",
   "execution_count": 16,
   "metadata": {},
   "outputs": [
    {
     "name": "stderr",
     "output_type": "stream",
     "text": [
      "\u001b[32m[2025-01-05 21:50:35]\u001b[0m \u001b[34m\u001b[1mDEBUG | Prompt: [TextPrompt(text='Please make a concise plan to answer the following question/requirement, considering the conversation history.\\nYou can invoke the sub-agents or tools to answer the questions/requirements shown in the capabilities section.\\nAgent has no description while the tools have a description.\\n\\nQuestion/Requirement:\\nTurn this place into a party mood.\\n\\nCapabilities:\\n- lights_agent\\n  - turn_light_on: Turn the lights on.\\n  - adjust_lights: Adjust the brightness of the lights.\\n- disco_ball_agent\\n  - power_disco_ball: Powers the spinning dissco ball.\\n  - stop_disco_ball: Stop the disco ball power and spinning.\\n- music_agent\\n  - music_power_agent\\n    - start_music: Turn on the music. The genre, BPM, and volume are randomly selected.\\n  - music_control_agent\\n    - change_music: Change the music genre and BPM.\\n    - adjust_volume: Adjust the volume of the music.\\n    - change_bpm: Change the BPM of the music.\\n')]\u001b[0m\n",
      "\u001b[32m[2025-01-05 21:50:35]\u001b[0m \u001b[1mINFO | root: Generating text\u001b[0m\n",
      "\u001b[32m[2025-01-05 21:50:37]\u001b[0m \u001b[34m\u001b[1mDEBUG | Response: [TextResponse(text='### Plan to Turn the Place into a Party Mood:\\n\\n1. **Lights Setup**:\\n   - Use `lights_agent` to turn the lights on (`turn_light_on`).\\n   - Adjust the brightness of the lights to a party-appropriate level using `adjust_lights`.\\n\\n2. **Disco Ball Activation**:\\n   - Use `disco_ball_agent` to power the spinning disco ball (`power_disco_ball`).\\n\\n3. **Music Setup**:\\n   - Use `music_agent.music_power_agent` to start the music (`start_music`).\\n   - If needed, use `music_agent.music_control_agent` to:\\n     - Change the music genre and BPM to a party-friendly style (`change_music`).\\n     - Adjust the volume to an energetic level (`adjust_volume`).\\n\\n4. **Final Adjustments**:\\n   - Ensure all elements (lights, disco ball, and music) are synchronized for a cohesive party atmosphere.\\n\\nWould you like me to execute this plan?')]\u001b[0m\n",
      "\u001b[32m[2025-01-05 21:50:37]\u001b[0m \u001b[34m\u001b[1mDEBUG | Prompt: [TextPrompt(text='Put the plan into action.')]\u001b[0m\n",
      "\u001b[32m[2025-01-05 21:50:37]\u001b[0m \u001b[1mINFO | root: Generating text\u001b[0m\n",
      "\u001b[32m[2025-01-05 21:50:39]\u001b[0m \u001b[34m\u001b[1mDEBUG | Response: [ToolCallResponse(name='route_lights_agent', args='{\"instruction\": \"Turn on the lights and adjust the brightness to a party-appropriate level (e.g., 0.8).\"}', call_id='call_KKB8c9ih5rZR07oxUxVkg3St'), ToolCallResponse(name='route_disco_ball_agent', args='{\"instruction\": \"Power the disco ball and ensure it is spinning.\"}', call_id='call_4at0Okh6BKsO2q84meYfQo6M'), ToolCallResponse(name='route_music_agent', args='{\"instruction\": \"Start the music and ensure it is set to a party-friendly genre, BPM, and volume.\"}', call_id='call_BZkNx5HTA35RJosmA8pZ5AKl')]\u001b[0m\n",
      "\u001b[32m[2025-01-05 21:50:39]\u001b[0m \u001b[1mINFO | Running tool: route_lights_agent\u001b[0m\n",
      "\u001b[32m[2025-01-05 21:50:39]\u001b[0m \u001b[34m\u001b[1mDEBUG | Prompt: [TextPrompt(text='Turn on the lights and adjust the brightness to a party-appropriate level (e.g., 0.8).')]\u001b[0m\n",
      "\u001b[32m[2025-01-05 21:50:39]\u001b[0m \u001b[1mINFO | lights_agent: Generating text\u001b[0m\n",
      "\u001b[32m[2025-01-05 21:50:40]\u001b[0m \u001b[34m\u001b[1mDEBUG | Response: [ToolCallResponse(name='turn_light_on', args='{}', call_id='QxQOVKGT25THpDCJipkhZWbS'), ToolCallResponse(name='adjust_lights', args='{\"brightness\": 0.8}', call_id='yB1rkphjrm6qtc1dZqy93h1d')]\u001b[0m\n",
      "\u001b[32m[2025-01-05 21:50:40]\u001b[0m \u001b[1mINFO | Running tool: turn_light_on\u001b[0m\n",
      "\u001b[32m[2025-01-05 21:50:40]\u001b[0m \u001b[1mINFO | Tool: turn_light_on successfully ran.\u001b[0m\n",
      "\u001b[32m[2025-01-05 21:50:40]\u001b[0m \u001b[1mINFO | Running tool: adjust_lights\u001b[0m\n",
      "\u001b[32m[2025-01-05 21:50:40]\u001b[0m \u001b[1mINFO | Tool: adjust_lights successfully ran.\u001b[0m\n",
      "\u001b[32m[2025-01-05 21:50:40]\u001b[0m \u001b[34m\u001b[1mDEBUG | Prompt: [ToolUsePrompt(output='Lights are now on! Brightness: 0.80', error=None, call_id='QxQOVKGT25THpDCJipkhZWbS', args='{}', name='turn_light_on'), ToolUsePrompt(output='Lights are now set to 0.8', error=None, call_id='yB1rkphjrm6qtc1dZqy93h1d', args='{\"brightness\": 0.8}', name='adjust_lights')]\u001b[0m\n",
      "\u001b[32m[2025-01-05 21:50:40]\u001b[0m \u001b[1mINFO | lights_agent: Generating text\u001b[0m\n",
      "\u001b[32m[2025-01-05 21:50:41]\u001b[0m \u001b[34m\u001b[1mDEBUG | Response: [ToolCallResponse(name='final_answer', args='{\"brightness\": 0.8}', call_id='49h7PCkdIOBEo4aPW7c4hc1B')]\u001b[0m\n",
      "\u001b[32m[2025-01-05 21:50:41]\u001b[0m \u001b[1mINFO | Running tool: final_answer\u001b[0m\n",
      "\u001b[32m[2025-01-05 21:50:41]\u001b[0m \u001b[1mINFO | Tool: final_answer successfully ran.\u001b[0m\n",
      "\u001b[32m[2025-01-05 21:50:41]\u001b[0m \u001b[34m\u001b[1mDEBUG | Final result: [TextResponse(text='{\"brightness\": 0.8}')]\u001b[0m\n",
      "\u001b[32m[2025-01-05 21:50:41]\u001b[0m \u001b[1mINFO | Tool: route_lights_agent successfully ran.\u001b[0m\n",
      "\u001b[32m[2025-01-05 21:50:41]\u001b[0m \u001b[1mINFO | Running tool: route_disco_ball_agent\u001b[0m\n",
      "\u001b[32m[2025-01-05 21:50:41]\u001b[0m \u001b[34m\u001b[1mDEBUG | Prompt: [TextPrompt(text='Power the disco ball and ensure it is spinning.')]\u001b[0m\n",
      "\u001b[32m[2025-01-05 21:50:41]\u001b[0m \u001b[1mINFO | disco_ball_agent: Generating text\u001b[0m\n",
      "\u001b[32m[2025-01-05 21:50:42]\u001b[0m \u001b[34m\u001b[1mDEBUG | Response: [ToolCallResponse(name='power_disco_ball', args='{\"power\":true}', call_id='call_fl5R1gx93L5UntHrcKE0vn5B')]\u001b[0m\n",
      "\u001b[32m[2025-01-05 21:50:42]\u001b[0m \u001b[1mINFO | Running tool: power_disco_ball\u001b[0m\n",
      "\u001b[32m[2025-01-05 21:50:42]\u001b[0m \u001b[1mINFO | Tool: power_disco_ball successfully ran.\u001b[0m\n",
      "\u001b[32m[2025-01-05 21:50:42]\u001b[0m \u001b[34m\u001b[1mDEBUG | Prompt: [ToolUsePrompt(output='Disco ball is spinning!', error=None, call_id='call_fl5R1gx93L5UntHrcKE0vn5B', args='{\"power\":true}', name='power_disco_ball')]\u001b[0m\n",
      "\u001b[32m[2025-01-05 21:50:42]\u001b[0m \u001b[1mINFO | disco_ball_agent: Generating text\u001b[0m\n",
      "\u001b[32m[2025-01-05 21:50:43]\u001b[0m \u001b[34m\u001b[1mDEBUG | Response: [TextResponse(text='The disco ball is powered and spinning!')]\u001b[0m\n",
      "\u001b[32m[2025-01-05 21:50:43]\u001b[0m \u001b[34m\u001b[1mDEBUG | Prompt: [TextPrompt(text=\"Decide the next action based on the conversation. If you have all information for answering the user, run 'final_result' tool. If you need more information, invoke other tool to get necessary information. \")]\u001b[0m\n",
      "\u001b[32m[2025-01-05 21:50:43]\u001b[0m \u001b[1mINFO | disco_ball_agent: Generating text\u001b[0m\n",
      "\u001b[32m[2025-01-05 21:50:43]\u001b[0m \u001b[34m\u001b[1mDEBUG | Response: [ToolCallResponse(name='final_answer', args='{\"power\":true,\"spinning\":true}', call_id='call_rp0JIpZkHFPbQ39GFv3lkOiI')]\u001b[0m\n",
      "\u001b[32m[2025-01-05 21:50:43]\u001b[0m \u001b[1mINFO | Running tool: final_answer\u001b[0m\n",
      "\u001b[32m[2025-01-05 21:50:43]\u001b[0m \u001b[1mINFO | Tool: final_answer successfully ran.\u001b[0m\n",
      "\u001b[32m[2025-01-05 21:50:43]\u001b[0m \u001b[34m\u001b[1mDEBUG | Final result: [TextResponse(text='{\"power\": true, \"spinning\": true}')]\u001b[0m\n",
      "\u001b[32m[2025-01-05 21:50:43]\u001b[0m \u001b[1mINFO | Tool: route_disco_ball_agent successfully ran.\u001b[0m\n",
      "\u001b[32m[2025-01-05 21:50:43]\u001b[0m \u001b[1mINFO | Running tool: route_music_agent\u001b[0m\n",
      "\u001b[32m[2025-01-05 21:50:43]\u001b[0m \u001b[34m\u001b[1mDEBUG | Prompt: [TextPrompt(text='Start the music and ensure it is set to a party-friendly genre, BPM, and volume.')]\u001b[0m\n",
      "\u001b[32m[2025-01-05 21:50:43]\u001b[0m \u001b[1mINFO | music_agent: Generating text\u001b[0m\n",
      "\u001b[32m[2025-01-05 21:50:47]\u001b[0m \u001b[34m\u001b[1mDEBUG | Response: [TextResponse(text=\"Certainly! I'll start the music for you and make sure it's set to a party-friendly configuration. To do this, I'll use the music power agent to start the music. The agent will randomly select a genre, BPM, and volume, but I'll instruct it to focus on party-friendly settings.\"), ToolCallResponse(name='route_music_power_agent', args='{\"instruction\": \"Start the music with settings suitable for a party. Choose a genre that\\'s typically popular for parties (like pop, hip-hop, or rock), set the BPM to an energetic level (around 120-140 BPM), and set the volume to a moderately high level (around 0.7-0.8) to create a lively atmosphere without being too loud.\"}', call_id='toolu_0197rYxcv6RX9sSpBfA5rC4D')]\u001b[0m\n",
      "\u001b[32m[2025-01-05 21:50:47]\u001b[0m \u001b[1mINFO | Running tool: route_music_power_agent\u001b[0m\n",
      "\u001b[32m[2025-01-05 21:50:47]\u001b[0m \u001b[34m\u001b[1mDEBUG | Prompt: [TextPrompt(text=\"Start the music with settings suitable for a party. Choose a genre that's typically popular for parties (like pop, hip-hop, or rock), set the BPM to an energetic level (around 120-140 BPM), and set the volume to a moderately high level (around 0.7-0.8) to create a lively atmosphere without being too loud.\")]\u001b[0m\n",
      "\u001b[32m[2025-01-05 21:50:47]\u001b[0m \u001b[1mINFO | music_power_agent: Generating text\u001b[0m\n",
      "\u001b[32m[2025-01-05 21:50:48]\u001b[0m \u001b[34m\u001b[1mDEBUG | Response: [ToolCallResponse(name='start_music', args='{}', call_id='call_fbXGUmSJV4F4QWBhtHdAgmcg')]\u001b[0m\n",
      "\u001b[32m[2025-01-05 21:50:48]\u001b[0m \u001b[1mINFO | Running tool: start_music\u001b[0m\n",
      "\u001b[32m[2025-01-05 21:50:48]\u001b[0m \u001b[1mINFO | Tool: start_music successfully ran.\u001b[0m\n",
      "\u001b[32m[2025-01-05 21:50:48]\u001b[0m \u001b[34m\u001b[1mDEBUG | Prompt: [ToolUsePrompt(output='Starting music! Genre: jazz, BPM: 120, Volume: 0.8883200024023981', error=None, call_id='call_fbXGUmSJV4F4QWBhtHdAgmcg', args='{}', name='start_music')]\u001b[0m\n",
      "\u001b[32m[2025-01-05 21:50:48]\u001b[0m \u001b[1mINFO | music_power_agent: Generating text\u001b[0m\n",
      "\u001b[32m[2025-01-05 21:50:50]\u001b[0m \u001b[34m\u001b[1mDEBUG | Response: [TextResponse(text=\"The music has started! It's set to a jazz genre with a BPM of 120 and a volume of approximately 0.89. While jazz isn't the typical party genre, it can still create a lively atmosphere. Enjoy the tunes!\")]\u001b[0m\n",
      "\u001b[32m[2025-01-05 21:50:50]\u001b[0m \u001b[1mINFO | Tool: route_music_power_agent successfully ran.\u001b[0m\n",
      "\u001b[32m[2025-01-05 21:50:50]\u001b[0m \u001b[34m\u001b[1mDEBUG | Prompt: [ToolUsePrompt(output=\"The music has started! It's set to a jazz genre with a BPM of 120 and a volume of approximately 0.89. While jazz isn't the typical party genre, it can still create a lively atmosphere. Enjoy the tunes!\", error=None, call_id='toolu_0197rYxcv6RX9sSpBfA5rC4D', args='{\"instruction\": \"Start the music with settings suitable for a party. Choose a genre that\\'s typically popular for parties (like pop, hip-hop, or rock), set the BPM to an energetic level (around 120-140 BPM), and set the volume to a moderately high level (around 0.7-0.8) to create a lively atmosphere without being too loud.\"}', name='route_music_power_agent')]\u001b[0m\n",
      "\u001b[32m[2025-01-05 21:50:50]\u001b[0m \u001b[1mINFO | music_agent: Generating text\u001b[0m\n",
      "\u001b[32m[2025-01-05 21:50:53]\u001b[0m \u001b[34m\u001b[1mDEBUG | Response: [TextResponse(text='Great! The music has started, but it seems the random selection has given us a slightly unexpected result for a party. Let me adjust it to make it more party-friendly:'), ToolCallResponse(name='route_music_control_agent', args='{\"instruction\": \"Change the music to a more party-friendly genre like pop or hip-hop. Keep the BPM at 120 as it\\'s good for dancing. Slightly lower the volume to 0.8 to ensure comfortable conversation is still possible.\"}', call_id='toolu_01J7GDwReRuV1VCaxpiRr7cz')]\u001b[0m\n",
      "\u001b[32m[2025-01-05 21:50:53]\u001b[0m \u001b[1mINFO | Running tool: route_music_control_agent\u001b[0m\n",
      "\u001b[32m[2025-01-05 21:50:53]\u001b[0m \u001b[34m\u001b[1mDEBUG | Prompt: [TextPrompt(text=\"Please make a concise plan to answer the following question/requirement, considering the conversation history.\\nYou can invoke the sub-agents or tools to answer the questions/requirements shown in the capabilities section.\\nAgent has no description while the tools have a description.\\n\\nQuestion/Requirement:\\nChange the music to a more party-friendly genre like pop or hip-hop. Keep the BPM at 120 as it's good for dancing. Slightly lower the volume to 0.8 to ensure comfortable conversation is still possible.\\n\\nCapabilities:\\n- change_music: Change the music genre and BPM.\\n- adjust_volume: Adjust the volume of the music.\\n- change_bpm: Change the BPM of the music.\\n\")]\u001b[0m\n",
      "\u001b[32m[2025-01-05 21:50:53]\u001b[0m \u001b[1mINFO | music_control_agent: Generating text\u001b[0m\n",
      "\u001b[32m[2025-01-05 21:50:55]\u001b[0m \u001b[34m\u001b[1mDEBUG | Response: [TextResponse(text='Okay, here\\'s the plan:\\n\\n1. **Change Genre:** Use the `change_music` tool to switch the music genre to either \"pop\" or \"hip-hop\". I\\'ll choose \"pop\" for this plan, but either would work. I\\'ll also set the BPM to 120 within this call.\\n2. **Adjust Volume:** Use the `adjust_volume` tool to lower the volume to 0.8.\\n\\nThis plan directly addresses the requirements in a concise manner.')]\u001b[0m\n",
      "\u001b[32m[2025-01-05 21:50:55]\u001b[0m \u001b[34m\u001b[1mDEBUG | Prompt: [TextPrompt(text='Put the plan into action.')]\u001b[0m\n",
      "\u001b[32m[2025-01-05 21:50:55]\u001b[0m \u001b[1mINFO | music_control_agent: Generating text\u001b[0m\n",
      "\u001b[32m[2025-01-05 21:50:56]\u001b[0m \u001b[34m\u001b[1mDEBUG | Response: [ToolCallResponse(name='change_music', args='{\"bpm\": 120, \"genre\": \"pop\"}', call_id='URQdj3CGuFVgvVfvPW3meNCW'), ToolCallResponse(name='adjust_volume', args='{\"volume\": 0.8}', call_id='VCca2YxuMTOC8AKJp6bSzM4u')]\u001b[0m\n",
      "\u001b[32m[2025-01-05 21:50:56]\u001b[0m \u001b[1mINFO | Running tool: change_music\u001b[0m\n",
      "\u001b[32m[2025-01-05 21:50:56]\u001b[0m \u001b[1mINFO | Tool: change_music successfully ran.\u001b[0m\n",
      "\u001b[32m[2025-01-05 21:50:56]\u001b[0m \u001b[1mINFO | Running tool: adjust_volume\u001b[0m\n",
      "\u001b[32m[2025-01-05 21:50:56]\u001b[0m \u001b[1mINFO | Tool: adjust_volume successfully ran.\u001b[0m\n",
      "\u001b[32m[2025-01-05 21:50:56]\u001b[0m \u001b[34m\u001b[1mDEBUG | Prompt: [ToolUsePrompt(output='Changing music to pop with BPM 120', error=None, call_id='URQdj3CGuFVgvVfvPW3meNCW', args='{\"bpm\": 120, \"genre\": \"pop\"}', name='change_music'), ToolUsePrompt(output='Volume is now set to 0.8', error=None, call_id='VCca2YxuMTOC8AKJp6bSzM4u', args='{\"volume\": 0.8}', name='adjust_volume')]\u001b[0m\n",
      "\u001b[32m[2025-01-05 21:50:56]\u001b[0m \u001b[1mINFO | music_control_agent: Generating text\u001b[0m\n",
      "\u001b[32m[2025-01-05 21:50:57]\u001b[0m \u001b[34m\u001b[1mDEBUG | Response: [TextResponse(text=\"OK, I've changed the music to pop with a BPM of 120 and adjusted the volume to 0.8.\")]\u001b[0m\n",
      "\u001b[32m[2025-01-05 21:50:57]\u001b[0m \u001b[1mINFO | Tool: route_music_control_agent successfully ran.\u001b[0m\n",
      "\u001b[32m[2025-01-05 21:50:57]\u001b[0m \u001b[34m\u001b[1mDEBUG | Prompt: [ToolUsePrompt(output=\"OK, I've changed the music to pop with a BPM of 120 and adjusted the volume to 0.8.\", error=None, call_id='toolu_01J7GDwReRuV1VCaxpiRr7cz', args='{\"instruction\": \"Change the music to a more party-friendly genre like pop or hip-hop. Keep the BPM at 120 as it\\'s good for dancing. Slightly lower the volume to 0.8 to ensure comfortable conversation is still possible.\"}', name='route_music_control_agent')]\u001b[0m\n",
      "\u001b[32m[2025-01-05 21:50:57]\u001b[0m \u001b[1mINFO | music_agent: Generating text\u001b[0m\n",
      "\u001b[32m[2025-01-05 21:50:59]\u001b[0m \u001b[34m\u001b[1mDEBUG | Response: [TextResponse(text=\"Excellent! I've made the adjustments to create a more party-friendly atmosphere. Here's a summary of the current music settings:\"), ToolCallResponse(name='final_answer', args='{\"genre\": \"pop\", \"bpm\": 120, \"volume\": 0.8}', call_id='toolu_01PCG6EtqCBfsQEorDet3CJk')]\u001b[0m\n",
      "\u001b[32m[2025-01-05 21:50:59]\u001b[0m \u001b[1mINFO | Running tool: final_answer\u001b[0m\n",
      "\u001b[32m[2025-01-05 21:50:59]\u001b[0m \u001b[1mINFO | Tool: final_answer successfully ran.\u001b[0m\n",
      "\u001b[32m[2025-01-05 21:50:59]\u001b[0m \u001b[34m\u001b[1mDEBUG | Final result: [TextResponse(text='{\"genre\": \"pop\", \"bpm\": 120, \"volume\": 0.8}')]\u001b[0m\n",
      "\u001b[32m[2025-01-05 21:50:59]\u001b[0m \u001b[1mINFO | Tool: route_music_agent successfully ran.\u001b[0m\n",
      "\u001b[32m[2025-01-05 21:50:59]\u001b[0m \u001b[34m\u001b[1mDEBUG | Prompt: [ToolUsePrompt(output='{\"brightness\": 0.8}', error=None, call_id='call_KKB8c9ih5rZR07oxUxVkg3St', args='{\"instruction\": \"Turn on the lights and adjust the brightness to a party-appropriate level (e.g., 0.8).\"}', name='route_lights_agent'), ToolUsePrompt(output='{\"power\": true, \"spinning\": true}', error=None, call_id='call_4at0Okh6BKsO2q84meYfQo6M', args='{\"instruction\": \"Power the disco ball and ensure it is spinning.\"}', name='route_disco_ball_agent'), ToolUsePrompt(output='{\"genre\": \"pop\", \"bpm\": 120, \"volume\": 0.8}', error=None, call_id='call_BZkNx5HTA35RJosmA8pZ5AKl', args='{\"instruction\": \"Start the music and ensure it is set to a party-friendly genre, BPM, and volume.\"}', name='route_music_agent')]\u001b[0m\n",
      "\u001b[32m[2025-01-05 21:50:59]\u001b[0m \u001b[1mINFO | root: Generating text\u001b[0m\n",
      "\u001b[32m[2025-01-05 21:51:00]\u001b[0m \u001b[34m\u001b[1mDEBUG | Response: [ToolCallResponse(name='final_answer', args='{\"disco_ball\":{\"power\":true,\"spinning\":true},\"music\":{\"genre\":\"pop\",\"bpm\":120,\"volume\":0.8},\"lights\":{\"brightness\":0.8}}', call_id='call_gDjp1862fyoBjhnoUh2Jhj5a')]\u001b[0m\n",
      "\u001b[32m[2025-01-05 21:51:00]\u001b[0m \u001b[1mINFO | Running tool: final_answer\u001b[0m\n",
      "\u001b[32m[2025-01-05 21:51:00]\u001b[0m \u001b[1mINFO | Tool: final_answer successfully ran.\u001b[0m\n",
      "\u001b[32m[2025-01-05 21:51:00]\u001b[0m \u001b[34m\u001b[1mDEBUG | Final result: [TextResponse(text='{\"disco_ball\": {\"power\": true, \"spinning\": true}, \"music\": {\"genre\": \"pop\", \"bpm\": 120, \"volume\": 0.8}, \"lights\": {\"brightness\": 0.8}}')]\u001b[0m\n"
     ]
    }
   ],
   "source": [
    "prompt = \"Turn this place into a party mood.\"\n",
    "\n",
    "response = orchestrator.generate_text(prompt=prompt)"
   ]
  },
  {
   "cell_type": "code",
   "execution_count": 17,
   "metadata": {},
   "outputs": [
    {
     "data": {
      "text/plain": [
       "[('music_agent',\n",
       "  Usage(model_name='claude-3-5-sonnet-20240620', prompt_tokens=3547, output_tokens=472)),\n",
       " ('lights_agent',\n",
       "  Usage(model_name='gemini-2.0-flash-exp', prompt_tokens=470, output_tokens=14)),\n",
       " ('music_power_agent',\n",
       "  Usage(model_name='gpt-4o-mini-2024-07-18', prompt_tokens=283, output_tokens=60)),\n",
       " ('disco_ball_agent',\n",
       "  Usage(model_name='gpt-4o-2024-11-20', prompt_tokens=786, output_tokens=47)),\n",
       " ('music_control_agent',\n",
       "  Usage(model_name='gemini-2.0-flash-exp', prompt_tokens=1184, output_tokens=148)),\n",
       " ('root',\n",
       "  Usage(model_name='gpt-4o-2024-11-20', prompt_tokens=2618, output_tokens=363))]"
      ]
     },
     "execution_count": 17,
     "metadata": {},
     "output_type": "execute_result"
    }
   ],
   "source": [
    "list(response.usage.items())"
   ]
  },
  {
   "cell_type": "code",
   "execution_count": 18,
   "metadata": {},
   "outputs": [
    {
     "name": "stdout",
     "output_type": "stream",
     "text": [
      "{\"disco_ball\": {\"power\": true, \"spinning\": true}, \"music\": {\"genre\": \"pop\", \"bpm\": 120, \"volume\": 0.8}, \"lights\": {\"brightness\": 0.8}}\n"
     ]
    }
   ],
   "source": [
    "print(response.contents[0].text)"
   ]
  },
  {
   "cell_type": "markdown",
   "metadata": {},
   "source": [
    "Validation response schema"
   ]
  },
  {
   "cell_type": "code",
   "execution_count": 19,
   "metadata": {},
   "outputs": [
    {
     "data": {
      "text/plain": [
       "{'disco_ball': {'power': True, 'spinning': True},\n",
       " 'music': {'genre': <MusicGenre.pop: 'pop'>, 'bpm': 120, 'volume': 0.8},\n",
       " 'lights': {'brightness': 0.8}}"
      ]
     },
     "execution_count": 19,
     "metadata": {},
     "output_type": "execute_result"
    }
   ],
   "source": [
    "valid_resposne = ResponseSchema.model_validate_json(response.contents[0].text)\n",
    "valid_resposne.model_dump()"
   ]
  },
  {
   "cell_type": "markdown",
   "metadata": {},
   "source": [
    "Top-level orchestrator and each subagent has own conversation memory."
   ]
  },
  {
   "cell_type": "code",
   "execution_count": 20,
   "metadata": {},
   "outputs": [
    {
     "data": {
      "text/plain": [
       "[Prompt(type='Prompt', role='user', contents=[TextPrompt(text='Please make a concise plan to answer the following question/requirement, considering the conversation history.\\nYou can invoke the sub-agents or tools to answer the questions/requirements shown in the capabilities section.\\nAgent has no description while the tools have a description.\\n\\nQuestion/Requirement:\\nTurn this place into a party mood.\\n\\nCapabilities:\\n- lights_agent\\n  - turn_light_on: Turn the lights on.\\n  - adjust_lights: Adjust the brightness of the lights.\\n- disco_ball_agent\\n  - power_disco_ball: Powers the spinning dissco ball.\\n  - stop_disco_ball: Stop the disco ball power and spinning.\\n- music_agent\\n  - music_power_agent\\n    - start_music: Turn on the music. The genre, BPM, and volume are randomly selected.\\n  - music_control_agent\\n    - change_music: Change the music genre and BPM.\\n    - adjust_volume: Adjust the volume of the music.\\n    - change_bpm: Change the BPM of the music.\\n')], name=None),\n",
       " Response(type='Response', role='assistant', contents=[TextResponse(text='### Plan to Turn the Place into a Party Mood:\\n\\n1. **Lights Setup**:\\n   - Use `lights_agent` to turn the lights on (`turn_light_on`).\\n   - Adjust the brightness of the lights to a party-appropriate level using `adjust_lights`.\\n\\n2. **Disco Ball Activation**:\\n   - Use `disco_ball_agent` to power the spinning disco ball (`power_disco_ball`).\\n\\n3. **Music Setup**:\\n   - Use `music_agent.music_power_agent` to start the music (`start_music`).\\n   - If needed, use `music_agent.music_control_agent` to:\\n     - Change the music genre and BPM to a party-friendly style (`change_music`).\\n     - Adjust the volume to an energetic level (`adjust_volume`).\\n\\n4. **Final Adjustments**:\\n   - Ensure all elements (lights, disco ball, and music) are synchronized for a cohesive party atmosphere.\\n\\nWould you like me to execute this plan?')], usage=Usage(model_name=None, prompt_tokens=0, output_tokens=0), raw=None, name=None, is_last_chunk=None, prompt=None),\n",
       " Prompt(type='Prompt', role='user', contents=[TextPrompt(text='Put the plan into action.')], name=None),\n",
       " Response(type='Response', role='assistant', contents=[ToolCallResponse(name='route_lights_agent', args='{\"instruction\": \"Turn on the lights and adjust the brightness to a party-appropriate level (e.g., 0.8).\"}', call_id='call_KKB8c9ih5rZR07oxUxVkg3St'), ToolCallResponse(name='route_disco_ball_agent', args='{\"instruction\": \"Power the disco ball and ensure it is spinning.\"}', call_id='call_4at0Okh6BKsO2q84meYfQo6M'), ToolCallResponse(name='route_music_agent', args='{\"instruction\": \"Start the music and ensure it is set to a party-friendly genre, BPM, and volume.\"}', call_id='call_BZkNx5HTA35RJosmA8pZ5AKl')], usage=Usage(model_name=None, prompt_tokens=0, output_tokens=0), raw=None, name=None, is_last_chunk=None, prompt=None),\n",
       " Prompt(type='Prompt', role='user', contents=[ToolUsePrompt(output='{\"brightness\": 0.8}', error=None, call_id='call_KKB8c9ih5rZR07oxUxVkg3St', args='{\"instruction\": \"Turn on the lights and adjust the brightness to a party-appropriate level (e.g., 0.8).\"}', name='route_lights_agent'), ToolUsePrompt(output='{\"power\": true, \"spinning\": true}', error=None, call_id='call_4at0Okh6BKsO2q84meYfQo6M', args='{\"instruction\": \"Power the disco ball and ensure it is spinning.\"}', name='route_disco_ball_agent'), ToolUsePrompt(output='{\"genre\": \"pop\", \"bpm\": 120, \"volume\": 0.8}', error=None, call_id='call_BZkNx5HTA35RJosmA8pZ5AKl', args='{\"instruction\": \"Start the music and ensure it is set to a party-friendly genre, BPM, and volume.\"}', name='route_music_agent')], name=None),\n",
       " Response(type='Response', role='assistant', contents=[ToolCallResponse(name='final_answer', args='{\"disco_ball\":{\"power\":true,\"spinning\":true},\"music\":{\"genre\":\"pop\",\"bpm\":120,\"volume\":0.8},\"lights\":{\"brightness\":0.8}}', call_id='call_gDjp1862fyoBjhnoUh2Jhj5a')], usage=Usage(model_name=None, prompt_tokens=0, output_tokens=0), raw=None, name=None, is_last_chunk=None, prompt=None),\n",
       " Prompt(type='Prompt', role='user', contents=[ToolUsePrompt(output='{\"disco_ball\": {\"power\": true, \"spinning\": true}, \"music\": {\"genre\": \"pop\", \"bpm\": 120, \"volume\": 0.8}, \"lights\": {\"brightness\": 0.8}}', error=None, call_id='call_gDjp1862fyoBjhnoUh2Jhj5a', args='{\"disco_ball\":{\"power\":true,\"spinning\":true},\"music\":{\"genre\":\"pop\",\"bpm\":120,\"volume\":0.8},\"lights\":{\"brightness\":0.8}}', name='final_answer')], name=None),\n",
       " Response(type='Response', role='assistant', contents=[TextResponse(text='{\"disco_ball\": {\"power\": true, \"spinning\": true}, \"music\": {\"genre\": \"pop\", \"bpm\": 120, \"volume\": 0.8}, \"lights\": {\"brightness\": 0.8}}')], usage=Usage(model_name=None, prompt_tokens=0, output_tokens=0), raw=None, name=None, is_last_chunk=None, prompt=None)]"
      ]
     },
     "execution_count": 20,
     "metadata": {},
     "output_type": "execute_result"
    }
   ],
   "source": [
    "orchestrator.load_history()"
   ]
  },
  {
   "cell_type": "markdown",
   "metadata": {},
   "source": [
    "Conversation memory of subagent"
   ]
  },
  {
   "cell_type": "code",
   "execution_count": 21,
   "metadata": {},
   "outputs": [
    {
     "data": {
      "text/plain": [
       "Agent(name=music_agent)"
      ]
     },
     "execution_count": 21,
     "metadata": {},
     "output_type": "execute_result"
    }
   ],
   "source": [
    "orchestrator.subagents[2]"
   ]
  },
  {
   "cell_type": "code",
   "execution_count": 22,
   "metadata": {},
   "outputs": [
    {
     "data": {
      "text/plain": [
       "[Prompt(type='Prompt', role='user', contents=[TextPrompt(text='Start the music and ensure it is set to a party-friendly genre, BPM, and volume.')], name=None),\n",
       " Response(type='Response', role='assistant', contents=[TextResponse(text=\"Certainly! I'll start the music for you and make sure it's set to a party-friendly configuration. To do this, I'll use the music power agent to start the music. The agent will randomly select a genre, BPM, and volume, but I'll instruct it to focus on party-friendly settings.\"), ToolCallResponse(name='route_music_power_agent', args='{\"instruction\": \"Start the music with settings suitable for a party. Choose a genre that\\'s typically popular for parties (like pop, hip-hop, or rock), set the BPM to an energetic level (around 120-140 BPM), and set the volume to a moderately high level (around 0.7-0.8) to create a lively atmosphere without being too loud.\"}', call_id='toolu_0197rYxcv6RX9sSpBfA5rC4D')], usage=Usage(model_name=None, prompt_tokens=0, output_tokens=0), raw=None, name='music_agent', is_last_chunk=None, prompt=None),\n",
       " Prompt(type='Prompt', role='user', contents=[ToolUsePrompt(output=\"The music has started! It's set to a jazz genre with a BPM of 120 and a volume of approximately 0.89. While jazz isn't the typical party genre, it can still create a lively atmosphere. Enjoy the tunes!\", error=None, call_id='toolu_0197rYxcv6RX9sSpBfA5rC4D', args='{\"instruction\": \"Start the music with settings suitable for a party. Choose a genre that\\'s typically popular for parties (like pop, hip-hop, or rock), set the BPM to an energetic level (around 120-140 BPM), and set the volume to a moderately high level (around 0.7-0.8) to create a lively atmosphere without being too loud.\"}', name='route_music_power_agent')], name=None),\n",
       " Response(type='Response', role='assistant', contents=[TextResponse(text='Great! The music has started, but it seems the random selection has given us a slightly unexpected result for a party. Let me adjust it to make it more party-friendly:'), ToolCallResponse(name='route_music_control_agent', args='{\"instruction\": \"Change the music to a more party-friendly genre like pop or hip-hop. Keep the BPM at 120 as it\\'s good for dancing. Slightly lower the volume to 0.8 to ensure comfortable conversation is still possible.\"}', call_id='toolu_01J7GDwReRuV1VCaxpiRr7cz')], usage=Usage(model_name=None, prompt_tokens=0, output_tokens=0), raw=None, name='music_agent', is_last_chunk=None, prompt=None),\n",
       " Prompt(type='Prompt', role='user', contents=[ToolUsePrompt(output=\"OK, I've changed the music to pop with a BPM of 120 and adjusted the volume to 0.8.\", error=None, call_id='toolu_01J7GDwReRuV1VCaxpiRr7cz', args='{\"instruction\": \"Change the music to a more party-friendly genre like pop or hip-hop. Keep the BPM at 120 as it\\'s good for dancing. Slightly lower the volume to 0.8 to ensure comfortable conversation is still possible.\"}', name='route_music_control_agent')], name=None),\n",
       " Response(type='Response', role='assistant', contents=[TextResponse(text=\"Excellent! I've made the adjustments to create a more party-friendly atmosphere. Here's a summary of the current music settings:\"), ToolCallResponse(name='final_answer', args='{\"genre\": \"pop\", \"bpm\": 120, \"volume\": 0.8}', call_id='toolu_01PCG6EtqCBfsQEorDet3CJk')], usage=Usage(model_name=None, prompt_tokens=0, output_tokens=0), raw=None, name='music_agent', is_last_chunk=None, prompt=None),\n",
       " Prompt(type='Prompt', role='user', contents=[ToolUsePrompt(output='{\"genre\": \"pop\", \"bpm\": 120, \"volume\": 0.8}', error=None, call_id='toolu_01PCG6EtqCBfsQEorDet3CJk', args='{\"genre\": \"pop\", \"bpm\": 120, \"volume\": 0.8}', name='final_answer')], name=None),\n",
       " Response(type='Response', role='assistant', contents=[TextResponse(text='{\"genre\": \"pop\", \"bpm\": 120, \"volume\": 0.8}')], usage=Usage(model_name=None, prompt_tokens=0, output_tokens=0), raw=None, name='music_agent', is_last_chunk=None, prompt=None)]"
      ]
     },
     "execution_count": 22,
     "metadata": {},
     "output_type": "execute_result"
    }
   ],
   "source": [
    "orchestrator.subagents[2].load_history()"
   ]
  },
  {
   "cell_type": "code",
   "execution_count": 23,
   "metadata": {},
   "outputs": [
    {
     "data": {
      "text/plain": [
       "Agent(name=music_power_agent)"
      ]
     },
     "execution_count": 23,
     "metadata": {},
     "output_type": "execute_result"
    }
   ],
   "source": [
    "orchestrator.subagents[2].subagents[0]"
   ]
  },
  {
   "cell_type": "code",
   "execution_count": 24,
   "metadata": {},
   "outputs": [
    {
     "data": {
      "text/plain": [
       "[Prompt(type='Prompt', role='user', contents=[TextPrompt(text=\"Start the music with settings suitable for a party. Choose a genre that's typically popular for parties (like pop, hip-hop, or rock), set the BPM to an energetic level (around 120-140 BPM), and set the volume to a moderately high level (around 0.7-0.8) to create a lively atmosphere without being too loud.\")], name=None),\n",
       " Response(type='Response', role='assistant', contents=[ToolCallResponse(name='start_music', args='{}', call_id='call_fbXGUmSJV4F4QWBhtHdAgmcg')], usage=Usage(model_name=None, prompt_tokens=0, output_tokens=0), raw=None, name='music_power_agent', is_last_chunk=None, prompt=None),\n",
       " Prompt(type='Prompt', role='user', contents=[ToolUsePrompt(output='Starting music! Genre: jazz, BPM: 120, Volume: 0.8883200024023981', error=None, call_id='call_fbXGUmSJV4F4QWBhtHdAgmcg', args='{}', name='start_music')], name=None),\n",
       " Response(type='Response', role='assistant', contents=[TextResponse(text=\"The music has started! It's set to a jazz genre with a BPM of 120 and a volume of approximately 0.89. While jazz isn't the typical party genre, it can still create a lively atmosphere. Enjoy the tunes!\")], usage=Usage(model_name=None, prompt_tokens=0, output_tokens=0), raw=None, name='music_power_agent', is_last_chunk=None, prompt=None)]"
      ]
     },
     "execution_count": 24,
     "metadata": {},
     "output_type": "execute_result"
    }
   ],
   "source": [
    "orchestrator.subagents[2].subagents[0].load_history()"
   ]
  },
  {
   "cell_type": "markdown",
   "metadata": {},
   "source": [
    "Next turn prompt"
   ]
  },
  {
   "cell_type": "code",
   "execution_count": 25,
   "metadata": {},
   "outputs": [
    {
     "name": "stderr",
     "output_type": "stream",
     "text": [
      "\u001b[32m[2025-01-05 21:51:00]\u001b[0m \u001b[34m\u001b[1mDEBUG | Prompt: [TextPrompt(text='Please make a concise plan to answer the following question/requirement, considering the conversation history.\\nYou can invoke the sub-agents or tools to answer the questions/requirements shown in the capabilities section.\\nAgent has no description while the tools have a description.\\n\\nQuestion/Requirement:\\nPrefer to a jazz music with a calm tempo. Please change the music to jazz and stop the disco ball.\\n\\nCapabilities:\\n- lights_agent\\n  - turn_light_on: Turn the lights on.\\n  - adjust_lights: Adjust the brightness of the lights.\\n- disco_ball_agent\\n  - power_disco_ball: Powers the spinning dissco ball.\\n  - stop_disco_ball: Stop the disco ball power and spinning.\\n- music_agent\\n  - music_power_agent\\n    - start_music: Turn on the music. The genre, BPM, and volume are randomly selected.\\n  - music_control_agent\\n    - change_music: Change the music genre and BPM.\\n    - adjust_volume: Adjust the volume of the music.\\n    - change_bpm: Change the BPM of the music.\\n')]\u001b[0m\n",
      "\u001b[32m[2025-01-05 21:51:00]\u001b[0m \u001b[1mINFO | root: Generating text\u001b[0m\n",
      "\u001b[32m[2025-01-05 21:51:02]\u001b[0m \u001b[34m\u001b[1mDEBUG | Response: [TextResponse(text='### Plan to Adjust the Atmosphere:\\n\\n1. **Music Adjustment**:\\n   - Use `music_agent.music_control_agent` to change the music genre to jazz and set a calm tempo (low BPM).\\n\\n2. **Disco Ball Deactivation**:\\n   - Use `disco_ball_agent` to stop the disco ball power and spinning (`stop_disco_ball`).\\n\\nWould you like me to execute this plan?')]\u001b[0m\n",
      "\u001b[32m[2025-01-05 21:51:02]\u001b[0m \u001b[34m\u001b[1mDEBUG | Prompt: [TextPrompt(text='Put the plan into action.')]\u001b[0m\n",
      "\u001b[32m[2025-01-05 21:51:02]\u001b[0m \u001b[1mINFO | root: Generating text\u001b[0m\n",
      "\u001b[32m[2025-01-05 21:51:03]\u001b[0m \u001b[34m\u001b[1mDEBUG | Response: [ToolCallResponse(name='route_music_agent', args='{\"instruction\": \"Change the music to jazz with a calm tempo (e.g., BPM around 70).\"}', call_id='call_3PLBAr3MX5L3F6vbtbcrTH4f'), ToolCallResponse(name='route_disco_ball_agent', args='{\"instruction\": \"Stop the disco ball power and spinning.\"}', call_id='call_A3Np0l62nuV9d14B9lHPVF8T')]\u001b[0m\n",
      "\u001b[32m[2025-01-05 21:51:03]\u001b[0m \u001b[1mINFO | Running tool: route_music_agent\u001b[0m\n",
      "\u001b[32m[2025-01-05 21:51:03]\u001b[0m \u001b[34m\u001b[1mDEBUG | Prompt: [TextPrompt(text='Change the music to jazz with a calm tempo (e.g., BPM around 70).')]\u001b[0m\n",
      "\u001b[32m[2025-01-05 21:51:03]\u001b[0m \u001b[1mINFO | music_agent: Generating text\u001b[0m\n",
      "\u001b[32m[2025-01-05 21:51:06]\u001b[0m \u001b[34m\u001b[1mDEBUG | Response: [TextResponse(text=\"Certainly! I'll change the music to jazz with a calmer tempo as you requested. I'll use the music control agent to make these adjustments.\"), ToolCallResponse(name='route_music_control_agent', args='{\"instruction\": \"Change the music genre to jazz and set the BPM to around 70 for a calm tempo. Keep the current volume setting.\"}', call_id='toolu_01Uaeg3JaWY1zSA37Bw2NRRZ')]\u001b[0m\n",
      "\u001b[32m[2025-01-05 21:51:06]\u001b[0m \u001b[1mINFO | Running tool: route_music_control_agent\u001b[0m\n",
      "\u001b[32m[2025-01-05 21:51:06]\u001b[0m \u001b[34m\u001b[1mDEBUG | Prompt: [TextPrompt(text='Please make a concise plan to answer the following question/requirement, considering the conversation history.\\nYou can invoke the sub-agents or tools to answer the questions/requirements shown in the capabilities section.\\nAgent has no description while the tools have a description.\\n\\nQuestion/Requirement:\\nChange the music genre to jazz and set the BPM to around 70 for a calm tempo. Keep the current volume setting.\\n\\nCapabilities:\\n- change_music: Change the music genre and BPM.\\n- adjust_volume: Adjust the volume of the music.\\n- change_bpm: Change the BPM of the music.\\n')]\u001b[0m\n",
      "\u001b[32m[2025-01-05 21:51:06]\u001b[0m \u001b[1mINFO | music_control_agent: Generating text\u001b[0m\n",
      "\u001b[32m[2025-01-05 21:51:07]\u001b[0m \u001b[34m\u001b[1mDEBUG | Response: [TextResponse(text='Okay, here\\'s the plan:\\n\\n1. **Change Genre and BPM:** Use the `change_music` tool to switch the music genre to \"jazz\" and set the BPM to 70. Since the requirement is \"around 70\", I\\'ll use exactly 70.\\n2. **No Volume Adjustment:** The requirement specifies to keep the current volume, so I will not use the `adjust_volume` tool.\\n\\nThis plan directly addresses the requirements efficiently.')]\u001b[0m\n",
      "\u001b[32m[2025-01-05 21:51:07]\u001b[0m \u001b[34m\u001b[1mDEBUG | Prompt: [TextPrompt(text='Put the plan into action.')]\u001b[0m\n",
      "\u001b[32m[2025-01-05 21:51:07]\u001b[0m \u001b[1mINFO | music_control_agent: Generating text\u001b[0m\n",
      "\u001b[32m[2025-01-05 21:51:08]\u001b[0m \u001b[34m\u001b[1mDEBUG | Response: [ToolCallResponse(name='change_music', args='{\"bpm\": 70, \"genre\": \"jazz\"}', call_id='1YoHEHhdcwukc6DVE2OFhdsj')]\u001b[0m\n",
      "\u001b[32m[2025-01-05 21:51:08]\u001b[0m \u001b[1mINFO | Running tool: change_music\u001b[0m\n",
      "\u001b[32m[2025-01-05 21:51:08]\u001b[0m \u001b[1mINFO | Tool: change_music successfully ran.\u001b[0m\n",
      "\u001b[32m[2025-01-05 21:51:08]\u001b[0m \u001b[34m\u001b[1mDEBUG | Prompt: [ToolUsePrompt(output='Changing music to jazz with BPM 70', error=None, call_id='1YoHEHhdcwukc6DVE2OFhdsj', args='{\"bpm\": 70, \"genre\": \"jazz\"}', name='change_music')]\u001b[0m\n",
      "\u001b[32m[2025-01-05 21:51:08]\u001b[0m \u001b[1mINFO | music_control_agent: Generating text\u001b[0m\n",
      "\u001b[32m[2025-01-05 21:51:09]\u001b[0m \u001b[34m\u001b[1mDEBUG | Response: [TextResponse(text=\"OK, I've changed the music to jazz with a BPM of 70, keeping the current volume.\")]\u001b[0m\n",
      "\u001b[32m[2025-01-05 21:51:09]\u001b[0m \u001b[1mINFO | Tool: route_music_control_agent successfully ran.\u001b[0m\n",
      "\u001b[32m[2025-01-05 21:51:09]\u001b[0m \u001b[34m\u001b[1mDEBUG | Prompt: [ToolUsePrompt(output=\"OK, I've changed the music to jazz with a BPM of 70, keeping the current volume.\", error=None, call_id='toolu_01Uaeg3JaWY1zSA37Bw2NRRZ', args='{\"instruction\": \"Change the music genre to jazz and set the BPM to around 70 for a calm tempo. Keep the current volume setting.\"}', name='route_music_control_agent')]\u001b[0m\n",
      "\u001b[32m[2025-01-05 21:51:09]\u001b[0m \u001b[1mINFO | music_agent: Generating text\u001b[0m\n",
      "\u001b[32m[2025-01-05 21:51:11]\u001b[0m \u001b[34m\u001b[1mDEBUG | Response: [TextResponse(text='Great! The music has been changed according to your request. Let me summarize the new settings for you:'), ToolCallResponse(name='final_answer', args='{\"genre\": \"jazz\", \"bpm\": 70, \"volume\": 0.8}', call_id='toolu_015yp6DAuvhpTxy6QiHXK4nb')]\u001b[0m\n",
      "\u001b[32m[2025-01-05 21:51:11]\u001b[0m \u001b[1mINFO | Running tool: final_answer\u001b[0m\n",
      "\u001b[32m[2025-01-05 21:51:11]\u001b[0m \u001b[1mINFO | Tool: final_answer successfully ran.\u001b[0m\n",
      "\u001b[32m[2025-01-05 21:51:11]\u001b[0m \u001b[34m\u001b[1mDEBUG | Final result: [TextResponse(text='{\"genre\": \"jazz\", \"bpm\": 70, \"volume\": 0.8}')]\u001b[0m\n",
      "\u001b[32m[2025-01-05 21:51:11]\u001b[0m \u001b[1mINFO | Tool: route_music_agent successfully ran.\u001b[0m\n",
      "\u001b[32m[2025-01-05 21:51:11]\u001b[0m \u001b[1mINFO | Running tool: route_disco_ball_agent\u001b[0m\n",
      "\u001b[32m[2025-01-05 21:51:11]\u001b[0m \u001b[34m\u001b[1mDEBUG | Prompt: [TextPrompt(text='Stop the disco ball power and spinning.')]\u001b[0m\n",
      "\u001b[32m[2025-01-05 21:51:11]\u001b[0m \u001b[1mINFO | disco_ball_agent: Generating text\u001b[0m\n",
      "\u001b[32m[2025-01-05 21:51:11]\u001b[0m \u001b[34m\u001b[1mDEBUG | Response: [ToolCallResponse(name='stop_disco_ball', args='{}', call_id='call_WnSoau8lKK5gY8QZiLK22gnp')]\u001b[0m\n",
      "\u001b[32m[2025-01-05 21:51:11]\u001b[0m \u001b[1mINFO | Running tool: stop_disco_ball\u001b[0m\n",
      "\u001b[32m[2025-01-05 21:51:11]\u001b[0m \u001b[1mINFO | Tool: stop_disco_ball successfully ran.\u001b[0m\n",
      "\u001b[32m[2025-01-05 21:51:11]\u001b[0m \u001b[34m\u001b[1mDEBUG | Prompt: [ToolUsePrompt(output='Stopping disco ball! Powered off and stopped spinning.', error=None, call_id='call_WnSoau8lKK5gY8QZiLK22gnp', args='{}', name='stop_disco_ball')]\u001b[0m\n",
      "\u001b[32m[2025-01-05 21:51:11]\u001b[0m \u001b[1mINFO | disco_ball_agent: Generating text\u001b[0m\n",
      "\u001b[32m[2025-01-05 21:51:12]\u001b[0m \u001b[34m\u001b[1mDEBUG | Response: [TextResponse(text='The disco ball has been powered off and stopped spinning.')]\u001b[0m\n",
      "\u001b[32m[2025-01-05 21:51:12]\u001b[0m \u001b[34m\u001b[1mDEBUG | Prompt: [TextPrompt(text=\"Decide the next action based on the conversation. If you have all information for answering the user, run 'final_result' tool. If you need more information, invoke other tool to get necessary information. \")]\u001b[0m\n",
      "\u001b[32m[2025-01-05 21:51:12]\u001b[0m \u001b[1mINFO | disco_ball_agent: Generating text\u001b[0m\n",
      "\u001b[32m[2025-01-05 21:51:13]\u001b[0m \u001b[34m\u001b[1mDEBUG | Response: [ToolCallResponse(name='final_answer', args='{\"power\":false,\"spinning\":false}', call_id='call_CREsThE21r7OPWbMsS2MNYUi')]\u001b[0m\n",
      "\u001b[32m[2025-01-05 21:51:13]\u001b[0m \u001b[1mINFO | Running tool: final_answer\u001b[0m\n",
      "\u001b[32m[2025-01-05 21:51:13]\u001b[0m \u001b[1mINFO | Tool: final_answer successfully ran.\u001b[0m\n",
      "\u001b[32m[2025-01-05 21:51:13]\u001b[0m \u001b[34m\u001b[1mDEBUG | Final result: [TextResponse(text='{\"power\": false, \"spinning\": false}')]\u001b[0m\n",
      "\u001b[32m[2025-01-05 21:51:13]\u001b[0m \u001b[1mINFO | Tool: route_disco_ball_agent successfully ran.\u001b[0m\n",
      "\u001b[32m[2025-01-05 21:51:13]\u001b[0m \u001b[34m\u001b[1mDEBUG | Prompt: [ToolUsePrompt(output='{\"genre\": \"jazz\", \"bpm\": 70, \"volume\": 0.8}', error=None, call_id='call_3PLBAr3MX5L3F6vbtbcrTH4f', args='{\"instruction\": \"Change the music to jazz with a calm tempo (e.g., BPM around 70).\"}', name='route_music_agent'), ToolUsePrompt(output='{\"power\": false, \"spinning\": false}', error=None, call_id='call_A3Np0l62nuV9d14B9lHPVF8T', args='{\"instruction\": \"Stop the disco ball power and spinning.\"}', name='route_disco_ball_agent')]\u001b[0m\n",
      "\u001b[32m[2025-01-05 21:51:13]\u001b[0m \u001b[1mINFO | root: Generating text\u001b[0m\n",
      "\u001b[32m[2025-01-05 21:51:14]\u001b[0m \u001b[34m\u001b[1mDEBUG | Response: [ToolCallResponse(name='final_answer', args='{\"disco_ball\":{\"power\":false,\"spinning\":false},\"music\":{\"genre\":\"jazz\",\"bpm\":70,\"volume\":0.8},\"lights\":{\"brightness\":0.8}}', call_id='call_Czh92tHp896ub6AH0RSfAcaR')]\u001b[0m\n",
      "\u001b[32m[2025-01-05 21:51:14]\u001b[0m \u001b[1mINFO | Running tool: final_answer\u001b[0m\n",
      "\u001b[32m[2025-01-05 21:51:14]\u001b[0m \u001b[1mINFO | Tool: final_answer successfully ran.\u001b[0m\n",
      "\u001b[32m[2025-01-05 21:51:14]\u001b[0m \u001b[34m\u001b[1mDEBUG | Final result: [TextResponse(text='{\"disco_ball\": {\"power\": false, \"spinning\": false}, \"music\": {\"genre\": \"jazz\", \"bpm\": 70, \"volume\": 0.8}, \"lights\": {\"brightness\": 0.8}}')]\u001b[0m\n"
     ]
    }
   ],
   "source": [
    "prompt = \"Prefer to a jazz music with a calm tempo. Please change the music to jazz and stop the disco ball.\"\n",
    "\n",
    "response = orchestrator.generate_text(prompt=prompt)"
   ]
  },
  {
   "cell_type": "code",
   "execution_count": 26,
   "metadata": {},
   "outputs": [
    {
     "data": {
      "text/plain": [
       "[('disco_ball_agent',\n",
       "  Usage(model_name='gpt-4o-2024-11-20', prompt_tokens=1292, output_tokens=46)),\n",
       " ('music_control_agent',\n",
       "  Usage(model_name='gemini-2.0-flash-exp', prompt_tokens=2211, output_tokens=133)),\n",
       " ('root',\n",
       "  Usage(model_name='gpt-4o-2024-11-20', prompt_tokens=4645, output_tokens=208)),\n",
       " ('music_agent',\n",
       "  Usage(model_name='claude-3-5-sonnet-20240620', prompt_tokens=3339, output_tokens=230))]"
      ]
     },
     "execution_count": 26,
     "metadata": {},
     "output_type": "execute_result"
    }
   ],
   "source": [
    "list(response.usage.items())"
   ]
  },
  {
   "cell_type": "markdown",
   "metadata": {},
   "source": [
    "Validation response schema"
   ]
  },
  {
   "cell_type": "code",
   "execution_count": 27,
   "metadata": {},
   "outputs": [
    {
     "data": {
      "text/plain": [
       "{'disco_ball': {'power': False, 'spinning': False},\n",
       " 'music': {'genre': <MusicGenre.jazz: 'jazz'>, 'bpm': 70, 'volume': 0.8},\n",
       " 'lights': {'brightness': 0.8}}"
      ]
     },
     "execution_count": 27,
     "metadata": {},
     "output_type": "execute_result"
    }
   ],
   "source": [
    "valid_resposne = ResponseSchema.model_validate_json(response.contents[0].text)\n",
    "valid_resposne.model_dump()"
   ]
  },
  {
   "cell_type": "markdown",
   "metadata": {},
   "source": [
    "Conversation memory in top-level orchestrator."
   ]
  },
  {
   "cell_type": "code",
   "execution_count": 28,
   "metadata": {},
   "outputs": [
    {
     "data": {
      "text/plain": [
       "[Prompt(type='Prompt', role='user', contents=[TextPrompt(text='Please make a concise plan to answer the following question/requirement, considering the conversation history.\\nYou can invoke the sub-agents or tools to answer the questions/requirements shown in the capabilities section.\\nAgent has no description while the tools have a description.\\n\\nQuestion/Requirement:\\nTurn this place into a party mood.\\n\\nCapabilities:\\n- lights_agent\\n  - turn_light_on: Turn the lights on.\\n  - adjust_lights: Adjust the brightness of the lights.\\n- disco_ball_agent\\n  - power_disco_ball: Powers the spinning dissco ball.\\n  - stop_disco_ball: Stop the disco ball power and spinning.\\n- music_agent\\n  - music_power_agent\\n    - start_music: Turn on the music. The genre, BPM, and volume are randomly selected.\\n  - music_control_agent\\n    - change_music: Change the music genre and BPM.\\n    - adjust_volume: Adjust the volume of the music.\\n    - change_bpm: Change the BPM of the music.\\n')], name=None),\n",
       " Response(type='Response', role='assistant', contents=[TextResponse(text='### Plan to Turn the Place into a Party Mood:\\n\\n1. **Lights Setup**:\\n   - Use `lights_agent` to turn the lights on (`turn_light_on`).\\n   - Adjust the brightness of the lights to a party-appropriate level using `adjust_lights`.\\n\\n2. **Disco Ball Activation**:\\n   - Use `disco_ball_agent` to power the spinning disco ball (`power_disco_ball`).\\n\\n3. **Music Setup**:\\n   - Use `music_agent.music_power_agent` to start the music (`start_music`).\\n   - If needed, use `music_agent.music_control_agent` to:\\n     - Change the music genre and BPM to a party-friendly style (`change_music`).\\n     - Adjust the volume to an energetic level (`adjust_volume`).\\n\\n4. **Final Adjustments**:\\n   - Ensure all elements (lights, disco ball, and music) are synchronized for a cohesive party atmosphere.\\n\\nWould you like me to execute this plan?')], usage=Usage(model_name=None, prompt_tokens=0, output_tokens=0), raw=None, name=None, is_last_chunk=None, prompt=None),\n",
       " Prompt(type='Prompt', role='user', contents=[TextPrompt(text='Put the plan into action.')], name=None),\n",
       " Response(type='Response', role='assistant', contents=[ToolCallResponse(name='route_lights_agent', args='{\"instruction\": \"Turn on the lights and adjust the brightness to a party-appropriate level (e.g., 0.8).\"}', call_id='call_KKB8c9ih5rZR07oxUxVkg3St'), ToolCallResponse(name='route_disco_ball_agent', args='{\"instruction\": \"Power the disco ball and ensure it is spinning.\"}', call_id='call_4at0Okh6BKsO2q84meYfQo6M'), ToolCallResponse(name='route_music_agent', args='{\"instruction\": \"Start the music and ensure it is set to a party-friendly genre, BPM, and volume.\"}', call_id='call_BZkNx5HTA35RJosmA8pZ5AKl')], usage=Usage(model_name=None, prompt_tokens=0, output_tokens=0), raw=None, name=None, is_last_chunk=None, prompt=None),\n",
       " Prompt(type='Prompt', role='user', contents=[ToolUsePrompt(output='{\"brightness\": 0.8}', error=None, call_id='call_KKB8c9ih5rZR07oxUxVkg3St', args='{\"instruction\": \"Turn on the lights and adjust the brightness to a party-appropriate level (e.g., 0.8).\"}', name='route_lights_agent'), ToolUsePrompt(output='{\"power\": true, \"spinning\": true}', error=None, call_id='call_4at0Okh6BKsO2q84meYfQo6M', args='{\"instruction\": \"Power the disco ball and ensure it is spinning.\"}', name='route_disco_ball_agent'), ToolUsePrompt(output='{\"genre\": \"pop\", \"bpm\": 120, \"volume\": 0.8}', error=None, call_id='call_BZkNx5HTA35RJosmA8pZ5AKl', args='{\"instruction\": \"Start the music and ensure it is set to a party-friendly genre, BPM, and volume.\"}', name='route_music_agent')], name=None),\n",
       " Response(type='Response', role='assistant', contents=[ToolCallResponse(name='final_answer', args='{\"disco_ball\":{\"power\":true,\"spinning\":true},\"music\":{\"genre\":\"pop\",\"bpm\":120,\"volume\":0.8},\"lights\":{\"brightness\":0.8}}', call_id='call_gDjp1862fyoBjhnoUh2Jhj5a')], usage=Usage(model_name=None, prompt_tokens=0, output_tokens=0), raw=None, name=None, is_last_chunk=None, prompt=None),\n",
       " Prompt(type='Prompt', role='user', contents=[ToolUsePrompt(output='{\"disco_ball\": {\"power\": true, \"spinning\": true}, \"music\": {\"genre\": \"pop\", \"bpm\": 120, \"volume\": 0.8}, \"lights\": {\"brightness\": 0.8}}', error=None, call_id='call_gDjp1862fyoBjhnoUh2Jhj5a', args='{\"disco_ball\":{\"power\":true,\"spinning\":true},\"music\":{\"genre\":\"pop\",\"bpm\":120,\"volume\":0.8},\"lights\":{\"brightness\":0.8}}', name='final_answer')], name=None),\n",
       " Response(type='Response', role='assistant', contents=[TextResponse(text='{\"disco_ball\": {\"power\": true, \"spinning\": true}, \"music\": {\"genre\": \"pop\", \"bpm\": 120, \"volume\": 0.8}, \"lights\": {\"brightness\": 0.8}}')], usage=Usage(model_name=None, prompt_tokens=0, output_tokens=0), raw=None, name=None, is_last_chunk=None, prompt=None),\n",
       " Prompt(type='Prompt', role='user', contents=[TextPrompt(text='Please make a concise plan to answer the following question/requirement, considering the conversation history.\\nYou can invoke the sub-agents or tools to answer the questions/requirements shown in the capabilities section.\\nAgent has no description while the tools have a description.\\n\\nQuestion/Requirement:\\nPrefer to a jazz music with a calm tempo. Please change the music to jazz and stop the disco ball.\\n\\nCapabilities:\\n- lights_agent\\n  - turn_light_on: Turn the lights on.\\n  - adjust_lights: Adjust the brightness of the lights.\\n- disco_ball_agent\\n  - power_disco_ball: Powers the spinning dissco ball.\\n  - stop_disco_ball: Stop the disco ball power and spinning.\\n- music_agent\\n  - music_power_agent\\n    - start_music: Turn on the music. The genre, BPM, and volume are randomly selected.\\n  - music_control_agent\\n    - change_music: Change the music genre and BPM.\\n    - adjust_volume: Adjust the volume of the music.\\n    - change_bpm: Change the BPM of the music.\\n')], name=None),\n",
       " Response(type='Response', role='assistant', contents=[TextResponse(text='### Plan to Adjust the Atmosphere:\\n\\n1. **Music Adjustment**:\\n   - Use `music_agent.music_control_agent` to change the music genre to jazz and set a calm tempo (low BPM).\\n\\n2. **Disco Ball Deactivation**:\\n   - Use `disco_ball_agent` to stop the disco ball power and spinning (`stop_disco_ball`).\\n\\nWould you like me to execute this plan?')], usage=Usage(model_name=None, prompt_tokens=0, output_tokens=0), raw=None, name=None, is_last_chunk=None, prompt=None),\n",
       " Prompt(type='Prompt', role='user', contents=[TextPrompt(text='Put the plan into action.')], name=None),\n",
       " Response(type='Response', role='assistant', contents=[ToolCallResponse(name='route_music_agent', args='{\"instruction\": \"Change the music to jazz with a calm tempo (e.g., BPM around 70).\"}', call_id='call_3PLBAr3MX5L3F6vbtbcrTH4f'), ToolCallResponse(name='route_disco_ball_agent', args='{\"instruction\": \"Stop the disco ball power and spinning.\"}', call_id='call_A3Np0l62nuV9d14B9lHPVF8T')], usage=Usage(model_name=None, prompt_tokens=0, output_tokens=0), raw=None, name=None, is_last_chunk=None, prompt=None),\n",
       " Prompt(type='Prompt', role='user', contents=[ToolUsePrompt(output='{\"genre\": \"jazz\", \"bpm\": 70, \"volume\": 0.8}', error=None, call_id='call_3PLBAr3MX5L3F6vbtbcrTH4f', args='{\"instruction\": \"Change the music to jazz with a calm tempo (e.g., BPM around 70).\"}', name='route_music_agent'), ToolUsePrompt(output='{\"power\": false, \"spinning\": false}', error=None, call_id='call_A3Np0l62nuV9d14B9lHPVF8T', args='{\"instruction\": \"Stop the disco ball power and spinning.\"}', name='route_disco_ball_agent')], name=None),\n",
       " Response(type='Response', role='assistant', contents=[ToolCallResponse(name='final_answer', args='{\"disco_ball\":{\"power\":false,\"spinning\":false},\"music\":{\"genre\":\"jazz\",\"bpm\":70,\"volume\":0.8},\"lights\":{\"brightness\":0.8}}', call_id='call_Czh92tHp896ub6AH0RSfAcaR')], usage=Usage(model_name=None, prompt_tokens=0, output_tokens=0), raw=None, name=None, is_last_chunk=None, prompt=None),\n",
       " Prompt(type='Prompt', role='user', contents=[ToolUsePrompt(output='{\"disco_ball\": {\"power\": false, \"spinning\": false}, \"music\": {\"genre\": \"jazz\", \"bpm\": 70, \"volume\": 0.8}, \"lights\": {\"brightness\": 0.8}}', error=None, call_id='call_Czh92tHp896ub6AH0RSfAcaR', args='{\"disco_ball\":{\"power\":false,\"spinning\":false},\"music\":{\"genre\":\"jazz\",\"bpm\":70,\"volume\":0.8},\"lights\":{\"brightness\":0.8}}', name='final_answer')], name=None),\n",
       " Response(type='Response', role='assistant', contents=[TextResponse(text='{\"disco_ball\": {\"power\": false, \"spinning\": false}, \"music\": {\"genre\": \"jazz\", \"bpm\": 70, \"volume\": 0.8}, \"lights\": {\"brightness\": 0.8}}')], usage=Usage(model_name=None, prompt_tokens=0, output_tokens=0), raw=None, name=None, is_last_chunk=None, prompt=None)]"
      ]
     },
     "execution_count": 28,
     "metadata": {},
     "output_type": "execute_result"
    }
   ],
   "source": [
    "orchestrator.load_history()"
   ]
  },
  {
   "cell_type": "markdown",
   "metadata": {},
   "source": [
    "Conversation memory of subagent."
   ]
  },
  {
   "cell_type": "code",
   "execution_count": 29,
   "metadata": {},
   "outputs": [
    {
     "data": {
      "text/plain": [
       "Agent(name=music_agent)"
      ]
     },
     "execution_count": 29,
     "metadata": {},
     "output_type": "execute_result"
    }
   ],
   "source": [
    "orchestrator.subagents[2]"
   ]
  },
  {
   "cell_type": "code",
   "execution_count": 30,
   "metadata": {},
   "outputs": [
    {
     "data": {
      "text/plain": [
       "[Prompt(type='Prompt', role='user', contents=[TextPrompt(text='Start the music and ensure it is set to a party-friendly genre, BPM, and volume.')], name=None),\n",
       " Response(type='Response', role='assistant', contents=[TextResponse(text=\"Certainly! I'll start the music for you and make sure it's set to a party-friendly configuration. To do this, I'll use the music power agent to start the music. The agent will randomly select a genre, BPM, and volume, but I'll instruct it to focus on party-friendly settings.\"), ToolCallResponse(name='route_music_power_agent', args='{\"instruction\": \"Start the music with settings suitable for a party. Choose a genre that\\'s typically popular for parties (like pop, hip-hop, or rock), set the BPM to an energetic level (around 120-140 BPM), and set the volume to a moderately high level (around 0.7-0.8) to create a lively atmosphere without being too loud.\"}', call_id='toolu_0197rYxcv6RX9sSpBfA5rC4D')], usage=Usage(model_name=None, prompt_tokens=0, output_tokens=0), raw=None, name='music_agent', is_last_chunk=None, prompt=None),\n",
       " Prompt(type='Prompt', role='user', contents=[ToolUsePrompt(output=\"The music has started! It's set to a jazz genre with a BPM of 120 and a volume of approximately 0.89. While jazz isn't the typical party genre, it can still create a lively atmosphere. Enjoy the tunes!\", error=None, call_id='toolu_0197rYxcv6RX9sSpBfA5rC4D', args='{\"instruction\": \"Start the music with settings suitable for a party. Choose a genre that\\'s typically popular for parties (like pop, hip-hop, or rock), set the BPM to an energetic level (around 120-140 BPM), and set the volume to a moderately high level (around 0.7-0.8) to create a lively atmosphere without being too loud.\"}', name='route_music_power_agent')], name=None),\n",
       " Response(type='Response', role='assistant', contents=[TextResponse(text='Great! The music has started, but it seems the random selection has given us a slightly unexpected result for a party. Let me adjust it to make it more party-friendly:'), ToolCallResponse(name='route_music_control_agent', args='{\"instruction\": \"Change the music to a more party-friendly genre like pop or hip-hop. Keep the BPM at 120 as it\\'s good for dancing. Slightly lower the volume to 0.8 to ensure comfortable conversation is still possible.\"}', call_id='toolu_01J7GDwReRuV1VCaxpiRr7cz')], usage=Usage(model_name=None, prompt_tokens=0, output_tokens=0), raw=None, name='music_agent', is_last_chunk=None, prompt=None),\n",
       " Prompt(type='Prompt', role='user', contents=[ToolUsePrompt(output=\"OK, I've changed the music to pop with a BPM of 120 and adjusted the volume to 0.8.\", error=None, call_id='toolu_01J7GDwReRuV1VCaxpiRr7cz', args='{\"instruction\": \"Change the music to a more party-friendly genre like pop or hip-hop. Keep the BPM at 120 as it\\'s good for dancing. Slightly lower the volume to 0.8 to ensure comfortable conversation is still possible.\"}', name='route_music_control_agent')], name=None),\n",
       " Response(type='Response', role='assistant', contents=[TextResponse(text=\"Excellent! I've made the adjustments to create a more party-friendly atmosphere. Here's a summary of the current music settings:\"), ToolCallResponse(name='final_answer', args='{\"genre\": \"pop\", \"bpm\": 120, \"volume\": 0.8}', call_id='toolu_01PCG6EtqCBfsQEorDet3CJk')], usage=Usage(model_name=None, prompt_tokens=0, output_tokens=0), raw=None, name='music_agent', is_last_chunk=None, prompt=None),\n",
       " Prompt(type='Prompt', role='user', contents=[ToolUsePrompt(output='{\"genre\": \"pop\", \"bpm\": 120, \"volume\": 0.8}', error=None, call_id='toolu_01PCG6EtqCBfsQEorDet3CJk', args='{\"genre\": \"pop\", \"bpm\": 120, \"volume\": 0.8}', name='final_answer')], name=None),\n",
       " Response(type='Response', role='assistant', contents=[TextResponse(text='{\"genre\": \"pop\", \"bpm\": 120, \"volume\": 0.8}')], usage=Usage(model_name=None, prompt_tokens=0, output_tokens=0), raw=None, name='music_agent', is_last_chunk=None, prompt=None),\n",
       " Prompt(type='Prompt', role='user', contents=[TextPrompt(text='Change the music to jazz with a calm tempo (e.g., BPM around 70).')], name=None),\n",
       " Response(type='Response', role='assistant', contents=[TextResponse(text=\"Certainly! I'll change the music to jazz with a calmer tempo as you requested. I'll use the music control agent to make these adjustments.\"), ToolCallResponse(name='route_music_control_agent', args='{\"instruction\": \"Change the music genre to jazz and set the BPM to around 70 for a calm tempo. Keep the current volume setting.\"}', call_id='toolu_01Uaeg3JaWY1zSA37Bw2NRRZ')], usage=Usage(model_name=None, prompt_tokens=0, output_tokens=0), raw=None, name='music_agent', is_last_chunk=None, prompt=None),\n",
       " Prompt(type='Prompt', role='user', contents=[ToolUsePrompt(output=\"OK, I've changed the music to jazz with a BPM of 70, keeping the current volume.\", error=None, call_id='toolu_01Uaeg3JaWY1zSA37Bw2NRRZ', args='{\"instruction\": \"Change the music genre to jazz and set the BPM to around 70 for a calm tempo. Keep the current volume setting.\"}', name='route_music_control_agent')], name=None),\n",
       " Response(type='Response', role='assistant', contents=[TextResponse(text='Great! The music has been changed according to your request. Let me summarize the new settings for you:'), ToolCallResponse(name='final_answer', args='{\"genre\": \"jazz\", \"bpm\": 70, \"volume\": 0.8}', call_id='toolu_015yp6DAuvhpTxy6QiHXK4nb')], usage=Usage(model_name=None, prompt_tokens=0, output_tokens=0), raw=None, name='music_agent', is_last_chunk=None, prompt=None),\n",
       " Prompt(type='Prompt', role='user', contents=[ToolUsePrompt(output='{\"genre\": \"jazz\", \"bpm\": 70, \"volume\": 0.8}', error=None, call_id='toolu_015yp6DAuvhpTxy6QiHXK4nb', args='{\"genre\": \"jazz\", \"bpm\": 70, \"volume\": 0.8}', name='final_answer')], name=None),\n",
       " Response(type='Response', role='assistant', contents=[TextResponse(text='{\"genre\": \"jazz\", \"bpm\": 70, \"volume\": 0.8}')], usage=Usage(model_name=None, prompt_tokens=0, output_tokens=0), raw=None, name='music_agent', is_last_chunk=None, prompt=None)]"
      ]
     },
     "execution_count": 30,
     "metadata": {},
     "output_type": "execute_result"
    }
   ],
   "source": [
    "orchestrator.subagents[2].load_history()"
   ]
  },
  {
   "cell_type": "code",
   "execution_count": null,
   "metadata": {},
   "outputs": [],
   "source": []
  }
 ],
 "metadata": {
  "kernelspec": {
   "display_name": ".venv",
   "language": "python",
   "name": "python3"
  },
  "language_info": {
   "codemirror_mode": {
    "name": "ipython",
    "version": 3
   },
   "file_extension": ".py",
   "mimetype": "text/x-python",
   "name": "python",
   "nbconvert_exporter": "python",
   "pygments_lexer": "ipython3",
   "version": "3.10.12"
  }
 },
 "nbformat": 4,
 "nbformat_minor": 4
}
