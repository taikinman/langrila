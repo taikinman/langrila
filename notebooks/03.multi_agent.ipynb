{
 "cells": [
  {
   "cell_type": "code",
   "execution_count": 1,
   "metadata": {},
   "outputs": [],
   "source": [
    "import os\n",
    "import warnings\n",
    "\n",
    "warnings.simplefilter(action=\"ignore\")\n",
    "os.environ[\"GRPC_VERBOSITY\"] = \"NONE\""
   ]
  },
  {
   "cell_type": "markdown",
   "metadata": {},
   "source": [
    "# Multi Agent Building"
   ]
  },
  {
   "cell_type": "markdown",
   "metadata": {},
   "source": [
    "Dependency injection shown in [02.tool_calling_and_dependency_injection.ipynb](./02.tool_calling_and_dependency_injection.ipynb) allow us to build multi agent with intuitive coding. `Agent` class has the argument `subagents` that accepts `list[Agent]` typed variable, and sub-agents are dynamically converted to tools which invokes agent using dependency injection feature. This notebook shows examples of multi-agent building. "
   ]
  },
  {
   "cell_type": "markdown",
   "metadata": {},
   "source": [
    "# Prerequisites"
   ]
  },
  {
   "cell_type": "markdown",
   "metadata": {},
   "source": [
    "Please make sure your environmental variables and dependencies are ready to use LLM services. Name of the environmental variables is arbitraray because langrila modules accepts that name as an argument."
   ]
  },
  {
   "cell_type": "code",
   "execution_count": 2,
   "metadata": {},
   "outputs": [
    {
     "data": {
      "text/plain": [
       "True"
      ]
     },
     "execution_count": 2,
     "metadata": {},
     "output_type": "execute_result"
    }
   ],
   "source": [
    "from dotenv import load_dotenv\n",
    "\n",
    "load_dotenv(\"../../.env_api\")"
   ]
  },
  {
   "cell_type": "markdown",
   "metadata": {},
   "source": [
    "# Import modules"
   ]
  },
  {
   "cell_type": "code",
   "execution_count": 3,
   "metadata": {},
   "outputs": [],
   "source": [
    "from langrila import Agent, InMemoryConversationMemory\n",
    "from langrila.anthropic import AnthropicClient\n",
    "from langrila.aws import BedrockClient\n",
    "from langrila.google import GoogleClient\n",
    "from langrila.openai import OpenAIClient"
   ]
  },
  {
   "cell_type": "markdown",
   "metadata": {},
   "source": [
    "# Instantiate client"
   ]
  },
  {
   "cell_type": "code",
   "execution_count": 4,
   "metadata": {},
   "outputs": [],
   "source": [
    "# For OpenAI\n",
    "openai_client = OpenAIClient(api_key_env_name=\"OPENAI_API_KEY\")\n",
    "\n",
    "# For Azure OpenAI\n",
    "azure_openai_client = OpenAIClient(\n",
    "    api_key_env_name=\"AZURE_API_KEY\",\n",
    "    api_type=\"azure\",\n",
    "    azure_api_version=\"2024-11-01-preview\",\n",
    "    azure_endpoint_env_name=\"AZURE_ENDPOINT\",\n",
    "    azure_deployment_env_name=\"AZURE_DEPLOYMENT_ID\",\n",
    ")\n",
    "\n",
    "# For Gemini on Google AI Studio\n",
    "google_dev_client = GoogleClient(api_key_env_name=\"GEMINI_API_KEY\")\n",
    "\n",
    "# For Gemini on Google Cloud VertexAI\n",
    "vertexai_client = GoogleClient(\n",
    "    api_type=\"vertexai\",\n",
    "    project_id_env_name=\"GOOGLE_CLOUD_PROJECT\",\n",
    "    location=\"us-central1\",\n",
    ")\n",
    "\n",
    "# For Claude of Anthropic\n",
    "anthropic_client = AnthropicClient(api_key_env_name=\"ANTHROPIC_API_KEY\")\n",
    "\n",
    "# For Claude of Amazon Bedrock\n",
    "claude_bedrock_client = AnthropicClient(\n",
    "    api_type=\"bedrock\",\n",
    "    aws_access_key_env_name=\"AWS_ACCESS_KEY\",\n",
    "    aws_secret_key_env_name=\"AWS_SECRET_KEY\",\n",
    "    aws_region=\"us-east-1\",\n",
    ")\n",
    "\n",
    "bedrock_client = BedrockClient(\n",
    "    region_name=\"us-east-1\",\n",
    "    aws_access_key_env_name=\"AWS_ACCESS_KEY\",\n",
    "    aws_secret_key_env_name=\"AWS_SECRET_KEY\",\n",
    ")"
   ]
  },
  {
   "cell_type": "markdown",
   "metadata": {},
   "source": [
    "# Define tools"
   ]
  },
  {
   "cell_type": "markdown",
   "metadata": {},
   "source": [
    "Using dummy tools. As mentioned in [02.tool_calling_and_dependency_injection.ipynb](./02.tool_calling_and_dependency_injection.ipynb), tool can have the pydantic model argument."
   ]
  },
  {
   "cell_type": "code",
   "execution_count": 5,
   "metadata": {},
   "outputs": [],
   "source": [
    "import random\n",
    "from enum import Enum\n",
    "\n",
    "from pydantic import BaseModel, Field\n",
    "\n",
    "\n",
    "class MusicGenre(str, Enum):\n",
    "    rock = \"rock\"\n",
    "    pop = \"pop\"\n",
    "    jazz = \"jazz\"\n",
    "    classical = \"classical\"\n",
    "    hip_hop = \"hip-hop\"\n",
    "\n",
    "\n",
    "class EqualizerSettings(BaseModel):\n",
    "    hz_100: int = Field(0, ge=-12, le=12, description=\"The 100 Hz band in dB.\")\n",
    "    hz_200: int = Field(0, ge=-12, le=12, description=\"The 200 Hz band in dB.\")\n",
    "    hz_400: int = Field(0, ge=-12, le=12, description=\"The 400 Hz band in dB.\")\n",
    "    hz_800: int = Field(0, ge=-12, le=12, description=\"The 800 Hz band in dB.\")\n",
    "    hz_1600: int = Field(0, ge=-12, le=12, description=\"The 1600 Hz band in dB.\")\n",
    "    hz_3200: int = Field(0, ge=-12, le=12, description=\"The 3200 Hz band in dB.\")\n",
    "    hz_6400: int = Field(0, ge=-12, le=12, description=\"The 4000 Hz band in dB.\")\n",
    "\n",
    "\n",
    "def start_music(genre: MusicGenre) -> str:\n",
    "    \"\"\"\n",
    "    Start playing a random music with the given the genre.\n",
    "\n",
    "    Parameters\n",
    "    ----------\n",
    "    genre : MusicGenre\n",
    "        The genre of the music to play.\n",
    "\n",
    "    Returns\n",
    "    ----------\n",
    "    str\n",
    "        A message indicating that the music has started.\n",
    "    \"\"\"\n",
    "\n",
    "    bpms = {\n",
    "        MusicGenre.rock: 150,\n",
    "        MusicGenre.pop: 110,\n",
    "        MusicGenre.jazz: 120,\n",
    "        MusicGenre.classical: 76,\n",
    "        MusicGenre.hip_hop: 100,\n",
    "    }\n",
    "\n",
    "    return (\n",
    "        f\"Starting music! Genre: {genre}, \"\n",
    "        f\"Volume: {random.uniform(0.0, 1.0)}, \"\n",
    "        f\"BPM: {bpms[genre]}\"\n",
    "    )\n",
    "\n",
    "\n",
    "def change_music_volume(volume: float) -> str:\n",
    "    \"\"\"\n",
    "    Change the music volume.\n",
    "\n",
    "    Parameters\n",
    "    ----------\n",
    "    volume : float\n",
    "        The new volume to set. It should be between 0.0 and 1.0.\n",
    "\n",
    "    Returns\n",
    "    ----------\n",
    "    str\n",
    "        A message indicating that the volume has been changed.\n",
    "    \"\"\"\n",
    "    return f\"Changing volume to {volume}\"\n",
    "\n",
    "\n",
    "def change_music(genre: MusicGenre) -> str:\n",
    "    \"\"\"\n",
    "    Change the music.\n",
    "\n",
    "    Parameters\n",
    "    ----------\n",
    "    genre : MusicGenre\n",
    "        The genre of the music to change to.\n",
    "\n",
    "    Returns\n",
    "    ----------\n",
    "    str\n",
    "        A message indicating that the music has been changed.\n",
    "    \"\"\"\n",
    "    bpm_ranges = {\n",
    "        MusicGenre.rock: (120, 180),\n",
    "        MusicGenre.pop: (80, 140),\n",
    "        MusicGenre.jazz: (70, 120),\n",
    "        MusicGenre.classical: (70, 100),\n",
    "        MusicGenre.hip_hop: (80, 120),\n",
    "    }\n",
    "\n",
    "    new_bpm = random.randint(bpm_ranges[genre][0], bpm_ranges[genre][1])\n",
    "\n",
    "    return f\"Turning to another music! Genre: {genre}, BPM: {new_bpm}\"\n",
    "\n",
    "\n",
    "def change_equalizer_settings(settings: EqualizerSettings) -> str:\n",
    "    \"\"\"\n",
    "    Change the equalizer settings of the music.\n",
    "\n",
    "    Parameters\n",
    "    ----------\n",
    "    settings : EqualizerSettings\n",
    "        The new equalizer settings to set.\n",
    "\n",
    "    Returns\n",
    "    ----------\n",
    "    str\n",
    "        A message indicating that the equalizer settings have been changed.\n",
    "    \"\"\"\n",
    "    return f\"Changing equalizer settings to {settings.model_dump(exclude_none=True, exclude_unset=True)}\"\n",
    "\n",
    "\n",
    "def turn_light_on() -> str:\n",
    "    \"\"\"\n",
    "    Turn the lights on.\n",
    "\n",
    "    Returns\n",
    "    ----------\n",
    "    str\n",
    "        A message indicating that the lights are turning on.\n",
    "    \"\"\"\n",
    "    brightness = random.uniform(0.5, 1.0)\n",
    "    return \"Lights are now on! Brightness: {:.2f}\".format(brightness)\n",
    "\n",
    "\n",
    "def dim_lights(brightness: float) -> bool:\n",
    "    \"\"\"\n",
    "    Dim the lights.\n",
    "\n",
    "    Parameters\n",
    "    ----------\n",
    "    brightness : float\n",
    "        The brightness level to set the lights. Should be between 0 and 1.\n",
    "\n",
    "    Returns\n",
    "    ----------\n",
    "    bool\n",
    "        Whether the lights were successfully dimmed.\n",
    "    \"\"\"\n",
    "    return f\"Lights are now set to {brightness}\"\n",
    "\n",
    "\n",
    "def power_disco_ball(power: bool) -> bool:\n",
    "    \"\"\"\n",
    "    Powers the spinning dissco ball on or off.\n",
    "\n",
    "    Parameters\n",
    "    ----------\n",
    "    power : bool\n",
    "        Whether to power the disco ball or not.\n",
    "\n",
    "    Returns\n",
    "    ----------\n",
    "    bool\n",
    "        Whether the disco ball is spinning or not.\n",
    "    \"\"\"\n",
    "    return f\"Disco ball is {'spinning!' if power else 'stopped.'}\"\n",
    "\n",
    "\n",
    "def adjust_lights(brightness: float) -> bool:\n",
    "    \"\"\"\n",
    "    Adjust the brightness of the lights.\n",
    "\n",
    "    Parameters\n",
    "    ----------\n",
    "    brightness : float\n",
    "        The brightness level to set the lights. Should be between 0 and 1.\n",
    "\n",
    "    Returns\n",
    "    ----------\n",
    "    bool\n",
    "        Whether the lights were successfully brightened.\n",
    "    \"\"\"\n",
    "    return f\"Lights are now set to {brightness}\""
   ]
  },
  {
   "cell_type": "markdown",
   "metadata": {},
   "source": [
    "# Multi-Agent"
   ]
  },
  {
   "cell_type": "markdown",
   "metadata": {},
   "source": [
    "`Agent` class accepts `subagents` argument which generates dynamically tools to run agent. Langrila supports multi agent with multi client. In langrila, we can build orchestrator-typed multi-agent, not graph-based multi-agent. The orchestrator routes the execution of tools to task-specific agents, aggregates the results, and outputs the final answer.\n",
    "\n",
    "If you don't specify the conversation memory for sub-agent, `InMemoryConversationMemory` is internally used in default, which is not persisted automatically within a sub-agent. Each sub-agentalways need own conversation memory because the state within the multi-agent is kept or updated based on the conversation history and response schema if specified. Please be aware of using internal memory even if you don't specify the conversation memory for the sub-agent.\n",
    "\n",
    "However, agent has `use_last_n_turns` argument to control how many conversation history we consider, default value is -1 which means all conversation history within the agent is used. The `turn` in this place is the sequence from the user input to the final answer of the agent including internal looped conversation in the agent. If 0, no conversation history is used. Even you specified `use_last_n_turns`, entire conversation memory is stored for debugging, not overwritten. `use_last_n_turns` parameter is used to extract the specified turn history from the entire conversation history."
   ]
  },
  {
   "cell_type": "markdown",
   "metadata": {},
   "source": [
    "## Task specific agent. "
   ]
  },
  {
   "cell_type": "code",
   "execution_count": 6,
   "metadata": {},
   "outputs": [],
   "source": [
    "lights_agent = Agent(\n",
    "    client=bedrock_client,\n",
    "    modelId=\"us.amazon.nova-lite-v1:0\",\n",
    "    inferenceConfig={\n",
    "        \"temperature\": 0.0,\n",
    "    },\n",
    "    tools=[turn_light_on, adjust_lights],\n",
    "    use_last_n_turns=0,\n",
    ")\n",
    "\n",
    "disco_ball_agent = Agent(\n",
    "    client=anthropic_client,\n",
    "    model=\"claude-3-5-sonnet-20240620\",\n",
    "    temperature=0.0,\n",
    "    tools=[power_disco_ball],\n",
    "    max_tokens=500,\n",
    "    use_last_n_turns=0,\n",
    ")\n",
    "\n",
    "music_agent = Agent(\n",
    "    client=google_dev_client,\n",
    "    model=\"gemini-1.5-flash-002\",\n",
    "    temperature=0.0,\n",
    "    tools=[\n",
    "        start_music,\n",
    "        change_equalizer_settings,\n",
    "        change_music,\n",
    "        change_music_volume,\n",
    "    ],\n",
    "    use_last_n_turns=0,\n",
    ")"
   ]
  },
  {
   "cell_type": "markdown",
   "metadata": {},
   "source": [
    "## Orchestrator agent.\n",
    "\n",
    "The thing you have to do for building multi-agent is to pass agents to the orchestrator agent. Planning mode is supported for multi agent."
   ]
  },
  {
   "cell_type": "code",
   "execution_count": 7,
   "metadata": {},
   "outputs": [],
   "source": [
    "orchestrator = Agent(\n",
    "    client=openai_client,\n",
    "    model=\"gpt-4o-mini-2024-07-18\",\n",
    "    temperature=0.0,\n",
    "    subagents=[lights_agent, disco_ball_agent, music_agent],\n",
    "    planning=True,\n",
    ")"
   ]
  },
  {
   "cell_type": "markdown",
   "metadata": {},
   "source": [
    "## Invoke multi-agent"
   ]
  },
  {
   "cell_type": "code",
   "execution_count": 8,
   "metadata": {},
   "outputs": [],
   "source": [
    "prompt = \"Turn this place into a party mood! Then tell me the details of the settings such as equalizer setting\""
   ]
  },
  {
   "cell_type": "code",
   "execution_count": 9,
   "metadata": {},
   "outputs": [
    {
     "name": "stderr",
     "output_type": "stream",
     "text": [
      "\u001b[32m[2025-01-14 10:06:20]\u001b[0m \u001b[34m\u001b[1mDEBUG | Prompt: [TextPrompt(text='Please make a concise plan to answer the following question/requirement, considering the conversation history.\\nYou can invoke the sub-agents or tools to answer the questions/requirements shown in the capabilities section.\\nAgent has no description while the tools have a description.\\n\\nQuestion/Requirement:\\nTurn this place into a party mood! Then tell me the details of the settings such as equalizer setting\\n\\nCapabilities:\\n- lights_agent\\n  - turn_light_on: Turn the lights on.\\n  - adjust_lights: Adjust the brightness of the lights.\\n- disco_ball_agent\\n  - power_disco_ball: Powers the spinning dissco ball on or off.\\n- music_agent\\n  - start_music: Start playing a random music with the given the genre.\\n  - change_equalizer_settings: Change the equalizer settings of the music.\\n  - change_music: Change the music.\\n  - change_music_volume: Change the music volume.\\n')]\u001b[0m\n",
      "\u001b[32m[2025-01-14 10:06:20]\u001b[0m \u001b[1mINFO | root: Generating text\u001b[0m\n",
      "\u001b[32m[2025-01-14 10:06:24]\u001b[0m \u001b[34m\u001b[1mDEBUG | Response: [TextResponse(text='### Plan to Create a Party Mood\\n\\n1. **Lighting Setup:**\\n   - Turn on the lights using `turn_light_on`.\\n   - Adjust the brightness to a vibrant level using `adjust_lights`.\\n\\n2. **Disco Ball Activation:**\\n   - Power on the disco ball using `power_disco_ball`.\\n\\n3. **Music Selection:**\\n   - Start playing a random party music genre using `start_music`.\\n\\n4. **Equalizer Settings:**\\n   - Change the equalizer settings to enhance the party atmosphere using `change_equalizer_settings`.\\n\\n5. **Volume Adjustment:**\\n   - Set the music volume to a suitable level for a party using `change_music_volume`.\\n\\n### Execution\\n- Execute each step in the order listed to ensure a cohesive party environment. \\n- After completing the setup, provide details of the equalizer settings used. \\n\\n### Next Steps\\n- Invoke the necessary agents and tools to implement the plan.')]\u001b[0m\n",
      "\u001b[32m[2025-01-14 10:06:24]\u001b[0m \u001b[34m\u001b[1mDEBUG | Prompt: [TextPrompt(text='Put the plan into action.')]\u001b[0m\n",
      "\u001b[32m[2025-01-14 10:06:24]\u001b[0m \u001b[1mINFO | root: Generating text\u001b[0m\n",
      "\u001b[32m[2025-01-14 10:06:28]\u001b[0m \u001b[34m\u001b[1mDEBUG | Response: [ToolCallResponse(name='route_lights_agent', args='{\"instruction\": \"Turn the lights on and adjust the brightness to a vibrant level.\"}', call_id='call_F8Tz6vXIUJiTDsY1x4V4tcH2'), ToolCallResponse(name='route_disco_ball_agent', args='{\"instruction\": \"Power on the disco ball.\"}', call_id='call_Zxkp6yY8TkemL7CzRo56slSD'), ToolCallResponse(name='route_music_agent', args='{\"instruction\": \"Start playing a random party music genre and change the equalizer settings to enhance the party atmosphere.\"}', call_id='call_KHMGTcOND4UKENYw1kMyGDxa'), ToolCallResponse(name='route_music_agent', args='{\"instruction\": \"Change the music volume to a suitable level for a party.\"}', call_id='call_OlJAHmOFVTKtTQxg30qYz0oE')]\u001b[0m\n",
      "\u001b[32m[2025-01-14 10:06:28]\u001b[0m \u001b[1mINFO | Running tool: route_lights_agent\u001b[0m\n",
      "\u001b[32m[2025-01-14 10:06:28]\u001b[0m \u001b[34m\u001b[1mDEBUG | Prompt: [TextPrompt(text='Turn the lights on and adjust the brightness to a vibrant level.')]\u001b[0m\n",
      "\u001b[32m[2025-01-14 10:06:28]\u001b[0m \u001b[1mINFO | lights_agent: Generating text\u001b[0m\n",
      "\u001b[32m[2025-01-14 10:06:29]\u001b[0m \u001b[34m\u001b[1mDEBUG | Response: [TextResponse(text='<thinking> The User has asked to turn the lights on and adjust the brightness to a vibrant level. I need to turn the lights on first and then adjust the brightness. Since the User has asked for a vibrant level, I will assume a brightness level of 0.8, which is quite bright. </thinking>\\n'), ToolCallResponse(name='turn_light_on', args='{}', call_id='tooluse_2748jGo9R1qkwDFavwal7w'), ToolCallResponse(name='adjust_lights', args='{\"brightness\": 0.8}', call_id='tooluse_L_zOoNYsS2uOfUTlXCpR4w')]\u001b[0m\n",
      "\u001b[32m[2025-01-14 10:06:29]\u001b[0m \u001b[1mINFO | Running tool: turn_light_on\u001b[0m\n",
      "\u001b[32m[2025-01-14 10:06:29]\u001b[0m \u001b[1mINFO | Tool: turn_light_on successfully ran.\u001b[0m\n",
      "\u001b[32m[2025-01-14 10:06:29]\u001b[0m \u001b[1mINFO | Running tool: adjust_lights\u001b[0m\n",
      "\u001b[32m[2025-01-14 10:06:29]\u001b[0m \u001b[1mINFO | Tool: adjust_lights successfully ran.\u001b[0m\n",
      "\u001b[32m[2025-01-14 10:06:29]\u001b[0m \u001b[34m\u001b[1mDEBUG | Prompt: [ToolUsePrompt(output='Lights are now on! Brightness: 0.84', error=None, call_id='tooluse_2748jGo9R1qkwDFavwal7w', args='{}', name='turn_light_on'), ToolUsePrompt(output='Lights are now set to 0.8', error=None, call_id='tooluse_L_zOoNYsS2uOfUTlXCpR4w', args='{\"brightness\": 0.8}', name='adjust_lights')]\u001b[0m\n",
      "\u001b[32m[2025-01-14 10:06:29]\u001b[0m \u001b[1mINFO | lights_agent: Generating text\u001b[0m\n",
      "\u001b[32m[2025-01-14 10:06:30]\u001b[0m \u001b[34m\u001b[1mDEBUG | Response: [TextResponse(text='<thinking> The lights have been successfully turned on and the brightness has been adjusted to a vibrant level of 0.8. I can now inform the User that their request has been fulfilled. </thinking>\\n\\nThe lights have been turned on and the brightness has been adjusted to a vibrant level. You can now enjoy the vibrant lighting in your space.')]\u001b[0m\n",
      "\u001b[32m[2025-01-14 10:06:30]\u001b[0m \u001b[1mINFO | Tool: route_lights_agent successfully ran.\u001b[0m\n",
      "\u001b[32m[2025-01-14 10:06:30]\u001b[0m \u001b[1mINFO | Running tool: route_disco_ball_agent\u001b[0m\n",
      "\u001b[32m[2025-01-14 10:06:30]\u001b[0m \u001b[34m\u001b[1mDEBUG | Prompt: [TextPrompt(text='Power on the disco ball.')]\u001b[0m\n",
      "\u001b[32m[2025-01-14 10:06:30]\u001b[0m \u001b[1mINFO | disco_ball_agent: Generating text\u001b[0m\n",
      "\u001b[32m[2025-01-14 10:06:32]\u001b[0m \u001b[34m\u001b[1mDEBUG | Response: [TextResponse(text='Certainly! I can help you power on the disco ball using the available function. Let\\'s use the \"power_disco_ball\" function to turn it on.'), ToolCallResponse(name='power_disco_ball', args='{\"power\": true}', call_id='toolu_01AC3kcMUhCAhLqj8GpHoM24')]\u001b[0m\n",
      "\u001b[32m[2025-01-14 10:06:32]\u001b[0m \u001b[1mINFO | Running tool: power_disco_ball\u001b[0m\n",
      "\u001b[32m[2025-01-14 10:06:32]\u001b[0m \u001b[1mINFO | Tool: power_disco_ball successfully ran.\u001b[0m\n",
      "\u001b[32m[2025-01-14 10:06:32]\u001b[0m \u001b[34m\u001b[1mDEBUG | Prompt: [ToolUsePrompt(output='Disco ball is spinning!', error=None, call_id='toolu_01AC3kcMUhCAhLqj8GpHoM24', args='{\"power\": true}', name='power_disco_ball')]\u001b[0m\n",
      "\u001b[32m[2025-01-14 10:06:32]\u001b[0m \u001b[1mINFO | disco_ball_agent: Generating text\u001b[0m\n",
      "\u001b[32m[2025-01-14 10:06:34]\u001b[0m \u001b[34m\u001b[1mDEBUG | Response: [TextResponse(text='Great! The disco ball has been powered on and is now spinning. The function returned the message \"Disco ball is spinning!\" which confirms that the action was successful. \\n\\nIs there anything else you\\'d like to do with the disco ball or any other requests you have?')]\u001b[0m\n",
      "\u001b[32m[2025-01-14 10:06:34]\u001b[0m \u001b[1mINFO | Tool: route_disco_ball_agent successfully ran.\u001b[0m\n",
      "\u001b[32m[2025-01-14 10:06:34]\u001b[0m \u001b[1mINFO | Running tool: route_music_agent\u001b[0m\n",
      "\u001b[32m[2025-01-14 10:06:34]\u001b[0m \u001b[34m\u001b[1mDEBUG | Prompt: [TextPrompt(text='Start playing a random party music genre and change the equalizer settings to enhance the party atmosphere.')]\u001b[0m\n",
      "\u001b[32m[2025-01-14 10:06:34]\u001b[0m \u001b[1mINFO | music_agent: Generating text\u001b[0m\n",
      "\u001b[32m[2025-01-14 10:06:35]\u001b[0m \u001b[34m\u001b[1mDEBUG | Response: [ToolCallResponse(name='start_music', args='{\"genre\": \"pop\"}', call_id='SmeHyzAVi2yNGh6Gs7eItWze'), ToolCallResponse(name='change_equalizer_settings', args='{\"settings\": {\"hz_800\": 5, \"hz_1600\": 5, \"hz_200\": 5, \"hz_6400\": 5, \"hz_100\": 5, \"hz_3200\": 5, \"hz_400\": 5}}', call_id='ir4Gu4NgH5sJfwGCuy06K4DT')]\u001b[0m\n",
      "\u001b[32m[2025-01-14 10:06:35]\u001b[0m \u001b[1mINFO | Running tool: start_music\u001b[0m\n",
      "\u001b[32m[2025-01-14 10:06:35]\u001b[0m \u001b[1mINFO | Tool: start_music successfully ran.\u001b[0m\n",
      "\u001b[32m[2025-01-14 10:06:35]\u001b[0m \u001b[1mINFO | Running tool: change_equalizer_settings\u001b[0m\n",
      "\u001b[32m[2025-01-14 10:06:35]\u001b[0m \u001b[1mINFO | Tool: change_equalizer_settings successfully ran.\u001b[0m\n",
      "\u001b[32m[2025-01-14 10:06:35]\u001b[0m \u001b[34m\u001b[1mDEBUG | Prompt: [ToolUsePrompt(output='Starting music! Genre: pop, Volume: 0.7756905677771744, BPM: 110', error=None, call_id='SmeHyzAVi2yNGh6Gs7eItWze', args='{\"genre\": \"pop\"}', name='start_music'), ToolUsePrompt(output=\"Changing equalizer settings to {'hz_100': 5, 'hz_200': 5, 'hz_400': 5, 'hz_800': 5, 'hz_1600': 5, 'hz_3200': 5, 'hz_6400': 5}\", error=None, call_id='ir4Gu4NgH5sJfwGCuy06K4DT', args='{\"settings\": {\"hz_800\": 5, \"hz_1600\": 5, \"hz_200\": 5, \"hz_6400\": 5, \"hz_100\": 5, \"hz_3200\": 5, \"hz_400\": 5}}', name='change_equalizer_settings')]\u001b[0m\n",
      "\u001b[32m[2025-01-14 10:06:35]\u001b[0m \u001b[1mINFO | music_agent: Generating text\u001b[0m\n",
      "\u001b[32m[2025-01-14 10:06:37]\u001b[0m \u001b[34m\u001b[1mDEBUG | Response: [TextResponse(text=\"Playing pop music now. I've also adjusted the equalizer to enhance the party atmosphere.  Let me know if you'd like to change anything!\")]\u001b[0m\n",
      "\u001b[32m[2025-01-14 10:06:37]\u001b[0m \u001b[1mINFO | Tool: route_music_agent successfully ran.\u001b[0m\n",
      "\u001b[32m[2025-01-14 10:06:37]\u001b[0m \u001b[1mINFO | Running tool: route_music_agent\u001b[0m\n",
      "\u001b[32m[2025-01-14 10:06:37]\u001b[0m \u001b[34m\u001b[1mDEBUG | Prompt: [TextPrompt(text='Change the music volume to a suitable level for a party.')]\u001b[0m\n",
      "\u001b[32m[2025-01-14 10:06:37]\u001b[0m \u001b[1mINFO | music_agent: Generating text\u001b[0m\n",
      "\u001b[32m[2025-01-14 10:06:37]\u001b[0m \u001b[34m\u001b[1mDEBUG | Response: [TextResponse(text='How loud would you like the music to be?  I need a value between 0.0 and 1.0.  For example, 0.8 would be quite loud.')]\u001b[0m\n",
      "\u001b[32m[2025-01-14 10:06:37]\u001b[0m \u001b[1mINFO | Tool: route_music_agent successfully ran.\u001b[0m\n",
      "\u001b[32m[2025-01-14 10:06:37]\u001b[0m \u001b[34m\u001b[1mDEBUG | Prompt: [ToolUsePrompt(output='<thinking> The lights have been successfully turned on and the brightness has been adjusted to a vibrant level of 0.8. I can now inform the User that their request has been fulfilled. </thinking>\\n\\nThe lights have been turned on and the brightness has been adjusted to a vibrant level. You can now enjoy the vibrant lighting in your space.', error=None, call_id='call_F8Tz6vXIUJiTDsY1x4V4tcH2', args='{\"instruction\": \"Turn the lights on and adjust the brightness to a vibrant level.\"}', name='route_lights_agent'), ToolUsePrompt(output='Great! The disco ball has been powered on and is now spinning. The function returned the message \"Disco ball is spinning!\" which confirms that the action was successful. \\n\\nIs there anything else you\\'d like to do with the disco ball or any other requests you have?', error=None, call_id='call_Zxkp6yY8TkemL7CzRo56slSD', args='{\"instruction\": \"Power on the disco ball.\"}', name='route_disco_ball_agent'), ToolUsePrompt(output=\"Playing pop music now. I've also adjusted the equalizer to enhance the party atmosphere.  Let me know if you'd like to change anything!\", error=None, call_id='call_KHMGTcOND4UKENYw1kMyGDxa', args='{\"instruction\": \"Start playing a random party music genre and change the equalizer settings to enhance the party atmosphere.\"}', name='route_music_agent'), ToolUsePrompt(output='How loud would you like the music to be?  I need a value between 0.0 and 1.0.  For example, 0.8 would be quite loud.', error=None, call_id='call_OlJAHmOFVTKtTQxg30qYz0oE', args='{\"instruction\": \"Change the music volume to a suitable level for a party.\"}', name='route_music_agent')]\u001b[0m\n",
      "\u001b[32m[2025-01-14 10:06:37]\u001b[0m \u001b[1mINFO | root: Generating text\u001b[0m\n",
      "\u001b[32m[2025-01-14 10:06:44]\u001b[0m \u001b[34m\u001b[1mDEBUG | Response: [TextResponse(text=\"The party mood has been successfully set up! Here are the details of the settings:\\n\\n1. **Lighting:**\\n   - The lights have been turned on.\\n   - Brightness adjusted to a vibrant level of **0.8**.\\n\\n2. **Disco Ball:**\\n   - The disco ball is powered on and spinning.\\n\\n3. **Music:**\\n   - Currently playing **pop music**.\\n   - The equalizer has been adjusted to enhance the party atmosphere.\\n\\n4. **Volume:**\\n   - Please specify the music volume you'd like, between **0.0** (silent) and **1.0** (very loud). For example, **0.8** would be quite loud.\\n\\nLet me know your preferred volume level or if there's anything else you'd like to adjust!\")]\u001b[0m\n"
     ]
    }
   ],
   "source": [
    "response = orchestrator.generate_text(prompt=prompt)"
   ]
  },
  {
   "cell_type": "markdown",
   "metadata": {},
   "source": [
    "As you can see in the log message above, the orchestrator agent assigned subdivided task to each sub-agents and finally generated answer."
   ]
  },
  {
   "cell_type": "code",
   "execution_count": 10,
   "metadata": {},
   "outputs": [
    {
     "name": "stdout",
     "output_type": "stream",
     "text": [
      "The party mood has been successfully set up! Here are the details of the settings:\n",
      "\n",
      "1. **Lighting:**\n",
      "   - The lights have been turned on.\n",
      "   - Brightness adjusted to a vibrant level of **0.8**.\n",
      "\n",
      "2. **Disco Ball:**\n",
      "   - The disco ball is powered on and spinning.\n",
      "\n",
      "3. **Music:**\n",
      "   - Currently playing **pop music**.\n",
      "   - The equalizer has been adjusted to enhance the party atmosphere.\n",
      "\n",
      "4. **Volume:**\n",
      "   - Please specify the music volume you'd like, between **0.0** (silent) and **1.0** (very loud). For example, **0.8** would be quite loud.\n",
      "\n",
      "Let me know your preferred volume level or if there's anything else you'd like to adjust!\n"
     ]
    }
   ],
   "source": [
    "print(response.contents[0].text)"
   ]
  },
  {
   "cell_type": "markdown",
   "metadata": {},
   "source": [
    "Usage is collected all over the agent including sub-agents."
   ]
  },
  {
   "cell_type": "code",
   "execution_count": 11,
   "metadata": {},
   "outputs": [
    {
     "data": {
      "text/plain": [
       "[('root',\n",
       "  Usage(model_name='gpt-4o-mini-2024-07-18', prompt_tokens=1899, output_tokens=480)),\n",
       " ('music_agent',\n",
       "  Usage(model_name='gemini-1.5-flash-002', prompt_tokens=514, output_tokens=40)),\n",
       " ('disco_ball_agent',\n",
       "  Usage(model_name='claude-3-5-sonnet-20240620', prompt_tokens=892, output_tokens=150)),\n",
       " ('lights_agent',\n",
       "  Usage(model_name='us.amazon.nova-lite-v1:0', prompt_tokens=1054, output_tokens=260))]"
      ]
     },
     "execution_count": 11,
     "metadata": {},
     "output_type": "execute_result"
    }
   ],
   "source": [
    "list(response.usage.items())"
   ]
  },
  {
   "cell_type": "markdown",
   "metadata": {},
   "source": [
    "Top-level orchestrator name is `root`."
   ]
  },
  {
   "cell_type": "markdown",
   "metadata": {},
   "source": [
    "Individual sub-agents store their own inputs and outputs. You can access those conversation histories by calling `load_history()` of focused agent. Here is an example to access to the history of music_agent."
   ]
  },
  {
   "cell_type": "code",
   "execution_count": 12,
   "metadata": {},
   "outputs": [
    {
     "data": {
      "text/plain": [
       "Agent(name=music_agent)"
      ]
     },
     "execution_count": 12,
     "metadata": {},
     "output_type": "execute_result"
    }
   ],
   "source": [
    "orchestrator.subagents[2]"
   ]
  },
  {
   "cell_type": "code",
   "execution_count": 13,
   "metadata": {},
   "outputs": [
    {
     "data": {
      "text/plain": [
       "[[Prompt(type='Prompt', role='user', contents=[TextPrompt(text='Start playing a random party music genre and change the equalizer settings to enhance the party atmosphere.')], name=None),\n",
       "  Response(type='Response', role='assistant', contents=[ToolCallResponse(name='start_music', args='{\"genre\": \"pop\"}', call_id='SmeHyzAVi2yNGh6Gs7eItWze'), ToolCallResponse(name='change_equalizer_settings', args='{\"settings\": {\"hz_800\": 5, \"hz_1600\": 5, \"hz_200\": 5, \"hz_6400\": 5, \"hz_100\": 5, \"hz_3200\": 5, \"hz_400\": 5}}', call_id='ir4Gu4NgH5sJfwGCuy06K4DT')], usage=Usage(model_name=None, prompt_tokens=0, output_tokens=0), raw=None, name='music_agent', is_last_chunk=None, prompt=None),\n",
       "  Prompt(type='Prompt', role='user', contents=[ToolUsePrompt(output='Starting music! Genre: pop, Volume: 0.7756905677771744, BPM: 110', error=None, call_id='SmeHyzAVi2yNGh6Gs7eItWze', args='{\"genre\": \"pop\"}', name='start_music'), ToolUsePrompt(output=\"Changing equalizer settings to {'hz_100': 5, 'hz_200': 5, 'hz_400': 5, 'hz_800': 5, 'hz_1600': 5, 'hz_3200': 5, 'hz_6400': 5}\", error=None, call_id='ir4Gu4NgH5sJfwGCuy06K4DT', args='{\"settings\": {\"hz_800\": 5, \"hz_1600\": 5, \"hz_200\": 5, \"hz_6400\": 5, \"hz_100\": 5, \"hz_3200\": 5, \"hz_400\": 5}}', name='change_equalizer_settings')], name=None),\n",
       "  Response(type='Response', role='assistant', contents=[TextResponse(text=\"Playing pop music now. I've also adjusted the equalizer to enhance the party atmosphere.  Let me know if you'd like to change anything!\")], usage=Usage(model_name=None, prompt_tokens=0, output_tokens=0), raw=None, name='music_agent', is_last_chunk=None, prompt=None)],\n",
       " [Prompt(type='Prompt', role='user', contents=[TextPrompt(text='Change the music volume to a suitable level for a party.')], name=None),\n",
       "  Response(type='Response', role='assistant', contents=[TextResponse(text='How loud would you like the music to be?  I need a value between 0.0 and 1.0.  For example, 0.8 would be quite loud.')], usage=Usage(model_name=None, prompt_tokens=0, output_tokens=0), raw=None, name='music_agent', is_last_chunk=None, prompt=None)]]"
      ]
     },
     "execution_count": 13,
     "metadata": {},
     "output_type": "execute_result"
    }
   ],
   "source": [
    "orchestrator.subagents[2].load_history()"
   ]
  },
  {
   "cell_type": "markdown",
   "metadata": {},
   "source": [
    "# State in the agent"
   ]
  },
  {
   "cell_type": "markdown",
   "metadata": {},
   "source": [
    "Agent state in existing agent frameworks has some issues on readability, special argument, and traceability. Ideally, state should be expressed by both the dependencies between agents and response schema, no special manner should be taken. It means the state is updated by llm based on the conversation history and response schema while its scope is limited by the agent's dependencies.\n",
    "\n",
    "In langrila, the combination of the dependencies between the agents and structured output can take the place of the state in agent. Note that planning mode is supported even if multi agent case."
   ]
  },
  {
   "cell_type": "markdown",
   "metadata": {},
   "source": [
    "## Response schema"
   ]
  },
  {
   "cell_type": "code",
   "execution_count": 14,
   "metadata": {},
   "outputs": [],
   "source": [
    "class DiscoBallSchema(BaseModel):\n",
    "    power: bool = Field(..., description=\"power state of the disco ball.\")\n",
    "\n",
    "\n",
    "class MusicPropertySchema(BaseModel):\n",
    "    genre: MusicGenre = Field(\n",
    "        ...,\n",
    "        description=\"The genre of music.\",\n",
    "    )\n",
    "    volume: float = Field(\n",
    "        ...,\n",
    "        description=\"The volume level of the music.\",\n",
    "        ge=0,\n",
    "        le=1,\n",
    "    )\n",
    "    bpm: int = Field(\n",
    "        ...,\n",
    "        description=\"The beats per minute of the music.\",\n",
    "    )\n",
    "\n",
    "\n",
    "class ChangedMusicSchema(BaseModel):\n",
    "    genre: MusicGenre = Field(\n",
    "        None,\n",
    "        description=\"The genre of music.\",\n",
    "    )\n",
    "    volume: float = Field(\n",
    "        None,\n",
    "        description=\"The volume level of the music.\",\n",
    "        ge=0,\n",
    "        le=1,\n",
    "    )\n",
    "    bpm: int = Field(\n",
    "        None,\n",
    "        description=\"The beats per minute of the music.\",\n",
    "        ge=50,\n",
    "        le=200,\n",
    "    )\n",
    "\n",
    "\n",
    "class MusicSchema(BaseModel):\n",
    "    genre: MusicGenre = Field(\n",
    "        ...,\n",
    "        description=\"The genre of music.\",\n",
    "    )\n",
    "    volume: float = Field(\n",
    "        ...,\n",
    "        description=\"The volume level of the music.\",\n",
    "        ge=0,\n",
    "        le=1,\n",
    "    )\n",
    "    bpm: int = Field(\n",
    "        ...,\n",
    "        description=\"The beats per minute of the music.\",\n",
    "    )\n",
    "    equalizer_settings: EqualizerSettings = Field(\n",
    "        ...,\n",
    "        description=\"The equalizer settings.\",\n",
    "    )\n",
    "\n",
    "\n",
    "class LightsSchema(BaseModel):\n",
    "    brightness: float = Field(\n",
    "        ...,\n",
    "        description=\"The brightness level to set the lights to.\",\n",
    "        ge=0,\n",
    "        le=1,\n",
    "    )\n",
    "\n",
    "\n",
    "class ResponseSchema(BaseModel):\n",
    "    disco_ball: DiscoBallSchema = Field(..., description=\"The disco ball settings.\")\n",
    "    music: MusicSchema = Field(..., description=\"The music settings.\")\n",
    "    lights: LightsSchema = Field(..., description=\"The lights settings.\")"
   ]
  },
  {
   "cell_type": "markdown",
   "metadata": {},
   "source": [
    "## Task specific agent."
   ]
  },
  {
   "cell_type": "markdown",
   "metadata": {},
   "source": [
    "To keep the state in each agent, `use_last_n_turns` parameter should be greater than or equal to 1, otherwise -1 to use the entire conversation history. "
   ]
  },
  {
   "cell_type": "code",
   "execution_count": 15,
   "metadata": {},
   "outputs": [],
   "source": [
    "from langrila import SystemPrompt\n",
    "\n",
    "lights_agent = Agent(\n",
    "    client=bedrock_client,\n",
    "    modelId=\"us.amazon.nova-lite-v1:0\",\n",
    "    inferenceConfig={\n",
    "        \"temperature\": 0.0,\n",
    "    },\n",
    "    tools=[turn_light_on, adjust_lights],\n",
    "    response_schema_as_tool=LightsSchema,\n",
    "    use_last_n_turns=1,  # Use the last turn for the state of the lights.\n",
    "    system_instruction=SystemPrompt(\n",
    "        contents=\"You can turn the lights on or adjust the brightness.\"\n",
    "    ),\n",
    ")\n",
    "\n",
    "disco_ball_agent = Agent(\n",
    "    client=openai_client,\n",
    "    model=\"gpt-4o-2024-11-20\",\n",
    "    temperature=0.0,\n",
    "    tools=[power_disco_ball],\n",
    "    max_tokens=500,\n",
    "    response_schema_as_tool=DiscoBallSchema,\n",
    "    use_last_n_turns=1,  # Use the last turn for the state of the disco ball.\n",
    ")\n",
    "\n",
    "music_control_agent = Agent(\n",
    "    client=google_dev_client,\n",
    "    model=\"gemini-1.5-flash-002\",\n",
    "    temperature=0.0,\n",
    "    tools=[start_music, change_music, change_music_volume],\n",
    "    planning=True,\n",
    "    response_schema_as_tool=MusicPropertySchema,\n",
    "    use_last_n_turns=1,  # Use the last turn for the state of the music control.\n",
    "    system_instruction=SystemPrompt(\n",
    "        contents=\"You can start the music, or change the music genre and volume.\"\n",
    "    ),\n",
    ")\n",
    "\n",
    "equalizer_control_agent = Agent(\n",
    "    client=google_dev_client,\n",
    "    model=\"gemini-1.5-flash-002\",\n",
    "    temperature=0.0,\n",
    "    tools=[change_equalizer_settings],\n",
    "    planning=True,\n",
    "    response_schema_as_tool=EqualizerSettings,\n",
    "    use_last_n_turns=1,  # Use the last turn for the state of the music control.\n",
    "    system_instruction=SystemPrompt(contents=\"You can change the equalizer settings.\"),\n",
    ")"
   ]
  },
  {
   "cell_type": "markdown",
   "metadata": {},
   "source": [
    "## Orchestrator agent"
   ]
  },
  {
   "cell_type": "code",
   "execution_count": 16,
   "metadata": {},
   "outputs": [],
   "source": [
    "# Orchestrator agent as a sub-agent\n",
    "music_agent = Agent(\n",
    "    client=anthropic_client,\n",
    "    model=\"claude-3-5-sonnet-20240620\",\n",
    "    temperature=0.0,\n",
    "    subagents=[music_control_agent, equalizer_control_agent],\n",
    "    max_tokens=500,\n",
    "    response_schema_as_tool=MusicSchema,\n",
    "    use_last_n_turns=1,  # Use the last turn for the state of the music.\n",
    "    system_instruction=SystemPrompt(\n",
    "        contents=\"You can start the music, change the genre, volume, and equalizer settings.\"\n",
    "    ),\n",
    ")\n",
    "\n",
    "# Orchestrator agent\n",
    "orchestrator = Agent(\n",
    "    client=openai_client,\n",
    "    model=\"gpt-4o-2024-11-20\",\n",
    "    temperature=0.0,\n",
    "    subagents=[lights_agent, disco_ball_agent, music_agent],\n",
    "    conversation_memory=InMemoryConversationMemory(),\n",
    "    response_schema_as_tool=ResponseSchema,  # as needed\n",
    "    planning=True,\n",
    "    use_last_n_turns=1,\n",
    "    system_instruction=SystemPrompt(contents=\"You can control the lights, disco ball, and music.\"),\n",
    ")"
   ]
  },
  {
   "cell_type": "markdown",
   "metadata": {},
   "source": [
    "## Invoke agent"
   ]
  },
  {
   "cell_type": "code",
   "execution_count": 17,
   "metadata": {},
   "outputs": [],
   "source": [
    "prompt = \"Turn this place into a lively party mood!\""
   ]
  },
  {
   "cell_type": "code",
   "execution_count": 18,
   "metadata": {},
   "outputs": [
    {
     "name": "stderr",
     "output_type": "stream",
     "text": [
      "\u001b[32m[2025-01-14 10:06:44]\u001b[0m \u001b[34m\u001b[1mDEBUG | Prompt: [TextPrompt(text='Please make a concise plan to answer the following question/requirement, considering the conversation history.\\nYou can invoke the sub-agents or tools to answer the questions/requirements shown in the capabilities section.\\nAgent has no description while the tools have a description.\\n\\nQuestion/Requirement:\\nTurn this place into a lively party mood!\\n\\nCapabilities:\\n- lights_agent\\n  - turn_light_on: Turn the lights on.\\n  - adjust_lights: Adjust the brightness of the lights.\\n- disco_ball_agent\\n  - power_disco_ball: Powers the spinning dissco ball on or off.\\n- music_agent\\n  - music_control_agent\\n    - start_music: Start playing a random music with the given the genre.\\n    - change_music: Change the music.\\n    - change_music_volume: Change the music volume.\\n  - equalizer_control_agent\\n    - change_equalizer_settings: Change the equalizer settings of the music.\\n')]\u001b[0m\n",
      "\u001b[32m[2025-01-14 10:06:44]\u001b[0m \u001b[1mINFO | root: Generating text\u001b[0m\n",
      "\u001b[32m[2025-01-14 10:06:46]\u001b[0m \u001b[34m\u001b[1mDEBUG | Response: [TextResponse(text='### Plan to Turn the Place into a Lively Party Mood:\\n\\n1. **Lights**:\\n   - Turn the lights on using `turn_light_on`.\\n   - Adjust the brightness to a vibrant level using `adjust_lights`.\\n\\n2. **Disco Ball**:\\n   - Power on the disco ball using `power_disco_ball` to create a dynamic and fun atmosphere.\\n\\n3. **Music**:\\n   - Start playing upbeat party music by invoking `start_music` with a suitable genre like \"pop\" or \"dance\".\\n   - Adjust the music volume to an energetic level using `change_music_volume`.\\n   - Optionally, tweak the equalizer settings for enhanced bass and treble using `change_equalizer_settings`.\\n\\n4. **Coordination**:\\n   - Ensure all elements (lights, disco ball, and music) are synchronized to create a cohesive party vibe.')]\u001b[0m\n",
      "\u001b[32m[2025-01-14 10:06:46]\u001b[0m \u001b[34m\u001b[1mDEBUG | Prompt: [TextPrompt(text='Put the plan into action.')]\u001b[0m\n",
      "\u001b[32m[2025-01-14 10:06:46]\u001b[0m \u001b[1mINFO | root: Generating text\u001b[0m\n",
      "\u001b[32m[2025-01-14 10:06:49]\u001b[0m \u001b[34m\u001b[1mDEBUG | Response: [ToolCallResponse(name='route_lights_agent', args='{\"instruction\": \"Turn the lights on and adjust the brightness to a vibrant level suitable for a party.\"}', call_id='call_sOZnOTghjdzSbjQFeNQruoXN'), ToolCallResponse(name='route_disco_ball_agent', args='{\"instruction\": \"Power on the disco ball to create a dynamic and fun atmosphere.\"}', call_id='call_vyqrmw5oxfSHN7PZywyJpfH9'), ToolCallResponse(name='route_music_agent', args='{\"instruction\": \"Start playing upbeat pop music, adjust the volume to an energetic level, and enhance the bass and treble using the equalizer settings.\"}', call_id='call_jdquRu3BZNYMixV1KidLj5hs')]\u001b[0m\n",
      "\u001b[32m[2025-01-14 10:06:49]\u001b[0m \u001b[1mINFO | Running tool: route_lights_agent\u001b[0m\n",
      "\u001b[32m[2025-01-14 10:06:49]\u001b[0m \u001b[34m\u001b[1mDEBUG | Prompt: [TextPrompt(text='Turn the lights on and adjust the brightness to a vibrant level suitable for a party.')]\u001b[0m\n",
      "\u001b[32m[2025-01-14 10:06:49]\u001b[0m \u001b[1mINFO | lights_agent: Generating text\u001b[0m\n",
      "\u001b[32m[2025-01-14 10:06:50]\u001b[0m \u001b[34m\u001b[1mDEBUG | Response: [TextResponse(text='<thinking>The User wants to turn the lights on and adjust the brightness to a vibrant level suitable for a party. I need to turn the lights on first and then adjust the brightness. Since the User has not specified a brightness level, I will assume a vibrant level to be around 0.8.</thinking>\\n'), ToolCallResponse(name='turn_light_on', args='{}', call_id='tooluse_cd1wEInZQCSKQfQR5JMCHg'), ToolCallResponse(name='adjust_lights', args='{\"brightness\": 0.8}', call_id='tooluse_bz5eNqyLT9mQZ_0iNDVaOA')]\u001b[0m\n",
      "\u001b[32m[2025-01-14 10:06:50]\u001b[0m \u001b[1mINFO | Running tool: turn_light_on\u001b[0m\n",
      "\u001b[32m[2025-01-14 10:06:50]\u001b[0m \u001b[1mINFO | Tool: turn_light_on successfully ran.\u001b[0m\n",
      "\u001b[32m[2025-01-14 10:06:50]\u001b[0m \u001b[1mINFO | Running tool: adjust_lights\u001b[0m\n",
      "\u001b[32m[2025-01-14 10:06:50]\u001b[0m \u001b[1mINFO | Tool: adjust_lights successfully ran.\u001b[0m\n",
      "\u001b[32m[2025-01-14 10:06:50]\u001b[0m \u001b[34m\u001b[1mDEBUG | Prompt: [ToolUsePrompt(output='Lights are now on! Brightness: 0.91', error=None, call_id='tooluse_cd1wEInZQCSKQfQR5JMCHg', args='{}', name='turn_light_on'), ToolUsePrompt(output='Lights are now set to 0.8', error=None, call_id='tooluse_bz5eNqyLT9mQZ_0iNDVaOA', args='{\"brightness\": 0.8}', name='adjust_lights')]\u001b[0m\n",
      "\u001b[32m[2025-01-14 10:06:50]\u001b[0m \u001b[1mINFO | lights_agent: Generating text\u001b[0m\n",
      "\u001b[32m[2025-01-14 10:06:51]\u001b[0m \u001b[34m\u001b[1mDEBUG | Response: [TextResponse(text='<thinking>The lights have been successfully turned on and the brightness has been adjusted to a vibrant level of 0.8, which is suitable for a party.</thinking>\\n'), ToolCallResponse(name='final_answer', args='{\"brightness\": 0.8}', call_id='tooluse_npVLDAryTsuVUcyar7VSTg')]\u001b[0m\n",
      "\u001b[32m[2025-01-14 10:06:51]\u001b[0m \u001b[1mINFO | Running tool: final_answer\u001b[0m\n",
      "\u001b[32m[2025-01-14 10:06:51]\u001b[0m \u001b[1mINFO | Tool: final_answer successfully ran.\u001b[0m\n",
      "\u001b[32m[2025-01-14 10:06:51]\u001b[0m \u001b[34m\u001b[1mDEBUG | Final result: [TextResponse(text='{\"brightness\": 0.8}')]\u001b[0m\n",
      "\u001b[32m[2025-01-14 10:06:51]\u001b[0m \u001b[1mINFO | Tool: route_lights_agent successfully ran.\u001b[0m\n",
      "\u001b[32m[2025-01-14 10:06:51]\u001b[0m \u001b[1mINFO | Running tool: route_disco_ball_agent\u001b[0m\n",
      "\u001b[32m[2025-01-14 10:06:51]\u001b[0m \u001b[34m\u001b[1mDEBUG | Prompt: [TextPrompt(text='Power on the disco ball to create a dynamic and fun atmosphere.')]\u001b[0m\n",
      "\u001b[32m[2025-01-14 10:06:51]\u001b[0m \u001b[1mINFO | disco_ball_agent: Generating text\u001b[0m\n",
      "\u001b[32m[2025-01-14 10:06:51]\u001b[0m \u001b[34m\u001b[1mDEBUG | Response: [ToolCallResponse(name='power_disco_ball', args='{\"power\":true}', call_id='call_SSGCwnSrJtQ75QSfFGc4yDjK')]\u001b[0m\n",
      "\u001b[32m[2025-01-14 10:06:51]\u001b[0m \u001b[1mINFO | Running tool: power_disco_ball\u001b[0m\n",
      "\u001b[32m[2025-01-14 10:06:51]\u001b[0m \u001b[1mINFO | Tool: power_disco_ball successfully ran.\u001b[0m\n",
      "\u001b[32m[2025-01-14 10:06:51]\u001b[0m \u001b[34m\u001b[1mDEBUG | Prompt: [ToolUsePrompt(output='Disco ball is spinning!', error=None, call_id='call_SSGCwnSrJtQ75QSfFGc4yDjK', args='{\"power\":true}', name='power_disco_ball')]\u001b[0m\n",
      "\u001b[32m[2025-01-14 10:06:51]\u001b[0m \u001b[1mINFO | disco_ball_agent: Generating text\u001b[0m\n",
      "\u001b[32m[2025-01-14 10:06:52]\u001b[0m \u001b[34m\u001b[1mDEBUG | Response: [TextResponse(text='The disco ball is now powered on and spinning, creating a dynamic and fun atmosphere!')]\u001b[0m\n",
      "\u001b[32m[2025-01-14 10:06:52]\u001b[0m \u001b[34m\u001b[1mDEBUG | Prompt: [TextPrompt(text=\"Decide the next action based on the conversation. If you have all information for answering the user, run 'final_result' tool. If you need more information, invoke other tool to get necessary information. \")]\u001b[0m\n",
      "\u001b[32m[2025-01-14 10:06:52]\u001b[0m \u001b[1mINFO | disco_ball_agent: Generating text\u001b[0m\n",
      "\u001b[32m[2025-01-14 10:06:52]\u001b[0m \u001b[34m\u001b[1mDEBUG | Response: [ToolCallResponse(name='final_answer', args='{\"power\":true}', call_id='call_8WTnOOmSbu7Ux4lWqZ1HwqHr')]\u001b[0m\n",
      "\u001b[32m[2025-01-14 10:06:52]\u001b[0m \u001b[1mINFO | Running tool: final_answer\u001b[0m\n",
      "\u001b[32m[2025-01-14 10:06:52]\u001b[0m \u001b[1mINFO | Tool: final_answer successfully ran.\u001b[0m\n",
      "\u001b[32m[2025-01-14 10:06:52]\u001b[0m \u001b[34m\u001b[1mDEBUG | Final result: [TextResponse(text='{\"power\": true}')]\u001b[0m\n",
      "\u001b[32m[2025-01-14 10:06:52]\u001b[0m \u001b[1mINFO | Tool: route_disco_ball_agent successfully ran.\u001b[0m\n",
      "\u001b[32m[2025-01-14 10:06:52]\u001b[0m \u001b[1mINFO | Running tool: route_music_agent\u001b[0m\n",
      "\u001b[32m[2025-01-14 10:06:52]\u001b[0m \u001b[34m\u001b[1mDEBUG | Prompt: [TextPrompt(text='Start playing upbeat pop music, adjust the volume to an energetic level, and enhance the bass and treble using the equalizer settings.')]\u001b[0m\n",
      "\u001b[32m[2025-01-14 10:06:52]\u001b[0m \u001b[1mINFO | music_agent: Generating text\u001b[0m\n",
      "\u001b[32m[2025-01-14 10:06:56]\u001b[0m \u001b[34m\u001b[1mDEBUG | Response: [TextResponse(text=\"Certainly! I'll start playing upbeat pop music, adjust the volume to an energetic level, and enhance the bass and treble using the equalizer settings. To accomplish this, I'll need to use multiple tools. Let's break it down step by step:\\n\\n1. Start playing upbeat pop music\\n2. Adjust the volume to an energetic level\\n3. Enhance the bass and treble using the equalizer settings\\n\\nLet's start with the first two steps:\"), ToolCallResponse(name='route_music_control_agent', args='{\"instruction\": \"Start playing upbeat pop music and set the volume to an energetic level. For pop music, let\\'s set the volume to 0.8, which is quite energetic without being too loud. Also, for upbeat pop, let\\'s aim for a BPM around 120-130.\"}', call_id='toolu_012QNQnhCAv9YSUoCm37wHD8')]\u001b[0m\n",
      "\u001b[32m[2025-01-14 10:06:56]\u001b[0m \u001b[1mINFO | Running tool: route_music_control_agent\u001b[0m\n",
      "\u001b[32m[2025-01-14 10:06:56]\u001b[0m \u001b[34m\u001b[1mDEBUG | Prompt: [TextPrompt(text=\"Please make a concise plan to answer the following question/requirement, considering the conversation history.\\nYou can invoke the sub-agents or tools to answer the questions/requirements shown in the capabilities section.\\nAgent has no description while the tools have a description.\\n\\nQuestion/Requirement:\\nStart playing upbeat pop music and set the volume to an energetic level. For pop music, let's set the volume to 0.8, which is quite energetic without being too loud. Also, for upbeat pop, let's aim for a BPM around 120-130.\\n\\nCapabilities:\\n- start_music: Start playing a random music with the given the genre.\\n- change_music: Change the music.\\n- change_music_volume: Change the music volume.\\n\")]\u001b[0m\n",
      "\u001b[32m[2025-01-14 10:06:56]\u001b[0m \u001b[1mINFO | music_control_agent: Generating text\u001b[0m\n",
      "\u001b[32m[2025-01-14 10:06:57]\u001b[0m \u001b[34m\u001b[1mDEBUG | Response: [TextResponse(text='Plan:\\n\\n1. **Use `start_music`:**  Invoke `start_music` with the genre \"upbeat pop\".  This will initiate music playback.\\n2. **Use `change_music_volume`:** Invoke `change_music_volume` with a volume level of 0.8. This sets the desired energetic volume.  (Note:  The BPM requirement is not directly addressable by the given tools.)')]\u001b[0m\n",
      "\u001b[32m[2025-01-14 10:06:57]\u001b[0m \u001b[34m\u001b[1mDEBUG | Prompt: [TextPrompt(text='Put the plan into action.')]\u001b[0m\n",
      "\u001b[32m[2025-01-14 10:06:57]\u001b[0m \u001b[1mINFO | music_control_agent: Generating text\u001b[0m\n",
      "\u001b[32m[2025-01-14 10:06:58]\u001b[0m \u001b[34m\u001b[1mDEBUG | Response: [ToolCallResponse(name='start_music', args='{\"genre\": \"pop\"}', call_id='df6jRaAgniCmv4nFC1G8s2Lm'), ToolCallResponse(name='change_music_volume', args='{\"volume\": 0.8}', call_id='SyyZYo4hiJj7eVrHLeYWJl6M')]\u001b[0m\n",
      "\u001b[32m[2025-01-14 10:06:58]\u001b[0m \u001b[1mINFO | Running tool: start_music\u001b[0m\n",
      "\u001b[32m[2025-01-14 10:06:58]\u001b[0m \u001b[1mINFO | Tool: start_music successfully ran.\u001b[0m\n",
      "\u001b[32m[2025-01-14 10:06:58]\u001b[0m \u001b[1mINFO | Running tool: change_music_volume\u001b[0m\n",
      "\u001b[32m[2025-01-14 10:06:58]\u001b[0m \u001b[1mINFO | Tool: change_music_volume successfully ran.\u001b[0m\n",
      "\u001b[32m[2025-01-14 10:06:58]\u001b[0m \u001b[34m\u001b[1mDEBUG | Prompt: [ToolUsePrompt(output='Starting music! Genre: pop, Volume: 0.2856745598731919, BPM: 110', error=None, call_id='df6jRaAgniCmv4nFC1G8s2Lm', args='{\"genre\": \"pop\"}', name='start_music'), ToolUsePrompt(output='Changing volume to 0.8', error=None, call_id='SyyZYo4hiJj7eVrHLeYWJl6M', args='{\"volume\": 0.8}', name='change_music_volume')]\u001b[0m\n",
      "\u001b[32m[2025-01-14 10:06:58]\u001b[0m \u001b[1mINFO | music_control_agent: Generating text\u001b[0m\n",
      "\u001b[32m[2025-01-14 10:06:59]\u001b[0m \u001b[34m\u001b[1mDEBUG | Response: [TextResponse(text=\"Okay, I've started playing pop music and set the volume to 0.8.  Note that the initial BPM was 110, not within the 120-130 range requested, as the available tools don't allow direct BPM control.\")]\u001b[0m\n",
      "\u001b[32m[2025-01-14 10:06:59]\u001b[0m \u001b[34m\u001b[1mDEBUG | Prompt: [TextPrompt(text=\"Decide the next action based on the conversation. If you have all information for answering the user, run 'final_result' tool. If you need more information, invoke other tool to get necessary information. \")]\u001b[0m\n",
      "\u001b[32m[2025-01-14 10:06:59]\u001b[0m \u001b[1mINFO | music_control_agent: Generating text\u001b[0m\n",
      "\u001b[32m[2025-01-14 10:07:00]\u001b[0m \u001b[34m\u001b[1mDEBUG | Response: [TextResponse(text=\"I believe I have enough information to provide a final answer.  While the BPM isn't exactly what was requested, I can report the current state.  I will use the `final_answer` tool.\"), ToolCallResponse(name='final_answer', args='{\"bpm\": 110, \"genre\": \"pop\", \"volume\": 0.8}', call_id='jHny5EMtpWO7vtP86v2qyYjZ')]\u001b[0m\n",
      "\u001b[32m[2025-01-14 10:07:00]\u001b[0m \u001b[1mINFO | Running tool: final_answer\u001b[0m\n",
      "\u001b[32m[2025-01-14 10:07:00]\u001b[0m \u001b[1mINFO | Tool: final_answer successfully ran.\u001b[0m\n",
      "\u001b[32m[2025-01-14 10:07:00]\u001b[0m \u001b[34m\u001b[1mDEBUG | Final result: [TextResponse(text='{\"bpm\": 110, \"genre\": \"pop\", \"volume\": 0.8}')]\u001b[0m\n",
      "\u001b[32m[2025-01-14 10:07:00]\u001b[0m \u001b[1mINFO | Tool: route_music_control_agent successfully ran.\u001b[0m\n",
      "\u001b[32m[2025-01-14 10:07:00]\u001b[0m \u001b[34m\u001b[1mDEBUG | Prompt: [ToolUsePrompt(output='{\"bpm\": 110, \"genre\": \"pop\", \"volume\": 0.8}', error=None, call_id='toolu_012QNQnhCAv9YSUoCm37wHD8', args='{\"instruction\": \"Start playing upbeat pop music and set the volume to an energetic level. For pop music, let\\'s set the volume to 0.8, which is quite energetic without being too loud. Also, for upbeat pop, let\\'s aim for a BPM around 120-130.\"}', name='route_music_control_agent')]\u001b[0m\n",
      "\u001b[32m[2025-01-14 10:07:00]\u001b[0m \u001b[1mINFO | music_agent: Generating text\u001b[0m\n",
      "\u001b[32m[2025-01-14 10:07:03]\u001b[0m \u001b[34m\u001b[1mDEBUG | Response: [TextResponse(text=\"Great! The music has started playing. Now, let's enhance the bass and treble using the equalizer settings:\"), ToolCallResponse(name='route_equalizer_control_agent', args='{\"instruction\": \"Enhance the bass and treble for the pop music. Increase the low frequencies (100 Hz and 200 Hz) by 6 dB each for more bass. Increase the high frequencies (3200 Hz and 6400 Hz) by 4 dB each for enhanced treble. Keep the mid-range frequencies (400 Hz, 800 Hz, and 1600 Hz) at 0 dB for a balanced sound.\"}', call_id='toolu_01MH6avGLbvrPqFeU1Ygj9mh')]\u001b[0m\n",
      "\u001b[32m[2025-01-14 10:07:03]\u001b[0m \u001b[1mINFO | Running tool: route_equalizer_control_agent\u001b[0m\n",
      "\u001b[32m[2025-01-14 10:07:03]\u001b[0m \u001b[34m\u001b[1mDEBUG | Prompt: [TextPrompt(text='Please make a concise plan to answer the following question/requirement, considering the conversation history.\\nYou can invoke the sub-agents or tools to answer the questions/requirements shown in the capabilities section.\\nAgent has no description while the tools have a description.\\n\\nQuestion/Requirement:\\nEnhance the bass and treble for the pop music. Increase the low frequencies (100 Hz and 200 Hz) by 6 dB each for more bass. Increase the high frequencies (3200 Hz and 6400 Hz) by 4 dB each for enhanced treble. Keep the mid-range frequencies (400 Hz, 800 Hz, and 1600 Hz) at 0 dB for a balanced sound.\\n\\nCapabilities:\\n- change_equalizer_settings: Change the equalizer settings of the music.\\n')]\u001b[0m\n",
      "\u001b[32m[2025-01-14 10:07:03]\u001b[0m \u001b[1mINFO | equalizer_control_agent: Generating text\u001b[0m\n",
      "\u001b[32m[2025-01-14 10:07:06]\u001b[0m \u001b[34m\u001b[1mDEBUG | Response: [TextResponse(text=\"Plan:\\n\\n1. **Use `change_equalizer_settings` tool:**  Invoke the `change_equalizer_settings` tool with the following parameters:\\n\\n    * `frequency`: 100 Hz, 200 Hz, 400 Hz, 800 Hz, 1600 Hz, 3200 Hz, 6400 Hz\\n    * `gain`: 6 dB, 6 dB, 0 dB, 0 dB, 0 dB, 4 dB, 4 dB  (corresponding to the frequencies above)\\n\\n\\n2. **Verify:** (Optional)  Depending on the tool's capabilities, check if the tool provides confirmation of successful setting changes.  If not, assume success unless an error is reported.\")]\u001b[0m\n",
      "\u001b[32m[2025-01-14 10:07:06]\u001b[0m \u001b[34m\u001b[1mDEBUG | Prompt: [TextPrompt(text='Put the plan into action.')]\u001b[0m\n",
      "\u001b[32m[2025-01-14 10:07:06]\u001b[0m \u001b[1mINFO | equalizer_control_agent: Generating text\u001b[0m\n",
      "\u001b[32m[2025-01-14 10:07:07]\u001b[0m \u001b[34m\u001b[1mDEBUG | Response: [ToolCallResponse(name='change_equalizer_settings', args='{\"settings\": \"unknown\"}', call_id='2Tz7un1uEcN8kImQGZaxX9dq')]\u001b[0m\n",
      "\u001b[32m[2025-01-14 10:07:07]\u001b[0m \u001b[1mINFO | Running tool: change_equalizer_settings\u001b[0m\n",
      "\u001b[32m[2025-01-14 10:07:07]\u001b[0m \u001b[31m\u001b[1mERROR | Validation error occurred while running tool. Retrying...\n",
      "Tool: change_equalizer_settings\n",
      "Attribute: settings\n",
      "Input value: unknown\n",
      "ValidationError: Input should be a valid dictionary or instance of EqualizerSettings\u001b[0m\n",
      "\u001b[32m[2025-01-14 10:07:07]\u001b[0m \u001b[34m\u001b[1mDEBUG | Prompt: [ToolUsePrompt(output=None, error='Tool: change_equalizer_settings\\nAttribute: settings\\nInput value: unknown\\nValidationError: Input should be a valid dictionary or instance of EqualizerSettings', call_id='2Tz7un1uEcN8kImQGZaxX9dq', args='{\"settings\": \"unknown\"}', name='change_equalizer_settings'), TextPrompt(text='Please fix the error on tool use. If the validation error is raised, reflect the conversation history and try to find the correct answer. If there is no fact to answer the user, try to run other tools to get necessary information. ')]\u001b[0m\n",
      "\u001b[32m[2025-01-14 10:07:07]\u001b[0m \u001b[1mINFO | equalizer_control_agent: Generating text\u001b[0m\n",
      "\u001b[32m[2025-01-14 10:07:08]\u001b[0m \u001b[34m\u001b[1mDEBUG | Response: [ToolCallResponse(name='change_equalizer_settings', args='{\"settings\": {\"hz_1600\": 0, \"hz_3200\": 4, \"hz_100\": 6, \"hz_200\": 6, \"hz_6400\": 4, \"hz_800\": 0, \"hz_400\": 0}}', call_id='yOIbMbkN0qnlCH6Oab9RK1B1')]\u001b[0m\n",
      "\u001b[32m[2025-01-14 10:07:08]\u001b[0m \u001b[1mINFO | Running tool: change_equalizer_settings\u001b[0m\n",
      "\u001b[32m[2025-01-14 10:07:08]\u001b[0m \u001b[1mINFO | Tool: change_equalizer_settings successfully ran.\u001b[0m\n",
      "\u001b[32m[2025-01-14 10:07:08]\u001b[0m \u001b[34m\u001b[1mDEBUG | Prompt: [ToolUsePrompt(output=\"Changing equalizer settings to {'hz_100': 6, 'hz_200': 6, 'hz_400': 0, 'hz_800': 0, 'hz_1600': 0, 'hz_3200': 4, 'hz_6400': 4}\", error=None, call_id='yOIbMbkN0qnlCH6Oab9RK1B1', args='{\"settings\": {\"hz_1600\": 0, \"hz_3200\": 4, \"hz_100\": 6, \"hz_200\": 6, \"hz_6400\": 4, \"hz_800\": 0, \"hz_400\": 0}}', name='change_equalizer_settings')]\u001b[0m\n",
      "\u001b[32m[2025-01-14 10:07:08]\u001b[0m \u001b[1mINFO | equalizer_control_agent: Generating text\u001b[0m\n",
      "\u001b[32m[2025-01-14 10:07:09]\u001b[0m \u001b[34m\u001b[1mDEBUG | Response: [TextResponse(text='The bass and treble have been enhanced.  The equalizer settings have been adjusted as requested: 100 Hz and 200 Hz increased by 6 dB, 3200 Hz and 6400 Hz increased by 4 dB, and 400 Hz, 800 Hz, and 1600 Hz set to 0 dB.')]\u001b[0m\n",
      "\u001b[32m[2025-01-14 10:07:09]\u001b[0m \u001b[34m\u001b[1mDEBUG | Prompt: [TextPrompt(text=\"Decide the next action based on the conversation. If you have all information for answering the user, run 'final_result' tool. If you need more information, invoke other tool to get necessary information. \")]\u001b[0m\n",
      "\u001b[32m[2025-01-14 10:07:09]\u001b[0m \u001b[1mINFO | equalizer_control_agent: Generating text\u001b[0m\n",
      "\u001b[32m[2025-01-14 10:07:11]\u001b[0m \u001b[34m\u001b[1mDEBUG | Response: [TextResponse(text=\"We have all the necessary information.  Let's finalize the changes.\"), ToolCallResponse(name='final_answer', args='{\"hz_6400\": 4, \"hz_400\": 0, \"hz_3200\": 4, \"hz_200\": 6, \"hz_800\": 0, \"hz_100\": 6, \"hz_1600\": 0}', call_id='mwoX2aAb7llFWr29qROqrW0I')]\u001b[0m\n",
      "\u001b[32m[2025-01-14 10:07:11]\u001b[0m \u001b[1mINFO | Running tool: final_answer\u001b[0m\n",
      "\u001b[32m[2025-01-14 10:07:11]\u001b[0m \u001b[1mINFO | Tool: final_answer successfully ran.\u001b[0m\n",
      "\u001b[32m[2025-01-14 10:07:11]\u001b[0m \u001b[34m\u001b[1mDEBUG | Final result: [TextResponse(text='{\"hz_6400\": 4, \"hz_400\": 0, \"hz_3200\": 4, \"hz_200\": 6, \"hz_800\": 0, \"hz_100\": 6, \"hz_1600\": 0}')]\u001b[0m\n",
      "\u001b[32m[2025-01-14 10:07:11]\u001b[0m \u001b[1mINFO | Tool: route_equalizer_control_agent successfully ran.\u001b[0m\n",
      "\u001b[32m[2025-01-14 10:07:11]\u001b[0m \u001b[34m\u001b[1mDEBUG | Prompt: [ToolUsePrompt(output='{\"hz_6400\": 4, \"hz_400\": 0, \"hz_3200\": 4, \"hz_200\": 6, \"hz_800\": 0, \"hz_100\": 6, \"hz_1600\": 0}', error=None, call_id='toolu_01MH6avGLbvrPqFeU1Ygj9mh', args='{\"instruction\": \"Enhance the bass and treble for the pop music. Increase the low frequencies (100 Hz and 200 Hz) by 6 dB each for more bass. Increase the high frequencies (3200 Hz and 6400 Hz) by 4 dB each for enhanced treble. Keep the mid-range frequencies (400 Hz, 800 Hz, and 1600 Hz) at 0 dB for a balanced sound.\"}', name='route_equalizer_control_agent')]\u001b[0m\n",
      "\u001b[32m[2025-01-14 10:07:11]\u001b[0m \u001b[1mINFO | music_agent: Generating text\u001b[0m\n",
      "\u001b[32m[2025-01-14 10:07:14]\u001b[0m \u001b[34m\u001b[1mDEBUG | Response: [TextResponse(text=\"Excellent! Now that we have all the information, let's provide the final answer:\"), ToolCallResponse(name='final_answer', args='{\"genre\": \"pop\", \"volume\": 0.8, \"bpm\": 110, \"equalizer_settings\": {\"hz_100\": 6, \"hz_200\": 6, \"hz_400\": 0, \"hz_800\": 0, \"hz_1600\": 0, \"hz_3200\": 4, \"hz_6400\": 4}}', call_id='toolu_015GhL3hikqhFRFBvaCFB73V')]\u001b[0m\n",
      "\u001b[32m[2025-01-14 10:07:14]\u001b[0m \u001b[1mINFO | Running tool: final_answer\u001b[0m\n",
      "\u001b[32m[2025-01-14 10:07:14]\u001b[0m \u001b[1mINFO | Tool: final_answer successfully ran.\u001b[0m\n",
      "\u001b[32m[2025-01-14 10:07:14]\u001b[0m \u001b[34m\u001b[1mDEBUG | Final result: [TextResponse(text='{\"genre\": \"pop\", \"volume\": 0.8, \"bpm\": 110, \"equalizer_settings\": {\"hz_100\": 6, \"hz_200\": 6, \"hz_400\": 0, \"hz_800\": 0, \"hz_1600\": 0, \"hz_3200\": 4, \"hz_6400\": 4}}')]\u001b[0m\n",
      "\u001b[32m[2025-01-14 10:07:14]\u001b[0m \u001b[1mINFO | Tool: route_music_agent successfully ran.\u001b[0m\n",
      "\u001b[32m[2025-01-14 10:07:14]\u001b[0m \u001b[34m\u001b[1mDEBUG | Prompt: [ToolUsePrompt(output='{\"brightness\": 0.8}', error=None, call_id='call_sOZnOTghjdzSbjQFeNQruoXN', args='{\"instruction\": \"Turn the lights on and adjust the brightness to a vibrant level suitable for a party.\"}', name='route_lights_agent'), ToolUsePrompt(output='{\"power\": true}', error=None, call_id='call_vyqrmw5oxfSHN7PZywyJpfH9', args='{\"instruction\": \"Power on the disco ball to create a dynamic and fun atmosphere.\"}', name='route_disco_ball_agent'), ToolUsePrompt(output='{\"genre\": \"pop\", \"volume\": 0.8, \"bpm\": 110, \"equalizer_settings\": {\"hz_100\": 6, \"hz_200\": 6, \"hz_400\": 0, \"hz_800\": 0, \"hz_1600\": 0, \"hz_3200\": 4, \"hz_6400\": 4}}', error=None, call_id='call_jdquRu3BZNYMixV1KidLj5hs', args='{\"instruction\": \"Start playing upbeat pop music, adjust the volume to an energetic level, and enhance the bass and treble using the equalizer settings.\"}', name='route_music_agent')]\u001b[0m\n",
      "\u001b[32m[2025-01-14 10:07:14]\u001b[0m \u001b[1mINFO | root: Generating text\u001b[0m\n",
      "\u001b[32m[2025-01-14 10:07:16]\u001b[0m \u001b[34m\u001b[1mDEBUG | Response: [ToolCallResponse(name='final_answer', args='{\"disco_ball\":{\"power\":true},\"music\":{\"genre\":\"pop\",\"volume\":0.8,\"bpm\":110,\"equalizer_settings\":{\"hz_100\":6,\"hz_200\":6,\"hz_400\":0,\"hz_800\":0,\"hz_1600\":0,\"hz_3200\":4,\"hz_6400\":4}},\"lights\":{\"brightness\":0.8}}', call_id='call_iM91YuK1DZBCDIeHzXUdkOJV')]\u001b[0m\n",
      "\u001b[32m[2025-01-14 10:07:16]\u001b[0m \u001b[1mINFO | Running tool: final_answer\u001b[0m\n",
      "\u001b[32m[2025-01-14 10:07:16]\u001b[0m \u001b[1mINFO | Tool: final_answer successfully ran.\u001b[0m\n",
      "\u001b[32m[2025-01-14 10:07:16]\u001b[0m \u001b[34m\u001b[1mDEBUG | Final result: [TextResponse(text='{\"disco_ball\": {\"power\": true}, \"music\": {\"genre\": \"pop\", \"volume\": 0.8, \"bpm\": 110, \"equalizer_settings\": {\"hz_100\": 6, \"hz_200\": 6, \"hz_400\": 0, \"hz_800\": 0, \"hz_1600\": 0, \"hz_3200\": 4, \"hz_6400\": 4}}, \"lights\": {\"brightness\": 0.8}}')]\u001b[0m\n"
     ]
    }
   ],
   "source": [
    "response = orchestrator.generate_text(prompt=prompt)"
   ]
  },
  {
   "cell_type": "code",
   "execution_count": 19,
   "metadata": {},
   "outputs": [
    {
     "data": {
      "text/plain": [
       "[('root',\n",
       "  Usage(model_name='gpt-4o-2024-11-20', prompt_tokens=2625, output_tokens=388)),\n",
       " ('lights_agent',\n",
       "  Usage(model_name='us.amazon.nova-lite-v1:0', prompt_tokens=1289, output_tokens=281)),\n",
       " ('music_control_agent',\n",
       "  Usage(model_name='gemini-1.5-flash-002', prompt_tokens=2285, output_tokens=213)),\n",
       " ('equalizer_control_agent',\n",
       "  Usage(model_name='gemini-1.5-flash-002', prompt_tokens=4957, output_tokens=359)),\n",
       " ('music_agent',\n",
       "  Usage(model_name='claude-3-5-sonnet-20240620', prompt_tokens=4088, output_tokens=608)),\n",
       " ('disco_ball_agent',\n",
       "  Usage(model_name='gpt-4o-2024-11-20', prompt_tokens=591, output_tokens=50))]"
      ]
     },
     "execution_count": 19,
     "metadata": {},
     "output_type": "execute_result"
    }
   ],
   "source": [
    "list(response.usage.items())"
   ]
  },
  {
   "cell_type": "code",
   "execution_count": 20,
   "metadata": {},
   "outputs": [
    {
     "name": "stdout",
     "output_type": "stream",
     "text": [
      "{\"disco_ball\": {\"power\": true}, \"music\": {\"genre\": \"pop\", \"volume\": 0.8, \"bpm\": 110, \"equalizer_settings\": {\"hz_100\": 6, \"hz_200\": 6, \"hz_400\": 0, \"hz_800\": 0, \"hz_1600\": 0, \"hz_3200\": 4, \"hz_6400\": 4}}, \"lights\": {\"brightness\": 0.8}}\n"
     ]
    }
   ],
   "source": [
    "print(response.contents[0].text)"
   ]
  },
  {
   "cell_type": "markdown",
   "metadata": {},
   "source": [
    "Validation response schema"
   ]
  },
  {
   "cell_type": "code",
   "execution_count": 21,
   "metadata": {},
   "outputs": [
    {
     "data": {
      "text/plain": [
       "{'disco_ball': {'power': True},\n",
       " 'music': {'genre': <MusicGenre.pop: 'pop'>,\n",
       "  'volume': 0.8,\n",
       "  'bpm': 110,\n",
       "  'equalizer_settings': {'hz_100': 6,\n",
       "   'hz_200': 6,\n",
       "   'hz_400': 0,\n",
       "   'hz_800': 0,\n",
       "   'hz_1600': 0,\n",
       "   'hz_3200': 4,\n",
       "   'hz_6400': 4}},\n",
       " 'lights': {'brightness': 0.8}}"
      ]
     },
     "execution_count": 21,
     "metadata": {},
     "output_type": "execute_result"
    }
   ],
   "source": [
    "valid_resposne = ResponseSchema.model_validate_json(response.contents[0].text)\n",
    "valid_resposne.model_dump()"
   ]
  },
  {
   "cell_type": "markdown",
   "metadata": {},
   "source": [
    "Top-level orchestrator and each sub-agent has own conversation memory."
   ]
  },
  {
   "cell_type": "code",
   "execution_count": 22,
   "metadata": {},
   "outputs": [
    {
     "data": {
      "text/plain": [
       "[[Prompt(type='Prompt', role='user', contents=[TextPrompt(text='Please make a concise plan to answer the following question/requirement, considering the conversation history.\\nYou can invoke the sub-agents or tools to answer the questions/requirements shown in the capabilities section.\\nAgent has no description while the tools have a description.\\n\\nQuestion/Requirement:\\nTurn this place into a lively party mood!\\n\\nCapabilities:\\n- lights_agent\\n  - turn_light_on: Turn the lights on.\\n  - adjust_lights: Adjust the brightness of the lights.\\n- disco_ball_agent\\n  - power_disco_ball: Powers the spinning dissco ball on or off.\\n- music_agent\\n  - music_control_agent\\n    - start_music: Start playing a random music with the given the genre.\\n    - change_music: Change the music.\\n    - change_music_volume: Change the music volume.\\n  - equalizer_control_agent\\n    - change_equalizer_settings: Change the equalizer settings of the music.\\n')], name=None),\n",
       "  Response(type='Response', role='assistant', contents=[TextResponse(text='### Plan to Turn the Place into a Lively Party Mood:\\n\\n1. **Lights**:\\n   - Turn the lights on using `turn_light_on`.\\n   - Adjust the brightness to a vibrant level using `adjust_lights`.\\n\\n2. **Disco Ball**:\\n   - Power on the disco ball using `power_disco_ball` to create a dynamic and fun atmosphere.\\n\\n3. **Music**:\\n   - Start playing upbeat party music by invoking `start_music` with a suitable genre like \"pop\" or \"dance\".\\n   - Adjust the music volume to an energetic level using `change_music_volume`.\\n   - Optionally, tweak the equalizer settings for enhanced bass and treble using `change_equalizer_settings`.\\n\\n4. **Coordination**:\\n   - Ensure all elements (lights, disco ball, and music) are synchronized to create a cohesive party vibe.')], usage=Usage(model_name=None, prompt_tokens=0, output_tokens=0), raw=None, name=None, is_last_chunk=None, prompt=None),\n",
       "  Prompt(type='Prompt', role='user', contents=[TextPrompt(text='Put the plan into action.')], name=None),\n",
       "  Response(type='Response', role='assistant', contents=[ToolCallResponse(name='route_lights_agent', args='{\"instruction\": \"Turn the lights on and adjust the brightness to a vibrant level suitable for a party.\"}', call_id='call_sOZnOTghjdzSbjQFeNQruoXN'), ToolCallResponse(name='route_disco_ball_agent', args='{\"instruction\": \"Power on the disco ball to create a dynamic and fun atmosphere.\"}', call_id='call_vyqrmw5oxfSHN7PZywyJpfH9'), ToolCallResponse(name='route_music_agent', args='{\"instruction\": \"Start playing upbeat pop music, adjust the volume to an energetic level, and enhance the bass and treble using the equalizer settings.\"}', call_id='call_jdquRu3BZNYMixV1KidLj5hs')], usage=Usage(model_name=None, prompt_tokens=0, output_tokens=0), raw=None, name=None, is_last_chunk=None, prompt=None),\n",
       "  Prompt(type='Prompt', role='user', contents=[ToolUsePrompt(output='{\"brightness\": 0.8}', error=None, call_id='call_sOZnOTghjdzSbjQFeNQruoXN', args='{\"instruction\": \"Turn the lights on and adjust the brightness to a vibrant level suitable for a party.\"}', name='route_lights_agent'), ToolUsePrompt(output='{\"power\": true}', error=None, call_id='call_vyqrmw5oxfSHN7PZywyJpfH9', args='{\"instruction\": \"Power on the disco ball to create a dynamic and fun atmosphere.\"}', name='route_disco_ball_agent'), ToolUsePrompt(output='{\"genre\": \"pop\", \"volume\": 0.8, \"bpm\": 110, \"equalizer_settings\": {\"hz_100\": 6, \"hz_200\": 6, \"hz_400\": 0, \"hz_800\": 0, \"hz_1600\": 0, \"hz_3200\": 4, \"hz_6400\": 4}}', error=None, call_id='call_jdquRu3BZNYMixV1KidLj5hs', args='{\"instruction\": \"Start playing upbeat pop music, adjust the volume to an energetic level, and enhance the bass and treble using the equalizer settings.\"}', name='route_music_agent')], name=None),\n",
       "  Response(type='Response', role='assistant', contents=[ToolCallResponse(name='final_answer', args='{\"disco_ball\":{\"power\":true},\"music\":{\"genre\":\"pop\",\"volume\":0.8,\"bpm\":110,\"equalizer_settings\":{\"hz_100\":6,\"hz_200\":6,\"hz_400\":0,\"hz_800\":0,\"hz_1600\":0,\"hz_3200\":4,\"hz_6400\":4}},\"lights\":{\"brightness\":0.8}}', call_id='call_iM91YuK1DZBCDIeHzXUdkOJV')], usage=Usage(model_name=None, prompt_tokens=0, output_tokens=0), raw=None, name=None, is_last_chunk=None, prompt=None),\n",
       "  Prompt(type='Prompt', role='user', contents=[ToolUsePrompt(output='{\"disco_ball\": {\"power\": true}, \"music\": {\"genre\": \"pop\", \"volume\": 0.8, \"bpm\": 110, \"equalizer_settings\": {\"hz_100\": 6, \"hz_200\": 6, \"hz_400\": 0, \"hz_800\": 0, \"hz_1600\": 0, \"hz_3200\": 4, \"hz_6400\": 4}}, \"lights\": {\"brightness\": 0.8}}', error=None, call_id='call_iM91YuK1DZBCDIeHzXUdkOJV', args='{\"disco_ball\":{\"power\":true},\"music\":{\"genre\":\"pop\",\"volume\":0.8,\"bpm\":110,\"equalizer_settings\":{\"hz_100\":6,\"hz_200\":6,\"hz_400\":0,\"hz_800\":0,\"hz_1600\":0,\"hz_3200\":4,\"hz_6400\":4}},\"lights\":{\"brightness\":0.8}}', name='final_answer')], name=None),\n",
       "  Response(type='Response', role='assistant', contents=[TextResponse(text='{\"disco_ball\": {\"power\": true}, \"music\": {\"genre\": \"pop\", \"volume\": 0.8, \"bpm\": 110, \"equalizer_settings\": {\"hz_100\": 6, \"hz_200\": 6, \"hz_400\": 0, \"hz_800\": 0, \"hz_1600\": 0, \"hz_3200\": 4, \"hz_6400\": 4}}, \"lights\": {\"brightness\": 0.8}}')], usage=Usage(model_name=None, prompt_tokens=0, output_tokens=0), raw=None, name=None, is_last_chunk=None, prompt=None)]]"
      ]
     },
     "execution_count": 22,
     "metadata": {},
     "output_type": "execute_result"
    }
   ],
   "source": [
    "orchestrator.load_history()"
   ]
  },
  {
   "cell_type": "markdown",
   "metadata": {},
   "source": [
    "Conversation memory of sub-agent"
   ]
  },
  {
   "cell_type": "code",
   "execution_count": 23,
   "metadata": {},
   "outputs": [
    {
     "data": {
      "text/plain": [
       "Agent(name=music_agent)"
      ]
     },
     "execution_count": 23,
     "metadata": {},
     "output_type": "execute_result"
    }
   ],
   "source": [
    "orchestrator.subagents[2]"
   ]
  },
  {
   "cell_type": "code",
   "execution_count": 24,
   "metadata": {},
   "outputs": [
    {
     "data": {
      "text/plain": [
       "[[Prompt(type='Prompt', role='user', contents=[TextPrompt(text='Start playing upbeat pop music, adjust the volume to an energetic level, and enhance the bass and treble using the equalizer settings.')], name=None),\n",
       "  Response(type='Response', role='assistant', contents=[TextResponse(text=\"Certainly! I'll start playing upbeat pop music, adjust the volume to an energetic level, and enhance the bass and treble using the equalizer settings. To accomplish this, I'll need to use multiple tools. Let's break it down step by step:\\n\\n1. Start playing upbeat pop music\\n2. Adjust the volume to an energetic level\\n3. Enhance the bass and treble using the equalizer settings\\n\\nLet's start with the first two steps:\"), ToolCallResponse(name='route_music_control_agent', args='{\"instruction\": \"Start playing upbeat pop music and set the volume to an energetic level. For pop music, let\\'s set the volume to 0.8, which is quite energetic without being too loud. Also, for upbeat pop, let\\'s aim for a BPM around 120-130.\"}', call_id='toolu_012QNQnhCAv9YSUoCm37wHD8')], usage=Usage(model_name=None, prompt_tokens=0, output_tokens=0), raw=None, name='music_agent', is_last_chunk=None, prompt=None),\n",
       "  Prompt(type='Prompt', role='user', contents=[ToolUsePrompt(output='{\"bpm\": 110, \"genre\": \"pop\", \"volume\": 0.8}', error=None, call_id='toolu_012QNQnhCAv9YSUoCm37wHD8', args='{\"instruction\": \"Start playing upbeat pop music and set the volume to an energetic level. For pop music, let\\'s set the volume to 0.8, which is quite energetic without being too loud. Also, for upbeat pop, let\\'s aim for a BPM around 120-130.\"}', name='route_music_control_agent')], name=None),\n",
       "  Response(type='Response', role='assistant', contents=[TextResponse(text=\"Great! The music has started playing. Now, let's enhance the bass and treble using the equalizer settings:\"), ToolCallResponse(name='route_equalizer_control_agent', args='{\"instruction\": \"Enhance the bass and treble for the pop music. Increase the low frequencies (100 Hz and 200 Hz) by 6 dB each for more bass. Increase the high frequencies (3200 Hz and 6400 Hz) by 4 dB each for enhanced treble. Keep the mid-range frequencies (400 Hz, 800 Hz, and 1600 Hz) at 0 dB for a balanced sound.\"}', call_id='toolu_01MH6avGLbvrPqFeU1Ygj9mh')], usage=Usage(model_name=None, prompt_tokens=0, output_tokens=0), raw=None, name='music_agent', is_last_chunk=None, prompt=None),\n",
       "  Prompt(type='Prompt', role='user', contents=[ToolUsePrompt(output='{\"hz_6400\": 4, \"hz_400\": 0, \"hz_3200\": 4, \"hz_200\": 6, \"hz_800\": 0, \"hz_100\": 6, \"hz_1600\": 0}', error=None, call_id='toolu_01MH6avGLbvrPqFeU1Ygj9mh', args='{\"instruction\": \"Enhance the bass and treble for the pop music. Increase the low frequencies (100 Hz and 200 Hz) by 6 dB each for more bass. Increase the high frequencies (3200 Hz and 6400 Hz) by 4 dB each for enhanced treble. Keep the mid-range frequencies (400 Hz, 800 Hz, and 1600 Hz) at 0 dB for a balanced sound.\"}', name='route_equalizer_control_agent')], name=None),\n",
       "  Response(type='Response', role='assistant', contents=[TextResponse(text=\"Excellent! Now that we have all the information, let's provide the final answer:\"), ToolCallResponse(name='final_answer', args='{\"genre\": \"pop\", \"volume\": 0.8, \"bpm\": 110, \"equalizer_settings\": {\"hz_100\": 6, \"hz_200\": 6, \"hz_400\": 0, \"hz_800\": 0, \"hz_1600\": 0, \"hz_3200\": 4, \"hz_6400\": 4}}', call_id='toolu_015GhL3hikqhFRFBvaCFB73V')], usage=Usage(model_name=None, prompt_tokens=0, output_tokens=0), raw=None, name='music_agent', is_last_chunk=None, prompt=None),\n",
       "  Prompt(type='Prompt', role='user', contents=[ToolUsePrompt(output='{\"genre\": \"pop\", \"volume\": 0.8, \"bpm\": 110, \"equalizer_settings\": {\"hz_100\": 6, \"hz_200\": 6, \"hz_400\": 0, \"hz_800\": 0, \"hz_1600\": 0, \"hz_3200\": 4, \"hz_6400\": 4}}', error=None, call_id='toolu_015GhL3hikqhFRFBvaCFB73V', args='{\"genre\": \"pop\", \"volume\": 0.8, \"bpm\": 110, \"equalizer_settings\": {\"hz_100\": 6, \"hz_200\": 6, \"hz_400\": 0, \"hz_800\": 0, \"hz_1600\": 0, \"hz_3200\": 4, \"hz_6400\": 4}}', name='final_answer')], name=None),\n",
       "  Response(type='Response', role='assistant', contents=[TextResponse(text='{\"genre\": \"pop\", \"volume\": 0.8, \"bpm\": 110, \"equalizer_settings\": {\"hz_100\": 6, \"hz_200\": 6, \"hz_400\": 0, \"hz_800\": 0, \"hz_1600\": 0, \"hz_3200\": 4, \"hz_6400\": 4}}')], usage=Usage(model_name=None, prompt_tokens=0, output_tokens=0), raw=None, name='music_agent', is_last_chunk=None, prompt=None)]]"
      ]
     },
     "execution_count": 24,
     "metadata": {},
     "output_type": "execute_result"
    }
   ],
   "source": [
    "orchestrator.subagents[2].load_history()"
   ]
  },
  {
   "cell_type": "code",
   "execution_count": 25,
   "metadata": {},
   "outputs": [
    {
     "data": {
      "text/plain": [
       "Agent(name=music_control_agent)"
      ]
     },
     "execution_count": 25,
     "metadata": {},
     "output_type": "execute_result"
    }
   ],
   "source": [
    "orchestrator.subagents[2].subagents[0]"
   ]
  },
  {
   "cell_type": "code",
   "execution_count": 26,
   "metadata": {},
   "outputs": [
    {
     "data": {
      "text/plain": [
       "[[Prompt(type='Prompt', role='user', contents=[TextPrompt(text=\"Please make a concise plan to answer the following question/requirement, considering the conversation history.\\nYou can invoke the sub-agents or tools to answer the questions/requirements shown in the capabilities section.\\nAgent has no description while the tools have a description.\\n\\nQuestion/Requirement:\\nStart playing upbeat pop music and set the volume to an energetic level. For pop music, let's set the volume to 0.8, which is quite energetic without being too loud. Also, for upbeat pop, let's aim for a BPM around 120-130.\\n\\nCapabilities:\\n- start_music: Start playing a random music with the given the genre.\\n- change_music: Change the music.\\n- change_music_volume: Change the music volume.\\n\")], name=None),\n",
       "  Response(type='Response', role='assistant', contents=[TextResponse(text='Plan:\\n\\n1. **Use `start_music`:**  Invoke `start_music` with the genre \"upbeat pop\".  This will initiate music playback.\\n2. **Use `change_music_volume`:** Invoke `change_music_volume` with a volume level of 0.8. This sets the desired energetic volume.  (Note:  The BPM requirement is not directly addressable by the given tools.)')], usage=Usage(model_name=None, prompt_tokens=0, output_tokens=0), raw=None, name='music_control_agent', is_last_chunk=None, prompt=None),\n",
       "  Prompt(type='Prompt', role='user', contents=[TextPrompt(text='Put the plan into action.')], name=None),\n",
       "  Response(type='Response', role='assistant', contents=[ToolCallResponse(name='start_music', args='{\"genre\": \"pop\"}', call_id='df6jRaAgniCmv4nFC1G8s2Lm'), ToolCallResponse(name='change_music_volume', args='{\"volume\": 0.8}', call_id='SyyZYo4hiJj7eVrHLeYWJl6M')], usage=Usage(model_name=None, prompt_tokens=0, output_tokens=0), raw=None, name='music_control_agent', is_last_chunk=None, prompt=None),\n",
       "  Prompt(type='Prompt', role='user', contents=[ToolUsePrompt(output='Starting music! Genre: pop, Volume: 0.2856745598731919, BPM: 110', error=None, call_id='df6jRaAgniCmv4nFC1G8s2Lm', args='{\"genre\": \"pop\"}', name='start_music'), ToolUsePrompt(output='Changing volume to 0.8', error=None, call_id='SyyZYo4hiJj7eVrHLeYWJl6M', args='{\"volume\": 0.8}', name='change_music_volume')], name=None),\n",
       "  Response(type='Response', role='assistant', contents=[TextResponse(text=\"Okay, I've started playing pop music and set the volume to 0.8.  Note that the initial BPM was 110, not within the 120-130 range requested, as the available tools don't allow direct BPM control.\")], usage=Usage(model_name=None, prompt_tokens=0, output_tokens=0), raw=None, name='music_control_agent', is_last_chunk=None, prompt=None),\n",
       "  Prompt(type='Prompt', role='user', contents=[TextPrompt(text=\"Decide the next action based on the conversation. If you have all information for answering the user, run 'final_result' tool. If you need more information, invoke other tool to get necessary information. \")], name=None),\n",
       "  Response(type='Response', role='assistant', contents=[TextResponse(text=\"I believe I have enough information to provide a final answer.  While the BPM isn't exactly what was requested, I can report the current state.  I will use the `final_answer` tool.\"), ToolCallResponse(name='final_answer', args='{\"bpm\": 110, \"genre\": \"pop\", \"volume\": 0.8}', call_id='jHny5EMtpWO7vtP86v2qyYjZ')], usage=Usage(model_name=None, prompt_tokens=0, output_tokens=0), raw=None, name='music_control_agent', is_last_chunk=None, prompt=None),\n",
       "  Prompt(type='Prompt', role='user', contents=[ToolUsePrompt(output='{\"bpm\": 110, \"genre\": \"pop\", \"volume\": 0.8}', error=None, call_id='jHny5EMtpWO7vtP86v2qyYjZ', args='{\"bpm\": 110, \"genre\": \"pop\", \"volume\": 0.8}', name='final_answer')], name=None),\n",
       "  Response(type='Response', role='assistant', contents=[TextResponse(text='{\"bpm\": 110, \"genre\": \"pop\", \"volume\": 0.8}')], usage=Usage(model_name=None, prompt_tokens=0, output_tokens=0), raw=None, name='music_control_agent', is_last_chunk=None, prompt=None)]]"
      ]
     },
     "execution_count": 26,
     "metadata": {},
     "output_type": "execute_result"
    }
   ],
   "source": [
    "orchestrator.subagents[2].subagents[0].load_history()"
   ]
  },
  {
   "cell_type": "markdown",
   "metadata": {},
   "source": [
    "Those final answers within each agent are regarded as the state in the agent. If necessary, also you can inject the custom context into tools as mentioned in [./02.tool_calling_and_dependency_injection.ipynb](./02.tool_calling_and_dependency_injection.ipynb), so please select more preferable way."
   ]
  },
  {
   "cell_type": "markdown",
   "metadata": {},
   "source": [
    "Next turn prompt"
   ]
  },
  {
   "cell_type": "code",
   "execution_count": 27,
   "metadata": {},
   "outputs": [
    {
     "name": "stderr",
     "output_type": "stream",
     "text": [
      "\u001b[32m[2025-01-14 10:07:17]\u001b[0m \u001b[34m\u001b[1mDEBUG | Prompt: [TextPrompt(text='Please make a concise plan to answer the following question/requirement, considering the conversation history.\\nYou can invoke the sub-agents or tools to answer the questions/requirements shown in the capabilities section.\\nAgent has no description while the tools have a description.\\n\\nQuestion/Requirement:\\nNext, please make a calm atmosphere with a jazz music.\\n\\nCapabilities:\\n- lights_agent\\n  - turn_light_on: Turn the lights on.\\n  - adjust_lights: Adjust the brightness of the lights.\\n- disco_ball_agent\\n  - power_disco_ball: Powers the spinning dissco ball on or off.\\n- music_agent\\n  - music_control_agent\\n    - start_music: Start playing a random music with the given the genre.\\n    - change_music: Change the music.\\n    - change_music_volume: Change the music volume.\\n  - equalizer_control_agent\\n    - change_equalizer_settings: Change the equalizer settings of the music.\\n')]\u001b[0m\n",
      "\u001b[32m[2025-01-14 10:07:17]\u001b[0m \u001b[1mINFO | root: Generating text\u001b[0m\n",
      "\u001b[32m[2025-01-14 10:07:19]\u001b[0m \u001b[34m\u001b[1mDEBUG | Response: [TextResponse(text='### Plan to Create a Calm Atmosphere with Jazz Music:\\n\\n1. **Lights**:\\n   - Adjust the brightness of the lights to a soft, dim level using `adjust_lights` to create a relaxing ambiance.\\n\\n2. **Disco Ball**:\\n   - Power off the disco ball using `power_disco_ball` to avoid any dynamic or distracting effects.\\n\\n3. **Music**:\\n   - Start playing soothing jazz music by invoking `start_music` with the genre \"jazz\".\\n   - Lower the music volume to a calm and comfortable level using `change_music_volume`.\\n   - Optionally, adjust the equalizer settings to emphasize mid-range frequencies for a warm and mellow sound using `change_equalizer_settings`.\\n\\n4. **Coordination**:\\n   - Ensure all elements (lights, disco ball, and music) are harmonized to create a serene and calming atmosphere.')]\u001b[0m\n",
      "\u001b[32m[2025-01-14 10:07:19]\u001b[0m \u001b[34m\u001b[1mDEBUG | Prompt: [TextPrompt(text='Put the plan into action.')]\u001b[0m\n",
      "\u001b[32m[2025-01-14 10:07:19]\u001b[0m \u001b[1mINFO | root: Generating text\u001b[0m\n",
      "\u001b[32m[2025-01-14 10:07:21]\u001b[0m \u001b[34m\u001b[1mDEBUG | Response: [ToolCallResponse(name='route_lights_agent', args='\"{\\\\\"instruction\\\\\": \\\\\"Adjust the brightness of the lights to a soft, dim level suitable for a calm atmosphere.\\\\\"}\"', call_id='call_ymt51FCGriI9jDp6xIS2FGEm'), ToolCallResponse(name='route_disco_ball_agent', args='\"{\\\\\"instruction\\\\\": \\\\\"Power off the disco ball to avoid dynamic effects.\\\\\"}\"', call_id='call_39gZtkZsFhJ9bFkeHD8Oo28q'), ToolCallResponse(name='route_music_agent', args='\"{\\\\\"instruction\\\\\": \\\\\"Start playing soothing jazz music, lower the volume to a calm level, and adjust the equalizer settings to emphasize mid-range frequencies for a warm sound.\\\\\"}\"', call_id='call_0dXbn1wUcROEGeZB0DoDJCfq')]\u001b[0m\n",
      "\u001b[32m[2025-01-14 10:07:21]\u001b[0m \u001b[1mINFO | Running tool: route_lights_agent\u001b[0m\n",
      "\u001b[32m[2025-01-14 10:07:21]\u001b[0m \u001b[31m\u001b[1mERROR | Error occurred while running tool: route_lights_agent. Retrying...\n",
      "Input value: \"{\\\"instruction\\\": \\\"Adjust the brightness of the lights to a soft, dim level suitable for a calm atmosphere.\\\"}\"\n",
      "TypeError: 'str' object is not a mapping\u001b[0m\n",
      "\u001b[32m[2025-01-14 10:07:21]\u001b[0m \u001b[1mINFO | Running tool: route_disco_ball_agent\u001b[0m\n",
      "\u001b[32m[2025-01-14 10:07:21]\u001b[0m \u001b[31m\u001b[1mERROR | Error occurred while running tool: route_disco_ball_agent. Retrying...\n",
      "Input value: \"{\\\"instruction\\\": \\\"Power off the disco ball to avoid dynamic effects.\\\"}\"\n",
      "TypeError: 'str' object is not a mapping\u001b[0m\n",
      "\u001b[32m[2025-01-14 10:07:21]\u001b[0m \u001b[1mINFO | Running tool: route_music_agent\u001b[0m\n",
      "\u001b[32m[2025-01-14 10:07:21]\u001b[0m \u001b[31m\u001b[1mERROR | Error occurred while running tool: route_music_agent. Retrying...\n",
      "Input value: \"{\\\"instruction\\\": \\\"Start playing soothing jazz music, lower the volume to a calm level, and adjust the equalizer settings to emphasize mid-range frequencies for a warm sound.\\\"}\"\n",
      "TypeError: 'str' object is not a mapping\u001b[0m\n",
      "\u001b[32m[2025-01-14 10:07:21]\u001b[0m \u001b[34m\u001b[1mDEBUG | Prompt: [ToolUsePrompt(output=None, error='Error occurred while running tool: route_lights_agent. Retrying...\\nInput value: \"{\\\\\"instruction\\\\\": \\\\\"Adjust the brightness of the lights to a soft, dim level suitable for a calm atmosphere.\\\\\"}\"\\nTypeError: \\'str\\' object is not a mapping', call_id='call_ymt51FCGriI9jDp6xIS2FGEm', args='\"{\\\\\"instruction\\\\\": \\\\\"Adjust the brightness of the lights to a soft, dim level suitable for a calm atmosphere.\\\\\"}\"', name='route_lights_agent'), ToolUsePrompt(output=None, error='Error occurred while running tool: route_disco_ball_agent. Retrying...\\nInput value: \"{\\\\\"instruction\\\\\": \\\\\"Power off the disco ball to avoid dynamic effects.\\\\\"}\"\\nTypeError: \\'str\\' object is not a mapping', call_id='call_39gZtkZsFhJ9bFkeHD8Oo28q', args='\"{\\\\\"instruction\\\\\": \\\\\"Power off the disco ball to avoid dynamic effects.\\\\\"}\"', name='route_disco_ball_agent'), ToolUsePrompt(output=None, error='Error occurred while running tool: route_music_agent. Retrying...\\nInput value: \"{\\\\\"instruction\\\\\": \\\\\"Start playing soothing jazz music, lower the volume to a calm level, and adjust the equalizer settings to emphasize mid-range frequencies for a warm sound.\\\\\"}\"\\nTypeError: \\'str\\' object is not a mapping', call_id='call_0dXbn1wUcROEGeZB0DoDJCfq', args='\"{\\\\\"instruction\\\\\": \\\\\"Start playing soothing jazz music, lower the volume to a calm level, and adjust the equalizer settings to emphasize mid-range frequencies for a warm sound.\\\\\"}\"', name='route_music_agent'), TextPrompt(text='Please fix the error on tool use. If the validation error is raised, reflect the conversation history and try to find the correct answer. If there is no fact to answer the user, try to run other tools to get necessary information. ')]\u001b[0m\n",
      "\u001b[32m[2025-01-14 10:07:21]\u001b[0m \u001b[1mINFO | root: Generating text\u001b[0m\n",
      "\u001b[32m[2025-01-14 10:07:22]\u001b[0m \u001b[34m\u001b[1mDEBUG | Response: [ToolCallResponse(name='route_lights_agent', args='{\"instruction\": \"Adjust the brightness of the lights to a soft, dim level suitable for a calm atmosphere.\"}', call_id='call_mVjZ0AsIH6ezrVNSboaRnfiN'), ToolCallResponse(name='route_disco_ball_agent', args='{\"instruction\": \"Power off the disco ball to avoid dynamic effects.\"}', call_id='call_abOccZdqgJgJyMC3FQ8XQf6h'), ToolCallResponse(name='route_music_agent', args='{\"instruction\": \"Start playing soothing jazz music, lower the volume to a calm level, and adjust the equalizer settings to emphasize mid-range frequencies for a warm sound.\"}', call_id='call_VI5w0q1NVZEeYb2VPEubr1CH')]\u001b[0m\n",
      "\u001b[32m[2025-01-14 10:07:22]\u001b[0m \u001b[1mINFO | Running tool: route_lights_agent\u001b[0m\n",
      "\u001b[32m[2025-01-14 10:07:22]\u001b[0m \u001b[34m\u001b[1mDEBUG | Prompt: [TextPrompt(text='Adjust the brightness of the lights to a soft, dim level suitable for a calm atmosphere.')]\u001b[0m\n",
      "\u001b[32m[2025-01-14 10:07:22]\u001b[0m \u001b[1mINFO | lights_agent: Generating text\u001b[0m\n",
      "\u001b[32m[2025-01-14 10:07:23]\u001b[0m \u001b[34m\u001b[1mDEBUG | Response: [TextResponse(text='<thinking>The User wants to adjust the brightness of the lights to a soft, dim level suitable for a calm atmosphere. I will assume a dim level to be around 0.2.</thinking> '), ToolCallResponse(name='adjust_lights', args='{\"brightness\": 0.2}', call_id='tooluse_zMsQ9FLfSYe054MXzJ0seA')]\u001b[0m\n",
      "\u001b[32m[2025-01-14 10:07:23]\u001b[0m \u001b[1mINFO | Running tool: adjust_lights\u001b[0m\n",
      "\u001b[32m[2025-01-14 10:07:23]\u001b[0m \u001b[1mINFO | Tool: adjust_lights successfully ran.\u001b[0m\n",
      "\u001b[32m[2025-01-14 10:07:23]\u001b[0m \u001b[34m\u001b[1mDEBUG | Prompt: [ToolUsePrompt(output='Lights are now set to 0.2', error=None, call_id='tooluse_zMsQ9FLfSYe054MXzJ0seA', args='{\"brightness\": 0.2}', name='adjust_lights')]\u001b[0m\n",
      "\u001b[32m[2025-01-14 10:07:23]\u001b[0m \u001b[1mINFO | lights_agent: Generating text\u001b[0m\n",
      "\u001b[32m[2025-01-14 10:07:24]\u001b[0m \u001b[34m\u001b[1mDEBUG | Response: [TextResponse(text='<thinking>The brightness of the lights has been successfully adjusted to a soft, dim level of 0.2, which is suitable for a calm atmosphere.</thinking> '), ToolCallResponse(name='final_answer', args='{\"brightness\": 0.2}', call_id='tooluse_sjOh1Bv-RGKQXlUftQzTyA')]\u001b[0m\n",
      "\u001b[32m[2025-01-14 10:07:24]\u001b[0m \u001b[1mINFO | Running tool: final_answer\u001b[0m\n",
      "\u001b[32m[2025-01-14 10:07:24]\u001b[0m \u001b[1mINFO | Tool: final_answer successfully ran.\u001b[0m\n",
      "\u001b[32m[2025-01-14 10:07:24]\u001b[0m \u001b[34m\u001b[1mDEBUG | Final result: [TextResponse(text='{\"brightness\": 0.2}')]\u001b[0m\n",
      "\u001b[32m[2025-01-14 10:07:24]\u001b[0m \u001b[1mINFO | Tool: route_lights_agent successfully ran.\u001b[0m\n",
      "\u001b[32m[2025-01-14 10:07:24]\u001b[0m \u001b[1mINFO | Running tool: route_disco_ball_agent\u001b[0m\n",
      "\u001b[32m[2025-01-14 10:07:24]\u001b[0m \u001b[34m\u001b[1mDEBUG | Prompt: [TextPrompt(text='Power off the disco ball to avoid dynamic effects.')]\u001b[0m\n",
      "\u001b[32m[2025-01-14 10:07:24]\u001b[0m \u001b[1mINFO | disco_ball_agent: Generating text\u001b[0m\n",
      "\u001b[32m[2025-01-14 10:07:25]\u001b[0m \u001b[34m\u001b[1mDEBUG | Response: [ToolCallResponse(name='power_disco_ball', args='{\"power\":false}', call_id='call_A00ieSAoXLxtDSbkEm2MEyeM')]\u001b[0m\n",
      "\u001b[32m[2025-01-14 10:07:25]\u001b[0m \u001b[1mINFO | Running tool: power_disco_ball\u001b[0m\n",
      "\u001b[32m[2025-01-14 10:07:25]\u001b[0m \u001b[1mINFO | Tool: power_disco_ball successfully ran.\u001b[0m\n",
      "\u001b[32m[2025-01-14 10:07:25]\u001b[0m \u001b[34m\u001b[1mDEBUG | Prompt: [ToolUsePrompt(output='Disco ball is stopped.', error=None, call_id='call_A00ieSAoXLxtDSbkEm2MEyeM', args='{\"power\":false}', name='power_disco_ball')]\u001b[0m\n",
      "\u001b[32m[2025-01-14 10:07:25]\u001b[0m \u001b[1mINFO | disco_ball_agent: Generating text\u001b[0m\n",
      "\u001b[32m[2025-01-14 10:07:26]\u001b[0m \u001b[34m\u001b[1mDEBUG | Response: [TextResponse(text='The disco ball has been powered off to avoid dynamic effects.')]\u001b[0m\n",
      "\u001b[32m[2025-01-14 10:07:26]\u001b[0m \u001b[34m\u001b[1mDEBUG | Prompt: [TextPrompt(text=\"Decide the next action based on the conversation. If you have all information for answering the user, run 'final_result' tool. If you need more information, invoke other tool to get necessary information. \")]\u001b[0m\n",
      "\u001b[32m[2025-01-14 10:07:26]\u001b[0m \u001b[1mINFO | disco_ball_agent: Generating text\u001b[0m\n",
      "\u001b[32m[2025-01-14 10:07:26]\u001b[0m \u001b[34m\u001b[1mDEBUG | Response: [ToolCallResponse(name='final_answer', args='{\"power\":false}', call_id='call_dajyy7W3HNaRl31aYfhL0V45')]\u001b[0m\n",
      "\u001b[32m[2025-01-14 10:07:26]\u001b[0m \u001b[1mINFO | Running tool: final_answer\u001b[0m\n",
      "\u001b[32m[2025-01-14 10:07:26]\u001b[0m \u001b[1mINFO | Tool: final_answer successfully ran.\u001b[0m\n",
      "\u001b[32m[2025-01-14 10:07:26]\u001b[0m \u001b[34m\u001b[1mDEBUG | Final result: [TextResponse(text='{\"power\": false}')]\u001b[0m\n",
      "\u001b[32m[2025-01-14 10:07:26]\u001b[0m \u001b[1mINFO | Tool: route_disco_ball_agent successfully ran.\u001b[0m\n",
      "\u001b[32m[2025-01-14 10:07:26]\u001b[0m \u001b[1mINFO | Running tool: route_music_agent\u001b[0m\n",
      "\u001b[32m[2025-01-14 10:07:26]\u001b[0m \u001b[34m\u001b[1mDEBUG | Prompt: [TextPrompt(text='Start playing soothing jazz music, lower the volume to a calm level, and adjust the equalizer settings to emphasize mid-range frequencies for a warm sound.')]\u001b[0m\n",
      "\u001b[32m[2025-01-14 10:07:26]\u001b[0m \u001b[1mINFO | music_agent: Generating text\u001b[0m\n",
      "\u001b[32m[2025-01-14 10:07:29]\u001b[0m \u001b[34m\u001b[1mDEBUG | Response: [TextResponse(text=\"Certainly! I'll start playing soothing jazz music, lower the volume to a calm level, and adjust the equalizer settings to emphasize mid-range frequencies for a warm sound. Let's break this down into steps:\\n\\n1. Start playing soothing jazz music\\n2. Lower the volume to a calm level\\n3. Adjust the equalizer settings to emphasize mid-range frequencies\\n\\nLet's begin with the first two steps:\"), ToolCallResponse(name='route_music_control_agent', args='{\"instruction\": \"Start playing soothing jazz music and set the volume to a calm level. For soothing jazz, let\\'s set the volume to 0.4, which is quiet enough to be calming but still audible. For soothing jazz, aim for a slower tempo, around 70-90 BPM.\"}', call_id='toolu_01GeAHQsoLFoexppCREmGQ3V')]\u001b[0m\n",
      "\u001b[32m[2025-01-14 10:07:29]\u001b[0m \u001b[1mINFO | Running tool: route_music_control_agent\u001b[0m\n",
      "\u001b[32m[2025-01-14 10:07:29]\u001b[0m \u001b[34m\u001b[1mDEBUG | Prompt: [TextPrompt(text=\"Please make a concise plan to answer the following question/requirement, considering the conversation history.\\nYou can invoke the sub-agents or tools to answer the questions/requirements shown in the capabilities section.\\nAgent has no description while the tools have a description.\\n\\nQuestion/Requirement:\\nStart playing soothing jazz music and set the volume to a calm level. For soothing jazz, let's set the volume to 0.4, which is quiet enough to be calming but still audible. For soothing jazz, aim for a slower tempo, around 70-90 BPM.\\n\\nCapabilities:\\n- start_music: Start playing a random music with the given the genre.\\n- change_music: Change the music.\\n- change_music_volume: Change the music volume.\\n\")]\u001b[0m\n",
      "\u001b[32m[2025-01-14 10:07:29]\u001b[0m \u001b[1mINFO | music_control_agent: Generating text\u001b[0m\n",
      "\u001b[32m[2025-01-14 10:07:31]\u001b[0m \u001b[34m\u001b[1mDEBUG | Response: [TextResponse(text='Plan:\\n\\n1. **Use `start_music`:** Invoke `start_music` with the genre \"soothing jazz\". This will initiate music playback.\\n2. **Use `change_music_volume`:** Invoke `change_music_volume` with a volume level of 0.4. This sets the desired calm volume. (Note:  As before, the BPM requirement is not directly controllable by the tools.)')]\u001b[0m\n",
      "\u001b[32m[2025-01-14 10:07:31]\u001b[0m \u001b[34m\u001b[1mDEBUG | Prompt: [TextPrompt(text='Put the plan into action.')]\u001b[0m\n",
      "\u001b[32m[2025-01-14 10:07:31]\u001b[0m \u001b[1mINFO | music_control_agent: Generating text\u001b[0m\n",
      "\u001b[32m[2025-01-14 10:07:32]\u001b[0m \u001b[34m\u001b[1mDEBUG | Response: [ToolCallResponse(name='start_music', args='{\"genre\": \"jazz\"}', call_id='JhRv3HhpznPcUNEnUSKa7aaY'), ToolCallResponse(name='change_music_volume', args='{\"volume\": 0.4}', call_id='dFRvSXaJZqQeSFoWXfbNrMAQ')]\u001b[0m\n",
      "\u001b[32m[2025-01-14 10:07:32]\u001b[0m \u001b[1mINFO | Running tool: start_music\u001b[0m\n",
      "\u001b[32m[2025-01-14 10:07:32]\u001b[0m \u001b[1mINFO | Tool: start_music successfully ran.\u001b[0m\n",
      "\u001b[32m[2025-01-14 10:07:32]\u001b[0m \u001b[1mINFO | Running tool: change_music_volume\u001b[0m\n",
      "\u001b[32m[2025-01-14 10:07:32]\u001b[0m \u001b[1mINFO | Tool: change_music_volume successfully ran.\u001b[0m\n",
      "\u001b[32m[2025-01-14 10:07:32]\u001b[0m \u001b[34m\u001b[1mDEBUG | Prompt: [ToolUsePrompt(output='Starting music! Genre: jazz, Volume: 0.597250928971378, BPM: 120', error=None, call_id='JhRv3HhpznPcUNEnUSKa7aaY', args='{\"genre\": \"jazz\"}', name='start_music'), ToolUsePrompt(output='Changing volume to 0.4', error=None, call_id='dFRvSXaJZqQeSFoWXfbNrMAQ', args='{\"volume\": 0.4}', name='change_music_volume')]\u001b[0m\n",
      "\u001b[32m[2025-01-14 10:07:32]\u001b[0m \u001b[1mINFO | music_control_agent: Generating text\u001b[0m\n",
      "\u001b[32m[2025-01-14 10:07:33]\u001b[0m \u001b[34m\u001b[1mDEBUG | Response: [TextResponse(text=\"Okay, I've started playing jazz music and set the volume to 0.4. The initial BPM is 120, which is outside the desired 70-90 BPM range for soothing jazz, because direct BPM control is not possible with the available tools.\")]\u001b[0m\n",
      "\u001b[32m[2025-01-14 10:07:33]\u001b[0m \u001b[34m\u001b[1mDEBUG | Prompt: [TextPrompt(text=\"Decide the next action based on the conversation. If you have all information for answering the user, run 'final_result' tool. If you need more information, invoke other tool to get necessary information. \")]\u001b[0m\n",
      "\u001b[32m[2025-01-14 10:07:33]\u001b[0m \u001b[1mINFO | music_control_agent: Generating text\u001b[0m\n",
      "\u001b[32m[2025-01-14 10:07:35]\u001b[0m \u001b[34m\u001b[1mDEBUG | Response: [TextResponse(text='I have enough information to provide a final answer summarizing the current music playback. I will use the `final_answer` tool.  Note that the BPM will reflect the initial BPM from `start_music`, not the desired range.'), ToolCallResponse(name='final_answer', args='{\"bpm\": 120, \"volume\": 0.4, \"genre\": \"jazz\"}', call_id='0jQLtq13UbS50Jg0usJEdrE2')]\u001b[0m\n",
      "\u001b[32m[2025-01-14 10:07:35]\u001b[0m \u001b[1mINFO | Running tool: final_answer\u001b[0m\n",
      "\u001b[32m[2025-01-14 10:07:35]\u001b[0m \u001b[1mINFO | Tool: final_answer successfully ran.\u001b[0m\n",
      "\u001b[32m[2025-01-14 10:07:35]\u001b[0m \u001b[34m\u001b[1mDEBUG | Final result: [TextResponse(text='{\"bpm\": 120, \"volume\": 0.4, \"genre\": \"jazz\"}')]\u001b[0m\n",
      "\u001b[32m[2025-01-14 10:07:35]\u001b[0m \u001b[1mINFO | Tool: route_music_control_agent successfully ran.\u001b[0m\n",
      "\u001b[32m[2025-01-14 10:07:35]\u001b[0m \u001b[34m\u001b[1mDEBUG | Prompt: [ToolUsePrompt(output='{\"bpm\": 120, \"volume\": 0.4, \"genre\": \"jazz\"}', error=None, call_id='toolu_01GeAHQsoLFoexppCREmGQ3V', args='{\"instruction\": \"Start playing soothing jazz music and set the volume to a calm level. For soothing jazz, let\\'s set the volume to 0.4, which is quiet enough to be calming but still audible. For soothing jazz, aim for a slower tempo, around 70-90 BPM.\"}', name='route_music_control_agent')]\u001b[0m\n",
      "\u001b[32m[2025-01-14 10:07:35]\u001b[0m \u001b[1mINFO | music_agent: Generating text\u001b[0m\n",
      "\u001b[32m[2025-01-14 10:07:39]\u001b[0m \u001b[34m\u001b[1mDEBUG | Response: [TextResponse(text=\"Great! The jazz music has started playing at a calm volume. The BPM is a bit higher than we expected for soothing jazz, but we'll work with what we have.\\n\\nNow, let's adjust the equalizer settings to emphasize mid-range frequencies for a warm sound:\"), ToolCallResponse(name='route_equalizer_control_agent', args='{\"instruction\": \"Adjust the equalizer settings to emphasize mid-range frequencies for a warm sound in jazz music. Increase the mid-range frequencies (400 Hz, 800 Hz, and 1600 Hz) by 4 dB each. Slightly reduce the low frequencies (100 Hz and 200 Hz) by 2 dB each to prevent muddiness. Slightly reduce the high frequencies (3200 Hz and 6400 Hz) by 2 dB each to soften the overall sound.\"}', call_id='toolu_017oL23QfALMdrAUvDj6DxqP')]\u001b[0m\n",
      "\u001b[32m[2025-01-14 10:07:39]\u001b[0m \u001b[1mINFO | Running tool: route_equalizer_control_agent\u001b[0m\n",
      "\u001b[32m[2025-01-14 10:07:39]\u001b[0m \u001b[34m\u001b[1mDEBUG | Prompt: [TextPrompt(text='Please make a concise plan to answer the following question/requirement, considering the conversation history.\\nYou can invoke the sub-agents or tools to answer the questions/requirements shown in the capabilities section.\\nAgent has no description while the tools have a description.\\n\\nQuestion/Requirement:\\nAdjust the equalizer settings to emphasize mid-range frequencies for a warm sound in jazz music. Increase the mid-range frequencies (400 Hz, 800 Hz, and 1600 Hz) by 4 dB each. Slightly reduce the low frequencies (100 Hz and 200 Hz) by 2 dB each to prevent muddiness. Slightly reduce the high frequencies (3200 Hz and 6400 Hz) by 2 dB each to soften the overall sound.\\n\\nCapabilities:\\n- change_equalizer_settings: Change the equalizer settings of the music.\\n')]\u001b[0m\n",
      "\u001b[32m[2025-01-14 10:07:39]\u001b[0m \u001b[1mINFO | equalizer_control_agent: Generating text\u001b[0m\n",
      "\u001b[32m[2025-01-14 10:07:40]\u001b[0m \u001b[34m\u001b[1mDEBUG | Response: [TextResponse(text='Plan:\\n\\n1. **Use `change_equalizer_settings` tool:** Invoke the `change_equalizer_settings` tool with the following parameters:\\n\\n    * `frequency`: 100 Hz, 200 Hz, 400 Hz, 800 Hz, 1600 Hz, 3200 Hz, 6400 Hz\\n    * `gain`: -2 dB, -2 dB, 4 dB, 4 dB, 4 dB, -2 dB, -2 dB (corresponding to the frequencies above)\\n\\n2. **Verify:** (Optional) Check for confirmation of successful setting changes from the tool.  Assume success unless an error is reported.')]\u001b[0m\n",
      "\u001b[32m[2025-01-14 10:07:40]\u001b[0m \u001b[34m\u001b[1mDEBUG | Prompt: [TextPrompt(text='Put the plan into action.')]\u001b[0m\n",
      "\u001b[32m[2025-01-14 10:07:40]\u001b[0m \u001b[1mINFO | equalizer_control_agent: Generating text\u001b[0m\n",
      "\u001b[32m[2025-01-14 10:07:42]\u001b[0m \u001b[34m\u001b[1mDEBUG | Response: [ToolCallResponse(name='change_equalizer_settings', args='{\"settings\": {\"hz_800\": 4, \"hz_6400\": -2, \"hz_1600\": 4, \"hz_200\": -2, \"hz_400\": 4, \"hz_100\": -2, \"hz_3200\": -2}}', call_id='ozp2qHF8bErGm5WPBxIqMJ2g')]\u001b[0m\n",
      "\u001b[32m[2025-01-14 10:07:42]\u001b[0m \u001b[1mINFO | Running tool: change_equalizer_settings\u001b[0m\n",
      "\u001b[32m[2025-01-14 10:07:42]\u001b[0m \u001b[1mINFO | Tool: change_equalizer_settings successfully ran.\u001b[0m\n",
      "\u001b[32m[2025-01-14 10:07:42]\u001b[0m \u001b[34m\u001b[1mDEBUG | Prompt: [ToolUsePrompt(output=\"Changing equalizer settings to {'hz_100': -2, 'hz_200': -2, 'hz_400': 4, 'hz_800': 4, 'hz_1600': 4, 'hz_3200': -2, 'hz_6400': -2}\", error=None, call_id='ozp2qHF8bErGm5WPBxIqMJ2g', args='{\"settings\": {\"hz_800\": 4, \"hz_6400\": -2, \"hz_1600\": 4, \"hz_200\": -2, \"hz_400\": 4, \"hz_100\": -2, \"hz_3200\": -2}}', name='change_equalizer_settings')]\u001b[0m\n",
      "\u001b[32m[2025-01-14 10:07:42]\u001b[0m \u001b[1mINFO | equalizer_control_agent: Generating text\u001b[0m\n",
      "\u001b[32m[2025-01-14 10:07:44]\u001b[0m \u001b[34m\u001b[1mDEBUG | Response: [TextResponse(text='The equalizer settings have been adjusted to emphasize the mid-range frequencies for a warmer jazz sound.  The 400 Hz, 800 Hz, and 1600 Hz bands have been increased by 4 dB each, while the 100 Hz, 200 Hz, 3200 Hz, and 6400 Hz bands have been reduced by 2 dB each.')]\u001b[0m\n",
      "\u001b[32m[2025-01-14 10:07:44]\u001b[0m \u001b[34m\u001b[1mDEBUG | Prompt: [TextPrompt(text=\"Decide the next action based on the conversation. If you have all information for answering the user, run 'final_result' tool. If you need more information, invoke other tool to get necessary information. \")]\u001b[0m\n",
      "\u001b[32m[2025-01-14 10:07:44]\u001b[0m \u001b[1mINFO | equalizer_control_agent: Generating text\u001b[0m\n",
      "\u001b[32m[2025-01-14 10:07:45]\u001b[0m \u001b[34m\u001b[1mDEBUG | Response: [TextResponse(text=\"We have all the necessary information. Let's finalize these settings.\"), ToolCallResponse(name='final_answer', args='{\"hz_400\": 4, \"hz_800\": 4, \"hz_1600\": 4, \"hz_6400\": -2, \"hz_3200\": -2, \"hz_200\": -2, \"hz_100\": -2}', call_id='dBwktlYDs1cZ47YrMjrN5IGU')]\u001b[0m\n",
      "\u001b[32m[2025-01-14 10:07:45]\u001b[0m \u001b[1mINFO | Running tool: final_answer\u001b[0m\n",
      "\u001b[32m[2025-01-14 10:07:45]\u001b[0m \u001b[1mINFO | Tool: final_answer successfully ran.\u001b[0m\n",
      "\u001b[32m[2025-01-14 10:07:45]\u001b[0m \u001b[34m\u001b[1mDEBUG | Final result: [TextResponse(text='{\"hz_400\": 4, \"hz_800\": 4, \"hz_1600\": 4, \"hz_6400\": -2, \"hz_3200\": -2, \"hz_200\": -2, \"hz_100\": -2}')]\u001b[0m\n",
      "\u001b[32m[2025-01-14 10:07:45]\u001b[0m \u001b[1mINFO | Tool: route_equalizer_control_agent successfully ran.\u001b[0m\n",
      "\u001b[32m[2025-01-14 10:07:45]\u001b[0m \u001b[34m\u001b[1mDEBUG | Prompt: [ToolUsePrompt(output='{\"hz_400\": 4, \"hz_800\": 4, \"hz_1600\": 4, \"hz_6400\": -2, \"hz_3200\": -2, \"hz_200\": -2, \"hz_100\": -2}', error=None, call_id='toolu_017oL23QfALMdrAUvDj6DxqP', args='{\"instruction\": \"Adjust the equalizer settings to emphasize mid-range frequencies for a warm sound in jazz music. Increase the mid-range frequencies (400 Hz, 800 Hz, and 1600 Hz) by 4 dB each. Slightly reduce the low frequencies (100 Hz and 200 Hz) by 2 dB each to prevent muddiness. Slightly reduce the high frequencies (3200 Hz and 6400 Hz) by 2 dB each to soften the overall sound.\"}', name='route_equalizer_control_agent')]\u001b[0m\n",
      "\u001b[32m[2025-01-14 10:07:45]\u001b[0m \u001b[1mINFO | music_agent: Generating text\u001b[0m\n",
      "\u001b[32m[2025-01-14 10:07:48]\u001b[0m \u001b[34m\u001b[1mDEBUG | Response: [TextResponse(text=\"Excellent! Now that we have all the information, let's provide the final answer:\"), ToolCallResponse(name='final_answer', args='{\"genre\": \"jazz\", \"volume\": 0.4, \"bpm\": 120, \"equalizer_settings\": {\"hz_100\": -2, \"hz_200\": -2, \"hz_400\": 4, \"hz_800\": 4, \"hz_1600\": 4, \"hz_3200\": -2, \"hz_6400\": -2}}', call_id='toolu_013mifY5Zocmn43oKfCxwQVp')]\u001b[0m\n",
      "\u001b[32m[2025-01-14 10:07:48]\u001b[0m \u001b[1mINFO | Running tool: final_answer\u001b[0m\n",
      "\u001b[32m[2025-01-14 10:07:48]\u001b[0m \u001b[1mINFO | Tool: final_answer successfully ran.\u001b[0m\n",
      "\u001b[32m[2025-01-14 10:07:48]\u001b[0m \u001b[34m\u001b[1mDEBUG | Final result: [TextResponse(text='{\"genre\": \"jazz\", \"volume\": 0.4, \"bpm\": 120, \"equalizer_settings\": {\"hz_100\": -2, \"hz_200\": -2, \"hz_400\": 4, \"hz_800\": 4, \"hz_1600\": 4, \"hz_3200\": -2, \"hz_6400\": -2}}')]\u001b[0m\n",
      "\u001b[32m[2025-01-14 10:07:48]\u001b[0m \u001b[1mINFO | Tool: route_music_agent successfully ran.\u001b[0m\n",
      "\u001b[32m[2025-01-14 10:07:48]\u001b[0m \u001b[34m\u001b[1mDEBUG | Prompt: [ToolUsePrompt(output='{\"brightness\": 0.2}', error=None, call_id='call_mVjZ0AsIH6ezrVNSboaRnfiN', args='{\"instruction\": \"Adjust the brightness of the lights to a soft, dim level suitable for a calm atmosphere.\"}', name='route_lights_agent'), ToolUsePrompt(output='{\"power\": false}', error=None, call_id='call_abOccZdqgJgJyMC3FQ8XQf6h', args='{\"instruction\": \"Power off the disco ball to avoid dynamic effects.\"}', name='route_disco_ball_agent'), ToolUsePrompt(output='{\"genre\": \"jazz\", \"volume\": 0.4, \"bpm\": 120, \"equalizer_settings\": {\"hz_100\": -2, \"hz_200\": -2, \"hz_400\": 4, \"hz_800\": 4, \"hz_1600\": 4, \"hz_3200\": -2, \"hz_6400\": -2}}', error=None, call_id='call_VI5w0q1NVZEeYb2VPEubr1CH', args='{\"instruction\": \"Start playing soothing jazz music, lower the volume to a calm level, and adjust the equalizer settings to emphasize mid-range frequencies for a warm sound.\"}', name='route_music_agent')]\u001b[0m\n",
      "\u001b[32m[2025-01-14 10:07:48]\u001b[0m \u001b[1mINFO | root: Generating text\u001b[0m\n",
      "\u001b[32m[2025-01-14 10:07:50]\u001b[0m \u001b[34m\u001b[1mDEBUG | Response: [ToolCallResponse(name='final_answer', args='{\"disco_ball\":{\"power\":false},\"music\":{\"genre\":\"jazz\",\"volume\":0.4,\"bpm\":120,\"equalizer_settings\":{\"hz_100\":-2,\"hz_200\":-2,\"hz_400\":4,\"hz_800\":4,\"hz_1600\":4,\"hz_3200\":-2,\"hz_6400\":-2}},\"lights\":{\"brightness\":0.2}}', call_id='call_RKAI3kfNGQ6xudYYy3CUDU4m')]\u001b[0m\n",
      "\u001b[32m[2025-01-14 10:07:50]\u001b[0m \u001b[1mINFO | Running tool: final_answer\u001b[0m\n",
      "\u001b[32m[2025-01-14 10:07:50]\u001b[0m \u001b[1mINFO | Tool: final_answer successfully ran.\u001b[0m\n",
      "\u001b[32m[2025-01-14 10:07:50]\u001b[0m \u001b[34m\u001b[1mDEBUG | Final result: [TextResponse(text='{\"disco_ball\": {\"power\": false}, \"music\": {\"genre\": \"jazz\", \"volume\": 0.4, \"bpm\": 120, \"equalizer_settings\": {\"hz_100\": -2, \"hz_200\": -2, \"hz_400\": 4, \"hz_800\": 4, \"hz_1600\": 4, \"hz_3200\": -2, \"hz_6400\": -2}}, \"lights\": {\"brightness\": 0.2}}')]\u001b[0m\n"
     ]
    }
   ],
   "source": [
    "prompt = \"Next, please make a calm atmosphere with a jazz music.\"\n",
    "\n",
    "response = orchestrator.generate_text(prompt=prompt)"
   ]
  },
  {
   "cell_type": "code",
   "execution_count": 28,
   "metadata": {},
   "outputs": [
    {
     "data": {
      "text/plain": [
       "[('root',\n",
       "  Usage(model_name='gpt-4o-2024-11-20', prompt_tokens=8296, output_tokens=524)),\n",
       " ('lights_agent',\n",
       "  Usage(model_name='us.amazon.nova-lite-v1:0', prompt_tokens=1779, output_tokens=189)),\n",
       " ('music_control_agent',\n",
       "  Usage(model_name='gemini-1.5-flash-002', prompt_tokens=4689, output_tokens=216)),\n",
       " ('equalizer_control_agent',\n",
       "  Usage(model_name='gemini-1.5-flash-002', prompt_tokens=7791, output_tokens=345)),\n",
       " ('music_agent',\n",
       "  Usage(model_name='claude-3-5-sonnet-20240620', prompt_tokens=6875, output_tokens=637)),\n",
       " ('disco_ball_agent',\n",
       "  Usage(model_name='gpt-4o-2024-11-20', prompt_tokens=1069, output_tokens=46))]"
      ]
     },
     "execution_count": 28,
     "metadata": {},
     "output_type": "execute_result"
    }
   ],
   "source": [
    "list(response.usage.items())"
   ]
  },
  {
   "cell_type": "markdown",
   "metadata": {},
   "source": [
    "Validation response schema"
   ]
  },
  {
   "cell_type": "code",
   "execution_count": 29,
   "metadata": {},
   "outputs": [
    {
     "data": {
      "text/plain": [
       "{'disco_ball': {'power': False},\n",
       " 'music': {'genre': <MusicGenre.jazz: 'jazz'>,\n",
       "  'volume': 0.4,\n",
       "  'bpm': 120,\n",
       "  'equalizer_settings': {'hz_100': -2,\n",
       "   'hz_200': -2,\n",
       "   'hz_400': 4,\n",
       "   'hz_800': 4,\n",
       "   'hz_1600': 4,\n",
       "   'hz_3200': -2,\n",
       "   'hz_6400': -2}},\n",
       " 'lights': {'brightness': 0.2}}"
      ]
     },
     "execution_count": 29,
     "metadata": {},
     "output_type": "execute_result"
    }
   ],
   "source": [
    "valid_resposne = ResponseSchema.model_validate_json(response.contents[0].text)\n",
    "valid_resposne.model_dump()"
   ]
  },
  {
   "cell_type": "markdown",
   "metadata": {},
   "source": [
    "Conversation memory in top-level orchestrator."
   ]
  },
  {
   "cell_type": "code",
   "execution_count": 30,
   "metadata": {},
   "outputs": [
    {
     "data": {
      "text/plain": [
       "[[Prompt(type='Prompt', role='user', contents=[TextPrompt(text='Please make a concise plan to answer the following question/requirement, considering the conversation history.\\nYou can invoke the sub-agents or tools to answer the questions/requirements shown in the capabilities section.\\nAgent has no description while the tools have a description.\\n\\nQuestion/Requirement:\\nTurn this place into a lively party mood!\\n\\nCapabilities:\\n- lights_agent\\n  - turn_light_on: Turn the lights on.\\n  - adjust_lights: Adjust the brightness of the lights.\\n- disco_ball_agent\\n  - power_disco_ball: Powers the spinning dissco ball on or off.\\n- music_agent\\n  - music_control_agent\\n    - start_music: Start playing a random music with the given the genre.\\n    - change_music: Change the music.\\n    - change_music_volume: Change the music volume.\\n  - equalizer_control_agent\\n    - change_equalizer_settings: Change the equalizer settings of the music.\\n')], name=None),\n",
       "  Response(type='Response', role='assistant', contents=[TextResponse(text='### Plan to Turn the Place into a Lively Party Mood:\\n\\n1. **Lights**:\\n   - Turn the lights on using `turn_light_on`.\\n   - Adjust the brightness to a vibrant level using `adjust_lights`.\\n\\n2. **Disco Ball**:\\n   - Power on the disco ball using `power_disco_ball` to create a dynamic and fun atmosphere.\\n\\n3. **Music**:\\n   - Start playing upbeat party music by invoking `start_music` with a suitable genre like \"pop\" or \"dance\".\\n   - Adjust the music volume to an energetic level using `change_music_volume`.\\n   - Optionally, tweak the equalizer settings for enhanced bass and treble using `change_equalizer_settings`.\\n\\n4. **Coordination**:\\n   - Ensure all elements (lights, disco ball, and music) are synchronized to create a cohesive party vibe.')], usage=Usage(model_name=None, prompt_tokens=0, output_tokens=0), raw=None, name=None, is_last_chunk=None, prompt=None),\n",
       "  Prompt(type='Prompt', role='user', contents=[TextPrompt(text='Put the plan into action.')], name=None),\n",
       "  Response(type='Response', role='assistant', contents=[ToolCallResponse(name='route_lights_agent', args='{\"instruction\": \"Turn the lights on and adjust the brightness to a vibrant level suitable for a party.\"}', call_id='call_sOZnOTghjdzSbjQFeNQruoXN'), ToolCallResponse(name='route_disco_ball_agent', args='{\"instruction\": \"Power on the disco ball to create a dynamic and fun atmosphere.\"}', call_id='call_vyqrmw5oxfSHN7PZywyJpfH9'), ToolCallResponse(name='route_music_agent', args='{\"instruction\": \"Start playing upbeat pop music, adjust the volume to an energetic level, and enhance the bass and treble using the equalizer settings.\"}', call_id='call_jdquRu3BZNYMixV1KidLj5hs')], usage=Usage(model_name=None, prompt_tokens=0, output_tokens=0), raw=None, name=None, is_last_chunk=None, prompt=None),\n",
       "  Prompt(type='Prompt', role='user', contents=[ToolUsePrompt(output='{\"brightness\": 0.8}', error=None, call_id='call_sOZnOTghjdzSbjQFeNQruoXN', args='{\"instruction\": \"Turn the lights on and adjust the brightness to a vibrant level suitable for a party.\"}', name='route_lights_agent'), ToolUsePrompt(output='{\"power\": true}', error=None, call_id='call_vyqrmw5oxfSHN7PZywyJpfH9', args='{\"instruction\": \"Power on the disco ball to create a dynamic and fun atmosphere.\"}', name='route_disco_ball_agent'), ToolUsePrompt(output='{\"genre\": \"pop\", \"volume\": 0.8, \"bpm\": 110, \"equalizer_settings\": {\"hz_100\": 6, \"hz_200\": 6, \"hz_400\": 0, \"hz_800\": 0, \"hz_1600\": 0, \"hz_3200\": 4, \"hz_6400\": 4}}', error=None, call_id='call_jdquRu3BZNYMixV1KidLj5hs', args='{\"instruction\": \"Start playing upbeat pop music, adjust the volume to an energetic level, and enhance the bass and treble using the equalizer settings.\"}', name='route_music_agent')], name=None),\n",
       "  Response(type='Response', role='assistant', contents=[ToolCallResponse(name='final_answer', args='{\"disco_ball\":{\"power\":true},\"music\":{\"genre\":\"pop\",\"volume\":0.8,\"bpm\":110,\"equalizer_settings\":{\"hz_100\":6,\"hz_200\":6,\"hz_400\":0,\"hz_800\":0,\"hz_1600\":0,\"hz_3200\":4,\"hz_6400\":4}},\"lights\":{\"brightness\":0.8}}', call_id='call_iM91YuK1DZBCDIeHzXUdkOJV')], usage=Usage(model_name=None, prompt_tokens=0, output_tokens=0), raw=None, name=None, is_last_chunk=None, prompt=None),\n",
       "  Prompt(type='Prompt', role='user', contents=[ToolUsePrompt(output='{\"disco_ball\": {\"power\": true}, \"music\": {\"genre\": \"pop\", \"volume\": 0.8, \"bpm\": 110, \"equalizer_settings\": {\"hz_100\": 6, \"hz_200\": 6, \"hz_400\": 0, \"hz_800\": 0, \"hz_1600\": 0, \"hz_3200\": 4, \"hz_6400\": 4}}, \"lights\": {\"brightness\": 0.8}}', error=None, call_id='call_iM91YuK1DZBCDIeHzXUdkOJV', args='{\"disco_ball\":{\"power\":true},\"music\":{\"genre\":\"pop\",\"volume\":0.8,\"bpm\":110,\"equalizer_settings\":{\"hz_100\":6,\"hz_200\":6,\"hz_400\":0,\"hz_800\":0,\"hz_1600\":0,\"hz_3200\":4,\"hz_6400\":4}},\"lights\":{\"brightness\":0.8}}', name='final_answer')], name=None),\n",
       "  Response(type='Response', role='assistant', contents=[TextResponse(text='{\"disco_ball\": {\"power\": true}, \"music\": {\"genre\": \"pop\", \"volume\": 0.8, \"bpm\": 110, \"equalizer_settings\": {\"hz_100\": 6, \"hz_200\": 6, \"hz_400\": 0, \"hz_800\": 0, \"hz_1600\": 0, \"hz_3200\": 4, \"hz_6400\": 4}}, \"lights\": {\"brightness\": 0.8}}')], usage=Usage(model_name=None, prompt_tokens=0, output_tokens=0), raw=None, name=None, is_last_chunk=None, prompt=None)],\n",
       " [Prompt(type='Prompt', role='user', contents=[TextPrompt(text='Please make a concise plan to answer the following question/requirement, considering the conversation history.\\nYou can invoke the sub-agents or tools to answer the questions/requirements shown in the capabilities section.\\nAgent has no description while the tools have a description.\\n\\nQuestion/Requirement:\\nNext, please make a calm atmosphere with a jazz music.\\n\\nCapabilities:\\n- lights_agent\\n  - turn_light_on: Turn the lights on.\\n  - adjust_lights: Adjust the brightness of the lights.\\n- disco_ball_agent\\n  - power_disco_ball: Powers the spinning dissco ball on or off.\\n- music_agent\\n  - music_control_agent\\n    - start_music: Start playing a random music with the given the genre.\\n    - change_music: Change the music.\\n    - change_music_volume: Change the music volume.\\n  - equalizer_control_agent\\n    - change_equalizer_settings: Change the equalizer settings of the music.\\n')], name=None),\n",
       "  Response(type='Response', role='assistant', contents=[TextResponse(text='### Plan to Create a Calm Atmosphere with Jazz Music:\\n\\n1. **Lights**:\\n   - Adjust the brightness of the lights to a soft, dim level using `adjust_lights` to create a relaxing ambiance.\\n\\n2. **Disco Ball**:\\n   - Power off the disco ball using `power_disco_ball` to avoid any dynamic or distracting effects.\\n\\n3. **Music**:\\n   - Start playing soothing jazz music by invoking `start_music` with the genre \"jazz\".\\n   - Lower the music volume to a calm and comfortable level using `change_music_volume`.\\n   - Optionally, adjust the equalizer settings to emphasize mid-range frequencies for a warm and mellow sound using `change_equalizer_settings`.\\n\\n4. **Coordination**:\\n   - Ensure all elements (lights, disco ball, and music) are harmonized to create a serene and calming atmosphere.')], usage=Usage(model_name=None, prompt_tokens=0, output_tokens=0), raw=None, name=None, is_last_chunk=None, prompt=None),\n",
       "  Prompt(type='Prompt', role='user', contents=[TextPrompt(text='Put the plan into action.')], name=None),\n",
       "  Response(type='Response', role='assistant', contents=[ToolCallResponse(name='route_lights_agent', args='\"{\\\\\"instruction\\\\\": \\\\\"Adjust the brightness of the lights to a soft, dim level suitable for a calm atmosphere.\\\\\"}\"', call_id='call_ymt51FCGriI9jDp6xIS2FGEm'), ToolCallResponse(name='route_disco_ball_agent', args='\"{\\\\\"instruction\\\\\": \\\\\"Power off the disco ball to avoid dynamic effects.\\\\\"}\"', call_id='call_39gZtkZsFhJ9bFkeHD8Oo28q'), ToolCallResponse(name='route_music_agent', args='\"{\\\\\"instruction\\\\\": \\\\\"Start playing soothing jazz music, lower the volume to a calm level, and adjust the equalizer settings to emphasize mid-range frequencies for a warm sound.\\\\\"}\"', call_id='call_0dXbn1wUcROEGeZB0DoDJCfq')], usage=Usage(model_name=None, prompt_tokens=0, output_tokens=0), raw=None, name=None, is_last_chunk=None, prompt=None),\n",
       "  Prompt(type='Prompt', role='user', contents=[ToolUsePrompt(output=None, error='Error occurred while running tool: route_lights_agent. Retrying...\\nInput value: \"{\\\\\"instruction\\\\\": \\\\\"Adjust the brightness of the lights to a soft, dim level suitable for a calm atmosphere.\\\\\"}\"\\nTypeError: \\'str\\' object is not a mapping', call_id='call_ymt51FCGriI9jDp6xIS2FGEm', args='\"{\\\\\"instruction\\\\\": \\\\\"Adjust the brightness of the lights to a soft, dim level suitable for a calm atmosphere.\\\\\"}\"', name='route_lights_agent'), ToolUsePrompt(output=None, error='Error occurred while running tool: route_disco_ball_agent. Retrying...\\nInput value: \"{\\\\\"instruction\\\\\": \\\\\"Power off the disco ball to avoid dynamic effects.\\\\\"}\"\\nTypeError: \\'str\\' object is not a mapping', call_id='call_39gZtkZsFhJ9bFkeHD8Oo28q', args='\"{\\\\\"instruction\\\\\": \\\\\"Power off the disco ball to avoid dynamic effects.\\\\\"}\"', name='route_disco_ball_agent'), ToolUsePrompt(output=None, error='Error occurred while running tool: route_music_agent. Retrying...\\nInput value: \"{\\\\\"instruction\\\\\": \\\\\"Start playing soothing jazz music, lower the volume to a calm level, and adjust the equalizer settings to emphasize mid-range frequencies for a warm sound.\\\\\"}\"\\nTypeError: \\'str\\' object is not a mapping', call_id='call_0dXbn1wUcROEGeZB0DoDJCfq', args='\"{\\\\\"instruction\\\\\": \\\\\"Start playing soothing jazz music, lower the volume to a calm level, and adjust the equalizer settings to emphasize mid-range frequencies for a warm sound.\\\\\"}\"', name='route_music_agent'), TextPrompt(text='Please fix the error on tool use. If the validation error is raised, reflect the conversation history and try to find the correct answer. If there is no fact to answer the user, try to run other tools to get necessary information. ')], name=None),\n",
       "  Response(type='Response', role='assistant', contents=[ToolCallResponse(name='route_lights_agent', args='{\"instruction\": \"Adjust the brightness of the lights to a soft, dim level suitable for a calm atmosphere.\"}', call_id='call_mVjZ0AsIH6ezrVNSboaRnfiN'), ToolCallResponse(name='route_disco_ball_agent', args='{\"instruction\": \"Power off the disco ball to avoid dynamic effects.\"}', call_id='call_abOccZdqgJgJyMC3FQ8XQf6h'), ToolCallResponse(name='route_music_agent', args='{\"instruction\": \"Start playing soothing jazz music, lower the volume to a calm level, and adjust the equalizer settings to emphasize mid-range frequencies for a warm sound.\"}', call_id='call_VI5w0q1NVZEeYb2VPEubr1CH')], usage=Usage(model_name=None, prompt_tokens=0, output_tokens=0), raw=None, name=None, is_last_chunk=None, prompt=None),\n",
       "  Prompt(type='Prompt', role='user', contents=[ToolUsePrompt(output='{\"brightness\": 0.2}', error=None, call_id='call_mVjZ0AsIH6ezrVNSboaRnfiN', args='{\"instruction\": \"Adjust the brightness of the lights to a soft, dim level suitable for a calm atmosphere.\"}', name='route_lights_agent'), ToolUsePrompt(output='{\"power\": false}', error=None, call_id='call_abOccZdqgJgJyMC3FQ8XQf6h', args='{\"instruction\": \"Power off the disco ball to avoid dynamic effects.\"}', name='route_disco_ball_agent'), ToolUsePrompt(output='{\"genre\": \"jazz\", \"volume\": 0.4, \"bpm\": 120, \"equalizer_settings\": {\"hz_100\": -2, \"hz_200\": -2, \"hz_400\": 4, \"hz_800\": 4, \"hz_1600\": 4, \"hz_3200\": -2, \"hz_6400\": -2}}', error=None, call_id='call_VI5w0q1NVZEeYb2VPEubr1CH', args='{\"instruction\": \"Start playing soothing jazz music, lower the volume to a calm level, and adjust the equalizer settings to emphasize mid-range frequencies for a warm sound.\"}', name='route_music_agent')], name=None),\n",
       "  Response(type='Response', role='assistant', contents=[ToolCallResponse(name='final_answer', args='{\"disco_ball\":{\"power\":false},\"music\":{\"genre\":\"jazz\",\"volume\":0.4,\"bpm\":120,\"equalizer_settings\":{\"hz_100\":-2,\"hz_200\":-2,\"hz_400\":4,\"hz_800\":4,\"hz_1600\":4,\"hz_3200\":-2,\"hz_6400\":-2}},\"lights\":{\"brightness\":0.2}}', call_id='call_RKAI3kfNGQ6xudYYy3CUDU4m')], usage=Usage(model_name=None, prompt_tokens=0, output_tokens=0), raw=None, name=None, is_last_chunk=None, prompt=None),\n",
       "  Prompt(type='Prompt', role='user', contents=[ToolUsePrompt(output='{\"disco_ball\": {\"power\": false}, \"music\": {\"genre\": \"jazz\", \"volume\": 0.4, \"bpm\": 120, \"equalizer_settings\": {\"hz_100\": -2, \"hz_200\": -2, \"hz_400\": 4, \"hz_800\": 4, \"hz_1600\": 4, \"hz_3200\": -2, \"hz_6400\": -2}}, \"lights\": {\"brightness\": 0.2}}', error=None, call_id='call_RKAI3kfNGQ6xudYYy3CUDU4m', args='{\"disco_ball\":{\"power\":false},\"music\":{\"genre\":\"jazz\",\"volume\":0.4,\"bpm\":120,\"equalizer_settings\":{\"hz_100\":-2,\"hz_200\":-2,\"hz_400\":4,\"hz_800\":4,\"hz_1600\":4,\"hz_3200\":-2,\"hz_6400\":-2}},\"lights\":{\"brightness\":0.2}}', name='final_answer')], name=None),\n",
       "  Response(type='Response', role='assistant', contents=[TextResponse(text='{\"disco_ball\": {\"power\": false}, \"music\": {\"genre\": \"jazz\", \"volume\": 0.4, \"bpm\": 120, \"equalizer_settings\": {\"hz_100\": -2, \"hz_200\": -2, \"hz_400\": 4, \"hz_800\": 4, \"hz_1600\": 4, \"hz_3200\": -2, \"hz_6400\": -2}}, \"lights\": {\"brightness\": 0.2}}')], usage=Usage(model_name=None, prompt_tokens=0, output_tokens=0), raw=None, name=None, is_last_chunk=None, prompt=None)]]"
      ]
     },
     "execution_count": 30,
     "metadata": {},
     "output_type": "execute_result"
    }
   ],
   "source": [
    "orchestrator.load_history()"
   ]
  },
  {
   "cell_type": "markdown",
   "metadata": {},
   "source": [
    "Conversation memory of sub-agent."
   ]
  },
  {
   "cell_type": "code",
   "execution_count": 31,
   "metadata": {},
   "outputs": [
    {
     "data": {
      "text/plain": [
       "Agent(name=music_agent)"
      ]
     },
     "execution_count": 31,
     "metadata": {},
     "output_type": "execute_result"
    }
   ],
   "source": [
    "orchestrator.subagents[2]"
   ]
  },
  {
   "cell_type": "code",
   "execution_count": 32,
   "metadata": {},
   "outputs": [
    {
     "data": {
      "text/plain": [
       "[[Prompt(type='Prompt', role='user', contents=[TextPrompt(text='Start playing upbeat pop music, adjust the volume to an energetic level, and enhance the bass and treble using the equalizer settings.')], name=None),\n",
       "  Response(type='Response', role='assistant', contents=[TextResponse(text=\"Certainly! I'll start playing upbeat pop music, adjust the volume to an energetic level, and enhance the bass and treble using the equalizer settings. To accomplish this, I'll need to use multiple tools. Let's break it down step by step:\\n\\n1. Start playing upbeat pop music\\n2. Adjust the volume to an energetic level\\n3. Enhance the bass and treble using the equalizer settings\\n\\nLet's start with the first two steps:\"), ToolCallResponse(name='route_music_control_agent', args='{\"instruction\": \"Start playing upbeat pop music and set the volume to an energetic level. For pop music, let\\'s set the volume to 0.8, which is quite energetic without being too loud. Also, for upbeat pop, let\\'s aim for a BPM around 120-130.\"}', call_id='toolu_012QNQnhCAv9YSUoCm37wHD8')], usage=Usage(model_name=None, prompt_tokens=0, output_tokens=0), raw=None, name='music_agent', is_last_chunk=None, prompt=None),\n",
       "  Prompt(type='Prompt', role='user', contents=[ToolUsePrompt(output='{\"bpm\": 110, \"genre\": \"pop\", \"volume\": 0.8}', error=None, call_id='toolu_012QNQnhCAv9YSUoCm37wHD8', args='{\"instruction\": \"Start playing upbeat pop music and set the volume to an energetic level. For pop music, let\\'s set the volume to 0.8, which is quite energetic without being too loud. Also, for upbeat pop, let\\'s aim for a BPM around 120-130.\"}', name='route_music_control_agent')], name=None),\n",
       "  Response(type='Response', role='assistant', contents=[TextResponse(text=\"Great! The music has started playing. Now, let's enhance the bass and treble using the equalizer settings:\"), ToolCallResponse(name='route_equalizer_control_agent', args='{\"instruction\": \"Enhance the bass and treble for the pop music. Increase the low frequencies (100 Hz and 200 Hz) by 6 dB each for more bass. Increase the high frequencies (3200 Hz and 6400 Hz) by 4 dB each for enhanced treble. Keep the mid-range frequencies (400 Hz, 800 Hz, and 1600 Hz) at 0 dB for a balanced sound.\"}', call_id='toolu_01MH6avGLbvrPqFeU1Ygj9mh')], usage=Usage(model_name=None, prompt_tokens=0, output_tokens=0), raw=None, name='music_agent', is_last_chunk=None, prompt=None),\n",
       "  Prompt(type='Prompt', role='user', contents=[ToolUsePrompt(output='{\"hz_6400\": 4, \"hz_400\": 0, \"hz_3200\": 4, \"hz_200\": 6, \"hz_800\": 0, \"hz_100\": 6, \"hz_1600\": 0}', error=None, call_id='toolu_01MH6avGLbvrPqFeU1Ygj9mh', args='{\"instruction\": \"Enhance the bass and treble for the pop music. Increase the low frequencies (100 Hz and 200 Hz) by 6 dB each for more bass. Increase the high frequencies (3200 Hz and 6400 Hz) by 4 dB each for enhanced treble. Keep the mid-range frequencies (400 Hz, 800 Hz, and 1600 Hz) at 0 dB for a balanced sound.\"}', name='route_equalizer_control_agent')], name=None),\n",
       "  Response(type='Response', role='assistant', contents=[TextResponse(text=\"Excellent! Now that we have all the information, let's provide the final answer:\"), ToolCallResponse(name='final_answer', args='{\"genre\": \"pop\", \"volume\": 0.8, \"bpm\": 110, \"equalizer_settings\": {\"hz_100\": 6, \"hz_200\": 6, \"hz_400\": 0, \"hz_800\": 0, \"hz_1600\": 0, \"hz_3200\": 4, \"hz_6400\": 4}}', call_id='toolu_015GhL3hikqhFRFBvaCFB73V')], usage=Usage(model_name=None, prompt_tokens=0, output_tokens=0), raw=None, name='music_agent', is_last_chunk=None, prompt=None),\n",
       "  Prompt(type='Prompt', role='user', contents=[ToolUsePrompt(output='{\"genre\": \"pop\", \"volume\": 0.8, \"bpm\": 110, \"equalizer_settings\": {\"hz_100\": 6, \"hz_200\": 6, \"hz_400\": 0, \"hz_800\": 0, \"hz_1600\": 0, \"hz_3200\": 4, \"hz_6400\": 4}}', error=None, call_id='toolu_015GhL3hikqhFRFBvaCFB73V', args='{\"genre\": \"pop\", \"volume\": 0.8, \"bpm\": 110, \"equalizer_settings\": {\"hz_100\": 6, \"hz_200\": 6, \"hz_400\": 0, \"hz_800\": 0, \"hz_1600\": 0, \"hz_3200\": 4, \"hz_6400\": 4}}', name='final_answer')], name=None),\n",
       "  Response(type='Response', role='assistant', contents=[TextResponse(text='{\"genre\": \"pop\", \"volume\": 0.8, \"bpm\": 110, \"equalizer_settings\": {\"hz_100\": 6, \"hz_200\": 6, \"hz_400\": 0, \"hz_800\": 0, \"hz_1600\": 0, \"hz_3200\": 4, \"hz_6400\": 4}}')], usage=Usage(model_name=None, prompt_tokens=0, output_tokens=0), raw=None, name='music_agent', is_last_chunk=None, prompt=None)],\n",
       " [Prompt(type='Prompt', role='user', contents=[TextPrompt(text='Start playing soothing jazz music, lower the volume to a calm level, and adjust the equalizer settings to emphasize mid-range frequencies for a warm sound.')], name=None),\n",
       "  Response(type='Response', role='assistant', contents=[TextResponse(text=\"Certainly! I'll start playing soothing jazz music, lower the volume to a calm level, and adjust the equalizer settings to emphasize mid-range frequencies for a warm sound. Let's break this down into steps:\\n\\n1. Start playing soothing jazz music\\n2. Lower the volume to a calm level\\n3. Adjust the equalizer settings to emphasize mid-range frequencies\\n\\nLet's begin with the first two steps:\"), ToolCallResponse(name='route_music_control_agent', args='{\"instruction\": \"Start playing soothing jazz music and set the volume to a calm level. For soothing jazz, let\\'s set the volume to 0.4, which is quiet enough to be calming but still audible. For soothing jazz, aim for a slower tempo, around 70-90 BPM.\"}', call_id='toolu_01GeAHQsoLFoexppCREmGQ3V')], usage=Usage(model_name=None, prompt_tokens=0, output_tokens=0), raw=None, name='music_agent', is_last_chunk=None, prompt=None),\n",
       "  Prompt(type='Prompt', role='user', contents=[ToolUsePrompt(output='{\"bpm\": 120, \"volume\": 0.4, \"genre\": \"jazz\"}', error=None, call_id='toolu_01GeAHQsoLFoexppCREmGQ3V', args='{\"instruction\": \"Start playing soothing jazz music and set the volume to a calm level. For soothing jazz, let\\'s set the volume to 0.4, which is quiet enough to be calming but still audible. For soothing jazz, aim for a slower tempo, around 70-90 BPM.\"}', name='route_music_control_agent')], name=None),\n",
       "  Response(type='Response', role='assistant', contents=[TextResponse(text=\"Great! The jazz music has started playing at a calm volume. The BPM is a bit higher than we expected for soothing jazz, but we'll work with what we have.\\n\\nNow, let's adjust the equalizer settings to emphasize mid-range frequencies for a warm sound:\"), ToolCallResponse(name='route_equalizer_control_agent', args='{\"instruction\": \"Adjust the equalizer settings to emphasize mid-range frequencies for a warm sound in jazz music. Increase the mid-range frequencies (400 Hz, 800 Hz, and 1600 Hz) by 4 dB each. Slightly reduce the low frequencies (100 Hz and 200 Hz) by 2 dB each to prevent muddiness. Slightly reduce the high frequencies (3200 Hz and 6400 Hz) by 2 dB each to soften the overall sound.\"}', call_id='toolu_017oL23QfALMdrAUvDj6DxqP')], usage=Usage(model_name=None, prompt_tokens=0, output_tokens=0), raw=None, name='music_agent', is_last_chunk=None, prompt=None),\n",
       "  Prompt(type='Prompt', role='user', contents=[ToolUsePrompt(output='{\"hz_400\": 4, \"hz_800\": 4, \"hz_1600\": 4, \"hz_6400\": -2, \"hz_3200\": -2, \"hz_200\": -2, \"hz_100\": -2}', error=None, call_id='toolu_017oL23QfALMdrAUvDj6DxqP', args='{\"instruction\": \"Adjust the equalizer settings to emphasize mid-range frequencies for a warm sound in jazz music. Increase the mid-range frequencies (400 Hz, 800 Hz, and 1600 Hz) by 4 dB each. Slightly reduce the low frequencies (100 Hz and 200 Hz) by 2 dB each to prevent muddiness. Slightly reduce the high frequencies (3200 Hz and 6400 Hz) by 2 dB each to soften the overall sound.\"}', name='route_equalizer_control_agent')], name=None),\n",
       "  Response(type='Response', role='assistant', contents=[TextResponse(text=\"Excellent! Now that we have all the information, let's provide the final answer:\"), ToolCallResponse(name='final_answer', args='{\"genre\": \"jazz\", \"volume\": 0.4, \"bpm\": 120, \"equalizer_settings\": {\"hz_100\": -2, \"hz_200\": -2, \"hz_400\": 4, \"hz_800\": 4, \"hz_1600\": 4, \"hz_3200\": -2, \"hz_6400\": -2}}', call_id='toolu_013mifY5Zocmn43oKfCxwQVp')], usage=Usage(model_name=None, prompt_tokens=0, output_tokens=0), raw=None, name='music_agent', is_last_chunk=None, prompt=None),\n",
       "  Prompt(type='Prompt', role='user', contents=[ToolUsePrompt(output='{\"genre\": \"jazz\", \"volume\": 0.4, \"bpm\": 120, \"equalizer_settings\": {\"hz_100\": -2, \"hz_200\": -2, \"hz_400\": 4, \"hz_800\": 4, \"hz_1600\": 4, \"hz_3200\": -2, \"hz_6400\": -2}}', error=None, call_id='toolu_013mifY5Zocmn43oKfCxwQVp', args='{\"genre\": \"jazz\", \"volume\": 0.4, \"bpm\": 120, \"equalizer_settings\": {\"hz_100\": -2, \"hz_200\": -2, \"hz_400\": 4, \"hz_800\": 4, \"hz_1600\": 4, \"hz_3200\": -2, \"hz_6400\": -2}}', name='final_answer')], name=None),\n",
       "  Response(type='Response', role='assistant', contents=[TextResponse(text='{\"genre\": \"jazz\", \"volume\": 0.4, \"bpm\": 120, \"equalizer_settings\": {\"hz_100\": -2, \"hz_200\": -2, \"hz_400\": 4, \"hz_800\": 4, \"hz_1600\": 4, \"hz_3200\": -2, \"hz_6400\": -2}}')], usage=Usage(model_name=None, prompt_tokens=0, output_tokens=0), raw=None, name='music_agent', is_last_chunk=None, prompt=None)]]"
      ]
     },
     "execution_count": 32,
     "metadata": {},
     "output_type": "execute_result"
    }
   ],
   "source": [
    "orchestrator.subagents[2].load_history()"
   ]
  },
  {
   "cell_type": "markdown",
   "metadata": {},
   "source": [
    "Now we keep only the last turn conversation, so the agent and sub-agents will answer based on the last state if the user ask the agent to change a specific setting. For example, when we ask to change the music to another one, the agent update a specific state related to the user query, using the last state for other information."
   ]
  },
  {
   "cell_type": "code",
   "execution_count": 33,
   "metadata": {},
   "outputs": [
    {
     "name": "stderr",
     "output_type": "stream",
     "text": [
      "\u001b[32m[2025-01-14 10:07:50]\u001b[0m \u001b[34m\u001b[1mDEBUG | Prompt: [TextPrompt(text='Please make a concise plan to answer the following question/requirement, considering the conversation history.\\nYou can invoke the sub-agents or tools to answer the questions/requirements shown in the capabilities section.\\nAgent has no description while the tools have a description.\\n\\nQuestion/Requirement:\\nPlease change to another music of the same genre.\\n\\nCapabilities:\\n- lights_agent\\n  - turn_light_on: Turn the lights on.\\n  - adjust_lights: Adjust the brightness of the lights.\\n- disco_ball_agent\\n  - power_disco_ball: Powers the spinning dissco ball on or off.\\n- music_agent\\n  - music_control_agent\\n    - start_music: Start playing a random music with the given the genre.\\n    - change_music: Change the music.\\n    - change_music_volume: Change the music volume.\\n  - equalizer_control_agent\\n    - change_equalizer_settings: Change the equalizer settings of the music.\\n')]\u001b[0m\n",
      "\u001b[32m[2025-01-14 10:07:50]\u001b[0m \u001b[1mINFO | root: Generating text\u001b[0m\n",
      "\u001b[32m[2025-01-14 10:07:51]\u001b[0m \u001b[34m\u001b[1mDEBUG | Response: [TextResponse(text='### Plan to Change to Another Music of the Same Genre:\\n\\n1. **Music**:\\n   - Use the `change_music` function to switch to another random jazz music while keeping the same genre.\\n   - Ensure the volume and equalizer settings remain consistent with the current calm atmosphere.\\n\\n2. **Coordination**:\\n   - Verify that the new music aligns with the desired calm ambiance. If necessary, adjust the volume or equalizer settings using `change_music_volume` or `change_equalizer_settings`.')]\u001b[0m\n",
      "\u001b[32m[2025-01-14 10:07:51]\u001b[0m \u001b[34m\u001b[1mDEBUG | Prompt: [TextPrompt(text='Put the plan into action.')]\u001b[0m\n",
      "\u001b[32m[2025-01-14 10:07:51]\u001b[0m \u001b[1mINFO | root: Generating text\u001b[0m\n",
      "\u001b[32m[2025-01-14 10:07:52]\u001b[0m \u001b[34m\u001b[1mDEBUG | Response: [ToolCallResponse(name='route_music_agent', args='{\"instruction\":\"Change to another random jazz music while keeping the current volume and equalizer settings.\"}', call_id='call_uSvcASIsH0Nyq0TAgaO3xxHj')]\u001b[0m\n",
      "\u001b[32m[2025-01-14 10:07:52]\u001b[0m \u001b[1mINFO | Running tool: route_music_agent\u001b[0m\n",
      "\u001b[32m[2025-01-14 10:07:52]\u001b[0m \u001b[34m\u001b[1mDEBUG | Prompt: [TextPrompt(text='Change to another random jazz music while keeping the current volume and equalizer settings.')]\u001b[0m\n",
      "\u001b[32m[2025-01-14 10:07:52]\u001b[0m \u001b[1mINFO | music_agent: Generating text\u001b[0m\n",
      "\u001b[32m[2025-01-14 10:07:55]\u001b[0m \u001b[34m\u001b[1mDEBUG | Response: [TextResponse(text=\"Certainly! I'll change to another random jazz music while maintaining the current volume and equalizer settings. Let's use the music control agent to make this change:\"), ToolCallResponse(name='route_music_control_agent', args='{\"instruction\": \"Change to another random jazz music while keeping the current volume at 0.4. Do not alter the equalizer settings.\"}', call_id='toolu_01KS9CBwwnuP9gf8YkGE4Fny')]\u001b[0m\n",
      "\u001b[32m[2025-01-14 10:07:55]\u001b[0m \u001b[1mINFO | Running tool: route_music_control_agent\u001b[0m\n",
      "\u001b[32m[2025-01-14 10:07:55]\u001b[0m \u001b[34m\u001b[1mDEBUG | Prompt: [TextPrompt(text='Please make a concise plan to answer the following question/requirement, considering the conversation history.\\nYou can invoke the sub-agents or tools to answer the questions/requirements shown in the capabilities section.\\nAgent has no description while the tools have a description.\\n\\nQuestion/Requirement:\\nChange to another random jazz music while keeping the current volume at 0.4. Do not alter the equalizer settings.\\n\\nCapabilities:\\n- start_music: Start playing a random music with the given the genre.\\n- change_music: Change the music.\\n- change_music_volume: Change the music volume.\\n')]\u001b[0m\n",
      "\u001b[32m[2025-01-14 10:07:55]\u001b[0m \u001b[1mINFO | music_control_agent: Generating text\u001b[0m\n",
      "\u001b[32m[2025-01-14 10:07:56]\u001b[0m \u001b[34m\u001b[1mDEBUG | Response: [TextResponse(text='Plan:\\n\\n1. **Use `change_music`:** Invoke `change_music` with the genre \"jazz\".  This will change to a different jazz track.  The volume should remain at 0.4 from the previous instruction.  There\\'s no tool to explicitly prevent equalizer changes, but the instruction implies no such changes are desired.')]\u001b[0m\n",
      "\u001b[32m[2025-01-14 10:07:56]\u001b[0m \u001b[34m\u001b[1mDEBUG | Prompt: [TextPrompt(text='Put the plan into action.')]\u001b[0m\n",
      "\u001b[32m[2025-01-14 10:07:56]\u001b[0m \u001b[1mINFO | music_control_agent: Generating text\u001b[0m\n",
      "\u001b[32m[2025-01-14 10:07:57]\u001b[0m \u001b[34m\u001b[1mDEBUG | Response: [ToolCallResponse(name='change_music', args='{\"genre\": \"jazz\"}', call_id='cRk3U71Tf0iFPzKbziHRsky7')]\u001b[0m\n",
      "\u001b[32m[2025-01-14 10:07:57]\u001b[0m \u001b[1mINFO | Running tool: change_music\u001b[0m\n",
      "\u001b[32m[2025-01-14 10:07:57]\u001b[0m \u001b[1mINFO | Tool: change_music successfully ran.\u001b[0m\n",
      "\u001b[32m[2025-01-14 10:07:57]\u001b[0m \u001b[34m\u001b[1mDEBUG | Prompt: [ToolUsePrompt(output='Turning to another music! Genre: jazz, BPM: 94', error=None, call_id='cRk3U71Tf0iFPzKbziHRsky7', args='{\"genre\": \"jazz\"}', name='change_music')]\u001b[0m\n",
      "\u001b[32m[2025-01-14 10:07:57]\u001b[0m \u001b[1mINFO | music_control_agent: Generating text\u001b[0m\n",
      "\u001b[32m[2025-01-14 10:07:59]\u001b[0m \u001b[34m\u001b[1mDEBUG | Response: [TextResponse(text='The music has changed to a different jazz track. The new BPM is 94.')]\u001b[0m\n",
      "\u001b[32m[2025-01-14 10:07:59]\u001b[0m \u001b[34m\u001b[1mDEBUG | Prompt: [TextPrompt(text=\"Decide the next action based on the conversation. If you have all information for answering the user, run 'final_result' tool. If you need more information, invoke other tool to get necessary information. \")]\u001b[0m\n",
      "\u001b[32m[2025-01-14 10:07:59]\u001b[0m \u001b[1mINFO | music_control_agent: Generating text\u001b[0m\n",
      "\u001b[32m[2025-01-14 10:08:00]\u001b[0m \u001b[34m\u001b[1mDEBUG | Response: [TextResponse(text=\"We have all the necessary information to provide a final summary.  The volume remains at 0.4. Let's use the `final_answer` tool.\"), ToolCallResponse(name='final_answer', args='{\"bpm\": 94, \"genre\": \"jazz\", \"volume\": 0.4}', call_id='Cof11u1HABZdwgU5ecN8aSZs')]\u001b[0m\n",
      "\u001b[32m[2025-01-14 10:08:00]\u001b[0m \u001b[1mINFO | Running tool: final_answer\u001b[0m\n",
      "\u001b[32m[2025-01-14 10:08:00]\u001b[0m \u001b[1mINFO | Tool: final_answer successfully ran.\u001b[0m\n",
      "\u001b[32m[2025-01-14 10:08:00]\u001b[0m \u001b[34m\u001b[1mDEBUG | Final result: [TextResponse(text='{\"bpm\": 94, \"genre\": \"jazz\", \"volume\": 0.4}')]\u001b[0m\n",
      "\u001b[32m[2025-01-14 10:08:00]\u001b[0m \u001b[1mINFO | Tool: route_music_control_agent successfully ran.\u001b[0m\n",
      "\u001b[32m[2025-01-14 10:08:00]\u001b[0m \u001b[34m\u001b[1mDEBUG | Prompt: [ToolUsePrompt(output='{\"bpm\": 94, \"genre\": \"jazz\", \"volume\": 0.4}', error=None, call_id='toolu_01KS9CBwwnuP9gf8YkGE4Fny', args='{\"instruction\": \"Change to another random jazz music while keeping the current volume at 0.4. Do not alter the equalizer settings.\"}', name='route_music_control_agent')]\u001b[0m\n",
      "\u001b[32m[2025-01-14 10:08:00]\u001b[0m \u001b[1mINFO | music_agent: Generating text\u001b[0m\n",
      "\u001b[32m[2025-01-14 10:08:03]\u001b[0m \u001b[34m\u001b[1mDEBUG | Response: [TextResponse(text=\"Great! The music has been changed to a new jazz track. Let's provide the final answer with all the current settings:\"), ToolCallResponse(name='final_answer', args='{\"genre\": \"jazz\", \"volume\": 0.4, \"bpm\": 94, \"equalizer_settings\": {\"hz_100\": -2, \"hz_200\": -2, \"hz_400\": 4, \"hz_800\": 4, \"hz_1600\": 4, \"hz_3200\": -2, \"hz_6400\": -2}}', call_id='toolu_01XYKP4zFBj3L7JGY1Jtwn6L')]\u001b[0m\n",
      "\u001b[32m[2025-01-14 10:08:03]\u001b[0m \u001b[1mINFO | Running tool: final_answer\u001b[0m\n",
      "\u001b[32m[2025-01-14 10:08:03]\u001b[0m \u001b[1mINFO | Tool: final_answer successfully ran.\u001b[0m\n",
      "\u001b[32m[2025-01-14 10:08:03]\u001b[0m \u001b[34m\u001b[1mDEBUG | Final result: [TextResponse(text='{\"genre\": \"jazz\", \"volume\": 0.4, \"bpm\": 94, \"equalizer_settings\": {\"hz_100\": -2, \"hz_200\": -2, \"hz_400\": 4, \"hz_800\": 4, \"hz_1600\": 4, \"hz_3200\": -2, \"hz_6400\": -2}}')]\u001b[0m\n",
      "\u001b[32m[2025-01-14 10:08:03]\u001b[0m \u001b[1mINFO | Tool: route_music_agent successfully ran.\u001b[0m\n",
      "\u001b[32m[2025-01-14 10:08:03]\u001b[0m \u001b[34m\u001b[1mDEBUG | Prompt: [ToolUsePrompt(output='{\"genre\": \"jazz\", \"volume\": 0.4, \"bpm\": 94, \"equalizer_settings\": {\"hz_100\": -2, \"hz_200\": -2, \"hz_400\": 4, \"hz_800\": 4, \"hz_1600\": 4, \"hz_3200\": -2, \"hz_6400\": -2}}', error=None, call_id='call_uSvcASIsH0Nyq0TAgaO3xxHj', args='{\"instruction\":\"Change to another random jazz music while keeping the current volume and equalizer settings.\"}', name='route_music_agent')]\u001b[0m\n",
      "\u001b[32m[2025-01-14 10:08:03]\u001b[0m \u001b[1mINFO | root: Generating text\u001b[0m\n",
      "\u001b[32m[2025-01-14 10:08:04]\u001b[0m \u001b[34m\u001b[1mDEBUG | Response: [ToolCallResponse(name='final_answer', args='{\"disco_ball\":{\"power\":false},\"music\":{\"genre\":\"jazz\",\"volume\":0.4,\"bpm\":94,\"equalizer_settings\":{\"hz_100\":-2,\"hz_200\":-2,\"hz_400\":4,\"hz_800\":4,\"hz_1600\":4,\"hz_3200\":-2,\"hz_6400\":-2}},\"lights\":{\"brightness\":0.2}}', call_id='call_HJj6FNcajnmzsjQsBbADiHNx')]\u001b[0m\n",
      "\u001b[32m[2025-01-14 10:08:04]\u001b[0m \u001b[1mINFO | Running tool: final_answer\u001b[0m\n",
      "\u001b[32m[2025-01-14 10:08:04]\u001b[0m \u001b[1mINFO | Tool: final_answer successfully ran.\u001b[0m\n",
      "\u001b[32m[2025-01-14 10:08:04]\u001b[0m \u001b[34m\u001b[1mDEBUG | Final result: [TextResponse(text='{\"disco_ball\": {\"power\": false}, \"music\": {\"genre\": \"jazz\", \"volume\": 0.4, \"bpm\": 94, \"equalizer_settings\": {\"hz_100\": -2, \"hz_200\": -2, \"hz_400\": 4, \"hz_800\": 4, \"hz_1600\": 4, \"hz_3200\": -2, \"hz_6400\": -2}}, \"lights\": {\"brightness\": 0.2}}')]\u001b[0m\n"
     ]
    }
   ],
   "source": [
    "prompt = \"Please change to another music of the same genre.\"\n",
    "\n",
    "response = orchestrator.generate_text(prompt=prompt)"
   ]
  },
  {
   "cell_type": "code",
   "execution_count": 34,
   "metadata": {},
   "outputs": [
    {
     "data": {
      "text/plain": [
       "{'disco_ball': {'power': False},\n",
       " 'music': {'genre': <MusicGenre.jazz: 'jazz'>,\n",
       "  'volume': 0.4,\n",
       "  'bpm': 94,\n",
       "  'equalizer_settings': {'hz_100': -2,\n",
       "   'hz_200': -2,\n",
       "   'hz_400': 4,\n",
       "   'hz_800': 4,\n",
       "   'hz_1600': 4,\n",
       "   'hz_3200': -2,\n",
       "   'hz_6400': -2}},\n",
       " 'lights': {'brightness': 0.2}}"
      ]
     },
     "execution_count": 34,
     "metadata": {},
     "output_type": "execute_result"
    }
   ],
   "source": [
    "ResponseSchema.model_validate_json(response.contents[0].text).model_dump()"
   ]
  },
  {
   "cell_type": "code",
   "execution_count": 35,
   "metadata": {},
   "outputs": [
    {
     "data": {
      "text/plain": [
       "[('music_control_agent',\n",
       "  Usage(model_name='gemini-1.5-flash-002', prompt_tokens=4331, output_tokens=141)),\n",
       " ('root',\n",
       "  Usage(model_name='gpt-4o-2024-11-20', prompt_tokens=6434, output_tokens=232)),\n",
       " ('music_agent',\n",
       "  Usage(model_name='claude-3-5-sonnet-20240620', prompt_tokens=4267, output_tokens=308))]"
      ]
     },
     "execution_count": 35,
     "metadata": {},
     "output_type": "execute_result"
    }
   ],
   "source": [
    "list(response.usage.items())"
   ]
  },
  {
   "cell_type": "code",
   "execution_count": 36,
   "metadata": {},
   "outputs": [
    {
     "data": {
      "text/plain": [
       "[[Prompt(type='Prompt', role='user', contents=[TextPrompt(text='Please make a concise plan to answer the following question/requirement, considering the conversation history.\\nYou can invoke the sub-agents or tools to answer the questions/requirements shown in the capabilities section.\\nAgent has no description while the tools have a description.\\n\\nQuestion/Requirement:\\nTurn this place into a lively party mood!\\n\\nCapabilities:\\n- lights_agent\\n  - turn_light_on: Turn the lights on.\\n  - adjust_lights: Adjust the brightness of the lights.\\n- disco_ball_agent\\n  - power_disco_ball: Powers the spinning dissco ball on or off.\\n- music_agent\\n  - music_control_agent\\n    - start_music: Start playing a random music with the given the genre.\\n    - change_music: Change the music.\\n    - change_music_volume: Change the music volume.\\n  - equalizer_control_agent\\n    - change_equalizer_settings: Change the equalizer settings of the music.\\n')], name=None),\n",
       "  Response(type='Response', role='assistant', contents=[TextResponse(text='### Plan to Turn the Place into a Lively Party Mood:\\n\\n1. **Lights**:\\n   - Turn the lights on using `turn_light_on`.\\n   - Adjust the brightness to a vibrant level using `adjust_lights`.\\n\\n2. **Disco Ball**:\\n   - Power on the disco ball using `power_disco_ball` to create a dynamic and fun atmosphere.\\n\\n3. **Music**:\\n   - Start playing upbeat party music by invoking `start_music` with a suitable genre like \"pop\" or \"dance\".\\n   - Adjust the music volume to an energetic level using `change_music_volume`.\\n   - Optionally, tweak the equalizer settings for enhanced bass and treble using `change_equalizer_settings`.\\n\\n4. **Coordination**:\\n   - Ensure all elements (lights, disco ball, and music) are synchronized to create a cohesive party vibe.')], usage=Usage(model_name=None, prompt_tokens=0, output_tokens=0), raw=None, name=None, is_last_chunk=None, prompt=None),\n",
       "  Prompt(type='Prompt', role='user', contents=[TextPrompt(text='Put the plan into action.')], name=None),\n",
       "  Response(type='Response', role='assistant', contents=[ToolCallResponse(name='route_lights_agent', args='{\"instruction\": \"Turn the lights on and adjust the brightness to a vibrant level suitable for a party.\"}', call_id='call_sOZnOTghjdzSbjQFeNQruoXN'), ToolCallResponse(name='route_disco_ball_agent', args='{\"instruction\": \"Power on the disco ball to create a dynamic and fun atmosphere.\"}', call_id='call_vyqrmw5oxfSHN7PZywyJpfH9'), ToolCallResponse(name='route_music_agent', args='{\"instruction\": \"Start playing upbeat pop music, adjust the volume to an energetic level, and enhance the bass and treble using the equalizer settings.\"}', call_id='call_jdquRu3BZNYMixV1KidLj5hs')], usage=Usage(model_name=None, prompt_tokens=0, output_tokens=0), raw=None, name=None, is_last_chunk=None, prompt=None),\n",
       "  Prompt(type='Prompt', role='user', contents=[ToolUsePrompt(output='{\"brightness\": 0.8}', error=None, call_id='call_sOZnOTghjdzSbjQFeNQruoXN', args='{\"instruction\": \"Turn the lights on and adjust the brightness to a vibrant level suitable for a party.\"}', name='route_lights_agent'), ToolUsePrompt(output='{\"power\": true}', error=None, call_id='call_vyqrmw5oxfSHN7PZywyJpfH9', args='{\"instruction\": \"Power on the disco ball to create a dynamic and fun atmosphere.\"}', name='route_disco_ball_agent'), ToolUsePrompt(output='{\"genre\": \"pop\", \"volume\": 0.8, \"bpm\": 110, \"equalizer_settings\": {\"hz_100\": 6, \"hz_200\": 6, \"hz_400\": 0, \"hz_800\": 0, \"hz_1600\": 0, \"hz_3200\": 4, \"hz_6400\": 4}}', error=None, call_id='call_jdquRu3BZNYMixV1KidLj5hs', args='{\"instruction\": \"Start playing upbeat pop music, adjust the volume to an energetic level, and enhance the bass and treble using the equalizer settings.\"}', name='route_music_agent')], name=None),\n",
       "  Response(type='Response', role='assistant', contents=[ToolCallResponse(name='final_answer', args='{\"disco_ball\":{\"power\":true},\"music\":{\"genre\":\"pop\",\"volume\":0.8,\"bpm\":110,\"equalizer_settings\":{\"hz_100\":6,\"hz_200\":6,\"hz_400\":0,\"hz_800\":0,\"hz_1600\":0,\"hz_3200\":4,\"hz_6400\":4}},\"lights\":{\"brightness\":0.8}}', call_id='call_iM91YuK1DZBCDIeHzXUdkOJV')], usage=Usage(model_name=None, prompt_tokens=0, output_tokens=0), raw=None, name=None, is_last_chunk=None, prompt=None),\n",
       "  Prompt(type='Prompt', role='user', contents=[ToolUsePrompt(output='{\"disco_ball\": {\"power\": true}, \"music\": {\"genre\": \"pop\", \"volume\": 0.8, \"bpm\": 110, \"equalizer_settings\": {\"hz_100\": 6, \"hz_200\": 6, \"hz_400\": 0, \"hz_800\": 0, \"hz_1600\": 0, \"hz_3200\": 4, \"hz_6400\": 4}}, \"lights\": {\"brightness\": 0.8}}', error=None, call_id='call_iM91YuK1DZBCDIeHzXUdkOJV', args='{\"disco_ball\":{\"power\":true},\"music\":{\"genre\":\"pop\",\"volume\":0.8,\"bpm\":110,\"equalizer_settings\":{\"hz_100\":6,\"hz_200\":6,\"hz_400\":0,\"hz_800\":0,\"hz_1600\":0,\"hz_3200\":4,\"hz_6400\":4}},\"lights\":{\"brightness\":0.8}}', name='final_answer')], name=None),\n",
       "  Response(type='Response', role='assistant', contents=[TextResponse(text='{\"disco_ball\": {\"power\": true}, \"music\": {\"genre\": \"pop\", \"volume\": 0.8, \"bpm\": 110, \"equalizer_settings\": {\"hz_100\": 6, \"hz_200\": 6, \"hz_400\": 0, \"hz_800\": 0, \"hz_1600\": 0, \"hz_3200\": 4, \"hz_6400\": 4}}, \"lights\": {\"brightness\": 0.8}}')], usage=Usage(model_name=None, prompt_tokens=0, output_tokens=0), raw=None, name=None, is_last_chunk=None, prompt=None)],\n",
       " [Prompt(type='Prompt', role='user', contents=[TextPrompt(text='Please make a concise plan to answer the following question/requirement, considering the conversation history.\\nYou can invoke the sub-agents or tools to answer the questions/requirements shown in the capabilities section.\\nAgent has no description while the tools have a description.\\n\\nQuestion/Requirement:\\nNext, please make a calm atmosphere with a jazz music.\\n\\nCapabilities:\\n- lights_agent\\n  - turn_light_on: Turn the lights on.\\n  - adjust_lights: Adjust the brightness of the lights.\\n- disco_ball_agent\\n  - power_disco_ball: Powers the spinning dissco ball on or off.\\n- music_agent\\n  - music_control_agent\\n    - start_music: Start playing a random music with the given the genre.\\n    - change_music: Change the music.\\n    - change_music_volume: Change the music volume.\\n  - equalizer_control_agent\\n    - change_equalizer_settings: Change the equalizer settings of the music.\\n')], name=None),\n",
       "  Response(type='Response', role='assistant', contents=[TextResponse(text='### Plan to Create a Calm Atmosphere with Jazz Music:\\n\\n1. **Lights**:\\n   - Adjust the brightness of the lights to a soft, dim level using `adjust_lights` to create a relaxing ambiance.\\n\\n2. **Disco Ball**:\\n   - Power off the disco ball using `power_disco_ball` to avoid any dynamic or distracting effects.\\n\\n3. **Music**:\\n   - Start playing soothing jazz music by invoking `start_music` with the genre \"jazz\".\\n   - Lower the music volume to a calm and comfortable level using `change_music_volume`.\\n   - Optionally, adjust the equalizer settings to emphasize mid-range frequencies for a warm and mellow sound using `change_equalizer_settings`.\\n\\n4. **Coordination**:\\n   - Ensure all elements (lights, disco ball, and music) are harmonized to create a serene and calming atmosphere.')], usage=Usage(model_name=None, prompt_tokens=0, output_tokens=0), raw=None, name=None, is_last_chunk=None, prompt=None),\n",
       "  Prompt(type='Prompt', role='user', contents=[TextPrompt(text='Put the plan into action.')], name=None),\n",
       "  Response(type='Response', role='assistant', contents=[ToolCallResponse(name='route_lights_agent', args='\"{\\\\\"instruction\\\\\": \\\\\"Adjust the brightness of the lights to a soft, dim level suitable for a calm atmosphere.\\\\\"}\"', call_id='call_ymt51FCGriI9jDp6xIS2FGEm'), ToolCallResponse(name='route_disco_ball_agent', args='\"{\\\\\"instruction\\\\\": \\\\\"Power off the disco ball to avoid dynamic effects.\\\\\"}\"', call_id='call_39gZtkZsFhJ9bFkeHD8Oo28q'), ToolCallResponse(name='route_music_agent', args='\"{\\\\\"instruction\\\\\": \\\\\"Start playing soothing jazz music, lower the volume to a calm level, and adjust the equalizer settings to emphasize mid-range frequencies for a warm sound.\\\\\"}\"', call_id='call_0dXbn1wUcROEGeZB0DoDJCfq')], usage=Usage(model_name=None, prompt_tokens=0, output_tokens=0), raw=None, name=None, is_last_chunk=None, prompt=None),\n",
       "  Prompt(type='Prompt', role='user', contents=[ToolUsePrompt(output=None, error='Error occurred while running tool: route_lights_agent. Retrying...\\nInput value: \"{\\\\\"instruction\\\\\": \\\\\"Adjust the brightness of the lights to a soft, dim level suitable for a calm atmosphere.\\\\\"}\"\\nTypeError: \\'str\\' object is not a mapping', call_id='call_ymt51FCGriI9jDp6xIS2FGEm', args='\"{\\\\\"instruction\\\\\": \\\\\"Adjust the brightness of the lights to a soft, dim level suitable for a calm atmosphere.\\\\\"}\"', name='route_lights_agent'), ToolUsePrompt(output=None, error='Error occurred while running tool: route_disco_ball_agent. Retrying...\\nInput value: \"{\\\\\"instruction\\\\\": \\\\\"Power off the disco ball to avoid dynamic effects.\\\\\"}\"\\nTypeError: \\'str\\' object is not a mapping', call_id='call_39gZtkZsFhJ9bFkeHD8Oo28q', args='\"{\\\\\"instruction\\\\\": \\\\\"Power off the disco ball to avoid dynamic effects.\\\\\"}\"', name='route_disco_ball_agent'), ToolUsePrompt(output=None, error='Error occurred while running tool: route_music_agent. Retrying...\\nInput value: \"{\\\\\"instruction\\\\\": \\\\\"Start playing soothing jazz music, lower the volume to a calm level, and adjust the equalizer settings to emphasize mid-range frequencies for a warm sound.\\\\\"}\"\\nTypeError: \\'str\\' object is not a mapping', call_id='call_0dXbn1wUcROEGeZB0DoDJCfq', args='\"{\\\\\"instruction\\\\\": \\\\\"Start playing soothing jazz music, lower the volume to a calm level, and adjust the equalizer settings to emphasize mid-range frequencies for a warm sound.\\\\\"}\"', name='route_music_agent'), TextPrompt(text='Please fix the error on tool use. If the validation error is raised, reflect the conversation history and try to find the correct answer. If there is no fact to answer the user, try to run other tools to get necessary information. ')], name=None),\n",
       "  Response(type='Response', role='assistant', contents=[ToolCallResponse(name='route_lights_agent', args='{\"instruction\": \"Adjust the brightness of the lights to a soft, dim level suitable for a calm atmosphere.\"}', call_id='call_mVjZ0AsIH6ezrVNSboaRnfiN'), ToolCallResponse(name='route_disco_ball_agent', args='{\"instruction\": \"Power off the disco ball to avoid dynamic effects.\"}', call_id='call_abOccZdqgJgJyMC3FQ8XQf6h'), ToolCallResponse(name='route_music_agent', args='{\"instruction\": \"Start playing soothing jazz music, lower the volume to a calm level, and adjust the equalizer settings to emphasize mid-range frequencies for a warm sound.\"}', call_id='call_VI5w0q1NVZEeYb2VPEubr1CH')], usage=Usage(model_name=None, prompt_tokens=0, output_tokens=0), raw=None, name=None, is_last_chunk=None, prompt=None),\n",
       "  Prompt(type='Prompt', role='user', contents=[ToolUsePrompt(output='{\"brightness\": 0.2}', error=None, call_id='call_mVjZ0AsIH6ezrVNSboaRnfiN', args='{\"instruction\": \"Adjust the brightness of the lights to a soft, dim level suitable for a calm atmosphere.\"}', name='route_lights_agent'), ToolUsePrompt(output='{\"power\": false}', error=None, call_id='call_abOccZdqgJgJyMC3FQ8XQf6h', args='{\"instruction\": \"Power off the disco ball to avoid dynamic effects.\"}', name='route_disco_ball_agent'), ToolUsePrompt(output='{\"genre\": \"jazz\", \"volume\": 0.4, \"bpm\": 120, \"equalizer_settings\": {\"hz_100\": -2, \"hz_200\": -2, \"hz_400\": 4, \"hz_800\": 4, \"hz_1600\": 4, \"hz_3200\": -2, \"hz_6400\": -2}}', error=None, call_id='call_VI5w0q1NVZEeYb2VPEubr1CH', args='{\"instruction\": \"Start playing soothing jazz music, lower the volume to a calm level, and adjust the equalizer settings to emphasize mid-range frequencies for a warm sound.\"}', name='route_music_agent')], name=None),\n",
       "  Response(type='Response', role='assistant', contents=[ToolCallResponse(name='final_answer', args='{\"disco_ball\":{\"power\":false},\"music\":{\"genre\":\"jazz\",\"volume\":0.4,\"bpm\":120,\"equalizer_settings\":{\"hz_100\":-2,\"hz_200\":-2,\"hz_400\":4,\"hz_800\":4,\"hz_1600\":4,\"hz_3200\":-2,\"hz_6400\":-2}},\"lights\":{\"brightness\":0.2}}', call_id='call_RKAI3kfNGQ6xudYYy3CUDU4m')], usage=Usage(model_name=None, prompt_tokens=0, output_tokens=0), raw=None, name=None, is_last_chunk=None, prompt=None),\n",
       "  Prompt(type='Prompt', role='user', contents=[ToolUsePrompt(output='{\"disco_ball\": {\"power\": false}, \"music\": {\"genre\": \"jazz\", \"volume\": 0.4, \"bpm\": 120, \"equalizer_settings\": {\"hz_100\": -2, \"hz_200\": -2, \"hz_400\": 4, \"hz_800\": 4, \"hz_1600\": 4, \"hz_3200\": -2, \"hz_6400\": -2}}, \"lights\": {\"brightness\": 0.2}}', error=None, call_id='call_RKAI3kfNGQ6xudYYy3CUDU4m', args='{\"disco_ball\":{\"power\":false},\"music\":{\"genre\":\"jazz\",\"volume\":0.4,\"bpm\":120,\"equalizer_settings\":{\"hz_100\":-2,\"hz_200\":-2,\"hz_400\":4,\"hz_800\":4,\"hz_1600\":4,\"hz_3200\":-2,\"hz_6400\":-2}},\"lights\":{\"brightness\":0.2}}', name='final_answer')], name=None),\n",
       "  Response(type='Response', role='assistant', contents=[TextResponse(text='{\"disco_ball\": {\"power\": false}, \"music\": {\"genre\": \"jazz\", \"volume\": 0.4, \"bpm\": 120, \"equalizer_settings\": {\"hz_100\": -2, \"hz_200\": -2, \"hz_400\": 4, \"hz_800\": 4, \"hz_1600\": 4, \"hz_3200\": -2, \"hz_6400\": -2}}, \"lights\": {\"brightness\": 0.2}}')], usage=Usage(model_name=None, prompt_tokens=0, output_tokens=0), raw=None, name=None, is_last_chunk=None, prompt=None)],\n",
       " [Prompt(type='Prompt', role='user', contents=[TextPrompt(text='Please make a concise plan to answer the following question/requirement, considering the conversation history.\\nYou can invoke the sub-agents or tools to answer the questions/requirements shown in the capabilities section.\\nAgent has no description while the tools have a description.\\n\\nQuestion/Requirement:\\nPlease change to another music of the same genre.\\n\\nCapabilities:\\n- lights_agent\\n  - turn_light_on: Turn the lights on.\\n  - adjust_lights: Adjust the brightness of the lights.\\n- disco_ball_agent\\n  - power_disco_ball: Powers the spinning dissco ball on or off.\\n- music_agent\\n  - music_control_agent\\n    - start_music: Start playing a random music with the given the genre.\\n    - change_music: Change the music.\\n    - change_music_volume: Change the music volume.\\n  - equalizer_control_agent\\n    - change_equalizer_settings: Change the equalizer settings of the music.\\n')], name=None),\n",
       "  Response(type='Response', role='assistant', contents=[TextResponse(text='### Plan to Change to Another Music of the Same Genre:\\n\\n1. **Music**:\\n   - Use the `change_music` function to switch to another random jazz music while keeping the same genre.\\n   - Ensure the volume and equalizer settings remain consistent with the current calm atmosphere.\\n\\n2. **Coordination**:\\n   - Verify that the new music aligns with the desired calm ambiance. If necessary, adjust the volume or equalizer settings using `change_music_volume` or `change_equalizer_settings`.')], usage=Usage(model_name=None, prompt_tokens=0, output_tokens=0), raw=None, name=None, is_last_chunk=None, prompt=None),\n",
       "  Prompt(type='Prompt', role='user', contents=[TextPrompt(text='Put the plan into action.')], name=None),\n",
       "  Response(type='Response', role='assistant', contents=[ToolCallResponse(name='route_music_agent', args='{\"instruction\":\"Change to another random jazz music while keeping the current volume and equalizer settings.\"}', call_id='call_uSvcASIsH0Nyq0TAgaO3xxHj')], usage=Usage(model_name=None, prompt_tokens=0, output_tokens=0), raw=None, name=None, is_last_chunk=None, prompt=None),\n",
       "  Prompt(type='Prompt', role='user', contents=[ToolUsePrompt(output='{\"genre\": \"jazz\", \"volume\": 0.4, \"bpm\": 94, \"equalizer_settings\": {\"hz_100\": -2, \"hz_200\": -2, \"hz_400\": 4, \"hz_800\": 4, \"hz_1600\": 4, \"hz_3200\": -2, \"hz_6400\": -2}}', error=None, call_id='call_uSvcASIsH0Nyq0TAgaO3xxHj', args='{\"instruction\":\"Change to another random jazz music while keeping the current volume and equalizer settings.\"}', name='route_music_agent')], name=None),\n",
       "  Response(type='Response', role='assistant', contents=[ToolCallResponse(name='final_answer', args='{\"disco_ball\":{\"power\":false},\"music\":{\"genre\":\"jazz\",\"volume\":0.4,\"bpm\":94,\"equalizer_settings\":{\"hz_100\":-2,\"hz_200\":-2,\"hz_400\":4,\"hz_800\":4,\"hz_1600\":4,\"hz_3200\":-2,\"hz_6400\":-2}},\"lights\":{\"brightness\":0.2}}', call_id='call_HJj6FNcajnmzsjQsBbADiHNx')], usage=Usage(model_name=None, prompt_tokens=0, output_tokens=0), raw=None, name=None, is_last_chunk=None, prompt=None),\n",
       "  Prompt(type='Prompt', role='user', contents=[ToolUsePrompt(output='{\"disco_ball\": {\"power\": false}, \"music\": {\"genre\": \"jazz\", \"volume\": 0.4, \"bpm\": 94, \"equalizer_settings\": {\"hz_100\": -2, \"hz_200\": -2, \"hz_400\": 4, \"hz_800\": 4, \"hz_1600\": 4, \"hz_3200\": -2, \"hz_6400\": -2}}, \"lights\": {\"brightness\": 0.2}}', error=None, call_id='call_HJj6FNcajnmzsjQsBbADiHNx', args='{\"disco_ball\":{\"power\":false},\"music\":{\"genre\":\"jazz\",\"volume\":0.4,\"bpm\":94,\"equalizer_settings\":{\"hz_100\":-2,\"hz_200\":-2,\"hz_400\":4,\"hz_800\":4,\"hz_1600\":4,\"hz_3200\":-2,\"hz_6400\":-2}},\"lights\":{\"brightness\":0.2}}', name='final_answer')], name=None),\n",
       "  Response(type='Response', role='assistant', contents=[TextResponse(text='{\"disco_ball\": {\"power\": false}, \"music\": {\"genre\": \"jazz\", \"volume\": 0.4, \"bpm\": 94, \"equalizer_settings\": {\"hz_100\": -2, \"hz_200\": -2, \"hz_400\": 4, \"hz_800\": 4, \"hz_1600\": 4, \"hz_3200\": -2, \"hz_6400\": -2}}, \"lights\": {\"brightness\": 0.2}}')], usage=Usage(model_name=None, prompt_tokens=0, output_tokens=0), raw=None, name=None, is_last_chunk=None, prompt=None)]]"
      ]
     },
     "execution_count": 36,
     "metadata": {},
     "output_type": "execute_result"
    }
   ],
   "source": [
    "orchestrator.load_history()"
   ]
  },
  {
   "cell_type": "markdown",
   "metadata": {},
   "source": [
    "`use_last_n_turns` extracts the specified turns history from the entire history above. Here is an internal process."
   ]
  },
  {
   "cell_type": "code",
   "execution_count": 37,
   "metadata": {},
   "outputs": [
    {
     "data": {
      "text/plain": [
       "[[Prompt(type='Prompt', role='user', contents=[TextPrompt(text='Please make a concise plan to answer the following question/requirement, considering the conversation history.\\nYou can invoke the sub-agents or tools to answer the questions/requirements shown in the capabilities section.\\nAgent has no description while the tools have a description.\\n\\nQuestion/Requirement:\\nPlease change to another music of the same genre.\\n\\nCapabilities:\\n- lights_agent\\n  - turn_light_on: Turn the lights on.\\n  - adjust_lights: Adjust the brightness of the lights.\\n- disco_ball_agent\\n  - power_disco_ball: Powers the spinning dissco ball on or off.\\n- music_agent\\n  - music_control_agent\\n    - start_music: Start playing a random music with the given the genre.\\n    - change_music: Change the music.\\n    - change_music_volume: Change the music volume.\\n  - equalizer_control_agent\\n    - change_equalizer_settings: Change the equalizer settings of the music.\\n')], name=None),\n",
       "  Response(type='Response', role='assistant', contents=[TextResponse(text='### Plan to Change to Another Music of the Same Genre:\\n\\n1. **Music**:\\n   - Use the `change_music` function to switch to another random jazz music while keeping the same genre.\\n   - Ensure the volume and equalizer settings remain consistent with the current calm atmosphere.\\n\\n2. **Coordination**:\\n   - Verify that the new music aligns with the desired calm ambiance. If necessary, adjust the volume or equalizer settings using `change_music_volume` or `change_equalizer_settings`.')], usage=Usage(model_name=None, prompt_tokens=0, output_tokens=0), raw=None, name=None, is_last_chunk=None, prompt=None),\n",
       "  Prompt(type='Prompt', role='user', contents=[TextPrompt(text='Put the plan into action.')], name=None),\n",
       "  Response(type='Response', role='assistant', contents=[ToolCallResponse(name='route_music_agent', args='{\"instruction\":\"Change to another random jazz music while keeping the current volume and equalizer settings.\"}', call_id='call_uSvcASIsH0Nyq0TAgaO3xxHj')], usage=Usage(model_name=None, prompt_tokens=0, output_tokens=0), raw=None, name=None, is_last_chunk=None, prompt=None),\n",
       "  Prompt(type='Prompt', role='user', contents=[ToolUsePrompt(output='{\"genre\": \"jazz\", \"volume\": 0.4, \"bpm\": 94, \"equalizer_settings\": {\"hz_100\": -2, \"hz_200\": -2, \"hz_400\": 4, \"hz_800\": 4, \"hz_1600\": 4, \"hz_3200\": -2, \"hz_6400\": -2}}', error=None, call_id='call_uSvcASIsH0Nyq0TAgaO3xxHj', args='{\"instruction\":\"Change to another random jazz music while keeping the current volume and equalizer settings.\"}', name='route_music_agent')], name=None),\n",
       "  Response(type='Response', role='assistant', contents=[ToolCallResponse(name='final_answer', args='{\"disco_ball\":{\"power\":false},\"music\":{\"genre\":\"jazz\",\"volume\":0.4,\"bpm\":94,\"equalizer_settings\":{\"hz_100\":-2,\"hz_200\":-2,\"hz_400\":4,\"hz_800\":4,\"hz_1600\":4,\"hz_3200\":-2,\"hz_6400\":-2}},\"lights\":{\"brightness\":0.2}}', call_id='call_HJj6FNcajnmzsjQsBbADiHNx')], usage=Usage(model_name=None, prompt_tokens=0, output_tokens=0), raw=None, name=None, is_last_chunk=None, prompt=None),\n",
       "  Prompt(type='Prompt', role='user', contents=[ToolUsePrompt(output='{\"disco_ball\": {\"power\": false}, \"music\": {\"genre\": \"jazz\", \"volume\": 0.4, \"bpm\": 94, \"equalizer_settings\": {\"hz_100\": -2, \"hz_200\": -2, \"hz_400\": 4, \"hz_800\": 4, \"hz_1600\": 4, \"hz_3200\": -2, \"hz_6400\": -2}}, \"lights\": {\"brightness\": 0.2}}', error=None, call_id='call_HJj6FNcajnmzsjQsBbADiHNx', args='{\"disco_ball\":{\"power\":false},\"music\":{\"genre\":\"jazz\",\"volume\":0.4,\"bpm\":94,\"equalizer_settings\":{\"hz_100\":-2,\"hz_200\":-2,\"hz_400\":4,\"hz_800\":4,\"hz_1600\":4,\"hz_3200\":-2,\"hz_6400\":-2}},\"lights\":{\"brightness\":0.2}}', name='final_answer')], name=None),\n",
       "  Response(type='Response', role='assistant', contents=[TextResponse(text='{\"disco_ball\": {\"power\": false}, \"music\": {\"genre\": \"jazz\", \"volume\": 0.4, \"bpm\": 94, \"equalizer_settings\": {\"hz_100\": -2, \"hz_200\": -2, \"hz_400\": 4, \"hz_800\": 4, \"hz_1600\": 4, \"hz_3200\": -2, \"hz_6400\": -2}}, \"lights\": {\"brightness\": 0.2}}')], usage=Usage(model_name=None, prompt_tokens=0, output_tokens=0), raw=None, name=None, is_last_chunk=None, prompt=None)]]"
      ]
     },
     "execution_count": 37,
     "metadata": {},
     "output_type": "execute_result"
    }
   ],
   "source": [
    "entire_history = orchestrator.load_history()\n",
    "used_history = orchestrator._pick_last_n_turns_history(entire_history)\n",
    "used_history"
   ]
  },
  {
   "cell_type": "code",
   "execution_count": 38,
   "metadata": {},
   "outputs": [
    {
     "data": {
      "text/plain": [
       "True"
      ]
     },
     "execution_count": 38,
     "metadata": {},
     "output_type": "execute_result"
    }
   ],
   "source": [
    "used_history[0] == entire_history[-1]"
   ]
  },
  {
   "cell_type": "markdown",
   "metadata": {},
   "source": [
    "Ofcourse you can inject a state as a context to a tool and can use or update the state within the tool, but in this case, please be careful for its treasability."
   ]
  }
 ],
 "metadata": {
  "kernelspec": {
   "display_name": ".venv",
   "language": "python",
   "name": "python3"
  },
  "language_info": {
   "codemirror_mode": {
    "name": "ipython",
    "version": 3
   },
   "file_extension": ".py",
   "mimetype": "text/x-python",
   "name": "python",
   "nbconvert_exporter": "python",
   "pygments_lexer": "ipython3",
   "version": "3.10.12"
  }
 },
 "nbformat": 4,
 "nbformat_minor": 4
}
