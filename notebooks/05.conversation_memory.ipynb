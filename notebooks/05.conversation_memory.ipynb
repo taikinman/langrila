{
 "cells": [
  {
   "cell_type": "code",
   "execution_count": 1,
   "metadata": {},
   "outputs": [],
   "source": [
    "import os\n",
    "import warnings\n",
    "\n",
    "warnings.simplefilter(action=\"ignore\")\n",
    "os.environ[\"GRPC_VERBOSITY\"] = \"NONE\""
   ]
  },
  {
   "cell_type": "markdown",
   "metadata": {},
   "source": [
    "# Prerequisites"
   ]
  },
  {
   "cell_type": "markdown",
   "metadata": {},
   "source": [
    "Please make sure your environmental variables and dependencies are ready to use LLM services."
   ]
  },
  {
   "cell_type": "code",
   "execution_count": 2,
   "metadata": {},
   "outputs": [
    {
     "data": {
      "text/plain": [
       "True"
      ]
     },
     "execution_count": 2,
     "metadata": {},
     "output_type": "execute_result"
    }
   ],
   "source": [
    "from dotenv import load_dotenv\n",
    "\n",
    "load_dotenv(\"../../.env_api\")"
   ]
  },
  {
   "cell_type": "markdown",
   "metadata": {},
   "source": [
    "# Import modules"
   ]
  },
  {
   "cell_type": "code",
   "execution_count": 3,
   "metadata": {},
   "outputs": [],
   "source": [
    "from langrila.claude import ClaudeFunctionalChat\n",
    "from langrila.gemini import GeminiFunctionalChat\n",
    "from langrila.openai import OpenAIFunctionalChat"
   ]
  },
  {
   "cell_type": "markdown",
   "metadata": {},
   "source": [
    "# Conversation memory"
   ]
  },
  {
   "cell_type": "markdown",
   "metadata": {},
   "source": [
    "In default, `InMemoryConversationMemory`, `JSONConversationMemory` and `PickleConversationMemory` are available. With extra dependencies, `CosmosConversationMemory` for Azure and `S3ConversationMemory` for AWS are also."
   ]
  },
  {
   "cell_type": "code",
   "execution_count": 4,
   "metadata": {},
   "outputs": [],
   "source": [
    "from langrila import InMemoryConversationMemory"
   ]
  },
  {
   "cell_type": "markdown",
   "metadata": {},
   "source": [
    "## Way to keep conversation history"
   ]
  },
  {
   "cell_type": "markdown",
   "metadata": {},
   "source": [
    "Things you need to do is just to pass conversation memory module to chat module when initializing or generating. The former way is useful if you want to keep entire history, and the later way is useful to select conversation to keep."
   ]
  },
  {
   "cell_type": "markdown",
   "metadata": {},
   "source": [
    "Here is an example of the first way using OpenAI API:"
   ]
  },
  {
   "cell_type": "code",
   "execution_count": 5,
   "metadata": {},
   "outputs": [],
   "source": [
    "conversation_memory = InMemoryConversationMemory()\n",
    "\n",
    "chat_openai = OpenAIFunctionalChat(\n",
    "    api_key_env_name=\"API_KEY\",\n",
    "    model_name=\"gpt-4o-2024-08-06\",\n",
    "    conversation_memory=conversation_memory,\n",
    ")\n",
    "\n",
    "prompt = \"Hello, how are you today?\"\n",
    "response = chat_openai.run(prompt=prompt)"
   ]
  },
  {
   "cell_type": "code",
   "execution_count": 6,
   "metadata": {},
   "outputs": [
    {
     "name": "stdout",
     "output_type": "stream",
     "text": [
      "Hello! I'm just a program, so I don't have feelings, but I'm here and ready to help you. How can I assist you today?\n"
     ]
    }
   ],
   "source": [
    "prompt = \"Please repeat the last answer.\"\n",
    "response = chat_openai.run(prompt=prompt)\n",
    "print(response.message.content[0].text)"
   ]
  },
  {
   "cell_type": "markdown",
   "metadata": {},
   "source": [
    "Here is an example of the second way. In this case, conversation memory doesn't store and insert the history if you don't specify conversation memory in generation method."
   ]
  },
  {
   "cell_type": "code",
   "execution_count": 7,
   "metadata": {},
   "outputs": [],
   "source": [
    "chat_openai = OpenAIFunctionalChat(\n",
    "    api_key_env_name=\"API_KEY\",\n",
    "    model_name=\"gpt-4o-2024-08-06\",\n",
    ")\n",
    "\n",
    "prompt = \"Hello, how are you today?\"\n",
    "conversation_memory = InMemoryConversationMemory()\n",
    "response = chat_openai.run(prompt=prompt, conversation_memory=conversation_memory)"
   ]
  },
  {
   "cell_type": "code",
   "execution_count": 8,
   "metadata": {},
   "outputs": [
    {
     "name": "stdout",
     "output_type": "stream",
     "text": [
      "I'm sorry, I can't repeat the last answer as I don't have memory of prior interactions. Can you please provide the question again, and I'll do my best to help you?\n"
     ]
    }
   ],
   "source": [
    "prompt = \"Please repeat the last answer.\"\n",
    "response = chat_openai.run(prompt=prompt)\n",
    "print(response.message.content[0].text)"
   ]
  },
  {
   "cell_type": "markdown",
   "metadata": {},
   "source": [
    "But the first turn is stored because conversation memory was passed to generation method."
   ]
  },
  {
   "cell_type": "code",
   "execution_count": 9,
   "metadata": {},
   "outputs": [
    {
     "data": {
      "text/plain": [
       "[{'role': 'user',\n",
       "  'content': [{'text': 'Hello, how are you today?'}],\n",
       "  'name': None},\n",
       " {'role': 'assistant',\n",
       "  'content': [{'text': \"Hello! I'm just a computer program, so I don't have feelings, but I'm here and ready to help you with whatever you need. How can I assist you today?\"}],\n",
       "  'name': None}]"
      ]
     },
     "execution_count": 9,
     "metadata": {},
     "output_type": "execute_result"
    }
   ],
   "source": [
    "conversation_memory.load()"
   ]
  },
  {
   "cell_type": "markdown",
   "metadata": {},
   "source": [
    "# How it works"
   ]
  },
  {
   "cell_type": "markdown",
   "metadata": {},
   "source": [
    "Conversation memory keeps prompt message and response message with universal message format. If you specify content filter, the masked history is restored in the memory. To keep the history with universal message format allows you to reuse history over the client, for example, save history for OpenAI, then use it for Gemini, even if you calls tools while conversation."
   ]
  },
  {
   "cell_type": "markdown",
   "metadata": {},
   "source": [
    "## Multi-turn conversation"
   ]
  },
  {
   "cell_type": "markdown",
   "metadata": {},
   "source": [
    "It's the demonstration using OpenAI API, but the same for the other client. "
   ]
  },
  {
   "cell_type": "code",
   "execution_count": 10,
   "metadata": {},
   "outputs": [],
   "source": [
    "chat_openai = OpenAIFunctionalChat(\n",
    "    api_key_env_name=\"API_KEY\",\n",
    "    model_name=\"gpt-4o-2024-08-06\",\n",
    ")\n",
    "\n",
    "conversation_memory = InMemoryConversationMemory()"
   ]
  },
  {
   "cell_type": "markdown",
   "metadata": {},
   "source": [
    "It's an example of multi-turn conversation."
   ]
  },
  {
   "cell_type": "code",
   "execution_count": 11,
   "metadata": {},
   "outputs": [
    {
     "name": "stdout",
     "output_type": "stream",
     "text": [
      "Yes, Rude is a character from Final Fantasy VII, a popular role-playing game developed by Square Enix. He is a member of the Turks, which is a group of covert operatives working for the Shinra Electric Power Company. Rude is known for his stoic demeanor, loyalty to his partners, particularly his colleague Reno, and his combat prowess. He plays a recurring role throughout the game, often appearing as an adversary to the game's protagonists, Cloud Strife and his party. Despite being an antagonist, Rude is portrayed as having a sense of honor and professionalism.\n"
     ]
    }
   ],
   "source": [
    "prompt = \"Do you know Rude in Final Fantasy VII?\"\n",
    "response = chat_openai.run(\n",
    "    prompt, model_name=\"gpt-4o-2024-08-06\", conversation_memory=conversation_memory\n",
    ")\n",
    "print(response.message.content[0].text)"
   ]
  },
  {
   "cell_type": "code",
   "execution_count": 12,
   "metadata": {},
   "outputs": [
    {
     "name": "stdout",
     "output_type": "stream",
     "text": [
      "In Final Fantasy VII, Rude is known to have a crush on Tifa Lockhart, one of the main characters and a member of Cloud's party. This information is subtly hinted at in the original game and is more explicitly revealed in supporting materials and adaptations. Despite being on opposing sides, Rude's feelings for Tifa are shown through his reluctance to fight her directly during encounters and his general shyness around her. This aspect of Rude's character adds depth to his personality, highlighting his more human and personable side amid his duties as a Turk.\n"
     ]
    }
   ],
   "source": [
    "prompt = \"What does he think about Tifa?\"\n",
    "response = chat_openai.run(\n",
    "    prompt, model_name=\"gpt-4o-2024-08-06\", conversation_memory=conversation_memory\n",
    ")\n",
    "print(response.message.content[0].text)"
   ]
  },
  {
   "cell_type": "markdown",
   "metadata": {},
   "source": [
    "The contents kept by the conversation memory."
   ]
  },
  {
   "cell_type": "code",
   "execution_count": 13,
   "metadata": {},
   "outputs": [
    {
     "data": {
      "text/plain": [
       "[{'role': 'user',\n",
       "  'content': [{'text': 'Do you know Rude in Final Fantasy VII?'}],\n",
       "  'name': None},\n",
       " {'role': 'assistant',\n",
       "  'content': [{'text': \"Yes, Rude is a character from Final Fantasy VII, a popular role-playing game developed by Square Enix. He is a member of the Turks, which is a group of covert operatives working for the Shinra Electric Power Company. Rude is known for his stoic demeanor, loyalty to his partners, particularly his colleague Reno, and his combat prowess. He plays a recurring role throughout the game, often appearing as an adversary to the game's protagonists, Cloud Strife and his party. Despite being an antagonist, Rude is portrayed as having a sense of honor and professionalism.\"}],\n",
       "  'name': None},\n",
       " {'role': 'user',\n",
       "  'content': [{'text': 'What does he think about Tifa?'}],\n",
       "  'name': None},\n",
       " {'role': 'assistant',\n",
       "  'content': [{'text': \"In Final Fantasy VII, Rude is known to have a crush on Tifa Lockhart, one of the main characters and a member of Cloud's party. This information is subtly hinted at in the original game and is more explicitly revealed in supporting materials and adaptations. Despite being on opposing sides, Rude's feelings for Tifa are shown through his reluctance to fight her directly during encounters and his general shyness around her. This aspect of Rude's character adds depth to his personality, highlighting his more human and personable side amid his duties as a Turk.\"}],\n",
       "  'name': None}]"
      ]
     },
     "execution_count": 13,
     "metadata": {},
     "output_type": "execute_result"
    }
   ],
   "source": [
    "conversation_memory.load()"
   ]
  },
  {
   "cell_type": "markdown",
   "metadata": {},
   "source": [
    "## Multi-turn conversation with tools"
   ]
  },
  {
   "cell_type": "markdown",
   "metadata": {},
   "source": [
    "It's the demonstration using OpenAI API, but the same for the other client. The tools below is the same as the example in `02.function_calling.ipynb`."
   ]
  },
  {
   "cell_type": "code",
   "execution_count": 14,
   "metadata": {},
   "outputs": [],
   "source": [
    "def power_disco_ball(power: bool) -> bool:\n",
    "    \"\"\"Powers the spinning disco ball.\"\"\"\n",
    "    return f\"Disco ball is {'spinning!' if power else 'stopped.'}\"\n",
    "\n",
    "\n",
    "def start_music(energetic: bool, loud: bool, bpm: str) -> str:\n",
    "    \"\"\"Play some music matching the specified parameters.\n",
    "\n",
    "    Args:\n",
    "      energetic: Whether the music is energetic or not.\n",
    "      loud: Whether the music is loud or not.\n",
    "      bpm: The beats per minute of the music.\n",
    "\n",
    "    Returns: The music property.\n",
    "    \"\"\"\n",
    "    return f\"Starting music! {energetic=} {loud=}, {bpm=}\"\n",
    "\n",
    "\n",
    "def dim_lights(brightness: float) -> bool:\n",
    "    \"\"\"Dim the lights.\n",
    "\n",
    "    Args:\n",
    "      brightness: The brightness of the lights, 0.0 is off, 1.0 is full.\n",
    "    \"\"\"\n",
    "    return f\"Lights are now set to {brightness}\""
   ]
  },
  {
   "cell_type": "code",
   "execution_count": 15,
   "metadata": {},
   "outputs": [],
   "source": [
    "from langrila import ToolConfig, ToolParameter, ToolProperty\n",
    "\n",
    "tool_configs = [\n",
    "    ToolConfig(\n",
    "        name=\"power_disco_ball\",\n",
    "        description=\"Powers the spinning disco ball.\",\n",
    "        parameters=ToolParameter(\n",
    "            properties=[\n",
    "                ToolProperty(\n",
    "                    name=\"power\",\n",
    "                    type=\"boolean\",\n",
    "                    description=\"Boolean to spin disco ball.\",\n",
    "                ),\n",
    "            ],\n",
    "            required=[\"power\"],\n",
    "        ),\n",
    "    ),\n",
    "    ToolConfig(\n",
    "        name=\"start_music\",\n",
    "        description=\"Play some music matching the specified parameters.\",\n",
    "        parameters=ToolParameter(\n",
    "            properties=[\n",
    "                ToolProperty(\n",
    "                    name=\"energetic\",\n",
    "                    type=\"boolean\",\n",
    "                    description=\"Whether the music is energetic or not.\",\n",
    "                ),\n",
    "                ToolProperty(\n",
    "                    name=\"loud\", type=\"boolean\", description=\"Whether the music is loud or not.\"\n",
    "                ),\n",
    "                ToolProperty(\n",
    "                    name=\"bpm\",\n",
    "                    type=\"string\",\n",
    "                    description=\"The beats per minute of the music.\",\n",
    "                    enum=[\"60\", \"120\", \"180\"],\n",
    "                ),\n",
    "            ],\n",
    "            required=[\"energetic\", \"loud\", \"bpm\"],\n",
    "        ),\n",
    "    ),\n",
    "    ToolConfig(\n",
    "        name=\"dim_lights\",\n",
    "        description=\"Dim the lights.\",\n",
    "        parameters=ToolParameter(\n",
    "            properties=[\n",
    "                ToolProperty(\n",
    "                    name=\"brightness\",\n",
    "                    type=\"number\",\n",
    "                    description=\"The brightness of the lights, 0.0 is off, 1.0 is full.\",\n",
    "                ),\n",
    "            ],\n",
    "            required=[\"brightness\"],\n",
    "        ),\n",
    "    ),\n",
    "]"
   ]
  },
  {
   "cell_type": "markdown",
   "metadata": {},
   "source": [
    "Initializing chat module."
   ]
  },
  {
   "cell_type": "code",
   "execution_count": 16,
   "metadata": {},
   "outputs": [],
   "source": [
    "chat_openai = OpenAIFunctionalChat(\n",
    "    api_key_env_name=\"API_KEY\",\n",
    "    model_name=\"gpt-4o-mini-2024-07-18\",\n",
    "    tools=[power_disco_ball, start_music, dim_lights],\n",
    "    tool_configs=tool_configs,\n",
    "    conversation_memory=InMemoryConversationMemory(),\n",
    ")"
   ]
  },
  {
   "cell_type": "markdown",
   "metadata": {},
   "source": [
    "First turn."
   ]
  },
  {
   "cell_type": "code",
   "execution_count": 17,
   "metadata": {},
   "outputs": [
    {
     "name": "stdout",
     "output_type": "stream",
     "text": [
      "The party mood is all set! The disco ball is spinning, energetic music is playing at a lively beat of 120 BPM, and the lights are dimmed for that cozy vibe. Get ready to have a great time! 🎉✨\n"
     ]
    }
   ],
   "source": [
    "prompt = \"Turn this place into a comfortable party mood!\"\n",
    "\n",
    "response = chat_openai.run(prompt=prompt)\n",
    "\n",
    "print(response.message.content[0].text)"
   ]
  },
  {
   "cell_type": "markdown",
   "metadata": {},
   "source": [
    "Next turn."
   ]
  },
  {
   "cell_type": "code",
   "execution_count": 18,
   "metadata": {},
   "outputs": [
    {
     "name": "stdout",
     "output_type": "stream",
     "text": [
      "I've cranked up the music to a pulsating 180 BPM! The energy in the room just skyrocketed. Let’s keep the party going! 🎶🔥\n"
     ]
    }
   ],
   "source": [
    "prompt = \"Can you make bpm up more?\"\n",
    "\n",
    "response = chat_openai.run(prompt=prompt)\n",
    "\n",
    "print(response.message.content[0].text)"
   ]
  },
  {
   "cell_type": "markdown",
   "metadata": {},
   "source": [
    "History is added in the prompt as you can find below."
   ]
  },
  {
   "cell_type": "code",
   "execution_count": 19,
   "metadata": {},
   "outputs": [
    {
     "data": {
      "text/plain": [
       "[{'role': 'user',\n",
       "  'content': [{'type': 'text',\n",
       "    'text': 'Turn this place into a comfortable party mood!'}],\n",
       "  'name': 'User'},\n",
       " {'content': None,\n",
       "  'refusal': None,\n",
       "  'role': 'assistant',\n",
       "  'audio': None,\n",
       "  'function_call': None,\n",
       "  'tool_calls': [{'id': 'call_Xhc4cHGwpijBdUGSxGIEMI5z',\n",
       "    'function': {'arguments': '{\"power\": true}', 'name': 'power_disco_ball'},\n",
       "    'type': 'function'},\n",
       "   {'id': 'call_GnW8qFpTCg6njvLXwrCknX2N',\n",
       "    'function': {'arguments': '{\"energetic\": true, \"loud\": true, \"bpm\": \"120\"}',\n",
       "     'name': 'start_music'},\n",
       "    'type': 'function'},\n",
       "   {'id': 'call_6vtMy5f3FVYMEOjIJrkpURff',\n",
       "    'function': {'arguments': '{\"brightness\": 0.5}', 'name': 'dim_lights'},\n",
       "    'type': 'function'}]},\n",
       " {'role': 'tool',\n",
       "  'tool_call_id': 'call_Xhc4cHGwpijBdUGSxGIEMI5z',\n",
       "  'name': 'power_disco_ball',\n",
       "  'content': 'Disco ball is spinning!'},\n",
       " {'role': 'tool',\n",
       "  'tool_call_id': 'call_GnW8qFpTCg6njvLXwrCknX2N',\n",
       "  'name': 'start_music',\n",
       "  'content': \"Starting music! energetic=True loud=True, bpm='120'\"},\n",
       " {'role': 'tool',\n",
       "  'tool_call_id': 'call_6vtMy5f3FVYMEOjIJrkpURff',\n",
       "  'name': 'dim_lights',\n",
       "  'content': 'Lights are now set to 0.5'},\n",
       " {'role': 'assistant',\n",
       "  'content': [{'type': 'text',\n",
       "    'text': 'The party mood is all set! The disco ball is spinning, energetic music is playing at a lively beat of 120 BPM, and the lights are dimmed for that cozy vibe. Get ready to have a great time! 🎉✨'}],\n",
       "  'name': 'Assistant'},\n",
       " {'role': 'user',\n",
       "  'content': [{'type': 'text', 'text': 'Can you make bpm up more?'}],\n",
       "  'name': 'User'},\n",
       " {'content': None,\n",
       "  'refusal': None,\n",
       "  'role': 'assistant',\n",
       "  'audio': None,\n",
       "  'function_call': None,\n",
       "  'tool_calls': [{'id': 'call_8EXrlcOPf2HPbbQQwA2UfI3Q',\n",
       "    'function': {'arguments': '{\"energetic\":true,\"loud\":true,\"bpm\":\"180\"}',\n",
       "     'name': 'start_music'},\n",
       "    'type': 'function'}]},\n",
       " {'role': 'tool',\n",
       "  'tool_call_id': 'call_8EXrlcOPf2HPbbQQwA2UfI3Q',\n",
       "  'name': 'start_music',\n",
       "  'content': \"Starting music! energetic=True loud=True, bpm='180'\"}]"
      ]
     },
     "execution_count": 19,
     "metadata": {},
     "output_type": "execute_result"
    }
   ],
   "source": [
    "response.prompt"
   ]
  },
  {
   "cell_type": "markdown",
   "metadata": {},
   "source": [
    "Conversation memory contains tool call and tool use messages."
   ]
  },
  {
   "cell_type": "code",
   "execution_count": 20,
   "metadata": {},
   "outputs": [
    {
     "data": {
      "text/plain": [
       "[{'role': 'user',\n",
       "  'content': [{'text': 'Turn this place into a comfortable party mood!'}],\n",
       "  'name': None},\n",
       " {'role': 'function_call',\n",
       "  'content': [{'name': 'power_disco_ball',\n",
       "    'args': '{\"power\": true}',\n",
       "    'call_id': 'call_Xhc4cHGwpijBdUGSxGIEMI5z'},\n",
       "   {'name': 'start_music',\n",
       "    'args': '{\"energetic\": true, \"loud\": true, \"bpm\": \"120\"}',\n",
       "    'call_id': 'call_GnW8qFpTCg6njvLXwrCknX2N'},\n",
       "   {'name': 'dim_lights',\n",
       "    'args': '{\"brightness\": 0.5}',\n",
       "    'call_id': 'call_6vtMy5f3FVYMEOjIJrkpURff'}],\n",
       "  'name': None},\n",
       " {'role': 'function',\n",
       "  'content': [{'output': 'Disco ball is spinning!',\n",
       "    'call_id': 'call_Xhc4cHGwpijBdUGSxGIEMI5z',\n",
       "    'args': '{\"power\": true}',\n",
       "    'funcname': 'power_disco_ball'},\n",
       "   {'output': \"Starting music! energetic=True loud=True, bpm='120'\",\n",
       "    'call_id': 'call_GnW8qFpTCg6njvLXwrCknX2N',\n",
       "    'args': '{\"energetic\": true, \"loud\": true, \"bpm\": \"120\"}',\n",
       "    'funcname': 'start_music'},\n",
       "   {'output': 'Lights are now set to 0.5',\n",
       "    'call_id': 'call_6vtMy5f3FVYMEOjIJrkpURff',\n",
       "    'args': '{\"brightness\": 0.5}',\n",
       "    'funcname': 'dim_lights'}],\n",
       "  'name': None},\n",
       " {'role': 'assistant',\n",
       "  'content': [{'text': 'The party mood is all set! The disco ball is spinning, energetic music is playing at a lively beat of 120 BPM, and the lights are dimmed for that cozy vibe. Get ready to have a great time! 🎉✨'}],\n",
       "  'name': None},\n",
       " {'role': 'user',\n",
       "  'content': [{'text': 'Can you make bpm up more?'}],\n",
       "  'name': None},\n",
       " {'role': 'function_call',\n",
       "  'content': [{'name': 'start_music',\n",
       "    'args': '{\"energetic\":true,\"loud\":true,\"bpm\":\"180\"}',\n",
       "    'call_id': 'call_8EXrlcOPf2HPbbQQwA2UfI3Q'}],\n",
       "  'name': None},\n",
       " {'role': 'function',\n",
       "  'content': [{'output': \"Starting music! energetic=True loud=True, bpm='180'\",\n",
       "    'call_id': 'call_8EXrlcOPf2HPbbQQwA2UfI3Q',\n",
       "    'args': '{\"energetic\":true,\"loud\":true,\"bpm\":\"180\"}',\n",
       "    'funcname': 'start_music'}],\n",
       "  'name': None},\n",
       " {'role': 'assistant',\n",
       "  'content': [{'text': \"I've cranked up the music to a pulsating 180 BPM! The energy in the room just skyrocketed. Let’s keep the party going! 🎶🔥\"}],\n",
       "  'name': None}]"
      ]
     },
     "execution_count": 20,
     "metadata": {},
     "output_type": "execute_result"
    }
   ],
   "source": [
    "chat_openai.conversation_memory.load()"
   ]
  },
  {
   "cell_type": "markdown",
   "metadata": {},
   "source": [
    "## Multi-turn conversation over the client"
   ]
  },
  {
   "cell_type": "markdown",
   "metadata": {},
   "source": [
    "Introducing universal message class, we can use OpenAI Chat Completion, Gemini and Claude in a same way and connect them. For universal message system, please see `01.introduction.ipynb`."
   ]
  },
  {
   "cell_type": "code",
   "execution_count": 21,
   "metadata": {},
   "outputs": [],
   "source": [
    "# conversation memory allows you to interact with modules for multi-turn conversation.\n",
    "shared_memory = InMemoryConversationMemory()\n",
    "\n",
    "gemini = GeminiFunctionalChat(\n",
    "    api_key_env_name=\"GEMINI_API_KEY\",\n",
    "    conversation_memory=shared_memory,\n",
    ")\n",
    "\n",
    "chat_openai = OpenAIFunctionalChat(\n",
    "    api_key_env_name=\"API_KEY\",\n",
    "    conversation_memory=shared_memory,\n",
    ")\n",
    "\n",
    "claude = ClaudeFunctionalChat(\n",
    "    api_key_env_name=\"ANTHROPIC_API_KEY\",\n",
    "    conversation_memory=shared_memory,\n",
    ")"
   ]
  },
  {
   "cell_type": "markdown",
   "metadata": {},
   "source": [
    "Call OpenAI Chat Completion at first."
   ]
  },
  {
   "cell_type": "code",
   "execution_count": 22,
   "metadata": {},
   "outputs": [
    {
     "name": "stdout",
     "output_type": "stream",
     "text": [
      "Yes, Rude is a character in the game *Final Fantasy VII*. He is a member of the Turks, a group working for the Shinra Electric Power Company. Known for his quiet demeanor and strong combat abilities, Rude often works alongside his partner, Reno. Characterized by his bald head, sunglasses, and loyalty to his comrades, he plays a recurring role throughout the game as an antagonist to the main characters, though his personality suggests a level of depth and nuanced morality compared to typical villains. Rude also appears in extended media related to *Final Fantasy VII*, such as *Advent Children* and the *Remake*.\n"
     ]
    }
   ],
   "source": [
    "prompt = \"Do you know Rude in Final Fantasy VII?\"\n",
    "response = chat_openai.run(prompt, model_name=\"gpt-4o-2024-08-06\")\n",
    "print(response.message.content[0].text)"
   ]
  },
  {
   "cell_type": "markdown",
   "metadata": {},
   "source": [
    "After calling OpenAI Chat Completion, conversation history is inherited by Gemini as it is."
   ]
  },
  {
   "cell_type": "code",
   "execution_count": 23,
   "metadata": {},
   "outputs": [
    {
     "name": "stdout",
     "output_type": "stream",
     "text": [
      "It's hard to say definitively what Rude thinks about Tifa, as his thoughts are never explicitly stated in the games or other official media.  However, we can infer a few things based on his actions and character:\n",
      "\n",
      "* **Respect for strength:** Rude is a skilled fighter himself, and likely admires Tifa's strength and fighting ability. He might see her as a worthy opponent, even though she is on the opposing side.\n",
      "* **Professional distance:** As a Turk, Rude is primarily focused on his job and fulfilling Shinra's goals.  He likely views Tifa as an obstacle to those goals, but doesn't seem to hold any personal animosity towards her.\n",
      "* **Possible recognition of her appeal:** It's also possible that Rude, as a man, might be aware of Tifa's physical attractiveness.  However, this is purely speculation, and he never expresses any romantic interest or attraction to her in the story.\n",
      "\n",
      "Ultimately, Rude's feelings about Tifa are likely a complex mix of respect for her fighting ability, recognition of her as an adversary, and perhaps a subconscious acknowledgement of her attractiveness.  But, he never expresses any personal opinions about her, preferring to keep his thoughts and emotions hidden behind his stoic exterior.\n",
      "\n"
     ]
    }
   ],
   "source": [
    "prompt = \"What does he think about Tifa?\"\n",
    "response = gemini.run(prompt, model_name=\"gemini-1.5-flash\")\n",
    "print(response.message.content[0].text)"
   ]
  },
  {
   "cell_type": "markdown",
   "metadata": {},
   "source": [
    "You can see assistant role and message object were automatically transformed for Gemini API in the prompt field."
   ]
  },
  {
   "cell_type": "code",
   "execution_count": 24,
   "metadata": {},
   "outputs": [
    {
     "data": {
      "text/plain": [
       "[parts {\n",
       "   text: \"Do you know Rude in Final Fantasy VII?\"\n",
       " }\n",
       " role: \"user\",\n",
       " parts {\n",
       "   text: \"Yes, Rude is a character in the game *Final Fantasy VII*. He is a member of the Turks, a group working for the Shinra Electric Power Company. Known for his quiet demeanor and strong combat abilities, Rude often works alongside his partner, Reno. Characterized by his bald head, sunglasses, and loyalty to his comrades, he plays a recurring role throughout the game as an antagonist to the main characters, though his personality suggests a level of depth and nuanced morality compared to typical villains. Rude also appears in extended media related to *Final Fantasy VII*, such as *Advent Children* and the *Remake*.\"\n",
       " }\n",
       " role: \"model\",\n",
       " parts {\n",
       "   text: \"What does he think about Tifa?\"\n",
       " }\n",
       " role: \"user\"]"
      ]
     },
     "execution_count": 24,
     "metadata": {},
     "output_type": "execute_result"
    }
   ],
   "source": [
    "response.prompt"
   ]
  },
  {
   "cell_type": "markdown",
   "metadata": {},
   "source": [
    "Claude can follow as well."
   ]
  },
  {
   "cell_type": "code",
   "execution_count": 25,
   "metadata": {},
   "outputs": [
    {
     "name": "stdout",
     "output_type": "stream",
     "text": [
      "Yes, some of the other Turks members are aware of Rude's feelings towards Tifa, particularly his partner Reno. In fact, this aspect of Rude's character is subtly hinted at in the original game and expanded upon in later materials:\n",
      "\n",
      "1. In the original Final Fantasy VII, during a scene where the Turks confront the party in Gongaga, Reno teases Rude about his crush on Tifa. When listing girls Rude likes, Reno mentions \"...That girl from the bar?\" to which Rude responds with an embarrassed \"......\" \n",
      "\n",
      "2. This is further reinforced in Before Crisis -Final Fantasy VII- and Crisis Core -Final Fantasy VII-, where it's suggested that Rude has a crush on Tifa but never acts on it due to their opposing sides in the conflict.\n",
      "\n",
      "3. In Final Fantasy VII Remake, there are a few subtle nods to this, including Rude's reluctance to fight Tifa directly.\n",
      "\n",
      "So while Rude himself never openly expresses his feelings, it's a known fact among his colleagues, particularly Reno, that he has a soft spot for Tifa. This adds an interesting layer to his character, showing that even as a professional Turk, he has personal feelings that sometimes conflict with his duties.\n"
     ]
    }
   ],
   "source": [
    "prompt = \"Does Turks members know his feeling?\"\n",
    "\n",
    "response = claude.run(prompt, model_name=\"claude-3-5-sonnet-20240620\")\n",
    "\n",
    "print(response.message.content[0].text)"
   ]
  },
  {
   "cell_type": "markdown",
   "metadata": {},
   "source": [
    "Conversation memory is stored in the universal message format that can be converted to each client message format."
   ]
  },
  {
   "cell_type": "code",
   "execution_count": 26,
   "metadata": {},
   "outputs": [
    {
     "data": {
      "text/plain": [
       "[{'role': 'user',\n",
       "  'content': [{'text': 'Do you know Rude in Final Fantasy VII?'}],\n",
       "  'name': None},\n",
       " {'role': 'assistant',\n",
       "  'content': [{'text': 'Yes, Rude is a character in the game *Final Fantasy VII*. He is a member of the Turks, a group working for the Shinra Electric Power Company. Known for his quiet demeanor and strong combat abilities, Rude often works alongside his partner, Reno. Characterized by his bald head, sunglasses, and loyalty to his comrades, he plays a recurring role throughout the game as an antagonist to the main characters, though his personality suggests a level of depth and nuanced morality compared to typical villains. Rude also appears in extended media related to *Final Fantasy VII*, such as *Advent Children* and the *Remake*.'}],\n",
       "  'name': None},\n",
       " {'role': 'user',\n",
       "  'content': [{'text': 'What does he think about Tifa?'}],\n",
       "  'name': None},\n",
       " {'role': 'assistant',\n",
       "  'content': [{'text': \"It's hard to say definitively what Rude thinks about Tifa, as his thoughts are never explicitly stated in the games or other official media.  However, we can infer a few things based on his actions and character:\\n\\n* **Respect for strength:** Rude is a skilled fighter himself, and likely admires Tifa's strength and fighting ability. He might see her as a worthy opponent, even though she is on the opposing side.\\n* **Professional distance:** As a Turk, Rude is primarily focused on his job and fulfilling Shinra's goals.  He likely views Tifa as an obstacle to those goals, but doesn't seem to hold any personal animosity towards her.\\n* **Possible recognition of her appeal:** It's also possible that Rude, as a man, might be aware of Tifa's physical attractiveness.  However, this is purely speculation, and he never expresses any romantic interest or attraction to her in the story.\\n\\nUltimately, Rude's feelings about Tifa are likely a complex mix of respect for her fighting ability, recognition of her as an adversary, and perhaps a subconscious acknowledgement of her attractiveness.  But, he never expresses any personal opinions about her, preferring to keep his thoughts and emotions hidden behind his stoic exterior.\\n\"}],\n",
       "  'name': None},\n",
       " {'role': 'user',\n",
       "  'content': [{'text': 'Does Turks members know his feeling?'}],\n",
       "  'name': None},\n",
       " {'role': 'assistant',\n",
       "  'content': [{'text': 'Yes, some of the other Turks members are aware of Rude\\'s feelings towards Tifa, particularly his partner Reno. In fact, this aspect of Rude\\'s character is subtly hinted at in the original game and expanded upon in later materials:\\n\\n1. In the original Final Fantasy VII, during a scene where the Turks confront the party in Gongaga, Reno teases Rude about his crush on Tifa. When listing girls Rude likes, Reno mentions \"...That girl from the bar?\" to which Rude responds with an embarrassed \"......\" \\n\\n2. This is further reinforced in Before Crisis -Final Fantasy VII- and Crisis Core -Final Fantasy VII-, where it\\'s suggested that Rude has a crush on Tifa but never acts on it due to their opposing sides in the conflict.\\n\\n3. In Final Fantasy VII Remake, there are a few subtle nods to this, including Rude\\'s reluctance to fight Tifa directly.\\n\\nSo while Rude himself never openly expresses his feelings, it\\'s a known fact among his colleagues, particularly Reno, that he has a soft spot for Tifa. This adds an interesting layer to his character, showing that even as a professional Turk, he has personal feelings that sometimes conflict with his duties.'}],\n",
       "  'name': None}]"
      ]
     },
     "execution_count": 26,
     "metadata": {},
     "output_type": "execute_result"
    }
   ],
   "source": [
    "shared_memory.load()"
   ]
  },
  {
   "cell_type": "markdown",
   "metadata": {},
   "source": [
    "## Multi-turn conversation using tools with multiple client"
   ]
  },
  {
   "cell_type": "code",
   "execution_count": 27,
   "metadata": {},
   "outputs": [],
   "source": [
    "from langrila import InMemoryConversationMemory\n",
    "\n",
    "shared_memory = InMemoryConversationMemory()\n",
    "\n",
    "chat_openai = OpenAIFunctionalChat(\n",
    "    api_key_env_name=\"API_KEY\",\n",
    "    model_name=\"gpt-4o-mini-2024-07-18\",\n",
    "    tools=[power_disco_ball, start_music, dim_lights],\n",
    "    tool_configs=tool_configs,\n",
    "    conversation_memory=shared_memory,\n",
    ")\n",
    "\n",
    "gemini = GeminiFunctionalChat(\n",
    "    api_key_env_name=\"GEMINI_API_KEY\",\n",
    "    model_name=\"gemini-1.5-pro\",\n",
    "    tools=[power_disco_ball, start_music, dim_lights],\n",
    "    tool_configs=tool_configs,\n",
    "    conversation_memory=shared_memory,\n",
    ")\n",
    "\n",
    "claude = ClaudeFunctionalChat(\n",
    "    model_name=\"claude-3-5-sonnet-20240620\",\n",
    "    api_key_env_name=\"ANTHROPIC_API_KEY\",\n",
    "    tools=[power_disco_ball, start_music, dim_lights],\n",
    "    tool_configs=tool_configs,\n",
    "    conversation_memory=shared_memory,\n",
    ")"
   ]
  },
  {
   "cell_type": "markdown",
   "metadata": {},
   "source": [
    "OpenAI at first turn."
   ]
  },
  {
   "cell_type": "code",
   "execution_count": 28,
   "metadata": {},
   "outputs": [
    {
     "name": "stdout",
     "output_type": "stream",
     "text": [
      "The party mood is on! The disco ball is spinning, energetic music is playing loud at 120 BPM, and the lights are dimmed to create the perfect atmosphere. Let the fun begin! 🎉💃🕺\n"
     ]
    }
   ],
   "source": [
    "prompt = \"Turn this place into a comfortable party mood!\"\n",
    "\n",
    "response = chat_openai.run(prompt)\n",
    "\n",
    "print(response.message.content[0].text)"
   ]
  },
  {
   "cell_type": "markdown",
   "metadata": {},
   "source": [
    "Claude can continue conversation without any additional process."
   ]
  },
  {
   "cell_type": "code",
   "execution_count": 29,
   "metadata": {},
   "outputs": [
    {
     "name": "stdout",
     "output_type": "stream",
     "text": [
      "Great! The music has been updated to play at 180 BPM, which is the highest tempo available. This will create a very lively and energetic atmosphere, perfect for an upbeat party mood. The music is still energetic and loud, matching the exciting vibe we've set up.\n",
      "\n",
      "Is there anything else you'd like to adjust to enhance the party atmosphere further?\n"
     ]
    }
   ],
   "source": [
    "prompt = \"Can you make bpm up more?\"\n",
    "\n",
    "response = claude.run(prompt=prompt)\n",
    "\n",
    "print(response.message.content[0].text)"
   ]
  },
  {
   "cell_type": "markdown",
   "metadata": {},
   "source": [
    "Go back to OpenAI Chat Completion"
   ]
  },
  {
   "cell_type": "code",
   "execution_count": 30,
   "metadata": {},
   "outputs": [
    {
     "name": "stdout",
     "output_type": "stream",
     "text": [
      "The music has been changed to a more relaxed vibe, now playing at 60 BPM. It's softer and calmer to help create a chill atmosphere. If you'd like any more adjustments or additions, just let me know! 🎶✨\n"
     ]
    }
   ],
   "source": [
    "prompt = \"Please turn music more relax.\"\n",
    "\n",
    "response = chat_openai.run(prompt)\n",
    "\n",
    "print(response.message.content[0].text)"
   ]
  },
  {
   "cell_type": "markdown",
   "metadata": {},
   "source": [
    "Gemini can follow as well"
   ]
  },
  {
   "cell_type": "code",
   "execution_count": 31,
   "metadata": {},
   "outputs": [
    {
     "name": "stdout",
     "output_type": "stream",
     "text": [
      "Alright, the music is now back to 120 BPM, but I've kept it relaxed and at a lower volume as per your previous request. This provides a nice balance between energy and chill.  🎶😊 \n",
      "\n",
      "Let me know if you have any other requests to fine-tune the party atmosphere! \n",
      "\n"
     ]
    }
   ],
   "source": [
    "prompt = \"Nice. So please go back to the initial bpm.\"\n",
    "\n",
    "response = gemini.run(prompt=prompt)\n",
    "\n",
    "print(response.message.content[0].text)"
   ]
  },
  {
   "cell_type": "markdown",
   "metadata": {},
   "source": [
    "If you input non-relavant topic, any tool is not called."
   ]
  },
  {
   "cell_type": "code",
   "execution_count": 32,
   "metadata": {},
   "outputs": [
    {
     "name": "stdout",
     "output_type": "stream",
     "text": [
      "I can't access real-time data, including current weather information. However, you can easily find out the weather by checking a weather website, using a weather app, or asking a voice assistant that can provide live updates. If there's anything else you'd like to know or if you need information on specific weather patterns, feel free to ask!\n"
     ]
    }
   ],
   "source": [
    "prompt = \"What is the weather today?\"\n",
    "\n",
    "response = chat_openai.run(prompt)\n",
    "\n",
    "print(response.message.content[0].text)"
   ]
  },
  {
   "cell_type": "code",
   "execution_count": 33,
   "metadata": {},
   "outputs": [
    {
     "data": {
      "text/plain": [
       "[{'role': 'user',\n",
       "  'content': [{'type': 'text',\n",
       "    'text': 'Turn this place into a comfortable party mood!'}],\n",
       "  'name': 'User'},\n",
       " {'content': None,\n",
       "  'refusal': None,\n",
       "  'role': 'assistant',\n",
       "  'audio': None,\n",
       "  'function_call': None,\n",
       "  'tool_calls': [{'id': 'call_MH4dl3cjdJo2ufPm7E7V6KWg',\n",
       "    'function': {'arguments': '{\"power\": true}', 'name': 'power_disco_ball'},\n",
       "    'type': 'function'},\n",
       "   {'id': 'call_7bL6pPmGeC5Gbwd5KpcVAiah',\n",
       "    'function': {'arguments': '{\"energetic\": true, \"loud\": true, \"bpm\": \"120\"}',\n",
       "     'name': 'start_music'},\n",
       "    'type': 'function'},\n",
       "   {'id': 'call_vdPBkgennTS7UilQAlnkrbAZ',\n",
       "    'function': {'arguments': '{\"brightness\": 0.5}', 'name': 'dim_lights'},\n",
       "    'type': 'function'}]},\n",
       " {'role': 'tool',\n",
       "  'tool_call_id': 'call_MH4dl3cjdJo2ufPm7E7V6KWg',\n",
       "  'name': 'power_disco_ball',\n",
       "  'content': 'Disco ball is spinning!'},\n",
       " {'role': 'tool',\n",
       "  'tool_call_id': 'call_7bL6pPmGeC5Gbwd5KpcVAiah',\n",
       "  'name': 'start_music',\n",
       "  'content': \"Starting music! energetic=True loud=True, bpm='120'\"},\n",
       " {'role': 'tool',\n",
       "  'tool_call_id': 'call_vdPBkgennTS7UilQAlnkrbAZ',\n",
       "  'name': 'dim_lights',\n",
       "  'content': 'Lights are now set to 0.5'},\n",
       " {'role': 'assistant',\n",
       "  'content': [{'type': 'text',\n",
       "    'text': 'The party mood is on! The disco ball is spinning, energetic music is playing loud at 120 BPM, and the lights are dimmed to create the perfect atmosphere. Let the fun begin! 🎉💃🕺'}],\n",
       "  'name': 'Assistant'},\n",
       " {'role': 'user',\n",
       "  'content': [{'type': 'text', 'text': 'Can you make bpm up more?'}],\n",
       "  'name': 'User'},\n",
       " {'content': None,\n",
       "  'refusal': None,\n",
       "  'role': 'assistant',\n",
       "  'audio': None,\n",
       "  'function_call': None,\n",
       "  'tool_calls': [{'id': 'call_01ULRwX8mvkH1NYoirEfY9Da',\n",
       "    'function': {'arguments': \"{'energetic': True, 'loud': True, 'bpm': '180'}\",\n",
       "     'name': 'start_music'},\n",
       "    'type': 'function'}]},\n",
       " {'role': 'tool',\n",
       "  'tool_call_id': 'call_01ULRwX8mvkH1NYoirEfY9Da',\n",
       "  'name': 'start_music',\n",
       "  'content': \"Starting music! energetic=True loud=True, bpm='180'\"},\n",
       " {'role': 'assistant',\n",
       "  'content': [{'type': 'text',\n",
       "    'text': \"Great! The music has been updated to play at 180 BPM, which is the highest tempo available. This will create a very lively and energetic atmosphere, perfect for an upbeat party mood. The music is still energetic and loud, matching the exciting vibe we've set up.\\n\\nIs there anything else you'd like to adjust to enhance the party atmosphere further?\"}],\n",
       "  'name': 'Assistant'},\n",
       " {'role': 'user',\n",
       "  'content': [{'type': 'text', 'text': 'Please turn music more relax.'}],\n",
       "  'name': 'User'},\n",
       " {'content': None,\n",
       "  'refusal': None,\n",
       "  'role': 'assistant',\n",
       "  'audio': None,\n",
       "  'function_call': None,\n",
       "  'tool_calls': [{'id': 'call_nulPq7t2LFAyn5khiXEwMVEH',\n",
       "    'function': {'arguments': '{\"energetic\":false,\"loud\":false,\"bpm\":\"60\"}',\n",
       "     'name': 'start_music'},\n",
       "    'type': 'function'}]},\n",
       " {'role': 'tool',\n",
       "  'tool_call_id': 'call_nulPq7t2LFAyn5khiXEwMVEH',\n",
       "  'name': 'start_music',\n",
       "  'content': \"Starting music! energetic=False loud=False, bpm='60'\"},\n",
       " {'role': 'assistant',\n",
       "  'content': [{'type': 'text',\n",
       "    'text': \"The music has been changed to a more relaxed vibe, now playing at 60 BPM. It's softer and calmer to help create a chill atmosphere. If you'd like any more adjustments or additions, just let me know! 🎶✨\"}],\n",
       "  'name': 'Assistant'},\n",
       " {'role': 'user',\n",
       "  'content': [{'type': 'text',\n",
       "    'text': 'Nice. So please go back to the initial bpm.'}],\n",
       "  'name': 'User'},\n",
       " {'content': None,\n",
       "  'refusal': None,\n",
       "  'role': 'assistant',\n",
       "  'audio': None,\n",
       "  'function_call': None,\n",
       "  'tool_calls': [{'id': 'call_suuZO4cmh5d3amTEcCsED4Vk',\n",
       "    'function': {'arguments': \"{'loud': False, 'energetic': False, 'bpm': '120'}\",\n",
       "     'name': 'start_music'},\n",
       "    'type': 'function'}]},\n",
       " {'role': 'tool',\n",
       "  'tool_call_id': 'call_suuZO4cmh5d3amTEcCsED4Vk',\n",
       "  'name': 'start_music',\n",
       "  'content': \"Starting music! energetic=False loud=False, bpm='120'\"},\n",
       " {'role': 'assistant',\n",
       "  'content': [{'type': 'text',\n",
       "    'text': \"Alright, the music is now back to 120 BPM, but I've kept it relaxed and at a lower volume as per your previous request. This provides a nice balance between energy and chill.  🎶😊 \\n\\nLet me know if you have any other requests to fine-tune the party atmosphere! \\n\"}],\n",
       "  'name': 'Assistant'},\n",
       " {'role': 'user',\n",
       "  'content': [{'type': 'text', 'text': 'What is the weather today?'}],\n",
       "  'name': 'User'}]"
      ]
     },
     "execution_count": 33,
     "metadata": {},
     "output_type": "execute_result"
    }
   ],
   "source": [
    "response.prompt"
   ]
  },
  {
   "cell_type": "markdown",
   "metadata": {},
   "source": [
    "# Limitation for the function calling"
   ]
  },
  {
   "cell_type": "markdown",
   "metadata": {},
   "source": [
    "The output of the tools is required to be serializable when `tool_only` option is False as conversation memory is used for bridging function calling module and chat module internally even if you don't specify conversation memory. So please implement tools to return serializable object if you use tools with no `tool_only` option. If you want to get non-serializable object with tool calling, please specify `tool_only` option. Another way is to use `{Client}FunctionCallingModule`. Here is an example for OpenAI API."
   ]
  },
  {
   "cell_type": "markdown",
   "metadata": {},
   "source": [
    "# ConversationMemory modules"
   ]
  },
  {
   "cell_type": "markdown",
   "metadata": {},
   "source": [
    "## Storing into local json file"
   ]
  },
  {
   "cell_type": "code",
   "execution_count": 34,
   "metadata": {},
   "outputs": [],
   "source": [
    "from langrila import JSONConversationMemory\n",
    "\n",
    "conversation_memory = JSONConversationMemory(\n",
    "    path=\"conversation_memory.json\",\n",
    ")\n",
    "\n",
    "chat_openai = OpenAIFunctionalChat(\n",
    "    api_key_env_name=\"API_KEY\",\n",
    "    model_name=\"gpt-4o-2024-08-06\",\n",
    "    tools=[power_disco_ball, start_music, dim_lights],\n",
    "    tool_configs=tool_configs,\n",
    "    conversation_memory=conversation_memory,\n",
    ")"
   ]
  },
  {
   "cell_type": "code",
   "execution_count": 35,
   "metadata": {},
   "outputs": [
    {
     "name": "stdout",
     "output_type": "stream",
     "text": [
      "The disco ball is spinning, energetic and loud music is playing at 120 bpm, and the lights are perfectly dimmed. You're all set for a comfortable and lively party mood! Enjoy! 🎉✨\n"
     ]
    }
   ],
   "source": [
    "prompt = \"Turn this place into a comfortable party mood!\"\n",
    "\n",
    "response = chat_openai.run(prompt)\n",
    "\n",
    "print(response.message.content[0].text)"
   ]
  },
  {
   "cell_type": "code",
   "execution_count": 36,
   "metadata": {},
   "outputs": [
    {
     "name": "stdout",
     "output_type": "stream",
     "text": [
      "I've turned up the beats per minute to 180 for an even more energetic atmosphere! Let's get this party moving! 🎶💃🕺\n"
     ]
    }
   ],
   "source": [
    "prompt = \"Can you make bpm up more?\"\n",
    "\n",
    "response = chat_openai.run(prompt=prompt)\n",
    "\n",
    "print(response.message.content[0].text)"
   ]
  },
  {
   "cell_type": "code",
   "execution_count": 37,
   "metadata": {},
   "outputs": [
    {
     "data": {
      "text/plain": [
       "[{'role': 'user',\n",
       "  'content': [{'text': 'Turn this place into a comfortable party mood!'}],\n",
       "  'name': None},\n",
       " {'role': 'function_call',\n",
       "  'content': [{'name': 'power_disco_ball',\n",
       "    'args': '{\"power\": true}',\n",
       "    'call_id': 'call_sja8z53CVjFi7Y7DXKHp6SBt'},\n",
       "   {'name': 'start_music',\n",
       "    'args': '{\"energetic\": true, \"loud\": true, \"bpm\": \"120\"}',\n",
       "    'call_id': 'call_rkFrG6ruH5byiGOfyegQiKx6'},\n",
       "   {'name': 'dim_lights',\n",
       "    'args': '{\"brightness\": 0.5}',\n",
       "    'call_id': 'call_beeZmZKa3l1E9aWydnCH9Ars'}],\n",
       "  'name': None},\n",
       " {'role': 'function',\n",
       "  'content': [{'output': 'Disco ball is spinning!',\n",
       "    'call_id': 'call_sja8z53CVjFi7Y7DXKHp6SBt',\n",
       "    'args': '{\"power\": true}',\n",
       "    'funcname': 'power_disco_ball'},\n",
       "   {'output': \"Starting music! energetic=True loud=True, bpm='120'\",\n",
       "    'call_id': 'call_rkFrG6ruH5byiGOfyegQiKx6',\n",
       "    'args': '{\"energetic\": true, \"loud\": true, \"bpm\": \"120\"}',\n",
       "    'funcname': 'start_music'},\n",
       "   {'output': 'Lights are now set to 0.5',\n",
       "    'call_id': 'call_beeZmZKa3l1E9aWydnCH9Ars',\n",
       "    'args': '{\"brightness\": 0.5}',\n",
       "    'funcname': 'dim_lights'}],\n",
       "  'name': None},\n",
       " {'role': 'assistant',\n",
       "  'content': [{'text': \"The disco ball is spinning, energetic and loud music is playing at 120 bpm, and the lights are perfectly dimmed. You're all set for a comfortable and lively party mood! Enjoy! 🎉✨\"}],\n",
       "  'name': None},\n",
       " {'role': 'user',\n",
       "  'content': [{'text': 'Can you make bpm up more?'}],\n",
       "  'name': None},\n",
       " {'role': 'function_call',\n",
       "  'content': [{'name': 'start_music',\n",
       "    'args': '{\"energetic\":true,\"loud\":true,\"bpm\":\"180\"}',\n",
       "    'call_id': 'call_rtXSUqQCeFDJe0vyOS5XIDiD'}],\n",
       "  'name': None},\n",
       " {'role': 'function',\n",
       "  'content': [{'output': \"Starting music! energetic=True loud=True, bpm='180'\",\n",
       "    'call_id': 'call_rtXSUqQCeFDJe0vyOS5XIDiD',\n",
       "    'args': '{\"energetic\":true,\"loud\":true,\"bpm\":\"180\"}',\n",
       "    'funcname': 'start_music'}],\n",
       "  'name': None},\n",
       " {'role': 'assistant',\n",
       "  'content': [{'text': \"I've turned up the beats per minute to 180 for an even more energetic atmosphere! Let's get this party moving! 🎶💃🕺\"}],\n",
       "  'name': None}]"
      ]
     },
     "execution_count": 37,
     "metadata": {},
     "output_type": "execute_result"
    }
   ],
   "source": [
    "conversation_memory.load()"
   ]
  },
  {
   "cell_type": "markdown",
   "metadata": {},
   "source": [
    "## Pickling conversation history"
   ]
  },
  {
   "cell_type": "code",
   "execution_count": 38,
   "metadata": {},
   "outputs": [],
   "source": [
    "from langrila import PickleConversationMemory\n",
    "\n",
    "conversation_memory = PickleConversationMemory(\n",
    "    path=\"conversation_memory.pkl\",\n",
    ")\n",
    "\n",
    "chat_openai = OpenAIFunctionalChat(\n",
    "    api_key_env_name=\"API_KEY\",\n",
    "    model_name=\"gpt-4o-2024-08-06\",\n",
    "    tools=[power_disco_ball, start_music, dim_lights],\n",
    "    tool_configs=tool_configs,\n",
    "    conversation_memory=conversation_memory,\n",
    ")"
   ]
  },
  {
   "cell_type": "code",
   "execution_count": 39,
   "metadata": {},
   "outputs": [
    {
     "name": "stdout",
     "output_type": "stream",
     "text": [
      "The place is now transformed into a comfortable party mood! The disco ball is spinning, the energetic music is playing at 120 BPM, and the lights are dimmed to create the perfect atmosphere. Enjoy the party!\n"
     ]
    }
   ],
   "source": [
    "prompt = \"Turn this place into a comfortable party mood!\"\n",
    "\n",
    "response = chat_openai.run(prompt)\n",
    "\n",
    "print(response.message.content[0].text)"
   ]
  },
  {
   "cell_type": "code",
   "execution_count": 40,
   "metadata": {},
   "outputs": [
    {
     "name": "stdout",
     "output_type": "stream",
     "text": [
      "I've increased the BPM to 180 for an even more energetic vibe. Enjoy the intensified party atmosphere!\n"
     ]
    }
   ],
   "source": [
    "prompt = \"Can you make bpm up more?\"\n",
    "\n",
    "response = chat_openai.run(prompt=prompt)\n",
    "\n",
    "print(response.message.content[0].text)"
   ]
  },
  {
   "cell_type": "code",
   "execution_count": 41,
   "metadata": {},
   "outputs": [
    {
     "data": {
      "text/plain": [
       "[{'role': 'user',\n",
       "  'content': [{'text': 'Turn this place into a comfortable party mood!'}],\n",
       "  'name': None},\n",
       " {'role': 'function_call',\n",
       "  'content': [{'name': 'power_disco_ball',\n",
       "    'args': '{\"power\": true}',\n",
       "    'call_id': 'call_IdJ7Iz2hiNHGqYI7nEoDYDDX'},\n",
       "   {'name': 'start_music',\n",
       "    'args': '{\"energetic\": true, \"loud\": true, \"bpm\": \"120\"}',\n",
       "    'call_id': 'call_KXHRMuMXYPbPL1mlrxwfIrYL'},\n",
       "   {'name': 'dim_lights',\n",
       "    'args': '{\"brightness\": 0.5}',\n",
       "    'call_id': 'call_FlKB6xqtyUEe4XR1qlLcLhZk'}],\n",
       "  'name': None},\n",
       " {'role': 'function',\n",
       "  'content': [{'output': 'Disco ball is spinning!',\n",
       "    'call_id': 'call_IdJ7Iz2hiNHGqYI7nEoDYDDX',\n",
       "    'args': '{\"power\": true}',\n",
       "    'funcname': 'power_disco_ball'},\n",
       "   {'output': \"Starting music! energetic=True loud=True, bpm='120'\",\n",
       "    'call_id': 'call_KXHRMuMXYPbPL1mlrxwfIrYL',\n",
       "    'args': '{\"energetic\": true, \"loud\": true, \"bpm\": \"120\"}',\n",
       "    'funcname': 'start_music'},\n",
       "   {'output': 'Lights are now set to 0.5',\n",
       "    'call_id': 'call_FlKB6xqtyUEe4XR1qlLcLhZk',\n",
       "    'args': '{\"brightness\": 0.5}',\n",
       "    'funcname': 'dim_lights'}],\n",
       "  'name': None},\n",
       " {'role': 'assistant',\n",
       "  'content': [{'text': 'The place is now transformed into a comfortable party mood! The disco ball is spinning, the energetic music is playing at 120 BPM, and the lights are dimmed to create the perfect atmosphere. Enjoy the party!'}],\n",
       "  'name': None},\n",
       " {'role': 'user',\n",
       "  'content': [{'text': 'Can you make bpm up more?'}],\n",
       "  'name': None},\n",
       " {'role': 'function_call',\n",
       "  'content': [{'name': 'start_music',\n",
       "    'args': '{\"energetic\":true,\"loud\":true,\"bpm\":\"180\"}',\n",
       "    'call_id': 'call_2BmX4Z7CbQmz09lgk0WwrJN6'}],\n",
       "  'name': None},\n",
       " {'role': 'function',\n",
       "  'content': [{'output': \"Starting music! energetic=True loud=True, bpm='180'\",\n",
       "    'call_id': 'call_2BmX4Z7CbQmz09lgk0WwrJN6',\n",
       "    'args': '{\"energetic\":true,\"loud\":true,\"bpm\":\"180\"}',\n",
       "    'funcname': 'start_music'}],\n",
       "  'name': None},\n",
       " {'role': 'assistant',\n",
       "  'content': [{'text': \"I've increased the BPM to 180 for an even more energetic vibe. Enjoy the intensified party atmosphere!\"}],\n",
       "  'name': None}]"
      ]
     },
     "execution_count": 41,
     "metadata": {},
     "output_type": "execute_result"
    }
   ],
   "source": [
    "conversation_memory.load()"
   ]
  },
  {
   "cell_type": "markdown",
   "metadata": {},
   "source": [
    "## Storing into Azure Cosmos DB"
   ]
  },
  {
   "cell_type": "markdown",
   "metadata": {},
   "source": [
    "You can easily store conversation memory into the Azure Cosmos DB! Replace paramters below to fit your use case.\n",
    "\n",
    "Acknowledgement: [@rioriost](https://github.com/rioriost) for base implementation."
   ]
  },
  {
   "cell_type": "code",
   "execution_count": 42,
   "metadata": {},
   "outputs": [],
   "source": [
    "from langrila.memory.cosmos import CosmosConversationMemory\n",
    "from langrila.openai import OpenAIFunctionalChat\n",
    "\n",
    "conversation_memory = CosmosConversationMemory(\n",
    "    endpoint_env_name=\"COSMOS_ENDPOINT\",  # env variable names\n",
    "    key_env_name=\"COSMOS_KEY\",\n",
    "    db_env_name=\"COSMOS_DB_NAME\",\n",
    "    container_name=\"test\",\n",
    "    item_name=\"sample_conversation\",\n",
    ")\n",
    "\n",
    "\n",
    "chat_openai = OpenAIFunctionalChat(\n",
    "    api_key_env_name=\"API_KEY\",\n",
    "    model_name=\"gpt-4o-2024-08-06\",\n",
    "    tools=[power_disco_ball, start_music, dim_lights],\n",
    "    tool_configs=tool_configs,\n",
    "    conversation_memory=conversation_memory,\n",
    ")"
   ]
  },
  {
   "cell_type": "code",
   "execution_count": 43,
   "metadata": {},
   "outputs": [
    {
     "name": "stdout",
     "output_type": "stream",
     "text": [
      "The place is now set for a comfortable party mood! The disco ball is spinning, the energetic music at 120 BPM is playing loudly, and the lights are dimmed to just the right level. Enjoy the party!\n"
     ]
    }
   ],
   "source": [
    "prompt = \"Turn this place into a comfortable party mood!\"\n",
    "\n",
    "response = chat_openai.run(prompt)\n",
    "\n",
    "print(response.message.content[0].text)"
   ]
  },
  {
   "cell_type": "code",
   "execution_count": 44,
   "metadata": {},
   "outputs": [
    {
     "name": "stdout",
     "output_type": "stream",
     "text": [
      "The music has been cranked up to an energetic 180 BPM! The party vibe is getting even more lively. Enjoy the tunes!\n"
     ]
    }
   ],
   "source": [
    "prompt = \"Can you make bpm up more?\"\n",
    "\n",
    "response = chat_openai.run(prompt)\n",
    "\n",
    "print(response.message.content[0].text)"
   ]
  },
  {
   "cell_type": "code",
   "execution_count": 45,
   "metadata": {},
   "outputs": [
    {
     "data": {
      "text/plain": [
       "[{'role': 'user',\n",
       "  'content': [{'text': 'Turn this place into a comfortable party mood!'}],\n",
       "  'name': None},\n",
       " {'role': 'function_call',\n",
       "  'content': [{'name': 'power_disco_ball',\n",
       "    'args': '{\"power\": true}',\n",
       "    'call_id': 'call_RAtSdp2Yx5laPK85MBCGHuj9'},\n",
       "   {'name': 'start_music',\n",
       "    'args': '{\"energetic\": true, \"loud\": true, \"bpm\": \"120\"}',\n",
       "    'call_id': 'call_Ctg2G39no5gvINnW25NiCFVg'},\n",
       "   {'name': 'dim_lights',\n",
       "    'args': '{\"brightness\": 0.5}',\n",
       "    'call_id': 'call_PtUdFHJAc5DEQXAkxWZi9F5x'}],\n",
       "  'name': None},\n",
       " {'role': 'function',\n",
       "  'content': [{'output': 'Disco ball is spinning!',\n",
       "    'call_id': 'call_RAtSdp2Yx5laPK85MBCGHuj9',\n",
       "    'args': '{\"power\": true}',\n",
       "    'funcname': 'power_disco_ball'},\n",
       "   {'output': \"Starting music! energetic=True loud=True, bpm='120'\",\n",
       "    'call_id': 'call_Ctg2G39no5gvINnW25NiCFVg',\n",
       "    'args': '{\"energetic\": true, \"loud\": true, \"bpm\": \"120\"}',\n",
       "    'funcname': 'start_music'},\n",
       "   {'output': 'Lights are now set to 0.5',\n",
       "    'call_id': 'call_PtUdFHJAc5DEQXAkxWZi9F5x',\n",
       "    'args': '{\"brightness\": 0.5}',\n",
       "    'funcname': 'dim_lights'}],\n",
       "  'name': None},\n",
       " {'role': 'assistant',\n",
       "  'content': [{'text': 'The place is now set for a comfortable party mood! The disco ball is spinning, the energetic music at 120 BPM is playing loudly, and the lights are dimmed to just the right level. Enjoy the party!'}],\n",
       "  'name': None},\n",
       " {'role': 'user',\n",
       "  'content': [{'text': 'Can you make bpm up more?'}],\n",
       "  'name': None},\n",
       " {'role': 'function_call',\n",
       "  'content': [{'name': 'start_music',\n",
       "    'args': '{\"energetic\":true,\"loud\":true,\"bpm\":\"180\"}',\n",
       "    'call_id': 'call_nwGEmXcb9ZtxFgLnczfHVdcm'}],\n",
       "  'name': None},\n",
       " {'role': 'function',\n",
       "  'content': [{'output': \"Starting music! energetic=True loud=True, bpm='180'\",\n",
       "    'call_id': 'call_nwGEmXcb9ZtxFgLnczfHVdcm',\n",
       "    'args': '{\"energetic\":true,\"loud\":true,\"bpm\":\"180\"}',\n",
       "    'funcname': 'start_music'}],\n",
       "  'name': None},\n",
       " {'role': 'assistant',\n",
       "  'content': [{'text': 'The music has been cranked up to an energetic 180 BPM! The party vibe is getting even more lively. Enjoy the tunes!'}],\n",
       "  'name': None}]"
      ]
     },
     "execution_count": 45,
     "metadata": {},
     "output_type": "execute_result"
    }
   ],
   "source": [
    "conversation_memory.load()"
   ]
  },
  {
   "cell_type": "markdown",
   "metadata": {},
   "source": [
    "## Storing into AWS S3"
   ]
  },
  {
   "cell_type": "markdown",
   "metadata": {},
   "source": [
    "`S3ConversationMemory` is available. Replace Bucket name, object key and credentials with yours to store.\n",
    "\n",
    "Acknowledgement: [@kun432](https://github.com/kun432)"
   ]
  },
  {
   "cell_type": "code",
   "execution_count": 50,
   "metadata": {},
   "outputs": [],
   "source": [
    "from langrila.memory.s3 import S3ConversationMemory\n",
    "from langrila.openai import OpenAIFunctionalChat\n",
    "\n",
    "# S3ConversationMemory utilizes `boto3.client(\"s3\")` for its operations.\n",
    "# configuration and credentials are handled in the same manner.\n",
    "conversation_memory = S3ConversationMemory(\n",
    "    bucket=\"langrila-test\",\n",
    "    object_key=\"conversations/test1.json\",  # \"PREFIX/OBJECT_KEY\" for using prefix\n",
    "    aws_access_key_id_env_name=\"AWS_ACCESS_KEY\",  # as needed\n",
    "    aws_secret_access_key_env_name=\"AWS_SECRET_KEY\",  # as needed\n",
    ")\n",
    "\n",
    "chat_openai = OpenAIFunctionalChat(\n",
    "    api_key_env_name=\"API_KEY\",\n",
    "    model_name=\"gpt-4o-2024-08-06\",\n",
    "    tools=[power_disco_ball, start_music, dim_lights],\n",
    "    tool_configs=tool_configs,\n",
    "    conversation_memory=conversation_memory,\n",
    ")"
   ]
  },
  {
   "cell_type": "code",
   "execution_count": 51,
   "metadata": {},
   "outputs": [
    {
     "name": "stdout",
     "output_type": "stream",
     "text": [
      "The place is now set for a comfortable party mood! The disco ball is spinning, the lights are dimmed to a cozy level, and energetic music is playing at a perfect volume to keep the vibe lively. Enjoy the party!\n"
     ]
    }
   ],
   "source": [
    "prompt = \"Turn this place into a comfortable party mood!\"\n",
    "\n",
    "response = chat_openai.run(prompt)\n",
    "\n",
    "print(response.message.content[0].text)"
   ]
  },
  {
   "cell_type": "code",
   "execution_count": 52,
   "metadata": {},
   "outputs": [
    {
     "name": "stdout",
     "output_type": "stream",
     "text": [
      "The music is now playing at a higher tempo of 180 beats per minute, adding more energy to the party atmosphere. Enjoy the upbeat vibes!\n"
     ]
    }
   ],
   "source": [
    "prompt = \"Can you make bpm up more?\"\n",
    "\n",
    "response = chat_openai.run(prompt)\n",
    "\n",
    "print(response.message.content[0].text)"
   ]
  },
  {
   "cell_type": "code",
   "execution_count": 53,
   "metadata": {},
   "outputs": [
    {
     "data": {
      "text/plain": [
       "[{'role': 'user',\n",
       "  'content': [{'text': 'Turn this place into a comfortable party mood!'}],\n",
       "  'name': None},\n",
       " {'role': 'function_call',\n",
       "  'content': [{'name': 'power_disco_ball',\n",
       "    'args': '{\"power\": true}',\n",
       "    'call_id': 'call_X6g2qP1ZY1GXNweGwvTucCzx'},\n",
       "   {'name': 'dim_lights',\n",
       "    'args': '{\"brightness\": 0.5}',\n",
       "    'call_id': 'call_ZsrmFj2AfxkP6qATNIuR4WGY'},\n",
       "   {'name': 'start_music',\n",
       "    'args': '{\"energetic\": true, \"loud\": false, \"bpm\": \"120\"}',\n",
       "    'call_id': 'call_EPzMYKlm4FRgINgOJXwMDQhr'}],\n",
       "  'name': None},\n",
       " {'role': 'function',\n",
       "  'content': [{'output': 'Disco ball is spinning!',\n",
       "    'call_id': 'call_X6g2qP1ZY1GXNweGwvTucCzx',\n",
       "    'args': '{\"power\": true}',\n",
       "    'funcname': 'power_disco_ball'},\n",
       "   {'output': 'Lights are now set to 0.5',\n",
       "    'call_id': 'call_ZsrmFj2AfxkP6qATNIuR4WGY',\n",
       "    'args': '{\"brightness\": 0.5}',\n",
       "    'funcname': 'dim_lights'},\n",
       "   {'output': \"Starting music! energetic=True loud=False, bpm='120'\",\n",
       "    'call_id': 'call_EPzMYKlm4FRgINgOJXwMDQhr',\n",
       "    'args': '{\"energetic\": true, \"loud\": false, \"bpm\": \"120\"}',\n",
       "    'funcname': 'start_music'}],\n",
       "  'name': None},\n",
       " {'role': 'assistant',\n",
       "  'content': [{'text': 'The place is now set for a comfortable party mood! The disco ball is spinning, the lights are dimmed to a cozy level, and energetic music is playing at a perfect volume to keep the vibe lively. Enjoy the party!'}],\n",
       "  'name': None},\n",
       " {'role': 'user',\n",
       "  'content': [{'text': 'Can you make bpm up more?'}],\n",
       "  'name': None},\n",
       " {'role': 'function_call',\n",
       "  'content': [{'name': 'start_music',\n",
       "    'args': '{\"energetic\":true,\"loud\":false,\"bpm\":\"180\"}',\n",
       "    'call_id': 'call_0MBTDS3BAumR3CDsdW159Tef'}],\n",
       "  'name': None},\n",
       " {'role': 'function',\n",
       "  'content': [{'output': \"Starting music! energetic=True loud=False, bpm='180'\",\n",
       "    'call_id': 'call_0MBTDS3BAumR3CDsdW159Tef',\n",
       "    'args': '{\"energetic\":true,\"loud\":false,\"bpm\":\"180\"}',\n",
       "    'funcname': 'start_music'}],\n",
       "  'name': None},\n",
       " {'role': 'assistant',\n",
       "  'content': [{'text': 'The music is now playing at a higher tempo of 180 beats per minute, adding more energy to the party atmosphere. Enjoy the upbeat vibes!'}],\n",
       "  'name': None}]"
      ]
     },
     "execution_count": 53,
     "metadata": {},
     "output_type": "execute_result"
    }
   ],
   "source": [
    "conversation_memory.load()"
   ]
  }
 ],
 "metadata": {
  "kernelspec": {
   "display_name": ".venv",
   "language": "python",
   "name": "python3"
  },
  "language_info": {
   "codemirror_mode": {
    "name": "ipython",
    "version": 3
   },
   "file_extension": ".py",
   "mimetype": "text/x-python",
   "name": "python",
   "nbconvert_exporter": "python",
   "pygments_lexer": "ipython3",
   "version": "3.10.12"
  }
 },
 "nbformat": 4,
 "nbformat_minor": 4
}
