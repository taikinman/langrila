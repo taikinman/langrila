{
 "cells": [
  {
   "cell_type": "code",
   "execution_count": 1,
   "metadata": {},
   "outputs": [],
   "source": [
    "import os\n",
    "import warnings\n",
    "\n",
    "warnings.simplefilter(action=\"ignore\")\n",
    "os.environ[\"GRPC_VERBOSITY\"] = \"NONE\""
   ]
  },
  {
   "cell_type": "markdown",
   "metadata": {},
   "source": [
    "# Prerequisites"
   ]
  },
  {
   "cell_type": "markdown",
   "metadata": {},
   "source": [
    "Please make sure your environmental variables and dependencies are ready to use LLM services."
   ]
  },
  {
   "cell_type": "code",
   "execution_count": 2,
   "metadata": {},
   "outputs": [
    {
     "data": {
      "text/plain": [
       "True"
      ]
     },
     "execution_count": 2,
     "metadata": {},
     "output_type": "execute_result"
    }
   ],
   "source": [
    "from dotenv import load_dotenv\n",
    "\n",
    "load_dotenv(\"../../.env_api\")"
   ]
  },
  {
   "cell_type": "markdown",
   "metadata": {},
   "source": [
    "# How to input langrila's modules"
   ]
  },
  {
   "cell_type": "markdown",
   "metadata": {},
   "source": [
    "In langrila, universal message system allows you to handle each client message in a same way."
   ]
  },
  {
   "cell_type": "markdown",
   "metadata": {},
   "source": [
    "# Import modules"
   ]
  },
  {
   "cell_type": "code",
   "execution_count": 3,
   "metadata": {},
   "outputs": [],
   "source": [
    "from langrila import InMemoryConversationMemory, JSONConversationMemory\n",
    "from langrila.claude import ClaudeFunctionalChat\n",
    "from langrila.gemini import GeminiFunctionalChat\n",
    "from langrila.openai import OpenAIFunctionalChat"
   ]
  },
  {
   "cell_type": "markdown",
   "metadata": {},
   "source": [
    "# Define tools"
   ]
  },
  {
   "cell_type": "markdown",
   "metadata": {},
   "source": [
    "In this example, we can use these tools."
   ]
  },
  {
   "cell_type": "code",
   "execution_count": 4,
   "metadata": {},
   "outputs": [],
   "source": [
    "def power_disco_ball(power: bool) -> bool:\n",
    "    \"\"\"Powers the spinning disco ball.\"\"\"\n",
    "    return f\"Disco ball is {'spinning!' if power else 'stopped.'}\"\n",
    "\n",
    "\n",
    "def start_music(energetic: bool, loud: bool, bpm: str) -> str:\n",
    "    \"\"\"Play some music matching the specified parameters.\n",
    "\n",
    "    Args:\n",
    "      energetic: Whether the music is energetic or not.\n",
    "      loud: Whether the music is loud or not.\n",
    "      bpm: The beats per minute of the music.\n",
    "\n",
    "    Returns: The name of the song being played.\n",
    "    \"\"\"\n",
    "    return f\"Starting music! {energetic=} {loud=}, {bpm=}\"\n",
    "\n",
    "\n",
    "def dim_lights(brightness: float) -> bool:\n",
    "    \"\"\"Dim the lights.\n",
    "\n",
    "    Args:\n",
    "      brightness: The brightness of the lights, 0.0 is off, 1.0 is full.\n",
    "    \"\"\"\n",
    "    return f\"Lights are now set to {brightness}\""
   ]
  },
  {
   "cell_type": "markdown",
   "metadata": {},
   "source": [
    "# Tool definition"
   ]
  },
  {
   "cell_type": "markdown",
   "metadata": {},
   "source": [
    "In langrila, you can define tool configs via ToolProperty, ToolParameter and ToolConfig object."
   ]
  },
  {
   "cell_type": "code",
   "execution_count": 5,
   "metadata": {},
   "outputs": [],
   "source": [
    "from langrila import ToolConfig, ToolParameter, ToolProperty\n",
    "\n",
    "tool_configs = [\n",
    "    ToolConfig(\n",
    "        name=\"power_disco_ball\",\n",
    "        description=\"Powers the spinning disco ball.\",\n",
    "        parameters=ToolParameter(\n",
    "            properties=[\n",
    "                ToolProperty(\n",
    "                    name=\"power\",\n",
    "                    type=\"boolean\",\n",
    "                    description=\"Boolean to spin disco ball.\",\n",
    "                ),\n",
    "            ],\n",
    "            required=[\"power\"],\n",
    "        ),\n",
    "    ),\n",
    "    ToolConfig(\n",
    "        name=\"start_music\",\n",
    "        description=\"Play some music matching the specified parameters.\",\n",
    "        parameters=ToolParameter(\n",
    "            properties=[\n",
    "                ToolProperty(\n",
    "                    name=\"energetic\",\n",
    "                    type=\"boolean\",\n",
    "                    description=\"Whether the music is energetic or not.\",\n",
    "                ),\n",
    "                ToolProperty(\n",
    "                    name=\"loud\", type=\"boolean\", description=\"Whether the music is loud or not.\"\n",
    "                ),\n",
    "                ToolProperty(\n",
    "                    name=\"bpm\",\n",
    "                    type=\"string\",\n",
    "                    description=\"The beats per minute of the music.\",\n",
    "                    enum=[\"60\", \"120\", \"180\"],  # Gemini doesn't support numerical enum\n",
    "                ),\n",
    "            ],\n",
    "            required=[\"energetic\", \"loud\", \"bpm\"],\n",
    "        ),\n",
    "    ),\n",
    "    ToolConfig(\n",
    "        name=\"dim_lights\",\n",
    "        description=\"Dim the lights.\",\n",
    "        parameters=ToolParameter(\n",
    "            properties=[\n",
    "                ToolProperty(\n",
    "                    name=\"brightness\",\n",
    "                    type=\"number\",\n",
    "                    description=\"The brightness of the lights, 0.0 is off, 1.0 is full.\",\n",
    "                ),\n",
    "            ],\n",
    "            required=[\"brightness\"],\n",
    "        ),\n",
    "    ),\n",
    "]"
   ]
  },
  {
   "cell_type": "code",
   "execution_count": 6,
   "metadata": {},
   "outputs": [],
   "source": [
    "prompt = \"Turn this place into a comfortable party mood!\""
   ]
  },
  {
   "cell_type": "markdown",
   "metadata": {},
   "source": [
    "### OpenAI Chat Completion"
   ]
  },
  {
   "cell_type": "markdown",
   "metadata": {},
   "source": [
    "ToolConfig object is internally converted to client tool configs"
   ]
  },
  {
   "cell_type": "code",
   "execution_count": 7,
   "metadata": {},
   "outputs": [],
   "source": [
    "chat_openai = OpenAIFunctionalChat(\n",
    "    api_key_env_name=\"API_KEY\",\n",
    "    model_name=\"gpt-4o-mini-2024-07-18\",\n",
    "    tools=[power_disco_ball, start_music, dim_lights],\n",
    "    tool_configs=tool_configs,\n",
    ")"
   ]
  },
  {
   "cell_type": "code",
   "execution_count": 8,
   "metadata": {},
   "outputs": [
    {
     "data": {
      "text/plain": [
       "CompletionResults(message=Message(role='assistant', content=[TextContent(text='The party mood is set! The disco ball is spinning, energetic music is playing at a lively BPM of 120, and the lights are dimmed to create the perfect atmosphere. Get ready to have a blast! 🎉💃🕺')], name=None), usage=Usage(prompt_tokens=134, completion_tokens=50, total_tokens=184), prompt=[{'role': 'user', 'content': [{'type': 'text', 'text': 'Turn this place into a comfortable party mood!'}], 'name': 'User'}, {'content': None, 'role': 'assistant', 'function_call': None, 'tool_calls': [{'id': 'call_pVTN0uEHDlp3o8YuWJw5O20m', 'function': {'arguments': '{\"power\": true}', 'name': 'power_disco_ball'}, 'type': 'function'}, {'id': 'call_j6LSRIIiW1AvBDMFDGmIP8np', 'function': {'arguments': '{\"energetic\": true, \"loud\": true, \"bpm\": \"120\"}', 'name': 'start_music'}, 'type': 'function'}, {'id': 'call_Z9Cuy2DkgziV9ZRdrjM8B28q', 'function': {'arguments': '{\"brightness\": 0.5}', 'name': 'dim_lights'}, 'type': 'function'}]}, {'role': 'tool', 'tool_call_id': 'call_pVTN0uEHDlp3o8YuWJw5O20m', 'name': 'power_disco_ball', 'content': 'Disco ball is spinning!'}, {'role': 'tool', 'tool_call_id': 'call_j6LSRIIiW1AvBDMFDGmIP8np', 'name': 'start_music', 'content': \"Starting music! energetic=True loud=True, bpm='120'\"}, {'role': 'tool', 'tool_call_id': 'call_Z9Cuy2DkgziV9ZRdrjM8B28q', 'name': 'dim_lights', 'content': 'Lights are now set to 0.5'}])"
      ]
     },
     "execution_count": 8,
     "metadata": {},
     "output_type": "execute_result"
    }
   ],
   "source": [
    "response = chat_openai.run(prompt)\n",
    "\n",
    "# Response is CompletionResults object\n",
    "response"
   ]
  },
  {
   "cell_type": "code",
   "execution_count": 9,
   "metadata": {},
   "outputs": [
    {
     "data": {
      "text/plain": [
       "{'message': {'role': 'assistant',\n",
       "  'content': [{'text': 'The party mood is set! The disco ball is spinning, energetic music is playing at a lively BPM of 120, and the lights are dimmed to create the perfect atmosphere. Get ready to have a blast! 🎉💃🕺'}],\n",
       "  'name': None},\n",
       " 'usage': {'model_name': 'gpt-4o-mini-2024-07-18',\n",
       "  'prompt_tokens': 134,\n",
       "  'completion_tokens': 50},\n",
       " 'prompt': [{'role': 'user',\n",
       "   'content': [{'type': 'text',\n",
       "     'text': 'Turn this place into a comfortable party mood!'}],\n",
       "   'name': 'User'},\n",
       "  {'content': None,\n",
       "   'role': 'assistant',\n",
       "   'function_call': None,\n",
       "   'tool_calls': [{'id': 'call_pVTN0uEHDlp3o8YuWJw5O20m',\n",
       "     'function': {'arguments': '{\"power\": true}', 'name': 'power_disco_ball'},\n",
       "     'type': 'function'},\n",
       "    {'id': 'call_j6LSRIIiW1AvBDMFDGmIP8np',\n",
       "     'function': {'arguments': '{\"energetic\": true, \"loud\": true, \"bpm\": \"120\"}',\n",
       "      'name': 'start_music'},\n",
       "     'type': 'function'},\n",
       "    {'id': 'call_Z9Cuy2DkgziV9ZRdrjM8B28q',\n",
       "     'function': {'arguments': '{\"brightness\": 0.5}', 'name': 'dim_lights'},\n",
       "     'type': 'function'}]},\n",
       "  {'role': 'tool',\n",
       "   'tool_call_id': 'call_pVTN0uEHDlp3o8YuWJw5O20m',\n",
       "   'name': 'power_disco_ball',\n",
       "   'content': 'Disco ball is spinning!'},\n",
       "  {'role': 'tool',\n",
       "   'tool_call_id': 'call_j6LSRIIiW1AvBDMFDGmIP8np',\n",
       "   'name': 'start_music',\n",
       "   'content': \"Starting music! energetic=True loud=True, bpm='120'\"},\n",
       "  {'role': 'tool',\n",
       "   'tool_call_id': 'call_Z9Cuy2DkgziV9ZRdrjM8B28q',\n",
       "   'name': 'dim_lights',\n",
       "   'content': 'Lights are now set to 0.5'}]}"
      ]
     },
     "execution_count": 9,
     "metadata": {},
     "output_type": "execute_result"
    }
   ],
   "source": [
    "response.model_dump()"
   ]
  },
  {
   "cell_type": "markdown",
   "metadata": {},
   "source": [
    "Asynchronous generation"
   ]
  },
  {
   "cell_type": "code",
   "execution_count": 10,
   "metadata": {},
   "outputs": [
    {
     "data": {
      "text/plain": [
       "CompletionResults(message=Message(role='assistant', content=[TextContent(text='The atmosphere is coming alive! The disco ball is spinning, energetic music is playing at a lively 120 BPM, and the lights are dimmed to create the perfect party vibe. Get ready to have some fun! 🕺💃✨')], name=None), usage=Usage(prompt_tokens=134, completion_tokens=49, total_tokens=183), prompt=[{'role': 'user', 'content': [{'type': 'text', 'text': 'Turn this place into a comfortable party mood!'}], 'name': 'User'}, {'content': None, 'role': 'assistant', 'function_call': None, 'tool_calls': [{'id': 'call_d1q8hbTvIH3U3Z6bt3ZbpLjJ', 'function': {'arguments': '{\"power\": true}', 'name': 'power_disco_ball'}, 'type': 'function'}, {'id': 'call_MAbVoIDpEF3YZLu8jHOI6V79', 'function': {'arguments': '{\"energetic\": true, \"loud\": true, \"bpm\": \"120\"}', 'name': 'start_music'}, 'type': 'function'}, {'id': 'call_EjhtbpY3m3BchWy1Rxc2eXHa', 'function': {'arguments': '{\"brightness\": 0.5}', 'name': 'dim_lights'}, 'type': 'function'}]}, {'role': 'tool', 'tool_call_id': 'call_d1q8hbTvIH3U3Z6bt3ZbpLjJ', 'name': 'power_disco_ball', 'content': 'Disco ball is spinning!'}, {'role': 'tool', 'tool_call_id': 'call_MAbVoIDpEF3YZLu8jHOI6V79', 'name': 'start_music', 'content': \"Starting music! energetic=True loud=True, bpm='120'\"}, {'role': 'tool', 'tool_call_id': 'call_EjhtbpY3m3BchWy1Rxc2eXHa', 'name': 'dim_lights', 'content': 'Lights are now set to 0.5'}])"
      ]
     },
     "execution_count": 10,
     "metadata": {},
     "output_type": "execute_result"
    }
   ],
   "source": [
    "response = await chat_openai.arun(prompt)\n",
    "response"
   ]
  },
  {
   "cell_type": "markdown",
   "metadata": {},
   "source": [
    "multiple generation"
   ]
  },
  {
   "cell_type": "code",
   "execution_count": 11,
   "metadata": {},
   "outputs": [
    {
     "data": {
      "text/plain": [
       "{'role': 'assistant',\n",
       " 'content': [{'text': 'The party atmosphere is set! The disco ball is spinning, energetic music is playing at a lively 120 BPM, and the lights are dimmed for a cozy vibe. Get ready to have a great time! 🎉💃🕺'},\n",
       "  {'text': 'The party mood is on! The disco ball is spinning, energetic music is playing loudly, and the lights are dimmed to create a cozy atmosphere. Let the festivities begin! 🎉✨'}],\n",
       " 'name': None}"
      ]
     },
     "execution_count": 11,
     "metadata": {},
     "output_type": "execute_result"
    }
   ],
   "source": [
    "response = chat_openai.run(prompt, n_results=2)\n",
    "response.message.model_dump()"
   ]
  },
  {
   "cell_type": "markdown",
   "metadata": {},
   "source": [
    "You can get the results from specific tool."
   ]
  },
  {
   "cell_type": "code",
   "execution_count": 12,
   "metadata": {},
   "outputs": [
    {
     "data": {
      "text/plain": [
       "{'message': {'role': 'assistant',\n",
       "  'content': [{'text': \"I've started some energetic music to set the mood! Now, let's add some more elements to create a comfortable party atmosphere:\\n\\n1. **Lighting**: Dim the lights and add some colorful LED string lights or fairy lights for a festive vibe. If you have any disco or party lights, this is the time to use them!\\n\\n2. **Seating Arrangements**: Arrange comfortable seating with cushions and throws. Create small gathering spots for groups to mingle.\\n\\n3. **Refreshments**: Set up a drinks station with a variety of beverages—cocktails, mocktails, and soft drinks. Add some snacks like chips, popcorn, and finger foods.\\n\\n4. **Games or Activities**: Consider incorporating some fun party games or activities that guests can enjoy. This could include card games, a photo booth, or even just a dance floor!\\n\\n5. **Scent**: Use scented candles or diffusers with light, refreshing fragrances to enhance the atmosphere and make it feel inviting.\\n\\n6. **Personal Touches**: Add personal touches like themed decorations or a slideshow of memories if this is a special occasion.\\n\\nReady to party? 🎉\"}],\n",
       "  'name': None},\n",
       " 'usage': {'model_name': 'gpt-4o-mini-2024-07-18',\n",
       "  'prompt_tokens': 64,\n",
       "  'completion_tokens': 229},\n",
       " 'prompt': [{'role': 'user',\n",
       "   'content': [{'type': 'text',\n",
       "     'text': 'Turn this place into a comfortable party mood!'}],\n",
       "   'name': 'User'},\n",
       "  {'content': None,\n",
       "   'role': 'assistant',\n",
       "   'function_call': None,\n",
       "   'tool_calls': [{'id': 'call_J965DvFHa8K5Wr2nOYkSqBze',\n",
       "     'function': {'arguments': '{\"energetic\":true,\"loud\":true,\"bpm\":\"120\"}',\n",
       "      'name': 'start_music'},\n",
       "     'type': 'function'}]},\n",
       "  {'role': 'tool',\n",
       "   'tool_call_id': 'call_J965DvFHa8K5Wr2nOYkSqBze',\n",
       "   'name': 'start_music',\n",
       "   'content': \"Starting music! energetic=True loud=True, bpm='120'\"}]}"
      ]
     },
     "execution_count": 12,
     "metadata": {},
     "output_type": "execute_result"
    }
   ],
   "source": [
    "response = chat_openai.run(prompt, tool_choice=\"start_music\")\n",
    "\n",
    "# Show result\n",
    "response.model_dump()"
   ]
  },
  {
   "cell_type": "markdown",
   "metadata": {},
   "source": [
    "If you specify tool_only option as True, you get the FunctionCallingResults object instead of CompletionResults object."
   ]
  },
  {
   "cell_type": "code",
   "execution_count": 13,
   "metadata": {},
   "outputs": [
    {
     "data": {
      "text/plain": [
       "FunctionCallingResults(usage=Usage(prompt_tokens=171, completion_tokens=75, total_tokens=246), results=[Message(role='function', content=[ToolContent(output='Lights are now set to 0.5', call_id='call_wcdOyaWf388wBhnyhjXWComo', args='{\"brightness\": 0.5}', funcname='dim_lights')], name='dim_lights'), Message(role='function', content=[ToolContent(output='Disco ball is spinning!', call_id='call_cfxmX91X6Cibza7GFed2l3aI', args='{\"power\": true}', funcname='power_disco_ball')], name='power_disco_ball'), Message(role='function', content=[ToolContent(output=\"Starting music! energetic=True loud=True, bpm='120'\", call_id='call_o6EBAFhc9xa3qvuMwSRe5s4c', args='{\"energetic\": true, \"loud\": true, \"bpm\": \"120\"}', funcname='start_music')], name='start_music')], calls=Message(role='function_call', content=[ToolCall(name='dim_lights', args='{\"brightness\": 0.5}', call_id='call_wcdOyaWf388wBhnyhjXWComo'), ToolCall(name='power_disco_ball', args='{\"power\": true}', call_id='call_cfxmX91X6Cibza7GFed2l3aI'), ToolCall(name='start_music', args='{\"energetic\": true, \"loud\": true, \"bpm\": \"120\"}', call_id='call_o6EBAFhc9xa3qvuMwSRe5s4c')], name=None), prompt=[{'role': 'user', 'content': [{'type': 'text', 'text': 'Turn this place into a comfortable party mood!'}], 'name': 'User'}])"
      ]
     },
     "execution_count": 13,
     "metadata": {},
     "output_type": "execute_result"
    }
   ],
   "source": [
    "response = chat_openai.run(prompt, tool_only=True)\n",
    "response"
   ]
  },
  {
   "cell_type": "code",
   "execution_count": 14,
   "metadata": {},
   "outputs": [
    {
     "data": {
      "text/plain": [
       "{'usage': {'model_name': 'gpt-4o-mini-2024-07-18',\n",
       "  'prompt_tokens': 171,\n",
       "  'completion_tokens': 75},\n",
       " 'results': [{'role': 'function',\n",
       "   'content': [{'output': 'Lights are now set to 0.5',\n",
       "     'call_id': 'call_wcdOyaWf388wBhnyhjXWComo',\n",
       "     'args': '{\"brightness\": 0.5}',\n",
       "     'funcname': 'dim_lights'}],\n",
       "   'name': 'dim_lights'},\n",
       "  {'role': 'function',\n",
       "   'content': [{'output': 'Disco ball is spinning!',\n",
       "     'call_id': 'call_cfxmX91X6Cibza7GFed2l3aI',\n",
       "     'args': '{\"power\": true}',\n",
       "     'funcname': 'power_disco_ball'}],\n",
       "   'name': 'power_disco_ball'},\n",
       "  {'role': 'function',\n",
       "   'content': [{'output': \"Starting music! energetic=True loud=True, bpm='120'\",\n",
       "     'call_id': 'call_o6EBAFhc9xa3qvuMwSRe5s4c',\n",
       "     'args': '{\"energetic\": true, \"loud\": true, \"bpm\": \"120\"}',\n",
       "     'funcname': 'start_music'}],\n",
       "   'name': 'start_music'}],\n",
       " 'calls': {'role': 'function_call',\n",
       "  'content': [{'name': 'dim_lights',\n",
       "    'args': '{\"brightness\": 0.5}',\n",
       "    'call_id': 'call_wcdOyaWf388wBhnyhjXWComo'},\n",
       "   {'name': 'power_disco_ball',\n",
       "    'args': '{\"power\": true}',\n",
       "    'call_id': 'call_cfxmX91X6Cibza7GFed2l3aI'},\n",
       "   {'name': 'start_music',\n",
       "    'args': '{\"energetic\": true, \"loud\": true, \"bpm\": \"120\"}',\n",
       "    'call_id': 'call_o6EBAFhc9xa3qvuMwSRe5s4c'}],\n",
       "  'name': None},\n",
       " 'prompt': [{'role': 'user',\n",
       "   'content': [{'type': 'text',\n",
       "     'text': 'Turn this place into a comfortable party mood!'}],\n",
       "   'name': 'User'}]}"
      ]
     },
     "execution_count": 14,
     "metadata": {},
     "output_type": "execute_result"
    }
   ],
   "source": [
    "response.model_dump()"
   ]
  },
  {
   "cell_type": "code",
   "execution_count": 15,
   "metadata": {},
   "outputs": [
    {
     "data": {
      "text/plain": [
       "[Message(role='function', content=[ToolContent(output='Lights are now set to 0.5', call_id='call_wcdOyaWf388wBhnyhjXWComo', args='{\"brightness\": 0.5}', funcname='dim_lights')], name='dim_lights'),\n",
       " Message(role='function', content=[ToolContent(output='Disco ball is spinning!', call_id='call_cfxmX91X6Cibza7GFed2l3aI', args='{\"power\": true}', funcname='power_disco_ball')], name='power_disco_ball'),\n",
       " Message(role='function', content=[ToolContent(output=\"Starting music! energetic=True loud=True, bpm='120'\", call_id='call_o6EBAFhc9xa3qvuMwSRe5s4c', args='{\"energetic\": true, \"loud\": true, \"bpm\": \"120\"}', funcname='start_music')], name='start_music')]"
      ]
     },
     "execution_count": 15,
     "metadata": {},
     "output_type": "execute_result"
    }
   ],
   "source": [
    "# Tool result messages\n",
    "\n",
    "response.results"
   ]
  },
  {
   "cell_type": "code",
   "execution_count": 16,
   "metadata": {},
   "outputs": [
    {
     "data": {
      "text/plain": [
       "Message(role='function_call', content=[ToolCall(name='dim_lights', args='{\"brightness\": 0.5}', call_id='call_wcdOyaWf388wBhnyhjXWComo'), ToolCall(name='power_disco_ball', args='{\"power\": true}', call_id='call_cfxmX91X6Cibza7GFed2l3aI'), ToolCall(name='start_music', args='{\"energetic\": true, \"loud\": true, \"bpm\": \"120\"}', call_id='call_o6EBAFhc9xa3qvuMwSRe5s4c')], name=None)"
      ]
     },
     "execution_count": 16,
     "metadata": {},
     "output_type": "execute_result"
    }
   ],
   "source": [
    "# Tool call messages\n",
    "\n",
    "response.calls"
   ]
  },
  {
   "cell_type": "markdown",
   "metadata": {},
   "source": [
    "You can define tools as pydantic models. To use pydantic model as tool, make sure the following points: \n",
    "\n",
    "- Write description of top level docstring field in the class. This is used for tool description.\n",
    "- Define each argument fileds with description\n",
    "- Implement run() method."
   ]
  },
  {
   "cell_type": "markdown",
   "metadata": {},
   "source": [
    "Tool definition using `ToolProperty`, `ToolParameter` and `ToolConfig` is almost equivalent to the following way. "
   ]
  },
  {
   "cell_type": "code",
   "execution_count": 17,
   "metadata": {},
   "outputs": [],
   "source": [
    "from enum import Enum\n",
    "from typing import Literal\n",
    "\n",
    "from pydantic import BaseModel, Field\n",
    "\n",
    "\n",
    "class PowerDiscoBall(BaseModel):\n",
    "    \"\"\"Powers the spinning disco ball.\"\"\"\n",
    "\n",
    "    power: bool = Field(description=\"Boolean to spin disco ball.\")\n",
    "\n",
    "    def run(self) -> str:\n",
    "        return f\"Disco ball is {'spinning!' if self.power else 'stopped.'}\"\n",
    "\n",
    "\n",
    "class DimLights(BaseModel):\n",
    "    \"\"\"Dim the lights.\"\"\"\n",
    "\n",
    "    brightness: float = Field(description=\"The brightness of the lights, 0.0 is off, 1.0 is full.\")\n",
    "\n",
    "    def run(self) -> str:\n",
    "        return f\"Lights are now set to {self.brightness}\"\n",
    "\n",
    "\n",
    "class BPM(Enum):\n",
    "    \"\"\"The beats per minute of the music.\"\"\"\n",
    "\n",
    "    SLOW = \"60\"\n",
    "    MEDIUM = \"120\"\n",
    "    FAST = \"180\"\n",
    "\n",
    "\n",
    "class StartMusic(BaseModel):\n",
    "    \"\"\"Play some music matching the specified parameters.\"\"\"\n",
    "\n",
    "    energetic: bool = Field(description=\"Whether the music is energetic or not.\")\n",
    "    loud: bool = Field(description=\"Whether the music is loud or not.\")\n",
    "    bpm: BPM = Field(description=\"The beats per minute of the music.\")\n",
    "    # bpm: Literal[\"60\", \"120\", \"180\"] = Field(..., description=\"The beats per minute of the music.\") # This also works\n",
    "\n",
    "    def run(self) -> str:\n",
    "        return f\"Starting music! {self.energetic=} {self.loud=}, {self.bpm=}\""
   ]
  },
  {
   "cell_type": "code",
   "execution_count": 18,
   "metadata": {},
   "outputs": [],
   "source": [
    "# Convert to ToolConfig\n",
    "\n",
    "tools = [PowerDiscoBall, StartMusic, DimLights]\n",
    "tool_configs_pydantic = [ToolConfig.from_pydantic(tool) for tool in tools]"
   ]
  },
  {
   "cell_type": "code",
   "execution_count": 19,
   "metadata": {},
   "outputs": [],
   "source": [
    "chat_openai = OpenAIFunctionalChat(\n",
    "    api_key_env_name=\"API_KEY\",\n",
    "    model_name=\"gpt-4o-mini-2024-07-18\",\n",
    "    tools=tools,\n",
    "    tool_configs=tool_configs_pydantic,\n",
    ")"
   ]
  },
  {
   "cell_type": "code",
   "execution_count": 20,
   "metadata": {},
   "outputs": [
    {
     "data": {
      "text/plain": [
       "{'message': {'role': 'assistant',\n",
       "  'content': [{'text': 'The party mood is set! The disco ball is spinning, energetic music is playing at a lively pace, and the lights are dimmed to create that cozy vibe. Enjoy the celebration! 🎉✨'}],\n",
       "  'name': None},\n",
       " 'usage': {'model_name': 'gpt-4o-mini-2024-07-18',\n",
       "  'prompt_tokens': 150,\n",
       "  'completion_tokens': 40},\n",
       " 'prompt': [{'role': 'user',\n",
       "   'content': [{'type': 'text',\n",
       "     'text': 'Turn this place into a comfortable party mood!'}],\n",
       "   'name': 'User'},\n",
       "  {'content': None,\n",
       "   'role': 'assistant',\n",
       "   'function_call': None,\n",
       "   'tool_calls': [{'id': 'call_Cro9uhjakFzVBdx93sqESdbd',\n",
       "     'function': {'arguments': '{\"power\": true}', 'name': 'PowerDiscoBall'},\n",
       "     'type': 'function'},\n",
       "    {'id': 'call_sa9zI0GSBrlXlN3lbcwn7icK',\n",
       "     'function': {'arguments': '{\"energetic\": true, \"loud\": true, \"bpm\": \"120\"}',\n",
       "      'name': 'StartMusic'},\n",
       "     'type': 'function'},\n",
       "    {'id': 'call_JL5SaO1pFq3rwnenG64tqGh7',\n",
       "     'function': {'arguments': '{\"brightness\": 0.5}', 'name': 'DimLights'},\n",
       "     'type': 'function'}]},\n",
       "  {'role': 'tool',\n",
       "   'tool_call_id': 'call_Cro9uhjakFzVBdx93sqESdbd',\n",
       "   'name': 'PowerDiscoBall',\n",
       "   'content': 'Disco ball is spinning!'},\n",
       "  {'role': 'tool',\n",
       "   'tool_call_id': 'call_sa9zI0GSBrlXlN3lbcwn7icK',\n",
       "   'name': 'StartMusic',\n",
       "   'content': \"Starting music! self.energetic=True self.loud=True, self.bpm=<BPM.MEDIUM: '120'>\"},\n",
       "  {'role': 'tool',\n",
       "   'tool_call_id': 'call_JL5SaO1pFq3rwnenG64tqGh7',\n",
       "   'name': 'DimLights',\n",
       "   'content': 'Lights are now set to 0.5'}]}"
      ]
     },
     "execution_count": 20,
     "metadata": {},
     "output_type": "execute_result"
    }
   ],
   "source": [
    "response = chat_openai.run(prompt)\n",
    "\n",
    "# Response is CompletionResults object\n",
    "response.model_dump()"
   ]
  },
  {
   "cell_type": "markdown",
   "metadata": {},
   "source": [
    "Azure OpenAI Chat Completion "
   ]
  },
  {
   "cell_type": "code",
   "execution_count": 21,
   "metadata": {},
   "outputs": [],
   "source": [
    "chat_openai_azure = OpenAIFunctionalChat(\n",
    "    api_key_env_name=\"AZURE_API_KEY\",  # your env variable name of OpenAI API key\n",
    "    model_name=\"gpt-4o-2024-05-13\",\n",
    "    api_type=\"azure\",\n",
    "    api_version=\"2024-05-01-preview\",\n",
    "    endpoint_env_name=\"AZURE_ENDPOINT\",\n",
    "    deployment_id_env_name=\"AZURE_DEPLOYMENT_ID\",\n",
    "    tools=[power_disco_ball, start_music, dim_lights],\n",
    "    tool_configs=tool_configs,\n",
    ")"
   ]
  },
  {
   "cell_type": "code",
   "execution_count": 22,
   "metadata": {},
   "outputs": [
    {
     "data": {
      "text/plain": [
       "{'message': {'role': 'assistant',\n",
       "  'content': [{'text': 'The lights are dimmed, the disco ball is spinning, and the energetic music is pumping! The party mood is set, enjoy! 🎉🕺💃'}],\n",
       "  'name': None},\n",
       " 'usage': {'model_name': 'gpt-4o-2024-05-13',\n",
       "  'prompt_tokens': 135,\n",
       "  'completion_tokens': 34},\n",
       " 'prompt': [{'role': 'user',\n",
       "   'content': [{'type': 'text',\n",
       "     'text': 'Turn this place into a comfortable party mood!'}],\n",
       "   'name': 'User'},\n",
       "  {'content': None,\n",
       "   'role': 'assistant',\n",
       "   'function_call': None,\n",
       "   'tool_calls': [{'id': 'call_jwkBtd4OKFMFa3aEXAPdX6qX',\n",
       "     'function': {'arguments': '{\"brightness\": 0.5}', 'name': 'dim_lights'},\n",
       "     'type': 'function'},\n",
       "    {'id': 'call_CgpoUDKFN107vr9qNohbpxl5',\n",
       "     'function': {'arguments': '{\"power\": true}', 'name': 'power_disco_ball'},\n",
       "     'type': 'function'},\n",
       "    {'id': 'call_HgSmALJzv5RDXm1bepMS7pjr',\n",
       "     'function': {'arguments': '{\"energetic\": true, \"loud\": true, \"bpm\": \"120\"}',\n",
       "      'name': 'start_music'},\n",
       "     'type': 'function'}]},\n",
       "  {'role': 'tool',\n",
       "   'tool_call_id': 'call_jwkBtd4OKFMFa3aEXAPdX6qX',\n",
       "   'name': 'dim_lights',\n",
       "   'content': 'Lights are now set to 0.5'},\n",
       "  {'role': 'tool',\n",
       "   'tool_call_id': 'call_CgpoUDKFN107vr9qNohbpxl5',\n",
       "   'name': 'power_disco_ball',\n",
       "   'content': 'Disco ball is spinning!'},\n",
       "  {'role': 'tool',\n",
       "   'tool_call_id': 'call_HgSmALJzv5RDXm1bepMS7pjr',\n",
       "   'name': 'start_music',\n",
       "   'content': \"Starting music! energetic=True loud=True, bpm='120'\"}]}"
      ]
     },
     "execution_count": 22,
     "metadata": {},
     "output_type": "execute_result"
    }
   ],
   "source": [
    "response = chat_openai_azure.run(prompt)\n",
    "\n",
    "response.model_dump()"
   ]
  },
  {
   "cell_type": "code",
   "execution_count": 23,
   "metadata": {},
   "outputs": [
    {
     "data": {
      "text/plain": [
       "{'message': {'role': 'assistant',\n",
       "  'content': [{'text': 'Alright, the disco ball is spinning, the energetic music is blasting, and the lights are perfectly dimmed to set a comfortable party atmosphere. Time to hit the dance floor and enjoy the night!'}],\n",
       "  'name': None},\n",
       " 'usage': {'model_name': 'gpt-4o-2024-05-13',\n",
       "  'prompt_tokens': 134,\n",
       "  'completion_tokens': 39},\n",
       " 'prompt': [{'role': 'user',\n",
       "   'content': [{'type': 'text',\n",
       "     'text': 'Turn this place into a comfortable party mood!'}],\n",
       "   'name': 'User'},\n",
       "  {'content': None,\n",
       "   'role': 'assistant',\n",
       "   'function_call': None,\n",
       "   'tool_calls': [{'id': 'call_0LhyPXAsrfTY2CjIav1Eq58w',\n",
       "     'function': {'arguments': '{\"power\": true}', 'name': 'power_disco_ball'},\n",
       "     'type': 'function'},\n",
       "    {'id': 'call_vEi1OutCnbhRIZcOl8f6jXfG',\n",
       "     'function': {'arguments': '{\"energetic\": true, \"loud\": true, \"bpm\": \"120\"}',\n",
       "      'name': 'start_music'},\n",
       "     'type': 'function'},\n",
       "    {'id': 'call_vQODkzQc43Rk1Be8gncLgHCs',\n",
       "     'function': {'arguments': '{\"brightness\": 0.5}', 'name': 'dim_lights'},\n",
       "     'type': 'function'}]},\n",
       "  {'role': 'tool',\n",
       "   'tool_call_id': 'call_0LhyPXAsrfTY2CjIav1Eq58w',\n",
       "   'name': 'power_disco_ball',\n",
       "   'content': 'Disco ball is spinning!'},\n",
       "  {'role': 'tool',\n",
       "   'tool_call_id': 'call_vEi1OutCnbhRIZcOl8f6jXfG',\n",
       "   'name': 'start_music',\n",
       "   'content': \"Starting music! energetic=True loud=True, bpm='120'\"},\n",
       "  {'role': 'tool',\n",
       "   'tool_call_id': 'call_vQODkzQc43Rk1Be8gncLgHCs',\n",
       "   'name': 'dim_lights',\n",
       "   'content': 'Lights are now set to 0.5'}]}"
      ]
     },
     "execution_count": 23,
     "metadata": {},
     "output_type": "execute_result"
    }
   ],
   "source": [
    "response = await chat_openai_azure.arun(prompt)\n",
    "\n",
    "response.model_dump()"
   ]
  },
  {
   "cell_type": "code",
   "execution_count": 24,
   "metadata": {},
   "outputs": [
    {
     "data": {
      "text/plain": [
       "{'message': {'role': 'assistant',\n",
       "  'content': [{'text': \"I've got the music going! Let's add some colorful lighting and some cozy seating areas to amp up the party mood. How about we set up a snack and drink station as well?\"}],\n",
       "  'name': None},\n",
       " 'usage': {'model_name': 'gpt-4o-2024-05-13',\n",
       "  'prompt_tokens': 64,\n",
       "  'completion_tokens': 36},\n",
       " 'prompt': [{'role': 'user',\n",
       "   'content': [{'type': 'text',\n",
       "     'text': 'Turn this place into a comfortable party mood!'}],\n",
       "   'name': 'User'},\n",
       "  {'content': None,\n",
       "   'role': 'assistant',\n",
       "   'function_call': None,\n",
       "   'tool_calls': [{'id': 'call_0LhyPXAsrfTY2CjIav1Eq58w',\n",
       "     'function': {'arguments': '{\"energetic\":true,\"loud\":true,\"bpm\":\"120\"}',\n",
       "      'name': 'start_music'},\n",
       "     'type': 'function'}]},\n",
       "  {'role': 'tool',\n",
       "   'tool_call_id': 'call_0LhyPXAsrfTY2CjIav1Eq58w',\n",
       "   'name': 'start_music',\n",
       "   'content': \"Starting music! energetic=True loud=True, bpm='120'\"}]}"
      ]
     },
     "execution_count": 24,
     "metadata": {},
     "output_type": "execute_result"
    }
   ],
   "source": [
    "response = chat_openai_azure.run(prompt, tool_choice=\"start_music\")\n",
    "\n",
    "response.model_dump()"
   ]
  },
  {
   "cell_type": "markdown",
   "metadata": {},
   "source": [
    "### Gemini on Google Generative AI"
   ]
  },
  {
   "cell_type": "markdown",
   "metadata": {},
   "source": [
    "You can use tools for Gemini as well which defined for OpenAI Chat Completion."
   ]
  },
  {
   "cell_type": "code",
   "execution_count": 25,
   "metadata": {},
   "outputs": [],
   "source": [
    "gemini = GeminiFunctionalChat(\n",
    "    api_key_env_name=\"GEMINI_API_KEY\",\n",
    "    model_name=\"gemini-1.5-pro\",\n",
    "    tools=[power_disco_ball, start_music, dim_lights],\n",
    "    tool_configs=tool_configs,\n",
    "    # tools=[PowerDiscoBall, StartMusic, DimLights],\n",
    "    # tool_configs=tool_configs_pydantic,\n",
    ")"
   ]
  },
  {
   "cell_type": "code",
   "execution_count": 26,
   "metadata": {},
   "outputs": [
    {
     "data": {
      "text/plain": [
       "{'message': {'role': 'assistant',\n",
       "  'content': [{'text': \"Alright, I've got the disco ball spinning, cranked up some energetic tunes, and dimmed the lights. Let's get this party started! 🎉 \\n\"}],\n",
       "  'name': None},\n",
       " 'usage': {'model_name': 'gemini-1.5-pro',\n",
       "  'prompt_tokens': 145,\n",
       "  'completion_tokens': 32},\n",
       " 'prompt': [parts {\n",
       "    text: \"Turn this place into a comfortable party mood!\"\n",
       "  }\n",
       "  role: \"user\",\n",
       "  parts {\n",
       "    function_call {\n",
       "      name: \"power_disco_ball\"\n",
       "      args {\n",
       "        fields {\n",
       "          key: \"power\"\n",
       "          value {\n",
       "            bool_value: true\n",
       "          }\n",
       "        }\n",
       "      }\n",
       "    }\n",
       "  }\n",
       "  parts {\n",
       "    function_call {\n",
       "      name: \"start_music\"\n",
       "      args {\n",
       "        fields {\n",
       "          key: \"loud\"\n",
       "          value {\n",
       "            bool_value: true\n",
       "          }\n",
       "        }\n",
       "        fields {\n",
       "          key: \"energetic\"\n",
       "          value {\n",
       "            bool_value: true\n",
       "          }\n",
       "        }\n",
       "        fields {\n",
       "          key: \"bpm\"\n",
       "          value {\n",
       "            string_value: \"120\"\n",
       "          }\n",
       "        }\n",
       "      }\n",
       "    }\n",
       "  }\n",
       "  parts {\n",
       "    function_call {\n",
       "      name: \"dim_lights\"\n",
       "      args {\n",
       "        fields {\n",
       "          key: \"brightness\"\n",
       "          value {\n",
       "            number_value: 0.5\n",
       "          }\n",
       "        }\n",
       "      }\n",
       "    }\n",
       "  }\n",
       "  role: \"model\",\n",
       "  parts {\n",
       "    function_response {\n",
       "      name: \"power_disco_ball\"\n",
       "      response {\n",
       "        fields {\n",
       "          key: \"content\"\n",
       "          value {\n",
       "            string_value: \"Disco ball is spinning!\"\n",
       "          }\n",
       "        }\n",
       "      }\n",
       "    }\n",
       "  }\n",
       "  parts {\n",
       "    function_response {\n",
       "      name: \"start_music\"\n",
       "      response {\n",
       "        fields {\n",
       "          key: \"content\"\n",
       "          value {\n",
       "            string_value: \"Starting music! energetic=True loud=True, bpm=\\'120\\'\"\n",
       "          }\n",
       "        }\n",
       "      }\n",
       "    }\n",
       "  }\n",
       "  parts {\n",
       "    function_response {\n",
       "      name: \"dim_lights\"\n",
       "      response {\n",
       "        fields {\n",
       "          key: \"content\"\n",
       "          value {\n",
       "            string_value: \"Lights are now set to 0.5\"\n",
       "          }\n",
       "        }\n",
       "      }\n",
       "    }\n",
       "  }\n",
       "  role: \"function\"]}"
      ]
     },
     "execution_count": 26,
     "metadata": {},
     "output_type": "execute_result"
    }
   ],
   "source": [
    "response = gemini.run(prompt)\n",
    "\n",
    "# show result\n",
    "response.model_dump()"
   ]
  },
  {
   "cell_type": "markdown",
   "metadata": {},
   "source": [
    "Asynchronous generation"
   ]
  },
  {
   "cell_type": "code",
   "execution_count": 27,
   "metadata": {},
   "outputs": [
    {
     "data": {
      "text/plain": [
       "{'message': {'role': 'assistant',\n",
       "  'content': [{'text': \"Alright, everyone, let's get this party started!  The disco ball is going, the music is pumping, and the lights are down low.  Time to have some fun! 🎉 \\n\"}],\n",
       "  'name': None},\n",
       " 'usage': {'model_name': 'gemini-1.5-pro',\n",
       "  'prompt_tokens': 145,\n",
       "  'completion_tokens': 39},\n",
       " 'prompt': [parts {\n",
       "    text: \"Turn this place into a comfortable party mood!\"\n",
       "  }\n",
       "  role: \"user\",\n",
       "  parts {\n",
       "    function_call {\n",
       "      name: \"power_disco_ball\"\n",
       "      args {\n",
       "        fields {\n",
       "          key: \"power\"\n",
       "          value {\n",
       "            bool_value: true\n",
       "          }\n",
       "        }\n",
       "      }\n",
       "    }\n",
       "  }\n",
       "  parts {\n",
       "    function_call {\n",
       "      name: \"start_music\"\n",
       "      args {\n",
       "        fields {\n",
       "          key: \"loud\"\n",
       "          value {\n",
       "            bool_value: true\n",
       "          }\n",
       "        }\n",
       "        fields {\n",
       "          key: \"energetic\"\n",
       "          value {\n",
       "            bool_value: true\n",
       "          }\n",
       "        }\n",
       "        fields {\n",
       "          key: \"bpm\"\n",
       "          value {\n",
       "            string_value: \"120\"\n",
       "          }\n",
       "        }\n",
       "      }\n",
       "    }\n",
       "  }\n",
       "  parts {\n",
       "    function_call {\n",
       "      name: \"dim_lights\"\n",
       "      args {\n",
       "        fields {\n",
       "          key: \"brightness\"\n",
       "          value {\n",
       "            number_value: 0.5\n",
       "          }\n",
       "        }\n",
       "      }\n",
       "    }\n",
       "  }\n",
       "  role: \"model\",\n",
       "  parts {\n",
       "    function_response {\n",
       "      name: \"power_disco_ball\"\n",
       "      response {\n",
       "        fields {\n",
       "          key: \"content\"\n",
       "          value {\n",
       "            string_value: \"Disco ball is spinning!\"\n",
       "          }\n",
       "        }\n",
       "      }\n",
       "    }\n",
       "  }\n",
       "  parts {\n",
       "    function_response {\n",
       "      name: \"start_music\"\n",
       "      response {\n",
       "        fields {\n",
       "          key: \"content\"\n",
       "          value {\n",
       "            string_value: \"Starting music! energetic=True loud=True, bpm=\\'120\\'\"\n",
       "          }\n",
       "        }\n",
       "      }\n",
       "    }\n",
       "  }\n",
       "  parts {\n",
       "    function_response {\n",
       "      name: \"dim_lights\"\n",
       "      response {\n",
       "        fields {\n",
       "          key: \"content\"\n",
       "          value {\n",
       "            string_value: \"Lights are now set to 0.5\"\n",
       "          }\n",
       "        }\n",
       "      }\n",
       "    }\n",
       "  }\n",
       "  role: \"function\"]}"
      ]
     },
     "execution_count": 27,
     "metadata": {},
     "output_type": "execute_result"
    }
   ],
   "source": [
    "response = await gemini.arun(prompt)\n",
    "\n",
    "# show result\n",
    "response.model_dump()"
   ]
  },
  {
   "cell_type": "markdown",
   "metadata": {},
   "source": [
    "Gemini allows you to call specific tool as well as OpenAI Chat Completion."
   ]
  },
  {
   "cell_type": "code",
   "execution_count": 28,
   "metadata": {},
   "outputs": [
    {
     "data": {
      "text/plain": [
       "{'message': {'role': 'assistant',\n",
       "  'content': [{'text': \"Okay, I'm setting the mood!  🎶 \\n\\nLet's get this party started! What else can I do to make it awesome? 🎉 \\n\"}],\n",
       "  'name': None},\n",
       " 'usage': {'model_name': 'gemini-1.5-pro',\n",
       "  'prompt_tokens': 68,\n",
       "  'completion_tokens': 32},\n",
       " 'prompt': [parts {\n",
       "    text: \"Turn this place into a comfortable party mood!\"\n",
       "  }\n",
       "  role: \"user\",\n",
       "  parts {\n",
       "    function_call {\n",
       "      name: \"start_music\"\n",
       "      args {\n",
       "        fields {\n",
       "          key: \"loud\"\n",
       "          value {\n",
       "            bool_value: true\n",
       "          }\n",
       "        }\n",
       "        fields {\n",
       "          key: \"energetic\"\n",
       "          value {\n",
       "            bool_value: true\n",
       "          }\n",
       "        }\n",
       "        fields {\n",
       "          key: \"bpm\"\n",
       "          value {\n",
       "            string_value: \"120\"\n",
       "          }\n",
       "        }\n",
       "      }\n",
       "    }\n",
       "  }\n",
       "  role: \"model\",\n",
       "  parts {\n",
       "    function_response {\n",
       "      name: \"start_music\"\n",
       "      response {\n",
       "        fields {\n",
       "          key: \"content\"\n",
       "          value {\n",
       "            string_value: \"Starting music! energetic=True loud=True, bpm=\\'120\\'\"\n",
       "          }\n",
       "        }\n",
       "      }\n",
       "    }\n",
       "  }\n",
       "  role: \"function\"]}"
      ]
     },
     "execution_count": 28,
     "metadata": {},
     "output_type": "execute_result"
    }
   ],
   "source": [
    "response = gemini.run(prompt, tool_choice=\"start_music\")\n",
    "\n",
    "# show result\n",
    "response.model_dump()"
   ]
  },
  {
   "cell_type": "markdown",
   "metadata": {},
   "source": [
    "### Gemini on VertexAI"
   ]
  },
  {
   "cell_type": "code",
   "execution_count": 29,
   "metadata": {},
   "outputs": [],
   "source": [
    "gemini_vertexai = GeminiFunctionalChat(\n",
    "    model_name=\"gemini-1.5-flash\",\n",
    "    api_type=\"vertexai\",\n",
    "    project_id_env_name=\"PROJECT_ID\",\n",
    "    location_env_name=\"LOCATION\",\n",
    "    tools=[power_disco_ball, start_music, dim_lights],\n",
    "    tool_configs=tool_configs,\n",
    ")"
   ]
  },
  {
   "cell_type": "code",
   "execution_count": 30,
   "metadata": {},
   "outputs": [
    {
     "data": {
      "text/plain": [
       "{'message': {'role': 'assistant',\n",
       "  'content': [{'text': \"Okay, I've got the music going!  It's energetic but not too loud, and the lights are dimmed to create a nice party atmosphere.  The disco ball is spinning, throwing flashes of light all around.  \\n\\nWhat else can I do to make the mood even more comfortable?  Maybe you want some candles lit, or some snacks laid out?  Just tell me what you'd like, and I'll do my best to make this the perfect party spot! \\n\"}],\n",
       "  'name': None},\n",
       " 'usage': {'model_name': 'gemini-1.5-flash',\n",
       "  'prompt_tokens': 73,\n",
       "  'completion_tokens': 102},\n",
       " 'prompt': [role: \"user\"\n",
       "  parts {\n",
       "    text: \"Turn this place into a comfortable party mood!\"\n",
       "  },\n",
       "  role: \"model\"\n",
       "  parts {\n",
       "    function_call {\n",
       "      name: \"start_music\"\n",
       "      args {\n",
       "        fields {\n",
       "          key: \"loud\"\n",
       "          value {\n",
       "            bool_value: false\n",
       "          }\n",
       "        }\n",
       "        fields {\n",
       "          key: \"energetic\"\n",
       "          value {\n",
       "            bool_value: true\n",
       "          }\n",
       "        }\n",
       "        fields {\n",
       "          key: \"bpm\"\n",
       "          value {\n",
       "            string_value: \"120\"\n",
       "          }\n",
       "        }\n",
       "      }\n",
       "    }\n",
       "  }\n",
       "  parts {\n",
       "    function_call {\n",
       "      name: \"dim_lights\"\n",
       "      args {\n",
       "        fields {\n",
       "          key: \"brightness\"\n",
       "          value {\n",
       "            number_value: 0.5\n",
       "          }\n",
       "        }\n",
       "      }\n",
       "    }\n",
       "  }\n",
       "  parts {\n",
       "    function_call {\n",
       "      name: \"power_disco_ball\"\n",
       "      args {\n",
       "        fields {\n",
       "          key: \"power\"\n",
       "          value {\n",
       "            bool_value: true\n",
       "          }\n",
       "        }\n",
       "      }\n",
       "    }\n",
       "  },\n",
       "  role: \"user\"\n",
       "  parts {\n",
       "    function_response {\n",
       "      name: \"start_music\"\n",
       "      response {\n",
       "        fields {\n",
       "          key: \"content\"\n",
       "          value {\n",
       "            string_value: \"Starting music! energetic=True loud=False, bpm=\\'120\\'\"\n",
       "          }\n",
       "        }\n",
       "      }\n",
       "    }\n",
       "  }\n",
       "  parts {\n",
       "    function_response {\n",
       "      name: \"dim_lights\"\n",
       "      response {\n",
       "        fields {\n",
       "          key: \"content\"\n",
       "          value {\n",
       "            string_value: \"Lights are now set to 0.5\"\n",
       "          }\n",
       "        }\n",
       "      }\n",
       "    }\n",
       "  }\n",
       "  parts {\n",
       "    function_response {\n",
       "      name: \"power_disco_ball\"\n",
       "      response {\n",
       "        fields {\n",
       "          key: \"content\"\n",
       "          value {\n",
       "            string_value: \"Disco ball is spinning!\"\n",
       "          }\n",
       "        }\n",
       "      }\n",
       "    }\n",
       "  }]}"
      ]
     },
     "execution_count": 30,
     "metadata": {},
     "output_type": "execute_result"
    }
   ],
   "source": [
    "response = gemini_vertexai.run(prompt=prompt)\n",
    "\n",
    "# show result\n",
    "response.model_dump()"
   ]
  },
  {
   "cell_type": "markdown",
   "metadata": {},
   "source": [
    "multiple generation"
   ]
  },
  {
   "cell_type": "code",
   "execution_count": 31,
   "metadata": {},
   "outputs": [
    {
     "data": {
      "text/plain": [
       "{'role': 'assistant',\n",
       " 'content': [{'text': \"Okay, I've set the mood!  \\n\\n* **Music:** Upbeat tunes with a good groove are playing (around 120 bpm). It's not too loud, perfect for easy conversation and dancing. \\n* **Lights:** The lights are dimmed to a cozy level, creating a warm and inviting atmosphere. \\n* **Disco Ball:** The disco ball is spinning, casting a playful sparkle around the room! \\n\\nLet the party begin! 🎉 \\n\"},\n",
       "  {'text': \"Okay, I've set the mood!  \\n\\n* **Music:** Upbeat tunes with a good groove are playing (around 120 bpm). It's not too loud, perfect for easy conversation and dancing. \\n* **Lights:** The lights are dimmed to a cozy level, creating a warm and inviting atmosphere. \\n* **Disco Ball:** The disco ball is spinning, casting a playful sparkle around the room! \\n\\nLet the party begin! 🎉 \\n\"}],\n",
       " 'name': None}"
      ]
     },
     "execution_count": 31,
     "metadata": {},
     "output_type": "execute_result"
    }
   ],
   "source": [
    "response = gemini_vertexai.run(prompt=prompt, n_results=2)\n",
    "response.message.model_dump()"
   ]
  },
  {
   "cell_type": "markdown",
   "metadata": {},
   "source": [
    "### Anthropic Claude"
   ]
  },
  {
   "cell_type": "markdown",
   "metadata": {},
   "source": [
    "tool_configs can be shared with Claude."
   ]
  },
  {
   "cell_type": "code",
   "execution_count": 32,
   "metadata": {},
   "outputs": [],
   "source": [
    "claude = ClaudeFunctionalChat(\n",
    "    model_name=\"claude-3-5-sonnet-20240620\",\n",
    "    api_key_env_name=\"ANTHROPIC_API_KEY\",\n",
    "    tools=[power_disco_ball, start_music, dim_lights],\n",
    "    tool_configs=tool_configs,\n",
    "    # tools=[PowerDiscoBall, StartMusic, DimLights],\n",
    "    # tool_configs=tool_configs_pydantic,\n",
    ")"
   ]
  },
  {
   "cell_type": "code",
   "execution_count": 33,
   "metadata": {},
   "outputs": [
    {
     "data": {
      "text/plain": [
       "{'message': {'role': 'assistant',\n",
       "  'content': [{'text': \"Great! I've set up a comfortable party mood for you. Here's what I've done:\\n\\n1. Dimmed the lights: I've set the brightness to 0.4, which provides a cozy, intimate atmosphere without being too dark. This level of lighting is perfect for a comfortable party setting.\\n\\n2. Started the music: I've chosen energetic music to keep the party mood up, but set it to a lower volume (not loud) so people can still comfortably talk. The beats per minute (BPM) is set to 120, which is a good middle ground for various party music styles and allows for both dancing and casual listening.\\n\\n3. Activated the disco ball: The spinning disco ball will add a fun, party-like ambiance to the room without being overwhelming.\\n\\nThese settings should create a comfortable party mood that allows for both socializing and dancing. The combination of soft lighting, upbeat but not overpowering music, and the subtle disco ball effect should make for a welcoming and enjoyable atmosphere.\\n\\nIs there anything else you'd like me to adjust to perfect the party mood?\"}],\n",
       "  'name': None},\n",
       " 'usage': {'model_name': 'claude-3-5-sonnet-20240620',\n",
       "  'prompt_tokens': 941,\n",
       "  'completion_tokens': 242},\n",
       " 'prompt': [{'role': 'user',\n",
       "   'content': [{'text': 'Turn this place into a comfortable party mood!',\n",
       "     'type': 'text'}]},\n",
       "  {'role': 'assistant',\n",
       "   'content': [{'text': \"Certainly! I'd be happy to help create a comfortable party mood for you. To achieve this, we'll need to adjust a few things using the available tools. Let's set up the environment with some mood lighting, music, and a disco ball for a fun touch. I'll use the relevant functions to create the perfect atmosphere.\",\n",
       "     'type': 'text'},\n",
       "    {'id': 'toolu_01EpYm4NzfB7aYLHPb7R6KNA',\n",
       "     'type': 'tool_use',\n",
       "     'input': {'brightness': 0.4},\n",
       "     'name': 'dim_lights'},\n",
       "    {'id': 'toolu_01TY3Y5g5g2GZ4uvtsv5KtPu',\n",
       "     'type': 'tool_use',\n",
       "     'input': {'energetic': True, 'loud': False, 'bpm': '120'},\n",
       "     'name': 'start_music'},\n",
       "    {'id': 'toolu_01DjsjqWR9BLXivzcVz1kf6g',\n",
       "     'type': 'tool_use',\n",
       "     'input': {'power': True},\n",
       "     'name': 'power_disco_ball'}]},\n",
       "  {'role': 'user',\n",
       "   'content': [{'tool_use_id': 'toolu_01EpYm4NzfB7aYLHPb7R6KNA',\n",
       "     'type': 'tool_result',\n",
       "     'content': 'Lights are now set to 0.4'},\n",
       "    {'tool_use_id': 'toolu_01TY3Y5g5g2GZ4uvtsv5KtPu',\n",
       "     'type': 'tool_result',\n",
       "     'content': \"Starting music! energetic=True loud=False, bpm='120'\"},\n",
       "    {'tool_use_id': 'toolu_01DjsjqWR9BLXivzcVz1kf6g',\n",
       "     'type': 'tool_result',\n",
       "     'content': 'Disco ball is spinning!'}]}]}"
      ]
     },
     "execution_count": 33,
     "metadata": {},
     "output_type": "execute_result"
    }
   ],
   "source": [
    "response = claude.run(prompt=prompt)\n",
    "\n",
    "response.model_dump()"
   ]
  },
  {
   "cell_type": "markdown",
   "metadata": {},
   "source": [
    "Asynchronous generation"
   ]
  },
  {
   "cell_type": "code",
   "execution_count": 34,
   "metadata": {},
   "outputs": [
    {
     "data": {
      "text/plain": [
       "{'message': {'role': 'assistant',\n",
       "  'content': [{'text': \"Great! I've set up a comfortable party mood for you. Here's what I've done:\\n\\n1. Powered on the disco ball: This will add a fun, party-like atmosphere with its spinning lights.\\n\\n2. Started some music: I've chosen energetic music to keep the party mood up, but not too loud so it's still comfortable for conversation. The tempo is set to 120 BPM, which is a good, moderate pace for a comfortable party vibe.\\n\\n3. Dimmed the lights: I've set the brightness to 0.6 (on a scale from 0 to 1). This creates a cozy atmosphere without making it too dark, allowing for a good balance between mood lighting and visibility.\\n\\nThese settings should create a comfortable party mood that's lively enough for fun but not overwhelming. The spinning disco ball adds a festive touch, the energetic music at a moderate volume keeps the energy up without drowning out conversation, and the dimmed lights create a relaxed ambiance.\\n\\nIs there anything else you'd like to adjust to make the party mood even more comfortable?\"}],\n",
       "  'name': None},\n",
       " 'usage': {'model_name': 'claude-3-5-sonnet-20240620',\n",
       "  'prompt_tokens': 944,\n",
       "  'completion_tokens': 241},\n",
       " 'prompt': [{'role': 'user',\n",
       "   'content': [{'text': 'Turn this place into a comfortable party mood!',\n",
       "     'type': 'text'}]},\n",
       "  {'role': 'assistant',\n",
       "   'content': [{'text': \"Certainly! I'd be happy to help create a comfortable party mood for you. To achieve this, we'll need to adjust a few things using the available tools. Let's set up a nice ambiance with some music, lighting, and a disco ball for a fun touch. I'll use the tools we have to create the perfect party atmosphere.\",\n",
       "     'type': 'text'},\n",
       "    {'id': 'toolu_01H9UZVUzX9oHpXFNEXy1Yxy',\n",
       "     'type': 'tool_use',\n",
       "     'input': {'power': True},\n",
       "     'name': 'power_disco_ball'},\n",
       "    {'id': 'toolu_01LkxMPVmT1nZ6AtPBxLkK73',\n",
       "     'type': 'tool_use',\n",
       "     'input': {'energetic': True, 'loud': False, 'bpm': '120'},\n",
       "     'name': 'start_music'},\n",
       "    {'id': 'toolu_015dbsT2g2RjEGJg3LaHxEb7',\n",
       "     'type': 'tool_use',\n",
       "     'input': {'brightness': 0.6},\n",
       "     'name': 'dim_lights'}]},\n",
       "  {'role': 'user',\n",
       "   'content': [{'tool_use_id': 'toolu_01H9UZVUzX9oHpXFNEXy1Yxy',\n",
       "     'type': 'tool_result',\n",
       "     'content': 'Disco ball is spinning!'},\n",
       "    {'tool_use_id': 'toolu_01LkxMPVmT1nZ6AtPBxLkK73',\n",
       "     'type': 'tool_result',\n",
       "     'content': \"Starting music! energetic=True loud=False, bpm='120'\"},\n",
       "    {'tool_use_id': 'toolu_015dbsT2g2RjEGJg3LaHxEb7',\n",
       "     'type': 'tool_result',\n",
       "     'content': 'Lights are now set to 0.6'}]}]}"
      ]
     },
     "execution_count": 34,
     "metadata": {},
     "output_type": "execute_result"
    }
   ],
   "source": [
    "response = await claude.arun(prompt=prompt)\n",
    "\n",
    "response.model_dump()"
   ]
  },
  {
   "cell_type": "markdown",
   "metadata": {},
   "source": [
    "### Claude on Amazon Bedrock"
   ]
  },
  {
   "cell_type": "code",
   "execution_count": 35,
   "metadata": {},
   "outputs": [],
   "source": [
    "claude_bedrock = ClaudeFunctionalChat(\n",
    "    model_name=\"anthropic.claude-3-sonnet-20240229-v1:0\",\n",
    "    api_type=\"bedrock\",\n",
    "    aws_access_key_env_name=\"AWS_ACCESS_KEY\",\n",
    "    aws_secret_key_env_name=\"AWS_SECRET_KEY\",\n",
    "    aws_region_env_name=\"AWS_REGION\",\n",
    "    tools=[power_disco_ball, start_music, dim_lights],\n",
    "    tool_configs=tool_configs,\n",
    ")"
   ]
  },
  {
   "cell_type": "code",
   "execution_count": 36,
   "metadata": {},
   "outputs": [
    {
     "data": {
      "text/plain": [
       "{'message': {'role': 'assistant',\n",
       "  'content': [{'text': \"Great! I've set up a comfortable party mood for you. Here's what I've done:\\n\\n1. Dimmed the lights to 40% brightness (0.4), which should create a cozy and inviting atmosphere without being too dark.\\n2. Started some music with a moderate tempo (120 bpm). It's energetic to keep the party vibe going, but not too loud, so people can still comfortably chat.\\n3. Turned on the disco ball to add a fun, festive touch to the space.\\n\\nThese settings should create a comfortable party mood that's perfect for socializing and having a good time. The combination of soft lighting, upbeat but not overwhelming music, and the subtle sparkle from the disco ball should set just the right tone.\\n\\nIs there anything else you'd like to adjust to make the party mood even more comfortable or to your liking?\"}],\n",
       "  'name': None},\n",
       " 'usage': {'model_name': 'claude-3-5-sonnet-20240620',\n",
       "  'prompt_tokens': 964,\n",
       "  'completion_tokens': 194},\n",
       " 'prompt': [{'role': 'user',\n",
       "   'content': [{'text': 'Turn this place into a comfortable party mood!',\n",
       "     'type': 'text'}]},\n",
       "  {'role': 'assistant',\n",
       "   'content': [{'text': \"Certainly! I'd be happy to help create a comfortable party mood. To achieve this, we'll need to adjust the lighting, start some music, and add a festive touch. Let's use the available tools to set the right atmosphere.\\n\\nFirst, let's dim the lights to create a cozy ambiance, start some moderate-tempo music, and activate the disco ball for a fun touch. Here's how we'll do it:\",\n",
       "     'type': 'text'},\n",
       "    {'id': 'toolu_01VY5QVvGLfXijpukpKnbuCS',\n",
       "     'type': 'tool_use',\n",
       "     'input': {'brightness': 0.4},\n",
       "     'name': 'dim_lights'},\n",
       "    {'id': 'toolu_0169bD7KvxXkcZFZ1G4ufecN',\n",
       "     'type': 'tool_use',\n",
       "     'input': {'bpm': '120', 'energetic': True, 'loud': False},\n",
       "     'name': 'start_music'},\n",
       "    {'id': 'toolu_017aWzPWP9D46K6jrnkMSuYQ',\n",
       "     'type': 'tool_use',\n",
       "     'input': {'power': True},\n",
       "     'name': 'power_disco_ball'}]},\n",
       "  {'role': 'user',\n",
       "   'content': [{'tool_use_id': 'toolu_01VY5QVvGLfXijpukpKnbuCS',\n",
       "     'type': 'tool_result',\n",
       "     'content': 'Lights are now set to 0.4'},\n",
       "    {'tool_use_id': 'toolu_0169bD7KvxXkcZFZ1G4ufecN',\n",
       "     'type': 'tool_result',\n",
       "     'content': \"Starting music! energetic=True loud=False, bpm='120'\"},\n",
       "    {'tool_use_id': 'toolu_017aWzPWP9D46K6jrnkMSuYQ',\n",
       "     'type': 'tool_result',\n",
       "     'content': 'Disco ball is spinning!'}]}]}"
      ]
     },
     "execution_count": 36,
     "metadata": {},
     "output_type": "execute_result"
    }
   ],
   "source": [
    "response = claude.run(prompt=prompt)\n",
    "\n",
    "response.model_dump()"
   ]
  },
  {
   "cell_type": "markdown",
   "metadata": {},
   "source": [
    "# Universal tool config system"
   ]
  },
  {
   "cell_type": "markdown",
   "metadata": {},
   "source": [
    "Tool config the user defines is common for various llm. It is converted to client tools in clinet's FunctionCallingModule before API call. Let me show you the process of conversion."
   ]
  },
  {
   "cell_type": "code",
   "execution_count": 37,
   "metadata": {},
   "outputs": [
    {
     "data": {
      "text/plain": [
       "[OpenAIToolConfig(name='power_disco_ball', description='Powers the spinning disco ball.', parameters=OpenAIToolParameter(type='object', properties=[OpenAIToolProperty(name='power', type='boolean', description='Boolean to spin disco ball.', enum=None)], required=['power']), type='function'),\n",
       " OpenAIToolConfig(name='start_music', description='Play some music matching the specified parameters.', parameters=OpenAIToolParameter(type='object', properties=[OpenAIToolProperty(name='energetic', type='boolean', description='Whether the music is energetic or not.', enum=None), OpenAIToolProperty(name='loud', type='boolean', description='Whether the music is loud or not.', enum=None), OpenAIToolProperty(name='bpm', type='string', description='The beats per minute of the music.', enum=['60', '120', '180'])], required=['energetic', 'loud', 'bpm']), type='function'),\n",
       " OpenAIToolConfig(name='dim_lights', description='Dim the lights.', parameters=OpenAIToolParameter(type='object', properties=[OpenAIToolProperty(name='brightness', type='number', description='The brightness of the lights, 0.0 is off, 1.0 is full.', enum=None)], required=['brightness']), type='function')]"
      ]
     },
     "execution_count": 37,
     "metadata": {},
     "output_type": "execute_result"
    }
   ],
   "source": [
    "from langrila.openai import OpenAIToolConfig\n",
    "\n",
    "converted_configs = OpenAIToolConfig.from_universal_configs(tool_configs)\n",
    "converted_configs"
   ]
  },
  {
   "cell_type": "markdown",
   "metadata": {},
   "source": [
    "Then these client tool config objects is transformed to client tools by format() method."
   ]
  },
  {
   "cell_type": "code",
   "execution_count": 38,
   "metadata": {},
   "outputs": [
    {
     "data": {
      "text/plain": [
       "{'type': 'function',\n",
       " 'function': {'name': 'power_disco_ball',\n",
       "  'description': 'Powers the spinning disco ball.',\n",
       "  'parameters': {'type': 'object',\n",
       "   'properties': {'power': {'type': 'boolean',\n",
       "     'description': 'Boolean to spin disco ball.'}},\n",
       "   'required': ['power']}}}"
      ]
     },
     "execution_count": 38,
     "metadata": {},
     "output_type": "execute_result"
    }
   ],
   "source": [
    "converted_configs[0].format()"
   ]
  },
  {
   "cell_type": "markdown",
   "metadata": {},
   "source": [
    "Other client like Gemini and Claude is the same interface, so you could reuse tool_configs you initially defines."
   ]
  },
  {
   "cell_type": "code",
   "execution_count": 39,
   "metadata": {},
   "outputs": [],
   "source": [
    "from langrila.gemini.genai import GeminiToolConfig"
   ]
  },
  {
   "cell_type": "code",
   "execution_count": 40,
   "metadata": {},
   "outputs": [
    {
     "data": {
      "text/plain": [
       "[GeminiToolConfig(name='power_disco_ball', description='Powers the spinning disco ball.', parameters=GeminiToolParameter(type='object', properties=[GeminiToolProperty(name='power', type='boolean', description='Boolean to spin disco ball.', enum=None)], required=['power'])),\n",
       " GeminiToolConfig(name='start_music', description='Play some music matching the specified parameters.', parameters=GeminiToolParameter(type='object', properties=[GeminiToolProperty(name='energetic', type='boolean', description='Whether the music is energetic or not.', enum=None), GeminiToolProperty(name='loud', type='boolean', description='Whether the music is loud or not.', enum=None), GeminiToolProperty(name='bpm', type='string', description='The beats per minute of the music.', enum=['60', '120', '180'])], required=['energetic', 'loud', 'bpm'])),\n",
       " GeminiToolConfig(name='dim_lights', description='Dim the lights.', parameters=GeminiToolParameter(type='object', properties=[GeminiToolProperty(name='brightness', type='number', description='The brightness of the lights, 0.0 is off, 1.0 is full.', enum=None)], required=['brightness']))]"
      ]
     },
     "execution_count": 40,
     "metadata": {},
     "output_type": "execute_result"
    }
   ],
   "source": [
    "converted_configs = GeminiToolConfig.from_universal_configs(tool_configs)\n",
    "converted_configs"
   ]
  },
  {
   "cell_type": "code",
   "execution_count": 41,
   "metadata": {},
   "outputs": [
    {
     "data": {
      "text/plain": [
       "name: \"power_disco_ball\"\n",
       "description: \"Powers the spinning disco ball.\"\n",
       "parameters {\n",
       "  type_: OBJECT\n",
       "  properties {\n",
       "    key: \"power\"\n",
       "    value {\n",
       "      type_: BOOLEAN\n",
       "      description: \"Boolean to spin disco ball.\"\n",
       "    }\n",
       "  }\n",
       "  required: \"power\"\n",
       "}"
      ]
     },
     "execution_count": 41,
     "metadata": {},
     "output_type": "execute_result"
    }
   ],
   "source": [
    "converted_configs[0].format()"
   ]
  },
  {
   "cell_type": "markdown",
   "metadata": {},
   "source": [
    "# Multi-turn conversation with tools"
   ]
  },
  {
   "cell_type": "markdown",
   "metadata": {},
   "source": [
    "### For OpenAI Chat Completion"
   ]
  },
  {
   "cell_type": "code",
   "execution_count": 42,
   "metadata": {},
   "outputs": [],
   "source": [
    "chat_openai = OpenAIFunctionalChat(\n",
    "    api_key_env_name=\"API_KEY\",\n",
    "    model_name=\"gpt-4o-mini-2024-07-18\",\n",
    "    tools=[power_disco_ball, start_music, dim_lights],\n",
    "    tool_configs=tool_configs,\n",
    "    conversation_memory=InMemoryConversationMemory(),\n",
    "    # conversation_memory=JSONConversationMemory(\"./test.json\"), # for serialization\n",
    ")"
   ]
  },
  {
   "cell_type": "code",
   "execution_count": 43,
   "metadata": {},
   "outputs": [
    {
     "data": {
      "text/plain": [
       "{'message': {'role': 'assistant',\n",
       "  'content': [{'text': \"The party mood is set! The disco ball is spinning, energetic music is playing at a loud volume with a lively beat of 120 BPM, and the lights are dimmed for a cozy atmosphere. Let's have a great time! 🎉🕺💃\"}],\n",
       "  'name': None},\n",
       " 'usage': {'model_name': 'gpt-4o-mini-2024-07-18',\n",
       "  'prompt_tokens': 134,\n",
       "  'completion_tokens': 53},\n",
       " 'prompt': [{'role': 'user',\n",
       "   'content': [{'type': 'text',\n",
       "     'text': 'Turn this place into a comfortable party mood!'}],\n",
       "   'name': 'User'},\n",
       "  {'content': None,\n",
       "   'role': 'assistant',\n",
       "   'function_call': None,\n",
       "   'tool_calls': [{'id': 'call_Gl6lpeVbBVR9dB9FxDR6Vx5v',\n",
       "     'function': {'arguments': '{\"power\": true}', 'name': 'power_disco_ball'},\n",
       "     'type': 'function'},\n",
       "    {'id': 'call_2W7sF5UCEU94LC36LDX9LO0w',\n",
       "     'function': {'arguments': '{\"energetic\": true, \"loud\": true, \"bpm\": \"120\"}',\n",
       "      'name': 'start_music'},\n",
       "     'type': 'function'},\n",
       "    {'id': 'call_O5yhLKy6bPypTdxQPNj5Nrul',\n",
       "     'function': {'arguments': '{\"brightness\": 0.5}', 'name': 'dim_lights'},\n",
       "     'type': 'function'}]},\n",
       "  {'role': 'tool',\n",
       "   'tool_call_id': 'call_Gl6lpeVbBVR9dB9FxDR6Vx5v',\n",
       "   'name': 'power_disco_ball',\n",
       "   'content': 'Disco ball is spinning!'},\n",
       "  {'role': 'tool',\n",
       "   'tool_call_id': 'call_2W7sF5UCEU94LC36LDX9LO0w',\n",
       "   'name': 'start_music',\n",
       "   'content': \"Starting music! energetic=True loud=True, bpm='120'\"},\n",
       "  {'role': 'tool',\n",
       "   'tool_call_id': 'call_O5yhLKy6bPypTdxQPNj5Nrul',\n",
       "   'name': 'dim_lights',\n",
       "   'content': 'Lights are now set to 0.5'}]}"
      ]
     },
     "execution_count": 43,
     "metadata": {},
     "output_type": "execute_result"
    }
   ],
   "source": [
    "prompt = \"Turn this place into a comfortable party mood!\"\n",
    "\n",
    "response = chat_openai.run(prompt=prompt)\n",
    "\n",
    "# Show result\n",
    "response.model_dump()"
   ]
  },
  {
   "cell_type": "markdown",
   "metadata": {},
   "source": [
    "Next turn"
   ]
  },
  {
   "cell_type": "code",
   "execution_count": 44,
   "metadata": {},
   "outputs": [
    {
     "data": {
      "text/plain": [
       "{'message': {'role': 'assistant',\n",
       "  'content': [{'text': 'The music BPM has been cranked up to 180! Get ready to dance and enjoy the vibrant energy! 🎶💥'}],\n",
       "  'name': None},\n",
       " 'usage': {'model_name': 'gpt-4o-mini-2024-07-18',\n",
       "  'prompt_tokens': 252,\n",
       "  'completion_tokens': 26},\n",
       " 'prompt': [{'role': 'user',\n",
       "   'content': [{'type': 'text',\n",
       "     'text': 'Turn this place into a comfortable party mood!'}],\n",
       "   'name': 'User'},\n",
       "  {'content': None,\n",
       "   'role': 'assistant',\n",
       "   'function_call': None,\n",
       "   'tool_calls': [{'id': 'call_Gl6lpeVbBVR9dB9FxDR6Vx5v',\n",
       "     'function': {'arguments': '{\"power\": true}', 'name': 'power_disco_ball'},\n",
       "     'type': 'function'},\n",
       "    {'id': 'call_2W7sF5UCEU94LC36LDX9LO0w',\n",
       "     'function': {'arguments': '{\"energetic\": true, \"loud\": true, \"bpm\": \"120\"}',\n",
       "      'name': 'start_music'},\n",
       "     'type': 'function'},\n",
       "    {'id': 'call_O5yhLKy6bPypTdxQPNj5Nrul',\n",
       "     'function': {'arguments': '{\"brightness\": 0.5}', 'name': 'dim_lights'},\n",
       "     'type': 'function'}]},\n",
       "  {'role': 'tool',\n",
       "   'tool_call_id': 'call_Gl6lpeVbBVR9dB9FxDR6Vx5v',\n",
       "   'name': 'power_disco_ball',\n",
       "   'content': 'Disco ball is spinning!'},\n",
       "  {'role': 'tool',\n",
       "   'tool_call_id': 'call_2W7sF5UCEU94LC36LDX9LO0w',\n",
       "   'name': 'start_music',\n",
       "   'content': \"Starting music! energetic=True loud=True, bpm='120'\"},\n",
       "  {'role': 'tool',\n",
       "   'tool_call_id': 'call_O5yhLKy6bPypTdxQPNj5Nrul',\n",
       "   'name': 'dim_lights',\n",
       "   'content': 'Lights are now set to 0.5'},\n",
       "  {'role': 'assistant',\n",
       "   'content': [{'type': 'text',\n",
       "     'text': \"The party mood is set! The disco ball is spinning, energetic music is playing at a loud volume with a lively beat of 120 BPM, and the lights are dimmed for a cozy atmosphere. Let's have a great time! 🎉🕺💃\"}],\n",
       "   'name': 'Assistant'},\n",
       "  {'role': 'user',\n",
       "   'content': [{'type': 'text', 'text': 'Can you make bpm up more?'}],\n",
       "   'name': 'User'},\n",
       "  {'content': None,\n",
       "   'role': 'assistant',\n",
       "   'function_call': None,\n",
       "   'tool_calls': [{'id': 'call_TT18h5emC6Lqh63eoTaMRLEC',\n",
       "     'function': {'arguments': '{\"energetic\":true,\"loud\":true,\"bpm\":\"180\"}',\n",
       "      'name': 'start_music'},\n",
       "     'type': 'function'}]},\n",
       "  {'role': 'tool',\n",
       "   'tool_call_id': 'call_TT18h5emC6Lqh63eoTaMRLEC',\n",
       "   'name': 'start_music',\n",
       "   'content': \"Starting music! energetic=True loud=True, bpm='180'\"}]}"
      ]
     },
     "execution_count": 44,
     "metadata": {},
     "output_type": "execute_result"
    }
   ],
   "source": [
    "prompt = \"Can you make bpm up more?\"\n",
    "\n",
    "response = chat_openai.run(prompt=prompt)\n",
    "\n",
    "response.model_dump()"
   ]
  },
  {
   "cell_type": "markdown",
   "metadata": {},
   "source": [
    "### For Gemini"
   ]
  },
  {
   "cell_type": "code",
   "execution_count": 45,
   "metadata": {},
   "outputs": [],
   "source": [
    "gemini = GeminiFunctionalChat(\n",
    "    api_key_env_name=\"GEMINI_API_KEY\",\n",
    "    model_name=\"gemini-1.5-pro\",\n",
    "    tools=[power_disco_ball, start_music, dim_lights],\n",
    "    tool_configs=tool_configs,\n",
    "    conversation_memory=InMemoryConversationMemory(),\n",
    "    # conversation_memory=JSONConversationMemory(\"./test.json\"), # for serialization\n",
    ")"
   ]
  },
  {
   "cell_type": "code",
   "execution_count": 46,
   "metadata": {},
   "outputs": [
    {
     "data": {
      "text/plain": [
       "{'message': {'role': 'assistant',\n",
       "  'content': [{'text': \"Alright, I've dimmed the lights, turned on the disco ball, and started some upbeat music! Let's get this party started! 🎉 \\n\"}],\n",
       "  'name': None},\n",
       " 'usage': {'model_name': 'gemini-1.5-pro',\n",
       "  'prompt_tokens': 145,\n",
       "  'completion_tokens': 30},\n",
       " 'prompt': [parts {\n",
       "    text: \"Turn this place into a comfortable party mood!\"\n",
       "  }\n",
       "  role: \"user\",\n",
       "  parts {\n",
       "    function_call {\n",
       "      name: \"dim_lights\"\n",
       "      args {\n",
       "        fields {\n",
       "          key: \"brightness\"\n",
       "          value {\n",
       "            number_value: 0.5\n",
       "          }\n",
       "        }\n",
       "      }\n",
       "    }\n",
       "  }\n",
       "  parts {\n",
       "    function_call {\n",
       "      name: \"power_disco_ball\"\n",
       "      args {\n",
       "        fields {\n",
       "          key: \"power\"\n",
       "          value {\n",
       "            bool_value: true\n",
       "          }\n",
       "        }\n",
       "      }\n",
       "    }\n",
       "  }\n",
       "  parts {\n",
       "    function_call {\n",
       "      name: \"start_music\"\n",
       "      args {\n",
       "        fields {\n",
       "          key: \"loud\"\n",
       "          value {\n",
       "            bool_value: true\n",
       "          }\n",
       "        }\n",
       "        fields {\n",
       "          key: \"energetic\"\n",
       "          value {\n",
       "            bool_value: true\n",
       "          }\n",
       "        }\n",
       "        fields {\n",
       "          key: \"bpm\"\n",
       "          value {\n",
       "            string_value: \"120\"\n",
       "          }\n",
       "        }\n",
       "      }\n",
       "    }\n",
       "  }\n",
       "  role: \"model\",\n",
       "  parts {\n",
       "    function_response {\n",
       "      name: \"dim_lights\"\n",
       "      response {\n",
       "        fields {\n",
       "          key: \"content\"\n",
       "          value {\n",
       "            string_value: \"Lights are now set to 0.5\"\n",
       "          }\n",
       "        }\n",
       "      }\n",
       "    }\n",
       "  }\n",
       "  parts {\n",
       "    function_response {\n",
       "      name: \"power_disco_ball\"\n",
       "      response {\n",
       "        fields {\n",
       "          key: \"content\"\n",
       "          value {\n",
       "            string_value: \"Disco ball is spinning!\"\n",
       "          }\n",
       "        }\n",
       "      }\n",
       "    }\n",
       "  }\n",
       "  parts {\n",
       "    function_response {\n",
       "      name: \"start_music\"\n",
       "      response {\n",
       "        fields {\n",
       "          key: \"content\"\n",
       "          value {\n",
       "            string_value: \"Starting music! energetic=True loud=True, bpm=\\'120\\'\"\n",
       "          }\n",
       "        }\n",
       "      }\n",
       "    }\n",
       "  }\n",
       "  role: \"function\"]}"
      ]
     },
     "execution_count": 46,
     "metadata": {},
     "output_type": "execute_result"
    }
   ],
   "source": [
    "prompt = \"Turn this place into a comfortable party mood!\"\n",
    "\n",
    "response = gemini.run(prompt=prompt)\n",
    "\n",
    "# Show result\n",
    "response.model_dump()"
   ]
  },
  {
   "cell_type": "code",
   "execution_count": 47,
   "metadata": {},
   "outputs": [
    {
     "data": {
      "text/plain": [
       "{'message': {'role': 'assistant',\n",
       "  'content': [{'text': 'The current music bpm is 120.  🎶 \\n'}],\n",
       "  'name': None},\n",
       " 'usage': {'model_name': 'gemini-1.5-pro',\n",
       "  'prompt_tokens': 185,\n",
       "  'completion_tokens': 12},\n",
       " 'prompt': [parts {\n",
       "    text: \"Turn this place into a comfortable party mood!\"\n",
       "  }\n",
       "  role: \"user\",\n",
       "  parts {\n",
       "    function_call {\n",
       "      name: \"dim_lights\"\n",
       "      args {\n",
       "        fields {\n",
       "          key: \"brightness\"\n",
       "          value {\n",
       "            number_value: 0.5\n",
       "          }\n",
       "        }\n",
       "      }\n",
       "    }\n",
       "  }\n",
       "  parts {\n",
       "    function_call {\n",
       "      name: \"power_disco_ball\"\n",
       "      args {\n",
       "        fields {\n",
       "          key: \"power\"\n",
       "          value {\n",
       "            bool_value: true\n",
       "          }\n",
       "        }\n",
       "      }\n",
       "    }\n",
       "  }\n",
       "  parts {\n",
       "    function_call {\n",
       "      name: \"start_music\"\n",
       "      args {\n",
       "        fields {\n",
       "          key: \"loud\"\n",
       "          value {\n",
       "            bool_value: true\n",
       "          }\n",
       "        }\n",
       "        fields {\n",
       "          key: \"energetic\"\n",
       "          value {\n",
       "            bool_value: true\n",
       "          }\n",
       "        }\n",
       "        fields {\n",
       "          key: \"bpm\"\n",
       "          value {\n",
       "            string_value: \"120\"\n",
       "          }\n",
       "        }\n",
       "      }\n",
       "    }\n",
       "  }\n",
       "  role: \"model\",\n",
       "  parts {\n",
       "    function_response {\n",
       "      name: \"dim_lights\"\n",
       "      response {\n",
       "        fields {\n",
       "          key: \"content\"\n",
       "          value {\n",
       "            string_value: \"Lights are now set to 0.5\"\n",
       "          }\n",
       "        }\n",
       "      }\n",
       "    }\n",
       "  }\n",
       "  parts {\n",
       "    function_response {\n",
       "      name: \"power_disco_ball\"\n",
       "      response {\n",
       "        fields {\n",
       "          key: \"content\"\n",
       "          value {\n",
       "            string_value: \"Disco ball is spinning!\"\n",
       "          }\n",
       "        }\n",
       "      }\n",
       "    }\n",
       "  }\n",
       "  parts {\n",
       "    function_response {\n",
       "      name: \"start_music\"\n",
       "      response {\n",
       "        fields {\n",
       "          key: \"content\"\n",
       "          value {\n",
       "            string_value: \"Starting music! energetic=True loud=True, bpm=\\'120\\'\"\n",
       "          }\n",
       "        }\n",
       "      }\n",
       "    }\n",
       "  }\n",
       "  role: \"function\",\n",
       "  parts {\n",
       "    text: \"Alright, I\\'ve dimmed the lights, turned on the disco ball, and started some upbeat music! Let\\'s get this party started! 🎉 \\n\"\n",
       "  }\n",
       "  role: \"model\",\n",
       "  parts {\n",
       "    text: \"What is the current bpm?\"\n",
       "  }\n",
       "  role: \"user\"]}"
      ]
     },
     "execution_count": 47,
     "metadata": {},
     "output_type": "execute_result"
    }
   ],
   "source": [
    "prompt = \"What is the current bpm?\"\n",
    "\n",
    "response = gemini.run(prompt=prompt)\n",
    "\n",
    "response.model_dump()"
   ]
  },
  {
   "cell_type": "code",
   "execution_count": 48,
   "metadata": {},
   "outputs": [
    {
     "data": {
      "text/plain": [
       "{'message': {'role': 'assistant',\n",
       "  'content': [{'text': \"Alright, I've bumped up the bpm to 180.  Let's get this party moving! 💃🕺 \\n\"}],\n",
       "  'name': None},\n",
       " 'usage': {'model_name': 'gemini-1.5-pro',\n",
       "  'prompt_tokens': 266,\n",
       "  'completion_tokens': 27},\n",
       " 'prompt': [parts {\n",
       "    text: \"Turn this place into a comfortable party mood!\"\n",
       "  }\n",
       "  role: \"user\",\n",
       "  parts {\n",
       "    function_call {\n",
       "      name: \"dim_lights\"\n",
       "      args {\n",
       "        fields {\n",
       "          key: \"brightness\"\n",
       "          value {\n",
       "            number_value: 0.5\n",
       "          }\n",
       "        }\n",
       "      }\n",
       "    }\n",
       "  }\n",
       "  parts {\n",
       "    function_call {\n",
       "      name: \"power_disco_ball\"\n",
       "      args {\n",
       "        fields {\n",
       "          key: \"power\"\n",
       "          value {\n",
       "            bool_value: true\n",
       "          }\n",
       "        }\n",
       "      }\n",
       "    }\n",
       "  }\n",
       "  parts {\n",
       "    function_call {\n",
       "      name: \"start_music\"\n",
       "      args {\n",
       "        fields {\n",
       "          key: \"loud\"\n",
       "          value {\n",
       "            bool_value: true\n",
       "          }\n",
       "        }\n",
       "        fields {\n",
       "          key: \"energetic\"\n",
       "          value {\n",
       "            bool_value: true\n",
       "          }\n",
       "        }\n",
       "        fields {\n",
       "          key: \"bpm\"\n",
       "          value {\n",
       "            string_value: \"120\"\n",
       "          }\n",
       "        }\n",
       "      }\n",
       "    }\n",
       "  }\n",
       "  role: \"model\",\n",
       "  parts {\n",
       "    function_response {\n",
       "      name: \"dim_lights\"\n",
       "      response {\n",
       "        fields {\n",
       "          key: \"content\"\n",
       "          value {\n",
       "            string_value: \"Lights are now set to 0.5\"\n",
       "          }\n",
       "        }\n",
       "      }\n",
       "    }\n",
       "  }\n",
       "  parts {\n",
       "    function_response {\n",
       "      name: \"power_disco_ball\"\n",
       "      response {\n",
       "        fields {\n",
       "          key: \"content\"\n",
       "          value {\n",
       "            string_value: \"Disco ball is spinning!\"\n",
       "          }\n",
       "        }\n",
       "      }\n",
       "    }\n",
       "  }\n",
       "  parts {\n",
       "    function_response {\n",
       "      name: \"start_music\"\n",
       "      response {\n",
       "        fields {\n",
       "          key: \"content\"\n",
       "          value {\n",
       "            string_value: \"Starting music! energetic=True loud=True, bpm=\\'120\\'\"\n",
       "          }\n",
       "        }\n",
       "      }\n",
       "    }\n",
       "  }\n",
       "  role: \"function\",\n",
       "  parts {\n",
       "    text: \"Alright, I\\'ve dimmed the lights, turned on the disco ball, and started some upbeat music! Let\\'s get this party started! 🎉 \\n\"\n",
       "  }\n",
       "  role: \"model\",\n",
       "  parts {\n",
       "    text: \"What is the current bpm?\"\n",
       "  }\n",
       "  role: \"user\",\n",
       "  parts {\n",
       "    text: \"The current music bpm is 120.  🎶 \\n\"\n",
       "  }\n",
       "  role: \"model\",\n",
       "  parts {\n",
       "    text: \"Can you make bpm up more?\"\n",
       "  }\n",
       "  role: \"user\",\n",
       "  parts {\n",
       "    function_call {\n",
       "      name: \"start_music\"\n",
       "      args {\n",
       "        fields {\n",
       "          key: \"loud\"\n",
       "          value {\n",
       "            bool_value: true\n",
       "          }\n",
       "        }\n",
       "        fields {\n",
       "          key: \"energetic\"\n",
       "          value {\n",
       "            bool_value: true\n",
       "          }\n",
       "        }\n",
       "        fields {\n",
       "          key: \"bpm\"\n",
       "          value {\n",
       "            string_value: \"180\"\n",
       "          }\n",
       "        }\n",
       "      }\n",
       "    }\n",
       "  }\n",
       "  role: \"model\",\n",
       "  parts {\n",
       "    function_response {\n",
       "      name: \"start_music\"\n",
       "      response {\n",
       "        fields {\n",
       "          key: \"content\"\n",
       "          value {\n",
       "            string_value: \"Starting music! energetic=True loud=True, bpm=\\'180\\'\"\n",
       "          }\n",
       "        }\n",
       "      }\n",
       "    }\n",
       "  }\n",
       "  role: \"function\"]}"
      ]
     },
     "execution_count": 48,
     "metadata": {},
     "output_type": "execute_result"
    }
   ],
   "source": [
    "prompt = \"Can you make bpm up more?\"\n",
    "\n",
    "response = gemini.run(prompt=prompt)\n",
    "\n",
    "response.model_dump()"
   ]
  },
  {
   "cell_type": "markdown",
   "metadata": {},
   "source": [
    "## Multi-turn conversation using tools with multiple model"
   ]
  },
  {
   "cell_type": "code",
   "execution_count": 49,
   "metadata": {},
   "outputs": [],
   "source": [
    "from langrila import InMemoryConversationMemory\n",
    "\n",
    "shared_memory = InMemoryConversationMemory()\n",
    "\n",
    "chat_openai = OpenAIFunctionalChat(\n",
    "    api_key_env_name=\"API_KEY\",\n",
    "    model_name=\"gpt-4o-mini-2024-07-18\",\n",
    "    tools=[power_disco_ball, start_music, dim_lights],\n",
    "    tool_configs=tool_configs,\n",
    "    conversation_memory=shared_memory,\n",
    ")\n",
    "\n",
    "gemini = GeminiFunctionalChat(\n",
    "    api_key_env_name=\"GEMINI_API_KEY\",\n",
    "    model_name=\"gemini-1.5-pro\",\n",
    "    tools=[power_disco_ball, start_music, dim_lights],\n",
    "    tool_configs=tool_configs,\n",
    "    conversation_memory=shared_memory,\n",
    ")\n",
    "\n",
    "claude = ClaudeFunctionalChat(\n",
    "    model_name=\"claude-3-5-sonnet-20240620\",\n",
    "    api_key_env_name=\"ANTHROPIC_API_KEY\",\n",
    "    tools=[power_disco_ball, start_music, dim_lights],\n",
    "    tool_configs=tool_configs,\n",
    "    conversation_memory=shared_memory,\n",
    ")"
   ]
  },
  {
   "cell_type": "code",
   "execution_count": 50,
   "metadata": {},
   "outputs": [
    {
     "data": {
      "text/plain": [
       "{'message': {'role': 'assistant',\n",
       "  'content': [{'text': 'The party mood is set! The disco ball is spinning, energetic music is playing at a lively tempo of 120 BPM, and the lights are dimmed to a cozy ambiance. Enjoy the celebration! 🎉💃🕺'}],\n",
       "  'name': None},\n",
       " 'usage': {'model_name': 'gpt-4o-mini-2024-07-18',\n",
       "  'prompt_tokens': 134,\n",
       "  'completion_tokens': 47},\n",
       " 'prompt': [{'role': 'user',\n",
       "   'content': [{'type': 'text',\n",
       "     'text': 'Turn this place into a comfortable party mood!'}],\n",
       "   'name': 'User'},\n",
       "  {'content': None,\n",
       "   'role': 'assistant',\n",
       "   'function_call': None,\n",
       "   'tool_calls': [{'id': 'call_hLmFv8iVKtn1oovTSWRX1qhE',\n",
       "     'function': {'arguments': '{\"power\": true}', 'name': 'power_disco_ball'},\n",
       "     'type': 'function'},\n",
       "    {'id': 'call_2xdCraXRkWXV20llSq9x2LYN',\n",
       "     'function': {'arguments': '{\"energetic\": true, \"loud\": true, \"bpm\": \"120\"}',\n",
       "      'name': 'start_music'},\n",
       "     'type': 'function'},\n",
       "    {'id': 'call_LXbEWUKtsUsPQWtOzqSLQbYR',\n",
       "     'function': {'arguments': '{\"brightness\": 0.5}', 'name': 'dim_lights'},\n",
       "     'type': 'function'}]},\n",
       "  {'role': 'tool',\n",
       "   'tool_call_id': 'call_hLmFv8iVKtn1oovTSWRX1qhE',\n",
       "   'name': 'power_disco_ball',\n",
       "   'content': 'Disco ball is spinning!'},\n",
       "  {'role': 'tool',\n",
       "   'tool_call_id': 'call_2xdCraXRkWXV20llSq9x2LYN',\n",
       "   'name': 'start_music',\n",
       "   'content': \"Starting music! energetic=True loud=True, bpm='120'\"},\n",
       "  {'role': 'tool',\n",
       "   'tool_call_id': 'call_LXbEWUKtsUsPQWtOzqSLQbYR',\n",
       "   'name': 'dim_lights',\n",
       "   'content': 'Lights are now set to 0.5'}]}"
      ]
     },
     "execution_count": 50,
     "metadata": {},
     "output_type": "execute_result"
    }
   ],
   "source": [
    "prompt = \"Turn this place into a comfortable party mood!\"\n",
    "\n",
    "response = chat_openai.run(prompt)\n",
    "\n",
    "response.model_dump()"
   ]
  },
  {
   "cell_type": "markdown",
   "metadata": {},
   "source": [
    "Claude can continue conversation without any additional process."
   ]
  },
  {
   "cell_type": "code",
   "execution_count": 51,
   "metadata": {},
   "outputs": [
    {
     "data": {
      "text/plain": [
       "{'message': {'role': 'assistant',\n",
       "  'content': [{'text': \"Great! The music has now been updated to a faster tempo of 180 BPM. This should create a more energetic and upbeat atmosphere for your party. The music is still energetic and loud, but now with a quicker beat that's perfect for dancing and keeping the energy high.\\n\\nIs there anything else you'd like to adjust to enhance the party mood further?\"}],\n",
       "  'name': None},\n",
       " 'usage': {'model_name': 'claude-3-5-sonnet-20240620',\n",
       "  'prompt_tokens': 1122,\n",
       "  'completion_tokens': 83},\n",
       " 'prompt': [{'role': 'user',\n",
       "   'content': [{'text': 'Turn this place into a comfortable party mood!',\n",
       "     'type': 'text'}]},\n",
       "  {'role': 'assistant',\n",
       "   'content': [{'id': 'toolu_hLmFv8iVKtn1oovTSWRX1qhE',\n",
       "     'type': 'tool_use',\n",
       "     'input': {'power': True},\n",
       "     'name': 'power_disco_ball'},\n",
       "    {'id': 'toolu_2xdCraXRkWXV20llSq9x2LYN',\n",
       "     'type': 'tool_use',\n",
       "     'input': {'energetic': True, 'loud': True, 'bpm': '120'},\n",
       "     'name': 'start_music'},\n",
       "    {'id': 'toolu_LXbEWUKtsUsPQWtOzqSLQbYR',\n",
       "     'type': 'tool_use',\n",
       "     'input': {'brightness': 0.5},\n",
       "     'name': 'dim_lights'}]},\n",
       "  {'role': 'user',\n",
       "   'content': [{'tool_use_id': 'toolu_hLmFv8iVKtn1oovTSWRX1qhE',\n",
       "     'type': 'tool_result',\n",
       "     'content': 'Disco ball is spinning!'},\n",
       "    {'tool_use_id': 'toolu_2xdCraXRkWXV20llSq9x2LYN',\n",
       "     'type': 'tool_result',\n",
       "     'content': \"Starting music! energetic=True loud=True, bpm='120'\"},\n",
       "    {'tool_use_id': 'toolu_LXbEWUKtsUsPQWtOzqSLQbYR',\n",
       "     'type': 'tool_result',\n",
       "     'content': 'Lights are now set to 0.5'}]},\n",
       "  {'role': 'assistant',\n",
       "   'content': [{'text': 'The party mood is set! The disco ball is spinning, energetic music is playing at a lively tempo of 120 BPM, and the lights are dimmed to a cozy ambiance. Enjoy the celebration! 🎉💃🕺',\n",
       "     'type': 'text'}]},\n",
       "  {'role': 'user',\n",
       "   'content': [{'text': 'Can you make bpm up more?', 'type': 'text'}]},\n",
       "  {'role': 'assistant',\n",
       "   'content': [{'text': \"Certainly! I can increase the BPM (beats per minute) of the music to create a more upbeat and energetic atmosphere. The highest BPM option available is 180, which will give the party an even more lively feel. Let's make that change for you.\",\n",
       "     'type': 'text'},\n",
       "    {'id': 'toolu_01UGMsGBhgv2kYBT4pBAiY9u',\n",
       "     'type': 'tool_use',\n",
       "     'input': {'energetic': True, 'loud': True, 'bpm': '180'},\n",
       "     'name': 'start_music'}]},\n",
       "  {'role': 'user',\n",
       "   'content': [{'tool_use_id': 'toolu_01UGMsGBhgv2kYBT4pBAiY9u',\n",
       "     'type': 'tool_result',\n",
       "     'content': \"Starting music! energetic=True loud=True, bpm='180'\"}]}]}"
      ]
     },
     "execution_count": 51,
     "metadata": {},
     "output_type": "execute_result"
    }
   ],
   "source": [
    "prompt = \"Can you make bpm up more?\"\n",
    "\n",
    "response = claude.run(prompt=prompt)\n",
    "\n",
    "response.model_dump()"
   ]
  },
  {
   "cell_type": "markdown",
   "metadata": {},
   "source": [
    "Go back to OpenAI Chat Completion"
   ]
  },
  {
   "cell_type": "code",
   "execution_count": 52,
   "metadata": {},
   "outputs": [
    {
     "data": {
      "text/plain": [
       "{'message': {'role': 'assistant',\n",
       "  'content': [{'text': \"The music has been changed to a more relaxed vibe, playing at a calming 60 BPM. It's now softer and less energetic, perfect for creating a chill atmosphere. If you need any more changes or additions, just let me know!\"}],\n",
       "  'name': None},\n",
       " 'usage': {'model_name': 'gpt-4o-mini-2024-07-18',\n",
       "  'prompt_tokens': 382,\n",
       "  'completion_tokens': 47},\n",
       " 'prompt': [{'role': 'user',\n",
       "   'content': [{'type': 'text',\n",
       "     'text': 'Turn this place into a comfortable party mood!'}],\n",
       "   'name': 'User'},\n",
       "  {'content': None,\n",
       "   'role': 'assistant',\n",
       "   'function_call': None,\n",
       "   'tool_calls': [{'id': 'call_hLmFv8iVKtn1oovTSWRX1qhE',\n",
       "     'function': {'arguments': '{\"power\": true}', 'name': 'power_disco_ball'},\n",
       "     'type': 'function'},\n",
       "    {'id': 'call_2xdCraXRkWXV20llSq9x2LYN',\n",
       "     'function': {'arguments': '{\"energetic\": true, \"loud\": true, \"bpm\": \"120\"}',\n",
       "      'name': 'start_music'},\n",
       "     'type': 'function'},\n",
       "    {'id': 'call_LXbEWUKtsUsPQWtOzqSLQbYR',\n",
       "     'function': {'arguments': '{\"brightness\": 0.5}', 'name': 'dim_lights'},\n",
       "     'type': 'function'}]},\n",
       "  {'role': 'tool',\n",
       "   'tool_call_id': 'call_hLmFv8iVKtn1oovTSWRX1qhE',\n",
       "   'name': 'power_disco_ball',\n",
       "   'content': 'Disco ball is spinning!'},\n",
       "  {'role': 'tool',\n",
       "   'tool_call_id': 'call_2xdCraXRkWXV20llSq9x2LYN',\n",
       "   'name': 'start_music',\n",
       "   'content': \"Starting music! energetic=True loud=True, bpm='120'\"},\n",
       "  {'role': 'tool',\n",
       "   'tool_call_id': 'call_LXbEWUKtsUsPQWtOzqSLQbYR',\n",
       "   'name': 'dim_lights',\n",
       "   'content': 'Lights are now set to 0.5'},\n",
       "  {'role': 'assistant',\n",
       "   'content': [{'type': 'text',\n",
       "     'text': 'The party mood is set! The disco ball is spinning, energetic music is playing at a lively tempo of 120 BPM, and the lights are dimmed to a cozy ambiance. Enjoy the celebration! 🎉💃🕺'}],\n",
       "   'name': 'Assistant'},\n",
       "  {'role': 'user',\n",
       "   'content': [{'type': 'text', 'text': 'Can you make bpm up more?'}],\n",
       "   'name': 'User'},\n",
       "  {'content': None,\n",
       "   'role': 'assistant',\n",
       "   'function_call': None,\n",
       "   'tool_calls': [{'id': 'call_01UGMsGBhgv2kYBT4pBAiY9u',\n",
       "     'function': {'arguments': \"{'energetic': True, 'loud': True, 'bpm': '180'}\",\n",
       "      'name': 'start_music'},\n",
       "     'type': 'function'}]},\n",
       "  {'role': 'tool',\n",
       "   'tool_call_id': 'call_01UGMsGBhgv2kYBT4pBAiY9u',\n",
       "   'name': 'start_music',\n",
       "   'content': \"Starting music! energetic=True loud=True, bpm='180'\"},\n",
       "  {'role': 'assistant',\n",
       "   'content': [{'type': 'text',\n",
       "     'text': \"Great! The music has now been updated to a faster tempo of 180 BPM. This should create a more energetic and upbeat atmosphere for your party. The music is still energetic and loud, but now with a quicker beat that's perfect for dancing and keeping the energy high.\\n\\nIs there anything else you'd like to adjust to enhance the party mood further?\"}],\n",
       "   'name': 'Assistant'},\n",
       "  {'role': 'user',\n",
       "   'content': [{'type': 'text', 'text': 'Please turn music more relax.'}],\n",
       "   'name': 'User'},\n",
       "  {'content': None,\n",
       "   'role': 'assistant',\n",
       "   'function_call': None,\n",
       "   'tool_calls': [{'id': 'call_V2N11L9lZgqCB2jIJCjF6fyy',\n",
       "     'function': {'arguments': '{\"energetic\":false,\"loud\":false,\"bpm\":\"60\"}',\n",
       "      'name': 'start_music'},\n",
       "     'type': 'function'}]},\n",
       "  {'role': 'tool',\n",
       "   'tool_call_id': 'call_V2N11L9lZgqCB2jIJCjF6fyy',\n",
       "   'name': 'start_music',\n",
       "   'content': \"Starting music! energetic=False loud=False, bpm='60'\"}]}"
      ]
     },
     "execution_count": 52,
     "metadata": {},
     "output_type": "execute_result"
    }
   ],
   "source": [
    "prompt = \"Please turn music more relax.\"\n",
    "\n",
    "response = chat_openai.run(prompt)\n",
    "\n",
    "response.model_dump()"
   ]
  },
  {
   "cell_type": "markdown",
   "metadata": {},
   "source": [
    "Gemini can follow as well"
   ]
  },
  {
   "cell_type": "code",
   "execution_count": 53,
   "metadata": {},
   "outputs": [
    {
     "data": {
      "text/plain": [
       "{'message': {'role': 'assistant',\n",
       "  'content': [{'text': 'Alright! The music is now back to a bpm of 120, keeping a relaxed vibe.  🎶 \\n'}],\n",
       "  'name': None},\n",
       " 'usage': {'model_name': 'gemini-1.5-pro',\n",
       "  'prompt_tokens': 572,\n",
       "  'completion_tokens': 23},\n",
       " 'prompt': [parts {\n",
       "    text: \"Turn this place into a comfortable party mood!\"\n",
       "  }\n",
       "  role: \"user\",\n",
       "  parts {\n",
       "    function_call {\n",
       "      name: \"power_disco_ball\"\n",
       "      args {\n",
       "        fields {\n",
       "          key: \"power\"\n",
       "          value {\n",
       "            bool_value: true\n",
       "          }\n",
       "        }\n",
       "      }\n",
       "    }\n",
       "  }\n",
       "  parts {\n",
       "    function_call {\n",
       "      name: \"start_music\"\n",
       "      args {\n",
       "        fields {\n",
       "          key: \"loud\"\n",
       "          value {\n",
       "            bool_value: true\n",
       "          }\n",
       "        }\n",
       "        fields {\n",
       "          key: \"energetic\"\n",
       "          value {\n",
       "            bool_value: true\n",
       "          }\n",
       "        }\n",
       "        fields {\n",
       "          key: \"bpm\"\n",
       "          value {\n",
       "            string_value: \"120\"\n",
       "          }\n",
       "        }\n",
       "      }\n",
       "    }\n",
       "  }\n",
       "  parts {\n",
       "    function_call {\n",
       "      name: \"dim_lights\"\n",
       "      args {\n",
       "        fields {\n",
       "          key: \"brightness\"\n",
       "          value {\n",
       "            number_value: 0.5\n",
       "          }\n",
       "        }\n",
       "      }\n",
       "    }\n",
       "  }\n",
       "  role: \"model\",\n",
       "  parts {\n",
       "    function_response {\n",
       "      name: \"power_disco_ball\"\n",
       "      response {\n",
       "        fields {\n",
       "          key: \"content\"\n",
       "          value {\n",
       "            string_value: \"Disco ball is spinning!\"\n",
       "          }\n",
       "        }\n",
       "      }\n",
       "    }\n",
       "  }\n",
       "  parts {\n",
       "    function_response {\n",
       "      name: \"start_music\"\n",
       "      response {\n",
       "        fields {\n",
       "          key: \"content\"\n",
       "          value {\n",
       "            string_value: \"Starting music! energetic=True loud=True, bpm=\\'120\\'\"\n",
       "          }\n",
       "        }\n",
       "      }\n",
       "    }\n",
       "  }\n",
       "  parts {\n",
       "    function_response {\n",
       "      name: \"dim_lights\"\n",
       "      response {\n",
       "        fields {\n",
       "          key: \"content\"\n",
       "          value {\n",
       "            string_value: \"Lights are now set to 0.5\"\n",
       "          }\n",
       "        }\n",
       "      }\n",
       "    }\n",
       "  }\n",
       "  role: \"function\",\n",
       "  parts {\n",
       "    text: \"The party mood is set! The disco ball is spinning, energetic music is playing at a lively tempo of 120 BPM, and the lights are dimmed to a cozy ambiance. Enjoy the celebration! 🎉💃🕺\"\n",
       "  }\n",
       "  role: \"model\",\n",
       "  parts {\n",
       "    text: \"Can you make bpm up more?\"\n",
       "  }\n",
       "  role: \"user\",\n",
       "  parts {\n",
       "    text: \"Certainly! I can increase the BPM (beats per minute) of the music to create a more upbeat and energetic atmosphere. The highest BPM option available is 180, which will give the party an even more lively feel. Let\\'s make that change for you.\"\n",
       "  }\n",
       "  parts {\n",
       "    function_call {\n",
       "      name: \"start_music\"\n",
       "      args {\n",
       "        fields {\n",
       "          key: \"loud\"\n",
       "          value {\n",
       "            bool_value: true\n",
       "          }\n",
       "        }\n",
       "        fields {\n",
       "          key: \"energetic\"\n",
       "          value {\n",
       "            bool_value: true\n",
       "          }\n",
       "        }\n",
       "        fields {\n",
       "          key: \"bpm\"\n",
       "          value {\n",
       "            string_value: \"180\"\n",
       "          }\n",
       "        }\n",
       "      }\n",
       "    }\n",
       "  }\n",
       "  role: \"model\",\n",
       "  parts {\n",
       "    function_response {\n",
       "      name: \"start_music\"\n",
       "      response {\n",
       "        fields {\n",
       "          key: \"content\"\n",
       "          value {\n",
       "            string_value: \"Starting music! energetic=True loud=True, bpm=\\'180\\'\"\n",
       "          }\n",
       "        }\n",
       "      }\n",
       "    }\n",
       "  }\n",
       "  role: \"function\",\n",
       "  parts {\n",
       "    text: \"Great! The music has now been updated to a faster tempo of 180 BPM. This should create a more energetic and upbeat atmosphere for your party. The music is still energetic and loud, but now with a quicker beat that\\'s perfect for dancing and keeping the energy high.\\n\\nIs there anything else you\\'d like to adjust to enhance the party mood further?\"\n",
       "  }\n",
       "  role: \"model\",\n",
       "  parts {\n",
       "    text: \"Please turn music more relax.\"\n",
       "  }\n",
       "  role: \"user\",\n",
       "  parts {\n",
       "    function_call {\n",
       "      name: \"start_music\"\n",
       "      args {\n",
       "        fields {\n",
       "          key: \"loud\"\n",
       "          value {\n",
       "            bool_value: false\n",
       "          }\n",
       "        }\n",
       "        fields {\n",
       "          key: \"energetic\"\n",
       "          value {\n",
       "            bool_value: false\n",
       "          }\n",
       "        }\n",
       "        fields {\n",
       "          key: \"bpm\"\n",
       "          value {\n",
       "            string_value: \"60\"\n",
       "          }\n",
       "        }\n",
       "      }\n",
       "    }\n",
       "  }\n",
       "  role: \"model\",\n",
       "  parts {\n",
       "    function_response {\n",
       "      name: \"start_music\"\n",
       "      response {\n",
       "        fields {\n",
       "          key: \"content\"\n",
       "          value {\n",
       "            string_value: \"Starting music! energetic=False loud=False, bpm=\\'60\\'\"\n",
       "          }\n",
       "        }\n",
       "      }\n",
       "    }\n",
       "  }\n",
       "  role: \"function\",\n",
       "  parts {\n",
       "    text: \"The music has been changed to a more relaxed vibe, playing at a calming 60 BPM. It\\'s now softer and less energetic, perfect for creating a chill atmosphere. If you need any more changes or additions, just let me know!\"\n",
       "  }\n",
       "  role: \"model\",\n",
       "  parts {\n",
       "    text: \"Nice. So please go back to the initial bpm.\"\n",
       "  }\n",
       "  role: \"user\",\n",
       "  parts {\n",
       "    function_call {\n",
       "      name: \"start_music\"\n",
       "      args {\n",
       "        fields {\n",
       "          key: \"loud\"\n",
       "          value {\n",
       "            bool_value: false\n",
       "          }\n",
       "        }\n",
       "        fields {\n",
       "          key: \"energetic\"\n",
       "          value {\n",
       "            bool_value: false\n",
       "          }\n",
       "        }\n",
       "        fields {\n",
       "          key: \"bpm\"\n",
       "          value {\n",
       "            string_value: \"120\"\n",
       "          }\n",
       "        }\n",
       "      }\n",
       "    }\n",
       "  }\n",
       "  role: \"model\",\n",
       "  parts {\n",
       "    function_response {\n",
       "      name: \"start_music\"\n",
       "      response {\n",
       "        fields {\n",
       "          key: \"content\"\n",
       "          value {\n",
       "            string_value: \"Starting music! energetic=False loud=False, bpm=\\'120\\'\"\n",
       "          }\n",
       "        }\n",
       "      }\n",
       "    }\n",
       "  }\n",
       "  role: \"function\"]}"
      ]
     },
     "execution_count": 53,
     "metadata": {},
     "output_type": "execute_result"
    }
   ],
   "source": [
    "prompt = \"Nice. So please go back to the initial bpm.\"\n",
    "\n",
    "response = gemini.run(prompt=prompt)\n",
    "\n",
    "response.model_dump()"
   ]
  },
  {
   "cell_type": "code",
   "execution_count": 54,
   "metadata": {},
   "outputs": [
    {
     "data": {
      "text/plain": [
       "{'message': {'role': 'assistant',\n",
       "  'content': [{'text': \"The lights have been adjusted to a brightness level of 0.7. This should create a slightly brighter atmosphere than before, while still maintaining a comfortable ambiance for your relaxed party setting.\\n\\nTo summarize the current party setup:\\n1. The disco ball is still spinning (from the initial setup).\\n2. The music is playing at 120 BPM, with a relaxed (not energetic) and quieter volume.\\n3. The lights are now at 70% brightness.\\n\\nIs there anything else you'd like to adjust to perfect your party atmosphere?\"}],\n",
       "  'name': None},\n",
       " 'usage': {'model_name': 'claude-3-5-sonnet-20240620',\n",
       "  'prompt_tokens': 1663,\n",
       "  'completion_tokens': 126},\n",
       " 'prompt': [{'role': 'user',\n",
       "   'content': [{'text': 'Turn this place into a comfortable party mood!',\n",
       "     'type': 'text'}]},\n",
       "  {'role': 'assistant',\n",
       "   'content': [{'id': 'toolu_hLmFv8iVKtn1oovTSWRX1qhE',\n",
       "     'type': 'tool_use',\n",
       "     'input': {'power': True},\n",
       "     'name': 'power_disco_ball'},\n",
       "    {'id': 'toolu_2xdCraXRkWXV20llSq9x2LYN',\n",
       "     'type': 'tool_use',\n",
       "     'input': {'energetic': True, 'loud': True, 'bpm': '120'},\n",
       "     'name': 'start_music'},\n",
       "    {'id': 'toolu_LXbEWUKtsUsPQWtOzqSLQbYR',\n",
       "     'type': 'tool_use',\n",
       "     'input': {'brightness': 0.5},\n",
       "     'name': 'dim_lights'}]},\n",
       "  {'role': 'user',\n",
       "   'content': [{'tool_use_id': 'toolu_hLmFv8iVKtn1oovTSWRX1qhE',\n",
       "     'type': 'tool_result',\n",
       "     'content': 'Disco ball is spinning!'},\n",
       "    {'tool_use_id': 'toolu_2xdCraXRkWXV20llSq9x2LYN',\n",
       "     'type': 'tool_result',\n",
       "     'content': \"Starting music! energetic=True loud=True, bpm='120'\"},\n",
       "    {'tool_use_id': 'toolu_LXbEWUKtsUsPQWtOzqSLQbYR',\n",
       "     'type': 'tool_result',\n",
       "     'content': 'Lights are now set to 0.5'}]},\n",
       "  {'role': 'assistant',\n",
       "   'content': [{'text': 'The party mood is set! The disco ball is spinning, energetic music is playing at a lively tempo of 120 BPM, and the lights are dimmed to a cozy ambiance. Enjoy the celebration! 🎉💃🕺',\n",
       "     'type': 'text'}]},\n",
       "  {'role': 'user',\n",
       "   'content': [{'text': 'Can you make bpm up more?', 'type': 'text'}]},\n",
       "  {'role': 'assistant',\n",
       "   'content': [{'text': \"Certainly! I can increase the BPM (beats per minute) of the music to create a more upbeat and energetic atmosphere. The highest BPM option available is 180, which will give the party an even more lively feel. Let's make that change for you.\",\n",
       "     'type': 'text'},\n",
       "    {'id': 'toolu_01UGMsGBhgv2kYBT4pBAiY9u',\n",
       "     'type': 'tool_use',\n",
       "     'input': {'energetic': True, 'loud': True, 'bpm': '180'},\n",
       "     'name': 'start_music'}]},\n",
       "  {'role': 'user',\n",
       "   'content': [{'tool_use_id': 'toolu_01UGMsGBhgv2kYBT4pBAiY9u',\n",
       "     'type': 'tool_result',\n",
       "     'content': \"Starting music! energetic=True loud=True, bpm='180'\"}]},\n",
       "  {'role': 'assistant',\n",
       "   'content': [{'text': \"Great! The music has now been updated to a faster tempo of 180 BPM. This should create a more energetic and upbeat atmosphere for your party. The music is still energetic and loud, but now with a quicker beat that's perfect for dancing and keeping the energy high.\\n\\nIs there anything else you'd like to adjust to enhance the party mood further?\",\n",
       "     'type': 'text'}]},\n",
       "  {'role': 'user',\n",
       "   'content': [{'text': 'Please turn music more relax.', 'type': 'text'}]},\n",
       "  {'role': 'assistant',\n",
       "   'content': [{'id': 'toolu_V2N11L9lZgqCB2jIJCjF6fyy',\n",
       "     'type': 'tool_use',\n",
       "     'input': {'energetic': False, 'loud': False, 'bpm': '60'},\n",
       "     'name': 'start_music'}]},\n",
       "  {'role': 'user',\n",
       "   'content': [{'tool_use_id': 'toolu_V2N11L9lZgqCB2jIJCjF6fyy',\n",
       "     'type': 'tool_result',\n",
       "     'content': \"Starting music! energetic=False loud=False, bpm='60'\"}]},\n",
       "  {'role': 'assistant',\n",
       "   'content': [{'text': \"The music has been changed to a more relaxed vibe, playing at a calming 60 BPM. It's now softer and less energetic, perfect for creating a chill atmosphere. If you need any more changes or additions, just let me know!\",\n",
       "     'type': 'text'}]},\n",
       "  {'role': 'user',\n",
       "   'content': [{'text': 'Nice. So please go back to the initial bpm.',\n",
       "     'type': 'text'}]},\n",
       "  {'role': 'assistant',\n",
       "   'content': [{'id': 'toolu_DJdF3spwylx0FTYVxHSozzqK',\n",
       "     'type': 'tool_use',\n",
       "     'input': {'loud': False, 'energetic': False, 'bpm': '120'},\n",
       "     'name': 'start_music'}]},\n",
       "  {'role': 'user',\n",
       "   'content': [{'tool_use_id': 'toolu_DJdF3spwylx0FTYVxHSozzqK',\n",
       "     'type': 'tool_result',\n",
       "     'content': \"Starting music! energetic=False loud=False, bpm='120'\"}]},\n",
       "  {'role': 'assistant',\n",
       "   'content': [{'text': 'Alright! The music is now back to a bpm of 120, keeping a relaxed vibe.  🎶 \\n',\n",
       "     'type': 'text'}]},\n",
       "  {'role': 'user',\n",
       "   'content': [{'text': 'OK, then turn brightness to 0.7.', 'type': 'text'}]},\n",
       "  {'role': 'assistant',\n",
       "   'content': [{'text': \"Certainly! I'll adjust the brightness of the lights for you.\",\n",
       "     'type': 'text'},\n",
       "    {'id': 'toolu_01YNP5RKkgRNFntgUe4hcXb2',\n",
       "     'type': 'tool_use',\n",
       "     'input': {'brightness': 0.7},\n",
       "     'name': 'dim_lights'}]},\n",
       "  {'role': 'user',\n",
       "   'content': [{'tool_use_id': 'toolu_01YNP5RKkgRNFntgUe4hcXb2',\n",
       "     'type': 'tool_result',\n",
       "     'content': 'Lights are now set to 0.7'}]}]}"
      ]
     },
     "execution_count": 54,
     "metadata": {},
     "output_type": "execute_result"
    }
   ],
   "source": [
    "prompt = \"OK, then turn brightness to 0.7.\"\n",
    "\n",
    "response = claude.run(prompt=prompt)\n",
    "\n",
    "response.model_dump()"
   ]
  },
  {
   "cell_type": "code",
   "execution_count": 55,
   "metadata": {},
   "outputs": [
    {
     "data": {
      "text/plain": [
       "{'message': {'role': 'assistant',\n",
       "  'content': [{'text': 'The disco ball has been stopped. Your party atmosphere is now complete with the lights at 70% brightness and relaxing music at 120 BPM. If you need anything else or have any more adjustments in mind, just let me know! Enjoy the gathering! 🎉'}],\n",
       "  'name': None},\n",
       " 'usage': {'model_name': 'gpt-4o-mini-2024-07-18',\n",
       "  'prompt_tokens': 739,\n",
       "  'completion_tokens': 53},\n",
       " 'prompt': [{'role': 'user',\n",
       "   'content': [{'type': 'text',\n",
       "     'text': 'Turn this place into a comfortable party mood!'}],\n",
       "   'name': 'User'},\n",
       "  {'content': None,\n",
       "   'role': 'assistant',\n",
       "   'function_call': None,\n",
       "   'tool_calls': [{'id': 'call_hLmFv8iVKtn1oovTSWRX1qhE',\n",
       "     'function': {'arguments': '{\"power\": true}', 'name': 'power_disco_ball'},\n",
       "     'type': 'function'},\n",
       "    {'id': 'call_2xdCraXRkWXV20llSq9x2LYN',\n",
       "     'function': {'arguments': '{\"energetic\": true, \"loud\": true, \"bpm\": \"120\"}',\n",
       "      'name': 'start_music'},\n",
       "     'type': 'function'},\n",
       "    {'id': 'call_LXbEWUKtsUsPQWtOzqSLQbYR',\n",
       "     'function': {'arguments': '{\"brightness\": 0.5}', 'name': 'dim_lights'},\n",
       "     'type': 'function'}]},\n",
       "  {'role': 'tool',\n",
       "   'tool_call_id': 'call_hLmFv8iVKtn1oovTSWRX1qhE',\n",
       "   'name': 'power_disco_ball',\n",
       "   'content': 'Disco ball is spinning!'},\n",
       "  {'role': 'tool',\n",
       "   'tool_call_id': 'call_2xdCraXRkWXV20llSq9x2LYN',\n",
       "   'name': 'start_music',\n",
       "   'content': \"Starting music! energetic=True loud=True, bpm='120'\"},\n",
       "  {'role': 'tool',\n",
       "   'tool_call_id': 'call_LXbEWUKtsUsPQWtOzqSLQbYR',\n",
       "   'name': 'dim_lights',\n",
       "   'content': 'Lights are now set to 0.5'},\n",
       "  {'role': 'assistant',\n",
       "   'content': [{'type': 'text',\n",
       "     'text': 'The party mood is set! The disco ball is spinning, energetic music is playing at a lively tempo of 120 BPM, and the lights are dimmed to a cozy ambiance. Enjoy the celebration! 🎉💃🕺'}],\n",
       "   'name': 'Assistant'},\n",
       "  {'role': 'user',\n",
       "   'content': [{'type': 'text', 'text': 'Can you make bpm up more?'}],\n",
       "   'name': 'User'},\n",
       "  {'content': None,\n",
       "   'role': 'assistant',\n",
       "   'function_call': None,\n",
       "   'tool_calls': [{'id': 'call_01UGMsGBhgv2kYBT4pBAiY9u',\n",
       "     'function': {'arguments': \"{'energetic': True, 'loud': True, 'bpm': '180'}\",\n",
       "      'name': 'start_music'},\n",
       "     'type': 'function'}]},\n",
       "  {'role': 'tool',\n",
       "   'tool_call_id': 'call_01UGMsGBhgv2kYBT4pBAiY9u',\n",
       "   'name': 'start_music',\n",
       "   'content': \"Starting music! energetic=True loud=True, bpm='180'\"},\n",
       "  {'role': 'assistant',\n",
       "   'content': [{'type': 'text',\n",
       "     'text': \"Great! The music has now been updated to a faster tempo of 180 BPM. This should create a more energetic and upbeat atmosphere for your party. The music is still energetic and loud, but now with a quicker beat that's perfect for dancing and keeping the energy high.\\n\\nIs there anything else you'd like to adjust to enhance the party mood further?\"}],\n",
       "   'name': 'Assistant'},\n",
       "  {'role': 'user',\n",
       "   'content': [{'type': 'text', 'text': 'Please turn music more relax.'}],\n",
       "   'name': 'User'},\n",
       "  {'content': None,\n",
       "   'role': 'assistant',\n",
       "   'function_call': None,\n",
       "   'tool_calls': [{'id': 'call_V2N11L9lZgqCB2jIJCjF6fyy',\n",
       "     'function': {'arguments': '{\"energetic\":false,\"loud\":false,\"bpm\":\"60\"}',\n",
       "      'name': 'start_music'},\n",
       "     'type': 'function'}]},\n",
       "  {'role': 'tool',\n",
       "   'tool_call_id': 'call_V2N11L9lZgqCB2jIJCjF6fyy',\n",
       "   'name': 'start_music',\n",
       "   'content': \"Starting music! energetic=False loud=False, bpm='60'\"},\n",
       "  {'role': 'assistant',\n",
       "   'content': [{'type': 'text',\n",
       "     'text': \"The music has been changed to a more relaxed vibe, playing at a calming 60 BPM. It's now softer and less energetic, perfect for creating a chill atmosphere. If you need any more changes or additions, just let me know!\"}],\n",
       "   'name': 'Assistant'},\n",
       "  {'role': 'user',\n",
       "   'content': [{'type': 'text',\n",
       "     'text': 'Nice. So please go back to the initial bpm.'}],\n",
       "   'name': 'User'},\n",
       "  {'content': None,\n",
       "   'role': 'assistant',\n",
       "   'function_call': None,\n",
       "   'tool_calls': [{'id': 'call_DJdF3spwylx0FTYVxHSozzqK',\n",
       "     'function': {'arguments': \"{'loud': False, 'energetic': False, 'bpm': '120'}\",\n",
       "      'name': 'start_music'},\n",
       "     'type': 'function'}]},\n",
       "  {'role': 'tool',\n",
       "   'tool_call_id': 'call_DJdF3spwylx0FTYVxHSozzqK',\n",
       "   'name': 'start_music',\n",
       "   'content': \"Starting music! energetic=False loud=False, bpm='120'\"},\n",
       "  {'role': 'assistant',\n",
       "   'content': [{'type': 'text',\n",
       "     'text': 'Alright! The music is now back to a bpm of 120, keeping a relaxed vibe.  🎶 \\n'}],\n",
       "   'name': 'Assistant'},\n",
       "  {'role': 'user',\n",
       "   'content': [{'type': 'text', 'text': 'OK, then turn brightness to 0.7.'}],\n",
       "   'name': 'User'},\n",
       "  {'content': None,\n",
       "   'role': 'assistant',\n",
       "   'function_call': None,\n",
       "   'tool_calls': [{'id': 'call_01YNP5RKkgRNFntgUe4hcXb2',\n",
       "     'function': {'arguments': \"{'brightness': 0.7}\", 'name': 'dim_lights'},\n",
       "     'type': 'function'}]},\n",
       "  {'role': 'tool',\n",
       "   'tool_call_id': 'call_01YNP5RKkgRNFntgUe4hcXb2',\n",
       "   'name': 'dim_lights',\n",
       "   'content': 'Lights are now set to 0.7'},\n",
       "  {'role': 'assistant',\n",
       "   'content': [{'type': 'text',\n",
       "     'text': \"The lights have been adjusted to a brightness level of 0.7. This should create a slightly brighter atmosphere than before, while still maintaining a comfortable ambiance for your relaxed party setting.\\n\\nTo summarize the current party setup:\\n1. The disco ball is still spinning (from the initial setup).\\n2. The music is playing at 120 BPM, with a relaxed (not energetic) and quieter volume.\\n3. The lights are now at 70% brightness.\\n\\nIs there anything else you'd like to adjust to perfect your party atmosphere?\"}],\n",
       "   'name': 'Assistant'},\n",
       "  {'role': 'user',\n",
       "   'content': [{'type': 'text', 'text': 'Finally stop the disco ball.'}],\n",
       "   'name': 'User'},\n",
       "  {'content': None,\n",
       "   'role': 'assistant',\n",
       "   'function_call': None,\n",
       "   'tool_calls': [{'id': 'call_9RrEDTNs8CUAiLHm78ATVFlt',\n",
       "     'function': {'arguments': '{\"power\":false}', 'name': 'power_disco_ball'},\n",
       "     'type': 'function'}]},\n",
       "  {'role': 'tool',\n",
       "   'tool_call_id': 'call_9RrEDTNs8CUAiLHm78ATVFlt',\n",
       "   'name': 'power_disco_ball',\n",
       "   'content': 'Disco ball is stopped.'}]}"
      ]
     },
     "execution_count": 55,
     "metadata": {},
     "output_type": "execute_result"
    }
   ],
   "source": [
    "prompt = \"Finally stop the disco ball.\"\n",
    "\n",
    "response = chat_openai.run(prompt)\n",
    "\n",
    "response.model_dump()"
   ]
  },
  {
   "cell_type": "markdown",
   "metadata": {},
   "source": [
    "If you input non-relavant topic, any tool is not called."
   ]
  },
  {
   "cell_type": "code",
   "execution_count": 56,
   "metadata": {},
   "outputs": [
    {
     "data": {
      "text/plain": [
       "{'message': {'role': 'assistant',\n",
       "  'content': [{'text': \"I'm unable to provide real-time weather updates. However, you can easily check the current weather by using a weather website, app, or asking a voice assistant with up-to-date information. If you have a specific location in mind, I can suggest how to look it up!\"}],\n",
       "  'name': None},\n",
       " 'usage': {'model_name': 'gpt-4o-mini-2024-07-18',\n",
       "  'prompt_tokens': 810,\n",
       "  'completion_tokens': 55},\n",
       " 'prompt': [{'role': 'user',\n",
       "   'content': [{'type': 'text',\n",
       "     'text': 'Turn this place into a comfortable party mood!'}],\n",
       "   'name': 'User'},\n",
       "  {'content': None,\n",
       "   'role': 'assistant',\n",
       "   'function_call': None,\n",
       "   'tool_calls': [{'id': 'call_hLmFv8iVKtn1oovTSWRX1qhE',\n",
       "     'function': {'arguments': '{\"power\": true}', 'name': 'power_disco_ball'},\n",
       "     'type': 'function'},\n",
       "    {'id': 'call_2xdCraXRkWXV20llSq9x2LYN',\n",
       "     'function': {'arguments': '{\"energetic\": true, \"loud\": true, \"bpm\": \"120\"}',\n",
       "      'name': 'start_music'},\n",
       "     'type': 'function'},\n",
       "    {'id': 'call_LXbEWUKtsUsPQWtOzqSLQbYR',\n",
       "     'function': {'arguments': '{\"brightness\": 0.5}', 'name': 'dim_lights'},\n",
       "     'type': 'function'}]},\n",
       "  {'role': 'tool',\n",
       "   'tool_call_id': 'call_hLmFv8iVKtn1oovTSWRX1qhE',\n",
       "   'name': 'power_disco_ball',\n",
       "   'content': 'Disco ball is spinning!'},\n",
       "  {'role': 'tool',\n",
       "   'tool_call_id': 'call_2xdCraXRkWXV20llSq9x2LYN',\n",
       "   'name': 'start_music',\n",
       "   'content': \"Starting music! energetic=True loud=True, bpm='120'\"},\n",
       "  {'role': 'tool',\n",
       "   'tool_call_id': 'call_LXbEWUKtsUsPQWtOzqSLQbYR',\n",
       "   'name': 'dim_lights',\n",
       "   'content': 'Lights are now set to 0.5'},\n",
       "  {'role': 'assistant',\n",
       "   'content': [{'type': 'text',\n",
       "     'text': 'The party mood is set! The disco ball is spinning, energetic music is playing at a lively tempo of 120 BPM, and the lights are dimmed to a cozy ambiance. Enjoy the celebration! 🎉💃🕺'}],\n",
       "   'name': 'Assistant'},\n",
       "  {'role': 'user',\n",
       "   'content': [{'type': 'text', 'text': 'Can you make bpm up more?'}],\n",
       "   'name': 'User'},\n",
       "  {'content': None,\n",
       "   'role': 'assistant',\n",
       "   'function_call': None,\n",
       "   'tool_calls': [{'id': 'call_01UGMsGBhgv2kYBT4pBAiY9u',\n",
       "     'function': {'arguments': \"{'energetic': True, 'loud': True, 'bpm': '180'}\",\n",
       "      'name': 'start_music'},\n",
       "     'type': 'function'}]},\n",
       "  {'role': 'tool',\n",
       "   'tool_call_id': 'call_01UGMsGBhgv2kYBT4pBAiY9u',\n",
       "   'name': 'start_music',\n",
       "   'content': \"Starting music! energetic=True loud=True, bpm='180'\"},\n",
       "  {'role': 'assistant',\n",
       "   'content': [{'type': 'text',\n",
       "     'text': \"Great! The music has now been updated to a faster tempo of 180 BPM. This should create a more energetic and upbeat atmosphere for your party. The music is still energetic and loud, but now with a quicker beat that's perfect for dancing and keeping the energy high.\\n\\nIs there anything else you'd like to adjust to enhance the party mood further?\"}],\n",
       "   'name': 'Assistant'},\n",
       "  {'role': 'user',\n",
       "   'content': [{'type': 'text', 'text': 'Please turn music more relax.'}],\n",
       "   'name': 'User'},\n",
       "  {'content': None,\n",
       "   'role': 'assistant',\n",
       "   'function_call': None,\n",
       "   'tool_calls': [{'id': 'call_V2N11L9lZgqCB2jIJCjF6fyy',\n",
       "     'function': {'arguments': '{\"energetic\":false,\"loud\":false,\"bpm\":\"60\"}',\n",
       "      'name': 'start_music'},\n",
       "     'type': 'function'}]},\n",
       "  {'role': 'tool',\n",
       "   'tool_call_id': 'call_V2N11L9lZgqCB2jIJCjF6fyy',\n",
       "   'name': 'start_music',\n",
       "   'content': \"Starting music! energetic=False loud=False, bpm='60'\"},\n",
       "  {'role': 'assistant',\n",
       "   'content': [{'type': 'text',\n",
       "     'text': \"The music has been changed to a more relaxed vibe, playing at a calming 60 BPM. It's now softer and less energetic, perfect for creating a chill atmosphere. If you need any more changes or additions, just let me know!\"}],\n",
       "   'name': 'Assistant'},\n",
       "  {'role': 'user',\n",
       "   'content': [{'type': 'text',\n",
       "     'text': 'Nice. So please go back to the initial bpm.'}],\n",
       "   'name': 'User'},\n",
       "  {'content': None,\n",
       "   'role': 'assistant',\n",
       "   'function_call': None,\n",
       "   'tool_calls': [{'id': 'call_DJdF3spwylx0FTYVxHSozzqK',\n",
       "     'function': {'arguments': \"{'loud': False, 'energetic': False, 'bpm': '120'}\",\n",
       "      'name': 'start_music'},\n",
       "     'type': 'function'}]},\n",
       "  {'role': 'tool',\n",
       "   'tool_call_id': 'call_DJdF3spwylx0FTYVxHSozzqK',\n",
       "   'name': 'start_music',\n",
       "   'content': \"Starting music! energetic=False loud=False, bpm='120'\"},\n",
       "  {'role': 'assistant',\n",
       "   'content': [{'type': 'text',\n",
       "     'text': 'Alright! The music is now back to a bpm of 120, keeping a relaxed vibe.  🎶 \\n'}],\n",
       "   'name': 'Assistant'},\n",
       "  {'role': 'user',\n",
       "   'content': [{'type': 'text', 'text': 'OK, then turn brightness to 0.7.'}],\n",
       "   'name': 'User'},\n",
       "  {'content': None,\n",
       "   'role': 'assistant',\n",
       "   'function_call': None,\n",
       "   'tool_calls': [{'id': 'call_01YNP5RKkgRNFntgUe4hcXb2',\n",
       "     'function': {'arguments': \"{'brightness': 0.7}\", 'name': 'dim_lights'},\n",
       "     'type': 'function'}]},\n",
       "  {'role': 'tool',\n",
       "   'tool_call_id': 'call_01YNP5RKkgRNFntgUe4hcXb2',\n",
       "   'name': 'dim_lights',\n",
       "   'content': 'Lights are now set to 0.7'},\n",
       "  {'role': 'assistant',\n",
       "   'content': [{'type': 'text',\n",
       "     'text': \"The lights have been adjusted to a brightness level of 0.7. This should create a slightly brighter atmosphere than before, while still maintaining a comfortable ambiance for your relaxed party setting.\\n\\nTo summarize the current party setup:\\n1. The disco ball is still spinning (from the initial setup).\\n2. The music is playing at 120 BPM, with a relaxed (not energetic) and quieter volume.\\n3. The lights are now at 70% brightness.\\n\\nIs there anything else you'd like to adjust to perfect your party atmosphere?\"}],\n",
       "   'name': 'Assistant'},\n",
       "  {'role': 'user',\n",
       "   'content': [{'type': 'text', 'text': 'Finally stop the disco ball.'}],\n",
       "   'name': 'User'},\n",
       "  {'content': None,\n",
       "   'role': 'assistant',\n",
       "   'function_call': None,\n",
       "   'tool_calls': [{'id': 'call_9RrEDTNs8CUAiLHm78ATVFlt',\n",
       "     'function': {'arguments': '{\"power\":false}', 'name': 'power_disco_ball'},\n",
       "     'type': 'function'}]},\n",
       "  {'role': 'tool',\n",
       "   'tool_call_id': 'call_9RrEDTNs8CUAiLHm78ATVFlt',\n",
       "   'name': 'power_disco_ball',\n",
       "   'content': 'Disco ball is stopped.'},\n",
       "  {'role': 'assistant',\n",
       "   'content': [{'type': 'text',\n",
       "     'text': 'The disco ball has been stopped. Your party atmosphere is now complete with the lights at 70% brightness and relaxing music at 120 BPM. If you need anything else or have any more adjustments in mind, just let me know! Enjoy the gathering! 🎉'}],\n",
       "   'name': 'Assistant'},\n",
       "  {'role': 'user',\n",
       "   'content': [{'type': 'text', 'text': 'What is the weather today?'}],\n",
       "   'name': 'User'}]}"
      ]
     },
     "execution_count": 56,
     "metadata": {},
     "output_type": "execute_result"
    }
   ],
   "source": [
    "prompt = \"What is the weather today?\"\n",
    "\n",
    "response = chat_openai.run(prompt)\n",
    "\n",
    "response.model_dump()"
   ]
  },
  {
   "cell_type": "markdown",
   "metadata": {},
   "source": [
    "Conversation is recorded with serialized universal message format."
   ]
  },
  {
   "cell_type": "code",
   "execution_count": 57,
   "metadata": {},
   "outputs": [
    {
     "data": {
      "text/plain": [
       "[{'role': 'user',\n",
       "  'content': [{'text': 'Turn this place into a comfortable party mood!'}],\n",
       "  'name': None},\n",
       " {'role': 'function_call',\n",
       "  'content': [{'name': 'power_disco_ball',\n",
       "    'args': '{\"power\": true}',\n",
       "    'call_id': 'call_hLmFv8iVKtn1oovTSWRX1qhE'},\n",
       "   {'name': 'start_music',\n",
       "    'args': '{\"energetic\": true, \"loud\": true, \"bpm\": \"120\"}',\n",
       "    'call_id': 'call_2xdCraXRkWXV20llSq9x2LYN'},\n",
       "   {'name': 'dim_lights',\n",
       "    'args': '{\"brightness\": 0.5}',\n",
       "    'call_id': 'call_LXbEWUKtsUsPQWtOzqSLQbYR'}],\n",
       "  'name': None},\n",
       " {'role': 'function',\n",
       "  'content': [{'output': 'Disco ball is spinning!',\n",
       "    'call_id': 'call_hLmFv8iVKtn1oovTSWRX1qhE',\n",
       "    'args': '{\"power\": true}',\n",
       "    'funcname': 'power_disco_ball'},\n",
       "   {'output': \"Starting music! energetic=True loud=True, bpm='120'\",\n",
       "    'call_id': 'call_2xdCraXRkWXV20llSq9x2LYN',\n",
       "    'args': '{\"energetic\": true, \"loud\": true, \"bpm\": \"120\"}',\n",
       "    'funcname': 'start_music'},\n",
       "   {'output': 'Lights are now set to 0.5',\n",
       "    'call_id': 'call_LXbEWUKtsUsPQWtOzqSLQbYR',\n",
       "    'args': '{\"brightness\": 0.5}',\n",
       "    'funcname': 'dim_lights'}],\n",
       "  'name': None},\n",
       " {'role': 'assistant',\n",
       "  'content': [{'text': 'The party mood is set! The disco ball is spinning, energetic music is playing at a lively tempo of 120 BPM, and the lights are dimmed to a cozy ambiance. Enjoy the celebration! 🎉💃🕺'}],\n",
       "  'name': None},\n",
       " {'role': 'user',\n",
       "  'content': [{'text': 'Can you make bpm up more?'}],\n",
       "  'name': None},\n",
       " {'role': 'function_call',\n",
       "  'content': [{'text': \"Certainly! I can increase the BPM (beats per minute) of the music to create a more upbeat and energetic atmosphere. The highest BPM option available is 180, which will give the party an even more lively feel. Let's make that change for you.\"},\n",
       "   {'name': 'start_music',\n",
       "    'args': {'energetic': True, 'loud': True, 'bpm': '180'},\n",
       "    'call_id': 'toolu_01UGMsGBhgv2kYBT4pBAiY9u'}],\n",
       "  'name': None},\n",
       " {'role': 'function',\n",
       "  'content': [{'output': \"Starting music! energetic=True loud=True, bpm='180'\",\n",
       "    'call_id': 'toolu_01UGMsGBhgv2kYBT4pBAiY9u',\n",
       "    'args': '{\"energetic\": true, \"loud\": true, \"bpm\": \"180\"}',\n",
       "    'funcname': 'start_music'}],\n",
       "  'name': None},\n",
       " {'role': 'assistant',\n",
       "  'content': [{'text': \"Great! The music has now been updated to a faster tempo of 180 BPM. This should create a more energetic and upbeat atmosphere for your party. The music is still energetic and loud, but now with a quicker beat that's perfect for dancing and keeping the energy high.\\n\\nIs there anything else you'd like to adjust to enhance the party mood further?\"}],\n",
       "  'name': None},\n",
       " {'role': 'user',\n",
       "  'content': [{'text': 'Please turn music more relax.'}],\n",
       "  'name': None},\n",
       " {'role': 'function_call',\n",
       "  'content': [{'name': 'start_music',\n",
       "    'args': '{\"energetic\":false,\"loud\":false,\"bpm\":\"60\"}',\n",
       "    'call_id': 'call_V2N11L9lZgqCB2jIJCjF6fyy'}],\n",
       "  'name': None},\n",
       " {'role': 'function',\n",
       "  'content': [{'output': \"Starting music! energetic=False loud=False, bpm='60'\",\n",
       "    'call_id': 'call_V2N11L9lZgqCB2jIJCjF6fyy',\n",
       "    'args': '{\"energetic\":false,\"loud\":false,\"bpm\":\"60\"}',\n",
       "    'funcname': 'start_music'}],\n",
       "  'name': None},\n",
       " {'role': 'assistant',\n",
       "  'content': [{'text': \"The music has been changed to a more relaxed vibe, playing at a calming 60 BPM. It's now softer and less energetic, perfect for creating a chill atmosphere. If you need any more changes or additions, just let me know!\"}],\n",
       "  'name': None},\n",
       " {'role': 'user',\n",
       "  'content': [{'text': 'Nice. So please go back to the initial bpm.'}],\n",
       "  'name': None},\n",
       " {'role': 'function_call',\n",
       "  'content': [{'name': 'start_music',\n",
       "    'args': {'loud': False, 'energetic': False, 'bpm': '120'},\n",
       "    'call_id': 'DJdF3spwylx0FTYVxHSozzqK'}],\n",
       "  'name': None},\n",
       " {'role': 'function',\n",
       "  'content': [{'output': \"Starting music! energetic=False loud=False, bpm='120'\",\n",
       "    'call_id': 'DJdF3spwylx0FTYVxHSozzqK',\n",
       "    'args': '{\"loud\": false, \"energetic\": false, \"bpm\": \"120\"}',\n",
       "    'funcname': 'start_music'}],\n",
       "  'name': None},\n",
       " {'role': 'assistant',\n",
       "  'content': [{'text': 'Alright! The music is now back to a bpm of 120, keeping a relaxed vibe.  🎶 \\n'}],\n",
       "  'name': None},\n",
       " {'role': 'user',\n",
       "  'content': [{'text': 'OK, then turn brightness to 0.7.'}],\n",
       "  'name': None},\n",
       " {'role': 'function_call',\n",
       "  'content': [{'text': \"Certainly! I'll adjust the brightness of the lights for you.\"},\n",
       "   {'name': 'dim_lights',\n",
       "    'args': {'brightness': 0.7},\n",
       "    'call_id': 'toolu_01YNP5RKkgRNFntgUe4hcXb2'}],\n",
       "  'name': None},\n",
       " {'role': 'function',\n",
       "  'content': [{'output': 'Lights are now set to 0.7',\n",
       "    'call_id': 'toolu_01YNP5RKkgRNFntgUe4hcXb2',\n",
       "    'args': '{\"brightness\": 0.7}',\n",
       "    'funcname': 'dim_lights'}],\n",
       "  'name': None},\n",
       " {'role': 'assistant',\n",
       "  'content': [{'text': \"The lights have been adjusted to a brightness level of 0.7. This should create a slightly brighter atmosphere than before, while still maintaining a comfortable ambiance for your relaxed party setting.\\n\\nTo summarize the current party setup:\\n1. The disco ball is still spinning (from the initial setup).\\n2. The music is playing at 120 BPM, with a relaxed (not energetic) and quieter volume.\\n3. The lights are now at 70% brightness.\\n\\nIs there anything else you'd like to adjust to perfect your party atmosphere?\"}],\n",
       "  'name': None},\n",
       " {'role': 'user',\n",
       "  'content': [{'text': 'Finally stop the disco ball.'}],\n",
       "  'name': None},\n",
       " {'role': 'function_call',\n",
       "  'content': [{'name': 'power_disco_ball',\n",
       "    'args': '{\"power\":false}',\n",
       "    'call_id': 'call_9RrEDTNs8CUAiLHm78ATVFlt'}],\n",
       "  'name': None},\n",
       " {'role': 'function',\n",
       "  'content': [{'output': 'Disco ball is stopped.',\n",
       "    'call_id': 'call_9RrEDTNs8CUAiLHm78ATVFlt',\n",
       "    'args': '{\"power\":false}',\n",
       "    'funcname': 'power_disco_ball'}],\n",
       "  'name': None},\n",
       " {'role': 'assistant',\n",
       "  'content': [{'text': 'The disco ball has been stopped. Your party atmosphere is now complete with the lights at 70% brightness and relaxing music at 120 BPM. If you need anything else or have any more adjustments in mind, just let me know! Enjoy the gathering! 🎉'}],\n",
       "  'name': None},\n",
       " {'role': 'user',\n",
       "  'content': [{'text': 'What is the weather today?'}],\n",
       "  'name': None},\n",
       " {'role': 'assistant',\n",
       "  'content': [{'text': \"I'm unable to provide real-time weather updates. However, you can easily check the current weather by using a weather website, app, or asking a voice assistant with up-to-date information. If you have a specific location in mind, I can suggest how to look it up!\"}],\n",
       "  'name': None}]"
      ]
     },
     "execution_count": 57,
     "metadata": {},
     "output_type": "execute_result"
    }
   ],
   "source": [
    "shared_memory.load()"
   ]
  },
  {
   "cell_type": "markdown",
   "metadata": {},
   "source": [
    "# Multi-turn conversation with tools and context truncation"
   ]
  },
  {
   "cell_type": "markdown",
   "metadata": {},
   "source": [
    "Although context truncation doesn't work accurately if we use tools, but truncation is useful for token management to some extent."
   ]
  },
  {
   "cell_type": "code",
   "execution_count": 58,
   "metadata": {},
   "outputs": [],
   "source": [
    "from langrila import InMemoryConversationMemory\n",
    "\n",
    "chat_openai = OpenAIFunctionalChat(\n",
    "    api_key_env_name=\"API_KEY\",\n",
    "    model_name=\"gpt-4o-mini-2024-07-18\",\n",
    "    tools=[power_disco_ball, start_music, dim_lights],\n",
    "    tool_configs=tool_configs,\n",
    "    conversation_memory=InMemoryConversationMemory(),\n",
    "    context_length=50,\n",
    ")"
   ]
  },
  {
   "cell_type": "code",
   "execution_count": 59,
   "metadata": {},
   "outputs": [],
   "source": [
    "prompt = \"Turn this place into a comfortable party mood!\"\n",
    "\n",
    "response = chat_openai.run(prompt, tool_choice=\"auto\")"
   ]
  },
  {
   "cell_type": "code",
   "execution_count": 60,
   "metadata": {},
   "outputs": [
    {
     "name": "stdout",
     "output_type": "stream",
     "text": [
      "Input message is truncated because total length of messages exceeds context length.\n",
      "Input message is truncated because total length of messages exceeds context length.\n"
     ]
    }
   ],
   "source": [
    "prompt = \"Can you make bpm up more?\"\n",
    "\n",
    "response = chat_openai.run(prompt=prompt, tool_choice=\"auto\")"
   ]
  },
  {
   "cell_type": "markdown",
   "metadata": {},
   "source": [
    "User message and assistant message are target of truncation while tool call message and tool result message is not."
   ]
  },
  {
   "cell_type": "code",
   "execution_count": 61,
   "metadata": {},
   "outputs": [
    {
     "name": "stdout",
     "output_type": "stream",
     "text": [
      "The music BPM has been increased to **180**! Get ready for an even more energetic atmosphere! 🎶✨\n"
     ]
    }
   ],
   "source": [
    "print(response.message.content[0].text)"
   ]
  },
  {
   "cell_type": "code",
   "execution_count": 62,
   "metadata": {},
   "outputs": [
    {
     "data": {
      "text/plain": [
       "Usage(prompt_tokens=212, completion_tokens=23, total_tokens=235)"
      ]
     },
     "execution_count": 62,
     "metadata": {},
     "output_type": "execute_result"
    }
   ],
   "source": [
    "response.usage"
   ]
  },
  {
   "cell_type": "code",
   "execution_count": 63,
   "metadata": {},
   "outputs": [
    {
     "data": {
      "text/plain": [
       "[{'content': None,\n",
       "  'role': 'assistant',\n",
       "  'function_call': None,\n",
       "  'tool_calls': [{'id': 'call_yxNy9lhcIqRD8dwTXcXeC0hy',\n",
       "    'function': {'arguments': '{\"energetic\": true, \"loud\": true, \"bpm\": \"120\"}',\n",
       "     'name': 'start_music'},\n",
       "    'type': 'function'},\n",
       "   {'id': 'call_puFIYV1GDn3y17P3cJ9s2syL',\n",
       "    'function': {'arguments': '{\"brightness\": 0.5}', 'name': 'dim_lights'},\n",
       "    'type': 'function'},\n",
       "   {'id': 'call_nqgKm8xXDDgonQt9fYJrk19A',\n",
       "    'function': {'arguments': '{\"power\": true}', 'name': 'power_disco_ball'},\n",
       "    'type': 'function'}]},\n",
       " {'role': 'tool',\n",
       "  'tool_call_id': 'call_yxNy9lhcIqRD8dwTXcXeC0hy',\n",
       "  'name': 'start_music',\n",
       "  'content': \"Starting music! energetic=True loud=True, bpm='120'\"},\n",
       " {'role': 'tool',\n",
       "  'tool_call_id': 'call_puFIYV1GDn3y17P3cJ9s2syL',\n",
       "  'name': 'dim_lights',\n",
       "  'content': 'Lights are now set to 0.5'},\n",
       " {'role': 'tool',\n",
       "  'tool_call_id': 'call_nqgKm8xXDDgonQt9fYJrk19A',\n",
       "  'name': 'power_disco_ball',\n",
       "  'content': 'Disco ball is spinning!'},\n",
       " {'role': 'assistant',\n",
       "  'name': 'Assistant',\n",
       "  'content': [{'type': 'text',\n",
       "    'text': 'disco ball** is spinning, adding some sparkle to the vibe!\\n\\nGet ready to have a great time! 🕺💃'}]},\n",
       " {'role': 'user',\n",
       "  'content': [{'type': 'text', 'text': 'Can you make bpm up more?'}],\n",
       "  'name': 'User'},\n",
       " {'content': None,\n",
       "  'role': 'assistant',\n",
       "  'function_call': None,\n",
       "  'tool_calls': [{'id': 'call_IP3tiZT55OkILWkKSQ5qZwKh',\n",
       "    'function': {'arguments': '{\"energetic\":true,\"loud\":true,\"bpm\":\"180\"}',\n",
       "     'name': 'start_music'},\n",
       "    'type': 'function'}]},\n",
       " {'role': 'tool',\n",
       "  'tool_call_id': 'call_IP3tiZT55OkILWkKSQ5qZwKh',\n",
       "  'name': 'start_music',\n",
       "  'content': \"Starting music! energetic=True loud=True, bpm='180'\"}]"
      ]
     },
     "execution_count": 63,
     "metadata": {},
     "output_type": "execute_result"
    }
   ],
   "source": [
    "response.prompt"
   ]
  },
  {
   "cell_type": "code",
   "execution_count": 64,
   "metadata": {},
   "outputs": [
    {
     "data": {
      "text/plain": [
       "[{'role': 'user',\n",
       "  'content': [{'text': 'Turn this place into a comfortable party mood!'}],\n",
       "  'name': None},\n",
       " {'role': 'function_call',\n",
       "  'content': [{'name': 'start_music',\n",
       "    'args': '{\"energetic\": true, \"loud\": true, \"bpm\": \"120\"}',\n",
       "    'call_id': 'call_yxNy9lhcIqRD8dwTXcXeC0hy'},\n",
       "   {'name': 'dim_lights',\n",
       "    'args': '{\"brightness\": 0.5}',\n",
       "    'call_id': 'call_puFIYV1GDn3y17P3cJ9s2syL'},\n",
       "   {'name': 'power_disco_ball',\n",
       "    'args': '{\"power\": true}',\n",
       "    'call_id': 'call_nqgKm8xXDDgonQt9fYJrk19A'}],\n",
       "  'name': None},\n",
       " {'role': 'function',\n",
       "  'content': [{'output': \"Starting music! energetic=True loud=True, bpm='120'\",\n",
       "    'call_id': 'call_yxNy9lhcIqRD8dwTXcXeC0hy',\n",
       "    'args': '{\"energetic\": true, \"loud\": true, \"bpm\": \"120\"}',\n",
       "    'funcname': 'start_music'},\n",
       "   {'output': 'Lights are now set to 0.5',\n",
       "    'call_id': 'call_puFIYV1GDn3y17P3cJ9s2syL',\n",
       "    'args': '{\"brightness\": 0.5}',\n",
       "    'funcname': 'dim_lights'},\n",
       "   {'output': 'Disco ball is spinning!',\n",
       "    'call_id': 'call_nqgKm8xXDDgonQt9fYJrk19A',\n",
       "    'args': '{\"power\": true}',\n",
       "    'funcname': 'power_disco_ball'}],\n",
       "  'name': None},\n",
       " {'role': 'assistant',\n",
       "  'content': [{'text': 'The party mood is set! 🎉\\n\\n- **Music** is pumping with an energetic beat at 120 BPM!\\n- The **lights** are dimmed to create a cozy atmosphere.\\n- The **disco ball** is spinning, adding some sparkle to the vibe!\\n\\nGet ready to have a great time! 🕺💃'}],\n",
       "  'name': None},\n",
       " {'role': 'user',\n",
       "  'content': [{'text': 'Can you make bpm up more?'}],\n",
       "  'name': None},\n",
       " {'role': 'function_call',\n",
       "  'content': [{'name': 'start_music',\n",
       "    'args': '{\"energetic\":true,\"loud\":true,\"bpm\":\"180\"}',\n",
       "    'call_id': 'call_IP3tiZT55OkILWkKSQ5qZwKh'}],\n",
       "  'name': None},\n",
       " {'role': 'function',\n",
       "  'content': [{'output': \"Starting music! energetic=True loud=True, bpm='180'\",\n",
       "    'call_id': 'call_IP3tiZT55OkILWkKSQ5qZwKh',\n",
       "    'args': '{\"energetic\":true,\"loud\":true,\"bpm\":\"180\"}',\n",
       "    'funcname': 'start_music'}],\n",
       "  'name': None},\n",
       " {'role': 'assistant',\n",
       "  'content': [{'text': 'The music BPM has been increased to **180**! Get ready for an even more energetic atmosphere! 🎶✨'}],\n",
       "  'name': None}]"
      ]
     },
     "execution_count": 64,
     "metadata": {},
     "output_type": "execute_result"
    }
   ],
   "source": [
    "# whole history\n",
    "chat_openai.conversation_memory.load()"
   ]
  },
  {
   "cell_type": "code",
   "execution_count": null,
   "metadata": {},
   "outputs": [],
   "source": []
  }
 ],
 "metadata": {
  "kernelspec": {
   "display_name": ".venv",
   "language": "python",
   "name": "python3"
  },
  "language_info": {
   "codemirror_mode": {
    "name": "ipython",
    "version": 3
   },
   "file_extension": ".py",
   "mimetype": "text/x-python",
   "name": "python",
   "nbconvert_exporter": "python",
   "pygments_lexer": "ipython3",
   "version": "3.10.12"
  }
 },
 "nbformat": 4,
 "nbformat_minor": 4
}
