{
 "cells": [
  {
   "cell_type": "code",
   "execution_count": 1,
   "metadata": {},
   "outputs": [],
   "source": [
    "import os\n",
    "import warnings\n",
    "\n",
    "warnings.simplefilter(action=\"ignore\")\n",
    "os.environ[\"GRPC_VERBOSITY\"] = \"NONE\""
   ]
  },
  {
   "cell_type": "markdown",
   "metadata": {},
   "source": [
    "# Prerequisites"
   ]
  },
  {
   "cell_type": "markdown",
   "metadata": {},
   "source": [
    "Please make sure your environmental variables and dependencies are ready to use LLM services. In this notebook, we use ChatGPT, Gemini on GenerativeAI and Anthropic Claude."
   ]
  },
  {
   "cell_type": "code",
   "execution_count": 2,
   "metadata": {},
   "outputs": [
    {
     "data": {
      "text/plain": [
       "True"
      ]
     },
     "execution_count": 2,
     "metadata": {},
     "output_type": "execute_result"
    }
   ],
   "source": [
    "from dotenv import load_dotenv\n",
    "\n",
    "load_dotenv(\"../../.env_api\")"
   ]
  },
  {
   "cell_type": "markdown",
   "metadata": {},
   "source": [
    "# How to input langrila's modules"
   ]
  },
  {
   "cell_type": "markdown",
   "metadata": {},
   "source": [
    "In langrila, universal message class allows you to handle each client message in a same way."
   ]
  },
  {
   "cell_type": "markdown",
   "metadata": {},
   "source": [
    "# Import modules"
   ]
  },
  {
   "cell_type": "code",
   "execution_count": 3,
   "metadata": {},
   "outputs": [],
   "source": [
    "from langrila.claude import Claude\n",
    "from langrila.gemini import Gemini\n",
    "from langrila.openai import ChatGPT"
   ]
  },
  {
   "cell_type": "markdown",
   "metadata": {},
   "source": [
    "# Define tools"
   ]
  },
  {
   "cell_type": "markdown",
   "metadata": {},
   "source": [
    "In this example, we can use these tools."
   ]
  },
  {
   "cell_type": "code",
   "execution_count": 4,
   "metadata": {},
   "outputs": [],
   "source": [
    "def power_disco_ball(power: bool) -> bool:\n",
    "    \"\"\"Powers the spinning disco ball.\"\"\"\n",
    "    return f\"Disco ball is {'spinning!' if power else 'stopped.'}\"\n",
    "\n",
    "\n",
    "def start_music(energetic: bool, loud: bool, bpm: int) -> str:\n",
    "    \"\"\"Play some music matching the specified parameters.\n",
    "\n",
    "    Args:\n",
    "      energetic: Whether the music is energetic or not.\n",
    "      loud: Whether the music is loud or not.\n",
    "      bpm: The beats per minute of the music.\n",
    "\n",
    "    Returns: The name of the song being played.\n",
    "    \"\"\"\n",
    "    return f\"Starting music! {energetic=} {loud=}, {bpm=}\"\n",
    "\n",
    "\n",
    "def dim_lights(brightness: float) -> bool:\n",
    "    \"\"\"Dim the lights.\n",
    "\n",
    "    Args:\n",
    "      brightness: The brightness of the lights, 0.0 is off, 1.0 is full.\n",
    "    \"\"\"\n",
    "    return f\"Lights are now set to {brightness}\""
   ]
  },
  {
   "cell_type": "markdown",
   "metadata": {},
   "source": [
    "# Tool use"
   ]
  },
  {
   "cell_type": "markdown",
   "metadata": {},
   "source": [
    "In langrila, you can define tool configs via ToolProperty, ToolParameter and ToolConfig object."
   ]
  },
  {
   "cell_type": "markdown",
   "metadata": {},
   "source": [
    "### ChatGPT"
   ]
  },
  {
   "cell_type": "code",
   "execution_count": 5,
   "metadata": {},
   "outputs": [],
   "source": [
    "from langrila.openai import ToolConfig, ToolParameter, ToolProperty\n",
    "\n",
    "chatgpt_tool_configs = [\n",
    "    ToolConfig(\n",
    "        name=\"power_disco_ball\",\n",
    "        description=\"Powers the spinning disco ball.\",\n",
    "        parameters=ToolParameter(\n",
    "            properties=[\n",
    "                ToolProperty(\n",
    "                    name=\"power\",\n",
    "                    type=\"boolean\",\n",
    "                    description=\"Boolean to spin disco ball.\",\n",
    "                ),\n",
    "            ],\n",
    "            required=[\"power\"],\n",
    "        ),\n",
    "    ),\n",
    "    ToolConfig(\n",
    "        name=\"start_music\",\n",
    "        description=\"Play some music matching the specified parameters.\",\n",
    "        parameters=ToolParameter(\n",
    "            properties=[\n",
    "                ToolProperty(\n",
    "                    name=\"energetic\",\n",
    "                    type=\"boolean\",\n",
    "                    description=\"Whether the music is energetic or not.\",\n",
    "                ),\n",
    "                ToolProperty(\n",
    "                    name=\"loud\", type=\"boolean\", description=\"Whether the music is loud or not.\"\n",
    "                ),\n",
    "                ToolProperty(\n",
    "                    name=\"bpm\",\n",
    "                    type=\"number\",\n",
    "                    description=\"The beats per minute of the music.\",\n",
    "                    enum=[60, 180],\n",
    "                ),\n",
    "            ],\n",
    "            required=[\"energetic\", \"loud\", \"bpm\"],\n",
    "        ),\n",
    "    ),\n",
    "    ToolConfig(\n",
    "        name=\"dim_lights\",\n",
    "        description=\"Dim the lights.\",\n",
    "        parameters=ToolParameter(\n",
    "            properties=[\n",
    "                ToolProperty(\n",
    "                    name=\"brightness\",\n",
    "                    type=\"number\",\n",
    "                    description=\"The brightness of the lights, 0.0 is off, 1.0 is full.\",\n",
    "                ),\n",
    "            ],\n",
    "            required=[\"brightness\"],\n",
    "        ),\n",
    "    ),\n",
    "]"
   ]
  },
  {
   "cell_type": "markdown",
   "metadata": {},
   "source": [
    "ToolConfig object is internally converted to client tool configs"
   ]
  },
  {
   "cell_type": "code",
   "execution_count": 6,
   "metadata": {},
   "outputs": [
    {
     "data": {
      "text/plain": [
       "{'type': 'function',\n",
       " 'function': {'name': 'start_music',\n",
       "  'description': 'Play some music matching the specified parameters.',\n",
       "  'parameters': {'type': 'object',\n",
       "   'properties': {'energetic': {'type': 'boolean',\n",
       "     'description': 'Whether the music is energetic or not.'},\n",
       "    'loud': {'type': 'boolean',\n",
       "     'description': 'Whether the music is loud or not.'},\n",
       "    'bpm': {'type': 'number',\n",
       "     'description': 'The beats per minute of the music.',\n",
       "     'enum': [60, 180]}},\n",
       "   'required': ['energetic', 'loud', 'bpm']}}}"
      ]
     },
     "execution_count": 6,
     "metadata": {},
     "output_type": "execute_result"
    }
   ],
   "source": [
    "# You can see the formatted tool configs by running the following\n",
    "chatgpt_tool_configs[1].format()"
   ]
  },
  {
   "cell_type": "code",
   "execution_count": 7,
   "metadata": {},
   "outputs": [],
   "source": [
    "chatgpt = ChatGPT(\n",
    "    api_key_env_name=\"API_KEY\",\n",
    "    model_name=\"gpt-4o-mini-2024-07-18\",\n",
    "    tools=[power_disco_ball, start_music, dim_lights],\n",
    "    tool_configs=chatgpt_tool_configs,\n",
    ")"
   ]
  },
  {
   "cell_type": "code",
   "execution_count": 8,
   "metadata": {},
   "outputs": [
    {
     "data": {
      "text/plain": [
       "CompletionResults(message=Message(role='assistant', content=[TextContent(text='The party mood is on! 🎉 The disco ball is spinning, energetic music is blasting at 180 BPM, and the lights are dimmed to create the perfect atmosphere. Let’s get this celebration started! 🕺💃')], name=None), usage=Usage(prompt_tokens=131, completion_tokens=47, total_tokens=178), prompt=[{'role': 'user', 'content': [{'type': 'text', 'text': 'Turn this place into a party mood!'}], 'name': None}, {'content': None, 'role': 'assistant', 'function_call': None, 'tool_calls': [{'id': 'call_fVQu0irYgmHPHbyv4bVUcZ70', 'function': {'arguments': '{\"power\": true}', 'name': 'power_disco_ball'}, 'type': 'function'}, {'id': 'call_hfWWr3Tir4pDnkGpDKHPRNPn', 'function': {'arguments': '{\"energetic\": true, \"loud\": true, \"bpm\": 180}', 'name': 'start_music'}, 'type': 'function'}, {'id': 'call_9zH9yAmjzpj0dKMZ9YMl7T4Z', 'function': {'arguments': '{\"brightness\": 0.5}', 'name': 'dim_lights'}, 'type': 'function'}]}, {'role': 'tool', 'tool_call_id': 'call_fVQu0irYgmHPHbyv4bVUcZ70', 'name': 'power_disco_ball', 'content': 'Disco ball is spinning!'}, {'role': 'tool', 'tool_call_id': 'call_hfWWr3Tir4pDnkGpDKHPRNPn', 'name': 'start_music', 'content': 'Starting music! energetic=True loud=True, bpm=180'}, {'role': 'tool', 'tool_call_id': 'call_9zH9yAmjzpj0dKMZ9YMl7T4Z', 'name': 'dim_lights', 'content': 'Lights are now set to 0.5'}])"
      ]
     },
     "execution_count": 8,
     "metadata": {},
     "output_type": "execute_result"
    }
   ],
   "source": [
    "prompt = \"Turn this place into a party mood!\"\n",
    "\n",
    "response = chatgpt.run(prompt)\n",
    "\n",
    "# Response is CompletionResults object\n",
    "response"
   ]
  },
  {
   "cell_type": "code",
   "execution_count": 9,
   "metadata": {},
   "outputs": [
    {
     "data": {
      "text/plain": [
       "{'message': {'role': 'assistant',\n",
       "  'content': [{'text': 'The party mood is on! 🎉 The disco ball is spinning, energetic music is blasting at 180 BPM, and the lights are dimmed to create the perfect atmosphere. Let’s get this celebration started! 🕺💃'}],\n",
       "  'name': None},\n",
       " 'usage': {'model_name': 'gpt-4o-mini-2024-07-18',\n",
       "  'prompt_tokens': 131,\n",
       "  'completion_tokens': 47},\n",
       " 'prompt': [{'role': 'user',\n",
       "   'content': [{'type': 'text', 'text': 'Turn this place into a party mood!'}],\n",
       "   'name': None},\n",
       "  {'content': None,\n",
       "   'role': 'assistant',\n",
       "   'function_call': None,\n",
       "   'tool_calls': [{'id': 'call_fVQu0irYgmHPHbyv4bVUcZ70',\n",
       "     'function': {'arguments': '{\"power\": true}', 'name': 'power_disco_ball'},\n",
       "     'type': 'function'},\n",
       "    {'id': 'call_hfWWr3Tir4pDnkGpDKHPRNPn',\n",
       "     'function': {'arguments': '{\"energetic\": true, \"loud\": true, \"bpm\": 180}',\n",
       "      'name': 'start_music'},\n",
       "     'type': 'function'},\n",
       "    {'id': 'call_9zH9yAmjzpj0dKMZ9YMl7T4Z',\n",
       "     'function': {'arguments': '{\"brightness\": 0.5}', 'name': 'dim_lights'},\n",
       "     'type': 'function'}]},\n",
       "  {'role': 'tool',\n",
       "   'tool_call_id': 'call_fVQu0irYgmHPHbyv4bVUcZ70',\n",
       "   'name': 'power_disco_ball',\n",
       "   'content': 'Disco ball is spinning!'},\n",
       "  {'role': 'tool',\n",
       "   'tool_call_id': 'call_hfWWr3Tir4pDnkGpDKHPRNPn',\n",
       "   'name': 'start_music',\n",
       "   'content': 'Starting music! energetic=True loud=True, bpm=180'},\n",
       "  {'role': 'tool',\n",
       "   'tool_call_id': 'call_9zH9yAmjzpj0dKMZ9YMl7T4Z',\n",
       "   'name': 'dim_lights',\n",
       "   'content': 'Lights are now set to 0.5'}]}"
      ]
     },
     "execution_count": 9,
     "metadata": {},
     "output_type": "execute_result"
    }
   ],
   "source": [
    "response.model_dump()"
   ]
  },
  {
   "cell_type": "markdown",
   "metadata": {},
   "source": [
    "You can get the results from specific tool."
   ]
  },
  {
   "cell_type": "code",
   "execution_count": 10,
   "metadata": {},
   "outputs": [
    {
     "data": {
      "text/plain": [
       "{'message': {'role': 'assistant',\n",
       "  'content': [{'text': \"The music is pumping at 180 BPM! 🎶 Let's add some colorful lights to set the vibe. How about some fun party games and snacks to keep the energy high? 🎉 What else do you want to include to make this party unforgettable?\"}],\n",
       "  'name': None},\n",
       " 'usage': {'model_name': 'gpt-4o-mini-2024-07-18',\n",
       "  'prompt_tokens': 60,\n",
       "  'completion_tokens': 50},\n",
       " 'prompt': [{'role': 'user',\n",
       "   'content': [{'type': 'text', 'text': 'Turn this place into a party mood!'}],\n",
       "   'name': None},\n",
       "  {'content': None,\n",
       "   'role': 'assistant',\n",
       "   'function_call': None,\n",
       "   'tool_calls': [{'id': 'call_MHs9ys6WtyWIcnkffYU0ZO2V',\n",
       "     'function': {'arguments': '{\"energetic\":true,\"loud\":true,\"bpm\":180}',\n",
       "      'name': 'start_music'},\n",
       "     'type': 'function'}]},\n",
       "  {'role': 'tool',\n",
       "   'tool_call_id': 'call_MHs9ys6WtyWIcnkffYU0ZO2V',\n",
       "   'name': 'start_music',\n",
       "   'content': 'Starting music! energetic=True loud=True, bpm=180'}]}"
      ]
     },
     "execution_count": 10,
     "metadata": {},
     "output_type": "execute_result"
    }
   ],
   "source": [
    "prompt = \"Turn this place into a party mood!\"\n",
    "\n",
    "response = chatgpt.run(prompt, tool_choice=\"start_music\")\n",
    "\n",
    "# Show result\n",
    "response.model_dump()"
   ]
  },
  {
   "cell_type": "markdown",
   "metadata": {},
   "source": [
    "If you specify tool_only option as True, you get the FunctionCallingResults object instead of CompletionResults object."
   ]
  },
  {
   "cell_type": "code",
   "execution_count": 11,
   "metadata": {},
   "outputs": [
    {
     "data": {
      "text/plain": [
       "FunctionCallingResults(usage=Usage(prompt_tokens=163, completion_tokens=75, total_tokens=238), results=[Message(role='function', content=[ToolContent(output='Disco ball is spinning!', call_id='call_HPBYMNw2I2eLxEx55KsFT4M5', args='{\"power\": true}', funcname='power_disco_ball')], name='power_disco_ball'), Message(role='function', content=[ToolContent(output='Starting music! energetic=True loud=True, bpm=180', call_id='call_Gytf61Ijvtk8R1BXZ1yJUqre', args='{\"energetic\": true, \"loud\": true, \"bpm\": 180}', funcname='start_music')], name='start_music'), Message(role='function', content=[ToolContent(output='Lights are now set to 0.5', call_id='call_fY8hhAU0VO9LIk4Faa2YmyXE', args='{\"brightness\": 0.5}', funcname='dim_lights')], name='dim_lights')], calls=Message(role='function_call', content=[ToolCall(name='power_disco_ball', args='{\"power\": true}', call_id='call_HPBYMNw2I2eLxEx55KsFT4M5'), ToolCall(name='start_music', args='{\"energetic\": true, \"loud\": true, \"bpm\": 180}', call_id='call_Gytf61Ijvtk8R1BXZ1yJUqre'), ToolCall(name='dim_lights', args='{\"brightness\": 0.5}', call_id='call_fY8hhAU0VO9LIk4Faa2YmyXE')], name=None), prompt=[{'role': 'user', 'content': [{'type': 'text', 'text': 'Turn this place into a party mood!'}], 'name': None}])"
      ]
     },
     "execution_count": 11,
     "metadata": {},
     "output_type": "execute_result"
    }
   ],
   "source": [
    "response = chatgpt.run(prompt, tool_only=True)\n",
    "response"
   ]
  },
  {
   "cell_type": "code",
   "execution_count": 12,
   "metadata": {},
   "outputs": [
    {
     "data": {
      "text/plain": [
       "{'usage': {'model_name': 'gpt-4o-mini-2024-07-18',\n",
       "  'prompt_tokens': 163,\n",
       "  'completion_tokens': 75},\n",
       " 'results': [{'role': 'function',\n",
       "   'content': [{'output': 'Disco ball is spinning!',\n",
       "     'call_id': 'call_HPBYMNw2I2eLxEx55KsFT4M5',\n",
       "     'args': '{\"power\": true}',\n",
       "     'funcname': 'power_disco_ball'}],\n",
       "   'name': 'power_disco_ball'},\n",
       "  {'role': 'function',\n",
       "   'content': [{'output': 'Starting music! energetic=True loud=True, bpm=180',\n",
       "     'call_id': 'call_Gytf61Ijvtk8R1BXZ1yJUqre',\n",
       "     'args': '{\"energetic\": true, \"loud\": true, \"bpm\": 180}',\n",
       "     'funcname': 'start_music'}],\n",
       "   'name': 'start_music'},\n",
       "  {'role': 'function',\n",
       "   'content': [{'output': 'Lights are now set to 0.5',\n",
       "     'call_id': 'call_fY8hhAU0VO9LIk4Faa2YmyXE',\n",
       "     'args': '{\"brightness\": 0.5}',\n",
       "     'funcname': 'dim_lights'}],\n",
       "   'name': 'dim_lights'}],\n",
       " 'calls': {'role': 'function_call',\n",
       "  'content': [{'name': 'power_disco_ball',\n",
       "    'args': '{\"power\": true}',\n",
       "    'call_id': 'call_HPBYMNw2I2eLxEx55KsFT4M5'},\n",
       "   {'name': 'start_music',\n",
       "    'args': '{\"energetic\": true, \"loud\": true, \"bpm\": 180}',\n",
       "    'call_id': 'call_Gytf61Ijvtk8R1BXZ1yJUqre'},\n",
       "   {'name': 'dim_lights',\n",
       "    'args': '{\"brightness\": 0.5}',\n",
       "    'call_id': 'call_fY8hhAU0VO9LIk4Faa2YmyXE'}],\n",
       "  'name': None},\n",
       " 'prompt': [{'role': 'user',\n",
       "   'content': [{'type': 'text', 'text': 'Turn this place into a party mood!'}],\n",
       "   'name': None}]}"
      ]
     },
     "execution_count": 12,
     "metadata": {},
     "output_type": "execute_result"
    }
   ],
   "source": [
    "response.model_dump()"
   ]
  },
  {
   "cell_type": "code",
   "execution_count": 13,
   "metadata": {},
   "outputs": [
    {
     "data": {
      "text/plain": [
       "[Message(role='function', content=[ToolContent(output='Disco ball is spinning!', call_id='call_HPBYMNw2I2eLxEx55KsFT4M5', args='{\"power\": true}', funcname='power_disco_ball')], name='power_disco_ball'),\n",
       " Message(role='function', content=[ToolContent(output='Starting music! energetic=True loud=True, bpm=180', call_id='call_Gytf61Ijvtk8R1BXZ1yJUqre', args='{\"energetic\": true, \"loud\": true, \"bpm\": 180}', funcname='start_music')], name='start_music'),\n",
       " Message(role='function', content=[ToolContent(output='Lights are now set to 0.5', call_id='call_fY8hhAU0VO9LIk4Faa2YmyXE', args='{\"brightness\": 0.5}', funcname='dim_lights')], name='dim_lights')]"
      ]
     },
     "execution_count": 13,
     "metadata": {},
     "output_type": "execute_result"
    }
   ],
   "source": [
    "# Tool result messages\n",
    "\n",
    "response.results"
   ]
  },
  {
   "cell_type": "code",
   "execution_count": 14,
   "metadata": {},
   "outputs": [
    {
     "data": {
      "text/plain": [
       "Message(role='function_call', content=[ToolCall(name='power_disco_ball', args='{\"power\": true}', call_id='call_HPBYMNw2I2eLxEx55KsFT4M5'), ToolCall(name='start_music', args='{\"energetic\": true, \"loud\": true, \"bpm\": 180}', call_id='call_Gytf61Ijvtk8R1BXZ1yJUqre'), ToolCall(name='dim_lights', args='{\"brightness\": 0.5}', call_id='call_fY8hhAU0VO9LIk4Faa2YmyXE')], name=None)"
      ]
     },
     "execution_count": 14,
     "metadata": {},
     "output_type": "execute_result"
    }
   ],
   "source": [
    "# Tool call messages\n",
    "\n",
    "response.calls"
   ]
  },
  {
   "cell_type": "markdown",
   "metadata": {},
   "source": [
    "### Gemini on GenerativeAI"
   ]
  },
  {
   "cell_type": "code",
   "execution_count": 6,
   "metadata": {},
   "outputs": [],
   "source": [
    "from langrila.gemini.genai import ToolConfig, ToolParameter, ToolProperty\n",
    "\n",
    "# NOTE : following tool_configs is almost same as that of OpenAI\n",
    "gemini_tool_configs = [\n",
    "    ToolConfig(\n",
    "        name=\"power_disco_ball\",\n",
    "        description=\"Powers the spinning disco ball.\",\n",
    "        parameters=ToolParameter(\n",
    "            properties=[\n",
    "                ToolProperty(\n",
    "                    name=\"power\",\n",
    "                    type=\"boolean\",\n",
    "                    description=\"Boolean to spin disco ball.\",\n",
    "                ),\n",
    "            ],\n",
    "            required=[\"power\"],\n",
    "        ),\n",
    "    ),\n",
    "    ToolConfig(\n",
    "        name=\"start_music\",\n",
    "        description=\"Play some music matching the specified parameters.\",\n",
    "        parameters=ToolParameter(\n",
    "            properties=[\n",
    "                ToolProperty(\n",
    "                    name=\"energetic\",\n",
    "                    type=\"boolean\",\n",
    "                    description=\"Whether the music is energetic or not.\",\n",
    "                ),\n",
    "                ToolProperty(\n",
    "                    name=\"loud\", type=\"boolean\", description=\"Whether the music is loud or not.\"\n",
    "                ),\n",
    "                ToolProperty(\n",
    "                    name=\"bpm\",\n",
    "                    type=\"string\",\n",
    "                    description=\"The beats per minute of the music.\",\n",
    "                    enum=[\"60\", \"180\", \"240\"],  # gemini does not support numerical enum\n",
    "                ),\n",
    "            ],\n",
    "            required=[\"energetic\", \"loud\", \"bpm\"],\n",
    "        ),\n",
    "    ),\n",
    "    ToolConfig(\n",
    "        name=\"dim_lights\",\n",
    "        description=\"Dim the lights.\",\n",
    "        parameters=ToolParameter(\n",
    "            properties=[\n",
    "                ToolProperty(\n",
    "                    name=\"brightness\",\n",
    "                    type=\"number\",\n",
    "                    description=\"The brightness of the lights, 0.0 is off, 1.0 is full.\",\n",
    "                ),\n",
    "            ],\n",
    "            required=[\"brightness\"],\n",
    "        ),\n",
    "    ),\n",
    "]"
   ]
  },
  {
   "cell_type": "code",
   "execution_count": 8,
   "metadata": {},
   "outputs": [
    {
     "data": {
      "text/plain": [
       "name: \"start_music\"\n",
       "description: \"Play some music matching the specified parameters.\"\n",
       "parameters {\n",
       "  type_: OBJECT\n",
       "  properties {\n",
       "    key: \"loud\"\n",
       "    value {\n",
       "      type_: BOOLEAN\n",
       "      description: \"Whether the music is loud or not.\"\n",
       "    }\n",
       "  }\n",
       "  properties {\n",
       "    key: \"energetic\"\n",
       "    value {\n",
       "      type_: BOOLEAN\n",
       "      description: \"Whether the music is energetic or not.\"\n",
       "    }\n",
       "  }\n",
       "  properties {\n",
       "    key: \"bpm\"\n",
       "    value {\n",
       "      type_: STRING\n",
       "      description: \"The beats per minute of the music.\"\n",
       "      enum: \"60\"\n",
       "      enum: \"180\"\n",
       "      enum: \"240\"\n",
       "    }\n",
       "  }\n",
       "  required: \"energetic\"\n",
       "  required: \"loud\"\n",
       "  required: \"bpm\"\n",
       "}"
      ]
     },
     "execution_count": 8,
     "metadata": {},
     "output_type": "execute_result"
    }
   ],
   "source": [
    "# You can see the formatted tool config as follows\n",
    "gemini_tool_configs[1].format()"
   ]
  },
  {
   "cell_type": "code",
   "execution_count": 9,
   "metadata": {},
   "outputs": [],
   "source": [
    "gemini = Gemini(\n",
    "    api_key_env_name=\"GEMINI_API_KEY\",\n",
    "    model_name=\"gemini-1.5-pro\",\n",
    "    tools=[power_disco_ball, start_music, dim_lights],\n",
    "    tool_configs=gemini_tool_configs,\n",
    ")"
   ]
  },
  {
   "cell_type": "code",
   "execution_count": 10,
   "metadata": {},
   "outputs": [
    {
     "data": {
      "text/plain": [
       "{'message': {'role': 'assistant',\n",
       "  'content': [{'text': \"Alright, everyone! Let's get this party started! The disco ball is going, the music is pumping, and the lights are low. Time to hit the dance floor! 🎉🥳 \\n\"}],\n",
       "  'name': None},\n",
       " 'usage': {'model_name': 'gemini-1.5-pro',\n",
       "  'prompt_tokens': 143,\n",
       "  'completion_tokens': 38},\n",
       " 'prompt': [parts {\n",
       "    text: \"Turn this place into a party!\"\n",
       "  }\n",
       "  role: \"user\",\n",
       "  parts {\n",
       "    function_call {\n",
       "      name: \"power_disco_ball\"\n",
       "      args {\n",
       "        fields {\n",
       "          key: \"power\"\n",
       "          value {\n",
       "            bool_value: true\n",
       "          }\n",
       "        }\n",
       "      }\n",
       "    }\n",
       "  }\n",
       "  parts {\n",
       "    function_call {\n",
       "      name: \"start_music\"\n",
       "      args {\n",
       "        fields {\n",
       "          key: \"loud\"\n",
       "          value {\n",
       "            bool_value: true\n",
       "          }\n",
       "        }\n",
       "        fields {\n",
       "          key: \"energetic\"\n",
       "          value {\n",
       "            bool_value: true\n",
       "          }\n",
       "        }\n",
       "        fields {\n",
       "          key: \"bpm\"\n",
       "          value {\n",
       "            string_value: \"180\"\n",
       "          }\n",
       "        }\n",
       "      }\n",
       "    }\n",
       "  }\n",
       "  parts {\n",
       "    function_call {\n",
       "      name: \"dim_lights\"\n",
       "      args {\n",
       "        fields {\n",
       "          key: \"brightness\"\n",
       "          value {\n",
       "            number_value: 0.5\n",
       "          }\n",
       "        }\n",
       "      }\n",
       "    }\n",
       "  }\n",
       "  role: \"model\",\n",
       "  parts {\n",
       "    function_response {\n",
       "      name: \"power_disco_ball\"\n",
       "      response {\n",
       "        fields {\n",
       "          key: \"content\"\n",
       "          value {\n",
       "            string_value: \"Disco ball is spinning!\"\n",
       "          }\n",
       "        }\n",
       "      }\n",
       "    }\n",
       "  }\n",
       "  parts {\n",
       "    function_response {\n",
       "      name: \"start_music\"\n",
       "      response {\n",
       "        fields {\n",
       "          key: \"content\"\n",
       "          value {\n",
       "            string_value: \"Starting music! energetic=True loud=True, bpm=\\'180\\'\"\n",
       "          }\n",
       "        }\n",
       "      }\n",
       "    }\n",
       "  }\n",
       "  parts {\n",
       "    function_response {\n",
       "      name: \"dim_lights\"\n",
       "      response {\n",
       "        fields {\n",
       "          key: \"content\"\n",
       "          value {\n",
       "            string_value: \"Lights are now set to 0.5\"\n",
       "          }\n",
       "        }\n",
       "      }\n",
       "    }\n",
       "  }\n",
       "  role: \"user\"]}"
      ]
     },
     "execution_count": 10,
     "metadata": {},
     "output_type": "execute_result"
    }
   ],
   "source": [
    "prompt = \"Turn this place into a party!\"\n",
    "response = gemini.run(prompt)\n",
    "\n",
    "# show result\n",
    "response.model_dump()"
   ]
  },
  {
   "cell_type": "markdown",
   "metadata": {},
   "source": [
    "Gemini allows you to call specific tool as well as ChatGPT."
   ]
  },
  {
   "cell_type": "code",
   "execution_count": 11,
   "metadata": {},
   "outputs": [
    {
     "data": {
      "text/plain": [
       "{'message': {'role': 'assistant',\n",
       "  'content': [{'text': \"Alright, everyone! Let's get this party started!  Crank up the music! 🎉🥳 \\n\"}],\n",
       "  'name': None},\n",
       " 'usage': {'model_name': 'gemini-1.5-pro',\n",
       "  'prompt_tokens': 66,\n",
       "  'completion_tokens': 21},\n",
       " 'prompt': [parts {\n",
       "    text: \"Turn this place into a party!\"\n",
       "  }\n",
       "  role: \"user\",\n",
       "  parts {\n",
       "    function_call {\n",
       "      name: \"start_music\"\n",
       "      args {\n",
       "        fields {\n",
       "          key: \"loud\"\n",
       "          value {\n",
       "            bool_value: true\n",
       "          }\n",
       "        }\n",
       "        fields {\n",
       "          key: \"energetic\"\n",
       "          value {\n",
       "            bool_value: true\n",
       "          }\n",
       "        }\n",
       "        fields {\n",
       "          key: \"bpm\"\n",
       "          value {\n",
       "            string_value: \"240\"\n",
       "          }\n",
       "        }\n",
       "      }\n",
       "    }\n",
       "  }\n",
       "  role: \"model\",\n",
       "  parts {\n",
       "    function_response {\n",
       "      name: \"start_music\"\n",
       "      response {\n",
       "        fields {\n",
       "          key: \"content\"\n",
       "          value {\n",
       "            string_value: \"Starting music! energetic=True loud=True, bpm=\\'240\\'\"\n",
       "          }\n",
       "        }\n",
       "      }\n",
       "    }\n",
       "  }\n",
       "  role: \"user\"]}"
      ]
     },
     "execution_count": 11,
     "metadata": {},
     "output_type": "execute_result"
    }
   ],
   "source": [
    "prompt = \"Turn this place into a party!\"\n",
    "response = gemini.run(prompt, tool_choice=\"start_music\")\n",
    "\n",
    "# show result\n",
    "response.model_dump()"
   ]
  },
  {
   "cell_type": "markdown",
   "metadata": {},
   "source": [
    "### Anthropic Claude"
   ]
  },
  {
   "cell_type": "code",
   "execution_count": 7,
   "metadata": {},
   "outputs": [],
   "source": [
    "from langrila.claude import ToolConfig, ToolParameter, ToolProperty\n",
    "\n",
    "# NOTE : following tool_configs is the same as that of OpenAI\n",
    "claude_tool_configs = [\n",
    "    ToolConfig(\n",
    "        name=\"power_disco_ball\",\n",
    "        description=\"Powers the spinning disco ball.\",\n",
    "        parameters=ToolParameter(\n",
    "            properties=[\n",
    "                ToolProperty(\n",
    "                    name=\"power\",\n",
    "                    type=\"boolean\",\n",
    "                    description=\"Boolean to spin disco ball.\",\n",
    "                ),\n",
    "            ],\n",
    "            required=[\"power\"],\n",
    "        ),\n",
    "    ),\n",
    "    ToolConfig(\n",
    "        name=\"start_music\",\n",
    "        description=\"Play some music matching the specified parameters.\",\n",
    "        parameters=ToolParameter(\n",
    "            properties=[\n",
    "                ToolProperty(\n",
    "                    name=\"energetic\",\n",
    "                    type=\"boolean\",\n",
    "                    description=\"Whether the music is energetic or not.\",\n",
    "                ),\n",
    "                ToolProperty(\n",
    "                    name=\"loud\", type=\"boolean\", description=\"Whether the music is loud or not.\"\n",
    "                ),\n",
    "                ToolProperty(\n",
    "                    name=\"bpm\",\n",
    "                    type=\"number\",\n",
    "                    description=\"The beats per minute of the music.\",\n",
    "                    enum=[60, 180],\n",
    "                ),\n",
    "            ],\n",
    "            required=[\"energetic\", \"loud\", \"bpm\"],\n",
    "        ),\n",
    "    ),\n",
    "    ToolConfig(\n",
    "        name=\"dim_lights\",\n",
    "        description=\"Dim the lights.\",\n",
    "        parameters=ToolParameter(\n",
    "            properties=[\n",
    "                ToolProperty(\n",
    "                    name=\"brightness\",\n",
    "                    type=\"number\",\n",
    "                    description=\"The brightness of the lights, 0.0 is off, 1.0 is full.\",\n",
    "                ),\n",
    "            ],\n",
    "            required=[\"brightness\"],\n",
    "        ),\n",
    "    ),\n",
    "]"
   ]
  },
  {
   "cell_type": "code",
   "execution_count": 21,
   "metadata": {},
   "outputs": [
    {
     "data": {
      "text/plain": [
       "{'name': 'start_music',\n",
       " 'description': 'Play some music matching the specified parameters.',\n",
       " 'input_schema': {'type': 'object',\n",
       "  'properties': {'energetic': {'type': 'boolean',\n",
       "    'description': 'Whether the music is energetic or not.'},\n",
       "   'loud': {'type': 'boolean',\n",
       "    'description': 'Whether the music is loud or not.'},\n",
       "   'bpm': {'type': 'number',\n",
       "    'description': 'The beats per minute of the music.',\n",
       "    'enum': [60, 180]}},\n",
       "  'required': ['energetic', 'loud', 'bpm']}}"
      ]
     },
     "execution_count": 21,
     "metadata": {},
     "output_type": "execute_result"
    }
   ],
   "source": [
    "# You can see the formatted tool config as follows\n",
    "claude_tool_configs[1].format()"
   ]
  },
  {
   "cell_type": "code",
   "execution_count": 22,
   "metadata": {},
   "outputs": [],
   "source": [
    "claude = Claude(\n",
    "    model_name=\"claude-3-5-sonnet-20240620\",\n",
    "    api_key_env_name=\"ANTHROPIC_API_KEY\",\n",
    "    tools=[power_disco_ball, start_music, dim_lights],\n",
    "    tool_configs=claude_tool_configs,\n",
    ")"
   ]
  },
  {
   "cell_type": "code",
   "execution_count": 23,
   "metadata": {},
   "outputs": [
    {
     "data": {
      "text/plain": [
       "{'message': {'role': 'assistant',\n",
       "  'content': [{'text': \"Great! The party atmosphere is now set up:\\n\\n1. The lights have been dimmed to 30% brightness, creating a perfect party ambiance.\\n2. Energetic and loud music is playing at 180 beats per minute, which is great for dancing and keeping the energy high.\\n3. The disco ball is now spinning, adding that classic party vibe with its sparkling lights.\\n\\nIs there anything else you'd like to adjust for your party? Perhaps you want to change the music tempo, adjust the lighting, or turn off the disco ball at any point? Feel free to ask, and I'll be happy to help you fine-tune the party atmosphere!\"}],\n",
       "  'name': None},\n",
       " 'usage': {'model_name': 'claude-3-5-sonnet-20240620',\n",
       "  'prompt_tokens': 976,\n",
       "  'completion_tokens': 145},\n",
       " 'prompt': [{'role': 'user',\n",
       "   'content': [{'text': 'Turn this place into a party!', 'type': 'text'}]},\n",
       "  {'role': 'assistant',\n",
       "   'content': [{'text': \"Certainly! I'd be happy to help turn this place into a party using the available tools. To create a party atmosphere, we'll need to use a combination of lighting, music, and some special effects. Let's set this up step by step:\\n\\n1. First, let's dim the lights to create a party ambiance:\\n2. Then, we'll start some energetic music.\\n3. Finally, we'll power up the disco ball for that classic party effect.\\n\\nHere's how we'll do it:\",\n",
       "     'type': 'text'},\n",
       "    {'id': 'toolu_017AUNMr2kXxxn3pQX7tgWpe',\n",
       "     'type': 'tool_use',\n",
       "     'input': {'brightness': 0.3},\n",
       "     'name': 'dim_lights'},\n",
       "    {'id': 'toolu_01T1fUFT8iyE9nizESbtTUiD',\n",
       "     'type': 'tool_use',\n",
       "     'input': {'energetic': True, 'loud': True, 'bpm': 180},\n",
       "     'name': 'start_music'},\n",
       "    {'id': 'toolu_01MY7DsGVnEeCvmY4MBxptgr',\n",
       "     'type': 'tool_use',\n",
       "     'input': {'power': True},\n",
       "     'name': 'power_disco_ball'}]},\n",
       "  {'role': 'user',\n",
       "   'content': [{'tool_use_id': 'toolu_017AUNMr2kXxxn3pQX7tgWpe',\n",
       "     'type': 'tool_result',\n",
       "     'content': 'Lights are now set to 0.3'},\n",
       "    {'tool_use_id': 'toolu_01T1fUFT8iyE9nizESbtTUiD',\n",
       "     'type': 'tool_result',\n",
       "     'content': 'Starting music! energetic=True loud=True, bpm=180'},\n",
       "    {'tool_use_id': 'toolu_01MY7DsGVnEeCvmY4MBxptgr',\n",
       "     'type': 'tool_result',\n",
       "     'content': 'Disco ball is spinning!'}]}]}"
      ]
     },
     "execution_count": 23,
     "metadata": {},
     "output_type": "execute_result"
    }
   ],
   "source": [
    "prompt = \"Turn this place into a party!\"\n",
    "\n",
    "response = claude.run(prompt=prompt)\n",
    "\n",
    "response.model_dump()"
   ]
  },
  {
   "cell_type": "markdown",
   "metadata": {},
   "source": [
    "# Multi-turn conversation with tools"
   ]
  },
  {
   "cell_type": "code",
   "execution_count": 10,
   "metadata": {},
   "outputs": [],
   "source": [
    "from langrila import InMemoryConversationMemory, JSONConversationMemory\n",
    "\n",
    "chatgpt = ChatGPT(\n",
    "    api_key_env_name=\"API_KEY\",\n",
    "    model_name=\"gpt-4o-mini-2024-07-18\",\n",
    "    tools=[power_disco_ball, start_music, dim_lights],\n",
    "    tool_configs=chatgpt_tool_configs,\n",
    "    conversation_memory=InMemoryConversationMemory(),\n",
    "    # conversation_memory=JSONConversationMemory(\"./test.json\"), # for serialization\n",
    ")"
   ]
  },
  {
   "cell_type": "code",
   "execution_count": 11,
   "metadata": {},
   "outputs": [
    {
     "data": {
      "text/plain": [
       "{'message': {'role': 'assistant',\n",
       "  'content': [{'text': 'The party mood is on! 🎉 The disco ball is spinning, energetic music is blasting at 180 BPM, and the lights are dimmed to create the perfect atmosphere. Let’s get this celebration started! 🕺💃'}],\n",
       "  'name': None},\n",
       " 'usage': {'model_name': 'gpt-4o-mini-2024-07-18',\n",
       "  'prompt_tokens': 131,\n",
       "  'completion_tokens': 47},\n",
       " 'prompt': [{'role': 'user',\n",
       "   'content': [{'type': 'text', 'text': 'Turn this place into a party mood!'}],\n",
       "   'name': None},\n",
       "  {'content': None,\n",
       "   'role': 'assistant',\n",
       "   'function_call': None,\n",
       "   'tool_calls': [{'id': 'call_NzLfAfO4lc3ahZB0WpSbTDfn',\n",
       "     'function': {'arguments': '{\"power\": true}', 'name': 'power_disco_ball'},\n",
       "     'type': 'function'},\n",
       "    {'id': 'call_WZU4bJNMrDLuipC0JHfc0kuc',\n",
       "     'function': {'arguments': '{\"energetic\": true, \"loud\": true, \"bpm\": 180}',\n",
       "      'name': 'start_music'},\n",
       "     'type': 'function'},\n",
       "    {'id': 'call_wemWgQwhm8JwqQvS9xV3b5NT',\n",
       "     'function': {'arguments': '{\"brightness\": 0.5}', 'name': 'dim_lights'},\n",
       "     'type': 'function'}]},\n",
       "  {'role': 'tool',\n",
       "   'tool_call_id': 'call_NzLfAfO4lc3ahZB0WpSbTDfn',\n",
       "   'name': 'power_disco_ball',\n",
       "   'content': 'Disco ball is spinning!'},\n",
       "  {'role': 'tool',\n",
       "   'tool_call_id': 'call_WZU4bJNMrDLuipC0JHfc0kuc',\n",
       "   'name': 'start_music',\n",
       "   'content': 'Starting music! energetic=True loud=True, bpm=180'},\n",
       "  {'role': 'tool',\n",
       "   'tool_call_id': 'call_wemWgQwhm8JwqQvS9xV3b5NT',\n",
       "   'name': 'dim_lights',\n",
       "   'content': 'Lights are now set to 0.5'}]}"
      ]
     },
     "execution_count": 11,
     "metadata": {},
     "output_type": "execute_result"
    }
   ],
   "source": [
    "prompt = \"Turn this place into a party mood!\"\n",
    "\n",
    "response = chatgpt.run(prompt)\n",
    "\n",
    "# Show result\n",
    "response.model_dump()"
   ]
  },
  {
   "cell_type": "markdown",
   "metadata": {},
   "source": [
    "Next turn"
   ]
  },
  {
   "cell_type": "code",
   "execution_count": 12,
   "metadata": {},
   "outputs": [
    {
     "data": {
      "text/plain": [
       "{'message': {'role': 'assistant',\n",
       "  'content': [{'text': 'The music BPM has been cranked up to 240! 🎶 Get ready to dance even harder! Let the party vibes flow! 🕺💥'}],\n",
       "  'name': None},\n",
       " 'usage': {'model_name': 'gpt-4o-mini-2024-07-18',\n",
       "  'prompt_tokens': 238,\n",
       "  'completion_tokens': 32},\n",
       " 'prompt': [{'role': 'user',\n",
       "   'content': [{'type': 'text', 'text': 'Turn this place into a party mood!'}],\n",
       "   'name': None},\n",
       "  {'content': None,\n",
       "   'role': 'assistant',\n",
       "   'function_call': None,\n",
       "   'tool_calls': [{'id': 'call_NzLfAfO4lc3ahZB0WpSbTDfn',\n",
       "     'function': {'arguments': '{\"power\": true}', 'name': 'power_disco_ball'},\n",
       "     'type': 'function'},\n",
       "    {'id': 'call_WZU4bJNMrDLuipC0JHfc0kuc',\n",
       "     'function': {'arguments': '{\"energetic\": true, \"loud\": true, \"bpm\": 180}',\n",
       "      'name': 'start_music'},\n",
       "     'type': 'function'},\n",
       "    {'id': 'call_wemWgQwhm8JwqQvS9xV3b5NT',\n",
       "     'function': {'arguments': '{\"brightness\": 0.5}', 'name': 'dim_lights'},\n",
       "     'type': 'function'}]},\n",
       "  {'role': 'tool',\n",
       "   'tool_call_id': 'call_NzLfAfO4lc3ahZB0WpSbTDfn',\n",
       "   'name': 'power_disco_ball',\n",
       "   'content': 'Disco ball is spinning!'},\n",
       "  {'role': 'tool',\n",
       "   'tool_call_id': 'call_WZU4bJNMrDLuipC0JHfc0kuc',\n",
       "   'name': 'start_music',\n",
       "   'content': 'Starting music! energetic=True loud=True, bpm=180'},\n",
       "  {'role': 'tool',\n",
       "   'tool_call_id': 'call_wemWgQwhm8JwqQvS9xV3b5NT',\n",
       "   'name': 'dim_lights',\n",
       "   'content': 'Lights are now set to 0.5'},\n",
       "  {'role': 'assistant',\n",
       "   'content': [{'type': 'text',\n",
       "     'text': 'The party mood is on! 🎉 The disco ball is spinning, energetic music is blasting at 180 BPM, and the lights are dimmed to create the perfect atmosphere. Let’s get this celebration started! 🕺💃'}],\n",
       "   'name': None},\n",
       "  {'role': 'user',\n",
       "   'content': [{'type': 'text', 'text': 'Can you make bpm up more?'}],\n",
       "   'name': None},\n",
       "  {'content': None,\n",
       "   'role': 'assistant',\n",
       "   'function_call': None,\n",
       "   'tool_calls': [{'id': 'call_edScG8vHQA5VMhgYTRSso5iS',\n",
       "     'function': {'arguments': '{\"energetic\":true,\"loud\":true,\"bpm\":240}',\n",
       "      'name': 'start_music'},\n",
       "     'type': 'function'}]},\n",
       "  {'role': 'tool',\n",
       "   'tool_call_id': 'call_edScG8vHQA5VMhgYTRSso5iS',\n",
       "   'name': 'start_music',\n",
       "   'content': 'Starting music! energetic=True loud=True, bpm=240'}]}"
      ]
     },
     "execution_count": 12,
     "metadata": {},
     "output_type": "execute_result"
    }
   ],
   "source": [
    "prompt = \"Can you make bpm up more?\"\n",
    "\n",
    "response = chatgpt.run(prompt=prompt)\n",
    "\n",
    "response.model_dump()"
   ]
  },
  {
   "cell_type": "markdown",
   "metadata": {},
   "source": [
    "## Multi-turn conversation using tools with multiple model"
   ]
  },
  {
   "cell_type": "code",
   "execution_count": 15,
   "metadata": {},
   "outputs": [],
   "source": [
    "from langrila import InMemoryConversationMemory\n",
    "\n",
    "shared_memory = InMemoryConversationMemory()\n",
    "\n",
    "chatgpt = ChatGPT(\n",
    "    api_key_env_name=\"API_KEY\",\n",
    "    model_name=\"gpt-4o-mini-2024-07-18\",\n",
    "    tools=[power_disco_ball, start_music, dim_lights],\n",
    "    tool_configs=chatgpt_tool_configs,\n",
    "    conversation_memory=shared_memory,\n",
    ")\n",
    "\n",
    "gemini = Gemini(\n",
    "    api_key_env_name=\"GEMINI_API_KEY\",\n",
    "    model_name=\"gemini-1.5-pro\",\n",
    "    tools=[power_disco_ball, start_music, dim_lights],\n",
    "    tool_configs=gemini_tool_configs,\n",
    "    conversation_memory=shared_memory,\n",
    ")"
   ]
  },
  {
   "cell_type": "code",
   "execution_count": 16,
   "metadata": {},
   "outputs": [],
   "source": [
    "prompt = \"Turn this place into a party mood!\"\n",
    "\n",
    "response = chatgpt.run(prompt)"
   ]
  },
  {
   "cell_type": "code",
   "execution_count": 17,
   "metadata": {},
   "outputs": [
    {
     "data": {
      "text/plain": [
       "{'message': {'role': 'assistant',\n",
       "  'content': [{'text': 'The party mood is on! 🎉 The disco ball is spinning, energetic music is blasting at 180 BPM, and the lights are dimmed to create the perfect atmosphere. Let’s get this celebration started! 🕺💃'}],\n",
       "  'name': None},\n",
       " 'usage': {'model_name': 'gpt-4o-mini-2024-07-18',\n",
       "  'prompt_tokens': 131,\n",
       "  'completion_tokens': 47},\n",
       " 'prompt': [{'role': 'user',\n",
       "   'content': [{'type': 'text', 'text': 'Turn this place into a party mood!'}],\n",
       "   'name': None},\n",
       "  {'content': None,\n",
       "   'role': 'assistant',\n",
       "   'function_call': None,\n",
       "   'tool_calls': [{'id': 'call_hexZONJYJpbDkqPYKTDnoYwp',\n",
       "     'function': {'arguments': '{\"power\": true}', 'name': 'power_disco_ball'},\n",
       "     'type': 'function'},\n",
       "    {'id': 'call_tFRoJUAmIWyVacSfWFSFEGpN',\n",
       "     'function': {'arguments': '{\"energetic\": true, \"loud\": true, \"bpm\": 180}',\n",
       "      'name': 'start_music'},\n",
       "     'type': 'function'},\n",
       "    {'id': 'call_NqcdKre7cUhYOZtOnJ0Fa26J',\n",
       "     'function': {'arguments': '{\"brightness\": 0.5}', 'name': 'dim_lights'},\n",
       "     'type': 'function'}]},\n",
       "  {'role': 'tool',\n",
       "   'tool_call_id': 'call_hexZONJYJpbDkqPYKTDnoYwp',\n",
       "   'name': 'power_disco_ball',\n",
       "   'content': 'Disco ball is spinning!'},\n",
       "  {'role': 'tool',\n",
       "   'tool_call_id': 'call_tFRoJUAmIWyVacSfWFSFEGpN',\n",
       "   'name': 'start_music',\n",
       "   'content': 'Starting music! energetic=True loud=True, bpm=180'},\n",
       "  {'role': 'tool',\n",
       "   'tool_call_id': 'call_NqcdKre7cUhYOZtOnJ0Fa26J',\n",
       "   'name': 'dim_lights',\n",
       "   'content': 'Lights are now set to 0.5'}]}"
      ]
     },
     "execution_count": 17,
     "metadata": {},
     "output_type": "execute_result"
    }
   ],
   "source": [
    "response.model_dump()"
   ]
  },
  {
   "cell_type": "markdown",
   "metadata": {},
   "source": [
    "Gemini can continue conversation without any additional process."
   ]
  },
  {
   "cell_type": "code",
   "execution_count": 18,
   "metadata": {},
   "outputs": [
    {
     "data": {
      "text/plain": [
       "{'message': {'role': 'assistant',\n",
       "  'content': [{'text': \"The music is pumping even faster now!  We're at a solid 240 BPM, getting everyone energized. Time to really get moving! ⚡️ 🎶 \\n\"}],\n",
       "  'name': None},\n",
       " 'usage': {'model_name': 'gemini-1.5-pro',\n",
       "  'prompt_tokens': 257,\n",
       "  'completion_tokens': 35},\n",
       " 'prompt': [parts {\n",
       "    text: \"Turn this place into a party mood!\"\n",
       "  }\n",
       "  role: \"user\",\n",
       "  parts {\n",
       "    function_call {\n",
       "      name: \"power_disco_ball\"\n",
       "      args {\n",
       "        fields {\n",
       "          key: \"power\"\n",
       "          value {\n",
       "            bool_value: true\n",
       "          }\n",
       "        }\n",
       "      }\n",
       "    }\n",
       "  }\n",
       "  parts {\n",
       "    function_call {\n",
       "      name: \"start_music\"\n",
       "      args {\n",
       "        fields {\n",
       "          key: \"loud\"\n",
       "          value {\n",
       "            bool_value: true\n",
       "          }\n",
       "        }\n",
       "        fields {\n",
       "          key: \"energetic\"\n",
       "          value {\n",
       "            bool_value: true\n",
       "          }\n",
       "        }\n",
       "        fields {\n",
       "          key: \"bpm\"\n",
       "          value {\n",
       "            number_value: 180\n",
       "          }\n",
       "        }\n",
       "      }\n",
       "    }\n",
       "  }\n",
       "  parts {\n",
       "    function_call {\n",
       "      name: \"dim_lights\"\n",
       "      args {\n",
       "        fields {\n",
       "          key: \"brightness\"\n",
       "          value {\n",
       "            number_value: 0.5\n",
       "          }\n",
       "        }\n",
       "      }\n",
       "    }\n",
       "  }\n",
       "  role: \"model\",\n",
       "  parts {\n",
       "    function_response {\n",
       "      name: \"power_disco_ball\"\n",
       "      response {\n",
       "        fields {\n",
       "          key: \"content\"\n",
       "          value {\n",
       "            string_value: \"Disco ball is spinning!\"\n",
       "          }\n",
       "        }\n",
       "      }\n",
       "    }\n",
       "  }\n",
       "  role: \"function\",\n",
       "  parts {\n",
       "    function_response {\n",
       "      name: \"start_music\"\n",
       "      response {\n",
       "        fields {\n",
       "          key: \"content\"\n",
       "          value {\n",
       "            string_value: \"Starting music! energetic=True loud=True, bpm=180\"\n",
       "          }\n",
       "        }\n",
       "      }\n",
       "    }\n",
       "  }\n",
       "  role: \"function\",\n",
       "  parts {\n",
       "    function_response {\n",
       "      name: \"dim_lights\"\n",
       "      response {\n",
       "        fields {\n",
       "          key: \"content\"\n",
       "          value {\n",
       "            string_value: \"Lights are now set to 0.5\"\n",
       "          }\n",
       "        }\n",
       "      }\n",
       "    }\n",
       "  }\n",
       "  role: \"function\",\n",
       "  parts {\n",
       "    text: \"The party mood is on! 🎉 The disco ball is spinning, energetic music is blasting at 180 BPM, and the lights are dimmed to create the perfect atmosphere. Let’s get this celebration started! 🕺💃\"\n",
       "  }\n",
       "  role: \"model\",\n",
       "  parts {\n",
       "    text: \"Can you make bpm up more?\"\n",
       "  }\n",
       "  role: \"user\",\n",
       "  parts {\n",
       "    function_call {\n",
       "      name: \"start_music\"\n",
       "      args {\n",
       "        fields {\n",
       "          key: \"loud\"\n",
       "          value {\n",
       "            bool_value: true\n",
       "          }\n",
       "        }\n",
       "        fields {\n",
       "          key: \"energetic\"\n",
       "          value {\n",
       "            bool_value: true\n",
       "          }\n",
       "        }\n",
       "        fields {\n",
       "          key: \"bpm\"\n",
       "          value {\n",
       "            string_value: \"240\"\n",
       "          }\n",
       "        }\n",
       "      }\n",
       "    }\n",
       "  }\n",
       "  role: \"model\",\n",
       "  parts {\n",
       "    function_response {\n",
       "      name: \"start_music\"\n",
       "      response {\n",
       "        fields {\n",
       "          key: \"content\"\n",
       "          value {\n",
       "            string_value: \"Starting music! energetic=True loud=True, bpm=\\'240\\'\"\n",
       "          }\n",
       "        }\n",
       "      }\n",
       "    }\n",
       "  }\n",
       "  role: \"user\"]}"
      ]
     },
     "execution_count": 18,
     "metadata": {},
     "output_type": "execute_result"
    }
   ],
   "source": [
    "prompt = \"Can you make bpm up more?\"\n",
    "\n",
    "response = gemini.run(prompt=prompt)\n",
    "\n",
    "response.model_dump()"
   ]
  },
  {
   "cell_type": "markdown",
   "metadata": {},
   "source": [
    "Gemini also works as well."
   ]
  },
  {
   "cell_type": "markdown",
   "metadata": {},
   "source": [
    "NOTE : Claude may not work in multi-turn conversation using tools. Bug fix is in progress."
   ]
  },
  {
   "cell_type": "markdown",
   "metadata": {},
   "source": [
    "# Multi-turn conversation with tools and context truncation"
   ]
  },
  {
   "cell_type": "markdown",
   "metadata": {},
   "source": [
    "Although context truncation doesn't work accurately if we use tools, but truncation is useful for token management to some extent."
   ]
  },
  {
   "cell_type": "code",
   "execution_count": 25,
   "metadata": {},
   "outputs": [],
   "source": [
    "from langrila import InMemoryConversationMemory\n",
    "\n",
    "chatgpt = ChatGPT(\n",
    "    api_key_env_name=\"API_KEY\",\n",
    "    model_name=\"gpt-4o-mini-2024-07-18\",\n",
    "    tools=[power_disco_ball, start_music, dim_lights],\n",
    "    tool_configs=chatgpt_tool_configs,\n",
    "    conversation_memory=InMemoryConversationMemory(),\n",
    "    context_length=50,\n",
    ")"
   ]
  },
  {
   "cell_type": "code",
   "execution_count": 26,
   "metadata": {},
   "outputs": [],
   "source": [
    "prompt = \"Turn this place into a party mood!\"\n",
    "\n",
    "response = chatgpt.run(prompt, tool_choice=\"auto\")"
   ]
  },
  {
   "cell_type": "code",
   "execution_count": 27,
   "metadata": {},
   "outputs": [
    {
     "name": "stdout",
     "output_type": "stream",
     "text": [
      "Input message is truncated because total length of messages exceeds context length.\n",
      "Input message is truncated because total length of messages exceeds context length.\n"
     ]
    }
   ],
   "source": [
    "prompt = \"Can you make bpm up more?\"\n",
    "\n",
    "response = chatgpt.run(prompt=prompt, tool_choice=\"auto\")"
   ]
  },
  {
   "cell_type": "markdown",
   "metadata": {},
   "source": [
    "User message and assistant message are target of truncation while tool call message and tool result message is not."
   ]
  },
  {
   "cell_type": "code",
   "execution_count": 30,
   "metadata": {},
   "outputs": [
    {
     "name": "stdout",
     "output_type": "stream",
     "text": [
      "The music BPM has been increased to 240! Get ready to dance even harder! 🎶💥\n"
     ]
    }
   ],
   "source": [
    "print(response.message.content[0].text)"
   ]
  },
  {
   "cell_type": "code",
   "execution_count": 31,
   "metadata": {},
   "outputs": [
    {
     "data": {
      "text/plain": [
       "Usage(prompt_tokens=208, completion_tokens=21, total_tokens=229)"
      ]
     },
     "execution_count": 31,
     "metadata": {},
     "output_type": "execute_result"
    }
   ],
   "source": [
    "response.usage"
   ]
  },
  {
   "cell_type": "code",
   "execution_count": 28,
   "metadata": {},
   "outputs": [
    {
     "data": {
      "text/plain": [
       "[{'content': None,\n",
       "  'role': 'assistant',\n",
       "  'function_call': None,\n",
       "  'tool_calls': [{'id': 'call_4YGGp1QGzQeTV9uIyWukUlvB',\n",
       "    'function': {'arguments': '{\"power\": true}', 'name': 'power_disco_ball'},\n",
       "    'type': 'function'},\n",
       "   {'id': 'call_oAbGUbgCnNOZYFW5dxwLYfqR',\n",
       "    'function': {'arguments': '{\"energetic\": true, \"loud\": true, \"bpm\": 180}',\n",
       "     'name': 'start_music'},\n",
       "    'type': 'function'},\n",
       "   {'id': 'call_2eLJhoAbRR0o7lq8T9QVUBdS',\n",
       "    'function': {'arguments': '{\"brightness\": 0.5}', 'name': 'dim_lights'},\n",
       "    'type': 'function'}]},\n",
       " {'role': 'tool',\n",
       "  'tool_call_id': 'call_4YGGp1QGzQeTV9uIyWukUlvB',\n",
       "  'name': 'power_disco_ball',\n",
       "  'content': 'Disco ball is spinning!'},\n",
       " {'role': 'tool',\n",
       "  'tool_call_id': 'call_oAbGUbgCnNOZYFW5dxwLYfqR',\n",
       "  'name': 'start_music',\n",
       "  'content': 'Starting music! energetic=True loud=True, bpm=180'},\n",
       " {'role': 'tool',\n",
       "  'tool_call_id': 'call_2eLJhoAbRR0o7lq8T9QVUBdS',\n",
       "  'name': 'dim_lights',\n",
       "  'content': 'Lights are now set to 0.5'},\n",
       " {'role': 'assistant',\n",
       "  'name': None,\n",
       "  'content': [{'type': 'text',\n",
       "    'text': ' at 180 BPM, and the lights are dimmed to create the perfect atmosphere. Let’s get this celebration started! 🕺💃'}]},\n",
       " {'role': 'user',\n",
       "  'content': [{'type': 'text', 'text': 'Can you make bpm up more?'}],\n",
       "  'name': None},\n",
       " {'content': None,\n",
       "  'role': 'assistant',\n",
       "  'function_call': None,\n",
       "  'tool_calls': [{'id': 'call_1fvESfi1EcmlwUULXcACUiz8',\n",
       "    'function': {'arguments': '{\"energetic\":true,\"loud\":true,\"bpm\":240}',\n",
       "     'name': 'start_music'},\n",
       "    'type': 'function'}]},\n",
       " {'role': 'tool',\n",
       "  'tool_call_id': 'call_1fvESfi1EcmlwUULXcACUiz8',\n",
       "  'name': 'start_music',\n",
       "  'content': 'Starting music! energetic=True loud=True, bpm=240'}]"
      ]
     },
     "execution_count": 28,
     "metadata": {},
     "output_type": "execute_result"
    }
   ],
   "source": [
    "response.prompt"
   ]
  },
  {
   "cell_type": "code",
   "execution_count": 29,
   "metadata": {},
   "outputs": [
    {
     "data": {
      "text/plain": [
       "[{'role': 'user',\n",
       "  'content': [{'text': 'Turn this place into a party mood!'}],\n",
       "  'name': None},\n",
       " {'role': 'function_call',\n",
       "  'content': [{'name': 'power_disco_ball',\n",
       "    'args': '{\"power\": true}',\n",
       "    'call_id': 'call_4YGGp1QGzQeTV9uIyWukUlvB'},\n",
       "   {'name': 'start_music',\n",
       "    'args': '{\"energetic\": true, \"loud\": true, \"bpm\": 180}',\n",
       "    'call_id': 'call_oAbGUbgCnNOZYFW5dxwLYfqR'},\n",
       "   {'name': 'dim_lights',\n",
       "    'args': '{\"brightness\": 0.5}',\n",
       "    'call_id': 'call_2eLJhoAbRR0o7lq8T9QVUBdS'}],\n",
       "  'name': None},\n",
       " {'role': 'function',\n",
       "  'content': [{'output': 'Disco ball is spinning!',\n",
       "    'call_id': 'call_4YGGp1QGzQeTV9uIyWukUlvB',\n",
       "    'args': '{\"power\": true}',\n",
       "    'funcname': 'power_disco_ball'}],\n",
       "  'name': None},\n",
       " {'role': 'function',\n",
       "  'content': [{'output': 'Starting music! energetic=True loud=True, bpm=180',\n",
       "    'call_id': 'call_oAbGUbgCnNOZYFW5dxwLYfqR',\n",
       "    'args': '{\"energetic\": true, \"loud\": true, \"bpm\": 180}',\n",
       "    'funcname': 'start_music'}],\n",
       "  'name': None},\n",
       " {'role': 'function',\n",
       "  'content': [{'output': 'Lights are now set to 0.5',\n",
       "    'call_id': 'call_2eLJhoAbRR0o7lq8T9QVUBdS',\n",
       "    'args': '{\"brightness\": 0.5}',\n",
       "    'funcname': 'dim_lights'}],\n",
       "  'name': None},\n",
       " {'role': 'assistant',\n",
       "  'content': [{'text': 'The party mood is on! 🎉 The disco ball is spinning, energetic music is blasting at 180 BPM, and the lights are dimmed to create the perfect atmosphere. Let’s get this celebration started! 🕺💃'}],\n",
       "  'name': None},\n",
       " {'role': 'user',\n",
       "  'content': [{'text': 'Can you make bpm up more?'}],\n",
       "  'name': None},\n",
       " {'role': 'function_call',\n",
       "  'content': [{'name': 'start_music',\n",
       "    'args': '{\"energetic\":true,\"loud\":true,\"bpm\":240}',\n",
       "    'call_id': 'call_1fvESfi1EcmlwUULXcACUiz8'}],\n",
       "  'name': None},\n",
       " {'role': 'function',\n",
       "  'content': [{'output': 'Starting music! energetic=True loud=True, bpm=240',\n",
       "    'call_id': 'call_1fvESfi1EcmlwUULXcACUiz8',\n",
       "    'args': '{\"energetic\":true,\"loud\":true,\"bpm\":240}',\n",
       "    'funcname': 'start_music'}],\n",
       "  'name': None},\n",
       " {'role': 'assistant',\n",
       "  'content': [{'text': 'The music BPM has been increased to 240! Get ready to dance even harder! 🎶💥'}],\n",
       "  'name': None}]"
      ]
     },
     "execution_count": 29,
     "metadata": {},
     "output_type": "execute_result"
    }
   ],
   "source": [
    "# whole history\n",
    "chatgpt.conversation_memory.load()"
   ]
  },
  {
   "cell_type": "code",
   "execution_count": null,
   "metadata": {},
   "outputs": [],
   "source": []
  },
  {
   "cell_type": "code",
   "execution_count": null,
   "metadata": {},
   "outputs": [],
   "source": []
  },
  {
   "cell_type": "code",
   "execution_count": null,
   "metadata": {},
   "outputs": [],
   "source": []
  }
 ],
 "metadata": {
  "kernelspec": {
   "display_name": ".venv",
   "language": "python",
   "name": "python3"
  },
  "language_info": {
   "codemirror_mode": {
    "name": "ipython",
    "version": 3
   },
   "file_extension": ".py",
   "mimetype": "text/x-python",
   "name": "python",
   "nbconvert_exporter": "python",
   "pygments_lexer": "ipython3",
   "version": "3.10.12"
  }
 },
 "nbformat": 4,
 "nbformat_minor": 4
}
