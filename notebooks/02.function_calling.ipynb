{
 "cells": [
  {
   "cell_type": "code",
   "execution_count": 1,
   "metadata": {},
   "outputs": [],
   "source": [
    "import os\n",
    "import warnings\n",
    "\n",
    "warnings.simplefilter(action=\"ignore\")\n",
    "os.environ[\"GRPC_VERBOSITY\"] = \"NONE\""
   ]
  },
  {
   "cell_type": "markdown",
   "metadata": {},
   "source": [
    "# Prerequisites"
   ]
  },
  {
   "cell_type": "markdown",
   "metadata": {},
   "source": [
    "Please make sure your environmental variables and dependencies are ready to use LLM services."
   ]
  },
  {
   "cell_type": "code",
   "execution_count": 2,
   "metadata": {},
   "outputs": [
    {
     "data": {
      "text/plain": [
       "True"
      ]
     },
     "execution_count": 2,
     "metadata": {},
     "output_type": "execute_result"
    }
   ],
   "source": [
    "from dotenv import load_dotenv\n",
    "\n",
    "load_dotenv(\"../../.env_api\")"
   ]
  },
  {
   "cell_type": "markdown",
   "metadata": {},
   "source": [
    "# How to input langrila's modules"
   ]
  },
  {
   "cell_type": "markdown",
   "metadata": {},
   "source": [
    "In langrila, universal message system allows you to handle each client message in a same way."
   ]
  },
  {
   "cell_type": "markdown",
   "metadata": {},
   "source": [
    "# Import modules"
   ]
  },
  {
   "cell_type": "code",
   "execution_count": 3,
   "metadata": {},
   "outputs": [],
   "source": [
    "from langrila import (\n",
    "    InMemoryConversationMemory,\n",
    "    ToolConfig,\n",
    "    ToolParameter,\n",
    "    ToolProperty,\n",
    ")\n",
    "from langrila.claude import ClaudeFunctionalChat\n",
    "from langrila.gemini import GeminiFunctionalChat\n",
    "from langrila.openai import OpenAIFunctionalChat"
   ]
  },
  {
   "cell_type": "markdown",
   "metadata": {},
   "source": [
    "# Define tools"
   ]
  },
  {
   "cell_type": "markdown",
   "metadata": {},
   "source": [
    "In this example, we can use these tools."
   ]
  },
  {
   "cell_type": "code",
   "execution_count": 4,
   "metadata": {},
   "outputs": [],
   "source": [
    "def power_disco_ball(power: bool) -> bool:\n",
    "    \"\"\"Powers the spinning disco ball.\"\"\"\n",
    "    return f\"Disco ball is {'spinning!' if power else 'stopped.'}\"\n",
    "\n",
    "\n",
    "def start_music(energetic: bool, loud: bool, bpm: str) -> str:\n",
    "    \"\"\"Play some music matching the specified parameters.\n",
    "\n",
    "    Args:\n",
    "      energetic: Whether the music is energetic or not.\n",
    "      loud: Whether the music is loud or not.\n",
    "      bpm: The beats per minute of the music.\n",
    "\n",
    "    Returns: The music property.\n",
    "    \"\"\"\n",
    "    return f\"Starting music! {energetic=} {loud=}, {bpm=}\"\n",
    "\n",
    "\n",
    "def dim_lights(brightness: float) -> bool:\n",
    "    \"\"\"Dim the lights.\n",
    "\n",
    "    Args:\n",
    "      brightness: The brightness of the lights, 0.0 is off, 1.0 is full.\n",
    "    \"\"\"\n",
    "    return f\"Lights are now set to {brightness}\""
   ]
  },
  {
   "cell_type": "markdown",
   "metadata": {},
   "source": [
    "# Tool definition"
   ]
  },
  {
   "cell_type": "markdown",
   "metadata": {},
   "source": [
    "In langrila, you can define tool configs via ToolProperty, ToolParameter and ToolConfig object."
   ]
  },
  {
   "cell_type": "code",
   "execution_count": 5,
   "metadata": {},
   "outputs": [],
   "source": [
    "tool_configs = [\n",
    "    ToolConfig(\n",
    "        name=\"power_disco_ball\",\n",
    "        description=\"Powers the spinning disco ball.\",\n",
    "        parameters=ToolParameter(\n",
    "            properties=[\n",
    "                ToolProperty(\n",
    "                    name=\"power\",\n",
    "                    type=\"boolean\",\n",
    "                    description=\"Boolean to spin disco ball.\",\n",
    "                ),\n",
    "            ],\n",
    "            required=[\"power\"],\n",
    "        ),\n",
    "    ),\n",
    "    ToolConfig(\n",
    "        name=\"start_music\",\n",
    "        description=\"Play some music matching the specified parameters.\",\n",
    "        parameters=ToolParameter(\n",
    "            properties=[\n",
    "                ToolProperty(\n",
    "                    name=\"energetic\",\n",
    "                    type=\"boolean\",\n",
    "                    description=\"Whether the music is energetic or not.\",\n",
    "                ),\n",
    "                ToolProperty(\n",
    "                    name=\"loud\", type=\"boolean\", description=\"Whether the music is loud or not.\"\n",
    "                ),\n",
    "                ToolProperty(\n",
    "                    name=\"bpm\",\n",
    "                    type=\"string\",\n",
    "                    description=\"The beats per minute of the music.\",\n",
    "                    enum=[\"60\", \"120\", \"180\"],  # Gemini doesn't support numerical enum\n",
    "                ),\n",
    "            ],\n",
    "            required=[\"energetic\", \"loud\", \"bpm\"],\n",
    "        ),\n",
    "    ),\n",
    "    ToolConfig(\n",
    "        name=\"dim_lights\",\n",
    "        description=\"Dim the lights.\",\n",
    "        parameters=ToolParameter(\n",
    "            properties=[\n",
    "                ToolProperty(\n",
    "                    name=\"brightness\",\n",
    "                    type=\"number\",\n",
    "                    description=\"The brightness of the lights, 0.0 is off, 1.0 is full.\",\n",
    "                ),\n",
    "            ],\n",
    "            required=[\"brightness\"],\n",
    "        ),\n",
    "    ),\n",
    "]"
   ]
  },
  {
   "cell_type": "code",
   "execution_count": 6,
   "metadata": {},
   "outputs": [],
   "source": [
    "prompt = \"Turn this place into a comfortable party mood!\""
   ]
  },
  {
   "cell_type": "markdown",
   "metadata": {},
   "source": [
    "### OpenAI Chat Completion"
   ]
  },
  {
   "cell_type": "markdown",
   "metadata": {},
   "source": [
    "ToolConfig object is internally converted to client tool configs"
   ]
  },
  {
   "cell_type": "code",
   "execution_count": 7,
   "metadata": {},
   "outputs": [],
   "source": [
    "chat_openai = OpenAIFunctionalChat(api_key_env_name=\"API_KEY\")"
   ]
  },
  {
   "cell_type": "code",
   "execution_count": 8,
   "metadata": {},
   "outputs": [
    {
     "name": "stdout",
     "output_type": "stream",
     "text": [
      "The place is now set for a party mood! The disco ball is spinning, energetic music has started playing at 120 BPM, and the lights are dimmed to create the perfect ambiance. Time to enjoy the party! 🪩🎶💃\n"
     ]
    }
   ],
   "source": [
    "response = chat_openai.run(\n",
    "    prompt,\n",
    "    model_name=\"gpt-4o-2024-08-06\",\n",
    "    tools=[power_disco_ball, start_music, dim_lights],\n",
    "    tool_configs=tool_configs,\n",
    ")\n",
    "\n",
    "# Response is CompletionResults object\n",
    "print(response.message.content[0].text)"
   ]
  },
  {
   "cell_type": "code",
   "execution_count": 9,
   "metadata": {},
   "outputs": [
    {
     "data": {
      "text/plain": [
       "{'message': {'role': 'assistant',\n",
       "  'content': [{'text': 'The place is now set for a party mood! The disco ball is spinning, energetic music has started playing at 120 BPM, and the lights are dimmed to create the perfect ambiance. Time to enjoy the party! \\U0001faa9🎶💃'}],\n",
       "  'name': None},\n",
       " 'usage': {'model_name': 'gpt-4o-2024-08-06',\n",
       "  'prompt_tokens': 305,\n",
       "  'completion_tokens': 126},\n",
       " 'prompt': [{'role': 'user',\n",
       "   'content': [{'type': 'text',\n",
       "     'text': 'Turn this place into a comfortable party mood!'}],\n",
       "   'name': 'User'},\n",
       "  {'content': None,\n",
       "   'refusal': None,\n",
       "   'role': 'assistant',\n",
       "   'audio': None,\n",
       "   'function_call': None,\n",
       "   'tool_calls': [{'id': 'call_QtkgH0uYKKcZ54YeVvtVMFWi',\n",
       "     'function': {'arguments': '{\"power\": true}', 'name': 'power_disco_ball'},\n",
       "     'type': 'function'},\n",
       "    {'id': 'call_3wXldM13FWdA5Eer9X7bGFNP',\n",
       "     'function': {'arguments': '{\"energetic\": true, \"loud\": true, \"bpm\": \"120\"}',\n",
       "      'name': 'start_music'},\n",
       "     'type': 'function'},\n",
       "    {'id': 'call_yXIWw4Bp9SjmK2lzUYYUr2eW',\n",
       "     'function': {'arguments': '{\"brightness\": 0.5}', 'name': 'dim_lights'},\n",
       "     'type': 'function'}]},\n",
       "  {'role': 'tool',\n",
       "   'tool_call_id': 'call_QtkgH0uYKKcZ54YeVvtVMFWi',\n",
       "   'name': 'power_disco_ball',\n",
       "   'content': 'Disco ball is spinning!'},\n",
       "  {'role': 'tool',\n",
       "   'tool_call_id': 'call_3wXldM13FWdA5Eer9X7bGFNP',\n",
       "   'name': 'start_music',\n",
       "   'content': \"Starting music! energetic=True loud=True, bpm='120'\"},\n",
       "  {'role': 'tool',\n",
       "   'tool_call_id': 'call_yXIWw4Bp9SjmK2lzUYYUr2eW',\n",
       "   'name': 'dim_lights',\n",
       "   'content': 'Lights are now set to 0.5'}]}"
      ]
     },
     "execution_count": 9,
     "metadata": {},
     "output_type": "execute_result"
    }
   ],
   "source": [
    "response.model_dump()"
   ]
  },
  {
   "cell_type": "markdown",
   "metadata": {},
   "source": [
    "Or you can also pass tools when initializing."
   ]
  },
  {
   "cell_type": "code",
   "execution_count": 10,
   "metadata": {},
   "outputs": [],
   "source": [
    "chat_openai_tool_only = OpenAIFunctionalChat(\n",
    "    api_key_env_name=\"API_KEY\",\n",
    "    model_name=\"gpt-4o-2024-08-06\",\n",
    "    tools=[power_disco_ball, start_music, dim_lights],\n",
    "    tool_configs=tool_configs,\n",
    ")"
   ]
  },
  {
   "cell_type": "code",
   "execution_count": 11,
   "metadata": {},
   "outputs": [
    {
     "name": "stdout",
     "output_type": "stream",
     "text": [
      "The place is now set for a comfortable party mood! The disco ball is spinning, the music is energetic yet not too loud, and the lights are dimmed to create a cozy atmosphere. Enjoy the party!\n"
     ]
    }
   ],
   "source": [
    "prompt = \"Turn this place into a comfortable party mood!\"\n",
    "response = chat_openai_tool_only.run(prompt)\n",
    "print(response.message.content[0].text)"
   ]
  },
  {
   "cell_type": "markdown",
   "metadata": {},
   "source": [
    "Usage in the response object is total usage of the usage to call tool and the usage to use tool."
   ]
  },
  {
   "cell_type": "code",
   "execution_count": 12,
   "metadata": {},
   "outputs": [
    {
     "data": {
      "text/plain": [
       "Usage(prompt_tokens=305, completion_tokens=117, total_tokens=422)"
      ]
     },
     "execution_count": 12,
     "metadata": {},
     "output_type": "execute_result"
    }
   ],
   "source": [
    "response.usage"
   ]
  },
  {
   "cell_type": "markdown",
   "metadata": {},
   "source": [
    "Asynchronous generation"
   ]
  },
  {
   "cell_type": "code",
   "execution_count": 13,
   "metadata": {},
   "outputs": [
    {
     "data": {
      "text/plain": [
       "CompletionResults(message=Message(role='assistant', content=[TextContent(text='The place is now ready for a party vibe! The disco ball is spinning, lively music is playing at 120 BPM, and the lights are dimmed for the perfect ambiance. Enjoy the party!')], name=None), usage=Usage(prompt_tokens=305, completion_tokens=115, total_tokens=420), prompt=[{'role': 'user', 'content': [{'type': 'text', 'text': 'Turn this place into a comfortable party mood!'}], 'name': 'User'}, {'content': None, 'refusal': None, 'role': 'assistant', 'audio': None, 'function_call': None, 'tool_calls': [{'id': 'call_F6TMj9mmKv4jyBqGQ4hvHca3', 'function': {'arguments': '{\"power\": true}', 'name': 'power_disco_ball'}, 'type': 'function'}, {'id': 'call_W1KTwoH1e8KEcDYYPXGfmEnQ', 'function': {'arguments': '{\"energetic\": true, \"loud\": true, \"bpm\": \"120\"}', 'name': 'start_music'}, 'type': 'function'}, {'id': 'call_gjn4021uitIRl3bfiEAYjwep', 'function': {'arguments': '{\"brightness\": 0.5}', 'name': 'dim_lights'}, 'type': 'function'}]}, {'role': 'tool', 'tool_call_id': 'call_F6TMj9mmKv4jyBqGQ4hvHca3', 'name': 'power_disco_ball', 'content': 'Disco ball is spinning!'}, {'role': 'tool', 'tool_call_id': 'call_W1KTwoH1e8KEcDYYPXGfmEnQ', 'name': 'start_music', 'content': \"Starting music! energetic=True loud=True, bpm='120'\"}, {'role': 'tool', 'tool_call_id': 'call_gjn4021uitIRl3bfiEAYjwep', 'name': 'dim_lights', 'content': 'Lights are now set to 0.5'}], raw=ChatCompletion(id='chatcmpl-AKaSL8t0cH7Zx6yK9WxGk2pwVgYVS', choices=[Choice(finish_reason='stop', index=0, logprobs=None, message=ChatCompletionMessage(content='The place is now ready for a party vibe! The disco ball is spinning, lively music is playing at 120 BPM, and the lights are dimmed for the perfect ambiance. Enjoy the party!', refusal=None, role='assistant', audio=None, function_call=None, tool_calls=None))], created=1729470061, model='gpt-4o-2024-08-06', object='chat.completion', service_tier=None, system_fingerprint='fp_a20a4ee344', usage=CompletionUsage(completion_tokens=40, prompt_tokens=134, total_tokens=174, completion_tokens_details=CompletionTokensDetails(audio_tokens=None, reasoning_tokens=0), prompt_tokens_details=PromptTokensDetails(audio_tokens=None, cached_tokens=0))))"
      ]
     },
     "execution_count": 13,
     "metadata": {},
     "output_type": "execute_result"
    }
   ],
   "source": [
    "response = await chat_openai.arun(\n",
    "    prompt,\n",
    "    model_name=\"gpt-4o-2024-08-06\",\n",
    "    tools=[power_disco_ball, start_music, dim_lights],\n",
    "    tool_configs=tool_configs,\n",
    ")\n",
    "response"
   ]
  },
  {
   "cell_type": "markdown",
   "metadata": {},
   "source": [
    "multiple generation"
   ]
  },
  {
   "cell_type": "code",
   "execution_count": 14,
   "metadata": {},
   "outputs": [
    {
     "data": {
      "text/plain": [
       "{'role': 'assistant',\n",
       " 'content': [{'text': 'The place is now in a comfortable party mood with the disco ball spinning, energizing music playing at 120 BPM, and the lights dimmed to a cozy brightness. Let the party begin!'},\n",
       "  {'text': 'The place is now set for a comfortable party mood. The disco ball is spinning, music with an energetic beat at 120 BPM is playing loudly, and the lights are dimmed to set the perfect ambiance. Enjoy the party!'}],\n",
       " 'name': None}"
      ]
     },
     "execution_count": 14,
     "metadata": {},
     "output_type": "execute_result"
    }
   ],
   "source": [
    "response = chat_openai.run(\n",
    "    prompt,\n",
    "    n_results=2,\n",
    "    model_name=\"gpt-4o-2024-08-06\",\n",
    "    tools=[power_disco_ball, start_music, dim_lights],\n",
    "    tool_configs=tool_configs,\n",
    ")\n",
    "response.message.model_dump()"
   ]
  },
  {
   "cell_type": "markdown",
   "metadata": {},
   "source": [
    "You can get the results from specific tool."
   ]
  },
  {
   "cell_type": "code",
   "execution_count": 15,
   "metadata": {},
   "outputs": [
    {
     "data": {
      "text/plain": [
       "{'message': {'role': 'assistant',\n",
       "  'content': [{'text': \"I've started some energetic and loud music at 120 BPM to get the party mood going! If you need further suggestions, like lighting or decor, just let me know.\"}],\n",
       "  'name': None},\n",
       " 'usage': {'model_name': 'gpt-4o-2024-08-06',\n",
       "  'prompt_tokens': 244,\n",
       "  'completion_tokens': 51},\n",
       " 'prompt': [{'role': 'user',\n",
       "   'content': [{'type': 'text',\n",
       "     'text': 'Turn this place into a comfortable party mood!'}],\n",
       "   'name': 'User'},\n",
       "  {'content': None,\n",
       "   'refusal': None,\n",
       "   'role': 'assistant',\n",
       "   'audio': None,\n",
       "   'function_call': None,\n",
       "   'tool_calls': [{'id': 'call_mbxIp4dNnomrdH2dvBnaINVZ',\n",
       "     'function': {'arguments': '{\"energetic\":true,\"loud\":true,\"bpm\":\"120\"}',\n",
       "      'name': 'start_music'},\n",
       "     'type': 'function'}]},\n",
       "  {'role': 'tool',\n",
       "   'tool_call_id': 'call_mbxIp4dNnomrdH2dvBnaINVZ',\n",
       "   'name': 'start_music',\n",
       "   'content': \"Starting music! energetic=True loud=True, bpm='120'\"}]}"
      ]
     },
     "execution_count": 15,
     "metadata": {},
     "output_type": "execute_result"
    }
   ],
   "source": [
    "response = chat_openai.run(\n",
    "    prompt,\n",
    "    tool_choice=\"start_music\",\n",
    "    model_name=\"gpt-4o-2024-08-06\",\n",
    "    tools=[power_disco_ball, start_music, dim_lights],\n",
    "    tool_configs=tool_configs,\n",
    ")\n",
    "\n",
    "# Show result\n",
    "response.model_dump()"
   ]
  },
  {
   "cell_type": "markdown",
   "metadata": {},
   "source": [
    "If you only want to get the results of the tools, please specify tool_only option as True, then you get the FunctionCallingResults object instead of CompletionResults object."
   ]
  },
  {
   "cell_type": "code",
   "execution_count": 16,
   "metadata": {},
   "outputs": [
    {
     "data": {
      "text/plain": [
       "FunctionCallingResults(usage=Usage(prompt_tokens=171, completion_tokens=75, total_tokens=246), results=[Message(role='function', content=[ToolContent(output='Disco ball is spinning!', call_id='call_MUMKQtoFwIrtcQp9fHiRSuxQ', args='{\"power\": true}', funcname='power_disco_ball')], name='power_disco_ball'), Message(role='function', content=[ToolContent(output=\"Starting music! energetic=True loud=True, bpm='120'\", call_id='call_59fuLF0NOYZmCZxVvlVJILdw', args='{\"energetic\": true, \"loud\": true, \"bpm\": \"120\"}', funcname='start_music')], name='start_music'), Message(role='function', content=[ToolContent(output='Lights are now set to 0.5', call_id='call_NxVPfw9ZqGc60MwVBRHcZGUh', args='{\"brightness\": 0.5}', funcname='dim_lights')], name='dim_lights')], calls=Message(role='function_call', content=[ToolCall(name='power_disco_ball', args='{\"power\": true}', call_id='call_MUMKQtoFwIrtcQp9fHiRSuxQ'), ToolCall(name='start_music', args='{\"energetic\": true, \"loud\": true, \"bpm\": \"120\"}', call_id='call_59fuLF0NOYZmCZxVvlVJILdw'), ToolCall(name='dim_lights', args='{\"brightness\": 0.5}', call_id='call_NxVPfw9ZqGc60MwVBRHcZGUh')], name=None), prompt=[{'role': 'user', 'content': [{'type': 'text', 'text': 'Turn this place into a comfortable party mood!'}], 'name': 'User'}], raw=ChatCompletion(id='chatcmpl-AKaSSY7RRE7fEFBBFwOX3qQco3FFb', choices=[Choice(finish_reason='tool_calls', index=0, logprobs=None, message=ChatCompletionMessage(content=None, refusal=None, role='assistant', audio=None, function_call=None, tool_calls=[ChatCompletionMessageToolCall(id='call_MUMKQtoFwIrtcQp9fHiRSuxQ', function=Function(arguments='{\"power\": true}', name='power_disco_ball'), type='function'), ChatCompletionMessageToolCall(id='call_59fuLF0NOYZmCZxVvlVJILdw', function=Function(arguments='{\"energetic\": true, \"loud\": true, \"bpm\": \"120\"}', name='start_music'), type='function'), ChatCompletionMessageToolCall(id='call_NxVPfw9ZqGc60MwVBRHcZGUh', function=Function(arguments='{\"brightness\": 0.5}', name='dim_lights'), type='function')]))], created=1729470068, model='gpt-4o-2024-08-06', object='chat.completion', service_tier=None, system_fingerprint='fp_a7d06e42a7', usage=CompletionUsage(completion_tokens=75, prompt_tokens=171, total_tokens=246, completion_tokens_details=CompletionTokensDetails(audio_tokens=None, reasoning_tokens=0), prompt_tokens_details=PromptTokensDetails(audio_tokens=None, cached_tokens=0))))"
      ]
     },
     "execution_count": 16,
     "metadata": {},
     "output_type": "execute_result"
    }
   ],
   "source": [
    "response = chat_openai.run(\n",
    "    prompt,\n",
    "    tool_only=True,  # You can also specify in iniitalization\n",
    "    model_name=\"gpt-4o-2024-08-06\",\n",
    "    tools=[power_disco_ball, start_music, dim_lights],\n",
    "    tool_configs=tool_configs,\n",
    ")\n",
    "response"
   ]
  },
  {
   "cell_type": "markdown",
   "metadata": {},
   "source": [
    "FunctionCallingResults instance includes the output of the function."
   ]
  },
  {
   "cell_type": "code",
   "execution_count": 17,
   "metadata": {},
   "outputs": [
    {
     "data": {
      "text/plain": [
       "[Message(role='function', content=[ToolContent(output='Disco ball is spinning!', call_id='call_MUMKQtoFwIrtcQp9fHiRSuxQ', args='{\"power\": true}', funcname='power_disco_ball')], name='power_disco_ball'),\n",
       " Message(role='function', content=[ToolContent(output=\"Starting music! energetic=True loud=True, bpm='120'\", call_id='call_59fuLF0NOYZmCZxVvlVJILdw', args='{\"energetic\": true, \"loud\": true, \"bpm\": \"120\"}', funcname='start_music')], name='start_music'),\n",
       " Message(role='function', content=[ToolContent(output='Lights are now set to 0.5', call_id='call_NxVPfw9ZqGc60MwVBRHcZGUh', args='{\"brightness\": 0.5}', funcname='dim_lights')], name='dim_lights')]"
      ]
     },
     "execution_count": 17,
     "metadata": {},
     "output_type": "execute_result"
    }
   ],
   "source": [
    "response.results"
   ]
  },
  {
   "cell_type": "code",
   "execution_count": 18,
   "metadata": {},
   "outputs": [
    {
     "data": {
      "text/plain": [
       "Message(role='function_call', content=[ToolCall(name='power_disco_ball', args='{\"power\": true}', call_id='call_MUMKQtoFwIrtcQp9fHiRSuxQ'), ToolCall(name='start_music', args='{\"energetic\": true, \"loud\": true, \"bpm\": \"120\"}', call_id='call_59fuLF0NOYZmCZxVvlVJILdw'), ToolCall(name='dim_lights', args='{\"brightness\": 0.5}', call_id='call_NxVPfw9ZqGc60MwVBRHcZGUh')], name=None)"
      ]
     },
     "execution_count": 18,
     "metadata": {},
     "output_type": "execute_result"
    }
   ],
   "source": [
    "# Tool call messages\n",
    "\n",
    "response.calls"
   ]
  },
  {
   "cell_type": "markdown",
   "metadata": {},
   "source": [
    "Streaming"
   ]
  },
  {
   "cell_type": "code",
   "execution_count": 19,
   "metadata": {},
   "outputs": [
    {
     "data": {
      "text/plain": [
       "[CompletionResults(message=Message(role='assistant', content=[TextContent(text='')], name=None), usage=Usage(prompt_tokens=0, completion_tokens=0, total_tokens=0), prompt=[{}], raw=None),\n",
       " CompletionResults(message=Message(role='assistant', content=[TextContent(text='The')], name=None), usage=Usage(prompt_tokens=0, completion_tokens=0, total_tokens=0), prompt=[{}], raw=None),\n",
       " CompletionResults(message=Message(role='assistant', content=[TextContent(text='The place')], name=None), usage=Usage(prompt_tokens=0, completion_tokens=0, total_tokens=0), prompt=[{}], raw=None),\n",
       " CompletionResults(message=Message(role='assistant', content=[TextContent(text='The place is')], name=None), usage=Usage(prompt_tokens=0, completion_tokens=0, total_tokens=0), prompt=[{}], raw=None),\n",
       " CompletionResults(message=Message(role='assistant', content=[TextContent(text='The place is now')], name=None), usage=Usage(prompt_tokens=0, completion_tokens=0, total_tokens=0), prompt=[{}], raw=None),\n",
       " CompletionResults(message=Message(role='assistant', content=[TextContent(text='The place is now in')], name=None), usage=Usage(prompt_tokens=0, completion_tokens=0, total_tokens=0), prompt=[{}], raw=None),\n",
       " CompletionResults(message=Message(role='assistant', content=[TextContent(text='The place is now in a')], name=None), usage=Usage(prompt_tokens=0, completion_tokens=0, total_tokens=0), prompt=[{}], raw=None),\n",
       " CompletionResults(message=Message(role='assistant', content=[TextContent(text='The place is now in a comfortable')], name=None), usage=Usage(prompt_tokens=0, completion_tokens=0, total_tokens=0), prompt=[{}], raw=None),\n",
       " CompletionResults(message=Message(role='assistant', content=[TextContent(text='The place is now in a comfortable party')], name=None), usage=Usage(prompt_tokens=0, completion_tokens=0, total_tokens=0), prompt=[{}], raw=None),\n",
       " CompletionResults(message=Message(role='assistant', content=[TextContent(text='The place is now in a comfortable party mood')], name=None), usage=Usage(prompt_tokens=0, completion_tokens=0, total_tokens=0), prompt=[{}], raw=None),\n",
       " CompletionResults(message=Message(role='assistant', content=[TextContent(text='The place is now in a comfortable party mood!')], name=None), usage=Usage(prompt_tokens=0, completion_tokens=0, total_tokens=0), prompt=[{}], raw=None),\n",
       " CompletionResults(message=Message(role='assistant', content=[TextContent(text='The place is now in a comfortable party mood! The')], name=None), usage=Usage(prompt_tokens=0, completion_tokens=0, total_tokens=0), prompt=[{}], raw=None),\n",
       " CompletionResults(message=Message(role='assistant', content=[TextContent(text='The place is now in a comfortable party mood! The disco')], name=None), usage=Usage(prompt_tokens=0, completion_tokens=0, total_tokens=0), prompt=[{}], raw=None),\n",
       " CompletionResults(message=Message(role='assistant', content=[TextContent(text='The place is now in a comfortable party mood! The disco ball')], name=None), usage=Usage(prompt_tokens=0, completion_tokens=0, total_tokens=0), prompt=[{}], raw=None),\n",
       " CompletionResults(message=Message(role='assistant', content=[TextContent(text='The place is now in a comfortable party mood! The disco ball is')], name=None), usage=Usage(prompt_tokens=0, completion_tokens=0, total_tokens=0), prompt=[{}], raw=None),\n",
       " CompletionResults(message=Message(role='assistant', content=[TextContent(text='The place is now in a comfortable party mood! The disco ball is spinning')], name=None), usage=Usage(prompt_tokens=0, completion_tokens=0, total_tokens=0), prompt=[{}], raw=None),\n",
       " CompletionResults(message=Message(role='assistant', content=[TextContent(text='The place is now in a comfortable party mood! The disco ball is spinning,')], name=None), usage=Usage(prompt_tokens=0, completion_tokens=0, total_tokens=0), prompt=[{}], raw=None),\n",
       " CompletionResults(message=Message(role='assistant', content=[TextContent(text='The place is now in a comfortable party mood! The disco ball is spinning, energetic')], name=None), usage=Usage(prompt_tokens=0, completion_tokens=0, total_tokens=0), prompt=[{}], raw=None),\n",
       " CompletionResults(message=Message(role='assistant', content=[TextContent(text='The place is now in a comfortable party mood! The disco ball is spinning, energetic music')], name=None), usage=Usage(prompt_tokens=0, completion_tokens=0, total_tokens=0), prompt=[{}], raw=None),\n",
       " CompletionResults(message=Message(role='assistant', content=[TextContent(text='The place is now in a comfortable party mood! The disco ball is spinning, energetic music is')], name=None), usage=Usage(prompt_tokens=0, completion_tokens=0, total_tokens=0), prompt=[{}], raw=None),\n",
       " CompletionResults(message=Message(role='assistant', content=[TextContent(text='The place is now in a comfortable party mood! The disco ball is spinning, energetic music is playing')], name=None), usage=Usage(prompt_tokens=0, completion_tokens=0, total_tokens=0), prompt=[{}], raw=None),\n",
       " CompletionResults(message=Message(role='assistant', content=[TextContent(text='The place is now in a comfortable party mood! The disco ball is spinning, energetic music is playing,')], name=None), usage=Usage(prompt_tokens=0, completion_tokens=0, total_tokens=0), prompt=[{}], raw=None),\n",
       " CompletionResults(message=Message(role='assistant', content=[TextContent(text='The place is now in a comfortable party mood! The disco ball is spinning, energetic music is playing, and')], name=None), usage=Usage(prompt_tokens=0, completion_tokens=0, total_tokens=0), prompt=[{}], raw=None),\n",
       " CompletionResults(message=Message(role='assistant', content=[TextContent(text='The place is now in a comfortable party mood! The disco ball is spinning, energetic music is playing, and the')], name=None), usage=Usage(prompt_tokens=0, completion_tokens=0, total_tokens=0), prompt=[{}], raw=None),\n",
       " CompletionResults(message=Message(role='assistant', content=[TextContent(text='The place is now in a comfortable party mood! The disco ball is spinning, energetic music is playing, and the lights')], name=None), usage=Usage(prompt_tokens=0, completion_tokens=0, total_tokens=0), prompt=[{}], raw=None),\n",
       " CompletionResults(message=Message(role='assistant', content=[TextContent(text='The place is now in a comfortable party mood! The disco ball is spinning, energetic music is playing, and the lights are')], name=None), usage=Usage(prompt_tokens=0, completion_tokens=0, total_tokens=0), prompt=[{}], raw=None),\n",
       " CompletionResults(message=Message(role='assistant', content=[TextContent(text='The place is now in a comfortable party mood! The disco ball is spinning, energetic music is playing, and the lights are dim')], name=None), usage=Usage(prompt_tokens=0, completion_tokens=0, total_tokens=0), prompt=[{}], raw=None),\n",
       " CompletionResults(message=Message(role='assistant', content=[TextContent(text='The place is now in a comfortable party mood! The disco ball is spinning, energetic music is playing, and the lights are dimmed')], name=None), usage=Usage(prompt_tokens=0, completion_tokens=0, total_tokens=0), prompt=[{}], raw=None),\n",
       " CompletionResults(message=Message(role='assistant', content=[TextContent(text='The place is now in a comfortable party mood! The disco ball is spinning, energetic music is playing, and the lights are dimmed to')], name=None), usage=Usage(prompt_tokens=0, completion_tokens=0, total_tokens=0), prompt=[{}], raw=None),\n",
       " CompletionResults(message=Message(role='assistant', content=[TextContent(text='The place is now in a comfortable party mood! The disco ball is spinning, energetic music is playing, and the lights are dimmed to create')], name=None), usage=Usage(prompt_tokens=0, completion_tokens=0, total_tokens=0), prompt=[{}], raw=None),\n",
       " CompletionResults(message=Message(role='assistant', content=[TextContent(text='The place is now in a comfortable party mood! The disco ball is spinning, energetic music is playing, and the lights are dimmed to create the')], name=None), usage=Usage(prompt_tokens=0, completion_tokens=0, total_tokens=0), prompt=[{}], raw=None),\n",
       " CompletionResults(message=Message(role='assistant', content=[TextContent(text='The place is now in a comfortable party mood! The disco ball is spinning, energetic music is playing, and the lights are dimmed to create the perfect')], name=None), usage=Usage(prompt_tokens=0, completion_tokens=0, total_tokens=0), prompt=[{}], raw=None),\n",
       " CompletionResults(message=Message(role='assistant', content=[TextContent(text='The place is now in a comfortable party mood! The disco ball is spinning, energetic music is playing, and the lights are dimmed to create the perfect ambiance')], name=None), usage=Usage(prompt_tokens=0, completion_tokens=0, total_tokens=0), prompt=[{}], raw=None),\n",
       " CompletionResults(message=Message(role='assistant', content=[TextContent(text='The place is now in a comfortable party mood! The disco ball is spinning, energetic music is playing, and the lights are dimmed to create the perfect ambiance.')], name=None), usage=Usage(prompt_tokens=0, completion_tokens=0, total_tokens=0), prompt=[{}], raw=None),\n",
       " CompletionResults(message=Message(role='assistant', content=[TextContent(text='The place is now in a comfortable party mood! The disco ball is spinning, energetic music is playing, and the lights are dimmed to create the perfect ambiance. Enjoy')], name=None), usage=Usage(prompt_tokens=0, completion_tokens=0, total_tokens=0), prompt=[{}], raw=None),\n",
       " CompletionResults(message=Message(role='assistant', content=[TextContent(text='The place is now in a comfortable party mood! The disco ball is spinning, energetic music is playing, and the lights are dimmed to create the perfect ambiance. Enjoy the')], name=None), usage=Usage(prompt_tokens=0, completion_tokens=0, total_tokens=0), prompt=[{}], raw=None),\n",
       " CompletionResults(message=Message(role='assistant', content=[TextContent(text='The place is now in a comfortable party mood! The disco ball is spinning, energetic music is playing, and the lights are dimmed to create the perfect ambiance. Enjoy the party')], name=None), usage=Usage(prompt_tokens=0, completion_tokens=0, total_tokens=0), prompt=[{}], raw=None),\n",
       " CompletionResults(message=Message(role='assistant', content=[TextContent(text='The place is now in a comfortable party mood! The disco ball is spinning, energetic music is playing, and the lights are dimmed to create the perfect ambiance. Enjoy the party!')], name=None), usage=Usage(prompt_tokens=0, completion_tokens=0, total_tokens=0), prompt=[{}], raw=None),\n",
       " CompletionResults(message=Message(role='assistant', content=[TextContent(text='The place is now in a comfortable party mood! The disco ball is spinning, energetic music is playing, and the lights are dimmed to create the perfect ambiance. Enjoy the party! 🎉')], name=None), usage=Usage(prompt_tokens=0, completion_tokens=0, total_tokens=0), prompt=[{}], raw=None),\n",
       " CompletionResults(message=Message(role='assistant', content=[TextContent(text='The place is now in a comfortable party mood! The disco ball is spinning, energetic music is playing, and the lights are dimmed to create the perfect ambiance. Enjoy the party! 🎉')], name=None), usage=Usage(prompt_tokens=305, completion_tokens=114, total_tokens=419), prompt=[{'role': 'user', 'content': [{'type': 'text', 'text': 'Turn this place into a comfortable party mood!'}], 'name': 'User'}, {'content': None, 'refusal': None, 'role': 'assistant', 'audio': None, 'function_call': None, 'tool_calls': [{'id': 'call_PAS7RTuUrgusMlr5PVyH4eD3', 'function': {'arguments': '{\"power\": true}', 'name': 'power_disco_ball'}, 'type': 'function'}, {'id': 'call_VR2yg9WhMmQ6l4cVjkiMspK3', 'function': {'arguments': '{\"energetic\": true, \"loud\": true, \"bpm\": \"120\"}', 'name': 'start_music'}, 'type': 'function'}, {'id': 'call_3dh9fVIdJ5Mb4Ur3sJc9VrUY', 'function': {'arguments': '{\"brightness\": 0.5}', 'name': 'dim_lights'}, 'type': 'function'}]}, {'role': 'tool', 'tool_call_id': 'call_PAS7RTuUrgusMlr5PVyH4eD3', 'name': 'power_disco_ball', 'content': 'Disco ball is spinning!'}, {'role': 'tool', 'tool_call_id': 'call_VR2yg9WhMmQ6l4cVjkiMspK3', 'name': 'start_music', 'content': \"Starting music! energetic=True loud=True, bpm='120'\"}, {'role': 'tool', 'tool_call_id': 'call_3dh9fVIdJ5Mb4Ur3sJc9VrUY', 'name': 'dim_lights', 'content': 'Lights are now set to 0.5'}], raw=[ChatCompletionChunk(id='chatcmpl-AKaSVc45CHCib8x821ss67ry1WIRt', choices=[Choice(delta=ChoiceDelta(content='', function_call=None, refusal=None, role='assistant', tool_calls=None), finish_reason=None, index=0, logprobs=None)], created=1729470071, model='gpt-4o-2024-08-06', object='chat.completion.chunk', service_tier=None, system_fingerprint='fp_9e15ccd6a4', usage=None), ChatCompletionChunk(id='chatcmpl-AKaSVc45CHCib8x821ss67ry1WIRt', choices=[Choice(delta=ChoiceDelta(content='The', function_call=None, refusal=None, role=None, tool_calls=None), finish_reason=None, index=0, logprobs=None)], created=1729470071, model='gpt-4o-2024-08-06', object='chat.completion.chunk', service_tier=None, system_fingerprint='fp_9e15ccd6a4', usage=None), ChatCompletionChunk(id='chatcmpl-AKaSVc45CHCib8x821ss67ry1WIRt', choices=[Choice(delta=ChoiceDelta(content=' place', function_call=None, refusal=None, role=None, tool_calls=None), finish_reason=None, index=0, logprobs=None)], created=1729470071, model='gpt-4o-2024-08-06', object='chat.completion.chunk', service_tier=None, system_fingerprint='fp_9e15ccd6a4', usage=None), ChatCompletionChunk(id='chatcmpl-AKaSVc45CHCib8x821ss67ry1WIRt', choices=[Choice(delta=ChoiceDelta(content=' is', function_call=None, refusal=None, role=None, tool_calls=None), finish_reason=None, index=0, logprobs=None)], created=1729470071, model='gpt-4o-2024-08-06', object='chat.completion.chunk', service_tier=None, system_fingerprint='fp_9e15ccd6a4', usage=None), ChatCompletionChunk(id='chatcmpl-AKaSVc45CHCib8x821ss67ry1WIRt', choices=[Choice(delta=ChoiceDelta(content=' now', function_call=None, refusal=None, role=None, tool_calls=None), finish_reason=None, index=0, logprobs=None)], created=1729470071, model='gpt-4o-2024-08-06', object='chat.completion.chunk', service_tier=None, system_fingerprint='fp_9e15ccd6a4', usage=None), ChatCompletionChunk(id='chatcmpl-AKaSVc45CHCib8x821ss67ry1WIRt', choices=[Choice(delta=ChoiceDelta(content=' in', function_call=None, refusal=None, role=None, tool_calls=None), finish_reason=None, index=0, logprobs=None)], created=1729470071, model='gpt-4o-2024-08-06', object='chat.completion.chunk', service_tier=None, system_fingerprint='fp_9e15ccd6a4', usage=None), ChatCompletionChunk(id='chatcmpl-AKaSVc45CHCib8x821ss67ry1WIRt', choices=[Choice(delta=ChoiceDelta(content=' a', function_call=None, refusal=None, role=None, tool_calls=None), finish_reason=None, index=0, logprobs=None)], created=1729470071, model='gpt-4o-2024-08-06', object='chat.completion.chunk', service_tier=None, system_fingerprint='fp_9e15ccd6a4', usage=None), ChatCompletionChunk(id='chatcmpl-AKaSVc45CHCib8x821ss67ry1WIRt', choices=[Choice(delta=ChoiceDelta(content=' comfortable', function_call=None, refusal=None, role=None, tool_calls=None), finish_reason=None, index=0, logprobs=None)], created=1729470071, model='gpt-4o-2024-08-06', object='chat.completion.chunk', service_tier=None, system_fingerprint='fp_9e15ccd6a4', usage=None), ChatCompletionChunk(id='chatcmpl-AKaSVc45CHCib8x821ss67ry1WIRt', choices=[Choice(delta=ChoiceDelta(content=' party', function_call=None, refusal=None, role=None, tool_calls=None), finish_reason=None, index=0, logprobs=None)], created=1729470071, model='gpt-4o-2024-08-06', object='chat.completion.chunk', service_tier=None, system_fingerprint='fp_9e15ccd6a4', usage=None), ChatCompletionChunk(id='chatcmpl-AKaSVc45CHCib8x821ss67ry1WIRt', choices=[Choice(delta=ChoiceDelta(content=' mood', function_call=None, refusal=None, role=None, tool_calls=None), finish_reason=None, index=0, logprobs=None)], created=1729470071, model='gpt-4o-2024-08-06', object='chat.completion.chunk', service_tier=None, system_fingerprint='fp_9e15ccd6a4', usage=None), ChatCompletionChunk(id='chatcmpl-AKaSVc45CHCib8x821ss67ry1WIRt', choices=[Choice(delta=ChoiceDelta(content='!', function_call=None, refusal=None, role=None, tool_calls=None), finish_reason=None, index=0, logprobs=None)], created=1729470071, model='gpt-4o-2024-08-06', object='chat.completion.chunk', service_tier=None, system_fingerprint='fp_9e15ccd6a4', usage=None), ChatCompletionChunk(id='chatcmpl-AKaSVc45CHCib8x821ss67ry1WIRt', choices=[Choice(delta=ChoiceDelta(content=' The', function_call=None, refusal=None, role=None, tool_calls=None), finish_reason=None, index=0, logprobs=None)], created=1729470071, model='gpt-4o-2024-08-06', object='chat.completion.chunk', service_tier=None, system_fingerprint='fp_9e15ccd6a4', usage=None), ChatCompletionChunk(id='chatcmpl-AKaSVc45CHCib8x821ss67ry1WIRt', choices=[Choice(delta=ChoiceDelta(content=' disco', function_call=None, refusal=None, role=None, tool_calls=None), finish_reason=None, index=0, logprobs=None)], created=1729470071, model='gpt-4o-2024-08-06', object='chat.completion.chunk', service_tier=None, system_fingerprint='fp_9e15ccd6a4', usage=None), ChatCompletionChunk(id='chatcmpl-AKaSVc45CHCib8x821ss67ry1WIRt', choices=[Choice(delta=ChoiceDelta(content=' ball', function_call=None, refusal=None, role=None, tool_calls=None), finish_reason=None, index=0, logprobs=None)], created=1729470071, model='gpt-4o-2024-08-06', object='chat.completion.chunk', service_tier=None, system_fingerprint='fp_9e15ccd6a4', usage=None), ChatCompletionChunk(id='chatcmpl-AKaSVc45CHCib8x821ss67ry1WIRt', choices=[Choice(delta=ChoiceDelta(content=' is', function_call=None, refusal=None, role=None, tool_calls=None), finish_reason=None, index=0, logprobs=None)], created=1729470071, model='gpt-4o-2024-08-06', object='chat.completion.chunk', service_tier=None, system_fingerprint='fp_9e15ccd6a4', usage=None), ChatCompletionChunk(id='chatcmpl-AKaSVc45CHCib8x821ss67ry1WIRt', choices=[Choice(delta=ChoiceDelta(content=' spinning', function_call=None, refusal=None, role=None, tool_calls=None), finish_reason=None, index=0, logprobs=None)], created=1729470071, model='gpt-4o-2024-08-06', object='chat.completion.chunk', service_tier=None, system_fingerprint='fp_9e15ccd6a4', usage=None), ChatCompletionChunk(id='chatcmpl-AKaSVc45CHCib8x821ss67ry1WIRt', choices=[Choice(delta=ChoiceDelta(content=',', function_call=None, refusal=None, role=None, tool_calls=None), finish_reason=None, index=0, logprobs=None)], created=1729470071, model='gpt-4o-2024-08-06', object='chat.completion.chunk', service_tier=None, system_fingerprint='fp_9e15ccd6a4', usage=None), ChatCompletionChunk(id='chatcmpl-AKaSVc45CHCib8x821ss67ry1WIRt', choices=[Choice(delta=ChoiceDelta(content=' energetic', function_call=None, refusal=None, role=None, tool_calls=None), finish_reason=None, index=0, logprobs=None)], created=1729470071, model='gpt-4o-2024-08-06', object='chat.completion.chunk', service_tier=None, system_fingerprint='fp_9e15ccd6a4', usage=None), ChatCompletionChunk(id='chatcmpl-AKaSVc45CHCib8x821ss67ry1WIRt', choices=[Choice(delta=ChoiceDelta(content=' music', function_call=None, refusal=None, role=None, tool_calls=None), finish_reason=None, index=0, logprobs=None)], created=1729470071, model='gpt-4o-2024-08-06', object='chat.completion.chunk', service_tier=None, system_fingerprint='fp_9e15ccd6a4', usage=None), ChatCompletionChunk(id='chatcmpl-AKaSVc45CHCib8x821ss67ry1WIRt', choices=[Choice(delta=ChoiceDelta(content=' is', function_call=None, refusal=None, role=None, tool_calls=None), finish_reason=None, index=0, logprobs=None)], created=1729470071, model='gpt-4o-2024-08-06', object='chat.completion.chunk', service_tier=None, system_fingerprint='fp_9e15ccd6a4', usage=None), ChatCompletionChunk(id='chatcmpl-AKaSVc45CHCib8x821ss67ry1WIRt', choices=[Choice(delta=ChoiceDelta(content=' playing', function_call=None, refusal=None, role=None, tool_calls=None), finish_reason=None, index=0, logprobs=None)], created=1729470071, model='gpt-4o-2024-08-06', object='chat.completion.chunk', service_tier=None, system_fingerprint='fp_9e15ccd6a4', usage=None), ChatCompletionChunk(id='chatcmpl-AKaSVc45CHCib8x821ss67ry1WIRt', choices=[Choice(delta=ChoiceDelta(content=',', function_call=None, refusal=None, role=None, tool_calls=None), finish_reason=None, index=0, logprobs=None)], created=1729470071, model='gpt-4o-2024-08-06', object='chat.completion.chunk', service_tier=None, system_fingerprint='fp_9e15ccd6a4', usage=None), ChatCompletionChunk(id='chatcmpl-AKaSVc45CHCib8x821ss67ry1WIRt', choices=[Choice(delta=ChoiceDelta(content=' and', function_call=None, refusal=None, role=None, tool_calls=None), finish_reason=None, index=0, logprobs=None)], created=1729470071, model='gpt-4o-2024-08-06', object='chat.completion.chunk', service_tier=None, system_fingerprint='fp_9e15ccd6a4', usage=None), ChatCompletionChunk(id='chatcmpl-AKaSVc45CHCib8x821ss67ry1WIRt', choices=[Choice(delta=ChoiceDelta(content=' the', function_call=None, refusal=None, role=None, tool_calls=None), finish_reason=None, index=0, logprobs=None)], created=1729470071, model='gpt-4o-2024-08-06', object='chat.completion.chunk', service_tier=None, system_fingerprint='fp_9e15ccd6a4', usage=None), ChatCompletionChunk(id='chatcmpl-AKaSVc45CHCib8x821ss67ry1WIRt', choices=[Choice(delta=ChoiceDelta(content=' lights', function_call=None, refusal=None, role=None, tool_calls=None), finish_reason=None, index=0, logprobs=None)], created=1729470071, model='gpt-4o-2024-08-06', object='chat.completion.chunk', service_tier=None, system_fingerprint='fp_9e15ccd6a4', usage=None), ChatCompletionChunk(id='chatcmpl-AKaSVc45CHCib8x821ss67ry1WIRt', choices=[Choice(delta=ChoiceDelta(content=' are', function_call=None, refusal=None, role=None, tool_calls=None), finish_reason=None, index=0, logprobs=None)], created=1729470071, model='gpt-4o-2024-08-06', object='chat.completion.chunk', service_tier=None, system_fingerprint='fp_9e15ccd6a4', usage=None), ChatCompletionChunk(id='chatcmpl-AKaSVc45CHCib8x821ss67ry1WIRt', choices=[Choice(delta=ChoiceDelta(content=' dim', function_call=None, refusal=None, role=None, tool_calls=None), finish_reason=None, index=0, logprobs=None)], created=1729470071, model='gpt-4o-2024-08-06', object='chat.completion.chunk', service_tier=None, system_fingerprint='fp_9e15ccd6a4', usage=None), ChatCompletionChunk(id='chatcmpl-AKaSVc45CHCib8x821ss67ry1WIRt', choices=[Choice(delta=ChoiceDelta(content='med', function_call=None, refusal=None, role=None, tool_calls=None), finish_reason=None, index=0, logprobs=None)], created=1729470071, model='gpt-4o-2024-08-06', object='chat.completion.chunk', service_tier=None, system_fingerprint='fp_9e15ccd6a4', usage=None), ChatCompletionChunk(id='chatcmpl-AKaSVc45CHCib8x821ss67ry1WIRt', choices=[Choice(delta=ChoiceDelta(content=' to', function_call=None, refusal=None, role=None, tool_calls=None), finish_reason=None, index=0, logprobs=None)], created=1729470071, model='gpt-4o-2024-08-06', object='chat.completion.chunk', service_tier=None, system_fingerprint='fp_9e15ccd6a4', usage=None), ChatCompletionChunk(id='chatcmpl-AKaSVc45CHCib8x821ss67ry1WIRt', choices=[Choice(delta=ChoiceDelta(content=' create', function_call=None, refusal=None, role=None, tool_calls=None), finish_reason=None, index=0, logprobs=None)], created=1729470071, model='gpt-4o-2024-08-06', object='chat.completion.chunk', service_tier=None, system_fingerprint='fp_9e15ccd6a4', usage=None), ChatCompletionChunk(id='chatcmpl-AKaSVc45CHCib8x821ss67ry1WIRt', choices=[Choice(delta=ChoiceDelta(content=' the', function_call=None, refusal=None, role=None, tool_calls=None), finish_reason=None, index=0, logprobs=None)], created=1729470071, model='gpt-4o-2024-08-06', object='chat.completion.chunk', service_tier=None, system_fingerprint='fp_9e15ccd6a4', usage=None), ChatCompletionChunk(id='chatcmpl-AKaSVc45CHCib8x821ss67ry1WIRt', choices=[Choice(delta=ChoiceDelta(content=' perfect', function_call=None, refusal=None, role=None, tool_calls=None), finish_reason=None, index=0, logprobs=None)], created=1729470071, model='gpt-4o-2024-08-06', object='chat.completion.chunk', service_tier=None, system_fingerprint='fp_9e15ccd6a4', usage=None), ChatCompletionChunk(id='chatcmpl-AKaSVc45CHCib8x821ss67ry1WIRt', choices=[Choice(delta=ChoiceDelta(content=' ambiance', function_call=None, refusal=None, role=None, tool_calls=None), finish_reason=None, index=0, logprobs=None)], created=1729470071, model='gpt-4o-2024-08-06', object='chat.completion.chunk', service_tier=None, system_fingerprint='fp_9e15ccd6a4', usage=None), ChatCompletionChunk(id='chatcmpl-AKaSVc45CHCib8x821ss67ry1WIRt', choices=[Choice(delta=ChoiceDelta(content='.', function_call=None, refusal=None, role=None, tool_calls=None), finish_reason=None, index=0, logprobs=None)], created=1729470071, model='gpt-4o-2024-08-06', object='chat.completion.chunk', service_tier=None, system_fingerprint='fp_9e15ccd6a4', usage=None), ChatCompletionChunk(id='chatcmpl-AKaSVc45CHCib8x821ss67ry1WIRt', choices=[Choice(delta=ChoiceDelta(content=' Enjoy', function_call=None, refusal=None, role=None, tool_calls=None), finish_reason=None, index=0, logprobs=None)], created=1729470071, model='gpt-4o-2024-08-06', object='chat.completion.chunk', service_tier=None, system_fingerprint='fp_9e15ccd6a4', usage=None), ChatCompletionChunk(id='chatcmpl-AKaSVc45CHCib8x821ss67ry1WIRt', choices=[Choice(delta=ChoiceDelta(content=' the', function_call=None, refusal=None, role=None, tool_calls=None), finish_reason=None, index=0, logprobs=None)], created=1729470071, model='gpt-4o-2024-08-06', object='chat.completion.chunk', service_tier=None, system_fingerprint='fp_9e15ccd6a4', usage=None), ChatCompletionChunk(id='chatcmpl-AKaSVc45CHCib8x821ss67ry1WIRt', choices=[Choice(delta=ChoiceDelta(content=' party', function_call=None, refusal=None, role=None, tool_calls=None), finish_reason=None, index=0, logprobs=None)], created=1729470071, model='gpt-4o-2024-08-06', object='chat.completion.chunk', service_tier=None, system_fingerprint='fp_9e15ccd6a4', usage=None), ChatCompletionChunk(id='chatcmpl-AKaSVc45CHCib8x821ss67ry1WIRt', choices=[Choice(delta=ChoiceDelta(content='!', function_call=None, refusal=None, role=None, tool_calls=None), finish_reason=None, index=0, logprobs=None)], created=1729470071, model='gpt-4o-2024-08-06', object='chat.completion.chunk', service_tier=None, system_fingerprint='fp_9e15ccd6a4', usage=None), ChatCompletionChunk(id='chatcmpl-AKaSVc45CHCib8x821ss67ry1WIRt', choices=[Choice(delta=ChoiceDelta(content=' 🎉', function_call=None, refusal=None, role=None, tool_calls=None), finish_reason=None, index=0, logprobs=None)], created=1729470071, model='gpt-4o-2024-08-06', object='chat.completion.chunk', service_tier=None, system_fingerprint='fp_9e15ccd6a4', usage=None), ChatCompletionChunk(id='chatcmpl-AKaSVc45CHCib8x821ss67ry1WIRt', choices=[Choice(delta=ChoiceDelta(content=None, function_call=None, refusal=None, role=None, tool_calls=None), finish_reason='stop', index=0, logprobs=None)], created=1729470071, model='gpt-4o-2024-08-06', object='chat.completion.chunk', service_tier=None, system_fingerprint='fp_9e15ccd6a4', usage=None), ChatCompletionChunk(id='chatcmpl-AKaSVc45CHCib8x821ss67ry1WIRt', choices=[], created=1729470071, model='gpt-4o-2024-08-06', object='chat.completion.chunk', service_tier=None, system_fingerprint='fp_9e15ccd6a4', usage=CompletionUsage(completion_tokens=39, prompt_tokens=134, total_tokens=173, completion_tokens_details=CompletionTokensDetails(audio_tokens=None, reasoning_tokens=0), prompt_tokens_details=PromptTokensDetails(audio_tokens=None, cached_tokens=0)))])]"
      ]
     },
     "execution_count": 19,
     "metadata": {},
     "output_type": "execute_result"
    }
   ],
   "source": [
    "response = chat_openai.stream(\n",
    "    prompt,\n",
    "    model_name=\"gpt-4o-2024-08-06\",\n",
    "    tools=[power_disco_ball, start_music, dim_lights],\n",
    "    tool_configs=tool_configs,\n",
    ")\n",
    "\n",
    "# Response is CompletionResults object\n",
    "[r for r in response]"
   ]
  },
  {
   "cell_type": "code",
   "execution_count": 20,
   "metadata": {},
   "outputs": [
    {
     "data": {
      "text/plain": [
       "[CompletionResults(message=Message(role='assistant', content=[TextContent(text='')], name=None), usage=Usage(prompt_tokens=0, completion_tokens=0, total_tokens=0), prompt=[{}], raw=None),\n",
       " CompletionResults(message=Message(role='assistant', content=[TextContent(text='The')], name=None), usage=Usage(prompt_tokens=0, completion_tokens=0, total_tokens=0), prompt=[{}], raw=None),\n",
       " CompletionResults(message=Message(role='assistant', content=[TextContent(text='The place')], name=None), usage=Usage(prompt_tokens=0, completion_tokens=0, total_tokens=0), prompt=[{}], raw=None),\n",
       " CompletionResults(message=Message(role='assistant', content=[TextContent(text='The place is')], name=None), usage=Usage(prompt_tokens=0, completion_tokens=0, total_tokens=0), prompt=[{}], raw=None),\n",
       " CompletionResults(message=Message(role='assistant', content=[TextContent(text='The place is now')], name=None), usage=Usage(prompt_tokens=0, completion_tokens=0, total_tokens=0), prompt=[{}], raw=None),\n",
       " CompletionResults(message=Message(role='assistant', content=[TextContent(text='The place is now set')], name=None), usage=Usage(prompt_tokens=0, completion_tokens=0, total_tokens=0), prompt=[{}], raw=None),\n",
       " CompletionResults(message=Message(role='assistant', content=[TextContent(text='The place is now set for')], name=None), usage=Usage(prompt_tokens=0, completion_tokens=0, total_tokens=0), prompt=[{}], raw=None),\n",
       " CompletionResults(message=Message(role='assistant', content=[TextContent(text='The place is now set for a')], name=None), usage=Usage(prompt_tokens=0, completion_tokens=0, total_tokens=0), prompt=[{}], raw=None),\n",
       " CompletionResults(message=Message(role='assistant', content=[TextContent(text='The place is now set for a comfortable')], name=None), usage=Usage(prompt_tokens=0, completion_tokens=0, total_tokens=0), prompt=[{}], raw=None),\n",
       " CompletionResults(message=Message(role='assistant', content=[TextContent(text='The place is now set for a comfortable party')], name=None), usage=Usage(prompt_tokens=0, completion_tokens=0, total_tokens=0), prompt=[{}], raw=None),\n",
       " CompletionResults(message=Message(role='assistant', content=[TextContent(text='The place is now set for a comfortable party mood')], name=None), usage=Usage(prompt_tokens=0, completion_tokens=0, total_tokens=0), prompt=[{}], raw=None),\n",
       " CompletionResults(message=Message(role='assistant', content=[TextContent(text='The place is now set for a comfortable party mood:')], name=None), usage=Usage(prompt_tokens=0, completion_tokens=0, total_tokens=0), prompt=[{}], raw=None),\n",
       " CompletionResults(message=Message(role='assistant', content=[TextContent(text='The place is now set for a comfortable party mood: the')], name=None), usage=Usage(prompt_tokens=0, completion_tokens=0, total_tokens=0), prompt=[{}], raw=None),\n",
       " CompletionResults(message=Message(role='assistant', content=[TextContent(text='The place is now set for a comfortable party mood: the disco')], name=None), usage=Usage(prompt_tokens=0, completion_tokens=0, total_tokens=0), prompt=[{}], raw=None),\n",
       " CompletionResults(message=Message(role='assistant', content=[TextContent(text='The place is now set for a comfortable party mood: the disco ball')], name=None), usage=Usage(prompt_tokens=0, completion_tokens=0, total_tokens=0), prompt=[{}], raw=None),\n",
       " CompletionResults(message=Message(role='assistant', content=[TextContent(text='The place is now set for a comfortable party mood: the disco ball is')], name=None), usage=Usage(prompt_tokens=0, completion_tokens=0, total_tokens=0), prompt=[{}], raw=None),\n",
       " CompletionResults(message=Message(role='assistant', content=[TextContent(text='The place is now set for a comfortable party mood: the disco ball is spinning')], name=None), usage=Usage(prompt_tokens=0, completion_tokens=0, total_tokens=0), prompt=[{}], raw=None),\n",
       " CompletionResults(message=Message(role='assistant', content=[TextContent(text='The place is now set for a comfortable party mood: the disco ball is spinning,')], name=None), usage=Usage(prompt_tokens=0, completion_tokens=0, total_tokens=0), prompt=[{}], raw=None),\n",
       " CompletionResults(message=Message(role='assistant', content=[TextContent(text='The place is now set for a comfortable party mood: the disco ball is spinning, energetic')], name=None), usage=Usage(prompt_tokens=0, completion_tokens=0, total_tokens=0), prompt=[{}], raw=None),\n",
       " CompletionResults(message=Message(role='assistant', content=[TextContent(text='The place is now set for a comfortable party mood: the disco ball is spinning, energetic music')], name=None), usage=Usage(prompt_tokens=0, completion_tokens=0, total_tokens=0), prompt=[{}], raw=None),\n",
       " CompletionResults(message=Message(role='assistant', content=[TextContent(text='The place is now set for a comfortable party mood: the disco ball is spinning, energetic music is')], name=None), usage=Usage(prompt_tokens=0, completion_tokens=0, total_tokens=0), prompt=[{}], raw=None),\n",
       " CompletionResults(message=Message(role='assistant', content=[TextContent(text='The place is now set for a comfortable party mood: the disco ball is spinning, energetic music is playing')], name=None), usage=Usage(prompt_tokens=0, completion_tokens=0, total_tokens=0), prompt=[{}], raw=None),\n",
       " CompletionResults(message=Message(role='assistant', content=[TextContent(text='The place is now set for a comfortable party mood: the disco ball is spinning, energetic music is playing at')], name=None), usage=Usage(prompt_tokens=0, completion_tokens=0, total_tokens=0), prompt=[{}], raw=None),\n",
       " CompletionResults(message=Message(role='assistant', content=[TextContent(text='The place is now set for a comfortable party mood: the disco ball is spinning, energetic music is playing at a')], name=None), usage=Usage(prompt_tokens=0, completion_tokens=0, total_tokens=0), prompt=[{}], raw=None),\n",
       " CompletionResults(message=Message(role='assistant', content=[TextContent(text='The place is now set for a comfortable party mood: the disco ball is spinning, energetic music is playing at a lively')], name=None), usage=Usage(prompt_tokens=0, completion_tokens=0, total_tokens=0), prompt=[{}], raw=None),\n",
       " CompletionResults(message=Message(role='assistant', content=[TextContent(text='The place is now set for a comfortable party mood: the disco ball is spinning, energetic music is playing at a lively ')], name=None), usage=Usage(prompt_tokens=0, completion_tokens=0, total_tokens=0), prompt=[{}], raw=None),\n",
       " CompletionResults(message=Message(role='assistant', content=[TextContent(text='The place is now set for a comfortable party mood: the disco ball is spinning, energetic music is playing at a lively 120')], name=None), usage=Usage(prompt_tokens=0, completion_tokens=0, total_tokens=0), prompt=[{}], raw=None),\n",
       " CompletionResults(message=Message(role='assistant', content=[TextContent(text='The place is now set for a comfortable party mood: the disco ball is spinning, energetic music is playing at a lively 120 bpm')], name=None), usage=Usage(prompt_tokens=0, completion_tokens=0, total_tokens=0), prompt=[{}], raw=None),\n",
       " CompletionResults(message=Message(role='assistant', content=[TextContent(text='The place is now set for a comfortable party mood: the disco ball is spinning, energetic music is playing at a lively 120 bpm,')], name=None), usage=Usage(prompt_tokens=0, completion_tokens=0, total_tokens=0), prompt=[{}], raw=None),\n",
       " CompletionResults(message=Message(role='assistant', content=[TextContent(text='The place is now set for a comfortable party mood: the disco ball is spinning, energetic music is playing at a lively 120 bpm, and')], name=None), usage=Usage(prompt_tokens=0, completion_tokens=0, total_tokens=0), prompt=[{}], raw=None),\n",
       " CompletionResults(message=Message(role='assistant', content=[TextContent(text='The place is now set for a comfortable party mood: the disco ball is spinning, energetic music is playing at a lively 120 bpm, and the')], name=None), usage=Usage(prompt_tokens=0, completion_tokens=0, total_tokens=0), prompt=[{}], raw=None),\n",
       " CompletionResults(message=Message(role='assistant', content=[TextContent(text='The place is now set for a comfortable party mood: the disco ball is spinning, energetic music is playing at a lively 120 bpm, and the lights')], name=None), usage=Usage(prompt_tokens=0, completion_tokens=0, total_tokens=0), prompt=[{}], raw=None),\n",
       " CompletionResults(message=Message(role='assistant', content=[TextContent(text='The place is now set for a comfortable party mood: the disco ball is spinning, energetic music is playing at a lively 120 bpm, and the lights have')], name=None), usage=Usage(prompt_tokens=0, completion_tokens=0, total_tokens=0), prompt=[{}], raw=None),\n",
       " CompletionResults(message=Message(role='assistant', content=[TextContent(text='The place is now set for a comfortable party mood: the disco ball is spinning, energetic music is playing at a lively 120 bpm, and the lights have been')], name=None), usage=Usage(prompt_tokens=0, completion_tokens=0, total_tokens=0), prompt=[{}], raw=None),\n",
       " CompletionResults(message=Message(role='assistant', content=[TextContent(text='The place is now set for a comfortable party mood: the disco ball is spinning, energetic music is playing at a lively 120 bpm, and the lights have been dim')], name=None), usage=Usage(prompt_tokens=0, completion_tokens=0, total_tokens=0), prompt=[{}], raw=None),\n",
       " CompletionResults(message=Message(role='assistant', content=[TextContent(text='The place is now set for a comfortable party mood: the disco ball is spinning, energetic music is playing at a lively 120 bpm, and the lights have been dimmed')], name=None), usage=Usage(prompt_tokens=0, completion_tokens=0, total_tokens=0), prompt=[{}], raw=None),\n",
       " CompletionResults(message=Message(role='assistant', content=[TextContent(text='The place is now set for a comfortable party mood: the disco ball is spinning, energetic music is playing at a lively 120 bpm, and the lights have been dimmed to')], name=None), usage=Usage(prompt_tokens=0, completion_tokens=0, total_tokens=0), prompt=[{}], raw=None),\n",
       " CompletionResults(message=Message(role='assistant', content=[TextContent(text='The place is now set for a comfortable party mood: the disco ball is spinning, energetic music is playing at a lively 120 bpm, and the lights have been dimmed to create')], name=None), usage=Usage(prompt_tokens=0, completion_tokens=0, total_tokens=0), prompt=[{}], raw=None),\n",
       " CompletionResults(message=Message(role='assistant', content=[TextContent(text='The place is now set for a comfortable party mood: the disco ball is spinning, energetic music is playing at a lively 120 bpm, and the lights have been dimmed to create the')], name=None), usage=Usage(prompt_tokens=0, completion_tokens=0, total_tokens=0), prompt=[{}], raw=None),\n",
       " CompletionResults(message=Message(role='assistant', content=[TextContent(text='The place is now set for a comfortable party mood: the disco ball is spinning, energetic music is playing at a lively 120 bpm, and the lights have been dimmed to create the perfect')], name=None), usage=Usage(prompt_tokens=0, completion_tokens=0, total_tokens=0), prompt=[{}], raw=None),\n",
       " CompletionResults(message=Message(role='assistant', content=[TextContent(text='The place is now set for a comfortable party mood: the disco ball is spinning, energetic music is playing at a lively 120 bpm, and the lights have been dimmed to create the perfect ambiance')], name=None), usage=Usage(prompt_tokens=0, completion_tokens=0, total_tokens=0), prompt=[{}], raw=None),\n",
       " CompletionResults(message=Message(role='assistant', content=[TextContent(text='The place is now set for a comfortable party mood: the disco ball is spinning, energetic music is playing at a lively 120 bpm, and the lights have been dimmed to create the perfect ambiance.')], name=None), usage=Usage(prompt_tokens=0, completion_tokens=0, total_tokens=0), prompt=[{}], raw=None),\n",
       " CompletionResults(message=Message(role='assistant', content=[TextContent(text='The place is now set for a comfortable party mood: the disco ball is spinning, energetic music is playing at a lively 120 bpm, and the lights have been dimmed to create the perfect ambiance. Enjoy')], name=None), usage=Usage(prompt_tokens=0, completion_tokens=0, total_tokens=0), prompt=[{}], raw=None),\n",
       " CompletionResults(message=Message(role='assistant', content=[TextContent(text='The place is now set for a comfortable party mood: the disco ball is spinning, energetic music is playing at a lively 120 bpm, and the lights have been dimmed to create the perfect ambiance. Enjoy the')], name=None), usage=Usage(prompt_tokens=0, completion_tokens=0, total_tokens=0), prompt=[{}], raw=None),\n",
       " CompletionResults(message=Message(role='assistant', content=[TextContent(text='The place is now set for a comfortable party mood: the disco ball is spinning, energetic music is playing at a lively 120 bpm, and the lights have been dimmed to create the perfect ambiance. Enjoy the party')], name=None), usage=Usage(prompt_tokens=0, completion_tokens=0, total_tokens=0), prompt=[{}], raw=None),\n",
       " CompletionResults(message=Message(role='assistant', content=[TextContent(text='The place is now set for a comfortable party mood: the disco ball is spinning, energetic music is playing at a lively 120 bpm, and the lights have been dimmed to create the perfect ambiance. Enjoy the party!')], name=None), usage=Usage(prompt_tokens=0, completion_tokens=0, total_tokens=0), prompt=[{}], raw=None),\n",
       " CompletionResults(message=Message(role='assistant', content=[TextContent(text='The place is now set for a comfortable party mood: the disco ball is spinning, energetic music is playing at a lively 120 bpm, and the lights have been dimmed to create the perfect ambiance. Enjoy the party!')], name=None), usage=Usage(prompt_tokens=305, completion_tokens=120, total_tokens=425), prompt=[{'role': 'user', 'content': [{'type': 'text', 'text': 'Turn this place into a comfortable party mood!'}], 'name': 'User'}, {'content': None, 'refusal': None, 'role': 'assistant', 'audio': None, 'function_call': None, 'tool_calls': [{'id': 'call_3vxcNXL6uipW2GSAKOLdRP6r', 'function': {'arguments': '{\"power\": true}', 'name': 'power_disco_ball'}, 'type': 'function'}, {'id': 'call_mdv79o75D4daHgrhvqKKJKxE', 'function': {'arguments': '{\"energetic\": true, \"loud\": true, \"bpm\": \"120\"}', 'name': 'start_music'}, 'type': 'function'}, {'id': 'call_YoDRlHTgEOvv3E2iuPPuzNip', 'function': {'arguments': '{\"brightness\": 0.5}', 'name': 'dim_lights'}, 'type': 'function'}]}, {'role': 'tool', 'tool_call_id': 'call_3vxcNXL6uipW2GSAKOLdRP6r', 'name': 'power_disco_ball', 'content': 'Disco ball is spinning!'}, {'role': 'tool', 'tool_call_id': 'call_mdv79o75D4daHgrhvqKKJKxE', 'name': 'start_music', 'content': \"Starting music! energetic=True loud=True, bpm='120'\"}, {'role': 'tool', 'tool_call_id': 'call_YoDRlHTgEOvv3E2iuPPuzNip', 'name': 'dim_lights', 'content': 'Lights are now set to 0.5'}], raw=[ChatCompletionChunk(id='chatcmpl-AKaSYrPdaLqUtaAaTyZKkJtb6Yn9c', choices=[Choice(delta=ChoiceDelta(content='', function_call=None, refusal=None, role='assistant', tool_calls=None), finish_reason=None, index=0, logprobs=None)], created=1729470074, model='gpt-4o-2024-08-06', object='chat.completion.chunk', service_tier=None, system_fingerprint='fp_a7d06e42a7', usage=None), ChatCompletionChunk(id='chatcmpl-AKaSYrPdaLqUtaAaTyZKkJtb6Yn9c', choices=[Choice(delta=ChoiceDelta(content='The', function_call=None, refusal=None, role=None, tool_calls=None), finish_reason=None, index=0, logprobs=None)], created=1729470074, model='gpt-4o-2024-08-06', object='chat.completion.chunk', service_tier=None, system_fingerprint='fp_a7d06e42a7', usage=None), ChatCompletionChunk(id='chatcmpl-AKaSYrPdaLqUtaAaTyZKkJtb6Yn9c', choices=[Choice(delta=ChoiceDelta(content=' place', function_call=None, refusal=None, role=None, tool_calls=None), finish_reason=None, index=0, logprobs=None)], created=1729470074, model='gpt-4o-2024-08-06', object='chat.completion.chunk', service_tier=None, system_fingerprint='fp_a7d06e42a7', usage=None), ChatCompletionChunk(id='chatcmpl-AKaSYrPdaLqUtaAaTyZKkJtb6Yn9c', choices=[Choice(delta=ChoiceDelta(content=' is', function_call=None, refusal=None, role=None, tool_calls=None), finish_reason=None, index=0, logprobs=None)], created=1729470074, model='gpt-4o-2024-08-06', object='chat.completion.chunk', service_tier=None, system_fingerprint='fp_a7d06e42a7', usage=None), ChatCompletionChunk(id='chatcmpl-AKaSYrPdaLqUtaAaTyZKkJtb6Yn9c', choices=[Choice(delta=ChoiceDelta(content=' now', function_call=None, refusal=None, role=None, tool_calls=None), finish_reason=None, index=0, logprobs=None)], created=1729470074, model='gpt-4o-2024-08-06', object='chat.completion.chunk', service_tier=None, system_fingerprint='fp_a7d06e42a7', usage=None), ChatCompletionChunk(id='chatcmpl-AKaSYrPdaLqUtaAaTyZKkJtb6Yn9c', choices=[Choice(delta=ChoiceDelta(content=' set', function_call=None, refusal=None, role=None, tool_calls=None), finish_reason=None, index=0, logprobs=None)], created=1729470074, model='gpt-4o-2024-08-06', object='chat.completion.chunk', service_tier=None, system_fingerprint='fp_a7d06e42a7', usage=None), ChatCompletionChunk(id='chatcmpl-AKaSYrPdaLqUtaAaTyZKkJtb6Yn9c', choices=[Choice(delta=ChoiceDelta(content=' for', function_call=None, refusal=None, role=None, tool_calls=None), finish_reason=None, index=0, logprobs=None)], created=1729470074, model='gpt-4o-2024-08-06', object='chat.completion.chunk', service_tier=None, system_fingerprint='fp_a7d06e42a7', usage=None), ChatCompletionChunk(id='chatcmpl-AKaSYrPdaLqUtaAaTyZKkJtb6Yn9c', choices=[Choice(delta=ChoiceDelta(content=' a', function_call=None, refusal=None, role=None, tool_calls=None), finish_reason=None, index=0, logprobs=None)], created=1729470074, model='gpt-4o-2024-08-06', object='chat.completion.chunk', service_tier=None, system_fingerprint='fp_a7d06e42a7', usage=None), ChatCompletionChunk(id='chatcmpl-AKaSYrPdaLqUtaAaTyZKkJtb6Yn9c', choices=[Choice(delta=ChoiceDelta(content=' comfortable', function_call=None, refusal=None, role=None, tool_calls=None), finish_reason=None, index=0, logprobs=None)], created=1729470074, model='gpt-4o-2024-08-06', object='chat.completion.chunk', service_tier=None, system_fingerprint='fp_a7d06e42a7', usage=None), ChatCompletionChunk(id='chatcmpl-AKaSYrPdaLqUtaAaTyZKkJtb6Yn9c', choices=[Choice(delta=ChoiceDelta(content=' party', function_call=None, refusal=None, role=None, tool_calls=None), finish_reason=None, index=0, logprobs=None)], created=1729470074, model='gpt-4o-2024-08-06', object='chat.completion.chunk', service_tier=None, system_fingerprint='fp_a7d06e42a7', usage=None), ChatCompletionChunk(id='chatcmpl-AKaSYrPdaLqUtaAaTyZKkJtb6Yn9c', choices=[Choice(delta=ChoiceDelta(content=' mood', function_call=None, refusal=None, role=None, tool_calls=None), finish_reason=None, index=0, logprobs=None)], created=1729470074, model='gpt-4o-2024-08-06', object='chat.completion.chunk', service_tier=None, system_fingerprint='fp_a7d06e42a7', usage=None), ChatCompletionChunk(id='chatcmpl-AKaSYrPdaLqUtaAaTyZKkJtb6Yn9c', choices=[Choice(delta=ChoiceDelta(content=':', function_call=None, refusal=None, role=None, tool_calls=None), finish_reason=None, index=0, logprobs=None)], created=1729470074, model='gpt-4o-2024-08-06', object='chat.completion.chunk', service_tier=None, system_fingerprint='fp_a7d06e42a7', usage=None), ChatCompletionChunk(id='chatcmpl-AKaSYrPdaLqUtaAaTyZKkJtb6Yn9c', choices=[Choice(delta=ChoiceDelta(content=' the', function_call=None, refusal=None, role=None, tool_calls=None), finish_reason=None, index=0, logprobs=None)], created=1729470074, model='gpt-4o-2024-08-06', object='chat.completion.chunk', service_tier=None, system_fingerprint='fp_a7d06e42a7', usage=None), ChatCompletionChunk(id='chatcmpl-AKaSYrPdaLqUtaAaTyZKkJtb6Yn9c', choices=[Choice(delta=ChoiceDelta(content=' disco', function_call=None, refusal=None, role=None, tool_calls=None), finish_reason=None, index=0, logprobs=None)], created=1729470074, model='gpt-4o-2024-08-06', object='chat.completion.chunk', service_tier=None, system_fingerprint='fp_a7d06e42a7', usage=None), ChatCompletionChunk(id='chatcmpl-AKaSYrPdaLqUtaAaTyZKkJtb6Yn9c', choices=[Choice(delta=ChoiceDelta(content=' ball', function_call=None, refusal=None, role=None, tool_calls=None), finish_reason=None, index=0, logprobs=None)], created=1729470074, model='gpt-4o-2024-08-06', object='chat.completion.chunk', service_tier=None, system_fingerprint='fp_a7d06e42a7', usage=None), ChatCompletionChunk(id='chatcmpl-AKaSYrPdaLqUtaAaTyZKkJtb6Yn9c', choices=[Choice(delta=ChoiceDelta(content=' is', function_call=None, refusal=None, role=None, tool_calls=None), finish_reason=None, index=0, logprobs=None)], created=1729470074, model='gpt-4o-2024-08-06', object='chat.completion.chunk', service_tier=None, system_fingerprint='fp_a7d06e42a7', usage=None), ChatCompletionChunk(id='chatcmpl-AKaSYrPdaLqUtaAaTyZKkJtb6Yn9c', choices=[Choice(delta=ChoiceDelta(content=' spinning', function_call=None, refusal=None, role=None, tool_calls=None), finish_reason=None, index=0, logprobs=None)], created=1729470074, model='gpt-4o-2024-08-06', object='chat.completion.chunk', service_tier=None, system_fingerprint='fp_a7d06e42a7', usage=None), ChatCompletionChunk(id='chatcmpl-AKaSYrPdaLqUtaAaTyZKkJtb6Yn9c', choices=[Choice(delta=ChoiceDelta(content=',', function_call=None, refusal=None, role=None, tool_calls=None), finish_reason=None, index=0, logprobs=None)], created=1729470074, model='gpt-4o-2024-08-06', object='chat.completion.chunk', service_tier=None, system_fingerprint='fp_a7d06e42a7', usage=None), ChatCompletionChunk(id='chatcmpl-AKaSYrPdaLqUtaAaTyZKkJtb6Yn9c', choices=[Choice(delta=ChoiceDelta(content=' energetic', function_call=None, refusal=None, role=None, tool_calls=None), finish_reason=None, index=0, logprobs=None)], created=1729470074, model='gpt-4o-2024-08-06', object='chat.completion.chunk', service_tier=None, system_fingerprint='fp_a7d06e42a7', usage=None), ChatCompletionChunk(id='chatcmpl-AKaSYrPdaLqUtaAaTyZKkJtb6Yn9c', choices=[Choice(delta=ChoiceDelta(content=' music', function_call=None, refusal=None, role=None, tool_calls=None), finish_reason=None, index=0, logprobs=None)], created=1729470074, model='gpt-4o-2024-08-06', object='chat.completion.chunk', service_tier=None, system_fingerprint='fp_a7d06e42a7', usage=None), ChatCompletionChunk(id='chatcmpl-AKaSYrPdaLqUtaAaTyZKkJtb6Yn9c', choices=[Choice(delta=ChoiceDelta(content=' is', function_call=None, refusal=None, role=None, tool_calls=None), finish_reason=None, index=0, logprobs=None)], created=1729470074, model='gpt-4o-2024-08-06', object='chat.completion.chunk', service_tier=None, system_fingerprint='fp_a7d06e42a7', usage=None), ChatCompletionChunk(id='chatcmpl-AKaSYrPdaLqUtaAaTyZKkJtb6Yn9c', choices=[Choice(delta=ChoiceDelta(content=' playing', function_call=None, refusal=None, role=None, tool_calls=None), finish_reason=None, index=0, logprobs=None)], created=1729470074, model='gpt-4o-2024-08-06', object='chat.completion.chunk', service_tier=None, system_fingerprint='fp_a7d06e42a7', usage=None), ChatCompletionChunk(id='chatcmpl-AKaSYrPdaLqUtaAaTyZKkJtb6Yn9c', choices=[Choice(delta=ChoiceDelta(content=' at', function_call=None, refusal=None, role=None, tool_calls=None), finish_reason=None, index=0, logprobs=None)], created=1729470074, model='gpt-4o-2024-08-06', object='chat.completion.chunk', service_tier=None, system_fingerprint='fp_a7d06e42a7', usage=None), ChatCompletionChunk(id='chatcmpl-AKaSYrPdaLqUtaAaTyZKkJtb6Yn9c', choices=[Choice(delta=ChoiceDelta(content=' a', function_call=None, refusal=None, role=None, tool_calls=None), finish_reason=None, index=0, logprobs=None)], created=1729470074, model='gpt-4o-2024-08-06', object='chat.completion.chunk', service_tier=None, system_fingerprint='fp_a7d06e42a7', usage=None), ChatCompletionChunk(id='chatcmpl-AKaSYrPdaLqUtaAaTyZKkJtb6Yn9c', choices=[Choice(delta=ChoiceDelta(content=' lively', function_call=None, refusal=None, role=None, tool_calls=None), finish_reason=None, index=0, logprobs=None)], created=1729470074, model='gpt-4o-2024-08-06', object='chat.completion.chunk', service_tier=None, system_fingerprint='fp_a7d06e42a7', usage=None), ChatCompletionChunk(id='chatcmpl-AKaSYrPdaLqUtaAaTyZKkJtb6Yn9c', choices=[Choice(delta=ChoiceDelta(content=' ', function_call=None, refusal=None, role=None, tool_calls=None), finish_reason=None, index=0, logprobs=None)], created=1729470074, model='gpt-4o-2024-08-06', object='chat.completion.chunk', service_tier=None, system_fingerprint='fp_a7d06e42a7', usage=None), ChatCompletionChunk(id='chatcmpl-AKaSYrPdaLqUtaAaTyZKkJtb6Yn9c', choices=[Choice(delta=ChoiceDelta(content='120', function_call=None, refusal=None, role=None, tool_calls=None), finish_reason=None, index=0, logprobs=None)], created=1729470074, model='gpt-4o-2024-08-06', object='chat.completion.chunk', service_tier=None, system_fingerprint='fp_a7d06e42a7', usage=None), ChatCompletionChunk(id='chatcmpl-AKaSYrPdaLqUtaAaTyZKkJtb6Yn9c', choices=[Choice(delta=ChoiceDelta(content=' bpm', function_call=None, refusal=None, role=None, tool_calls=None), finish_reason=None, index=0, logprobs=None)], created=1729470074, model='gpt-4o-2024-08-06', object='chat.completion.chunk', service_tier=None, system_fingerprint='fp_a7d06e42a7', usage=None), ChatCompletionChunk(id='chatcmpl-AKaSYrPdaLqUtaAaTyZKkJtb6Yn9c', choices=[Choice(delta=ChoiceDelta(content=',', function_call=None, refusal=None, role=None, tool_calls=None), finish_reason=None, index=0, logprobs=None)], created=1729470074, model='gpt-4o-2024-08-06', object='chat.completion.chunk', service_tier=None, system_fingerprint='fp_a7d06e42a7', usage=None), ChatCompletionChunk(id='chatcmpl-AKaSYrPdaLqUtaAaTyZKkJtb6Yn9c', choices=[Choice(delta=ChoiceDelta(content=' and', function_call=None, refusal=None, role=None, tool_calls=None), finish_reason=None, index=0, logprobs=None)], created=1729470074, model='gpt-4o-2024-08-06', object='chat.completion.chunk', service_tier=None, system_fingerprint='fp_a7d06e42a7', usage=None), ChatCompletionChunk(id='chatcmpl-AKaSYrPdaLqUtaAaTyZKkJtb6Yn9c', choices=[Choice(delta=ChoiceDelta(content=' the', function_call=None, refusal=None, role=None, tool_calls=None), finish_reason=None, index=0, logprobs=None)], created=1729470074, model='gpt-4o-2024-08-06', object='chat.completion.chunk', service_tier=None, system_fingerprint='fp_a7d06e42a7', usage=None), ChatCompletionChunk(id='chatcmpl-AKaSYrPdaLqUtaAaTyZKkJtb6Yn9c', choices=[Choice(delta=ChoiceDelta(content=' lights', function_call=None, refusal=None, role=None, tool_calls=None), finish_reason=None, index=0, logprobs=None)], created=1729470074, model='gpt-4o-2024-08-06', object='chat.completion.chunk', service_tier=None, system_fingerprint='fp_a7d06e42a7', usage=None), ChatCompletionChunk(id='chatcmpl-AKaSYrPdaLqUtaAaTyZKkJtb6Yn9c', choices=[Choice(delta=ChoiceDelta(content=' have', function_call=None, refusal=None, role=None, tool_calls=None), finish_reason=None, index=0, logprobs=None)], created=1729470074, model='gpt-4o-2024-08-06', object='chat.completion.chunk', service_tier=None, system_fingerprint='fp_a7d06e42a7', usage=None), ChatCompletionChunk(id='chatcmpl-AKaSYrPdaLqUtaAaTyZKkJtb6Yn9c', choices=[Choice(delta=ChoiceDelta(content=' been', function_call=None, refusal=None, role=None, tool_calls=None), finish_reason=None, index=0, logprobs=None)], created=1729470074, model='gpt-4o-2024-08-06', object='chat.completion.chunk', service_tier=None, system_fingerprint='fp_a7d06e42a7', usage=None), ChatCompletionChunk(id='chatcmpl-AKaSYrPdaLqUtaAaTyZKkJtb6Yn9c', choices=[Choice(delta=ChoiceDelta(content=' dim', function_call=None, refusal=None, role=None, tool_calls=None), finish_reason=None, index=0, logprobs=None)], created=1729470074, model='gpt-4o-2024-08-06', object='chat.completion.chunk', service_tier=None, system_fingerprint='fp_a7d06e42a7', usage=None), ChatCompletionChunk(id='chatcmpl-AKaSYrPdaLqUtaAaTyZKkJtb6Yn9c', choices=[Choice(delta=ChoiceDelta(content='med', function_call=None, refusal=None, role=None, tool_calls=None), finish_reason=None, index=0, logprobs=None)], created=1729470074, model='gpt-4o-2024-08-06', object='chat.completion.chunk', service_tier=None, system_fingerprint='fp_a7d06e42a7', usage=None), ChatCompletionChunk(id='chatcmpl-AKaSYrPdaLqUtaAaTyZKkJtb6Yn9c', choices=[Choice(delta=ChoiceDelta(content=' to', function_call=None, refusal=None, role=None, tool_calls=None), finish_reason=None, index=0, logprobs=None)], created=1729470074, model='gpt-4o-2024-08-06', object='chat.completion.chunk', service_tier=None, system_fingerprint='fp_a7d06e42a7', usage=None), ChatCompletionChunk(id='chatcmpl-AKaSYrPdaLqUtaAaTyZKkJtb6Yn9c', choices=[Choice(delta=ChoiceDelta(content=' create', function_call=None, refusal=None, role=None, tool_calls=None), finish_reason=None, index=0, logprobs=None)], created=1729470074, model='gpt-4o-2024-08-06', object='chat.completion.chunk', service_tier=None, system_fingerprint='fp_a7d06e42a7', usage=None), ChatCompletionChunk(id='chatcmpl-AKaSYrPdaLqUtaAaTyZKkJtb6Yn9c', choices=[Choice(delta=ChoiceDelta(content=' the', function_call=None, refusal=None, role=None, tool_calls=None), finish_reason=None, index=0, logprobs=None)], created=1729470074, model='gpt-4o-2024-08-06', object='chat.completion.chunk', service_tier=None, system_fingerprint='fp_a7d06e42a7', usage=None), ChatCompletionChunk(id='chatcmpl-AKaSYrPdaLqUtaAaTyZKkJtb6Yn9c', choices=[Choice(delta=ChoiceDelta(content=' perfect', function_call=None, refusal=None, role=None, tool_calls=None), finish_reason=None, index=0, logprobs=None)], created=1729470074, model='gpt-4o-2024-08-06', object='chat.completion.chunk', service_tier=None, system_fingerprint='fp_a7d06e42a7', usage=None), ChatCompletionChunk(id='chatcmpl-AKaSYrPdaLqUtaAaTyZKkJtb6Yn9c', choices=[Choice(delta=ChoiceDelta(content=' ambiance', function_call=None, refusal=None, role=None, tool_calls=None), finish_reason=None, index=0, logprobs=None)], created=1729470074, model='gpt-4o-2024-08-06', object='chat.completion.chunk', service_tier=None, system_fingerprint='fp_a7d06e42a7', usage=None), ChatCompletionChunk(id='chatcmpl-AKaSYrPdaLqUtaAaTyZKkJtb6Yn9c', choices=[Choice(delta=ChoiceDelta(content='.', function_call=None, refusal=None, role=None, tool_calls=None), finish_reason=None, index=0, logprobs=None)], created=1729470074, model='gpt-4o-2024-08-06', object='chat.completion.chunk', service_tier=None, system_fingerprint='fp_a7d06e42a7', usage=None), ChatCompletionChunk(id='chatcmpl-AKaSYrPdaLqUtaAaTyZKkJtb6Yn9c', choices=[Choice(delta=ChoiceDelta(content=' Enjoy', function_call=None, refusal=None, role=None, tool_calls=None), finish_reason=None, index=0, logprobs=None)], created=1729470074, model='gpt-4o-2024-08-06', object='chat.completion.chunk', service_tier=None, system_fingerprint='fp_a7d06e42a7', usage=None), ChatCompletionChunk(id='chatcmpl-AKaSYrPdaLqUtaAaTyZKkJtb6Yn9c', choices=[Choice(delta=ChoiceDelta(content=' the', function_call=None, refusal=None, role=None, tool_calls=None), finish_reason=None, index=0, logprobs=None)], created=1729470074, model='gpt-4o-2024-08-06', object='chat.completion.chunk', service_tier=None, system_fingerprint='fp_a7d06e42a7', usage=None), ChatCompletionChunk(id='chatcmpl-AKaSYrPdaLqUtaAaTyZKkJtb6Yn9c', choices=[Choice(delta=ChoiceDelta(content=' party', function_call=None, refusal=None, role=None, tool_calls=None), finish_reason=None, index=0, logprobs=None)], created=1729470074, model='gpt-4o-2024-08-06', object='chat.completion.chunk', service_tier=None, system_fingerprint='fp_a7d06e42a7', usage=None), ChatCompletionChunk(id='chatcmpl-AKaSYrPdaLqUtaAaTyZKkJtb6Yn9c', choices=[Choice(delta=ChoiceDelta(content='!', function_call=None, refusal=None, role=None, tool_calls=None), finish_reason=None, index=0, logprobs=None)], created=1729470074, model='gpt-4o-2024-08-06', object='chat.completion.chunk', service_tier=None, system_fingerprint='fp_a7d06e42a7', usage=None), ChatCompletionChunk(id='chatcmpl-AKaSYrPdaLqUtaAaTyZKkJtb6Yn9c', choices=[Choice(delta=ChoiceDelta(content=None, function_call=None, refusal=None, role=None, tool_calls=None), finish_reason='stop', index=0, logprobs=None)], created=1729470074, model='gpt-4o-2024-08-06', object='chat.completion.chunk', service_tier=None, system_fingerprint='fp_a7d06e42a7', usage=None), ChatCompletionChunk(id='chatcmpl-AKaSYrPdaLqUtaAaTyZKkJtb6Yn9c', choices=[], created=1729470074, model='gpt-4o-2024-08-06', object='chat.completion.chunk', service_tier=None, system_fingerprint='fp_a7d06e42a7', usage=CompletionUsage(completion_tokens=45, prompt_tokens=134, total_tokens=179, completion_tokens_details=CompletionTokensDetails(audio_tokens=None, reasoning_tokens=0), prompt_tokens_details=PromptTokensDetails(audio_tokens=None, cached_tokens=0)))])]"
      ]
     },
     "execution_count": 20,
     "metadata": {},
     "output_type": "execute_result"
    }
   ],
   "source": [
    "response = chat_openai.astream(\n",
    "    prompt,\n",
    "    model_name=\"gpt-4o-2024-08-06\",\n",
    "    tools=[power_disco_ball, start_music, dim_lights],\n",
    "    tool_configs=tool_configs,\n",
    ")\n",
    "\n",
    "# Response is CompletionResults object\n",
    "[r async for r in response]"
   ]
  },
  {
   "cell_type": "markdown",
   "metadata": {},
   "source": [
    "# Pydantic tools"
   ]
  },
  {
   "cell_type": "markdown",
   "metadata": {},
   "source": [
    "You can define tools as pydantic models. To use pydantic model as tool, make sure the following points: \n",
    "\n",
    "- Write description of top level docstring field in the class. This is used for tool description.\n",
    "- Define each argument fileds with description\n",
    "- Implement run() method."
   ]
  },
  {
   "cell_type": "markdown",
   "metadata": {},
   "source": [
    "Tool definition using `ToolProperty`, `ToolParameter` and `ToolConfig` is almost equivalent to the following way. "
   ]
  },
  {
   "cell_type": "code",
   "execution_count": 21,
   "metadata": {},
   "outputs": [],
   "source": [
    "from enum import Enum\n",
    "from typing import Literal\n",
    "\n",
    "from pydantic import BaseModel, Field\n",
    "\n",
    "\n",
    "class PowerDiscoBall(BaseModel):\n",
    "    \"\"\"Powers the spinning disco ball.\"\"\"\n",
    "\n",
    "    power: bool = Field(description=\"Boolean to spin disco ball.\")\n",
    "\n",
    "    def run(self) -> str:\n",
    "        return f\"Disco ball is {'spinning!' if self.power else 'stopped.'}\"\n",
    "\n",
    "\n",
    "class DimLights(BaseModel):\n",
    "    \"\"\"Dim the lights.\"\"\"\n",
    "\n",
    "    brightness: float = Field(description=\"The brightness of the lights, 0.0 is off, 1.0 is full.\")\n",
    "\n",
    "    def run(self) -> str:\n",
    "        return f\"Lights are now set to {self.brightness}\"\n",
    "\n",
    "\n",
    "class BPM(Enum):\n",
    "    \"\"\"The beats per minute of the music.\"\"\"\n",
    "\n",
    "    SLOW = \"60\"\n",
    "    MEDIUM = \"120\"\n",
    "    FAST = \"180\"\n",
    "\n",
    "\n",
    "class StartMusic(BaseModel):\n",
    "    \"\"\"Play some music matching the specified parameters.\"\"\"\n",
    "\n",
    "    energetic: bool = Field(description=\"Whether the music is energetic or not.\")\n",
    "    loud: bool = Field(description=\"Whether the music is loud or not.\")\n",
    "    bpm: BPM = Field(description=\"The beats per minute of the music.\")\n",
    "    # bpm: Literal[\"60\", \"120\", \"180\"] = Field(..., description=\"The beats per minute of the music.\") # This also works\n",
    "\n",
    "    def run(self) -> str:\n",
    "        return f\"Starting music! {self.energetic=} {self.loud=}, {self.bpm=}\""
   ]
  },
  {
   "cell_type": "code",
   "execution_count": 22,
   "metadata": {},
   "outputs": [],
   "source": [
    "# Convert to ToolConfig\n",
    "\n",
    "tools_pydantic = [PowerDiscoBall, StartMusic, DimLights]\n",
    "tool_configs_pydantic = [ToolConfig.from_pydantic(tool) for tool in tools_pydantic]"
   ]
  },
  {
   "cell_type": "code",
   "execution_count": 23,
   "metadata": {},
   "outputs": [],
   "source": [
    "chat_openai = OpenAIFunctionalChat(api_key_env_name=\"API_KEY\")"
   ]
  },
  {
   "cell_type": "code",
   "execution_count": 24,
   "metadata": {},
   "outputs": [
    {
     "data": {
      "text/plain": [
       "{'message': {'role': 'assistant',\n",
       "  'content': [{'text': 'The party mood is now in full swing! 🎉 The disco ball is spinning, energetic music is playing loudly, and the lights are dimmed for that perfect atmosphere. Time to dance and have fun! 🕺💃'}],\n",
       "  'name': None},\n",
       " 'usage': {'model_name': 'gpt-4o-mini-2024-07-18',\n",
       "  'prompt_tokens': 320,\n",
       "  'completion_tokens': 121},\n",
       " 'prompt': [{'role': 'user',\n",
       "   'content': [{'type': 'text',\n",
       "     'text': 'Turn this place into a comfortable party mood!'}],\n",
       "   'name': 'User'},\n",
       "  {'content': None,\n",
       "   'refusal': None,\n",
       "   'role': 'assistant',\n",
       "   'audio': None,\n",
       "   'function_call': None,\n",
       "   'tool_calls': [{'id': 'call_OgONBX5hrbH8HYFBQtW7kZ2q',\n",
       "     'function': {'arguments': '{\"power\": true}', 'name': 'PowerDiscoBall'},\n",
       "     'type': 'function'},\n",
       "    {'id': 'call_m3HIu4y5NW1tsapEkK7kjvxW',\n",
       "     'function': {'arguments': '{\"energetic\": true, \"loud\": true, \"bpm\": \"120\"}',\n",
       "      'name': 'StartMusic'},\n",
       "     'type': 'function'},\n",
       "    {'id': 'call_OaDP8bJ32XBjeDclqffOCbKW',\n",
       "     'function': {'arguments': '{\"brightness\": 0.5}', 'name': 'DimLights'},\n",
       "     'type': 'function'}]},\n",
       "  {'role': 'tool',\n",
       "   'tool_call_id': 'call_OgONBX5hrbH8HYFBQtW7kZ2q',\n",
       "   'name': 'PowerDiscoBall',\n",
       "   'content': 'Disco ball is spinning!'},\n",
       "  {'role': 'tool',\n",
       "   'tool_call_id': 'call_m3HIu4y5NW1tsapEkK7kjvxW',\n",
       "   'name': 'StartMusic',\n",
       "   'content': \"Starting music! self.energetic=True self.loud=True, self.bpm=<BPM.MEDIUM: '120'>\"},\n",
       "  {'role': 'tool',\n",
       "   'tool_call_id': 'call_OaDP8bJ32XBjeDclqffOCbKW',\n",
       "   'name': 'DimLights',\n",
       "   'content': 'Lights are now set to 0.5'}]}"
      ]
     },
     "execution_count": 24,
     "metadata": {},
     "output_type": "execute_result"
    }
   ],
   "source": [
    "response = chat_openai.run(\n",
    "    prompt,\n",
    "    model_name=\"gpt-4o-mini-2024-07-18\",\n",
    "    tools=tools_pydantic,\n",
    "    tool_configs=tool_configs_pydantic,\n",
    ")\n",
    "\n",
    "# Response is CompletionResults object\n",
    "response.model_dump()"
   ]
  },
  {
   "cell_type": "markdown",
   "metadata": {},
   "source": [
    "### Array property for OpenAI API"
   ]
  },
  {
   "cell_type": "markdown",
   "metadata": {},
   "source": [
    "Function Calling with array property for OpenAI Chat Completion."
   ]
  },
  {
   "cell_type": "code",
   "execution_count": 25,
   "metadata": {},
   "outputs": [],
   "source": [
    "def get_ingredients(ingredients: list[str]) -> str:\n",
    "    \"\"\"Prepare ingredients to make a meal.\"\"\"\n",
    "    return f\"Preparing {ingredients}.\"\n",
    "\n",
    "\n",
    "tool_configs_array = [\n",
    "    ToolConfig(\n",
    "        name=\"get_ingredients\",\n",
    "        description=\"Prepare ingredients to make a meal.\",\n",
    "        parameters=ToolParameter(\n",
    "            properties=[\n",
    "                ToolProperty(\n",
    "                    name=\"ingredients\",\n",
    "                    type=\"array\",\n",
    "                    description=\"List of ingredients.\",\n",
    "                    items={\"type\": \"string\"},\n",
    "                ),\n",
    "            ],\n",
    "            required=[\"ingredients\"],\n",
    "        ),\n",
    "    ),\n",
    "]"
   ]
  },
  {
   "cell_type": "code",
   "execution_count": 26,
   "metadata": {},
   "outputs": [],
   "source": [
    "chat_openai = OpenAIFunctionalChat(api_key_env_name=\"API_KEY\")"
   ]
  },
  {
   "cell_type": "code",
   "execution_count": 27,
   "metadata": {},
   "outputs": [
    {
     "data": {
      "text/plain": [
       "{'message': {'role': 'assistant',\n",
       "  'content': [{'text': \"To make omelet rice, you'll need the following ingredients:\\n\\n- Rice\\n- Eggs\\n- Onion\\n- Green peas\\n- Carrots\\n- Chicken breast\\n- Soy sauce\\n- Salt\\n- Black pepper\\n- Ketchup\\n- Butter or oil for cooking\\n\\nThese ingredients will help you prepare the classic dish known as omurice, combining savory fried rice with a fluffy omelet.\"}],\n",
       "  'name': None},\n",
       " 'usage': {'model_name': 'gpt-4o-2024-08-06',\n",
       "  'prompt_tokens': 194,\n",
       "  'completion_tokens': 118},\n",
       " 'prompt': [{'role': 'user',\n",
       "   'content': [{'type': 'text',\n",
       "     'text': 'What are the ingredients to make omelet rice?'}],\n",
       "   'name': 'User'},\n",
       "  {'content': None,\n",
       "   'refusal': None,\n",
       "   'role': 'assistant',\n",
       "   'audio': None,\n",
       "   'function_call': None,\n",
       "   'tool_calls': [{'id': 'call_b2egSX3R23uApcZKxtZfxDdB',\n",
       "     'function': {'arguments': '{\"ingredients\":[\"rice\",\"eggs\",\"onion\",\"green peas\",\"carrots\",\"chicken breast\",\"soy sauce\",\"salt\",\"black pepper\",\"ketchup\",\"butter or oil\"]}',\n",
       "      'name': 'get_ingredients'},\n",
       "     'type': 'function'}]},\n",
       "  {'role': 'tool',\n",
       "   'tool_call_id': 'call_b2egSX3R23uApcZKxtZfxDdB',\n",
       "   'name': 'get_ingredients',\n",
       "   'content': \"Preparing ['rice', 'eggs', 'onion', 'green peas', 'carrots', 'chicken breast', 'soy sauce', 'salt', 'black pepper', 'ketchup', 'butter or oil'].\"}]}"
      ]
     },
     "execution_count": 27,
     "metadata": {},
     "output_type": "execute_result"
    }
   ],
   "source": [
    "response = chat_openai.run(\n",
    "    prompt=\"What are the ingredients to make omelet rice?\",\n",
    "    tool_choice=\"get_ingredients\",\n",
    "    model_name=\"gpt-4o-2024-08-06\",\n",
    "    tools=[get_ingredients],\n",
    "    tool_configs=tool_configs_array,\n",
    ")\n",
    "response.model_dump()"
   ]
  },
  {
   "cell_type": "markdown",
   "metadata": {},
   "source": [
    "### Azure OpenAI Chat Completion "
   ]
  },
  {
   "cell_type": "code",
   "execution_count": 28,
   "metadata": {},
   "outputs": [],
   "source": [
    "chat_openai_azure = OpenAIFunctionalChat(\n",
    "    api_key_env_name=\"AZURE_API_KEY\",\n",
    "    api_type=\"azure\",\n",
    "    api_version=\"2024-05-01-preview\",\n",
    "    endpoint_env_name=\"AZURE_ENDPOINT\",\n",
    "    deployment_id_env_name=\"AZURE_DEPLOYMENT_ID\",\n",
    ")"
   ]
  },
  {
   "cell_type": "code",
   "execution_count": 29,
   "metadata": {},
   "outputs": [
    {
     "data": {
      "text/plain": [
       "{'message': {'role': 'assistant',\n",
       "  'content': [{'text': \"The disco ball is spinning, the energetic music is pumping at 120 bpm, and the lights are dimmed to create a perfect party ambiance. Let's get this party started!\"}],\n",
       "  'name': None},\n",
       " 'usage': {'model_name': 'gpt-4o-2024-05-13',\n",
       "  'prompt_tokens': 305,\n",
       "  'completion_tokens': 110},\n",
       " 'prompt': [{'role': 'user',\n",
       "   'content': [{'type': 'text',\n",
       "     'text': 'Turn this place into a comfortable party mood!'}],\n",
       "   'name': 'User'},\n",
       "  {'content': None,\n",
       "   'refusal': None,\n",
       "   'role': 'assistant',\n",
       "   'audio': None,\n",
       "   'function_call': None,\n",
       "   'tool_calls': [{'id': 'call_7xwTGw3hrzJIJECffhqxpmlA',\n",
       "     'function': {'arguments': '{\"power\": true}', 'name': 'power_disco_ball'},\n",
       "     'type': 'function'},\n",
       "    {'id': 'call_qWkwJ3hHakU6t6fl11STQbmg',\n",
       "     'function': {'arguments': '{\"energetic\": true, \"loud\": true, \"bpm\": \"120\"}',\n",
       "      'name': 'start_music'},\n",
       "     'type': 'function'},\n",
       "    {'id': 'call_v4ESReEribrSBH6QqFaIVl5z',\n",
       "     'function': {'arguments': '{\"brightness\": 0.5}', 'name': 'dim_lights'},\n",
       "     'type': 'function'}]},\n",
       "  {'role': 'tool',\n",
       "   'tool_call_id': 'call_7xwTGw3hrzJIJECffhqxpmlA',\n",
       "   'name': 'power_disco_ball',\n",
       "   'content': 'Disco ball is spinning!'},\n",
       "  {'role': 'tool',\n",
       "   'tool_call_id': 'call_qWkwJ3hHakU6t6fl11STQbmg',\n",
       "   'name': 'start_music',\n",
       "   'content': \"Starting music! energetic=True loud=True, bpm='120'\"},\n",
       "  {'role': 'tool',\n",
       "   'tool_call_id': 'call_v4ESReEribrSBH6QqFaIVl5z',\n",
       "   'name': 'dim_lights',\n",
       "   'content': 'Lights are now set to 0.5'}]}"
      ]
     },
     "execution_count": 29,
     "metadata": {},
     "output_type": "execute_result"
    }
   ],
   "source": [
    "response = chat_openai_azure.run(\n",
    "    prompt,\n",
    "    model_name=\"gpt-4o-2024-05-13\",\n",
    "    tools=[power_disco_ball, start_music, dim_lights],\n",
    "    tool_configs=tool_configs,\n",
    ")\n",
    "\n",
    "response.model_dump()"
   ]
  },
  {
   "cell_type": "code",
   "execution_count": 30,
   "metadata": {},
   "outputs": [
    {
     "data": {
      "text/plain": [
       "{'message': {'role': 'assistant',\n",
       "  'content': [{'text': 'Alright! The disco ball is spinning, the energetic music is blasting at 120 BPM, and the lights are dimmed to a cozy 50%. The party mood is set! 🕺💃'}],\n",
       "  'name': None},\n",
       " 'usage': {'model_name': 'gpt-4o-2024-05-13',\n",
       "  'prompt_tokens': 305,\n",
       "  'completion_tokens': 116},\n",
       " 'prompt': [{'role': 'user',\n",
       "   'content': [{'type': 'text',\n",
       "     'text': 'Turn this place into a comfortable party mood!'}],\n",
       "   'name': 'User'},\n",
       "  {'content': None,\n",
       "   'refusal': None,\n",
       "   'role': 'assistant',\n",
       "   'audio': None,\n",
       "   'function_call': None,\n",
       "   'tool_calls': [{'id': 'call_L7V2snfpNg7gB6vbn8sHLcVO',\n",
       "     'function': {'arguments': '{\"power\": true}', 'name': 'power_disco_ball'},\n",
       "     'type': 'function'},\n",
       "    {'id': 'call_vKCKRpJmuzWwOrHwJ796K1xZ',\n",
       "     'function': {'arguments': '{\"energetic\": true, \"loud\": true, \"bpm\": \"120\"}',\n",
       "      'name': 'start_music'},\n",
       "     'type': 'function'},\n",
       "    {'id': 'call_ZDlqyHA7AgRZFBcFmn4JaWWO',\n",
       "     'function': {'arguments': '{\"brightness\": 0.5}', 'name': 'dim_lights'},\n",
       "     'type': 'function'}]},\n",
       "  {'role': 'tool',\n",
       "   'tool_call_id': 'call_L7V2snfpNg7gB6vbn8sHLcVO',\n",
       "   'name': 'power_disco_ball',\n",
       "   'content': 'Disco ball is spinning!'},\n",
       "  {'role': 'tool',\n",
       "   'tool_call_id': 'call_vKCKRpJmuzWwOrHwJ796K1xZ',\n",
       "   'name': 'start_music',\n",
       "   'content': \"Starting music! energetic=True loud=True, bpm='120'\"},\n",
       "  {'role': 'tool',\n",
       "   'tool_call_id': 'call_ZDlqyHA7AgRZFBcFmn4JaWWO',\n",
       "   'name': 'dim_lights',\n",
       "   'content': 'Lights are now set to 0.5'}]}"
      ]
     },
     "execution_count": 30,
     "metadata": {},
     "output_type": "execute_result"
    }
   ],
   "source": [
    "response = await chat_openai_azure.arun(\n",
    "    prompt,\n",
    "    model_name=\"gpt-4o-2024-05-13\",\n",
    "    tools=[power_disco_ball, start_music, dim_lights],\n",
    "    tool_configs=tool_configs,\n",
    ")\n",
    "\n",
    "response.model_dump()"
   ]
  },
  {
   "cell_type": "code",
   "execution_count": 31,
   "metadata": {},
   "outputs": [
    {
     "data": {
      "text/plain": [
       "{'message': {'role': 'assistant',\n",
       "  'content': [{'text': \"The music has started! Let's add a few more elements to ramp up the party:\\n\\n1. **Lighting**: Set up some colorful LED lights or fairy lights. If you have smart lights, adjust them to dynamic, colorful modes that sync with the music.\\n2. **Seating and Space**: Arrange comfortable seating areas but also create an open space for dancing.\\n3. **Decorations**: Hang some fun, festive decorations such as streamers, balloons, or banners.\\n4. **Refreshments**: Set up a snack and drink station with a variety of options. Consider themed cups and plates to keep it festive.\\n5. **Games and Activities**: Prepare some party games or activities like a photo booth with props, dance-off area, or even a karaoke machine if that's your style.\\n\\nNow you've got a comfortable yet energetic party atmosphere!\"}],\n",
       "  'name': None},\n",
       " 'usage': {'model_name': 'gpt-4o-2024-05-13',\n",
       "  'prompt_tokens': 244,\n",
       "  'completion_tokens': 189},\n",
       " 'prompt': [{'role': 'user',\n",
       "   'content': [{'type': 'text',\n",
       "     'text': 'Turn this place into a comfortable party mood!'}],\n",
       "   'name': 'User'},\n",
       "  {'content': None,\n",
       "   'refusal': None,\n",
       "   'role': 'assistant',\n",
       "   'audio': None,\n",
       "   'function_call': None,\n",
       "   'tool_calls': [{'id': 'call_YOx9rEclaooPDEihHOnf4Jn1',\n",
       "     'function': {'arguments': '{\"energetic\":true,\"loud\":true,\"bpm\":\"120\"}',\n",
       "      'name': 'start_music'},\n",
       "     'type': 'function'}]},\n",
       "  {'role': 'tool',\n",
       "   'tool_call_id': 'call_YOx9rEclaooPDEihHOnf4Jn1',\n",
       "   'name': 'start_music',\n",
       "   'content': \"Starting music! energetic=True loud=True, bpm='120'\"}]}"
      ]
     },
     "execution_count": 31,
     "metadata": {},
     "output_type": "execute_result"
    }
   ],
   "source": [
    "response = chat_openai_azure.run(\n",
    "    prompt,\n",
    "    tool_choice=\"start_music\",\n",
    "    model_name=\"gpt-4o-2024-05-13\",\n",
    "    tools=[power_disco_ball, start_music, dim_lights],\n",
    "    tool_configs=tool_configs,\n",
    ")\n",
    "\n",
    "response.model_dump()"
   ]
  },
  {
   "cell_type": "code",
   "execution_count": 32,
   "metadata": {},
   "outputs": [
    {
     "data": {
      "text/plain": [
       "[CompletionResults(message=Message(role='assistant', content=[TextContent(text='')], name=None), usage=Usage(prompt_tokens=0, completion_tokens=0, total_tokens=0), prompt=[{}], raw=None),\n",
       " CompletionResults(message=Message(role='assistant', content=[TextContent(text='The')], name=None), usage=Usage(prompt_tokens=0, completion_tokens=0, total_tokens=0), prompt=[{}], raw=None),\n",
       " CompletionResults(message=Message(role='assistant', content=[TextContent(text='The lights')], name=None), usage=Usage(prompt_tokens=0, completion_tokens=0, total_tokens=0), prompt=[{}], raw=None),\n",
       " CompletionResults(message=Message(role='assistant', content=[TextContent(text='The lights are')], name=None), usage=Usage(prompt_tokens=0, completion_tokens=0, total_tokens=0), prompt=[{}], raw=None),\n",
       " CompletionResults(message=Message(role='assistant', content=[TextContent(text='The lights are dim')], name=None), usage=Usage(prompt_tokens=0, completion_tokens=0, total_tokens=0), prompt=[{}], raw=None),\n",
       " CompletionResults(message=Message(role='assistant', content=[TextContent(text='The lights are dimmed')], name=None), usage=Usage(prompt_tokens=0, completion_tokens=0, total_tokens=0), prompt=[{}], raw=None),\n",
       " CompletionResults(message=Message(role='assistant', content=[TextContent(text='The lights are dimmed,')], name=None), usage=Usage(prompt_tokens=0, completion_tokens=0, total_tokens=0), prompt=[{}], raw=None),\n",
       " CompletionResults(message=Message(role='assistant', content=[TextContent(text='The lights are dimmed, the')], name=None), usage=Usage(prompt_tokens=0, completion_tokens=0, total_tokens=0), prompt=[{}], raw=None),\n",
       " CompletionResults(message=Message(role='assistant', content=[TextContent(text='The lights are dimmed, the disco')], name=None), usage=Usage(prompt_tokens=0, completion_tokens=0, total_tokens=0), prompt=[{}], raw=None),\n",
       " CompletionResults(message=Message(role='assistant', content=[TextContent(text='The lights are dimmed, the disco ball')], name=None), usage=Usage(prompt_tokens=0, completion_tokens=0, total_tokens=0), prompt=[{}], raw=None),\n",
       " CompletionResults(message=Message(role='assistant', content=[TextContent(text='The lights are dimmed, the disco ball is')], name=None), usage=Usage(prompt_tokens=0, completion_tokens=0, total_tokens=0), prompt=[{}], raw=None),\n",
       " CompletionResults(message=Message(role='assistant', content=[TextContent(text='The lights are dimmed, the disco ball is spinning')], name=None), usage=Usage(prompt_tokens=0, completion_tokens=0, total_tokens=0), prompt=[{}], raw=None),\n",
       " CompletionResults(message=Message(role='assistant', content=[TextContent(text='The lights are dimmed, the disco ball is spinning,')], name=None), usage=Usage(prompt_tokens=0, completion_tokens=0, total_tokens=0), prompt=[{}], raw=None),\n",
       " CompletionResults(message=Message(role='assistant', content=[TextContent(text='The lights are dimmed, the disco ball is spinning, and')], name=None), usage=Usage(prompt_tokens=0, completion_tokens=0, total_tokens=0), prompt=[{}], raw=None),\n",
       " CompletionResults(message=Message(role='assistant', content=[TextContent(text='The lights are dimmed, the disco ball is spinning, and the')], name=None), usage=Usage(prompt_tokens=0, completion_tokens=0, total_tokens=0), prompt=[{}], raw=None),\n",
       " CompletionResults(message=Message(role='assistant', content=[TextContent(text='The lights are dimmed, the disco ball is spinning, and the music')], name=None), usage=Usage(prompt_tokens=0, completion_tokens=0, total_tokens=0), prompt=[{}], raw=None),\n",
       " CompletionResults(message=Message(role='assistant', content=[TextContent(text='The lights are dimmed, the disco ball is spinning, and the music is')], name=None), usage=Usage(prompt_tokens=0, completion_tokens=0, total_tokens=0), prompt=[{}], raw=None),\n",
       " CompletionResults(message=Message(role='assistant', content=[TextContent(text='The lights are dimmed, the disco ball is spinning, and the music is pumping')], name=None), usage=Usage(prompt_tokens=0, completion_tokens=0, total_tokens=0), prompt=[{}], raw=None),\n",
       " CompletionResults(message=Message(role='assistant', content=[TextContent(text='The lights are dimmed, the disco ball is spinning, and the music is pumping.')], name=None), usage=Usage(prompt_tokens=0, completion_tokens=0, total_tokens=0), prompt=[{}], raw=None),\n",
       " CompletionResults(message=Message(role='assistant', content=[TextContent(text='The lights are dimmed, the disco ball is spinning, and the music is pumping. The')], name=None), usage=Usage(prompt_tokens=0, completion_tokens=0, total_tokens=0), prompt=[{}], raw=None),\n",
       " CompletionResults(message=Message(role='assistant', content=[TextContent(text='The lights are dimmed, the disco ball is spinning, and the music is pumping. The party')], name=None), usage=Usage(prompt_tokens=0, completion_tokens=0, total_tokens=0), prompt=[{}], raw=None),\n",
       " CompletionResults(message=Message(role='assistant', content=[TextContent(text='The lights are dimmed, the disco ball is spinning, and the music is pumping. The party mood')], name=None), usage=Usage(prompt_tokens=0, completion_tokens=0, total_tokens=0), prompt=[{}], raw=None),\n",
       " CompletionResults(message=Message(role='assistant', content=[TextContent(text='The lights are dimmed, the disco ball is spinning, and the music is pumping. The party mood is')], name=None), usage=Usage(prompt_tokens=0, completion_tokens=0, total_tokens=0), prompt=[{}], raw=None),\n",
       " CompletionResults(message=Message(role='assistant', content=[TextContent(text='The lights are dimmed, the disco ball is spinning, and the music is pumping. The party mood is set')], name=None), usage=Usage(prompt_tokens=0, completion_tokens=0, total_tokens=0), prompt=[{}], raw=None),\n",
       " CompletionResults(message=Message(role='assistant', content=[TextContent(text='The lights are dimmed, the disco ball is spinning, and the music is pumping. The party mood is set!')], name=None), usage=Usage(prompt_tokens=0, completion_tokens=0, total_tokens=0), prompt=[{}], raw=None),\n",
       " CompletionResults(message=Message(role='assistant', content=[TextContent(text='The lights are dimmed, the disco ball is spinning, and the music is pumping. The party mood is set! 🎉')], name=None), usage=Usage(prompt_tokens=0, completion_tokens=0, total_tokens=0), prompt=[{}], raw=None),\n",
       " CompletionResults(message=Message(role='assistant', content=[TextContent(text='The lights are dimmed, the disco ball is spinning, and the music is pumping. The party mood is set! 🎉🕺')], name=None), usage=Usage(prompt_tokens=0, completion_tokens=0, total_tokens=0), prompt=[{}], raw=None),\n",
       " CompletionResults(message=Message(role='assistant', content=[TextContent(text='The lights are dimmed, the disco ball is spinning, and the music is pumping. The party mood is set! 🎉🕺💃')], name=None), usage=Usage(prompt_tokens=0, completion_tokens=0, total_tokens=0), prompt=[{}], raw=None),\n",
       " CompletionResults(message=Message(role='assistant', content=[TextContent(text='The lights are dimmed, the disco ball is spinning, and the music is pumping. The party mood is set! 🎉🕺💃')], name=None), usage=Usage(prompt_tokens=306, completion_tokens=106, total_tokens=412), prompt=[{'role': 'user', 'content': [{'type': 'text', 'text': 'Turn this place into a comfortable party mood!'}], 'name': 'User'}, {'content': None, 'refusal': None, 'role': 'assistant', 'audio': None, 'function_call': None, 'tool_calls': [{'id': 'call_8eOxuWPLbZheremrwk9uDfGL', 'function': {'arguments': '{\"brightness\": 0.3}', 'name': 'dim_lights'}, 'type': 'function'}, {'id': 'call_GxNkNt2xgRv7ovoIGDzGsTRK', 'function': {'arguments': '{\"power\": true}', 'name': 'power_disco_ball'}, 'type': 'function'}, {'id': 'call_PU8dldTSLWSVkVNjrciehl31', 'function': {'arguments': '{\"energetic\": true, \"loud\": true, \"bpm\": \"120\"}', 'name': 'start_music'}, 'type': 'function'}]}, {'role': 'tool', 'tool_call_id': 'call_8eOxuWPLbZheremrwk9uDfGL', 'name': 'dim_lights', 'content': 'Lights are now set to 0.3'}, {'role': 'tool', 'tool_call_id': 'call_GxNkNt2xgRv7ovoIGDzGsTRK', 'name': 'power_disco_ball', 'content': 'Disco ball is spinning!'}, {'role': 'tool', 'tool_call_id': 'call_PU8dldTSLWSVkVNjrciehl31', 'name': 'start_music', 'content': \"Starting music! energetic=True loud=True, bpm='120'\"}], raw=[ChatCompletionChunk(id='', choices=[], created=0, model='', object='', service_tier=None, system_fingerprint=None, usage=None, prompt_filter_results=[{'prompt_index': 0, 'content_filter_results': {'hate': {'filtered': False, 'severity': 'safe'}, 'jailbreak': {'filtered': False, 'detected': False}, 'self_harm': {'filtered': False, 'severity': 'safe'}, 'sexual': {'filtered': False, 'severity': 'safe'}, 'violence': {'filtered': False, 'severity': 'safe'}}}]), ChatCompletionChunk(id='chatcmpl-AKaSnDdFvBaNXkiZnShRFigtqzgFN', choices=[Choice(delta=ChoiceDelta(content='', function_call=None, refusal=None, role='assistant', tool_calls=None), finish_reason=None, index=0, logprobs=None, content_filter_results={})], created=1729470089, model='gpt-4o-2024-05-13', object='chat.completion.chunk', service_tier=None, system_fingerprint='fp_67802d9a6d', usage=None), ChatCompletionChunk(id='chatcmpl-AKaSnDdFvBaNXkiZnShRFigtqzgFN', choices=[Choice(delta=ChoiceDelta(content='The', function_call=None, refusal=None, role=None, tool_calls=None), finish_reason=None, index=0, logprobs=None, content_filter_results={'hate': {'filtered': False, 'severity': 'safe'}, 'self_harm': {'filtered': False, 'severity': 'safe'}, 'sexual': {'filtered': False, 'severity': 'safe'}, 'violence': {'filtered': False, 'severity': 'safe'}})], created=1729470089, model='gpt-4o-2024-05-13', object='chat.completion.chunk', service_tier=None, system_fingerprint='fp_67802d9a6d', usage=None), ChatCompletionChunk(id='chatcmpl-AKaSnDdFvBaNXkiZnShRFigtqzgFN', choices=[Choice(delta=ChoiceDelta(content=' lights', function_call=None, refusal=None, role=None, tool_calls=None), finish_reason=None, index=0, logprobs=None, content_filter_results={'hate': {'filtered': False, 'severity': 'safe'}, 'self_harm': {'filtered': False, 'severity': 'safe'}, 'sexual': {'filtered': False, 'severity': 'safe'}, 'violence': {'filtered': False, 'severity': 'safe'}})], created=1729470089, model='gpt-4o-2024-05-13', object='chat.completion.chunk', service_tier=None, system_fingerprint='fp_67802d9a6d', usage=None), ChatCompletionChunk(id='chatcmpl-AKaSnDdFvBaNXkiZnShRFigtqzgFN', choices=[Choice(delta=ChoiceDelta(content=' are', function_call=None, refusal=None, role=None, tool_calls=None), finish_reason=None, index=0, logprobs=None, content_filter_results={'hate': {'filtered': False, 'severity': 'safe'}, 'self_harm': {'filtered': False, 'severity': 'safe'}, 'sexual': {'filtered': False, 'severity': 'safe'}, 'violence': {'filtered': False, 'severity': 'safe'}})], created=1729470089, model='gpt-4o-2024-05-13', object='chat.completion.chunk', service_tier=None, system_fingerprint='fp_67802d9a6d', usage=None), ChatCompletionChunk(id='chatcmpl-AKaSnDdFvBaNXkiZnShRFigtqzgFN', choices=[Choice(delta=ChoiceDelta(content=' dim', function_call=None, refusal=None, role=None, tool_calls=None), finish_reason=None, index=0, logprobs=None, content_filter_results={'hate': {'filtered': False, 'severity': 'safe'}, 'self_harm': {'filtered': False, 'severity': 'safe'}, 'sexual': {'filtered': False, 'severity': 'safe'}, 'violence': {'filtered': False, 'severity': 'safe'}})], created=1729470089, model='gpt-4o-2024-05-13', object='chat.completion.chunk', service_tier=None, system_fingerprint='fp_67802d9a6d', usage=None), ChatCompletionChunk(id='chatcmpl-AKaSnDdFvBaNXkiZnShRFigtqzgFN', choices=[Choice(delta=ChoiceDelta(content='med', function_call=None, refusal=None, role=None, tool_calls=None), finish_reason=None, index=0, logprobs=None, content_filter_results={'hate': {'filtered': False, 'severity': 'safe'}, 'self_harm': {'filtered': False, 'severity': 'safe'}, 'sexual': {'filtered': False, 'severity': 'safe'}, 'violence': {'filtered': False, 'severity': 'safe'}})], created=1729470089, model='gpt-4o-2024-05-13', object='chat.completion.chunk', service_tier=None, system_fingerprint='fp_67802d9a6d', usage=None), ChatCompletionChunk(id='chatcmpl-AKaSnDdFvBaNXkiZnShRFigtqzgFN', choices=[Choice(delta=ChoiceDelta(content=',', function_call=None, refusal=None, role=None, tool_calls=None), finish_reason=None, index=0, logprobs=None, content_filter_results={'hate': {'filtered': False, 'severity': 'safe'}, 'self_harm': {'filtered': False, 'severity': 'safe'}, 'sexual': {'filtered': False, 'severity': 'safe'}, 'violence': {'filtered': False, 'severity': 'safe'}})], created=1729470089, model='gpt-4o-2024-05-13', object='chat.completion.chunk', service_tier=None, system_fingerprint='fp_67802d9a6d', usage=None), ChatCompletionChunk(id='chatcmpl-AKaSnDdFvBaNXkiZnShRFigtqzgFN', choices=[Choice(delta=ChoiceDelta(content=' the', function_call=None, refusal=None, role=None, tool_calls=None), finish_reason=None, index=0, logprobs=None, content_filter_results={'hate': {'filtered': False, 'severity': 'safe'}, 'self_harm': {'filtered': False, 'severity': 'safe'}, 'sexual': {'filtered': False, 'severity': 'safe'}, 'violence': {'filtered': False, 'severity': 'safe'}})], created=1729470089, model='gpt-4o-2024-05-13', object='chat.completion.chunk', service_tier=None, system_fingerprint='fp_67802d9a6d', usage=None), ChatCompletionChunk(id='chatcmpl-AKaSnDdFvBaNXkiZnShRFigtqzgFN', choices=[Choice(delta=ChoiceDelta(content=' disco', function_call=None, refusal=None, role=None, tool_calls=None), finish_reason=None, index=0, logprobs=None, content_filter_results={'hate': {'filtered': False, 'severity': 'safe'}, 'self_harm': {'filtered': False, 'severity': 'safe'}, 'sexual': {'filtered': False, 'severity': 'safe'}, 'violence': {'filtered': False, 'severity': 'safe'}})], created=1729470089, model='gpt-4o-2024-05-13', object='chat.completion.chunk', service_tier=None, system_fingerprint='fp_67802d9a6d', usage=None), ChatCompletionChunk(id='chatcmpl-AKaSnDdFvBaNXkiZnShRFigtqzgFN', choices=[Choice(delta=ChoiceDelta(content=' ball', function_call=None, refusal=None, role=None, tool_calls=None), finish_reason=None, index=0, logprobs=None, content_filter_results={'hate': {'filtered': False, 'severity': 'safe'}, 'self_harm': {'filtered': False, 'severity': 'safe'}, 'sexual': {'filtered': False, 'severity': 'safe'}, 'violence': {'filtered': False, 'severity': 'safe'}})], created=1729470089, model='gpt-4o-2024-05-13', object='chat.completion.chunk', service_tier=None, system_fingerprint='fp_67802d9a6d', usage=None), ChatCompletionChunk(id='chatcmpl-AKaSnDdFvBaNXkiZnShRFigtqzgFN', choices=[Choice(delta=ChoiceDelta(content=' is', function_call=None, refusal=None, role=None, tool_calls=None), finish_reason=None, index=0, logprobs=None, content_filter_results={'hate': {'filtered': False, 'severity': 'safe'}, 'self_harm': {'filtered': False, 'severity': 'safe'}, 'sexual': {'filtered': False, 'severity': 'safe'}, 'violence': {'filtered': False, 'severity': 'safe'}})], created=1729470089, model='gpt-4o-2024-05-13', object='chat.completion.chunk', service_tier=None, system_fingerprint='fp_67802d9a6d', usage=None), ChatCompletionChunk(id='chatcmpl-AKaSnDdFvBaNXkiZnShRFigtqzgFN', choices=[Choice(delta=ChoiceDelta(content=' spinning', function_call=None, refusal=None, role=None, tool_calls=None), finish_reason=None, index=0, logprobs=None, content_filter_results={'hate': {'filtered': False, 'severity': 'safe'}, 'self_harm': {'filtered': False, 'severity': 'safe'}, 'sexual': {'filtered': False, 'severity': 'safe'}, 'violence': {'filtered': False, 'severity': 'safe'}})], created=1729470089, model='gpt-4o-2024-05-13', object='chat.completion.chunk', service_tier=None, system_fingerprint='fp_67802d9a6d', usage=None), ChatCompletionChunk(id='chatcmpl-AKaSnDdFvBaNXkiZnShRFigtqzgFN', choices=[Choice(delta=ChoiceDelta(content=',', function_call=None, refusal=None, role=None, tool_calls=None), finish_reason=None, index=0, logprobs=None, content_filter_results={'hate': {'filtered': False, 'severity': 'safe'}, 'self_harm': {'filtered': False, 'severity': 'safe'}, 'sexual': {'filtered': False, 'severity': 'safe'}, 'violence': {'filtered': False, 'severity': 'safe'}})], created=1729470089, model='gpt-4o-2024-05-13', object='chat.completion.chunk', service_tier=None, system_fingerprint='fp_67802d9a6d', usage=None), ChatCompletionChunk(id='chatcmpl-AKaSnDdFvBaNXkiZnShRFigtqzgFN', choices=[Choice(delta=ChoiceDelta(content=' and', function_call=None, refusal=None, role=None, tool_calls=None), finish_reason=None, index=0, logprobs=None, content_filter_results={'hate': {'filtered': False, 'severity': 'safe'}, 'self_harm': {'filtered': False, 'severity': 'safe'}, 'sexual': {'filtered': False, 'severity': 'safe'}, 'violence': {'filtered': False, 'severity': 'safe'}})], created=1729470089, model='gpt-4o-2024-05-13', object='chat.completion.chunk', service_tier=None, system_fingerprint='fp_67802d9a6d', usage=None), ChatCompletionChunk(id='chatcmpl-AKaSnDdFvBaNXkiZnShRFigtqzgFN', choices=[Choice(delta=ChoiceDelta(content=' the', function_call=None, refusal=None, role=None, tool_calls=None), finish_reason=None, index=0, logprobs=None, content_filter_results={'hate': {'filtered': False, 'severity': 'safe'}, 'self_harm': {'filtered': False, 'severity': 'safe'}, 'sexual': {'filtered': False, 'severity': 'safe'}, 'violence': {'filtered': False, 'severity': 'safe'}})], created=1729470089, model='gpt-4o-2024-05-13', object='chat.completion.chunk', service_tier=None, system_fingerprint='fp_67802d9a6d', usage=None), ChatCompletionChunk(id='chatcmpl-AKaSnDdFvBaNXkiZnShRFigtqzgFN', choices=[Choice(delta=ChoiceDelta(content=' music', function_call=None, refusal=None, role=None, tool_calls=None), finish_reason=None, index=0, logprobs=None, content_filter_results={'hate': {'filtered': False, 'severity': 'safe'}, 'self_harm': {'filtered': False, 'severity': 'safe'}, 'sexual': {'filtered': False, 'severity': 'safe'}, 'violence': {'filtered': False, 'severity': 'safe'}})], created=1729470089, model='gpt-4o-2024-05-13', object='chat.completion.chunk', service_tier=None, system_fingerprint='fp_67802d9a6d', usage=None), ChatCompletionChunk(id='chatcmpl-AKaSnDdFvBaNXkiZnShRFigtqzgFN', choices=[Choice(delta=ChoiceDelta(content=' is', function_call=None, refusal=None, role=None, tool_calls=None), finish_reason=None, index=0, logprobs=None, content_filter_results={'hate': {'filtered': False, 'severity': 'safe'}, 'self_harm': {'filtered': False, 'severity': 'safe'}, 'sexual': {'filtered': False, 'severity': 'safe'}, 'violence': {'filtered': False, 'severity': 'safe'}})], created=1729470089, model='gpt-4o-2024-05-13', object='chat.completion.chunk', service_tier=None, system_fingerprint='fp_67802d9a6d', usage=None), ChatCompletionChunk(id='chatcmpl-AKaSnDdFvBaNXkiZnShRFigtqzgFN', choices=[Choice(delta=ChoiceDelta(content=' pumping', function_call=None, refusal=None, role=None, tool_calls=None), finish_reason=None, index=0, logprobs=None, content_filter_results={'hate': {'filtered': False, 'severity': 'safe'}, 'self_harm': {'filtered': False, 'severity': 'safe'}, 'sexual': {'filtered': False, 'severity': 'safe'}, 'violence': {'filtered': False, 'severity': 'safe'}})], created=1729470089, model='gpt-4o-2024-05-13', object='chat.completion.chunk', service_tier=None, system_fingerprint='fp_67802d9a6d', usage=None), ChatCompletionChunk(id='chatcmpl-AKaSnDdFvBaNXkiZnShRFigtqzgFN', choices=[Choice(delta=ChoiceDelta(content='.', function_call=None, refusal=None, role=None, tool_calls=None), finish_reason=None, index=0, logprobs=None, content_filter_results={'hate': {'filtered': False, 'severity': 'safe'}, 'self_harm': {'filtered': False, 'severity': 'safe'}, 'sexual': {'filtered': False, 'severity': 'safe'}, 'violence': {'filtered': False, 'severity': 'safe'}})], created=1729470089, model='gpt-4o-2024-05-13', object='chat.completion.chunk', service_tier=None, system_fingerprint='fp_67802d9a6d', usage=None), ChatCompletionChunk(id='chatcmpl-AKaSnDdFvBaNXkiZnShRFigtqzgFN', choices=[Choice(delta=ChoiceDelta(content=' The', function_call=None, refusal=None, role=None, tool_calls=None), finish_reason=None, index=0, logprobs=None, content_filter_results={'hate': {'filtered': False, 'severity': 'safe'}, 'self_harm': {'filtered': False, 'severity': 'safe'}, 'sexual': {'filtered': False, 'severity': 'safe'}, 'violence': {'filtered': False, 'severity': 'safe'}})], created=1729470089, model='gpt-4o-2024-05-13', object='chat.completion.chunk', service_tier=None, system_fingerprint='fp_67802d9a6d', usage=None), ChatCompletionChunk(id='chatcmpl-AKaSnDdFvBaNXkiZnShRFigtqzgFN', choices=[Choice(delta=ChoiceDelta(content=' party', function_call=None, refusal=None, role=None, tool_calls=None), finish_reason=None, index=0, logprobs=None, content_filter_results={'hate': {'filtered': False, 'severity': 'safe'}, 'self_harm': {'filtered': False, 'severity': 'safe'}, 'sexual': {'filtered': False, 'severity': 'safe'}, 'violence': {'filtered': False, 'severity': 'safe'}})], created=1729470089, model='gpt-4o-2024-05-13', object='chat.completion.chunk', service_tier=None, system_fingerprint='fp_67802d9a6d', usage=None), ChatCompletionChunk(id='chatcmpl-AKaSnDdFvBaNXkiZnShRFigtqzgFN', choices=[Choice(delta=ChoiceDelta(content=' mood', function_call=None, refusal=None, role=None, tool_calls=None), finish_reason=None, index=0, logprobs=None, content_filter_results={'hate': {'filtered': False, 'severity': 'safe'}, 'self_harm': {'filtered': False, 'severity': 'safe'}, 'sexual': {'filtered': False, 'severity': 'safe'}, 'violence': {'filtered': False, 'severity': 'safe'}})], created=1729470089, model='gpt-4o-2024-05-13', object='chat.completion.chunk', service_tier=None, system_fingerprint='fp_67802d9a6d', usage=None), ChatCompletionChunk(id='chatcmpl-AKaSnDdFvBaNXkiZnShRFigtqzgFN', choices=[Choice(delta=ChoiceDelta(content=' is', function_call=None, refusal=None, role=None, tool_calls=None), finish_reason=None, index=0, logprobs=None, content_filter_results={'hate': {'filtered': False, 'severity': 'safe'}, 'self_harm': {'filtered': False, 'severity': 'safe'}, 'sexual': {'filtered': False, 'severity': 'safe'}, 'violence': {'filtered': False, 'severity': 'safe'}})], created=1729470089, model='gpt-4o-2024-05-13', object='chat.completion.chunk', service_tier=None, system_fingerprint='fp_67802d9a6d', usage=None), ChatCompletionChunk(id='chatcmpl-AKaSnDdFvBaNXkiZnShRFigtqzgFN', choices=[Choice(delta=ChoiceDelta(content=' set', function_call=None, refusal=None, role=None, tool_calls=None), finish_reason=None, index=0, logprobs=None, content_filter_results={'hate': {'filtered': False, 'severity': 'safe'}, 'self_harm': {'filtered': False, 'severity': 'safe'}, 'sexual': {'filtered': False, 'severity': 'safe'}, 'violence': {'filtered': False, 'severity': 'safe'}})], created=1729470089, model='gpt-4o-2024-05-13', object='chat.completion.chunk', service_tier=None, system_fingerprint='fp_67802d9a6d', usage=None), ChatCompletionChunk(id='chatcmpl-AKaSnDdFvBaNXkiZnShRFigtqzgFN', choices=[Choice(delta=ChoiceDelta(content='!', function_call=None, refusal=None, role=None, tool_calls=None), finish_reason=None, index=0, logprobs=None, content_filter_results={'hate': {'filtered': False, 'severity': 'safe'}, 'self_harm': {'filtered': False, 'severity': 'safe'}, 'sexual': {'filtered': False, 'severity': 'safe'}, 'violence': {'filtered': False, 'severity': 'safe'}})], created=1729470089, model='gpt-4o-2024-05-13', object='chat.completion.chunk', service_tier=None, system_fingerprint='fp_67802d9a6d', usage=None), ChatCompletionChunk(id='chatcmpl-AKaSnDdFvBaNXkiZnShRFigtqzgFN', choices=[Choice(delta=ChoiceDelta(content=' 🎉', function_call=None, refusal=None, role=None, tool_calls=None), finish_reason=None, index=0, logprobs=None, content_filter_results={'hate': {'filtered': False, 'severity': 'safe'}, 'self_harm': {'filtered': False, 'severity': 'safe'}, 'sexual': {'filtered': False, 'severity': 'safe'}, 'violence': {'filtered': False, 'severity': 'safe'}})], created=1729470089, model='gpt-4o-2024-05-13', object='chat.completion.chunk', service_tier=None, system_fingerprint='fp_67802d9a6d', usage=None), ChatCompletionChunk(id='chatcmpl-AKaSnDdFvBaNXkiZnShRFigtqzgFN', choices=[Choice(delta=ChoiceDelta(content='🕺', function_call=None, refusal=None, role=None, tool_calls=None), finish_reason=None, index=0, logprobs=None, content_filter_results={'hate': {'filtered': False, 'severity': 'safe'}, 'self_harm': {'filtered': False, 'severity': 'safe'}, 'sexual': {'filtered': False, 'severity': 'safe'}, 'violence': {'filtered': False, 'severity': 'safe'}})], created=1729470089, model='gpt-4o-2024-05-13', object='chat.completion.chunk', service_tier=None, system_fingerprint='fp_67802d9a6d', usage=None), ChatCompletionChunk(id='chatcmpl-AKaSnDdFvBaNXkiZnShRFigtqzgFN', choices=[Choice(delta=ChoiceDelta(content='💃', function_call=None, refusal=None, role=None, tool_calls=None), finish_reason=None, index=0, logprobs=None, content_filter_results={'hate': {'filtered': False, 'severity': 'safe'}, 'self_harm': {'filtered': False, 'severity': 'safe'}, 'sexual': {'filtered': False, 'severity': 'safe'}, 'violence': {'filtered': False, 'severity': 'safe'}})], created=1729470089, model='gpt-4o-2024-05-13', object='chat.completion.chunk', service_tier=None, system_fingerprint='fp_67802d9a6d', usage=None), ChatCompletionChunk(id='chatcmpl-AKaSnDdFvBaNXkiZnShRFigtqzgFN', choices=[Choice(delta=ChoiceDelta(content=None, function_call=None, refusal=None, role=None, tool_calls=None), finish_reason='stop', index=0, logprobs=None, content_filter_results={})], created=1729470089, model='gpt-4o-2024-05-13', object='chat.completion.chunk', service_tier=None, system_fingerprint='fp_67802d9a6d', usage=None), ChatCompletionChunk(id='chatcmpl-AKaSnDdFvBaNXkiZnShRFigtqzgFN', choices=[], created=1729470089, model='gpt-4o-2024-05-13', object='chat.completion.chunk', service_tier=None, system_fingerprint='fp_67802d9a6d', usage=CompletionUsage(completion_tokens=31, prompt_tokens=135, total_tokens=166, completion_tokens_details=None, prompt_tokens_details=None))])]"
      ]
     },
     "execution_count": 32,
     "metadata": {},
     "output_type": "execute_result"
    }
   ],
   "source": [
    "response = chat_openai_azure.stream(\n",
    "    prompt,\n",
    "    model_name=\"gpt-4o-2024-05-13\",\n",
    "    tools=[power_disco_ball, start_music, dim_lights],\n",
    "    tool_configs=tool_configs,\n",
    ")\n",
    "[r for r in response]"
   ]
  },
  {
   "cell_type": "code",
   "execution_count": 33,
   "metadata": {},
   "outputs": [
    {
     "data": {
      "text/plain": [
       "[CompletionResults(message=Message(role='assistant', content=[TextContent(text='')], name=None), usage=Usage(prompt_tokens=0, completion_tokens=0, total_tokens=0), prompt=[{}], raw=None),\n",
       " CompletionResults(message=Message(role='assistant', content=[TextContent(text='The')], name=None), usage=Usage(prompt_tokens=0, completion_tokens=0, total_tokens=0), prompt=[{}], raw=None),\n",
       " CompletionResults(message=Message(role='assistant', content=[TextContent(text='The disco')], name=None), usage=Usage(prompt_tokens=0, completion_tokens=0, total_tokens=0), prompt=[{}], raw=None),\n",
       " CompletionResults(message=Message(role='assistant', content=[TextContent(text='The disco ball')], name=None), usage=Usage(prompt_tokens=0, completion_tokens=0, total_tokens=0), prompt=[{}], raw=None),\n",
       " CompletionResults(message=Message(role='assistant', content=[TextContent(text='The disco ball is')], name=None), usage=Usage(prompt_tokens=0, completion_tokens=0, total_tokens=0), prompt=[{}], raw=None),\n",
       " CompletionResults(message=Message(role='assistant', content=[TextContent(text='The disco ball is spinning')], name=None), usage=Usage(prompt_tokens=0, completion_tokens=0, total_tokens=0), prompt=[{}], raw=None),\n",
       " CompletionResults(message=Message(role='assistant', content=[TextContent(text='The disco ball is spinning,')], name=None), usage=Usage(prompt_tokens=0, completion_tokens=0, total_tokens=0), prompt=[{}], raw=None),\n",
       " CompletionResults(message=Message(role='assistant', content=[TextContent(text='The disco ball is spinning, the')], name=None), usage=Usage(prompt_tokens=0, completion_tokens=0, total_tokens=0), prompt=[{}], raw=None),\n",
       " CompletionResults(message=Message(role='assistant', content=[TextContent(text='The disco ball is spinning, the energetic')], name=None), usage=Usage(prompt_tokens=0, completion_tokens=0, total_tokens=0), prompt=[{}], raw=None),\n",
       " CompletionResults(message=Message(role='assistant', content=[TextContent(text='The disco ball is spinning, the energetic music')], name=None), usage=Usage(prompt_tokens=0, completion_tokens=0, total_tokens=0), prompt=[{}], raw=None),\n",
       " CompletionResults(message=Message(role='assistant', content=[TextContent(text='The disco ball is spinning, the energetic music is')], name=None), usage=Usage(prompt_tokens=0, completion_tokens=0, total_tokens=0), prompt=[{}], raw=None),\n",
       " CompletionResults(message=Message(role='assistant', content=[TextContent(text='The disco ball is spinning, the energetic music is playing')], name=None), usage=Usage(prompt_tokens=0, completion_tokens=0, total_tokens=0), prompt=[{}], raw=None),\n",
       " CompletionResults(message=Message(role='assistant', content=[TextContent(text='The disco ball is spinning, the energetic music is playing loud')], name=None), usage=Usage(prompt_tokens=0, completion_tokens=0, total_tokens=0), prompt=[{}], raw=None),\n",
       " CompletionResults(message=Message(role='assistant', content=[TextContent(text='The disco ball is spinning, the energetic music is playing loud at')], name=None), usage=Usage(prompt_tokens=0, completion_tokens=0, total_tokens=0), prompt=[{}], raw=None),\n",
       " CompletionResults(message=Message(role='assistant', content=[TextContent(text='The disco ball is spinning, the energetic music is playing loud at ')], name=None), usage=Usage(prompt_tokens=0, completion_tokens=0, total_tokens=0), prompt=[{}], raw=None),\n",
       " CompletionResults(message=Message(role='assistant', content=[TextContent(text='The disco ball is spinning, the energetic music is playing loud at 120')], name=None), usage=Usage(prompt_tokens=0, completion_tokens=0, total_tokens=0), prompt=[{}], raw=None),\n",
       " CompletionResults(message=Message(role='assistant', content=[TextContent(text='The disco ball is spinning, the energetic music is playing loud at 120 BPM')], name=None), usage=Usage(prompt_tokens=0, completion_tokens=0, total_tokens=0), prompt=[{}], raw=None),\n",
       " CompletionResults(message=Message(role='assistant', content=[TextContent(text='The disco ball is spinning, the energetic music is playing loud at 120 BPM,')], name=None), usage=Usage(prompt_tokens=0, completion_tokens=0, total_tokens=0), prompt=[{}], raw=None),\n",
       " CompletionResults(message=Message(role='assistant', content=[TextContent(text='The disco ball is spinning, the energetic music is playing loud at 120 BPM, and')], name=None), usage=Usage(prompt_tokens=0, completion_tokens=0, total_tokens=0), prompt=[{}], raw=None),\n",
       " CompletionResults(message=Message(role='assistant', content=[TextContent(text='The disco ball is spinning, the energetic music is playing loud at 120 BPM, and the')], name=None), usage=Usage(prompt_tokens=0, completion_tokens=0, total_tokens=0), prompt=[{}], raw=None),\n",
       " CompletionResults(message=Message(role='assistant', content=[TextContent(text='The disco ball is spinning, the energetic music is playing loud at 120 BPM, and the lights')], name=None), usage=Usage(prompt_tokens=0, completion_tokens=0, total_tokens=0), prompt=[{}], raw=None),\n",
       " CompletionResults(message=Message(role='assistant', content=[TextContent(text='The disco ball is spinning, the energetic music is playing loud at 120 BPM, and the lights are')], name=None), usage=Usage(prompt_tokens=0, completion_tokens=0, total_tokens=0), prompt=[{}], raw=None),\n",
       " CompletionResults(message=Message(role='assistant', content=[TextContent(text='The disco ball is spinning, the energetic music is playing loud at 120 BPM, and the lights are dim')], name=None), usage=Usage(prompt_tokens=0, completion_tokens=0, total_tokens=0), prompt=[{}], raw=None),\n",
       " CompletionResults(message=Message(role='assistant', content=[TextContent(text='The disco ball is spinning, the energetic music is playing loud at 120 BPM, and the lights are dimmed')], name=None), usage=Usage(prompt_tokens=0, completion_tokens=0, total_tokens=0), prompt=[{}], raw=None),\n",
       " CompletionResults(message=Message(role='assistant', content=[TextContent(text='The disco ball is spinning, the energetic music is playing loud at 120 BPM, and the lights are dimmed to')], name=None), usage=Usage(prompt_tokens=0, completion_tokens=0, total_tokens=0), prompt=[{}], raw=None),\n",
       " CompletionResults(message=Message(role='assistant', content=[TextContent(text='The disco ball is spinning, the energetic music is playing loud at 120 BPM, and the lights are dimmed to a')], name=None), usage=Usage(prompt_tokens=0, completion_tokens=0, total_tokens=0), prompt=[{}], raw=None),\n",
       " CompletionResults(message=Message(role='assistant', content=[TextContent(text='The disco ball is spinning, the energetic music is playing loud at 120 BPM, and the lights are dimmed to a comfortable')], name=None), usage=Usage(prompt_tokens=0, completion_tokens=0, total_tokens=0), prompt=[{}], raw=None),\n",
       " CompletionResults(message=Message(role='assistant', content=[TextContent(text='The disco ball is spinning, the energetic music is playing loud at 120 BPM, and the lights are dimmed to a comfortable party')], name=None), usage=Usage(prompt_tokens=0, completion_tokens=0, total_tokens=0), prompt=[{}], raw=None),\n",
       " CompletionResults(message=Message(role='assistant', content=[TextContent(text='The disco ball is spinning, the energetic music is playing loud at 120 BPM, and the lights are dimmed to a comfortable party brightness')], name=None), usage=Usage(prompt_tokens=0, completion_tokens=0, total_tokens=0), prompt=[{}], raw=None),\n",
       " CompletionResults(message=Message(role='assistant', content=[TextContent(text='The disco ball is spinning, the energetic music is playing loud at 120 BPM, and the lights are dimmed to a comfortable party brightness.')], name=None), usage=Usage(prompt_tokens=0, completion_tokens=0, total_tokens=0), prompt=[{}], raw=None),\n",
       " CompletionResults(message=Message(role='assistant', content=[TextContent(text='The disco ball is spinning, the energetic music is playing loud at 120 BPM, and the lights are dimmed to a comfortable party brightness. Enjoy')], name=None), usage=Usage(prompt_tokens=0, completion_tokens=0, total_tokens=0), prompt=[{}], raw=None),\n",
       " CompletionResults(message=Message(role='assistant', content=[TextContent(text='The disco ball is spinning, the energetic music is playing loud at 120 BPM, and the lights are dimmed to a comfortable party brightness. Enjoy the')], name=None), usage=Usage(prompt_tokens=0, completion_tokens=0, total_tokens=0), prompt=[{}], raw=None),\n",
       " CompletionResults(message=Message(role='assistant', content=[TextContent(text='The disco ball is spinning, the energetic music is playing loud at 120 BPM, and the lights are dimmed to a comfortable party brightness. Enjoy the party')], name=None), usage=Usage(prompt_tokens=0, completion_tokens=0, total_tokens=0), prompt=[{}], raw=None),\n",
       " CompletionResults(message=Message(role='assistant', content=[TextContent(text='The disco ball is spinning, the energetic music is playing loud at 120 BPM, and the lights are dimmed to a comfortable party brightness. Enjoy the party atmosphere')], name=None), usage=Usage(prompt_tokens=0, completion_tokens=0, total_tokens=0), prompt=[{}], raw=None),\n",
       " CompletionResults(message=Message(role='assistant', content=[TextContent(text='The disco ball is spinning, the energetic music is playing loud at 120 BPM, and the lights are dimmed to a comfortable party brightness. Enjoy the party atmosphere!')], name=None), usage=Usage(prompt_tokens=0, completion_tokens=0, total_tokens=0), prompt=[{}], raw=None),\n",
       " CompletionResults(message=Message(role='assistant', content=[TextContent(text='The disco ball is spinning, the energetic music is playing loud at 120 BPM, and the lights are dimmed to a comfortable party brightness. Enjoy the party atmosphere! 🎉')], name=None), usage=Usage(prompt_tokens=0, completion_tokens=0, total_tokens=0), prompt=[{}], raw=None),\n",
       " CompletionResults(message=Message(role='assistant', content=[TextContent(text='The disco ball is spinning, the energetic music is playing loud at 120 BPM, and the lights are dimmed to a comfortable party brightness. Enjoy the party atmosphere! 🎉💃')], name=None), usage=Usage(prompt_tokens=0, completion_tokens=0, total_tokens=0), prompt=[{}], raw=None),\n",
       " CompletionResults(message=Message(role='assistant', content=[TextContent(text='The disco ball is spinning, the energetic music is playing loud at 120 BPM, and the lights are dimmed to a comfortable party brightness. Enjoy the party atmosphere! 🎉💃🕺')], name=None), usage=Usage(prompt_tokens=0, completion_tokens=0, total_tokens=0), prompt=[{}], raw=None),\n",
       " CompletionResults(message=Message(role='assistant', content=[TextContent(text='The disco ball is spinning, the energetic music is playing loud at 120 BPM, and the lights are dimmed to a comfortable party brightness. Enjoy the party atmosphere! 🎉💃🕺')], name=None), usage=Usage(prompt_tokens=305, completion_tokens=116, total_tokens=421), prompt=[{'role': 'user', 'content': [{'type': 'text', 'text': 'Turn this place into a comfortable party mood!'}], 'name': 'User'}, {'content': None, 'refusal': None, 'role': 'assistant', 'audio': None, 'function_call': None, 'tool_calls': [{'id': 'call_YjBZeeKZ6d4G0iR9xd4wONMK', 'function': {'arguments': '{\"power\": true}', 'name': 'power_disco_ball'}, 'type': 'function'}, {'id': 'call_YgE6gHAyArZBjvjWUKnJdv9Y', 'function': {'arguments': '{\"energetic\": true, \"loud\": true, \"bpm\": \"120\"}', 'name': 'start_music'}, 'type': 'function'}, {'id': 'call_MEoFSBsh7otw8gINXIbh8yRL', 'function': {'arguments': '{\"brightness\": 0.5}', 'name': 'dim_lights'}, 'type': 'function'}]}, {'role': 'tool', 'tool_call_id': 'call_YjBZeeKZ6d4G0iR9xd4wONMK', 'name': 'power_disco_ball', 'content': 'Disco ball is spinning!'}, {'role': 'tool', 'tool_call_id': 'call_YgE6gHAyArZBjvjWUKnJdv9Y', 'name': 'start_music', 'content': \"Starting music! energetic=True loud=True, bpm='120'\"}, {'role': 'tool', 'tool_call_id': 'call_MEoFSBsh7otw8gINXIbh8yRL', 'name': 'dim_lights', 'content': 'Lights are now set to 0.5'}], raw=[ChatCompletionChunk(id='', choices=[], created=0, model='', object='', service_tier=None, system_fingerprint=None, usage=None, prompt_filter_results=[{'prompt_index': 0, 'content_filter_results': {'hate': {'filtered': False, 'severity': 'safe'}, 'jailbreak': {'filtered': False, 'detected': False}, 'self_harm': {'filtered': False, 'severity': 'safe'}, 'sexual': {'filtered': False, 'severity': 'safe'}, 'violence': {'filtered': False, 'severity': 'safe'}}}]), ChatCompletionChunk(id='chatcmpl-AKaSqYtba0deLLWaAZyAsqJ0TAMnn', choices=[Choice(delta=ChoiceDelta(content='', function_call=None, refusal=None, role='assistant', tool_calls=None), finish_reason=None, index=0, logprobs=None, content_filter_results={})], created=1729470092, model='gpt-4o-2024-05-13', object='chat.completion.chunk', service_tier=None, system_fingerprint='fp_67802d9a6d', usage=None), ChatCompletionChunk(id='chatcmpl-AKaSqYtba0deLLWaAZyAsqJ0TAMnn', choices=[Choice(delta=ChoiceDelta(content='The', function_call=None, refusal=None, role=None, tool_calls=None), finish_reason=None, index=0, logprobs=None, content_filter_results={'hate': {'filtered': False, 'severity': 'safe'}, 'self_harm': {'filtered': False, 'severity': 'safe'}, 'sexual': {'filtered': False, 'severity': 'safe'}, 'violence': {'filtered': False, 'severity': 'safe'}})], created=1729470092, model='gpt-4o-2024-05-13', object='chat.completion.chunk', service_tier=None, system_fingerprint='fp_67802d9a6d', usage=None), ChatCompletionChunk(id='chatcmpl-AKaSqYtba0deLLWaAZyAsqJ0TAMnn', choices=[Choice(delta=ChoiceDelta(content=' disco', function_call=None, refusal=None, role=None, tool_calls=None), finish_reason=None, index=0, logprobs=None, content_filter_results={'hate': {'filtered': False, 'severity': 'safe'}, 'self_harm': {'filtered': False, 'severity': 'safe'}, 'sexual': {'filtered': False, 'severity': 'safe'}, 'violence': {'filtered': False, 'severity': 'safe'}})], created=1729470092, model='gpt-4o-2024-05-13', object='chat.completion.chunk', service_tier=None, system_fingerprint='fp_67802d9a6d', usage=None), ChatCompletionChunk(id='chatcmpl-AKaSqYtba0deLLWaAZyAsqJ0TAMnn', choices=[Choice(delta=ChoiceDelta(content=' ball', function_call=None, refusal=None, role=None, tool_calls=None), finish_reason=None, index=0, logprobs=None, content_filter_results={'hate': {'filtered': False, 'severity': 'safe'}, 'self_harm': {'filtered': False, 'severity': 'safe'}, 'sexual': {'filtered': False, 'severity': 'safe'}, 'violence': {'filtered': False, 'severity': 'safe'}})], created=1729470092, model='gpt-4o-2024-05-13', object='chat.completion.chunk', service_tier=None, system_fingerprint='fp_67802d9a6d', usage=None), ChatCompletionChunk(id='chatcmpl-AKaSqYtba0deLLWaAZyAsqJ0TAMnn', choices=[Choice(delta=ChoiceDelta(content=' is', function_call=None, refusal=None, role=None, tool_calls=None), finish_reason=None, index=0, logprobs=None, content_filter_results={'hate': {'filtered': False, 'severity': 'safe'}, 'self_harm': {'filtered': False, 'severity': 'safe'}, 'sexual': {'filtered': False, 'severity': 'safe'}, 'violence': {'filtered': False, 'severity': 'safe'}})], created=1729470092, model='gpt-4o-2024-05-13', object='chat.completion.chunk', service_tier=None, system_fingerprint='fp_67802d9a6d', usage=None), ChatCompletionChunk(id='chatcmpl-AKaSqYtba0deLLWaAZyAsqJ0TAMnn', choices=[Choice(delta=ChoiceDelta(content=' spinning', function_call=None, refusal=None, role=None, tool_calls=None), finish_reason=None, index=0, logprobs=None, content_filter_results={'hate': {'filtered': False, 'severity': 'safe'}, 'self_harm': {'filtered': False, 'severity': 'safe'}, 'sexual': {'filtered': False, 'severity': 'safe'}, 'violence': {'filtered': False, 'severity': 'safe'}})], created=1729470092, model='gpt-4o-2024-05-13', object='chat.completion.chunk', service_tier=None, system_fingerprint='fp_67802d9a6d', usage=None), ChatCompletionChunk(id='chatcmpl-AKaSqYtba0deLLWaAZyAsqJ0TAMnn', choices=[Choice(delta=ChoiceDelta(content=',', function_call=None, refusal=None, role=None, tool_calls=None), finish_reason=None, index=0, logprobs=None, content_filter_results={'hate': {'filtered': False, 'severity': 'safe'}, 'self_harm': {'filtered': False, 'severity': 'safe'}, 'sexual': {'filtered': False, 'severity': 'safe'}, 'violence': {'filtered': False, 'severity': 'safe'}})], created=1729470092, model='gpt-4o-2024-05-13', object='chat.completion.chunk', service_tier=None, system_fingerprint='fp_67802d9a6d', usage=None), ChatCompletionChunk(id='chatcmpl-AKaSqYtba0deLLWaAZyAsqJ0TAMnn', choices=[Choice(delta=ChoiceDelta(content=' the', function_call=None, refusal=None, role=None, tool_calls=None), finish_reason=None, index=0, logprobs=None, content_filter_results={'hate': {'filtered': False, 'severity': 'safe'}, 'self_harm': {'filtered': False, 'severity': 'safe'}, 'sexual': {'filtered': False, 'severity': 'safe'}, 'violence': {'filtered': False, 'severity': 'safe'}})], created=1729470092, model='gpt-4o-2024-05-13', object='chat.completion.chunk', service_tier=None, system_fingerprint='fp_67802d9a6d', usage=None), ChatCompletionChunk(id='chatcmpl-AKaSqYtba0deLLWaAZyAsqJ0TAMnn', choices=[Choice(delta=ChoiceDelta(content=' energetic', function_call=None, refusal=None, role=None, tool_calls=None), finish_reason=None, index=0, logprobs=None, content_filter_results={'hate': {'filtered': False, 'severity': 'safe'}, 'self_harm': {'filtered': False, 'severity': 'safe'}, 'sexual': {'filtered': False, 'severity': 'safe'}, 'violence': {'filtered': False, 'severity': 'safe'}})], created=1729470092, model='gpt-4o-2024-05-13', object='chat.completion.chunk', service_tier=None, system_fingerprint='fp_67802d9a6d', usage=None), ChatCompletionChunk(id='chatcmpl-AKaSqYtba0deLLWaAZyAsqJ0TAMnn', choices=[Choice(delta=ChoiceDelta(content=' music', function_call=None, refusal=None, role=None, tool_calls=None), finish_reason=None, index=0, logprobs=None, content_filter_results={'hate': {'filtered': False, 'severity': 'safe'}, 'self_harm': {'filtered': False, 'severity': 'safe'}, 'sexual': {'filtered': False, 'severity': 'safe'}, 'violence': {'filtered': False, 'severity': 'safe'}})], created=1729470092, model='gpt-4o-2024-05-13', object='chat.completion.chunk', service_tier=None, system_fingerprint='fp_67802d9a6d', usage=None), ChatCompletionChunk(id='chatcmpl-AKaSqYtba0deLLWaAZyAsqJ0TAMnn', choices=[Choice(delta=ChoiceDelta(content=' is', function_call=None, refusal=None, role=None, tool_calls=None), finish_reason=None, index=0, logprobs=None, content_filter_results={'hate': {'filtered': False, 'severity': 'safe'}, 'self_harm': {'filtered': False, 'severity': 'safe'}, 'sexual': {'filtered': False, 'severity': 'safe'}, 'violence': {'filtered': False, 'severity': 'safe'}})], created=1729470092, model='gpt-4o-2024-05-13', object='chat.completion.chunk', service_tier=None, system_fingerprint='fp_67802d9a6d', usage=None), ChatCompletionChunk(id='chatcmpl-AKaSqYtba0deLLWaAZyAsqJ0TAMnn', choices=[Choice(delta=ChoiceDelta(content=' playing', function_call=None, refusal=None, role=None, tool_calls=None), finish_reason=None, index=0, logprobs=None, content_filter_results={'hate': {'filtered': False, 'severity': 'safe'}, 'self_harm': {'filtered': False, 'severity': 'safe'}, 'sexual': {'filtered': False, 'severity': 'safe'}, 'violence': {'filtered': False, 'severity': 'safe'}})], created=1729470092, model='gpt-4o-2024-05-13', object='chat.completion.chunk', service_tier=None, system_fingerprint='fp_67802d9a6d', usage=None), ChatCompletionChunk(id='chatcmpl-AKaSqYtba0deLLWaAZyAsqJ0TAMnn', choices=[Choice(delta=ChoiceDelta(content=' loud', function_call=None, refusal=None, role=None, tool_calls=None), finish_reason=None, index=0, logprobs=None, content_filter_results={'hate': {'filtered': False, 'severity': 'safe'}, 'self_harm': {'filtered': False, 'severity': 'safe'}, 'sexual': {'filtered': False, 'severity': 'safe'}, 'violence': {'filtered': False, 'severity': 'safe'}})], created=1729470092, model='gpt-4o-2024-05-13', object='chat.completion.chunk', service_tier=None, system_fingerprint='fp_67802d9a6d', usage=None), ChatCompletionChunk(id='chatcmpl-AKaSqYtba0deLLWaAZyAsqJ0TAMnn', choices=[Choice(delta=ChoiceDelta(content=' at', function_call=None, refusal=None, role=None, tool_calls=None), finish_reason=None, index=0, logprobs=None, content_filter_results={'hate': {'filtered': False, 'severity': 'safe'}, 'self_harm': {'filtered': False, 'severity': 'safe'}, 'sexual': {'filtered': False, 'severity': 'safe'}, 'violence': {'filtered': False, 'severity': 'safe'}})], created=1729470092, model='gpt-4o-2024-05-13', object='chat.completion.chunk', service_tier=None, system_fingerprint='fp_67802d9a6d', usage=None), ChatCompletionChunk(id='chatcmpl-AKaSqYtba0deLLWaAZyAsqJ0TAMnn', choices=[Choice(delta=ChoiceDelta(content=' ', function_call=None, refusal=None, role=None, tool_calls=None), finish_reason=None, index=0, logprobs=None, content_filter_results={'hate': {'filtered': False, 'severity': 'safe'}, 'self_harm': {'filtered': False, 'severity': 'safe'}, 'sexual': {'filtered': False, 'severity': 'safe'}, 'violence': {'filtered': False, 'severity': 'safe'}})], created=1729470092, model='gpt-4o-2024-05-13', object='chat.completion.chunk', service_tier=None, system_fingerprint='fp_67802d9a6d', usage=None), ChatCompletionChunk(id='chatcmpl-AKaSqYtba0deLLWaAZyAsqJ0TAMnn', choices=[Choice(delta=ChoiceDelta(content='120', function_call=None, refusal=None, role=None, tool_calls=None), finish_reason=None, index=0, logprobs=None, content_filter_results={'hate': {'filtered': False, 'severity': 'safe'}, 'self_harm': {'filtered': False, 'severity': 'safe'}, 'sexual': {'filtered': False, 'severity': 'safe'}, 'violence': {'filtered': False, 'severity': 'safe'}})], created=1729470092, model='gpt-4o-2024-05-13', object='chat.completion.chunk', service_tier=None, system_fingerprint='fp_67802d9a6d', usage=None), ChatCompletionChunk(id='chatcmpl-AKaSqYtba0deLLWaAZyAsqJ0TAMnn', choices=[Choice(delta=ChoiceDelta(content=' BPM', function_call=None, refusal=None, role=None, tool_calls=None), finish_reason=None, index=0, logprobs=None, content_filter_results={'hate': {'filtered': False, 'severity': 'safe'}, 'self_harm': {'filtered': False, 'severity': 'safe'}, 'sexual': {'filtered': False, 'severity': 'safe'}, 'violence': {'filtered': False, 'severity': 'safe'}})], created=1729470092, model='gpt-4o-2024-05-13', object='chat.completion.chunk', service_tier=None, system_fingerprint='fp_67802d9a6d', usage=None), ChatCompletionChunk(id='chatcmpl-AKaSqYtba0deLLWaAZyAsqJ0TAMnn', choices=[Choice(delta=ChoiceDelta(content=',', function_call=None, refusal=None, role=None, tool_calls=None), finish_reason=None, index=0, logprobs=None, content_filter_results={'hate': {'filtered': False, 'severity': 'safe'}, 'self_harm': {'filtered': False, 'severity': 'safe'}, 'sexual': {'filtered': False, 'severity': 'safe'}, 'violence': {'filtered': False, 'severity': 'safe'}})], created=1729470092, model='gpt-4o-2024-05-13', object='chat.completion.chunk', service_tier=None, system_fingerprint='fp_67802d9a6d', usage=None), ChatCompletionChunk(id='chatcmpl-AKaSqYtba0deLLWaAZyAsqJ0TAMnn', choices=[Choice(delta=ChoiceDelta(content=' and', function_call=None, refusal=None, role=None, tool_calls=None), finish_reason=None, index=0, logprobs=None, content_filter_results={'hate': {'filtered': False, 'severity': 'safe'}, 'self_harm': {'filtered': False, 'severity': 'safe'}, 'sexual': {'filtered': False, 'severity': 'safe'}, 'violence': {'filtered': False, 'severity': 'safe'}})], created=1729470092, model='gpt-4o-2024-05-13', object='chat.completion.chunk', service_tier=None, system_fingerprint='fp_67802d9a6d', usage=None), ChatCompletionChunk(id='chatcmpl-AKaSqYtba0deLLWaAZyAsqJ0TAMnn', choices=[Choice(delta=ChoiceDelta(content=' the', function_call=None, refusal=None, role=None, tool_calls=None), finish_reason=None, index=0, logprobs=None, content_filter_results={'hate': {'filtered': False, 'severity': 'safe'}, 'self_harm': {'filtered': False, 'severity': 'safe'}, 'sexual': {'filtered': False, 'severity': 'safe'}, 'violence': {'filtered': False, 'severity': 'safe'}})], created=1729470092, model='gpt-4o-2024-05-13', object='chat.completion.chunk', service_tier=None, system_fingerprint='fp_67802d9a6d', usage=None), ChatCompletionChunk(id='chatcmpl-AKaSqYtba0deLLWaAZyAsqJ0TAMnn', choices=[Choice(delta=ChoiceDelta(content=' lights', function_call=None, refusal=None, role=None, tool_calls=None), finish_reason=None, index=0, logprobs=None, content_filter_results={'hate': {'filtered': False, 'severity': 'safe'}, 'self_harm': {'filtered': False, 'severity': 'safe'}, 'sexual': {'filtered': False, 'severity': 'safe'}, 'violence': {'filtered': False, 'severity': 'safe'}})], created=1729470092, model='gpt-4o-2024-05-13', object='chat.completion.chunk', service_tier=None, system_fingerprint='fp_67802d9a6d', usage=None), ChatCompletionChunk(id='chatcmpl-AKaSqYtba0deLLWaAZyAsqJ0TAMnn', choices=[Choice(delta=ChoiceDelta(content=' are', function_call=None, refusal=None, role=None, tool_calls=None), finish_reason=None, index=0, logprobs=None, content_filter_results={'hate': {'filtered': False, 'severity': 'safe'}, 'self_harm': {'filtered': False, 'severity': 'safe'}, 'sexual': {'filtered': False, 'severity': 'safe'}, 'violence': {'filtered': False, 'severity': 'safe'}})], created=1729470092, model='gpt-4o-2024-05-13', object='chat.completion.chunk', service_tier=None, system_fingerprint='fp_67802d9a6d', usage=None), ChatCompletionChunk(id='chatcmpl-AKaSqYtba0deLLWaAZyAsqJ0TAMnn', choices=[Choice(delta=ChoiceDelta(content=' dim', function_call=None, refusal=None, role=None, tool_calls=None), finish_reason=None, index=0, logprobs=None, content_filter_results={'hate': {'filtered': False, 'severity': 'safe'}, 'self_harm': {'filtered': False, 'severity': 'safe'}, 'sexual': {'filtered': False, 'severity': 'safe'}, 'violence': {'filtered': False, 'severity': 'safe'}})], created=1729470092, model='gpt-4o-2024-05-13', object='chat.completion.chunk', service_tier=None, system_fingerprint='fp_67802d9a6d', usage=None), ChatCompletionChunk(id='chatcmpl-AKaSqYtba0deLLWaAZyAsqJ0TAMnn', choices=[Choice(delta=ChoiceDelta(content='med', function_call=None, refusal=None, role=None, tool_calls=None), finish_reason=None, index=0, logprobs=None, content_filter_results={'hate': {'filtered': False, 'severity': 'safe'}, 'self_harm': {'filtered': False, 'severity': 'safe'}, 'sexual': {'filtered': False, 'severity': 'safe'}, 'violence': {'filtered': False, 'severity': 'safe'}})], created=1729470092, model='gpt-4o-2024-05-13', object='chat.completion.chunk', service_tier=None, system_fingerprint='fp_67802d9a6d', usage=None), ChatCompletionChunk(id='chatcmpl-AKaSqYtba0deLLWaAZyAsqJ0TAMnn', choices=[Choice(delta=ChoiceDelta(content=' to', function_call=None, refusal=None, role=None, tool_calls=None), finish_reason=None, index=0, logprobs=None, content_filter_results={'hate': {'filtered': False, 'severity': 'safe'}, 'self_harm': {'filtered': False, 'severity': 'safe'}, 'sexual': {'filtered': False, 'severity': 'safe'}, 'violence': {'filtered': False, 'severity': 'safe'}})], created=1729470092, model='gpt-4o-2024-05-13', object='chat.completion.chunk', service_tier=None, system_fingerprint='fp_67802d9a6d', usage=None), ChatCompletionChunk(id='chatcmpl-AKaSqYtba0deLLWaAZyAsqJ0TAMnn', choices=[Choice(delta=ChoiceDelta(content=' a', function_call=None, refusal=None, role=None, tool_calls=None), finish_reason=None, index=0, logprobs=None, content_filter_results={'hate': {'filtered': False, 'severity': 'safe'}, 'self_harm': {'filtered': False, 'severity': 'safe'}, 'sexual': {'filtered': False, 'severity': 'safe'}, 'violence': {'filtered': False, 'severity': 'safe'}})], created=1729470092, model='gpt-4o-2024-05-13', object='chat.completion.chunk', service_tier=None, system_fingerprint='fp_67802d9a6d', usage=None), ChatCompletionChunk(id='chatcmpl-AKaSqYtba0deLLWaAZyAsqJ0TAMnn', choices=[Choice(delta=ChoiceDelta(content=' comfortable', function_call=None, refusal=None, role=None, tool_calls=None), finish_reason=None, index=0, logprobs=None, content_filter_results={'hate': {'filtered': False, 'severity': 'safe'}, 'self_harm': {'filtered': False, 'severity': 'safe'}, 'sexual': {'filtered': False, 'severity': 'safe'}, 'violence': {'filtered': False, 'severity': 'safe'}})], created=1729470092, model='gpt-4o-2024-05-13', object='chat.completion.chunk', service_tier=None, system_fingerprint='fp_67802d9a6d', usage=None), ChatCompletionChunk(id='chatcmpl-AKaSqYtba0deLLWaAZyAsqJ0TAMnn', choices=[Choice(delta=ChoiceDelta(content=' party', function_call=None, refusal=None, role=None, tool_calls=None), finish_reason=None, index=0, logprobs=None, content_filter_results={'hate': {'filtered': False, 'severity': 'safe'}, 'self_harm': {'filtered': False, 'severity': 'safe'}, 'sexual': {'filtered': False, 'severity': 'safe'}, 'violence': {'filtered': False, 'severity': 'safe'}})], created=1729470092, model='gpt-4o-2024-05-13', object='chat.completion.chunk', service_tier=None, system_fingerprint='fp_67802d9a6d', usage=None), ChatCompletionChunk(id='chatcmpl-AKaSqYtba0deLLWaAZyAsqJ0TAMnn', choices=[Choice(delta=ChoiceDelta(content=' brightness', function_call=None, refusal=None, role=None, tool_calls=None), finish_reason=None, index=0, logprobs=None, content_filter_results={'hate': {'filtered': False, 'severity': 'safe'}, 'self_harm': {'filtered': False, 'severity': 'safe'}, 'sexual': {'filtered': False, 'severity': 'safe'}, 'violence': {'filtered': False, 'severity': 'safe'}})], created=1729470092, model='gpt-4o-2024-05-13', object='chat.completion.chunk', service_tier=None, system_fingerprint='fp_67802d9a6d', usage=None), ChatCompletionChunk(id='chatcmpl-AKaSqYtba0deLLWaAZyAsqJ0TAMnn', choices=[Choice(delta=ChoiceDelta(content='.', function_call=None, refusal=None, role=None, tool_calls=None), finish_reason=None, index=0, logprobs=None, content_filter_results={'hate': {'filtered': False, 'severity': 'safe'}, 'self_harm': {'filtered': False, 'severity': 'safe'}, 'sexual': {'filtered': False, 'severity': 'safe'}, 'violence': {'filtered': False, 'severity': 'safe'}})], created=1729470092, model='gpt-4o-2024-05-13', object='chat.completion.chunk', service_tier=None, system_fingerprint='fp_67802d9a6d', usage=None), ChatCompletionChunk(id='chatcmpl-AKaSqYtba0deLLWaAZyAsqJ0TAMnn', choices=[Choice(delta=ChoiceDelta(content=' Enjoy', function_call=None, refusal=None, role=None, tool_calls=None), finish_reason=None, index=0, logprobs=None, content_filter_results={'hate': {'filtered': False, 'severity': 'safe'}, 'self_harm': {'filtered': False, 'severity': 'safe'}, 'sexual': {'filtered': False, 'severity': 'safe'}, 'violence': {'filtered': False, 'severity': 'safe'}})], created=1729470092, model='gpt-4o-2024-05-13', object='chat.completion.chunk', service_tier=None, system_fingerprint='fp_67802d9a6d', usage=None), ChatCompletionChunk(id='chatcmpl-AKaSqYtba0deLLWaAZyAsqJ0TAMnn', choices=[Choice(delta=ChoiceDelta(content=' the', function_call=None, refusal=None, role=None, tool_calls=None), finish_reason=None, index=0, logprobs=None, content_filter_results={'hate': {'filtered': False, 'severity': 'safe'}, 'self_harm': {'filtered': False, 'severity': 'safe'}, 'sexual': {'filtered': False, 'severity': 'safe'}, 'violence': {'filtered': False, 'severity': 'safe'}})], created=1729470092, model='gpt-4o-2024-05-13', object='chat.completion.chunk', service_tier=None, system_fingerprint='fp_67802d9a6d', usage=None), ChatCompletionChunk(id='chatcmpl-AKaSqYtba0deLLWaAZyAsqJ0TAMnn', choices=[Choice(delta=ChoiceDelta(content=' party', function_call=None, refusal=None, role=None, tool_calls=None), finish_reason=None, index=0, logprobs=None, content_filter_results={'hate': {'filtered': False, 'severity': 'safe'}, 'self_harm': {'filtered': False, 'severity': 'safe'}, 'sexual': {'filtered': False, 'severity': 'safe'}, 'violence': {'filtered': False, 'severity': 'safe'}})], created=1729470092, model='gpt-4o-2024-05-13', object='chat.completion.chunk', service_tier=None, system_fingerprint='fp_67802d9a6d', usage=None), ChatCompletionChunk(id='chatcmpl-AKaSqYtba0deLLWaAZyAsqJ0TAMnn', choices=[Choice(delta=ChoiceDelta(content=' atmosphere', function_call=None, refusal=None, role=None, tool_calls=None), finish_reason=None, index=0, logprobs=None, content_filter_results={'hate': {'filtered': False, 'severity': 'safe'}, 'self_harm': {'filtered': False, 'severity': 'safe'}, 'sexual': {'filtered': False, 'severity': 'safe'}, 'violence': {'filtered': False, 'severity': 'safe'}})], created=1729470092, model='gpt-4o-2024-05-13', object='chat.completion.chunk', service_tier=None, system_fingerprint='fp_67802d9a6d', usage=None), ChatCompletionChunk(id='chatcmpl-AKaSqYtba0deLLWaAZyAsqJ0TAMnn', choices=[Choice(delta=ChoiceDelta(content='!', function_call=None, refusal=None, role=None, tool_calls=None), finish_reason=None, index=0, logprobs=None, content_filter_results={'hate': {'filtered': False, 'severity': 'safe'}, 'self_harm': {'filtered': False, 'severity': 'safe'}, 'sexual': {'filtered': False, 'severity': 'safe'}, 'violence': {'filtered': False, 'severity': 'safe'}})], created=1729470092, model='gpt-4o-2024-05-13', object='chat.completion.chunk', service_tier=None, system_fingerprint='fp_67802d9a6d', usage=None), ChatCompletionChunk(id='chatcmpl-AKaSqYtba0deLLWaAZyAsqJ0TAMnn', choices=[Choice(delta=ChoiceDelta(content=' 🎉', function_call=None, refusal=None, role=None, tool_calls=None), finish_reason=None, index=0, logprobs=None, content_filter_results={'hate': {'filtered': False, 'severity': 'safe'}, 'self_harm': {'filtered': False, 'severity': 'safe'}, 'sexual': {'filtered': False, 'severity': 'safe'}, 'violence': {'filtered': False, 'severity': 'safe'}})], created=1729470092, model='gpt-4o-2024-05-13', object='chat.completion.chunk', service_tier=None, system_fingerprint='fp_67802d9a6d', usage=None), ChatCompletionChunk(id='chatcmpl-AKaSqYtba0deLLWaAZyAsqJ0TAMnn', choices=[Choice(delta=ChoiceDelta(content='💃', function_call=None, refusal=None, role=None, tool_calls=None), finish_reason=None, index=0, logprobs=None, content_filter_results={'hate': {'filtered': False, 'severity': 'safe'}, 'self_harm': {'filtered': False, 'severity': 'safe'}, 'sexual': {'filtered': False, 'severity': 'safe'}, 'violence': {'filtered': False, 'severity': 'safe'}})], created=1729470092, model='gpt-4o-2024-05-13', object='chat.completion.chunk', service_tier=None, system_fingerprint='fp_67802d9a6d', usage=None), ChatCompletionChunk(id='chatcmpl-AKaSqYtba0deLLWaAZyAsqJ0TAMnn', choices=[Choice(delta=ChoiceDelta(content='🕺', function_call=None, refusal=None, role=None, tool_calls=None), finish_reason=None, index=0, logprobs=None, content_filter_results={'hate': {'filtered': False, 'severity': 'safe'}, 'self_harm': {'filtered': False, 'severity': 'safe'}, 'sexual': {'filtered': False, 'severity': 'safe'}, 'violence': {'filtered': False, 'severity': 'safe'}})], created=1729470092, model='gpt-4o-2024-05-13', object='chat.completion.chunk', service_tier=None, system_fingerprint='fp_67802d9a6d', usage=None), ChatCompletionChunk(id='chatcmpl-AKaSqYtba0deLLWaAZyAsqJ0TAMnn', choices=[Choice(delta=ChoiceDelta(content=None, function_call=None, refusal=None, role=None, tool_calls=None), finish_reason='stop', index=0, logprobs=None, content_filter_results={})], created=1729470092, model='gpt-4o-2024-05-13', object='chat.completion.chunk', service_tier=None, system_fingerprint='fp_67802d9a6d', usage=None), ChatCompletionChunk(id='chatcmpl-AKaSqYtba0deLLWaAZyAsqJ0TAMnn', choices=[], created=1729470092, model='gpt-4o-2024-05-13', object='chat.completion.chunk', service_tier=None, system_fingerprint='fp_67802d9a6d', usage=CompletionUsage(completion_tokens=41, prompt_tokens=134, total_tokens=175, completion_tokens_details=None, prompt_tokens_details=None))])]"
      ]
     },
     "execution_count": 33,
     "metadata": {},
     "output_type": "execute_result"
    }
   ],
   "source": [
    "response = chat_openai_azure.astream(\n",
    "    prompt,\n",
    "    model_name=\"gpt-4o-2024-05-13\",\n",
    "    tools=[power_disco_ball, start_music, dim_lights],\n",
    "    tool_configs=tool_configs,\n",
    ")\n",
    "[r async for r in response]"
   ]
  },
  {
   "cell_type": "markdown",
   "metadata": {},
   "source": [
    "### Gemini on Google Generative AI"
   ]
  },
  {
   "cell_type": "markdown",
   "metadata": {},
   "source": [
    "You can use tools for Gemini as well which defined for OpenAI Chat Completion."
   ]
  },
  {
   "cell_type": "code",
   "execution_count": 34,
   "metadata": {},
   "outputs": [],
   "source": [
    "gemini = GeminiFunctionalChat(\n",
    "    api_key_env_name=\"GEMINI_API_KEY\",\n",
    ")"
   ]
  },
  {
   "cell_type": "code",
   "execution_count": 35,
   "metadata": {},
   "outputs": [
    {
     "data": {
      "text/plain": [
       "{'message': {'role': 'assistant',\n",
       "  'content': [{'text': \"The lights are dimmed, upbeat music is playing, and the disco ball is spinning! Let's get this party started! 🎉 \\n\"}],\n",
       "  'name': None},\n",
       " 'usage': {'model_name': 'gemini-1.5-pro',\n",
       "  'prompt_tokens': 353,\n",
       "  'completion_tokens': 84},\n",
       " 'prompt': [parts {\n",
       "    text: \"Turn this place into a comfortable party mood!\"\n",
       "  }\n",
       "  role: \"user\",\n",
       "  parts {\n",
       "    function_call {\n",
       "      name: \"dim_lights\"\n",
       "      args {\n",
       "        fields {\n",
       "          key: \"brightness\"\n",
       "          value {\n",
       "            number_value: 0.5\n",
       "          }\n",
       "        }\n",
       "      }\n",
       "    }\n",
       "  }\n",
       "  parts {\n",
       "    function_call {\n",
       "      name: \"start_music\"\n",
       "      args {\n",
       "        fields {\n",
       "          key: \"loud\"\n",
       "          value {\n",
       "            bool_value: true\n",
       "          }\n",
       "        }\n",
       "        fields {\n",
       "          key: \"energetic\"\n",
       "          value {\n",
       "            bool_value: true\n",
       "          }\n",
       "        }\n",
       "        fields {\n",
       "          key: \"bpm\"\n",
       "          value {\n",
       "            string_value: \"120\"\n",
       "          }\n",
       "        }\n",
       "      }\n",
       "    }\n",
       "  }\n",
       "  parts {\n",
       "    function_call {\n",
       "      name: \"power_disco_ball\"\n",
       "      args {\n",
       "        fields {\n",
       "          key: \"power\"\n",
       "          value {\n",
       "            bool_value: true\n",
       "          }\n",
       "        }\n",
       "      }\n",
       "    }\n",
       "  }\n",
       "  role: \"model\",\n",
       "  parts {\n",
       "    function_response {\n",
       "      name: \"dim_lights\"\n",
       "      response {\n",
       "        fields {\n",
       "          key: \"content\"\n",
       "          value {\n",
       "            string_value: \"Lights are now set to 0.5\"\n",
       "          }\n",
       "        }\n",
       "      }\n",
       "    }\n",
       "  }\n",
       "  parts {\n",
       "    function_response {\n",
       "      name: \"start_music\"\n",
       "      response {\n",
       "        fields {\n",
       "          key: \"content\"\n",
       "          value {\n",
       "            string_value: \"Starting music! energetic=True loud=True, bpm=\\'120\\'\"\n",
       "          }\n",
       "        }\n",
       "      }\n",
       "    }\n",
       "  }\n",
       "  parts {\n",
       "    function_response {\n",
       "      name: \"power_disco_ball\"\n",
       "      response {\n",
       "        fields {\n",
       "          key: \"content\"\n",
       "          value {\n",
       "            string_value: \"Disco ball is spinning!\"\n",
       "          }\n",
       "        }\n",
       "      }\n",
       "    }\n",
       "  }\n",
       "  role: \"function\"]}"
      ]
     },
     "execution_count": 35,
     "metadata": {},
     "output_type": "execute_result"
    }
   ],
   "source": [
    "response = gemini.run(\n",
    "    prompt,\n",
    "    # tool_only=True,\n",
    "    model_name=\"gemini-1.5-pro\",\n",
    "    tools=[power_disco_ball, start_music, dim_lights],\n",
    "    tool_configs=tool_configs,\n",
    ")\n",
    "\n",
    "# show result\n",
    "response.model_dump()"
   ]
  },
  {
   "cell_type": "markdown",
   "metadata": {},
   "source": [
    "Asynchronous generation"
   ]
  },
  {
   "cell_type": "code",
   "execution_count": 36,
   "metadata": {},
   "outputs": [
    {
     "data": {
      "text/plain": [
       "{'message': {'role': 'assistant',\n",
       "  'content': [{'text': \"Alright, I've dimmed the lights, turned on the disco ball, and started some upbeat music!  Let's get this party started! 🎉 \\n\"}],\n",
       "  'name': None},\n",
       " 'usage': {'model_name': 'gemini-1.5-pro',\n",
       "  'prompt_tokens': 353,\n",
       "  'completion_tokens': 89},\n",
       " 'prompt': [parts {\n",
       "    text: \"Turn this place into a comfortable party mood!\"\n",
       "  }\n",
       "  role: \"user\",\n",
       "  parts {\n",
       "    function_call {\n",
       "      name: \"dim_lights\"\n",
       "      args {\n",
       "        fields {\n",
       "          key: \"brightness\"\n",
       "          value {\n",
       "            number_value: 0.5\n",
       "          }\n",
       "        }\n",
       "      }\n",
       "    }\n",
       "  }\n",
       "  parts {\n",
       "    function_call {\n",
       "      name: \"power_disco_ball\"\n",
       "      args {\n",
       "        fields {\n",
       "          key: \"power\"\n",
       "          value {\n",
       "            bool_value: true\n",
       "          }\n",
       "        }\n",
       "      }\n",
       "    }\n",
       "  }\n",
       "  parts {\n",
       "    function_call {\n",
       "      name: \"start_music\"\n",
       "      args {\n",
       "        fields {\n",
       "          key: \"loud\"\n",
       "          value {\n",
       "            bool_value: true\n",
       "          }\n",
       "        }\n",
       "        fields {\n",
       "          key: \"energetic\"\n",
       "          value {\n",
       "            bool_value: true\n",
       "          }\n",
       "        }\n",
       "        fields {\n",
       "          key: \"bpm\"\n",
       "          value {\n",
       "            string_value: \"120\"\n",
       "          }\n",
       "        }\n",
       "      }\n",
       "    }\n",
       "  }\n",
       "  role: \"model\",\n",
       "  parts {\n",
       "    function_response {\n",
       "      name: \"dim_lights\"\n",
       "      response {\n",
       "        fields {\n",
       "          key: \"content\"\n",
       "          value {\n",
       "            string_value: \"Lights are now set to 0.5\"\n",
       "          }\n",
       "        }\n",
       "      }\n",
       "    }\n",
       "  }\n",
       "  parts {\n",
       "    function_response {\n",
       "      name: \"power_disco_ball\"\n",
       "      response {\n",
       "        fields {\n",
       "          key: \"content\"\n",
       "          value {\n",
       "            string_value: \"Disco ball is spinning!\"\n",
       "          }\n",
       "        }\n",
       "      }\n",
       "    }\n",
       "  }\n",
       "  parts {\n",
       "    function_response {\n",
       "      name: \"start_music\"\n",
       "      response {\n",
       "        fields {\n",
       "          key: \"content\"\n",
       "          value {\n",
       "            string_value: \"Starting music! energetic=True loud=True, bpm=\\'120\\'\"\n",
       "          }\n",
       "        }\n",
       "      }\n",
       "    }\n",
       "  }\n",
       "  role: \"function\"]}"
      ]
     },
     "execution_count": 36,
     "metadata": {},
     "output_type": "execute_result"
    }
   ],
   "source": [
    "response = await gemini.arun(\n",
    "    prompt,\n",
    "    model_name=\"gemini-1.5-pro\",\n",
    "    tools=[power_disco_ball, start_music, dim_lights],\n",
    "    tool_configs=tool_configs,\n",
    ")\n",
    "\n",
    "# show result\n",
    "response.model_dump()"
   ]
  },
  {
   "cell_type": "markdown",
   "metadata": {},
   "source": [
    "Gemini allows you to call specific tool as well as OpenAI Chat Completion."
   ]
  },
  {
   "cell_type": "code",
   "execution_count": 37,
   "metadata": {},
   "outputs": [
    {
     "data": {
      "text/plain": [
       "{'message': {'role': 'assistant',\n",
       "  'content': [{'text': \"Okay, I'm setting the mood!  🎶 \\n\\nLet's get this party started! 🎉  What else can I do to make it awesome?  Need some lighting ideas? 😉 💡 \\n\"}],\n",
       "  'name': None},\n",
       " 'usage': {'model_name': 'gemini-1.5-pro',\n",
       "  'prompt_tokens': 276,\n",
       "  'completion_tokens': 67},\n",
       " 'prompt': [parts {\n",
       "    text: \"Turn this place into a comfortable party mood!\"\n",
       "  }\n",
       "  role: \"user\",\n",
       "  parts {\n",
       "    function_call {\n",
       "      name: \"start_music\"\n",
       "      args {\n",
       "        fields {\n",
       "          key: \"loud\"\n",
       "          value {\n",
       "            bool_value: true\n",
       "          }\n",
       "        }\n",
       "        fields {\n",
       "          key: \"energetic\"\n",
       "          value {\n",
       "            bool_value: true\n",
       "          }\n",
       "        }\n",
       "        fields {\n",
       "          key: \"bpm\"\n",
       "          value {\n",
       "            string_value: \"120\"\n",
       "          }\n",
       "        }\n",
       "      }\n",
       "    }\n",
       "  }\n",
       "  role: \"model\",\n",
       "  parts {\n",
       "    function_response {\n",
       "      name: \"start_music\"\n",
       "      response {\n",
       "        fields {\n",
       "          key: \"content\"\n",
       "          value {\n",
       "            string_value: \"Starting music! energetic=True loud=True, bpm=\\'120\\'\"\n",
       "          }\n",
       "        }\n",
       "      }\n",
       "    }\n",
       "  }\n",
       "  role: \"function\"]}"
      ]
     },
     "execution_count": 37,
     "metadata": {},
     "output_type": "execute_result"
    }
   ],
   "source": [
    "response = gemini.run(\n",
    "    prompt,\n",
    "    tool_choice=\"start_music\",\n",
    "    model_name=\"gemini-1.5-pro\",\n",
    "    tools=[power_disco_ball, start_music, dim_lights],\n",
    "    tool_configs=tool_configs,\n",
    ")\n",
    "\n",
    "# show result\n",
    "response.model_dump()"
   ]
  },
  {
   "cell_type": "markdown",
   "metadata": {},
   "source": [
    "Also pydantic tools is acceptable."
   ]
  },
  {
   "cell_type": "code",
   "execution_count": 38,
   "metadata": {},
   "outputs": [],
   "source": [
    "gemini = GeminiFunctionalChat(\n",
    "    api_key_env_name=\"GEMINI_API_KEY\",\n",
    "    model_name=\"gemini-1.5-pro\",\n",
    "    tools=tools_pydantic,\n",
    "    tool_configs=tool_configs_pydantic,\n",
    ")"
   ]
  },
  {
   "cell_type": "code",
   "execution_count": 39,
   "metadata": {},
   "outputs": [
    {
     "data": {
      "text/plain": [
       "{'message': {'role': 'assistant',\n",
       "  'content': [{'text': \"Alright, I've got the disco ball spinning, the music bumping, and the lights dimmed! Let's get this party started! 🎉 \\n\"}],\n",
       "  'name': None},\n",
       " 'usage': {'model_name': 'gemini-1.5-pro',\n",
       "  'prompt_tokens': 353,\n",
       "  'completion_tokens': 83},\n",
       " 'prompt': [parts {\n",
       "    text: \"Turn this place into a comfortable party mood!\"\n",
       "  }\n",
       "  role: \"user\",\n",
       "  parts {\n",
       "    function_call {\n",
       "      name: \"PowerDiscoBall\"\n",
       "      args {\n",
       "        fields {\n",
       "          key: \"power\"\n",
       "          value {\n",
       "            bool_value: true\n",
       "          }\n",
       "        }\n",
       "      }\n",
       "    }\n",
       "  }\n",
       "  parts {\n",
       "    function_call {\n",
       "      name: \"StartMusic\"\n",
       "      args {\n",
       "        fields {\n",
       "          key: \"loud\"\n",
       "          value {\n",
       "            bool_value: true\n",
       "          }\n",
       "        }\n",
       "        fields {\n",
       "          key: \"energetic\"\n",
       "          value {\n",
       "            bool_value: true\n",
       "          }\n",
       "        }\n",
       "        fields {\n",
       "          key: \"bpm\"\n",
       "          value {\n",
       "            string_value: \"120\"\n",
       "          }\n",
       "        }\n",
       "      }\n",
       "    }\n",
       "  }\n",
       "  parts {\n",
       "    function_call {\n",
       "      name: \"DimLights\"\n",
       "      args {\n",
       "        fields {\n",
       "          key: \"brightness\"\n",
       "          value {\n",
       "            number_value: 0.5\n",
       "          }\n",
       "        }\n",
       "      }\n",
       "    }\n",
       "  }\n",
       "  role: \"model\",\n",
       "  parts {\n",
       "    function_response {\n",
       "      name: \"PowerDiscoBall\"\n",
       "      response {\n",
       "        fields {\n",
       "          key: \"content\"\n",
       "          value {\n",
       "            string_value: \"Disco ball is spinning!\"\n",
       "          }\n",
       "        }\n",
       "      }\n",
       "    }\n",
       "  }\n",
       "  parts {\n",
       "    function_response {\n",
       "      name: \"StartMusic\"\n",
       "      response {\n",
       "        fields {\n",
       "          key: \"content\"\n",
       "          value {\n",
       "            string_value: \"Starting music! self.energetic=True self.loud=True, self.bpm=<BPM.MEDIUM: \\'120\\'>\"\n",
       "          }\n",
       "        }\n",
       "      }\n",
       "    }\n",
       "  }\n",
       "  parts {\n",
       "    function_response {\n",
       "      name: \"DimLights\"\n",
       "      response {\n",
       "        fields {\n",
       "          key: \"content\"\n",
       "          value {\n",
       "            string_value: \"Lights are now set to 0.5\"\n",
       "          }\n",
       "        }\n",
       "      }\n",
       "    }\n",
       "  }\n",
       "  role: \"function\"]}"
      ]
     },
     "execution_count": 39,
     "metadata": {},
     "output_type": "execute_result"
    }
   ],
   "source": [
    "response = gemini.run(prompt)\n",
    "response.model_dump()"
   ]
  },
  {
   "cell_type": "markdown",
   "metadata": {},
   "source": [
    "Streaming"
   ]
  },
  {
   "cell_type": "code",
   "execution_count": 40,
   "metadata": {},
   "outputs": [
    {
     "data": {
      "text/plain": [
       "[CompletionResults(message=Message(role='assistant', content=[TextContent(text='Alright')], name=None), usage=Usage(prompt_tokens=0, completion_tokens=0, total_tokens=0), prompt='', raw=None),\n",
       " CompletionResults(message=Message(role='assistant', content=[TextContent(text=\"Alright, I've dimmed the lights, turned on the disco ball, and started\")], name=None), usage=Usage(prompt_tokens=0, completion_tokens=0, total_tokens=0), prompt='', raw=None),\n",
       " CompletionResults(message=Message(role='assistant', content=[TextContent(text=\"Alright, I've dimmed the lights, turned on the disco ball, and started some energetic music!  Let's get this party started! What else can\")], name=None), usage=Usage(prompt_tokens=0, completion_tokens=0, total_tokens=0), prompt='', raw=None),\n",
       " CompletionResults(message=Message(role='assistant', content=[TextContent(text=\"Alright, I've dimmed the lights, turned on the disco ball, and started some energetic music!  Let's get this party started! What else can I do to set the mood? 🎉 \\n\")], name=None), usage=Usage(prompt_tokens=0, completion_tokens=0, total_tokens=0), prompt='', raw=None),\n",
       " CompletionResults(message=Message(role='assistant', content=[TextContent(text=\"Alright, I've dimmed the lights, turned on the disco ball, and started some energetic music!  Let's get this party started! What else can I do to set the mood? 🎉 \\n\")], name=None), usage=Usage(prompt_tokens=353, completion_tokens=99, total_tokens=452), prompt=[parts {\n",
       "   text: \"Turn this place into a comfortable party mood!\"\n",
       " }\n",
       " role: \"user\"\n",
       " , parts {\n",
       "   function_call {\n",
       "     name: \"dim_lights\"\n",
       "     args {\n",
       "       fields {\n",
       "         key: \"brightness\"\n",
       "         value {\n",
       "           number_value: 0.5\n",
       "         }\n",
       "       }\n",
       "     }\n",
       "   }\n",
       " }\n",
       " parts {\n",
       "   function_call {\n",
       "     name: \"power_disco_ball\"\n",
       "     args {\n",
       "       fields {\n",
       "         key: \"power\"\n",
       "         value {\n",
       "           bool_value: true\n",
       "         }\n",
       "       }\n",
       "     }\n",
       "   }\n",
       " }\n",
       " parts {\n",
       "   function_call {\n",
       "     name: \"start_music\"\n",
       "     args {\n",
       "       fields {\n",
       "         key: \"loud\"\n",
       "         value {\n",
       "           bool_value: true\n",
       "         }\n",
       "       }\n",
       "       fields {\n",
       "         key: \"energetic\"\n",
       "         value {\n",
       "           bool_value: true\n",
       "         }\n",
       "       }\n",
       "       fields {\n",
       "         key: \"bpm\"\n",
       "         value {\n",
       "           string_value: \"120\"\n",
       "         }\n",
       "       }\n",
       "     }\n",
       "   }\n",
       " }\n",
       " role: \"model\"\n",
       " , parts {\n",
       "   function_response {\n",
       "     name: \"dim_lights\"\n",
       "     response {\n",
       "       fields {\n",
       "         key: \"content\"\n",
       "         value {\n",
       "           string_value: \"Lights are now set to 0.5\"\n",
       "         }\n",
       "       }\n",
       "     }\n",
       "   }\n",
       " }\n",
       " parts {\n",
       "   function_response {\n",
       "     name: \"power_disco_ball\"\n",
       "     response {\n",
       "       fields {\n",
       "         key: \"content\"\n",
       "         value {\n",
       "           string_value: \"Disco ball is spinning!\"\n",
       "         }\n",
       "       }\n",
       "     }\n",
       "   }\n",
       " }\n",
       " parts {\n",
       "   function_response {\n",
       "     name: \"start_music\"\n",
       "     response {\n",
       "       fields {\n",
       "         key: \"content\"\n",
       "         value {\n",
       "           string_value: \"Starting music! energetic=True loud=True, bpm=\\'120\\'\"\n",
       "         }\n",
       "       }\n",
       "     }\n",
       "   }\n",
       " }\n",
       " role: \"function\"\n",
       " ], raw=[response:\n",
       " GenerateContentResponse(\n",
       "     done=True,\n",
       "     iterator=None,\n",
       "     result=protos.GenerateContentResponse({\n",
       "       \"candidates\": [\n",
       "         {\n",
       "           \"content\": {\n",
       "             \"parts\": [\n",
       "               {\n",
       "                 \"text\": \"Alright\"\n",
       "               }\n",
       "             ],\n",
       "             \"role\": \"model\"\n",
       "           },\n",
       "           \"index\": 0\n",
       "         }\n",
       "       ],\n",
       "       \"usage_metadata\": {\n",
       "         \"prompt_token_count\": 145,\n",
       "         \"candidates_token_count\": 1,\n",
       "         \"total_token_count\": 146\n",
       "       }\n",
       "     }),\n",
       " ), response:\n",
       " GenerateContentResponse(\n",
       "     done=True,\n",
       "     iterator=None,\n",
       "     result=protos.GenerateContentResponse({\n",
       "       \"candidates\": [\n",
       "         {\n",
       "           \"content\": {\n",
       "             \"parts\": [\n",
       "               {\n",
       "                 \"text\": \"Alright, I've dimmed the lights, turned on the disco ball, and started\"\n",
       "               }\n",
       "             ],\n",
       "             \"role\": \"model\"\n",
       "           },\n",
       "           \"index\": 0,\n",
       "           \"safety_ratings\": [\n",
       "             {\n",
       "               \"category\": \"HARM_CATEGORY_SEXUALLY_EXPLICIT\",\n",
       "               \"probability\": \"NEGLIGIBLE\"\n",
       "             },\n",
       "             {\n",
       "               \"category\": \"HARM_CATEGORY_HATE_SPEECH\",\n",
       "               \"probability\": \"NEGLIGIBLE\"\n",
       "             },\n",
       "             {\n",
       "               \"category\": \"HARM_CATEGORY_HARASSMENT\",\n",
       "               \"probability\": \"NEGLIGIBLE\"\n",
       "             },\n",
       "             {\n",
       "               \"category\": \"HARM_CATEGORY_DANGEROUS_CONTENT\",\n",
       "               \"probability\": \"NEGLIGIBLE\"\n",
       "             }\n",
       "           ]\n",
       "         }\n",
       "       ],\n",
       "       \"usage_metadata\": {\n",
       "         \"prompt_token_count\": 145,\n",
       "         \"candidates_token_count\": 17,\n",
       "         \"total_token_count\": 162\n",
       "       }\n",
       "     }),\n",
       " ), response:\n",
       " GenerateContentResponse(\n",
       "     done=True,\n",
       "     iterator=None,\n",
       "     result=protos.GenerateContentResponse({\n",
       "       \"candidates\": [\n",
       "         {\n",
       "           \"content\": {\n",
       "             \"parts\": [\n",
       "               {\n",
       "                 \"text\": \"Alright, I've dimmed the lights, turned on the disco ball, and started some energetic music!  Let's get this party started! What else can\"\n",
       "               }\n",
       "             ],\n",
       "             \"role\": \"model\"\n",
       "           },\n",
       "           \"index\": 0,\n",
       "           \"safety_ratings\": [\n",
       "             {\n",
       "               \"category\": \"HARM_CATEGORY_SEXUALLY_EXPLICIT\",\n",
       "               \"probability\": \"NEGLIGIBLE\"\n",
       "             },\n",
       "             {\n",
       "               \"category\": \"HARM_CATEGORY_HATE_SPEECH\",\n",
       "               \"probability\": \"NEGLIGIBLE\"\n",
       "             },\n",
       "             {\n",
       "               \"category\": \"HARM_CATEGORY_HARASSMENT\",\n",
       "               \"probability\": \"NEGLIGIBLE\"\n",
       "             },\n",
       "             {\n",
       "               \"category\": \"HARM_CATEGORY_DANGEROUS_CONTENT\",\n",
       "               \"probability\": \"NEGLIGIBLE\"\n",
       "             }\n",
       "           ]\n",
       "         }\n",
       "       ],\n",
       "       \"usage_metadata\": {\n",
       "         \"prompt_token_count\": 145,\n",
       "         \"candidates_token_count\": 33,\n",
       "         \"total_token_count\": 178\n",
       "       }\n",
       "     }),\n",
       " ), response:\n",
       " GenerateContentResponse(\n",
       "     done=True,\n",
       "     iterator=None,\n",
       "     result=protos.GenerateContentResponse({\n",
       "       \"candidates\": [\n",
       "         {\n",
       "           \"content\": {\n",
       "             \"parts\": [\n",
       "               {\n",
       "                 \"text\": \"Alright, I've dimmed the lights, turned on the disco ball, and started some energetic music!  Let's get this party started! What else can I do to set the mood? \\ud83c\\udf89 \\n\"\n",
       "               }\n",
       "             ],\n",
       "             \"role\": \"model\"\n",
       "           },\n",
       "           \"finish_reason\": \"STOP\",\n",
       "           \"index\": 0,\n",
       "           \"safety_ratings\": [\n",
       "             {\n",
       "               \"category\": \"HARM_CATEGORY_SEXUALLY_EXPLICIT\",\n",
       "               \"probability\": \"NEGLIGIBLE\"\n",
       "             },\n",
       "             {\n",
       "               \"category\": \"HARM_CATEGORY_HATE_SPEECH\",\n",
       "               \"probability\": \"NEGLIGIBLE\"\n",
       "             },\n",
       "             {\n",
       "               \"category\": \"HARM_CATEGORY_HARASSMENT\",\n",
       "               \"probability\": \"NEGLIGIBLE\"\n",
       "             },\n",
       "             {\n",
       "               \"category\": \"HARM_CATEGORY_DANGEROUS_CONTENT\",\n",
       "               \"probability\": \"NEGLIGIBLE\"\n",
       "             }\n",
       "           ]\n",
       "         }\n",
       "       ],\n",
       "       \"usage_metadata\": {\n",
       "         \"prompt_token_count\": 145,\n",
       "         \"candidates_token_count\": 41,\n",
       "         \"total_token_count\": 186\n",
       "       }\n",
       "     }),\n",
       " )])]"
      ]
     },
     "execution_count": 40,
     "metadata": {},
     "output_type": "execute_result"
    }
   ],
   "source": [
    "response = gemini.stream(\n",
    "    prompt,\n",
    "    model_name=\"gemini-1.5-pro\",\n",
    "    tools=[power_disco_ball, start_music, dim_lights],\n",
    "    tool_configs=tool_configs,\n",
    ")\n",
    "[r for r in response]"
   ]
  },
  {
   "cell_type": "code",
   "execution_count": 41,
   "metadata": {},
   "outputs": [
    {
     "data": {
      "text/plain": [
       "[CompletionResults(message=Message(role='assistant', content=[TextContent(text='The')], name=None), usage=Usage(prompt_tokens=0, completion_tokens=0, total_tokens=0), prompt='', raw=None),\n",
       " CompletionResults(message=Message(role='assistant', content=[TextContent(text='The lights are dimmed, the disco ball is spinning, and the music is pumping!')], name=None), usage=Usage(prompt_tokens=0, completion_tokens=0, total_tokens=0), prompt='', raw=None),\n",
       " CompletionResults(message=Message(role='assistant', content=[TextContent(text=\"The lights are dimmed, the disco ball is spinning, and the music is pumping! Let's get this party started! 🎉 \\n\")], name=None), usage=Usage(prompt_tokens=0, completion_tokens=0, total_tokens=0), prompt='', raw=None),\n",
       " CompletionResults(message=Message(role='assistant', content=[TextContent(text=\"The lights are dimmed, the disco ball is spinning, and the music is pumping! Let's get this party started! 🎉 \\n\")], name=None), usage=Usage(prompt_tokens=353, completion_tokens=84, total_tokens=437), prompt=[parts {\n",
       "   text: \"Turn this place into a comfortable party mood!\"\n",
       " }\n",
       " role: \"user\"\n",
       " , parts {\n",
       "   function_call {\n",
       "     name: \"dim_lights\"\n",
       "     args {\n",
       "       fields {\n",
       "         key: \"brightness\"\n",
       "         value {\n",
       "           number_value: 0.5\n",
       "         }\n",
       "       }\n",
       "     }\n",
       "   }\n",
       " }\n",
       " parts {\n",
       "   function_call {\n",
       "     name: \"power_disco_ball\"\n",
       "     args {\n",
       "       fields {\n",
       "         key: \"power\"\n",
       "         value {\n",
       "           bool_value: true\n",
       "         }\n",
       "       }\n",
       "     }\n",
       "   }\n",
       " }\n",
       " parts {\n",
       "   function_call {\n",
       "     name: \"start_music\"\n",
       "     args {\n",
       "       fields {\n",
       "         key: \"loud\"\n",
       "         value {\n",
       "           bool_value: true\n",
       "         }\n",
       "       }\n",
       "       fields {\n",
       "         key: \"energetic\"\n",
       "         value {\n",
       "           bool_value: true\n",
       "         }\n",
       "       }\n",
       "       fields {\n",
       "         key: \"bpm\"\n",
       "         value {\n",
       "           string_value: \"120\"\n",
       "         }\n",
       "       }\n",
       "     }\n",
       "   }\n",
       " }\n",
       " role: \"model\"\n",
       " , parts {\n",
       "   function_response {\n",
       "     name: \"dim_lights\"\n",
       "     response {\n",
       "       fields {\n",
       "         key: \"content\"\n",
       "         value {\n",
       "           string_value: \"Lights are now set to 0.5\"\n",
       "         }\n",
       "       }\n",
       "     }\n",
       "   }\n",
       " }\n",
       " parts {\n",
       "   function_response {\n",
       "     name: \"power_disco_ball\"\n",
       "     response {\n",
       "       fields {\n",
       "         key: \"content\"\n",
       "         value {\n",
       "           string_value: \"Disco ball is spinning!\"\n",
       "         }\n",
       "       }\n",
       "     }\n",
       "   }\n",
       " }\n",
       " parts {\n",
       "   function_response {\n",
       "     name: \"start_music\"\n",
       "     response {\n",
       "       fields {\n",
       "         key: \"content\"\n",
       "         value {\n",
       "           string_value: \"Starting music! energetic=True loud=True, bpm=\\'120\\'\"\n",
       "         }\n",
       "       }\n",
       "     }\n",
       "   }\n",
       " }\n",
       " role: \"function\"\n",
       " ], raw=[response:\n",
       " GenerateContentResponse(\n",
       "     done=True,\n",
       "     iterator=None,\n",
       "     result=protos.GenerateContentResponse({\n",
       "       \"candidates\": [\n",
       "         {\n",
       "           \"content\": {\n",
       "             \"parts\": [\n",
       "               {\n",
       "                 \"text\": \"The\"\n",
       "               }\n",
       "             ],\n",
       "             \"role\": \"model\"\n",
       "           },\n",
       "           \"index\": 0\n",
       "         }\n",
       "       ],\n",
       "       \"usage_metadata\": {\n",
       "         \"prompt_token_count\": 145,\n",
       "         \"candidates_token_count\": 1,\n",
       "         \"total_token_count\": 146\n",
       "       }\n",
       "     }),\n",
       " ), response:\n",
       " GenerateContentResponse(\n",
       "     done=True,\n",
       "     iterator=None,\n",
       "     result=protos.GenerateContentResponse({\n",
       "       \"candidates\": [\n",
       "         {\n",
       "           \"content\": {\n",
       "             \"parts\": [\n",
       "               {\n",
       "                 \"text\": \"The lights are dimmed, the disco ball is spinning, and the music is pumping!\"\n",
       "               }\n",
       "             ],\n",
       "             \"role\": \"model\"\n",
       "           },\n",
       "           \"index\": 0,\n",
       "           \"safety_ratings\": [\n",
       "             {\n",
       "               \"category\": \"HARM_CATEGORY_SEXUALLY_EXPLICIT\",\n",
       "               \"probability\": \"NEGLIGIBLE\"\n",
       "             },\n",
       "             {\n",
       "               \"category\": \"HARM_CATEGORY_HATE_SPEECH\",\n",
       "               \"probability\": \"NEGLIGIBLE\"\n",
       "             },\n",
       "             {\n",
       "               \"category\": \"HARM_CATEGORY_HARASSMENT\",\n",
       "               \"probability\": \"NEGLIGIBLE\"\n",
       "             },\n",
       "             {\n",
       "               \"category\": \"HARM_CATEGORY_DANGEROUS_CONTENT\",\n",
       "               \"probability\": \"NEGLIGIBLE\"\n",
       "             }\n",
       "           ]\n",
       "         }\n",
       "       ],\n",
       "       \"usage_metadata\": {\n",
       "         \"prompt_token_count\": 145,\n",
       "         \"candidates_token_count\": 17,\n",
       "         \"total_token_count\": 162\n",
       "       }\n",
       "     }),\n",
       " ), response:\n",
       " GenerateContentResponse(\n",
       "     done=True,\n",
       "     iterator=None,\n",
       "     result=protos.GenerateContentResponse({\n",
       "       \"candidates\": [\n",
       "         {\n",
       "           \"content\": {\n",
       "             \"parts\": [\n",
       "               {\n",
       "                 \"text\": \"The lights are dimmed, the disco ball is spinning, and the music is pumping! Let's get this party started! \\ud83c\\udf89 \\n\"\n",
       "               }\n",
       "             ],\n",
       "             \"role\": \"model\"\n",
       "           },\n",
       "           \"finish_reason\": \"STOP\",\n",
       "           \"index\": 0,\n",
       "           \"safety_ratings\": [\n",
       "             {\n",
       "               \"category\": \"HARM_CATEGORY_SEXUALLY_EXPLICIT\",\n",
       "               \"probability\": \"NEGLIGIBLE\"\n",
       "             },\n",
       "             {\n",
       "               \"category\": \"HARM_CATEGORY_HATE_SPEECH\",\n",
       "               \"probability\": \"NEGLIGIBLE\"\n",
       "             },\n",
       "             {\n",
       "               \"category\": \"HARM_CATEGORY_HARASSMENT\",\n",
       "               \"probability\": \"NEGLIGIBLE\"\n",
       "             },\n",
       "             {\n",
       "               \"category\": \"HARM_CATEGORY_DANGEROUS_CONTENT\",\n",
       "               \"probability\": \"NEGLIGIBLE\"\n",
       "             }\n",
       "           ]\n",
       "         }\n",
       "       ],\n",
       "       \"usage_metadata\": {\n",
       "         \"prompt_token_count\": 145,\n",
       "         \"candidates_token_count\": 26,\n",
       "         \"total_token_count\": 171\n",
       "       }\n",
       "     }),\n",
       " )])]"
      ]
     },
     "execution_count": 41,
     "metadata": {},
     "output_type": "execute_result"
    }
   ],
   "source": [
    "response = gemini.astream(\n",
    "    prompt,\n",
    "    model_name=\"gemini-1.5-pro\",\n",
    "    tools=[power_disco_ball, start_music, dim_lights],\n",
    "    tool_configs=tool_configs,\n",
    ")\n",
    "[r async for r in response]"
   ]
  },
  {
   "cell_type": "markdown",
   "metadata": {},
   "source": [
    "### Gemini on VertexAI"
   ]
  },
  {
   "cell_type": "code",
   "execution_count": 42,
   "metadata": {},
   "outputs": [],
   "source": [
    "gemini_vertexai = GeminiFunctionalChat(\n",
    "    api_type=\"vertexai\",\n",
    "    project_id_env_name=\"PROJECT_ID\",\n",
    "    location_env_name=\"LOCATION\",\n",
    ")"
   ]
  },
  {
   "cell_type": "code",
   "execution_count": 43,
   "metadata": {},
   "outputs": [
    {
     "data": {
      "text/plain": [
       "{'message': {'role': 'assistant',\n",
       "  'content': [{'text': \"Okay, I've got this!  Here's how we can create a comfortable party mood:\\n\\n**Music:**\\n\\n* **Upbeat but not overwhelming:** I've started some music with a BPM of 120.  This is a nice, energetic tempo that gets people moving but isn't too fast. \\n* **Keep it chill:** I've made sure the music isn't too loud.  You want people to be able to chat and mingle without having to shout over the music.\\n\\n**Lighting:**\\n\\n* **Dim the lights:**  I've dimmed the lights to create a cozy and inviting atmosphere.  \\n* **Disco ball optional:** I've turned on the disco ball for a little extra fun.  You can adjust this if you prefer a more subdued vibe.\\n\\n**Atmosphere:**\\n\\n* **Set the mood with scents:**  Consider lighting some candles or diffusing essential oils like lavender or bergamot to create a relaxing and inviting atmosphere.\\n* **Comfortable seating:** Make sure there are plenty of comfortable places for people to sit and relax. \\n* **Snacks and drinks:**  Provide a variety of snacks and drinks to keep everyone happy and hydrated. \\n\\nLet me know if you need any more help creating the perfect party vibe! \\n\"}],\n",
       "  'name': None},\n",
       " 'usage': {'model_name': 'gemini-1.5-flash',\n",
       "  'prompt_tokens': 181,\n",
       "  'completion_tokens': 288},\n",
       " 'prompt': [role: \"user\"\n",
       "  parts {\n",
       "    text: \"Turn this place into a comfortable party mood!\"\n",
       "  },\n",
       "  role: \"model\"\n",
       "  parts {\n",
       "    function_call {\n",
       "      name: \"start_music\"\n",
       "      args {\n",
       "        fields {\n",
       "          key: \"loud\"\n",
       "          value {\n",
       "            bool_value: false\n",
       "          }\n",
       "        }\n",
       "        fields {\n",
       "          key: \"energetic\"\n",
       "          value {\n",
       "            bool_value: true\n",
       "          }\n",
       "        }\n",
       "        fields {\n",
       "          key: \"bpm\"\n",
       "          value {\n",
       "            string_value: \"120\"\n",
       "          }\n",
       "        }\n",
       "      }\n",
       "    }\n",
       "  }\n",
       "  parts {\n",
       "    function_call {\n",
       "      name: \"dim_lights\"\n",
       "      args {\n",
       "        fields {\n",
       "          key: \"brightness\"\n",
       "          value {\n",
       "            number_value: 0.5\n",
       "          }\n",
       "        }\n",
       "      }\n",
       "    }\n",
       "  }\n",
       "  parts {\n",
       "    function_call {\n",
       "      name: \"power_disco_ball\"\n",
       "      args {\n",
       "        fields {\n",
       "          key: \"power\"\n",
       "          value {\n",
       "            bool_value: true\n",
       "          }\n",
       "        }\n",
       "      }\n",
       "    }\n",
       "  },\n",
       "  role: \"user\"\n",
       "  parts {\n",
       "    function_response {\n",
       "      name: \"start_music\"\n",
       "      response {\n",
       "        fields {\n",
       "          key: \"content\"\n",
       "          value {\n",
       "            string_value: \"Starting music! energetic=True loud=False, bpm=\\'120\\'\"\n",
       "          }\n",
       "        }\n",
       "      }\n",
       "    }\n",
       "  }\n",
       "  parts {\n",
       "    function_response {\n",
       "      name: \"dim_lights\"\n",
       "      response {\n",
       "        fields {\n",
       "          key: \"content\"\n",
       "          value {\n",
       "            string_value: \"Lights are now set to 0.5\"\n",
       "          }\n",
       "        }\n",
       "      }\n",
       "    }\n",
       "  }\n",
       "  parts {\n",
       "    function_response {\n",
       "      name: \"power_disco_ball\"\n",
       "      response {\n",
       "        fields {\n",
       "          key: \"content\"\n",
       "          value {\n",
       "            string_value: \"Disco ball is spinning!\"\n",
       "          }\n",
       "        }\n",
       "      }\n",
       "    }\n",
       "  }]}"
      ]
     },
     "execution_count": 43,
     "metadata": {},
     "output_type": "execute_result"
    }
   ],
   "source": [
    "response = gemini_vertexai.run(\n",
    "    prompt=prompt,\n",
    "    model_name=\"gemini-1.5-flash\",\n",
    "    tools=[power_disco_ball, start_music, dim_lights],\n",
    "    tool_configs=tool_configs,\n",
    ")\n",
    "\n",
    "# show result\n",
    "response.model_dump()"
   ]
  },
  {
   "cell_type": "markdown",
   "metadata": {},
   "source": [
    "multiple generation"
   ]
  },
  {
   "cell_type": "code",
   "execution_count": 44,
   "metadata": {},
   "outputs": [
    {
     "data": {
      "text/plain": [
       "{'role': 'assistant',\n",
       " 'content': [{'text': 'Okay, I\\'ve got the music pumping, the lights dimmed for a cozy vibe, and the disco ball sparkling!  Let\\'s add some more party touches: \\n\\n* **\"Let\\'s get this party started!\"** I\\'ll announce it over the speakers. \\n* **\"Want to play some party games?\"**  I\\'ll suggest some fun options. \\n* **\"Who\\'s ready for some snacks?\"**  I\\'ll encourage people to grab some food and drinks.\\n\\nDo you want me to do anything else to create a comfortable party mood?  \\n'},\n",
       "  {'text': \"Okay, I'm setting the mood! \\n\\nI've started some upbeat music with a medium tempo. The lights are dimmed to a cozy level, and the disco ball is spinning, casting shimmering light around the room.  \\n\\nIs there anything else I can do to make this party more comfortable and fun?  Tell me about your ideal party atmosphere - do you want it to be more energetic, or more relaxed?  Do you need any snacks or drinks?  Let me know! \\n\"}],\n",
       " 'name': None}"
      ]
     },
     "execution_count": 44,
     "metadata": {},
     "output_type": "execute_result"
    }
   ],
   "source": [
    "response = gemini_vertexai.run(\n",
    "    prompt=prompt,\n",
    "    n_results=2,\n",
    "    model_name=\"gemini-1.5-flash\",\n",
    "    tools=[power_disco_ball, start_music, dim_lights],\n",
    "    tool_configs=tool_configs,\n",
    ")\n",
    "response.message.model_dump()"
   ]
  },
  {
   "cell_type": "markdown",
   "metadata": {},
   "source": [
    "Pydantic tool use"
   ]
  },
  {
   "cell_type": "code",
   "execution_count": 45,
   "metadata": {},
   "outputs": [],
   "source": [
    "gemini_vertexai = GeminiFunctionalChat(\n",
    "    api_type=\"vertexai\",\n",
    "    project_id_env_name=\"PROJECT_ID\",\n",
    "    location_env_name=\"LOCATION\",\n",
    ")"
   ]
  },
  {
   "cell_type": "code",
   "execution_count": 46,
   "metadata": {},
   "outputs": [
    {
     "data": {
      "text/plain": [
       "{'message': {'role': 'assistant',\n",
       "  'content': [{'text': \"Okay, I'm turning up the party vibe!  \\n\\n* **Music is playing!**  It's got a good beat, not too loud, perfect for a chill but fun atmosphere. \\n* **Lights are dimmed** to create a cozy, inviting feeling. \\n* **The disco ball is spinning!** Adding a touch of sparkle and fun. \\n\\nLet's get this party started!  What else can I do to make it even better?  Do you have any specific requests for drinks, decorations, or games? 🎉 \\n\"}],\n",
       "  'name': None},\n",
       " 'usage': {'model_name': 'gemini-1.5-flash',\n",
       "  'prompt_tokens': 181,\n",
       "  'completion_tokens': 132},\n",
       " 'prompt': [role: \"user\"\n",
       "  parts {\n",
       "    text: \"Turn this place into a comfortable party mood!\"\n",
       "  },\n",
       "  role: \"model\"\n",
       "  parts {\n",
       "    function_call {\n",
       "      name: \"StartMusic\"\n",
       "      args {\n",
       "        fields {\n",
       "          key: \"loud\"\n",
       "          value {\n",
       "            bool_value: false\n",
       "          }\n",
       "        }\n",
       "        fields {\n",
       "          key: \"energetic\"\n",
       "          value {\n",
       "            bool_value: true\n",
       "          }\n",
       "        }\n",
       "        fields {\n",
       "          key: \"bpm\"\n",
       "          value {\n",
       "            string_value: \"120\"\n",
       "          }\n",
       "        }\n",
       "      }\n",
       "    }\n",
       "  }\n",
       "  parts {\n",
       "    function_call {\n",
       "      name: \"DimLights\"\n",
       "      args {\n",
       "        fields {\n",
       "          key: \"brightness\"\n",
       "          value {\n",
       "            number_value: 0.5\n",
       "          }\n",
       "        }\n",
       "      }\n",
       "    }\n",
       "  }\n",
       "  parts {\n",
       "    function_call {\n",
       "      name: \"PowerDiscoBall\"\n",
       "      args {\n",
       "        fields {\n",
       "          key: \"power\"\n",
       "          value {\n",
       "            bool_value: true\n",
       "          }\n",
       "        }\n",
       "      }\n",
       "    }\n",
       "  },\n",
       "  role: \"user\"\n",
       "  parts {\n",
       "    function_response {\n",
       "      name: \"StartMusic\"\n",
       "      response {\n",
       "        fields {\n",
       "          key: \"content\"\n",
       "          value {\n",
       "            string_value: \"Starting music! self.energetic=True self.loud=False, self.bpm=<BPM.MEDIUM: \\'120\\'>\"\n",
       "          }\n",
       "        }\n",
       "      }\n",
       "    }\n",
       "  }\n",
       "  parts {\n",
       "    function_response {\n",
       "      name: \"DimLights\"\n",
       "      response {\n",
       "        fields {\n",
       "          key: \"content\"\n",
       "          value {\n",
       "            string_value: \"Lights are now set to 0.5\"\n",
       "          }\n",
       "        }\n",
       "      }\n",
       "    }\n",
       "  }\n",
       "  parts {\n",
       "    function_response {\n",
       "      name: \"PowerDiscoBall\"\n",
       "      response {\n",
       "        fields {\n",
       "          key: \"content\"\n",
       "          value {\n",
       "            string_value: \"Disco ball is spinning!\"\n",
       "          }\n",
       "        }\n",
       "      }\n",
       "    }\n",
       "  }]}"
      ]
     },
     "execution_count": 46,
     "metadata": {},
     "output_type": "execute_result"
    }
   ],
   "source": [
    "response = gemini_vertexai.run(\n",
    "    prompt=prompt,\n",
    "    model_name=\"gemini-1.5-flash\",\n",
    "    tools=tools_pydantic,\n",
    "    tool_configs=tool_configs_pydantic,\n",
    ")\n",
    "response.model_dump()"
   ]
  },
  {
   "cell_type": "markdown",
   "metadata": {},
   "source": [
    "### Anthropic Claude"
   ]
  },
  {
   "cell_type": "markdown",
   "metadata": {},
   "source": [
    "tool_configs can be shared with Claude."
   ]
  },
  {
   "cell_type": "code",
   "execution_count": 47,
   "metadata": {},
   "outputs": [],
   "source": [
    "claude = ClaudeFunctionalChat(api_key_env_name=\"ANTHROPIC_API_KEY\")"
   ]
  },
  {
   "cell_type": "code",
   "execution_count": 48,
   "metadata": {},
   "outputs": [
    {
     "data": {
      "text/plain": [
       "{'message': {'role': 'assistant',\n",
       "  'content': [{'text': \"Great! I've set up a comfortable party mood for you. Here's what I've done:\\n\\n1. Dimmed the lights: I've set the brightness to 0.6 (60% brightness). This creates a cozy atmosphere without making it too dark.\\n\\n2. Activated the disco ball: The spinning disco ball will add some fun, party-like lighting effects to the room.\\n\\n3. Started the music: I've chosen energetic music to keep the party mood up, but set it to not be too loud so people can still comfortably chat. The tempo is set to 120 BPM, which is a good, upbeat pace for a party without being too intense.\\n\\nThis combination should create a comfortable party atmosphere that's lively but not overwhelming. The dimmed lights and spinning disco ball will create a fun, party-like ambiance, while the energetic but not-too-loud music will keep the mood up without hindering conversation.\\n\\nIs there anything you'd like to adjust? Perhaps make the music louder, change the tempo, or adjust the lighting? Feel free to let me know if you want any changes!\"}],\n",
       "  'name': None},\n",
       " 'usage': {'model_name': 'claude-3-5-sonnet-20240620',\n",
       "  'prompt_tokens': 1547,\n",
       "  'completion_tokens': 501},\n",
       " 'prompt': [{'role': 'user',\n",
       "   'content': [{'text': 'Turn this place into a comfortable party mood!',\n",
       "     'type': 'text'}]},\n",
       "  {'role': 'assistant',\n",
       "   'content': [{'text': \"Certainly! I'd be happy to help create a comfortable party mood for you. To achieve this, we can use a combination of lighting, music, and some ambiance. Let's use the available tools to set the right atmosphere. I'll make some assumptions based on a typical comfortable party setting, but please feel free to adjust any of these if you'd like something different.\\n\\nLet's start by setting up the environment:\",\n",
       "     'type': 'text'},\n",
       "    {'id': 'toolu_0121MUNPP9T3SuZcPzaYXfh4',\n",
       "     'type': 'tool_use',\n",
       "     'input': {'brightness': 0.6},\n",
       "     'name': 'dim_lights'},\n",
       "    {'id': 'toolu_014FD5kggDogZ94KCU3V6o44',\n",
       "     'type': 'tool_use',\n",
       "     'input': {'power': True},\n",
       "     'name': 'power_disco_ball'},\n",
       "    {'id': 'toolu_01XfAkQLb6u4CugGXHCcQFnj',\n",
       "     'type': 'tool_use',\n",
       "     'input': {'energetic': True, 'loud': False, 'bpm': '120'},\n",
       "     'name': 'start_music'}]},\n",
       "  {'role': 'user',\n",
       "   'content': [{'tool_use_id': 'toolu_0121MUNPP9T3SuZcPzaYXfh4',\n",
       "     'type': 'tool_result',\n",
       "     'content': 'Lights are now set to 0.6'},\n",
       "    {'tool_use_id': 'toolu_014FD5kggDogZ94KCU3V6o44',\n",
       "     'type': 'tool_result',\n",
       "     'content': 'Disco ball is spinning!'},\n",
       "    {'tool_use_id': 'toolu_01XfAkQLb6u4CugGXHCcQFnj',\n",
       "     'type': 'tool_result',\n",
       "     'content': \"Starting music! energetic=True loud=False, bpm='120'\"}]}]}"
      ]
     },
     "execution_count": 48,
     "metadata": {},
     "output_type": "execute_result"
    }
   ],
   "source": [
    "response = claude.run(\n",
    "    prompt=prompt,\n",
    "    model_name=\"claude-3-5-sonnet-20240620\",\n",
    "    tools=[power_disco_ball, start_music, dim_lights],\n",
    "    tool_configs=tool_configs,\n",
    ")\n",
    "\n",
    "response.model_dump()"
   ]
  },
  {
   "cell_type": "markdown",
   "metadata": {},
   "source": [
    "Asynchronous generation"
   ]
  },
  {
   "cell_type": "code",
   "execution_count": 49,
   "metadata": {},
   "outputs": [
    {
     "data": {
      "text/plain": [
       "{'message': {'role': 'assistant',\n",
       "  'content': [{'text': \"Great! I've set up a comfortable party mood for you. Here's what I've done:\\n\\n1. Turned on the disco ball: This will create a fun, party atmosphere with moving lights.\\n2. Started some music: I've chosen energetic music to keep the party mood, but not too loud so it remains comfortable. The tempo is set to 120 BPM, which is a good middle ground for a variety of party music styles.\\n3. Dimmed the lights: I've set the brightness to 0.4 (on a scale from 0 to 1), which should create a cozy, intimate atmosphere without being too dark.\\n\\nThese settings should create a comfortable party mood that's lively but not overwhelming. The spinning disco ball will add a festive touch, the energetic music at a moderate volume will keep the energy up without being too intense, and the dimmed lights will create a relaxed ambiance.\\n\\nIs there anything else you'd like me to adjust to make the party mood even more comfortable?\"}],\n",
       "  'name': None},\n",
       " 'usage': {'model_name': 'claude-3-5-sonnet-20240620',\n",
       "  'prompt_tokens': 1506,\n",
       "  'completion_tokens': 437},\n",
       " 'prompt': [{'role': 'user',\n",
       "   'content': [{'text': 'Turn this place into a comfortable party mood!',\n",
       "     'type': 'text'}]},\n",
       "  {'role': 'assistant',\n",
       "   'content': [{'text': \"Certainly! I'd be happy to help create a comfortable party mood for you. To achieve this, we'll need to adjust a few things using the available tools. Let's set up the perfect ambiance step by step.\",\n",
       "     'type': 'text'},\n",
       "    {'id': 'toolu_01ETKEs8xKzkxCXB3z3fstK1',\n",
       "     'type': 'tool_use',\n",
       "     'input': {'power': True},\n",
       "     'name': 'power_disco_ball'},\n",
       "    {'id': 'toolu_01JAUcEMJZGe6W63rjbkuVTe',\n",
       "     'type': 'tool_use',\n",
       "     'input': {'energetic': True, 'loud': False, 'bpm': '120'},\n",
       "     'name': 'start_music'},\n",
       "    {'id': 'toolu_01JxWPeNd1dhpvYqhyrdKntA',\n",
       "     'type': 'tool_use',\n",
       "     'input': {'brightness': 0.4},\n",
       "     'name': 'dim_lights'}]},\n",
       "  {'role': 'user',\n",
       "   'content': [{'tool_use_id': 'toolu_01ETKEs8xKzkxCXB3z3fstK1',\n",
       "     'type': 'tool_result',\n",
       "     'content': 'Disco ball is spinning!'},\n",
       "    {'tool_use_id': 'toolu_01JAUcEMJZGe6W63rjbkuVTe',\n",
       "     'type': 'tool_result',\n",
       "     'content': \"Starting music! energetic=True loud=False, bpm='120'\"},\n",
       "    {'tool_use_id': 'toolu_01JxWPeNd1dhpvYqhyrdKntA',\n",
       "     'type': 'tool_result',\n",
       "     'content': 'Lights are now set to 0.4'}]}]}"
      ]
     },
     "execution_count": 49,
     "metadata": {},
     "output_type": "execute_result"
    }
   ],
   "source": [
    "response = await claude.arun(\n",
    "    prompt=prompt,\n",
    "    model_name=\"claude-3-5-sonnet-20240620\",\n",
    "    tools=[power_disco_ball, start_music, dim_lights],\n",
    "    tool_configs=tool_configs,\n",
    ")\n",
    "\n",
    "response.model_dump()"
   ]
  },
  {
   "cell_type": "markdown",
   "metadata": {},
   "source": [
    "Pydantic tool use"
   ]
  },
  {
   "cell_type": "code",
   "execution_count": 50,
   "metadata": {},
   "outputs": [],
   "source": [
    "claude = ClaudeFunctionalChat(api_key_env_name=\"ANTHROPIC_API_KEY\")"
   ]
  },
  {
   "cell_type": "code",
   "execution_count": 51,
   "metadata": {},
   "outputs": [
    {
     "data": {
      "text/plain": [
       "{'message': {'role': 'assistant',\n",
       "  'content': [{'text': \"Great! I've set up a comfortable party mood for you. Here's what I've done:\\n\\n1. Powered on the disco ball: The spinning disco ball will add a fun, party atmosphere to the room.\\n\\n2. Started the music: I've chosen music that is energetic but not too loud, with a moderate tempo of 120 BPM. This should create a lively atmosphere without being overwhelming.\\n\\n3. Dimmed the lights: I've set the brightness to 0.4 (on a scale of 0 to 1), which should provide a cozy, intimate lighting level that's perfect for a comfortable party mood.\\n\\nThese settings should create a welcoming and enjoyable atmosphere for your party. The combination of the spinning disco ball, energetic yet not too loud music, and dimmed lighting should make for a comfortable and fun environment.\\n\\nIs there anything else you'd like me to adjust to perfect the party mood?\"}],\n",
       "  'name': None},\n",
       " 'usage': {'model_name': 'claude-3-5-sonnet-20240620',\n",
       "  'prompt_tokens': 1536,\n",
       "  'completion_tokens': 436},\n",
       " 'prompt': [{'role': 'user',\n",
       "   'content': [{'text': 'Turn this place into a comfortable party mood!',\n",
       "     'type': 'text'}]},\n",
       "  {'role': 'assistant',\n",
       "   'content': [{'text': \"Certainly! I'd be happy to help create a comfortable party mood for you. To achieve this, we'll need to adjust a few things using the available tools. Let's set up the right ambiance with lighting, music, and a disco ball. I'll use the relevant functions to create the perfect party atmosphere.\",\n",
       "     'type': 'text'},\n",
       "    {'id': 'toolu_01VfCSDQLo8wHPT1sr6Dapjq',\n",
       "     'type': 'tool_use',\n",
       "     'input': {'power': True},\n",
       "     'name': 'PowerDiscoBall'},\n",
       "    {'id': 'toolu_01Pji4P3dwi8AAxYwCETfSYB',\n",
       "     'type': 'tool_use',\n",
       "     'input': {'energetic': True, 'loud': False, 'bpm': '120'},\n",
       "     'name': 'StartMusic'},\n",
       "    {'id': 'toolu_01QaAyf7dK1f7qcGHXakvteQ',\n",
       "     'type': 'tool_use',\n",
       "     'input': {'brightness': 0.4},\n",
       "     'name': 'DimLights'}]},\n",
       "  {'role': 'user',\n",
       "   'content': [{'tool_use_id': 'toolu_01VfCSDQLo8wHPT1sr6Dapjq',\n",
       "     'type': 'tool_result',\n",
       "     'content': 'Disco ball is spinning!'},\n",
       "    {'tool_use_id': 'toolu_01Pji4P3dwi8AAxYwCETfSYB',\n",
       "     'type': 'tool_result',\n",
       "     'content': \"Starting music! self.energetic=True self.loud=False, self.bpm=<BPM.MEDIUM: '120'>\"},\n",
       "    {'tool_use_id': 'toolu_01QaAyf7dK1f7qcGHXakvteQ',\n",
       "     'type': 'tool_result',\n",
       "     'content': 'Lights are now set to 0.4'}]}]}"
      ]
     },
     "execution_count": 51,
     "metadata": {},
     "output_type": "execute_result"
    }
   ],
   "source": [
    "response = claude.run(\n",
    "    prompt=prompt,\n",
    "    model_name=\"claude-3-5-sonnet-20240620\",\n",
    "    tools=tools_pydantic,\n",
    "    tool_configs=tool_configs_pydantic,\n",
    ")\n",
    "response.model_dump()"
   ]
  },
  {
   "cell_type": "markdown",
   "metadata": {},
   "source": [
    "### Claude on Amazon Bedrock"
   ]
  },
  {
   "cell_type": "code",
   "execution_count": 52,
   "metadata": {},
   "outputs": [],
   "source": [
    "claude_bedrock = ClaudeFunctionalChat(\n",
    "    api_type=\"bedrock\",\n",
    "    aws_access_key_env_name=\"AWS_ACCESS_KEY\",\n",
    "    aws_secret_key_env_name=\"AWS_SECRET_KEY\",\n",
    "    aws_region_env_name=\"AWS_REGION\",\n",
    ")"
   ]
  },
  {
   "cell_type": "code",
   "execution_count": 53,
   "metadata": {},
   "outputs": [
    {
     "data": {
      "text/plain": [
       "{'message': {'role': 'assistant', 'content': [], 'name': None},\n",
       " 'usage': {'model_name': 'anthropic.claude-3-sonnet-20240229-v1:0',\n",
       "  'prompt_tokens': 989,\n",
       "  'completion_tokens': 159},\n",
       " 'prompt': [{'role': 'user',\n",
       "   'content': [{'text': 'Turn this place into a comfortable party mood!',\n",
       "     'type': 'text'}]},\n",
       "  {'role': 'assistant',\n",
       "   'content': [{'text': \"Okay, let's set the mood for a fun party!\",\n",
       "     'type': 'text'},\n",
       "    {'id': 'toolu_01DrM9NNyvbp3P6veqYaHmde',\n",
       "     'type': 'tool_use',\n",
       "     'input': {'power': True},\n",
       "     'name': 'power_disco_ball'}]},\n",
       "  {'role': 'user',\n",
       "   'content': [{'tool_use_id': 'toolu_01DrM9NNyvbp3P6veqYaHmde',\n",
       "     'type': 'tool_result',\n",
       "     'content': 'Disco ball is spinning!'}]}]}"
      ]
     },
     "execution_count": 53,
     "metadata": {},
     "output_type": "execute_result"
    }
   ],
   "source": [
    "response = claude_bedrock.run(\n",
    "    prompt=prompt,\n",
    "    model_name=\"anthropic.claude-3-sonnet-20240229-v1:0\",\n",
    "    tools=[power_disco_ball, start_music, dim_lights],\n",
    "    tool_configs=tool_configs,\n",
    ")\n",
    "\n",
    "response.model_dump()"
   ]
  },
  {
   "cell_type": "code",
   "execution_count": 54,
   "metadata": {},
   "outputs": [
    {
     "data": {
      "text/plain": [
       "{'message': {'role': 'assistant', 'content': [], 'name': None},\n",
       " 'usage': {'model_name': 'anthropic.claude-3-sonnet-20240229-v1:0',\n",
       "  'prompt_tokens': 989,\n",
       "  'completion_tokens': 159},\n",
       " 'prompt': [{'role': 'user',\n",
       "   'content': [{'text': 'Turn this place into a comfortable party mood!',\n",
       "     'type': 'text'}]},\n",
       "  {'role': 'assistant',\n",
       "   'content': [{'text': \"Okay, let's set the mood for a fun party!\",\n",
       "     'type': 'text'},\n",
       "    {'id': 'toolu_01DrM9NNyvbp3P6veqYaHmde',\n",
       "     'type': 'tool_use',\n",
       "     'input': {'power': True},\n",
       "     'name': 'power_disco_ball'}]},\n",
       "  {'role': 'user',\n",
       "   'content': [{'tool_use_id': 'toolu_01DrM9NNyvbp3P6veqYaHmde',\n",
       "     'type': 'tool_result',\n",
       "     'content': 'Disco ball is spinning!'}]}]}"
      ]
     },
     "execution_count": 54,
     "metadata": {},
     "output_type": "execute_result"
    }
   ],
   "source": [
    "repsonse = await claude_bedrock.arun(\n",
    "    prompt=prompt,\n",
    "    model_name=\"anthropic.claude-3-sonnet-20240229-v1:0\",\n",
    "    tools=[power_disco_ball, start_music, dim_lights],\n",
    "    tool_configs=tool_configs,\n",
    ")\n",
    "response.model_dump()"
   ]
  },
  {
   "cell_type": "markdown",
   "metadata": {},
   "source": [
    "Pydantic tool use"
   ]
  },
  {
   "cell_type": "code",
   "execution_count": 55,
   "metadata": {},
   "outputs": [],
   "source": [
    "claude_bedrock = ClaudeFunctionalChat(\n",
    "    api_type=\"bedrock\",\n",
    "    aws_access_key_env_name=\"AWS_ACCESS_KEY\",\n",
    "    aws_secret_key_env_name=\"AWS_SECRET_KEY\",\n",
    "    aws_region_env_name=\"AWS_REGION\",\n",
    ")"
   ]
  },
  {
   "cell_type": "code",
   "execution_count": 56,
   "metadata": {},
   "outputs": [
    {
     "data": {
      "text/plain": [
       "{'message': {'role': 'assistant', 'content': [], 'name': None},\n",
       " 'usage': {'model_name': 'anthropic.claude-3-sonnet-20240229-v1:0',\n",
       "  'prompt_tokens': 986,\n",
       "  'completion_tokens': 157},\n",
       " 'prompt': [{'role': 'user',\n",
       "   'content': [{'text': 'Turn this place into a comfortable party mood!',\n",
       "     'type': 'text'}]},\n",
       "  {'role': 'assistant',\n",
       "   'content': [{'text': \"Okay, let's set the mood for a fun party!\",\n",
       "     'type': 'text'},\n",
       "    {'id': 'toolu_01EgSqTWWKcQxCTKk9ij2S4f',\n",
       "     'type': 'tool_use',\n",
       "     'input': {'power': True},\n",
       "     'name': 'PowerDiscoBall'}]},\n",
       "  {'role': 'user',\n",
       "   'content': [{'tool_use_id': 'toolu_01EgSqTWWKcQxCTKk9ij2S4f',\n",
       "     'type': 'tool_result',\n",
       "     'content': 'Disco ball is spinning!'}]}]}"
      ]
     },
     "execution_count": 56,
     "metadata": {},
     "output_type": "execute_result"
    }
   ],
   "source": [
    "response = claude_bedrock.run(\n",
    "    prompt=prompt,\n",
    "    model_name=\"anthropic.claude-3-sonnet-20240229-v1:0\",\n",
    "    tools=tools_pydantic,\n",
    "    tool_configs=tool_configs_pydantic,\n",
    ")\n",
    "response.model_dump()"
   ]
  },
  {
   "cell_type": "markdown",
   "metadata": {},
   "source": [
    "# Universal tool config system"
   ]
  },
  {
   "cell_type": "markdown",
   "metadata": {},
   "source": [
    "Tool config the user defines is common for various llm. It is converted to client tools in clinet's FunctionCallingModule before API call. Let me show you the process of conversion."
   ]
  },
  {
   "cell_type": "code",
   "execution_count": 57,
   "metadata": {},
   "outputs": [
    {
     "data": {
      "text/plain": [
       "[OpenAIToolConfig(name='power_disco_ball', description='Powers the spinning disco ball.', parameters=OpenAIToolParameter(type='object', properties=[OpenAIToolProperty(name='power', type='boolean', description='Boolean to spin disco ball.', enum=None, items=None)], required=['power']), strict=None, type='function'),\n",
       " OpenAIToolConfig(name='start_music', description='Play some music matching the specified parameters.', parameters=OpenAIToolParameter(type='object', properties=[OpenAIToolProperty(name='energetic', type='boolean', description='Whether the music is energetic or not.', enum=None, items=None), OpenAIToolProperty(name='loud', type='boolean', description='Whether the music is loud or not.', enum=None, items=None), OpenAIToolProperty(name='bpm', type='string', description='The beats per minute of the music.', enum=['60', '120', '180'], items=None)], required=['energetic', 'loud', 'bpm']), strict=None, type='function'),\n",
       " OpenAIToolConfig(name='dim_lights', description='Dim the lights.', parameters=OpenAIToolParameter(type='object', properties=[OpenAIToolProperty(name='brightness', type='number', description='The brightness of the lights, 0.0 is off, 1.0 is full.', enum=None, items=None)], required=['brightness']), strict=None, type='function')]"
      ]
     },
     "execution_count": 57,
     "metadata": {},
     "output_type": "execute_result"
    }
   ],
   "source": [
    "from langrila.openai import OpenAIToolConfig\n",
    "\n",
    "converted_configs = OpenAIToolConfig.from_universal_configs(tool_configs)\n",
    "converted_configs"
   ]
  },
  {
   "cell_type": "markdown",
   "metadata": {},
   "source": [
    "Then these client tool config objects is transformed to client tools by format() method."
   ]
  },
  {
   "cell_type": "code",
   "execution_count": 58,
   "metadata": {},
   "outputs": [
    {
     "data": {
      "text/plain": [
       "{'type': 'function',\n",
       " 'function': {'name': 'power_disco_ball',\n",
       "  'description': 'Powers the spinning disco ball.',\n",
       "  'parameters': {'type': 'object',\n",
       "   'required': ['power'],\n",
       "   'properties': {'power': {'type': 'boolean',\n",
       "     'description': 'Boolean to spin disco ball.'}}}}}"
      ]
     },
     "execution_count": 58,
     "metadata": {},
     "output_type": "execute_result"
    }
   ],
   "source": [
    "converted_configs[0].format()"
   ]
  },
  {
   "cell_type": "markdown",
   "metadata": {},
   "source": [
    "Other client like Gemini and Claude is the same interface, so you could reuse tool_configs you initially defines."
   ]
  },
  {
   "cell_type": "code",
   "execution_count": 59,
   "metadata": {},
   "outputs": [],
   "source": [
    "from langrila.gemini.genai import GeminiToolConfig"
   ]
  },
  {
   "cell_type": "code",
   "execution_count": 60,
   "metadata": {},
   "outputs": [
    {
     "data": {
      "text/plain": [
       "[GeminiToolConfig(name='power_disco_ball', description='Powers the spinning disco ball.', parameters=GeminiToolParameter(type='object', properties=[GeminiToolProperty(name='power', type='boolean', description='Boolean to spin disco ball.', enum=None, items=None)], required=['power']), strict=None),\n",
       " GeminiToolConfig(name='start_music', description='Play some music matching the specified parameters.', parameters=GeminiToolParameter(type='object', properties=[GeminiToolProperty(name='energetic', type='boolean', description='Whether the music is energetic or not.', enum=None, items=None), GeminiToolProperty(name='loud', type='boolean', description='Whether the music is loud or not.', enum=None, items=None), GeminiToolProperty(name='bpm', type='string', description='The beats per minute of the music.', enum=['60', '120', '180'], items=None)], required=['energetic', 'loud', 'bpm']), strict=None),\n",
       " GeminiToolConfig(name='dim_lights', description='Dim the lights.', parameters=GeminiToolParameter(type='object', properties=[GeminiToolProperty(name='brightness', type='number', description='The brightness of the lights, 0.0 is off, 1.0 is full.', enum=None, items=None)], required=['brightness']), strict=None)]"
      ]
     },
     "execution_count": 60,
     "metadata": {},
     "output_type": "execute_result"
    }
   ],
   "source": [
    "converted_configs = GeminiToolConfig.from_universal_configs(tool_configs)\n",
    "converted_configs"
   ]
  },
  {
   "cell_type": "code",
   "execution_count": 61,
   "metadata": {},
   "outputs": [
    {
     "data": {
      "text/plain": [
       "name: \"power_disco_ball\"\n",
       "description: \"Powers the spinning disco ball.\"\n",
       "parameters {\n",
       "  type_: OBJECT\n",
       "  properties {\n",
       "    key: \"power\"\n",
       "    value {\n",
       "      type_: BOOLEAN\n",
       "      description: \"Boolean to spin disco ball.\"\n",
       "    }\n",
       "  }\n",
       "  required: \"power\"\n",
       "}"
      ]
     },
     "execution_count": 61,
     "metadata": {},
     "output_type": "execute_result"
    }
   ],
   "source": [
    "converted_configs[0].format()"
   ]
  },
  {
   "cell_type": "markdown",
   "metadata": {},
   "source": [
    "# Limitation for the function calling"
   ]
  },
  {
   "cell_type": "markdown",
   "metadata": {},
   "source": [
    "The output of the tools is required to be serializable when `tool_only` option is False as conversation memory is used for bridging function calling module and chat module internally even if you don't specify conversation memory. So please implement tools to return serializable object if you use tools with no `tool_only` option. If you want to get non-serializable object with tool calling, please specify `tool_only` option. Another way is to use `{Client}FunctionCallingModule`. Here is an example for OpenAI API."
   ]
  },
  {
   "cell_type": "code",
   "execution_count": 62,
   "metadata": {},
   "outputs": [],
   "source": [
    "from langrila.openai import OpenAIFunctionCallingModule\n",
    "\n",
    "openai_function = OpenAIFunctionCallingModule(api_key_env_name=\"API_KEY\")\n",
    "\n",
    "prompt = \"Turn this place into a comfortable party mood!\"\n",
    "response = openai_function.run(\n",
    "    prompt,\n",
    "    model_name=\"gpt-4o-2024-08-06\",\n",
    "    tools=[power_disco_ball, start_music, dim_lights],\n",
    "    tool_configs=tool_configs,\n",
    ")"
   ]
  },
  {
   "cell_type": "code",
   "execution_count": 63,
   "metadata": {},
   "outputs": [
    {
     "data": {
      "text/plain": [
       "FunctionCallingResults(usage=Usage(prompt_tokens=171, completion_tokens=75, total_tokens=246), results=[Message(role='function', content=[ToolContent(output='Disco ball is spinning!', call_id='call_B0J2WNkWPngP3cWBT6nBXS2w', args='{\"power\": true}', funcname='power_disco_ball')], name='power_disco_ball'), Message(role='function', content=[ToolContent(output=\"Starting music! energetic=True loud=True, bpm='120'\", call_id='call_ZdTLOMdb7RqkAdMn2IjLHtXC', args='{\"energetic\": true, \"loud\": true, \"bpm\": \"120\"}', funcname='start_music')], name='start_music'), Message(role='function', content=[ToolContent(output='Lights are now set to 0.5', call_id='call_59KQxxVzRO7DhqnRiSbWGOml', args='{\"brightness\": 0.5}', funcname='dim_lights')], name='dim_lights')], calls=Message(role='function_call', content=[ToolCall(name='power_disco_ball', args='{\"power\": true}', call_id='call_B0J2WNkWPngP3cWBT6nBXS2w'), ToolCall(name='start_music', args='{\"energetic\": true, \"loud\": true, \"bpm\": \"120\"}', call_id='call_ZdTLOMdb7RqkAdMn2IjLHtXC'), ToolCall(name='dim_lights', args='{\"brightness\": 0.5}', call_id='call_59KQxxVzRO7DhqnRiSbWGOml')], name=None), prompt=[{'role': 'user', 'content': [{'type': 'text', 'text': 'Turn this place into a comfortable party mood!'}], 'name': 'User'}], raw=ChatCompletion(id='chatcmpl-AKaU3NpKy1HyZkHVr9ftCLZjebZdh', choices=[Choice(finish_reason='tool_calls', index=0, logprobs=None, message=ChatCompletionMessage(content=None, refusal=None, role='assistant', audio=None, function_call=None, tool_calls=[ChatCompletionMessageToolCall(id='call_B0J2WNkWPngP3cWBT6nBXS2w', function=Function(arguments='{\"power\": true}', name='power_disco_ball'), type='function'), ChatCompletionMessageToolCall(id='call_ZdTLOMdb7RqkAdMn2IjLHtXC', function=Function(arguments='{\"energetic\": true, \"loud\": true, \"bpm\": \"120\"}', name='start_music'), type='function'), ChatCompletionMessageToolCall(id='call_59KQxxVzRO7DhqnRiSbWGOml', function=Function(arguments='{\"brightness\": 0.5}', name='dim_lights'), type='function')]))], created=1729470167, model='gpt-4o-2024-08-06', object='chat.completion', service_tier=None, system_fingerprint='fp_a7d06e42a7', usage=CompletionUsage(completion_tokens=75, prompt_tokens=171, total_tokens=246, completion_tokens_details=CompletionTokensDetails(audio_tokens=None, reasoning_tokens=0), prompt_tokens_details=PromptTokensDetails(audio_tokens=None, cached_tokens=0))))"
      ]
     },
     "execution_count": 63,
     "metadata": {},
     "output_type": "execute_result"
    }
   ],
   "source": [
    "# {Client}FunctionCallingModule returns FunctionCallingRestuls instance\n",
    "response"
   ]
  }
 ],
 "metadata": {
  "kernelspec": {
   "display_name": ".venv",
   "language": "python",
   "name": "python3"
  },
  "language_info": {
   "codemirror_mode": {
    "name": "ipython",
    "version": 3
   },
   "file_extension": ".py",
   "mimetype": "text/x-python",
   "name": "python",
   "nbconvert_exporter": "python",
   "pygments_lexer": "ipython3",
   "version": "3.10.12"
  }
 },
 "nbformat": 4,
 "nbformat_minor": 4
}
