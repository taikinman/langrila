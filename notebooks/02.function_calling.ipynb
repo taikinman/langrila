{
 "cells": [
  {
   "cell_type": "code",
   "execution_count": 1,
   "metadata": {},
   "outputs": [],
   "source": [
    "import os\n",
    "import warnings\n",
    "\n",
    "warnings.simplefilter(action=\"ignore\")\n",
    "os.environ[\"GRPC_VERBOSITY\"] = \"NONE\""
   ]
  },
  {
   "cell_type": "markdown",
   "metadata": {},
   "source": [
    "# Prerequisites"
   ]
  },
  {
   "cell_type": "markdown",
   "metadata": {},
   "source": [
    "Please make sure your environmental variables and dependencies are ready to use LLM services. In this notebook, we use ChatGPT, Gemini on GenerativeAI and Anthropic Claude."
   ]
  },
  {
   "cell_type": "code",
   "execution_count": 2,
   "metadata": {},
   "outputs": [
    {
     "data": {
      "text/plain": [
       "True"
      ]
     },
     "execution_count": 2,
     "metadata": {},
     "output_type": "execute_result"
    }
   ],
   "source": [
    "from dotenv import load_dotenv\n",
    "\n",
    "load_dotenv(\"../../.env_api\")"
   ]
  },
  {
   "cell_type": "markdown",
   "metadata": {},
   "source": [
    "# How to input langrila's modules"
   ]
  },
  {
   "cell_type": "markdown",
   "metadata": {},
   "source": [
    "In langrila, universal message class allows you to handle each client message in a same way."
   ]
  },
  {
   "cell_type": "markdown",
   "metadata": {},
   "source": [
    "# Import modules"
   ]
  },
  {
   "cell_type": "code",
   "execution_count": 3,
   "metadata": {},
   "outputs": [],
   "source": [
    "from langrila import InMemoryConversationMemory, JSONConversationMemory\n",
    "from langrila.claude import ClaudeFunctionalChat\n",
    "from langrila.gemini import GeminiFunctionalChat\n",
    "from langrila.openai import OpenAIFunctionalChat"
   ]
  },
  {
   "cell_type": "markdown",
   "metadata": {},
   "source": [
    "# Define tools"
   ]
  },
  {
   "cell_type": "markdown",
   "metadata": {},
   "source": [
    "In this example, we can use these tools."
   ]
  },
  {
   "cell_type": "code",
   "execution_count": 4,
   "metadata": {},
   "outputs": [],
   "source": [
    "def power_disco_ball(power: bool) -> bool:\n",
    "    \"\"\"Powers the spinning disco ball.\"\"\"\n",
    "    return f\"Disco ball is {'spinning!' if power else 'stopped.'}\"\n",
    "\n",
    "\n",
    "def start_music(energetic: bool, loud: bool, bpm: str) -> str:\n",
    "    \"\"\"Play some music matching the specified parameters.\n",
    "\n",
    "    Args:\n",
    "      energetic: Whether the music is energetic or not.\n",
    "      loud: Whether the music is loud or not.\n",
    "      bpm: The beats per minute of the music.\n",
    "\n",
    "    Returns: The name of the song being played.\n",
    "    \"\"\"\n",
    "    return f\"Starting music! {energetic=} {loud=}, {bpm=}\"\n",
    "\n",
    "\n",
    "def dim_lights(brightness: float) -> bool:\n",
    "    \"\"\"Dim the lights.\n",
    "\n",
    "    Args:\n",
    "      brightness: The brightness of the lights, 0.0 is off, 1.0 is full.\n",
    "    \"\"\"\n",
    "    return f\"Lights are now set to {brightness}\""
   ]
  },
  {
   "cell_type": "markdown",
   "metadata": {},
   "source": [
    "# Tool definition"
   ]
  },
  {
   "cell_type": "markdown",
   "metadata": {},
   "source": [
    "In langrila, you can define tool configs via ToolProperty, ToolParameter and ToolConfig object."
   ]
  },
  {
   "cell_type": "code",
   "execution_count": 5,
   "metadata": {},
   "outputs": [],
   "source": [
    "from langrila import ToolConfig, ToolParameter, ToolProperty\n",
    "\n",
    "tool_configs = [\n",
    "    ToolConfig(\n",
    "        name=\"power_disco_ball\",\n",
    "        description=\"Powers the spinning disco ball.\",\n",
    "        parameters=ToolParameter(\n",
    "            properties=[\n",
    "                ToolProperty(\n",
    "                    name=\"power\",\n",
    "                    type=\"boolean\",\n",
    "                    description=\"Boolean to spin disco ball.\",\n",
    "                ),\n",
    "            ],\n",
    "            required=[\"power\"],\n",
    "        ),\n",
    "    ),\n",
    "    ToolConfig(\n",
    "        name=\"start_music\",\n",
    "        description=\"Play some music matching the specified parameters.\",\n",
    "        parameters=ToolParameter(\n",
    "            properties=[\n",
    "                ToolProperty(\n",
    "                    name=\"energetic\",\n",
    "                    type=\"boolean\",\n",
    "                    description=\"Whether the music is energetic or not.\",\n",
    "                ),\n",
    "                ToolProperty(\n",
    "                    name=\"loud\", type=\"boolean\", description=\"Whether the music is loud or not.\"\n",
    "                ),\n",
    "                ToolProperty(\n",
    "                    name=\"bpm\",\n",
    "                    type=\"string\",\n",
    "                    description=\"The beats per minute of the music.\",\n",
    "                    enum=[\"60\", \"120\", \"180\"],  # Gemini doesn't support numerical enum\n",
    "                ),\n",
    "            ],\n",
    "            required=[\"energetic\", \"loud\", \"bpm\"],\n",
    "        ),\n",
    "    ),\n",
    "    ToolConfig(\n",
    "        name=\"dim_lights\",\n",
    "        description=\"Dim the lights.\",\n",
    "        parameters=ToolParameter(\n",
    "            properties=[\n",
    "                ToolProperty(\n",
    "                    name=\"brightness\",\n",
    "                    type=\"number\",\n",
    "                    description=\"The brightness of the lights, 0.0 is off, 1.0 is full.\",\n",
    "                ),\n",
    "            ],\n",
    "            required=[\"brightness\"],\n",
    "        ),\n",
    "    ),\n",
    "]"
   ]
  },
  {
   "cell_type": "code",
   "execution_count": 6,
   "metadata": {},
   "outputs": [],
   "source": [
    "prompt = \"Turn this place into a comfortable party mood!\""
   ]
  },
  {
   "cell_type": "markdown",
   "metadata": {},
   "source": [
    "### ChatGPT"
   ]
  },
  {
   "cell_type": "markdown",
   "metadata": {},
   "source": [
    "ToolConfig object is internally converted to client tool configs"
   ]
  },
  {
   "cell_type": "code",
   "execution_count": 7,
   "metadata": {},
   "outputs": [],
   "source": [
    "chatgpt = OpenAIFunctionalChat(\n",
    "    api_key_env_name=\"API_KEY\",\n",
    "    model_name=\"gpt-4o-mini-2024-07-18\",\n",
    "    tools=[power_disco_ball, start_music, dim_lights],\n",
    "    tool_configs=tool_configs,\n",
    ")"
   ]
  },
  {
   "cell_type": "code",
   "execution_count": 8,
   "metadata": {},
   "outputs": [
    {
     "data": {
      "text/plain": [
       "CompletionResults(message=Message(role='assistant', content=[TextContent(text='The party mood is set! The disco ball is spinning, energetic music is playing at a lively 120 BPM, and the lights are dimmed to create the perfect ambiance. Let the fun begin! 🎉🕺💃')], name=None), usage=Usage(prompt_tokens=132, completion_tokens=47, total_tokens=179), prompt=[{'role': 'user', 'content': [{'type': 'text', 'text': 'Turn this place into a comfortable party mood!'}], 'name': None}, {'content': None, 'role': 'assistant', 'function_call': None, 'tool_calls': [{'id': 'call_3LJbJLjLy8XiZ6iKjxpc2m3J', 'function': {'arguments': '{\"power\": true}', 'name': 'power_disco_ball'}, 'type': 'function'}, {'id': 'call_JH35dBqUNcaA5QIH0muf9t6T', 'function': {'arguments': '{\"energetic\": true, \"loud\": true, \"bpm\": \"120\"}', 'name': 'start_music'}, 'type': 'function'}, {'id': 'call_ESZnFoCzYsHRVQwrKdRSXICx', 'function': {'arguments': '{\"brightness\": 0.5}', 'name': 'dim_lights'}, 'type': 'function'}]}, {'role': 'tool', 'tool_call_id': 'call_3LJbJLjLy8XiZ6iKjxpc2m3J', 'name': 'power_disco_ball', 'content': 'Disco ball is spinning!'}, {'role': 'tool', 'tool_call_id': 'call_JH35dBqUNcaA5QIH0muf9t6T', 'name': 'start_music', 'content': \"Starting music! energetic=True loud=True, bpm='120'\"}, {'role': 'tool', 'tool_call_id': 'call_ESZnFoCzYsHRVQwrKdRSXICx', 'name': 'dim_lights', 'content': 'Lights are now set to 0.5'}])"
      ]
     },
     "execution_count": 8,
     "metadata": {},
     "output_type": "execute_result"
    }
   ],
   "source": [
    "response = chatgpt.run(prompt)\n",
    "\n",
    "# Response is CompletionResults object\n",
    "response"
   ]
  },
  {
   "cell_type": "code",
   "execution_count": 9,
   "metadata": {},
   "outputs": [
    {
     "data": {
      "text/plain": [
       "{'message': {'role': 'assistant',\n",
       "  'content': [{'text': 'The party mood is set! The disco ball is spinning, energetic music is playing at a lively 120 BPM, and the lights are dimmed to create the perfect ambiance. Let the fun begin! 🎉🕺💃'}],\n",
       "  'name': None},\n",
       " 'usage': {'model_name': 'gpt-4o-mini-2024-07-18',\n",
       "  'prompt_tokens': 132,\n",
       "  'completion_tokens': 47},\n",
       " 'prompt': [{'role': 'user',\n",
       "   'content': [{'type': 'text',\n",
       "     'text': 'Turn this place into a comfortable party mood!'}],\n",
       "   'name': None},\n",
       "  {'content': None,\n",
       "   'role': 'assistant',\n",
       "   'function_call': None,\n",
       "   'tool_calls': [{'id': 'call_3LJbJLjLy8XiZ6iKjxpc2m3J',\n",
       "     'function': {'arguments': '{\"power\": true}', 'name': 'power_disco_ball'},\n",
       "     'type': 'function'},\n",
       "    {'id': 'call_JH35dBqUNcaA5QIH0muf9t6T',\n",
       "     'function': {'arguments': '{\"energetic\": true, \"loud\": true, \"bpm\": \"120\"}',\n",
       "      'name': 'start_music'},\n",
       "     'type': 'function'},\n",
       "    {'id': 'call_ESZnFoCzYsHRVQwrKdRSXICx',\n",
       "     'function': {'arguments': '{\"brightness\": 0.5}', 'name': 'dim_lights'},\n",
       "     'type': 'function'}]},\n",
       "  {'role': 'tool',\n",
       "   'tool_call_id': 'call_3LJbJLjLy8XiZ6iKjxpc2m3J',\n",
       "   'name': 'power_disco_ball',\n",
       "   'content': 'Disco ball is spinning!'},\n",
       "  {'role': 'tool',\n",
       "   'tool_call_id': 'call_JH35dBqUNcaA5QIH0muf9t6T',\n",
       "   'name': 'start_music',\n",
       "   'content': \"Starting music! energetic=True loud=True, bpm='120'\"},\n",
       "  {'role': 'tool',\n",
       "   'tool_call_id': 'call_ESZnFoCzYsHRVQwrKdRSXICx',\n",
       "   'name': 'dim_lights',\n",
       "   'content': 'Lights are now set to 0.5'}]}"
      ]
     },
     "execution_count": 9,
     "metadata": {},
     "output_type": "execute_result"
    }
   ],
   "source": [
    "response.model_dump()"
   ]
  },
  {
   "cell_type": "markdown",
   "metadata": {},
   "source": [
    "Asynchronous generation"
   ]
  },
  {
   "cell_type": "code",
   "execution_count": 10,
   "metadata": {},
   "outputs": [
    {
     "data": {
      "text/plain": [
       "CompletionResults(message=Message(role='assistant', content=[TextContent(text='The party mood is set! 🎉\\n\\n- The energetic music is playing at a lively 120 BPM.\\n- The lights have been dimmed for a cozy atmosphere.\\n- The disco ball is spinning, adding that perfect touch of fun.\\n\\nGet ready to dance and enjoy the night! 🕺💃')], name=None), usage=Usage(prompt_tokens=133, completion_tokens=62, total_tokens=195), prompt=[{'role': 'user', 'content': [{'type': 'text', 'text': 'Turn this place into a comfortable party mood!'}], 'name': None}, {'content': None, 'role': 'assistant', 'function_call': None, 'tool_calls': [{'id': 'call_GUJvXF3OsJDvd4hG0jO1DyUn', 'function': {'arguments': '{\"energetic\": true, \"loud\": true, \"bpm\": \"120\"}', 'name': 'start_music'}, 'type': 'function'}, {'id': 'call_oe5vo4HhhsjKChKlyKGpYW6j', 'function': {'arguments': '{\"brightness\": 0.5}', 'name': 'dim_lights'}, 'type': 'function'}, {'id': 'call_ZlReX5mdEYtoIcEFtjz78Jsl', 'function': {'arguments': '{\"power\": true}', 'name': 'power_disco_ball'}, 'type': 'function'}]}, {'role': 'tool', 'tool_call_id': 'call_GUJvXF3OsJDvd4hG0jO1DyUn', 'name': 'start_music', 'content': \"Starting music! energetic=True loud=True, bpm='120'\"}, {'role': 'tool', 'tool_call_id': 'call_oe5vo4HhhsjKChKlyKGpYW6j', 'name': 'dim_lights', 'content': 'Lights are now set to 0.5'}, {'role': 'tool', 'tool_call_id': 'call_ZlReX5mdEYtoIcEFtjz78Jsl', 'name': 'power_disco_ball', 'content': 'Disco ball is spinning!'}])"
      ]
     },
     "execution_count": 10,
     "metadata": {},
     "output_type": "execute_result"
    }
   ],
   "source": [
    "response = await chatgpt.arun(prompt)\n",
    "response"
   ]
  },
  {
   "cell_type": "markdown",
   "metadata": {},
   "source": [
    "multiple generation"
   ]
  },
  {
   "cell_type": "code",
   "execution_count": 11,
   "metadata": {},
   "outputs": [
    {
     "data": {
      "text/plain": [
       "{'role': 'assistant',\n",
       " 'content': [{'text': 'The party mood is set! The disco ball is spinning, energetic music is pumping at 120 BPM, and the lights are dimmed to create a cozy atmosphere. Let the festivities begin! 🎉💃🕺'},\n",
       "  {'text': 'The party mood is set! The disco ball is spinning, energetic music is playing at a lively 120 BPM, and the lights are dimmed to create the perfect atmosphere. Let the fun begin! 🎉💃🕺'}],\n",
       " 'name': None}"
      ]
     },
     "execution_count": 11,
     "metadata": {},
     "output_type": "execute_result"
    }
   ],
   "source": [
    "response = chatgpt.run(prompt, n_results=2)\n",
    "response.message.model_dump()"
   ]
  },
  {
   "cell_type": "markdown",
   "metadata": {},
   "source": [
    "You can get the results from specific tool."
   ]
  },
  {
   "cell_type": "code",
   "execution_count": 12,
   "metadata": {},
   "outputs": [
    {
     "data": {
      "text/plain": [
       "{'message': {'role': 'assistant',\n",
       "  'content': [{'text': 'The music is live! Now, let’s set the atmosphere:\\n\\n1. **Lighting:** Dim the lights and add some colorful LED lights or fairy lights to create a cozy vibe.\\n  \\n2. **Decorations:** Use balloons, streamers, or themed decorations to liven up the space.\\n\\n3. **Seating Area:** Arrange comfortable seating with cushions and blankets where guests can lounge and chat.\\n\\n4. **Food & Drinks:** Set up a snack and drink station with appetizers, finger foods, and a signature cocktail or mocktail for everyone to enjoy.\\n\\n5. **Games & Activities:** Prepare some fun party games or activities to keep the energy high and guests engaged.\\n\\n6. **Chill Zone:** Create a quieter area with softer music for guests who want to take a break from the dance floor.\\n\\nWith the energetic music pumping, everyone will be in the party mood in no time! Enjoy! 🎉'}],\n",
       "  'name': None},\n",
       " 'usage': {'model_name': 'gpt-4o-mini-2024-07-18',\n",
       "  'prompt_tokens': 62,\n",
       "  'completion_tokens': 183},\n",
       " 'prompt': [{'role': 'user',\n",
       "   'content': [{'type': 'text',\n",
       "     'text': 'Turn this place into a comfortable party mood!'}],\n",
       "   'name': None},\n",
       "  {'content': None,\n",
       "   'role': 'assistant',\n",
       "   'function_call': None,\n",
       "   'tool_calls': [{'id': 'call_rCXpAbFHygazhd3tVEkWSCGu',\n",
       "     'function': {'arguments': '{\"energetic\":true,\"loud\":true,\"bpm\":\"120\"}',\n",
       "      'name': 'start_music'},\n",
       "     'type': 'function'}]},\n",
       "  {'role': 'tool',\n",
       "   'tool_call_id': 'call_rCXpAbFHygazhd3tVEkWSCGu',\n",
       "   'name': 'start_music',\n",
       "   'content': \"Starting music! energetic=True loud=True, bpm='120'\"}]}"
      ]
     },
     "execution_count": 12,
     "metadata": {},
     "output_type": "execute_result"
    }
   ],
   "source": [
    "response = chatgpt.run(prompt, tool_choice=\"start_music\")\n",
    "\n",
    "# Show result\n",
    "response.model_dump()"
   ]
  },
  {
   "cell_type": "markdown",
   "metadata": {},
   "source": [
    "If you specify tool_only option as True, you get the FunctionCallingResults object instead of CompletionResults object."
   ]
  },
  {
   "cell_type": "code",
   "execution_count": 13,
   "metadata": {},
   "outputs": [
    {
     "data": {
      "text/plain": [
       "FunctionCallingResults(usage=Usage(prompt_tokens=169, completion_tokens=75, total_tokens=244), results=[Message(role='function', content=[ToolContent(output='Disco ball is spinning!', call_id='call_UxiyKuqXUw6QLwtesPh5XgHB', args='{\"power\": true}', funcname='power_disco_ball')], name='power_disco_ball'), Message(role='function', content=[ToolContent(output=\"Starting music! energetic=True loud=True, bpm='120'\", call_id='call_7I2NhUPHCsxtg2Dw4pbildoI', args='{\"energetic\": true, \"loud\": true, \"bpm\": \"120\"}', funcname='start_music')], name='start_music'), Message(role='function', content=[ToolContent(output='Lights are now set to 0.5', call_id='call_9ShtcWt0BqnimqVX8S0IKK2N', args='{\"brightness\": 0.5}', funcname='dim_lights')], name='dim_lights')], calls=Message(role='function_call', content=[ToolCall(name='power_disco_ball', args='{\"power\": true}', call_id='call_UxiyKuqXUw6QLwtesPh5XgHB'), ToolCall(name='start_music', args='{\"energetic\": true, \"loud\": true, \"bpm\": \"120\"}', call_id='call_7I2NhUPHCsxtg2Dw4pbildoI'), ToolCall(name='dim_lights', args='{\"brightness\": 0.5}', call_id='call_9ShtcWt0BqnimqVX8S0IKK2N')], name=None), prompt=[{'role': 'user', 'content': [{'type': 'text', 'text': 'Turn this place into a comfortable party mood!'}], 'name': None}])"
      ]
     },
     "execution_count": 13,
     "metadata": {},
     "output_type": "execute_result"
    }
   ],
   "source": [
    "response = chatgpt.run(prompt, tool_only=True)\n",
    "response"
   ]
  },
  {
   "cell_type": "code",
   "execution_count": 14,
   "metadata": {},
   "outputs": [
    {
     "data": {
      "text/plain": [
       "{'usage': {'model_name': 'gpt-4o-mini-2024-07-18',\n",
       "  'prompt_tokens': 169,\n",
       "  'completion_tokens': 75},\n",
       " 'results': [{'role': 'function',\n",
       "   'content': [{'output': 'Disco ball is spinning!',\n",
       "     'call_id': 'call_UxiyKuqXUw6QLwtesPh5XgHB',\n",
       "     'args': '{\"power\": true}',\n",
       "     'funcname': 'power_disco_ball'}],\n",
       "   'name': 'power_disco_ball'},\n",
       "  {'role': 'function',\n",
       "   'content': [{'output': \"Starting music! energetic=True loud=True, bpm='120'\",\n",
       "     'call_id': 'call_7I2NhUPHCsxtg2Dw4pbildoI',\n",
       "     'args': '{\"energetic\": true, \"loud\": true, \"bpm\": \"120\"}',\n",
       "     'funcname': 'start_music'}],\n",
       "   'name': 'start_music'},\n",
       "  {'role': 'function',\n",
       "   'content': [{'output': 'Lights are now set to 0.5',\n",
       "     'call_id': 'call_9ShtcWt0BqnimqVX8S0IKK2N',\n",
       "     'args': '{\"brightness\": 0.5}',\n",
       "     'funcname': 'dim_lights'}],\n",
       "   'name': 'dim_lights'}],\n",
       " 'calls': {'role': 'function_call',\n",
       "  'content': [{'name': 'power_disco_ball',\n",
       "    'args': '{\"power\": true}',\n",
       "    'call_id': 'call_UxiyKuqXUw6QLwtesPh5XgHB'},\n",
       "   {'name': 'start_music',\n",
       "    'args': '{\"energetic\": true, \"loud\": true, \"bpm\": \"120\"}',\n",
       "    'call_id': 'call_7I2NhUPHCsxtg2Dw4pbildoI'},\n",
       "   {'name': 'dim_lights',\n",
       "    'args': '{\"brightness\": 0.5}',\n",
       "    'call_id': 'call_9ShtcWt0BqnimqVX8S0IKK2N'}],\n",
       "  'name': None},\n",
       " 'prompt': [{'role': 'user',\n",
       "   'content': [{'type': 'text',\n",
       "     'text': 'Turn this place into a comfortable party mood!'}],\n",
       "   'name': None}]}"
      ]
     },
     "execution_count": 14,
     "metadata": {},
     "output_type": "execute_result"
    }
   ],
   "source": [
    "response.model_dump()"
   ]
  },
  {
   "cell_type": "code",
   "execution_count": 15,
   "metadata": {},
   "outputs": [
    {
     "data": {
      "text/plain": [
       "[Message(role='function', content=[ToolContent(output='Disco ball is spinning!', call_id='call_UxiyKuqXUw6QLwtesPh5XgHB', args='{\"power\": true}', funcname='power_disco_ball')], name='power_disco_ball'),\n",
       " Message(role='function', content=[ToolContent(output=\"Starting music! energetic=True loud=True, bpm='120'\", call_id='call_7I2NhUPHCsxtg2Dw4pbildoI', args='{\"energetic\": true, \"loud\": true, \"bpm\": \"120\"}', funcname='start_music')], name='start_music'),\n",
       " Message(role='function', content=[ToolContent(output='Lights are now set to 0.5', call_id='call_9ShtcWt0BqnimqVX8S0IKK2N', args='{\"brightness\": 0.5}', funcname='dim_lights')], name='dim_lights')]"
      ]
     },
     "execution_count": 15,
     "metadata": {},
     "output_type": "execute_result"
    }
   ],
   "source": [
    "# Tool result messages\n",
    "\n",
    "response.results"
   ]
  },
  {
   "cell_type": "code",
   "execution_count": 16,
   "metadata": {},
   "outputs": [
    {
     "data": {
      "text/plain": [
       "Message(role='function_call', content=[ToolCall(name='power_disco_ball', args='{\"power\": true}', call_id='call_UxiyKuqXUw6QLwtesPh5XgHB'), ToolCall(name='start_music', args='{\"energetic\": true, \"loud\": true, \"bpm\": \"120\"}', call_id='call_7I2NhUPHCsxtg2Dw4pbildoI'), ToolCall(name='dim_lights', args='{\"brightness\": 0.5}', call_id='call_9ShtcWt0BqnimqVX8S0IKK2N')], name=None)"
      ]
     },
     "execution_count": 16,
     "metadata": {},
     "output_type": "execute_result"
    }
   ],
   "source": [
    "# Tool call messages\n",
    "\n",
    "response.calls"
   ]
  },
  {
   "cell_type": "markdown",
   "metadata": {},
   "source": [
    "### Gemini on Google Generative AI"
   ]
  },
  {
   "cell_type": "markdown",
   "metadata": {},
   "source": [
    "You can use tools for Gemini as well which defined for ChatGPT."
   ]
  },
  {
   "cell_type": "code",
   "execution_count": 17,
   "metadata": {},
   "outputs": [],
   "source": [
    "gemini = GeminiFunctionalChat(\n",
    "    api_key_env_name=\"GEMINI_API_KEY\",\n",
    "    model_name=\"gemini-1.5-pro\",\n",
    "    tools=[power_disco_ball, start_music, dim_lights],\n",
    "    tool_configs=tool_configs,\n",
    ")"
   ]
  },
  {
   "cell_type": "code",
   "execution_count": 18,
   "metadata": {},
   "outputs": [
    {
     "data": {
      "text/plain": [
       "{'message': {'role': 'assistant',\n",
       "  'content': [{'text': \"Alright, I've got the disco ball spinning, some energetic music playing, and I've dimmed the lights.  Anything else I can do to set the mood? Snacks? Drinks? Games? 😉 🎉 \\n\"}],\n",
       "  'name': None},\n",
       " 'usage': {'model_name': 'gemini-1.5-pro',\n",
       "  'prompt_tokens': 145,\n",
       "  'completion_tokens': 43},\n",
       " 'prompt': [parts {\n",
       "    text: \"Turn this place into a comfortable party mood!\"\n",
       "  }\n",
       "  role: \"user\",\n",
       "  parts {\n",
       "    function_call {\n",
       "      name: \"power_disco_ball\"\n",
       "      args {\n",
       "        fields {\n",
       "          key: \"power\"\n",
       "          value {\n",
       "            bool_value: true\n",
       "          }\n",
       "        }\n",
       "      }\n",
       "    }\n",
       "  }\n",
       "  parts {\n",
       "    function_call {\n",
       "      name: \"start_music\"\n",
       "      args {\n",
       "        fields {\n",
       "          key: \"loud\"\n",
       "          value {\n",
       "            bool_value: true\n",
       "          }\n",
       "        }\n",
       "        fields {\n",
       "          key: \"energetic\"\n",
       "          value {\n",
       "            bool_value: true\n",
       "          }\n",
       "        }\n",
       "        fields {\n",
       "          key: \"bpm\"\n",
       "          value {\n",
       "            string_value: \"120\"\n",
       "          }\n",
       "        }\n",
       "      }\n",
       "    }\n",
       "  }\n",
       "  parts {\n",
       "    function_call {\n",
       "      name: \"dim_lights\"\n",
       "      args {\n",
       "        fields {\n",
       "          key: \"brightness\"\n",
       "          value {\n",
       "            number_value: 0.5\n",
       "          }\n",
       "        }\n",
       "      }\n",
       "    }\n",
       "  }\n",
       "  role: \"model\",\n",
       "  parts {\n",
       "    function_response {\n",
       "      name: \"power_disco_ball\"\n",
       "      response {\n",
       "        fields {\n",
       "          key: \"content\"\n",
       "          value {\n",
       "            string_value: \"Disco ball is spinning!\"\n",
       "          }\n",
       "        }\n",
       "      }\n",
       "    }\n",
       "  }\n",
       "  parts {\n",
       "    function_response {\n",
       "      name: \"start_music\"\n",
       "      response {\n",
       "        fields {\n",
       "          key: \"content\"\n",
       "          value {\n",
       "            string_value: \"Starting music! energetic=True loud=True, bpm=\\'120\\'\"\n",
       "          }\n",
       "        }\n",
       "      }\n",
       "    }\n",
       "  }\n",
       "  parts {\n",
       "    function_response {\n",
       "      name: \"dim_lights\"\n",
       "      response {\n",
       "        fields {\n",
       "          key: \"content\"\n",
       "          value {\n",
       "            string_value: \"Lights are now set to 0.5\"\n",
       "          }\n",
       "        }\n",
       "      }\n",
       "    }\n",
       "  }\n",
       "  role: \"user\"]}"
      ]
     },
     "execution_count": 18,
     "metadata": {},
     "output_type": "execute_result"
    }
   ],
   "source": [
    "response = gemini.run(prompt)\n",
    "\n",
    "# show result\n",
    "response.model_dump()"
   ]
  },
  {
   "cell_type": "markdown",
   "metadata": {},
   "source": [
    "Asynchronous generation"
   ]
  },
  {
   "cell_type": "code",
   "execution_count": 19,
   "metadata": {},
   "outputs": [
    {
     "data": {
      "text/plain": [
       "{'message': {'role': 'assistant',\n",
       "  'content': [{'text': \"Alright, I've got the disco ball spinning, the music pumping, and the lights dimmed! Let's get this party started! 🎉 \\n\"}],\n",
       "  'name': None},\n",
       " 'usage': {'model_name': 'gemini-1.5-pro',\n",
       "  'prompt_tokens': 145,\n",
       "  'completion_tokens': 29},\n",
       " 'prompt': [parts {\n",
       "    text: \"Turn this place into a comfortable party mood!\"\n",
       "  }\n",
       "  role: \"user\",\n",
       "  parts {\n",
       "    function_call {\n",
       "      name: \"power_disco_ball\"\n",
       "      args {\n",
       "        fields {\n",
       "          key: \"power\"\n",
       "          value {\n",
       "            bool_value: true\n",
       "          }\n",
       "        }\n",
       "      }\n",
       "    }\n",
       "  }\n",
       "  parts {\n",
       "    function_call {\n",
       "      name: \"start_music\"\n",
       "      args {\n",
       "        fields {\n",
       "          key: \"loud\"\n",
       "          value {\n",
       "            bool_value: true\n",
       "          }\n",
       "        }\n",
       "        fields {\n",
       "          key: \"energetic\"\n",
       "          value {\n",
       "            bool_value: true\n",
       "          }\n",
       "        }\n",
       "        fields {\n",
       "          key: \"bpm\"\n",
       "          value {\n",
       "            string_value: \"120\"\n",
       "          }\n",
       "        }\n",
       "      }\n",
       "    }\n",
       "  }\n",
       "  parts {\n",
       "    function_call {\n",
       "      name: \"dim_lights\"\n",
       "      args {\n",
       "        fields {\n",
       "          key: \"brightness\"\n",
       "          value {\n",
       "            number_value: 0.5\n",
       "          }\n",
       "        }\n",
       "      }\n",
       "    }\n",
       "  }\n",
       "  role: \"model\",\n",
       "  parts {\n",
       "    function_response {\n",
       "      name: \"power_disco_ball\"\n",
       "      response {\n",
       "        fields {\n",
       "          key: \"content\"\n",
       "          value {\n",
       "            string_value: \"Disco ball is spinning!\"\n",
       "          }\n",
       "        }\n",
       "      }\n",
       "    }\n",
       "  }\n",
       "  parts {\n",
       "    function_response {\n",
       "      name: \"start_music\"\n",
       "      response {\n",
       "        fields {\n",
       "          key: \"content\"\n",
       "          value {\n",
       "            string_value: \"Starting music! energetic=True loud=True, bpm=\\'120\\'\"\n",
       "          }\n",
       "        }\n",
       "      }\n",
       "    }\n",
       "  }\n",
       "  parts {\n",
       "    function_response {\n",
       "      name: \"dim_lights\"\n",
       "      response {\n",
       "        fields {\n",
       "          key: \"content\"\n",
       "          value {\n",
       "            string_value: \"Lights are now set to 0.5\"\n",
       "          }\n",
       "        }\n",
       "      }\n",
       "    }\n",
       "  }\n",
       "  role: \"user\"]}"
      ]
     },
     "execution_count": 19,
     "metadata": {},
     "output_type": "execute_result"
    }
   ],
   "source": [
    "response = await gemini.arun(prompt)\n",
    "\n",
    "# show result\n",
    "response.model_dump()"
   ]
  },
  {
   "cell_type": "markdown",
   "metadata": {},
   "source": [
    "Gemini allows you to call specific tool as well as ChatGPT."
   ]
  },
  {
   "cell_type": "code",
   "execution_count": 20,
   "metadata": {},
   "outputs": [
    {
     "data": {
      "text/plain": [
       "{'message': {'role': 'assistant',\n",
       "  'content': [{'text': \"Okay, I'm setting the mood!  🎶 \\n\\nLet's get this party started! 🎉  What else can I do to make it awesome?  Need some lighting suggestions? 😉 \\n\"}],\n",
       "  'name': None},\n",
       " 'usage': {'model_name': 'gemini-1.5-pro',\n",
       "  'prompt_tokens': 68,\n",
       "  'completion_tokens': 40},\n",
       " 'prompt': [parts {\n",
       "    text: \"Turn this place into a comfortable party mood!\"\n",
       "  }\n",
       "  role: \"user\",\n",
       "  parts {\n",
       "    function_call {\n",
       "      name: \"start_music\"\n",
       "      args {\n",
       "        fields {\n",
       "          key: \"loud\"\n",
       "          value {\n",
       "            bool_value: true\n",
       "          }\n",
       "        }\n",
       "        fields {\n",
       "          key: \"energetic\"\n",
       "          value {\n",
       "            bool_value: true\n",
       "          }\n",
       "        }\n",
       "        fields {\n",
       "          key: \"bpm\"\n",
       "          value {\n",
       "            string_value: \"120\"\n",
       "          }\n",
       "        }\n",
       "      }\n",
       "    }\n",
       "  }\n",
       "  role: \"model\",\n",
       "  parts {\n",
       "    function_response {\n",
       "      name: \"start_music\"\n",
       "      response {\n",
       "        fields {\n",
       "          key: \"content\"\n",
       "          value {\n",
       "            string_value: \"Starting music! energetic=True loud=True, bpm=\\'120\\'\"\n",
       "          }\n",
       "        }\n",
       "      }\n",
       "    }\n",
       "  }\n",
       "  role: \"user\"]}"
      ]
     },
     "execution_count": 20,
     "metadata": {},
     "output_type": "execute_result"
    }
   ],
   "source": [
    "response = gemini.run(prompt, tool_choice=\"start_music\")\n",
    "\n",
    "# show result\n",
    "response.model_dump()"
   ]
  },
  {
   "cell_type": "markdown",
   "metadata": {},
   "source": [
    "### Gemini on VertexAI"
   ]
  },
  {
   "cell_type": "code",
   "execution_count": 21,
   "metadata": {},
   "outputs": [],
   "source": [
    "gemini_vertexai = GeminiFunctionalChat(\n",
    "    model_name=\"gemini-1.5-flash\",\n",
    "    api_type=\"vertexai\",\n",
    "    project_id_env_name=\"PROJECT_ID\",\n",
    "    location_env_name=\"LOCATION\",\n",
    "    tools=[power_disco_ball, start_music, dim_lights],\n",
    "    tool_configs=tool_configs,\n",
    ")"
   ]
  },
  {
   "cell_type": "code",
   "execution_count": 22,
   "metadata": {},
   "outputs": [
    {
     "data": {
      "text/plain": [
       "{'message': {'role': 'assistant',\n",
       "  'content': [{'text': \"Okay, I'm getting the party started! \\n\\nI've queued up some upbeat music with a tempo of 120 beats per minute. It's not too loud, just enough to create a fun atmosphere. \\n\\nI've also dimmed the lights to a comfortable level, creating a warm and inviting ambiance.\\n\\nAnd finally, I've turned on the disco ball!  It's spinning and reflecting colorful lights, adding a touch of excitement and fun.\\n\\nLet's get this party started! 🎉 \\n\"}],\n",
       "  'name': None},\n",
       " 'usage': {'model_name': 'gemini-1.5-flash',\n",
       "  'prompt_tokens': 73,\n",
       "  'completion_tokens': 111},\n",
       " 'prompt': [role: \"user\"\n",
       "  parts {\n",
       "    text: \"Turn this place into a comfortable party mood!\"\n",
       "  },\n",
       "  role: \"model\"\n",
       "  parts {\n",
       "    function_call {\n",
       "      name: \"start_music\"\n",
       "      args {\n",
       "        fields {\n",
       "          key: \"loud\"\n",
       "          value {\n",
       "            bool_value: false\n",
       "          }\n",
       "        }\n",
       "        fields {\n",
       "          key: \"energetic\"\n",
       "          value {\n",
       "            bool_value: true\n",
       "          }\n",
       "        }\n",
       "        fields {\n",
       "          key: \"bpm\"\n",
       "          value {\n",
       "            string_value: \"120\"\n",
       "          }\n",
       "        }\n",
       "      }\n",
       "    }\n",
       "  }\n",
       "  parts {\n",
       "    function_call {\n",
       "      name: \"dim_lights\"\n",
       "      args {\n",
       "        fields {\n",
       "          key: \"brightness\"\n",
       "          value {\n",
       "            number_value: 0.5\n",
       "          }\n",
       "        }\n",
       "      }\n",
       "    }\n",
       "  }\n",
       "  parts {\n",
       "    function_call {\n",
       "      name: \"power_disco_ball\"\n",
       "      args {\n",
       "        fields {\n",
       "          key: \"power\"\n",
       "          value {\n",
       "            bool_value: true\n",
       "          }\n",
       "        }\n",
       "      }\n",
       "    }\n",
       "  },\n",
       "  role: \"user\"\n",
       "  parts {\n",
       "    function_response {\n",
       "      name: \"start_music\"\n",
       "      response {\n",
       "        fields {\n",
       "          key: \"content\"\n",
       "          value {\n",
       "            string_value: \"Starting music! energetic=True loud=False, bpm=\\'120\\'\"\n",
       "          }\n",
       "        }\n",
       "      }\n",
       "    }\n",
       "  }\n",
       "  parts {\n",
       "    function_response {\n",
       "      name: \"dim_lights\"\n",
       "      response {\n",
       "        fields {\n",
       "          key: \"content\"\n",
       "          value {\n",
       "            string_value: \"Lights are now set to 0.5\"\n",
       "          }\n",
       "        }\n",
       "      }\n",
       "    }\n",
       "  }\n",
       "  parts {\n",
       "    function_response {\n",
       "      name: \"power_disco_ball\"\n",
       "      response {\n",
       "        fields {\n",
       "          key: \"content\"\n",
       "          value {\n",
       "            string_value: \"Disco ball is spinning!\"\n",
       "          }\n",
       "        }\n",
       "      }\n",
       "    }\n",
       "  }]}"
      ]
     },
     "execution_count": 22,
     "metadata": {},
     "output_type": "execute_result"
    }
   ],
   "source": [
    "response = gemini_vertexai.run(prompt=prompt)\n",
    "\n",
    "# show result\n",
    "response.model_dump()"
   ]
  },
  {
   "cell_type": "markdown",
   "metadata": {},
   "source": [
    "multiple generation"
   ]
  },
  {
   "cell_type": "code",
   "execution_count": 23,
   "metadata": {},
   "outputs": [
    {
     "data": {
      "text/plain": [
       "{'role': 'assistant',\n",
       " 'content': [{'text': \"Alright, party time! 🎶 I've cranked up some upbeat music with a good beat (around 120 BPM), dimmed the lights to a cozy level, and fired up the disco ball!  ✨  \\n\\nLet's get this party started! 🎉 \\n\"},\n",
       "  {'text': \"Alright, party time! 🎶 I've cranked up some upbeat music with a good beat (around 120 BPM), dimmed the lights to a cozy level, and fired up the disco ball!  ✨  \\n\\nLet's get this party started! 🎉 \\n\"}],\n",
       " 'name': None}"
      ]
     },
     "execution_count": 23,
     "metadata": {},
     "output_type": "execute_result"
    }
   ],
   "source": [
    "response = gemini_vertexai.run(prompt=prompt, n_results=2)\n",
    "response.message.model_dump()"
   ]
  },
  {
   "cell_type": "markdown",
   "metadata": {},
   "source": [
    "### Anthropic Claude"
   ]
  },
  {
   "cell_type": "markdown",
   "metadata": {},
   "source": [
    "tool_configs can be shared with Claude."
   ]
  },
  {
   "cell_type": "code",
   "execution_count": 24,
   "metadata": {},
   "outputs": [],
   "source": [
    "claude = ClaudeFunctionalChat(\n",
    "    model_name=\"claude-3-5-sonnet-20240620\",\n",
    "    api_key_env_name=\"ANTHROPIC_API_KEY\",\n",
    "    tools=[power_disco_ball, start_music, dim_lights],\n",
    "    tool_configs=tool_configs,\n",
    ")"
   ]
  },
  {
   "cell_type": "code",
   "execution_count": 25,
   "metadata": {},
   "outputs": [
    {
     "data": {
      "text/plain": [
       "{'message': {'role': 'assistant',\n",
       "  'content': [{'text': \"Great! I've set up a comfortable party mood for you. Here's what I've done:\\n\\n1. Dimmed the lights to 60% brightness (0.6). This creates a cozy atmosphere without making it too dark.\\n2. Started some music that is:\\n   - Energetic (to keep the party vibe)\\n   - Not too loud (for comfort)\\n   - At a moderate tempo of 120 BPM (good for casual dancing and conversation)\\n3. Turned on the disco ball for some fun, dynamic lighting effects.\\n\\nThis setup should create a lively yet comfortable party atmosphere. The dimmed lights and spinning disco ball will create an interesting visual environment, while the energetic but not overly loud music at a moderate tempo should be perfect for both chatting and dancing.\\n\\nIs there anything you'd like to adjust about this setup? For example, if you want the lights brighter or dimmer, the music louder or quieter, or if you'd like to turn off the disco ball, just let me know and I can make those changes for you.\"}],\n",
       "  'name': None},\n",
       " 'usage': {'model_name': 'claude-3-5-sonnet-20240620',\n",
       "  'prompt_tokens': 969,\n",
       "  'completion_tokens': 238},\n",
       " 'prompt': [{'role': 'user',\n",
       "   'content': [{'text': 'Turn this place into a comfortable party mood!',\n",
       "     'type': 'text'}]},\n",
       "  {'role': 'assistant',\n",
       "   'content': [{'text': \"Certainly! I'd be happy to help create a comfortable party mood for you. To achieve this, we'll need to adjust the lighting, start some music, and add a bit of flair with a disco ball. Let's use the available tools to set the mood. I'll make some assumptions about what constitutes a comfortable party mood, but please feel free to adjust any of these if you'd like something different.\\n\\nLet's start by setting up the environment:\",\n",
       "     'type': 'text'},\n",
       "    {'id': 'toolu_01X8dyawJ8rEAGWMsLqGDEqk',\n",
       "     'type': 'tool_use',\n",
       "     'input': {'brightness': 0.6},\n",
       "     'name': 'dim_lights'},\n",
       "    {'id': 'toolu_01DfRjWMEG35N5318MSMMWiq',\n",
       "     'type': 'tool_use',\n",
       "     'input': {'energetic': True, 'loud': False, 'bpm': '120'},\n",
       "     'name': 'start_music'},\n",
       "    {'id': 'toolu_018srf9DgoSCxnvtQ79HfTa1',\n",
       "     'type': 'tool_use',\n",
       "     'input': {'power': True},\n",
       "     'name': 'power_disco_ball'}]},\n",
       "  {'role': 'user',\n",
       "   'content': [{'tool_use_id': 'toolu_01X8dyawJ8rEAGWMsLqGDEqk',\n",
       "     'type': 'tool_result',\n",
       "     'content': 'Lights are now set to 0.6'},\n",
       "    {'tool_use_id': 'toolu_01DfRjWMEG35N5318MSMMWiq',\n",
       "     'type': 'tool_result',\n",
       "     'content': \"Starting music! energetic=True loud=False, bpm='120'\"},\n",
       "    {'tool_use_id': 'toolu_018srf9DgoSCxnvtQ79HfTa1',\n",
       "     'type': 'tool_result',\n",
       "     'content': 'Disco ball is spinning!'}]}]}"
      ]
     },
     "execution_count": 25,
     "metadata": {},
     "output_type": "execute_result"
    }
   ],
   "source": [
    "response = claude.run(prompt=prompt)\n",
    "\n",
    "response.model_dump()"
   ]
  },
  {
   "cell_type": "markdown",
   "metadata": {},
   "source": [
    "Asynchronous generation"
   ]
  },
  {
   "cell_type": "code",
   "execution_count": 26,
   "metadata": {},
   "outputs": [
    {
     "data": {
      "text/plain": [
       "{'message': {'role': 'assistant',\n",
       "  'content': [{'text': \"Great! I've set up a comfortable party mood for you. Here's what I've done:\\n\\n1. Turned on the disco ball to add some fun, dynamic lighting to the space.\\n2. Started some music that's energetic but not too loud, with a moderate tempo of 120 BPM. This should create a lively atmosphere without being overwhelming.\\n3. Dimmed the lights to 60% brightness, which should provide a cozy, party-like ambiance without being too dark.\\n\\nThese settings should create a comfortable party mood that's lively and fun, but not too intense. The spinning disco ball will add a festive touch, the music will keep the energy up without being too loud, and the dimmed lights will create a relaxed atmosphere.\\n\\nIs there anything else you'd like me to adjust to make the party mood even more comfortable for you?\"}],\n",
       "  'name': None},\n",
       " 'usage': {'model_name': 'claude-3-5-sonnet-20240620',\n",
       "  'prompt_tokens': 939,\n",
       "  'completion_tokens': 191},\n",
       " 'prompt': [{'role': 'user',\n",
       "   'content': [{'text': 'Turn this place into a comfortable party mood!',\n",
       "     'type': 'text'}]},\n",
       "  {'role': 'assistant',\n",
       "   'content': [{'text': \"Certainly! I'd be happy to help create a comfortable party mood for you. To achieve this, we'll need to adjust a few things using the available tools. Let's set up a nice ambiance with some music, lighting, and a disco ball. I'll use the functions we have to create the right atmosphere.\",\n",
       "     'type': 'text'},\n",
       "    {'id': 'toolu_01HRRYXeGRiQ4sEHfdkUww7C',\n",
       "     'type': 'tool_use',\n",
       "     'input': {'power': True},\n",
       "     'name': 'power_disco_ball'},\n",
       "    {'id': 'toolu_01GDaizZZ8crU4P6TMHuJc9g',\n",
       "     'type': 'tool_use',\n",
       "     'input': {'energetic': True, 'loud': False, 'bpm': '120'},\n",
       "     'name': 'start_music'},\n",
       "    {'id': 'toolu_01YUsXZqGDDuzekFdKPFZchS',\n",
       "     'type': 'tool_use',\n",
       "     'input': {'brightness': 0.6},\n",
       "     'name': 'dim_lights'}]},\n",
       "  {'role': 'user',\n",
       "   'content': [{'tool_use_id': 'toolu_01HRRYXeGRiQ4sEHfdkUww7C',\n",
       "     'type': 'tool_result',\n",
       "     'content': 'Disco ball is spinning!'},\n",
       "    {'tool_use_id': 'toolu_01GDaizZZ8crU4P6TMHuJc9g',\n",
       "     'type': 'tool_result',\n",
       "     'content': \"Starting music! energetic=True loud=False, bpm='120'\"},\n",
       "    {'tool_use_id': 'toolu_01YUsXZqGDDuzekFdKPFZchS',\n",
       "     'type': 'tool_result',\n",
       "     'content': 'Lights are now set to 0.6'}]}]}"
      ]
     },
     "execution_count": 26,
     "metadata": {},
     "output_type": "execute_result"
    }
   ],
   "source": [
    "response = await claude.arun(prompt=prompt)\n",
    "\n",
    "response.model_dump()"
   ]
  },
  {
   "cell_type": "markdown",
   "metadata": {},
   "source": [
    "### Claude on Amazon Bedrock"
   ]
  },
  {
   "cell_type": "code",
   "execution_count": 27,
   "metadata": {},
   "outputs": [],
   "source": [
    "claude_bedrock = ClaudeFunctionalChat(\n",
    "    model_name=\"anthropic.claude-3-sonnet-20240229-v1:0\",\n",
    "    api_type=\"bedrock\",\n",
    "    aws_access_key_env_name=\"AWS_ACCESS_KEY\",\n",
    "    aws_secret_key_env_name=\"AWS_SECRET_KEY\",\n",
    "    aws_region_env_name=\"AWS_REGION\",\n",
    "    tools=[power_disco_ball, start_music, dim_lights],\n",
    "    tool_configs=tool_configs,\n",
    ")"
   ]
  },
  {
   "cell_type": "code",
   "execution_count": 28,
   "metadata": {},
   "outputs": [
    {
     "data": {
      "text/plain": [
       "{'message': {'role': 'assistant',\n",
       "  'content': [{'text': \"Great! I've made the following adjustments to create a comfortable party mood:\\n\\n1. Dimmed the lights: I've set the brightness to 0.4 (on a scale of 0.0 to 1.0), which should provide a warm, inviting glow without being too dark.\\n\\n2. Started the music: I've chosen energetic music to keep the party atmosphere, but set it to not be too loud so people can still comfortably chat. The beats per minute (bpm) is set to 120, which is a good middle ground for a variety of party music styles.\\n\\n3. Powered on the disco ball: This will add a fun, party-like ambiance to the room with moving lights.\\n\\nThese settings should create a comfortable party mood that's lively enough for fun but not overwhelming. The dimmed lights and spinning disco ball will create a nice visual atmosphere, while the energetic but not-too-loud music will provide a good backdrop for socializing and dancing.\\n\\nIs there anything else you'd like to adjust? For example, we could change the music tempo, adjust the lighting further, or turn off the disco ball if it's too much. Just let me know, and I'll be happy to make any additional changes!\"}],\n",
       "  'name': None},\n",
       " 'usage': {'model_name': 'claude-3-5-sonnet-20240620',\n",
       "  'prompt_tokens': 961,\n",
       "  'completion_tokens': 274},\n",
       " 'prompt': [{'role': 'user',\n",
       "   'content': [{'text': 'Turn this place into a comfortable party mood!',\n",
       "     'type': 'text'}]},\n",
       "  {'role': 'assistant',\n",
       "   'content': [{'text': \"Certainly! I'd be happy to help create a comfortable party mood for you. To set the right atmosphere, we'll need to adjust the lighting, music, and add some ambiance. Let's use the available tools to create the perfect party setting.\\n\\nFirst, let's dim the lights to create a cozy atmosphere, start some music, and power up the disco ball for a fun touch. Here's what I propose:\",\n",
       "     'type': 'text'},\n",
       "    {'id': 'toolu_0139UT8FcZvbFng8DaBLhUzJ',\n",
       "     'type': 'tool_use',\n",
       "     'input': {'brightness': 0.4},\n",
       "     'name': 'dim_lights'},\n",
       "    {'id': 'toolu_01Cae72k5MBu3nfVkGma6vfk',\n",
       "     'type': 'tool_use',\n",
       "     'input': {'energetic': True, 'loud': False, 'bpm': '120'},\n",
       "     'name': 'start_music'},\n",
       "    {'id': 'toolu_012LJW7kcqUEoB9NGpiZbftK',\n",
       "     'type': 'tool_use',\n",
       "     'input': {'power': True},\n",
       "     'name': 'power_disco_ball'}]},\n",
       "  {'role': 'user',\n",
       "   'content': [{'tool_use_id': 'toolu_0139UT8FcZvbFng8DaBLhUzJ',\n",
       "     'type': 'tool_result',\n",
       "     'content': 'Lights are now set to 0.4'},\n",
       "    {'tool_use_id': 'toolu_01Cae72k5MBu3nfVkGma6vfk',\n",
       "     'type': 'tool_result',\n",
       "     'content': \"Starting music! energetic=True loud=False, bpm='120'\"},\n",
       "    {'tool_use_id': 'toolu_012LJW7kcqUEoB9NGpiZbftK',\n",
       "     'type': 'tool_result',\n",
       "     'content': 'Disco ball is spinning!'}]}]}"
      ]
     },
     "execution_count": 28,
     "metadata": {},
     "output_type": "execute_result"
    }
   ],
   "source": [
    "response = claude.run(prompt=prompt)\n",
    "\n",
    "response.model_dump()"
   ]
  },
  {
   "cell_type": "markdown",
   "metadata": {},
   "source": [
    "# Universal tool config system"
   ]
  },
  {
   "cell_type": "markdown",
   "metadata": {},
   "source": [
    "Tool config the user defines is common for various llm. It is converted to client tools in clinet's FunctionCallingModule before API call. Let me show you the process of conversion."
   ]
  },
  {
   "cell_type": "code",
   "execution_count": 29,
   "metadata": {},
   "outputs": [
    {
     "data": {
      "text/plain": [
       "[OpenAIToolConfig(name='power_disco_ball', description='Powers the spinning disco ball.', parameters=OpenAIToolParameter(type='object', properties=[OpenAIToolProperty(name='power', type='boolean', description='Boolean to spin disco ball.', enum=None)], required=['power']), type='function'),\n",
       " OpenAIToolConfig(name='start_music', description='Play some music matching the specified parameters.', parameters=OpenAIToolParameter(type='object', properties=[OpenAIToolProperty(name='energetic', type='boolean', description='Whether the music is energetic or not.', enum=None), OpenAIToolProperty(name='loud', type='boolean', description='Whether the music is loud or not.', enum=None), OpenAIToolProperty(name='bpm', type='string', description='The beats per minute of the music.', enum=['60', '120', '180'])], required=['energetic', 'loud', 'bpm']), type='function'),\n",
       " OpenAIToolConfig(name='dim_lights', description='Dim the lights.', parameters=OpenAIToolParameter(type='object', properties=[OpenAIToolProperty(name='brightness', type='number', description='The brightness of the lights, 0.0 is off, 1.0 is full.', enum=None)], required=['brightness']), type='function')]"
      ]
     },
     "execution_count": 29,
     "metadata": {},
     "output_type": "execute_result"
    }
   ],
   "source": [
    "from langrila.openai import OpenAIToolConfig\n",
    "\n",
    "converted_configs = OpenAIToolConfig.from_universal_configs(tool_configs)\n",
    "converted_configs"
   ]
  },
  {
   "cell_type": "markdown",
   "metadata": {},
   "source": [
    "Then these client tool config objects is transformed to client tools by format() method."
   ]
  },
  {
   "cell_type": "code",
   "execution_count": 30,
   "metadata": {},
   "outputs": [
    {
     "data": {
      "text/plain": [
       "{'type': 'function',\n",
       " 'function': {'name': 'power_disco_ball',\n",
       "  'description': 'Powers the spinning disco ball.',\n",
       "  'parameters': {'type': 'object',\n",
       "   'properties': {'power': {'type': 'boolean',\n",
       "     'description': 'Boolean to spin disco ball.'}},\n",
       "   'required': ['power']}}}"
      ]
     },
     "execution_count": 30,
     "metadata": {},
     "output_type": "execute_result"
    }
   ],
   "source": [
    "converted_configs[0].format()"
   ]
  },
  {
   "cell_type": "markdown",
   "metadata": {},
   "source": [
    "Other client like Gemini and Claude is the same interface, so you could reuse tool_configs you initially defines."
   ]
  },
  {
   "cell_type": "code",
   "execution_count": 31,
   "metadata": {},
   "outputs": [],
   "source": [
    "from langrila.gemini.genai import GeminiToolConfig"
   ]
  },
  {
   "cell_type": "code",
   "execution_count": 32,
   "metadata": {},
   "outputs": [
    {
     "data": {
      "text/plain": [
       "[GeminiToolConfig(name='power_disco_ball', description='Powers the spinning disco ball.', parameters=GeminiToolParameter(type='object', properties=[GeminiToolProperty(name='power', type='boolean', description='Boolean to spin disco ball.', enum=None)], required=['power'])),\n",
       " GeminiToolConfig(name='start_music', description='Play some music matching the specified parameters.', parameters=GeminiToolParameter(type='object', properties=[GeminiToolProperty(name='energetic', type='boolean', description='Whether the music is energetic or not.', enum=None), GeminiToolProperty(name='loud', type='boolean', description='Whether the music is loud or not.', enum=None), GeminiToolProperty(name='bpm', type='string', description='The beats per minute of the music.', enum=['60', '120', '180'])], required=['energetic', 'loud', 'bpm'])),\n",
       " GeminiToolConfig(name='dim_lights', description='Dim the lights.', parameters=GeminiToolParameter(type='object', properties=[GeminiToolProperty(name='brightness', type='number', description='The brightness of the lights, 0.0 is off, 1.0 is full.', enum=None)], required=['brightness']))]"
      ]
     },
     "execution_count": 32,
     "metadata": {},
     "output_type": "execute_result"
    }
   ],
   "source": [
    "converted_configs = GeminiToolConfig.from_universal_configs(tool_configs)\n",
    "converted_configs"
   ]
  },
  {
   "cell_type": "code",
   "execution_count": 33,
   "metadata": {},
   "outputs": [
    {
     "data": {
      "text/plain": [
       "name: \"power_disco_ball\"\n",
       "description: \"Powers the spinning disco ball.\"\n",
       "parameters {\n",
       "  type_: OBJECT\n",
       "  properties {\n",
       "    key: \"power\"\n",
       "    value {\n",
       "      type_: BOOLEAN\n",
       "      description: \"Boolean to spin disco ball.\"\n",
       "    }\n",
       "  }\n",
       "  required: \"power\"\n",
       "}"
      ]
     },
     "execution_count": 33,
     "metadata": {},
     "output_type": "execute_result"
    }
   ],
   "source": [
    "converted_configs[0].format()"
   ]
  },
  {
   "cell_type": "markdown",
   "metadata": {},
   "source": [
    "# Multi-turn conversation with tools"
   ]
  },
  {
   "cell_type": "markdown",
   "metadata": {},
   "source": [
    "### For ChatGPT"
   ]
  },
  {
   "cell_type": "code",
   "execution_count": 34,
   "metadata": {},
   "outputs": [],
   "source": [
    "chatgpt = OpenAIFunctionalChat(\n",
    "    api_key_env_name=\"API_KEY\",\n",
    "    model_name=\"gpt-4o-mini-2024-07-18\",\n",
    "    tools=[power_disco_ball, start_music, dim_lights],\n",
    "    tool_configs=tool_configs,\n",
    "    conversation_memory=InMemoryConversationMemory(),\n",
    "    # conversation_memory=JSONConversationMemory(\"./test.json\"), # for serialization\n",
    ")"
   ]
  },
  {
   "cell_type": "code",
   "execution_count": 35,
   "metadata": {},
   "outputs": [
    {
     "data": {
      "text/plain": [
       "{'message': {'role': 'assistant',\n",
       "  'content': [{'text': 'The atmosphere is now perfect for a party! The lights are dimmed to a cozy level, the disco ball is spinning beautifully, and energetic music with a lively beat is playing. Get ready to dance and have a great time! 🎉✨'}],\n",
       "  'name': None},\n",
       " 'usage': {'model_name': 'gpt-4o-mini-2024-07-18',\n",
       "  'prompt_tokens': 133,\n",
       "  'completion_tokens': 49},\n",
       " 'prompt': [{'role': 'user',\n",
       "   'content': [{'type': 'text',\n",
       "     'text': 'Turn this place into a comfortable party mood!'}],\n",
       "   'name': None},\n",
       "  {'content': None,\n",
       "   'role': 'assistant',\n",
       "   'function_call': None,\n",
       "   'tool_calls': [{'id': 'call_Rdbng8ijTt5jF3BHDeTD9msY',\n",
       "     'function': {'arguments': '{\"brightness\": 0.5}', 'name': 'dim_lights'},\n",
       "     'type': 'function'},\n",
       "    {'id': 'call_XCRYAXUQOKFDTt8KIJvEW2UU',\n",
       "     'function': {'arguments': '{\"power\": true}', 'name': 'power_disco_ball'},\n",
       "     'type': 'function'},\n",
       "    {'id': 'call_tYSPq42NjQ5IEZpUWcM5HWoq',\n",
       "     'function': {'arguments': '{\"energetic\": true, \"loud\": true, \"bpm\": \"120\"}',\n",
       "      'name': 'start_music'},\n",
       "     'type': 'function'}]},\n",
       "  {'role': 'tool',\n",
       "   'tool_call_id': 'call_Rdbng8ijTt5jF3BHDeTD9msY',\n",
       "   'name': 'dim_lights',\n",
       "   'content': 'Lights are now set to 0.5'},\n",
       "  {'role': 'tool',\n",
       "   'tool_call_id': 'call_XCRYAXUQOKFDTt8KIJvEW2UU',\n",
       "   'name': 'power_disco_ball',\n",
       "   'content': 'Disco ball is spinning!'},\n",
       "  {'role': 'tool',\n",
       "   'tool_call_id': 'call_tYSPq42NjQ5IEZpUWcM5HWoq',\n",
       "   'name': 'start_music',\n",
       "   'content': \"Starting music! energetic=True loud=True, bpm='120'\"}]}"
      ]
     },
     "execution_count": 35,
     "metadata": {},
     "output_type": "execute_result"
    }
   ],
   "source": [
    "prompt = \"Turn this place into a comfortable party mood!\"\n",
    "\n",
    "response = chatgpt.run(prompt=prompt)\n",
    "\n",
    "# Show result\n",
    "response.model_dump()"
   ]
  },
  {
   "cell_type": "markdown",
   "metadata": {},
   "source": [
    "Next turn"
   ]
  },
  {
   "cell_type": "code",
   "execution_count": 36,
   "metadata": {},
   "outputs": [
    {
     "data": {
      "text/plain": [
       "{'message': {'role': 'assistant',\n",
       "  'content': [{'text': \"The music's BPM has been increased to a high-energy 180! Get ready to dance even harder! 🎶💃🕺\"}],\n",
       "  'name': None},\n",
       " 'usage': {'model_name': 'gpt-4o-mini-2024-07-18',\n",
       "  'prompt_tokens': 243,\n",
       "  'completion_tokens': 28},\n",
       " 'prompt': [{'role': 'user',\n",
       "   'content': [{'type': 'text',\n",
       "     'text': 'Turn this place into a comfortable party mood!'}],\n",
       "   'name': None},\n",
       "  {'content': None,\n",
       "   'role': 'assistant',\n",
       "   'function_call': None,\n",
       "   'tool_calls': [{'id': 'call_Rdbng8ijTt5jF3BHDeTD9msY',\n",
       "     'function': {'arguments': '{\"brightness\": 0.5}', 'name': 'dim_lights'},\n",
       "     'type': 'function'},\n",
       "    {'id': 'call_XCRYAXUQOKFDTt8KIJvEW2UU',\n",
       "     'function': {'arguments': '{\"power\": true}', 'name': 'power_disco_ball'},\n",
       "     'type': 'function'},\n",
       "    {'id': 'call_tYSPq42NjQ5IEZpUWcM5HWoq',\n",
       "     'function': {'arguments': '{\"energetic\": true, \"loud\": true, \"bpm\": \"120\"}',\n",
       "      'name': 'start_music'},\n",
       "     'type': 'function'}]},\n",
       "  {'role': 'tool',\n",
       "   'tool_call_id': 'call_Rdbng8ijTt5jF3BHDeTD9msY',\n",
       "   'name': 'dim_lights',\n",
       "   'content': 'Lights are now set to 0.5'},\n",
       "  {'role': 'tool',\n",
       "   'tool_call_id': 'call_XCRYAXUQOKFDTt8KIJvEW2UU',\n",
       "   'name': 'power_disco_ball',\n",
       "   'content': 'Disco ball is spinning!'},\n",
       "  {'role': 'tool',\n",
       "   'tool_call_id': 'call_tYSPq42NjQ5IEZpUWcM5HWoq',\n",
       "   'name': 'start_music',\n",
       "   'content': \"Starting music! energetic=True loud=True, bpm='120'\"},\n",
       "  {'role': 'assistant',\n",
       "   'content': [{'type': 'text',\n",
       "     'text': 'The atmosphere is now perfect for a party! The lights are dimmed to a cozy level, the disco ball is spinning beautifully, and energetic music with a lively beat is playing. Get ready to dance and have a great time! 🎉✨'}],\n",
       "   'name': None},\n",
       "  {'role': 'user',\n",
       "   'content': [{'type': 'text', 'text': 'Can you make bpm up more?'}],\n",
       "   'name': None},\n",
       "  {'content': None,\n",
       "   'role': 'assistant',\n",
       "   'function_call': None,\n",
       "   'tool_calls': [{'id': 'call_4XyYsPqmQQYTIzYYfKJBBJj2',\n",
       "     'function': {'arguments': '{\"energetic\":true,\"loud\":true,\"bpm\":\"180\"}',\n",
       "      'name': 'start_music'},\n",
       "     'type': 'function'}]},\n",
       "  {'role': 'tool',\n",
       "   'tool_call_id': 'call_4XyYsPqmQQYTIzYYfKJBBJj2',\n",
       "   'name': 'start_music',\n",
       "   'content': \"Starting music! energetic=True loud=True, bpm='180'\"}]}"
      ]
     },
     "execution_count": 36,
     "metadata": {},
     "output_type": "execute_result"
    }
   ],
   "source": [
    "prompt = \"Can you make bpm up more?\"\n",
    "\n",
    "response = chatgpt.run(prompt=prompt)\n",
    "\n",
    "response.model_dump()"
   ]
  },
  {
   "cell_type": "markdown",
   "metadata": {},
   "source": [
    "### For Gemini"
   ]
  },
  {
   "cell_type": "code",
   "execution_count": 37,
   "metadata": {},
   "outputs": [],
   "source": [
    "gemini = GeminiFunctionalChat(\n",
    "    api_key_env_name=\"GEMINI_API_KEY\",\n",
    "    model_name=\"gemini-1.5-pro\",\n",
    "    tools=[power_disco_ball, start_music, dim_lights],\n",
    "    tool_configs=tool_configs,\n",
    "    conversation_memory=InMemoryConversationMemory(),\n",
    "    # conversation_memory=JSONConversationMemory(\"./test.json\"), # for serialization\n",
    ")"
   ]
  },
  {
   "cell_type": "code",
   "execution_count": 38,
   "metadata": {},
   "outputs": [
    {
     "data": {
      "text/plain": [
       "{'message': {'role': 'assistant',\n",
       "  'content': [{'text': \"Alright! Disco ball's spinning, some upbeat music is playing, and the lights are dimmed.  What else can I do to set the mood?  Need some snacks, drinks, or maybe some games? 🎉 🎶 😄 \\n\"}],\n",
       "  'name': None},\n",
       " 'usage': {'model_name': 'gemini-1.5-pro',\n",
       "  'prompt_tokens': 145,\n",
       "  'completion_tokens': 47},\n",
       " 'prompt': [parts {\n",
       "    text: \"Turn this place into a comfortable party mood!\"\n",
       "  }\n",
       "  role: \"user\",\n",
       "  parts {\n",
       "    function_call {\n",
       "      name: \"power_disco_ball\"\n",
       "      args {\n",
       "        fields {\n",
       "          key: \"power\"\n",
       "          value {\n",
       "            bool_value: true\n",
       "          }\n",
       "        }\n",
       "      }\n",
       "    }\n",
       "  }\n",
       "  parts {\n",
       "    function_call {\n",
       "      name: \"start_music\"\n",
       "      args {\n",
       "        fields {\n",
       "          key: \"loud\"\n",
       "          value {\n",
       "            bool_value: true\n",
       "          }\n",
       "        }\n",
       "        fields {\n",
       "          key: \"energetic\"\n",
       "          value {\n",
       "            bool_value: true\n",
       "          }\n",
       "        }\n",
       "        fields {\n",
       "          key: \"bpm\"\n",
       "          value {\n",
       "            string_value: \"120\"\n",
       "          }\n",
       "        }\n",
       "      }\n",
       "    }\n",
       "  }\n",
       "  parts {\n",
       "    function_call {\n",
       "      name: \"dim_lights\"\n",
       "      args {\n",
       "        fields {\n",
       "          key: \"brightness\"\n",
       "          value {\n",
       "            number_value: 0.5\n",
       "          }\n",
       "        }\n",
       "      }\n",
       "    }\n",
       "  }\n",
       "  role: \"model\",\n",
       "  parts {\n",
       "    function_response {\n",
       "      name: \"power_disco_ball\"\n",
       "      response {\n",
       "        fields {\n",
       "          key: \"content\"\n",
       "          value {\n",
       "            string_value: \"Disco ball is spinning!\"\n",
       "          }\n",
       "        }\n",
       "      }\n",
       "    }\n",
       "  }\n",
       "  parts {\n",
       "    function_response {\n",
       "      name: \"start_music\"\n",
       "      response {\n",
       "        fields {\n",
       "          key: \"content\"\n",
       "          value {\n",
       "            string_value: \"Starting music! energetic=True loud=True, bpm=\\'120\\'\"\n",
       "          }\n",
       "        }\n",
       "      }\n",
       "    }\n",
       "  }\n",
       "  parts {\n",
       "    function_response {\n",
       "      name: \"dim_lights\"\n",
       "      response {\n",
       "        fields {\n",
       "          key: \"content\"\n",
       "          value {\n",
       "            string_value: \"Lights are now set to 0.5\"\n",
       "          }\n",
       "        }\n",
       "      }\n",
       "    }\n",
       "  }\n",
       "  role: \"user\"]}"
      ]
     },
     "execution_count": 38,
     "metadata": {},
     "output_type": "execute_result"
    }
   ],
   "source": [
    "prompt = \"Turn this place into a comfortable party mood!\"\n",
    "\n",
    "response = gemini.run(prompt=prompt)\n",
    "\n",
    "# Show result\n",
    "response.model_dump()"
   ]
  },
  {
   "cell_type": "code",
   "execution_count": 39,
   "metadata": {},
   "outputs": [
    {
     "data": {
      "text/plain": [
       "{'message': {'role': 'assistant',\n",
       "  'content': [{'text': 'The current music is playing at **120 bpm**.  🎧 \\n'}],\n",
       "  'name': None},\n",
       " 'usage': {'model_name': 'gemini-1.5-pro',\n",
       "  'prompt_tokens': 202,\n",
       "  'completion_tokens': 14},\n",
       " 'prompt': [parts {\n",
       "    text: \"Turn this place into a comfortable party mood!\"\n",
       "  }\n",
       "  role: \"user\",\n",
       "  parts {\n",
       "    function_call {\n",
       "      name: \"power_disco_ball\"\n",
       "      args {\n",
       "        fields {\n",
       "          key: \"power\"\n",
       "          value {\n",
       "            bool_value: true\n",
       "          }\n",
       "        }\n",
       "      }\n",
       "    }\n",
       "  }\n",
       "  parts {\n",
       "    function_call {\n",
       "      name: \"start_music\"\n",
       "      args {\n",
       "        fields {\n",
       "          key: \"loud\"\n",
       "          value {\n",
       "            bool_value: true\n",
       "          }\n",
       "        }\n",
       "        fields {\n",
       "          key: \"energetic\"\n",
       "          value {\n",
       "            bool_value: true\n",
       "          }\n",
       "        }\n",
       "        fields {\n",
       "          key: \"bpm\"\n",
       "          value {\n",
       "            string_value: \"120\"\n",
       "          }\n",
       "        }\n",
       "      }\n",
       "    }\n",
       "  }\n",
       "  parts {\n",
       "    function_call {\n",
       "      name: \"dim_lights\"\n",
       "      args {\n",
       "        fields {\n",
       "          key: \"brightness\"\n",
       "          value {\n",
       "            number_value: 0.5\n",
       "          }\n",
       "        }\n",
       "      }\n",
       "    }\n",
       "  }\n",
       "  role: \"model\",\n",
       "  parts {\n",
       "    function_response {\n",
       "      name: \"power_disco_ball\"\n",
       "      response {\n",
       "        fields {\n",
       "          key: \"content\"\n",
       "          value {\n",
       "            string_value: \"Disco ball is spinning!\"\n",
       "          }\n",
       "        }\n",
       "      }\n",
       "    }\n",
       "  }\n",
       "  parts {\n",
       "    function_response {\n",
       "      name: \"start_music\"\n",
       "      response {\n",
       "        fields {\n",
       "          key: \"content\"\n",
       "          value {\n",
       "            string_value: \"Starting music! energetic=True loud=True, bpm=\\'120\\'\"\n",
       "          }\n",
       "        }\n",
       "      }\n",
       "    }\n",
       "  }\n",
       "  parts {\n",
       "    function_response {\n",
       "      name: \"dim_lights\"\n",
       "      response {\n",
       "        fields {\n",
       "          key: \"content\"\n",
       "          value {\n",
       "            string_value: \"Lights are now set to 0.5\"\n",
       "          }\n",
       "        }\n",
       "      }\n",
       "    }\n",
       "  }\n",
       "  role: \"user\",\n",
       "  parts {\n",
       "    text: \"Alright! Disco ball\\'s spinning, some upbeat music is playing, and the lights are dimmed.  What else can I do to set the mood?  Need some snacks, drinks, or maybe some games? 🎉 🎶 😄 \\n\"\n",
       "  }\n",
       "  role: \"model\",\n",
       "  parts {\n",
       "    text: \"What is the current bpm?\"\n",
       "  }\n",
       "  role: \"user\"]}"
      ]
     },
     "execution_count": 39,
     "metadata": {},
     "output_type": "execute_result"
    }
   ],
   "source": [
    "prompt = \"What is the current bpm?\"\n",
    "\n",
    "response = gemini.run(prompt=prompt)\n",
    "\n",
    "response.model_dump()"
   ]
  },
  {
   "cell_type": "code",
   "execution_count": 40,
   "metadata": {},
   "outputs": [
    {
     "data": {
      "text/plain": [
       "{'message': {'role': 'assistant',\n",
       "  'content': [{'text': \"Alright, I've cranked things up!  The music is now bumping at a solid 180 bpm.  Let's get this party moving! 💃🕺 \\n\"}],\n",
       "  'name': None},\n",
       " 'usage': {'model_name': 'gemini-1.5-pro',\n",
       "  'prompt_tokens': 285,\n",
       "  'completion_tokens': 37},\n",
       " 'prompt': [parts {\n",
       "    text: \"Turn this place into a comfortable party mood!\"\n",
       "  }\n",
       "  role: \"user\",\n",
       "  parts {\n",
       "    function_call {\n",
       "      name: \"power_disco_ball\"\n",
       "      args {\n",
       "        fields {\n",
       "          key: \"power\"\n",
       "          value {\n",
       "            bool_value: true\n",
       "          }\n",
       "        }\n",
       "      }\n",
       "    }\n",
       "  }\n",
       "  parts {\n",
       "    function_call {\n",
       "      name: \"start_music\"\n",
       "      args {\n",
       "        fields {\n",
       "          key: \"loud\"\n",
       "          value {\n",
       "            bool_value: true\n",
       "          }\n",
       "        }\n",
       "        fields {\n",
       "          key: \"energetic\"\n",
       "          value {\n",
       "            bool_value: true\n",
       "          }\n",
       "        }\n",
       "        fields {\n",
       "          key: \"bpm\"\n",
       "          value {\n",
       "            string_value: \"120\"\n",
       "          }\n",
       "        }\n",
       "      }\n",
       "    }\n",
       "  }\n",
       "  parts {\n",
       "    function_call {\n",
       "      name: \"dim_lights\"\n",
       "      args {\n",
       "        fields {\n",
       "          key: \"brightness\"\n",
       "          value {\n",
       "            number_value: 0.5\n",
       "          }\n",
       "        }\n",
       "      }\n",
       "    }\n",
       "  }\n",
       "  role: \"model\",\n",
       "  parts {\n",
       "    function_response {\n",
       "      name: \"power_disco_ball\"\n",
       "      response {\n",
       "        fields {\n",
       "          key: \"content\"\n",
       "          value {\n",
       "            string_value: \"Disco ball is spinning!\"\n",
       "          }\n",
       "        }\n",
       "      }\n",
       "    }\n",
       "  }\n",
       "  parts {\n",
       "    function_response {\n",
       "      name: \"start_music\"\n",
       "      response {\n",
       "        fields {\n",
       "          key: \"content\"\n",
       "          value {\n",
       "            string_value: \"Starting music! energetic=True loud=True, bpm=\\'120\\'\"\n",
       "          }\n",
       "        }\n",
       "      }\n",
       "    }\n",
       "  }\n",
       "  parts {\n",
       "    function_response {\n",
       "      name: \"dim_lights\"\n",
       "      response {\n",
       "        fields {\n",
       "          key: \"content\"\n",
       "          value {\n",
       "            string_value: \"Lights are now set to 0.5\"\n",
       "          }\n",
       "        }\n",
       "      }\n",
       "    }\n",
       "  }\n",
       "  role: \"user\",\n",
       "  parts {\n",
       "    text: \"Alright! Disco ball\\'s spinning, some upbeat music is playing, and the lights are dimmed.  What else can I do to set the mood?  Need some snacks, drinks, or maybe some games? 🎉 🎶 😄 \\n\"\n",
       "  }\n",
       "  role: \"model\",\n",
       "  parts {\n",
       "    text: \"What is the current bpm?\"\n",
       "  }\n",
       "  role: \"user\",\n",
       "  parts {\n",
       "    text: \"The current music is playing at **120 bpm**.  🎧 \\n\"\n",
       "  }\n",
       "  role: \"model\",\n",
       "  parts {\n",
       "    text: \"Can you make bpm up more?\"\n",
       "  }\n",
       "  role: \"user\",\n",
       "  parts {\n",
       "    function_call {\n",
       "      name: \"start_music\"\n",
       "      args {\n",
       "        fields {\n",
       "          key: \"loud\"\n",
       "          value {\n",
       "            bool_value: true\n",
       "          }\n",
       "        }\n",
       "        fields {\n",
       "          key: \"energetic\"\n",
       "          value {\n",
       "            bool_value: true\n",
       "          }\n",
       "        }\n",
       "        fields {\n",
       "          key: \"bpm\"\n",
       "          value {\n",
       "            string_value: \"180\"\n",
       "          }\n",
       "        }\n",
       "      }\n",
       "    }\n",
       "  }\n",
       "  role: \"model\",\n",
       "  parts {\n",
       "    function_response {\n",
       "      name: \"start_music\"\n",
       "      response {\n",
       "        fields {\n",
       "          key: \"content\"\n",
       "          value {\n",
       "            string_value: \"Starting music! energetic=True loud=True, bpm=\\'180\\'\"\n",
       "          }\n",
       "        }\n",
       "      }\n",
       "    }\n",
       "  }\n",
       "  role: \"user\"]}"
      ]
     },
     "execution_count": 40,
     "metadata": {},
     "output_type": "execute_result"
    }
   ],
   "source": [
    "prompt = \"Can you make bpm up more?\"\n",
    "\n",
    "response = gemini.run(prompt=prompt)\n",
    "\n",
    "response.model_dump()"
   ]
  },
  {
   "cell_type": "markdown",
   "metadata": {},
   "source": [
    "## Multi-turn conversation using tools with multiple model"
   ]
  },
  {
   "cell_type": "code",
   "execution_count": 41,
   "metadata": {},
   "outputs": [],
   "source": [
    "from langrila import InMemoryConversationMemory\n",
    "\n",
    "shared_memory = InMemoryConversationMemory()\n",
    "\n",
    "chatgpt = OpenAIFunctionalChat(\n",
    "    api_key_env_name=\"API_KEY\",\n",
    "    model_name=\"gpt-4o-mini-2024-07-18\",\n",
    "    tools=[power_disco_ball, start_music, dim_lights],\n",
    "    tool_configs=tool_configs,\n",
    "    conversation_memory=shared_memory,\n",
    ")\n",
    "\n",
    "gemini = GeminiFunctionalChat(\n",
    "    api_key_env_name=\"GEMINI_API_KEY\",\n",
    "    model_name=\"gemini-1.5-pro\",\n",
    "    tools=[power_disco_ball, start_music, dim_lights],\n",
    "    tool_configs=tool_configs,\n",
    "    conversation_memory=shared_memory,\n",
    ")"
   ]
  },
  {
   "cell_type": "code",
   "execution_count": 42,
   "metadata": {},
   "outputs": [],
   "source": [
    "prompt = \"Turn this place into a comfortable party mood!\"\n",
    "\n",
    "response = chatgpt.run(prompt)"
   ]
  },
  {
   "cell_type": "code",
   "execution_count": 43,
   "metadata": {},
   "outputs": [
    {
     "data": {
      "text/plain": [
       "{'message': {'role': 'assistant',\n",
       "  'content': [{'text': 'The party mood is set! The disco ball is spinning, energetic music is playing at a lively 120 BPM, and the lights are dimmed to create a cozy atmosphere. Let the festivities begin! 🎉🌟'}],\n",
       "  'name': None},\n",
       " 'usage': {'model_name': 'gpt-4o-mini-2024-07-18',\n",
       "  'prompt_tokens': 132,\n",
       "  'completion_tokens': 44},\n",
       " 'prompt': [{'role': 'user',\n",
       "   'content': [{'type': 'text',\n",
       "     'text': 'Turn this place into a comfortable party mood!'}],\n",
       "   'name': None},\n",
       "  {'content': None,\n",
       "   'role': 'assistant',\n",
       "   'function_call': None,\n",
       "   'tool_calls': [{'id': 'call_EGOA50CfuLY2WjUaGmfPm3Ae',\n",
       "     'function': {'arguments': '{\"power\": true}', 'name': 'power_disco_ball'},\n",
       "     'type': 'function'},\n",
       "    {'id': 'call_egauNEsHjMRLmgAAq3h4tRMW',\n",
       "     'function': {'arguments': '{\"energetic\": true, \"loud\": true, \"bpm\": \"120\"}',\n",
       "      'name': 'start_music'},\n",
       "     'type': 'function'},\n",
       "    {'id': 'call_7gv6JRiSMNgB8ghjjLnFFEtN',\n",
       "     'function': {'arguments': '{\"brightness\": 0.5}', 'name': 'dim_lights'},\n",
       "     'type': 'function'}]},\n",
       "  {'role': 'tool',\n",
       "   'tool_call_id': 'call_EGOA50CfuLY2WjUaGmfPm3Ae',\n",
       "   'name': 'power_disco_ball',\n",
       "   'content': 'Disco ball is spinning!'},\n",
       "  {'role': 'tool',\n",
       "   'tool_call_id': 'call_egauNEsHjMRLmgAAq3h4tRMW',\n",
       "   'name': 'start_music',\n",
       "   'content': \"Starting music! energetic=True loud=True, bpm='120'\"},\n",
       "  {'role': 'tool',\n",
       "   'tool_call_id': 'call_7gv6JRiSMNgB8ghjjLnFFEtN',\n",
       "   'name': 'dim_lights',\n",
       "   'content': 'Lights are now set to 0.5'}]}"
      ]
     },
     "execution_count": 43,
     "metadata": {},
     "output_type": "execute_result"
    }
   ],
   "source": [
    "response.model_dump()"
   ]
  },
  {
   "cell_type": "markdown",
   "metadata": {},
   "source": [
    "Gemini can continue conversation without any additional process."
   ]
  },
  {
   "cell_type": "code",
   "execution_count": 44,
   "metadata": {},
   "outputs": [
    {
     "data": {
      "text/plain": [
       "{'message': {'role': 'assistant',\n",
       "  'content': [{'text': \"The music is pumping now! I've cranked it up to a heart-pounding 180 BPM. Get ready to move! 🎶🔥 \\n\"}],\n",
       "  'name': None},\n",
       " 'usage': {'model_name': 'gemini-1.5-pro',\n",
       "  'prompt_tokens': 257,\n",
       "  'completion_tokens': 33},\n",
       " 'prompt': [parts {\n",
       "    text: \"Turn this place into a comfortable party mood!\"\n",
       "  }\n",
       "  role: \"user\",\n",
       "  parts {\n",
       "    function_call {\n",
       "      name: \"power_disco_ball\"\n",
       "      args {\n",
       "        fields {\n",
       "          key: \"power\"\n",
       "          value {\n",
       "            bool_value: true\n",
       "          }\n",
       "        }\n",
       "      }\n",
       "    }\n",
       "  }\n",
       "  parts {\n",
       "    function_call {\n",
       "      name: \"start_music\"\n",
       "      args {\n",
       "        fields {\n",
       "          key: \"loud\"\n",
       "          value {\n",
       "            bool_value: true\n",
       "          }\n",
       "        }\n",
       "        fields {\n",
       "          key: \"energetic\"\n",
       "          value {\n",
       "            bool_value: true\n",
       "          }\n",
       "        }\n",
       "        fields {\n",
       "          key: \"bpm\"\n",
       "          value {\n",
       "            string_value: \"120\"\n",
       "          }\n",
       "        }\n",
       "      }\n",
       "    }\n",
       "  }\n",
       "  parts {\n",
       "    function_call {\n",
       "      name: \"dim_lights\"\n",
       "      args {\n",
       "        fields {\n",
       "          key: \"brightness\"\n",
       "          value {\n",
       "            number_value: 0.5\n",
       "          }\n",
       "        }\n",
       "      }\n",
       "    }\n",
       "  }\n",
       "  role: \"model\",\n",
       "  parts {\n",
       "    function_response {\n",
       "      name: \"power_disco_ball\"\n",
       "      response {\n",
       "        fields {\n",
       "          key: \"content\"\n",
       "          value {\n",
       "            string_value: \"Disco ball is spinning!\"\n",
       "          }\n",
       "        }\n",
       "      }\n",
       "    }\n",
       "  }\n",
       "  role: \"function\",\n",
       "  parts {\n",
       "    function_response {\n",
       "      name: \"start_music\"\n",
       "      response {\n",
       "        fields {\n",
       "          key: \"content\"\n",
       "          value {\n",
       "            string_value: \"Starting music! energetic=True loud=True, bpm=\\'120\\'\"\n",
       "          }\n",
       "        }\n",
       "      }\n",
       "    }\n",
       "  }\n",
       "  role: \"function\",\n",
       "  parts {\n",
       "    function_response {\n",
       "      name: \"dim_lights\"\n",
       "      response {\n",
       "        fields {\n",
       "          key: \"content\"\n",
       "          value {\n",
       "            string_value: \"Lights are now set to 0.5\"\n",
       "          }\n",
       "        }\n",
       "      }\n",
       "    }\n",
       "  }\n",
       "  role: \"function\",\n",
       "  parts {\n",
       "    text: \"The party mood is set! The disco ball is spinning, energetic music is playing at a lively 120 BPM, and the lights are dimmed to create a cozy atmosphere. Let the festivities begin! 🎉🌟\"\n",
       "  }\n",
       "  role: \"model\",\n",
       "  parts {\n",
       "    text: \"Can you make bpm up more?\"\n",
       "  }\n",
       "  role: \"user\",\n",
       "  parts {\n",
       "    function_call {\n",
       "      name: \"start_music\"\n",
       "      args {\n",
       "        fields {\n",
       "          key: \"loud\"\n",
       "          value {\n",
       "            bool_value: true\n",
       "          }\n",
       "        }\n",
       "        fields {\n",
       "          key: \"energetic\"\n",
       "          value {\n",
       "            bool_value: true\n",
       "          }\n",
       "        }\n",
       "        fields {\n",
       "          key: \"bpm\"\n",
       "          value {\n",
       "            string_value: \"180\"\n",
       "          }\n",
       "        }\n",
       "      }\n",
       "    }\n",
       "  }\n",
       "  role: \"model\",\n",
       "  parts {\n",
       "    function_response {\n",
       "      name: \"start_music\"\n",
       "      response {\n",
       "        fields {\n",
       "          key: \"content\"\n",
       "          value {\n",
       "            string_value: \"Starting music! energetic=True loud=True, bpm=\\'180\\'\"\n",
       "          }\n",
       "        }\n",
       "      }\n",
       "    }\n",
       "  }\n",
       "  role: \"user\"]}"
      ]
     },
     "execution_count": 44,
     "metadata": {},
     "output_type": "execute_result"
    }
   ],
   "source": [
    "prompt = \"Can you make bpm up more?\"\n",
    "\n",
    "response = gemini.run(prompt=prompt)\n",
    "\n",
    "response.model_dump()"
   ]
  },
  {
   "cell_type": "markdown",
   "metadata": {},
   "source": [
    "Gemini also works as well."
   ]
  },
  {
   "cell_type": "markdown",
   "metadata": {},
   "source": [
    "NOTE : Claude may not work in multi-turn conversation using tools. Bug fix is in progress."
   ]
  },
  {
   "cell_type": "markdown",
   "metadata": {},
   "source": [
    "# Multi-turn conversation with tools and context truncation"
   ]
  },
  {
   "cell_type": "markdown",
   "metadata": {},
   "source": [
    "Although context truncation doesn't work accurately if we use tools, but truncation is useful for token management to some extent."
   ]
  },
  {
   "cell_type": "code",
   "execution_count": 45,
   "metadata": {},
   "outputs": [],
   "source": [
    "from langrila import InMemoryConversationMemory\n",
    "\n",
    "chatgpt = OpenAIFunctionalChat(\n",
    "    api_key_env_name=\"API_KEY\",\n",
    "    model_name=\"gpt-4o-mini-2024-07-18\",\n",
    "    tools=[power_disco_ball, start_music, dim_lights],\n",
    "    tool_configs=tool_configs,\n",
    "    conversation_memory=InMemoryConversationMemory(),\n",
    "    context_length=50,\n",
    ")"
   ]
  },
  {
   "cell_type": "code",
   "execution_count": 46,
   "metadata": {},
   "outputs": [],
   "source": [
    "prompt = \"Turn this place into a comfortable party mood!\"\n",
    "\n",
    "response = chatgpt.run(prompt, tool_choice=\"auto\")"
   ]
  },
  {
   "cell_type": "code",
   "execution_count": 47,
   "metadata": {},
   "outputs": [
    {
     "name": "stdout",
     "output_type": "stream",
     "text": [
      "Input message is truncated because total length of messages exceeds context length.\n",
      "Input message is truncated because total length of messages exceeds context length.\n"
     ]
    }
   ],
   "source": [
    "prompt = \"Can you make bpm up more?\"\n",
    "\n",
    "response = chatgpt.run(prompt=prompt, tool_choice=\"auto\")"
   ]
  },
  {
   "cell_type": "markdown",
   "metadata": {},
   "source": [
    "User message and assistant message are target of truncation while tool call message and tool result message is not."
   ]
  },
  {
   "cell_type": "code",
   "execution_count": 48,
   "metadata": {},
   "outputs": [
    {
     "name": "stdout",
     "output_type": "stream",
     "text": [
      "The music BPM has been increased to 180! Let's pump up the energy and keep the party going! 🎶💥\n"
     ]
    }
   ],
   "source": [
    "print(response.message.content[0].text)"
   ]
  },
  {
   "cell_type": "code",
   "execution_count": 49,
   "metadata": {},
   "outputs": [
    {
     "data": {
      "text/plain": [
       "Usage(prompt_tokens=209, completion_tokens=25, total_tokens=234)"
      ]
     },
     "execution_count": 49,
     "metadata": {},
     "output_type": "execute_result"
    }
   ],
   "source": [
    "response.usage"
   ]
  },
  {
   "cell_type": "code",
   "execution_count": 50,
   "metadata": {},
   "outputs": [
    {
     "data": {
      "text/plain": [
       "[{'content': None,\n",
       "  'role': 'assistant',\n",
       "  'function_call': None,\n",
       "  'tool_calls': [{'id': 'call_yWbs0vyyIUs3UWgjKSBk6ZKS',\n",
       "    'function': {'arguments': '{\"power\": true}', 'name': 'power_disco_ball'},\n",
       "    'type': 'function'},\n",
       "   {'id': 'call_tdd7A531OWXyEg6kCgFPVHDL',\n",
       "    'function': {'arguments': '{\"energetic\": true, \"loud\": true, \"bpm\": \"120\"}',\n",
       "     'name': 'start_music'},\n",
       "    'type': 'function'},\n",
       "   {'id': 'call_RDK53q5VKOQTODF5vvpY12is',\n",
       "    'function': {'arguments': '{\"brightness\": 0.5}', 'name': 'dim_lights'},\n",
       "    'type': 'function'}]},\n",
       " {'role': 'tool',\n",
       "  'tool_call_id': 'call_yWbs0vyyIUs3UWgjKSBk6ZKS',\n",
       "  'name': 'power_disco_ball',\n",
       "  'content': 'Disco ball is spinning!'},\n",
       " {'role': 'tool',\n",
       "  'tool_call_id': 'call_tdd7A531OWXyEg6kCgFPVHDL',\n",
       "  'name': 'start_music',\n",
       "  'content': \"Starting music! energetic=True loud=True, bpm='120'\"},\n",
       " {'role': 'tool',\n",
       "  'tool_call_id': 'call_RDK53q5VKOQTODF5vvpY12is',\n",
       "  'name': 'dim_lights',\n",
       "  'content': 'Lights are now set to 0.5'},\n",
       " {'role': 'assistant',\n",
       "  'name': None,\n",
       "  'content': [{'type': 'text',\n",
       "    'text': ' moving!\\n- The lights are dimmed to create a cozy yet vibrant ambiance.\\n\\nGet ready to have a great time! 🕺💃'}]},\n",
       " {'role': 'user',\n",
       "  'content': [{'type': 'text', 'text': 'Can you make bpm up more?'}],\n",
       "  'name': None},\n",
       " {'content': None,\n",
       "  'role': 'assistant',\n",
       "  'function_call': None,\n",
       "  'tool_calls': [{'id': 'call_FIxNKE7kFjnhPk9TkpWiBvuA',\n",
       "    'function': {'arguments': '{\"energetic\":true,\"loud\":true,\"bpm\":\"180\"}',\n",
       "     'name': 'start_music'},\n",
       "    'type': 'function'}]},\n",
       " {'role': 'tool',\n",
       "  'tool_call_id': 'call_FIxNKE7kFjnhPk9TkpWiBvuA',\n",
       "  'name': 'start_music',\n",
       "  'content': \"Starting music! energetic=True loud=True, bpm='180'\"}]"
      ]
     },
     "execution_count": 50,
     "metadata": {},
     "output_type": "execute_result"
    }
   ],
   "source": [
    "response.prompt"
   ]
  },
  {
   "cell_type": "code",
   "execution_count": 51,
   "metadata": {},
   "outputs": [
    {
     "data": {
      "text/plain": [
       "[{'role': 'user',\n",
       "  'content': [{'text': 'Turn this place into a comfortable party mood!'}],\n",
       "  'name': None},\n",
       " {'role': 'function_call',\n",
       "  'content': [{'name': 'power_disco_ball',\n",
       "    'args': '{\"power\": true}',\n",
       "    'call_id': 'call_yWbs0vyyIUs3UWgjKSBk6ZKS'},\n",
       "   {'name': 'start_music',\n",
       "    'args': '{\"energetic\": true, \"loud\": true, \"bpm\": \"120\"}',\n",
       "    'call_id': 'call_tdd7A531OWXyEg6kCgFPVHDL'},\n",
       "   {'name': 'dim_lights',\n",
       "    'args': '{\"brightness\": 0.5}',\n",
       "    'call_id': 'call_RDK53q5VKOQTODF5vvpY12is'}],\n",
       "  'name': None},\n",
       " {'role': 'function',\n",
       "  'content': [{'output': 'Disco ball is spinning!',\n",
       "    'call_id': 'call_yWbs0vyyIUs3UWgjKSBk6ZKS',\n",
       "    'args': '{\"power\": true}',\n",
       "    'funcname': 'power_disco_ball'}],\n",
       "  'name': None},\n",
       " {'role': 'function',\n",
       "  'content': [{'output': \"Starting music! energetic=True loud=True, bpm='120'\",\n",
       "    'call_id': 'call_tdd7A531OWXyEg6kCgFPVHDL',\n",
       "    'args': '{\"energetic\": true, \"loud\": true, \"bpm\": \"120\"}',\n",
       "    'funcname': 'start_music'}],\n",
       "  'name': None},\n",
       " {'role': 'function',\n",
       "  'content': [{'output': 'Lights are now set to 0.5',\n",
       "    'call_id': 'call_RDK53q5VKOQTODF5vvpY12is',\n",
       "    'args': '{\"brightness\": 0.5}',\n",
       "    'funcname': 'dim_lights'}],\n",
       "  'name': None},\n",
       " {'role': 'assistant',\n",
       "  'content': [{'text': 'The party mood is set! 🎉 \\n\\n- The disco ball is spinning, adding a fun sparkle to the atmosphere!\\n- The music is playing energetically at a lively 120 BPM, ready to get everyone moving!\\n- The lights are dimmed to create a cozy yet vibrant ambiance.\\n\\nGet ready to have a great time! 🕺💃'}],\n",
       "  'name': None},\n",
       " {'role': 'user',\n",
       "  'content': [{'text': 'Can you make bpm up more?'}],\n",
       "  'name': None},\n",
       " {'role': 'function_call',\n",
       "  'content': [{'name': 'start_music',\n",
       "    'args': '{\"energetic\":true,\"loud\":true,\"bpm\":\"180\"}',\n",
       "    'call_id': 'call_FIxNKE7kFjnhPk9TkpWiBvuA'}],\n",
       "  'name': None},\n",
       " {'role': 'function',\n",
       "  'content': [{'output': \"Starting music! energetic=True loud=True, bpm='180'\",\n",
       "    'call_id': 'call_FIxNKE7kFjnhPk9TkpWiBvuA',\n",
       "    'args': '{\"energetic\":true,\"loud\":true,\"bpm\":\"180\"}',\n",
       "    'funcname': 'start_music'}],\n",
       "  'name': None},\n",
       " {'role': 'assistant',\n",
       "  'content': [{'text': \"The music BPM has been increased to 180! Let's pump up the energy and keep the party going! 🎶💥\"}],\n",
       "  'name': None}]"
      ]
     },
     "execution_count": 51,
     "metadata": {},
     "output_type": "execute_result"
    }
   ],
   "source": [
    "# whole history\n",
    "chatgpt.conversation_memory.load()"
   ]
  },
  {
   "cell_type": "code",
   "execution_count": null,
   "metadata": {},
   "outputs": [],
   "source": []
  }
 ],
 "metadata": {
  "kernelspec": {
   "display_name": ".venv",
   "language": "python",
   "name": "python3"
  },
  "language_info": {
   "codemirror_mode": {
    "name": "ipython",
    "version": 3
   },
   "file_extension": ".py",
   "mimetype": "text/x-python",
   "name": "python",
   "nbconvert_exporter": "python",
   "pygments_lexer": "ipython3",
   "version": "3.10.12"
  }
 },
 "nbformat": 4,
 "nbformat_minor": 4
}
