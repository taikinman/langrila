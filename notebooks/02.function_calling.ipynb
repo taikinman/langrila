{
 "cells": [
  {
   "cell_type": "code",
   "execution_count": 1,
   "metadata": {},
   "outputs": [],
   "source": [
    "import os\n",
    "import warnings\n",
    "\n",
    "warnings.simplefilter(action=\"ignore\")\n",
    "os.environ[\"GRPC_VERBOSITY\"] = \"NONE\""
   ]
  },
  {
   "cell_type": "markdown",
   "metadata": {},
   "source": [
    "# Prerequisites"
   ]
  },
  {
   "cell_type": "markdown",
   "metadata": {},
   "source": [
    "Please make sure your environmental variables and dependencies are ready to use LLM services."
   ]
  },
  {
   "cell_type": "code",
   "execution_count": 2,
   "metadata": {},
   "outputs": [
    {
     "data": {
      "text/plain": [
       "True"
      ]
     },
     "execution_count": 2,
     "metadata": {},
     "output_type": "execute_result"
    }
   ],
   "source": [
    "from dotenv import load_dotenv\n",
    "\n",
    "load_dotenv(\"../../.env_api\")"
   ]
  },
  {
   "cell_type": "markdown",
   "metadata": {},
   "source": [
    "# How to input langrila's modules"
   ]
  },
  {
   "cell_type": "markdown",
   "metadata": {},
   "source": [
    "In langrila, universal message system allows you to handle each client message in a same way."
   ]
  },
  {
   "cell_type": "markdown",
   "metadata": {},
   "source": [
    "# Import modules"
   ]
  },
  {
   "cell_type": "code",
   "execution_count": 3,
   "metadata": {},
   "outputs": [],
   "source": [
    "from langrila import (\n",
    "    InMemoryConversationMemory,\n",
    "    ToolConfig,\n",
    "    ToolParameter,\n",
    "    ToolProperty,\n",
    ")\n",
    "from langrila.claude import ClaudeFunctionalChat\n",
    "from langrila.gemini import GeminiFunctionalChat\n",
    "from langrila.openai import OpenAIFunctionalChat"
   ]
  },
  {
   "cell_type": "markdown",
   "metadata": {},
   "source": [
    "# Define tools"
   ]
  },
  {
   "cell_type": "markdown",
   "metadata": {},
   "source": [
    "In this example, we can use these tools."
   ]
  },
  {
   "cell_type": "code",
   "execution_count": 4,
   "metadata": {},
   "outputs": [],
   "source": [
    "def power_disco_ball(power: bool) -> bool:\n",
    "    \"\"\"Powers the spinning disco ball.\"\"\"\n",
    "    return f\"Disco ball is {'spinning!' if power else 'stopped.'}\"\n",
    "\n",
    "\n",
    "def start_music(energetic: bool, loud: bool, bpm: str) -> str:\n",
    "    \"\"\"Play some music matching the specified parameters.\n",
    "\n",
    "    Args:\n",
    "      energetic: Whether the music is energetic or not.\n",
    "      loud: Whether the music is loud or not.\n",
    "      bpm: The beats per minute of the music.\n",
    "\n",
    "    Returns: The name of the song being played.\n",
    "    \"\"\"\n",
    "    return f\"Starting music! {energetic=} {loud=}, {bpm=}\"\n",
    "\n",
    "\n",
    "def dim_lights(brightness: float) -> bool:\n",
    "    \"\"\"Dim the lights.\n",
    "\n",
    "    Args:\n",
    "      brightness: The brightness of the lights, 0.0 is off, 1.0 is full.\n",
    "    \"\"\"\n",
    "    return f\"Lights are now set to {brightness}\""
   ]
  },
  {
   "cell_type": "markdown",
   "metadata": {},
   "source": [
    "# Tool definition"
   ]
  },
  {
   "cell_type": "markdown",
   "metadata": {},
   "source": [
    "In langrila, you can define tool configs via ToolProperty, ToolParameter and ToolConfig object."
   ]
  },
  {
   "cell_type": "code",
   "execution_count": 5,
   "metadata": {},
   "outputs": [],
   "source": [
    "tool_configs = [\n",
    "    ToolConfig(\n",
    "        name=\"power_disco_ball\",\n",
    "        description=\"Powers the spinning disco ball.\",\n",
    "        parameters=ToolParameter(\n",
    "            properties=[\n",
    "                ToolProperty(\n",
    "                    name=\"power\",\n",
    "                    type=\"boolean\",\n",
    "                    description=\"Boolean to spin disco ball.\",\n",
    "                ),\n",
    "            ],\n",
    "            required=[\"power\"],\n",
    "        ),\n",
    "    ),\n",
    "    ToolConfig(\n",
    "        name=\"start_music\",\n",
    "        description=\"Play some music matching the specified parameters.\",\n",
    "        parameters=ToolParameter(\n",
    "            properties=[\n",
    "                ToolProperty(\n",
    "                    name=\"energetic\",\n",
    "                    type=\"boolean\",\n",
    "                    description=\"Whether the music is energetic or not.\",\n",
    "                ),\n",
    "                ToolProperty(\n",
    "                    name=\"loud\", type=\"boolean\", description=\"Whether the music is loud or not.\"\n",
    "                ),\n",
    "                ToolProperty(\n",
    "                    name=\"bpm\",\n",
    "                    type=\"string\",\n",
    "                    description=\"The beats per minute of the music.\",\n",
    "                    enum=[\"60\", \"120\", \"180\"],  # Gemini doesn't support numerical enum\n",
    "                ),\n",
    "            ],\n",
    "            required=[\"energetic\", \"loud\", \"bpm\"],\n",
    "        ),\n",
    "    ),\n",
    "    ToolConfig(\n",
    "        name=\"dim_lights\",\n",
    "        description=\"Dim the lights.\",\n",
    "        parameters=ToolParameter(\n",
    "            properties=[\n",
    "                ToolProperty(\n",
    "                    name=\"brightness\",\n",
    "                    type=\"number\",\n",
    "                    description=\"The brightness of the lights, 0.0 is off, 1.0 is full.\",\n",
    "                ),\n",
    "            ],\n",
    "            required=[\"brightness\"],\n",
    "        ),\n",
    "    ),\n",
    "]"
   ]
  },
  {
   "cell_type": "code",
   "execution_count": 6,
   "metadata": {},
   "outputs": [],
   "source": [
    "prompt = \"Turn this place into a comfortable party mood!\""
   ]
  },
  {
   "cell_type": "markdown",
   "metadata": {},
   "source": [
    "### OpenAI Chat Completion"
   ]
  },
  {
   "cell_type": "markdown",
   "metadata": {},
   "source": [
    "ToolConfig object is internally converted to client tool configs"
   ]
  },
  {
   "cell_type": "code",
   "execution_count": 7,
   "metadata": {},
   "outputs": [],
   "source": [
    "chat_openai = OpenAIFunctionalChat(\n",
    "    api_key_env_name=\"API_KEY\",\n",
    "    model_name=\"gpt-4o-2024-08-06\",\n",
    "    tools=[power_disco_ball, start_music, dim_lights],\n",
    "    tool_configs=tool_configs,\n",
    ")"
   ]
  },
  {
   "cell_type": "code",
   "execution_count": 8,
   "metadata": {},
   "outputs": [
    {
     "data": {
      "text/plain": [
       "CompletionResults(message=Message(role='assistant', content=[TextContent(text='The place is now ready for a party! The disco ball is spinning, energetic music with a 120 BPM is playing, and the lights are dimmed to create a comfortable atmosphere. Enjoy the party!')], name=None), usage=Usage(prompt_tokens=305, completion_tokens=116, total_tokens=421), prompt=[{'role': 'user', 'content': [{'type': 'text', 'text': 'Turn this place into a comfortable party mood!'}], 'name': 'User'}, {'content': None, 'refusal': None, 'role': 'assistant', 'function_call': None, 'tool_calls': [{'id': 'call_5vxFCHm9zKFqKKzOKhWiq63b', 'function': {'arguments': '{\"power\": true}', 'name': 'power_disco_ball'}, 'type': 'function'}, {'id': 'call_VpEFSp5ZFFX780cXxMLA8ElH', 'function': {'arguments': '{\"energetic\": true, \"loud\": false, \"bpm\": \"120\"}', 'name': 'start_music'}, 'type': 'function'}, {'id': 'call_UFT5Q46iZoOEJ0hIYwGbgFC8', 'function': {'arguments': '{\"brightness\": 0.5}', 'name': 'dim_lights'}, 'type': 'function'}]}, {'role': 'tool', 'tool_call_id': 'call_5vxFCHm9zKFqKKzOKhWiq63b', 'name': 'power_disco_ball', 'content': 'Disco ball is spinning!'}, {'role': 'tool', 'tool_call_id': 'call_VpEFSp5ZFFX780cXxMLA8ElH', 'name': 'start_music', 'content': \"Starting music! energetic=True loud=False, bpm='120'\"}, {'role': 'tool', 'tool_call_id': 'call_UFT5Q46iZoOEJ0hIYwGbgFC8', 'name': 'dim_lights', 'content': 'Lights are now set to 0.5'}])"
      ]
     },
     "execution_count": 8,
     "metadata": {},
     "output_type": "execute_result"
    }
   ],
   "source": [
    "response = chat_openai.run(prompt)\n",
    "\n",
    "# Response is CompletionResults object\n",
    "response"
   ]
  },
  {
   "cell_type": "code",
   "execution_count": 9,
   "metadata": {},
   "outputs": [
    {
     "data": {
      "text/plain": [
       "{'message': {'role': 'assistant',\n",
       "  'content': [{'text': 'The place is now ready for a party! The disco ball is spinning, energetic music with a 120 BPM is playing, and the lights are dimmed to create a comfortable atmosphere. Enjoy the party!'}],\n",
       "  'name': None},\n",
       " 'usage': {'model_name': 'gpt-4o-2024-08-06',\n",
       "  'prompt_tokens': 305,\n",
       "  'completion_tokens': 116},\n",
       " 'prompt': [{'role': 'user',\n",
       "   'content': [{'type': 'text',\n",
       "     'text': 'Turn this place into a comfortable party mood!'}],\n",
       "   'name': 'User'},\n",
       "  {'content': None,\n",
       "   'refusal': None,\n",
       "   'role': 'assistant',\n",
       "   'function_call': None,\n",
       "   'tool_calls': [{'id': 'call_5vxFCHm9zKFqKKzOKhWiq63b',\n",
       "     'function': {'arguments': '{\"power\": true}', 'name': 'power_disco_ball'},\n",
       "     'type': 'function'},\n",
       "    {'id': 'call_VpEFSp5ZFFX780cXxMLA8ElH',\n",
       "     'function': {'arguments': '{\"energetic\": true, \"loud\": false, \"bpm\": \"120\"}',\n",
       "      'name': 'start_music'},\n",
       "     'type': 'function'},\n",
       "    {'id': 'call_UFT5Q46iZoOEJ0hIYwGbgFC8',\n",
       "     'function': {'arguments': '{\"brightness\": 0.5}', 'name': 'dim_lights'},\n",
       "     'type': 'function'}]},\n",
       "  {'role': 'tool',\n",
       "   'tool_call_id': 'call_5vxFCHm9zKFqKKzOKhWiq63b',\n",
       "   'name': 'power_disco_ball',\n",
       "   'content': 'Disco ball is spinning!'},\n",
       "  {'role': 'tool',\n",
       "   'tool_call_id': 'call_VpEFSp5ZFFX780cXxMLA8ElH',\n",
       "   'name': 'start_music',\n",
       "   'content': \"Starting music! energetic=True loud=False, bpm='120'\"},\n",
       "  {'role': 'tool',\n",
       "   'tool_call_id': 'call_UFT5Q46iZoOEJ0hIYwGbgFC8',\n",
       "   'name': 'dim_lights',\n",
       "   'content': 'Lights are now set to 0.5'}]}"
      ]
     },
     "execution_count": 9,
     "metadata": {},
     "output_type": "execute_result"
    }
   ],
   "source": [
    "response.model_dump()"
   ]
  },
  {
   "cell_type": "markdown",
   "metadata": {},
   "source": [
    "Asynchronous generation"
   ]
  },
  {
   "cell_type": "code",
   "execution_count": 10,
   "metadata": {},
   "outputs": [
    {
     "data": {
      "text/plain": [
       "CompletionResults(message=Message(role='assistant', content=[TextContent(text='The place is now in a comfortable party mood! The disco ball is spinning, energetic music is playing at 120 bpm, and the lights are dimmed to create the perfect atmosphere. Let the party begin!')], name=None), usage=Usage(prompt_tokens=305, completion_tokens=117, total_tokens=422), prompt=[{'role': 'user', 'content': [{'type': 'text', 'text': 'Turn this place into a comfortable party mood!'}], 'name': 'User'}, {'content': None, 'refusal': None, 'role': 'assistant', 'function_call': None, 'tool_calls': [{'id': 'call_UHijRuQrrwMA6f9HcIZpzSw6', 'function': {'arguments': '{\"power\": true}', 'name': 'power_disco_ball'}, 'type': 'function'}, {'id': 'call_PcHLWPLOpNWOgevsFXKg7RIQ', 'function': {'arguments': '{\"energetic\": true, \"loud\": true, \"bpm\": \"120\"}', 'name': 'start_music'}, 'type': 'function'}, {'id': 'call_et7J739rhbnORIql91231Yax', 'function': {'arguments': '{\"brightness\": 0.5}', 'name': 'dim_lights'}, 'type': 'function'}]}, {'role': 'tool', 'tool_call_id': 'call_UHijRuQrrwMA6f9HcIZpzSw6', 'name': 'power_disco_ball', 'content': 'Disco ball is spinning!'}, {'role': 'tool', 'tool_call_id': 'call_PcHLWPLOpNWOgevsFXKg7RIQ', 'name': 'start_music', 'content': \"Starting music! energetic=True loud=True, bpm='120'\"}, {'role': 'tool', 'tool_call_id': 'call_et7J739rhbnORIql91231Yax', 'name': 'dim_lights', 'content': 'Lights are now set to 0.5'}])"
      ]
     },
     "execution_count": 10,
     "metadata": {},
     "output_type": "execute_result"
    }
   ],
   "source": [
    "response = await chat_openai.arun(prompt)\n",
    "response"
   ]
  },
  {
   "cell_type": "markdown",
   "metadata": {},
   "source": [
    "multiple generation"
   ]
  },
  {
   "cell_type": "code",
   "execution_count": 11,
   "metadata": {},
   "outputs": [
    {
     "data": {
      "text/plain": [
       "{'role': 'assistant',\n",
       " 'content': [{'text': \"I've set the lights to a cozy level, got the disco ball spinning, and started some energetic music at 120 BPM to get the party going! Enjoy the comfortable party mood!\"},\n",
       "  {'text': 'The lights are now dimmed to create a cozy atmosphere, the disco ball is spinning, and energetic music is playing at 120 BPM to set the perfect party mood!'}],\n",
       " 'name': None}"
      ]
     },
     "execution_count": 11,
     "metadata": {},
     "output_type": "execute_result"
    }
   ],
   "source": [
    "response = chat_openai.run(prompt, n_results=2)\n",
    "response.message.model_dump()"
   ]
  },
  {
   "cell_type": "markdown",
   "metadata": {},
   "source": [
    "You can get the results from specific tool."
   ]
  },
  {
   "cell_type": "code",
   "execution_count": 12,
   "metadata": {},
   "outputs": [
    {
     "data": {
      "text/plain": [
       "{'message': {'role': 'assistant',\n",
       "  'content': [{'text': \"I've started some upbeat, energetic music for a lively party mood! Let me know if there's anything else you need to set the perfect atmosphere!\"}],\n",
       "  'name': None},\n",
       " 'usage': {'model_name': 'gpt-4o-2024-08-06',\n",
       "  'prompt_tokens': 244,\n",
       "  'completion_tokens': 45},\n",
       " 'prompt': [{'role': 'user',\n",
       "   'content': [{'type': 'text',\n",
       "     'text': 'Turn this place into a comfortable party mood!'}],\n",
       "   'name': 'User'},\n",
       "  {'content': None,\n",
       "   'refusal': None,\n",
       "   'role': 'assistant',\n",
       "   'function_call': None,\n",
       "   'tool_calls': [{'id': 'call_qEmsXkY8cJUrxOB9o3o1oeN5',\n",
       "     'function': {'arguments': '{\"energetic\":true,\"loud\":true,\"bpm\":\"120\"}',\n",
       "      'name': 'start_music'},\n",
       "     'type': 'function'}]},\n",
       "  {'role': 'tool',\n",
       "   'tool_call_id': 'call_qEmsXkY8cJUrxOB9o3o1oeN5',\n",
       "   'name': 'start_music',\n",
       "   'content': \"Starting music! energetic=True loud=True, bpm='120'\"}]}"
      ]
     },
     "execution_count": 12,
     "metadata": {},
     "output_type": "execute_result"
    }
   ],
   "source": [
    "response = chat_openai.run(prompt, tool_choice=\"start_music\")\n",
    "\n",
    "# Show result\n",
    "response.model_dump()"
   ]
  },
  {
   "cell_type": "markdown",
   "metadata": {},
   "source": [
    "If you specify tool_only option as True, you get the FunctionCallingResults object instead of CompletionResults object."
   ]
  },
  {
   "cell_type": "code",
   "execution_count": 13,
   "metadata": {},
   "outputs": [
    {
     "data": {
      "text/plain": [
       "FunctionCallingResults(usage=Usage(prompt_tokens=171, completion_tokens=75, total_tokens=246), results=[Message(role='function', content=[ToolContent(output='Disco ball is spinning!', call_id='call_PfgBbuklYGzApAR8fpOU7WNa', args='{\"power\": true}', funcname='power_disco_ball')], name='power_disco_ball'), Message(role='function', content=[ToolContent(output=\"Starting music! energetic=True loud=True, bpm='120'\", call_id='call_7LlGJ3NzJFUTDb93Nw61KbDW', args='{\"energetic\": true, \"loud\": true, \"bpm\": \"120\"}', funcname='start_music')], name='start_music'), Message(role='function', content=[ToolContent(output='Lights are now set to 0.5', call_id='call_JMcke4zDy1tuKrzrUYHUhPp9', args='{\"brightness\": 0.5}', funcname='dim_lights')], name='dim_lights')], calls=Message(role='function_call', content=[ToolCall(name='power_disco_ball', args='{\"power\": true}', call_id='call_PfgBbuklYGzApAR8fpOU7WNa'), ToolCall(name='start_music', args='{\"energetic\": true, \"loud\": true, \"bpm\": \"120\"}', call_id='call_7LlGJ3NzJFUTDb93Nw61KbDW'), ToolCall(name='dim_lights', args='{\"brightness\": 0.5}', call_id='call_JMcke4zDy1tuKrzrUYHUhPp9')], name=None), prompt=[{'role': 'user', 'content': [{'type': 'text', 'text': 'Turn this place into a comfortable party mood!'}], 'name': 'User'}])"
      ]
     },
     "execution_count": 13,
     "metadata": {},
     "output_type": "execute_result"
    }
   ],
   "source": [
    "response = chat_openai.run(prompt, tool_only=True)\n",
    "response"
   ]
  },
  {
   "cell_type": "code",
   "execution_count": 14,
   "metadata": {},
   "outputs": [
    {
     "data": {
      "text/plain": [
       "{'usage': {'model_name': 'gpt-4o-2024-08-06',\n",
       "  'prompt_tokens': 171,\n",
       "  'completion_tokens': 75},\n",
       " 'results': [{'role': 'function',\n",
       "   'content': [{'output': 'Disco ball is spinning!',\n",
       "     'call_id': 'call_PfgBbuklYGzApAR8fpOU7WNa',\n",
       "     'args': '{\"power\": true}',\n",
       "     'funcname': 'power_disco_ball'}],\n",
       "   'name': 'power_disco_ball'},\n",
       "  {'role': 'function',\n",
       "   'content': [{'output': \"Starting music! energetic=True loud=True, bpm='120'\",\n",
       "     'call_id': 'call_7LlGJ3NzJFUTDb93Nw61KbDW',\n",
       "     'args': '{\"energetic\": true, \"loud\": true, \"bpm\": \"120\"}',\n",
       "     'funcname': 'start_music'}],\n",
       "   'name': 'start_music'},\n",
       "  {'role': 'function',\n",
       "   'content': [{'output': 'Lights are now set to 0.5',\n",
       "     'call_id': 'call_JMcke4zDy1tuKrzrUYHUhPp9',\n",
       "     'args': '{\"brightness\": 0.5}',\n",
       "     'funcname': 'dim_lights'}],\n",
       "   'name': 'dim_lights'}],\n",
       " 'calls': {'role': 'function_call',\n",
       "  'content': [{'name': 'power_disco_ball',\n",
       "    'args': '{\"power\": true}',\n",
       "    'call_id': 'call_PfgBbuklYGzApAR8fpOU7WNa'},\n",
       "   {'name': 'start_music',\n",
       "    'args': '{\"energetic\": true, \"loud\": true, \"bpm\": \"120\"}',\n",
       "    'call_id': 'call_7LlGJ3NzJFUTDb93Nw61KbDW'},\n",
       "   {'name': 'dim_lights',\n",
       "    'args': '{\"brightness\": 0.5}',\n",
       "    'call_id': 'call_JMcke4zDy1tuKrzrUYHUhPp9'}],\n",
       "  'name': None},\n",
       " 'prompt': [{'role': 'user',\n",
       "   'content': [{'type': 'text',\n",
       "     'text': 'Turn this place into a comfortable party mood!'}],\n",
       "   'name': 'User'}]}"
      ]
     },
     "execution_count": 14,
     "metadata": {},
     "output_type": "execute_result"
    }
   ],
   "source": [
    "response.model_dump()"
   ]
  },
  {
   "cell_type": "code",
   "execution_count": 15,
   "metadata": {},
   "outputs": [
    {
     "data": {
      "text/plain": [
       "[Message(role='function', content=[ToolContent(output='Disco ball is spinning!', call_id='call_PfgBbuklYGzApAR8fpOU7WNa', args='{\"power\": true}', funcname='power_disco_ball')], name='power_disco_ball'),\n",
       " Message(role='function', content=[ToolContent(output=\"Starting music! energetic=True loud=True, bpm='120'\", call_id='call_7LlGJ3NzJFUTDb93Nw61KbDW', args='{\"energetic\": true, \"loud\": true, \"bpm\": \"120\"}', funcname='start_music')], name='start_music'),\n",
       " Message(role='function', content=[ToolContent(output='Lights are now set to 0.5', call_id='call_JMcke4zDy1tuKrzrUYHUhPp9', args='{\"brightness\": 0.5}', funcname='dim_lights')], name='dim_lights')]"
      ]
     },
     "execution_count": 15,
     "metadata": {},
     "output_type": "execute_result"
    }
   ],
   "source": [
    "# Tool result messages\n",
    "\n",
    "response.results"
   ]
  },
  {
   "cell_type": "code",
   "execution_count": 16,
   "metadata": {},
   "outputs": [
    {
     "data": {
      "text/plain": [
       "Message(role='function_call', content=[ToolCall(name='power_disco_ball', args='{\"power\": true}', call_id='call_PfgBbuklYGzApAR8fpOU7WNa'), ToolCall(name='start_music', args='{\"energetic\": true, \"loud\": true, \"bpm\": \"120\"}', call_id='call_7LlGJ3NzJFUTDb93Nw61KbDW'), ToolCall(name='dim_lights', args='{\"brightness\": 0.5}', call_id='call_JMcke4zDy1tuKrzrUYHUhPp9')], name=None)"
      ]
     },
     "execution_count": 16,
     "metadata": {},
     "output_type": "execute_result"
    }
   ],
   "source": [
    "# Tool call messages\n",
    "\n",
    "response.calls"
   ]
  },
  {
   "cell_type": "markdown",
   "metadata": {},
   "source": [
    "Streaming"
   ]
  },
  {
   "cell_type": "code",
   "execution_count": 8,
   "metadata": {},
   "outputs": [
    {
     "data": {
      "text/plain": [
       "[CompletionResults(message=Message(role='assistant', content=[TextContent(text='')], name=None), usage=Usage(prompt_tokens=0, completion_tokens=0, total_tokens=0), prompt=[{}]),\n",
       " CompletionResults(message=Message(role='assistant', content=[TextContent(text='The')], name=None), usage=Usage(prompt_tokens=0, completion_tokens=0, total_tokens=0), prompt=[{}]),\n",
       " CompletionResults(message=Message(role='assistant', content=[TextContent(text='The disco')], name=None), usage=Usage(prompt_tokens=0, completion_tokens=0, total_tokens=0), prompt=[{}]),\n",
       " CompletionResults(message=Message(role='assistant', content=[TextContent(text='The disco ball')], name=None), usage=Usage(prompt_tokens=0, completion_tokens=0, total_tokens=0), prompt=[{}]),\n",
       " CompletionResults(message=Message(role='assistant', content=[TextContent(text='The disco ball is')], name=None), usage=Usage(prompt_tokens=0, completion_tokens=0, total_tokens=0), prompt=[{}]),\n",
       " CompletionResults(message=Message(role='assistant', content=[TextContent(text='The disco ball is spinning')], name=None), usage=Usage(prompt_tokens=0, completion_tokens=0, total_tokens=0), prompt=[{}]),\n",
       " CompletionResults(message=Message(role='assistant', content=[TextContent(text='The disco ball is spinning,')], name=None), usage=Usage(prompt_tokens=0, completion_tokens=0, total_tokens=0), prompt=[{}]),\n",
       " CompletionResults(message=Message(role='assistant', content=[TextContent(text='The disco ball is spinning, energetic')], name=None), usage=Usage(prompt_tokens=0, completion_tokens=0, total_tokens=0), prompt=[{}]),\n",
       " CompletionResults(message=Message(role='assistant', content=[TextContent(text='The disco ball is spinning, energetic music')], name=None), usage=Usage(prompt_tokens=0, completion_tokens=0, total_tokens=0), prompt=[{}]),\n",
       " CompletionResults(message=Message(role='assistant', content=[TextContent(text='The disco ball is spinning, energetic music is')], name=None), usage=Usage(prompt_tokens=0, completion_tokens=0, total_tokens=0), prompt=[{}]),\n",
       " CompletionResults(message=Message(role='assistant', content=[TextContent(text='The disco ball is spinning, energetic music is playing')], name=None), usage=Usage(prompt_tokens=0, completion_tokens=0, total_tokens=0), prompt=[{}]),\n",
       " CompletionResults(message=Message(role='assistant', content=[TextContent(text='The disco ball is spinning, energetic music is playing at')], name=None), usage=Usage(prompt_tokens=0, completion_tokens=0, total_tokens=0), prompt=[{}]),\n",
       " CompletionResults(message=Message(role='assistant', content=[TextContent(text='The disco ball is spinning, energetic music is playing at ')], name=None), usage=Usage(prompt_tokens=0, completion_tokens=0, total_tokens=0), prompt=[{}]),\n",
       " CompletionResults(message=Message(role='assistant', content=[TextContent(text='The disco ball is spinning, energetic music is playing at 120')], name=None), usage=Usage(prompt_tokens=0, completion_tokens=0, total_tokens=0), prompt=[{}]),\n",
       " CompletionResults(message=Message(role='assistant', content=[TextContent(text='The disco ball is spinning, energetic music is playing at 120 BPM')], name=None), usage=Usage(prompt_tokens=0, completion_tokens=0, total_tokens=0), prompt=[{}]),\n",
       " CompletionResults(message=Message(role='assistant', content=[TextContent(text='The disco ball is spinning, energetic music is playing at 120 BPM,')], name=None), usage=Usage(prompt_tokens=0, completion_tokens=0, total_tokens=0), prompt=[{}]),\n",
       " CompletionResults(message=Message(role='assistant', content=[TextContent(text='The disco ball is spinning, energetic music is playing at 120 BPM, and')], name=None), usage=Usage(prompt_tokens=0, completion_tokens=0, total_tokens=0), prompt=[{}]),\n",
       " CompletionResults(message=Message(role='assistant', content=[TextContent(text='The disco ball is spinning, energetic music is playing at 120 BPM, and the')], name=None), usage=Usage(prompt_tokens=0, completion_tokens=0, total_tokens=0), prompt=[{}]),\n",
       " CompletionResults(message=Message(role='assistant', content=[TextContent(text='The disco ball is spinning, energetic music is playing at 120 BPM, and the lights')], name=None), usage=Usage(prompt_tokens=0, completion_tokens=0, total_tokens=0), prompt=[{}]),\n",
       " CompletionResults(message=Message(role='assistant', content=[TextContent(text='The disco ball is spinning, energetic music is playing at 120 BPM, and the lights are')], name=None), usage=Usage(prompt_tokens=0, completion_tokens=0, total_tokens=0), prompt=[{}]),\n",
       " CompletionResults(message=Message(role='assistant', content=[TextContent(text='The disco ball is spinning, energetic music is playing at 120 BPM, and the lights are dim')], name=None), usage=Usage(prompt_tokens=0, completion_tokens=0, total_tokens=0), prompt=[{}]),\n",
       " CompletionResults(message=Message(role='assistant', content=[TextContent(text='The disco ball is spinning, energetic music is playing at 120 BPM, and the lights are dimmed')], name=None), usage=Usage(prompt_tokens=0, completion_tokens=0, total_tokens=0), prompt=[{}]),\n",
       " CompletionResults(message=Message(role='assistant', content=[TextContent(text='The disco ball is spinning, energetic music is playing at 120 BPM, and the lights are dimmed to')], name=None), usage=Usage(prompt_tokens=0, completion_tokens=0, total_tokens=0), prompt=[{}]),\n",
       " CompletionResults(message=Message(role='assistant', content=[TextContent(text='The disco ball is spinning, energetic music is playing at 120 BPM, and the lights are dimmed to create')], name=None), usage=Usage(prompt_tokens=0, completion_tokens=0, total_tokens=0), prompt=[{}]),\n",
       " CompletionResults(message=Message(role='assistant', content=[TextContent(text='The disco ball is spinning, energetic music is playing at 120 BPM, and the lights are dimmed to create a')], name=None), usage=Usage(prompt_tokens=0, completion_tokens=0, total_tokens=0), prompt=[{}]),\n",
       " CompletionResults(message=Message(role='assistant', content=[TextContent(text='The disco ball is spinning, energetic music is playing at 120 BPM, and the lights are dimmed to create a comfortable')], name=None), usage=Usage(prompt_tokens=0, completion_tokens=0, total_tokens=0), prompt=[{}]),\n",
       " CompletionResults(message=Message(role='assistant', content=[TextContent(text='The disco ball is spinning, energetic music is playing at 120 BPM, and the lights are dimmed to create a comfortable party')], name=None), usage=Usage(prompt_tokens=0, completion_tokens=0, total_tokens=0), prompt=[{}]),\n",
       " CompletionResults(message=Message(role='assistant', content=[TextContent(text='The disco ball is spinning, energetic music is playing at 120 BPM, and the lights are dimmed to create a comfortable party mood')], name=None), usage=Usage(prompt_tokens=0, completion_tokens=0, total_tokens=0), prompt=[{}]),\n",
       " CompletionResults(message=Message(role='assistant', content=[TextContent(text='The disco ball is spinning, energetic music is playing at 120 BPM, and the lights are dimmed to create a comfortable party mood.')], name=None), usage=Usage(prompt_tokens=0, completion_tokens=0, total_tokens=0), prompt=[{}]),\n",
       " CompletionResults(message=Message(role='assistant', content=[TextContent(text='The disco ball is spinning, energetic music is playing at 120 BPM, and the lights are dimmed to create a comfortable party mood. Enjoy')], name=None), usage=Usage(prompt_tokens=0, completion_tokens=0, total_tokens=0), prompt=[{}]),\n",
       " CompletionResults(message=Message(role='assistant', content=[TextContent(text='The disco ball is spinning, energetic music is playing at 120 BPM, and the lights are dimmed to create a comfortable party mood. Enjoy the')], name=None), usage=Usage(prompt_tokens=0, completion_tokens=0, total_tokens=0), prompt=[{}]),\n",
       " CompletionResults(message=Message(role='assistant', content=[TextContent(text='The disco ball is spinning, energetic music is playing at 120 BPM, and the lights are dimmed to create a comfortable party mood. Enjoy the celebration')], name=None), usage=Usage(prompt_tokens=0, completion_tokens=0, total_tokens=0), prompt=[{}]),\n",
       " CompletionResults(message=Message(role='assistant', content=[TextContent(text='The disco ball is spinning, energetic music is playing at 120 BPM, and the lights are dimmed to create a comfortable party mood. Enjoy the celebration!')], name=None), usage=Usage(prompt_tokens=0, completion_tokens=0, total_tokens=0), prompt=[{}]),\n",
       " CompletionResults(message=Message(role='assistant', content=[TextContent(text='The disco ball is spinning, energetic music is playing at 120 BPM, and the lights are dimmed to create a comfortable party mood. Enjoy the celebration! 🕺')], name=None), usage=Usage(prompt_tokens=0, completion_tokens=0, total_tokens=0), prompt=[{}]),\n",
       " CompletionResults(message=Message(role='assistant', content=[TextContent(text='The disco ball is spinning, energetic music is playing at 120 BPM, and the lights are dimmed to create a comfortable party mood. Enjoy the celebration! 🕺🎉')], name=None), usage=Usage(prompt_tokens=0, completion_tokens=0, total_tokens=0), prompt=[{}]),\n",
       " CompletionResults(message=Message(role='assistant', content=[TextContent(text='The disco ball is spinning, energetic music is playing at 120 BPM, and the lights are dimmed to create a comfortable party mood. Enjoy the celebration! 🕺🎉')], name=None), usage=Usage(prompt_tokens=305, completion_tokens=112, total_tokens=417), prompt=[{'role': 'user', 'content': [{'type': 'text', 'text': 'Turn this place into a comfortable party mood!'}], 'name': 'User'}, {'content': None, 'refusal': None, 'role': 'assistant', 'function_call': None, 'tool_calls': [{'id': 'call_gKo0XEvxrA0rXZbRla5xVzDI', 'function': {'arguments': '{\"power\": true}', 'name': 'power_disco_ball'}, 'type': 'function'}, {'id': 'call_6AiWiQkROZQYBYP7tXNjUafj', 'function': {'arguments': '{\"energetic\": true, \"loud\": true, \"bpm\": \"120\"}', 'name': 'start_music'}, 'type': 'function'}, {'id': 'call_HGgUxDckJ6Jx8TD3auOwOGbR', 'function': {'arguments': '{\"brightness\": 0.5}', 'name': 'dim_lights'}, 'type': 'function'}]}, {'role': 'tool', 'tool_call_id': 'call_gKo0XEvxrA0rXZbRla5xVzDI', 'name': 'power_disco_ball', 'content': 'Disco ball is spinning!'}, {'role': 'tool', 'tool_call_id': 'call_6AiWiQkROZQYBYP7tXNjUafj', 'name': 'start_music', 'content': \"Starting music! energetic=True loud=True, bpm='120'\"}, {'role': 'tool', 'tool_call_id': 'call_HGgUxDckJ6Jx8TD3auOwOGbR', 'name': 'dim_lights', 'content': 'Lights are now set to 0.5'}])]"
      ]
     },
     "execution_count": 8,
     "metadata": {},
     "output_type": "execute_result"
    }
   ],
   "source": [
    "response = chat_openai.stream(prompt)\n",
    "\n",
    "# Response is CompletionResults object\n",
    "[r for r in response]"
   ]
  },
  {
   "cell_type": "code",
   "execution_count": 11,
   "metadata": {},
   "outputs": [
    {
     "data": {
      "text/plain": [
       "[CompletionResults(message=Message(role='assistant', content=[TextContent(text='')], name=None), usage=Usage(prompt_tokens=0, completion_tokens=0, total_tokens=0), prompt=[{}]),\n",
       " CompletionResults(message=Message(role='assistant', content=[TextContent(text='The')], name=None), usage=Usage(prompt_tokens=0, completion_tokens=0, total_tokens=0), prompt=[{}]),\n",
       " CompletionResults(message=Message(role='assistant', content=[TextContent(text='The party')], name=None), usage=Usage(prompt_tokens=0, completion_tokens=0, total_tokens=0), prompt=[{}]),\n",
       " CompletionResults(message=Message(role='assistant', content=[TextContent(text='The party mood')], name=None), usage=Usage(prompt_tokens=0, completion_tokens=0, total_tokens=0), prompt=[{}]),\n",
       " CompletionResults(message=Message(role='assistant', content=[TextContent(text='The party mood is')], name=None), usage=Usage(prompt_tokens=0, completion_tokens=0, total_tokens=0), prompt=[{}]),\n",
       " CompletionResults(message=Message(role='assistant', content=[TextContent(text='The party mood is on')], name=None), usage=Usage(prompt_tokens=0, completion_tokens=0, total_tokens=0), prompt=[{}]),\n",
       " CompletionResults(message=Message(role='assistant', content=[TextContent(text='The party mood is on!')], name=None), usage=Usage(prompt_tokens=0, completion_tokens=0, total_tokens=0), prompt=[{}]),\n",
       " CompletionResults(message=Message(role='assistant', content=[TextContent(text='The party mood is on! The')], name=None), usage=Usage(prompt_tokens=0, completion_tokens=0, total_tokens=0), prompt=[{}]),\n",
       " CompletionResults(message=Message(role='assistant', content=[TextContent(text='The party mood is on! The disco')], name=None), usage=Usage(prompt_tokens=0, completion_tokens=0, total_tokens=0), prompt=[{}]),\n",
       " CompletionResults(message=Message(role='assistant', content=[TextContent(text='The party mood is on! The disco ball')], name=None), usage=Usage(prompt_tokens=0, completion_tokens=0, total_tokens=0), prompt=[{}]),\n",
       " CompletionResults(message=Message(role='assistant', content=[TextContent(text='The party mood is on! The disco ball is')], name=None), usage=Usage(prompt_tokens=0, completion_tokens=0, total_tokens=0), prompt=[{}]),\n",
       " CompletionResults(message=Message(role='assistant', content=[TextContent(text='The party mood is on! The disco ball is spinning')], name=None), usage=Usage(prompt_tokens=0, completion_tokens=0, total_tokens=0), prompt=[{}]),\n",
       " CompletionResults(message=Message(role='assistant', content=[TextContent(text='The party mood is on! The disco ball is spinning,')], name=None), usage=Usage(prompt_tokens=0, completion_tokens=0, total_tokens=0), prompt=[{}]),\n",
       " CompletionResults(message=Message(role='assistant', content=[TextContent(text='The party mood is on! The disco ball is spinning, the')], name=None), usage=Usage(prompt_tokens=0, completion_tokens=0, total_tokens=0), prompt=[{}]),\n",
       " CompletionResults(message=Message(role='assistant', content=[TextContent(text='The party mood is on! The disco ball is spinning, the energetic')], name=None), usage=Usage(prompt_tokens=0, completion_tokens=0, total_tokens=0), prompt=[{}]),\n",
       " CompletionResults(message=Message(role='assistant', content=[TextContent(text='The party mood is on! The disco ball is spinning, the energetic music')], name=None), usage=Usage(prompt_tokens=0, completion_tokens=0, total_tokens=0), prompt=[{}]),\n",
       " CompletionResults(message=Message(role='assistant', content=[TextContent(text='The party mood is on! The disco ball is spinning, the energetic music is')], name=None), usage=Usage(prompt_tokens=0, completion_tokens=0, total_tokens=0), prompt=[{}]),\n",
       " CompletionResults(message=Message(role='assistant', content=[TextContent(text='The party mood is on! The disco ball is spinning, the energetic music is pumping')], name=None), usage=Usage(prompt_tokens=0, completion_tokens=0, total_tokens=0), prompt=[{}]),\n",
       " CompletionResults(message=Message(role='assistant', content=[TextContent(text='The party mood is on! The disco ball is spinning, the energetic music is pumping at')], name=None), usage=Usage(prompt_tokens=0, completion_tokens=0, total_tokens=0), prompt=[{}]),\n",
       " CompletionResults(message=Message(role='assistant', content=[TextContent(text='The party mood is on! The disco ball is spinning, the energetic music is pumping at ')], name=None), usage=Usage(prompt_tokens=0, completion_tokens=0, total_tokens=0), prompt=[{}]),\n",
       " CompletionResults(message=Message(role='assistant', content=[TextContent(text='The party mood is on! The disco ball is spinning, the energetic music is pumping at 120')], name=None), usage=Usage(prompt_tokens=0, completion_tokens=0, total_tokens=0), prompt=[{}]),\n",
       " CompletionResults(message=Message(role='assistant', content=[TextContent(text='The party mood is on! The disco ball is spinning, the energetic music is pumping at 120 BPM')], name=None), usage=Usage(prompt_tokens=0, completion_tokens=0, total_tokens=0), prompt=[{}]),\n",
       " CompletionResults(message=Message(role='assistant', content=[TextContent(text='The party mood is on! The disco ball is spinning, the energetic music is pumping at 120 BPM,')], name=None), usage=Usage(prompt_tokens=0, completion_tokens=0, total_tokens=0), prompt=[{}]),\n",
       " CompletionResults(message=Message(role='assistant', content=[TextContent(text='The party mood is on! The disco ball is spinning, the energetic music is pumping at 120 BPM, and')], name=None), usage=Usage(prompt_tokens=0, completion_tokens=0, total_tokens=0), prompt=[{}]),\n",
       " CompletionResults(message=Message(role='assistant', content=[TextContent(text='The party mood is on! The disco ball is spinning, the energetic music is pumping at 120 BPM, and the')], name=None), usage=Usage(prompt_tokens=0, completion_tokens=0, total_tokens=0), prompt=[{}]),\n",
       " CompletionResults(message=Message(role='assistant', content=[TextContent(text='The party mood is on! The disco ball is spinning, the energetic music is pumping at 120 BPM, and the lights')], name=None), usage=Usage(prompt_tokens=0, completion_tokens=0, total_tokens=0), prompt=[{}]),\n",
       " CompletionResults(message=Message(role='assistant', content=[TextContent(text='The party mood is on! The disco ball is spinning, the energetic music is pumping at 120 BPM, and the lights are')], name=None), usage=Usage(prompt_tokens=0, completion_tokens=0, total_tokens=0), prompt=[{}]),\n",
       " CompletionResults(message=Message(role='assistant', content=[TextContent(text='The party mood is on! The disco ball is spinning, the energetic music is pumping at 120 BPM, and the lights are dim')], name=None), usage=Usage(prompt_tokens=0, completion_tokens=0, total_tokens=0), prompt=[{}]),\n",
       " CompletionResults(message=Message(role='assistant', content=[TextContent(text='The party mood is on! The disco ball is spinning, the energetic music is pumping at 120 BPM, and the lights are dimmed')], name=None), usage=Usage(prompt_tokens=0, completion_tokens=0, total_tokens=0), prompt=[{}]),\n",
       " CompletionResults(message=Message(role='assistant', content=[TextContent(text='The party mood is on! The disco ball is spinning, the energetic music is pumping at 120 BPM, and the lights are dimmed to')], name=None), usage=Usage(prompt_tokens=0, completion_tokens=0, total_tokens=0), prompt=[{}]),\n",
       " CompletionResults(message=Message(role='assistant', content=[TextContent(text='The party mood is on! The disco ball is spinning, the energetic music is pumping at 120 BPM, and the lights are dimmed to create')], name=None), usage=Usage(prompt_tokens=0, completion_tokens=0, total_tokens=0), prompt=[{}]),\n",
       " CompletionResults(message=Message(role='assistant', content=[TextContent(text='The party mood is on! The disco ball is spinning, the energetic music is pumping at 120 BPM, and the lights are dimmed to create the')], name=None), usage=Usage(prompt_tokens=0, completion_tokens=0, total_tokens=0), prompt=[{}]),\n",
       " CompletionResults(message=Message(role='assistant', content=[TextContent(text='The party mood is on! The disco ball is spinning, the energetic music is pumping at 120 BPM, and the lights are dimmed to create the perfect')], name=None), usage=Usage(prompt_tokens=0, completion_tokens=0, total_tokens=0), prompt=[{}]),\n",
       " CompletionResults(message=Message(role='assistant', content=[TextContent(text='The party mood is on! The disco ball is spinning, the energetic music is pumping at 120 BPM, and the lights are dimmed to create the perfect atmosphere')], name=None), usage=Usage(prompt_tokens=0, completion_tokens=0, total_tokens=0), prompt=[{}]),\n",
       " CompletionResults(message=Message(role='assistant', content=[TextContent(text='The party mood is on! The disco ball is spinning, the energetic music is pumping at 120 BPM, and the lights are dimmed to create the perfect atmosphere.')], name=None), usage=Usage(prompt_tokens=0, completion_tokens=0, total_tokens=0), prompt=[{}]),\n",
       " CompletionResults(message=Message(role='assistant', content=[TextContent(text='The party mood is on! The disco ball is spinning, the energetic music is pumping at 120 BPM, and the lights are dimmed to create the perfect atmosphere. Enjoy')], name=None), usage=Usage(prompt_tokens=0, completion_tokens=0, total_tokens=0), prompt=[{}]),\n",
       " CompletionResults(message=Message(role='assistant', content=[TextContent(text='The party mood is on! The disco ball is spinning, the energetic music is pumping at 120 BPM, and the lights are dimmed to create the perfect atmosphere. Enjoy the')], name=None), usage=Usage(prompt_tokens=0, completion_tokens=0, total_tokens=0), prompt=[{}]),\n",
       " CompletionResults(message=Message(role='assistant', content=[TextContent(text='The party mood is on! The disco ball is spinning, the energetic music is pumping at 120 BPM, and the lights are dimmed to create the perfect atmosphere. Enjoy the party')], name=None), usage=Usage(prompt_tokens=0, completion_tokens=0, total_tokens=0), prompt=[{}]),\n",
       " CompletionResults(message=Message(role='assistant', content=[TextContent(text='The party mood is on! The disco ball is spinning, the energetic music is pumping at 120 BPM, and the lights are dimmed to create the perfect atmosphere. Enjoy the party!')], name=None), usage=Usage(prompt_tokens=0, completion_tokens=0, total_tokens=0), prompt=[{}]),\n",
       " CompletionResults(message=Message(role='assistant', content=[TextContent(text='The party mood is on! The disco ball is spinning, the energetic music is pumping at 120 BPM, and the lights are dimmed to create the perfect atmosphere. Enjoy the party! \\U0001faa9')], name=None), usage=Usage(prompt_tokens=0, completion_tokens=0, total_tokens=0), prompt=[{}]),\n",
       " CompletionResults(message=Message(role='assistant', content=[TextContent(text='The party mood is on! The disco ball is spinning, the energetic music is pumping at 120 BPM, and the lights are dimmed to create the perfect atmosphere. Enjoy the party! \\U0001faa9🎶')], name=None), usage=Usage(prompt_tokens=0, completion_tokens=0, total_tokens=0), prompt=[{}]),\n",
       " CompletionResults(message=Message(role='assistant', content=[TextContent(text='The party mood is on! The disco ball is spinning, the energetic music is pumping at 120 BPM, and the lights are dimmed to create the perfect atmosphere. Enjoy the party! \\U0001faa9🎶✨')], name=None), usage=Usage(prompt_tokens=0, completion_tokens=0, total_tokens=0), prompt=[{}]),\n",
       " CompletionResults(message=Message(role='assistant', content=[TextContent(text='The party mood is on! The disco ball is spinning, the energetic music is pumping at 120 BPM, and the lights are dimmed to create the perfect atmosphere. Enjoy the party! \\U0001faa9🎶✨')], name=None), usage=Usage(prompt_tokens=305, completion_tokens=119, total_tokens=424), prompt=[{'role': 'user', 'content': [{'type': 'text', 'text': 'Turn this place into a comfortable party mood!'}], 'name': 'User'}, {'content': None, 'refusal': None, 'role': 'assistant', 'function_call': None, 'tool_calls': [{'id': 'call_9b47Hjo2rahi9w2xB7Ogaxni', 'function': {'arguments': '{\"power\": true}', 'name': 'power_disco_ball'}, 'type': 'function'}, {'id': 'call_QcvEjBgMMHvZuZgbbChbCQjK', 'function': {'arguments': '{\"energetic\": true, \"loud\": true, \"bpm\": \"120\"}', 'name': 'start_music'}, 'type': 'function'}, {'id': 'call_pmo5G9SO1tyz2A645TzNaMYx', 'function': {'arguments': '{\"brightness\": 0.5}', 'name': 'dim_lights'}, 'type': 'function'}]}, {'role': 'tool', 'tool_call_id': 'call_9b47Hjo2rahi9w2xB7Ogaxni', 'name': 'power_disco_ball', 'content': 'Disco ball is spinning!'}, {'role': 'tool', 'tool_call_id': 'call_QcvEjBgMMHvZuZgbbChbCQjK', 'name': 'start_music', 'content': \"Starting music! energetic=True loud=True, bpm='120'\"}, {'role': 'tool', 'tool_call_id': 'call_pmo5G9SO1tyz2A645TzNaMYx', 'name': 'dim_lights', 'content': 'Lights are now set to 0.5'}])]"
      ]
     },
     "execution_count": 11,
     "metadata": {},
     "output_type": "execute_result"
    }
   ],
   "source": [
    "response = chat_openai.astream(prompt)\n",
    "\n",
    "# Response is CompletionResults object\n",
    "[r async for r in response]"
   ]
  },
  {
   "cell_type": "markdown",
   "metadata": {},
   "source": [
    "# Pydantic tools"
   ]
  },
  {
   "cell_type": "markdown",
   "metadata": {},
   "source": [
    "You can define tools as pydantic models. To use pydantic model as tool, make sure the following points: \n",
    "\n",
    "- Write description of top level docstring field in the class. This is used for tool description.\n",
    "- Define each argument fileds with description\n",
    "- Implement run() method."
   ]
  },
  {
   "cell_type": "markdown",
   "metadata": {},
   "source": [
    "Tool definition using `ToolProperty`, `ToolParameter` and `ToolConfig` is almost equivalent to the following way. "
   ]
  },
  {
   "cell_type": "code",
   "execution_count": 17,
   "metadata": {},
   "outputs": [],
   "source": [
    "from enum import Enum\n",
    "from typing import Literal\n",
    "\n",
    "from pydantic import BaseModel, Field\n",
    "\n",
    "\n",
    "class PowerDiscoBall(BaseModel):\n",
    "    \"\"\"Powers the spinning disco ball.\"\"\"\n",
    "\n",
    "    power: bool = Field(description=\"Boolean to spin disco ball.\")\n",
    "\n",
    "    def run(self) -> str:\n",
    "        return f\"Disco ball is {'spinning!' if self.power else 'stopped.'}\"\n",
    "\n",
    "\n",
    "class DimLights(BaseModel):\n",
    "    \"\"\"Dim the lights.\"\"\"\n",
    "\n",
    "    brightness: float = Field(description=\"The brightness of the lights, 0.0 is off, 1.0 is full.\")\n",
    "\n",
    "    def run(self) -> str:\n",
    "        return f\"Lights are now set to {self.brightness}\"\n",
    "\n",
    "\n",
    "class BPM(Enum):\n",
    "    \"\"\"The beats per minute of the music.\"\"\"\n",
    "\n",
    "    SLOW = \"60\"\n",
    "    MEDIUM = \"120\"\n",
    "    FAST = \"180\"\n",
    "\n",
    "\n",
    "class StartMusic(BaseModel):\n",
    "    \"\"\"Play some music matching the specified parameters.\"\"\"\n",
    "\n",
    "    energetic: bool = Field(description=\"Whether the music is energetic or not.\")\n",
    "    loud: bool = Field(description=\"Whether the music is loud or not.\")\n",
    "    bpm: BPM = Field(description=\"The beats per minute of the music.\")\n",
    "    # bpm: Literal[\"60\", \"120\", \"180\"] = Field(..., description=\"The beats per minute of the music.\") # This also works\n",
    "\n",
    "    def run(self) -> str:\n",
    "        return f\"Starting music! {self.energetic=} {self.loud=}, {self.bpm=}\""
   ]
  },
  {
   "cell_type": "code",
   "execution_count": 18,
   "metadata": {},
   "outputs": [],
   "source": [
    "# Convert to ToolConfig\n",
    "\n",
    "tools = [PowerDiscoBall, StartMusic, DimLights]\n",
    "tool_configs_pydantic = [ToolConfig.from_pydantic(tool) for tool in tools]"
   ]
  },
  {
   "cell_type": "code",
   "execution_count": 19,
   "metadata": {},
   "outputs": [],
   "source": [
    "chat_openai = OpenAIFunctionalChat(\n",
    "    api_key_env_name=\"API_KEY\",\n",
    "    model_name=\"gpt-4o-mini-2024-07-18\",\n",
    "    tools=tools,\n",
    "    tool_configs=tool_configs_pydantic,\n",
    ")"
   ]
  },
  {
   "cell_type": "code",
   "execution_count": 20,
   "metadata": {},
   "outputs": [
    {
     "data": {
      "text/plain": [
       "{'message': {'role': 'assistant',\n",
       "  'content': [{'text': 'The party mood is set! The disco ball is spinning, the energetic music is blasting at 120 BPM, and the lights are dimmed to create a cozy atmosphere. Get ready to have some fun! 🎉🕺💃'}],\n",
       "  'name': None},\n",
       " 'usage': {'model_name': 'gpt-4o-mini-2024-07-18',\n",
       "  'prompt_tokens': 320,\n",
       "  'completion_tokens': 123},\n",
       " 'prompt': [{'role': 'user',\n",
       "   'content': [{'type': 'text',\n",
       "     'text': 'Turn this place into a comfortable party mood!'}],\n",
       "   'name': 'User'},\n",
       "  {'content': None,\n",
       "   'refusal': None,\n",
       "   'role': 'assistant',\n",
       "   'function_call': None,\n",
       "   'tool_calls': [{'id': 'call_bmDDVTtc45wIIACZ0wqyIIKy',\n",
       "     'function': {'arguments': '{\"power\": true}', 'name': 'PowerDiscoBall'},\n",
       "     'type': 'function'},\n",
       "    {'id': 'call_BNGkWLX7H7lUWBKw28UCqA6c',\n",
       "     'function': {'arguments': '{\"energetic\": true, \"loud\": true, \"bpm\": \"120\"}',\n",
       "      'name': 'StartMusic'},\n",
       "     'type': 'function'},\n",
       "    {'id': 'call_7Xcr2zMu2bXJ6gnsZOAmn6qZ',\n",
       "     'function': {'arguments': '{\"brightness\": 0.5}', 'name': 'DimLights'},\n",
       "     'type': 'function'}]},\n",
       "  {'role': 'tool',\n",
       "   'tool_call_id': 'call_bmDDVTtc45wIIACZ0wqyIIKy',\n",
       "   'name': 'PowerDiscoBall',\n",
       "   'content': 'Disco ball is spinning!'},\n",
       "  {'role': 'tool',\n",
       "   'tool_call_id': 'call_BNGkWLX7H7lUWBKw28UCqA6c',\n",
       "   'name': 'StartMusic',\n",
       "   'content': \"Starting music! self.energetic=True self.loud=True, self.bpm=<BPM.MEDIUM: '120'>\"},\n",
       "  {'role': 'tool',\n",
       "   'tool_call_id': 'call_7Xcr2zMu2bXJ6gnsZOAmn6qZ',\n",
       "   'name': 'DimLights',\n",
       "   'content': 'Lights are now set to 0.5'}]}"
      ]
     },
     "execution_count": 20,
     "metadata": {},
     "output_type": "execute_result"
    }
   ],
   "source": [
    "response = chat_openai.run(prompt)\n",
    "\n",
    "# Response is CompletionResults object\n",
    "response.model_dump()"
   ]
  },
  {
   "cell_type": "markdown",
   "metadata": {},
   "source": [
    "### Array property for OpenAI API"
   ]
  },
  {
   "cell_type": "markdown",
   "metadata": {},
   "source": [
    "Function Calling with array property for OpenAI Chat Completion."
   ]
  },
  {
   "cell_type": "code",
   "execution_count": 21,
   "metadata": {},
   "outputs": [],
   "source": [
    "def get_ingredients(ingredients: list[str]) -> str:\n",
    "    \"\"\"Prepare ingredients to make a meal.\"\"\"\n",
    "    return f\"Preparing {ingredients}.\"\n",
    "\n",
    "\n",
    "tool_configs_array = [\n",
    "    ToolConfig(\n",
    "        name=\"get_ingredients\",\n",
    "        description=\"Prepare ingredients to make a meal.\",\n",
    "        parameters=ToolParameter(\n",
    "            properties=[\n",
    "                ToolProperty(\n",
    "                    name=\"ingredients\",\n",
    "                    type=\"array\",\n",
    "                    description=\"List of ingredients.\",\n",
    "                    items={\"type\": \"string\"},\n",
    "                ),\n",
    "            ],\n",
    "            required=[\"ingredients\"],\n",
    "        ),\n",
    "    ),\n",
    "]"
   ]
  },
  {
   "cell_type": "code",
   "execution_count": 22,
   "metadata": {},
   "outputs": [],
   "source": [
    "chat_openai = OpenAIFunctionalChat(\n",
    "    api_key_env_name=\"API_KEY\",\n",
    "    model_name=\"gpt-4o-2024-08-06\",\n",
    "    tools=[get_ingredients],\n",
    "    tool_configs=tool_configs_array,\n",
    ")"
   ]
  },
  {
   "cell_type": "code",
   "execution_count": 23,
   "metadata": {},
   "outputs": [
    {
     "data": {
      "text/plain": [
       "{'message': {'role': 'assistant',\n",
       "  'content': [{'text': 'To make omelet rice, you will need the following ingredients:\\n\\n- Eggs\\n- Cooked rice\\n- Chicken (optional, can substitute with other proteins or make it vegetarian)\\n- Onion\\n- Bell pepper\\n- Ketchup\\n- Soy sauce\\n- Salt\\n- Pepper\\n- Butter\\n- Vegetable oil\\n\\nThese ingredients are typically used to create the savory filling and the fluffy omelet that wraps around the rice mixture.'}],\n",
       "  'name': None},\n",
       " 'usage': {'model_name': 'gpt-4o-2024-08-06',\n",
       "  'prompt_tokens': 194,\n",
       "  'completion_tokens': 124},\n",
       " 'prompt': [{'role': 'user',\n",
       "   'content': [{'type': 'text',\n",
       "     'text': 'What are the ingredients to make omelet rice?'}],\n",
       "   'name': 'User'},\n",
       "  {'content': None,\n",
       "   'refusal': None,\n",
       "   'role': 'assistant',\n",
       "   'function_call': None,\n",
       "   'tool_calls': [{'id': 'call_acT2l5IZ2xGqaxjnM7CemiKd',\n",
       "     'function': {'arguments': '{\"ingredients\":[\"eggs\",\"cooked rice\",\"chicken\",\"onion\",\"bell pepper\",\"ketchup\",\"soy sauce\",\"salt\",\"pepper\",\"butter\",\"vegetable oil\"]}',\n",
       "      'name': 'get_ingredients'},\n",
       "     'type': 'function'}]},\n",
       "  {'role': 'tool',\n",
       "   'tool_call_id': 'call_acT2l5IZ2xGqaxjnM7CemiKd',\n",
       "   'name': 'get_ingredients',\n",
       "   'content': \"Preparing ['eggs', 'cooked rice', 'chicken', 'onion', 'bell pepper', 'ketchup', 'soy sauce', 'salt', 'pepper', 'butter', 'vegetable oil'].\"}]}"
      ]
     },
     "execution_count": 23,
     "metadata": {},
     "output_type": "execute_result"
    }
   ],
   "source": [
    "response = chat_openai.run(\n",
    "    prompt=\"What are the ingredients to make omelet rice?\",\n",
    "    tool_choice=\"get_ingredients\",\n",
    ")\n",
    "response.model_dump()"
   ]
  },
  {
   "cell_type": "markdown",
   "metadata": {},
   "source": [
    "### Azure OpenAI Chat Completion "
   ]
  },
  {
   "cell_type": "code",
   "execution_count": 24,
   "metadata": {},
   "outputs": [],
   "source": [
    "chat_openai_azure = OpenAIFunctionalChat(\n",
    "    api_key_env_name=\"AZURE_API_KEY\",\n",
    "    model_name=\"gpt-4o-2024-05-13\",\n",
    "    api_type=\"azure\",\n",
    "    api_version=\"2024-05-01-preview\",\n",
    "    endpoint_env_name=\"AZURE_ENDPOINT\",\n",
    "    deployment_id_env_name=\"AZURE_DEPLOYMENT_ID\",\n",
    "    tools=[power_disco_ball, start_music, dim_lights],\n",
    "    tool_configs=tool_configs,\n",
    ")"
   ]
  },
  {
   "cell_type": "code",
   "execution_count": 25,
   "metadata": {},
   "outputs": [
    {
     "data": {
      "text/plain": [
       "{'message': {'role': 'assistant',\n",
       "  'content': [{'text': 'The lights are dimmed to a cozy level, the disco ball is spinning, and some energetic music is playing at just the right loudness. The party mood is set—enjoy!'}],\n",
       "  'name': None},\n",
       " 'usage': {'model_name': 'gpt-4o-2024-05-13',\n",
       "  'prompt_tokens': 306,\n",
       "  'completion_tokens': 113},\n",
       " 'prompt': [{'role': 'user',\n",
       "   'content': [{'type': 'text',\n",
       "     'text': 'Turn this place into a comfortable party mood!'}],\n",
       "   'name': 'User'},\n",
       "  {'content': None,\n",
       "   'refusal': None,\n",
       "   'role': 'assistant',\n",
       "   'function_call': None,\n",
       "   'tool_calls': [{'id': 'call_fZQKWLBWTpor17WWWcE4Le1S',\n",
       "     'function': {'arguments': '{\"brightness\": 0.5}', 'name': 'dim_lights'},\n",
       "     'type': 'function'},\n",
       "    {'id': 'call_kgF9Piuuj4UzHNoz3M8m392v',\n",
       "     'function': {'arguments': '{\"power\": true}', 'name': 'power_disco_ball'},\n",
       "     'type': 'function'},\n",
       "    {'id': 'call_kuoldq09Gaar84RSXQDg5FYC',\n",
       "     'function': {'arguments': '{\"energetic\": true, \"loud\": true, \"bpm\": \"120\"}',\n",
       "      'name': 'start_music'},\n",
       "     'type': 'function'}]},\n",
       "  {'role': 'tool',\n",
       "   'tool_call_id': 'call_fZQKWLBWTpor17WWWcE4Le1S',\n",
       "   'name': 'dim_lights',\n",
       "   'content': 'Lights are now set to 0.5'},\n",
       "  {'role': 'tool',\n",
       "   'tool_call_id': 'call_kgF9Piuuj4UzHNoz3M8m392v',\n",
       "   'name': 'power_disco_ball',\n",
       "   'content': 'Disco ball is spinning!'},\n",
       "  {'role': 'tool',\n",
       "   'tool_call_id': 'call_kuoldq09Gaar84RSXQDg5FYC',\n",
       "   'name': 'start_music',\n",
       "   'content': \"Starting music! energetic=True loud=True, bpm='120'\"}]}"
      ]
     },
     "execution_count": 25,
     "metadata": {},
     "output_type": "execute_result"
    }
   ],
   "source": [
    "response = chat_openai_azure.run(prompt)\n",
    "\n",
    "response.model_dump()"
   ]
  },
  {
   "cell_type": "code",
   "execution_count": 26,
   "metadata": {},
   "outputs": [
    {
     "data": {
      "text/plain": [
       "{'message': {'role': 'assistant',\n",
       "  'content': [{'text': \"I've turned on some energetic music (not too loud, perfect for mingling) at 120 BPM, dimmed the lights to 50%, and got the disco ball spinning. Let's get this party started! 🎉\"}],\n",
       "  'name': None},\n",
       " 'usage': {'model_name': 'gpt-4o-2024-05-13',\n",
       "  'prompt_tokens': 306,\n",
       "  'completion_tokens': 119},\n",
       " 'prompt': [{'role': 'user',\n",
       "   'content': [{'type': 'text',\n",
       "     'text': 'Turn this place into a comfortable party mood!'}],\n",
       "   'name': 'User'},\n",
       "  {'content': None,\n",
       "   'refusal': None,\n",
       "   'role': 'assistant',\n",
       "   'function_call': None,\n",
       "   'tool_calls': [{'id': 'call_gem6WwaJK50ixNQzh3USWvIS',\n",
       "     'function': {'arguments': '{\"energetic\": true, \"loud\": false, \"bpm\": \"120\"}',\n",
       "      'name': 'start_music'},\n",
       "     'type': 'function'},\n",
       "    {'id': 'call_AcsdjO1N6UKiY9TVDWLnbZ2y',\n",
       "     'function': {'arguments': '{\"brightness\": 0.5}', 'name': 'dim_lights'},\n",
       "     'type': 'function'},\n",
       "    {'id': 'call_zzm1cfaUSx1DLhFgsBuxTacD',\n",
       "     'function': {'arguments': '{\"power\": true}', 'name': 'power_disco_ball'},\n",
       "     'type': 'function'}]},\n",
       "  {'role': 'tool',\n",
       "   'tool_call_id': 'call_gem6WwaJK50ixNQzh3USWvIS',\n",
       "   'name': 'start_music',\n",
       "   'content': \"Starting music! energetic=True loud=False, bpm='120'\"},\n",
       "  {'role': 'tool',\n",
       "   'tool_call_id': 'call_AcsdjO1N6UKiY9TVDWLnbZ2y',\n",
       "   'name': 'dim_lights',\n",
       "   'content': 'Lights are now set to 0.5'},\n",
       "  {'role': 'tool',\n",
       "   'tool_call_id': 'call_zzm1cfaUSx1DLhFgsBuxTacD',\n",
       "   'name': 'power_disco_ball',\n",
       "   'content': 'Disco ball is spinning!'}]}"
      ]
     },
     "execution_count": 26,
     "metadata": {},
     "output_type": "execute_result"
    }
   ],
   "source": [
    "response = await chat_openai_azure.arun(prompt)\n",
    "\n",
    "response.model_dump()"
   ]
  },
  {
   "cell_type": "code",
   "execution_count": 27,
   "metadata": {},
   "outputs": [
    {
     "data": {
      "text/plain": [
       "{'message': {'role': 'assistant',\n",
       "  'content': [{'text': \"Music is on! Let's elevate the ambiance with some cool lighting. Dim the main lights and switch on some colorful LED bulbs or fairy lights. Set up a few cozy seating areas with cushions and lounge chairs. Place some snacks and drinks on a table, and don't forget to keep the dance floor clear! Enjoy the party!\"}],\n",
       "  'name': None},\n",
       " 'usage': {'model_name': 'gpt-4o-2024-05-13',\n",
       "  'prompt_tokens': 244,\n",
       "  'completion_tokens': 81},\n",
       " 'prompt': [{'role': 'user',\n",
       "   'content': [{'type': 'text',\n",
       "     'text': 'Turn this place into a comfortable party mood!'}],\n",
       "   'name': 'User'},\n",
       "  {'content': None,\n",
       "   'refusal': None,\n",
       "   'role': 'assistant',\n",
       "   'function_call': None,\n",
       "   'tool_calls': [{'id': 'call_oVobkzh6ea3mVSg2C9c9Olbt',\n",
       "     'function': {'arguments': '{\"energetic\":true,\"loud\":true,\"bpm\":\"120\"}',\n",
       "      'name': 'start_music'},\n",
       "     'type': 'function'}]},\n",
       "  {'role': 'tool',\n",
       "   'tool_call_id': 'call_oVobkzh6ea3mVSg2C9c9Olbt',\n",
       "   'name': 'start_music',\n",
       "   'content': \"Starting music! energetic=True loud=True, bpm='120'\"}]}"
      ]
     },
     "execution_count": 27,
     "metadata": {},
     "output_type": "execute_result"
    }
   ],
   "source": [
    "response = chat_openai_azure.run(prompt, tool_choice=\"start_music\")\n",
    "\n",
    "response.model_dump()"
   ]
  },
  {
   "cell_type": "markdown",
   "metadata": {},
   "source": [
    "### Gemini on Google Generative AI"
   ]
  },
  {
   "cell_type": "markdown",
   "metadata": {},
   "source": [
    "You can use tools for Gemini as well which defined for OpenAI Chat Completion."
   ]
  },
  {
   "cell_type": "code",
   "execution_count": 28,
   "metadata": {},
   "outputs": [],
   "source": [
    "gemini = GeminiFunctionalChat(\n",
    "    api_key_env_name=\"GEMINI_API_KEY\",\n",
    "    model_name=\"gemini-1.5-pro\",\n",
    "    tools=[power_disco_ball, start_music, dim_lights],\n",
    "    tool_configs=tool_configs,\n",
    ")"
   ]
  },
  {
   "cell_type": "code",
   "execution_count": 29,
   "metadata": {},
   "outputs": [
    {
     "data": {
      "text/plain": [
       "{'message': {'role': 'assistant',\n",
       "  'content': [{'text': \"Alright, I've got the disco ball spinning, the music pumping, and the lights dimmed! Let's get this party started! 🎉 \\n\"}],\n",
       "  'name': None},\n",
       " 'usage': {'model_name': 'gemini-1.5-pro',\n",
       "  'prompt_tokens': 353,\n",
       "  'completion_tokens': 87},\n",
       " 'prompt': [parts {\n",
       "    text: \"Turn this place into a comfortable party mood!\"\n",
       "  }\n",
       "  role: \"user\",\n",
       "  parts {\n",
       "    function_call {\n",
       "      name: \"power_disco_ball\"\n",
       "      args {\n",
       "        fields {\n",
       "          key: \"power\"\n",
       "          value {\n",
       "            bool_value: true\n",
       "          }\n",
       "        }\n",
       "      }\n",
       "    }\n",
       "  }\n",
       "  parts {\n",
       "    function_call {\n",
       "      name: \"start_music\"\n",
       "      args {\n",
       "        fields {\n",
       "          key: \"loud\"\n",
       "          value {\n",
       "            bool_value: true\n",
       "          }\n",
       "        }\n",
       "        fields {\n",
       "          key: \"energetic\"\n",
       "          value {\n",
       "            bool_value: true\n",
       "          }\n",
       "        }\n",
       "        fields {\n",
       "          key: \"bpm\"\n",
       "          value {\n",
       "            string_value: \"120\"\n",
       "          }\n",
       "        }\n",
       "      }\n",
       "    }\n",
       "  }\n",
       "  parts {\n",
       "    function_call {\n",
       "      name: \"dim_lights\"\n",
       "      args {\n",
       "        fields {\n",
       "          key: \"brightness\"\n",
       "          value {\n",
       "            number_value: 0.5\n",
       "          }\n",
       "        }\n",
       "      }\n",
       "    }\n",
       "  }\n",
       "  role: \"model\",\n",
       "  parts {\n",
       "    function_response {\n",
       "      name: \"power_disco_ball\"\n",
       "      response {\n",
       "        fields {\n",
       "          key: \"content\"\n",
       "          value {\n",
       "            string_value: \"Disco ball is spinning!\"\n",
       "          }\n",
       "        }\n",
       "      }\n",
       "    }\n",
       "  }\n",
       "  parts {\n",
       "    function_response {\n",
       "      name: \"start_music\"\n",
       "      response {\n",
       "        fields {\n",
       "          key: \"content\"\n",
       "          value {\n",
       "            string_value: \"Starting music! energetic=True loud=True, bpm=\\'120\\'\"\n",
       "          }\n",
       "        }\n",
       "      }\n",
       "    }\n",
       "  }\n",
       "  parts {\n",
       "    function_response {\n",
       "      name: \"dim_lights\"\n",
       "      response {\n",
       "        fields {\n",
       "          key: \"content\"\n",
       "          value {\n",
       "            string_value: \"Lights are now set to 0.5\"\n",
       "          }\n",
       "        }\n",
       "      }\n",
       "    }\n",
       "  }\n",
       "  role: \"function\"]}"
      ]
     },
     "execution_count": 29,
     "metadata": {},
     "output_type": "execute_result"
    }
   ],
   "source": [
    "response = gemini.run(prompt)\n",
    "\n",
    "# show result\n",
    "response.model_dump()"
   ]
  },
  {
   "cell_type": "markdown",
   "metadata": {},
   "source": [
    "Asynchronous generation"
   ]
  },
  {
   "cell_type": "code",
   "execution_count": 30,
   "metadata": {},
   "outputs": [
    {
     "data": {
      "text/plain": [
       "{'message': {'role': 'assistant',\n",
       "  'content': [{'text': \"Alright, I've dimmed the lights, turned on the disco ball, and started some upbeat music. Let's get this party started! 🎉 \\n\"}],\n",
       "  'name': None},\n",
       " 'usage': {'model_name': 'gemini-1.5-pro',\n",
       "  'prompt_tokens': 353,\n",
       "  'completion_tokens': 88},\n",
       " 'prompt': [parts {\n",
       "    text: \"Turn this place into a comfortable party mood!\"\n",
       "  }\n",
       "  role: \"user\",\n",
       "  parts {\n",
       "    function_call {\n",
       "      name: \"dim_lights\"\n",
       "      args {\n",
       "        fields {\n",
       "          key: \"brightness\"\n",
       "          value {\n",
       "            number_value: 0.5\n",
       "          }\n",
       "        }\n",
       "      }\n",
       "    }\n",
       "  }\n",
       "  parts {\n",
       "    function_call {\n",
       "      name: \"power_disco_ball\"\n",
       "      args {\n",
       "        fields {\n",
       "          key: \"power\"\n",
       "          value {\n",
       "            bool_value: true\n",
       "          }\n",
       "        }\n",
       "      }\n",
       "    }\n",
       "  }\n",
       "  parts {\n",
       "    function_call {\n",
       "      name: \"start_music\"\n",
       "      args {\n",
       "        fields {\n",
       "          key: \"loud\"\n",
       "          value {\n",
       "            bool_value: true\n",
       "          }\n",
       "        }\n",
       "        fields {\n",
       "          key: \"energetic\"\n",
       "          value {\n",
       "            bool_value: true\n",
       "          }\n",
       "        }\n",
       "        fields {\n",
       "          key: \"bpm\"\n",
       "          value {\n",
       "            string_value: \"120\"\n",
       "          }\n",
       "        }\n",
       "      }\n",
       "    }\n",
       "  }\n",
       "  role: \"model\",\n",
       "  parts {\n",
       "    function_response {\n",
       "      name: \"dim_lights\"\n",
       "      response {\n",
       "        fields {\n",
       "          key: \"content\"\n",
       "          value {\n",
       "            string_value: \"Lights are now set to 0.5\"\n",
       "          }\n",
       "        }\n",
       "      }\n",
       "    }\n",
       "  }\n",
       "  parts {\n",
       "    function_response {\n",
       "      name: \"power_disco_ball\"\n",
       "      response {\n",
       "        fields {\n",
       "          key: \"content\"\n",
       "          value {\n",
       "            string_value: \"Disco ball is spinning!\"\n",
       "          }\n",
       "        }\n",
       "      }\n",
       "    }\n",
       "  }\n",
       "  parts {\n",
       "    function_response {\n",
       "      name: \"start_music\"\n",
       "      response {\n",
       "        fields {\n",
       "          key: \"content\"\n",
       "          value {\n",
       "            string_value: \"Starting music! energetic=True loud=True, bpm=\\'120\\'\"\n",
       "          }\n",
       "        }\n",
       "      }\n",
       "    }\n",
       "  }\n",
       "  role: \"function\"]}"
      ]
     },
     "execution_count": 30,
     "metadata": {},
     "output_type": "execute_result"
    }
   ],
   "source": [
    "response = await gemini.arun(prompt)\n",
    "\n",
    "# show result\n",
    "response.model_dump()"
   ]
  },
  {
   "cell_type": "markdown",
   "metadata": {},
   "source": [
    "Gemini allows you to call specific tool as well as OpenAI Chat Completion."
   ]
  },
  {
   "cell_type": "code",
   "execution_count": 31,
   "metadata": {},
   "outputs": [
    {
     "data": {
      "text/plain": [
       "{'message': {'role': 'assistant',\n",
       "  'content': [{'text': \"Okay, I'm setting the mood!  🎶 Bumping tunes incoming! What else can I do to make this party awesome? 🎉  Need lighting? Snacks? Games? Let's go! 🎊 \\n\"}],\n",
       "  'name': None},\n",
       " 'usage': {'model_name': 'gemini-1.5-pro',\n",
       "  'prompt_tokens': 276,\n",
       "  'completion_tokens': 68},\n",
       " 'prompt': [parts {\n",
       "    text: \"Turn this place into a comfortable party mood!\"\n",
       "  }\n",
       "  role: \"user\",\n",
       "  parts {\n",
       "    function_call {\n",
       "      name: \"start_music\"\n",
       "      args {\n",
       "        fields {\n",
       "          key: \"loud\"\n",
       "          value {\n",
       "            bool_value: true\n",
       "          }\n",
       "        }\n",
       "        fields {\n",
       "          key: \"energetic\"\n",
       "          value {\n",
       "            bool_value: true\n",
       "          }\n",
       "        }\n",
       "        fields {\n",
       "          key: \"bpm\"\n",
       "          value {\n",
       "            string_value: \"120\"\n",
       "          }\n",
       "        }\n",
       "      }\n",
       "    }\n",
       "  }\n",
       "  role: \"model\",\n",
       "  parts {\n",
       "    function_response {\n",
       "      name: \"start_music\"\n",
       "      response {\n",
       "        fields {\n",
       "          key: \"content\"\n",
       "          value {\n",
       "            string_value: \"Starting music! energetic=True loud=True, bpm=\\'120\\'\"\n",
       "          }\n",
       "        }\n",
       "      }\n",
       "    }\n",
       "  }\n",
       "  role: \"function\"]}"
      ]
     },
     "execution_count": 31,
     "metadata": {},
     "output_type": "execute_result"
    }
   ],
   "source": [
    "response = gemini.run(prompt, tool_choice=\"start_music\")\n",
    "\n",
    "# show result\n",
    "response.model_dump()"
   ]
  },
  {
   "cell_type": "markdown",
   "metadata": {},
   "source": [
    "Also pydantic tools is acceptable."
   ]
  },
  {
   "cell_type": "code",
   "execution_count": 32,
   "metadata": {},
   "outputs": [],
   "source": [
    "gemini = GeminiFunctionalChat(\n",
    "    api_key_env_name=\"GEMINI_API_KEY\",\n",
    "    model_name=\"gemini-1.5-pro\",\n",
    "    tools=[PowerDiscoBall, StartMusic, DimLights],\n",
    "    tool_configs=tool_configs_pydantic,\n",
    ")"
   ]
  },
  {
   "cell_type": "code",
   "execution_count": 33,
   "metadata": {},
   "outputs": [
    {
     "data": {
      "text/plain": [
       "{'message': {'role': 'assistant',\n",
       "  'content': [{'text': \"Alright, I've dimmed the lights, cranked up some energetic tunes, and got the disco ball spinning! Let's get this party started! 🎉 \\n\"}],\n",
       "  'name': None},\n",
       " 'usage': {'model_name': 'gemini-1.5-pro',\n",
       "  'prompt_tokens': 353,\n",
       "  'completion_tokens': 86},\n",
       " 'prompt': [parts {\n",
       "    text: \"Turn this place into a comfortable party mood!\"\n",
       "  }\n",
       "  role: \"user\",\n",
       "  parts {\n",
       "    function_call {\n",
       "      name: \"DimLights\"\n",
       "      args {\n",
       "        fields {\n",
       "          key: \"brightness\"\n",
       "          value {\n",
       "            number_value: 0.1\n",
       "          }\n",
       "        }\n",
       "      }\n",
       "    }\n",
       "  }\n",
       "  parts {\n",
       "    function_call {\n",
       "      name: \"StartMusic\"\n",
       "      args {\n",
       "        fields {\n",
       "          key: \"loud\"\n",
       "          value {\n",
       "            bool_value: true\n",
       "          }\n",
       "        }\n",
       "        fields {\n",
       "          key: \"energetic\"\n",
       "          value {\n",
       "            bool_value: true\n",
       "          }\n",
       "        }\n",
       "        fields {\n",
       "          key: \"bpm\"\n",
       "          value {\n",
       "            string_value: \"120\"\n",
       "          }\n",
       "        }\n",
       "      }\n",
       "    }\n",
       "  }\n",
       "  parts {\n",
       "    function_call {\n",
       "      name: \"PowerDiscoBall\"\n",
       "      args {\n",
       "        fields {\n",
       "          key: \"power\"\n",
       "          value {\n",
       "            bool_value: true\n",
       "          }\n",
       "        }\n",
       "      }\n",
       "    }\n",
       "  }\n",
       "  role: \"model\",\n",
       "  parts {\n",
       "    function_response {\n",
       "      name: \"DimLights\"\n",
       "      response {\n",
       "        fields {\n",
       "          key: \"content\"\n",
       "          value {\n",
       "            string_value: \"Lights are now set to 0.1\"\n",
       "          }\n",
       "        }\n",
       "      }\n",
       "    }\n",
       "  }\n",
       "  parts {\n",
       "    function_response {\n",
       "      name: \"StartMusic\"\n",
       "      response {\n",
       "        fields {\n",
       "          key: \"content\"\n",
       "          value {\n",
       "            string_value: \"Starting music! self.energetic=True self.loud=True, self.bpm=<BPM.MEDIUM: \\'120\\'>\"\n",
       "          }\n",
       "        }\n",
       "      }\n",
       "    }\n",
       "  }\n",
       "  parts {\n",
       "    function_response {\n",
       "      name: \"PowerDiscoBall\"\n",
       "      response {\n",
       "        fields {\n",
       "          key: \"content\"\n",
       "          value {\n",
       "            string_value: \"Disco ball is spinning!\"\n",
       "          }\n",
       "        }\n",
       "      }\n",
       "    }\n",
       "  }\n",
       "  role: \"function\"]}"
      ]
     },
     "execution_count": 33,
     "metadata": {},
     "output_type": "execute_result"
    }
   ],
   "source": [
    "response = gemini.run(prompt)\n",
    "response.model_dump()"
   ]
  },
  {
   "cell_type": "markdown",
   "metadata": {},
   "source": [
    "### Gemini on VertexAI"
   ]
  },
  {
   "cell_type": "code",
   "execution_count": 34,
   "metadata": {},
   "outputs": [],
   "source": [
    "gemini_vertexai = GeminiFunctionalChat(\n",
    "    model_name=\"gemini-1.5-flash\",\n",
    "    api_type=\"vertexai\",\n",
    "    project_id_env_name=\"PROJECT_ID\",\n",
    "    location_env_name=\"LOCATION\",\n",
    "    tools=[power_disco_ball, start_music, dim_lights],\n",
    "    tool_configs=tool_configs,\n",
    ")"
   ]
  },
  {
   "cell_type": "code",
   "execution_count": 35,
   "metadata": {},
   "outputs": [
    {
     "data": {
      "text/plain": [
       "{'message': {'role': 'assistant',\n",
       "  'content': [{'text': \"Okay, the lights are now dimmed to create a cozy atmosphere. The music is playing, with an energetic beat that's perfect for dancing, but not too loud to drown out conversation. And the disco ball is spinning, adding a touch of fun and sparkle.  \\n\\nIs there anything else I can do to help set the mood? Maybe some scented candles or a few more decorations?  Let me know! \\n\"}],\n",
       "  'name': None},\n",
       " 'usage': {'model_name': 'gemini-1.5-flash',\n",
       "  'prompt_tokens': 181,\n",
       "  'completion_tokens': 105},\n",
       " 'prompt': [role: \"user\"\n",
       "  parts {\n",
       "    text: \"Turn this place into a comfortable party mood!\"\n",
       "  },\n",
       "  role: \"model\"\n",
       "  parts {\n",
       "    function_call {\n",
       "      name: \"dim_lights\"\n",
       "      args {\n",
       "        fields {\n",
       "          key: \"brightness\"\n",
       "          value {\n",
       "            number_value: 0.5\n",
       "          }\n",
       "        }\n",
       "      }\n",
       "    }\n",
       "  }\n",
       "  parts {\n",
       "    function_call {\n",
       "      name: \"start_music\"\n",
       "      args {\n",
       "        fields {\n",
       "          key: \"loud\"\n",
       "          value {\n",
       "            bool_value: false\n",
       "          }\n",
       "        }\n",
       "        fields {\n",
       "          key: \"energetic\"\n",
       "          value {\n",
       "            bool_value: true\n",
       "          }\n",
       "        }\n",
       "        fields {\n",
       "          key: \"bpm\"\n",
       "          value {\n",
       "            string_value: \"120\"\n",
       "          }\n",
       "        }\n",
       "      }\n",
       "    }\n",
       "  }\n",
       "  parts {\n",
       "    function_call {\n",
       "      name: \"power_disco_ball\"\n",
       "      args {\n",
       "        fields {\n",
       "          key: \"power\"\n",
       "          value {\n",
       "            bool_value: true\n",
       "          }\n",
       "        }\n",
       "      }\n",
       "    }\n",
       "  },\n",
       "  role: \"user\"\n",
       "  parts {\n",
       "    function_response {\n",
       "      name: \"dim_lights\"\n",
       "      response {\n",
       "        fields {\n",
       "          key: \"content\"\n",
       "          value {\n",
       "            string_value: \"Lights are now set to 0.5\"\n",
       "          }\n",
       "        }\n",
       "      }\n",
       "    }\n",
       "  }\n",
       "  parts {\n",
       "    function_response {\n",
       "      name: \"start_music\"\n",
       "      response {\n",
       "        fields {\n",
       "          key: \"content\"\n",
       "          value {\n",
       "            string_value: \"Starting music! energetic=True loud=False, bpm=\\'120\\'\"\n",
       "          }\n",
       "        }\n",
       "      }\n",
       "    }\n",
       "  }\n",
       "  parts {\n",
       "    function_response {\n",
       "      name: \"power_disco_ball\"\n",
       "      response {\n",
       "        fields {\n",
       "          key: \"content\"\n",
       "          value {\n",
       "            string_value: \"Disco ball is spinning!\"\n",
       "          }\n",
       "        }\n",
       "      }\n",
       "    }\n",
       "  }]}"
      ]
     },
     "execution_count": 35,
     "metadata": {},
     "output_type": "execute_result"
    }
   ],
   "source": [
    "response = gemini_vertexai.run(prompt=prompt)\n",
    "\n",
    "# show result\n",
    "response.model_dump()"
   ]
  },
  {
   "cell_type": "markdown",
   "metadata": {},
   "source": [
    "multiple generation"
   ]
  },
  {
   "cell_type": "code",
   "execution_count": 36,
   "metadata": {},
   "outputs": [
    {
     "data": {
      "text/plain": [
       "{'role': 'assistant',\n",
       " 'content': [{'text': \"Okay, I've started the music! It's got a good beat and isn't too loud, perfect for getting the party going. I've also dimmed the lights a bit and turned on the disco ball, which should add a fun, festive atmosphere. \\n\\nIs there anything else you'd like me to do to set the mood? Maybe I can help you with:\\n\\n* **Setting up some snacks and drinks?**\\n* **Turning on some fun party games?**\\n* **Finding a playlist with everyone's favorite songs?**\\n\\nJust let me know what you have in mind and I'll do my best! \\n\"},\n",
       "  {'text': \"Okay, I've started the music! It's got a good beat and isn't too loud, perfect for getting the party going. I've also dimmed the lights a bit and turned on the disco ball, which should add a fun, festive atmosphere. \\n\\nIs there anything else you'd like me to do to set the mood? Maybe I can help you with:\\n\\n* **Setting up some snacks and drinks?**\\n* **Turning on some fun party games?**\\n* **Finding a playlist with everyone's favorite songs?**\\n\\nJust let me know what you have in mind and I'll do my best! \\n\"}],\n",
       " 'name': None}"
      ]
     },
     "execution_count": 36,
     "metadata": {},
     "output_type": "execute_result"
    }
   ],
   "source": [
    "response = gemini_vertexai.run(prompt=prompt, n_results=2)\n",
    "response.message.model_dump()"
   ]
  },
  {
   "cell_type": "markdown",
   "metadata": {},
   "source": [
    "Pydantic tool use"
   ]
  },
  {
   "cell_type": "code",
   "execution_count": 37,
   "metadata": {},
   "outputs": [],
   "source": [
    "gemini_vertexai = GeminiFunctionalChat(\n",
    "    model_name=\"gemini-1.5-flash\",\n",
    "    api_type=\"vertexai\",\n",
    "    project_id_env_name=\"PROJECT_ID\",\n",
    "    location_env_name=\"LOCATION\",\n",
    "    tools=[PowerDiscoBall, StartMusic, DimLights],\n",
    "    tool_configs=tool_configs_pydantic,\n",
    ")"
   ]
  },
  {
   "cell_type": "code",
   "execution_count": 38,
   "metadata": {},
   "outputs": [
    {
     "data": {
      "text/plain": [
       "{'message': {'role': 'assistant',\n",
       "  'content': [{'text': \"Okay, I'm turning up the fun!  I've started some upbeat music with a medium tempo, dimmed the lights to a cozy level, and fired up the disco ball. \\n\\nLet's get this party started! \\U0001faa9🎶✨ \\n\"}],\n",
       "  'name': None},\n",
       " 'usage': {'model_name': 'gemini-1.5-flash',\n",
       "  'prompt_tokens': 181,\n",
       "  'completion_tokens': 70},\n",
       " 'prompt': [role: \"user\"\n",
       "  parts {\n",
       "    text: \"Turn this place into a comfortable party mood!\"\n",
       "  },\n",
       "  role: \"model\"\n",
       "  parts {\n",
       "    function_call {\n",
       "      name: \"StartMusic\"\n",
       "      args {\n",
       "        fields {\n",
       "          key: \"loud\"\n",
       "          value {\n",
       "            bool_value: false\n",
       "          }\n",
       "        }\n",
       "        fields {\n",
       "          key: \"energetic\"\n",
       "          value {\n",
       "            bool_value: true\n",
       "          }\n",
       "        }\n",
       "        fields {\n",
       "          key: \"bpm\"\n",
       "          value {\n",
       "            string_value: \"120\"\n",
       "          }\n",
       "        }\n",
       "      }\n",
       "    }\n",
       "  }\n",
       "  parts {\n",
       "    function_call {\n",
       "      name: \"DimLights\"\n",
       "      args {\n",
       "        fields {\n",
       "          key: \"brightness\"\n",
       "          value {\n",
       "            number_value: 0.5\n",
       "          }\n",
       "        }\n",
       "      }\n",
       "    }\n",
       "  }\n",
       "  parts {\n",
       "    function_call {\n",
       "      name: \"PowerDiscoBall\"\n",
       "      args {\n",
       "        fields {\n",
       "          key: \"power\"\n",
       "          value {\n",
       "            bool_value: true\n",
       "          }\n",
       "        }\n",
       "      }\n",
       "    }\n",
       "  },\n",
       "  role: \"user\"\n",
       "  parts {\n",
       "    function_response {\n",
       "      name: \"StartMusic\"\n",
       "      response {\n",
       "        fields {\n",
       "          key: \"content\"\n",
       "          value {\n",
       "            string_value: \"Starting music! self.energetic=True self.loud=False, self.bpm=<BPM.MEDIUM: \\'120\\'>\"\n",
       "          }\n",
       "        }\n",
       "      }\n",
       "    }\n",
       "  }\n",
       "  parts {\n",
       "    function_response {\n",
       "      name: \"DimLights\"\n",
       "      response {\n",
       "        fields {\n",
       "          key: \"content\"\n",
       "          value {\n",
       "            string_value: \"Lights are now set to 0.5\"\n",
       "          }\n",
       "        }\n",
       "      }\n",
       "    }\n",
       "  }\n",
       "  parts {\n",
       "    function_response {\n",
       "      name: \"PowerDiscoBall\"\n",
       "      response {\n",
       "        fields {\n",
       "          key: \"content\"\n",
       "          value {\n",
       "            string_value: \"Disco ball is spinning!\"\n",
       "          }\n",
       "        }\n",
       "      }\n",
       "    }\n",
       "  }]}"
      ]
     },
     "execution_count": 38,
     "metadata": {},
     "output_type": "execute_result"
    }
   ],
   "source": [
    "response = gemini_vertexai.run(prompt=prompt)\n",
    "response.model_dump()"
   ]
  },
  {
   "cell_type": "markdown",
   "metadata": {},
   "source": [
    "### Anthropic Claude"
   ]
  },
  {
   "cell_type": "markdown",
   "metadata": {},
   "source": [
    "tool_configs can be shared with Claude."
   ]
  },
  {
   "cell_type": "code",
   "execution_count": 39,
   "metadata": {},
   "outputs": [],
   "source": [
    "claude = ClaudeFunctionalChat(\n",
    "    model_name=\"claude-3-5-sonnet-20240620\",\n",
    "    api_key_env_name=\"ANTHROPIC_API_KEY\",\n",
    "    tools=[power_disco_ball, start_music, dim_lights],\n",
    "    tool_configs=tool_configs,\n",
    ")"
   ]
  },
  {
   "cell_type": "code",
   "execution_count": 40,
   "metadata": {},
   "outputs": [
    {
     "data": {
      "text/plain": [
       "{'message': {'role': 'assistant',\n",
       "  'content': [{'text': \"Great! I've set up a comfortable party mood for you. Here's what I've done:\\n\\n1. Dimmed the lights to 40% brightness (0.4), which creates a cozy and inviting atmosphere without being too dark.\\n2. Started some music that is energetic but not too loud, with a moderate tempo of 120 beats per minute. This should provide a good background for conversation and light dancing if desired.\\n3. Turned on the disco ball to add a fun, party-like element to the room with its spinning lights.\\n\\nThis combination should create a comfortable party mood that's perfect for socializing and enjoying the evening. The lighting is low enough to be relaxing but not too dark, the music is upbeat without being overwhelming, and the disco ball adds a festive touch.\\n\\nIs there anything else you'd like me to adjust to make the party mood even more comfortable or suited to your preferences?\"}],\n",
       "  'name': None},\n",
       " 'usage': {'model_name': 'claude-3-5-sonnet-20240620',\n",
       "  'prompt_tokens': 1553,\n",
       "  'completion_tokens': 459},\n",
       " 'prompt': [{'role': 'user',\n",
       "   'content': [{'text': 'Turn this place into a comfortable party mood!',\n",
       "     'type': 'text'}]},\n",
       "  {'role': 'assistant',\n",
       "   'content': [{'text': \"Certainly! I'd be happy to help create a comfortable party mood. To achieve this, we'll need to adjust the lighting, start some music, and add a fun element with the disco ball. Let's use the available tools to set up the perfect atmosphere.\\n\\nFirst, let's dim the lights to create a cozy ambiance, start some moderately energetic music, and turn on the disco ball. Here's how we'll do that:\",\n",
       "     'type': 'text'},\n",
       "    {'id': 'toolu_01BfumuByvW2wpEL2QZ8J2kQ',\n",
       "     'type': 'tool_use',\n",
       "     'input': {'brightness': 0.4},\n",
       "     'name': 'dim_lights'},\n",
       "    {'id': 'toolu_01R3PyZmoZG8ZSK4YLL1167G',\n",
       "     'type': 'tool_use',\n",
       "     'input': {'energetic': True, 'loud': False, 'bpm': '120'},\n",
       "     'name': 'start_music'},\n",
       "    {'id': 'toolu_013zXQAnMAR5tnavDabEVcqp',\n",
       "     'type': 'tool_use',\n",
       "     'input': {'power': True},\n",
       "     'name': 'power_disco_ball'}]},\n",
       "  {'role': 'user',\n",
       "   'content': [{'tool_use_id': 'toolu_01BfumuByvW2wpEL2QZ8J2kQ',\n",
       "     'type': 'tool_result',\n",
       "     'content': 'Lights are now set to 0.4'},\n",
       "    {'tool_use_id': 'toolu_01R3PyZmoZG8ZSK4YLL1167G',\n",
       "     'type': 'tool_result',\n",
       "     'content': \"Starting music! energetic=True loud=False, bpm='120'\"},\n",
       "    {'tool_use_id': 'toolu_013zXQAnMAR5tnavDabEVcqp',\n",
       "     'type': 'tool_result',\n",
       "     'content': 'Disco ball is spinning!'}]}]}"
      ]
     },
     "execution_count": 40,
     "metadata": {},
     "output_type": "execute_result"
    }
   ],
   "source": [
    "response = claude.run(prompt=prompt)\n",
    "\n",
    "response.model_dump()"
   ]
  },
  {
   "cell_type": "markdown",
   "metadata": {},
   "source": [
    "Asynchronous generation"
   ]
  },
  {
   "cell_type": "code",
   "execution_count": 41,
   "metadata": {},
   "outputs": [
    {
     "data": {
      "text/plain": [
       "{'message': {'role': 'assistant',\n",
       "  'content': [{'text': \"Great! I've set up a comfortable party mood for you. Here's what I've done:\\n\\n1. Turned on the disco ball to add some fun, dynamic lighting to the space.\\n2. Started some music that's energetic but not too loud, with a moderate tempo of 120 BPM. This should create a lively atmosphere without being overwhelming.\\n3. Dimmed the lights to 60% brightness, which should provide a cozy, party-like ambiance without making it too dark.\\n\\nThese settings should create a comfortable party mood that's lively enough for socializing and having fun, but not too intense. The combination of the spinning disco ball, energetic music at a reasonable volume, and slightly dimmed lights should give you the perfect party atmosphere.\\n\\nIs there anything else you'd like me to adjust to make the mood even more comfortable or party-like?\"}],\n",
       "  'name': None},\n",
       " 'usage': {'model_name': 'claude-3-5-sonnet-20240620',\n",
       "  'prompt_tokens': 1526,\n",
       "  'completion_tokens': 423},\n",
       " 'prompt': [{'role': 'user',\n",
       "   'content': [{'text': 'Turn this place into a comfortable party mood!',\n",
       "     'type': 'text'}]},\n",
       "  {'role': 'assistant',\n",
       "   'content': [{'text': \"Certainly! I'd be happy to help create a comfortable party mood for you. To achieve this, we'll need to adjust a few things using the available tools. Let's set up a nice ambiance with some music, lighting, and a disco ball. I'll use the functions we have to create the right atmosphere.\",\n",
       "     'type': 'text'},\n",
       "    {'id': 'toolu_011hNFyoxugNhTd43rKH6q2T',\n",
       "     'type': 'tool_use',\n",
       "     'input': {'power': True},\n",
       "     'name': 'power_disco_ball'},\n",
       "    {'id': 'toolu_01Lu7VffFiKyd8EMs6mtM89t',\n",
       "     'type': 'tool_use',\n",
       "     'input': {'energetic': True, 'loud': False, 'bpm': '120'},\n",
       "     'name': 'start_music'},\n",
       "    {'id': 'toolu_01YJN9qriycJxoVGEFYyPgtB',\n",
       "     'type': 'tool_use',\n",
       "     'input': {'brightness': 0.6},\n",
       "     'name': 'dim_lights'}]},\n",
       "  {'role': 'user',\n",
       "   'content': [{'tool_use_id': 'toolu_011hNFyoxugNhTd43rKH6q2T',\n",
       "     'type': 'tool_result',\n",
       "     'content': 'Disco ball is spinning!'},\n",
       "    {'tool_use_id': 'toolu_01Lu7VffFiKyd8EMs6mtM89t',\n",
       "     'type': 'tool_result',\n",
       "     'content': \"Starting music! energetic=True loud=False, bpm='120'\"},\n",
       "    {'tool_use_id': 'toolu_01YJN9qriycJxoVGEFYyPgtB',\n",
       "     'type': 'tool_result',\n",
       "     'content': 'Lights are now set to 0.6'}]}]}"
      ]
     },
     "execution_count": 41,
     "metadata": {},
     "output_type": "execute_result"
    }
   ],
   "source": [
    "response = await claude.arun(prompt=prompt)\n",
    "\n",
    "response.model_dump()"
   ]
  },
  {
   "cell_type": "markdown",
   "metadata": {},
   "source": [
    "Pydantic tool use"
   ]
  },
  {
   "cell_type": "code",
   "execution_count": 42,
   "metadata": {},
   "outputs": [],
   "source": [
    "claude = ClaudeFunctionalChat(\n",
    "    model_name=\"claude-3-5-sonnet-20240620\",\n",
    "    api_key_env_name=\"ANTHROPIC_API_KEY\",\n",
    "    tools=[PowerDiscoBall, StartMusic, DimLights],\n",
    "    tool_configs=tool_configs_pydantic,\n",
    ")"
   ]
  },
  {
   "cell_type": "code",
   "execution_count": 43,
   "metadata": {},
   "outputs": [
    {
     "data": {
      "text/plain": [
       "{'message': {'role': 'assistant',\n",
       "  'content': [{'text': \"Great! I've set up a comfortable party mood for you. Here's what I've done:\\n\\n1. Dimmed the lights to 40% brightness (0.4), which should create a cozy and inviting atmosphere without being too dark.\\n2. Started playing some energetic music at a moderate volume. The beats per minute (BPM) is set to 120, which is a good pace for a comfortable party – not too slow, but not too fast either.\\n3. Powered on the disco ball, which will add a fun, party-like ambiance to the room with its spinning lights.\\n\\nThis combination should create a comfortable party mood that's perfect for socializing and having a good time. The lighting is low enough to feel relaxed but not too dark, the music is upbeat but not overpowering, and the disco ball adds a festive touch.\\n\\nIs there anything else you'd like to adjust? For example, if you want the lights brighter or dimmer, the music louder or quieter, or if you'd like to turn off the disco ball, just let me know, and I can make those changes for you.\"}],\n",
       "  'name': None},\n",
       " 'usage': {'model_name': 'claude-3-5-sonnet-20240620',\n",
       "  'prompt_tokens': 1565,\n",
       "  'completion_tokens': 509},\n",
       " 'prompt': [{'role': 'user',\n",
       "   'content': [{'text': 'Turn this place into a comfortable party mood!',\n",
       "     'type': 'text'}]},\n",
       "  {'role': 'assistant',\n",
       "   'content': [{'text': \"Certainly! I'd be happy to help create a comfortable party mood for you. To achieve this, we can use a combination of lighting, music, and some ambiance. Let's use the available tools to set up the perfect party atmosphere.\\n\\nFirst, let's dim the lights to create a cozy atmosphere, start some energetic but not too loud music, and power up the disco ball for a fun touch. Here's how we'll do it:\",\n",
       "     'type': 'text'},\n",
       "    {'id': 'toolu_0125DmKEdcdpb5EumyXMgWKY',\n",
       "     'type': 'tool_use',\n",
       "     'input': {'brightness': 0.4},\n",
       "     'name': 'DimLights'},\n",
       "    {'id': 'toolu_01TJt4sushqGYRiRvTYse8Nn',\n",
       "     'type': 'tool_use',\n",
       "     'input': {'energetic': True, 'loud': False, 'bpm': '120'},\n",
       "     'name': 'StartMusic'},\n",
       "    {'id': 'toolu_01YMeD7Q7suB5WVz6X2dBCDq',\n",
       "     'type': 'tool_use',\n",
       "     'input': {'power': True},\n",
       "     'name': 'PowerDiscoBall'}]},\n",
       "  {'role': 'user',\n",
       "   'content': [{'tool_use_id': 'toolu_0125DmKEdcdpb5EumyXMgWKY',\n",
       "     'type': 'tool_result',\n",
       "     'content': 'Lights are now set to 0.4'},\n",
       "    {'tool_use_id': 'toolu_01TJt4sushqGYRiRvTYse8Nn',\n",
       "     'type': 'tool_result',\n",
       "     'content': \"Starting music! self.energetic=True self.loud=False, self.bpm=<BPM.MEDIUM: '120'>\"},\n",
       "    {'tool_use_id': 'toolu_01YMeD7Q7suB5WVz6X2dBCDq',\n",
       "     'type': 'tool_result',\n",
       "     'content': 'Disco ball is spinning!'}]}]}"
      ]
     },
     "execution_count": 43,
     "metadata": {},
     "output_type": "execute_result"
    }
   ],
   "source": [
    "response = claude.run(prompt=prompt)\n",
    "response.model_dump()"
   ]
  },
  {
   "cell_type": "markdown",
   "metadata": {},
   "source": [
    "### Claude on Amazon Bedrock"
   ]
  },
  {
   "cell_type": "code",
   "execution_count": 44,
   "metadata": {},
   "outputs": [],
   "source": [
    "claude_bedrock = ClaudeFunctionalChat(\n",
    "    model_name=\"anthropic.claude-3-sonnet-20240229-v1:0\",\n",
    "    api_type=\"bedrock\",\n",
    "    aws_access_key_env_name=\"AWS_ACCESS_KEY\",\n",
    "    aws_secret_key_env_name=\"AWS_SECRET_KEY\",\n",
    "    aws_region_env_name=\"AWS_REGION\",\n",
    "    tools=[power_disco_ball, start_music, dim_lights],\n",
    "    tool_configs=tool_configs,\n",
    ")"
   ]
  },
  {
   "cell_type": "code",
   "execution_count": 45,
   "metadata": {},
   "outputs": [
    {
     "data": {
      "text/plain": [
       "{'message': {'role': 'assistant',\n",
       "  'content': [{'text': \"Great! I've set up a comfortable party mood for you. Here's what I've done:\\n\\n1. Dimmed the lights to 40% brightness (0.4), which should create a cozy and inviting atmosphere without being too dark.\\n2. Started some energetic music at a medium tempo (120 BPM) that isn't too loud. This should provide a good backdrop for conversation and light dancing if desired.\\n3. Turned on the disco ball to add a fun, party-like element to the room without being overwhelming.\\n\\nThese settings should create a comfortable party mood that's perfect for socializing and enjoying the atmosphere. The dimmed lights and the soft glow from the disco ball will create a warm ambiance, while the energetic but not too loud music will keep the energy up without hindering conversation.\\n\\nIs there anything else you'd like to adjust to make the party mood even more comfortable? For example, we could change the music tempo or adjust the lighting if you prefer.\"}],\n",
       "  'name': None},\n",
       " 'usage': {'model_name': 'claude-3-5-sonnet-20240620',\n",
       "  'prompt_tokens': 1561,\n",
       "  'completion_tokens': 470},\n",
       " 'prompt': [{'role': 'user',\n",
       "   'content': [{'text': 'Turn this place into a comfortable party mood!',\n",
       "     'type': 'text'}]},\n",
       "  {'role': 'assistant',\n",
       "   'content': [{'text': \"Certainly! I'd be happy to help create a comfortable party mood. To achieve this, we can use a combination of lighting, music, and some ambiance. Let's use the available tools to set the right atmosphere.\\n\\nFirst, let's dim the lights to create a cozy atmosphere, start some energetic but not too loud music, and add a touch of fun with the disco ball. Here's how we'll do it:\",\n",
       "     'type': 'text'},\n",
       "    {'id': 'toolu_01WZZG31vg8g5mi9j3yMnyhT',\n",
       "     'type': 'tool_use',\n",
       "     'input': {'brightness': 0.4},\n",
       "     'name': 'DimLights'},\n",
       "    {'id': 'toolu_01R1RkmmGeBDBeDDZheh3KQA',\n",
       "     'type': 'tool_use',\n",
       "     'input': {'energetic': True, 'loud': False, 'bpm': '120'},\n",
       "     'name': 'StartMusic'},\n",
       "    {'id': 'toolu_01VcqB2z1Lp52HzvzTzFfQAh',\n",
       "     'type': 'tool_use',\n",
       "     'input': {'power': True},\n",
       "     'name': 'PowerDiscoBall'}]},\n",
       "  {'role': 'user',\n",
       "   'content': [{'tool_use_id': 'toolu_01WZZG31vg8g5mi9j3yMnyhT',\n",
       "     'type': 'tool_result',\n",
       "     'content': 'Lights are now set to 0.4'},\n",
       "    {'tool_use_id': 'toolu_01R1RkmmGeBDBeDDZheh3KQA',\n",
       "     'type': 'tool_result',\n",
       "     'content': \"Starting music! self.energetic=True self.loud=False, self.bpm=<BPM.MEDIUM: '120'>\"},\n",
       "    {'tool_use_id': 'toolu_01VcqB2z1Lp52HzvzTzFfQAh',\n",
       "     'type': 'tool_result',\n",
       "     'content': 'Disco ball is spinning!'}]}]}"
      ]
     },
     "execution_count": 45,
     "metadata": {},
     "output_type": "execute_result"
    }
   ],
   "source": [
    "response = claude.run(prompt=prompt)\n",
    "\n",
    "response.model_dump()"
   ]
  },
  {
   "cell_type": "code",
   "execution_count": 46,
   "metadata": {},
   "outputs": [
    {
     "data": {
      "text/plain": [
       "{'message': {'role': 'assistant',\n",
       "  'content': [{'text': \"Great! I've set up a comfortable party mood for you. Here's what I've done:\\n\\n1. Dimmed the lights to 40% brightness (0.4), which should create a cozy and inviting atmosphere without being too dark.\\n2. Started some energetic music at a medium tempo (120 BPM) that isn't too loud. This should provide a good backdrop for conversation and light dancing if desired.\\n3. Turned on the disco ball to add a fun, party-like element to the room without being overwhelming.\\n\\nThese settings should create a comfortable party mood that's perfect for socializing and enjoying the atmosphere. The dimmed lights and the soft glow from the disco ball will create a warm ambiance, while the energetic but not too loud music will keep the energy up without hindering conversation.\\n\\nIs there anything else you'd like to adjust to make the party mood even more comfortable? For example, we could change the music tempo or adjust the lighting if you prefer.\"}],\n",
       "  'name': None},\n",
       " 'usage': {'model_name': 'claude-3-5-sonnet-20240620',\n",
       "  'prompt_tokens': 1561,\n",
       "  'completion_tokens': 470},\n",
       " 'prompt': [{'role': 'user',\n",
       "   'content': [{'text': 'Turn this place into a comfortable party mood!',\n",
       "     'type': 'text'}]},\n",
       "  {'role': 'assistant',\n",
       "   'content': [{'text': \"Certainly! I'd be happy to help create a comfortable party mood. To achieve this, we can use a combination of lighting, music, and some ambiance. Let's use the available tools to set the right atmosphere.\\n\\nFirst, let's dim the lights to create a cozy atmosphere, start some energetic but not too loud music, and add a touch of fun with the disco ball. Here's how we'll do it:\",\n",
       "     'type': 'text'},\n",
       "    {'id': 'toolu_01WZZG31vg8g5mi9j3yMnyhT',\n",
       "     'type': 'tool_use',\n",
       "     'input': {'brightness': 0.4},\n",
       "     'name': 'DimLights'},\n",
       "    {'id': 'toolu_01R1RkmmGeBDBeDDZheh3KQA',\n",
       "     'type': 'tool_use',\n",
       "     'input': {'energetic': True, 'loud': False, 'bpm': '120'},\n",
       "     'name': 'StartMusic'},\n",
       "    {'id': 'toolu_01VcqB2z1Lp52HzvzTzFfQAh',\n",
       "     'type': 'tool_use',\n",
       "     'input': {'power': True},\n",
       "     'name': 'PowerDiscoBall'}]},\n",
       "  {'role': 'user',\n",
       "   'content': [{'tool_use_id': 'toolu_01WZZG31vg8g5mi9j3yMnyhT',\n",
       "     'type': 'tool_result',\n",
       "     'content': 'Lights are now set to 0.4'},\n",
       "    {'tool_use_id': 'toolu_01R1RkmmGeBDBeDDZheh3KQA',\n",
       "     'type': 'tool_result',\n",
       "     'content': \"Starting music! self.energetic=True self.loud=False, self.bpm=<BPM.MEDIUM: '120'>\"},\n",
       "    {'tool_use_id': 'toolu_01VcqB2z1Lp52HzvzTzFfQAh',\n",
       "     'type': 'tool_result',\n",
       "     'content': 'Disco ball is spinning!'}]}]}"
      ]
     },
     "execution_count": 46,
     "metadata": {},
     "output_type": "execute_result"
    }
   ],
   "source": [
    "repsonse = await claude.arun(prompt=prompt)\n",
    "response.model_dump()"
   ]
  },
  {
   "cell_type": "markdown",
   "metadata": {},
   "source": [
    "Pydantic tool use"
   ]
  },
  {
   "cell_type": "code",
   "execution_count": 47,
   "metadata": {},
   "outputs": [],
   "source": [
    "claude_bedrock = ClaudeFunctionalChat(\n",
    "    model_name=\"anthropic.claude-3-sonnet-20240229-v1:0\",\n",
    "    api_type=\"bedrock\",\n",
    "    aws_access_key_env_name=\"AWS_ACCESS_KEY\",\n",
    "    aws_secret_key_env_name=\"AWS_SECRET_KEY\",\n",
    "    aws_region_env_name=\"AWS_REGION\",\n",
    "    tools=[PowerDiscoBall, StartMusic, DimLights],\n",
    "    tool_configs=tool_configs_pydantic,\n",
    ")"
   ]
  },
  {
   "cell_type": "code",
   "execution_count": 48,
   "metadata": {},
   "outputs": [
    {
     "data": {
      "text/plain": [
       "{'message': {'role': 'assistant',\n",
       "  'content': [{'text': \"Great! I've set up a comfortable party mood for you. Here's what I've done:\\n\\n1. Dimmed the lights: I've set the brightness to 0.5, which is a nice middle ground that creates a cozy atmosphere without being too dark.\\n\\n2. Started the music: I've chosen energetic music to keep the party vibe going, but set it to a lower volume (not loud) so people can still comfortably chat. The beats per minute (BPM) is set to 120, which is a moderate tempo that's great for a comfortable party mood.\\n\\n3. Activated the disco ball: The spinning disco ball will add a fun, party element to the room without being too overwhelming.\\n\\nThese settings should create a perfect balance for a comfortable party atmosphere. The dimmed lights and spinning disco ball will create a festive ambiance, while the energetic but not-too-loud music will keep the mood upbeat without hindering conversation.\\n\\nIs there anything else you'd like to adjust to make the party mood even more comfortable?\"}],\n",
       "  'name': None},\n",
       " 'usage': {'model_name': 'claude-3-5-sonnet-20240620',\n",
       "  'prompt_tokens': 1528,\n",
       "  'completion_tokens': 452},\n",
       " 'prompt': [{'role': 'user',\n",
       "   'content': [{'text': 'Turn this place into a comfortable party mood!',\n",
       "     'type': 'text'}]},\n",
       "  {'role': 'assistant',\n",
       "   'content': [{'text': \"Certainly! I'd be happy to help create a comfortable party mood for you. To achieve this, we'll need to adjust the lighting, start some music, and add a fun element with the disco ball. Let's use the available tools to set up the perfect party atmosphere.\",\n",
       "     'type': 'text'},\n",
       "    {'id': 'toolu_01GKBxw9TSdGiiBt8pQjzVFG',\n",
       "     'type': 'tool_use',\n",
       "     'input': {'brightness': 0.5},\n",
       "     'name': 'DimLights'},\n",
       "    {'id': 'toolu_01NTUbC7RrAbHFr2LQv7pGxt',\n",
       "     'type': 'tool_use',\n",
       "     'input': {'energetic': True, 'loud': False, 'bpm': '120'},\n",
       "     'name': 'StartMusic'},\n",
       "    {'id': 'toolu_01HwNauQiC1MRsKaXwcCEZ6t',\n",
       "     'type': 'tool_use',\n",
       "     'input': {'power': True},\n",
       "     'name': 'PowerDiscoBall'}]},\n",
       "  {'role': 'user',\n",
       "   'content': [{'tool_use_id': 'toolu_01GKBxw9TSdGiiBt8pQjzVFG',\n",
       "     'type': 'tool_result',\n",
       "     'content': 'Lights are now set to 0.5'},\n",
       "    {'tool_use_id': 'toolu_01NTUbC7RrAbHFr2LQv7pGxt',\n",
       "     'type': 'tool_result',\n",
       "     'content': \"Starting music! self.energetic=True self.loud=False, self.bpm=<BPM.MEDIUM: '120'>\"},\n",
       "    {'tool_use_id': 'toolu_01HwNauQiC1MRsKaXwcCEZ6t',\n",
       "     'type': 'tool_result',\n",
       "     'content': 'Disco ball is spinning!'}]}]}"
      ]
     },
     "execution_count": 48,
     "metadata": {},
     "output_type": "execute_result"
    }
   ],
   "source": [
    "response = claude.run(prompt=prompt)\n",
    "response.model_dump()"
   ]
  },
  {
   "cell_type": "markdown",
   "metadata": {},
   "source": [
    "# Universal tool config system"
   ]
  },
  {
   "cell_type": "markdown",
   "metadata": {},
   "source": [
    "Tool config the user defines is common for various llm. It is converted to client tools in clinet's FunctionCallingModule before API call. Let me show you the process of conversion."
   ]
  },
  {
   "cell_type": "code",
   "execution_count": 49,
   "metadata": {},
   "outputs": [
    {
     "data": {
      "text/plain": [
       "[OpenAIToolConfig(name='power_disco_ball', description='Powers the spinning disco ball.', parameters=OpenAIToolParameter(type='object', properties=[OpenAIToolProperty(name='power', type='boolean', description='Boolean to spin disco ball.', enum=None, items=None)], required=['power']), strict=None, type='function'),\n",
       " OpenAIToolConfig(name='start_music', description='Play some music matching the specified parameters.', parameters=OpenAIToolParameter(type='object', properties=[OpenAIToolProperty(name='energetic', type='boolean', description='Whether the music is energetic or not.', enum=None, items=None), OpenAIToolProperty(name='loud', type='boolean', description='Whether the music is loud or not.', enum=None, items=None), OpenAIToolProperty(name='bpm', type='string', description='The beats per minute of the music.', enum=['60', '120', '180'], items=None)], required=['energetic', 'loud', 'bpm']), strict=None, type='function'),\n",
       " OpenAIToolConfig(name='dim_lights', description='Dim the lights.', parameters=OpenAIToolParameter(type='object', properties=[OpenAIToolProperty(name='brightness', type='number', description='The brightness of the lights, 0.0 is off, 1.0 is full.', enum=None, items=None)], required=['brightness']), strict=None, type='function')]"
      ]
     },
     "execution_count": 49,
     "metadata": {},
     "output_type": "execute_result"
    }
   ],
   "source": [
    "from langrila.openai import OpenAIToolConfig\n",
    "\n",
    "converted_configs = OpenAIToolConfig.from_universal_configs(tool_configs)\n",
    "converted_configs"
   ]
  },
  {
   "cell_type": "markdown",
   "metadata": {},
   "source": [
    "Then these client tool config objects is transformed to client tools by format() method."
   ]
  },
  {
   "cell_type": "code",
   "execution_count": 50,
   "metadata": {},
   "outputs": [
    {
     "data": {
      "text/plain": [
       "{'type': 'function',\n",
       " 'function': {'name': 'power_disco_ball',\n",
       "  'description': 'Powers the spinning disco ball.',\n",
       "  'parameters': {'type': 'object',\n",
       "   'required': ['power'],\n",
       "   'properties': {'power': {'type': 'boolean',\n",
       "     'description': 'Boolean to spin disco ball.'}}}}}"
      ]
     },
     "execution_count": 50,
     "metadata": {},
     "output_type": "execute_result"
    }
   ],
   "source": [
    "converted_configs[0].format()"
   ]
  },
  {
   "cell_type": "markdown",
   "metadata": {},
   "source": [
    "Other client like Gemini and Claude is the same interface, so you could reuse tool_configs you initially defines."
   ]
  },
  {
   "cell_type": "code",
   "execution_count": 51,
   "metadata": {},
   "outputs": [],
   "source": [
    "from langrila.gemini.genai import GeminiToolConfig"
   ]
  },
  {
   "cell_type": "code",
   "execution_count": 52,
   "metadata": {},
   "outputs": [
    {
     "data": {
      "text/plain": [
       "[GeminiToolConfig(name='power_disco_ball', description='Powers the spinning disco ball.', parameters=GeminiToolParameter(type='object', properties=[GeminiToolProperty(name='power', type='boolean', description='Boolean to spin disco ball.', enum=None, items=None)], required=['power']), strict=None),\n",
       " GeminiToolConfig(name='start_music', description='Play some music matching the specified parameters.', parameters=GeminiToolParameter(type='object', properties=[GeminiToolProperty(name='energetic', type='boolean', description='Whether the music is energetic or not.', enum=None, items=None), GeminiToolProperty(name='loud', type='boolean', description='Whether the music is loud or not.', enum=None, items=None), GeminiToolProperty(name='bpm', type='string', description='The beats per minute of the music.', enum=['60', '120', '180'], items=None)], required=['energetic', 'loud', 'bpm']), strict=None),\n",
       " GeminiToolConfig(name='dim_lights', description='Dim the lights.', parameters=GeminiToolParameter(type='object', properties=[GeminiToolProperty(name='brightness', type='number', description='The brightness of the lights, 0.0 is off, 1.0 is full.', enum=None, items=None)], required=['brightness']), strict=None)]"
      ]
     },
     "execution_count": 52,
     "metadata": {},
     "output_type": "execute_result"
    }
   ],
   "source": [
    "converted_configs = GeminiToolConfig.from_universal_configs(tool_configs)\n",
    "converted_configs"
   ]
  },
  {
   "cell_type": "code",
   "execution_count": 53,
   "metadata": {},
   "outputs": [
    {
     "data": {
      "text/plain": [
       "name: \"power_disco_ball\"\n",
       "description: \"Powers the spinning disco ball.\"\n",
       "parameters {\n",
       "  type_: OBJECT\n",
       "  properties {\n",
       "    key: \"power\"\n",
       "    value {\n",
       "      type_: BOOLEAN\n",
       "      description: \"Boolean to spin disco ball.\"\n",
       "    }\n",
       "  }\n",
       "  required: \"power\"\n",
       "}"
      ]
     },
     "execution_count": 53,
     "metadata": {},
     "output_type": "execute_result"
    }
   ],
   "source": [
    "converted_configs[0].format()"
   ]
  },
  {
   "cell_type": "markdown",
   "metadata": {},
   "source": [
    "# Multi-turn conversation with tools"
   ]
  },
  {
   "cell_type": "markdown",
   "metadata": {},
   "source": [
    "### For OpenAI Chat Completion"
   ]
  },
  {
   "cell_type": "code",
   "execution_count": 54,
   "metadata": {},
   "outputs": [],
   "source": [
    "chat_openai = OpenAIFunctionalChat(\n",
    "    api_key_env_name=\"API_KEY\",\n",
    "    model_name=\"gpt-4o-mini-2024-07-18\",\n",
    "    tools=[power_disco_ball, start_music, dim_lights],\n",
    "    tool_configs=tool_configs,\n",
    "    conversation_memory=InMemoryConversationMemory(),\n",
    "    # conversation_memory=JSONConversationMemory(\"./test.json\"), # for serialization\n",
    ")"
   ]
  },
  {
   "cell_type": "code",
   "execution_count": 55,
   "metadata": {},
   "outputs": [
    {
     "data": {
      "text/plain": [
       "{'message': {'role': 'assistant',\n",
       "  'content': [{'text': \"The party mood is on! The disco ball is spinning, energetic music is playing at a lively 120 BPM, and the lights are dimmed to create a cozy atmosphere. Let's get the celebration started! 🎉🥳\"}],\n",
       "  'name': None},\n",
       " 'usage': {'model_name': 'gpt-4o-mini-2024-07-18',\n",
       "  'prompt_tokens': 305,\n",
       "  'completion_tokens': 120},\n",
       " 'prompt': [{'role': 'user',\n",
       "   'content': [{'type': 'text',\n",
       "     'text': 'Turn this place into a comfortable party mood!'}],\n",
       "   'name': 'User'},\n",
       "  {'content': None,\n",
       "   'refusal': None,\n",
       "   'role': 'assistant',\n",
       "   'function_call': None,\n",
       "   'tool_calls': [{'id': 'call_BDZ3yaJYtsvgtHDgGTwx1XSe',\n",
       "     'function': {'arguments': '{\"power\": true}', 'name': 'power_disco_ball'},\n",
       "     'type': 'function'},\n",
       "    {'id': 'call_QL7C2MdUZvLqYqJ3ab77eq7Q',\n",
       "     'function': {'arguments': '{\"energetic\": true, \"loud\": true, \"bpm\": \"120\"}',\n",
       "      'name': 'start_music'},\n",
       "     'type': 'function'},\n",
       "    {'id': 'call_kbn0HutNCjLgpZC2KPGs6TQH',\n",
       "     'function': {'arguments': '{\"brightness\": 0.5}', 'name': 'dim_lights'},\n",
       "     'type': 'function'}]},\n",
       "  {'role': 'tool',\n",
       "   'tool_call_id': 'call_BDZ3yaJYtsvgtHDgGTwx1XSe',\n",
       "   'name': 'power_disco_ball',\n",
       "   'content': 'Disco ball is spinning!'},\n",
       "  {'role': 'tool',\n",
       "   'tool_call_id': 'call_QL7C2MdUZvLqYqJ3ab77eq7Q',\n",
       "   'name': 'start_music',\n",
       "   'content': \"Starting music! energetic=True loud=True, bpm='120'\"},\n",
       "  {'role': 'tool',\n",
       "   'tool_call_id': 'call_kbn0HutNCjLgpZC2KPGs6TQH',\n",
       "   'name': 'dim_lights',\n",
       "   'content': 'Lights are now set to 0.5'}]}"
      ]
     },
     "execution_count": 55,
     "metadata": {},
     "output_type": "execute_result"
    }
   ],
   "source": [
    "prompt = \"Turn this place into a comfortable party mood!\"\n",
    "\n",
    "response = chat_openai.run(prompt=prompt)\n",
    "\n",
    "# Show result\n",
    "response.model_dump()"
   ]
  },
  {
   "cell_type": "markdown",
   "metadata": {},
   "source": [
    "Next turn"
   ]
  },
  {
   "cell_type": "code",
   "execution_count": 56,
   "metadata": {},
   "outputs": [
    {
     "data": {
      "text/plain": [
       "{'message': {'role': 'assistant',\n",
       "  'content': [{'text': 'The BPM has been increased to a lively 180! The energy is definitely on the rise now. Enjoy the party! 🎶💃🕺'}],\n",
       "  'name': None},\n",
       " 'usage': {'model_name': 'gpt-4o-mini-2024-07-18',\n",
       "  'prompt_tokens': 595,\n",
       "  'completion_tokens': 57},\n",
       " 'prompt': [{'role': 'user',\n",
       "   'content': [{'type': 'text',\n",
       "     'text': 'Turn this place into a comfortable party mood!'}],\n",
       "   'name': 'User'},\n",
       "  {'content': None,\n",
       "   'refusal': None,\n",
       "   'role': 'assistant',\n",
       "   'function_call': None,\n",
       "   'tool_calls': [{'id': 'call_BDZ3yaJYtsvgtHDgGTwx1XSe',\n",
       "     'function': {'arguments': '{\"power\": true}', 'name': 'power_disco_ball'},\n",
       "     'type': 'function'},\n",
       "    {'id': 'call_QL7C2MdUZvLqYqJ3ab77eq7Q',\n",
       "     'function': {'arguments': '{\"energetic\": true, \"loud\": true, \"bpm\": \"120\"}',\n",
       "      'name': 'start_music'},\n",
       "     'type': 'function'},\n",
       "    {'id': 'call_kbn0HutNCjLgpZC2KPGs6TQH',\n",
       "     'function': {'arguments': '{\"brightness\": 0.5}', 'name': 'dim_lights'},\n",
       "     'type': 'function'}]},\n",
       "  {'role': 'tool',\n",
       "   'tool_call_id': 'call_BDZ3yaJYtsvgtHDgGTwx1XSe',\n",
       "   'name': 'power_disco_ball',\n",
       "   'content': 'Disco ball is spinning!'},\n",
       "  {'role': 'tool',\n",
       "   'tool_call_id': 'call_QL7C2MdUZvLqYqJ3ab77eq7Q',\n",
       "   'name': 'start_music',\n",
       "   'content': \"Starting music! energetic=True loud=True, bpm='120'\"},\n",
       "  {'role': 'tool',\n",
       "   'tool_call_id': 'call_kbn0HutNCjLgpZC2KPGs6TQH',\n",
       "   'name': 'dim_lights',\n",
       "   'content': 'Lights are now set to 0.5'},\n",
       "  {'role': 'assistant',\n",
       "   'content': [{'type': 'text',\n",
       "     'text': \"The party mood is on! The disco ball is spinning, energetic music is playing at a lively 120 BPM, and the lights are dimmed to create a cozy atmosphere. Let's get the celebration started! 🎉🥳\"}],\n",
       "   'name': 'Assistant'},\n",
       "  {'role': 'user',\n",
       "   'content': [{'type': 'text', 'text': 'Can you make bpm up more?'}],\n",
       "   'name': 'User'},\n",
       "  {'content': None,\n",
       "   'refusal': None,\n",
       "   'role': 'assistant',\n",
       "   'function_call': None,\n",
       "   'tool_calls': [{'id': 'call_qrHQtdbO464FtHR6nx27IZy3',\n",
       "     'function': {'arguments': '{\"energetic\":true,\"loud\":true,\"bpm\":\"180\"}',\n",
       "      'name': 'start_music'},\n",
       "     'type': 'function'}]},\n",
       "  {'role': 'tool',\n",
       "   'tool_call_id': 'call_qrHQtdbO464FtHR6nx27IZy3',\n",
       "   'name': 'start_music',\n",
       "   'content': \"Starting music! energetic=True loud=True, bpm='180'\"}]}"
      ]
     },
     "execution_count": 56,
     "metadata": {},
     "output_type": "execute_result"
    }
   ],
   "source": [
    "prompt = \"Can you make bpm up more?\"\n",
    "\n",
    "response = chat_openai.run(prompt=prompt)\n",
    "\n",
    "response.model_dump()"
   ]
  },
  {
   "cell_type": "markdown",
   "metadata": {},
   "source": [
    "### For Gemini"
   ]
  },
  {
   "cell_type": "code",
   "execution_count": 57,
   "metadata": {},
   "outputs": [],
   "source": [
    "gemini = GeminiFunctionalChat(\n",
    "    api_key_env_name=\"GEMINI_API_KEY\",\n",
    "    model_name=\"gemini-1.5-pro\",\n",
    "    tools=[power_disco_ball, start_music, dim_lights],\n",
    "    tool_configs=tool_configs,\n",
    "    conversation_memory=InMemoryConversationMemory(),\n",
    "    # conversation_memory=JSONConversationMemory(\"./test.json\"), # for serialization\n",
    ")"
   ]
  },
  {
   "cell_type": "code",
   "execution_count": 58,
   "metadata": {},
   "outputs": [
    {
     "data": {
      "text/plain": [
       "{'message': {'role': 'assistant',\n",
       "  'content': [{'text': \"Alright, I've dimmed the lights, turned on the disco ball, and started some upbeat music! Let's get this party started! 🎉 \\n\"}],\n",
       "  'name': None},\n",
       " 'usage': {'model_name': 'gemini-1.5-pro',\n",
       "  'prompt_tokens': 353,\n",
       "  'completion_tokens': 88},\n",
       " 'prompt': [parts {\n",
       "    text: \"Turn this place into a comfortable party mood!\"\n",
       "  }\n",
       "  role: \"user\",\n",
       "  parts {\n",
       "    function_call {\n",
       "      name: \"dim_lights\"\n",
       "      args {\n",
       "        fields {\n",
       "          key: \"brightness\"\n",
       "          value {\n",
       "            number_value: 0.5\n",
       "          }\n",
       "        }\n",
       "      }\n",
       "    }\n",
       "  }\n",
       "  parts {\n",
       "    function_call {\n",
       "      name: \"power_disco_ball\"\n",
       "      args {\n",
       "        fields {\n",
       "          key: \"power\"\n",
       "          value {\n",
       "            bool_value: true\n",
       "          }\n",
       "        }\n",
       "      }\n",
       "    }\n",
       "  }\n",
       "  parts {\n",
       "    function_call {\n",
       "      name: \"start_music\"\n",
       "      args {\n",
       "        fields {\n",
       "          key: \"loud\"\n",
       "          value {\n",
       "            bool_value: true\n",
       "          }\n",
       "        }\n",
       "        fields {\n",
       "          key: \"energetic\"\n",
       "          value {\n",
       "            bool_value: true\n",
       "          }\n",
       "        }\n",
       "        fields {\n",
       "          key: \"bpm\"\n",
       "          value {\n",
       "            string_value: \"120\"\n",
       "          }\n",
       "        }\n",
       "      }\n",
       "    }\n",
       "  }\n",
       "  role: \"model\",\n",
       "  parts {\n",
       "    function_response {\n",
       "      name: \"dim_lights\"\n",
       "      response {\n",
       "        fields {\n",
       "          key: \"content\"\n",
       "          value {\n",
       "            string_value: \"Lights are now set to 0.5\"\n",
       "          }\n",
       "        }\n",
       "      }\n",
       "    }\n",
       "  }\n",
       "  parts {\n",
       "    function_response {\n",
       "      name: \"power_disco_ball\"\n",
       "      response {\n",
       "        fields {\n",
       "          key: \"content\"\n",
       "          value {\n",
       "            string_value: \"Disco ball is spinning!\"\n",
       "          }\n",
       "        }\n",
       "      }\n",
       "    }\n",
       "  }\n",
       "  parts {\n",
       "    function_response {\n",
       "      name: \"start_music\"\n",
       "      response {\n",
       "        fields {\n",
       "          key: \"content\"\n",
       "          value {\n",
       "            string_value: \"Starting music! energetic=True loud=True, bpm=\\'120\\'\"\n",
       "          }\n",
       "        }\n",
       "      }\n",
       "    }\n",
       "  }\n",
       "  role: \"function\"]}"
      ]
     },
     "execution_count": 58,
     "metadata": {},
     "output_type": "execute_result"
    }
   ],
   "source": [
    "prompt = \"Turn this place into a comfortable party mood!\"\n",
    "\n",
    "response = gemini.run(prompt=prompt)\n",
    "\n",
    "# Show result\n",
    "response.model_dump()"
   ]
  },
  {
   "cell_type": "markdown",
   "metadata": {},
   "source": [
    "Tool calling is not needed additionally if the thing is already known."
   ]
  },
  {
   "cell_type": "code",
   "execution_count": 59,
   "metadata": {},
   "outputs": [
    {
     "data": {
      "text/plain": [
       "{'message': {'role': 'assistant',\n",
       "  'content': [{'text': 'The current music is set to 120 bpm.  Do you want me to change it? 🎶 \\n'}],\n",
       "  'name': None},\n",
       " 'usage': {'model_name': 'gemini-1.5-pro',\n",
       "  'prompt_tokens': 185,\n",
       "  'completion_tokens': 23},\n",
       " 'prompt': [parts {\n",
       "    text: \"Turn this place into a comfortable party mood!\"\n",
       "  }\n",
       "  role: \"user\",\n",
       "  parts {\n",
       "    function_call {\n",
       "      name: \"dim_lights\"\n",
       "      args {\n",
       "        fields {\n",
       "          key: \"brightness\"\n",
       "          value {\n",
       "            number_value: 0.5\n",
       "          }\n",
       "        }\n",
       "      }\n",
       "    }\n",
       "  }\n",
       "  parts {\n",
       "    function_call {\n",
       "      name: \"power_disco_ball\"\n",
       "      args {\n",
       "        fields {\n",
       "          key: \"power\"\n",
       "          value {\n",
       "            bool_value: true\n",
       "          }\n",
       "        }\n",
       "      }\n",
       "    }\n",
       "  }\n",
       "  parts {\n",
       "    function_call {\n",
       "      name: \"start_music\"\n",
       "      args {\n",
       "        fields {\n",
       "          key: \"loud\"\n",
       "          value {\n",
       "            bool_value: true\n",
       "          }\n",
       "        }\n",
       "        fields {\n",
       "          key: \"energetic\"\n",
       "          value {\n",
       "            bool_value: true\n",
       "          }\n",
       "        }\n",
       "        fields {\n",
       "          key: \"bpm\"\n",
       "          value {\n",
       "            string_value: \"120\"\n",
       "          }\n",
       "        }\n",
       "      }\n",
       "    }\n",
       "  }\n",
       "  role: \"model\",\n",
       "  parts {\n",
       "    function_response {\n",
       "      name: \"dim_lights\"\n",
       "      response {\n",
       "        fields {\n",
       "          key: \"content\"\n",
       "          value {\n",
       "            string_value: \"Lights are now set to 0.5\"\n",
       "          }\n",
       "        }\n",
       "      }\n",
       "    }\n",
       "  }\n",
       "  parts {\n",
       "    function_response {\n",
       "      name: \"power_disco_ball\"\n",
       "      response {\n",
       "        fields {\n",
       "          key: \"content\"\n",
       "          value {\n",
       "            string_value: \"Disco ball is spinning!\"\n",
       "          }\n",
       "        }\n",
       "      }\n",
       "    }\n",
       "  }\n",
       "  parts {\n",
       "    function_response {\n",
       "      name: \"start_music\"\n",
       "      response {\n",
       "        fields {\n",
       "          key: \"content\"\n",
       "          value {\n",
       "            string_value: \"Starting music! energetic=True loud=True, bpm=\\'120\\'\"\n",
       "          }\n",
       "        }\n",
       "      }\n",
       "    }\n",
       "  }\n",
       "  role: \"function\",\n",
       "  parts {\n",
       "    text: \"Alright, I\\'ve dimmed the lights, turned on the disco ball, and started some upbeat music! Let\\'s get this party started! 🎉 \\n\"\n",
       "  }\n",
       "  role: \"model\",\n",
       "  parts {\n",
       "    text: \"What is the current bpm?\"\n",
       "  }\n",
       "  role: \"user\"]}"
      ]
     },
     "execution_count": 59,
     "metadata": {},
     "output_type": "execute_result"
    }
   ],
   "source": [
    "prompt = \"What is the current bpm?\"\n",
    "\n",
    "response = gemini.run(prompt=prompt)\n",
    "\n",
    "response.model_dump()"
   ]
  },
  {
   "cell_type": "markdown",
   "metadata": {},
   "source": [
    "## Multi-turn conversation using tools with multiple model"
   ]
  },
  {
   "cell_type": "markdown",
   "metadata": {},
   "source": [
    "The universal message and tool system allows us to chat multiple model across client."
   ]
  },
  {
   "cell_type": "code",
   "execution_count": 60,
   "metadata": {},
   "outputs": [],
   "source": [
    "from langrila import InMemoryConversationMemory\n",
    "\n",
    "shared_memory = InMemoryConversationMemory()\n",
    "\n",
    "chat_openai = OpenAIFunctionalChat(\n",
    "    api_key_env_name=\"API_KEY\",\n",
    "    model_name=\"gpt-4o-mini-2024-07-18\",\n",
    "    tools=[power_disco_ball, start_music, dim_lights],\n",
    "    tool_configs=tool_configs,\n",
    "    conversation_memory=shared_memory,\n",
    ")\n",
    "\n",
    "gemini = GeminiFunctionalChat(\n",
    "    api_key_env_name=\"GEMINI_API_KEY\",\n",
    "    model_name=\"gemini-1.5-pro\",\n",
    "    tools=[power_disco_ball, start_music, dim_lights],\n",
    "    tool_configs=tool_configs,\n",
    "    conversation_memory=shared_memory,\n",
    ")\n",
    "\n",
    "claude = ClaudeFunctionalChat(\n",
    "    model_name=\"claude-3-5-sonnet-20240620\",\n",
    "    api_key_env_name=\"ANTHROPIC_API_KEY\",\n",
    "    tools=[power_disco_ball, start_music, dim_lights],\n",
    "    tool_configs=tool_configs,\n",
    "    conversation_memory=shared_memory,\n",
    ")"
   ]
  },
  {
   "cell_type": "code",
   "execution_count": 61,
   "metadata": {},
   "outputs": [
    {
     "data": {
      "text/plain": [
       "{'message': {'role': 'assistant',\n",
       "  'content': [{'text': 'The party mood is all set! The disco ball is spinning, energetic music is playing at a lively beat of 120 BPM, and the lights are dimmed to create a cozy atmosphere. Get ready to have an amazing time! 🎉💃🕺'}],\n",
       "  'name': None},\n",
       " 'usage': {'model_name': 'gpt-4o-mini-2024-07-18',\n",
       "  'prompt_tokens': 305,\n",
       "  'completion_tokens': 128},\n",
       " 'prompt': [{'role': 'user',\n",
       "   'content': [{'type': 'text',\n",
       "     'text': 'Turn this place into a comfortable party mood!'}],\n",
       "   'name': 'User'},\n",
       "  {'content': None,\n",
       "   'refusal': None,\n",
       "   'role': 'assistant',\n",
       "   'function_call': None,\n",
       "   'tool_calls': [{'id': 'call_2meoHGpU9xnEskOBHYvOUVHa',\n",
       "     'function': {'arguments': '{\"power\": true}', 'name': 'power_disco_ball'},\n",
       "     'type': 'function'},\n",
       "    {'id': 'call_eS3k3cRgJzCjIdQH5Q1HsSsB',\n",
       "     'function': {'arguments': '{\"energetic\": true, \"loud\": true, \"bpm\": \"120\"}',\n",
       "      'name': 'start_music'},\n",
       "     'type': 'function'},\n",
       "    {'id': 'call_coFf4aSVXyk4M4XRmTuswYZo',\n",
       "     'function': {'arguments': '{\"brightness\": 0.5}', 'name': 'dim_lights'},\n",
       "     'type': 'function'}]},\n",
       "  {'role': 'tool',\n",
       "   'tool_call_id': 'call_2meoHGpU9xnEskOBHYvOUVHa',\n",
       "   'name': 'power_disco_ball',\n",
       "   'content': 'Disco ball is spinning!'},\n",
       "  {'role': 'tool',\n",
       "   'tool_call_id': 'call_eS3k3cRgJzCjIdQH5Q1HsSsB',\n",
       "   'name': 'start_music',\n",
       "   'content': \"Starting music! energetic=True loud=True, bpm='120'\"},\n",
       "  {'role': 'tool',\n",
       "   'tool_call_id': 'call_coFf4aSVXyk4M4XRmTuswYZo',\n",
       "   'name': 'dim_lights',\n",
       "   'content': 'Lights are now set to 0.5'}]}"
      ]
     },
     "execution_count": 61,
     "metadata": {},
     "output_type": "execute_result"
    }
   ],
   "source": [
    "prompt = \"Turn this place into a comfortable party mood!\"\n",
    "\n",
    "response = chat_openai.run(prompt)\n",
    "\n",
    "response.model_dump()"
   ]
  },
  {
   "cell_type": "markdown",
   "metadata": {},
   "source": [
    "Claude can continue conversation without any additional process."
   ]
  },
  {
   "cell_type": "code",
   "execution_count": 62,
   "metadata": {},
   "outputs": [
    {
     "data": {
      "text/plain": [
       "{'message': {'role': 'assistant',\n",
       "  'content': [{'text': \"Great! I've increased the music's BPM to 180. The music is now playing at a faster tempo, which should create an even more energetic and lively party atmosphere. The music remains energetic and loud, perfect for dancing and keeping the party spirit high.\\n\\nIs there anything else you'd like to adjust to enhance the party mood?\"}],\n",
       "  'name': None},\n",
       " 'usage': {'model_name': 'claude-3-5-sonnet-20240620',\n",
       "  'prompt_tokens': 2091,\n",
       "  'completion_tokens': 242},\n",
       " 'prompt': [{'role': 'user',\n",
       "   'content': [{'text': 'Turn this place into a comfortable party mood!',\n",
       "     'type': 'text'}]},\n",
       "  {'role': 'assistant',\n",
       "   'content': [{'id': 'toolu_2meoHGpU9xnEskOBHYvOUVHa',\n",
       "     'type': 'tool_use',\n",
       "     'input': {'power': True},\n",
       "     'name': 'power_disco_ball'},\n",
       "    {'id': 'toolu_eS3k3cRgJzCjIdQH5Q1HsSsB',\n",
       "     'type': 'tool_use',\n",
       "     'input': {'energetic': True, 'loud': True, 'bpm': '120'},\n",
       "     'name': 'start_music'},\n",
       "    {'id': 'toolu_coFf4aSVXyk4M4XRmTuswYZo',\n",
       "     'type': 'tool_use',\n",
       "     'input': {'brightness': 0.5},\n",
       "     'name': 'dim_lights'}]},\n",
       "  {'role': 'user',\n",
       "   'content': [{'tool_use_id': 'toolu_2meoHGpU9xnEskOBHYvOUVHa',\n",
       "     'type': 'tool_result',\n",
       "     'content': 'Disco ball is spinning!'},\n",
       "    {'tool_use_id': 'toolu_eS3k3cRgJzCjIdQH5Q1HsSsB',\n",
       "     'type': 'tool_result',\n",
       "     'content': \"Starting music! energetic=True loud=True, bpm='120'\"},\n",
       "    {'tool_use_id': 'toolu_coFf4aSVXyk4M4XRmTuswYZo',\n",
       "     'type': 'tool_result',\n",
       "     'content': 'Lights are now set to 0.5'}]},\n",
       "  {'role': 'assistant',\n",
       "   'content': [{'text': 'The party mood is all set! The disco ball is spinning, energetic music is playing at a lively beat of 120 BPM, and the lights are dimmed to create a cozy atmosphere. Get ready to have an amazing time! 🎉💃🕺',\n",
       "     'type': 'text'}]},\n",
       "  {'role': 'user',\n",
       "   'content': [{'text': 'Can you make bpm up more?', 'type': 'text'}]},\n",
       "  {'role': 'assistant',\n",
       "   'content': [{'text': \"Certainly! I can increase the BPM (beats per minute) of the music to create a more upbeat atmosphere. The available options for BPM are 60, 120, and 180. Since we're currently at 120 BPM, I'll increase it to 180 BPM for a more energetic party vibe.\",\n",
       "     'type': 'text'},\n",
       "    {'id': 'toolu_0135YwtJABvWNmTVh9E3muVU',\n",
       "     'type': 'tool_use',\n",
       "     'input': {'energetic': True, 'loud': True, 'bpm': '180'},\n",
       "     'name': 'start_music'}]},\n",
       "  {'role': 'user',\n",
       "   'content': [{'tool_use_id': 'toolu_0135YwtJABvWNmTVh9E3muVU',\n",
       "     'type': 'tool_result',\n",
       "     'content': \"Starting music! energetic=True loud=True, bpm='180'\"}]}]}"
      ]
     },
     "execution_count": 62,
     "metadata": {},
     "output_type": "execute_result"
    }
   ],
   "source": [
    "prompt = \"Can you make bpm up more?\"\n",
    "\n",
    "response = claude.run(prompt=prompt)\n",
    "\n",
    "response.model_dump()"
   ]
  },
  {
   "cell_type": "markdown",
   "metadata": {},
   "source": [
    "Go back to OpenAI Chat Completion"
   ]
  },
  {
   "cell_type": "code",
   "execution_count": 63,
   "metadata": {},
   "outputs": [
    {
     "data": {
      "text/plain": [
       "{'message': {'role': 'assistant',\n",
       "  'content': [{'text': \"I've adjusted the music to a more relaxing vibe with a BPM of 60. The volume is also lowered for a calm atmosphere, perfect for winding down or chatting with friends. Let me know if you'd like to make any further changes!\"}],\n",
       "  'name': None},\n",
       " 'usage': {'model_name': 'gpt-4o-mini-2024-07-18',\n",
       "  'prompt_tokens': 875,\n",
       "  'completion_tokens': 73},\n",
       " 'prompt': [{'role': 'user',\n",
       "   'content': [{'type': 'text',\n",
       "     'text': 'Turn this place into a comfortable party mood!'}],\n",
       "   'name': 'User'},\n",
       "  {'content': None,\n",
       "   'refusal': None,\n",
       "   'role': 'assistant',\n",
       "   'function_call': None,\n",
       "   'tool_calls': [{'id': 'call_2meoHGpU9xnEskOBHYvOUVHa',\n",
       "     'function': {'arguments': '{\"power\": true}', 'name': 'power_disco_ball'},\n",
       "     'type': 'function'},\n",
       "    {'id': 'call_eS3k3cRgJzCjIdQH5Q1HsSsB',\n",
       "     'function': {'arguments': '{\"energetic\": true, \"loud\": true, \"bpm\": \"120\"}',\n",
       "      'name': 'start_music'},\n",
       "     'type': 'function'},\n",
       "    {'id': 'call_coFf4aSVXyk4M4XRmTuswYZo',\n",
       "     'function': {'arguments': '{\"brightness\": 0.5}', 'name': 'dim_lights'},\n",
       "     'type': 'function'}]},\n",
       "  {'role': 'tool',\n",
       "   'tool_call_id': 'call_2meoHGpU9xnEskOBHYvOUVHa',\n",
       "   'name': 'power_disco_ball',\n",
       "   'content': 'Disco ball is spinning!'},\n",
       "  {'role': 'tool',\n",
       "   'tool_call_id': 'call_eS3k3cRgJzCjIdQH5Q1HsSsB',\n",
       "   'name': 'start_music',\n",
       "   'content': \"Starting music! energetic=True loud=True, bpm='120'\"},\n",
       "  {'role': 'tool',\n",
       "   'tool_call_id': 'call_coFf4aSVXyk4M4XRmTuswYZo',\n",
       "   'name': 'dim_lights',\n",
       "   'content': 'Lights are now set to 0.5'},\n",
       "  {'role': 'assistant',\n",
       "   'content': [{'type': 'text',\n",
       "     'text': 'The party mood is all set! The disco ball is spinning, energetic music is playing at a lively beat of 120 BPM, and the lights are dimmed to create a cozy atmosphere. Get ready to have an amazing time! 🎉💃🕺'}],\n",
       "   'name': 'Assistant'},\n",
       "  {'role': 'user',\n",
       "   'content': [{'type': 'text', 'text': 'Can you make bpm up more?'}],\n",
       "   'name': 'User'},\n",
       "  {'content': None,\n",
       "   'refusal': None,\n",
       "   'role': 'assistant',\n",
       "   'function_call': None,\n",
       "   'tool_calls': [{'id': 'call_0135YwtJABvWNmTVh9E3muVU',\n",
       "     'function': {'arguments': \"{'energetic': True, 'loud': True, 'bpm': '180'}\",\n",
       "      'name': 'start_music'},\n",
       "     'type': 'function'}]},\n",
       "  {'role': 'tool',\n",
       "   'tool_call_id': 'call_0135YwtJABvWNmTVh9E3muVU',\n",
       "   'name': 'start_music',\n",
       "   'content': \"Starting music! energetic=True loud=True, bpm='180'\"},\n",
       "  {'role': 'assistant',\n",
       "   'content': [{'type': 'text',\n",
       "     'text': \"Great! I've increased the music's BPM to 180. The music is now playing at a faster tempo, which should create an even more energetic and lively party atmosphere. The music remains energetic and loud, perfect for dancing and keeping the party spirit high.\\n\\nIs there anything else you'd like to adjust to enhance the party mood?\"}],\n",
       "   'name': 'Assistant'},\n",
       "  {'role': 'user',\n",
       "   'content': [{'type': 'text', 'text': 'Please turn music more relax.'}],\n",
       "   'name': 'User'},\n",
       "  {'content': None,\n",
       "   'refusal': None,\n",
       "   'role': 'assistant',\n",
       "   'function_call': None,\n",
       "   'tool_calls': [{'id': 'call_JPDiIT3PQJrLmgpN3bWKvtND',\n",
       "     'function': {'arguments': '{\"energetic\":false,\"loud\":false,\"bpm\":\"60\"}',\n",
       "      'name': 'start_music'},\n",
       "     'type': 'function'}]},\n",
       "  {'role': 'tool',\n",
       "   'tool_call_id': 'call_JPDiIT3PQJrLmgpN3bWKvtND',\n",
       "   'name': 'start_music',\n",
       "   'content': \"Starting music! energetic=False loud=False, bpm='60'\"}]}"
      ]
     },
     "execution_count": 63,
     "metadata": {},
     "output_type": "execute_result"
    }
   ],
   "source": [
    "prompt = \"Please turn music more relax.\"\n",
    "\n",
    "response = chat_openai.run(prompt)\n",
    "\n",
    "response.model_dump()"
   ]
  },
  {
   "cell_type": "markdown",
   "metadata": {},
   "source": [
    "Gemini can follow as well"
   ]
  },
  {
   "cell_type": "code",
   "execution_count": 64,
   "metadata": {},
   "outputs": [
    {
     "data": {
      "text/plain": [
       "{'message': {'role': 'assistant',\n",
       "  'content': [{'text': \"Alright, I've switched the music back to the initial 120 BPM. It's still relaxed and at a lower volume, but with a slightly more upbeat tempo now. 🎶 \\n\\nLet me know if you want to make any other adjustments to the music or anything else in the room! 😊 \\n\"}],\n",
       "  'name': None},\n",
       " 'usage': {'model_name': 'gemini-1.5-pro',\n",
       "  'prompt_tokens': 1330,\n",
       "  'completion_tokens': 89},\n",
       " 'prompt': [parts {\n",
       "    text: \"Turn this place into a comfortable party mood!\"\n",
       "  }\n",
       "  role: \"user\",\n",
       "  parts {\n",
       "    function_call {\n",
       "      name: \"power_disco_ball\"\n",
       "      args {\n",
       "        fields {\n",
       "          key: \"power\"\n",
       "          value {\n",
       "            bool_value: true\n",
       "          }\n",
       "        }\n",
       "      }\n",
       "    }\n",
       "  }\n",
       "  parts {\n",
       "    function_call {\n",
       "      name: \"start_music\"\n",
       "      args {\n",
       "        fields {\n",
       "          key: \"loud\"\n",
       "          value {\n",
       "            bool_value: true\n",
       "          }\n",
       "        }\n",
       "        fields {\n",
       "          key: \"energetic\"\n",
       "          value {\n",
       "            bool_value: true\n",
       "          }\n",
       "        }\n",
       "        fields {\n",
       "          key: \"bpm\"\n",
       "          value {\n",
       "            string_value: \"120\"\n",
       "          }\n",
       "        }\n",
       "      }\n",
       "    }\n",
       "  }\n",
       "  parts {\n",
       "    function_call {\n",
       "      name: \"dim_lights\"\n",
       "      args {\n",
       "        fields {\n",
       "          key: \"brightness\"\n",
       "          value {\n",
       "            number_value: 0.5\n",
       "          }\n",
       "        }\n",
       "      }\n",
       "    }\n",
       "  }\n",
       "  role: \"model\",\n",
       "  parts {\n",
       "    function_response {\n",
       "      name: \"power_disco_ball\"\n",
       "      response {\n",
       "        fields {\n",
       "          key: \"content\"\n",
       "          value {\n",
       "            string_value: \"Disco ball is spinning!\"\n",
       "          }\n",
       "        }\n",
       "      }\n",
       "    }\n",
       "  }\n",
       "  parts {\n",
       "    function_response {\n",
       "      name: \"start_music\"\n",
       "      response {\n",
       "        fields {\n",
       "          key: \"content\"\n",
       "          value {\n",
       "            string_value: \"Starting music! energetic=True loud=True, bpm=\\'120\\'\"\n",
       "          }\n",
       "        }\n",
       "      }\n",
       "    }\n",
       "  }\n",
       "  parts {\n",
       "    function_response {\n",
       "      name: \"dim_lights\"\n",
       "      response {\n",
       "        fields {\n",
       "          key: \"content\"\n",
       "          value {\n",
       "            string_value: \"Lights are now set to 0.5\"\n",
       "          }\n",
       "        }\n",
       "      }\n",
       "    }\n",
       "  }\n",
       "  role: \"function\",\n",
       "  parts {\n",
       "    text: \"The party mood is all set! The disco ball is spinning, energetic music is playing at a lively beat of 120 BPM, and the lights are dimmed to create a cozy atmosphere. Get ready to have an amazing time! 🎉💃🕺\"\n",
       "  }\n",
       "  role: \"model\",\n",
       "  parts {\n",
       "    text: \"Can you make bpm up more?\"\n",
       "  }\n",
       "  role: \"user\",\n",
       "  parts {\n",
       "    text: \"Certainly! I can increase the BPM (beats per minute) of the music to create a more upbeat atmosphere. The available options for BPM are 60, 120, and 180. Since we\\'re currently at 120 BPM, I\\'ll increase it to 180 BPM for a more energetic party vibe.\"\n",
       "  }\n",
       "  parts {\n",
       "    function_call {\n",
       "      name: \"start_music\"\n",
       "      args {\n",
       "        fields {\n",
       "          key: \"loud\"\n",
       "          value {\n",
       "            bool_value: true\n",
       "          }\n",
       "        }\n",
       "        fields {\n",
       "          key: \"energetic\"\n",
       "          value {\n",
       "            bool_value: true\n",
       "          }\n",
       "        }\n",
       "        fields {\n",
       "          key: \"bpm\"\n",
       "          value {\n",
       "            string_value: \"180\"\n",
       "          }\n",
       "        }\n",
       "      }\n",
       "    }\n",
       "  }\n",
       "  role: \"model\",\n",
       "  parts {\n",
       "    function_response {\n",
       "      name: \"start_music\"\n",
       "      response {\n",
       "        fields {\n",
       "          key: \"content\"\n",
       "          value {\n",
       "            string_value: \"Starting music! energetic=True loud=True, bpm=\\'180\\'\"\n",
       "          }\n",
       "        }\n",
       "      }\n",
       "    }\n",
       "  }\n",
       "  role: \"function\",\n",
       "  parts {\n",
       "    text: \"Great! I\\'ve increased the music\\'s BPM to 180. The music is now playing at a faster tempo, which should create an even more energetic and lively party atmosphere. The music remains energetic and loud, perfect for dancing and keeping the party spirit high.\\n\\nIs there anything else you\\'d like to adjust to enhance the party mood?\"\n",
       "  }\n",
       "  role: \"model\",\n",
       "  parts {\n",
       "    text: \"Please turn music more relax.\"\n",
       "  }\n",
       "  role: \"user\",\n",
       "  parts {\n",
       "    function_call {\n",
       "      name: \"start_music\"\n",
       "      args {\n",
       "        fields {\n",
       "          key: \"loud\"\n",
       "          value {\n",
       "            bool_value: false\n",
       "          }\n",
       "        }\n",
       "        fields {\n",
       "          key: \"energetic\"\n",
       "          value {\n",
       "            bool_value: false\n",
       "          }\n",
       "        }\n",
       "        fields {\n",
       "          key: \"bpm\"\n",
       "          value {\n",
       "            string_value: \"60\"\n",
       "          }\n",
       "        }\n",
       "      }\n",
       "    }\n",
       "  }\n",
       "  role: \"model\",\n",
       "  parts {\n",
       "    function_response {\n",
       "      name: \"start_music\"\n",
       "      response {\n",
       "        fields {\n",
       "          key: \"content\"\n",
       "          value {\n",
       "            string_value: \"Starting music! energetic=False loud=False, bpm=\\'60\\'\"\n",
       "          }\n",
       "        }\n",
       "      }\n",
       "    }\n",
       "  }\n",
       "  role: \"function\",\n",
       "  parts {\n",
       "    text: \"I\\'ve adjusted the music to a more relaxing vibe with a BPM of 60. The volume is also lowered for a calm atmosphere, perfect for winding down or chatting with friends. Let me know if you\\'d like to make any further changes!\"\n",
       "  }\n",
       "  role: \"model\",\n",
       "  parts {\n",
       "    text: \"Nice. So please go back to the initial bpm.\"\n",
       "  }\n",
       "  role: \"user\",\n",
       "  parts {\n",
       "    function_call {\n",
       "      name: \"start_music\"\n",
       "      args {\n",
       "        fields {\n",
       "          key: \"loud\"\n",
       "          value {\n",
       "            bool_value: false\n",
       "          }\n",
       "        }\n",
       "        fields {\n",
       "          key: \"energetic\"\n",
       "          value {\n",
       "            bool_value: false\n",
       "          }\n",
       "        }\n",
       "        fields {\n",
       "          key: \"bpm\"\n",
       "          value {\n",
       "            string_value: \"120\"\n",
       "          }\n",
       "        }\n",
       "      }\n",
       "    }\n",
       "  }\n",
       "  role: \"model\",\n",
       "  parts {\n",
       "    function_response {\n",
       "      name: \"start_music\"\n",
       "      response {\n",
       "        fields {\n",
       "          key: \"content\"\n",
       "          value {\n",
       "            string_value: \"Starting music! energetic=False loud=False, bpm=\\'120\\'\"\n",
       "          }\n",
       "        }\n",
       "      }\n",
       "    }\n",
       "  }\n",
       "  role: \"function\"]}"
      ]
     },
     "execution_count": 64,
     "metadata": {},
     "output_type": "execute_result"
    }
   ],
   "source": [
    "prompt = \"Nice. So please go back to the initial bpm.\"\n",
    "\n",
    "response = gemini.run(prompt=prompt)\n",
    "\n",
    "response.model_dump()"
   ]
  },
  {
   "cell_type": "code",
   "execution_count": 65,
   "metadata": {},
   "outputs": [
    {
     "data": {
      "text/plain": [
       "{'message': {'role': 'assistant',\n",
       "  'content': [{'text': \"Great! I've increased the brightness of the lights to 0.7, which should create a slightly brighter and more vibrant atmosphere while still maintaining a comfortable party mood. \\n\\nTo summarize the current setup:\\n1. The disco ball is spinning\\n2. The music is playing at 120 BPM, not too energetic or loud\\n3. The lights are now at 70% brightness\\n\\nIs there anything else you'd like to adjust or change to perfect the ambiance?\"}],\n",
       "  'name': None},\n",
       " 'usage': {'model_name': 'claude-3-5-sonnet-20240620',\n",
       "  'prompt_tokens': 3349,\n",
       "  'completion_tokens': 178},\n",
       " 'prompt': [{'role': 'user',\n",
       "   'content': [{'text': 'Turn this place into a comfortable party mood!',\n",
       "     'type': 'text'}]},\n",
       "  {'role': 'assistant',\n",
       "   'content': [{'id': 'toolu_2meoHGpU9xnEskOBHYvOUVHa',\n",
       "     'type': 'tool_use',\n",
       "     'input': {'power': True},\n",
       "     'name': 'power_disco_ball'},\n",
       "    {'id': 'toolu_eS3k3cRgJzCjIdQH5Q1HsSsB',\n",
       "     'type': 'tool_use',\n",
       "     'input': {'energetic': True, 'loud': True, 'bpm': '120'},\n",
       "     'name': 'start_music'},\n",
       "    {'id': 'toolu_coFf4aSVXyk4M4XRmTuswYZo',\n",
       "     'type': 'tool_use',\n",
       "     'input': {'brightness': 0.5},\n",
       "     'name': 'dim_lights'}]},\n",
       "  {'role': 'user',\n",
       "   'content': [{'tool_use_id': 'toolu_2meoHGpU9xnEskOBHYvOUVHa',\n",
       "     'type': 'tool_result',\n",
       "     'content': 'Disco ball is spinning!'},\n",
       "    {'tool_use_id': 'toolu_eS3k3cRgJzCjIdQH5Q1HsSsB',\n",
       "     'type': 'tool_result',\n",
       "     'content': \"Starting music! energetic=True loud=True, bpm='120'\"},\n",
       "    {'tool_use_id': 'toolu_coFf4aSVXyk4M4XRmTuswYZo',\n",
       "     'type': 'tool_result',\n",
       "     'content': 'Lights are now set to 0.5'}]},\n",
       "  {'role': 'assistant',\n",
       "   'content': [{'text': 'The party mood is all set! The disco ball is spinning, energetic music is playing at a lively beat of 120 BPM, and the lights are dimmed to create a cozy atmosphere. Get ready to have an amazing time! 🎉💃🕺',\n",
       "     'type': 'text'}]},\n",
       "  {'role': 'user',\n",
       "   'content': [{'text': 'Can you make bpm up more?', 'type': 'text'}]},\n",
       "  {'role': 'assistant',\n",
       "   'content': [{'text': \"Certainly! I can increase the BPM (beats per minute) of the music to create a more upbeat atmosphere. The available options for BPM are 60, 120, and 180. Since we're currently at 120 BPM, I'll increase it to 180 BPM for a more energetic party vibe.\",\n",
       "     'type': 'text'},\n",
       "    {'id': 'toolu_0135YwtJABvWNmTVh9E3muVU',\n",
       "     'type': 'tool_use',\n",
       "     'input': {'energetic': True, 'loud': True, 'bpm': '180'},\n",
       "     'name': 'start_music'}]},\n",
       "  {'role': 'user',\n",
       "   'content': [{'tool_use_id': 'toolu_0135YwtJABvWNmTVh9E3muVU',\n",
       "     'type': 'tool_result',\n",
       "     'content': \"Starting music! energetic=True loud=True, bpm='180'\"}]},\n",
       "  {'role': 'assistant',\n",
       "   'content': [{'text': \"Great! I've increased the music's BPM to 180. The music is now playing at a faster tempo, which should create an even more energetic and lively party atmosphere. The music remains energetic and loud, perfect for dancing and keeping the party spirit high.\\n\\nIs there anything else you'd like to adjust to enhance the party mood?\",\n",
       "     'type': 'text'}]},\n",
       "  {'role': 'user',\n",
       "   'content': [{'text': 'Please turn music more relax.', 'type': 'text'}]},\n",
       "  {'role': 'assistant',\n",
       "   'content': [{'id': 'toolu_JPDiIT3PQJrLmgpN3bWKvtND',\n",
       "     'type': 'tool_use',\n",
       "     'input': {'energetic': False, 'loud': False, 'bpm': '60'},\n",
       "     'name': 'start_music'}]},\n",
       "  {'role': 'user',\n",
       "   'content': [{'tool_use_id': 'toolu_JPDiIT3PQJrLmgpN3bWKvtND',\n",
       "     'type': 'tool_result',\n",
       "     'content': \"Starting music! energetic=False loud=False, bpm='60'\"}]},\n",
       "  {'role': 'assistant',\n",
       "   'content': [{'text': \"I've adjusted the music to a more relaxing vibe with a BPM of 60. The volume is also lowered for a calm atmosphere, perfect for winding down or chatting with friends. Let me know if you'd like to make any further changes!\",\n",
       "     'type': 'text'}]},\n",
       "  {'role': 'user',\n",
       "   'content': [{'text': 'Nice. So please go back to the initial bpm.',\n",
       "     'type': 'text'}]},\n",
       "  {'role': 'assistant',\n",
       "   'content': [{'id': 'toolu_M7q58RXmvmM0pugmUmV17cyz',\n",
       "     'type': 'tool_use',\n",
       "     'input': {'loud': False, 'energetic': False, 'bpm': '120'},\n",
       "     'name': 'start_music'}]},\n",
       "  {'role': 'user',\n",
       "   'content': [{'tool_use_id': 'toolu_M7q58RXmvmM0pugmUmV17cyz',\n",
       "     'type': 'tool_result',\n",
       "     'content': \"Starting music! energetic=False loud=False, bpm='120'\"}]},\n",
       "  {'role': 'assistant',\n",
       "   'content': [{'text': \"Alright, I've switched the music back to the initial 120 BPM. It's still relaxed and at a lower volume, but with a slightly more upbeat tempo now. 🎶 \\n\\nLet me know if you want to make any other adjustments to the music or anything else in the room! 😊 \\n\",\n",
       "     'type': 'text'}]},\n",
       "  {'role': 'user',\n",
       "   'content': [{'text': 'OK, then turn brightness to 0.7.', 'type': 'text'}]},\n",
       "  {'role': 'assistant',\n",
       "   'content': [{'text': \"Certainly! I'll adjust the brightness of the lights for you.\",\n",
       "     'type': 'text'},\n",
       "    {'id': 'toolu_01BC9BtWq33YVa79W2Hey1zC',\n",
       "     'type': 'tool_use',\n",
       "     'input': {'brightness': 0.7},\n",
       "     'name': 'dim_lights'}]},\n",
       "  {'role': 'user',\n",
       "   'content': [{'tool_use_id': 'toolu_01BC9BtWq33YVa79W2Hey1zC',\n",
       "     'type': 'tool_result',\n",
       "     'content': 'Lights are now set to 0.7'}]}]}"
      ]
     },
     "execution_count": 65,
     "metadata": {},
     "output_type": "execute_result"
    }
   ],
   "source": [
    "prompt = \"OK, then turn brightness to 0.7.\"\n",
    "\n",
    "response = claude.run(prompt=prompt)\n",
    "\n",
    "response.model_dump()"
   ]
  },
  {
   "cell_type": "code",
   "execution_count": 66,
   "metadata": {},
   "outputs": [
    {
     "data": {
      "text/plain": [
       "{'message': {'role': 'assistant',\n",
       "  'content': [{'text': 'Done! The disco ball has come to a stop. \\n\\nYour party space is now set with:\\n\\n* Relaxed music playing at 120 BPM\\n* A comfortable brightness level\\n* No disco ball spinning \\n\\nLet me know if you need anything else. Enjoy your party! 🎉 \\n'}],\n",
       "  'name': None},\n",
       " 'usage': {'model_name': 'gemini-1.5-pro',\n",
       "  'prompt_tokens': 1915,\n",
       "  'completion_tokens': 76},\n",
       " 'prompt': [parts {\n",
       "    text: \"Turn this place into a comfortable party mood!\"\n",
       "  }\n",
       "  role: \"user\",\n",
       "  parts {\n",
       "    function_call {\n",
       "      name: \"power_disco_ball\"\n",
       "      args {\n",
       "        fields {\n",
       "          key: \"power\"\n",
       "          value {\n",
       "            bool_value: true\n",
       "          }\n",
       "        }\n",
       "      }\n",
       "    }\n",
       "  }\n",
       "  parts {\n",
       "    function_call {\n",
       "      name: \"start_music\"\n",
       "      args {\n",
       "        fields {\n",
       "          key: \"loud\"\n",
       "          value {\n",
       "            bool_value: true\n",
       "          }\n",
       "        }\n",
       "        fields {\n",
       "          key: \"energetic\"\n",
       "          value {\n",
       "            bool_value: true\n",
       "          }\n",
       "        }\n",
       "        fields {\n",
       "          key: \"bpm\"\n",
       "          value {\n",
       "            string_value: \"120\"\n",
       "          }\n",
       "        }\n",
       "      }\n",
       "    }\n",
       "  }\n",
       "  parts {\n",
       "    function_call {\n",
       "      name: \"dim_lights\"\n",
       "      args {\n",
       "        fields {\n",
       "          key: \"brightness\"\n",
       "          value {\n",
       "            number_value: 0.5\n",
       "          }\n",
       "        }\n",
       "      }\n",
       "    }\n",
       "  }\n",
       "  role: \"model\",\n",
       "  parts {\n",
       "    function_response {\n",
       "      name: \"power_disco_ball\"\n",
       "      response {\n",
       "        fields {\n",
       "          key: \"content\"\n",
       "          value {\n",
       "            string_value: \"Disco ball is spinning!\"\n",
       "          }\n",
       "        }\n",
       "      }\n",
       "    }\n",
       "  }\n",
       "  parts {\n",
       "    function_response {\n",
       "      name: \"start_music\"\n",
       "      response {\n",
       "        fields {\n",
       "          key: \"content\"\n",
       "          value {\n",
       "            string_value: \"Starting music! energetic=True loud=True, bpm=\\'120\\'\"\n",
       "          }\n",
       "        }\n",
       "      }\n",
       "    }\n",
       "  }\n",
       "  parts {\n",
       "    function_response {\n",
       "      name: \"dim_lights\"\n",
       "      response {\n",
       "        fields {\n",
       "          key: \"content\"\n",
       "          value {\n",
       "            string_value: \"Lights are now set to 0.5\"\n",
       "          }\n",
       "        }\n",
       "      }\n",
       "    }\n",
       "  }\n",
       "  role: \"function\",\n",
       "  parts {\n",
       "    text: \"The party mood is all set! The disco ball is spinning, energetic music is playing at a lively beat of 120 BPM, and the lights are dimmed to create a cozy atmosphere. Get ready to have an amazing time! 🎉💃🕺\"\n",
       "  }\n",
       "  role: \"model\",\n",
       "  parts {\n",
       "    text: \"Can you make bpm up more?\"\n",
       "  }\n",
       "  role: \"user\",\n",
       "  parts {\n",
       "    text: \"Certainly! I can increase the BPM (beats per minute) of the music to create a more upbeat atmosphere. The available options for BPM are 60, 120, and 180. Since we\\'re currently at 120 BPM, I\\'ll increase it to 180 BPM for a more energetic party vibe.\"\n",
       "  }\n",
       "  parts {\n",
       "    function_call {\n",
       "      name: \"start_music\"\n",
       "      args {\n",
       "        fields {\n",
       "          key: \"loud\"\n",
       "          value {\n",
       "            bool_value: true\n",
       "          }\n",
       "        }\n",
       "        fields {\n",
       "          key: \"energetic\"\n",
       "          value {\n",
       "            bool_value: true\n",
       "          }\n",
       "        }\n",
       "        fields {\n",
       "          key: \"bpm\"\n",
       "          value {\n",
       "            string_value: \"180\"\n",
       "          }\n",
       "        }\n",
       "      }\n",
       "    }\n",
       "  }\n",
       "  role: \"model\",\n",
       "  parts {\n",
       "    function_response {\n",
       "      name: \"start_music\"\n",
       "      response {\n",
       "        fields {\n",
       "          key: \"content\"\n",
       "          value {\n",
       "            string_value: \"Starting music! energetic=True loud=True, bpm=\\'180\\'\"\n",
       "          }\n",
       "        }\n",
       "      }\n",
       "    }\n",
       "  }\n",
       "  role: \"function\",\n",
       "  parts {\n",
       "    text: \"Great! I\\'ve increased the music\\'s BPM to 180. The music is now playing at a faster tempo, which should create an even more energetic and lively party atmosphere. The music remains energetic and loud, perfect for dancing and keeping the party spirit high.\\n\\nIs there anything else you\\'d like to adjust to enhance the party mood?\"\n",
       "  }\n",
       "  role: \"model\",\n",
       "  parts {\n",
       "    text: \"Please turn music more relax.\"\n",
       "  }\n",
       "  role: \"user\",\n",
       "  parts {\n",
       "    function_call {\n",
       "      name: \"start_music\"\n",
       "      args {\n",
       "        fields {\n",
       "          key: \"loud\"\n",
       "          value {\n",
       "            bool_value: false\n",
       "          }\n",
       "        }\n",
       "        fields {\n",
       "          key: \"energetic\"\n",
       "          value {\n",
       "            bool_value: false\n",
       "          }\n",
       "        }\n",
       "        fields {\n",
       "          key: \"bpm\"\n",
       "          value {\n",
       "            string_value: \"60\"\n",
       "          }\n",
       "        }\n",
       "      }\n",
       "    }\n",
       "  }\n",
       "  role: \"model\",\n",
       "  parts {\n",
       "    function_response {\n",
       "      name: \"start_music\"\n",
       "      response {\n",
       "        fields {\n",
       "          key: \"content\"\n",
       "          value {\n",
       "            string_value: \"Starting music! energetic=False loud=False, bpm=\\'60\\'\"\n",
       "          }\n",
       "        }\n",
       "      }\n",
       "    }\n",
       "  }\n",
       "  role: \"function\",\n",
       "  parts {\n",
       "    text: \"I\\'ve adjusted the music to a more relaxing vibe with a BPM of 60. The volume is also lowered for a calm atmosphere, perfect for winding down or chatting with friends. Let me know if you\\'d like to make any further changes!\"\n",
       "  }\n",
       "  role: \"model\",\n",
       "  parts {\n",
       "    text: \"Nice. So please go back to the initial bpm.\"\n",
       "  }\n",
       "  role: \"user\",\n",
       "  parts {\n",
       "    function_call {\n",
       "      name: \"start_music\"\n",
       "      args {\n",
       "        fields {\n",
       "          key: \"loud\"\n",
       "          value {\n",
       "            bool_value: false\n",
       "          }\n",
       "        }\n",
       "        fields {\n",
       "          key: \"energetic\"\n",
       "          value {\n",
       "            bool_value: false\n",
       "          }\n",
       "        }\n",
       "        fields {\n",
       "          key: \"bpm\"\n",
       "          value {\n",
       "            string_value: \"120\"\n",
       "          }\n",
       "        }\n",
       "      }\n",
       "    }\n",
       "  }\n",
       "  role: \"model\",\n",
       "  parts {\n",
       "    function_response {\n",
       "      name: \"start_music\"\n",
       "      response {\n",
       "        fields {\n",
       "          key: \"content\"\n",
       "          value {\n",
       "            string_value: \"Starting music! energetic=False loud=False, bpm=\\'120\\'\"\n",
       "          }\n",
       "        }\n",
       "      }\n",
       "    }\n",
       "  }\n",
       "  role: \"function\",\n",
       "  parts {\n",
       "    text: \"Alright, I\\'ve switched the music back to the initial 120 BPM. It\\'s still relaxed and at a lower volume, but with a slightly more upbeat tempo now. 🎶 \\n\\nLet me know if you want to make any other adjustments to the music or anything else in the room! 😊 \\n\"\n",
       "  }\n",
       "  role: \"model\",\n",
       "  parts {\n",
       "    text: \"OK, then turn brightness to 0.7.\"\n",
       "  }\n",
       "  role: \"user\",\n",
       "  parts {\n",
       "    text: \"Certainly! I\\'ll adjust the brightness of the lights for you.\"\n",
       "  }\n",
       "  parts {\n",
       "    function_call {\n",
       "      name: \"dim_lights\"\n",
       "      args {\n",
       "        fields {\n",
       "          key: \"brightness\"\n",
       "          value {\n",
       "            number_value: 0.7\n",
       "          }\n",
       "        }\n",
       "      }\n",
       "    }\n",
       "  }\n",
       "  role: \"model\",\n",
       "  parts {\n",
       "    function_response {\n",
       "      name: \"dim_lights\"\n",
       "      response {\n",
       "        fields {\n",
       "          key: \"content\"\n",
       "          value {\n",
       "            string_value: \"Lights are now set to 0.7\"\n",
       "          }\n",
       "        }\n",
       "      }\n",
       "    }\n",
       "  }\n",
       "  role: \"function\",\n",
       "  parts {\n",
       "    text: \"Great! I\\'ve increased the brightness of the lights to 0.7, which should create a slightly brighter and more vibrant atmosphere while still maintaining a comfortable party mood. \\n\\nTo summarize the current setup:\\n1. The disco ball is spinning\\n2. The music is playing at 120 BPM, not too energetic or loud\\n3. The lights are now at 70% brightness\\n\\nIs there anything else you\\'d like to adjust or change to perfect the ambiance?\"\n",
       "  }\n",
       "  role: \"model\",\n",
       "  parts {\n",
       "    text: \"Finally stop the disco ball.\"\n",
       "  }\n",
       "  role: \"user\",\n",
       "  parts {\n",
       "    function_call {\n",
       "      name: \"power_disco_ball\"\n",
       "      args {\n",
       "        fields {\n",
       "          key: \"power\"\n",
       "          value {\n",
       "            bool_value: false\n",
       "          }\n",
       "        }\n",
       "      }\n",
       "    }\n",
       "  }\n",
       "  role: \"model\",\n",
       "  parts {\n",
       "    function_response {\n",
       "      name: \"power_disco_ball\"\n",
       "      response {\n",
       "        fields {\n",
       "          key: \"content\"\n",
       "          value {\n",
       "            string_value: \"Disco ball is stopped.\"\n",
       "          }\n",
       "        }\n",
       "      }\n",
       "    }\n",
       "  }\n",
       "  role: \"function\"]}"
      ]
     },
     "execution_count": 66,
     "metadata": {},
     "output_type": "execute_result"
    }
   ],
   "source": [
    "prompt = \"Finally stop the disco ball.\"\n",
    "\n",
    "response = gemini.run(prompt)\n",
    "\n",
    "response.model_dump()"
   ]
  },
  {
   "cell_type": "markdown",
   "metadata": {},
   "source": [
    "If you input non-relavant topic, any tool is not called."
   ]
  },
  {
   "cell_type": "code",
   "execution_count": 67,
   "metadata": {},
   "outputs": [
    {
     "data": {
      "text/plain": [
       "{'message': {'role': 'assistant',\n",
       "  'content': [{'text': \"I'm unable to provide real-time weather updates or current data, including the weather for today. I recommend checking a reliable weather website or app for the most accurate and up-to-date information. If there's anything else I can assist you with, let me know!\"}],\n",
       "  'name': None},\n",
       " 'usage': {'model_name': 'gpt-4o-mini-2024-07-18',\n",
       "  'prompt_tokens': 1829,\n",
       "  'completion_tokens': 102},\n",
       " 'prompt': [{'role': 'user',\n",
       "   'content': [{'type': 'text',\n",
       "     'text': 'Turn this place into a comfortable party mood!'}],\n",
       "   'name': 'User'},\n",
       "  {'content': None,\n",
       "   'refusal': None,\n",
       "   'role': 'assistant',\n",
       "   'function_call': None,\n",
       "   'tool_calls': [{'id': 'call_2meoHGpU9xnEskOBHYvOUVHa',\n",
       "     'function': {'arguments': '{\"power\": true}', 'name': 'power_disco_ball'},\n",
       "     'type': 'function'},\n",
       "    {'id': 'call_eS3k3cRgJzCjIdQH5Q1HsSsB',\n",
       "     'function': {'arguments': '{\"energetic\": true, \"loud\": true, \"bpm\": \"120\"}',\n",
       "      'name': 'start_music'},\n",
       "     'type': 'function'},\n",
       "    {'id': 'call_coFf4aSVXyk4M4XRmTuswYZo',\n",
       "     'function': {'arguments': '{\"brightness\": 0.5}', 'name': 'dim_lights'},\n",
       "     'type': 'function'}]},\n",
       "  {'role': 'tool',\n",
       "   'tool_call_id': 'call_2meoHGpU9xnEskOBHYvOUVHa',\n",
       "   'name': 'power_disco_ball',\n",
       "   'content': 'Disco ball is spinning!'},\n",
       "  {'role': 'tool',\n",
       "   'tool_call_id': 'call_eS3k3cRgJzCjIdQH5Q1HsSsB',\n",
       "   'name': 'start_music',\n",
       "   'content': \"Starting music! energetic=True loud=True, bpm='120'\"},\n",
       "  {'role': 'tool',\n",
       "   'tool_call_id': 'call_coFf4aSVXyk4M4XRmTuswYZo',\n",
       "   'name': 'dim_lights',\n",
       "   'content': 'Lights are now set to 0.5'},\n",
       "  {'role': 'assistant',\n",
       "   'content': [{'type': 'text',\n",
       "     'text': 'The party mood is all set! The disco ball is spinning, energetic music is playing at a lively beat of 120 BPM, and the lights are dimmed to create a cozy atmosphere. Get ready to have an amazing time! 🎉💃🕺'}],\n",
       "   'name': 'Assistant'},\n",
       "  {'role': 'user',\n",
       "   'content': [{'type': 'text', 'text': 'Can you make bpm up more?'}],\n",
       "   'name': 'User'},\n",
       "  {'content': None,\n",
       "   'refusal': None,\n",
       "   'role': 'assistant',\n",
       "   'function_call': None,\n",
       "   'tool_calls': [{'id': 'call_0135YwtJABvWNmTVh9E3muVU',\n",
       "     'function': {'arguments': \"{'energetic': True, 'loud': True, 'bpm': '180'}\",\n",
       "      'name': 'start_music'},\n",
       "     'type': 'function'}]},\n",
       "  {'role': 'tool',\n",
       "   'tool_call_id': 'call_0135YwtJABvWNmTVh9E3muVU',\n",
       "   'name': 'start_music',\n",
       "   'content': \"Starting music! energetic=True loud=True, bpm='180'\"},\n",
       "  {'role': 'assistant',\n",
       "   'content': [{'type': 'text',\n",
       "     'text': \"Great! I've increased the music's BPM to 180. The music is now playing at a faster tempo, which should create an even more energetic and lively party atmosphere. The music remains energetic and loud, perfect for dancing and keeping the party spirit high.\\n\\nIs there anything else you'd like to adjust to enhance the party mood?\"}],\n",
       "   'name': 'Assistant'},\n",
       "  {'role': 'user',\n",
       "   'content': [{'type': 'text', 'text': 'Please turn music more relax.'}],\n",
       "   'name': 'User'},\n",
       "  {'content': None,\n",
       "   'refusal': None,\n",
       "   'role': 'assistant',\n",
       "   'function_call': None,\n",
       "   'tool_calls': [{'id': 'call_JPDiIT3PQJrLmgpN3bWKvtND',\n",
       "     'function': {'arguments': '{\"energetic\":false,\"loud\":false,\"bpm\":\"60\"}',\n",
       "      'name': 'start_music'},\n",
       "     'type': 'function'}]},\n",
       "  {'role': 'tool',\n",
       "   'tool_call_id': 'call_JPDiIT3PQJrLmgpN3bWKvtND',\n",
       "   'name': 'start_music',\n",
       "   'content': \"Starting music! energetic=False loud=False, bpm='60'\"},\n",
       "  {'role': 'assistant',\n",
       "   'content': [{'type': 'text',\n",
       "     'text': \"I've adjusted the music to a more relaxing vibe with a BPM of 60. The volume is also lowered for a calm atmosphere, perfect for winding down or chatting with friends. Let me know if you'd like to make any further changes!\"}],\n",
       "   'name': 'Assistant'},\n",
       "  {'role': 'user',\n",
       "   'content': [{'type': 'text',\n",
       "     'text': 'Nice. So please go back to the initial bpm.'}],\n",
       "   'name': 'User'},\n",
       "  {'content': None,\n",
       "   'refusal': None,\n",
       "   'role': 'assistant',\n",
       "   'function_call': None,\n",
       "   'tool_calls': [{'id': 'call_M7q58RXmvmM0pugmUmV17cyz',\n",
       "     'function': {'arguments': \"{'loud': False, 'energetic': False, 'bpm': '120'}\",\n",
       "      'name': 'start_music'},\n",
       "     'type': 'function'}]},\n",
       "  {'role': 'tool',\n",
       "   'tool_call_id': 'call_M7q58RXmvmM0pugmUmV17cyz',\n",
       "   'name': 'start_music',\n",
       "   'content': \"Starting music! energetic=False loud=False, bpm='120'\"},\n",
       "  {'role': 'assistant',\n",
       "   'content': [{'type': 'text',\n",
       "     'text': \"Alright, I've switched the music back to the initial 120 BPM. It's still relaxed and at a lower volume, but with a slightly more upbeat tempo now. 🎶 \\n\\nLet me know if you want to make any other adjustments to the music or anything else in the room! 😊 \\n\"}],\n",
       "   'name': 'Assistant'},\n",
       "  {'role': 'user',\n",
       "   'content': [{'type': 'text', 'text': 'OK, then turn brightness to 0.7.'}],\n",
       "   'name': 'User'},\n",
       "  {'content': None,\n",
       "   'refusal': None,\n",
       "   'role': 'assistant',\n",
       "   'function_call': None,\n",
       "   'tool_calls': [{'id': 'call_01BC9BtWq33YVa79W2Hey1zC',\n",
       "     'function': {'arguments': \"{'brightness': 0.7}\", 'name': 'dim_lights'},\n",
       "     'type': 'function'}]},\n",
       "  {'role': 'tool',\n",
       "   'tool_call_id': 'call_01BC9BtWq33YVa79W2Hey1zC',\n",
       "   'name': 'dim_lights',\n",
       "   'content': 'Lights are now set to 0.7'},\n",
       "  {'role': 'assistant',\n",
       "   'content': [{'type': 'text',\n",
       "     'text': \"Great! I've increased the brightness of the lights to 0.7, which should create a slightly brighter and more vibrant atmosphere while still maintaining a comfortable party mood. \\n\\nTo summarize the current setup:\\n1. The disco ball is spinning\\n2. The music is playing at 120 BPM, not too energetic or loud\\n3. The lights are now at 70% brightness\\n\\nIs there anything else you'd like to adjust or change to perfect the ambiance?\"}],\n",
       "   'name': 'Assistant'},\n",
       "  {'role': 'user',\n",
       "   'content': [{'type': 'text', 'text': 'Finally stop the disco ball.'}],\n",
       "   'name': 'User'},\n",
       "  {'content': None,\n",
       "   'refusal': None,\n",
       "   'role': 'assistant',\n",
       "   'function_call': None,\n",
       "   'tool_calls': [{'id': 'call_fipLwVGnEydQ9ru59ZvCYiBP',\n",
       "     'function': {'arguments': \"{'power': False}\", 'name': 'power_disco_ball'},\n",
       "     'type': 'function'}]},\n",
       "  {'role': 'tool',\n",
       "   'tool_call_id': 'call_fipLwVGnEydQ9ru59ZvCYiBP',\n",
       "   'name': 'power_disco_ball',\n",
       "   'content': 'Disco ball is stopped.'},\n",
       "  {'role': 'assistant',\n",
       "   'content': [{'type': 'text',\n",
       "     'text': 'Done! The disco ball has come to a stop. \\n\\nYour party space is now set with:\\n\\n* Relaxed music playing at 120 BPM\\n* A comfortable brightness level\\n* No disco ball spinning \\n\\nLet me know if you need anything else. Enjoy your party! 🎉 \\n'}],\n",
       "   'name': 'Assistant'},\n",
       "  {'role': 'user',\n",
       "   'content': [{'type': 'text', 'text': 'What is the weather today?'}],\n",
       "   'name': 'User'}]}"
      ]
     },
     "execution_count": 67,
     "metadata": {},
     "output_type": "execute_result"
    }
   ],
   "source": [
    "prompt = \"What is the weather today?\"\n",
    "\n",
    "response = chat_openai.run(prompt)\n",
    "\n",
    "response.model_dump()"
   ]
  },
  {
   "cell_type": "markdown",
   "metadata": {},
   "source": [
    "Conversation is recorded with serialized universal message format."
   ]
  },
  {
   "cell_type": "code",
   "execution_count": 68,
   "metadata": {},
   "outputs": [
    {
     "data": {
      "text/plain": [
       "[{'role': 'user',\n",
       "  'content': [{'text': 'Turn this place into a comfortable party mood!'}],\n",
       "  'name': None},\n",
       " {'role': 'function_call',\n",
       "  'content': [{'name': 'power_disco_ball',\n",
       "    'args': '{\"power\": true}',\n",
       "    'call_id': 'call_2meoHGpU9xnEskOBHYvOUVHa'},\n",
       "   {'name': 'start_music',\n",
       "    'args': '{\"energetic\": true, \"loud\": true, \"bpm\": \"120\"}',\n",
       "    'call_id': 'call_eS3k3cRgJzCjIdQH5Q1HsSsB'},\n",
       "   {'name': 'dim_lights',\n",
       "    'args': '{\"brightness\": 0.5}',\n",
       "    'call_id': 'call_coFf4aSVXyk4M4XRmTuswYZo'}],\n",
       "  'name': None},\n",
       " {'role': 'function',\n",
       "  'content': [{'output': 'Disco ball is spinning!',\n",
       "    'call_id': 'call_2meoHGpU9xnEskOBHYvOUVHa',\n",
       "    'args': '{\"power\": true}',\n",
       "    'funcname': 'power_disco_ball'},\n",
       "   {'output': \"Starting music! energetic=True loud=True, bpm='120'\",\n",
       "    'call_id': 'call_eS3k3cRgJzCjIdQH5Q1HsSsB',\n",
       "    'args': '{\"energetic\": true, \"loud\": true, \"bpm\": \"120\"}',\n",
       "    'funcname': 'start_music'},\n",
       "   {'output': 'Lights are now set to 0.5',\n",
       "    'call_id': 'call_coFf4aSVXyk4M4XRmTuswYZo',\n",
       "    'args': '{\"brightness\": 0.5}',\n",
       "    'funcname': 'dim_lights'}],\n",
       "  'name': None},\n",
       " {'role': 'assistant',\n",
       "  'content': [{'text': 'The party mood is all set! The disco ball is spinning, energetic music is playing at a lively beat of 120 BPM, and the lights are dimmed to create a cozy atmosphere. Get ready to have an amazing time! 🎉💃🕺'}],\n",
       "  'name': None},\n",
       " {'role': 'user',\n",
       "  'content': [{'text': 'Can you make bpm up more?'}],\n",
       "  'name': None},\n",
       " {'role': 'function_call',\n",
       "  'content': [{'text': \"Certainly! I can increase the BPM (beats per minute) of the music to create a more upbeat atmosphere. The available options for BPM are 60, 120, and 180. Since we're currently at 120 BPM, I'll increase it to 180 BPM for a more energetic party vibe.\"},\n",
       "   {'name': 'start_music',\n",
       "    'args': {'energetic': True, 'loud': True, 'bpm': '180'},\n",
       "    'call_id': 'toolu_0135YwtJABvWNmTVh9E3muVU'}],\n",
       "  'name': None},\n",
       " {'role': 'function',\n",
       "  'content': [{'output': \"Starting music! energetic=True loud=True, bpm='180'\",\n",
       "    'call_id': 'toolu_0135YwtJABvWNmTVh9E3muVU',\n",
       "    'args': '{\"energetic\": true, \"loud\": true, \"bpm\": \"180\"}',\n",
       "    'funcname': 'start_music'}],\n",
       "  'name': None},\n",
       " {'role': 'assistant',\n",
       "  'content': [{'text': \"Great! I've increased the music's BPM to 180. The music is now playing at a faster tempo, which should create an even more energetic and lively party atmosphere. The music remains energetic and loud, perfect for dancing and keeping the party spirit high.\\n\\nIs there anything else you'd like to adjust to enhance the party mood?\"}],\n",
       "  'name': None},\n",
       " {'role': 'user',\n",
       "  'content': [{'text': 'Please turn music more relax.'}],\n",
       "  'name': None},\n",
       " {'role': 'function_call',\n",
       "  'content': [{'name': 'start_music',\n",
       "    'args': '{\"energetic\":false,\"loud\":false,\"bpm\":\"60\"}',\n",
       "    'call_id': 'call_JPDiIT3PQJrLmgpN3bWKvtND'}],\n",
       "  'name': None},\n",
       " {'role': 'function',\n",
       "  'content': [{'output': \"Starting music! energetic=False loud=False, bpm='60'\",\n",
       "    'call_id': 'call_JPDiIT3PQJrLmgpN3bWKvtND',\n",
       "    'args': '{\"energetic\":false,\"loud\":false,\"bpm\":\"60\"}',\n",
       "    'funcname': 'start_music'}],\n",
       "  'name': None},\n",
       " {'role': 'assistant',\n",
       "  'content': [{'text': \"I've adjusted the music to a more relaxing vibe with a BPM of 60. The volume is also lowered for a calm atmosphere, perfect for winding down or chatting with friends. Let me know if you'd like to make any further changes!\"}],\n",
       "  'name': None},\n",
       " {'role': 'user',\n",
       "  'content': [{'text': 'Nice. So please go back to the initial bpm.'}],\n",
       "  'name': None},\n",
       " {'role': 'function_call',\n",
       "  'content': [{'name': 'start_music',\n",
       "    'args': {'loud': False, 'energetic': False, 'bpm': '120'},\n",
       "    'call_id': 'M7q58RXmvmM0pugmUmV17cyz'}],\n",
       "  'name': None},\n",
       " {'role': 'function',\n",
       "  'content': [{'output': \"Starting music! energetic=False loud=False, bpm='120'\",\n",
       "    'call_id': 'M7q58RXmvmM0pugmUmV17cyz',\n",
       "    'args': '{\"loud\": false, \"energetic\": false, \"bpm\": \"120\"}',\n",
       "    'funcname': 'start_music'}],\n",
       "  'name': None},\n",
       " {'role': 'assistant',\n",
       "  'content': [{'text': \"Alright, I've switched the music back to the initial 120 BPM. It's still relaxed and at a lower volume, but with a slightly more upbeat tempo now. 🎶 \\n\\nLet me know if you want to make any other adjustments to the music or anything else in the room! 😊 \\n\"}],\n",
       "  'name': None},\n",
       " {'role': 'user',\n",
       "  'content': [{'text': 'OK, then turn brightness to 0.7.'}],\n",
       "  'name': None},\n",
       " {'role': 'function_call',\n",
       "  'content': [{'text': \"Certainly! I'll adjust the brightness of the lights for you.\"},\n",
       "   {'name': 'dim_lights',\n",
       "    'args': {'brightness': 0.7},\n",
       "    'call_id': 'toolu_01BC9BtWq33YVa79W2Hey1zC'}],\n",
       "  'name': None},\n",
       " {'role': 'function',\n",
       "  'content': [{'output': 'Lights are now set to 0.7',\n",
       "    'call_id': 'toolu_01BC9BtWq33YVa79W2Hey1zC',\n",
       "    'args': '{\"brightness\": 0.7}',\n",
       "    'funcname': 'dim_lights'}],\n",
       "  'name': None},\n",
       " {'role': 'assistant',\n",
       "  'content': [{'text': \"Great! I've increased the brightness of the lights to 0.7, which should create a slightly brighter and more vibrant atmosphere while still maintaining a comfortable party mood. \\n\\nTo summarize the current setup:\\n1. The disco ball is spinning\\n2. The music is playing at 120 BPM, not too energetic or loud\\n3. The lights are now at 70% brightness\\n\\nIs there anything else you'd like to adjust or change to perfect the ambiance?\"}],\n",
       "  'name': None},\n",
       " {'role': 'user',\n",
       "  'content': [{'text': 'Finally stop the disco ball.'}],\n",
       "  'name': None},\n",
       " {'role': 'function_call',\n",
       "  'content': [{'name': 'power_disco_ball',\n",
       "    'args': {'power': False},\n",
       "    'call_id': 'fipLwVGnEydQ9ru59ZvCYiBP'}],\n",
       "  'name': None},\n",
       " {'role': 'function',\n",
       "  'content': [{'output': 'Disco ball is stopped.',\n",
       "    'call_id': 'fipLwVGnEydQ9ru59ZvCYiBP',\n",
       "    'args': '{\"power\": false}',\n",
       "    'funcname': 'power_disco_ball'}],\n",
       "  'name': None},\n",
       " {'role': 'assistant',\n",
       "  'content': [{'text': 'Done! The disco ball has come to a stop. \\n\\nYour party space is now set with:\\n\\n* Relaxed music playing at 120 BPM\\n* A comfortable brightness level\\n* No disco ball spinning \\n\\nLet me know if you need anything else. Enjoy your party! 🎉 \\n'}],\n",
       "  'name': None},\n",
       " {'role': 'user',\n",
       "  'content': [{'text': 'What is the weather today?'}],\n",
       "  'name': None},\n",
       " {'role': 'assistant',\n",
       "  'content': [{'text': \"I'm unable to provide real-time weather updates or current data, including the weather for today. I recommend checking a reliable weather website or app for the most accurate and up-to-date information. If there's anything else I can assist you with, let me know!\"}],\n",
       "  'name': None}]"
      ]
     },
     "execution_count": 68,
     "metadata": {},
     "output_type": "execute_result"
    }
   ],
   "source": [
    "shared_memory.load()"
   ]
  },
  {
   "cell_type": "markdown",
   "metadata": {},
   "source": [
    "# Multi-turn conversation with tools and context truncation"
   ]
  },
  {
   "cell_type": "markdown",
   "metadata": {},
   "source": [
    "Although context truncation doesn't work accurately if we use tools, but truncation is useful for token management to some extent."
   ]
  },
  {
   "cell_type": "code",
   "execution_count": 69,
   "metadata": {},
   "outputs": [],
   "source": [
    "from langrila import InMemoryConversationMemory\n",
    "\n",
    "chat_openai = OpenAIFunctionalChat(\n",
    "    api_key_env_name=\"API_KEY\",\n",
    "    model_name=\"gpt-4o-mini-2024-07-18\",\n",
    "    tools=[power_disco_ball, start_music, dim_lights],\n",
    "    tool_configs=tool_configs,\n",
    "    conversation_memory=InMemoryConversationMemory(),\n",
    "    context_length=50,\n",
    ")"
   ]
  },
  {
   "cell_type": "code",
   "execution_count": 70,
   "metadata": {},
   "outputs": [],
   "source": [
    "prompt = \"Turn this place into a comfortable party mood!\"\n",
    "\n",
    "response = chat_openai.run(prompt, tool_choice=\"auto\")"
   ]
  },
  {
   "cell_type": "code",
   "execution_count": 71,
   "metadata": {},
   "outputs": [
    {
     "name": "stdout",
     "output_type": "stream",
     "text": [
      "Input message is truncated because total length of messages exceeds context length.\n",
      "Input message is truncated because total length of messages exceeds context length.\n"
     ]
    }
   ],
   "source": [
    "prompt = \"Can you make bpm up more?\"\n",
    "\n",
    "response = chat_openai.run(prompt=prompt, tool_choice=\"auto\")"
   ]
  },
  {
   "cell_type": "markdown",
   "metadata": {},
   "source": [
    "User message and assistant message are target of truncation while tool call message and tool result message is not."
   ]
  },
  {
   "cell_type": "code",
   "execution_count": 72,
   "metadata": {},
   "outputs": [
    {
     "name": "stdout",
     "output_type": "stream",
     "text": [
      "The music BPM has been increased to 180! Let's crank up the energy! 🎶💃\n"
     ]
    }
   ],
   "source": [
    "print(response.message.content[0].text)"
   ]
  },
  {
   "cell_type": "code",
   "execution_count": 73,
   "metadata": {},
   "outputs": [
    {
     "data": {
      "text/plain": [
       "Usage(prompt_tokens=529, completion_tokens=46, total_tokens=575)"
      ]
     },
     "execution_count": 73,
     "metadata": {},
     "output_type": "execute_result"
    }
   ],
   "source": [
    "response.usage"
   ]
  },
  {
   "cell_type": "code",
   "execution_count": 74,
   "metadata": {},
   "outputs": [
    {
     "data": {
      "text/plain": [
       "[{'content': None,\n",
       "  'refusal': None,\n",
       "  'role': 'assistant',\n",
       "  'function_call': None,\n",
       "  'tool_calls': [{'id': 'call_tozi3YAFKRBvILnFiO3AzWdh',\n",
       "    'function': {'arguments': '{\"power\": true}', 'name': 'power_disco_ball'},\n",
       "    'type': 'function'},\n",
       "   {'id': 'call_bNKKySVyrq4R2Y2ULczA6TOl',\n",
       "    'function': {'arguments': '{\"energetic\": true, \"loud\": true, \"bpm\": \"120\"}',\n",
       "     'name': 'start_music'},\n",
       "    'type': 'function'},\n",
       "   {'id': 'call_JRaW6ADcZzvdRlEUsm6gvX5o',\n",
       "    'function': {'arguments': '{\"brightness\": 0.5}', 'name': 'dim_lights'},\n",
       "    'type': 'function'}]},\n",
       " {'role': 'tool',\n",
       "  'tool_call_id': 'call_tozi3YAFKRBvILnFiO3AzWdh',\n",
       "  'name': 'power_disco_ball',\n",
       "  'content': 'Disco ball is spinning!'},\n",
       " {'role': 'tool',\n",
       "  'tool_call_id': 'call_bNKKySVyrq4R2Y2ULczA6TOl',\n",
       "  'name': 'start_music',\n",
       "  'content': \"Starting music! energetic=True loud=True, bpm='120'\"},\n",
       " {'role': 'tool',\n",
       "  'tool_call_id': 'call_JRaW6ADcZzvdRlEUsm6gvX5o',\n",
       "  'name': 'dim_lights',\n",
       "  'content': 'Lights are now set to 0.5'},\n",
       " {'role': 'assistant',\n",
       "  'name': 'Assistant',\n",
       "  'content': [{'type': 'text',\n",
       "    'text': ' at 120 BPM, and the lights have been dimmed to create the perfect ambiance. Enjoy the celebration! 🕺🎉'}]},\n",
       " {'role': 'user',\n",
       "  'content': [{'type': 'text', 'text': 'Can you make bpm up more?'}],\n",
       "  'name': 'User'},\n",
       " {'content': None,\n",
       "  'refusal': None,\n",
       "  'role': 'assistant',\n",
       "  'function_call': None,\n",
       "  'tool_calls': [{'id': 'call_gbwRNcOkVU30ALAAxijDHz1i',\n",
       "    'function': {'arguments': '{\"energetic\":true,\"loud\":true,\"bpm\":\"180\"}',\n",
       "     'name': 'start_music'},\n",
       "    'type': 'function'}]},\n",
       " {'role': 'tool',\n",
       "  'tool_call_id': 'call_gbwRNcOkVU30ALAAxijDHz1i',\n",
       "  'name': 'start_music',\n",
       "  'content': \"Starting music! energetic=True loud=True, bpm='180'\"}]"
      ]
     },
     "execution_count": 74,
     "metadata": {},
     "output_type": "execute_result"
    }
   ],
   "source": [
    "response.prompt"
   ]
  },
  {
   "cell_type": "code",
   "execution_count": 75,
   "metadata": {},
   "outputs": [
    {
     "data": {
      "text/plain": [
       "[{'role': 'user',\n",
       "  'content': [{'text': 'Turn this place into a comfortable party mood!'}],\n",
       "  'name': None},\n",
       " {'role': 'function_call',\n",
       "  'content': [{'name': 'power_disco_ball',\n",
       "    'args': '{\"power\": true}',\n",
       "    'call_id': 'call_tozi3YAFKRBvILnFiO3AzWdh'},\n",
       "   {'name': 'start_music',\n",
       "    'args': '{\"energetic\": true, \"loud\": true, \"bpm\": \"120\"}',\n",
       "    'call_id': 'call_bNKKySVyrq4R2Y2ULczA6TOl'},\n",
       "   {'name': 'dim_lights',\n",
       "    'args': '{\"brightness\": 0.5}',\n",
       "    'call_id': 'call_JRaW6ADcZzvdRlEUsm6gvX5o'}],\n",
       "  'name': None},\n",
       " {'role': 'function',\n",
       "  'content': [{'output': 'Disco ball is spinning!',\n",
       "    'call_id': 'call_tozi3YAFKRBvILnFiO3AzWdh',\n",
       "    'args': '{\"power\": true}',\n",
       "    'funcname': 'power_disco_ball'},\n",
       "   {'output': \"Starting music! energetic=True loud=True, bpm='120'\",\n",
       "    'call_id': 'call_bNKKySVyrq4R2Y2ULczA6TOl',\n",
       "    'args': '{\"energetic\": true, \"loud\": true, \"bpm\": \"120\"}',\n",
       "    'funcname': 'start_music'},\n",
       "   {'output': 'Lights are now set to 0.5',\n",
       "    'call_id': 'call_JRaW6ADcZzvdRlEUsm6gvX5o',\n",
       "    'args': '{\"brightness\": 0.5}',\n",
       "    'funcname': 'dim_lights'}],\n",
       "  'name': None},\n",
       " {'role': 'assistant',\n",
       "  'content': [{'text': 'The party mood is all set! The disco ball is spinning, the energetic music is pumping at 120 BPM, and the lights have been dimmed to create the perfect ambiance. Enjoy the celebration! 🕺🎉'}],\n",
       "  'name': None},\n",
       " {'role': 'user',\n",
       "  'content': [{'text': 'Can you make bpm up more?'}],\n",
       "  'name': None},\n",
       " {'role': 'function_call',\n",
       "  'content': [{'name': 'start_music',\n",
       "    'args': '{\"energetic\":true,\"loud\":true,\"bpm\":\"180\"}',\n",
       "    'call_id': 'call_gbwRNcOkVU30ALAAxijDHz1i'}],\n",
       "  'name': None},\n",
       " {'role': 'function',\n",
       "  'content': [{'output': \"Starting music! energetic=True loud=True, bpm='180'\",\n",
       "    'call_id': 'call_gbwRNcOkVU30ALAAxijDHz1i',\n",
       "    'args': '{\"energetic\":true,\"loud\":true,\"bpm\":\"180\"}',\n",
       "    'funcname': 'start_music'}],\n",
       "  'name': None},\n",
       " {'role': 'assistant',\n",
       "  'content': [{'text': \"The music BPM has been increased to 180! Let's crank up the energy! 🎶💃\"}],\n",
       "  'name': None}]"
      ]
     },
     "execution_count": 75,
     "metadata": {},
     "output_type": "execute_result"
    }
   ],
   "source": [
    "# whole history\n",
    "chat_openai.conversation_memory.load()"
   ]
  },
  {
   "cell_type": "code",
   "execution_count": null,
   "metadata": {},
   "outputs": [],
   "source": []
  }
 ],
 "metadata": {
  "kernelspec": {
   "display_name": ".venv",
   "language": "python",
   "name": "python3"
  },
  "language_info": {
   "codemirror_mode": {
    "name": "ipython",
    "version": 3
   },
   "file_extension": ".py",
   "mimetype": "text/x-python",
   "name": "python",
   "nbconvert_exporter": "python",
   "pygments_lexer": "ipython3",
   "version": "3.10.12"
  }
 },
 "nbformat": 4,
 "nbformat_minor": 4
}
