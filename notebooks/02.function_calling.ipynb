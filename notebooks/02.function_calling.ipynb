{
 "cells": [
  {
   "cell_type": "code",
   "execution_count": 1,
   "metadata": {},
   "outputs": [],
   "source": [
    "import os\n",
    "import warnings\n",
    "\n",
    "warnings.simplefilter(action=\"ignore\")\n",
    "os.environ[\"GRPC_VERBOSITY\"] = \"NONE\""
   ]
  },
  {
   "cell_type": "markdown",
   "metadata": {},
   "source": [
    "# Prerequisites"
   ]
  },
  {
   "cell_type": "markdown",
   "metadata": {},
   "source": [
    "Please make sure your environmental variables and dependencies are ready to use LLM services. In this notebook, we use ChatGPT, Gemini on GenerativeAI and Anthropic Claude."
   ]
  },
  {
   "cell_type": "code",
   "execution_count": 2,
   "metadata": {},
   "outputs": [
    {
     "data": {
      "text/plain": [
       "True"
      ]
     },
     "execution_count": 2,
     "metadata": {},
     "output_type": "execute_result"
    }
   ],
   "source": [
    "from dotenv import load_dotenv\n",
    "\n",
    "load_dotenv(\"../../.env_api\")"
   ]
  },
  {
   "cell_type": "markdown",
   "metadata": {},
   "source": [
    "# How to input langrila's modules"
   ]
  },
  {
   "cell_type": "markdown",
   "metadata": {},
   "source": [
    "In langrila, universal message class allows you to handle each client message in a same way."
   ]
  },
  {
   "cell_type": "markdown",
   "metadata": {},
   "source": [
    "# Import modules"
   ]
  },
  {
   "cell_type": "code",
   "execution_count": 3,
   "metadata": {},
   "outputs": [],
   "source": [
    "from langrila.claude import Claude\n",
    "from langrila.gemini import Gemini\n",
    "from langrila.openai import ChatGPT"
   ]
  },
  {
   "cell_type": "markdown",
   "metadata": {},
   "source": [
    "# Define tools"
   ]
  },
  {
   "cell_type": "markdown",
   "metadata": {},
   "source": [
    "In this example, we can use these tools."
   ]
  },
  {
   "cell_type": "code",
   "execution_count": 4,
   "metadata": {},
   "outputs": [],
   "source": [
    "def power_disco_ball(power: bool) -> bool:\n",
    "    \"\"\"Powers the spinning disco ball.\"\"\"\n",
    "    return f\"Disco ball is {'spinning!' if power else 'stopped.'}\"\n",
    "\n",
    "\n",
    "def start_music(energetic: bool, loud: bool, bpm: int) -> str:\n",
    "    \"\"\"Play some music matching the specified parameters.\n",
    "\n",
    "    Args:\n",
    "      energetic: Whether the music is energetic or not.\n",
    "      loud: Whether the music is loud or not.\n",
    "      bpm: The beats per minute of the music.\n",
    "\n",
    "    Returns: The name of the song being played.\n",
    "    \"\"\"\n",
    "    return f\"Starting music! {energetic=} {loud=}, {bpm=}\"\n",
    "\n",
    "\n",
    "def dim_lights(brightness: float) -> bool:\n",
    "    \"\"\"Dim the lights.\n",
    "\n",
    "    Args:\n",
    "      brightness: The brightness of the lights, 0.0 is off, 1.0 is full.\n",
    "    \"\"\"\n",
    "    return f\"Lights are now set to {brightness}\""
   ]
  },
  {
   "cell_type": "markdown",
   "metadata": {},
   "source": [
    "# Tool use"
   ]
  },
  {
   "cell_type": "markdown",
   "metadata": {},
   "source": [
    "In langrila, you can define tool configs via ToolProperty, ToolParameter and ToolConfig object."
   ]
  },
  {
   "cell_type": "markdown",
   "metadata": {},
   "source": [
    "### ChatGPT"
   ]
  },
  {
   "cell_type": "code",
   "execution_count": 5,
   "metadata": {},
   "outputs": [],
   "source": [
    "from langrila.openai import ToolConfig, ToolParameter, ToolProperty\n",
    "\n",
    "chatgpt_tool_configs = [\n",
    "    ToolConfig(\n",
    "        name=\"power_disco_ball\",\n",
    "        description=\"Powers the spinning disco ball.\",\n",
    "        parameters=ToolParameter(\n",
    "            properties=[\n",
    "                ToolProperty(\n",
    "                    name=\"power\",\n",
    "                    type=\"boolean\",\n",
    "                    description=\"Boolean to spin disco ball.\",\n",
    "                ),\n",
    "            ],\n",
    "            required=[\"power\"],\n",
    "        ),\n",
    "    ),\n",
    "    ToolConfig(\n",
    "        name=\"start_music\",\n",
    "        description=\"Play some music matching the specified parameters.\",\n",
    "        parameters=ToolParameter(\n",
    "            properties=[\n",
    "                ToolProperty(\n",
    "                    name=\"energetic\",\n",
    "                    type=\"boolean\",\n",
    "                    description=\"Whether the music is energetic or not.\",\n",
    "                ),\n",
    "                ToolProperty(\n",
    "                    name=\"loud\", type=\"boolean\", description=\"Whether the music is loud or not.\"\n",
    "                ),\n",
    "                ToolProperty(\n",
    "                    name=\"bpm\",\n",
    "                    type=\"number\",\n",
    "                    description=\"The beats per minute of the music.\",\n",
    "                    enum=[60, 180],\n",
    "                ),\n",
    "            ],\n",
    "            required=[\"energetic\", \"loud\", \"bpm\"],\n",
    "        ),\n",
    "    ),\n",
    "    ToolConfig(\n",
    "        name=\"dim_lights\",\n",
    "        description=\"Dim the lights.\",\n",
    "        parameters=ToolParameter(\n",
    "            properties=[\n",
    "                ToolProperty(\n",
    "                    name=\"brightness\",\n",
    "                    type=\"number\",\n",
    "                    description=\"The brightness of the lights, 0.0 is off, 1.0 is full.\",\n",
    "                ),\n",
    "            ],\n",
    "            required=[\"brightness\"],\n",
    "        ),\n",
    "    ),\n",
    "]"
   ]
  },
  {
   "cell_type": "markdown",
   "metadata": {},
   "source": [
    "ToolConfig object is internally converted to client tool configs"
   ]
  },
  {
   "cell_type": "code",
   "execution_count": 6,
   "metadata": {},
   "outputs": [
    {
     "data": {
      "text/plain": [
       "{'type': 'function',\n",
       " 'function': {'name': 'start_music',\n",
       "  'description': 'Play some music matching the specified parameters.',\n",
       "  'parameters': {'type': 'object',\n",
       "   'properties': {'energetic': {'type': 'boolean',\n",
       "     'description': 'Whether the music is energetic or not.'},\n",
       "    'loud': {'type': 'boolean',\n",
       "     'description': 'Whether the music is loud or not.'},\n",
       "    'bpm': {'type': 'number',\n",
       "     'description': 'The beats per minute of the music.',\n",
       "     'enum': [60, 180]}},\n",
       "   'required': ['energetic', 'loud', 'bpm']}}}"
      ]
     },
     "execution_count": 6,
     "metadata": {},
     "output_type": "execute_result"
    }
   ],
   "source": [
    "# You can see the formatted tool configs by running the following\n",
    "chatgpt_tool_configs[1].format()"
   ]
  },
  {
   "cell_type": "code",
   "execution_count": 7,
   "metadata": {},
   "outputs": [],
   "source": [
    "chatgpt = ChatGPT(\n",
    "    api_key_env_name=\"API_KEY\",\n",
    "    model_name=\"gpt-4o-mini-2024-07-18\",\n",
    "    tools=[power_disco_ball, start_music, dim_lights],\n",
    "    tool_configs=chatgpt_tool_configs,\n",
    ")"
   ]
  },
  {
   "cell_type": "code",
   "execution_count": 8,
   "metadata": {},
   "outputs": [
    {
     "data": {
      "text/plain": [
       "CompletionResults(message=Message(role='assistant', content=[TextContent(text='The party mood is on! 🎉\\n\\n- The disco ball is spinning, casting fun lights all around!\\n- Energetic music with a lively beat of 180 BPM is blasting through the speakers!\\n- The lights are dimmed to create just the right atmosphere!\\n\\nGet ready to dance and have a great time! 🕺💃')], name=None), usage=Usage(prompt_tokens=131, completion_tokens=69, total_tokens=200), prompt=[{'role': 'user', 'content': [{'type': 'text', 'text': 'Turn this place into a party mood!'}], 'name': None}, {'content': None, 'role': 'assistant', 'function_call': None, 'tool_calls': [{'id': 'call_QUXnFJ4C9wnxr1l1VOSwzqrA', 'function': {'arguments': '{\"power\": true}', 'name': 'power_disco_ball'}, 'type': 'function'}, {'id': 'call_1EIfdLu7MhrLAAG3GSkgZzIu', 'function': {'arguments': '{\"energetic\": true, \"loud\": true, \"bpm\": 180}', 'name': 'start_music'}, 'type': 'function'}, {'id': 'call_Zugj9mVruw9WE03RKbrsKuNA', 'function': {'arguments': '{\"brightness\": 0.5}', 'name': 'dim_lights'}, 'type': 'function'}]}, {'role': 'tool', 'tool_call_id': 'call_QUXnFJ4C9wnxr1l1VOSwzqrA', 'name': 'power_disco_ball', 'content': 'Disco ball is spinning!'}, {'role': 'tool', 'tool_call_id': 'call_1EIfdLu7MhrLAAG3GSkgZzIu', 'name': 'start_music', 'content': 'Starting music! energetic=True loud=True, bpm=180'}, {'role': 'tool', 'tool_call_id': 'call_Zugj9mVruw9WE03RKbrsKuNA', 'name': 'dim_lights', 'content': 'Lights are now set to 0.5'}])"
      ]
     },
     "execution_count": 8,
     "metadata": {},
     "output_type": "execute_result"
    }
   ],
   "source": [
    "prompt = \"Turn this place into a party mood!\"\n",
    "\n",
    "response = chatgpt.run(prompt)\n",
    "\n",
    "# Response is CompletionResults object\n",
    "response"
   ]
  },
  {
   "cell_type": "code",
   "execution_count": 9,
   "metadata": {},
   "outputs": [
    {
     "data": {
      "text/plain": [
       "{'message': {'role': 'assistant',\n",
       "  'content': [{'text': 'The party mood is on! 🎉\\n\\n- The disco ball is spinning, casting fun lights all around!\\n- Energetic music with a lively beat of 180 BPM is blasting through the speakers!\\n- The lights are dimmed to create just the right atmosphere!\\n\\nGet ready to dance and have a great time! 🕺💃'}],\n",
       "  'name': None},\n",
       " 'usage': {'model_name': 'gpt-4o-mini-2024-07-18',\n",
       "  'prompt_tokens': 131,\n",
       "  'completion_tokens': 69},\n",
       " 'prompt': [{'role': 'user',\n",
       "   'content': [{'type': 'text', 'text': 'Turn this place into a party mood!'}],\n",
       "   'name': None},\n",
       "  {'content': None,\n",
       "   'role': 'assistant',\n",
       "   'function_call': None,\n",
       "   'tool_calls': [{'id': 'call_QUXnFJ4C9wnxr1l1VOSwzqrA',\n",
       "     'function': {'arguments': '{\"power\": true}', 'name': 'power_disco_ball'},\n",
       "     'type': 'function'},\n",
       "    {'id': 'call_1EIfdLu7MhrLAAG3GSkgZzIu',\n",
       "     'function': {'arguments': '{\"energetic\": true, \"loud\": true, \"bpm\": 180}',\n",
       "      'name': 'start_music'},\n",
       "     'type': 'function'},\n",
       "    {'id': 'call_Zugj9mVruw9WE03RKbrsKuNA',\n",
       "     'function': {'arguments': '{\"brightness\": 0.5}', 'name': 'dim_lights'},\n",
       "     'type': 'function'}]},\n",
       "  {'role': 'tool',\n",
       "   'tool_call_id': 'call_QUXnFJ4C9wnxr1l1VOSwzqrA',\n",
       "   'name': 'power_disco_ball',\n",
       "   'content': 'Disco ball is spinning!'},\n",
       "  {'role': 'tool',\n",
       "   'tool_call_id': 'call_1EIfdLu7MhrLAAG3GSkgZzIu',\n",
       "   'name': 'start_music',\n",
       "   'content': 'Starting music! energetic=True loud=True, bpm=180'},\n",
       "  {'role': 'tool',\n",
       "   'tool_call_id': 'call_Zugj9mVruw9WE03RKbrsKuNA',\n",
       "   'name': 'dim_lights',\n",
       "   'content': 'Lights are now set to 0.5'}]}"
      ]
     },
     "execution_count": 9,
     "metadata": {},
     "output_type": "execute_result"
    }
   ],
   "source": [
    "response.model_dump()"
   ]
  },
  {
   "cell_type": "markdown",
   "metadata": {},
   "source": [
    "Asynchronous generation"
   ]
  },
  {
   "cell_type": "code",
   "execution_count": 10,
   "metadata": {},
   "outputs": [
    {
     "data": {
      "text/plain": [
       "CompletionResults(message=Message(role='assistant', content=[TextContent(text=\"The party mood is in full swing! 🎉 \\n\\n- **Music**: Energetic tracks are blasting at 180 BPM! 🎶\\n- **Disco Ball**: The disco ball is spinning, adding that perfect sparkle! ✨\\n- **Lights**: The lights are dimmed to a cozy half-brightness for that festive vibe! \\n\\nLet the celebrations begin! 🕺💃 What's next on the party agenda?\")], name=None), usage=Usage(prompt_tokens=131, completion_tokens=91, total_tokens=222), prompt=[{'role': 'user', 'content': [{'type': 'text', 'text': 'Turn this place into a party mood!'}], 'name': None}, {'content': None, 'role': 'assistant', 'function_call': None, 'tool_calls': [{'id': 'call_DU81krTjApmku8RItZjdbh3s', 'function': {'arguments': '{\"energetic\": true, \"loud\": true, \"bpm\": 180}', 'name': 'start_music'}, 'type': 'function'}, {'id': 'call_3envFHq50HayaVmV515O0WXB', 'function': {'arguments': '{\"power\": true}', 'name': 'power_disco_ball'}, 'type': 'function'}, {'id': 'call_UbQaqyO9skeICXOnsdCetU3b', 'function': {'arguments': '{\"brightness\": 0.5}', 'name': 'dim_lights'}, 'type': 'function'}]}, {'role': 'tool', 'tool_call_id': 'call_DU81krTjApmku8RItZjdbh3s', 'name': 'start_music', 'content': 'Starting music! energetic=True loud=True, bpm=180'}, {'role': 'tool', 'tool_call_id': 'call_3envFHq50HayaVmV515O0WXB', 'name': 'power_disco_ball', 'content': 'Disco ball is spinning!'}, {'role': 'tool', 'tool_call_id': 'call_UbQaqyO9skeICXOnsdCetU3b', 'name': 'dim_lights', 'content': 'Lights are now set to 0.5'}])"
      ]
     },
     "execution_count": 10,
     "metadata": {},
     "output_type": "execute_result"
    }
   ],
   "source": [
    "response = await chatgpt.arun(prompt)\n",
    "response"
   ]
  },
  {
   "cell_type": "markdown",
   "metadata": {},
   "source": [
    "multiple generation"
   ]
  },
  {
   "cell_type": "code",
   "execution_count": 10,
   "metadata": {},
   "outputs": [
    {
     "data": {
      "text/plain": [
       "{'role': 'assistant',\n",
       " 'content': [{'text': 'The party mood is in full swing! 🎉 The disco ball is spinning, the energetic music is blasting at 180 BPM, and the lights are dimmed just right to create that perfect vibe. Let’s get this celebration started! 🍾🕺💃'},\n",
       "  {'text': 'The party vibe is on! The disco ball is spinning, energetic music is blasting at 180 BPM, and the lights are dimmed to set the perfect mood. Let’s get this celebration started! 🕺🎉✨'}],\n",
       " 'name': None}"
      ]
     },
     "execution_count": 10,
     "metadata": {},
     "output_type": "execute_result"
    }
   ],
   "source": [
    "response = chatgpt.run(prompt, n_results=2)\n",
    "response.message.model_dump()"
   ]
  },
  {
   "cell_type": "markdown",
   "metadata": {},
   "source": [
    "You can get the results from specific tool."
   ]
  },
  {
   "cell_type": "code",
   "execution_count": 11,
   "metadata": {},
   "outputs": [
    {
     "data": {
      "text/plain": [
       "{'message': {'role': 'assistant',\n",
       "  'content': [{'text': 'The music is pumping at 180 BPM! Let’s set the scene for an unforgettable party:\\n\\n🎉 **Lighting:** Dim the overhead lights and add colorful LED lights to create a vibrant atmosphere. Maybe even some disco balls for that retro vibe!\\n\\n🎈 **Decorations:** Blow up balloons and hang streamers. You could set up a photo booth with fun props for some memorable snapshots!\\n\\n🍹 **Drinks:** Set up a drinks station with colorful cocktails and mocktails, along with some fun drinkware. Don’t forget a punch bowl for that extra party flair!\\n\\n🍕 **Snacks:** Arrange a buffet of easy-to-eat finger foods like sliders, nachos, and veggie platters. Party food that lets people mingle!\\n\\n🎶 **Dance Floor:** Clear a space for dancing! Encourage everyone to show off their best moves as the bass drops.\\n\\n📅 **Games:** Set up some fun party games like a dance-off or a karaoke machine to keep the energy high!\\n\\nWith all that set, let the party begin! 🎊💃🕺'}],\n",
       "  'name': None},\n",
       " 'usage': {'model_name': 'gpt-4o-mini-2024-07-18',\n",
       "  'prompt_tokens': 60,\n",
       "  'completion_tokens': 216},\n",
       " 'prompt': [{'role': 'user',\n",
       "   'content': [{'type': 'text', 'text': 'Turn this place into a party mood!'}],\n",
       "   'name': None},\n",
       "  {'content': None,\n",
       "   'role': 'assistant',\n",
       "   'function_call': None,\n",
       "   'tool_calls': [{'id': 'call_SwYqCdYUINtgBTJyGgeZ1GLS',\n",
       "     'function': {'arguments': '{\"energetic\":true,\"loud\":true,\"bpm\":180}',\n",
       "      'name': 'start_music'},\n",
       "     'type': 'function'}]},\n",
       "  {'role': 'tool',\n",
       "   'tool_call_id': 'call_SwYqCdYUINtgBTJyGgeZ1GLS',\n",
       "   'name': 'start_music',\n",
       "   'content': 'Starting music! energetic=True loud=True, bpm=180'}]}"
      ]
     },
     "execution_count": 11,
     "metadata": {},
     "output_type": "execute_result"
    }
   ],
   "source": [
    "prompt = \"Turn this place into a party mood!\"\n",
    "\n",
    "response = chatgpt.run(prompt, tool_choice=\"start_music\")\n",
    "\n",
    "# Show result\n",
    "response.model_dump()"
   ]
  },
  {
   "cell_type": "markdown",
   "metadata": {},
   "source": [
    "If you specify tool_only option as True, you get the FunctionCallingResults object instead of CompletionResults object."
   ]
  },
  {
   "cell_type": "code",
   "execution_count": 12,
   "metadata": {},
   "outputs": [
    {
     "data": {
      "text/plain": [
       "FunctionCallingResults(usage=Usage(prompt_tokens=163, completion_tokens=75, total_tokens=238), results=[Message(role='function', content=[ToolContent(output='Disco ball is spinning!', call_id='call_BRVYgc6Ql42Mz6lcLfdajWCY', args='{\"power\": true}', funcname='power_disco_ball')], name='power_disco_ball'), Message(role='function', content=[ToolContent(output='Starting music! energetic=True loud=True, bpm=180', call_id='call_SmBzqbnmB6JlVdt3D5hEWfH8', args='{\"energetic\": true, \"loud\": true, \"bpm\": 180}', funcname='start_music')], name='start_music'), Message(role='function', content=[ToolContent(output='Lights are now set to 0.5', call_id='call_3iCL7TT2f3lgEVa8K1cOElHr', args='{\"brightness\": 0.5}', funcname='dim_lights')], name='dim_lights')], calls=Message(role='function_call', content=[ToolCall(name='power_disco_ball', args='{\"power\": true}', call_id='call_BRVYgc6Ql42Mz6lcLfdajWCY'), ToolCall(name='start_music', args='{\"energetic\": true, \"loud\": true, \"bpm\": 180}', call_id='call_SmBzqbnmB6JlVdt3D5hEWfH8'), ToolCall(name='dim_lights', args='{\"brightness\": 0.5}', call_id='call_3iCL7TT2f3lgEVa8K1cOElHr')], name=None), prompt=[{'role': 'user', 'content': [{'type': 'text', 'text': 'Turn this place into a party mood!'}], 'name': None}])"
      ]
     },
     "execution_count": 12,
     "metadata": {},
     "output_type": "execute_result"
    }
   ],
   "source": [
    "response = chatgpt.run(prompt, tool_only=True)\n",
    "response"
   ]
  },
  {
   "cell_type": "code",
   "execution_count": 13,
   "metadata": {},
   "outputs": [
    {
     "data": {
      "text/plain": [
       "{'usage': {'model_name': 'gpt-4o-mini-2024-07-18',\n",
       "  'prompt_tokens': 163,\n",
       "  'completion_tokens': 75},\n",
       " 'results': [{'role': 'function',\n",
       "   'content': [{'output': 'Disco ball is spinning!',\n",
       "     'call_id': 'call_BRVYgc6Ql42Mz6lcLfdajWCY',\n",
       "     'args': '{\"power\": true}',\n",
       "     'funcname': 'power_disco_ball'}],\n",
       "   'name': 'power_disco_ball'},\n",
       "  {'role': 'function',\n",
       "   'content': [{'output': 'Starting music! energetic=True loud=True, bpm=180',\n",
       "     'call_id': 'call_SmBzqbnmB6JlVdt3D5hEWfH8',\n",
       "     'args': '{\"energetic\": true, \"loud\": true, \"bpm\": 180}',\n",
       "     'funcname': 'start_music'}],\n",
       "   'name': 'start_music'},\n",
       "  {'role': 'function',\n",
       "   'content': [{'output': 'Lights are now set to 0.5',\n",
       "     'call_id': 'call_3iCL7TT2f3lgEVa8K1cOElHr',\n",
       "     'args': '{\"brightness\": 0.5}',\n",
       "     'funcname': 'dim_lights'}],\n",
       "   'name': 'dim_lights'}],\n",
       " 'calls': {'role': 'function_call',\n",
       "  'content': [{'name': 'power_disco_ball',\n",
       "    'args': '{\"power\": true}',\n",
       "    'call_id': 'call_BRVYgc6Ql42Mz6lcLfdajWCY'},\n",
       "   {'name': 'start_music',\n",
       "    'args': '{\"energetic\": true, \"loud\": true, \"bpm\": 180}',\n",
       "    'call_id': 'call_SmBzqbnmB6JlVdt3D5hEWfH8'},\n",
       "   {'name': 'dim_lights',\n",
       "    'args': '{\"brightness\": 0.5}',\n",
       "    'call_id': 'call_3iCL7TT2f3lgEVa8K1cOElHr'}],\n",
       "  'name': None},\n",
       " 'prompt': [{'role': 'user',\n",
       "   'content': [{'type': 'text', 'text': 'Turn this place into a party mood!'}],\n",
       "   'name': None}]}"
      ]
     },
     "execution_count": 13,
     "metadata": {},
     "output_type": "execute_result"
    }
   ],
   "source": [
    "response.model_dump()"
   ]
  },
  {
   "cell_type": "code",
   "execution_count": 14,
   "metadata": {},
   "outputs": [
    {
     "data": {
      "text/plain": [
       "[Message(role='function', content=[ToolContent(output='Disco ball is spinning!', call_id='call_BRVYgc6Ql42Mz6lcLfdajWCY', args='{\"power\": true}', funcname='power_disco_ball')], name='power_disco_ball'),\n",
       " Message(role='function', content=[ToolContent(output='Starting music! energetic=True loud=True, bpm=180', call_id='call_SmBzqbnmB6JlVdt3D5hEWfH8', args='{\"energetic\": true, \"loud\": true, \"bpm\": 180}', funcname='start_music')], name='start_music'),\n",
       " Message(role='function', content=[ToolContent(output='Lights are now set to 0.5', call_id='call_3iCL7TT2f3lgEVa8K1cOElHr', args='{\"brightness\": 0.5}', funcname='dim_lights')], name='dim_lights')]"
      ]
     },
     "execution_count": 14,
     "metadata": {},
     "output_type": "execute_result"
    }
   ],
   "source": [
    "# Tool result messages\n",
    "\n",
    "response.results"
   ]
  },
  {
   "cell_type": "code",
   "execution_count": 15,
   "metadata": {},
   "outputs": [
    {
     "data": {
      "text/plain": [
       "Message(role='function_call', content=[ToolCall(name='power_disco_ball', args='{\"power\": true}', call_id='call_BRVYgc6Ql42Mz6lcLfdajWCY'), ToolCall(name='start_music', args='{\"energetic\": true, \"loud\": true, \"bpm\": 180}', call_id='call_SmBzqbnmB6JlVdt3D5hEWfH8'), ToolCall(name='dim_lights', args='{\"brightness\": 0.5}', call_id='call_3iCL7TT2f3lgEVa8K1cOElHr')], name=None)"
      ]
     },
     "execution_count": 15,
     "metadata": {},
     "output_type": "execute_result"
    }
   ],
   "source": [
    "# Tool call messages\n",
    "\n",
    "response.calls"
   ]
  },
  {
   "cell_type": "markdown",
   "metadata": {},
   "source": [
    "### Gemini on GenerativeAI"
   ]
  },
  {
   "cell_type": "code",
   "execution_count": 12,
   "metadata": {},
   "outputs": [],
   "source": [
    "from langrila.gemini.genai import ToolConfig, ToolParameter, ToolProperty\n",
    "\n",
    "# NOTE : following tool_configs is almost same as that of OpenAI\n",
    "gemini_tool_configs = [\n",
    "    ToolConfig(\n",
    "        name=\"power_disco_ball\",\n",
    "        description=\"Powers the spinning disco ball.\",\n",
    "        parameters=ToolParameter(\n",
    "            properties=[\n",
    "                ToolProperty(\n",
    "                    name=\"power\",\n",
    "                    type=\"boolean\",\n",
    "                    description=\"Boolean to spin disco ball.\",\n",
    "                ),\n",
    "            ],\n",
    "            required=[\"power\"],\n",
    "        ),\n",
    "    ),\n",
    "    ToolConfig(\n",
    "        name=\"start_music\",\n",
    "        description=\"Play some music matching the specified parameters.\",\n",
    "        parameters=ToolParameter(\n",
    "            properties=[\n",
    "                ToolProperty(\n",
    "                    name=\"energetic\",\n",
    "                    type=\"boolean\",\n",
    "                    description=\"Whether the music is energetic or not.\",\n",
    "                ),\n",
    "                ToolProperty(\n",
    "                    name=\"loud\", type=\"boolean\", description=\"Whether the music is loud or not.\"\n",
    "                ),\n",
    "                ToolProperty(\n",
    "                    name=\"bpm\",\n",
    "                    type=\"string\",\n",
    "                    description=\"The beats per minute of the music.\",\n",
    "                    enum=[\"60\", \"180\", \"240\"],  # gemini does not support numerical enum\n",
    "                ),\n",
    "            ],\n",
    "            required=[\"energetic\", \"loud\", \"bpm\"],\n",
    "        ),\n",
    "    ),\n",
    "    ToolConfig(\n",
    "        name=\"dim_lights\",\n",
    "        description=\"Dim the lights.\",\n",
    "        parameters=ToolParameter(\n",
    "            properties=[\n",
    "                ToolProperty(\n",
    "                    name=\"brightness\",\n",
    "                    type=\"number\",\n",
    "                    description=\"The brightness of the lights, 0.0 is off, 1.0 is full.\",\n",
    "                ),\n",
    "            ],\n",
    "            required=[\"brightness\"],\n",
    "        ),\n",
    "    ),\n",
    "]"
   ]
  },
  {
   "cell_type": "code",
   "execution_count": 13,
   "metadata": {},
   "outputs": [
    {
     "data": {
      "text/plain": [
       "name: \"start_music\"\n",
       "description: \"Play some music matching the specified parameters.\"\n",
       "parameters {\n",
       "  type_: OBJECT\n",
       "  properties {\n",
       "    key: \"loud\"\n",
       "    value {\n",
       "      type_: BOOLEAN\n",
       "      description: \"Whether the music is loud or not.\"\n",
       "    }\n",
       "  }\n",
       "  properties {\n",
       "    key: \"energetic\"\n",
       "    value {\n",
       "      type_: BOOLEAN\n",
       "      description: \"Whether the music is energetic or not.\"\n",
       "    }\n",
       "  }\n",
       "  properties {\n",
       "    key: \"bpm\"\n",
       "    value {\n",
       "      type_: STRING\n",
       "      description: \"The beats per minute of the music.\"\n",
       "      enum: \"60\"\n",
       "      enum: \"180\"\n",
       "      enum: \"240\"\n",
       "    }\n",
       "  }\n",
       "  required: \"energetic\"\n",
       "  required: \"loud\"\n",
       "  required: \"bpm\"\n",
       "}"
      ]
     },
     "execution_count": 13,
     "metadata": {},
     "output_type": "execute_result"
    }
   ],
   "source": [
    "# You can see the formatted tool config as follows\n",
    "gemini_tool_configs[1].format()"
   ]
  },
  {
   "cell_type": "code",
   "execution_count": 14,
   "metadata": {},
   "outputs": [],
   "source": [
    "gemini = Gemini(\n",
    "    api_key_env_name=\"GEMINI_API_KEY\",\n",
    "    model_name=\"gemini-1.5-pro\",\n",
    "    tools=[power_disco_ball, start_music, dim_lights],\n",
    "    tool_configs=gemini_tool_configs,\n",
    ")"
   ]
  },
  {
   "cell_type": "code",
   "execution_count": 15,
   "metadata": {},
   "outputs": [
    {
     "data": {
      "text/plain": [
       "{'message': {'role': 'assistant',\n",
       "  'content': [{'text': \"The disco ball is ALIVE!  Music is pumping and the lights are low. Let's get this party started! 🎉🥳 \\n\"}],\n",
       "  'name': None},\n",
       " 'usage': {'model_name': 'gemini-1.5-pro',\n",
       "  'prompt_tokens': 143,\n",
       "  'completion_tokens': 26},\n",
       " 'prompt': [parts {\n",
       "    text: \"Turn this place into a party!\"\n",
       "  }\n",
       "  role: \"user\",\n",
       "  parts {\n",
       "    function_call {\n",
       "      name: \"power_disco_ball\"\n",
       "      args {\n",
       "        fields {\n",
       "          key: \"power\"\n",
       "          value {\n",
       "            bool_value: true\n",
       "          }\n",
       "        }\n",
       "      }\n",
       "    }\n",
       "  }\n",
       "  parts {\n",
       "    function_call {\n",
       "      name: \"start_music\"\n",
       "      args {\n",
       "        fields {\n",
       "          key: \"loud\"\n",
       "          value {\n",
       "            bool_value: true\n",
       "          }\n",
       "        }\n",
       "        fields {\n",
       "          key: \"energetic\"\n",
       "          value {\n",
       "            bool_value: true\n",
       "          }\n",
       "        }\n",
       "        fields {\n",
       "          key: \"bpm\"\n",
       "          value {\n",
       "            string_value: \"180\"\n",
       "          }\n",
       "        }\n",
       "      }\n",
       "    }\n",
       "  }\n",
       "  parts {\n",
       "    function_call {\n",
       "      name: \"dim_lights\"\n",
       "      args {\n",
       "        fields {\n",
       "          key: \"brightness\"\n",
       "          value {\n",
       "            number_value: 0.5\n",
       "          }\n",
       "        }\n",
       "      }\n",
       "    }\n",
       "  }\n",
       "  role: \"model\",\n",
       "  parts {\n",
       "    function_response {\n",
       "      name: \"power_disco_ball\"\n",
       "      response {\n",
       "        fields {\n",
       "          key: \"content\"\n",
       "          value {\n",
       "            string_value: \"Disco ball is spinning!\"\n",
       "          }\n",
       "        }\n",
       "      }\n",
       "    }\n",
       "  }\n",
       "  parts {\n",
       "    function_response {\n",
       "      name: \"start_music\"\n",
       "      response {\n",
       "        fields {\n",
       "          key: \"content\"\n",
       "          value {\n",
       "            string_value: \"Starting music! energetic=True loud=True, bpm=\\'180\\'\"\n",
       "          }\n",
       "        }\n",
       "      }\n",
       "    }\n",
       "  }\n",
       "  parts {\n",
       "    function_response {\n",
       "      name: \"dim_lights\"\n",
       "      response {\n",
       "        fields {\n",
       "          key: \"content\"\n",
       "          value {\n",
       "            string_value: \"Lights are now set to 0.5\"\n",
       "          }\n",
       "        }\n",
       "      }\n",
       "    }\n",
       "  }\n",
       "  role: \"user\"]}"
      ]
     },
     "execution_count": 15,
     "metadata": {},
     "output_type": "execute_result"
    }
   ],
   "source": [
    "prompt = \"Turn this place into a party!\"\n",
    "response = gemini.run(prompt)\n",
    "\n",
    "# show result\n",
    "response.model_dump()"
   ]
  },
  {
   "cell_type": "markdown",
   "metadata": {},
   "source": [
    "Asynchronous generation"
   ]
  },
  {
   "cell_type": "code",
   "execution_count": 16,
   "metadata": {},
   "outputs": [
    {
     "data": {
      "text/plain": [
       "{'message': {'role': 'assistant',\n",
       "  'content': [{'text': 'Alright, the disco ball is spinning, the music is pumping, and the lights are dimmed! Time to get this party started! 🎉 \\U0001faa9 🎶 \\n'}],\n",
       "  'name': None},\n",
       " 'usage': {'model_name': 'gemini-1.5-pro',\n",
       "  'prompt_tokens': 143,\n",
       "  'completion_tokens': 31},\n",
       " 'prompt': [parts {\n",
       "    text: \"Turn this place into a party!\"\n",
       "  }\n",
       "  role: \"user\",\n",
       "  parts {\n",
       "    function_call {\n",
       "      name: \"power_disco_ball\"\n",
       "      args {\n",
       "        fields {\n",
       "          key: \"power\"\n",
       "          value {\n",
       "            bool_value: true\n",
       "          }\n",
       "        }\n",
       "      }\n",
       "    }\n",
       "  }\n",
       "  parts {\n",
       "    function_call {\n",
       "      name: \"start_music\"\n",
       "      args {\n",
       "        fields {\n",
       "          key: \"loud\"\n",
       "          value {\n",
       "            bool_value: true\n",
       "          }\n",
       "        }\n",
       "        fields {\n",
       "          key: \"energetic\"\n",
       "          value {\n",
       "            bool_value: true\n",
       "          }\n",
       "        }\n",
       "        fields {\n",
       "          key: \"bpm\"\n",
       "          value {\n",
       "            string_value: \"180\"\n",
       "          }\n",
       "        }\n",
       "      }\n",
       "    }\n",
       "  }\n",
       "  parts {\n",
       "    function_call {\n",
       "      name: \"dim_lights\"\n",
       "      args {\n",
       "        fields {\n",
       "          key: \"brightness\"\n",
       "          value {\n",
       "            number_value: 0.5\n",
       "          }\n",
       "        }\n",
       "      }\n",
       "    }\n",
       "  }\n",
       "  role: \"model\",\n",
       "  parts {\n",
       "    function_response {\n",
       "      name: \"power_disco_ball\"\n",
       "      response {\n",
       "        fields {\n",
       "          key: \"content\"\n",
       "          value {\n",
       "            string_value: \"Disco ball is spinning!\"\n",
       "          }\n",
       "        }\n",
       "      }\n",
       "    }\n",
       "  }\n",
       "  parts {\n",
       "    function_response {\n",
       "      name: \"start_music\"\n",
       "      response {\n",
       "        fields {\n",
       "          key: \"content\"\n",
       "          value {\n",
       "            string_value: \"Starting music! energetic=True loud=True, bpm=\\'180\\'\"\n",
       "          }\n",
       "        }\n",
       "      }\n",
       "    }\n",
       "  }\n",
       "  parts {\n",
       "    function_response {\n",
       "      name: \"dim_lights\"\n",
       "      response {\n",
       "        fields {\n",
       "          key: \"content\"\n",
       "          value {\n",
       "            string_value: \"Lights are now set to 0.5\"\n",
       "          }\n",
       "        }\n",
       "      }\n",
       "    }\n",
       "  }\n",
       "  role: \"user\"]}"
      ]
     },
     "execution_count": 16,
     "metadata": {},
     "output_type": "execute_result"
    }
   ],
   "source": [
    "response = await gemini.arun(prompt)\n",
    "\n",
    "# show result\n",
    "response.model_dump()"
   ]
  },
  {
   "cell_type": "markdown",
   "metadata": {},
   "source": [
    "Gemini allows you to call specific tool as well as ChatGPT."
   ]
  },
  {
   "cell_type": "code",
   "execution_count": 21,
   "metadata": {},
   "outputs": [
    {
     "data": {
      "text/plain": [
       "{'message': {'role': 'assistant',\n",
       "  'content': [{'text': \"Alright, everybody get on the floor!  Let's get this party STARTED! 🎉🥳 🎶 \\n\"}],\n",
       "  'name': None},\n",
       " 'usage': {'model_name': 'gemini-1.5-pro',\n",
       "  'prompt_tokens': 66,\n",
       "  'completion_tokens': 21},\n",
       " 'prompt': [parts {\n",
       "    text: \"Turn this place into a party!\"\n",
       "  }\n",
       "  role: \"user\",\n",
       "  parts {\n",
       "    function_call {\n",
       "      name: \"start_music\"\n",
       "      args {\n",
       "        fields {\n",
       "          key: \"loud\"\n",
       "          value {\n",
       "            bool_value: true\n",
       "          }\n",
       "        }\n",
       "        fields {\n",
       "          key: \"energetic\"\n",
       "          value {\n",
       "            bool_value: true\n",
       "          }\n",
       "        }\n",
       "        fields {\n",
       "          key: \"bpm\"\n",
       "          value {\n",
       "            string_value: \"240\"\n",
       "          }\n",
       "        }\n",
       "      }\n",
       "    }\n",
       "  }\n",
       "  role: \"model\",\n",
       "  parts {\n",
       "    function_response {\n",
       "      name: \"start_music\"\n",
       "      response {\n",
       "        fields {\n",
       "          key: \"content\"\n",
       "          value {\n",
       "            string_value: \"Starting music! energetic=True loud=True, bpm=\\'240\\'\"\n",
       "          }\n",
       "        }\n",
       "      }\n",
       "    }\n",
       "  }\n",
       "  role: \"user\"]}"
      ]
     },
     "execution_count": 21,
     "metadata": {},
     "output_type": "execute_result"
    }
   ],
   "source": [
    "prompt = \"Turn this place into a party!\"\n",
    "response = gemini.run(prompt, tool_choice=\"start_music\")\n",
    "\n",
    "# show result\n",
    "response.model_dump()"
   ]
  },
  {
   "cell_type": "markdown",
   "metadata": {},
   "source": [
    "### Gemini on VertexAI"
   ]
  },
  {
   "cell_type": "code",
   "execution_count": 17,
   "metadata": {},
   "outputs": [],
   "source": [
    "from langrila.gemini.vertexai import ToolConfig, ToolParameter, ToolProperty\n",
    "\n",
    "# NOTE : following tool_configs is almost same as that of OpenAI\n",
    "gemini_tool_configs = [\n",
    "    ToolConfig(\n",
    "        name=\"power_disco_ball\",\n",
    "        description=\"Powers the spinning disco ball.\",\n",
    "        parameters=ToolParameter(\n",
    "            properties=[\n",
    "                ToolProperty(\n",
    "                    name=\"power\",\n",
    "                    type=\"boolean\",\n",
    "                    description=\"Boolean to spin disco ball.\",\n",
    "                ),\n",
    "            ],\n",
    "            required=[\"power\"],\n",
    "        ),\n",
    "    ),\n",
    "    ToolConfig(\n",
    "        name=\"start_music\",\n",
    "        description=\"Play some music matching the specified parameters.\",\n",
    "        parameters=ToolParameter(\n",
    "            properties=[\n",
    "                ToolProperty(\n",
    "                    name=\"energetic\",\n",
    "                    type=\"boolean\",\n",
    "                    description=\"Whether the music is energetic or not.\",\n",
    "                ),\n",
    "                ToolProperty(\n",
    "                    name=\"loud\", type=\"boolean\", description=\"Whether the music is loud or not.\"\n",
    "                ),\n",
    "                ToolProperty(\n",
    "                    name=\"bpm\",\n",
    "                    type=\"string\",\n",
    "                    description=\"The beats per minute of the music.\",\n",
    "                    enum=[\"60\", \"180\", \"240\"],  # gemini does not support numerical enum\n",
    "                ),\n",
    "            ],\n",
    "            required=[\"energetic\", \"loud\", \"bpm\"],\n",
    "        ),\n",
    "    ),\n",
    "    ToolConfig(\n",
    "        name=\"dim_lights\",\n",
    "        description=\"Dim the lights.\",\n",
    "        parameters=ToolParameter(\n",
    "            properties=[\n",
    "                ToolProperty(\n",
    "                    name=\"brightness\",\n",
    "                    type=\"number\",\n",
    "                    description=\"The brightness of the lights, 0.0 is off, 1.0 is full.\",\n",
    "                ),\n",
    "            ],\n",
    "            required=[\"brightness\"],\n",
    "        ),\n",
    "    ),\n",
    "]"
   ]
  },
  {
   "cell_type": "code",
   "execution_count": 20,
   "metadata": {},
   "outputs": [],
   "source": [
    "gemini_vertexai = Gemini(\n",
    "    model_name=\"gemini-1.5-flash\",\n",
    "    api_type=\"vertexai\",\n",
    "    project_id_env_name=\"PROJECT_ID\",\n",
    "    location_env_name=\"LOCATION\",\n",
    "    tools=[power_disco_ball, start_music, dim_lights],\n",
    "    tool_configs=gemini_tool_configs,\n",
    ")"
   ]
  },
  {
   "cell_type": "code",
   "execution_count": 21,
   "metadata": {},
   "outputs": [],
   "source": [
    "response = gemini_vertexai.run(\"Turn this place into a party!\")"
   ]
  },
  {
   "cell_type": "code",
   "execution_count": 23,
   "metadata": {},
   "outputs": [
    {
     "data": {
      "text/plain": [
       "CompletionResults(message=Message(role='assistant', content=[TextContent(text=\"Okay! I'm turning this place into a party! 🎉\\n\\nI've already started the music - it's high energy, loud, and ready to get everyone moving! 🎶\\n\\nThe disco ball is spinning, casting shimmering lights everywhere, and the lights have been dimmed to create the perfect party atmosphere! \\U0001faa9\\n\\nWhat else can I do to make this the best party ever? Tell me:\\n\\n* **What kind of music do you want?** (e.g., pop, hip hop, electronic)\\n* **Do you want any snacks or drinks?**\\n* **What kind of activities or games should we play?**\\n* **Do you want any decorations?** \\n\\nLet's get this party started! 🥳 \\n\")], name=None), usage=Usage(prompt_tokens=71, completion_tokens=156, total_tokens=227), prompt=[role: \"user\"\n",
       "parts {\n",
       "  text: \"Turn this place into a party!\"\n",
       "}\n",
       ", role: \"model\"\n",
       "parts {\n",
       "  function_call {\n",
       "    name: \"power_disco_ball\"\n",
       "    args {\n",
       "      fields {\n",
       "        key: \"power\"\n",
       "        value {\n",
       "          bool_value: true\n",
       "        }\n",
       "      }\n",
       "    }\n",
       "  }\n",
       "}\n",
       "parts {\n",
       "  function_call {\n",
       "    name: \"start_music\"\n",
       "    args {\n",
       "      fields {\n",
       "        key: \"loud\"\n",
       "        value {\n",
       "          bool_value: true\n",
       "        }\n",
       "      }\n",
       "      fields {\n",
       "        key: \"energetic\"\n",
       "        value {\n",
       "          bool_value: true\n",
       "        }\n",
       "      }\n",
       "      fields {\n",
       "        key: \"bpm\"\n",
       "        value {\n",
       "          string_value: \"180\"\n",
       "        }\n",
       "      }\n",
       "    }\n",
       "  }\n",
       "}\n",
       "parts {\n",
       "  function_call {\n",
       "    name: \"dim_lights\"\n",
       "    args {\n",
       "      fields {\n",
       "        key: \"brightness\"\n",
       "        value {\n",
       "          number_value: 0.2\n",
       "        }\n",
       "      }\n",
       "    }\n",
       "  }\n",
       "}\n",
       ", role: \"user\"\n",
       "parts {\n",
       "  function_response {\n",
       "    name: \"power_disco_ball\"\n",
       "    response {\n",
       "      fields {\n",
       "        key: \"content\"\n",
       "        value {\n",
       "          string_value: \"Disco ball is spinning!\"\n",
       "        }\n",
       "      }\n",
       "    }\n",
       "  }\n",
       "}\n",
       "parts {\n",
       "  function_response {\n",
       "    name: \"start_music\"\n",
       "    response {\n",
       "      fields {\n",
       "        key: \"content\"\n",
       "        value {\n",
       "          string_value: \"Starting music! energetic=True loud=True, bpm=\\'180\\'\"\n",
       "        }\n",
       "      }\n",
       "    }\n",
       "  }\n",
       "}\n",
       "parts {\n",
       "  function_response {\n",
       "    name: \"dim_lights\"\n",
       "    response {\n",
       "      fields {\n",
       "        key: \"content\"\n",
       "        value {\n",
       "          string_value: \"Lights are now set to 0.2\"\n",
       "        }\n",
       "      }\n",
       "    }\n",
       "  }\n",
       "}\n",
       "])"
      ]
     },
     "execution_count": 23,
     "metadata": {},
     "output_type": "execute_result"
    }
   ],
   "source": [
    "response"
   ]
  },
  {
   "cell_type": "markdown",
   "metadata": {},
   "source": [
    "multiple generation"
   ]
  },
  {
   "cell_type": "code",
   "execution_count": 24,
   "metadata": {},
   "outputs": [
    {
     "data": {
      "text/plain": [
       "{'role': 'assistant',\n",
       " 'content': [{'text': \"The disco ball is spinning, the music is pumping, and the lights are dimmed for a perfect party atmosphere!  \\n\\nLet's get this party started! \\n\\nWhat else can I do to make this the best party ever?  Do you want me to:\\n\\n* **Suggest some party games?**\\n* **Find some fun party recipes?**\\n* **Create a playlist?**\\n* **Decorate the space?** \\n* **Anything else!**\\n\\nJust let me know! 🎉 \\n\"},\n",
       "  {'text': \"The disco ball is spinning, the music is pumping, and the lights are dimmed for a perfect party atmosphere! Let's get this party started! 🎉 \\n\"}],\n",
       " 'name': None}"
      ]
     },
     "execution_count": 24,
     "metadata": {},
     "output_type": "execute_result"
    }
   ],
   "source": [
    "response = gemini_vertexai.run(\"Turn this place into a party!\", n_results=2)\n",
    "response.message.model_dump()"
   ]
  },
  {
   "cell_type": "markdown",
   "metadata": {},
   "source": [
    "### Anthropic Claude"
   ]
  },
  {
   "cell_type": "code",
   "execution_count": 25,
   "metadata": {},
   "outputs": [],
   "source": [
    "from langrila.claude import ToolConfig, ToolParameter, ToolProperty\n",
    "\n",
    "# NOTE : following tool_configs is the same as that of OpenAI\n",
    "claude_tool_configs = [\n",
    "    ToolConfig(\n",
    "        name=\"power_disco_ball\",\n",
    "        description=\"Powers the spinning disco ball.\",\n",
    "        parameters=ToolParameter(\n",
    "            properties=[\n",
    "                ToolProperty(\n",
    "                    name=\"power\",\n",
    "                    type=\"boolean\",\n",
    "                    description=\"Boolean to spin disco ball.\",\n",
    "                ),\n",
    "            ],\n",
    "            required=[\"power\"],\n",
    "        ),\n",
    "    ),\n",
    "    ToolConfig(\n",
    "        name=\"start_music\",\n",
    "        description=\"Play some music matching the specified parameters.\",\n",
    "        parameters=ToolParameter(\n",
    "            properties=[\n",
    "                ToolProperty(\n",
    "                    name=\"energetic\",\n",
    "                    type=\"boolean\",\n",
    "                    description=\"Whether the music is energetic or not.\",\n",
    "                ),\n",
    "                ToolProperty(\n",
    "                    name=\"loud\", type=\"boolean\", description=\"Whether the music is loud or not.\"\n",
    "                ),\n",
    "                ToolProperty(\n",
    "                    name=\"bpm\",\n",
    "                    type=\"number\",\n",
    "                    description=\"The beats per minute of the music.\",\n",
    "                    enum=[60, 180],\n",
    "                ),\n",
    "            ],\n",
    "            required=[\"energetic\", \"loud\", \"bpm\"],\n",
    "        ),\n",
    "    ),\n",
    "    ToolConfig(\n",
    "        name=\"dim_lights\",\n",
    "        description=\"Dim the lights.\",\n",
    "        parameters=ToolParameter(\n",
    "            properties=[\n",
    "                ToolProperty(\n",
    "                    name=\"brightness\",\n",
    "                    type=\"number\",\n",
    "                    description=\"The brightness of the lights, 0.0 is off, 1.0 is full.\",\n",
    "                ),\n",
    "            ],\n",
    "            required=[\"brightness\"],\n",
    "        ),\n",
    "    ),\n",
    "]"
   ]
  },
  {
   "cell_type": "code",
   "execution_count": 26,
   "metadata": {},
   "outputs": [
    {
     "data": {
      "text/plain": [
       "{'name': 'start_music',\n",
       " 'description': 'Play some music matching the specified parameters.',\n",
       " 'input_schema': {'type': 'object',\n",
       "  'properties': {'energetic': {'type': 'boolean',\n",
       "    'description': 'Whether the music is energetic or not.'},\n",
       "   'loud': {'type': 'boolean',\n",
       "    'description': 'Whether the music is loud or not.'},\n",
       "   'bpm': {'type': 'number',\n",
       "    'description': 'The beats per minute of the music.',\n",
       "    'enum': [60, 180]}},\n",
       "  'required': ['energetic', 'loud', 'bpm']}}"
      ]
     },
     "execution_count": 26,
     "metadata": {},
     "output_type": "execute_result"
    }
   ],
   "source": [
    "# You can see the formatted tool config as follows\n",
    "claude_tool_configs[1].format()"
   ]
  },
  {
   "cell_type": "code",
   "execution_count": 27,
   "metadata": {},
   "outputs": [],
   "source": [
    "claude = Claude(\n",
    "    model_name=\"claude-3-5-sonnet-20240620\",\n",
    "    api_key_env_name=\"ANTHROPIC_API_KEY\",\n",
    "    tools=[power_disco_ball, start_music, dim_lights],\n",
    "    tool_configs=claude_tool_configs,\n",
    ")"
   ]
  },
  {
   "cell_type": "code",
   "execution_count": 28,
   "metadata": {},
   "outputs": [
    {
     "data": {
      "text/plain": [
       "{'message': {'role': 'assistant',\n",
       "  'content': [{'text': \"Great! The disco ball is now spinning, adding a fun, party atmosphere to the room.\\n\\n2. Next, let's start some energetic music. For a party, we usually want upbeat, energetic music with a faster tempo. Let's go with the highest available BPM and make it loud:\"}],\n",
       "  'name': None},\n",
       " 'usage': {'model_name': 'claude-3-5-sonnet-20240620',\n",
       "  'prompt_tokens': 721,\n",
       "  'completion_tokens': 156},\n",
       " 'prompt': [{'role': 'user',\n",
       "   'content': [{'text': 'Turn this place into a party!', 'type': 'text'}]},\n",
       "  {'role': 'assistant',\n",
       "   'content': [{'text': \"Certainly! I'd be happy to help turn this place into a party using the available tools. To create a party atmosphere, we'll want to use the disco ball, play some upbeat music, and adjust the lighting. Let's do this step by step:\\n\\n1. First, let's power on the disco ball:\",\n",
       "     'type': 'text'},\n",
       "    {'id': 'toolu_01Dft7Z88T7wcwzZG21JfxKx',\n",
       "     'type': 'tool_use',\n",
       "     'input': {'power': True},\n",
       "     'name': 'power_disco_ball'}]},\n",
       "  {'role': 'user',\n",
       "   'content': [{'tool_use_id': 'toolu_01Dft7Z88T7wcwzZG21JfxKx',\n",
       "     'type': 'tool_result',\n",
       "     'content': 'Disco ball is spinning!'}]}]}"
      ]
     },
     "execution_count": 28,
     "metadata": {},
     "output_type": "execute_result"
    }
   ],
   "source": [
    "prompt = \"Turn this place into a party!\"\n",
    "\n",
    "response = claude.run(prompt=prompt)\n",
    "\n",
    "response.model_dump()"
   ]
  },
  {
   "cell_type": "markdown",
   "metadata": {},
   "source": [
    "Asynchronous generation"
   ]
  },
  {
   "cell_type": "code",
   "execution_count": 29,
   "metadata": {},
   "outputs": [
    {
     "data": {
      "text/plain": [
       "{'message': {'role': 'assistant',\n",
       "  'content': [{'text': \"Great! I've set up the perfect party atmosphere for you. Here's what I've done:\\n\\n1. Powered on the disco ball: The spinning disco ball will create a fun, dynamic lighting effect that's perfect for a party.\\n\\n2. Started some energetic music: I've chosen high-energy, loud music with a fast tempo (180 BPM) to get everyone in the party mood and encourage dancing.\\n\\n3. Adjusted the lighting: I've dimmed the lights to 60% brightness (0.6). This creates a nice balance – it's dark enough to create a party atmosphere but still bright enough for people to see and move around safely.\\n\\nThese elements combined should create an exciting party environment. The spinning disco ball will reflect light around the room, the energetic music will get people moving, and the dimmed lights will set the right mood.\\n\\nIs there anything else you'd like me to adjust to make the party even better? I can change the music style, adjust the lighting, or make any other modifications you'd like.\"}],\n",
       "  'name': None},\n",
       " 'usage': {'model_name': 'claude-3-5-sonnet-20240620',\n",
       "  'prompt_tokens': 925,\n",
       "  'completion_tokens': 225},\n",
       " 'prompt': [{'role': 'user',\n",
       "   'content': [{'text': 'Turn this place into a party!', 'type': 'text'}]},\n",
       "  {'role': 'assistant',\n",
       "   'content': [{'text': \"Certainly! I'd be happy to help turn this place into a party using the available tools. To create a party atmosphere, we'll need to adjust the lighting, start some music, and add some fun elements. Let's use the tools we have to set up the party environment.\",\n",
       "     'type': 'text'},\n",
       "    {'id': 'toolu_01DrCyGB1qixorbHZDF4bVfo',\n",
       "     'type': 'tool_use',\n",
       "     'input': {'power': True},\n",
       "     'name': 'power_disco_ball'},\n",
       "    {'id': 'toolu_01HYDuZSF3Dc2wJZR3nsB9vX',\n",
       "     'type': 'tool_use',\n",
       "     'input': {'energetic': True, 'loud': True, 'bpm': 180},\n",
       "     'name': 'start_music'},\n",
       "    {'id': 'toolu_01LbaPoSeKvPJJFaEFzAbs8H',\n",
       "     'type': 'tool_use',\n",
       "     'input': {'brightness': 0.6},\n",
       "     'name': 'dim_lights'}]},\n",
       "  {'role': 'user',\n",
       "   'content': [{'tool_use_id': 'toolu_01DrCyGB1qixorbHZDF4bVfo',\n",
       "     'type': 'tool_result',\n",
       "     'content': 'Disco ball is spinning!'},\n",
       "    {'tool_use_id': 'toolu_01HYDuZSF3Dc2wJZR3nsB9vX',\n",
       "     'type': 'tool_result',\n",
       "     'content': 'Starting music! energetic=True loud=True, bpm=180'},\n",
       "    {'tool_use_id': 'toolu_01LbaPoSeKvPJJFaEFzAbs8H',\n",
       "     'type': 'tool_result',\n",
       "     'content': 'Lights are now set to 0.6'}]}]}"
      ]
     },
     "execution_count": 29,
     "metadata": {},
     "output_type": "execute_result"
    }
   ],
   "source": [
    "response = await claude.arun(prompt=prompt)\n",
    "\n",
    "response.model_dump()"
   ]
  },
  {
   "cell_type": "markdown",
   "metadata": {},
   "source": [
    "### Claude on Amazon Bedrock"
   ]
  },
  {
   "cell_type": "code",
   "execution_count": 31,
   "metadata": {},
   "outputs": [],
   "source": [
    "claude_bedrock = Claude(\n",
    "    model_name=\"anthropic.claude-3-sonnet-20240229-v1:0\",\n",
    "    api_type=\"bedrock\",\n",
    "    aws_access_key_env_name=\"AWS_ACCESS_KEY\",\n",
    "    aws_secret_key_env_name=\"AWS_SECRET_KEY\",\n",
    "    aws_region_env_name=\"AWS_REGION\",\n",
    "    tools=[power_disco_ball, start_music, dim_lights],\n",
    "    tool_configs=claude_tool_configs,\n",
    ")"
   ]
  },
  {
   "cell_type": "code",
   "execution_count": 32,
   "metadata": {},
   "outputs": [
    {
     "data": {
      "text/plain": [
       "{'message': {'role': 'assistant',\n",
       "  'content': [{'text': \"Great! I've set up the perfect party atmosphere for you. Here's what I've done:\\n\\n1. Disco Ball: I've turned on the spinning disco ball to create a fun, party-like atmosphere with moving lights.\\n\\n2. Music: I've started playing energetic and loud music with a fast tempo of 180 beats per minute. This should get everyone in the mood to dance and have a good time.\\n\\n3. Lighting: I've dimmed the lights to 60% brightness (0.6). This creates a nice balance between having enough light to see and dance, while also setting a party mood.\\n\\nThese elements combined should create an exciting party environment. The spinning disco ball will reflect light around the room, the energetic music will encourage dancing, and the dimmed lights will set the right ambiance.\\n\\nIs there anything else you'd like me to adjust to make the party even better? I can change the music, adjust the lighting, or turn off the disco ball if needed. Just let me know!\"}],\n",
       "  'name': None},\n",
       " 'usage': {'model_name': 'claude-3-5-sonnet-20240620',\n",
       "  'prompt_tokens': 920,\n",
       "  'completion_tokens': 220},\n",
       " 'prompt': [{'role': 'user',\n",
       "   'content': [{'text': 'Turn this place into a party!', 'type': 'text'}]},\n",
       "  {'role': 'assistant',\n",
       "   'content': [{'text': \"Certainly! I'd be happy to help turn this place into a party using the available tools. To create a party atmosphere, we'll need to use a combination of lighting, music, and special effects. Let's set up the party environment step by step.\",\n",
       "     'type': 'text'},\n",
       "    {'id': 'toolu_01VbUkSd3PJicWNqu3Ai6yFV',\n",
       "     'type': 'tool_use',\n",
       "     'input': {'power': True},\n",
       "     'name': 'power_disco_ball'},\n",
       "    {'id': 'toolu_01WMZLPFjtZ6wtUP2HDu9oYT',\n",
       "     'type': 'tool_use',\n",
       "     'input': {'energetic': True, 'loud': True, 'bpm': 180},\n",
       "     'name': 'start_music'},\n",
       "    {'id': 'toolu_01UdfUFZXMJh2Pg6LfaViox6',\n",
       "     'type': 'tool_use',\n",
       "     'input': {'brightness': 0.6},\n",
       "     'name': 'dim_lights'}]},\n",
       "  {'role': 'user',\n",
       "   'content': [{'tool_use_id': 'toolu_01VbUkSd3PJicWNqu3Ai6yFV',\n",
       "     'type': 'tool_result',\n",
       "     'content': 'Disco ball is spinning!'},\n",
       "    {'tool_use_id': 'toolu_01WMZLPFjtZ6wtUP2HDu9oYT',\n",
       "     'type': 'tool_result',\n",
       "     'content': 'Starting music! energetic=True loud=True, bpm=180'},\n",
       "    {'tool_use_id': 'toolu_01UdfUFZXMJh2Pg6LfaViox6',\n",
       "     'type': 'tool_result',\n",
       "     'content': 'Lights are now set to 0.6'}]}]}"
      ]
     },
     "execution_count": 32,
     "metadata": {},
     "output_type": "execute_result"
    }
   ],
   "source": [
    "prompt = \"Turn this place into a party!\"\n",
    "\n",
    "response = claude.run(prompt=prompt)\n",
    "\n",
    "response.model_dump()"
   ]
  },
  {
   "cell_type": "markdown",
   "metadata": {},
   "source": [
    "# Multi-turn conversation with tools"
   ]
  },
  {
   "cell_type": "code",
   "execution_count": 27,
   "metadata": {},
   "outputs": [],
   "source": [
    "from langrila import InMemoryConversationMemory, JSONConversationMemory\n",
    "\n",
    "chatgpt = ChatGPT(\n",
    "    api_key_env_name=\"API_KEY\",\n",
    "    model_name=\"gpt-4o-mini-2024-07-18\",\n",
    "    tools=[power_disco_ball, start_music, dim_lights],\n",
    "    tool_configs=chatgpt_tool_configs,\n",
    "    conversation_memory=InMemoryConversationMemory(),\n",
    "    # conversation_memory=JSONConversationMemory(\"./test.json\"), # for serialization\n",
    ")"
   ]
  },
  {
   "cell_type": "code",
   "execution_count": 28,
   "metadata": {},
   "outputs": [
    {
     "data": {
      "text/plain": [
       "{'message': {'role': 'assistant',\n",
       "  'content': [{'text': 'The party mood is on! 🎉 The disco ball is spinning, energetic music is pumping at 180 BPM, and the lights are dimmed to create the perfect atmosphere. Let the fun begin!'}],\n",
       "  'name': None},\n",
       " 'usage': {'model_name': 'gpt-4o-mini-2024-07-18',\n",
       "  'prompt_tokens': 131,\n",
       "  'completion_tokens': 40},\n",
       " 'prompt': [{'role': 'user',\n",
       "   'content': [{'type': 'text', 'text': 'Turn this place into a party mood!'}],\n",
       "   'name': None},\n",
       "  {'content': None,\n",
       "   'role': 'assistant',\n",
       "   'function_call': None,\n",
       "   'tool_calls': [{'id': 'call_gpooMTVmudPH3Mrf6aeyYRwn',\n",
       "     'function': {'arguments': '{\"power\": true}', 'name': 'power_disco_ball'},\n",
       "     'type': 'function'},\n",
       "    {'id': 'call_MQeblbc6JcGOADAlbZBkaGBm',\n",
       "     'function': {'arguments': '{\"energetic\": true, \"loud\": true, \"bpm\": 180}',\n",
       "      'name': 'start_music'},\n",
       "     'type': 'function'},\n",
       "    {'id': 'call_uUx9qDYqk9B2ytpl2pF7dA3A',\n",
       "     'function': {'arguments': '{\"brightness\": 0.5}', 'name': 'dim_lights'},\n",
       "     'type': 'function'}]},\n",
       "  {'role': 'tool',\n",
       "   'tool_call_id': 'call_gpooMTVmudPH3Mrf6aeyYRwn',\n",
       "   'name': 'power_disco_ball',\n",
       "   'content': 'Disco ball is spinning!'},\n",
       "  {'role': 'tool',\n",
       "   'tool_call_id': 'call_MQeblbc6JcGOADAlbZBkaGBm',\n",
       "   'name': 'start_music',\n",
       "   'content': 'Starting music! energetic=True loud=True, bpm=180'},\n",
       "  {'role': 'tool',\n",
       "   'tool_call_id': 'call_uUx9qDYqk9B2ytpl2pF7dA3A',\n",
       "   'name': 'dim_lights',\n",
       "   'content': 'Lights are now set to 0.5'}]}"
      ]
     },
     "execution_count": 28,
     "metadata": {},
     "output_type": "execute_result"
    }
   ],
   "source": [
    "prompt = \"Turn this place into a party mood!\"\n",
    "\n",
    "response = chatgpt.run(prompt)\n",
    "\n",
    "# Show result\n",
    "response.model_dump()"
   ]
  },
  {
   "cell_type": "markdown",
   "metadata": {},
   "source": [
    "Next turn"
   ]
  },
  {
   "cell_type": "code",
   "execution_count": 29,
   "metadata": {},
   "outputs": [
    {
     "data": {
      "text/plain": [
       "{'message': {'role': 'assistant',\n",
       "  'content': [{'text': 'The BPM has just been cranked up to 240! ⚡ Get ready to dance and feel the energy surge through the room! Let’s keep the party going! 🎶💃🕺'}],\n",
       "  'name': None},\n",
       " 'usage': {'model_name': 'gpt-4o-mini-2024-07-18',\n",
       "  'prompt_tokens': 231,\n",
       "  'completion_tokens': 41},\n",
       " 'prompt': [{'role': 'user',\n",
       "   'content': [{'type': 'text', 'text': 'Turn this place into a party mood!'}],\n",
       "   'name': None},\n",
       "  {'content': None,\n",
       "   'role': 'assistant',\n",
       "   'function_call': None,\n",
       "   'tool_calls': [{'id': 'call_gpooMTVmudPH3Mrf6aeyYRwn',\n",
       "     'function': {'arguments': '{\"power\": true}', 'name': 'power_disco_ball'},\n",
       "     'type': 'function'},\n",
       "    {'id': 'call_MQeblbc6JcGOADAlbZBkaGBm',\n",
       "     'function': {'arguments': '{\"energetic\": true, \"loud\": true, \"bpm\": 180}',\n",
       "      'name': 'start_music'},\n",
       "     'type': 'function'},\n",
       "    {'id': 'call_uUx9qDYqk9B2ytpl2pF7dA3A',\n",
       "     'function': {'arguments': '{\"brightness\": 0.5}', 'name': 'dim_lights'},\n",
       "     'type': 'function'}]},\n",
       "  {'role': 'tool',\n",
       "   'tool_call_id': 'call_gpooMTVmudPH3Mrf6aeyYRwn',\n",
       "   'name': 'power_disco_ball',\n",
       "   'content': 'Disco ball is spinning!'},\n",
       "  {'role': 'tool',\n",
       "   'tool_call_id': 'call_MQeblbc6JcGOADAlbZBkaGBm',\n",
       "   'name': 'start_music',\n",
       "   'content': 'Starting music! energetic=True loud=True, bpm=180'},\n",
       "  {'role': 'tool',\n",
       "   'tool_call_id': 'call_uUx9qDYqk9B2ytpl2pF7dA3A',\n",
       "   'name': 'dim_lights',\n",
       "   'content': 'Lights are now set to 0.5'},\n",
       "  {'role': 'assistant',\n",
       "   'content': [{'type': 'text',\n",
       "     'text': 'The party mood is on! 🎉 The disco ball is spinning, energetic music is pumping at 180 BPM, and the lights are dimmed to create the perfect atmosphere. Let the fun begin!'}],\n",
       "   'name': None},\n",
       "  {'role': 'user',\n",
       "   'content': [{'type': 'text', 'text': 'Can you make bpm up more?'}],\n",
       "   'name': None},\n",
       "  {'content': None,\n",
       "   'role': 'assistant',\n",
       "   'function_call': None,\n",
       "   'tool_calls': [{'id': 'call_dVETyIeclfMqPHh70dyoF0Ej',\n",
       "     'function': {'arguments': '{\"energetic\":true,\"loud\":true,\"bpm\":240}',\n",
       "      'name': 'start_music'},\n",
       "     'type': 'function'}]},\n",
       "  {'role': 'tool',\n",
       "   'tool_call_id': 'call_dVETyIeclfMqPHh70dyoF0Ej',\n",
       "   'name': 'start_music',\n",
       "   'content': 'Starting music! energetic=True loud=True, bpm=240'}]}"
      ]
     },
     "execution_count": 29,
     "metadata": {},
     "output_type": "execute_result"
    }
   ],
   "source": [
    "prompt = \"Can you make bpm up more?\"\n",
    "\n",
    "response = chatgpt.run(prompt=prompt)\n",
    "\n",
    "response.model_dump()"
   ]
  },
  {
   "cell_type": "markdown",
   "metadata": {},
   "source": [
    "## Multi-turn conversation using tools with multiple model"
   ]
  },
  {
   "cell_type": "code",
   "execution_count": 30,
   "metadata": {},
   "outputs": [],
   "source": [
    "from langrila import InMemoryConversationMemory\n",
    "\n",
    "shared_memory = InMemoryConversationMemory()\n",
    "\n",
    "chatgpt = ChatGPT(\n",
    "    api_key_env_name=\"API_KEY\",\n",
    "    model_name=\"gpt-4o-mini-2024-07-18\",\n",
    "    tools=[power_disco_ball, start_music, dim_lights],\n",
    "    tool_configs=chatgpt_tool_configs,\n",
    "    conversation_memory=shared_memory,\n",
    ")\n",
    "\n",
    "gemini = Gemini(\n",
    "    api_key_env_name=\"GEMINI_API_KEY\",\n",
    "    model_name=\"gemini-1.5-pro\",\n",
    "    tools=[power_disco_ball, start_music, dim_lights],\n",
    "    tool_configs=gemini_tool_configs,\n",
    "    conversation_memory=shared_memory,\n",
    ")"
   ]
  },
  {
   "cell_type": "code",
   "execution_count": 31,
   "metadata": {},
   "outputs": [],
   "source": [
    "prompt = \"Turn this place into a party mood!\"\n",
    "\n",
    "response = chatgpt.run(prompt)"
   ]
  },
  {
   "cell_type": "code",
   "execution_count": 32,
   "metadata": {},
   "outputs": [
    {
     "data": {
      "text/plain": [
       "{'message': {'role': 'assistant',\n",
       "  'content': [{'text': 'The party mood is set! The disco ball is spinning, energetic music is blasting at 180 BPM, and the lights are dimmed just right. Let the fun begin! 🎉💃🕺'}],\n",
       "  'name': None},\n",
       " 'usage': {'model_name': 'gpt-4o-mini-2024-07-18',\n",
       "  'prompt_tokens': 131,\n",
       "  'completion_tokens': 42},\n",
       " 'prompt': [{'role': 'user',\n",
       "   'content': [{'type': 'text', 'text': 'Turn this place into a party mood!'}],\n",
       "   'name': None},\n",
       "  {'content': None,\n",
       "   'role': 'assistant',\n",
       "   'function_call': None,\n",
       "   'tool_calls': [{'id': 'call_ex3oj8l4LkroCeQR0hxF98xO',\n",
       "     'function': {'arguments': '{\"power\": true}', 'name': 'power_disco_ball'},\n",
       "     'type': 'function'},\n",
       "    {'id': 'call_uF1CH7D3aLK6T5obIrBPczzs',\n",
       "     'function': {'arguments': '{\"energetic\": true, \"loud\": true, \"bpm\": 180}',\n",
       "      'name': 'start_music'},\n",
       "     'type': 'function'},\n",
       "    {'id': 'call_0wlX1PTPkh0ACIZn8PeUszVR',\n",
       "     'function': {'arguments': '{\"brightness\": 0.5}', 'name': 'dim_lights'},\n",
       "     'type': 'function'}]},\n",
       "  {'role': 'tool',\n",
       "   'tool_call_id': 'call_ex3oj8l4LkroCeQR0hxF98xO',\n",
       "   'name': 'power_disco_ball',\n",
       "   'content': 'Disco ball is spinning!'},\n",
       "  {'role': 'tool',\n",
       "   'tool_call_id': 'call_uF1CH7D3aLK6T5obIrBPczzs',\n",
       "   'name': 'start_music',\n",
       "   'content': 'Starting music! energetic=True loud=True, bpm=180'},\n",
       "  {'role': 'tool',\n",
       "   'tool_call_id': 'call_0wlX1PTPkh0ACIZn8PeUszVR',\n",
       "   'name': 'dim_lights',\n",
       "   'content': 'Lights are now set to 0.5'}]}"
      ]
     },
     "execution_count": 32,
     "metadata": {},
     "output_type": "execute_result"
    }
   ],
   "source": [
    "response.model_dump()"
   ]
  },
  {
   "cell_type": "markdown",
   "metadata": {},
   "source": [
    "Gemini can continue conversation without any additional process."
   ]
  },
  {
   "cell_type": "code",
   "execution_count": 33,
   "metadata": {},
   "outputs": [
    {
     "data": {
      "text/plain": [
       "{'message': {'role': 'assistant',\n",
       "  'content': [{'text': \"Alright, things are about to get even more intense! I've cranked the BPM up to a thumping 240.  Get ready to move! 🌪️🎶\\n\"}],\n",
       "  'name': None},\n",
       " 'usage': {'model_name': 'gemini-1.5-pro',\n",
       "  'prompt_tokens': 250,\n",
       "  'completion_tokens': 38},\n",
       " 'prompt': [parts {\n",
       "    text: \"Turn this place into a party mood!\"\n",
       "  }\n",
       "  role: \"user\",\n",
       "  parts {\n",
       "    function_call {\n",
       "      name: \"power_disco_ball\"\n",
       "      args {\n",
       "        fields {\n",
       "          key: \"power\"\n",
       "          value {\n",
       "            bool_value: true\n",
       "          }\n",
       "        }\n",
       "      }\n",
       "    }\n",
       "  }\n",
       "  parts {\n",
       "    function_call {\n",
       "      name: \"start_music\"\n",
       "      args {\n",
       "        fields {\n",
       "          key: \"loud\"\n",
       "          value {\n",
       "            bool_value: true\n",
       "          }\n",
       "        }\n",
       "        fields {\n",
       "          key: \"energetic\"\n",
       "          value {\n",
       "            bool_value: true\n",
       "          }\n",
       "        }\n",
       "        fields {\n",
       "          key: \"bpm\"\n",
       "          value {\n",
       "            number_value: 180\n",
       "          }\n",
       "        }\n",
       "      }\n",
       "    }\n",
       "  }\n",
       "  parts {\n",
       "    function_call {\n",
       "      name: \"dim_lights\"\n",
       "      args {\n",
       "        fields {\n",
       "          key: \"brightness\"\n",
       "          value {\n",
       "            number_value: 0.5\n",
       "          }\n",
       "        }\n",
       "      }\n",
       "    }\n",
       "  }\n",
       "  role: \"model\",\n",
       "  parts {\n",
       "    function_response {\n",
       "      name: \"power_disco_ball\"\n",
       "      response {\n",
       "        fields {\n",
       "          key: \"content\"\n",
       "          value {\n",
       "            string_value: \"Disco ball is spinning!\"\n",
       "          }\n",
       "        }\n",
       "      }\n",
       "    }\n",
       "  }\n",
       "  role: \"function\",\n",
       "  parts {\n",
       "    function_response {\n",
       "      name: \"start_music\"\n",
       "      response {\n",
       "        fields {\n",
       "          key: \"content\"\n",
       "          value {\n",
       "            string_value: \"Starting music! energetic=True loud=True, bpm=180\"\n",
       "          }\n",
       "        }\n",
       "      }\n",
       "    }\n",
       "  }\n",
       "  role: \"function\",\n",
       "  parts {\n",
       "    function_response {\n",
       "      name: \"dim_lights\"\n",
       "      response {\n",
       "        fields {\n",
       "          key: \"content\"\n",
       "          value {\n",
       "            string_value: \"Lights are now set to 0.5\"\n",
       "          }\n",
       "        }\n",
       "      }\n",
       "    }\n",
       "  }\n",
       "  role: \"function\",\n",
       "  parts {\n",
       "    text: \"The party mood is set! The disco ball is spinning, energetic music is blasting at 180 BPM, and the lights are dimmed just right. Let the fun begin! 🎉💃🕺\"\n",
       "  }\n",
       "  role: \"model\",\n",
       "  parts {\n",
       "    text: \"Can you make bpm up more?\"\n",
       "  }\n",
       "  role: \"user\",\n",
       "  parts {\n",
       "    function_call {\n",
       "      name: \"start_music\"\n",
       "      args {\n",
       "        fields {\n",
       "          key: \"loud\"\n",
       "          value {\n",
       "            bool_value: true\n",
       "          }\n",
       "        }\n",
       "        fields {\n",
       "          key: \"energetic\"\n",
       "          value {\n",
       "            bool_value: true\n",
       "          }\n",
       "        }\n",
       "        fields {\n",
       "          key: \"bpm\"\n",
       "          value {\n",
       "            string_value: \"240\"\n",
       "          }\n",
       "        }\n",
       "      }\n",
       "    }\n",
       "  }\n",
       "  role: \"model\",\n",
       "  parts {\n",
       "    function_response {\n",
       "      name: \"start_music\"\n",
       "      response {\n",
       "        fields {\n",
       "          key: \"content\"\n",
       "          value {\n",
       "            string_value: \"Starting music! energetic=True loud=True, bpm=\\'240\\'\"\n",
       "          }\n",
       "        }\n",
       "      }\n",
       "    }\n",
       "  }\n",
       "  role: \"user\"]}"
      ]
     },
     "execution_count": 33,
     "metadata": {},
     "output_type": "execute_result"
    }
   ],
   "source": [
    "prompt = \"Can you make bpm up more?\"\n",
    "\n",
    "response = gemini.run(prompt=prompt)\n",
    "\n",
    "response.model_dump()"
   ]
  },
  {
   "cell_type": "markdown",
   "metadata": {},
   "source": [
    "Gemini also works as well."
   ]
  },
  {
   "cell_type": "markdown",
   "metadata": {},
   "source": [
    "NOTE : Claude may not work in multi-turn conversation using tools. Bug fix is in progress."
   ]
  },
  {
   "cell_type": "markdown",
   "metadata": {},
   "source": [
    "# Multi-turn conversation with tools and context truncation"
   ]
  },
  {
   "cell_type": "markdown",
   "metadata": {},
   "source": [
    "Although context truncation doesn't work accurately if we use tools, but truncation is useful for token management to some extent."
   ]
  },
  {
   "cell_type": "code",
   "execution_count": 34,
   "metadata": {},
   "outputs": [],
   "source": [
    "from langrila import InMemoryConversationMemory\n",
    "\n",
    "chatgpt = ChatGPT(\n",
    "    api_key_env_name=\"API_KEY\",\n",
    "    model_name=\"gpt-4o-mini-2024-07-18\",\n",
    "    tools=[power_disco_ball, start_music, dim_lights],\n",
    "    tool_configs=chatgpt_tool_configs,\n",
    "    conversation_memory=InMemoryConversationMemory(),\n",
    "    context_length=50,\n",
    ")"
   ]
  },
  {
   "cell_type": "code",
   "execution_count": 35,
   "metadata": {},
   "outputs": [],
   "source": [
    "prompt = \"Turn this place into a party mood!\"\n",
    "\n",
    "response = chatgpt.run(prompt, tool_choice=\"auto\")"
   ]
  },
  {
   "cell_type": "code",
   "execution_count": 36,
   "metadata": {},
   "outputs": [
    {
     "name": "stdout",
     "output_type": "stream",
     "text": [
      "Input message is truncated because total length of messages exceeds context length.\n",
      "Input message is truncated because total length of messages exceeds context length.\n"
     ]
    }
   ],
   "source": [
    "prompt = \"Can you make bpm up more?\"\n",
    "\n",
    "response = chatgpt.run(prompt=prompt, tool_choice=\"auto\")"
   ]
  },
  {
   "cell_type": "markdown",
   "metadata": {},
   "source": [
    "User message and assistant message are target of truncation while tool call message and tool result message is not."
   ]
  },
  {
   "cell_type": "code",
   "execution_count": 37,
   "metadata": {},
   "outputs": [
    {
     "name": "stdout",
     "output_type": "stream",
     "text": [
      "The BPM is now cranked up to 240! Let’s keep the energy high and the dance floor rocking! 🎶🔥💃\n"
     ]
    }
   ],
   "source": [
    "print(response.message.content[0].text)"
   ]
  },
  {
   "cell_type": "code",
   "execution_count": 38,
   "metadata": {},
   "outputs": [
    {
     "data": {
      "text/plain": [
       "Usage(prompt_tokens=208, completion_tokens=28, total_tokens=236)"
      ]
     },
     "execution_count": 38,
     "metadata": {},
     "output_type": "execute_result"
    }
   ],
   "source": [
    "response.usage"
   ]
  },
  {
   "cell_type": "code",
   "execution_count": 39,
   "metadata": {},
   "outputs": [
    {
     "data": {
      "text/plain": [
       "[{'content': None,\n",
       "  'role': 'assistant',\n",
       "  'function_call': None,\n",
       "  'tool_calls': [{'id': 'call_TcDwO1BDhSOVdkFBoEyfwnDT',\n",
       "    'function': {'arguments': '{\"power\": true}', 'name': 'power_disco_ball'},\n",
       "    'type': 'function'},\n",
       "   {'id': 'call_jTQDuenDH5XUsblX2VASWWQK',\n",
       "    'function': {'arguments': '{\"energetic\": true, \"loud\": true, \"bpm\": 180}',\n",
       "     'name': 'start_music'},\n",
       "    'type': 'function'},\n",
       "   {'id': 'call_ZU9T9HbEev1gfcduKAJKRIA3',\n",
       "    'function': {'arguments': '{\"brightness\": 0.5}', 'name': 'dim_lights'},\n",
       "    'type': 'function'}]},\n",
       " {'role': 'tool',\n",
       "  'tool_call_id': 'call_TcDwO1BDhSOVdkFBoEyfwnDT',\n",
       "  'name': 'power_disco_ball',\n",
       "  'content': 'Disco ball is spinning!'},\n",
       " {'role': 'tool',\n",
       "  'tool_call_id': 'call_jTQDuenDH5XUsblX2VASWWQK',\n",
       "  'name': 'start_music',\n",
       "  'content': 'Starting music! energetic=True loud=True, bpm=180'},\n",
       " {'role': 'tool',\n",
       "  'tool_call_id': 'call_ZU9T9HbEev1gfcduKAJKRIA3',\n",
       "  'name': 'dim_lights',\n",
       "  'content': 'Lights are now set to 0.5'},\n",
       " {'role': 'assistant',\n",
       "  'name': None,\n",
       "  'content': [{'type': 'text',\n",
       "    'text': '180 BPM, and the lights are dimmed just right to set the vibe. Let’s get this party started! 💃🕺✨'}]},\n",
       " {'role': 'user',\n",
       "  'content': [{'type': 'text', 'text': 'Can you make bpm up more?'}],\n",
       "  'name': None},\n",
       " {'content': None,\n",
       "  'role': 'assistant',\n",
       "  'function_call': None,\n",
       "  'tool_calls': [{'id': 'call_v9iQ4JtgEOTmW6kM1wAo831i',\n",
       "    'function': {'arguments': '{\"energetic\":true,\"loud\":true,\"bpm\":240}',\n",
       "     'name': 'start_music'},\n",
       "    'type': 'function'}]},\n",
       " {'role': 'tool',\n",
       "  'tool_call_id': 'call_v9iQ4JtgEOTmW6kM1wAo831i',\n",
       "  'name': 'start_music',\n",
       "  'content': 'Starting music! energetic=True loud=True, bpm=240'}]"
      ]
     },
     "execution_count": 39,
     "metadata": {},
     "output_type": "execute_result"
    }
   ],
   "source": [
    "response.prompt"
   ]
  },
  {
   "cell_type": "code",
   "execution_count": 40,
   "metadata": {},
   "outputs": [
    {
     "data": {
      "text/plain": [
       "[{'role': 'user',\n",
       "  'content': [{'text': 'Turn this place into a party mood!'}],\n",
       "  'name': None},\n",
       " {'role': 'function_call',\n",
       "  'content': [{'name': 'power_disco_ball',\n",
       "    'args': '{\"power\": true}',\n",
       "    'call_id': 'call_TcDwO1BDhSOVdkFBoEyfwnDT'},\n",
       "   {'name': 'start_music',\n",
       "    'args': '{\"energetic\": true, \"loud\": true, \"bpm\": 180}',\n",
       "    'call_id': 'call_jTQDuenDH5XUsblX2VASWWQK'},\n",
       "   {'name': 'dim_lights',\n",
       "    'args': '{\"brightness\": 0.5}',\n",
       "    'call_id': 'call_ZU9T9HbEev1gfcduKAJKRIA3'}],\n",
       "  'name': None},\n",
       " {'role': 'function',\n",
       "  'content': [{'output': 'Disco ball is spinning!',\n",
       "    'call_id': 'call_TcDwO1BDhSOVdkFBoEyfwnDT',\n",
       "    'args': '{\"power\": true}',\n",
       "    'funcname': 'power_disco_ball'}],\n",
       "  'name': None},\n",
       " {'role': 'function',\n",
       "  'content': [{'output': 'Starting music! energetic=True loud=True, bpm=180',\n",
       "    'call_id': 'call_jTQDuenDH5XUsblX2VASWWQK',\n",
       "    'args': '{\"energetic\": true, \"loud\": true, \"bpm\": 180}',\n",
       "    'funcname': 'start_music'}],\n",
       "  'name': None},\n",
       " {'role': 'function',\n",
       "  'content': [{'output': 'Lights are now set to 0.5',\n",
       "    'call_id': 'call_ZU9T9HbEev1gfcduKAJKRIA3',\n",
       "    'args': '{\"brightness\": 0.5}',\n",
       "    'funcname': 'dim_lights'}],\n",
       "  'name': None},\n",
       " {'role': 'assistant',\n",
       "  'content': [{'text': 'The party mood is in full swing! 🎉 The disco ball is spinning, energetic music is pumping at 180 BPM, and the lights are dimmed just right to set the vibe. Let’s get this party started! 💃🕺✨'}],\n",
       "  'name': None},\n",
       " {'role': 'user',\n",
       "  'content': [{'text': 'Can you make bpm up more?'}],\n",
       "  'name': None},\n",
       " {'role': 'function_call',\n",
       "  'content': [{'name': 'start_music',\n",
       "    'args': '{\"energetic\":true,\"loud\":true,\"bpm\":240}',\n",
       "    'call_id': 'call_v9iQ4JtgEOTmW6kM1wAo831i'}],\n",
       "  'name': None},\n",
       " {'role': 'function',\n",
       "  'content': [{'output': 'Starting music! energetic=True loud=True, bpm=240',\n",
       "    'call_id': 'call_v9iQ4JtgEOTmW6kM1wAo831i',\n",
       "    'args': '{\"energetic\":true,\"loud\":true,\"bpm\":240}',\n",
       "    'funcname': 'start_music'}],\n",
       "  'name': None},\n",
       " {'role': 'assistant',\n",
       "  'content': [{'text': 'The BPM is now cranked up to 240! Let’s keep the energy high and the dance floor rocking! 🎶🔥💃'}],\n",
       "  'name': None}]"
      ]
     },
     "execution_count": 40,
     "metadata": {},
     "output_type": "execute_result"
    }
   ],
   "source": [
    "# whole history\n",
    "chatgpt.conversation_memory.load()"
   ]
  },
  {
   "cell_type": "code",
   "execution_count": null,
   "metadata": {},
   "outputs": [],
   "source": []
  }
 ],
 "metadata": {
  "kernelspec": {
   "display_name": ".venv",
   "language": "python",
   "name": "python3"
  },
  "language_info": {
   "codemirror_mode": {
    "name": "ipython",
    "version": 3
   },
   "file_extension": ".py",
   "mimetype": "text/x-python",
   "name": "python",
   "nbconvert_exporter": "python",
   "pygments_lexer": "ipython3",
   "version": "3.10.12"
  }
 },
 "nbformat": 4,
 "nbformat_minor": 4
}
